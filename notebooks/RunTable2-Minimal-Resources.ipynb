{
 "cells": [
  {
   "cell_type": "markdown",
   "metadata": {},
   "source": [
    "Run a Subset of the Full Experiments by Uploading Locations to Postgres\n",
    "-------------------------------------------------------------\n",
    "Danger: running this notebook clears the current database.\n",
    "\n",
    "\n",
    "The first step to run the experiments is to upload locations from the data directory to Postgres.\n",
    "Worker nodes will grab one location at a time and run them with Historia."
   ]
  },
  {
   "cell_type": "code",
   "execution_count": 1,
   "metadata": {},
   "outputs": [
    {
     "data": {
      "text/plain": [
       "\u001b[36muserhome\u001b[39m: \u001b[32mString\u001b[39m = \u001b[32m\"/root\"\u001b[39m\n",
       "\u001b[36mjniPath\u001b[39m: \u001b[32mString\u001b[39m = \u001b[32m\"/root/software/z3/build\"\u001b[39m\n",
       "\u001b[36mnewPath\u001b[39m: \u001b[32mArray\u001b[39m[\u001b[32mString\u001b[39m] = \u001b[33mArray\u001b[39m(\n",
       "  \u001b[32m\"/root/software/z3/build\"\u001b[39m,\n",
       "  \u001b[32m\"/usr/lib/\"\u001b[39m,\n",
       "  \u001b[32m\"/usr/java/packages/lib\"\u001b[39m,\n",
       "  \u001b[32m\"/usr/lib64\"\u001b[39m,\n",
       "  \u001b[32m\"/lib64\"\u001b[39m,\n",
       "  \u001b[32m\"/lib\"\u001b[39m,\n",
       "  \u001b[32m\"/usr/lib\"\u001b[39m\n",
       ")\n",
       "\u001b[36mres0_3\u001b[39m: \u001b[32mString\u001b[39m = \u001b[32m\"/usr/lib/:/usr/java/packages/lib:/usr/lib64:/lib64:/lib:/usr/lib\"\u001b[39m\n",
       "\u001b[36msysPathsField\u001b[39m: \u001b[32mjava\u001b[39m.\u001b[32mlang\u001b[39m.\u001b[32mreflect\u001b[39m.\u001b[32mField\u001b[39m = private static java.lang.String[] java.lang.ClassLoader.sys_paths\n",
       "\u001b[36mpath\u001b[39m: \u001b[32mString\u001b[39m = \u001b[32m\"/home/bounder/target/scala-2.13/soot_hopper-assembly-0.1.jar\"\u001b[39m\n",
       "\u001b[32mimport \u001b[39m\u001b[36m$ivy.$                                          \n",
       "\u001b[39m\n",
       "\u001b[32mimport \u001b[39m\u001b[36m$ivy.$                                         \n",
       "\n",
       "\u001b[39m\n",
       "\u001b[32mimport \u001b[39m\u001b[36m$ivy.$                             \n",
       "\n",
       "\u001b[39m\n",
       "\u001b[32mimport \u001b[39m\u001b[36mplotly._, element._, layout._, Plotly._\n",
       "\u001b[39m\n",
       "\u001b[32mimport \u001b[39m\u001b[36mujson.Value\n",
       "\u001b[39m\n",
       "\u001b[32mimport \u001b[39m\u001b[36msys.process._\n",
       "\u001b[39m"
      ]
     },
     "execution_count": 1,
     "metadata": {},
     "output_type": "execute_result"
    }
   ],
   "source": [
    "val userhome = System.getProperty(\"user.home\")\n",
    "val jniPath = s\"${userhome}/software/z3/build\"\n",
    "val newPath = Array(jniPath) ++  System.getProperty(\"java.library.path\").split(\":\")\n",
    "System.setProperty(\"java.library.path\",newPath.distinct.mkString(\":\"))\n",
    "val sysPathsField = classOf[ClassLoader].getDeclaredField(\"sys_paths\");\n",
    "sysPathsField.setAccessible(true);\n",
    "sysPathsField.set(null, null);\n",
    "val path = s\"/home/bounder/target/scala-2.13/soot_hopper-assembly-0.1.jar\"\n",
    "interp.load.cp(os.Path(path))\n",
    "\n",
    "import $ivy.`org.plotly-scala:plotly-almond_2.13:0.8.2`\n",
    "import $ivy.`com.github.pathikrit::better-files:3.9.1`\n",
    "\n",
    "import $ivy.`com.lihaoyi:ujson_2.13:1.3.8`\n",
    "\n",
    "import plotly._, element._, layout._, Plotly._\n",
    "import ujson.Value\n",
    "import sys.process._\n"
   ]
  },
  {
   "cell_type": "code",
   "execution_count": 2,
   "metadata": {},
   "outputs": [
    {
     "name": "stdout",
     "output_type": "stream",
     "text": [
      "java.library.path set to: /root/software/z3/build:/usr/lib/:/usr/java/packages/lib:/usr/lib64:/lib64:/lib:/usr/lib\n"
     ]
    },
    {
     "data": {
      "text/html": [
       "<div class=\"jp-RenderedText\">\n",
       "<pre><code><span style=\"color: rgb(0, 187, 0)\"><span class=\"ansi-green-fg\">import </span></span><span style=\"color: rgb(0, 187, 187)\"><span class=\"ansi-cyan-fg\">better.files._\n",
       "\n",
       "</span></span>\n",
       "<span style=\"color: rgb(0, 187, 0)\"><span class=\"ansi-green-fg\">import </span></span><span style=\"color: rgb(0, 187, 187)\"><span class=\"ansi-cyan-fg\">scala.util.Random\n",
       "</span></span>\n",
       "<span style=\"color: rgb(0, 187, 0)\"><span class=\"ansi-green-fg\">import </span></span><span style=\"color: rgb(0, 187, 187)\"><span class=\"ansi-cyan-fg\">edu.colorado.plv.bounder.{Driver,PickleSpec,Action,RunConfig,ExpTag}\n",
       "</span></span>\n",
       "<span style=\"color: rgb(0, 187, 0)\"><span class=\"ansi-green-fg\">import </span></span><span style=\"color: rgb(0, 187, 187)\"><span class=\"ansi-cyan-fg\">upickle.default.read\n",
       "</span></span>\n",
       "<span style=\"color: rgb(0, 187, 0)\"><span class=\"ansi-green-fg\">import </span></span><span style=\"color: rgb(0, 187, 187)\"><span class=\"ansi-cyan-fg\">upickle.default.write\n",
       "</span></span>\n",
       "<span style=\"color: rgb(0, 187, 0)\"><span class=\"ansi-green-fg\">import </span></span><span style=\"color: rgb(0, 187, 187)\"><span class=\"ansi-cyan-fg\">scala.collection.parallel.CollectionConverters.{ImmutableSetIsParallelizable, IterableIsParallelizable}\n",
       "</span></span>\n",
       "<span style=\"color: rgb(0, 187, 0)\"><span class=\"ansi-green-fg\">import </span></span><span style=\"color: rgb(0, 187, 187)\"><span class=\"ansi-cyan-fg\">edu.colorado.plv.bounder.{ExperimentsDb,BounderUtil}\n",
       "</span></span>\n",
       "<span style=\"color: rgb(0, 187, 0)\"><span class=\"ansi-green-fg\">import </span></span><span style=\"color: rgb(0, 187, 187)\"><span class=\"ansi-cyan-fg\">scala.concurrent.duration._\n",
       "</span></span>\n",
       "<span style=\"color: rgb(0, 187, 0)\"><span class=\"ansi-green-fg\">import </span></span><span style=\"color: rgb(0, 187, 187)\"><span class=\"ansi-cyan-fg\">scala.language.postfixOps\n",
       "</span></span>\n",
       "<span style=\"color: rgb(0, 187, 0)\"><span class=\"ansi-green-fg\">import </span></span><span style=\"color: rgb(0, 187, 187)\"><span class=\"ansi-cyan-fg\">slick.driver.H2Driver.api._\n",
       "</span></span>\n",
       "<span style=\"color: rgb(0, 187, 0)\"><span class=\"ansi-green-fg\">import </span></span><span style=\"color: rgb(0, 187, 187)\"><span class=\"ansi-cyan-fg\">slick.jdbc.{GetResult,SQLActionBuilder}\n",
       "</span></span>\n",
       "<span style=\"color: rgb(0, 187, 0)\"><span class=\"ansi-green-fg\">import </span></span><span style=\"color: rgb(0, 187, 187)\"><span class=\"ansi-cyan-fg\">scala.concurrent.Await\n",
       "</span></span>\n",
       "<span style=\"color: rgb(0, 187, 0)\"><span class=\"ansi-green-fg\">import </span></span><span style=\"color: rgb(0, 187, 187)\"><span class=\"ansi-cyan-fg\">edu.colorado.plv.bounder.lifestate.{SpecSpace,LifecycleSpec, SDialog, SAsyncTask,FragmentGetActivityNullSpec}\n",
       "</span></span>\n",
       "<span style=\"color: rgb(0, 187, 0)\"><span class=\"ansi-green-fg\">import </span></span><span style=\"color: rgb(0, 187, 187)\"><span class=\"ansi-cyan-fg\">scala.collection.parallel.CollectionConverters.IterableIsParallelizable\n",
       "\n",
       "\n",
       "\n",
       "</span></span>\n",
       "<span style=\"color: rgb(0, 187, 187)\"><span class=\"ansi-cyan-fg\">android_home_possible</span></span>: <span style=\"color: rgb(0, 187, 0)\"><span class=\"ansi-green-fg\">List</span></span>[<span style=\"color: rgb(0, 187, 0)\"><span class=\"ansi-green-fg\">String</span></span>] = <span style=\"color: yellow\"><span class=\"ansi-yellow-fg\">List</span></span>(\n",
       "  <span style=\"color: rgb(0, 187, 0)\"><span class=\"ansi-green-fg\">&quot;/root/Library/Android/sdk&quot;</span></span>,\n",
       "  <span style=\"color: rgb(0, 187, 0)\"><span class=\"ansi-green-fg\">&quot;/root/Android/Sdk&quot;</span></span>\n",
       ")\n",
       "<span style=\"color: rgb(0, 187, 187)\"><span class=\"ansi-cyan-fg\">expDir</span></span>: <span style=\"color: rgb(0, 187, 0)\"><span class=\"ansi-green-fg\">File</span></span> = /home/notebooks/dataSubset\n",
       "<span style=\"color: rgb(0, 187, 187)\"><span class=\"ansi-cyan-fg\">baseDir</span></span>: <span style=\"color: rgb(0, 187, 0)\"><span class=\"ansi-green-fg\">File</span></span> = /home/historia_generalizability</code></pre>\n",
       "</div>"
      ],
      "text/plain": [
       "\u001b[32mimport \u001b[39m\u001b[36mbetter.files._\n",
       "\n",
       "\u001b[39m\n",
       "\u001b[32mimport \u001b[39m\u001b[36mscala.util.Random\n",
       "\u001b[39m\n",
       "\u001b[32mimport \u001b[39m\u001b[36medu.colorado.plv.bounder.{Driver,PickleSpec,Action,RunConfig,ExpTag}\n",
       "\u001b[39m\n",
       "\u001b[32mimport \u001b[39m\u001b[36mupickle.default.read\n",
       "\u001b[39m\n",
       "\u001b[32mimport \u001b[39m\u001b[36mupickle.default.write\n",
       "\u001b[39m\n",
       "\u001b[32mimport \u001b[39m\u001b[36mscala.collection.parallel.CollectionConverters.{ImmutableSetIsParallelizable, IterableIsParallelizable}\n",
       "\u001b[39m\n",
       "\u001b[32mimport \u001b[39m\u001b[36medu.colorado.plv.bounder.{ExperimentsDb,BounderUtil}\n",
       "\u001b[39m\n",
       "\u001b[32mimport \u001b[39m\u001b[36mscala.concurrent.duration._\n",
       "\u001b[39m\n",
       "\u001b[32mimport \u001b[39m\u001b[36mscala.language.postfixOps\n",
       "\u001b[39m\n",
       "\u001b[32mimport \u001b[39m\u001b[36mslick.driver.H2Driver.api._\n",
       "\u001b[39m\n",
       "\u001b[32mimport \u001b[39m\u001b[36mslick.jdbc.{GetResult,SQLActionBuilder}\n",
       "\u001b[39m\n",
       "\u001b[32mimport \u001b[39m\u001b[36mscala.concurrent.Await\n",
       "\u001b[39m\n",
       "\u001b[32mimport \u001b[39m\u001b[36medu.colorado.plv.bounder.lifestate.{SpecSpace,LifecycleSpec, SDialog, SAsyncTask,FragmentGetActivityNullSpec}\n",
       "\u001b[39m\n",
       "\u001b[32mimport \u001b[39m\u001b[36mscala.collection.parallel.CollectionConverters.IterableIsParallelizable\n",
       "\n",
       "\n",
       "\n",
       "\u001b[39m\n",
       "\u001b[36mandroid_home_possible\u001b[39m: \u001b[32mList\u001b[39m[\u001b[32mString\u001b[39m] = \u001b[33mList\u001b[39m(\n",
       "  \u001b[32m\"/root/Library/Android/sdk\"\u001b[39m,\n",
       "  \u001b[32m\"/root/Android/Sdk\"\u001b[39m\n",
       ")\n",
       "\u001b[36mexpDir\u001b[39m: \u001b[32mFile\u001b[39m = /home/notebooks/dataSubset\n",
       "\u001b[36mbaseDir\u001b[39m: \u001b[32mFile\u001b[39m = /home/historia_generalizability"
      ]
     },
     "metadata": {},
     "output_type": "display_data"
    }
   ],
   "source": [
    "import better.files._\n",
    "\n",
    "import scala.util.Random\n",
    "import edu.colorado.plv.bounder.{Driver,PickleSpec,Action,RunConfig,ExpTag}\n",
    "import upickle.default.read\n",
    "import upickle.default.write\n",
    "import scala.collection.parallel.CollectionConverters.{ImmutableSetIsParallelizable, IterableIsParallelizable}\n",
    "import edu.colorado.plv.bounder.{ExperimentsDb,BounderUtil}\n",
    "import scala.concurrent.duration._\n",
    "import scala.language.postfixOps\n",
    "import slick.driver.H2Driver.api._\n",
    "import slick.jdbc.{GetResult,SQLActionBuilder}\n",
    "import scala.concurrent.Await\n",
    "import edu.colorado.plv.bounder.lifestate.{SpecSpace,LifecycleSpec, SDialog, SAsyncTask,FragmentGetActivityNullSpec}\n",
    "import scala.collection.parallel.CollectionConverters.IterableIsParallelizable\n",
    "\n",
    "\n",
    "\n",
    "Driver.setZ3Path(s\"${userhome}/software/z3/build\")\n",
    "\n",
    "var android_home_possible = List(s\"${userhome}/Library/Android/sdk\", s\"${userhome}/Android/Sdk\")\n",
    "//var android_home = android_home_possible.find(p => File(p).exists()).get             \n",
    "//BounderUtil.setEnv(Map(\"DYLD_LIBRARY_PATH\" -> s\"${userhome}/software/z3/build\",\"ANDROID_HOME\" -> android_home,\"HOME\" -> userhome))\n",
    "// System.setProperty(\"user.dir\", s\"${System.getProperty(\"user.home\")}/data\");\n",
    "val expDir = File(\"/home/notebooks/dataSubset\")\n",
    "val baseDir = File(\"/home/historia_generalizability\")"
   ]
  },
  {
   "cell_type": "code",
   "execution_count": 3,
   "metadata": {},
   "outputs": [
    {
     "data": {
      "text/plain": [
       "\u001b[36mbenchmarkList\u001b[39m: \u001b[32mString\u001b[39m = \u001b[32m\"benchmark-list-subset.txt\"\u001b[39m\n",
       "defined \u001b[32mobject\u001b[39m \u001b[36mExpConfig\u001b[39m\n",
       "\u001b[36mres2_2\u001b[39m: \u001b[32mInt\u001b[39m = \u001b[32m47\u001b[39m"
      ]
     },
     "execution_count": 3,
     "metadata": {},
     "output_type": "execute_result"
    }
   ],
   "source": [
    "val benchmarkList = \"benchmark-list-subset.txt\"\n",
    "object ExpConfig{\n",
    "    val excludeFromProguardCheck = List(\"ch.blinkenlights.android.vanilla\", \"com.darshancomputing.BatteryIndicatorPro\") // apps that break the tool I am using for proguard check but don't use proguard (checked manually)\n",
    "    def apkAndFilt(file:File) = {\n",
    "        val path = file.toString\n",
    "        val spliton = if(path.contains(\"fdroid\")) \"fdroid\" else \"oss\"\n",
    "        val pkg = path.split(spliton)(1).split(\"/\")\n",
    "        s\"${path}:${pkg.tail.head}\"\n",
    "    }\n",
    "    val apkList = baseDir.glob(\"**/*.apk\").toList.filter{pathF =>\n",
    "        val path = pathF.toString // filter out the duplicate APKs for connectbot and antennapod\n",
    "        !(path.contains(\"de.danoeh.antennapod\") && path.contains(\"app-play\")) && !(path.contains(\"org.connectbot\") && path.contains(\"app-google\"))}\n",
    "        /*moved to another dir, comment out for speed*///.filter{a => excludeFromProguardCheck.exists(x => a.toString.contains(x)) || !Driver.detectProguard(a.toString)} // remove apps that use proguard (we can't distinguish app and framework)\n",
    "    assert(apkList.exists(_.toString.contains(\"org.connectbot\")))\n",
    "    assert(apkList.exists(_.toString.contains(\"de.danoeh.antennapod\")))\n",
    "    val benchmarkListFile = File(benchmarkList)\n",
    "    benchmarkListFile.overwrite(apkList.map(apkAndFilt(_)).mkString(\"\\n\"))\n",
    "    \n",
    "}\n",
    "// Apps that use proguard (should be empty, moved to another folder)\n",
    "ExpConfig.apkList.size"
   ]
  },
  {
   "cell_type": "code",
   "execution_count": 4,
   "metadata": {},
   "outputs": [
    {
     "name": "stdout",
     "output_type": "stream",
     "text": [
      "disallows (combined): 2\n",
      "all size: 10\n",
      "distinct configurations: 10\n",
      "deref from callin: 6\n",
      "deref from field finish: 0\n",
      "deref from field sync: 2\n",
      "dismiss callins: 1\n",
      "execute callins: 1\n"
     ]
    },
    {
     "data": {
      "text/plain": [
       "defined \u001b[32mobject\u001b[39m \u001b[36mCountEach\u001b[39m\n",
       "\u001b[36mres3_9\u001b[39m: \u001b[32mList\u001b[39m[\u001b[32mFile\u001b[39m] = \u001b[33mList\u001b[39m(\n",
       "  /home/notebooks/dataSubset/dev.ukanth.ufirewall/SensitiveDerefCallinCaused_8.json,\n",
       "  /home/notebooks/dataSubset/net.wigle.wigleandroid/SensitiveDerefCallinCaused_7.json,\n",
       "  /home/notebooks/dataSubset/com.darshancomputing.BatteryIndicatorPro/SensitiveDerefCallinCaused_22.json,\n",
       "  /home/notebooks/dataSubset/com.nutomic.syncthingandroid/SensitiveDerefCallinCaused_3.json,\n",
       "  /home/notebooks/dataSubset/de.blinkt.openvpn/SensitiveDerefCallinCaused_9.json,\n",
       "  /home/notebooks/dataSubset/de.blinkt.openvpn/SensitiveDerefCallinCaused_8.json\n",
       ")"
      ]
     },
     "execution_count": 4,
     "metadata": {},
     "output_type": "execute_result"
    }
   ],
   "source": [
    "object CountEach{\n",
    "    def appName(cfg:File):String = {\n",
    "        val split = cfg.toString.split(\"/\")\n",
    "        split.reverse.tail.head\n",
    "    }\n",
    "    def groupByApp(cfgs:List[File]):Map[String,List[File]] = cfgs.groupBy{appName}\n",
    "    val cfgs = expDir.glob(\"**/*.cfg\").map(f => read[RunConfig](f.contentAsString())).toSet\n",
    "    val disallows = expDir.glob(\"**/Disallow*.json\").toList.groupBy{f => \n",
    "        val spec = read[RunConfig](f.contentAsString).specSet\n",
    "        val disSpec = spec.getDisallowSpecSet\n",
    "        assert(disSpec.size == 1, \"should only have one disallow spec per config\")\n",
    "        disSpec.head.target.identitySignature\n",
    "    }\n",
    "    val disallowByApp = disallows.map{ case (dis,cfgs) => (dis, groupByApp(cfgs))}\n",
    "    val derefCallin = expDir.glob(\"**/SensitiveDerefCallinCaused_*\").toList.filter(cfg => !cfg.toString.contains(\".ipynb_checkpoints\") && !cfg.toString.endsWith(\".result\"))\n",
    "    val derefCallinByApp = groupByApp(derefCallin)\n",
    "    val derefFieldSync = expDir.glob(\"**/SensitiveDerefFieldCausedSynch_*\").toList.filter(cfg => !cfg.toString.contains(\".ipynb_checkpoints\") && !cfg.toString.endsWith(\".result\"))\n",
    "    val derefFieldSyncByApp = groupByApp(derefFieldSync)\n",
    "    val derefFieldFinish = expDir.glob(\"**/SensitiveDerefFieldCausedFinish_*\").toList.filter(cfg => !cfg.toString.contains(\".ipynb_checkpoints\") && !cfg.toString.endsWith(\".result\"))\n",
    "    val derefFieldFinishByApp = groupByApp(derefFieldFinish)\n",
    "    val allCfg = {\n",
    "        expDir.glob(\"**/SensitiveDerefFieldCausedSynch_*\").toSet ++ expDir.glob(\"**/Disallow*\").toSet ++ expDir.glob(\"**/SensitiveDerefCallinCaused_*\") ++  expDir.glob(\"**/SensitiveDerefFieldCausedFinish_*\")\n",
    "    }.filter(cfg => !cfg.toString.contains(\".ipynb_checkpoints\") && !cfg.toString.endsWith(\".result\"))\n",
    "    \n",
    "    val allCfgDeser = allCfg.flatMap{cfg => \n",
    "        try{\n",
    "            Some(read[RunConfig](cfg.contentAsString()))\n",
    "        }catch{\n",
    "            case _:upickle.core.AbortException => None // ignore non-cfg files\n",
    "        }\n",
    "    }.toSet\n",
    "}\n",
    "println(s\"disallows (combined): ${CountEach.disallows.size}\")\n",
    "println(s\"all size: ${CountEach.allCfg.size}\")\n",
    "println(s\"distinct configurations: ${CountEach.allCfgDeser.size}\") //why do we have one more config than earlier?\n",
    "println(s\"deref from callin: ${CountEach.derefCallin.size}\")\n",
    "println(s\"deref from field finish: ${CountEach.derefFieldFinish.size}\")\n",
    "println(s\"deref from field sync: ${CountEach.derefFieldSync.size}\")\n",
    "//println(s\"disallow kinds: ${CountEach.disallows.keys}\")\n",
    "println(s\"dismiss callins: ${CountEach.disallows(\"I_CIEnter_Dialogdismiss\").size}\")\n",
    "println(s\"execute callins: ${CountEach.disallows(\"I_CIEnter_AsyncTaskexecute\").size}\")\n",
    "\n",
    "CountEach.derefCallin\n"
   ]
  },
  {
   "cell_type": "code",
   "execution_count": 5,
   "metadata": {},
   "outputs": [
    {
     "name": "stdout",
     "output_type": "stream",
     "text": [
      "Initializing database\n"
     ]
    },
    {
     "data": {
      "text/plain": [
       "defined \u001b[32mfunction\u001b[39m \u001b[36msplitConfig\u001b[39m\n",
       "defined \u001b[32mfunction\u001b[39m \u001b[36msetTimeout\u001b[39m\n",
       "\u001b[36mdb\u001b[39m: \u001b[32mExperimentsDb\u001b[39m = edu.colorado.plv.bounder.ExperimentsDb@4b88f195\n",
       "defined \u001b[32mclass\u001b[39m \u001b[36mCount\u001b[39m\n",
       "defined \u001b[32mclass\u001b[39m \u001b[36mStrRes\u001b[39m\n",
       "\u001b[36mgetCountResult\u001b[39m: \u001b[32mAnyRef\u001b[39m with \u001b[32mGetResult\u001b[39m[\u001b[32mCount\u001b[39m] = <function1>\n",
       "\u001b[36mgetStrResult\u001b[39m: \u001b[32mAnyRef\u001b[39m with \u001b[32mGetResult\u001b[39m[\u001b[32mStrRes\u001b[39m] = <function1>\n",
       "defined \u001b[32mfunction\u001b[39m \u001b[36mpauseJobs\u001b[39m\n",
       "defined \u001b[32mfunction\u001b[39m \u001b[36mresumeJobs\u001b[39m\n",
       "defined \u001b[32mfunction\u001b[39m \u001b[36mclearInputs\u001b[39m\n",
       "defined \u001b[32mfunction\u001b[39m \u001b[36mresetJobs\u001b[39m\n",
       "defined \u001b[32mfunction\u001b[39m \u001b[36mclearTable\u001b[39m\n",
       "defined \u001b[32mfunction\u001b[39m \u001b[36mclearApks\u001b[39m\n",
       "defined \u001b[32mfunction\u001b[39m \u001b[36mclearResults\u001b[39m\n",
       "defined \u001b[32mfunction\u001b[39m \u001b[36mclearAll\u001b[39m"
      ]
     },
     "execution_count": 5,
     "metadata": {},
     "output_type": "execute_result"
    }
   ],
   "source": [
    "// Utilities for manipulating run configs\n",
    "\n",
    "def splitConfig(cfg:File, maxJobsPerFile:Int) = {\n",
    "    val cfgContent = read[RunConfig](cfg.contentAsString)\n",
    "    val parentDir = cfg.parent\n",
    "    val cfgName = cfg.name.split('.')(0)\n",
    "    assert(cfg.name.split('.')(1) == \"json\", \"Input should have ext json\")\n",
    "    val newCfg = cfgContent.initialQuery.grouped(maxJobsPerFile).zipWithIndex\n",
    "    \n",
    "    newCfg.foreach{\n",
    "        case (iqs,ind) => \n",
    "            val outfname = s\"${cfgName}_${ind}.json\"\n",
    "            println(s\"index: ${ind} size: ${cfg.size} fname: ${outfname}\")\n",
    "            val outf = parentDir / outfname\n",
    "            outf.overwrite(write[RunConfig](cfgContent.copy(initialQuery=iqs)))\n",
    "    }\n",
    "}\n",
    "\n",
    "// update timeout in run config\n",
    "def setTimeout(nt:Int) = {\n",
    "    //val configs = expDir.glob(\"**/*.json\").toList\n",
    "    val configs = CountEach.allCfg\n",
    "    assert(configs.forall(f => !f.toString.contains(\".ipynb_checkpoints\")), s\"Delete dumb jupyter backup file\")\n",
    "    configs.foreach{cfgf =>\n",
    "        //println(cfgf.toString)\n",
    "        val cfg = read[RunConfig](cfgf.contentAsString)\n",
    "        cfgf.delete()\n",
    "        cfgf.overwrite(write[RunConfig](cfg.copy(timeLimit=nt)))\n",
    "    }\n",
    "//     write[RunConfig](.map{c => read[RunConfig](c.contentAsString)}.toList.head.copy(timeLimit = 180))\n",
    "}\n",
    "//splitConfig(File(\"/Users/shawnmeier/Documents/source/bounder/experiments/5fdroid5dev_sampderef/com.lyonbros/sample.json\"),5)\n",
    "\n",
    "val db = new ExperimentsDb(Some(path))\n",
    "case class Count(n:Int)\n",
    "case class StrRes(s:String)\n",
    "implicit val getCountResult = GetResult(r => Count(r.<<))\n",
    "implicit val getStrResult = GetResult(r => StrRes(r.<<))\n",
    "\n",
    "def pauseJobs() = {\n",
    "    val pauseJobsQ = sql\"\"\"update jobs set status='paused' where status='new';\"\"\"\n",
    "    Await.result(db.db.run(pauseJobsQ.as[StrRes]), 30 seconds)\n",
    "}\n",
    "def resumeJobs() = {\n",
    "    val pauseJobsQ = sql\"\"\"update jobs set status='new' where status='paused';\"\"\"\n",
    "    Await.result(db.db.run(pauseJobsQ.as[StrRes]), 30 seconds)\n",
    "}\n",
    "def clearInputs() = {\n",
    "    val clearInputsQ = sql\"\"\"delete from apks where apkname like 'jar_%' or apkname like 'spec_%';\"\"\"\n",
    "    Await.result(db.db.run(clearInputsQ.as[StrRes]), 30 seconds)\n",
    "    val clearInputsTableQ = sql\"\"\"delete from inputs;\"\"\"\n",
    "    Await.result(db.db.run(clearInputsTableQ.as[StrRes]), 30 seconds)\n",
    "}\n",
    "def resetJobs() = {\n",
    "    val resetJobsQ = sql\"\"\"update jobs set inputid=4, stderr='',stdout='',owner='',started=NULL,ended=NULL,status='new';\"\"\"\n",
    "    Await.result(db.db.run(resetJobsQ.as[StrRes]), 30 seconds)\n",
    "}\n",
    "def clearTable(tableName:String) = {\n",
    "    val clear = sql\"\"\"delete from #$tableName ;\"\"\"\n",
    "    Await.result(db.db.run(clear.as[StrRes]), 30 seconds)\n",
    "}\n",
    "def clearApks() = {\n",
    "    \n",
    "}\n",
    "def clearResults(){\n",
    "    val clearResults = sql\"\"\"delete from results; delete from resultdata;\"\"\"\n",
    "    Await.result(db.db.run(clearResults.as[StrRes]), 30 seconds)\n",
    "}\n",
    "def clearAll(){\n",
    "    clearInputs()\n",
    "    clearResults()\n",
    "    clearTable(\"jobs\")\n",
    "    clearTable(\"apks\")\n",
    "}\n",
    "\n",
    "//clearResults()\n",
    "//pauseJobs()\n",
    "//clearAll()\n",
    "//resumeJobs()\n",
    "//Await.result(db.db.run(sql\"\"\"select count(*) from results;\"\"\".as[Count]), 30 seconds)"
   ]
  },
  {
   "cell_type": "markdown",
   "metadata": {},
   "source": [
    "Upload needed files to database\n",
    "-------------------------------"
   ]
  },
  {
   "cell_type": "code",
   "execution_count": 6,
   "metadata": {},
   "outputs": [],
   "source": [
    "// --- clear existing results in database\n",
    "clearAll()\n",
    "setTimeout(900)"
   ]
  },
  {
   "cell_type": "code",
   "execution_count": 7,
   "metadata": {},
   "outputs": [
    {
     "name": "stdout",
     "output_type": "stream",
     "text": [
      "10\n"
     ]
    },
    {
     "data": {
      "text/plain": [
       "\u001b[36mjarPath\u001b[39m: \u001b[32mFile\u001b[39m = /home/bounder/target/scala-2.13/soot_hopper-assembly-0.1.jar\n",
       "\u001b[36mcfg\u001b[39m: \u001b[32mFile\u001b[39m = /home/bounder/specs/cfg.txt\n",
       "\u001b[36memptyCfg\u001b[39m: \u001b[32mInt\u001b[39m = \u001b[32m6\u001b[39m\n",
       "defined \u001b[32mfunction\u001b[39m \u001b[36muploadApks\u001b[39m\n",
       "defined \u001b[32mfunction\u001b[39m \u001b[36mpushExp\u001b[39m"
      ]
     },
     "execution_count": 7,
     "metadata": {},
     "output_type": "execute_result"
    }
   ],
   "source": [
    "\n",
    "val jarPath = File(path)\n",
    "val cfg = File(s\"/home/bounder/specs/cfg.txt\") //note: unused\n",
    "// Upload empty spec run config and bounder jar\n",
    "val emptyCfg = db.createConfig(\n",
    "    cfg,\n",
    "    jarPath,\n",
    "    \"Empty spec set\"\n",
    ")\n",
    "\n",
    "// Upload data of APK files to database for experiments\n",
    "def uploadApks() = {\n",
    "    def appList = (expDir / \"..\" / benchmarkList).contentAsString.split(\"\\n\")\n",
    "        .map{v => \n",
    "            val spl = v.split(\":\")\n",
    "            val name = spl(0).replace(baseDir.toString,\"\")\n",
    "            val path = spl(0)\n",
    "            (name,path)\n",
    "        }\n",
    "    appList.foreach(a => db.uploadApk(a._1,File(a._2)))\n",
    "}\n",
    "\n",
    "\n",
    "// push experiment .json files to database\n",
    "def pushExp() = {\n",
    "    // val experiments = expDir.glob(\"**/*.cfg\").toList\n",
    "    val experiments =  CountEach.allCfg\n",
    "    println(experiments.size)\n",
    "    experiments.foreach{v => \n",
    "                        val cfg = read[RunConfig](v.contentAsString)\n",
    "                        db.createJob(v, Some(write[ExpTag](cfg.tag)), emptyCfg)\n",
    "    }\n",
    "}\n",
    "uploadApks()\n",
    "pushExp()"
   ]
  },
  {
   "cell_type": "markdown",
   "metadata": {},
   "source": [
    "Bulk Job Tasks\n",
    "=============="
   ]
  },
  {
   "cell_type": "markdown",
   "metadata": {},
   "source": [
    "Uncomment a function call to perform an action like clearing all job data, pausing jobs or resuing jobs."
   ]
  },
  {
   "cell_type": "code",
   "execution_count": 7,
   "metadata": {},
   "outputs": [],
   "source": [
    "//db.downloadApk(\"/com.gpl.rpg.AndorsTrail/0.7.5/apk/com.gpl.rpg.AndorsTrail_46.apk\", File(\"/Users/shawnmeier/Desktop/testDownload.apk\"))\n",
    "//clearAll()\n",
    "//resumeJobs()\n",
    "//clearResults()\n",
    "//pauseJobs()"
   ]
  },
  {
   "cell_type": "code",
   "execution_count": null,
   "metadata": {},
   "outputs": [],
   "source": []
  },
  {
   "cell_type": "code",
   "execution_count": null,
   "metadata": {},
   "outputs": [],
   "source": []
  },
  {
   "cell_type": "code",
   "execution_count": null,
   "metadata": {},
   "outputs": [],
   "source": []
  }
 ],
 "metadata": {
  "kernelspec": {
   "display_name": "Scala",
   "language": "scala",
   "name": "scala"
  },
  "language_info": {
   "codemirror_mode": "text/x-scala",
   "file_extension": ".scala",
   "mimetype": "text/x-scala",
   "name": "scala",
   "nbconvert_exporter": "script",
   "version": "2.13.2"
  }
 },
 "nbformat": 4,
 "nbformat_minor": 4
}
