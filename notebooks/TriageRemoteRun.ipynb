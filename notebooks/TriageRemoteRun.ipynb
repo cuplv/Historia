{
 "cells": [
  {
   "cell_type": "code",
   "execution_count": 1,
   "metadata": {
    "tags": []
   },
   "outputs": [
    {
     "data": {
      "text/plain": [
       "\u001b[36mpath\u001b[39m: \u001b[32mString\u001b[39m = \u001b[32m\"/Users/shawnmeier/Documents/source/bounder/soot_hopper/target/scala-2.13/soot_hopper-assembly-0.1.jar\"\u001b[39m\n",
       "\u001b[32mimport \u001b[39m\u001b[36m$ivy.$                                          \n",
       "\u001b[39m\n",
       "\u001b[32mimport \u001b[39m\u001b[36m$ivy.$                             \n",
       "// import $ivy.`edu.colorado.plv.bounder:soot_hopper_2.13:0.1`\n",
       "\n",
       "\u001b[39m\n",
       "\u001b[32mimport \u001b[39m\u001b[36mplotly._, element._, layout._, Plotly._\n",
       "\u001b[39m\n",
       "\u001b[32mimport \u001b[39m\u001b[36mujson.Value\n",
       "\u001b[39m\n",
       "\u001b[32mimport \u001b[39m\u001b[36msys.process._\u001b[39m"
      ]
     },
     "execution_count": 1,
     "metadata": {},
     "output_type": "execute_result"
    }
   ],
   "source": [
    "val path = \"/Users/shawnmeier/Documents/source/bounder/soot_hopper/target/scala-2.13/soot_hopper-assembly-0.1.jar\"\n",
    "\n",
    "interp.load.cp(os.Path(path))\n",
    "\n",
    "import $ivy.`org.plotly-scala:plotly-almond_2.13:0.8.2`\n",
    "import $ivy.`com.lihaoyi:ujson_2.13:1.3.8`\n",
    "// import $ivy.`edu.colorado.plv.bounder:soot_hopper_2.13:0.1`\n",
    "\n",
    "import plotly._, element._, layout._, Plotly._\n",
    "import ujson.Value\n",
    "import sys.process._"
   ]
  },
  {
   "cell_type": "code",
   "execution_count": 2,
   "metadata": {
    "tags": []
   },
   "outputs": [
    {
     "data": {
      "text/plain": [
       "\u001b[32mimport \u001b[39m\u001b[36m$ivy.$                                         \n",
       "\u001b[39m\n",
       "\u001b[32mimport \u001b[39m\u001b[36mbetter.files._\n",
       "\n",
       "\u001b[39m\n",
       "\u001b[32mimport \u001b[39m\u001b[36mscala.util.Random\n",
       "\u001b[39m\n",
       "\u001b[32mimport \u001b[39m\u001b[36medu.colorado.plv.bounder.Driver\n",
       "\u001b[39m\n",
       "\u001b[32mimport \u001b[39m\u001b[36medu.colorado.plv.bounder.Action\n",
       "\u001b[39m\n",
       "\u001b[32mimport \u001b[39m\u001b[36medu.colorado.plv.bounder.RunConfig\n",
       "\u001b[39m\n",
       "\u001b[32mimport \u001b[39m\u001b[36mupickle.default.read\n",
       "\u001b[39m\n",
       "\u001b[32mimport \u001b[39m\u001b[36mupickle.default.write\n",
       "\u001b[39m\n",
       "\u001b[32mimport \u001b[39m\u001b[36mscala.collection.parallel.CollectionConverters.{ImmutableSetIsParallelizable, IterableIsParallelizable}\n",
       "\u001b[39m\n",
       "\u001b[32mimport \u001b[39m\u001b[36medu.colorado.plv.bounder.ExperimentsDb\n",
       "\u001b[39m\n",
       "\u001b[32mimport \u001b[39m\u001b[36medu.colorado.plv.bounder.BounderUtil\n",
       "\u001b[39m\n",
       "\u001b[32mimport \u001b[39m\u001b[36mscala.concurrent.duration._\n",
       "\u001b[39m\n",
       "\u001b[32mimport \u001b[39m\u001b[36mscala.language.postfixOps\u001b[39m"
      ]
     },
     "execution_count": 2,
     "metadata": {},
     "output_type": "execute_result"
    }
   ],
   "source": [
    "import $ivy.`com.github.pathikrit::better-files:3.9.1`\n",
    "import better.files._\n",
    "\n",
    "import scala.util.Random\n",
    "import edu.colorado.plv.bounder.Driver\n",
    "import edu.colorado.plv.bounder.Action\n",
    "import edu.colorado.plv.bounder.RunConfig\n",
    "import upickle.default.read\n",
    "import upickle.default.write\n",
    "import scala.collection.parallel.CollectionConverters.{ImmutableSetIsParallelizable, IterableIsParallelizable}\n",
    "import edu.colorado.plv.bounder.ExperimentsDb\n",
    "import edu.colorado.plv.bounder.BounderUtil\n",
    "import scala.concurrent.duration._\n",
    "import scala.language.postfixOps"
   ]
  },
  {
   "cell_type": "code",
   "execution_count": 3,
   "metadata": {
    "tags": []
   },
   "outputs": [
    {
     "name": "stdout",
     "output_type": "stream",
     "text": [
      "Initializing database\n"
     ]
    },
    {
     "data": {
      "text/plain": [
       "\u001b[36mdb\u001b[39m: \u001b[32mExperimentsDb\u001b[39m = edu.colorado.plv.bounder.ExperimentsDb@708728f7"
      ]
     },
     "execution_count": 3,
     "metadata": {},
     "output_type": "execute_result"
    }
   ],
   "source": [
    "val db = new ExperimentsDb(Some(\"/Users/shawnmeier/Documents/source/bounder/soot_hopper/target/scala-2.13/soot_hopper-assembly-0.1.jar\"))"
   ]
  },
  {
   "cell_type": "code",
   "execution_count": 4,
   "metadata": {
    "tags": []
   },
   "outputs": [
    {
     "data": {
      "text/plain": [
       "\u001b[32mimport \u001b[39m\u001b[36mslick.driver.H2Driver.api._\n",
       "\u001b[39m\n",
       "\u001b[32mimport \u001b[39m\u001b[36mslick.jdbc.GetResult\n",
       "\u001b[39m\n",
       "\u001b[32mimport \u001b[39m\u001b[36mslick.jdbc.SQLActionBuilder\n",
       "\u001b[39m\n",
       "\u001b[32mimport \u001b[39m\u001b[36mscala.concurrent.Await\u001b[39m"
      ]
     },
     "execution_count": 4,
     "metadata": {},
     "output_type": "execute_result"
    }
   ],
   "source": [
    "import slick.driver.H2Driver.api._\n",
    "import slick.jdbc.GetResult\n",
    "import slick.jdbc.SQLActionBuilder\n",
    "import scala.concurrent.Await"
   ]
  },
  {
   "cell_type": "code",
   "execution_count": 5,
   "metadata": {
    "tags": []
   },
   "outputs": [
    {
     "data": {
      "text/plain": [
       "defined \u001b[32mclass\u001b[39m \u001b[36mCount\u001b[39m\n",
       "\u001b[36mgetCountResult\u001b[39m: \u001b[32mAnyRef\u001b[39m with \u001b[32mGetResult\u001b[39m[\u001b[32mCount\u001b[39m] = <function1>\n",
       "\u001b[36mres4_2\u001b[39m: \u001b[32mVector\u001b[39m[\u001b[32mCount\u001b[39m] = \u001b[33mVector\u001b[39m(\u001b[33mCount\u001b[39m(\u001b[32m1216\u001b[39m))"
      ]
     },
     "execution_count": 5,
     "metadata": {},
     "output_type": "execute_result"
    }
   ],
   "source": [
    "case class Count(n:Int)\n",
    "implicit val getCountResult = GetResult(r => Count(r.<<))\n",
    "\n",
    "Await.result(db.db.run(sql\"\"\"select count(*) from results;\"\"\".as[Count]), 30 seconds)"
   ]
  },
  {
   "cell_type": "code",
   "execution_count": 6,
   "metadata": {
    "tags": []
   },
   "outputs": [
    {
     "name": "stdout",
     "output_type": "stream",
     "text": [
      "out folder: /Users/shawnmeier/Desktop/2appExp/itkach.aard2/itkach.aard2.SettingsListAdapter$1\n",
      "out folder: /Users/shawnmeier/Desktop/2appExp/itkach.aard2/itkach.aard2.FileSelectListAdapter$1\n",
      "out folder: /Users/shawnmeier/Desktop/2appExp/itkach.aard2/itkach.aard2.DictionaryListAdapter$3\n",
      "out folder: /Users/shawnmeier/Desktop/2appExp/itkach.aard2/itkach.aard2.DictionaryListAdapter$3\n",
      "out folder: /Users/shawnmeier/Desktop/2appExp/itkach.aard2/itkach.aard2.FileSelectListAdapter$2\n",
      "out folder: /Users/shawnmeier/Desktop/2appExp/itkach.aard2/itkach.aard2.FileSelectListAdapter$2\n",
      "out folder: /Users/shawnmeier/Desktop/2appExp/itkach.aard2/itkach.aard2.FileSelectListAdapter$2\n",
      "out folder: /Users/shawnmeier/Desktop/2appExp/com.serwylo.lexica/com.serwylo.lexica.Lexica\n",
      "out folder: /Users/shawnmeier/Desktop/2appExp/itkach.aard2/itkach.aard2.FileSelectListAdapter$2\n",
      "out folder: /Users/shawnmeier/Desktop/2appExp/com.serwylo.lexica/com.serwylo.lexica.Lexica\n",
      "out folder: /Users/shawnmeier/Desktop/2appExp/com.serwylo.lexica/com.serwylo.lexica.Lexica\n",
      "out folder: /Users/shawnmeier/Desktop/2appExp/com.serwylo.lexica/com.serwylo.lexica.Lexica\n",
      "out folder: /Users/shawnmeier/Desktop/2appExp/com.serwylo.lexica/com.serwylo.lexica.Lexica\n",
      "out folder: /Users/shawnmeier/Desktop/2appExp/com.serwylo.lexica/com.serwylo.lexica.Lexica\n",
      "out folder: /Users/shawnmeier/Desktop/2appExp/com.serwylo.lexica/com.serwylo.lexica.Lexica\n",
      "out folder: /Users/shawnmeier/Desktop/2appExp/itkach.aard2/itkach.aard2.DictionaryListAdapter$4\n",
      "out folder: /Users/shawnmeier/Desktop/2appExp/itkach.aard2/itkach.aard2.DictionaryListAdapter$4\n",
      "out folder: /Users/shawnmeier/Desktop/2appExp/itkach.aard2/itkach.aard2.DictionaryListAdapter$2\n",
      "out folder: /Users/shawnmeier/Desktop/2appExp/itkach.aard2/itkach.aard2.DictionaryListAdapter$2\n",
      "downloading data 257 to directory /Users/shawnmeier/Desktop/2appExp/itkach.aard2/itkach.aard2.DictionaryListAdapter$2\n",
      "downloading data 244 to directory /Users/shawnmeier/Desktop/2appExp/itkach.aard2/itkach.aard2.FileSelectListAdapter$2\n",
      "downloading data 228 to directory /Users/shawnmeier/Desktop/2appExp/itkach.aard2/itkach.aard2.FileSelectListAdapter$1\n",
      "downloading data 226 to directory /Users/shawnmeier/Desktop/2appExp/itkach.aard2/itkach.aard2.SettingsListAdapter$1\n",
      "downloading data 248 to directory /Users/shawnmeier/Desktop/2appExp/com.serwylo.lexica/com.serwylo.lexica.Lexica\n",
      "downloading data 255 to directory /Users/shawnmeier/Desktop/2appExp/itkach.aard2/itkach.aard2.DictionaryListAdapter$4\n",
      "downloading data 232 to directory /Users/shawnmeier/Desktop/2appExp/itkach.aard2/itkach.aard2.DictionaryListAdapter$3\n"
     ]
    }
   ],
   "source": [
    "// Download witnessed with no limit\n",
    "//db.downloadResults(File(\"/Users/shawnmeier/Desktop/2appExp\"), \"\"\"%Witnessed%\"\"\", None)"
   ]
  },
  {
   "cell_type": "code",
   "execution_count": 6,
   "metadata": {
    "tags": []
   },
   "outputs": [
    {
     "ename": "",
     "evalue": "",
     "output_type": "error",
     "traceback": [
      "\u001b[31mjava.lang.IllegalStateException: Wrong query for missing serialized state: witnessed\u001b[39m\n  edu.colorado.plv.bounder.symbolicexecutor.state.DBOutputMode.rowToNode(\u001b[32mReachingGraph.scala\u001b[39m:\u001b[32m314\u001b[39m)\n  edu.colorado.plv.bounder.symbolicexecutor.state.DBOutputMode.$anonfun$getTerminal$7(\u001b[32mReachingGraph.scala\u001b[39m:\u001b[32m193\u001b[39m)\n  scala.collection.StrictOptimizedIterableOps.map(\u001b[32mStrictOptimizedIterableOps.scala\u001b[39m:\u001b[32m100\u001b[39m)\n  scala.collection.StrictOptimizedIterableOps.map$(\u001b[32mStrictOptimizedIterableOps.scala\u001b[39m:\u001b[32m87\u001b[39m)\n  scala.collection.immutable.Vector.map(\u001b[32mVector.scala\u001b[39m:\u001b[32m119\u001b[39m)\n  edu.colorado.plv.bounder.symbolicexecutor.state.DBOutputMode.getTerminal(\u001b[32mReachingGraph.scala\u001b[39m:\u001b[32m193\u001b[39m)\n  edu.colorado.plv.bounder.Driver$.readDB(\u001b[32mDriver.scala\u001b[39m:\u001b[32m110\u001b[39m)\n  ammonite.$sess.cmd5$Helper.extractWitness(\u001b[32mcmd5.sc\u001b[39m:\u001b[32m5\u001b[39m)\n  ammonite.$sess.cmd5$Helper.<init>(\u001b[32mcmd5.sc\u001b[39m:\u001b[32m8\u001b[39m)\n  ammonite.$sess.cmd5$.<clinit>(\u001b[32mcmd5.sc\u001b[39m:\u001b[32m7\u001b[39m)"
     ]
    }
   ],
   "source": [
    "def extractWitness(base:File) = {\n",
    "    val dataFile = (base / \"data.zip\").unzip()\n",
    "    val pathsF = dataFile.glob(\"**/paths.db\")\n",
    "    pathsF.next.moveToDirectory(base)\n",
    "    Driver.readDB(base)\n",
    "}\n",
    "val path = \"/Users/shawnmeier/Desktop/2appExp/itkach.aard2/itkach.aard2.FileSelectListAdapter$1/data_228\"\n",
    "extractWitness(File(path))"
   ]
  },
  {
   "cell_type": "code",
   "execution_count": null,
   "metadata": {
    "tags": []
   },
   "outputs": [],
   "source": [
    "// Find locations with no successors\n",
    "Driver.readDB(File(path),true)"
   ]
  },
  {
   "cell_type": "code",
   "execution_count": null,
   "metadata": {},
   "outputs": [],
   "source": []
  }
 ],
 "metadata": {
  "kernelspec": {
   "display_name": "Scala",
   "language": "scala",
   "name": "scala"
  },
  "language_info": {
   "codemirror_mode": "text/x-scala",
   "file_extension": ".sc",
   "mimetype": "text/x-scala",
   "name": "scala",
   "nbconvert_exporter": "script",
   "version": "2.13.1"
  },
  "toc-autonumbering": false,
  "toc-showmarkdowntxt": false,
  "toc-showtags": false
 },
 "nbformat": 4,
 "nbformat_minor": 4
}
