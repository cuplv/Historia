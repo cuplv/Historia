{
 "cells": [
  {
   "cell_type": "code",
   "execution_count": 1,
   "metadata": {
    "scrolled": true
   },
   "outputs": [
    {
     "data": {
      "text/plain": [
       "\u001b[36mpath\u001b[39m: \u001b[32mString\u001b[39m = \u001b[32m\"/Users/shawnmeier/Documents/source/bounder/soot_hopper/target/scala-2.13/soot_hopper-assembly-0.1.jar\"\u001b[39m\n",
       "\u001b[32mimport \u001b[39m\u001b[36m$ivy.$                                          \n",
       "\u001b[39m\n",
       "\u001b[32mimport \u001b[39m\u001b[36m$ivy.$                             \n",
       "// import $ivy.`edu.colorado.plv.bounder:soot_hopper_2.13:0.1`\n",
       "\n",
       "\u001b[39m\n",
       "\u001b[32mimport \u001b[39m\u001b[36mplotly._, element._, layout._, Plotly._\n",
       "\u001b[39m\n",
       "\u001b[32mimport \u001b[39m\u001b[36mujson.Value\n",
       "\u001b[39m\n",
       "\u001b[32mimport \u001b[39m\u001b[36msys.process._\n",
       "\n",
       "\u001b[39m"
      ]
     },
     "execution_count": 1,
     "metadata": {},
     "output_type": "execute_result"
    }
   ],
   "source": [
    "val path = \"/Users/shawnmeier/Documents/source/bounder/soot_hopper/target/scala-2.13/soot_hopper-assembly-0.1.jar\"\n",
    "\n",
    "interp.load.cp(os.Path(path))\n",
    "\n",
    "import $ivy.`org.plotly-scala:plotly-almond_2.13:0.8.2`\n",
    "import $ivy.`com.lihaoyi:ujson_2.13:1.3.8`\n",
    "// import $ivy.`edu.colorado.plv.bounder:soot_hopper_2.13:0.1`\n",
    "\n",
    "import plotly._, element._, layout._, Plotly._\n",
    "import ujson.Value\n",
    "import sys.process._\n",
    "\n"
   ]
  },
  {
   "cell_type": "code",
   "execution_count": 2,
   "metadata": {},
   "outputs": [
    {
     "data": {
      "text/plain": [
       "\u001b[32mimport \u001b[39m\u001b[36m$ivy.$                                         \n",
       "\u001b[39m\n",
       "\u001b[32mimport \u001b[39m\u001b[36mbetter.files._\n",
       "\n",
       "\u001b[39m\n",
       "\u001b[32mimport \u001b[39m\u001b[36mscala.util.Random\n",
       "\u001b[39m\n",
       "\u001b[32mimport \u001b[39m\u001b[36medu.colorado.plv.bounder.Driver\n",
       "\u001b[39m\n",
       "\u001b[32mimport \u001b[39m\u001b[36medu.colorado.plv.bounder.Action\n",
       "\u001b[39m\n",
       "\u001b[32mimport \u001b[39m\u001b[36medu.colorado.plv.bounder.RunConfig\n",
       "\u001b[39m\n",
       "\u001b[32mimport \u001b[39m\u001b[36mupickle.default.read\n",
       "\u001b[39m\n",
       "\u001b[32mimport \u001b[39m\u001b[36mscala.collection.parallel.CollectionConverters.{ImmutableSetIsParallelizable, IterableIsParallelizable}\n",
       "// TODO: configure thread pool: https://docs.scala-lang.org/overviews/parallel-collections/configuration.html\u001b[39m"
      ]
     },
     "execution_count": 2,
     "metadata": {},
     "output_type": "execute_result"
    }
   ],
   "source": [
    "// interp.load.ivy(\"com.github.pathikrit\" %% \"better-files\" % \"3.9.1\")\n",
    "import $ivy.`com.github.pathikrit::better-files:3.9.1`\n",
    "import better.files._\n",
    "\n",
    "import scala.util.Random\n",
    "import edu.colorado.plv.bounder.Driver\n",
    "import edu.colorado.plv.bounder.Action\n",
    "import edu.colorado.plv.bounder.RunConfig\n",
    "import upickle.default.read\n",
    "import scala.collection.parallel.CollectionConverters.{ImmutableSetIsParallelizable, IterableIsParallelizable}\n",
    "// TODO: configure thread pool: https://docs.scala-lang.org/overviews/parallel-collections/configuration.html"
   ]
  },
  {
   "cell_type": "markdown",
   "metadata": {},
   "source": [
    "Parse list of apps with APK files in the fdroid download folder\n",
    "------------------------------------------------------------------------\n",
    "\n",
    "Full data download: https://drive.google.com/file/d/1edtMA9Bt0g9rPf1gp34W1a9e-oUdINJd/view?usp=sharing"
   ]
  },
  {
   "cell_type": "code",
   "execution_count": 3,
   "metadata": {},
   "outputs": [
    {
     "data": {
      "text/plain": [
       "\u001b[32mimport \u001b[39m\u001b[36mscala.collection.parallel._\n",
       "\u001b[39m\n",
       "\u001b[36mfdroidBase\u001b[39m: \u001b[32mFile\u001b[39m = /Users/shawnmeier/Documents/data/fdroid\n",
       "defined \u001b[32mclass\u001b[39m \u001b[36mDataSet\u001b[39m\n",
       "\u001b[36mfdroidData\u001b[39m: \u001b[32mDataSet\u001b[39m = \n",
       "number of app directories: 1967\n",
       "number of distinct packages: 1967\n",
       "number of apk files: 1838\n",
       "distinct apps with apks: 1838\n"
      ]
     },
     "execution_count": 3,
     "metadata": {},
     "output_type": "execute_result"
    }
   ],
   "source": [
    "import scala.collection.parallel._\n",
    "val fdroidBase = File(\"/Users/shawnmeier/Documents/data/fdroid\")\n",
    "class DataSet(rootFile:File){\n",
    "    val rootSize = rootFile.toString.split(\"/\").size\n",
    "    val allApps = rootFile.list.toSet\n",
    "    val appPackages = allApps.map(v => v.toString.split(\"/\").last).toSet\n",
    "    val apkFilesPar = rootFile.glob(\"**/*.apk\").zipWithIndex.toList.par\n",
    "    val forkJoinPool = new java.util.concurrent.ForkJoinPool(8)\n",
    "    apkFilesPar.tasksupport = new ForkJoinTaskSupport(forkJoinPool)\n",
    "    val apkFiles = apkFilesPar.flatMap{a => \n",
    "            // Slow - filters out proguard apps\n",
    "//             val isProguard = Driver.detectProguard(a._1.toString)\n",
    "//             println(s\"index: ${a._2} apk: ${a._1} proguard: ${res}\")\n",
    "            val isProguard = false\n",
    "            if(isProguard) None else Some(a._1)\n",
    "        }.seq.toList\n",
    "    val apkGroups = \n",
    "        apkFiles.groupBy(f => appPackages.find(ad => \n",
    "                                               f.toString.split(\"/\")(rootSize) == ad.toString)\n",
    "                         .getOrElse(throw new IllegalStateException(f.toString)))\n",
    "\n",
    "    override def toString():String = {\n",
    "        \"\\n\" + \n",
    "        s\"number of app directories: ${allApps.size}\\n\" +\n",
    "        s\"number of distinct packages: ${appPackages.size}\\n\" +\n",
    "        s\"number of apk files: ${apkFiles.size}\\n\" +\n",
    "        s\"distinct apps with apks: ${apkGroups.size}\\n\"\n",
    "    }\n",
    "    /**\n",
    "    * Return a list of apps that contain APK files\n",
    "    */\n",
    "    def getApps():List[String] = apkGroups.keySet.toList\n",
    "    def apksForApp(app:String):List[File] = apkGroups(app)\n",
    "    def getAppsWithNoApk():List[String] = \n",
    "        appPackages.filter(a => !apkGroups.contains(a.toString)).toList\n",
    "    def nRandomApps(n:Integer):List[String] = {\n",
    "        Random.setSeed(23L)\n",
    "        val sh = Random.shuffle(apkGroups.keySet.toList)\n",
    "        sh.take(n).toList\n",
    "    }\n",
    "}\n",
    "val fdroidData = new DataSet(fdroidBase)"
   ]
  },
  {
   "cell_type": "code",
   "execution_count": 4,
   "metadata": {},
   "outputs": [
    {
     "data": {
      "text/plain": [
       "\u001b[36mexpDir\u001b[39m: \u001b[32mFile\u001b[39m = /Users/shawnmeier/Documents/source/bounder/experiments/fdroid_subset_10\n",
       "defined \u001b[32mfunction\u001b[39m \u001b[36mpkgAndBaseToApk\u001b[39m\n",
       "defined \u001b[32mfunction\u001b[39m \u001b[36mwriteSample\u001b[39m"
      ]
     },
     "execution_count": 4,
     "metadata": {},
     "output_type": "execute_result"
    }
   ],
   "source": [
    "// Randomly sample a set of apps with defined APK files\n",
    "// Not currently used, manually grabbed 5 non-proguard apps\n",
    "val expDir = File(\n",
    "    \"/Users/shawnmeier/Documents/source/bounder/experiments/fdroid_subset_10\")\n",
    "\n",
    "def pkgAndBaseToApk(pkg:String, base:File):File = {\n",
    "    val apkFiles = (fdroidBase / pkg).glob(\"**/*.apk\").toList\n",
    "    assert(apkFiles.size == 1, s\"apk for ${pkg} not found\")\n",
    "    apkFiles.head\n",
    "}\n",
    "def writeSample() = {\n",
    "    val sample = fdroidData.nRandomApps(20).flatMap{ s => \n",
    "            val apkPath = pkgAndBaseToApk(s, fdroidBase).toString\n",
    "            if(!Driver.detectProguard(apkPath)){Some(apkPath + \":\" + s)} else None\n",
    "        }.take(10)\n",
    "    val experimentDir = expDir\n",
    "    val appSample: File = experimentDir / \"appSample.txt\"\n",
    "    println(appSample)\n",
    "    appSample.createFile().append(sample.mkString(\"\\n\"))\n",
    "}\n",
    "//writeSample() // uncomment to run"
   ]
  },
  {
   "cell_type": "code",
   "execution_count": 6,
   "metadata": {},
   "outputs": [
    {
     "name": "stdout",
     "output_type": "stream",
     "text": [
      "action: Action(SampleDeref,Some(/Users/shawnmeier/Documents/source/bounder/experiments/fdroid_subset_10),Some(/Users/shawnmeier/Documents/data/fdroid),RunConfig(${baseDir}/com.serwylo.lexica/0.12.0/apk/com.serwylo.lexica_1200.apk,Some(${baseDirOut}/com.serwylo.lexica),None,TopSpecSet,List(),120,3))\n",
      "action: Action(SampleDeref,Some(/Users/shawnmeier/Documents/source/bounder/experiments/fdroid_subset_10),Some(/Users/shawnmeier/Documents/data/fdroid),RunConfig(${baseDir}/org.ligi.etheremote/0.2/apk/org.ligi.etheremote_2.apk,Some(${baseDirOut}/org.ligi.etheremote),None,TopSpecSet,List(),120,3))\n",
      "action: Action(SampleDeref,Some(/Users/shawnmeier/Documents/source/bounder/experiments/fdroid_subset_10),Some(/Users/shawnmeier/Documents/data/fdroid),RunConfig(${baseDir}/rino.org.tethercompanion/0.2/apk/rino.org.tethercompanion_2.apk,Some(${baseDirOut}/rino.org.tethercompanion),None,TopSpecSet,List(),120,3))\n",
      "action: Action(SampleDeref,Some(/Users/shawnmeier/Documents/source/bounder/experiments/fdroid_subset_10),Some(/Users/shawnmeier/Documents/data/fdroid),RunConfig(${baseDir}/com.vadimfrolov.duorem/1.1.3/apk/com.vadimfrolov.duorem_5.apk,Some(${baseDirOut}/com.vadimfrolov.duorem),None,TopSpecSet,List(),120,3))\n",
      "action: Action(SampleDeref,Some(/Users/shawnmeier/Documents/source/bounder/experiments/fdroid_subset_10),Some(/Users/shawnmeier/Documents/data/fdroid),RunConfig(${baseDir}/itkach.aard2/0.43/apk/itkach.aard2_43.apk,Some(${baseDirOut}/itkach.aard2),None,TopSpecSet,List(),120,3))\n",
      "action: Action(SampleDeref,Some(/Users/shawnmeier/Documents/source/bounder/experiments/fdroid_subset_10),Some(/Users/shawnmeier/Documents/data/fdroid),RunConfig(${baseDir}/org.bc_bd.mrwhite/1.1/apk/org.bc_bd.mrwhite_2.apk,Some(${baseDirOut}/org.bc_bd.mrwhite),None,TopSpecSet,List(),120,3))\n",
      "action: Action(SampleDeref,Some(/Users/shawnmeier/Documents/source/bounder/experiments/fdroid_subset_10),Some(/Users/shawnmeier/Documents/data/fdroid),RunConfig(${baseDir}/org.horaapps.leafpic/v0.6-beta-1/apk/org.horaapps.leafpic_13.apk,Some(${baseDirOut}/org.horaapps.leafpic),None,TopSpecSet,List(),120,3))\n",
      "action: Action(SampleDeref,Some(/Users/shawnmeier/Documents/source/bounder/experiments/fdroid_subset_10),Some(/Users/shawnmeier/Documents/data/fdroid),RunConfig(${baseDir}/com.gpl.rpg.AndorsTrail/0.7.5/apk/com.gpl.rpg.AndorsTrail_46.apk,Some(${baseDirOut}/com.gpl.rpg.AndorsTrail),None,TopSpecSet,List(),120,3))\n",
      "action: Action(SampleDeref,Some(/Users/shawnmeier/Documents/source/bounder/experiments/fdroid_subset_10),Some(/Users/shawnmeier/Documents/data/fdroid),RunConfig(${baseDir}/com.teamdc.stephendiniz.autoaway/1.3.0/apk/com.teamdc.stephendiniz.autoaway_24.apk,Some(${baseDirOut}/com.teamdc.stephendiniz.autoaway),None,TopSpecSet,List(),120,3))\n",
      "action: Action(SampleDeref,Some(/Users/shawnmeier/Documents/source/bounder/experiments/fdroid_subset_10),Some(/Users/shawnmeier/Documents/data/fdroid),RunConfig(${baseDir}/com.mridang.throttle/1.1/apk/com.mridang.throttle_2.apk,Some(${baseDirOut}/com.mridang.throttle),None,TopSpecSet,List(),120,3))\n"
     ]
    },
    {
     "data": {
      "text/plain": [
       "defined \u001b[32mfunction\u001b[39m \u001b[36mcreateSamplesFromList\u001b[39m"
      ]
     },
     "execution_count": 6,
     "metadata": {},
     "output_type": "execute_result"
    }
   ],
   "source": [
    "// From list of app packages, \"appSample.txt\" create json configs to run verifier\n",
    "def createSamplesFromList():Unit = {\n",
    "    val mode = Driver.SampleDeref\n",
    "    val baseConfig = RunConfig(limit = 120, samples = 3)\n",
    "    case class ApkSample(apk:String, pkg:String, outDir:File)\n",
    "    val apkSamples = (expDir / \"appSample.txt\")\n",
    "        .contentAsString\n",
    "        .split(\"\\n\")map{v => \n",
    "            val pkg = v.split(\":\")(1)\n",
    "            val apk = v.split(\":\")(0)\n",
    "            val apkDirCfg = apk.toString.replace(fdroidBase.toString,\"${baseDir}\")\n",
    "            val outDirCfg = \"${baseDirOut}/\" + pkg\n",
    "            val outDir = expDir / pkg\n",
    "            outDir.createIfNotExists(true)\n",
    "            Action(Driver.SampleDeref, Some(expDir.toString), Some(fdroidBase.toString),\n",
    "                   baseConfig.copy(apkPath=apkDirCfg, outFolder=Some(outDirCfg)))\n",
    "        }\n",
    "    apkSamples.foreach{action => \n",
    "        println(s\"action: ${action}\")\n",
    "        Driver.runAction(action)\n",
    "    }\n",
    "//     apkSamples.foreach{println}\n",
    "//     apkSamples.map{cfg => Driver.sampleDeref(cfg, cfg.apkPath, cfg.outFolder)}\n",
    "}\n",
    "createSamplesFromList()"
   ]
  },
  {
   "cell_type": "code",
   "execution_count": 7,
   "metadata": {},
   "outputs": [
    {
     "data": {
      "text/plain": [
       "\u001b[36mres6\u001b[39m: \u001b[32mInt\u001b[39m = \u001b[32m10\u001b[39m"
      ]
     },
     "execution_count": 7,
     "metadata": {},
     "output_type": "execute_result"
    }
   ],
   "source": [
    "// count experiment json files\n",
    "expDir.glob(\"**/sample.json\").size"
   ]
  },
  {
   "cell_type": "code",
   "execution_count": 14,
   "metadata": {
    "scrolled": true
   },
   "outputs": [
    {
     "name": "stdout",
     "output_type": "stream",
     "text": [
      "Running experiment: org.horaapps.leafpic/sample.json\n",
      "Running experiment: com.serwylo.lexica/sample.json\n",
      "Running experiment: com.teamdc.stephendiniz.autoaway/sample.json\n",
      "Running experiment: org.bc_bd.mrwhite/sample.json\n",
      "Running experiment: com.mridang.throttle/sample.json\n",
      "Running experiment: itkach.aard2/sample.json\n",
      "Running experiment: com.gpl.rpg.AndorsTrail/sample.json\n",
      "Running experiment: org.ligi.etheremote/sample.json\n",
      "Running experiment: rino.org.tethercompanion/sample.json\n",
      "Running experiment: com.vadimfrolov.duorem/sample.json\n",
      "Running experiment: org.bc_bd.mrwhite/sample.json\n",
      "Running experiment: com.mridang.throttle/sample.json\n",
      "Running experiment: com.teamdc.stephendiniz.autoaway/sample.json\n",
      "Running experiment: rino.org.tethercompanion/sample.json\n",
      "Running experiment: com.serwylo.lexica/sample.json\n",
      "Running experiment: com.gpl.rpg.AndorsTrail/sample.json\n",
      "Running experiment: com.vadimfrolov.duorem/sample.json\n",
      "Running experiment: org.ligi.etheremote/sample.json\n",
      "Running experiment: itkach.aard2/sample.json\n",
      "Running experiment: org.horaapps.leafpic/sample.json\n"
     ]
    },
    {
     "data": {
      "text/plain": [
       "defined \u001b[32mfunction\u001b[39m \u001b[36mrunExperiments\u001b[39m"
      ]
     },
     "execution_count": 14,
     "metadata": {},
     "output_type": "execute_result"
    }
   ],
   "source": [
    "// Run experiments\n",
    "def runExperiments():Unit = {\n",
    "    val experiments = Random.shuffle(expDir.glob(\"**/sample.json\").toList)\n",
    "    \n",
    "    val experimentsPar = experiments.par\n",
    "    val forkJoinPool = new java.util.concurrent.ForkJoinPool(10)\n",
    "    experimentsPar.tasksupport = new ForkJoinTaskSupport(forkJoinPool)\n",
    "    experimentsPar.foreach{cfg => \n",
    "    // val cfg = \"/Users/shawnmeier/Documents/source/bounder/experiments/fdroid_subset_5/com.ridgelineapps.resdicegame/sample0.json\"\n",
    "        val runCFG = read[RunConfig](cfg.contentAsString)\n",
    "        println(s\"Running experiment: ${cfg.toString.split(\"/\").takeRight(2).mkString(\"/\")}\")\n",
    "        val runDir = File(runCFG.outFolder.get.replace(\"${baseDirOut}\",expDir.toString))\n",
    "        runDir.createIfNotExists(true)\n",
    "        val stdoutF = runDir / \"stdout.txt\"\n",
    "        val stderrF = runDir / \"stderr.txt\"\n",
    "        val p = Process(s\"java -jar ${path} -m verify -c $cfg -b ${fdroidBase.toString} -u ${expDir.toString}\",\n",
    "                        runDir.toJava,\n",
    "                        \"DYLD_LIBRARY_PATH\"->\"/Users/shawnmeier/software/z3/build\")\n",
    "        p ! ProcessLogger(v => stdoutF.append(v + \"\\n\"),v => stderrF.append(v + \"\\n\"))\n",
    "        println(s\"Running experiment: ${cfg.toString.split(\"/\").takeRight(2).mkString(\"/\")}\")\n",
    "\n",
    "    }\n",
    "}\n",
    "runExperiments()"
   ]
  },
  {
   "cell_type": "code",
   "execution_count": 9,
   "metadata": {},
   "outputs": [
    {
     "name": "stdout",
     "output_type": "stream",
     "text": [
      "/Users/shawnmeier/Documents/source/bounder/experiments/fdroid_subset_10/com.gpl.rpg.AndorsTrail/sample.json\n",
      "/Users/shawnmeier/Documents/source/bounder/experiments/fdroid_subset_10/org.ligi.etheremote/sample.json\n",
      "/Users/shawnmeier/Documents/source/bounder/experiments/fdroid_subset_10/com.teamdc.stephendiniz.autoaway/sample.json\n",
      "/Users/shawnmeier/Documents/source/bounder/experiments/fdroid_subset_10/rino.org.tethercompanion/sample.json\n",
      "/Users/shawnmeier/Documents/source/bounder/experiments/fdroid_subset_10/org.bc_bd.mrwhite/sample.json\n",
      "/Users/shawnmeier/Documents/source/bounder/experiments/fdroid_subset_10/itkach.aard2/sample.json\n",
      "/Users/shawnmeier/Documents/source/bounder/experiments/fdroid_subset_10/com.mridang.throttle/sample.json\n",
      "/Users/shawnmeier/Documents/source/bounder/experiments/fdroid_subset_10/com.serwylo.lexica/sample.json\n",
      "/Users/shawnmeier/Documents/source/bounder/experiments/fdroid_subset_10/org.horaapps.leafpic/sample.json\n",
      "/Users/shawnmeier/Documents/source/bounder/experiments/fdroid_subset_10/com.vadimfrolov.duorem/sample.json\n"
     ]
    },
    {
     "data": {
      "text/plain": [
       "defined \u001b[32mfunction\u001b[39m \u001b[36mextractWitness\u001b[39m"
      ]
     },
     "execution_count": 9,
     "metadata": {},
     "output_type": "execute_result"
    }
   ],
   "source": [
    "// Extract witness files\n",
    "def extractWitness():Unit = {\n",
    "    val experiments = Random.shuffle(expDir.glob(\"**/sample*.json\").toList)\n",
    "    experiments.foreach{cfg =>\n",
    "        val runCFG = read[RunConfig](cfg.contentAsString)\n",
    "        val runDir = File(runCFG.outFolder.get)\n",
    "        println(s\"${cfg}\")\n",
    "        val stdoutF = runDir / \"stdoutextract.txt\"\n",
    "        val stderrF = runDir / \"stderrextract.txt\"\n",
    "        val p = Process(s\"java -jar ${path} -m readDB -c $cfg\",\n",
    "                        runDir.toJava,\n",
    "                        \"DYLD_LIBRARY_PATH\"->\"/Users/shawnmeier/software/z3/build\")\n",
    "        p ! ProcessLogger(v => stdoutF.append(v + \"\\n\"),v => stderrF.append(v + \"\\n\"))\n",
    "    }\n",
    "}\n",
    "//extractWitness()"
   ]
  },
  {
   "cell_type": "code",
   "execution_count": 13,
   "metadata": {},
   "outputs": [
    {
     "data": {
      "text/plain": [
       "defined \u001b[32mfunction\u001b[39m \u001b[36mdeleteResults\u001b[39m"
      ]
     },
     "execution_count": 13,
     "metadata": {},
     "output_type": "execute_result"
    }
   ],
   "source": [
    "// delete all results directories\n",
    "def deleteResults():Unit = {\n",
    "    val experiments = Random.shuffle(expDir.glob(\"**/sample.json\").toList)\n",
    "    experiments.map(v => v.toString.replace(\".json\",\"\")).foreach{v => File(v).delete()}\n",
    "}\n",
    "//deleteResults()"
   ]
  },
  {
   "cell_type": "markdown",
   "metadata": {},
   "source": [
    "Count Results of Verification With No Model\n",
    "-------------------------------------------"
   ]
  },
  {
   "cell_type": "code",
   "execution_count": 25,
   "metadata": {},
   "outputs": [
    {
     "name": "stdout",
     "output_type": "stream",
     "text": [
      "Unreachable\n",
      "-----------\n",
      "count: 2\n",
      "com.serwylo.lexica/sample/result_0.txt\n",
      "com.vadimfrolov.duorem/sample/result_2.txt\n",
      "Witnessed\n",
      "-----------\n",
      "count: 3\n",
      "org.ligi.etheremote/sample/result_0.txt\n",
      "com.gpl.rpg.AndorsTrail/sample/result_0.txt\n",
      "com.teamdc.stephendiniz.autoaway/sample/result_2.txt\n",
      "Proven\n",
      "-----------\n",
      "count: 11\n",
      "org.ligi.etheremote/sample/result_1.txt\n",
      "org.ligi.etheremote/sample/result_2.txt\n",
      "com.teamdc.stephendiniz.autoaway/sample/result_0.txt\n",
      "com.teamdc.stephendiniz.autoaway/sample/result_1.txt\n",
      "itkach.aard2/sample/result_0.txt\n",
      "itkach.aard2/sample/result_1.txt\n",
      "itkach.aard2/sample/result_2.txt\n",
      "com.serwylo.lexica/sample/result_1.txt\n",
      "com.serwylo.lexica/sample/result_2.txt\n",
      "com.vadimfrolov.duorem/sample/result_0.txt\n",
      "com.vadimfrolov.duorem/sample/result_1.txt\n",
      "Timeout\n",
      "-----------\n",
      "count: 2\n",
      "com.gpl.rpg.AndorsTrail/sample/result_1.txt\n",
      "com.gpl.rpg.AndorsTrail/sample/result_2.txt\n"
     ]
    },
    {
     "data": {
      "text/plain": [
       "defined \u001b[32mfunction\u001b[39m \u001b[36minterpResFile\u001b[39m\n",
       "defined \u001b[32mfunction\u001b[39m \u001b[36mcountResults\u001b[39m"
      ]
     },
     "execution_count": 25,
     "metadata": {},
     "output_type": "execute_result"
    }
   ],
   "source": [
    "def interpResFile(resFile:File):String = {\n",
    "    resFile.contentAsString.reverse.takeWhile(_!='}').reverse\n",
    "}\n",
    "def countResults(){\n",
    "    val allResults = expDir.glob(\"**/result*.txt\").toList\n",
    "        .groupBy(interpResFile)\n",
    "    val allResultsCount = expDir.glob(\"**/result*.txt\").toList.groupBy(interpResFile).map{\n",
    "        case (k,v) => \n",
    "            (k -> v.size)\n",
    "    }\n",
    "    allResults.foreach{case (k,v) => \n",
    "        println(k)\n",
    "        println(\"-----------\")\n",
    "        println(s\"count: ${v.size}\")\n",
    "        v.foreach{v => println(v.toString.split(\"/\").takeRight(3).mkString(\"/\"))}\n",
    "    }\n",
    "}\n",
    "countResults()"
   ]
  },
  {
   "cell_type": "code",
   "execution_count": null,
   "metadata": {},
   "outputs": [],
   "source": [
    "// disjunction"
   ]
  },
  {
   "cell_type": "markdown",
   "metadata": {},
   "source": [
    "Overall process\n",
    "\n",
    " - set of apps\n",
    "     - set of all dereference\n",
    "     - smallest spec to remove the most alarms\n",
    " - rq: The set of specs to prove a given location are \"small\"\n",
    "     - spec: \"small\" means that few callbacks and callins are mentioned in the specification\n",
    "     - search: we visit a small number of callbacks\n",
    "     - trace abstraction: is small \n",
    "     - thresher hypothesis: materialized heap cells at any given location is small\n",
    " - 1. Number of dereferneces that we can prove with no fwk model - filter trival ones\n",
    " - 2. we develop a specifiction to address most of the alarms\n",
    " - plot cumulative distribution - x axis is number of specs, y total number of alarms\n",
    " - plot: average number of specs actually used by the verifier to prove a location\n",
    " - spec is not vacuous:\n",
    "     - are callbacks reachable?\n",
    "     - Is spec trivially unsound? (i.e. no traces are accepted)\n",
    "\n",
    "\n",
    "\n",
    "Unreachable\n",
    "-----------\n",
    "org.ligi.etheremote/sample2/result.txt - kotlin library actually unreachable\n",
    "org.ligi.etheremote/sample0/result.txt - library method\n",
    "net.khertan.forrunners/sample1/result.txt - library method\n",
    "Witnessed\n",
    "-----------\n",
    "net.khertan.forrunners/sample2/result.txt - (library) TODO: false alarm, handle literal read `r1 = \"\"; r1.toString`\n",
    "de.sigfood/sample3/result.txt - TODO: witness on entering internal method\n",
    "de.sigfood/sample0/result.txt - (library) TODO: false alarm, @this cannot be null.\n",
    "Proven\n",
    "-----------\n",
    "org.ligi.etheremote/sample3/result.txt - \"this.something\"\n",
    "net.khertan.forrunners/sample0/result.txt - \"this.something\"\n",
    "de.sigfood/sample2/result.txt - (library) test if null before dereference\n",
    "de.sigfood/sample1/result.txt - (library) test if null before dereference\n",
    "com.ridgelineapps.resdicegame/sample0/result.txt - \"this.something\"\n",
    "Timeout\n",
    "-----------\n",
    "org.vudroid/sample1/result.txt - probably proven with simple spec:\n",
    "    - I(ci v.setOnItemClickListener(l)) <= cb l.onItemClick()\n",
    "    - TODO: why don't we find the `<init>` where `files` field is null? \n",
    "com.ridgelineapps.resdicegame/sample1/result.txt\n",
    "    - I(ci _.setPositiveButton(_,l)) <= cb l.onClick()\n",
    "    - false <= l.onClick() - avoid these by saying \"callback needs to be reachable\"\n",
    "    - \"vacuous checks\"\n",
    "Error\n",
    "-----------\n",
    "org.ligi.etheremote/sample1/stderr.txt - soot unit graph bug - in lib\n",
    "org.vudroid/sample0/stderr.txt - soot unit graph bug\n",
    "org.vudroid/sample2/stderr.txt \n",
    "    - unsupported instruction `f0 cmpl 0.0F`\n",
    "org.vudroid/sample3/stderr.txt \n",
    "    - unsupported instruction `f0 cmpl 0.0F`\n",
    "net.khertan.forrunners/sample3/stderr.txt - soot unit graph bug\n",
    "com.ridgelineapps.resdicegame/sample2/stderr.txt - soot unit graph bug\n",
    "com.ridgelineapps.resdicegame/sample3/stderr.txt \n",
    "    - unsupported instruction `ArrayReference(r4,i4) := IntConst(1);`\n",
    "\n",
    "Notes\n",
    "-----\n",
    " - Need better definition of app/library code, most of the samples above are in libraries (all 3 unreachable)\n",
    " - Should exclude trivial things like `this.toString()` from sampling \n",
    " - Fix a couple bugs\n",
    "     - Read string literal should always be non-null\n",
    "     - corner case where initial state is found when reaching the entry of an internal method\n",
    "     - Missing instructions\n",
    "     - Weird bug in soot unit graph\n",
    "     \n",
    " - justify discarding apps\n",
    "     - discard progard"
   ]
  },
  {
   "cell_type": "markdown",
   "metadata": {},
   "source": [
    "Analysis of Errors\n",
    "---------------------"
   ]
  },
  {
   "cell_type": "code",
   "execution_count": 26,
   "metadata": {},
   "outputs": [
    {
     "name": "stdout",
     "output_type": "stream",
     "text": [
      "no error: 5\n",
      "error: 4\n",
      "org.horaapps.leafpic/sample/stderr.txt\n",
      "rino.org.tethercompanion/sample/stderr.txt\n",
      "com.mridang.throttle/sample/stderr.txt\n",
      "org.bc_bd.mrwhite/sample/stderr.txt\n",
      "\n",
      "/Users/shawnmeier/Documents/source/bounder/experiments/fdroid_subset_10/org.horaapps.leafpic/sample/stderr.txt\n",
      "----\n",
      "[main] WARN slick.util.AsyncExecutor - Having maxConnection > maxThreads can result in deadlocks if transactions or database locks are used.\n",
      "[main] WARN slick.util.AsyncExecutor - Having maxConnection > maxThreads can result in deadlocks if transactions or database locks are used.\n",
      "Exception in thread \"main\" java.lang.IllegalStateException: Malformed invoke command $r3 := NewCommand(com.koushikdutta.async.http.AsyncHttpRequest);\n",
      "\tat edu.colorado.plv.bounder.symbolicexecutor.TransferFunctions.transfer(TransferFunctions.scala:250)\n",
      "\tat edu.colorado.plv.bounder.symbolicexecutor.SymbolicExecutor.$anonfun$executeStep$1(SymbolicExecutor.scala:365)\n",
      "\tat scala.collection.parallel.AugmentedIterableIterator.flatmap2combiner(RemainsIterator.scala:123)\n",
      "\tat scala.collection.parallel.AugmentedIterableIterator.flatmap2combiner$(RemainsIterator.scala:121)\n",
      "\tat scala.collection.parallel.immutable.ParVector$ParVectorIterator.flatmap2combiner(ParVector.scala:70)\n",
      "\tat scala.collection.parallel.ParIterableLike$FlatMap.leaf(ParIterableLike.scala:1024)\n",
      "\tat scala.collection.parallel.Task.$anonfun$tryLeaf$1(Tasks.scala:52)\n",
      "\tat scala.runtime.java8.JFunction0$mcV$sp.apply(JFunction0$mcV$sp.scala:18)\n",
      "\tat scala.util.control.Breaks$$anon$1.catchBreak(Breaks.scala:67)\n",
      "\tat scala.collection.parallel.Task.tryLeaf(Tasks.scala:55)\n",
      "\tat scala.collection.parallel.Task.tryLeaf$(Tasks.scala:49)\n",
      "\tat scala.collection.parallel.ParIterableLike$FlatMap.tryLeaf(ParIterableLike.scala:1020)\n",
      "\tat scala.collection.parallel.AdaptiveWorkStealingTasks$AWSTWrappedTask.internal(Tasks.scala:159)\n",
      "\tat scala.collection.parallel.AdaptiveWorkStealingTasks$AWSTWrappedTask.internal$(Tasks.scala:156)\n",
      "\tat scala.collection.parallel.AdaptiveWorkStealingForkJoinTasks$AWSFJTWrappedTask.internal(Tasks.scala:304)\n",
      "\tat scala.collection.parallel.AdaptiveWorkStealingTasks$AWSTWrappedTask.compute(Tasks.scala:149)\n",
      "\tat scala.collection.parallel.AdaptiveWorkStealingTasks$AWSTWrappedTask.compute$(Tasks.scala:148)\n",
      "\tat scala.collection.parallel.AdaptiveWorkStealingForkJoinTasks$AWSFJTWrappedTask.compute(Tasks.scala:304)\n",
      "\tat java.util.concurrent.RecursiveAction.exec(RecursiveAction.java:189)\n",
      "\tat java.util.concurrent.ForkJoinTask.doExec(ForkJoinTask.java:289)\n",
      "\tat java.util.concurrent.ForkJoinPool$WorkQueue.runTask(ForkJoinPool.java:1056)\n",
      "\tat java.util.concurrent.ForkJoinPool.runWorker(ForkJoinPool.java:1692)\n",
      "\tat java.util.concurrent.ForkJoinWorkerThread.run(ForkJoinWorkerThread.java:157)\n",
      "\tSuppressed: java.lang.IllegalStateException: Malformed invoke command $z0 := StaticFieldReference(com.koushikdutta.async.http.AsyncHttpRequest,$assertionsDisabled,boolean);\n",
      "\t\tat edu.colorado.plv.bounder.symbolicexecutor.TransferFunctions.transfer(TransferFunctions.scala:250)\n",
      "\t\tat edu.colorado.plv.bounder.symbolicexecutor.SymbolicExecutor.$anonfun$executeStep$1(SymbolicExecutor.scala:365)\n",
      "\t\tat scala.collection.parallel.AugmentedIterableIterator.flatmap2combiner(RemainsIterator.scala:123)\n",
      "\t\tat scala.collection.parallel.AugmentedIterableIterator.flatmap2combiner$(RemainsIterator.scala:121)\n",
      "\t\tat scala.collection.parallel.immutable.ParVector$ParVectorIterator.flatmap2combiner(ParVector.scala:70)\n",
      "\t\tat scala.collection.parallel.ParIterableLike$FlatMap.leaf(ParIterableLike.scala:1024)\n",
      "\t\tat scala.collection.parallel.Task.$anonfun$tryLeaf$1(Tasks.scala:52)\n",
      "\t\tat scala.runtime.java8.JFunction0$mcV$sp.apply(JFunction0$mcV$sp.scala:18)\n",
      "\t\tat scala.util.control.Breaks$$anon$1.catchBreak(Breaks.scala:67)\n",
      "\t\tat scala.collection.parallel.Task.tryLeaf(Tasks.scala:55)\n",
      "\t\tat scala.collection.parallel.Task.tryLeaf$(Tasks.scala:49)\n",
      "\t\tat scala.collection.parallel.ParIterableLike$FlatMap.tryLeaf(ParIterableLike.scala:1020)\n",
      "\t\tat scala.collection.parallel.AdaptiveWorkStealingTasks$AWSTWrappedTask.compute(Tasks.scala:152)\n",
      "\t\t... 7 more\n",
      "\tSuppressed: java.lang.IllegalStateException: Malformed invoke command r4 := NewCommand(com.koushikdutta.async.http.AsyncHttpRequest);\n",
      "\t\t... 23 more\n",
      "\t\tSuppressed: java.lang.IllegalStateException: Malformed invoke command StaticFieldReference(com.koushikdutta.async.http.AsyncHttpRequest,$assertionsDisabled,boolean) := $z0;\n",
      "\t\t\tat edu.colorado.plv.bounder.symbolicexecutor.TransferFunctions.transfer(TransferFunctions.scala:250)\n",
      "\t\t\tat edu.colorado.plv.bounder.symbolicexecutor.SymbolicExecutor.$anonfun$executeStep$1(SymbolicExecutor.scala:365)\n",
      "\t\t\tat scala.collection.parallel.AugmentedIterableIterator.flatmap2combiner(RemainsIterator.scala:123)\n",
      "\t\t\tat scala.collection.parallel.AugmentedIterableIterator.flatmap2combiner$(RemainsIterator.scala:121)\n",
      "\t\t\tat scala.collection.parallel.immutable.ParVector$ParVectorIterator.flatmap2combiner(ParVector.scala:70)\n",
      "\t\t\tat scala.collection.parallel.ParIterableLike$FlatMap.leaf(ParIterableLike.scala:1024)\n",
      "\t\t\tat scala.collection.parallel.Task.$anonfun$tryLeaf$1(Tasks.scala:52)\n",
      "\t\t\tat scala.runtime.java8.JFunction0$mcV$sp.apply(JFunction0$mcV$sp.scala:18)\n",
      "\t\t\tat scala.util.control.Breaks$$anon$1.catchBreak(Breaks.scala:67)\n",
      "\t\t\tat scala.collection.parallel.Task.tryLeaf(Tasks.scala:55)\n",
      "\t\t\tat scala.collection.parallel.Task.tryLeaf$(Tasks.scala:49)\n",
      "\t\t\tat scala.collection.parallel.ParIterableLike$FlatMap.tryLeaf(ParIterableLike.scala:1020)\n",
      "\t\t\tat scala.collection.parallel.AdaptiveWorkStealingTasks$AWSTWrappedTask.compute(Tasks.scala:152)\n",
      "\t\t\t... 7 more\n",
      "\n",
      "\n",
      "/Users/shawnmeier/Documents/source/bounder/experiments/fdroid_subset_10/rino.org.tethercompanion/sample/stderr.txt\n",
      "----\n",
      "[main] WARN slick.util.AsyncExecutor - Having maxConnection > maxThreads can result in deadlocks if transactions or database locks are used.\n",
      "[main] WARN slick.util.AsyncExecutor - Having maxConnection > maxThreads can result in deadlocks if transactions or database locks are used.\n",
      "Exception in thread \"main\" scala.NotImplementedError: an implementation is missing\n",
      "\tat scala.Predef$.$qmark$qmark$qmark(Predef.scala:347)\n",
      "\tat edu.colorado.plv.bounder.symbolicexecutor.state.Qry$.makeReceiverNonNull(Qry.scala:94)\n",
      "\tat edu.colorado.plv.bounder.symbolicexecutor.state.ReceiverNonNull.make(Qry.scala:161)\n",
      "\tat edu.colorado.plv.bounder.Driver$.$anonfun$runAnalysis$2(Driver.scala:277)\n",
      "\tat scala.collection.immutable.List.map(List.scala:219)\n",
      "\tat edu.colorado.plv.bounder.Driver$.runAnalysis(Driver.scala:276)\n",
      "\tat edu.colorado.plv.bounder.Driver$.runAction(Driver.scala:168)\n",
      "\tat edu.colorado.plv.bounder.Driver$.main(Driver.scala:132)\n",
      "\tat edu.colorado.plv.bounder.Driver.main(Driver.scala)\n",
      "\n",
      "\n",
      "/Users/shawnmeier/Documents/source/bounder/experiments/fdroid_subset_10/com.mridang.throttle/sample/stderr.txt\n",
      "----\n",
      "[main] WARN slick.util.AsyncExecutor - Having maxConnection > maxThreads can result in deadlocks if transactions or database locks are used.\n",
      "[main] WARN slick.util.AsyncExecutor - Having maxConnection > maxThreads can result in deadlocks if transactions or database locks are used.\n",
      "Exception in thread \"main\" scala.NotImplementedError: an implementation is missing\n",
      "\tat scala.Predef$.$qmark$qmark$qmark(Predef.scala:347)\n",
      "\tat edu.colorado.plv.bounder.symbolicexecutor.state.Qry$.makeReceiverNonNull(Qry.scala:94)\n",
      "\tat edu.colorado.plv.bounder.symbolicexecutor.state.ReceiverNonNull.make(Qry.scala:161)\n",
      "\tat edu.colorado.plv.bounder.Driver$.$anonfun$runAnalysis$2(Driver.scala:277)\n",
      "\tat scala.collection.immutable.List.map(List.scala:223)\n",
      "\tat edu.colorado.plv.bounder.Driver$.runAnalysis(Driver.scala:276)\n",
      "\tat edu.colorado.plv.bounder.Driver$.runAction(Driver.scala:168)\n",
      "\tat edu.colorado.plv.bounder.Driver$.main(Driver.scala:132)\n",
      "\tat edu.colorado.plv.bounder.Driver.main(Driver.scala)\n",
      "\n",
      "\n",
      "/Users/shawnmeier/Documents/source/bounder/experiments/fdroid_subset_10/org.bc_bd.mrwhite/sample/stderr.txt\n",
      "----\n",
      "[main] WARN slick.util.AsyncExecutor - Having maxConnection > maxThreads can result in deadlocks if transactions or database locks are used.\n",
      "[main] WARN slick.util.AsyncExecutor - Having maxConnection > maxThreads can result in deadlocks if transactions or database locks are used.\n",
      "Exception in thread \"main\" scala.NotImplementedError: an implementation is missing\n",
      "\tat scala.Predef$.$qmark$qmark$qmark(Predef.scala:347)\n",
      "\tat edu.colorado.plv.bounder.symbolicexecutor.state.Qry$.makeReceiverNonNull(Qry.scala:94)\n",
      "\tat edu.colorado.plv.bounder.symbolicexecutor.state.ReceiverNonNull.make(Qry.scala:161)\n",
      "\tat edu.colorado.plv.bounder.Driver$.$anonfun$runAnalysis$2(Driver.scala:277)\n",
      "\tat scala.collection.immutable.List.map(List.scala:223)\n",
      "\tat edu.colorado.plv.bounder.Driver$.runAnalysis(Driver.scala:276)\n",
      "\tat edu.colorado.plv.bounder.Driver$.runAction(Driver.scala:168)\n",
      "\tat edu.colorado.plv.bounder.Driver$.main(Driver.scala:132)\n",
      "\tat edu.colorado.plv.bounder.Driver.main(Driver.scala)\n"
     ]
    },
    {
     "name": "stdout",
     "output_type": "stream",
     "text": [
      "\n"
     ]
    },
    {
     "data": {
      "text/plain": [
       "defined \u001b[32mfunction\u001b[39m \u001b[36mprintErrStats\u001b[39m"
      ]
     },
     "execution_count": 26,
     "metadata": {},
     "output_type": "execute_result"
    }
   ],
   "source": [
    "def printErrStats():Unit = {\n",
    "    val exn = expDir.glob(\"**/stderr.txt\").toList\n",
    "        .groupBy(e => e.contentAsString.contains(\"Exception in\"))\n",
    "    val errors = exn.getOrElse(true,Set())\n",
    "    val noErrors = exn.getOrElse(false,Set())\n",
    "    println(s\"no error: ${noErrors.size}\")\n",
    "    println(s\"error: ${errors.size}\")\n",
    "\n",
    "    \n",
    "    errors.foreach{e =>\n",
    "        println(e.toString.split(\"/\").takeRight(3).mkString(\"/\"))\n",
    "    }\n",
    "    \n",
    "    errors.foreach{e => \n",
    "        println()\n",
    "        println(e)\n",
    "        println(\"----\")\n",
    "        println(e.contentAsString)\n",
    "    }\n",
    "}\n",
    "printErrStats()"
   ]
  },
  {
   "cell_type": "markdown",
   "metadata": {},
   "source": [
    "Diagnose failures"
   ]
  },
  {
   "cell_type": "code",
   "execution_count": null,
   "metadata": {},
   "outputs": [],
   "source": [
    "val cfg = File(\"/Users/shawnmeier/Documents/source/bounder/experiments/fdroid_subset_5/com.ridgelineapps.resdicegame/sample3.json\")\n",
    "val runCFG = read[RunConfig](cfg.contentAsString)\n",
    "//<com.fasterxml.jackson.databind.deser.BuilderBasedDeserializer: java.lang.Object _deserializeUsingPropertyBased(com.fasterxml.jackson.core.JsonParser,com.fasterxml.jackson.databind.DeserializationContext)>\n",
    "//Driver.readDB(runCFG)"
   ]
  },
  {
   "cell_type": "markdown",
   "metadata": {},
   "source": [
    "Non termination analysis\n",
    "-----------------------------"
   ]
  },
  {
   "cell_type": "code",
   "execution_count": null,
   "metadata": {},
   "outputs": [],
   "source": [
    "import edu.colorado.plv.bounder.symbolicexecutor.state.DBOutputMode\n",
    "def statesAtIf() = {\n",
    "    val base = \"/Users/shawnmeier/Documents/source/bounder/experiments/fdroid_subset_5/org.vudroid/sample2/\"\n",
    "    val db = DBOutputMode(s\"${base}/paths.db\")\n",
    "    val stateMap = db.statesAtLoc(\"%isPre%true%\")\n",
    "    val f = File(base) / \"statesAtLoc.txt\"\n",
    "    if(f.exists()) f.delete()\n",
    "    val locWithMultipleStates = stateMap.filter{case (_,v) => v.size > 1}\n",
    "        .toList.sortBy(v => v._2.size).reverse\n",
    "        \n",
    "    println(locWithMultipleStates.size)\n",
    "    locWithMultipleStates.foreach{case (loc,stateset) =>\n",
    "            f.append(\"\\n\")\n",
    "            f.append(loc.toString)\n",
    "            f.append(\"\\n---------\\n\")\n",
    "            stateset.foreach{state => f.append(state.toString + \"\\n\")}\n",
    "        }\n",
    "}\n",
    "statesAtIf()"
   ]
  },
  {
   "cell_type": "markdown",
   "metadata": {},
   "source": [
    "Top n apps on fdroid\n",
    "--------------------\n",
    "https://fdroid.gitlab.io/metrics/f-droid.org/2021-02-22.json"
   ]
  },
  {
   "cell_type": "code",
   "execution_count": null,
   "metadata": {},
   "outputs": [],
   "source": [
    "val stdout = new StringBuilder\n",
    "val stderr = new StringBuilder\n",
    "val p = Process(s\"ls\",\n",
    "                File(\"/Users/shawnmeier/\").toJava,\n",
    "                \"DYLD_LIBRARY_PATH\"->\"/Users/shawnmeier/software/z3/build\")\n",
    "p ! ProcessLogger(v => stdout.append(v + \"\\n\"),v => stderr.append(v + \"\\n\"))\n",
    "println(s\"stdout: ${stdout.toString}\")\n",
    "println(s\"stderr: ${stderr.toString}\")"
   ]
  },
  {
   "cell_type": "markdown",
   "metadata": {},
   "source": [
    "Other issues to check out\n",
    "------------------------------\n",
    "\n",
    "https://github.com/AntennaPod/AntennaPod/issues/4914"
   ]
  },
  {
   "cell_type": "code",
   "execution_count": null,
   "metadata": {},
   "outputs": [],
   "source": [
    "Map(1->Set(1,2),2->Set(1,2,3),3->Set(1)).toList.sortBy(v => v._2.size).reverse"
   ]
  },
  {
   "cell_type": "code",
   "execution_count": null,
   "metadata": {},
   "outputs": [],
   "source": [
    "import scala.util.Sorting\n",
    "\n",
    "object ReverseOrdering extends Ordering[Int]{\n",
    "    // return positive if a should be first\n",
    "    // return negative if b should be first\n",
    "    def compare(a:Int, b:Int) = b - a\n",
    "}\n",
    "\n",
    "val pq = collection.mutable.PriorityQueue(1, 2, 5, 3, 7)(ReverseOrdering)\n",
    "println(pq)\n",
    "println(pq.clone.dequeueAll)"
   ]
  },
  {
   "cell_type": "code",
   "execution_count": null,
   "metadata": {},
   "outputs": [],
   "source": [
    "pq.grouped(2).foreach{println}"
   ]
  },
  {
   "cell_type": "code",
   "execution_count": null,
   "metadata": {},
   "outputs": [],
   "source": [
    "pq.toList"
   ]
  },
  {
   "cell_type": "code",
   "execution_count": null,
   "metadata": {},
   "outputs": [],
   "source": [
    "pq"
   ]
  },
  {
   "cell_type": "code",
   "execution_count": null,
   "metadata": {},
   "outputs": [],
   "source": [
    "val a:Option[String] = Some(\"foo\")\n",
    "val b:Option[String] = None\n",
    "a ++ b"
   ]
  },
  {
   "cell_type": "code",
   "execution_count": null,
   "metadata": {},
   "outputs": [],
   "source": []
  }
 ],
 "metadata": {
  "kernelspec": {
   "display_name": "Scala",
   "language": "scala",
   "name": "scala"
  },
  "language_info": {
   "codemirror_mode": "text/x-scala",
   "file_extension": ".sc",
   "mimetype": "text/x-scala",
   "name": "scala",
   "nbconvert_exporter": "script",
   "version": "2.13.1"
  }
 },
 "nbformat": 4,
 "nbformat_minor": 4
}
