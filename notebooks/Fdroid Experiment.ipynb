{
 "cells": [
  {
   "cell_type": "code",
   "execution_count": 1,
   "metadata": {
    "scrolled": true
   },
   "outputs": [
    {
     "data": {
      "text/plain": [
       "\u001b[36mpath\u001b[39m: \u001b[32mString\u001b[39m = \u001b[32m\"/Users/shawnmeier/Documents/source/bounder/soot_hopper/target/scala-2.13/soot_hopper-assembly-0.1.jar\"\u001b[39m\n",
       "\u001b[32mimport \u001b[39m\u001b[36m$ivy.$                                          \n",
       "\u001b[39m\n",
       "\u001b[32mimport \u001b[39m\u001b[36m$ivy.$                             \n",
       "// import $ivy.`edu.colorado.plv.bounder:soot_hopper_2.13:0.1`\n",
       "\n",
       "\u001b[39m\n",
       "\u001b[32mimport \u001b[39m\u001b[36mplotly._, element._, layout._, Plotly._\n",
       "\u001b[39m\n",
       "\u001b[32mimport \u001b[39m\u001b[36mujson.Value\n",
       "\u001b[39m\n",
       "\u001b[32mimport \u001b[39m\u001b[36msys.process._\n",
       "\n",
       "\u001b[39m"
      ]
     },
     "execution_count": 1,
     "metadata": {},
     "output_type": "execute_result"
    }
   ],
   "source": [
    "val path = \"/Users/shawnmeier/Documents/source/bounder/soot_hopper/target/scala-2.13/soot_hopper-assembly-0.1.jar\"\n",
    "\n",
    "interp.load.cp(os.Path(path))\n",
    "\n",
    "import $ivy.`org.plotly-scala:plotly-almond_2.13:0.8.2`\n",
    "import $ivy.`com.lihaoyi:ujson_2.13:1.3.8`\n",
    "// import $ivy.`edu.colorado.plv.bounder:soot_hopper_2.13:0.1`\n",
    "\n",
    "import plotly._, element._, layout._, Plotly._\n",
    "import ujson.Value\n",
    "import sys.process._\n",
    "\n"
   ]
  },
  {
   "cell_type": "code",
   "execution_count": 2,
   "metadata": {},
   "outputs": [
    {
     "data": {
      "text/plain": [
       "\u001b[32mimport \u001b[39m\u001b[36m$ivy.$                                         \n",
       "\u001b[39m\n",
       "\u001b[32mimport \u001b[39m\u001b[36mbetter.files._\n",
       "\n",
       "\u001b[39m\n",
       "\u001b[32mimport \u001b[39m\u001b[36mscala.util.Random\n",
       "\u001b[39m\n",
       "\u001b[32mimport \u001b[39m\u001b[36medu.colorado.plv.bounder.Driver\n",
       "\u001b[39m\n",
       "\u001b[32mimport \u001b[39m\u001b[36medu.colorado.plv.bounder.RunConfig\n",
       "\u001b[39m\n",
       "\u001b[32mimport \u001b[39m\u001b[36mupickle.default.read\n",
       "\u001b[39m\n",
       "\u001b[32mimport \u001b[39m\u001b[36mscala.collection.parallel.CollectionConverters.{ImmutableSetIsParallelizable, IterableIsParallelizable}\u001b[39m"
      ]
     },
     "execution_count": 2,
     "metadata": {},
     "output_type": "execute_result"
    }
   ],
   "source": [
    "// interp.load.ivy(\"com.github.pathikrit\" %% \"better-files\" % \"3.9.1\")\n",
    "import $ivy.`com.github.pathikrit::better-files:3.9.1`\n",
    "import better.files._\n",
    "\n",
    "import scala.util.Random\n",
    "import edu.colorado.plv.bounder.Driver\n",
    "import edu.colorado.plv.bounder.RunConfig\n",
    "import upickle.default.read\n",
    "import scala.collection.parallel.CollectionConverters.{ImmutableSetIsParallelizable, IterableIsParallelizable}\n",
    "// TODO: configure thread pool: https://docs.scala-lang.org/overviews/parallel-collections/configuration.html"
   ]
  },
  {
   "cell_type": "markdown",
   "metadata": {},
   "source": [
    "Parse list of apps with APK files in the fdroid download folder\n",
    "------------------------------------------------------------------------\n",
    "\n",
    "Full data download: https://drive.google.com/file/d/1edtMA9Bt0g9rPf1gp34W1a9e-oUdINJd/view?usp=sharing"
   ]
  },
  {
   "cell_type": "code",
   "execution_count": 3,
   "metadata": {},
   "outputs": [
    {
     "data": {
      "text/plain": [
       "\u001b[36mfdroidBase\u001b[39m: \u001b[32mFile\u001b[39m = /Users/shawnmeier/Documents/data/fdroid\n",
       "defined \u001b[32mclass\u001b[39m \u001b[36mDataSet\u001b[39m\n",
       "\u001b[36mfdroidData\u001b[39m: \u001b[32mDataSet\u001b[39m = \n",
       "number of app directories: 1967\n",
       "number of distinct packages: 1967\n",
       "number of apk files: 1838\n",
       "distinct apps with apks: 1838\n"
      ]
     },
     "execution_count": 3,
     "metadata": {},
     "output_type": "execute_result"
    }
   ],
   "source": [
    "val fdroidBase = File(\"/Users/shawnmeier/Documents/data/fdroid\")\n",
    "class DataSet(rootFile:File){\n",
    "    val rootSize = rootFile.toString.split(\"/\").size\n",
    "    val allApps = rootFile.list.toSet\n",
    "    val appPackages = allApps.map(v => v.toString.split(\"/\").last).toSet\n",
    "    val apkFiles = rootFile.glob(\"**/*.apk\").zipWithIndex\n",
    "        .flatMap{a => \n",
    "            // Slow - filters out proguard apps\n",
    "//             val res = Driver.detectProguard(a._1.toString)\n",
    "//             println(s\"index: ${a._2} apk: ${a._1} proguard: ${res}\")\n",
    "            val isProguard = false\n",
    "            if(isProguard) None else Some(a._1)\n",
    "        }.toList\n",
    "    val apkGroups = \n",
    "        apkFiles.groupBy(f => appPackages.find(ad => \n",
    "                                               f.toString.split(\"/\")(rootSize) == ad.toString)\n",
    "                         .getOrElse(throw new IllegalStateException(f.toString)))\n",
    "\n",
    "    override def toString():String = {\n",
    "        \"\\n\" + \n",
    "        s\"number of app directories: ${allApps.size}\\n\" +\n",
    "        s\"number of distinct packages: ${appPackages.size}\\n\" +\n",
    "        s\"number of apk files: ${apkFiles.size}\\n\" +\n",
    "        s\"distinct apps with apks: ${apkGroups.size}\\n\"\n",
    "    }\n",
    "    /**\n",
    "    * Return a list of apps that contain APK files\n",
    "    */\n",
    "    def getApps():List[String] = apkGroups.keySet.toList\n",
    "    def apksForApp(app:String):List[File] = apkGroups(app)\n",
    "    def getAppsWithNoApk():List[String] = \n",
    "        appPackages.filter(a => !apkGroups.contains(a.toString)).toList\n",
    "    def nRandomApps(n:Integer):List[String] = {\n",
    "        Random.setSeed(23L)\n",
    "        val sh = Random.shuffle(apkGroups.keySet.toList)\n",
    "        sh.take(n).toList\n",
    "    }\n",
    "}\n",
    "val fdroidData = new DataSet(fdroidBase)"
   ]
  },
  {
   "cell_type": "code",
   "execution_count": 4,
   "metadata": {},
   "outputs": [
    {
     "data": {
      "text/plain": [
       "\u001b[36mexpDir\u001b[39m: \u001b[32mFile\u001b[39m = /Users/shawnmeier/Documents/source/bounder/experiments/fdroid_subset_5\n",
       "defined \u001b[32mfunction\u001b[39m \u001b[36mwriteSample5\u001b[39m"
      ]
     },
     "execution_count": 4,
     "metadata": {},
     "output_type": "execute_result"
    }
   ],
   "source": [
    "// Randomly sample a set of apps with defined APK files\n",
    "// Not currently used, manually grabbed 5 non-proguard apps\n",
    "val expDir = File(\n",
    "    \"/Users/shawnmeier/Documents/source/bounder/experiments/fdroid_subset_5\")\n",
    "def writeSample5() = {\n",
    "    val sample = fdroidData.nRandomApps(5)\n",
    "    val experimentDir = expDir\n",
    "    val appSample: File = experimentDir / \"appSample.txt\"\n",
    "    println(appSample)\n",
    "    appSample.createFile().append(sample.mkString(\"\\n\"))\n",
    "}\n",
    "// writeSample5() // uncomment to run"
   ]
  },
  {
   "cell_type": "code",
   "execution_count": 5,
   "metadata": {},
   "outputs": [
    {
     "data": {
      "text/plain": [
       "defined \u001b[32mfunction\u001b[39m \u001b[36mcreateSamplesFromList\u001b[39m"
      ]
     },
     "execution_count": 5,
     "metadata": {},
     "output_type": "execute_result"
    }
   ],
   "source": [
    "// From list of app packages, \"appSample.txt\" create json configs to run verifier\n",
    "def createSamplesFromList():Unit = {\n",
    "    val mode = Driver.SampleDeref\n",
    "    val baseConfig = RunConfig(mode = mode, limit = 120, samples = 3)\n",
    "    case class ApkSample(apk:String, pkg:String, outDir:File)\n",
    "    val apkSamples = (expDir / \"appSample.txt\")\n",
    "        .contentAsString\n",
    "        .split(\"\\n\")map{v => \n",
    "            val pkg = v.split(\":\")(1)\n",
    "            val apk = v.split(\":\")(0)\n",
    "            val outDir = expDir / pkg\n",
    "            outDir.createIfNotExists(true)\n",
    "            baseConfig.copy(apkPath=apk, outFolder=Some(outDir.toString))\n",
    "        }\n",
    "    apkSamples.map{cfg => Driver.sampleDeref(cfg)}\n",
    "}"
   ]
  },
  {
   "cell_type": "code",
   "execution_count": 7,
   "metadata": {},
   "outputs": [
    {
     "name": "stdout",
     "output_type": "stream",
     "text": [
      "Running experiment: net.khertan.forrunners/sample3.json\n",
      "Running experiment: org.vudroid/sample2.json\n",
      "Running experiment: de.sigfood/sample1.json\n",
      "Running experiment: net.khertan.forrunners/sample0.json\n",
      "Running experiment: de.sigfood/sample3.json\n",
      "Running experiment: com.ridgelineapps.resdicegame/sample1.json\n",
      "Running experiment: org.vudroid/sample3.json\n",
      "Running experiment: org.ligi.etheremote/sample2.json\n",
      "Running experiment: org.ligi.etheremote/sample3.json\n",
      "Running experiment: de.sigfood/sample0.json\n",
      "Running experiment: net.khertan.forrunners/sample1.json\n",
      "Running experiment: org.vudroid/sample0.json\n",
      "Running experiment: org.vudroid/sample1.json\n",
      "Running experiment: org.ligi.etheremote/sample0.json\n",
      "Running experiment: com.ridgelineapps.resdicegame/sample0.json\n",
      "Running experiment: com.ridgelineapps.resdicegame/sample3.json\n",
      "Running experiment: de.sigfood/sample2.json\n",
      "Running experiment: net.khertan.forrunners/sample2.json\n",
      "Running experiment: org.ligi.etheremote/sample1.json\n",
      "Running experiment: com.ridgelineapps.resdicegame/sample2.json\n"
     ]
    },
    {
     "data": {
      "text/plain": [
       "defined \u001b[32mfunction\u001b[39m \u001b[36mrunExperiments\u001b[39m"
      ]
     },
     "execution_count": 7,
     "metadata": {},
     "output_type": "execute_result"
    }
   ],
   "source": [
    "// Run experiments\n",
    "def runExperiments():Unit = {\n",
    "    val experiments = Random.shuffle(expDir.glob(\"**/sample*.json\").toList)\n",
    "    \n",
    "    experiments.par.foreach{cfg => \n",
    "    // val cfg = \"/Users/shawnmeier/Documents/source/bounder/experiments/fdroid_subset_5/com.ridgelineapps.resdicegame/sample0.json\"\n",
    "        val runCFG = read[RunConfig](cfg.contentAsString)\n",
    "        println(s\"Running experiment: ${cfg.toString.split(\"/\").takeRight(2).mkString(\"/\")}\")\n",
    "        val runDir = File(runCFG.outFolder.get)\n",
    "        runDir.createIfNotExists(true)\n",
    "        val stdoutF = runDir / \"stdout.txt\"\n",
    "        val stderrF = runDir / \"stderr.txt\"\n",
    "        val p = Process(s\"java -jar ${path} -c $cfg\",\n",
    "                        runDir.toJava,\n",
    "                        \"DYLD_LIBRARY_PATH\"->\"/Users/shawnmeier/software/z3/build\")\n",
    "        p ! ProcessLogger(v => stdoutF.append(v + \"\\n\"),v => stderrF.append(v + \"\\n\"))\n",
    "\n",
    "    }\n",
    "}\n",
    "runExperiments()"
   ]
  },
  {
   "cell_type": "code",
   "execution_count": 6,
   "metadata": {},
   "outputs": [
    {
     "data": {
      "text/plain": [
       "defined \u001b[32mfunction\u001b[39m \u001b[36mdeleteResults\u001b[39m"
      ]
     },
     "execution_count": 6,
     "metadata": {},
     "output_type": "execute_result"
    }
   ],
   "source": [
    "// delete all results directories\n",
    "def deleteResults():Unit = {\n",
    "    val experiments = Random.shuffle(expDir.glob(\"**/sample*.json\").toList)\n",
    "    experiments.map(v => v.toString.replace(\".json\",\"\")).foreach{v => File(v).delete()}\n",
    "}\n",
    "// deleteResults()"
   ]
  },
  {
   "cell_type": "markdown",
   "metadata": {},
   "source": [
    "Count Results of Verification With No Model\n",
    "-------------------------------------------"
   ]
  },
  {
   "cell_type": "code",
   "execution_count": 22,
   "metadata": {
    "collapsed": true
   },
   "outputs": [
    {
     "name": "stdout",
     "output_type": "stream",
     "text": [
      "Unreachable\n",
      "-----------\n",
      "org.ligi.etheremote/sample2/result.txt\n",
      "org.ligi.etheremote/sample0/result.txt\n",
      "net.khertan.forrunners/sample1/result.txt\n",
      "Witnessed\n",
      "-----------\n",
      "net.khertan.forrunners/sample2/result.txt\n",
      "de.sigfood/sample3/result.txt\n",
      "de.sigfood/sample0/result.txt\n",
      "Proven\n",
      "-----------\n",
      "org.ligi.etheremote/sample3/result.txt\n",
      "net.khertan.forrunners/sample0/result.txt\n",
      "de.sigfood/sample2/result.txt\n",
      "de.sigfood/sample1/result.txt\n",
      "com.ridgelineapps.resdicegame/sample0/result.txt\n",
      "Timeout\n",
      "-----------\n",
      "org.vudroid/sample1/result.txt\n",
      "com.ridgelineapps.resdicegame/sample1/result.txt\n"
     ]
    },
    {
     "data": {
      "text/plain": [
       "\u001b[36mallResults\u001b[39m: \u001b[32mMap\u001b[39m[\u001b[32mString\u001b[39m, \u001b[32mList\u001b[39m[\u001b[32mFile\u001b[39m]] = \u001b[33mHashMap\u001b[39m(\n",
       "  \u001b[32m\"Unreachable\"\u001b[39m -> \u001b[33mList\u001b[39m(\n",
       "    /Users/shawnmeier/Documents/source/bounder/experiments/fdroid_subset_5/org.ligi.etheremote/sample2/result.txt,\n",
       "    /Users/shawnmeier/Documents/source/bounder/experiments/fdroid_subset_5/org.ligi.etheremote/sample0/result.txt,\n",
       "    /Users/shawnmeier/Documents/source/bounder/experiments/fdroid_subset_5/net.khertan.forrunners/sample1/result.txt\n",
       "  ),\n",
       "  \u001b[32m\"Witnessed\"\u001b[39m -> \u001b[33mList\u001b[39m(\n",
       "    /Users/shawnmeier/Documents/source/bounder/experiments/fdroid_subset_5/net.khertan.forrunners/sample2/result.txt,\n",
       "    /Users/shawnmeier/Documents/source/bounder/experiments/fdroid_subset_5/de.sigfood/sample3/result.txt,\n",
       "    /Users/shawnmeier/Documents/source/bounder/experiments/fdroid_subset_5/de.sigfood/sample0/result.txt\n",
       "  ),\n",
       "  \u001b[32m\"Proven\"\u001b[39m -> \u001b[33mList\u001b[39m(\n",
       "    /Users/shawnmeier/Documents/source/bounder/experiments/fdroid_subset_5/org.ligi.etheremote/sample3/result.txt,\n",
       "    /Users/shawnmeier/Documents/source/bounder/experiments/fdroid_subset_5/net.khertan.forrunners/sample0/result.txt,\n",
       "    /Users/shawnmeier/Documents/source/bounder/experiments/fdroid_subset_5/de.sigfood/sample2/result.txt,\n",
       "    /Users/shawnmeier/Documents/source/bounder/experiments/fdroid_subset_5/de.sigfood/sample1/result.txt,\n",
       "    /Users/shawnmeier/Documents/source/bounder/experiments/fdroid_subset_5/com.ridgelineapps.resdicegame/sample0/result.txt\n",
       "  ),\n",
       "  \u001b[32m\"Timeout\"\u001b[39m -> \u001b[33mList\u001b[39m(\n",
       "    /Users/shawnmeier/Documents/source/bounder/experiments/fdroid_subset_5/org.vudroid/sample1/result.txt,\n",
       "    /Users/shawnmeier/Documents/source/bounder/experiments/fdroid_subset_5/com.ridgelineapps.resdicegame/sample1/result.txt\n",
       "  )\n",
       ")\n",
       "\u001b[36mallResultsCount\u001b[39m: \u001b[32mMap\u001b[39m[\u001b[32mString\u001b[39m, \u001b[32mInt\u001b[39m] = \u001b[33mHashMap\u001b[39m(\n",
       "  \u001b[32m\"Unreachable\"\u001b[39m -> \u001b[32m3\u001b[39m,\n",
       "  \u001b[32m\"Witnessed\"\u001b[39m -> \u001b[32m3\u001b[39m,\n",
       "  \u001b[32m\"Proven\"\u001b[39m -> \u001b[32m5\u001b[39m,\n",
       "  \u001b[32m\"Timeout\"\u001b[39m -> \u001b[32m2\u001b[39m\n",
       ")"
      ]
     },
     "execution_count": 22,
     "metadata": {},
     "output_type": "execute_result"
    }
   ],
   "source": [
    "val allResults = expDir.glob(\"**/result.txt\").toList.groupBy(r => r.contentAsString)\n",
    "val allResultsCount = expDir.glob(\"**/result.txt\").toList.groupBy(r => r.contentAsString).map{\n",
    "    case (k,v) => (k -> v.size)\n",
    "}\n",
    "allResults.foreach{case (k,v) => \n",
    "    println(k)\n",
    "    println(\"-----------\")\n",
    "    v.foreach{v => println(v.toString.split(\"/\").takeRight(3).mkString(\"/\"))}\n",
    "}"
   ]
  },
  {
   "cell_type": "markdown",
   "metadata": {},
   "source": [
    "Overall process\n",
    "\n",
    " - set of apps\n",
    "     - set of all dereference\n",
    "     - smallest spec to remove the most alarms\n",
    " - rq: The set of specs to prove a given location are \"small\"\n",
    "     - spec: \"small\" means that few callbacks and callins are mentioned in the specification\n",
    "     - search: we visit a small number of callbacks\n",
    "     - trace abstraction: is small \n",
    "     - thresher hypothesis: materialized heap cells at any given location is small\n",
    " - 1. Number of dereferneces that we can prove with no fwk model - filter trival ones\n",
    " - 2. we develop a specifiction to address most of the alarms\n",
    " - plot cumulative distribution - x axis is number of specs, y total number of alarms\n",
    " - plot: average number of specs actually used by the verifier to prove a location\n",
    " - spec is not vacuous:\n",
    "     - are callbacks reachable?\n",
    "     - Is spec trivially unsound? (i.e. no traces are accepted)\n",
    "\n",
    "\n",
    "\n",
    "Unreachable\n",
    "-----------\n",
    "org.ligi.etheremote/sample2/result.txt - kotlin library actually unreachable\n",
    "org.ligi.etheremote/sample0/result.txt - library method\n",
    "net.khertan.forrunners/sample1/result.txt - library method\n",
    "Witnessed\n",
    "-----------\n",
    "net.khertan.forrunners/sample2/result.txt - (library) TODO: false alarm, handle literal read `r1 = \"\"; r1.toString`\n",
    "de.sigfood/sample3/result.txt - TODO: witness on entering internal method\n",
    "de.sigfood/sample0/result.txt - (library) TODO: false alarm, @this cannot be null.\n",
    "Proven\n",
    "-----------\n",
    "org.ligi.etheremote/sample3/result.txt - \"this.something\"\n",
    "net.khertan.forrunners/sample0/result.txt - \"this.something\"\n",
    "de.sigfood/sample2/result.txt - (library) test if null before dereference\n",
    "de.sigfood/sample1/result.txt - (library) test if null before dereference\n",
    "com.ridgelineapps.resdicegame/sample0/result.txt - \"this.something\"\n",
    "Timeout\n",
    "-----------\n",
    "org.vudroid/sample1/result.txt - probably proven with simple spec:\n",
    "    - I(ci v.setOnItemClickListener(l)) <= cb l.onItemClick()\n",
    "    - TODO: why don't we find the `<init>` where `files` field is null? \n",
    "com.ridgelineapps.resdicegame/sample1/result.txt\n",
    "    - I(ci _.setPositiveButton(_,l)) <= cb l.onClick()\n",
    "    - false <= l.onClick() - avoid these by saying \"callback needs to be reachable\"\n",
    "    - \"vacuous checks\"\n",
    "Error\n",
    "-----------\n",
    "org.ligi.etheremote/sample1/stderr.txt - soot unit graph bug\n",
    "org.vudroid/sample2/stderr.txt \n",
    "    - unsupported instruction `f0 cmpl 0.0F`\n",
    "org.vudroid/sample3/stderr.txt \n",
    "    - unsupported instruction `f0 cmpl 0.0F`\n",
    "org.vudroid/sample0/stderr.txt - soot unit graph bug\n",
    "net.khertan.forrunners/sample3/stderr.txt - soot unit graph bug\n",
    "com.ridgelineapps.resdicegame/sample2/stderr.txt - soot unit graph bug\n",
    "com.ridgelineapps.resdicegame/sample3/stderr.txt \n",
    "    - unsupported instruction `ArrayReference(r4,i4) := IntConst(1);`\n",
    "\n",
    "Notes\n",
    "-----\n",
    " - Need better definition of app/library code, most of the samples above are in libraries (all 3 unreachable)\n",
    " - Should exclude trivial things like `this.toString()` from sampling \n",
    " - Fix a couple bugs\n",
    "     - Read string literal should always be non-null\n",
    "     - corner case where initial state is found when reaching the entry of an internal method\n",
    "     - Missing instructions\n",
    "     - Weird bug in soot unit graph\n",
    "     \n",
    " - justify discarding apps\n",
    "     - discard progard"
   ]
  },
  {
   "cell_type": "markdown",
   "metadata": {},
   "source": [
    "Analysis of Errors\n",
    "---------------------"
   ]
  },
  {
   "cell_type": "code",
   "execution_count": 24,
   "metadata": {},
   "outputs": [
    {
     "name": "stdout",
     "output_type": "stream",
     "text": [
      "error: 7\n",
      "no error: 13\n",
      "org.ligi.etheremote/sample1/stderr.txt\n",
      "org.vudroid/sample2/stderr.txt\n",
      "org.vudroid/sample3/stderr.txt\n",
      "org.vudroid/sample0/stderr.txt\n",
      "net.khertan.forrunners/sample3/stderr.txt\n",
      "com.ridgelineapps.resdicegame/sample2/stderr.txt\n",
      "com.ridgelineapps.resdicegame/sample3/stderr.txt\n",
      "\n",
      "/Users/shawnmeier/Documents/source/bounder/experiments/fdroid_subset_5/org.ligi.etheremote/sample1/stderr.txt\n",
      "----\n",
      "[main] WARN slick.util.AsyncExecutor - Having maxConnection > maxThreads can result in deadlocks if transactions or database locks are used.\n",
      "Exception in thread \"main\" java.lang.AssertionError: assertion failed: Malformed transfer, next command must be defined to transfer If node.\n",
      "\tat scala.Predef$.assert(Predef.scala:282)\n",
      "\tat edu.colorado.plv.bounder.symbolicexecutor.TransferFunctions.cmdTransfer(TransferFunctions.scala:653)\n",
      "\tat edu.colorado.plv.bounder.symbolicexecutor.TransferFunctions.transfer(TransferFunctions.scala:193)\n",
      "\tat edu.colorado.plv.bounder.symbolicexecutor.SymbolicExecutor.$anonfun$executeStep$1(SymbolicExecutor.scala:175)\n",
      "\tat scala.collection.parallel.AugmentedIterableIterator.flatmap2combiner(RemainsIterator.scala:123)\n",
      "\tat scala.collection.parallel.AugmentedIterableIterator.flatmap2combiner$(RemainsIterator.scala:121)\n",
      "\tat scala.collection.parallel.immutable.ParVector$ParVectorIterator.flatmap2combiner(ParVector.scala:70)\n",
      "\tat scala.collection.parallel.ParIterableLike$FlatMap.leaf(ParIterableLike.scala:1024)\n",
      "\tat scala.collection.parallel.Task.$anonfun$tryLeaf$1(Tasks.scala:52)\n",
      "\tat scala.runtime.java8.JFunction0$mcV$sp.apply(JFunction0$mcV$sp.scala:18)\n",
      "\tat scala.util.control.Breaks$$anon$1.catchBreak(Breaks.scala:67)\n",
      "\tat scala.collection.parallel.Task.tryLeaf(Tasks.scala:55)\n",
      "\tat scala.collection.parallel.Task.tryLeaf$(Tasks.scala:49)\n",
      "\tat scala.collection.parallel.ParIterableLike$FlatMap.tryLeaf(ParIterableLike.scala:1020)\n",
      "\tat scala.collection.parallel.AdaptiveWorkStealingTasks$AWSTWrappedTask.compute(Tasks.scala:152)\n",
      "\tat scala.collection.parallel.AdaptiveWorkStealingTasks$AWSTWrappedTask.compute$(Tasks.scala:148)\n",
      "\tat scala.collection.parallel.AdaptiveWorkStealingForkJoinTasks$AWSFJTWrappedTask.compute(Tasks.scala:304)\n",
      "\tat java.util.concurrent.RecursiveAction.exec(RecursiveAction.java:189)\n",
      "\tat java.util.concurrent.ForkJoinTask.doExec(ForkJoinTask.java:289)\n",
      "\tat java.util.concurrent.ForkJoinPool$WorkQueue.runTask(ForkJoinPool.java:1056)\n",
      "\tat java.util.concurrent.ForkJoinPool.runWorker(ForkJoinPool.java:1692)\n",
      "\tat java.util.concurrent.ForkJoinWorkerThread.run(ForkJoinWorkerThread.java:157)\n",
      "\n",
      "\n",
      "/Users/shawnmeier/Documents/source/bounder/experiments/fdroid_subset_5/org.vudroid/sample2/stderr.txt\n",
      "----\n",
      "[main] WARN slick.util.AsyncExecutor - Having maxConnection > maxThreads can result in deadlocks if transactions or database locks are used.\n",
      "Exception in thread \"main\" edu.colorado.plv.bounder.ir.CmdNotImplemented: Command not implemented: $f0 cmpl 0.0F  type: int\n",
      "\tat edu.colorado.plv.bounder.ir.JimpleFlowdroidWrapper$.makeRVal(JimpleFlowdroidWrapper.scala:177)\n",
      "\tat edu.colorado.plv.bounder.ir.JimpleFlowdroidWrapper$.makeVal(JimpleFlowdroidWrapper.scala:189)\n",
      "\tat edu.colorado.plv.bounder.ir.JimpleFlowdroidWrapper$.makeCmd(JimpleFlowdroidWrapper.scala:205)\n",
      "\tat edu.colorado.plv.bounder.ir.JimpleFlowdroidWrapper.makeCmd(JimpleFlowdroidWrapper.scala:554)\n",
      "\tat edu.colorado.plv.bounder.ir.JimpleFlowdroidWrapper.$anonfun$iCmdAtLocation$1(JimpleFlowdroidWrapper.scala:640)\n",
      "\tat scalaz.Memo$.$anonfun$mutableMapMemo$3(Memo.scala:69)\n",
      "\tat scala.collection.mutable.HashMap.getOrElseUpdate(HashMap.scala:434)\n",
      "\tat scalaz.Memo$.$anonfun$mutableMapMemo$2(Memo.scala:69)\n",
      "\tat edu.colorado.plv.bounder.ir.JimpleFlowdroidWrapper.cmdAtLocation(JimpleFlowdroidWrapper.scala:643)\n",
      "\tat edu.colorado.plv.bounder.symbolicexecutor.ControlFlowResolver.resolvePredicessors(ControlFlowResolver.scala:499)\n",
      "\tat edu.colorado.plv.bounder.symbolicexecutor.SymbolicExecutor.executeStep(SymbolicExecutor.scala:173)\n",
      "\tat edu.colorado.plv.bounder.symbolicexecutor.SymbolicExecutor.executeBackward(SymbolicExecutor.scala:159)\n",
      "\tat edu.colorado.plv.bounder.symbolicexecutor.SymbolicExecutor.executeBackward(SymbolicExecutor.scala:88)\n",
      "\tat edu.colorado.plv.bounder.Driver$.runAnalysis(Driver.scala:240)\n",
      "\tat edu.colorado.plv.bounder.Driver$.main(Driver.scala:156)\n",
      "\tat edu.colorado.plv.bounder.Driver.main(Driver.scala)\n",
      "\n",
      "\n",
      "/Users/shawnmeier/Documents/source/bounder/experiments/fdroid_subset_5/org.vudroid/sample3/stderr.txt\n",
      "----\n",
      "[main] WARN slick.util.AsyncExecutor - Having maxConnection > maxThreads can result in deadlocks if transactions or database locks are used.\n",
      "Exception in thread \"main\" edu.colorado.plv.bounder.ir.CmdNotImplemented: Command not implemented: $f0 cmpl 0.0F  type: int\n",
      "\tat edu.colorado.plv.bounder.ir.JimpleFlowdroidWrapper$.makeRVal(JimpleFlowdroidWrapper.scala:177)\n",
      "\tat edu.colorado.plv.bounder.ir.JimpleFlowdroidWrapper$.makeVal(JimpleFlowdroidWrapper.scala:189)\n",
      "\tat edu.colorado.plv.bounder.ir.JimpleFlowdroidWrapper$.makeCmd(JimpleFlowdroidWrapper.scala:205)\n",
      "\tat edu.colorado.plv.bounder.ir.JimpleFlowdroidWrapper.makeCmd(JimpleFlowdroidWrapper.scala:554)\n",
      "\tat edu.colorado.plv.bounder.ir.JimpleFlowdroidWrapper.$anonfun$iCmdAtLocation$1(JimpleFlowdroidWrapper.scala:640)\n",
      "\tat scalaz.Memo$.$anonfun$mutableMapMemo$3(Memo.scala:69)\n",
      "\tat scala.collection.mutable.HashMap.getOrElseUpdate(HashMap.scala:434)\n",
      "\tat scalaz.Memo$.$anonfun$mutableMapMemo$2(Memo.scala:69)\n",
      "\tat edu.colorado.plv.bounder.ir.JimpleFlowdroidWrapper.cmdAtLocation(JimpleFlowdroidWrapper.scala:643)\n",
      "\tat edu.colorado.plv.bounder.symbolicexecutor.ControlFlowResolver.resolvePredicessors(ControlFlowResolver.scala:499)\n",
      "\tat edu.colorado.plv.bounder.symbolicexecutor.SymbolicExecutor.executeStep(SymbolicExecutor.scala:173)\n",
      "\tat edu.colorado.plv.bounder.symbolicexecutor.SymbolicExecutor.executeBackward(SymbolicExecutor.scala:159)\n",
      "\tat edu.colorado.plv.bounder.symbolicexecutor.SymbolicExecutor.executeBackward(SymbolicExecutor.scala:88)\n",
      "\tat edu.colorado.plv.bounder.Driver$.runAnalysis(Driver.scala:240)\n",
      "\tat edu.colorado.plv.bounder.Driver$.main(Driver.scala:156)\n",
      "\tat edu.colorado.plv.bounder.Driver.main(Driver.scala)\n",
      "\n",
      "\n",
      "/Users/shawnmeier/Documents/source/bounder/experiments/fdroid_subset_5/org.vudroid/sample0/stderr.txt\n",
      "----\n",
      "[main] WARN slick.util.AsyncExecutor - Having maxConnection > maxThreads can result in deadlocks if transactions or database locks are used.\n",
      "Exception in thread \"main\" java.lang.AssertionError: assertion failed: Malformed transfer, next command must be defined to transfer If node.\n",
      "\tat scala.Predef$.assert(Predef.scala:282)\n",
      "\tat edu.colorado.plv.bounder.symbolicexecutor.TransferFunctions.cmdTransfer(TransferFunctions.scala:653)\n",
      "\tat edu.colorado.plv.bounder.symbolicexecutor.TransferFunctions.transfer(TransferFunctions.scala:193)\n",
      "\tat edu.colorado.plv.bounder.symbolicexecutor.SymbolicExecutor.$anonfun$executeStep$1(SymbolicExecutor.scala:175)\n",
      "\tat scala.collection.parallel.AugmentedIterableIterator.flatmap2combiner(RemainsIterator.scala:123)\n",
      "\tat scala.collection.parallel.AugmentedIterableIterator.flatmap2combiner$(RemainsIterator.scala:121)\n",
      "\tat scala.collection.parallel.immutable.ParVector$ParVectorIterator.flatmap2combiner(ParVector.scala:70)\n",
      "\tat scala.collection.parallel.ParIterableLike$FlatMap.leaf(ParIterableLike.scala:1024)\n",
      "\tat scala.collection.parallel.Task.$anonfun$tryLeaf$1(Tasks.scala:52)\n",
      "\tat scala.runtime.java8.JFunction0$mcV$sp.apply(JFunction0$mcV$sp.scala:18)\n",
      "\tat scala.util.control.Breaks$$anon$1.catchBreak(Breaks.scala:67)\n",
      "\tat scala.collection.parallel.Task.tryLeaf(Tasks.scala:55)\n",
      "\tat scala.collection.parallel.Task.tryLeaf$(Tasks.scala:49)\n",
      "\tat scala.collection.parallel.ParIterableLike$FlatMap.tryLeaf(ParIterableLike.scala:1020)\n",
      "\tat scala.collection.parallel.AdaptiveWorkStealingTasks$AWSTWrappedTask.compute(Tasks.scala:152)\n",
      "\tat scala.collection.parallel.AdaptiveWorkStealingTasks$AWSTWrappedTask.compute$(Tasks.scala:148)\n",
      "\tat scala.collection.parallel.AdaptiveWorkStealingForkJoinTasks$AWSFJTWrappedTask.compute(Tasks.scala:304)\n",
      "\tat java.util.concurrent.RecursiveAction.exec(RecursiveAction.java:189)\n",
      "\tat java.util.concurrent.ForkJoinTask.doExec(ForkJoinTask.java:289)\n",
      "\tat java.util.concurrent.ForkJoinPool$WorkQueue.runTask(ForkJoinPool.java:1056)\n"
     ]
    },
    {
     "name": "stdout",
     "output_type": "stream",
     "text": [
      "\tat java.util.concurrent.ForkJoinPool.runWorker(ForkJoinPool.java:1692)\n",
      "\tat java.util.concurrent.ForkJoinWorkerThread.run(ForkJoinWorkerThread.java:157)\n",
      "\n",
      "\n",
      "/Users/shawnmeier/Documents/source/bounder/experiments/fdroid_subset_5/net.khertan.forrunners/sample3/stderr.txt\n",
      "----\n",
      "[main] WARN slick.util.AsyncExecutor - Having maxConnection > maxThreads can result in deadlocks if transactions or database locks are used.\n",
      "Exception in thread \"main\" java.lang.AssertionError: assertion failed: Malformed transfer, next command must be defined to transfer If node.\n",
      "\tat scala.Predef$.assert(Predef.scala:282)\n",
      "\tat edu.colorado.plv.bounder.symbolicexecutor.TransferFunctions.cmdTransfer(TransferFunctions.scala:653)\n",
      "\tat edu.colorado.plv.bounder.symbolicexecutor.TransferFunctions.transfer(TransferFunctions.scala:193)\n",
      "\tat edu.colorado.plv.bounder.symbolicexecutor.SymbolicExecutor.$anonfun$executeStep$1(SymbolicExecutor.scala:175)\n",
      "\tat scala.collection.parallel.AugmentedIterableIterator.flatmap2combiner(RemainsIterator.scala:123)\n",
      "\tat scala.collection.parallel.AugmentedIterableIterator.flatmap2combiner$(RemainsIterator.scala:121)\n",
      "\tat scala.collection.parallel.immutable.ParVector$ParVectorIterator.flatmap2combiner(ParVector.scala:70)\n",
      "\tat scala.collection.parallel.ParIterableLike$FlatMap.leaf(ParIterableLike.scala:1024)\n",
      "\tat scala.collection.parallel.Task.$anonfun$tryLeaf$1(Tasks.scala:52)\n",
      "\tat scala.runtime.java8.JFunction0$mcV$sp.apply(JFunction0$mcV$sp.scala:18)\n",
      "\tat scala.util.control.Breaks$$anon$1.catchBreak(Breaks.scala:67)\n",
      "\tat scala.collection.parallel.Task.tryLeaf(Tasks.scala:55)\n",
      "\tat scala.collection.parallel.Task.tryLeaf$(Tasks.scala:49)\n",
      "\tat scala.collection.parallel.ParIterableLike$FlatMap.tryLeaf(ParIterableLike.scala:1020)\n",
      "\tat scala.collection.parallel.AdaptiveWorkStealingTasks$AWSTWrappedTask.compute(Tasks.scala:152)\n",
      "\tat scala.collection.parallel.AdaptiveWorkStealingTasks$AWSTWrappedTask.compute$(Tasks.scala:148)\n",
      "\tat scala.collection.parallel.AdaptiveWorkStealingForkJoinTasks$AWSFJTWrappedTask.compute(Tasks.scala:304)\n",
      "\tat java.util.concurrent.RecursiveAction.exec(RecursiveAction.java:189)\n",
      "\tat java.util.concurrent.ForkJoinTask.doExec(ForkJoinTask.java:289)\n",
      "\tat java.util.concurrent.ForkJoinPool$WorkQueue.runTask(ForkJoinPool.java:1056)\n",
      "\tat java.util.concurrent.ForkJoinPool.runWorker(ForkJoinPool.java:1692)\n",
      "\tat java.util.concurrent.ForkJoinWorkerThread.run(ForkJoinWorkerThread.java:157)\n",
      "\n",
      "\n",
      "/Users/shawnmeier/Documents/source/bounder/experiments/fdroid_subset_5/com.ridgelineapps.resdicegame/sample2/stderr.txt\n",
      "----\n",
      "[main] WARN slick.util.AsyncExecutor - Having maxConnection > maxThreads can result in deadlocks if transactions or database locks are used.\n",
      "Exception in thread \"main\" java.lang.AssertionError: assertion failed: Malformed transfer, next command must be defined to transfer If node.\n",
      "\tat scala.Predef$.assert(Predef.scala:282)\n",
      "\tat edu.colorado.plv.bounder.symbolicexecutor.TransferFunctions.cmdTransfer(TransferFunctions.scala:653)\n",
      "\tat edu.colorado.plv.bounder.symbolicexecutor.TransferFunctions.transfer(TransferFunctions.scala:193)\n",
      "\tat edu.colorado.plv.bounder.symbolicexecutor.SymbolicExecutor.$anonfun$executeStep$1(SymbolicExecutor.scala:175)\n",
      "\tat scala.collection.parallel.AugmentedIterableIterator.flatmap2combiner(RemainsIterator.scala:123)\n",
      "\tat scala.collection.parallel.AugmentedIterableIterator.flatmap2combiner$(RemainsIterator.scala:121)\n",
      "\tat scala.collection.parallel.immutable.ParVector$ParVectorIterator.flatmap2combiner(ParVector.scala:70)\n",
      "\tat scala.collection.parallel.ParIterableLike$FlatMap.leaf(ParIterableLike.scala:1024)\n",
      "\tat scala.collection.parallel.Task.$anonfun$tryLeaf$1(Tasks.scala:52)\n",
      "\tat scala.runtime.java8.JFunction0$mcV$sp.apply(JFunction0$mcV$sp.scala:18)\n",
      "\tat scala.util.control.Breaks$$anon$1.catchBreak(Breaks.scala:67)\n",
      "\tat scala.collection.parallel.Task.tryLeaf(Tasks.scala:55)\n",
      "\tat scala.collection.parallel.Task.tryLeaf$(Tasks.scala:49)\n",
      "\tat scala.collection.parallel.ParIterableLike$FlatMap.tryLeaf(ParIterableLike.scala:1020)\n",
      "\tat scala.collection.parallel.AdaptiveWorkStealingTasks$AWSTWrappedTask.compute(Tasks.scala:152)\n",
      "\tat scala.collection.parallel.AdaptiveWorkStealingTasks$AWSTWrappedTask.compute$(Tasks.scala:148)\n",
      "\tat scala.collection.parallel.AdaptiveWorkStealingForkJoinTasks$AWSFJTWrappedTask.compute(Tasks.scala:304)\n",
      "\tat java.util.concurrent.RecursiveAction.exec(RecursiveAction.java:189)\n",
      "\tat java.util.concurrent.ForkJoinTask.doExec(ForkJoinTask.java:289)\n",
      "\tat java.util.concurrent.ForkJoinPool$WorkQueue.runTask(ForkJoinPool.java:1056)\n",
      "\tat java.util.concurrent.ForkJoinPool.runWorker(ForkJoinPool.java:1692)\n",
      "\tat java.util.concurrent.ForkJoinWorkerThread.run(ForkJoinWorkerThread.java:157)\n",
      "\n",
      "\n",
      "/Users/shawnmeier/Documents/source/bounder/experiments/fdroid_subset_5/com.ridgelineapps.resdicegame/sample3/stderr.txt\n",
      "----\n",
      "[main] WARN slick.util.AsyncExecutor - Having maxConnection > maxThreads can result in deadlocks if transactions or database locks are used.\n",
      "Exception in thread \"main\" scala.NotImplementedError: an implementation is missing\n",
      "\tat scala.Predef$.$qmark$qmark$qmark(Predef.scala:347)\n",
      "\tat edu.colorado.plv.bounder.symbolicexecutor.TransferFunctions.cmdTransfer(TransferFunctions.scala:730)\n",
      "\tat edu.colorado.plv.bounder.symbolicexecutor.TransferFunctions.transfer(TransferFunctions.scala:193)\n",
      "\tat edu.colorado.plv.bounder.symbolicexecutor.SymbolicExecutor.$anonfun$executeStep$1(SymbolicExecutor.scala:175)\n",
      "\tat scala.collection.parallel.AugmentedIterableIterator.flatmap2combiner(RemainsIterator.scala:123)\n",
      "\tat scala.collection.parallel.AugmentedIterableIterator.flatmap2combiner$(RemainsIterator.scala:121)\n",
      "\tat scala.collection.parallel.immutable.ParVector$ParVectorIterator.flatmap2combiner(ParVector.scala:70)\n",
      "\tat scala.collection.parallel.ParIterableLike$FlatMap.leaf(ParIterableLike.scala:1024)\n",
      "\tat scala.collection.parallel.Task.$anonfun$tryLeaf$1(Tasks.scala:52)\n",
      "\tat scala.runtime.java8.JFunction0$mcV$sp.apply(JFunction0$mcV$sp.scala:18)\n",
      "\tat scala.util.control.Breaks$$anon$1.catchBreak(Breaks.scala:67)\n",
      "\tat scala.collection.parallel.Task.tryLeaf(Tasks.scala:55)\n",
      "\tat scala.collection.parallel.Task.tryLeaf$(Tasks.scala:49)\n",
      "\tat scala.collection.parallel.ParIterableLike$FlatMap.tryLeaf(ParIterableLike.scala:1020)\n",
      "\tat scala.collection.parallel.AdaptiveWorkStealingTasks$AWSTWrappedTask.compute(Tasks.scala:152)\n",
      "\tat scala.collection.parallel.AdaptiveWorkStealingTasks$AWSTWrappedTask.compute$(Tasks.scala:148)\n",
      "\tat scala.collection.parallel.AdaptiveWorkStealingForkJoinTasks$AWSFJTWrappedTask.compute(Tasks.scala:304)\n",
      "\tat java.util.concurrent.RecursiveAction.exec(RecursiveAction.java:189)\n",
      "\tat java.util.concurrent.ForkJoinTask.doExec(ForkJoinTask.java:289)\n",
      "\tat java.util.concurrent.ForkJoinPool$WorkQueue.runTask(ForkJoinPool.java:1056)\n",
      "\tat java.util.concurrent.ForkJoinPool.runWorker(ForkJoinPool.java:1692)\n",
      "\tat java.util.concurrent.ForkJoinWorkerThread.run(ForkJoinWorkerThread.java:157)\n",
      "\n"
     ]
    },
    {
     "data": {
      "text/plain": [
       "defined \u001b[32mfunction\u001b[39m \u001b[36mprintErrStats\u001b[39m"
      ]
     },
     "execution_count": 24,
     "metadata": {},
     "output_type": "execute_result"
    }
   ],
   "source": [
    "def printErrStats():Unit = {\n",
    "    val exn = expDir.glob(\"**/stderr.txt\").toList\n",
    "        .groupBy(e => e.contentAsString.contains(\"Exception in\"))\n",
    "    val errors = exn.getOrElse(true,Set())\n",
    "    val noErrors = exn.getOrElse(false,Set())\n",
    "    println(s\"error: ${errors.size}\")\n",
    "    println(s\"no error: ${noErrors.size}\")\n",
    "    \n",
    "    errors.foreach{e =>\n",
    "        println(e.toString.split(\"/\").takeRight(3).mkString(\"/\"))\n",
    "    }\n",
    "    \n",
    "    \n",
    "    \n",
    "    errors.foreach{e => \n",
    "        println()\n",
    "        println(e)\n",
    "        println(\"----\")\n",
    "        println(e.contentAsString)\n",
    "    }\n",
    "}\n",
    "printErrStats()"
   ]
  },
  {
   "cell_type": "markdown",
   "metadata": {},
   "source": [
    "Top n apps on fdroid\n",
    "--------------------\n",
    "https://fdroid.gitlab.io/metrics/f-droid.org/2021-02-22.json"
   ]
  },
  {
   "cell_type": "code",
   "execution_count": null,
   "metadata": {},
   "outputs": [],
   "source": [
    "val stdout = new StringBuilder\n",
    "val stderr = new StringBuilder\n",
    "val p = Process(s\"ls\",\n",
    "                File(\"/Users/shawnmeier/\").toJava,\n",
    "                \"DYLD_LIBRARY_PATH\"->\"/Users/shawnmeier/software/z3/build\")\n",
    "p ! ProcessLogger(v => stdout.append(v + \"\\n\"),v => stderr.append(v + \"\\n\"))\n",
    "println(s\"stdout: ${stdout.toString}\")\n",
    "println(s\"stderr: ${stderr.toString}\")"
   ]
  },
  {
   "cell_type": "code",
   "execution_count": null,
   "metadata": {},
   "outputs": [],
   "source": [
    "append"
   ]
  },
  {
   "cell_type": "code",
   "execution_count": null,
   "metadata": {},
   "outputs": [],
   "source": [
    "List(\"a\",\"b\",\"c\",\"d\").dropRight(1)"
   ]
  },
  {
   "cell_type": "code",
   "execution_count": null,
   "metadata": {},
   "outputs": [],
   "source": [
    "Random.shuffle(List(1,2,3)).head"
   ]
  },
  {
   "cell_type": "code",
   "execution_count": null,
   "metadata": {},
   "outputs": [],
   "source": [
    "val r = \"(.*)\".r\n",
    "\n",
    "\"wtf\" match{\n",
    "    case r(v) => \"\"\n",
    "}"
   ]
  },
  {
   "cell_type": "code",
   "execution_count": 25,
   "metadata": {},
   "outputs": [
    {
     "data": {
      "text/plain": [
       "\u001b[36mres24\u001b[39m: \u001b[32mInt\u001b[39m = \u001b[32m3\u001b[39m"
      ]
     },
     "execution_count": 25,
     "metadata": {},
     "output_type": "execute_result"
    }
   ],
   "source": [
    "\"3\".toInt"
   ]
  },
  {
   "cell_type": "code",
   "execution_count": 28,
   "metadata": {},
   "outputs": [
    {
     "data": {
      "text/plain": [
       "\u001b[36msum\u001b[39m: \u001b[32mInt\u001b[39m = \u001b[32m11223\u001b[39m"
      ]
     },
     "execution_count": 28,
     "metadata": {},
     "output_type": "execute_result"
    }
   ],
   "source": [
    "val sum = File(\"/Users/shawnmeier/Desktop/lines.txt\").contentAsString\n",
    "    .split(\"\\n\").foldLeft(0){case (acc,v) => acc + v.trim.toInt}"
   ]
  },
  {
   "cell_type": "code",
   "execution_count": 27,
   "metadata": {},
   "outputs": [
    {
     "data": {
      "text/plain": [
       "\u001b[36mres26\u001b[39m: \u001b[32mString\u001b[39m = \u001b[32m\"9\"\u001b[39m"
      ]
     },
     "execution_count": 27,
     "metadata": {},
     "output_type": "execute_result"
    }
   ],
   "source": [
    "\"   9\".trim"
   ]
  },
  {
   "cell_type": "code",
   "execution_count": null,
   "metadata": {},
   "outputs": [],
   "source": []
  }
 ],
 "metadata": {
  "kernelspec": {
   "display_name": "Scala",
   "language": "scala",
   "name": "scala"
  },
  "language_info": {
   "codemirror_mode": "text/x-scala",
   "file_extension": ".sc",
   "mimetype": "text/x-scala",
   "name": "scala",
   "nbconvert_exporter": "script",
   "version": "2.13.1"
  }
 },
 "nbformat": 4,
 "nbformat_minor": 4
}
