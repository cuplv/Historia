{
 "cells": [
  {
   "cell_type": "code",
   "execution_count": 1,
   "metadata": {
    "scrolled": true
   },
   "outputs": [
    {
     "data": {
      "text/plain": [
       "\u001b[36mpath\u001b[39m: \u001b[32mString\u001b[39m = \u001b[32m\"/Users/shawnmeier/Documents/source/bounder/soot_hopper/target/scala-2.13/soot_hopper-assembly-0.1.jar\"\u001b[39m\n",
       "\u001b[32mimport \u001b[39m\u001b[36m$ivy.$                                          \n",
       "\u001b[39m\n",
       "\u001b[32mimport \u001b[39m\u001b[36m$ivy.$                             \n",
       "// import $ivy.`edu.colorado.plv.bounder:soot_hopper_2.13:0.1`\n",
       "\n",
       "\u001b[39m\n",
       "\u001b[32mimport \u001b[39m\u001b[36mplotly._, element._, layout._, Plotly._\n",
       "\u001b[39m\n",
       "\u001b[32mimport \u001b[39m\u001b[36mujson.Value\n",
       "\u001b[39m\n",
       "\u001b[32mimport \u001b[39m\u001b[36msys.process._\n",
       "\n",
       "\u001b[39m"
      ]
     },
     "execution_count": 1,
     "metadata": {},
     "output_type": "execute_result"
    }
   ],
   "source": [
    "val path = \"/Users/shawnmeier/Documents/source/bounder/soot_hopper/target/scala-2.13/soot_hopper-assembly-0.1.jar\"\n",
    "\n",
    "interp.load.cp(os.Path(path))\n",
    "\n",
    "import $ivy.`org.plotly-scala:plotly-almond_2.13:0.8.2`\n",
    "import $ivy.`com.lihaoyi:ujson_2.13:1.3.8`\n",
    "// import $ivy.`edu.colorado.plv.bounder:soot_hopper_2.13:0.1`\n",
    "\n",
    "import plotly._, element._, layout._, Plotly._\n",
    "import ujson.Value\n",
    "import sys.process._\n",
    "\n"
   ]
  },
  {
   "cell_type": "code",
   "execution_count": 2,
   "metadata": {},
   "outputs": [
    {
     "data": {
      "text/plain": [
       "\u001b[32mimport \u001b[39m\u001b[36m$ivy.$                                         \n",
       "\u001b[39m\n",
       "\u001b[32mimport \u001b[39m\u001b[36mbetter.files._\n",
       "\n",
       "\u001b[39m\n",
       "\u001b[32mimport \u001b[39m\u001b[36mscala.util.Random\n",
       "\u001b[39m\n",
       "\u001b[32mimport \u001b[39m\u001b[36medu.colorado.plv.bounder.Driver\n",
       "\u001b[39m\n",
       "\u001b[32mimport \u001b[39m\u001b[36medu.colorado.plv.bounder.RunConfig\n",
       "\u001b[39m\n",
       "\u001b[32mimport \u001b[39m\u001b[36mupickle.default.read\n",
       "\u001b[39m\n",
       "\u001b[32mimport \u001b[39m\u001b[36mscala.collection.parallel.CollectionConverters.{ImmutableSetIsParallelizable, IterableIsParallelizable}\n",
       "// TODO: configure thread pool: https://docs.scala-lang.org/overviews/parallel-collections/configuration.html\u001b[39m"
      ]
     },
     "execution_count": 2,
     "metadata": {},
     "output_type": "execute_result"
    }
   ],
   "source": [
    "// interp.load.ivy(\"com.github.pathikrit\" %% \"better-files\" % \"3.9.1\")\n",
    "import $ivy.`com.github.pathikrit::better-files:3.9.1`\n",
    "import better.files._\n",
    "\n",
    "import scala.util.Random\n",
    "import edu.colorado.plv.bounder.Driver\n",
    "import edu.colorado.plv.bounder.RunConfig\n",
    "import upickle.default.read\n",
    "import scala.collection.parallel.CollectionConverters.{ImmutableSetIsParallelizable, IterableIsParallelizable}\n",
    "// TODO: configure thread pool: https://docs.scala-lang.org/overviews/parallel-collections/configuration.html"
   ]
  },
  {
   "cell_type": "markdown",
   "metadata": {},
   "source": [
    "Parse list of apps with APK files in the fdroid download folder\n",
    "------------------------------------------------------------------------\n",
    "\n",
    "Full data download: https://drive.google.com/file/d/1edtMA9Bt0g9rPf1gp34W1a9e-oUdINJd/view?usp=sharing"
   ]
  },
  {
   "cell_type": "code",
   "execution_count": 3,
   "metadata": {},
   "outputs": [
    {
     "data": {
      "text/plain": [
       "\u001b[32mimport \u001b[39m\u001b[36mscala.collection.parallel._\n",
       "\u001b[39m\n",
       "\u001b[36mfdroidBase\u001b[39m: \u001b[32mFile\u001b[39m = /Users/shawnmeier/Documents/data/fdroid\n",
       "defined \u001b[32mclass\u001b[39m \u001b[36mDataSet\u001b[39m\n",
       "\u001b[36mfdroidData\u001b[39m: \u001b[32mDataSet\u001b[39m = \n",
       "number of app directories: 1967\n",
       "number of distinct packages: 1967\n",
       "number of apk files: 1838\n",
       "distinct apps with apks: 1838\n"
      ]
     },
     "execution_count": 3,
     "metadata": {},
     "output_type": "execute_result"
    }
   ],
   "source": [
    "import scala.collection.parallel._\n",
    "val fdroidBase = File(\"/Users/shawnmeier/Documents/data/fdroid\")\n",
    "class DataSet(rootFile:File){\n",
    "    val rootSize = rootFile.toString.split(\"/\").size\n",
    "    val allApps = rootFile.list.toSet\n",
    "    val appPackages = allApps.map(v => v.toString.split(\"/\").last).toSet\n",
    "    val apkFilesPar = rootFile.glob(\"**/*.apk\").zipWithIndex.toList.par\n",
    "    val forkJoinPool = new java.util.concurrent.ForkJoinPool(8)\n",
    "    apkFilesPar.tasksupport = new ForkJoinTaskSupport(forkJoinPool)\n",
    "    val apkFiles = apkFilesPar.flatMap{a => \n",
    "            // Slow - filters out proguard apps\n",
    "//             val isProguard = Driver.detectProguard(a._1.toString)\n",
    "//             println(s\"index: ${a._2} apk: ${a._1} proguard: ${res}\")\n",
    "            val isProguard = false\n",
    "            if(isProguard) None else Some(a._1)\n",
    "        }.seq.toList\n",
    "    val apkGroups = \n",
    "        apkFiles.groupBy(f => appPackages.find(ad => \n",
    "                                               f.toString.split(\"/\")(rootSize) == ad.toString)\n",
    "                         .getOrElse(throw new IllegalStateException(f.toString)))\n",
    "\n",
    "    override def toString():String = {\n",
    "        \"\\n\" + \n",
    "        s\"number of app directories: ${allApps.size}\\n\" +\n",
    "        s\"number of distinct packages: ${appPackages.size}\\n\" +\n",
    "        s\"number of apk files: ${apkFiles.size}\\n\" +\n",
    "        s\"distinct apps with apks: ${apkGroups.size}\\n\"\n",
    "    }\n",
    "    /**\n",
    "    * Return a list of apps that contain APK files\n",
    "    */\n",
    "    def getApps():List[String] = apkGroups.keySet.toList\n",
    "    def apksForApp(app:String):List[File] = apkGroups(app)\n",
    "    def getAppsWithNoApk():List[String] = \n",
    "        appPackages.filter(a => !apkGroups.contains(a.toString)).toList\n",
    "    def nRandomApps(n:Integer):List[String] = {\n",
    "        Random.setSeed(23L)\n",
    "        val sh = Random.shuffle(apkGroups.keySet.toList)\n",
    "        sh.take(n).toList\n",
    "    }\n",
    "}\n",
    "val fdroidData = new DataSet(fdroidBase)"
   ]
  },
  {
   "cell_type": "code",
   "execution_count": 4,
   "metadata": {},
   "outputs": [
    {
     "data": {
      "text/plain": [
       "\u001b[36mexpDir\u001b[39m: \u001b[32mFile\u001b[39m = /Users/shawnmeier/Documents/source/bounder/experiments/fdroid_subset_5\n",
       "defined \u001b[32mfunction\u001b[39m \u001b[36mwriteSample5\u001b[39m"
      ]
     },
     "execution_count": 4,
     "metadata": {},
     "output_type": "execute_result"
    }
   ],
   "source": [
    "// Randomly sample a set of apps with defined APK files\n",
    "// Not currently used, manually grabbed 5 non-proguard apps\n",
    "val expDir = File(\n",
    "    \"/Users/shawnmeier/Documents/source/bounder/experiments/fdroid_subset_5\")\n",
    "def writeSample5() = {\n",
    "    val sample = fdroidData.nRandomApps(5)\n",
    "    val experimentDir = expDir\n",
    "    val appSample: File = experimentDir / \"appSample.txt\"\n",
    "    println(appSample)\n",
    "    appSample.createFile().append(sample.mkString(\"\\n\"))\n",
    "}\n",
    "// writeSample5() // uncomment to run"
   ]
  },
  {
   "cell_type": "code",
   "execution_count": 5,
   "metadata": {},
   "outputs": [
    {
     "data": {
      "text/plain": [
       "defined \u001b[32mfunction\u001b[39m \u001b[36mcreateSamplesFromList\u001b[39m"
      ]
     },
     "execution_count": 5,
     "metadata": {},
     "output_type": "execute_result"
    }
   ],
   "source": [
    "// From list of app packages, \"appSample.txt\" create json configs to run verifier\n",
    "def createSamplesFromList():Unit = {\n",
    "    val mode = Driver.SampleDeref\n",
    "    val baseConfig = RunConfig(limit = 120, samples = 3)\n",
    "    case class ApkSample(apk:String, pkg:String, outDir:File)\n",
    "    val apkSamples = (expDir / \"appSample.txt\")\n",
    "        .contentAsString\n",
    "        .split(\"\\n\")map{v => \n",
    "            val pkg = v.split(\":\")(1)\n",
    "            val apk = v.split(\":\")(0)\n",
    "            val outDir = expDir / pkg\n",
    "            outDir.createIfNotExists(true)\n",
    "            baseConfig.copy(apkPath=apk, outFolder=Some(outDir.toString))\n",
    "        }\n",
    "//     apkSamples.map{cfg => Driver.sampleDeref(cfg)}\n",
    "    //TODO: fix sampling code\n",
    "    ???\n",
    "}"
   ]
  },
  {
   "cell_type": "code",
   "execution_count": 8,
   "metadata": {
    "scrolled": true
   },
   "outputs": [
    {
     "name": "stdout",
     "output_type": "stream",
     "text": [
      "Running experiment: org.ligi.etheremote/sample2.json\n",
      "Running experiment: com.ridgelineapps.resdicegame/sample1.json\n",
      "Running experiment: org.vudroid/sample0.json\n",
      "Running experiment: org.ligi.etheremote/sample1.json\n",
      "Running experiment: de.sigfood/sample1.json\n",
      "Running experiment: de.sigfood/sample0.json\n",
      "Running experiment: net.khertan.forrunners/sample0.json\n",
      "Running experiment: com.ridgelineapps.resdicegame/sample0.json\n",
      "Running experiment: org.vudroid/sample1.json\n",
      "Running experiment: com.ridgelineapps.resdicegame/sample3.json\n",
      "Running experiment: net.khertan.forrunners/sample1.json\n",
      "Running experiment: org.vudroid/sample2big.json\n",
      "Running experiment: org.vudroid/sample2.json\n",
      "Running experiment: de.sigfood/sample2.json\n",
      "Running experiment: org.vudroid/sample3.json\n",
      "Running experiment: net.khertan.forrunners/sample3.json\n",
      "Running experiment: net.khertan.forrunners/sample2.json\n",
      "Running experiment: com.ridgelineapps.resdicegame/sample2.json\n",
      "Running experiment: org.ligi.etheremote/sample0.json\n",
      "Running experiment: org.ligi.etheremote/sample3.json\n",
      "Running experiment: de.sigfood/sample3.json\n"
     ]
    },
    {
     "data": {
      "text/plain": [
       "defined \u001b[32mfunction\u001b[39m \u001b[36mrunExperiments\u001b[39m"
      ]
     },
     "execution_count": 8,
     "metadata": {},
     "output_type": "execute_result"
    }
   ],
   "source": [
    "// Run experiments\n",
    "def runExperiments():Unit = {\n",
    "    val experiments = Random.shuffle(expDir.glob(\"**/sample*.json\").toList)\n",
    "    \n",
    "    val experimentsPar = experiments.par\n",
    "    val forkJoinPool = new java.util.concurrent.ForkJoinPool(10)\n",
    "    experimentsPar.tasksupport = new ForkJoinTaskSupport(forkJoinPool)\n",
    "    experimentsPar.foreach{cfg => \n",
    "    // val cfg = \"/Users/shawnmeier/Documents/source/bounder/experiments/fdroid_subset_5/com.ridgelineapps.resdicegame/sample0.json\"\n",
    "        val runCFG = read[RunConfig](cfg.contentAsString)\n",
    "        println(s\"Running experiment: ${cfg.toString.split(\"/\").takeRight(2).mkString(\"/\")}\")\n",
    "        val runDir = File(runCFG.outFolder.get)\n",
    "        runDir.createIfNotExists(true)\n",
    "        val stdoutF = runDir / \"stdout.txt\"\n",
    "        val stderrF = runDir / \"stderr.txt\"\n",
    "        val p = Process(s\"java -jar ${path} -m verify -c $cfg\",\n",
    "                        runDir.toJava,\n",
    "                        \"DYLD_LIBRARY_PATH\"->\"/Users/shawnmeier/software/z3/build\")\n",
    "        p ! ProcessLogger(v => stdoutF.append(v + \"\\n\"),v => stderrF.append(v + \"\\n\"))\n",
    "        println(s\"Running experiment: ${cfg.toString.split(\"/\").takeRight(2).mkString(\"/\")}\")\n",
    "\n",
    "    }\n",
    "}\n",
    "//runExperiments()"
   ]
  },
  {
   "cell_type": "code",
   "execution_count": 13,
   "metadata": {},
   "outputs": [
    {
     "name": "stdout",
     "output_type": "stream",
     "text": [
      "/Users/shawnmeier/Documents/source/bounder/experiments/fdroid_subset_5/org.vudroid/sample2.json\n",
      "/Users/shawnmeier/Documents/source/bounder/experiments/fdroid_subset_5/com.ridgelineapps.resdicegame/sample2.json\n",
      "/Users/shawnmeier/Documents/source/bounder/experiments/fdroid_subset_5/org.ligi.etheremote/sample3.json\n",
      "/Users/shawnmeier/Documents/source/bounder/experiments/fdroid_subset_5/net.khertan.forrunners/sample2.json\n",
      "/Users/shawnmeier/Documents/source/bounder/experiments/fdroid_subset_5/org.vudroid/sample2big.json\n",
      "/Users/shawnmeier/Documents/source/bounder/experiments/fdroid_subset_5/org.vudroid/sample0.json\n",
      "/Users/shawnmeier/Documents/source/bounder/experiments/fdroid_subset_5/org.ligi.etheremote/sample2.json\n",
      "/Users/shawnmeier/Documents/source/bounder/experiments/fdroid_subset_5/org.vudroid/sample3.json\n",
      "/Users/shawnmeier/Documents/source/bounder/experiments/fdroid_subset_5/org.vudroid/sample1.json\n",
      "/Users/shawnmeier/Documents/source/bounder/experiments/fdroid_subset_5/de.sigfood/sample2.json\n",
      "/Users/shawnmeier/Documents/source/bounder/experiments/fdroid_subset_5/org.ligi.etheremote/sample1.json\n",
      "/Users/shawnmeier/Documents/source/bounder/experiments/fdroid_subset_5/net.khertan.forrunners/sample0.json\n",
      "/Users/shawnmeier/Documents/source/bounder/experiments/fdroid_subset_5/org.ligi.etheremote/sample0.json\n",
      "/Users/shawnmeier/Documents/source/bounder/experiments/fdroid_subset_5/net.khertan.forrunners/sample3.json\n",
      "/Users/shawnmeier/Documents/source/bounder/experiments/fdroid_subset_5/de.sigfood/sample3.json\n",
      "/Users/shawnmeier/Documents/source/bounder/experiments/fdroid_subset_5/com.ridgelineapps.resdicegame/sample1.json\n",
      "/Users/shawnmeier/Documents/source/bounder/experiments/fdroid_subset_5/com.ridgelineapps.resdicegame/sample0.json\n",
      "/Users/shawnmeier/Documents/source/bounder/experiments/fdroid_subset_5/net.khertan.forrunners/sample1.json\n",
      "/Users/shawnmeier/Documents/source/bounder/experiments/fdroid_subset_5/de.sigfood/sample1.json\n",
      "/Users/shawnmeier/Documents/source/bounder/experiments/fdroid_subset_5/com.ridgelineapps.resdicegame/sample3.json\n",
      "/Users/shawnmeier/Documents/source/bounder/experiments/fdroid_subset_5/de.sigfood/sample0.json\n"
     ]
    },
    {
     "data": {
      "text/plain": [
       "defined \u001b[32mfunction\u001b[39m \u001b[36mextractWitness\u001b[39m"
      ]
     },
     "execution_count": 13,
     "metadata": {},
     "output_type": "execute_result"
    }
   ],
   "source": [
    "// Extract witness files\n",
    "def extractWitness():Unit = {\n",
    "    val experiments = Random.shuffle(expDir.glob(\"**/sample*.json\").toList)\n",
    "    experiments.foreach{cfg =>\n",
    "        val runCFG = read[RunConfig](cfg.contentAsString)\n",
    "        val runDir = File(runCFG.outFolder.get)\n",
    "        println(s\"${cfg}\")\n",
    "        val stdoutF = runDir / \"stdoutextract.txt\"\n",
    "        val stderrF = runDir / \"stderrextract.txt\"\n",
    "        val p = Process(s\"java -jar ${path} -m readDB -c $cfg\",\n",
    "                        runDir.toJava,\n",
    "                        \"DYLD_LIBRARY_PATH\"->\"/Users/shawnmeier/software/z3/build\")\n",
    "        p ! ProcessLogger(v => stdoutF.append(v + \"\\n\"),v => stderrF.append(v + \"\\n\"))\n",
    "    }\n",
    "}\n",
    "extractWitness()"
   ]
  },
  {
   "cell_type": "code",
   "execution_count": 7,
   "metadata": {},
   "outputs": [
    {
     "data": {
      "text/plain": [
       "defined \u001b[32mfunction\u001b[39m \u001b[36mdeleteResults\u001b[39m"
      ]
     },
     "execution_count": 7,
     "metadata": {},
     "output_type": "execute_result"
    }
   ],
   "source": [
    "// delete all results directories\n",
    "def deleteResults():Unit = {\n",
    "    val experiments = Random.shuffle(expDir.glob(\"**/sample*.json\").toList)\n",
    "    experiments.map(v => v.toString.replace(\".json\",\"\")).foreach{v => File(v).delete()}\n",
    "}\n",
    "//deleteResults()"
   ]
  },
  {
   "cell_type": "markdown",
   "metadata": {},
   "source": [
    "Count Results of Verification With No Model\n",
    "-------------------------------------------"
   ]
  },
  {
   "cell_type": "code",
   "execution_count": 9,
   "metadata": {},
   "outputs": [
    {
     "name": "stdout",
     "output_type": "stream",
     "text": [
      "Unreachable\n",
      "-----------\n",
      "org.ligi.etheremote/sample2/result.txt\n",
      "org.ligi.etheremote/sample0/result.txt\n",
      "net.khertan.forrunners/sample1/result.txt\n",
      "Proven\n",
      "-----------\n",
      "org.ligi.etheremote/sample3/result.txt\n",
      "org.ligi.etheremote/sample1/result.txt\n",
      "org.vudroid/sample0/result.txt\n",
      "net.khertan.forrunners/sample2/result.txt\n",
      "net.khertan.forrunners/sample0/result.txt\n",
      "de.sigfood/sample2/result.txt\n",
      "de.sigfood/sample3/result.txt\n",
      "de.sigfood/sample1/result.txt\n",
      "de.sigfood/sample0/result.txt\n",
      "com.ridgelineapps.resdicegame/sample2/result.txt\n",
      "com.ridgelineapps.resdicegame/sample0/result.txt\n",
      "Timeout\n",
      "-----------\n",
      "org.vudroid/sample2/result.txt\n",
      "org.vudroid/sample3/result.txt\n",
      "org.vudroid/sample1/result.txt\n",
      "net.khertan.forrunners/sample3/result.txt\n",
      "com.ridgelineapps.resdicegame/sample3/result.txt\n",
      "com.ridgelineapps.resdicegame/sample1/result.txt\n"
     ]
    },
    {
     "data": {
      "text/plain": [
       "\u001b[36mallResults\u001b[39m: \u001b[32mMap\u001b[39m[\u001b[32mString\u001b[39m, \u001b[32mList\u001b[39m[\u001b[32mFile\u001b[39m]] = \u001b[33mHashMap\u001b[39m(\n",
       "  \u001b[32m\"Unreachable\"\u001b[39m -> \u001b[33mList\u001b[39m(\n",
       "    /Users/shawnmeier/Documents/source/bounder/experiments/fdroid_subset_5/org.ligi.etheremote/sample2/result.txt,\n",
       "    /Users/shawnmeier/Documents/source/bounder/experiments/fdroid_subset_5/org.ligi.etheremote/sample0/result.txt,\n",
       "    /Users/shawnmeier/Documents/source/bounder/experiments/fdroid_subset_5/net.khertan.forrunners/sample1/result.txt\n",
       "  ),\n",
       "  \u001b[32m\"Proven\"\u001b[39m -> \u001b[33mList\u001b[39m(\n",
       "    /Users/shawnmeier/Documents/source/bounder/experiments/fdroid_subset_5/org.ligi.etheremote/sample3/result.txt,\n",
       "    /Users/shawnmeier/Documents/source/bounder/experiments/fdroid_subset_5/org.ligi.etheremote/sample1/result.txt,\n",
       "    /Users/shawnmeier/Documents/source/bounder/experiments/fdroid_subset_5/org.vudroid/sample0/result.txt,\n",
       "    /Users/shawnmeier/Documents/source/bounder/experiments/fdroid_subset_5/net.khertan.forrunners/sample2/result.txt,\n",
       "    /Users/shawnmeier/Documents/source/bounder/experiments/fdroid_subset_5/net.khertan.forrunners/sample0/result.txt,\n",
       "    /Users/shawnmeier/Documents/source/bounder/experiments/fdroid_subset_5/de.sigfood/sample2/result.txt,\n",
       "    /Users/shawnmeier/Documents/source/bounder/experiments/fdroid_subset_5/de.sigfood/sample3/result.txt,\n",
       "    /Users/shawnmeier/Documents/source/bounder/experiments/fdroid_subset_5/de.sigfood/sample1/result.txt,\n",
       "    /Users/shawnmeier/Documents/source/bounder/experiments/fdroid_subset_5/de.sigfood/sample0/result.txt,\n",
       "    /Users/shawnmeier/Documents/source/bounder/experiments/fdroid_subset_5/com.ridgelineapps.resdicegame/sample2/result.txt,\n",
       "    /Users/shawnmeier/Documents/source/bounder/experiments/fdroid_subset_5/com.ridgelineapps.resdicegame/sample0/result.txt\n",
       "  ),\n",
       "  \u001b[32m\"Timeout\"\u001b[39m -> \u001b[33mList\u001b[39m(\n",
       "    /Users/shawnmeier/Documents/source/bounder/experiments/fdroid_subset_5/org.vudroid/sample2/result.txt,\n",
       "    /Users/shawnmeier/Documents/source/bounder/experiments/fdroid_subset_5/org.vudroid/sample3/result.txt,\n",
       "    /Users/shawnmeier/Documents/source/bounder/experiments/fdroid_subset_5/org.v...\n",
       "\u001b[36mallResultsCount\u001b[39m: \u001b[32mMap\u001b[39m[\u001b[32mString\u001b[39m, \u001b[32mInt\u001b[39m] = \u001b[33mHashMap\u001b[39m(\n",
       "  \u001b[32m\"Unreachable\"\u001b[39m -> \u001b[32m3\u001b[39m,\n",
       "  \u001b[32m\"Proven\"\u001b[39m -> \u001b[32m11\u001b[39m,\n",
       "  \u001b[32m\"Timeout\"\u001b[39m -> \u001b[32m6\u001b[39m\n",
       ")"
      ]
     },
     "execution_count": 9,
     "metadata": {},
     "output_type": "execute_result"
    }
   ],
   "source": [
    "val allResults = expDir.glob(\"**/result.txt\").toList.groupBy(r => r.contentAsString)\n",
    "val allResultsCount = expDir.glob(\"**/result.txt\").toList.groupBy(r => r.contentAsString).map{\n",
    "    case (k,v) => (k -> v.size)\n",
    "}\n",
    "allResults.foreach{case (k,v) => \n",
    "    println(k)\n",
    "    println(\"-----------\")\n",
    "    v.foreach{v => println(v.toString.split(\"/\").takeRight(3).mkString(\"/\"))}\n",
    "}"
   ]
  },
  {
   "cell_type": "code",
   "execution_count": null,
   "metadata": {},
   "outputs": [],
   "source": [
    "// disjunction"
   ]
  },
  {
   "cell_type": "markdown",
   "metadata": {},
   "source": [
    "Overall process\n",
    "\n",
    " - set of apps\n",
    "     - set of all dereference\n",
    "     - smallest spec to remove the most alarms\n",
    " - rq: The set of specs to prove a given location are \"small\"\n",
    "     - spec: \"small\" means that few callbacks and callins are mentioned in the specification\n",
    "     - search: we visit a small number of callbacks\n",
    "     - trace abstraction: is small \n",
    "     - thresher hypothesis: materialized heap cells at any given location is small\n",
    " - 1. Number of dereferneces that we can prove with no fwk model - filter trival ones\n",
    " - 2. we develop a specifiction to address most of the alarms\n",
    " - plot cumulative distribution - x axis is number of specs, y total number of alarms\n",
    " - plot: average number of specs actually used by the verifier to prove a location\n",
    " - spec is not vacuous:\n",
    "     - are callbacks reachable?\n",
    "     - Is spec trivially unsound? (i.e. no traces are accepted)\n",
    "\n",
    "\n",
    "\n",
    "Unreachable\n",
    "-----------\n",
    "org.ligi.etheremote/sample2/result.txt - kotlin library actually unreachable\n",
    "org.ligi.etheremote/sample0/result.txt - library method\n",
    "net.khertan.forrunners/sample1/result.txt - library method\n",
    "Witnessed\n",
    "-----------\n",
    "net.khertan.forrunners/sample2/result.txt - (library) TODO: false alarm, handle literal read `r1 = \"\"; r1.toString`\n",
    "de.sigfood/sample3/result.txt - TODO: witness on entering internal method\n",
    "de.sigfood/sample0/result.txt - (library) TODO: false alarm, @this cannot be null.\n",
    "Proven\n",
    "-----------\n",
    "org.ligi.etheremote/sample3/result.txt - \"this.something\"\n",
    "net.khertan.forrunners/sample0/result.txt - \"this.something\"\n",
    "de.sigfood/sample2/result.txt - (library) test if null before dereference\n",
    "de.sigfood/sample1/result.txt - (library) test if null before dereference\n",
    "com.ridgelineapps.resdicegame/sample0/result.txt - \"this.something\"\n",
    "Timeout\n",
    "-----------\n",
    "org.vudroid/sample1/result.txt - probably proven with simple spec:\n",
    "    - I(ci v.setOnItemClickListener(l)) <= cb l.onItemClick()\n",
    "    - TODO: why don't we find the `<init>` where `files` field is null? \n",
    "com.ridgelineapps.resdicegame/sample1/result.txt\n",
    "    - I(ci _.setPositiveButton(_,l)) <= cb l.onClick()\n",
    "    - false <= l.onClick() - avoid these by saying \"callback needs to be reachable\"\n",
    "    - \"vacuous checks\"\n",
    "Error\n",
    "-----------\n",
    "org.ligi.etheremote/sample1/stderr.txt - soot unit graph bug - in lib\n",
    "org.vudroid/sample0/stderr.txt - soot unit graph bug\n",
    "org.vudroid/sample2/stderr.txt \n",
    "    - unsupported instruction `f0 cmpl 0.0F`\n",
    "org.vudroid/sample3/stderr.txt \n",
    "    - unsupported instruction `f0 cmpl 0.0F`\n",
    "net.khertan.forrunners/sample3/stderr.txt - soot unit graph bug\n",
    "com.ridgelineapps.resdicegame/sample2/stderr.txt - soot unit graph bug\n",
    "com.ridgelineapps.resdicegame/sample3/stderr.txt \n",
    "    - unsupported instruction `ArrayReference(r4,i4) := IntConst(1);`\n",
    "\n",
    "Notes\n",
    "-----\n",
    " - Need better definition of app/library code, most of the samples above are in libraries (all 3 unreachable)\n",
    " - Should exclude trivial things like `this.toString()` from sampling \n",
    " - Fix a couple bugs\n",
    "     - Read string literal should always be non-null\n",
    "     - corner case where initial state is found when reaching the entry of an internal method\n",
    "     - Missing instructions\n",
    "     - Weird bug in soot unit graph\n",
    "     \n",
    " - justify discarding apps\n",
    "     - discard progard"
   ]
  },
  {
   "cell_type": "markdown",
   "metadata": {},
   "source": [
    "Analysis of Errors\n",
    "---------------------"
   ]
  },
  {
   "cell_type": "code",
   "execution_count": null,
   "metadata": {},
   "outputs": [],
   "source": [
    "def printErrStats():Unit = {\n",
    "    val exn = expDir.glob(\"**/stderr.txt\").toList\n",
    "        .groupBy(e => e.contentAsString.contains(\"Exception in\"))\n",
    "    val errors = exn.getOrElse(true,Set())\n",
    "    val noErrors = exn.getOrElse(false,Set())\n",
    "    println(s\"no error: ${noErrors.size}\")\n",
    "    println(s\"error: ${errors.size}\")\n",
    "\n",
    "    \n",
    "    errors.foreach{e =>\n",
    "        println(e.toString.split(\"/\").takeRight(3).mkString(\"/\"))\n",
    "    }\n",
    "    \n",
    "    errors.foreach{e => \n",
    "        println()\n",
    "        println(e)\n",
    "        println(\"----\")\n",
    "        println(e.contentAsString)\n",
    "    }\n",
    "}\n",
    "printErrStats()"
   ]
  },
  {
   "cell_type": "markdown",
   "metadata": {},
   "source": [
    "Diagnose failures"
   ]
  },
  {
   "cell_type": "code",
   "execution_count": null,
   "metadata": {},
   "outputs": [],
   "source": [
    "val cfg = File(\"/Users/shawnmeier/Documents/source/bounder/experiments/fdroid_subset_5/com.ridgelineapps.resdicegame/sample3.json\")\n",
    "val runCFG = read[RunConfig](cfg.contentAsString)\n",
    "//<com.fasterxml.jackson.databind.deser.BuilderBasedDeserializer: java.lang.Object _deserializeUsingPropertyBased(com.fasterxml.jackson.core.JsonParser,com.fasterxml.jackson.databind.DeserializationContext)>\n",
    "//Driver.readDB(runCFG)"
   ]
  },
  {
   "cell_type": "markdown",
   "metadata": {},
   "source": [
    "Non termination analysis\n",
    "-----------------------------"
   ]
  },
  {
   "cell_type": "code",
   "execution_count": null,
   "metadata": {},
   "outputs": [],
   "source": [
    "import edu.colorado.plv.bounder.symbolicexecutor.state.DBOutputMode\n",
    "def statesAtIf() = {\n",
    "    val base = \"/Users/shawnmeier/Documents/source/bounder/experiments/fdroid_subset_5/org.vudroid/sample2/\"\n",
    "    val db = DBOutputMode(s\"${base}/paths.db\")\n",
    "    val stateMap = db.statesAtLoc(\"%isPre%true%\")\n",
    "    val f = File(base) / \"statesAtLoc.txt\"\n",
    "    if(f.exists()) f.delete()\n",
    "    val locWithMultipleStates = stateMap.filter{case (_,v) => v.size > 1}\n",
    "        .toList.sortBy(v => v._2.size).reverse\n",
    "        \n",
    "    println(locWithMultipleStates.size)\n",
    "    locWithMultipleStates.foreach{case (loc,stateset) =>\n",
    "            f.append(\"\\n\")\n",
    "            f.append(loc.toString)\n",
    "            f.append(\"\\n---------\\n\")\n",
    "            stateset.foreach{state => f.append(state.toString + \"\\n\")}\n",
    "        }\n",
    "}\n",
    "statesAtIf()"
   ]
  },
  {
   "cell_type": "markdown",
   "metadata": {},
   "source": [
    "Top n apps on fdroid\n",
    "--------------------\n",
    "https://fdroid.gitlab.io/metrics/f-droid.org/2021-02-22.json"
   ]
  },
  {
   "cell_type": "code",
   "execution_count": null,
   "metadata": {},
   "outputs": [],
   "source": [
    "val stdout = new StringBuilder\n",
    "val stderr = new StringBuilder\n",
    "val p = Process(s\"ls\",\n",
    "                File(\"/Users/shawnmeier/\").toJava,\n",
    "                \"DYLD_LIBRARY_PATH\"->\"/Users/shawnmeier/software/z3/build\")\n",
    "p ! ProcessLogger(v => stdout.append(v + \"\\n\"),v => stderr.append(v + \"\\n\"))\n",
    "println(s\"stdout: ${stdout.toString}\")\n",
    "println(s\"stderr: ${stderr.toString}\")"
   ]
  },
  {
   "cell_type": "markdown",
   "metadata": {},
   "source": [
    "Other issues to check out\n",
    "------------------------------\n",
    "\n",
    "https://github.com/AntennaPod/AntennaPod/issues/4914"
   ]
  },
  {
   "cell_type": "code",
   "execution_count": null,
   "metadata": {},
   "outputs": [],
   "source": [
    "Map(1->Set(1,2),2->Set(1,2,3),3->Set(1)).toList.sortBy(v => v._2.size).reverse"
   ]
  },
  {
   "cell_type": "code",
   "execution_count": null,
   "metadata": {},
   "outputs": [],
   "source": [
    "import scala.util.Sorting\n",
    "\n",
    "object ReverseOrdering extends Ordering[Int]{\n",
    "    // return positive if a should be first\n",
    "    // return negative if b should be first\n",
    "    def compare(a:Int, b:Int) = b - a\n",
    "}\n",
    "\n",
    "val pq = collection.mutable.PriorityQueue(1, 2, 5, 3, 7)(ReverseOrdering)\n",
    "println(pq)\n",
    "println(pq.clone.dequeueAll)"
   ]
  },
  {
   "cell_type": "code",
   "execution_count": null,
   "metadata": {},
   "outputs": [],
   "source": [
    "pq.grouped(2).foreach{println}"
   ]
  },
  {
   "cell_type": "code",
   "execution_count": null,
   "metadata": {},
   "outputs": [],
   "source": [
    "pq.toList"
   ]
  },
  {
   "cell_type": "code",
   "execution_count": null,
   "metadata": {},
   "outputs": [],
   "source": [
    "pq"
   ]
  },
  {
   "cell_type": "code",
   "execution_count": null,
   "metadata": {},
   "outputs": [],
   "source": [
    "pq.groupMapReduce(v => v%2 == 0)(a => a+1){case (a,b)=> a+b }"
   ]
  },
  {
   "cell_type": "code",
   "execution_count": null,
   "metadata": {},
   "outputs": [],
   "source": [
    "List(1,2,3).max"
   ]
  },
  {
   "cell_type": "code",
   "execution_count": null,
   "metadata": {},
   "outputs": [],
   "source": [
    "M"
   ]
  },
  {
   "cell_type": "code",
   "execution_count": null,
   "metadata": {},
   "outputs": [],
   "source": [
    "Map(\"foo\"->3, \"bar\"->4) + (\"baz\"->5)"
   ]
  },
  {
   "cell_type": "code",
   "execution_count": null,
   "metadata": {},
   "outputs": [],
   "source": []
  }
 ],
 "metadata": {
  "kernelspec": {
   "display_name": "Scala",
   "language": "scala",
   "name": "scala"
  },
  "language_info": {
   "codemirror_mode": "text/x-scala",
   "file_extension": ".sc",
   "mimetype": "text/x-scala",
   "name": "scala",
   "nbconvert_exporter": "script",
   "version": "2.13.1"
  }
 },
 "nbformat": 4,
 "nbformat_minor": 4
}
