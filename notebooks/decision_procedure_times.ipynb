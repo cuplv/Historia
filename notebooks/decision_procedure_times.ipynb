{
 "cells": [
  {
   "cell_type": "code",
   "execution_count": 15,
   "metadata": {},
   "outputs": [
    {
     "name": "stdout",
     "output_type": "stream",
     "text": [
      "352 - Row 1 withUnsub time(ms) 14.485251\n",
      "352 - Row 1 noUnsub time(ms) 9.801902\n",
      "448 - Row 2 badDisable time(ms) 19.522422\n",
      "448 - Row 2 disable time(ms) 51.283815\n",
      "448 - Row 2 noDisable time(ms) 16.337600\n",
      "638 - Row 5 withCheck time(ms) 568.046007\n",
      "638 - Row 5 noCheck time(ms) 20.122354\n",
      "724 - Row 4 Witnessed time(ms) 254.129539\n"
     ]
    }
   ],
   "source": [
    "log = open(\"/Users/shawnmeier/Documents/source/bounder/soot_hopper/log/logging_fullExp.log\",'r')\n",
    "loglines = log.readlines()\n",
    "log.close()\n",
    "\n",
    "#get index of recent run\n",
    "startInd = 0\n",
    "lastRunStart = 0\n",
    "for line in loglines:\n",
    "    if \"Starting experiments run\" in line:\n",
    "        lastRunStart = startInd\n",
    "    startInd += 1\n",
    "\n",
    "expLines = loglines[lastRunStart:]\n",
    "rowtimes = [line for line in loglines if \"Row\" in line]\n",
    "for rowtime in rowtimes:\n",
    "    spl = rowtime.split(\":\")\n",
    "    print(\"%s %f\" % (spl[-2], float(spl[-1])/1000000))"
   ]
  },
  {
   "cell_type": "code",
   "execution_count": 12,
   "metadata": {},
   "outputs": [
    {
     "data": {
      "text/plain": [
       "14485250.918"
      ]
     },
     "execution_count": 12,
     "metadata": {},
     "output_type": "execute_result"
    }
   ],
   "source": [
    "float(\"1.4485250918E7\")"
   ]
  },
  {
   "cell_type": "code",
   "execution_count": 2,
   "metadata": {},
   "outputs": [
    {
     "name": "stdout",
     "output_type": "stream",
     "text": [
      "feasibility lines: 12030\n",
      "subsumption lines: 1449\n"
     ]
    }
   ],
   "source": [
    "import matplotlib.pyplot as plt\n",
    "def parseTime(s):\n",
    "    return float(s.split(\":\")[-1].strip())/1000000\n",
    "feasibility_times = [parseTime(line) for line in loglines if \"feasibility \" in line]\n",
    "#subsumption time\n",
    "subsumption_times = [parseTime(line) for line in loglines if \"subsumption \" in line]\n",
    "print(\"feasibility lines: %i\" % len(feasibility_times))\n",
    "print(\"subsumption lines: %i\" % len(subsumption_times))"
   ]
  },
  {
   "cell_type": "code",
   "execution_count": 10,
   "metadata": {},
   "outputs": [
    {
     "data": {
      "image/png": "[encoded data removed]",
      "text/plain": [
       "<Figure size 432x288 with 1 Axes>"
      ]
     },
     "metadata": {
      "needs_background": "light"
     },
     "output_type": "display_data"
    }
   ],
   "source": [
    "plt.hist(feasibility_times, color='white',edgecolor='black')\n",
    "plt.xlabel(\"time (s)\")\n",
    "plt.ylabel(\"count\")\n",
    "plt.yscale('log')\n",
    "plt.title('Feasibility Calls to SMT Solver')\n",
    "plt.savefig(\"/Users/shawnmeier/Documents/source/bounder_paper/Bounder/paper2/figures/feas_time.png\")\n",
    "plt.show()"
   ]
  },
  {
   "cell_type": "code",
   "execution_count": 11,
   "metadata": {},
   "outputs": [
    {
     "data": {
      "image/png": "[encoded data removed]",
      "text/plain": [
       "<Figure size 432x288 with 1 Axes>"
      ]
     },
     "metadata": {
      "needs_background": "light"
     },
     "output_type": "display_data"
    }
   ],
   "source": [
    "plt.hist(subsumption_times, bins=100, color='white',edgecolor='black')\n",
    "plt.xlabel(\"time (s)\")\n",
    "plt.ylabel(\"count\")\n",
    "plt.yscale('log')\n",
    "plt.title('Entailment Calls to SMT Sovler')\n",
    "plt.savefig(\"/Users/shawnmeier/Documents/source/bounder_paper/Bounder/paper2/figures/subs_time.png\")\n",
    "plt.show()"
   ]
  },
  {
   "cell_type": "code",
   "execution_count": null,
   "metadata": {},
   "outputs": [],
   "source": []
  }
 ],
 "metadata": {
  "kernelspec": {
   "display_name": "Python 3",
   "language": "python",
   "name": "python3"
  },
  "language_info": {
   "codemirror_mode": {
    "name": "ipython",
    "version": 3
   },
   "file_extension": ".py",
   "mimetype": "text/x-python",
   "name": "python",
   "nbconvert_exporter": "python",
   "pygments_lexer": "ipython3",
   "version": "3.6.5"
  }
 },
 "nbformat": 4,
 "nbformat_minor": 4
}
