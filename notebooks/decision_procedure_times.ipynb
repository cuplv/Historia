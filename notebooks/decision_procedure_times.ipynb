{
 "cells": [
  {
   "cell_type": "code",
   "execution_count": 1,
   "metadata": {},
   "outputs": [
    {
     "ename": "FileNotFoundError",
     "evalue": "[Errno 2] No such file or directory: '/Users/shawnmeier/Documents/source/bounder/soot_hopper/log/logging.log'",
     "output_type": "error",
     "traceback": [
      "\u001b[0;31m---------------------------------------------------------------------------\u001b[0m",
      "\u001b[0;31mFileNotFoundError\u001b[0m                         Traceback (most recent call last)",
      "Cell \u001b[0;32mIn[1], line 4\u001b[0m\n\u001b[1;32m      1\u001b[0m \u001b[38;5;66;03m# extract log file and make runtime plots and tables\u001b[39;00m\n\u001b[1;32m      2\u001b[0m \n\u001b[1;32m      3\u001b[0m \u001b[38;5;66;03m#log = open(\"/Users/shawnmeier/Documents/source/bounder/soot_hopper/log/logging.log-apr12-fullrun2\",'r')\u001b[39;00m\n\u001b[0;32m----> 4\u001b[0m log \u001b[38;5;241m=\u001b[39m \u001b[38;5;28;43mopen\u001b[39;49m\u001b[43m(\u001b[49m\u001b[38;5;124;43m\"\u001b[39;49m\u001b[38;5;124;43m/Users/shawnmeier/Documents/source/bounder/soot_hopper/log/logging.log\u001b[39;49m\u001b[38;5;124;43m\"\u001b[39;49m\u001b[43m,\u001b[49m\u001b[38;5;124;43m'\u001b[39;49m\u001b[38;5;124;43mr\u001b[39;49m\u001b[38;5;124;43m'\u001b[39;49m\u001b[43m)\u001b[49m\n\u001b[1;32m      6\u001b[0m loglines \u001b[38;5;241m=\u001b[39m log\u001b[38;5;241m.\u001b[39mreadlines()\n\u001b[1;32m      7\u001b[0m log\u001b[38;5;241m.\u001b[39mclose()\n",
      "File \u001b[0;32m~/.local/lib/python3.10/site-packages/IPython/core/interactiveshell.py:282\u001b[0m, in \u001b[0;36m_modified_open\u001b[0;34m(file, *args, **kwargs)\u001b[0m\n\u001b[1;32m    275\u001b[0m \u001b[38;5;28;01mif\u001b[39;00m file \u001b[38;5;129;01min\u001b[39;00m {\u001b[38;5;241m0\u001b[39m, \u001b[38;5;241m1\u001b[39m, \u001b[38;5;241m2\u001b[39m}:\n\u001b[1;32m    276\u001b[0m     \u001b[38;5;28;01mraise\u001b[39;00m \u001b[38;5;167;01mValueError\u001b[39;00m(\n\u001b[1;32m    277\u001b[0m         \u001b[38;5;124mf\u001b[39m\u001b[38;5;124m\"\u001b[39m\u001b[38;5;124mIPython won\u001b[39m\u001b[38;5;124m'\u001b[39m\u001b[38;5;124mt let you open fd=\u001b[39m\u001b[38;5;132;01m{\u001b[39;00mfile\u001b[38;5;132;01m}\u001b[39;00m\u001b[38;5;124m by default \u001b[39m\u001b[38;5;124m\"\u001b[39m\n\u001b[1;32m    278\u001b[0m         \u001b[38;5;124m\"\u001b[39m\u001b[38;5;124mas it is likely to crash IPython. If you know what you are doing, \u001b[39m\u001b[38;5;124m\"\u001b[39m\n\u001b[1;32m    279\u001b[0m         \u001b[38;5;124m\"\u001b[39m\u001b[38;5;124myou can use builtins\u001b[39m\u001b[38;5;124m'\u001b[39m\u001b[38;5;124m open.\u001b[39m\u001b[38;5;124m\"\u001b[39m\n\u001b[1;32m    280\u001b[0m     )\n\u001b[0;32m--> 282\u001b[0m \u001b[38;5;28;01mreturn\u001b[39;00m \u001b[43mio_open\u001b[49m\u001b[43m(\u001b[49m\u001b[43mfile\u001b[49m\u001b[43m,\u001b[49m\u001b[43m \u001b[49m\u001b[38;5;241;43m*\u001b[39;49m\u001b[43margs\u001b[49m\u001b[43m,\u001b[49m\u001b[43m \u001b[49m\u001b[38;5;241;43m*\u001b[39;49m\u001b[38;5;241;43m*\u001b[39;49m\u001b[43mkwargs\u001b[49m\u001b[43m)\u001b[49m\n",
      "\u001b[0;31mFileNotFoundError\u001b[0m: [Errno 2] No such file or directory: '/Users/shawnmeier/Documents/source/bounder/soot_hopper/log/logging.log'"
     ]
    }
   ],
   "source": [
    "# extract log file and make runtime plots and tables\n",
    "\n",
    "#log = open(\"/Users/shawnmeier/Documents/source/bounder/soot_hopper/log/logging.log-apr12-fullrun2\",'r')\n",
    "log = open(\"/Users/shawnmeier/Documents/source/bounder/soot_hopper/log/logging.log\",'r')\n",
    "\n",
    "loglines = log.readlines()\n",
    "log.close()\n",
    "\n",
    "#get index of recent run\n",
    "startInd = 0\n",
    "lastRunStart = 0\n",
    "for line in loglines:\n",
    "    if \"Starting experiments run\" in line:\n",
    "        lastRunStart = startInd\n",
    "    startInd += 1\n",
    "\n",
    "expLines = loglines[lastRunStart:]\n",
    "rowtimes = [line for line in loglines if \"Row\" in line and \"time(ms)\" in line]\n",
    "for rowtime in rowtimes:\n",
    "    spl = rowtime.split(\":\")\n",
    "    print(\"%s %f\" % (spl[-2], float(spl[-1])/1000000))"
   ]
  },
  {
   "cell_type": "code",
   "execution_count": 16,
   "metadata": {},
   "outputs": [
    {
     "name": "stdout",
     "output_type": "stream",
     "text": [
      "feasibility lines: 17255\n",
      "subsumption lines: 2495\n"
     ]
    }
   ],
   "source": [
    "import matplotlib.pyplot as plt\n",
    "def parseTime(s):\n",
    "    return float(s.split(\":\")[-1].strip())/1000000\n",
    "feasibility_times = [parseTime(line) for line in loglines if \"feasibility \" in line]\n",
    "#subsumption time\n",
    "\n",
    "subsumption_times_true = [parseTime(line) for line in loglines if \"subsumption \" in line and \"result:true\" in line]\n",
    "subsumption_times_false = [parseTime(line) for line in loglines if \"subsumption \" in line and \"result:false\" in line]\n",
    "print(\"feasibility lines: %i\" % len(feasibility_times))\n",
    "print(\"subsumption lines: %i\" % (len(subsumption_times_true) + len(subsumption_times_false)))"
   ]
  },
  {
   "cell_type": "code",
   "execution_count": 17,
   "metadata": {},
   "outputs": [
    {
     "data": {
      "image/png": "[encoded data removed]",
      "text/plain": [
       "<Figure size 432x288 with 1 Axes>"
      ]
     },
     "metadata": {
      "needs_background": "light"
     },
     "output_type": "display_data"
    }
   ],
   "source": [
    "plt.hist(feasibility_times, color='white',edgecolor='black')\n",
    "plt.xlabel(\"time (s)\")\n",
    "plt.ylabel(\"count\")\n",
    "plt.yscale('log')\n",
    "plt.title('Feasibility Calls to SMT Solver')\n",
    "plt.savefig(\"/Users/shawnmeier/Documents/source/bounder_paper/Bounder/paper2/figures/feas_time.png\",dpi=400)\n",
    "plt.show()"
   ]
  },
  {
   "cell_type": "code",
   "execution_count": 18,
   "metadata": {},
   "outputs": [
    {
     "data": {
      "image/png": "[encoded data removed]",
      "text/plain": [
       "<Figure size 432x288 with 1 Axes>"
      ]
     },
     "metadata": {
      "needs_background": "light"
     },
     "output_type": "display_data"
    }
   ],
   "source": [
    "plt.hist(subsumption_times_true, bins=100, color='white',edgecolor='black')\n",
    "plt.xlabel(\"time (s)\")\n",
    "plt.ylabel(\"count\")\n",
    "plt.yscale('log')\n",
    "plt.title('Entailment Calls to SMT Sovler resulting in subsumption')\n",
    "plt.savefig(\"/Users/shawnmeier/Desktop/subs_time_true.png\",dpi=400)\n",
    "plt.show()"
   ]
  },
  {
   "cell_type": "code",
   "execution_count": 13,
   "metadata": {},
   "outputs": [
    {
     "data": {
      "image/png": "[encoded data removed]",
      "text/plain": [
       "<Figure size 432x288 with 1 Axes>"
      ]
     },
     "metadata": {
      "needs_background": "light"
     },
     "output_type": "display_data"
    }
   ],
   "source": [
    "plt.hist(subsumption_times_false, bins=100, color='white',edgecolor='black')\n",
    "plt.xlabel(\"time (s)\")\n",
    "plt.ylabel(\"count\")\n",
    "plt.yscale('log')\n",
    "plt.title('Entailment Calls to SMT Sovler resulting in no subsumption')\n",
    "plt.savefig(\"/Users/shawnmeier/Desktop/subs_time_false.png\", dpi=400)\n",
    "plt.show()"
   ]
  },
  {
   "cell_type": "code",
   "execution_count": 20,
   "metadata": {},
   "outputs": [
    {
     "name": "stdout",
     "output_type": "stream",
     "text": [
      "true: 0.6831542500246154\n",
      "false: 0.958897073121659\n"
     ]
    }
   ],
   "source": [
    "import numpy\n",
    "print(\"true: %s\" % str(numpy.mean(subsumption_times_true)))\n",
    "print(\"false: %s\" % str(numpy.mean(subsumption_times_false)))"
   ]
  },
  {
   "cell_type": "code",
   "execution_count": null,
   "metadata": {},
   "outputs": [],
   "source": []
  }
 ],
 "metadata": {
  "kernelspec": {
   "display_name": "Python 3 (ipykernel)",
   "language": "python",
   "name": "python3"
  },
  "language_info": {
   "codemirror_mode": {
    "name": "ipython",
    "version": 3
   },
   "file_extension": ".py",
   "mimetype": "text/x-python",
   "name": "python",
   "nbconvert_exporter": "python",
   "pygments_lexer": "ipython3",
   "version": "3.10.6"
  },
  "vscode": {
   "interpreter": {
    "hash": "3c2189f35b48084f9291c4a890863e7a7f78f705f3a7ab5ee048c1f37ce6a6b4"
   }
  }
 },
 "nbformat": 4,
 "nbformat_minor": 4
}
