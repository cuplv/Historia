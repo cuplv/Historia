{
 "cells": [
  {
   "cell_type": "code",
   "execution_count": 1,
   "metadata": {},
   "outputs": [
    {
     "data": {
      "text/plain": [
       "['2021-10-29 07:15:29 WARN  scala:127 - Row 1 withUnsub time: 17315\\n',\n",
       " '2021-10-29 07:15:45 WARN  scala:127 - Row 1 noUnsub time: 11547\\n',\n",
       " '2021-10-29 07:16:19 WARN  scala:226 - Row 2 badDisable time: 31824\\n',\n",
       " '2021-10-29 07:17:41 WARN  scala:226 - Row 2 disable time: 79116\\n',\n",
       " '2021-10-29 07:18:02 WARN  scala:226 - Row 2 noDisable time: 17386\\n',\n",
       " '2021-10-29 07:27:50 WARN  scala:422 - Row 5 withCheck time: 585785\\n',\n",
       " '2021-10-29 07:28:16 WARN  scala:422 - Row 5 noCheck time: 23030\\n',\n",
       " '2021-10-29 07:43:14 WARN  scala:515 - Row 4 Witnessed time: 895327\\n']"
      ]
     },
     "execution_count": 1,
     "metadata": {},
     "output_type": "execute_result"
    }
   ],
   "source": [
    "log = open(\"/Users/shawnmeier/Documents/source/bounder/soot_hopper/log/logging.log\",'r')\n",
    "loglines = log.readlines()\n",
    "log.close()\n",
    "rowtimes = [line for line in loglines if \"Row\" in line]\n",
    "rowtimes"
   ]
  },
  {
   "cell_type": "code",
   "execution_count": 2,
   "metadata": {},
   "outputs": [
    {
     "name": "stdout",
     "output_type": "stream",
     "text": [
      "feasibility lines: 15222\n",
      "subsumption lines: 1837\n"
     ]
    }
   ],
   "source": [
    "import matplotlib.pyplot as plt\n",
    "def parseTime(s):\n",
    "    return int(s.split(\":\")[-1].strip())/1000\n",
    "feasibility_times = [parseTime(line) for line in loglines if \"feasibility time\" in line]\n",
    "#subsumption time\n",
    "subsumption_times = [parseTime(line) for line in loglines if \"subsumption time\" in line]\n",
    "print(\"feasibility lines: %i\" % len(feasibility_times))\n",
    "print(\"subsumption lines: %i\" % len(subsumption_times))"
   ]
  },
  {
   "cell_type": "code",
   "execution_count": 3,
   "metadata": {},
   "outputs": [
    {
     "data": {
      "image/png": "[encoded data removed]",
      "text/plain": [
       "<Figure size 432x288 with 1 Axes>"
      ]
     },
     "metadata": {
      "needs_background": "light"
     },
     "output_type": "display_data"
    }
   ],
   "source": [
    "plt.hist(feasibility_times)\n",
    "plt.xlabel(\"time (s)\")\n",
    "plt.ylabel(\"Feasibility query count\")\n",
    "plt.yscale('log')\n",
    "#plt.savefig(\"/Users/shawnmeier/Documents/source/bounder_paper/Bounder/paper2/figures/feas_time.png\")\n",
    "plt.show()"
   ]
  },
  {
   "cell_type": "code",
   "execution_count": 4,
   "metadata": {},
   "outputs": [
    {
     "data": {
      "image/png": "[encoded data removed]",
      "text/plain": [
       "<Figure size 432x288 with 1 Axes>"
      ]
     },
     "metadata": {
      "needs_background": "light"
     },
     "output_type": "display_data"
    }
   ],
   "source": [
    "plt.hist(subsumption_times)\n",
    "plt.xlabel(\"time (s)\")\n",
    "plt.ylabel(\"Subsumption query count\")\n",
    "plt.yscale('log')\n",
    "#plt.savefig(\"/Users/shawnmeier/Documents/source/bounder_paper/Bounder/paper2/figures/subs_time.png\")\n",
    "plt.show()"
   ]
  },
  {
   "cell_type": "code",
   "execution_count": null,
   "metadata": {},
   "outputs": [],
   "source": []
  }
 ],
 "metadata": {
  "kernelspec": {
   "display_name": "Python 3",
   "language": "python",
   "name": "python3"
  },
  "language_info": {
   "codemirror_mode": {
    "name": "ipython",
    "version": 3
   },
   "file_extension": ".py",
   "mimetype": "text/x-python",
   "name": "python",
   "nbconvert_exporter": "python",
   "pygments_lexer": "ipython3",
   "version": "3.6.5"
  }
 },
 "nbformat": 4,
 "nbformat_minor": 4
}
