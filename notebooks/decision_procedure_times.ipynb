{
 "cells": [
  {
   "cell_type": "code",
   "execution_count": 1,
   "metadata": {},
   "outputs": [],
   "source": [
    "# extract log file and make runtime plots and tables\n",
    "\n",
    "#log = open(\"/Users/shawnmeier/Documents/source/bounder/soot_hopper/log/logging.log-apr12-fullrun2\",'r')\n",
    "log = open(\"/Users/shawnmeier/Documents/source/bounder/soot_hopper/log/logging.log\",'r')\n",
    "\n",
    "loglines = log.readlines()\n",
    "log.close()\n",
    "\n",
    "#get index of recent run\n",
    "startInd = 0\n",
    "lastRunStart = 0\n",
    "for line in loglines:\n",
    "    if \"Starting experiments run\" in line:\n",
    "        lastRunStart = startInd\n",
    "    startInd += 1\n",
    "\n",
    "expLines = loglines[lastRunStart:]\n",
    "rowtimes = [line for line in loglines if \"Row\" in line and \"time(ms)\" in line]\n",
    "for rowtime in rowtimes:\n",
    "    spl = rowtime.split(\":\")\n",
    "    print(\"%s %f\" % (spl[-2], float(spl[-1])/1000000))"
   ]
  },
  {
   "cell_type": "code",
   "execution_count": 2,
   "metadata": {},
   "outputs": [
    {
     "name": "stderr",
     "output_type": "stream",
     "text": [
      "In /Users/shawnmeier/.pyenv/versions/anaconda3-5.3.1/lib/python3.7/site-packages/matplotlib/mpl-data/stylelib/_classic_test.mplstyle: \n",
      "The text.latex.unicode rcparam was deprecated in Matplotlib 3.0 and will be removed in 3.2.\n",
      "In /Users/shawnmeier/.pyenv/versions/anaconda3-5.3.1/lib/python3.7/site-packages/matplotlib/mpl-data/stylelib/_classic_test.mplstyle: \n",
      "The savefig.frameon rcparam was deprecated in Matplotlib 3.1 and will be removed in 3.3.\n",
      "In /Users/shawnmeier/.pyenv/versions/anaconda3-5.3.1/lib/python3.7/site-packages/matplotlib/mpl-data/stylelib/_classic_test.mplstyle: \n",
      "The pgf.debug rcparam was deprecated in Matplotlib 3.0 and will be removed in 3.2.\n",
      "In /Users/shawnmeier/.pyenv/versions/anaconda3-5.3.1/lib/python3.7/site-packages/matplotlib/mpl-data/stylelib/_classic_test.mplstyle: \n",
      "The verbose.level rcparam was deprecated in Matplotlib 3.1 and will be removed in 3.3.\n",
      "In /Users/shawnmeier/.pyenv/versions/anaconda3-5.3.1/lib/python3.7/site-packages/matplotlib/mpl-data/stylelib/_classic_test.mplstyle: \n",
      "The verbose.fileo rcparam was deprecated in Matplotlib 3.1 and will be removed in 3.3.\n"
     ]
    },
    {
     "name": "stdout",
     "output_type": "stream",
     "text": [
      "feasibility lines: 16762\n"
     ]
    },
    {
     "ename": "NameError",
     "evalue": "name 'subsumption_times' is not defined",
     "output_type": "error",
     "traceback": [
      "\u001b[0;31m---------------------------------------------------------------------------\u001b[0m",
      "\u001b[0;31mNameError\u001b[0m                                 Traceback (most recent call last)",
      "\u001b[0;32m<ipython-input-2-bb732dc2db68>\u001b[0m in \u001b[0;36m<module>\u001b[0;34m()\u001b[0m\n\u001b[1;32m      8\u001b[0m \u001b[0msubsumption_times_false\u001b[0m \u001b[0;34m=\u001b[0m \u001b[0;34m[\u001b[0m\u001b[0mparseTime\u001b[0m\u001b[0;34m(\u001b[0m\u001b[0mline\u001b[0m\u001b[0;34m)\u001b[0m \u001b[0;32mfor\u001b[0m \u001b[0mline\u001b[0m \u001b[0;32min\u001b[0m \u001b[0mloglines\u001b[0m \u001b[0;32mif\u001b[0m \u001b[0;34m\"subsumption \"\u001b[0m \u001b[0;32min\u001b[0m \u001b[0mline\u001b[0m \u001b[0;32mand\u001b[0m \u001b[0;34m\"result:false\"\u001b[0m \u001b[0;32min\u001b[0m \u001b[0mline\u001b[0m\u001b[0;34m]\u001b[0m\u001b[0;34m\u001b[0m\u001b[0;34m\u001b[0m\u001b[0m\n\u001b[1;32m      9\u001b[0m \u001b[0mprint\u001b[0m\u001b[0;34m(\u001b[0m\u001b[0;34m\"feasibility lines: %i\"\u001b[0m \u001b[0;34m%\u001b[0m \u001b[0mlen\u001b[0m\u001b[0;34m(\u001b[0m\u001b[0mfeasibility_times\u001b[0m\u001b[0;34m)\u001b[0m\u001b[0;34m)\u001b[0m\u001b[0;34m\u001b[0m\u001b[0;34m\u001b[0m\u001b[0m\n\u001b[0;32m---> 10\u001b[0;31m \u001b[0mprint\u001b[0m\u001b[0;34m(\u001b[0m\u001b[0;34m\"subsumption lines: %i\"\u001b[0m \u001b[0;34m%\u001b[0m \u001b[0mlen\u001b[0m\u001b[0;34m(\u001b[0m\u001b[0msubsumption_times\u001b[0m\u001b[0;34m)\u001b[0m\u001b[0;34m)\u001b[0m\u001b[0;34m\u001b[0m\u001b[0;34m\u001b[0m\u001b[0m\n\u001b[0m",
      "\u001b[0;31mNameError\u001b[0m: name 'subsumption_times' is not defined"
     ]
    }
   ],
   "source": [
    "import matplotlib.pyplot as plt\n",
    "def parseTime(s):\n",
    "    return float(s.split(\":\")[-1].strip())/1000000\n",
    "feasibility_times = [parseTime(line) for line in loglines if \"feasibility \" in line]\n",
    "#subsumption time\n",
    "\n",
    "subsumption_times_true = [parseTime(line) for line in loglines if \"subsumption \" in line and \"result:true\" in line]\n",
    "subsumption_times_false = [parseTime(line) for line in loglines if \"subsumption \" in line and \"result:false\" in line]\n",
    "print(\"feasibility lines: %i\" % len(feasibility_times))\n",
    "print(\"subsumption lines: %i\" % len(subsumption_times))"
   ]
  },
  {
   "cell_type": "code",
   "execution_count": 20,
   "metadata": {},
   "outputs": [
    {
     "data": {
      "image/png": "[encoded data removed]",
      "text/plain": [
       "<Figure size 432x288 with 1 Axes>"
      ]
     },
     "metadata": {
      "needs_background": "light"
     },
     "output_type": "display_data"
    }
   ],
   "source": [
    "plt.hist(feasibility_times, color='white',edgecolor='black')\n",
    "plt.xlabel(\"time (s)\")\n",
    "plt.ylabel(\"count\")\n",
    "plt.yscale('log')\n",
    "plt.title('Feasibility Calls to SMT Solver')\n",
    "plt.savefig(\"/Users/shawnmeier/Documents/source/bounder_paper/Bounder/paper2/figures/feas_time.png\",dpi=400)\n",
    "plt.show()"
   ]
  },
  {
   "cell_type": "code",
   "execution_count": 21,
   "metadata": {},
   "outputs": [
    {
     "data": {
      "image/png": "[encoded data removed]",
      "text/plain": [
       "<Figure size 432x288 with 1 Axes>"
      ]
     },
     "metadata": {
      "needs_background": "light"
     },
     "output_type": "display_data"
    }
   ],
   "source": [
    "plt.hist(subsumption_times_true, bins=100, color='white',edgecolor='black')\n",
    "plt.xlabel(\"time (s)\")\n",
    "plt.ylabel(\"count\")\n",
    "plt.yscale('log')\n",
    "plt.title('Entailment Calls to SMT Sovler resulting in subsumption')\n",
    "plt.savefig(\"/Users/shawnmeier/Documents/source/bounder_paper/Bounder/paper2/figures/subs_time_true.png\",dpi=400)\n",
    "plt.show()"
   ]
  },
  {
   "cell_type": "code",
   "execution_count": 22,
   "metadata": {},
   "outputs": [
    {
     "data": {
      "image/png": "[encoded data removed]",
      "text/plain": [
       "<Figure size 432x288 with 1 Axes>"
      ]
     },
     "metadata": {
      "needs_background": "light"
     },
     "output_type": "display_data"
    }
   ],
   "source": [
    "plt.hist(subsumption_times_false, bins=100, color='white',edgecolor='black')\n",
    "plt.xlabel(\"time (s)\")\n",
    "plt.ylabel(\"count\")\n",
    "plt.yscale('log')\n",
    "plt.title('Entailment Calls to SMT Sovler resulting in no subsumption')\n",
    "plt.savefig(\"/Users/shawnmeier/Documents/source/bounder_paper/Bounder/paper2/figures/subs_time_false.png\", dpi=400)\n",
    "plt.show()"
   ]
  },
  {
   "cell_type": "code",
   "execution_count": null,
   "metadata": {},
   "outputs": [],
   "source": []
  }
 ],
 "metadata": {
  "kernelspec": {
   "display_name": "Python 3.7.2 64-bit ('base')",
   "language": "python",
   "name": "python3"
  },
  "language_info": {
   "codemirror_mode": {
    "name": "ipython",
    "version": 3
   },
   "file_extension": ".py",
   "mimetype": "text/x-python",
   "name": "python",
   "nbconvert_exporter": "python",
   "pygments_lexer": "ipython3",
   "version": "3.7.2"
  },
  "vscode": {
   "interpreter": {
    "hash": "3c2189f35b48084f9291c4a890863e7a7f78f705f3a7ab5ee048c1f37ce6a6b4"
   }
  }
 },
 "nbformat": 4,
 "nbformat_minor": 4
}
