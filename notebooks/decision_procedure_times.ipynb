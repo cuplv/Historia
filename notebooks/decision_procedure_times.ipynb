{
 "cells": [
  {
   "cell_type": "code",
   "execution_count": 20,
   "metadata": {},
   "outputs": [
    {
     "data": {
      "text/plain": [
       "['2021-11-04 12:25:17 WARN  Experiments:181 - Row 1 withUnsub time(ms): 1.782288263E7\\n',\n",
       " '2021-11-04 12:25:32 WARN  Experiments:181 - Row 1 noUnsub time(ms): 1.1830737558E7\\n',\n",
       " '2021-11-04 12:26:07 WARN  Experiments:277 - Row 2 badDisable time(ms): 3.0966859613E7\\n',\n",
       " '2021-11-04 12:27:34 WARN  Experiments:277 - Row 2 disable time(ms): 8.379305005E7\\n',\n",
       " '2021-11-04 12:27:49 WARN  Experiments:277 - Row 2 noDisable time(ms): 1.1248391753E7\\n',\n",
       " '2021-11-04 12:38:50 WARN  Experiments:469 - Row 5 withCheck time(ms): 6.57657473501E8\\n',\n",
       " '2021-11-04 12:39:17 WARN  Experiments:469 - Row 5 noCheck time(ms): 2.3225862984E7\\n',\n",
       " '2021-11-04 12:43:01 WARN  Experiments:555 - Row 4 Witnessed time(ms): 2.20843803449E8\\n']"
      ]
     },
     "execution_count": 20,
     "metadata": {},
     "output_type": "execute_result"
    }
   ],
   "source": [
    "log = open(\"/Users/shawnmeier/Documents/source/bounder/soot_hopper/log/logging.log\",'r')\n",
    "loglines = log.readlines()\n",
    "log.close()\n",
    "\n",
    "#get index of recent run\n",
    "startInd = 0\n",
    "lastRunStart = 0\n",
    "for line in loglines:\n",
    "    if \"Starting experiments run\" in line:\n",
    "        lastRunStart = startInd\n",
    "    startInd += 1\n",
    "\n",
    "expLines = loglines[lastRunStart:]\n",
    "rowtimes = [line for line in loglines if \"Row\" in line]\n",
    "rowtimes"
   ]
  },
  {
   "cell_type": "code",
   "execution_count": 23,
   "metadata": {},
   "outputs": [
    {
     "name": "stdout",
     "output_type": "stream",
     "text": [
      "feasibility lines: 15442\n",
      "subsumption lines: 2213\n"
     ]
    }
   ],
   "source": [
    "import matplotlib.pyplot as plt\n",
    "def parseTime(s):\n",
    "    return float(s.split(\":\")[-1].strip())/1000\n",
    "feasibility_times = [parseTime(line) for line in loglines if \"feasibility \" in line]\n",
    "#subsumption time\n",
    "subsumption_times = [parseTime(line) for line in loglines if \"subsumption \" in line]\n",
    "print(\"feasibility lines: %i\" % len(feasibility_times))\n",
    "print(\"subsumption lines: %i\" % len(subsumption_times))"
   ]
  },
  {
   "cell_type": "code",
   "execution_count": 26,
   "metadata": {},
   "outputs": [
    {
     "data": {
      "image/png": "[encoded data removed]",
      "text/plain": [
       "<Figure size 432x288 with 1 Axes>"
      ]
     },
     "metadata": {
      "needs_background": "light"
     },
     "output_type": "display_data"
    }
   ],
   "source": [
    "plt.hist(feasibility_times)\n",
    "plt.xlabel(\"time (s)\")\n",
    "plt.ylabel(\"Feasibility query count\")\n",
    "plt.yscale('log')\n",
    "#plt.savefig(\"/Users/shawnmeier/Documents/source/bounder_paper/Bounder/paper2/figures/feas_time.png\")\n",
    "plt.show()"
   ]
  },
  {
   "cell_type": "code",
   "execution_count": 27,
   "metadata": {},
   "outputs": [
    {
     "data": {
      "image/png": "[encoded data removed]",
      "text/plain": [
       "<Figure size 432x288 with 1 Axes>"
      ]
     },
     "metadata": {
      "needs_background": "light"
     },
     "output_type": "display_data"
    }
   ],
   "source": [
    "plt.hist(subsumption_times, bins=80)\n",
    "plt.xlabel(\"time (s)\")\n",
    "plt.ylabel(\"Subsumption query count\")\n",
    "plt.yscale('log')\n",
    "#plt.savefig(\"/Users/shawnmeier/Documents/source/bounder_paper/Bounder/paper2/figures/subs_time.png\")\n",
    "plt.show()"
   ]
  },
  {
   "cell_type": "code",
   "execution_count": null,
   "metadata": {},
   "outputs": [],
   "source": []
  }
 ],
 "metadata": {
  "kernelspec": {
   "display_name": "Python 3",
   "language": "python",
   "name": "python3"
  },
  "language_info": {
   "codemirror_mode": {
    "name": "ipython",
    "version": 3
   },
   "file_extension": ".py",
   "mimetype": "text/x-python",
   "name": "python",
   "nbconvert_exporter": "python",
   "pygments_lexer": "ipython3",
   "version": "3.6.5"
  }
 },
 "nbformat": 4,
 "nbformat_minor": 4
}
