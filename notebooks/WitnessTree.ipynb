{
 "cells": [
  {
   "cell_type": "code",
   "execution_count": 1,
   "metadata": {
    "scrolled": true
   },
   "outputs": [
    {
     "name": "stderr",
     "output_type": "stream",
     "text": [
      "/Users/shawnmeier/.pyenv/versions/3.6.5/lib/python3.6/site-packages/pandas/compat/__init__.py:117: UserWarning: Could not import the lzma module. Your installed Python is incomplete. Attempting to use lzma compression will result in a RuntimeError.\n",
      "  warnings.warn(msg)\n"
     ]
    }
   ],
   "source": [
    "import pandas as pd\n",
    "import sqlite3\n",
    "from sqlite3 import Error\n",
    "import pylab\n",
    "import json\n",
    "%matplotlib inline\n",
    "import matplotlib.pyplot as plt\n",
    "plt.style.use('seaborn-whitegrid')\n",
    "import numpy as np\n",
    "from IPython.core import display\n",
    "\n",
    "def create_connection(db_file):\n",
    "    conn = None\n",
    "    try:\n",
    "        conn = sqlite3.connect(db_file)\n",
    "    except Error as e:\n",
    "        print(e)\n",
    "    return conn\n",
    "\n",
    "def query2df(conn, query):\n",
    "    return pd.read_sql_query(query,conn)\n",
    "\n",
    "def parse_loc(loc_str):\n",
    "    l = json.loads(loc_str)\n",
    "    loc_type = l[\"$type\"].replace(\"edu.colorado.plv.bounder.ir.\",\"\")\n",
    "    if loc_type == \"AppLoc\":\n",
    "        return [loc_type]\n",
    "    if loc_type.startswith(\"InternalMethod\"):\n",
    "        return [loc_type,l[\"clazz\"],l[\"name\"]]\n",
    "    if loc_type.startswith(\"SkippedInternalMethod\"):\n",
    "        return [loc_type,l[\"clazz\"],l[\"name\"]]\n",
    "    if loc_type.startswith(\"CallbackMethod\"):\n",
    "        return [loc_type,l[\"fmwClazz\"],l[\"fmwName\"]]\n",
    "    if loc_type.startswith(\"GroupedCallinMethod\"):\n",
    "        return [loc_type,l['targetClasses'],l['fmwName']]\n",
    "    raise Exception(\"bad loc: %s\" % loc_str)\n",
    "\n",
    "def loc_at_id(conn,node_id):\n",
    "    d = pd.read_sql_query(con = conn, sql = \"SELECT NODE_LOC FROM PATH WHERE NODE_ID=?;\", params=[int(node_id)])\n",
    "    return parse_loc(d['NODE_LOC'][0])\n",
    "\n",
    "\n",
    "    \n",
    "    \n",
    "def pred(conn,node_id):\n",
    "    d = pd.read_sql_query(con = conn, sql = \"SELECT PRED from PATH where NODE_ID=?\",params=[node_id])\n",
    "    return d['PRED'][0]\n",
    "\n",
    "def get_method(conn,class_like,method_like):\n",
    "    d = pd.read_sql_query(con = conn, \n",
    "                         sql = \"SELECT * from Methods where DECLARING_CLASS like ? and NAME like ? order by DECLARING_CLASS;\",\n",
    "                         params = [class_like, method_like])\n",
    "    return d\n",
    "\n",
    "def get_call_edges(conn,class_name,method_name):\n",
    "    d = pd.read_sql_query(con = conn,\n",
    "                         sql = \"select TGT_NAME,TGT_CLASS from CALL_EDGES where SRC_NAME=? and SRC_CLASS=?\",\n",
    "                         params = [method_name,class_name])\n",
    "    return d\n",
    "def find_mega_call_edge(conn,class_name,method_name):\n",
    "    edges = get_call_edges(conn,class_name,method_name)\n",
    "    #TODO\n",
    "def display_call_edges(conn,class_name,method_name):\n",
    "    edges = get_call_edges(conn,class_name,method_name)\n",
    "    with pd.option_context('display.max_rows', None, 'display.max_columns', None, \"max_colwidth\", None):\n",
    "        display.display(edges)\n",
    "\n",
    "def display_no_limit(v):\n",
    "    with pd.option_context('display.max_rows', None, 'display.max_columns', None, \"max_colwidth\", None):\n",
    "        display.display(v)\n",
    "def highlight_text(in_str, replace_strs):\n",
    "#     colored = \"\\x1b[31m %s \\x1b[0m\" % replace_str\n",
    "    out = in_str\n",
    "    for replace_str in replace_strs:\n",
    "        colored = \"\\x1b[32m %s \\x1b[0m\" % replace_str\n",
    "        out = out.replace(replace_str,colored)\n",
    "    return out\n",
    "def shorten_body(body):\n",
    "    return body.replace(\"java.lang\",\"_jl\")\\\n",
    "        .replace(\"de.danoeh.antennapod.core.util.playback\",\"_apcu\").replace(\"de.danoeh.antennapod.core.util\",\"_apcu\").replace(\"de.danoeh.antennapod.core.service.playback\",\"_apcsp\").replace(\"de.danoeh.antennapod.core.service\",\"_apcs\").replace(\"de.danoeh.antennapod\",\"_ap\").replace(\"de.danoeh.antennapod.core\",\"_apc\")\n",
    "\n",
    "def highlight_methods_containing(conn,clazz,value):\n",
    "    pcMethods =get_method(conn,\"%\" + clazz + \"%\",\"%%\")\n",
    "    clazz = \"\"\n",
    "    for v1,v2 in pcMethods.T.iteritems():\n",
    "        if(value in v2['BODY']):\n",
    "            if(v2['DECLARING_CLASS'] != clazz):\n",
    "                clazz = v2['DECLARING_CLASS']\n",
    "                print(\"\\n\\n\\n\")\n",
    "                print(clazz)\n",
    "                print(\"==========\")\n",
    "            print(\"\")\n",
    "            print(\"name: %s\" % v2['NAME'])\n",
    "            print(\"---\")\n",
    "            short_b = shorten_body(v2['BODY'])\n",
    "            print(highlight_text(short_b,value))\n",
    "def count_queries_at_depth(conn, depth):\n",
    "    d = pd.read_sql_query(con = conn,\n",
    "                           sql = 'select count(*) as count from PATH where DEPTH = ?;',\n",
    "                           params = [depth])\n",
    "    return d['count'][0]\n",
    "\n",
    "def queries_at_depth(conn, depth):\n",
    "    d = pd.read_sql_query(con = conn,\n",
    "                           sql = 'select NODE_ID from PATH where DEPTH = ?;',\n",
    "                           params = [depth])\n",
    "    return d['NODE_ID']\n",
    "\n",
    "def random_nodes(conn,count):\n",
    "    d = pd.read_sql_query(con=conn,\n",
    "                         sql = \"select NODE_ID from PATH order by random() limit ?;\", params=[count])\n",
    "    return d['NODE_ID']\n"
   ]
  },
  {
   "cell_type": "markdown",
   "metadata": {},
   "source": [
    "Compare disjunctions vs depth for implementation"
   ]
  },
  {
   "cell_type": "code",
   "execution_count": 22,
   "metadata": {
    "scrolled": true
   },
   "outputs": [],
   "source": [
    "#conn_older = create_connection(\"/Users/shawnmeier/Desktop/bounder_debug_data/paths_antennapod3.db\")\n",
    "conn_ap_current = create_connection(\"/Users/shawnmeier/Desktop/bounder_debug_data/antennapod_fix_out/paths.db\")"
   ]
  },
  {
   "cell_type": "code",
   "execution_count": 23,
   "metadata": {
    "scrolled": true
   },
   "outputs": [
    {
     "data": {
      "text/plain": [
       "<matplotlib.legend.Legend at 0x12705ccc0>"
      ]
     },
     "execution_count": 23,
     "metadata": {},
     "output_type": "execute_result"
    },
    {
     "data": {
      "image/png": "[encoded data removed]",
      "text/plain": [
       "<Figure size 432x288 with 1 Axes>"
      ]
     },
     "metadata": {},
     "output_type": "display_data"
    }
   ],
   "source": [
    "\n",
    "xv = [v* 10 for v in range(100)]\n",
    "fig = plt.figure()\n",
    "ax = plt.axes()\n",
    "\n",
    "x = np.linspace(0, 10, 1000)\n",
    "#yvo = [count_queries_at_depth(conn_older,v) for v in xv]\n",
    "yvs = [count_queries_at_depth(conn_ap_current,v) for v in xv]\n",
    "#ax.plot(xv, yvo, label='antennapod old')\n",
    "ax.plot(xv,yvs,label='antennapod new')\n",
    "plt.yscale(\"log\")\n",
    "plt.legend()\n",
    "# print(\"max new %i\" % max(yvs))\n",
    "# print(\"max old %i\" % max(yv))"
   ]
  },
  {
   "cell_type": "markdown",
   "metadata": {},
   "source": [
    "Skipped Methods and what was skipped"
   ]
  },
  {
   "cell_type": "code",
   "execution_count": 24,
   "metadata": {},
   "outputs": [
    {
     "data": {
      "text/plain": [
       "{'void onPositionObserverUpdate()   de.danoeh.antennapod.fragment.ExternalPlayerFragment': 2,\n",
       " 'java.lang.String getFeedTitle()   de.danoeh.antennapod.core.util.playback.ExternalMedia': 2,\n",
       " 'java.lang.String getFeedTitle()   de.danoeh.antennapod.core.feed.FeedMedia': 2,\n",
       " 'java.lang.String getEpisodeTitle()   de.danoeh.antennapod.core.feed.FeedMedia': 2,\n",
       " 'java.lang.String getEpisodeTitle()   de.danoeh.antennapod.core.util.playback.ExternalMedia': 2}"
      ]
     },
     "execution_count": 24,
     "metadata": {},
     "output_type": "execute_result"
    }
   ],
   "source": [
    "d = pd.read_sql_query(con = conn_ap_current, sql = 'SELECT NODE_LOC FROM PATH WHERE NODE_LOC like \"%SkippedInternalMethod%\" limit 10;', params=[])\n",
    "# d['NODE_LOC'] = d['NODE_LOC'].apply(parse_loc)\n",
    "# display_no_limit(d)\n",
    "hist = {}\n",
    "for n in d['NODE_LOC']:\n",
    "    parsed = parse_loc(n)\n",
    "    clazz = parsed[1]\n",
    "    name = parsed[2]\n",
    "    key = name + \"   \" + clazz\n",
    "    if key not in hist:\n",
    "        hist[key] = 0\n",
    "    hist[key] = hist[key] + 1\n",
    "hist #TODO: not finished, but not sure this matters"
   ]
  },
  {
   "cell_type": "code",
   "execution_count": 7,
   "metadata": {
    "collapsed": true
   },
   "outputs": [
    {
     "ename": "DatabaseError",
     "evalue": "Execution failed on sql 'SELECT count(SRC.NODE_ID) as count, TGT.NODE_LOC as method from PATH TGT, PATH SRC  where SRC.NODE_ID <> TGT.NODE_ID and SRC.PRED = TGT.NODE_ID and TGT.NODE_LOC like \"%InternalMethodReturn%\" and SRC.NODE_LOC like \"%colorado.plv.bounder.ir.AppLoc%\" group by TGT.NODE_LOC order by count(SRC.NODE_ID) desc;': no such column: SRC.PRED",
     "output_type": "error",
     "traceback": [
      "\u001b[0;31m---------------------------------------------------------------------------\u001b[0m",
      "\u001b[0;31mOperationalError\u001b[0m                          Traceback (most recent call last)",
      "\u001b[0;32m~/.pyenv/versions/3.6.5/lib/python3.6/site-packages/pandas/io/sql.py\u001b[0m in \u001b[0;36mexecute\u001b[0;34m(self, *args, **kwargs)\u001b[0m\n\u001b[1;32m   1585\u001b[0m         \u001b[0;32mtry\u001b[0m\u001b[0;34m:\u001b[0m\u001b[0;34m\u001b[0m\u001b[0m\n\u001b[0;32m-> 1586\u001b[0;31m             \u001b[0mcur\u001b[0m\u001b[0;34m.\u001b[0m\u001b[0mexecute\u001b[0m\u001b[0;34m(\u001b[0m\u001b[0;34m*\u001b[0m\u001b[0margs\u001b[0m\u001b[0;34m,\u001b[0m \u001b[0;34m**\u001b[0m\u001b[0mkwargs\u001b[0m\u001b[0;34m)\u001b[0m\u001b[0;34m\u001b[0m\u001b[0m\n\u001b[0m\u001b[1;32m   1587\u001b[0m             \u001b[0;32mreturn\u001b[0m \u001b[0mcur\u001b[0m\u001b[0;34m\u001b[0m\u001b[0m\n",
      "\u001b[0;31mOperationalError\u001b[0m: no such column: SRC.PRED",
      "\nThe above exception was the direct cause of the following exception:\n",
      "\u001b[0;31mDatabaseError\u001b[0m                             Traceback (most recent call last)",
      "\u001b[0;32m<ipython-input-7-d6b5fdd5831e>\u001b[0m in \u001b[0;36m<module>\u001b[0;34m\u001b[0m\n\u001b[1;32m     23\u001b[0m \u001b[0;34m\u001b[0m\u001b[0m\n\u001b[1;32m     24\u001b[0m     \u001b[0;32mreturn\u001b[0m \u001b[0mlen\u001b[0m\u001b[0;34m(\u001b[0m\u001b[0medges\u001b[0m\u001b[0;34m.\u001b[0m\u001b[0mindex\u001b[0m\u001b[0;34m)\u001b[0m\u001b[0;34m\u001b[0m\u001b[0m\n\u001b[0;32m---> 25\u001b[0;31m \u001b[0mnonSkipped\u001b[0m \u001b[0;34m=\u001b[0m \u001b[0mselectNonSkippedMethods\u001b[0m\u001b[0;34m(\u001b[0m\u001b[0mconn\u001b[0m\u001b[0;34m)\u001b[0m\u001b[0;34m\u001b[0m\u001b[0m\n\u001b[0m\u001b[1;32m     26\u001b[0m \u001b[0mmn\u001b[0m \u001b[0;34m=\u001b[0m \u001b[0;32mlambda\u001b[0m \u001b[0mx\u001b[0m\u001b[0;34m:\u001b[0m \u001b[0mparse_loc\u001b[0m\u001b[0;34m(\u001b[0m\u001b[0mx\u001b[0m\u001b[0;34m)\u001b[0m\u001b[0;34m[\u001b[0m\u001b[0;36m2\u001b[0m\u001b[0;34m]\u001b[0m\u001b[0;34m\u001b[0m\u001b[0m\n\u001b[1;32m     27\u001b[0m \u001b[0mmc\u001b[0m \u001b[0;34m=\u001b[0m \u001b[0;32mlambda\u001b[0m \u001b[0mx\u001b[0m\u001b[0;34m:\u001b[0m \u001b[0mparse_loc\u001b[0m\u001b[0;34m(\u001b[0m\u001b[0mx\u001b[0m\u001b[0;34m)\u001b[0m\u001b[0;34m[\u001b[0m\u001b[0;36m1\u001b[0m\u001b[0;34m]\u001b[0m\u001b[0;34m\u001b[0m\u001b[0m\n",
      "\u001b[0;32m<ipython-input-7-d6b5fdd5831e>\u001b[0m in \u001b[0;36mselectNonSkippedMethods\u001b[0;34m(conn)\u001b[0m\n\u001b[1;32m     14\u001b[0m \u001b[0;31m#         (' limit 10;' % limit if limit is not None else '')\u001b[0m\u001b[0;34m\u001b[0m\u001b[0;34m\u001b[0m\u001b[0m\n\u001b[1;32m     15\u001b[0m     edges = pd.read_sql_query(con = conn,\n\u001b[0;32m---> 16\u001b[0;31m                 sql = qry)\n\u001b[0m\u001b[1;32m     17\u001b[0m     \u001b[0;32mreturn\u001b[0m \u001b[0medges\u001b[0m\u001b[0;34m\u001b[0m\u001b[0m\n\u001b[1;32m     18\u001b[0m \u001b[0;34m\u001b[0m\u001b[0m\n",
      "\u001b[0;32m~/.pyenv/versions/3.6.5/lib/python3.6/site-packages/pandas/io/sql.py\u001b[0m in \u001b[0;36mread_sql_query\u001b[0;34m(sql, con, index_col, coerce_float, params, parse_dates, chunksize)\u001b[0m\n\u001b[1;32m    330\u001b[0m         \u001b[0mcoerce_float\u001b[0m\u001b[0;34m=\u001b[0m\u001b[0mcoerce_float\u001b[0m\u001b[0;34m,\u001b[0m\u001b[0;34m\u001b[0m\u001b[0m\n\u001b[1;32m    331\u001b[0m         \u001b[0mparse_dates\u001b[0m\u001b[0;34m=\u001b[0m\u001b[0mparse_dates\u001b[0m\u001b[0;34m,\u001b[0m\u001b[0;34m\u001b[0m\u001b[0m\n\u001b[0;32m--> 332\u001b[0;31m         \u001b[0mchunksize\u001b[0m\u001b[0;34m=\u001b[0m\u001b[0mchunksize\u001b[0m\u001b[0;34m,\u001b[0m\u001b[0;34m\u001b[0m\u001b[0m\n\u001b[0m\u001b[1;32m    333\u001b[0m     )\n\u001b[1;32m    334\u001b[0m \u001b[0;34m\u001b[0m\u001b[0m\n",
      "\u001b[0;32m~/.pyenv/versions/3.6.5/lib/python3.6/site-packages/pandas/io/sql.py\u001b[0m in \u001b[0;36mread_query\u001b[0;34m(self, sql, index_col, coerce_float, params, parse_dates, chunksize)\u001b[0m\n\u001b[1;32m   1631\u001b[0m \u001b[0;34m\u001b[0m\u001b[0m\n\u001b[1;32m   1632\u001b[0m         \u001b[0margs\u001b[0m \u001b[0;34m=\u001b[0m \u001b[0m_convert_params\u001b[0m\u001b[0;34m(\u001b[0m\u001b[0msql\u001b[0m\u001b[0;34m,\u001b[0m \u001b[0mparams\u001b[0m\u001b[0;34m)\u001b[0m\u001b[0;34m\u001b[0m\u001b[0m\n\u001b[0;32m-> 1633\u001b[0;31m         \u001b[0mcursor\u001b[0m \u001b[0;34m=\u001b[0m \u001b[0mself\u001b[0m\u001b[0;34m.\u001b[0m\u001b[0mexecute\u001b[0m\u001b[0;34m(\u001b[0m\u001b[0;34m*\u001b[0m\u001b[0margs\u001b[0m\u001b[0;34m)\u001b[0m\u001b[0;34m\u001b[0m\u001b[0m\n\u001b[0m\u001b[1;32m   1634\u001b[0m         \u001b[0mcolumns\u001b[0m \u001b[0;34m=\u001b[0m \u001b[0;34m[\u001b[0m\u001b[0mcol_desc\u001b[0m\u001b[0;34m[\u001b[0m\u001b[0;36m0\u001b[0m\u001b[0;34m]\u001b[0m \u001b[0;32mfor\u001b[0m \u001b[0mcol_desc\u001b[0m \u001b[0;32min\u001b[0m \u001b[0mcursor\u001b[0m\u001b[0;34m.\u001b[0m\u001b[0mdescription\u001b[0m\u001b[0;34m]\u001b[0m\u001b[0;34m\u001b[0m\u001b[0m\n\u001b[1;32m   1635\u001b[0m \u001b[0;34m\u001b[0m\u001b[0m\n",
      "\u001b[0;32m~/.pyenv/versions/3.6.5/lib/python3.6/site-packages/pandas/io/sql.py\u001b[0m in \u001b[0;36mexecute\u001b[0;34m(self, *args, **kwargs)\u001b[0m\n\u001b[1;32m   1596\u001b[0m \u001b[0;34m\u001b[0m\u001b[0m\n\u001b[1;32m   1597\u001b[0m             \u001b[0mex\u001b[0m \u001b[0;34m=\u001b[0m \u001b[0mDatabaseError\u001b[0m\u001b[0;34m(\u001b[0m\u001b[0;34mf\"Execution failed on sql '{args[0]}': {exc}\"\u001b[0m\u001b[0;34m)\u001b[0m\u001b[0;34m\u001b[0m\u001b[0m\n\u001b[0;32m-> 1598\u001b[0;31m             \u001b[0;32mraise\u001b[0m \u001b[0mex\u001b[0m \u001b[0;32mfrom\u001b[0m \u001b[0mexc\u001b[0m\u001b[0;34m\u001b[0m\u001b[0m\n\u001b[0m\u001b[1;32m   1599\u001b[0m \u001b[0;34m\u001b[0m\u001b[0m\n\u001b[1;32m   1600\u001b[0m     \u001b[0;34m@\u001b[0m\u001b[0mstaticmethod\u001b[0m\u001b[0;34m\u001b[0m\u001b[0m\n",
      "\u001b[0;31mDatabaseError\u001b[0m: Execution failed on sql 'SELECT count(SRC.NODE_ID) as count, TGT.NODE_LOC as method from PATH TGT, PATH SRC  where SRC.NODE_ID <> TGT.NODE_ID and SRC.PRED = TGT.NODE_ID and TGT.NODE_LOC like \"%InternalMethodReturn%\" and SRC.NODE_LOC like \"%colorado.plv.bounder.ir.AppLoc%\" group by TGT.NODE_LOC order by count(SRC.NODE_ID) desc;': no such column: SRC.PRED"
     ]
    }
   ],
   "source": [
    "#TODO: \n",
    "# conn = conn_ap_current\n",
    "# def selectNonSkippedMethods(conn):\n",
    "#     #TGT - node that is later in control flow\n",
    "#     #SRC - node earlier in control flow\n",
    "#     tgtIsIntRet = 'and TGT.NODE_LOC like \"%InternalMethodReturn%\" '\n",
    "#     srcIsAppLoc = 'and SRC.NODE_LOC like ' + \\\n",
    "#         '\"%colorado.plv.bounder.ir.AppLoc%\"'\n",
    "#     qry = 'SELECT count(SRC.NODE_ID) as count, TGT.NODE_LOC as method '+\\\n",
    "#         'from PATH TGT, PATH SRC ' + \\\n",
    "#         ' where SRC.NODE_ID <> TGT.NODE_ID and SRC.PRED = TGT.NODE_ID '+ \\\n",
    "#         tgtIsIntRet + \\\n",
    "#         srcIsAppLoc + \\\n",
    "#         ' group by TGT.NODE_LOC order by count(SRC.NODE_ID) desc;'\n",
    "# #         (' limit 10;' % limit if limit is not None else '')\n",
    "#     edges = pd.read_sql_query(con = conn,\n",
    "#                 sql = qry)\n",
    "#     return edges\n",
    "\n",
    "# def count_internal_call_edges(conn, clazz, name):\n",
    "#     edges = get_call_edges(conn, clazz, name)\n",
    "#     contains = edges['TGT_CLASS'].apply(lambda x: 'de.danoeh' in x)\n",
    "#     edges = edges[contains]\n",
    "    \n",
    "#     return len(edges.index)\n",
    "# nonSkipped = selectNonSkippedMethods(conn)\n",
    "# mn = lambda x: parse_loc(x)[2]\n",
    "# mc = lambda x: parse_loc(x)[1]\n",
    "# nonSkipped['method_name'] = nonSkipped['method'].apply(mn)\n",
    "# nonSkipped['method_class'] = nonSkipped['method'].apply(mc)\n",
    "# nonSkipped['call_count'] = nonSkipped.apply(\n",
    "#         lambda row: count_internal_call_edges(conn,row['method_class'],row['method_name']),\n",
    "#         axis = 1\n",
    "#     )\n",
    "# nonSkipped = nonSkipped.drop(columns=['method'])\n",
    "# nonSkipped['comb'] = nonSkipped['count']*nonSkipped['call_count']\n",
    "# #'count','call_count' excluded\n",
    "# nonSkipped = nonSkipped[['count','comb','method_name','method_class']]\n",
    "# nonSkipped = nonSkipped.sort_values(by='comb',ascending=False)\n",
    "# display_no_limit(nonSkipped)\n",
    "# # plt.barh(\"method_name\",'count',data=nonSkipped)"
   ]
  },
  {
   "cell_type": "code",
   "execution_count": null,
   "metadata": {
    "scrolled": true
   },
   "outputs": [],
   "source": [
    "plt.barh('method_name','count', data=nonSkipped.head(20))"
   ]
  },
  {
   "cell_type": "code",
   "execution_count": null,
   "metadata": {
    "scrolled": true
   },
   "outputs": [],
   "source": [
    "for v in queries_at_depth(conn, 2):\n",
    "    print(v)\n",
    "    print(loc_at_id(conn,v))\n",
    "    print(pred(conn,v))\n",
    "    print('---')\n",
    "    "
   ]
  },
  {
   "cell_type": "code",
   "execution_count": 25,
   "metadata": {
    "scrolled": false
   },
   "outputs": [],
   "source": [
    "from flame_analyzer.utils import generate_flame_graph_html, format_options\n",
    "import flame_analyzer.hooks as hooks\n",
    "import copy\n",
    "class CallStackSample:\n",
    "    \"\"\"\n",
    "    Stores a collection of function call stacks.\n",
    "    \"\"\"\n",
    "    def __init__(self):\n",
    "        self.stacks = []\n",
    "        self.common_fn_calls = []\n",
    "\n",
    "    def add_stack(self, stack):\n",
    "        self.stacks.append(stack)\n",
    "        self.measure_common_fn_calls(stack)\n",
    "\n",
    "    def trimmed_stacks(self):\n",
    "        \"\"\"\n",
    "        Return stacks filtering out elements common to the root of all stacks.\n",
    "        \"\"\"\n",
    "        return [\n",
    "            stack[self.highest_common_fn_call_index():]\n",
    "            for stack in self.stacks\n",
    "        ]\n",
    "\n",
    "    def highest_common_fn_call_index(self):\n",
    "        return len(self.common_fn_calls)\n",
    "\n",
    "    def measure_common_fn_calls(self, new_stack):\n",
    "        # First iteration, nothing to compare.\n",
    "        if not self.common_fn_calls:\n",
    "            self.common_fn_calls = copy.deepcopy(new_stack)\n",
    "            return\n",
    "\n",
    "        # Cut the common stack to the depth of the shortest stack, there\n",
    "        # can't be common function calls where one stack is deeper than the\n",
    "        # other.\n",
    "        min_stack_depth = min(len(new_stack), len(self.common_fn_calls))\n",
    "        self.common_fn_calls = self.common_fn_calls[:min_stack_depth]\n",
    "\n",
    "        # Compare each existing function call in the common stack with its\n",
    "        # match in the new stack to find the deepest common function call.\n",
    "        common_stack_depth = 0\n",
    "        for a, b in zip(self.common_fn_calls, new_stack):\n",
    "            if a == b:\n",
    "                common_stack_depth += 1\n",
    "\n",
    "        # Throw away non common function calls.\n",
    "        self.common_fn_calls = self.common_fn_calls[:common_stack_depth]\n",
    "class FunctionCall:\n",
    "    \"\"\"\n",
    "    Data container for a function call in the stack.\n",
    "    \"\"\"\n",
    "    def __init__(self, name, path):\n",
    "        self.name = name\n",
    "        self.path = path\n",
    "\n",
    "    def __eq__(self, other):\n",
    "        if isinstance(other, FunctionCall):\n",
    "            return self.name == other.name and self.path == other.path\n",
    "        return False\n",
    "\n",
    "    def __str__(self):\n",
    "        return '{}({})'.format(self.name, self.path)\n",
    "\n",
    "    def __repr__(self):\n",
    "        return str(self)\n",
    "\n",
    "def flame_to_step(conn, depth):\n",
    "    atD = queries_at_depth(conn, depth)\n",
    "    samples = [[[],q] for q in atD]\n",
    "    sample = CallStackSample()\n",
    "    total = len(samples)\n",
    "    cur = 0\n",
    "    for s in samples:\n",
    "        if(cur%10 == 0):\n",
    "            print(\"%i / %i\" % (cur,total))\n",
    "        while(s[1] is not None):\n",
    "            loc = loc_at_id(conn,int(s[1]))\n",
    "            if(loc[0] != \"AppLoc\"):\n",
    "                clazz = loc[1][0] if isinstance(loc[1],list) else loc[1]\n",
    "                s[0].insert(0,FunctionCall(loc[0] + \":\" + loc[2],clazz))\n",
    "            s[1] = pred(conn,int(s[1]))\n",
    "        s[0].insert(0,FunctionCall(\"dummy\",\"dummy\"))\n",
    "        sample.add_stack(s[0])\n",
    "        cur += 1\n",
    "\n",
    "    opt = {'width':1000,'title':'Traces',\n",
    "           'fontsize':12,\n",
    "           'subtitle':'','countname':'Samples'}\n",
    "    html = generate_flame_graph_html(sample, format_options(opt))\n",
    "\n",
    "    display.display(display.SVG(data=html))\n",
    "\n",
    "class State:\n",
    "    def __init__(self,full):\n",
    "        self.full = full\n",
    "        self.l = json.loads(full)\n",
    "        self.callStack = [sf['exitLoc'] for sf in self.l['callStack']]\n",
    "    def get_call_stack(self):\n",
    "        out = []\n",
    "        for js_stack_frame in self.l['callStack']:\n",
    "            method_loc = js_stack_frame['exitLoc']\n",
    "#             print(\"---\")\n",
    "#             print(js_stack_frame)\n",
    "            if 'name' in method_loc:\n",
    "                function_call = FunctionCall(method_loc['name'], method_loc['clazz'])\n",
    "            elif 'targetClasses' in method_loc:\n",
    "                function_call = FunctionCall(method_loc['fmwName'], method_loc['targetClasses'][0])\n",
    "            else:\n",
    "                function_call = FunctionCall(method_loc['fmwName'], method_loc['fmwClazz'])\n",
    "            out.append(function_call)\n",
    "#         out.reverse\n",
    "        return out\n",
    "\n",
    "\n",
    "def state_at_id(conn,node_id):\n",
    "    d = pd.read_sql_query(con=conn, sql= \"SELECT NODE_STATE FROM PATH WHERE NODE_ID=?;\",params=[int(node_id)])\n",
    "    return State(d['NODE_STATE'][0])\n",
    "\n"
   ]
  },
  {
   "cell_type": "code",
   "execution_count": 26,
   "metadata": {
    "scrolled": true
   },
   "outputs": [
    {
     "ename": "DatabaseError",
     "evalue": "Execution failed on sql 'select NODE_ID from PATH where DEPTH = ?;': disk I/O error",
     "output_type": "error",
     "traceback": [
      "\u001b[0;31m---------------------------------------------------------------------------\u001b[0m",
      "\u001b[0;31mOperationalError\u001b[0m                          Traceback (most recent call last)",
      "\u001b[0;32m~/.pyenv/versions/3.6.5/lib/python3.6/site-packages/pandas/io/sql.py\u001b[0m in \u001b[0;36mexecute\u001b[0;34m(self, *args, **kwargs)\u001b[0m\n\u001b[1;32m   1585\u001b[0m         \u001b[0;32mtry\u001b[0m\u001b[0;34m:\u001b[0m\u001b[0;34m\u001b[0m\u001b[0m\n\u001b[0;32m-> 1586\u001b[0;31m             \u001b[0mcur\u001b[0m\u001b[0;34m.\u001b[0m\u001b[0mexecute\u001b[0m\u001b[0;34m(\u001b[0m\u001b[0;34m*\u001b[0m\u001b[0margs\u001b[0m\u001b[0;34m,\u001b[0m \u001b[0;34m**\u001b[0m\u001b[0mkwargs\u001b[0m\u001b[0;34m)\u001b[0m\u001b[0;34m\u001b[0m\u001b[0m\n\u001b[0m\u001b[1;32m   1587\u001b[0m             \u001b[0;32mreturn\u001b[0m \u001b[0mcur\u001b[0m\u001b[0;34m\u001b[0m\u001b[0m\n",
      "\u001b[0;31mOperationalError\u001b[0m: disk I/O error",
      "\nThe above exception was the direct cause of the following exception:\n",
      "\u001b[0;31mDatabaseError\u001b[0m                             Traceback (most recent call last)",
      "\u001b[0;32m<ipython-input-26-e9206b7373ee>\u001b[0m in \u001b[0;36m<module>\u001b[0;34m\u001b[0m\n\u001b[1;32m      1\u001b[0m \u001b[0;31m# state_at_id(conn2,random_nodes(conn2,1)[0]).get_call_stack()\u001b[0m\u001b[0;34m\u001b[0m\u001b[0;34m\u001b[0m\u001b[0m\n\u001b[1;32m      2\u001b[0m \u001b[0;31m# state_samples = random_nodes(conn2, 500)\u001b[0m\u001b[0;34m\u001b[0m\u001b[0;34m\u001b[0m\u001b[0m\n\u001b[0;32m----> 3\u001b[0;31m \u001b[0mstate_samples\u001b[0m \u001b[0;34m=\u001b[0m \u001b[0mqueries_at_depth\u001b[0m\u001b[0;34m(\u001b[0m\u001b[0mconn\u001b[0m\u001b[0;34m,\u001b[0m \u001b[0;36m400\u001b[0m\u001b[0;34m)\u001b[0m\u001b[0;34m\u001b[0m\u001b[0m\n\u001b[0m\u001b[1;32m      4\u001b[0m \u001b[0msample\u001b[0m \u001b[0;34m=\u001b[0m \u001b[0mCallStackSample\u001b[0m\u001b[0;34m(\u001b[0m\u001b[0;34m)\u001b[0m\u001b[0;34m\u001b[0m\u001b[0m\n\u001b[1;32m      5\u001b[0m \u001b[0;32mfor\u001b[0m \u001b[0mstate_sample\u001b[0m \u001b[0;32min\u001b[0m \u001b[0mstate_samples\u001b[0m\u001b[0;34m:\u001b[0m\u001b[0;34m\u001b[0m\u001b[0m\n",
      "\u001b[0;32m<ipython-input-1-52ce07f238ad>\u001b[0m in \u001b[0;36mqueries_at_depth\u001b[0;34m(conn, depth)\u001b[0m\n\u001b[1;32m    104\u001b[0m     d = pd.read_sql_query(con = conn,\n\u001b[1;32m    105\u001b[0m                            \u001b[0msql\u001b[0m \u001b[0;34m=\u001b[0m \u001b[0;34m'select NODE_ID from PATH where DEPTH = ?;'\u001b[0m\u001b[0;34m,\u001b[0m\u001b[0;34m\u001b[0m\u001b[0m\n\u001b[0;32m--> 106\u001b[0;31m                            params = [depth])\n\u001b[0m\u001b[1;32m    107\u001b[0m     \u001b[0;32mreturn\u001b[0m \u001b[0md\u001b[0m\u001b[0;34m[\u001b[0m\u001b[0;34m'NODE_ID'\u001b[0m\u001b[0;34m]\u001b[0m\u001b[0;34m\u001b[0m\u001b[0m\n\u001b[1;32m    108\u001b[0m \u001b[0;34m\u001b[0m\u001b[0m\n",
      "\u001b[0;32m~/.pyenv/versions/3.6.5/lib/python3.6/site-packages/pandas/io/sql.py\u001b[0m in \u001b[0;36mread_sql_query\u001b[0;34m(sql, con, index_col, coerce_float, params, parse_dates, chunksize)\u001b[0m\n\u001b[1;32m    330\u001b[0m         \u001b[0mcoerce_float\u001b[0m\u001b[0;34m=\u001b[0m\u001b[0mcoerce_float\u001b[0m\u001b[0;34m,\u001b[0m\u001b[0;34m\u001b[0m\u001b[0m\n\u001b[1;32m    331\u001b[0m         \u001b[0mparse_dates\u001b[0m\u001b[0;34m=\u001b[0m\u001b[0mparse_dates\u001b[0m\u001b[0;34m,\u001b[0m\u001b[0;34m\u001b[0m\u001b[0m\n\u001b[0;32m--> 332\u001b[0;31m         \u001b[0mchunksize\u001b[0m\u001b[0;34m=\u001b[0m\u001b[0mchunksize\u001b[0m\u001b[0;34m,\u001b[0m\u001b[0;34m\u001b[0m\u001b[0m\n\u001b[0m\u001b[1;32m    333\u001b[0m     )\n\u001b[1;32m    334\u001b[0m \u001b[0;34m\u001b[0m\u001b[0m\n",
      "\u001b[0;32m~/.pyenv/versions/3.6.5/lib/python3.6/site-packages/pandas/io/sql.py\u001b[0m in \u001b[0;36mread_query\u001b[0;34m(self, sql, index_col, coerce_float, params, parse_dates, chunksize)\u001b[0m\n\u001b[1;32m   1631\u001b[0m \u001b[0;34m\u001b[0m\u001b[0m\n\u001b[1;32m   1632\u001b[0m         \u001b[0margs\u001b[0m \u001b[0;34m=\u001b[0m \u001b[0m_convert_params\u001b[0m\u001b[0;34m(\u001b[0m\u001b[0msql\u001b[0m\u001b[0;34m,\u001b[0m \u001b[0mparams\u001b[0m\u001b[0;34m)\u001b[0m\u001b[0;34m\u001b[0m\u001b[0m\n\u001b[0;32m-> 1633\u001b[0;31m         \u001b[0mcursor\u001b[0m \u001b[0;34m=\u001b[0m \u001b[0mself\u001b[0m\u001b[0;34m.\u001b[0m\u001b[0mexecute\u001b[0m\u001b[0;34m(\u001b[0m\u001b[0;34m*\u001b[0m\u001b[0margs\u001b[0m\u001b[0;34m)\u001b[0m\u001b[0;34m\u001b[0m\u001b[0m\n\u001b[0m\u001b[1;32m   1634\u001b[0m         \u001b[0mcolumns\u001b[0m \u001b[0;34m=\u001b[0m \u001b[0;34m[\u001b[0m\u001b[0mcol_desc\u001b[0m\u001b[0;34m[\u001b[0m\u001b[0;36m0\u001b[0m\u001b[0;34m]\u001b[0m \u001b[0;32mfor\u001b[0m \u001b[0mcol_desc\u001b[0m \u001b[0;32min\u001b[0m \u001b[0mcursor\u001b[0m\u001b[0;34m.\u001b[0m\u001b[0mdescription\u001b[0m\u001b[0;34m]\u001b[0m\u001b[0;34m\u001b[0m\u001b[0m\n\u001b[1;32m   1635\u001b[0m \u001b[0;34m\u001b[0m\u001b[0m\n",
      "\u001b[0;32m~/.pyenv/versions/3.6.5/lib/python3.6/site-packages/pandas/io/sql.py\u001b[0m in \u001b[0;36mexecute\u001b[0;34m(self, *args, **kwargs)\u001b[0m\n\u001b[1;32m   1596\u001b[0m \u001b[0;34m\u001b[0m\u001b[0m\n\u001b[1;32m   1597\u001b[0m             \u001b[0mex\u001b[0m \u001b[0;34m=\u001b[0m \u001b[0mDatabaseError\u001b[0m\u001b[0;34m(\u001b[0m\u001b[0;34mf\"Execution failed on sql '{args[0]}': {exc}\"\u001b[0m\u001b[0;34m)\u001b[0m\u001b[0;34m\u001b[0m\u001b[0m\n\u001b[0;32m-> 1598\u001b[0;31m             \u001b[0;32mraise\u001b[0m \u001b[0mex\u001b[0m \u001b[0;32mfrom\u001b[0m \u001b[0mexc\u001b[0m\u001b[0;34m\u001b[0m\u001b[0m\n\u001b[0m\u001b[1;32m   1599\u001b[0m \u001b[0;34m\u001b[0m\u001b[0m\n\u001b[1;32m   1600\u001b[0m     \u001b[0;34m@\u001b[0m\u001b[0mstaticmethod\u001b[0m\u001b[0;34m\u001b[0m\u001b[0m\n",
      "\u001b[0;31mDatabaseError\u001b[0m: Execution failed on sql 'select NODE_ID from PATH where DEPTH = ?;': disk I/O error"
     ]
    }
   ],
   "source": [
    "# state_at_id(conn2,random_nodes(conn2,1)[0]).get_call_stack()\n",
    "# state_samples = random_nodes(conn2, 500)\n",
    "state_samples = queries_at_depth(conn, 400)\n",
    "sample = CallStackSample()\n",
    "for state_sample in state_samples:\n",
    "    state = state_at_id(conn_ap_current, state_sample)\n",
    "    cs = state.get_call_stack()\n",
    "    cs.insert(0,FunctionCall(\"dummy\",\"dummy\"))\n",
    "    sample.add_stack(cs)\n",
    "opt = {'width':1000,'title':'Traces',\n",
    "           'fontsize':12,\n",
    "           'subtitle':'','countname':'Samples'}\n",
    "html = generate_flame_graph_html(sample, format_options(opt))\n",
    "display.display(display.SVG(data=html))"
   ]
  },
  {
   "cell_type": "code",
   "execution_count": null,
   "metadata": {
    "scrolled": true
   },
   "outputs": [],
   "source": [
    "bodies = get_method(conn,\"%de.danoeh.antennapod.fragment.ExternalPlayerFragment%\",\"%void lambda$onCreateView$0$ExternalPlayerFragment(android.view.Vie%\")['BODY']\n",
    "for b in bodies:\n",
    "    print(shorten_body(highlight_text(b,[\"arg$1\",\"subscription\",\"controller\"])))"
   ]
  },
  {
   "cell_type": "code",
   "execution_count": null,
   "metadata": {
    "scrolled": false
   },
   "outputs": [],
   "source": [
    "flame_to_step(conn, 125)"
   ]
  },
  {
   "cell_type": "code",
   "execution_count": null,
   "metadata": {
    "scrolled": true
   },
   "outputs": [],
   "source": [
    "# Highlight methods containing\n",
    "highlight_methods_containing(conn,\"playback.PlaybackController\",\"arg$1\")\n",
    "\n"
   ]
  },
  {
   "cell_type": "code",
   "execution_count": null,
   "metadata": {
    "scrolled": false
   },
   "outputs": [],
   "source": [
    "display_call_edges(conn, \"de.danoeh.antennapod.core.util.playback.PlaybackController\",\"void checkMediaInfoLoaded()\")\n"
   ]
  },
  {
   "cell_type": "code",
   "execution_count": null,
   "metadata": {
    "scrolled": true
   },
   "outputs": [],
   "source": [
    "bodies = get_method(conn,\"%util.playback.PlaybackController%\",\"%void checkMediaInfoLoaded()%\")['BODY']\n",
    "for b in bodies:\n",
    "    print(shorten_body(highlight_text(b,[\"arg$1\",\"subscription\",\"controller\"])))"
   ]
  },
  {
   "cell_type": "markdown",
   "metadata": {},
   "source": [
    "Experiment: how much fanout results from call graph imprecision?"
   ]
  },
  {
   "cell_type": "code",
   "execution_count": null,
   "metadata": {
    "scrolled": true
   },
   "outputs": [],
   "source": [
    "## Most commony visited internal methods\n",
    "callLocs = pd.read_sql_query(con = conn2,\n",
    "        sql = 'select count(NODE_ID),NODE_LOC from PATH ' +\n",
    "                 'where NODE_LOC like \"%InternalMethod%\" ' +\n",
    "                 'group by NODE_LOC order by count(NODE_ID) desc;')\n",
    "locOp = lambda x:shorten_body(str(parse_loc(x)))\n",
    "typeOp = lambda x:parse_loc(x)[0]\n",
    "classOp = lambda x:parse_loc(x)[1]\n",
    "callLocs['NODE_LOC'] = callLocs['NODE_LOC'].apply(typeOp)\n",
    "callLocs['Class'] = callLocs['NODE_LOC'].apply(classOp)\n",
    "display_no_limit(callLocs)"
   ]
  },
  {
   "cell_type": "code",
   "execution_count": null,
   "metadata": {
    "scrolled": true
   },
   "outputs": [],
   "source": [
    "## Visited internal methods that aren't skipped"
   ]
  },
  {
   "cell_type": "code",
   "execution_count": null,
   "metadata": {
    "scrolled": true
   },
   "outputs": [],
   "source": [
    "## Do we hit any recursive methods?\n",
    "## - no, keep this around for now\n",
    "\n",
    "## Directly recursive methods TODO: doesn't include mutually recursive\n",
    "dRec = pd.read_sql_query(con = conn,\n",
    "                        sql = 'select * from CALL_EDGES where SRC_NAME = TGT_NAME and SRC_CLASS == TGT_CLASS')\n",
    "recMethods = []\n",
    "for ind,row in dRec.iterrows():\n",
    "    recMethods.append((\"%\" + row['SRC_NAME'] + \"%\",\n",
    "                       \"%\" + row['SRC_CLASS'] + \"%\"))\n",
    "\n",
    "outR = None\n",
    "count = 0\n",
    "for rm in recMethods:\n",
    "    count = count+1\n",
    "    print(count)\n",
    "    cdf = pd.read_sql_query(con=conn,\n",
    "                    sql=\"SELECT distinct NODE_LOC from PATH where NODE_LOC like ? and NODE_LOC like ?;\",\n",
    "                    params = [rm[0],rm[1]])\n",
    "    print(\"rows: %i\" % len(cdf.index))\n",
    "    if outR == None:\n",
    "        outR == cdf\n",
    "    else:\n",
    "        outR.append(cdf)"
   ]
  },
  {
   "cell_type": "code",
   "execution_count": null,
   "metadata": {
    "scrolled": true
   },
   "outputs": [],
   "source": [
    "def selectNonSkippedMethods(conn):\n",
    "    #TGT - node that is later in control flow\n",
    "    #SRC - node earlier in control flow\n",
    "    tgtIsIntRet = 'and TGT.NODE_LOC like \"%InternalMethodReturn%\" '\n",
    "    srcIsAppLoc = 'and SRC.NODE_LOC like ' + \\\n",
    "        '\"%colorado.plv.bounder.ir.AppLoc%\"'\n",
    "    qry = 'SELECT count(SRC.NODE_ID) as count, TGT.NODE_LOC as method '+\\\n",
    "        'from PATH TGT, PATH SRC ' + \\\n",
    "        ' where SRC.NODE_ID <> TGT.NODE_ID and SRC.PRED = TGT.NODE_ID '+ \\\n",
    "        tgtIsIntRet + \\\n",
    "        srcIsAppLoc + \\\n",
    "        ' group by TGT.NODE_LOC order by count(SRC.NODE_ID) desc;'\n",
    "#         (' limit 10;' % limit if limit is not None else '')\n",
    "    edges = pd.read_sql_query(con = conn,\n",
    "                sql = qry)\n",
    "    return edges\n",
    "\n",
    "def count_internal_call_edges(conn, clazz, name):\n",
    "    edges = get_call_edges(conn, clazz, name)\n",
    "    contains = edges['TGT_CLASS'].apply(lambda x: 'de.danoeh' in x)\n",
    "    edges = edges[contains]\n",
    "    \n",
    "    return len(edges.index)\n",
    "nonSkipped = selectNonSkippedMethods(conn2)\n",
    "mn = lambda x: parse_loc(x)[2]\n",
    "mc = lambda x: parse_loc(x)[1]\n",
    "nonSkipped['method_name'] = nonSkipped['method'].apply(mn)\n",
    "nonSkipped['method_class'] = nonSkipped['method'].apply(mc)\n",
    "nonSkipped['call_count'] = nonSkipped.apply(\n",
    "        lambda row: count_internal_call_edges(conn2,row['method_class'],row['method_name']),\n",
    "        axis = 1\n",
    "    )\n",
    "nonSkipped = nonSkipped.drop(columns=['method'])\n",
    "nonSkipped['comb'] = nonSkipped['count']*nonSkipped['call_count']\n",
    "#'count','call_count' excluded\n",
    "nonSkipped = nonSkipped[['comb','method_name','method_class']]\n",
    "nonSkipped = nonSkipped.sort_values(by='comb',ascending=False)\n",
    "display_no_limit(nonSkipped)"
   ]
  },
  {
   "cell_type": "code",
   "execution_count": null,
   "metadata": {
    "scrolled": true
   },
   "outputs": [],
   "source": []
  }
 ],
 "metadata": {
  "kernelspec": {
   "display_name": "Python 3",
   "language": "python",
   "name": "python3"
  },
  "language_info": {
   "codemirror_mode": {
    "name": "ipython",
    "version": 3
   },
   "file_extension": ".py",
   "mimetype": "text/x-python",
   "name": "python",
   "nbconvert_exporter": "python",
   "pygments_lexer": "ipython3",
   "version": "3.6.5"
  }
 },
 "nbformat": 4,
 "nbformat_minor": 4
}
