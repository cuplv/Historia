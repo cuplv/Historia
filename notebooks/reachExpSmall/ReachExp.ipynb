{
 "cells": [
  {
   "cell_type": "code",
   "execution_count": 1,
   "metadata": {},
   "outputs": [
    {
     "data": {
      "text/plain": [
       "\u001b[32mimport \u001b[39m\u001b[36m$ivy.$                                         \n",
       "\u001b[39m\n",
       "\u001b[32mimport \u001b[39m\u001b[36m$ivy.$                             \n",
       "\u001b[39m\n",
       "\u001b[32mimport \u001b[39m\u001b[36m$ivy.$                              \u001b[39m"
      ]
     },
     "execution_count": 1,
     "metadata": {},
     "output_type": "execute_result"
    }
   ],
   "source": [
    "\n",
    "\n",
    "// a few dependencies for the notebook:\n",
    "import $ivy.`com.github.pathikrit::better-files:3.9.1`\n",
    "import $ivy.`com.lihaoyi:ujson_2.13:1.3.8`\n",
    "import $ivy.`com.lihaoyi::scalatags:0.12.0`"
   ]
  },
  {
   "cell_type": "code",
   "execution_count": 2,
   "metadata": {},
   "outputs": [
    {
     "data": {
      "text/plain": [
       "\u001b[32mimport \u001b[39m\u001b[36mbetter.files._\n",
       "\n",
       "// load historia code\n",
       "\n",
       "\u001b[39m\n",
       "\u001b[36mjarpath\u001b[39m: \u001b[32mString\u001b[39m = \u001b[32m\"/Users/shawnmeier/Documents/source/historia/Historia/implementation/target/scala-2.13/soot_hopper-assembly-0.1.jar\"\u001b[39m"
      ]
     },
     "execution_count": 2,
     "metadata": {},
     "output_type": "execute_result"
    }
   ],
   "source": [
    "import better.files._\n",
    "\n",
    "// load historia code\n",
    "\n",
    "val jarpath = s\"/Users/shawnmeier/Documents/source/historia/Historia/implementation/target/scala-2.13/soot_hopper-assembly-0.1.jar\"\n",
    "interp.load.cp(os.Path(jarpath))\n",
    "\n"
   ]
  },
  {
   "cell_type": "markdown",
   "metadata": {},
   "source": [
    "Helper methods to run WitStoria\n",
    "-----------------------------------------------------\n"
   ]
  },
  {
   "cell_type": "code",
   "execution_count": 3,
   "metadata": {},
   "outputs": [
    {
     "data": {
      "text/plain": [
       "\u001b[32mimport \u001b[39m\u001b[36medu.colorado.plv.bounder.symbolicexecutor.state.{InitialQuery,ReceiverNonNull}\n",
       "\u001b[39m\n",
       "\u001b[32mimport \u001b[39m\u001b[36medu.colorado.plv.bounder.lifestate.LifeState\n",
       "\n",
       "\u001b[39m\n",
       "\u001b[32mimport \u001b[39m\u001b[36medu.colorado.plv.bounder.{Driver,RunConfig, BounderUtil} // Historia utilities\n",
       "\u001b[39m\n",
       "\u001b[32mimport \u001b[39m\u001b[36mupickle.default.read\n",
       "\u001b[39m\n",
       "\u001b[32mimport \u001b[39m\u001b[36mupickle.default.write\n",
       "\n",
       "// define a function to call the JAR implementation of Historia with a configuration\n",
       "// If changes are made to Historia, run \"sbt compile\" in the /home/implementation directory to regenerate the Historia JAR\n",
       "\n",
       "\u001b[39m\n",
       "defined \u001b[32mfunction\u001b[39m \u001b[36mrunHistoriaWithSpec\u001b[39m"
      ]
     },
     "execution_count": 3,
     "metadata": {},
     "output_type": "execute_result"
    }
   ],
   "source": [
    "import edu.colorado.plv.bounder.symbolicexecutor.state.{InitialQuery,ReceiverNonNull}\n",
    "import edu.colorado.plv.bounder.lifestate.LifeState\n",
    "\n",
    "import edu.colorado.plv.bounder.{Driver,RunConfig, BounderUtil} // Historia utilities\n",
    "import upickle.default.read\n",
    "import upickle.default.write\n",
    "\n",
    "// define a function to call the JAR implementation of Historia with a configuration\n",
    "// If changes are made to Historia, run \"sbt compile\" in the /home/implementation directory to regenerate the Historia JAR\n",
    "\n",
    "def runHistoriaWithSpec(configPath:File):Driver.LocResult = {\n",
    "    val javaMemLimit=8 // Gb Note that this only limits JVM not JNI which can go significantly higher\n",
    "    val historiaJar = jarpath\n",
    "    val apkRootDir = \"/Users/shawnmeier/Documents/data/historia_generalizability\"\n",
    "    val outDir = configPath.parent.toString\n",
    "    val config = read[RunConfig](configPath.contentAsString)\n",
    "    val outSubdir = config.outFolder.get.replace(\"${baseDirOut}\",outDir)\n",
    "    val cmd = s\"java -Xmx${javaMemLimit}G -jar ${historiaJar} -m verify -c ${configPath} -b ${apkRootDir} -u ${outDir} -o MEM --debug\"\n",
    "    BounderUtil.runCmdStdout(cmd, Some(\"/Users/shawnmeier/software/z3/build\"))\n",
    "\n",
    "    read[Driver.LocResult]((outSubdir / \"result_0.txt\").contentAsString)\n",
    "}\n",
    "\n"
   ]
  },
  {
   "cell_type": "markdown",
   "metadata": {},
   "source": [
    "Row 2 ap ex\n",
    "-----------\n"
   ]
  },
  {
   "cell_type": "code",
   "execution_count": 4,
   "metadata": {},
   "outputs": [
    {
     "name": "stdout",
     "output_type": "stream",
     "text": [
      "List(Future trace:\n",
      " CBEnter void onCreate(android.os.Bundle)( _T_,@3 )\n",
      "TNew(p-0,{2})\n",
      "CIExit setOnClickListener(( _T_,@1,@3 )\n",
      "CBEnter onClick(( _T_,@3 )\n",
      "CIExit AsyncTask execute()( _T_,@4 )\n",
      "CBEnter onClick(( _T_,@3 )\n",
      "CIEnter AsyncTask execute()( _T_,@4 )\n",
      ")\n"
     ]
    },
    {
     "data": {
      "text/plain": [
       "\u001b[32mimport \u001b[39m\u001b[36medu.colorado.plv.bounder.symbolicexecutor.state.DisallowedCallin\n",
       "\u001b[39m\n",
       "\u001b[32mimport \u001b[39m\u001b[36medu.colorado.plv.bounder.lifestate.SAsyncTask\n",
       "\u001b[39m\n",
       "\u001b[32mimport \u001b[39m\u001b[36medu.colorado.plv.bounder.PickleSpec\n",
       "\u001b[39m\n",
       "\u001b[32mimport \u001b[39m\u001b[36medu.colorado.plv.bounder.lifestate.{FragmentGetActivityNullSpec, LifeState, LifecycleSpec, RxJavaSpec, SAsyncTask, SDialog, SpecSignatures, SpecSpace, ViewSpec}\n",
       "\u001b[39m\n",
       "\u001b[32mimport \u001b[39m\u001b[36medu.colorado.plv.bounder.lifestate.LifeState.{AbsMsg, LSSpec, LSTrue, Signature}\n",
       "\u001b[39m\n",
       "\u001b[32mimport \u001b[39m\u001b[36medu.colorado.plv.bounder.symbolicexecutor.PreciseApproxMode\n",
       "\n",
       "\n",
       "\n",
       "\n",
       "\u001b[39m\n",
       "defined \u001b[32mfunction\u001b[39m \u001b[36mrun2\u001b[39m"
      ]
     },
     "execution_count": 4,
     "metadata": {},
     "output_type": "execute_result"
    }
   ],
   "source": [
    "import edu.colorado.plv.bounder.symbolicexecutor.state.DisallowedCallin\n",
    "import edu.colorado.plv.bounder.lifestate.SAsyncTask\n",
    "import edu.colorado.plv.bounder.PickleSpec\n",
    "import edu.colorado.plv.bounder.lifestate.{FragmentGetActivityNullSpec, LifeState, LifecycleSpec, RxJavaSpec, SAsyncTask, SDialog, SpecSignatures, SpecSpace, ViewSpec}\n",
    "import edu.colorado.plv.bounder.lifestate.LifeState.{AbsMsg, LSSpec, LSTrue, Signature}\n",
    "import edu.colorado.plv.bounder.symbolicexecutor.PreciseApproxMode\n",
    "\n",
    "\n",
    "\n",
    "\n",
    "def run2():Unit = {\n",
    "    val row2Specs = Set[LSSpec](\n",
    "        ViewSpec.clickWhileNotDisabled,\n",
    "        LifecycleSpec.Activity_createdOnlyFirst\n",
    "      )\n",
    "\n",
    "\n",
    "\n",
    "    val methodSignature = LifeState.Signature(\"com.example.row2antennapodexecute.RemoverActivity\",\n",
    "              \"void onClick(android.view.View)\")\n",
    "\n",
    "\n",
    "    val initialQuery = DisallowedCallin(\n",
    "              methodSignature.base,\n",
    "              methodSignature.methodSignature,\n",
    "              SAsyncTask.disallowDoubleExecute)\n",
    "    // val initialQuery = ReceiverNonNull(\n",
    "    //         methodSignature,\n",
    "    //         34,\n",
    "    //         None\n",
    "    //     )\n",
    "\n",
    "    val inputApk = \"/Users/shawnmeier/Documents/source/historia/Historia/notebooks/Row2_Antennapod_execute_bug/app/build/outputs/apk/debug/app-debug.apk\"\n",
    "    val outputDir = File(\"/Users/shawnmeier/Documents/source/historia/Historia/notebooks/Row2_Antennapod_execute_bug/WitStoriaOut\")\n",
    "    val cfg =  RunConfig(apkPath = inputApk.toString, \n",
    "              outFolder = Some(outputDir.toString),\n",
    "              initialQuery = List(initialQuery), truncateOut=false, \n",
    "                         specSet = PickleSpec(row2Specs, Set(SAsyncTask.disallowDoubleExecute)),\n",
    "                         approxMode = PreciseApproxMode(true)\n",
    "                        )\n",
    "\n",
    "    val cfgPath = (outputDir / \"cfg.json\")\n",
    "    cfgPath.overwrite(write(cfg))\n",
    "\n",
    "    val res = runHistoriaWithSpec(cfgPath)\n",
    "    println(res.witnessExplanation)\n",
    "}\n",
    "\n",
    "run2()"
   ]
  },
  {
   "cell_type": "markdown",
   "metadata": {},
   "source": [
    "Row 1 \n",
    "-----"
   ]
  },
  {
   "cell_type": "markdown",
   "metadata": {},
   "source": [
    "Next we create the `RunConfig` that specifies things like the APK, the output folder, the initial query, and the CBCFTL.  This is all written to a `.json` file used later."
   ]
  },
  {
   "cell_type": "code",
   "execution_count": null,
   "metadata": {},
   "outputs": [],
   "source": [
    "// The method signature unambiguously identifies the method in the application\n",
    "val methodSignature = LifeState.Signature(\"com.example.row1antennapodrxjava.ui.main.PlayerFragment\",\n",
    "          \"void call(java.lang.Object)\")\n",
    "\n",
    "val initialQuery = ReceiverNonNull(\n",
    "        methodSignature,\n",
    "        63, // line number in source code file\n",
    "        None //Some(\".*toString.*\") // regular expression matching receiver (in case multiple dereferences on one line)\n",
    "    )\n",
    "\n",
    "val inputApk = \"/Users/shawnmeier/Documents/source/historia/Historia/notebooks/AntennapodPlayerFragment_fix/app/build/outputs/apk/debug/app-debug.apk\"\n",
    "val outputDir = File(\"/Users/shawnmeier/Documents/source/historia/Historia/notebooks/ReachOut\")\n",
    "val cfg =  RunConfig(apkPath = inputApk.toString, \n",
    "          outFolder = Some(outputDir.toString),\n",
    "          initialQuery = List(initialQuery), truncateOut=false)\n",
    "\n",
    "val cfgPath = (outputDir / \"cfg.json\")\n",
    "cfgPath.overwrite(write(cfg))  "
   ]
  },
  {
   "cell_type": "markdown",
   "metadata": {},
   "source": [
    "Now we can call Historia."
   ]
  },
  {
   "cell_type": "code",
   "execution_count": null,
   "metadata": {},
   "outputs": [],
   "source": [
    "runHistoriaWithSpec(cfgPath)"
   ]
  },
  {
   "cell_type": "markdown",
   "metadata": {},
   "source": [
    "Look at the Alarm\n",
    "-----------------\n",
    "Next we look at the alarm that was found.  In this case, it finds the initial state just before the `call` callback.  The witness also shows that `getActivity` was invoked, this is important because it is where a null value may come from."
   ]
  },
  {
   "cell_type": "code",
   "execution_count": null,
   "metadata": {},
   "outputs": [],
   "source": [
    "println(File(\"/Users/shawnmeier/Documents/source/historia/Historia/notebooks/ExampleOut/wit.witnesses\").contentAsString)"
   ]
  },
  {
   "cell_type": "markdown",
   "metadata": {},
   "source": [
    "Add CBCFTL Specifications to Remove the Alarm\n",
    "--------------------------\n",
    "\n",
    "Writing a CBCFTL specification consists of looking at counter examples like the one above and explaining when the framework can *NOT* do something like return a `null` value.  An easy, yet unsound, CBCFTL specification is to say `getActivity` cannot return null ever.  However, writing this specification is a useful step to show how CBCFTL specifications are constructed.  We will write a sound specification later.\n",
    "\n",
    "We write that as `null = cb a.getActivity() -[]-> false` in the paper.  Below we show how to write this same thing for the implementation."
   ]
  },
  {
   "cell_type": "code",
   "execution_count": null,
   "metadata": {},
   "outputs": [],
   "source": [
    "\n",
    "import edu.colorado.plv.bounder.lifestate.LifeState.{LSSpec, LSFalse,LSConstraint}\n",
    "import edu.colorado.plv.bounder.symbolicexecutor.state.{NamedPureVar,NullVal,Equals}\n",
    "import edu.colorado.plv.bounder.lifestate.SpecSignatures\n",
    "\n",
    "val a = NamedPureVar(\"a\")  // variables used in spec\n",
    "val f = NamedPureVar(\"f\")\n",
    "\n",
    "val getActivityNullUnsound = LSSpec(a::f::Nil, Nil,\n",
    "    LSFalse, \n",
    "    SpecSignatures.Fragment_get_activity_exit, // abstract message f = cb a.getActivity()  (defined in Specifications.scala)\n",
    "    Set(LSConstraint(a, Equals, NullVal)))"
   ]
  },
  {
   "cell_type": "markdown",
   "metadata": {},
   "source": [
    "Next we copy the configuration file with the new CBCFTL specification and re-run Historia."
   ]
  },
  {
   "cell_type": "code",
   "execution_count": null,
   "metadata": {},
   "outputs": [],
   "source": [
    "import edu.colorado.plv.bounder.PickleSpec\n",
    "\n",
    "val cfgWithUnsoundSpec = cfg.copy(specSet = PickleSpec(Set(getActivityNullUnsound)))\n",
    "cfgPath.overwrite(write(cfgWithUnsoundSpec))\n",
    "val res = runHistoriaWithSpec(cfgPath)\n",
    "println(s\"result: ${res.resultSummary}\")"
   ]
  },
  {
   "cell_type": "markdown",
   "metadata": {},
   "source": [
    "Note how the previous result says `proven`.  This would be a sound proof if `getActivity` could never return null. However, `getActivity` may return null if it is called after `onDestroy` or before `onCreate`.  We can update the spec to capture this behavior.\n",
    "\n",
    "`null = cb a.getActivity() -[]-> (cb a.onCreate() NS cb a.onDestroy()) \\/ HN cb a.onCreate()`\n",
    "\n",
    "This history implication is now sound."
   ]
  },
  {
   "cell_type": "code",
   "execution_count": null,
   "metadata": {},
   "outputs": [],
   "source": [
    "import edu.colorado.plv.bounder.lifestate.LifeState.{Not,Or,NS}\n",
    "\n",
    "val fragmentActivityNotAttached =\n",
    "    Or(NS(SpecSignatures.Fragment_onDestroy_exit, SpecSignatures.Fragment_onActivityCreated_entry), // note that NS arguments are reversed from the paper\n",
    "      Not(SpecSignatures.Fragment_onActivityCreated_entry)) // \"Not\" can only be applied to a single message and maintain encoding in extended EPR fragment of logic\n",
    "\n",
    "val getActivityNull = LSSpec(a::f::Nil, Nil,\n",
    "    fragmentActivityNotAttached, \n",
    "    SpecSignatures.Fragment_get_activity_exit, // abstract message f = cb a.getActivity()  (defined in Specifications.scala)\n",
    "    Set(LSConstraint(a, Equals, NullVal)))"
   ]
  },
  {
   "cell_type": "markdown",
   "metadata": {},
   "source": [
    "Similarly, we may write History Implication 1 from the overview."
   ]
  },
  {
   "cell_type": "code",
   "execution_count": null,
   "metadata": {},
   "outputs": [],
   "source": [
    "  val l = NamedPureVar(\"l\")\n",
    "  val s = NamedPureVar(\"s\")\n",
    "\n",
    "  val subUnsub = NS(\n",
    "    SpecSignatures.RxJava_subscribe_exit,\n",
    "    SpecSignatures.RxJava_unsubscribe_exit)\n",
    "  val callSpec:LSSpec = LSSpec(l::Nil, s::Nil, subUnsub, SpecSignatures.RxJava_call_entry)\n"
   ]
  },
  {
   "cell_type": "markdown",
   "metadata": {},
   "source": [
    "Let us run it again with the proper `getActivity` and `call` History Implications and see what happens."
   ]
  },
  {
   "cell_type": "code",
   "execution_count": null,
   "metadata": {},
   "outputs": [],
   "source": [
    "val cfgWithSoundSpec = cfg.copy(specSet = PickleSpec(Set(getActivityNull,callSpec)))\n",
    "cfgPath.overwrite(write(cfgWithSoundSpec))\n",
    "val res = runHistoriaWithSpec(cfgPath)\n",
    "println(s\"result: ${res.resultSummary}\")\n"
   ]
  },
  {
   "cell_type": "markdown",
   "metadata": {},
   "source": [
    "Another alarm occurred.  Lets look at the witness:"
   ]
  },
  {
   "cell_type": "code",
   "execution_count": null,
   "metadata": {},
   "outputs": [],
   "source": [
    "println(File(\"/home/notebooks/ExampleOut/wit.witnesses\").contentAsString)"
   ]
  },
  {
   "cell_type": "markdown",
   "metadata": {},
   "source": [
    "It can be kinda difficult to see what happened since the counter example is rather busy.  However, `onActivityCreated`  was called twice in a row in this counter example (note that we shorten `onActivityCreated` to `onCreate` in the paper).  If the framework could actually invoke this callback twice, it would start two background tasks and only one would be unsubscribed.  Therefore this alarm is precise if no further CBCFTL specifications could be written.  However, it is sound to say that `onActivityCreated` is only invoked once with the following history implication.\n",
    "\n",
    "The abstract counter example shows each transition and the associated pre-state.\n",
    "Read from the top down, they correspond to a potential execution in the app.\n",
    "Practically, these are all just disjunctions at the \"framework\" location in the paper, they are just strung together for ease of use.\n",
    "\n",
    "The pre-state consists of the trace (e.g. `trace: O(CBEnter I_CBEnter_rxJavacall ( _T_,p-1 );O(CIExit I_CIExit_FragmentgetActivity ( NULL,p-1 ))`), separation logic formula, (e.g. `@this->p1`), pure constraints (e.g. `p1 != NULL`), and points-to information (e.g. `types: List(p-1:{8107,8119})`).\n",
    "\n",
    "Traces have the same meaning as the paper, they are just printed with `;` instead of `->>` and the `okhist` is elided.  The meaning of the separation logic formula is standard.  The points to analysis maintains a set of allocation sites for each pure variable represented numerically for efficiency.  There is also a call string, but it isn't printed here."
   ]
  },
  {
   "cell_type": "code",
   "execution_count": null,
   "metadata": {},
   "outputs": [],
   "source": [
    "val Fragment_activityCreatedOnlyFirst:LSSpec = LSSpec(f::Nil, Nil,\n",
    "      Not(SpecSignatures.Fragment_onActivityCreated_entry),\n",
    "    SpecSignatures.Fragment_onActivityCreated_entry)\n"
   ]
  },
  {
   "cell_type": "markdown",
   "metadata": {},
   "source": [
    "After Adding Enough Sound CBCFTL Specifications, We Can Prove the Example\n",
    "-------------------------------------------\n",
    "\n",
    "Below, we create another run configuration with 3 History Implications written above and run it again with Historia.  This time the output is proven.  This 3 corresponds to the \"specs\" column of Table 1."
   ]
  },
  {
   "cell_type": "code",
   "execution_count": null,
   "metadata": {},
   "outputs": [],
   "source": [
    "val cfgWithSoundSpec = cfg.copy(specSet = PickleSpec(Set(getActivityNull,callSpec, Fragment_activityCreatedOnlyFirst)))\n",
    "cfgPath.overwrite(write(cfgWithSoundSpec))\n",
    "val res = runHistoriaWithSpec(cfgPath)\n",
    "println(s\"result: ${res.resultSummary}\")"
   ]
  }
 ],
 "metadata": {
  "kernelspec": {
   "display_name": "Scala",
   "language": "scala",
   "name": "scala"
  },
  "language_info": {
   "codemirror_mode": "text/x-scala",
   "file_extension": ".sc",
   "mimetype": "text/x-scala",
   "name": "scala",
   "nbconvert_exporter": "script",
   "version": "2.13.4"
  }
 },
 "nbformat": 4,
 "nbformat_minor": 4
}
