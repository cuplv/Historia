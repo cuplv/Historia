{
 "cells": [
  {
   "cell_type": "code",
   "execution_count": 1,
   "metadata": {},
   "outputs": [
    {
     "data": {
      "text/plain": [
       "\u001b[32mimport \u001b[39m\u001b[36m$ivy.$                                         \n",
       "\u001b[39m\n",
       "\u001b[32mimport \u001b[39m\u001b[36m$ivy.$                             \n",
       "\u001b[39m\n",
       "\u001b[32mimport \u001b[39m\u001b[36m$ivy.$                              \n",
       "\n",
       "\u001b[39m\n",
       "\u001b[32mimport \u001b[39m\u001b[36mbetter.files._\n",
       "\n",
       "// load historia code\n",
       "\n",
       "\u001b[39m\n",
       "\u001b[36mjarpath\u001b[39m: \u001b[32mString\u001b[39m = \u001b[32m\"/Users/shawnmeier/Documents/source/historia/Historia/implementation/target/scala-2.13/soot_hopper-assembly-0.1.jar\"\u001b[39m"
      ]
     },
     "execution_count": 1,
     "metadata": {},
     "output_type": "execute_result"
    }
   ],
   "source": [
    "\n",
    "\n",
    "// a few dependencies for the notebook:\n",
    "import $ivy.`com.github.pathikrit::better-files:3.9.1`\n",
    "import $ivy.`com.lihaoyi:ujson_2.13:1.3.8`\n",
    "import $ivy.`com.lihaoyi::scalatags:0.12.0`\n",
    "\n",
    "import better.files._\n",
    "\n",
    "// load historia code\n",
    "\n",
    "val jarpath = s\"/Users/shawnmeier/Documents/source/historia/Historia/implementation/target/scala-2.13/soot_hopper-assembly-0.1.jar\"\n",
    "interp.load.cp(os.Path(jarpath))"
   ]
  },
  {
   "cell_type": "code",
   "execution_count": 3,
   "metadata": {},
   "outputs": [
    {
     "data": {
      "text/plain": [
       "\u001b[32mimport \u001b[39m\u001b[36medu.colorado.plv.bounder.symbolicexecutor.state.{InitialQuery,ReceiverNonNull}\n",
       "\u001b[39m\n",
       "\u001b[32mimport \u001b[39m\u001b[36medu.colorado.plv.bounder.lifestate.LifeState\n",
       "\n",
       "\u001b[39m\n",
       "\u001b[32mimport \u001b[39m\u001b[36medu.colorado.plv.bounder.{Driver,RunConfig, BounderUtil} // Historia utilities\n",
       "\u001b[39m\n",
       "\u001b[32mimport \u001b[39m\u001b[36mupickle.default.read\n",
       "\u001b[39m\n",
       "\u001b[32mimport \u001b[39m\u001b[36mupickle.default.write\n",
       "\u001b[39m\n",
       "\u001b[32mimport \u001b[39m\u001b[36medu.colorado.plv.bounder.symbolicexecutor.state.DisallowedCallin\n",
       "\u001b[39m\n",
       "\u001b[32mimport \u001b[39m\u001b[36medu.colorado.plv.bounder.lifestate.SAsyncTask\n",
       "\u001b[39m\n",
       "\u001b[32mimport \u001b[39m\u001b[36medu.colorado.plv.bounder.PickleSpec\n",
       "\u001b[39m\n",
       "\u001b[32mimport \u001b[39m\u001b[36medu.colorado.plv.bounder.lifestate.{AllMatchers,SJavaThreading,FragmentGetActivityNullSpec, LifeState, LifecycleSpec, RxJavaSpec, SAsyncTask, SDialog, SpecSignatures, SpecSpace, ViewSpec}\n",
       "\u001b[39m\n",
       "\u001b[32mimport \u001b[39m\u001b[36medu.colorado.plv.bounder.lifestate.LifeState.{AbsMsg, LSSpec, LSTrue, Signature}\n",
       "\u001b[39m\n",
       "\u001b[32mimport \u001b[39m\u001b[36medu.colorado.plv.bounder.symbolicexecutor.PreciseApproxMode\n",
       "\n",
       "// define a function to call the JAR implementation of Historia with a configuration\n",
       "// If changes are made to Historia, run \"sbt compile\" in the /home/implementation directory to regenerate the Historia JAR\n",
       "\n",
       "\u001b[39m\n",
       "defined \u001b[32mfunction\u001b[39m \u001b[36mrunHistoriaWithSpec\u001b[39m\n",
       "defined \u001b[32mfunction\u001b[39m \u001b[36mrunAndPrint\u001b[39m"
      ]
     },
     "execution_count": 3,
     "metadata": {},
     "output_type": "execute_result"
    }
   ],
   "source": [
    "\n",
    "\n",
    "\n",
    "import edu.colorado.plv.bounder.symbolicexecutor.state.{InitialQuery,ReceiverNonNull}\n",
    "import edu.colorado.plv.bounder.lifestate.LifeState\n",
    "\n",
    "import edu.colorado.plv.bounder.{Driver,RunConfig, BounderUtil} // Historia utilities\n",
    "import upickle.default.read\n",
    "import upickle.default.write\n",
    "import edu.colorado.plv.bounder.symbolicexecutor.state.DisallowedCallin\n",
    "import edu.colorado.plv.bounder.lifestate.SAsyncTask\n",
    "import edu.colorado.plv.bounder.PickleSpec\n",
    "import edu.colorado.plv.bounder.lifestate.{AllMatchers,SJavaThreading,FragmentGetActivityNullSpec, LifeState, LifecycleSpec, RxJavaSpec, SAsyncTask, SDialog, SpecSignatures, SpecSpace, ViewSpec}\n",
    "import edu.colorado.plv.bounder.lifestate.LifeState.{AbsMsg, LSSpec, LSTrue, Signature}\n",
    "import edu.colorado.plv.bounder.symbolicexecutor.PreciseApproxMode\n",
    "\n",
    "// define a function to call the JAR implementation of Historia with a configuration\n",
    "// If changes are made to Historia, run \"sbt compile\" in the /home/implementation directory to regenerate the Historia JAR\n",
    "\n",
    "def runHistoriaWithSpec(configPath:File, printThenDone:Boolean = false):Driver.LocResult = {\n",
    "    val javaMemLimit=8 // Gb Note that this only limits JVM not JNI which can go significantly higher\n",
    "    val historiaJar = jarpath\n",
    "    val apkRootDir = \"/Users/shawnmeier/Documents/data/historia_generalizability\"\n",
    "    val outDir = configPath.parent.toString\n",
    "    val config = read[RunConfig](configPath.contentAsString)\n",
    "    val outSubdir = config.outFolder.get.replace(\"${baseDirOut}\",outDir)\n",
    "    val cmd = s\"java -Xmx${javaMemLimit}G -jar ${historiaJar} -m verify -c ${configPath} -b ${apkRootDir} -u ${outDir} -o MEM --debug\"\n",
    "    \n",
    "    if(printThenDone){\n",
    "        println(s\"cmd ${cmd}\")\n",
    "        ???  // Flag to get cmd to run in ide\n",
    "    }else{\n",
    "        BounderUtil.runCmdStdout(cmd, Some(\"/Users/shawnmeier/software/z3/build\"))\n",
    "\n",
    "        read[Driver.LocResult]((outSubdir / \"result_0.txt\").contentAsString)\n",
    "    }\n",
    "}\n",
    "\n",
    "def runAndPrint(configPath:File, allSpecs:Iterable[LSSpec], printThenDone:Boolean = false):Unit = {\n",
    "    val res = runHistoriaWithSpec(configPath,printThenDone)\n",
    "    println(\"withist history\")\n",
    "    println(res.witnessExplanation)   \n",
    "    println(\"specified messages\")\n",
    "    val msgSigs = allSpecs.flatMap(spec =>\n",
    "                Set(spec.target) ++ spec.pred.allMsg).map(msg => msg.identitySignature)\n",
    "    println(msgSigs)\n",
    "    println(msgSigs.size)\n",
    "}\n"
   ]
  },
  {
   "cell_type": "markdown",
   "metadata": {},
   "source": [
    "Row 2 ap ex\n",
    "-----------\n"
   ]
  },
  {
   "cell_type": "code",
   "execution_count": null,
   "metadata": {},
   "outputs": [],
   "source": [
    "\n",
    "\n",
    "\n",
    "\n",
    "\n",
    "def run2():Unit = {\n",
    "    val row2Specs = Set[LSSpec](\n",
    "        ViewSpec.clickWhileNotDisabled,\n",
    "        LifecycleSpec.Activity_createdOnlyFirst\n",
    "      )\n",
    "\n",
    "\n",
    "\n",
    "    val methodSignature = LifeState.Signature(\"com.example.row2antennapodexecute.RemoverActivity\",\n",
    "              \"void onClick(android.view.View)\")\n",
    "\n",
    "\n",
    "    val initialQuery = DisallowedCallin(\n",
    "              methodSignature.base,\n",
    "              methodSignature.methodSignature,\n",
    "              SAsyncTask.disallowDoubleExecute)\n",
    "    // val initialQuery = ReceiverNonNull(\n",
    "    //         methodSignature,\n",
    "    //         34,\n",
    "    //         None\n",
    "    //     )\n",
    "\n",
    "    val inputApk = \"/Users/shawnmeier/Documents/source/historia/Historia/notebooks/Row2_Antennapod_execute_bug/app/build/outputs/apk/debug/app-debug.apk\"\n",
    "    val outputDir = File(\"/Users/shawnmeier/Documents/source/historia/Historia/notebooks/Row2_Antennapod_execute_bug/WitStoriaOut\")\n",
    "    val cfg =  RunConfig(apkPath = inputApk.toString, \n",
    "              outFolder = Some(outputDir.toString),\n",
    "              initialQuery = List(initialQuery), truncateOut=false, \n",
    "                         specSet = PickleSpec(row2Specs, Set(SAsyncTask.disallowDoubleExecute), Set(ViewSpec.fv1)),\n",
    "                         approxMode = PreciseApproxMode(true)\n",
    "                        )\n",
    "    \n",
    "    val allSpecs = (row2Specs ++ Set[LSSpec](SAsyncTask.disallowDoubleExecute))\n",
    "\n",
    "    val cfgPath = (outputDir / \"cfg.json\")\n",
    "    cfgPath.overwrite(write(cfg))\n",
    "    \n",
    "\n",
    "    // val res = runHistoriaWithSpec(cfgPath)\n",
    "    // println(\"withist history\")\n",
    "    // println(res.witnessExplanation)\n",
    "    \n",
    "\n",
    "    runAndPrint(cfgPath, allSpecs)\n",
    "}\n",
    "\n",
    "run2()"
   ]
  },
  {
   "cell_type": "markdown",
   "metadata": {},
   "source": [
    "Row 1 \n",
    "-----"
   ]
  },
  {
   "cell_type": "markdown",
   "metadata": {},
   "source": [
    "Next we create the `RunConfig` that specifies things like the APK, the output folder, the initial query, and the CBCFTL.  This is all written to a `.json` file used later."
   ]
  },
  {
   "cell_type": "code",
   "execution_count": null,
   "metadata": {},
   "outputs": [],
   "source": [
    "//TODO\n",
    "val methodSignature = LifeState.Signature(\"com.example.row1antennapodrxjava.ui.main.PlayerFragment\",\n",
    "          \"void call(java.lang.Object)\")\n",
    "\n",
    "val initialQuery = ReceiverNonNull(\n",
    "        methodSignature,\n",
    "        63, // line number in source code file\n",
    "        None //Some(\".*toString.*\") // regular expression matching receiver (in case multiple dereferences on one line)\n",
    "    )\n",
    "\n",
    "val inputApk = \"/Users/shawnmeier/Documents/source/historia/Historia/notebooks/AntennapodPlayerFragment_fix/app/build/outputs/apk/debug/app-debug.apk\"\n",
    "val outputDir = File(\"/Users/shawnmeier/Documents/source/historia/Historia/notebooks/ReachOut\")\n",
    "val cfg =  RunConfig(apkPath = inputApk.toString, \n",
    "          outFolder = Some(outputDir.toString),\n",
    "          initialQuery = List(initialQuery), truncateOut=false)\n",
    "\n",
    "val cfgPath = (outputDir / \"cfg.json\")\n",
    "cfgPath.overwrite(write(cfg))  "
   ]
  },
  {
   "cell_type": "markdown",
   "metadata": {},
   "source": [
    "Now we can call Historia."
   ]
  },
  {
   "cell_type": "code",
   "execution_count": null,
   "metadata": {},
   "outputs": [],
   "source": [
    "runHistoriaWithSpec(cfgPath)"
   ]
  },
  {
   "cell_type": "markdown",
   "metadata": {},
   "source": [
    "Scalability Experiment\n",
    "======================"
   ]
  },
  {
   "cell_type": "markdown",
   "metadata": {},
   "source": [
    "Connectbot GeneratePubkeyActivity$5 dialog dismiss"
   ]
  },
  {
   "cell_type": "code",
   "execution_count": null,
   "metadata": {},
   "outputs": [],
   "source": [
    "// The method signature unambiguously identifies the method in the application\n",
    "def runCBGenPub(){\n",
    "    val methodSignature = LifeState.Signature(\"com.example.row1antennapodrxjava.ui.main.PlayerFragment\",\n",
    "              \"void call(java.lang.Object)\")\n",
    "\n",
    "\n",
    "    val initialQuery = DisallowedCallin(className = \"org.connectbot.GeneratePubkeyActivity$5\",\n",
    "                                        methodName = \"void run()\",\n",
    "                                        s=SDialog.disallowDismiss)\n",
    "\n",
    "\n",
    "    val inputApk = \"/Users/shawnmeier/Documents/data/reach_24_data/connectbot/app/build/outputs/apk/google/debug/app-google-debug.apk\"\n",
    "    val outputDir = File(\"/Users/shawnmeier/Documents/source/historia/Historia/notebooks/reachExpLarge/Connectbot/GeneratePubkeyActivity_5_run\")\n",
    "    val cfg =  RunConfig(apkPath = inputApk.toString, \n",
    "              outFolder = Some(outputDir.toString),\n",
    "              initialQuery = List(initialQuery), truncateOut=false,\n",
    "                        specSet = PickleSpec(Set.empty, Set(SDialog.disallowDismiss), AllMatchers.allI),\n",
    "                        componentFilter = Some(Seq(\"org.connectbot.GeneratePubkeyActivity.*\",\"org.connectbot.util.EntropyView.*\", \"org.connectbot.util.PubkeyDatabase.*\")))\n",
    "\n",
    "\n",
    "    val cfgPath = (outputDir / \"cfg.json\")\n",
    "    cfgPath.overwrite(write(cfg))\n",
    "    \n",
    "    val allSpecs = Set(SDialog.disallowDismiss)\n",
    "\n",
    "    runAndPrint(cfgPath, allSpecs,false)\n",
    "}\n",
    "runCBGenPub()"
   ]
  },
  {
   "cell_type": "code",
   "execution_count": null,
   "metadata": {},
   "outputs": [],
   "source": []
  }
 ],
 "metadata": {
  "kernelspec": {
   "display_name": "Scala",
   "language": "scala",
   "name": "scala"
  },
  "language_info": {
   "codemirror_mode": "text/x-scala",
   "file_extension": ".sc",
   "mimetype": "text/x-scala",
   "name": "scala",
   "nbconvert_exporter": "script",
   "version": "2.13.4"
  }
 },
 "nbformat": 4,
 "nbformat_minor": 4
}
