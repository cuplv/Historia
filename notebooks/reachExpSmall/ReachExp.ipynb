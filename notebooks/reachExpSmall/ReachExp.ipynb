{
 "cells": [
  {
   "cell_type": "code",
   "execution_count": 1,
   "metadata": {},
   "outputs": [
    {
     "data": {
      "text/plain": [
       "\u001b[32mimport \u001b[39m\u001b[36m$ivy.$                                         \n",
       "\u001b[39m\n",
       "\u001b[32mimport \u001b[39m\u001b[36m$ivy.$                             \n",
       "\u001b[39m\n",
       "\u001b[32mimport \u001b[39m\u001b[36m$ivy.$                              \n",
       "\n",
       "\u001b[39m\n",
       "\u001b[32mimport \u001b[39m\u001b[36mbetter.files._\n",
       "\n",
       "// load historia code\n",
       "\n",
       "\u001b[39m\n",
       "\u001b[36mjarpath\u001b[39m: \u001b[32mString\u001b[39m = \u001b[32m\"/home/bounder/target/scala-2.13/soot_hopper-assembly-0.1.jar\"\u001b[39m"
      ]
     },
     "execution_count": 1,
     "metadata": {},
     "output_type": "execute_result"
    }
   ],
   "source": [
    "\n",
    "\n",
    "// a few dependencies for the notebook:\n",
    "import $ivy.`com.github.pathikrit::better-files:3.9.1`\n",
    "import $ivy.`com.lihaoyi:ujson_2.13:1.3.8`\n",
    "import $ivy.`com.lihaoyi::scalatags:0.12.0`\n",
    "\n",
    "import better.files._\n",
    "\n",
    "// load historia code\n",
    "\n",
    "val jarpath = s\"/home/bounder/target/scala-2.13/soot_hopper-assembly-0.1.jar\"\n",
    "assert(File(jarpath).exists, \"must run jupyter notebook from docker\")\n",
    "interp.load.cp(os.Path(jarpath))"
   ]
  },
  {
   "cell_type": "code",
   "execution_count": 14,
   "metadata": {},
   "outputs": [
    {
     "data": {
      "text/plain": [
       "\u001b[32mimport \u001b[39m\u001b[36medu.colorado.plv.bounder.ir.CIExit\n",
       "\n",
       "\n",
       "\u001b[39m\n",
       "\u001b[32mimport \u001b[39m\u001b[36medu.colorado.plv.bounder.symbolicexecutor.state.{InitialQuery,ReceiverNonNull}\n",
       "\u001b[39m\n",
       "\u001b[32mimport \u001b[39m\u001b[36medu.colorado.plv.bounder.lifestate.LifeState\n",
       "\n",
       "\u001b[39m\n",
       "\u001b[32mimport \u001b[39m\u001b[36medu.colorado.plv.bounder.{Driver,RunConfig, BounderUtil} // Historia utilities\n",
       "\u001b[39m\n",
       "\u001b[32mimport \u001b[39m\u001b[36mupickle.default.read\n",
       "\u001b[39m\n",
       "\u001b[32mimport \u001b[39m\u001b[36mupickle.default.write\n",
       "\u001b[39m\n",
       "\u001b[32mimport \u001b[39m\u001b[36medu.colorado.plv.bounder.symbolicexecutor.state.{DisallowedCallin,NamedPureVar}\n",
       "\u001b[39m\n",
       "\u001b[32mimport \u001b[39m\u001b[36medu.colorado.plv.bounder.lifestate.{SAsyncTask}\n",
       "\u001b[39m\n",
       "\u001b[32mimport \u001b[39m\u001b[36medu.colorado.plv.bounder.lifestate.LifeState.SubClassMatcher\n",
       "\u001b[39m\n",
       "\u001b[32mimport \u001b[39m\u001b[36medu.colorado.plv.bounder.ir.CBEnter\n",
       "\u001b[39m\n",
       "\u001b[32mimport \u001b[39m\u001b[36medu.colorado.plv.bounder.PickleSpec\n",
       "\u001b[39m\n",
       "\u001b[32mimport \u001b[39m\u001b[36medu.colorado.plv.bounder.lifestate.{AllMatchers,SJavaThreading,FragmentGetActivityNullSpec, LifeState, LifecycleSpec, RxJavaSpec, SAsyncTask, SDialog, SpecSignatures, SpecSpace, ViewSpec}\n",
       "\u001b[39m\n",
       "\u001b[32mimport \u001b[39m\u001b[36medu.colorado.plv.bounder.lifestate.LifeState.{AbsMsg, LSSpec, LSTrue, Signature}\n",
       "\u001b[39m\n",
       "\u001b[32mimport \u001b[39m\u001b[36medu.colorado.plv.bounder.symbolicexecutor.{PreciseApproxMode,LimitMsgCountDropStatePolicy}\n",
       "\u001b[39m\n",
       "\u001b[32mimport \u001b[39m\u001b[36medu.colorado.plv.bounder.symbolicexecutor.Z3TimeoutBehavior\n",
       "\u001b[39m\n",
       "\u001b[32mimport \u001b[39m\u001b[36medu.colorado.plv.bounder.symbolicexecutor.state.{BoolVal, Equals, NamedPureVar, NotEquals, NullVal, PureExpr, PureVar, TopVal}\n",
       "\n",
       "\n",
       "\u001b[39m\n",
       "defined \u001b[32mfunction\u001b[39m \u001b[36mgetIsDocker\u001b[39m\n",
       "\u001b[36misDocker\u001b[39m: \u001b[32mBoolean\u001b[39m = true\n",
       "\u001b[36mhistoriaDir\u001b[39m: \u001b[32mString\u001b[39m = \u001b[32m\"/home/bounder\"\u001b[39m\n",
       "defined \u001b[32mfunction\u001b[39m \u001b[36mrunHistoriaWithSpec\u001b[39m\n",
       "defined \u001b[32mfunction\u001b[39m \u001b[36mrunAndPrint\u001b[39m\n",
       "\u001b[36mv\u001b[39m: \u001b[32mNamedPureVar\u001b[39m = \u001b[33mNamedPureVar\u001b[39m(\u001b[32m\"v\"\u001b[39m)\n",
       "\u001b[36ma\u001b[39m: \u001b[32mNamedPureVar\u001b[39m = \u001b[33mNamedPureVar\u001b[39m(\u001b[32m\"a\"\u001b[39m)\n",
       "\u001b[36mf\u001b[39m: \u001b[32mNamedPureVar\u001b[39m = \u001b[33mNamedPureVar\u001b[39m(\u001b[32m\"f\"\u001b[39m)\n",
       "\u001b[36ms\u001b[39m: \u001b[32mNamedPureVar\u001b[39m = \u001b[33mNamedPureVar\u001b[39m(\u001b[32m\"s\"\u001b[39m)\n",
       "\u001b[36ml\u001b[39m: \u001b[32mNamedPureVar\u001b[39m = \u001b[33mNamedPureVar\u001b[39m(\u001b[32m\"l\"\u001b[39m)\n",
       "\u001b[36mt\u001b[39m: \u001b[32mNamedPureVar\u001b[39m = \u001b[33mNamedPureVar\u001b[39m(\u001b[32m\"t\"\u001b[39m)"
      ]
     },
     "execution_count": 14,
     "metadata": {},
     "output_type": "execute_result"
    }
   ],
   "source": [
    "import edu.colorado.plv.bounder.ir.CIExit\n",
    "\n",
    "\n",
    "import edu.colorado.plv.bounder.symbolicexecutor.state.{InitialQuery,ReceiverNonNull}\n",
    "import edu.colorado.plv.bounder.lifestate.LifeState\n",
    "\n",
    "import edu.colorado.plv.bounder.{Driver,RunConfig, BounderUtil} // Historia utilities\n",
    "import upickle.default.read\n",
    "import upickle.default.write\n",
    "import edu.colorado.plv.bounder.symbolicexecutor.state.{DisallowedCallin,NamedPureVar}\n",
    "import edu.colorado.plv.bounder.lifestate.{SAsyncTask}\n",
    "import edu.colorado.plv.bounder.lifestate.LifeState.SubClassMatcher\n",
    "import edu.colorado.plv.bounder.ir.CBEnter\n",
    "import edu.colorado.plv.bounder.PickleSpec\n",
    "import edu.colorado.plv.bounder.lifestate.{AllMatchers,SJavaThreading,FragmentGetActivityNullSpec, LifeState, LifecycleSpec, RxJavaSpec, SAsyncTask, SDialog, SpecSignatures, SpecSpace, ViewSpec}\n",
    "import edu.colorado.plv.bounder.lifestate.LifeState.{AbsMsg, LSSpec, LSTrue, Signature}\n",
    "import edu.colorado.plv.bounder.symbolicexecutor.{PreciseApproxMode,LimitMsgCountDropStatePolicy}\n",
    "import edu.colorado.plv.bounder.symbolicexecutor.Z3TimeoutBehavior\n",
    "import edu.colorado.plv.bounder.symbolicexecutor.state.{BoolVal, Equals, NamedPureVar, NotEquals, NullVal, PureExpr, PureVar, TopVal}\n",
    "\n",
    "\n",
    "def getIsDocker():Boolean = {\n",
    "    val res = BounderUtil.runCmdStdout(\"whoami\")\n",
    "    res.trim == \"root\"\n",
    "}\n",
    "\n",
    "val isDocker = getIsDocker()\n",
    "// val isDocker = false //TODO: overridden\n",
    "\n",
    "val historiaDir = if(isDocker) \"/home/bounder\" else \"/Users/shawnmeier/Documents/source/historia/Historia/\"\n",
    "\n",
    "// define a function to call the JAR implementation of Historia with a configuration\n",
    "// If changes are made to Historia, run \"sbt compile\" in the /home/implementation directory to regenerate the Historia JAR\n",
    "\n",
    "def runHistoriaWithSpec(configPath:File, printThenDone:Boolean = false):String = {\n",
    "    val javaMemLimit=20 // Gb Note that this only limits JVM not JNI which can go significantly higher\n",
    "    val historiaJar = jarpath\n",
    "    val apkRootDir = \"/Users/shawnmeier/Documents/data/historia_generalizability\"\n",
    "    val outDir = configPath.parent.toString\n",
    "    val config = read[RunConfig](configPath.contentAsString)\n",
    "    val outSubdir = config.outFolder.get.replace(\"${baseDirOut}\",outDir)\n",
    "    val cmd = s\"java -Xmx${javaMemLimit}G -jar ${historiaJar} -m verify -c ${configPath} -b ${apkRootDir} -u ${outDir} -o MEM --debug\"\n",
    "    \n",
    "    if(printThenDone){\n",
    "        println(cmd)\n",
    "        cmd\n",
    "    }else{\n",
    "        //BounderUtil.runCmdStdout(cmd, Some(\"/Users/shawnmeier/software/z3/build\"))\n",
    "        BounderUtil.runCmdFileOut(cmd, configPath.parent).toString\n",
    "    }\n",
    "}\n",
    "\n",
    "// def printOutput(\n",
    "\n",
    "def runAndPrint(configPath:File, allSpecs:Iterable[LSSpec], printThenDone:Boolean = false):String = {\n",
    "    val res = runHistoriaWithSpec(configPath,printThenDone)\n",
    "    println(\"run result\")\n",
    "    println(res)   \n",
    "    println(\"specified messages\")\n",
    "    val msgSigs = allSpecs.flatMap(spec =>\n",
    "                Set(spec.target) ++ spec.pred.allMsg).map(msg => msg.identitySignature)\n",
    "    println(msgSigs)\n",
    "    println(msgSigs.size)\n",
    "    res\n",
    "}\n",
    "\n",
    "val v = NamedPureVar(\"v\")\n",
    "val a = NamedPureVar(\"a\")\n",
    "val f = NamedPureVar(\"f\")\n",
    "val s = NamedPureVar(\"s\")\n",
    "val l = NamedPureVar(\"l\")\n",
    "val t = NamedPureVar(\"t\")"
   ]
  },
  {
   "cell_type": "markdown",
   "metadata": {},
   "source": [
    "Row 2 ap ex\n",
    "-----------\n"
   ]
  },
  {
   "cell_type": "code",
   "execution_count": null,
   "metadata": {},
   "outputs": [],
   "source": [
    "\n",
    "\n",
    "val row2_outputDir = File(s\"/home/notebooks/Row2_Antennapod_execute_bug/WitStoriaOut\")\n",
    "\n",
    "\n",
    "def run2():Unit = {\n",
    "    val outputDir = row2_outputDir\n",
    "    val row2Specs = Set[LSSpec](\n",
    "        ViewSpec.clickWhileNotDisabled,\n",
    "        LifecycleSpec.Activity_createdOnlyFirst\n",
    "      )\n",
    "\n",
    "\n",
    "\n",
    "    val methodSignature = LifeState.Signature(\"com.example.row2antennapodexecute.RemoverActivity\",\n",
    "              \"void onClick(android.view.View)\")\n",
    "\n",
    "\n",
    "    val initialQuery = DisallowedCallin(\n",
    "              methodSignature.base,\n",
    "              methodSignature.methodSignature,\n",
    "              SAsyncTask.disallowDoubleExecute)\n",
    "    // val initialQuery = ReceiverNonNull(\n",
    "    //         methodSignature,\n",
    "    //         34,\n",
    "    //         None\n",
    "    //     )\n",
    "\n",
    "    val inputApk = s\"${historiaDir}notebooks/Row2_Antennapod_execute_bug/app/build/outputs/apk/debug/app-debug.apk\"\n",
    "    val cfg =  RunConfig(apkPath = inputApk.toString, \n",
    "              outFolder = Some(outputDir.toString),\n",
    "              initialQuery = List(initialQuery), truncateOut=false, \n",
    "                         specSet = PickleSpec(row2Specs, Set(SAsyncTask.disallowDoubleExecute), Set(ViewSpec.fv1)),\n",
    "                         approxMode = PreciseApproxMode(true)\n",
    "                        )\n",
    "    \n",
    "    val allSpecs = (row2Specs ++ Set[LSSpec](SAsyncTask.disallowDoubleExecute))\n",
    "\n",
    "\n",
    "    val cfgPath = (outputDir / \"cfg.json\")\n",
    "    println(cfgPath)\n",
    "    cfgPath.overwrite(write(cfg))\n",
    "    \n",
    "\n",
    "    // val res = runHistoriaWithSpec(cfgPath)\n",
    "    // println(\"withist history\")\n",
    "    // println(res.witnessExplanation)\n",
    "    \n",
    "\n",
    "    runAndPrint(cfgPath, allSpecs)\n",
    "}\n",
    "\n",
    "run2()"
   ]
  },
  {
   "cell_type": "code",
   "execution_count": null,
   "metadata": {},
   "outputs": [],
   "source": [
    "println(read[Driver.LocResult]((row2_outputDir / \"result_0.txt\").contentAsString).witnessExplanation)"
   ]
  },
  {
   "cell_type": "markdown",
   "metadata": {},
   "source": [
    "Row 1 \n",
    "-----"
   ]
  },
  {
   "cell_type": "code",
   "execution_count": null,
   "metadata": {},
   "outputs": [],
   "source": [
    "val row1_outputDir = File(\"/home/notebooks/reachExpSmall/row1out\")\n",
    "def row1(){\n",
    "    val methodSignature = LifeState.Signature(\"com.example.row1antennapodrxjava.ui.main.PlayerFragment\",\n",
    "              \"void call(java.lang.Object)\")\n",
    "    \n",
    "    val initialQuery = ReceiverNonNull(\n",
    "            methodSignature,\n",
    "            78, // line number in source code file\n",
    "            None //Some(\".*toString.*\") // regular expression matching receiver (in case multiple dereferences on one line)\n",
    "        )\n",
    "\n",
    "    val row1Specs = Set(FragmentGetActivityNullSpec.getActivityNull,\n",
    "        LifecycleSpec.Fragment_activityCreatedOnlyFirst,\n",
    "        RxJavaSpec.call,\n",
    "        LSSpec(f::Nil,Nil, SpecSignatures.Fragment_onCreate_entry,SpecSignatures.Fragment_onActivityCreated_entry)\n",
    "      )\n",
    "\n",
    "    val RxJava_subscribeOn = LifeState.SubClassMatcher(\"rx.Single\", \"rx.Single subscribeOn\\\\(.*\\\\)\", \"rxJava_subscribeon\")\n",
    "    val RxJava_subscribeOn_exit = AbsMsg(CIExit, RxJava_subscribeOn, t::a::Nil)\n",
    "\n",
    "    val RxJava_observeOn = LifeState.SubClassMatcher(\"rx.Single\", \"rx.Single observeOn\\\\(.*\\\\)\", \"rxJava_observeon\")\n",
    "    val RxJava_observeOn_exit = AbsMsg(CIExit, RxJava_observeOn, t::a::Nil)\n",
    "\n",
    "    val apkBase = if(isDocker) \"/home/\" else \"/Users/shawnmeier/Documents/source/historia/Historia/\"\n",
    "    val inputApk = s\"${apkBase}notebooks/AntennapodPlayerFragment_bug/app/build/outputs/apk/debug/app-debug.apk\"\n",
    "    val outputDir = row1_outputDir\n",
    "\n",
    "    val cfgOutDir = if(!isDocker) row1_outputDir.toString.replace(\"/home/\",\"/Users/shawnmeier/Documents/source/historia/Historia/\") else row1_outputDir.toString\n",
    "    val cfg =  RunConfig(apkPath = inputApk.toString, \n",
    "              outFolder = Some(cfgOutDir),\n",
    "              initialQuery = List(initialQuery), truncateOut=false,\n",
    "             specSet = PickleSpec(row1Specs, Set(), Set(SpecSignatures.RxJava_create_exit, RxJava_subscribeOn_exit, RxJava_observeOn_exit, SpecSignatures.RxJava_subscribe_exit.copy(lsVars=s::t::l::Nil))),\n",
    "             approxMode = PreciseApproxMode(true)\n",
    "                        )\n",
    "    \n",
    "    val cfgPath = (outputDir / \"cfg.json\")\n",
    "    cfgPath.overwrite(write(cfg))\n",
    "    \n",
    "    runAndPrint(cfgPath,row1Specs, false)\n",
    "}\n",
    "row1()"
   ]
  },
  {
   "cell_type": "code",
   "execution_count": null,
   "metadata": {},
   "outputs": [],
   "source": [
    "println(read[Driver.LocResult]((row1_outputDir / \"result_0.txt\").contentAsString).witnessExplanation)"
   ]
  },
  {
   "cell_type": "markdown",
   "metadata": {},
   "source": [
    "row3antennapoddismiss\n",
    "---------------------"
   ]
  },
  {
   "cell_type": "code",
   "execution_count": 15,
   "metadata": {},
   "outputs": [
    {
     "name": "stdout",
     "output_type": "stream",
     "text": [
      "Not mac\n",
      "run result\n",
      "true\n",
      "specified messages\n",
      "Set(I_CIExit_Dialogshow, I_CBEnter_AsyncTaskpostExecute, I_CIExit_AsyncTaskexecute, I_CBEnter_AsyncTaskdoInBackground)\n",
      "4\n"
     ]
    },
    {
     "data": {
      "text/plain": [
       "\u001b[36mrow3_outputDir\u001b[39m: \u001b[32mFile\u001b[39m = /home/notebooks/reachExpSmall/row3out\n",
       "defined \u001b[32mfunction\u001b[39m \u001b[36mrow3\u001b[39m"
      ]
     },
     "execution_count": 15,
     "metadata": {},
     "output_type": "execute_result"
    }
   ],
   "source": [
    "val row3_outputDir = File(\"/home/notebooks/reachExpSmall/row3out\")\n",
    "def row3(){\n",
    "    \n",
    "    val initialQuery = DisallowedCallin(\n",
    "      \"com.example.row3antennapoddismiss.StatusActivity$PostTask\",\n",
    "      \"void onPostExecute(java.lang.String)\",\n",
    "      SDialog.disallowDismiss)\n",
    "\n",
    "    val v = NamedPureVar(\"v\")\n",
    "    val postAfterExecute = LSSpec(t::Nil,v::Nil, SAsyncTask.executeI, SAsyncTask.postExecuteI)\n",
    "    val doInBackground = AbsMsg(CBEnter, SubClassMatcher(SAsyncTask.AsyncTaskC, \".*doInBackground\\\\(.*\", \"AsyncTask_doInBackground\"), TopVal::t::Nil)\n",
    "    val postAfterDoInBackground = LSSpec(t::Nil, v::Nil, doInBackground, SAsyncTask.postExecuteI)\n",
    "\n",
    "    val row3Specs = Set[LSSpec](SDialog.noDupeShow, postAfterExecute, postAfterDoInBackground)\n",
    "    \n",
    "\n",
    "    val apkBase = if(isDocker) \"/home/\" else \"/Users/shawnmeier/Documents/source/historia/Historia/\"\n",
    "    val inputApk = s\"${apkBase}/notebooks/Row3_Antennapod_dismiss/app/build/outputs/apk/debug/app-debug.apk\"\n",
    "    val outputDir = row3_outputDir\n",
    "\n",
    "    val cfgOutDir = if(!isDocker) row3_outputDir.toString.replace(\"/home/\",\"/Users/shawnmeier/Documents/source/historia/Historia/\") else row3_outputDir.toString\n",
    "    val cfg =  RunConfig(apkPath = inputApk.toString, \n",
    "              outFolder = Some(cfgOutDir),\n",
    "              initialQuery = List(initialQuery), truncateOut=false,\n",
    "             specSet = PickleSpec(row3Specs, Set(SDialog.disallowDismiss), Set()),\n",
    "             approxMode = PreciseApproxMode(true)\n",
    "                        )\n",
    "    \n",
    "    val cfgPath = (outputDir / \"cfg.json\")\n",
    "    cfgPath.overwrite(write(cfg))\n",
    "    \n",
    "    runAndPrint(cfgPath,row3Specs, false)\n",
    "}\n",
    "row3()"
   ]
  },
  {
   "cell_type": "code",
   "execution_count": 16,
   "metadata": {},
   "outputs": [
    {
     "name": "stdout",
     "output_type": "stream",
     "text": [
      "Result\n",
      "Witnessed\n",
      "\n",
      "Witness\n",
      "List(Future trace:\n",
      " CBEnter void onResume()( _T_,@4 )\n",
      "TNew(p-2,{3})\n",
      "CIExit AsyncTask execute()( _T_,@0 )\n",
      "CIExit show(( @5,_T_,@4 )\n",
      "CBEnter doInBackground(( _T_,@0 )\n",
      "CBExit void onPause()( _T_,@4 )\n",
      "CBEnter onPostExecute()( _T_,@0,@7 )\n",
      "CIEnter void dismiss()( _T_,@5 )\n",
      ", Future trace:\n",
      " CBEnter void onResume()( _T_,@4 )\n",
      "TNew(p-2,{3})\n",
      "CIExit AsyncTask execute()( _T_,@2 )\n",
      "CIExit show(( @5,_T_,@4 )\n",
      "CBExit void onPause()( _T_,@4 )\n",
      "CBEnter doInBackground(( _T_,@2 )\n",
      "CBEnter onPostExecute()( _T_,@2,@7 )\n",
      "CIEnter void dismiss()( _T_,@5 )\n",
      ")\n"
     ]
    },
    {
     "data": {
      "text/plain": [
       "defined \u001b[32mfunction\u001b[39m \u001b[36mprintRes\u001b[39m"
      ]
     },
     "execution_count": 16,
     "metadata": {},
     "output_type": "execute_result"
    }
   ],
   "source": [
    "def printRes(dir:File):Unit = {\n",
    "    val row3result = read[Driver.LocResult]((dir / \"result_0.txt\").contentAsString)\n",
    "    println(\"Result\")\n",
    "    println(row3result.resultSummary)\n",
    "    println(\"\\nWitness\")\n",
    "    println(row3result.witnessExplanation)\n",
    "}\n",
    "printRes(row3_outputDir)"
   ]
  },
  {
   "cell_type": "code",
   "execution_count": null,
   "metadata": {},
   "outputs": [],
   "source": []
  }
 ],
 "metadata": {
  "kernelspec": {
   "display_name": "Scala",
   "language": "scala",
   "name": "scala"
  },
  "language_info": {
   "codemirror_mode": "text/x-scala",
   "file_extension": ".scala",
   "mimetype": "text/x-scala",
   "name": "scala",
   "nbconvert_exporter": "script",
   "version": "2.13.2"
  }
 },
 "nbformat": 4,
 "nbformat_minor": 4
}
