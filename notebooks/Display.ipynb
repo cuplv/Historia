{
 "cells": [
  {
   "cell_type": "code",
   "execution_count": 4,
   "metadata": {},
   "outputs": [
    {
     "data": {
      "text/plain": [
       "\u001b[32mimport \u001b[39m\u001b[36malmond.display._\u001b[39m"
      ]
     },
     "execution_count": 4,
     "metadata": {},
     "output_type": "execute_result"
    }
   ],
   "source": [
    "import almond.display._"
   ]
  },
  {
   "cell_type": "code",
   "execution_count": 3,
   "metadata": {},
   "outputs": [
    {
     "data": {
      "text/html": [
       "\n",
       "<ul id=\"myUL\">\n",
       "  <li><span>Beverages</span>\n",
       "    <ul class=\"nested\">\n",
       "      <li>Water</li>\n",
       "      <li>Coffee</li>\n",
       "      <li><span>Tea</span>\n",
       "        <ul class=\"nested\">\n",
       "          <li>Black Tea</li>\n",
       "          <li>White Tea</li>\n",
       "          <li><span class=\"caret\">Green Tea</span>\n",
       "            <ul class=\"nested\">\n",
       "              <li>Sencha</li>\n",
       "              <li>Gyokuro</li>\n",
       "              <li>Matcha</li>\n",
       "              <li>Pi Lo Chun</li>\n",
       "            </ul>\n",
       "          </li>\n",
       "        </ul>\n",
       "      </li>\n",
       "    </ul>\n",
       "  </li>\n",
       "</ul>\n"
      ]
     },
     "metadata": {},
     "output_type": "display_data"
    }
   ],
   "source": [
    "Html(\n",
    "\"\"\"\n",
    "<ul id=\"myUL\">\n",
    "  <li><span>Beverages</span>\n",
    "    <ul class=\"nested\">\n",
    "      <li>Water</li>\n",
    "      <li>Coffee</li>\n",
    "      <li><span>Tea</span>\n",
    "        <ul class=\"nested\">\n",
    "          <li>Black Tea</li>\n",
    "          <li>White Tea</li>\n",
    "          <li><span class=\"caret\">Green Tea</span>\n",
    "            <ul class=\"nested\">\n",
    "              <li>Sencha</li>\n",
    "              <li>Gyokuro</li>\n",
    "              <li>Matcha</li>\n",
    "              <li>Pi Lo Chun</li>\n",
    "            </ul>\n",
    "          </li>\n",
    "        </ul>\n",
    "      </li>\n",
    "    </ul>\n",
    "  </li>\n",
    "</ul>\n",
    "\"\"\"\n",
    ")"
   ]
  },
  {
   "cell_type": "code",
   "execution_count": 6,
   "metadata": {},
   "outputs": [
    {
     "name": "stdout",
     "output_type": "stream",
     "text": [
      "test\n",
      ">> ········\n"
     ]
    },
    {
     "data": {
      "text/plain": [
       "\u001b[36mres5_0\u001b[39m: \u001b[32mString\u001b[39m = \u001b[32m\"test\"\u001b[39m\n",
       "\u001b[36mres5_1\u001b[39m: \u001b[32mString\u001b[39m = \u001b[32m\"test\"\u001b[39m"
      ]
     },
     "execution_count": 6,
     "metadata": {},
     "output_type": "execute_result"
    }
   ],
   "source": [
    "kernel.stdin()\n",
    "val a = kernel.stdin(prompt = \">> \", password = true)"
   ]
  },
  {
   "cell_type": "code",
   "execution_count": 8,
   "metadata": {},
   "outputs": [
    {
     "data": {
      "text/plain": [
       "\u001b[32mimport \u001b[39m\u001b[36mscala.util.Random\n",
       "\u001b[39m\n",
       "\u001b[36mres7_1\u001b[39m: \u001b[32mBoolean\u001b[39m = false"
      ]
     },
     "execution_count": 8,
     "metadata": {},
     "output_type": "execute_result"
    }
   ],
   "source": [
    "import scala.util.Random\n",
    "(new Random()).nextBoolean()"
   ]
  },
  {
   "cell_type": "code",
   "execution_count": 12,
   "metadata": {},
   "outputs": [
    {
     "name": "stdout",
     "output_type": "stream",
     "text": [
      "()\n"
     ]
    }
   ],
   "source": [
    "println(if(false){1})"
   ]
  },
  {
   "cell_type": "code",
   "execution_count": 7,
   "metadata": {},
   "outputs": [
    {
     "data": {
      "text/html": [
       "\n",
       "<!DOCTYPE html>\n",
       "<html>\n",
       "<head>\n",
       "  <meta name=\"viewport\" content=\"width=device-width, initial-scale=1\">\n",
       "  <link rel=\"stylesheet\" href=\"https://maxcdn.bootstrapcdn.com/bootstrap/3.4.1/css/bootstrap.min.css\">\n",
       "  <script src=\"https://ajax.googleapis.com/ajax/libs/jquery/3.4.1/jquery.min.js\"></script>\n",
       "  <script src=\"https://maxcdn.bootstrapcdn.com/bootstrap/3.4.1/js/bootstrap.min.js\"></script>\n",
       "</head>\n",
       "<body>\n",
       "\n",
       "<div class=\"container\">\n",
       "  <h2>Collapsible Panel</h2>\n",
       "  <p>Click on the collapsible panel to open and close it.</p>\n",
       "  <div class=\"panel-group\">\n",
       "    <div class=\"panel panel-default\">\n",
       "      <div class=\"panel-heading\">\n",
       "        <h4 class=\"panel-title\">\n",
       "          <a data-toggle=\"collapse\" href=\"#collapse1\">Collapsible panel</a>\n",
       "        </h4>\n",
       "      </div>\n",
       "      <div id=\"collapse1\" class=\"panel-collapse collapse\">\n",
       "        <div class=\"panel-body\">\n",
       "          <div id=\"collapse1\" class=\"panel-collapse collapse\">\n",
       "            <div class=\"panel-body\"> foo </div>\n",
       "          </div>\n",
       "        </div>\n",
       "        <div class=\"panel-footer\">Panel Footer</div>\n",
       "      </div>\n",
       "    </div>\n",
       "  </div>\n",
       "</div>\n",
       "    \n",
       "</body>\n",
       "</html>\n"
      ]
     },
     "metadata": {},
     "output_type": "display_data"
    }
   ],
   "source": [
    "Html(\n",
    "\"\"\"\n",
    "<!DOCTYPE html>\n",
    "<html>\n",
    "<head>\n",
    "  <meta name=\"viewport\" content=\"width=device-width, initial-scale=1\">\n",
    "  <link rel=\"stylesheet\" href=\"https://maxcdn.bootstrapcdn.com/bootstrap/3.4.1/css/bootstrap.min.css\">\n",
    "  <script src=\"https://ajax.googleapis.com/ajax/libs/jquery/3.4.1/jquery.min.js\"></script>\n",
    "  <script src=\"https://maxcdn.bootstrapcdn.com/bootstrap/3.4.1/js/bootstrap.min.js\"></script>\n",
    "</head>\n",
    "<body>\n",
    "\n",
    "<div class=\"container\">\n",
    "  <h2>Collapsible Panel</h2>\n",
    "  <p>Click on the collapsible panel to open and close it.</p>\n",
    "  <div class=\"panel-group\">\n",
    "    <div class=\"panel panel-default\">\n",
    "      <div class=\"panel-heading\">\n",
    "        <h4 class=\"panel-title\">\n",
    "          <a data-toggle=\"collapse\" href=\"#collapse1\">Collapsible panel</a>\n",
    "        </h4>\n",
    "      </div>\n",
    "      <div id=\"collapse1\" class=\"panel-collapse collapse\">\n",
    "        <div class=\"panel-body\">\n",
    "          <div id=\"collapse1\" class=\"panel-collapse collapse\">\n",
    "            <div class=\"panel-body\"> foo </div>\n",
    "          </div>\n",
    "        </div>\n",
    "        <div class=\"panel-footer\">Panel Footer</div>\n",
    "      </div>\n",
    "    </div>\n",
    "  </div>\n",
    "</div>\n",
    "    \n",
    "</body>\n",
    "</html>\n",
    "\"\"\"\n",
    ")"
   ]
  },
  {
   "cell_type": "code",
   "execution_count": null,
   "metadata": {},
   "outputs": [],
   "source": []
  }
 ],
 "metadata": {
  "kernelspec": {
   "display_name": "Scala",
   "language": "scala",
   "name": "scala"
  },
  "language_info": {
   "codemirror_mode": "text/x-scala",
   "file_extension": ".scala",
   "mimetype": "text/x-scala",
   "name": "scala",
   "nbconvert_exporter": "script",
   "version": "2.12.10"
  }
 },
 "nbformat": 4,
 "nbformat_minor": 4
}
