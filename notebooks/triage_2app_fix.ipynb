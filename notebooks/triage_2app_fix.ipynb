{
 "cells": [
  {
   "cell_type": "code",
   "execution_count": 119,
   "metadata": {},
   "outputs": [
    {
     "name": "stdout",
     "output_type": "stream",
     "text": [
      "The sql extension is already loaded. To reload it, use:\n",
      "  %reload_ext sql\n"
     ]
    }
   ],
   "source": [
    "import pandas as pd\n",
    "import pylab\n",
    "import json\n",
    "%matplotlib inline\n",
    "import matplotlib.pyplot as plt\n",
    "plt.style.use('seaborn-whitegrid')\n",
    "import numpy as np\n",
    "from IPython.core import display\n",
    "import psycopg2\n",
    "import os\n",
    "homedir = os.getenv(\"HOME\")\n",
    "with open(homedir + \"/.pgpass\",'r') as pgfile:\n",
    "    pgdat = pgfile.read().strip().split(\":\")\n",
    "    pgurl = pgdat[0]\n",
    "    pgport = pgdat[1]\n",
    "    pgdb = pgdat[2]\n",
    "    pguser = pgdat[3]\n",
    "    pgpass = pgdat[4]\n",
    "\n",
    "%load_ext sql\n",
    "from sqlalchemy import create_engine\n",
    "# sql info: https://github.com/catherinedevlin/ipython-sql\n",
    "#uncomment for remote\n",
    "pgport=3333\n",
    "#pgport=5433\n",
    "engine = create_engine('postgresql://postgres@localhost:%i/postgres' % pgport)\n",
    "db = psycopg2.connect(host=pgurl, database=pgdb, user=pguser,password=pgpass,port=pgport)"
   ]
  },
  {
   "cell_type": "code",
   "execution_count": 120,
   "metadata": {},
   "outputs": [],
   "source": [
    "def qry(q):\n",
    "  return pd.read_sql_query(con = db, sql = q)\n",
    "# pd.set_option(\"max_colwidth\", None)\n",
    "# pd.set_option('display.max_columns', None)\n",
    "pd.set_option(\"display.latex.repr\", False)\n",
    "pd.set_option(\"display.latex.escape\", True)\n",
    "\n",
    "def iDisplay(v):\n",
    "    with pd.option_context('display.max_rows', None, 'display.max_columns', None, \"max_colwidth\", None):\n",
    "        display.display(v)\n"
   ]
  },
  {
   "cell_type": "code",
   "execution_count": 121,
   "metadata": {},
   "outputs": [
    {
     "name": "stdout",
     "output_type": "stream",
     "text": [
      "1 rows affected.\n"
     ]
    },
    {
     "data": {
      "text/html": [
       "<table>\n",
       "    <tr>\n",
       "        <th>count</th>\n",
       "    </tr>\n",
       "    <tr>\n",
       "        <td>2</td>\n",
       "    </tr>\n",
       "</table>"
      ],
      "text/plain": [
       "[(2,)]"
      ]
     },
     "execution_count": 121,
     "metadata": {},
     "output_type": "execute_result"
    }
   ],
   "source": [
    "%%sql postgresql://postgres@localhost:$pgport/postgres\n",
    "select count(*) from apks where apkname not like 'jar_%' and apkname not like 'spec_%';"
   ]
  },
  {
   "cell_type": "code",
   "execution_count": 230,
   "metadata": {},
   "outputs": [
    {
     "name": "stdout",
     "output_type": "stream",
     "text": [
      " * postgresql://postgres@localhost:3333/postgres\n",
      "1 rows affected.\n"
     ]
    },
    {
     "data": {
      "text/html": [
       "<table>\n",
       "    <tr>\n",
       "        <th>completed_jobs</th>\n",
       "        <th>paused_jobs</th>\n",
       "        <th>acquired_jobs</th>\n",
       "        <th>body_exception</th>\n",
       "        <th>exception</th>\n",
       "        <th>refl_exception</th>\n",
       "        <th>worker_failure</th>\n",
       "        <th>possible_cg_unsound</th>\n",
       "        <th>total_jobs</th>\n",
       "    </tr>\n",
       "    <tr>\n",
       "        <td>104</td>\n",
       "        <td>0</td>\n",
       "        <td>18</td>\n",
       "        <td>4</td>\n",
       "        <td>5</td>\n",
       "        <td>0</td>\n",
       "        <td>0</td>\n",
       "        <td>0</td>\n",
       "        <td>196</td>\n",
       "    </tr>\n",
       "</table>"
      ],
      "text/plain": [
       "[(104, 0, 18, 4, 5, 0, 0, 0, 196)]"
      ]
     },
     "execution_count": 230,
     "metadata": {},
     "output_type": "execute_result"
    }
   ],
   "source": [
    "%%sql\n",
    "select \n",
    "    (select count(*) from jobs where status = 'completed') as Completed_Jobs,\n",
    "    (select count(*) from jobs where status = 'paused') as Paused_Jobs,\n",
    "    (select count(*) from jobs where status = 'acquired') as Acquired_jobs,\n",
    "    (select count(id) from jobs \n",
    "       where stderr like '%Exception%no active body present for method%') as Body_Exception,\n",
    "    (select count(id) from jobs where stderr like '%Exception%') as Exception,\n",
    "    (select count(id) from jobs where stderr like '%Failed t\n",
    "     o parse reflective type reference%') as Refl_exception,\n",
    "    (select count(id) from jobs where status like 'failed%') as worker_failure,\n",
    "    (select count(id) from jobs where stdout like '%empty pred lZocation%') as possible_cg_unsound,\n",
    "    (select count(*) from jobs) as Total_Jobs"
   ]
  },
  {
   "cell_type": "markdown",
   "metadata": {},
   "source": [
    "71 2:29 am\n",
    "117 850 am\n",
    "127 11:00 am "
   ]
  },
  {
   "cell_type": "markdown",
   "metadata": {},
   "source": [
    "Failing apks"
   ]
  },
  {
   "cell_type": "code",
   "execution_count": 222,
   "metadata": {},
   "outputs": [
    {
     "name": "stdout",
     "output_type": "stream",
     "text": [
      " * postgresql://postgres@localhost:3333/postgres\n",
      "0 rows affected.\n"
     ]
    },
    {
     "data": {
      "text/html": [
       "<table>\n",
       "    <tr>\n",
       "        <th>text</th>\n",
       "    </tr>\n",
       "</table>"
      ],
      "text/plain": [
       "[]"
      ]
     },
     "execution_count": 222,
     "metadata": {},
     "output_type": "execute_result"
    }
   ],
   "source": [
    "%%sql\n",
    "select cast(config::json->'apkPath' as text) from jobs \n",
    "        where stderr like '%Exception' group by cast(config::json->'apkPath' as text) ;"
   ]
  },
  {
   "cell_type": "code",
   "execution_count": 112,
   "metadata": {},
   "outputs": [
    {
     "name": "stdout",
     "output_type": "stream",
     "text": [
      " * postgresql://postgres@localhost:3333/postgres\n",
      "1 rows affected.\n"
     ]
    },
    {
     "data": {
      "text/html": [
       "<table>\n",
       "    <tr>\n",
       "        <th>count</th>\n",
       "    </tr>\n",
       "    <tr>\n",
       "        <td>22</td>\n",
       "    </tr>\n",
       "</table>"
      ],
      "text/plain": [
       "[(22,)]"
      ]
     },
     "execution_count": 112,
     "metadata": {},
     "output_type": "execute_result"
    }
   ],
   "source": [
    "# err = %sql select stderr from jobs where stderr like '%Exception%' order by random() limit 1;\n",
    "# print(err.DataFrame()['stderr'][0])\n",
    "%sql select count(id) from jobs where stderr like '%The database file is locked%';"
   ]
  },
  {
   "cell_type": "code",
   "execution_count": 223,
   "metadata": {},
   "outputs": [
    {
     "name": "stdout",
     "output_type": "stream",
     "text": [
      " * postgresql://postgres@localhost:3333/postgres\n",
      "1 rows affected.\n",
      "{\"t\":\"AllReceiversNonNull\",\"className\":\"itkach.aard2.SettingsListAdapter\"}\n",
      "java.util.NoSuchElementException\n",
      "\tat scala.collection.immutable.BitmapIndexedMapNode.apply(HashMap.scala:608)\n",
      "\tat scala.collection.immutable.BitmapIndexedMapNode.apply(HashMap.scala:606)\n",
      "\tat scala.collection.immutable.BitmapIndexedMapNode.apply(HashMap.scala:606)\n",
      "\tat scala.collection.immutable.HashMap.apply(HashMap.scala:131)\n",
      "\tat edu.colorado.plv.bounder.symbolicexecutor.state.State.constrainIsType(State.scala:412)\n",
      "\tat edu.colorado.plv.bounder.symbolicexecutor.TransferFunctions.cmdTransfer(TransferFunctions.scala:692)\n",
      "\tat edu.colorado.plv.bounder.symbolicexecutor.TransferFunctions.transfer(TransferFunctions.scala:254)\n",
      "\tat edu.colorado.plv.bounder.symbolicexecutor.SymbolicExecutor.$anonfun$executeStep$1(SymbolicExecutor.scala:394)\n",
      "\tat scala.collection.parallel.AugmentedIterableIterator.flatmap2combiner(RemainsIterator.scala:123)\n",
      "\tat scala.collection.parallel.AugmentedIterableIterator.flatmap2combiner$(RemainsIterator.scala:121)\n",
      "\tat scala.collection.parallel.immutable.ParVector$ParVectorIterator.flatmap2combiner(ParVector.scala:70)\n",
      "\tat scala.collection.parallel.ParIterableLike$FlatMap.leaf(ParIterableLike.scala:1024)\n",
      "\tat scala.collection.parallel.Task.$anonfun$tryLeaf$1(Tasks.scala:52)\n",
      "\tat scala.runtime.java8.JFunction0$mcV$sp.apply(JFunction0$mcV$sp.scala:18)\n",
      "\tat scala.util.control.Breaks$$anon$1.catchBreak(Breaks.scala:67)\n",
      "\tat scala.collection.parallel.Task.tryLeaf(Tasks.scala:55)\n",
      "\tat scala.collection.parallel.Task.tryLeaf$(Tasks.scala:49)\n",
      "\tat scala.collection.parallel.ParIterableLike$FlatMap.tryLeaf(ParIterableLike.scala:1020)\n",
      "\tat scala.collection.parallel.AdaptiveWorkStealingTasks$AWSTWrappedTask.compute(Tasks.scala:152)\n",
      "\tat scala.collection.parallel.AdaptiveWorkStealingTasks$AWSTWrappedTask.compute$(Tasks.scala:148)\n",
      "\tat scala.collection.parallel.AdaptiveWorkStealingForkJoinTasks$AWSFJTWrappedTask.compute(Tasks.scala:304)\n",
      "\tat java.base/java.util.concurrent.RecursiveAction.exec(RecursiveAction.java:189)\n",
      "\tat java.base/java.util.concurrent.ForkJoinTask.doExec(ForkJoinTask.java:290)\n",
      "\tat java.base/java.util.concurrent.ForkJoinPool$WorkQueue.topLevelExec(ForkJoinPool.java:1020)\n",
      "\tat java.base/java.util.concurrent.ForkJoinPool.scan(ForkJoinPool.java:1656)\n",
      "\tat java.base/java.util.concurrent.ForkJoinPool.runWorker(ForkJoinPool.java:1594)\n",
      "\tat java.base/java.util.concurrent.ForkJoinWorkerThread.run(ForkJoinWorkerThread.java:183)\n",
      "java.util.NoSuchElementException\n",
      "\tat scala.collection.immutable.BitmapIndexedMapNode.apply(HashMap.scala:608)\n",
      "\tat scala.collection.immutable.BitmapIndexedMapNode.apply(HashMap.scala:606)\n",
      "\tat scala.collection.immutable.BitmapIndexedMapNode.apply(HashMap.scala:606)\n",
      "\tat scala.collection.immutable.HashMap.apply(HashMap.scala:131)\n",
      "\tat edu.colorado.plv.bounder.symbolicexecutor.state.State.constrainIsType(State.scala:412)\n",
      "\tat edu.colorado.plv.bounder.symbolicexecutor.TransferFunctions.cmdTransfer(TransferFunctions.scala:692)\n",
      "\tat edu.colorado.plv.bounder.symbolicexecutor.TransferFunctions.transfer(TransferFunctions.scala:254)\n",
      "\tat edu.colorado.plv.bounder.symbolicexecutor.SymbolicExecutor.$anonfun$executeStep$1(SymbolicExecutor.scala:394)\n",
      "\tat scala.collection.parallel.AugmentedIterableIterator.flatmap2combiner(RemainsIterator.scala:123)\n",
      "\tat scala.collection.parallel.AugmentedIterableIterator.flatmap2combiner$(RemainsIterator.scala:121)\n",
      "\tat scala.collection.parallel.immutable.ParVector$ParVectorIterator.flatmap2combiner(ParVector.scala:70)\n",
      "\tat scala.collection.parallel.ParIterableLike$FlatMap.leaf(ParIterableLike.scala:1024)\n",
      "\tat scala.collection.parallel.Task.$anonfun$tryLeaf$1(Tasks.scala:52)\n",
      "\tat scala.runtime.java8.JFunction0$mcV$sp.apply(JFunction0$mcV$sp.scala:18)\n",
      "\tat scala.util.control.Breaks$$anon$1.catchBreak(Breaks.scala:67)\n",
      "\tat scala.collection.parallel.Task.tryLeaf(Tasks.scala:55)\n",
      "\tat scala.collection.parallel.Task.tryLeaf$(Tasks.scala:49)\n",
      "\tat scala.collection.parallel.ParIterableLike$FlatMap.tryLeaf(ParIterableLike.scala:1020)\n",
      "\tat scala.collection.parallel.AdaptiveWorkStealingTasks$AWSTWrappedTask.compute(Tasks.scala:152)\n",
      "\tat scala.collection.parallel.AdaptiveWorkStealingTasks$AWSTWrappedTask.compute$(Tasks.scala:148)\n",
      "\tat scala.collection.parallel.AdaptiveWorkStealingForkJoinTasks$AWSFJTWrappedTask.compute(Tasks.scala:304)\n",
      "\tat java.base/java.util.concurrent.RecursiveAction.exec(RecursiveAction.java:189)\n",
      "\tat java.base/java.util.concurrent.ForkJoinTask.doExec(ForkJoinTask.java:290)\n",
      "\tat java.base/java.util.concurrent.ForkJoinPool$WorkQueue.topLevelExec(ForkJoinPool.java:1020)\n",
      "\tat java.base/java.util.concurrent.ForkJoinPool.scan(ForkJoinPool.java:1656)\n",
      "\tat java.base/java.util.concurrent.ForkJoinPool.runWorker(ForkJoinPool.java:1594)\n",
      "\tat java.base/java.util.concurrent.ForkJoinWorkerThread.run(ForkJoinWorkerThread.java:183)\n",
      "java.util.NoSuchElementException\n",
      "\tat scala.collection.immutable.BitmapIndexedMapNode.apply(HashMap.scala:604)\n",
      "\tat scala.collection.immutable.BitmapIndexedMapNode.apply(HashMap.scala:606)\n",
      "\tat scala.collection.immutable.BitmapIndexedMapNode.apply(HashMap.scala:606)\n",
      "\tat scala.collection.immutable.HashMap.apply(HashMap.scala:131)\n",
      "\tat edu.colorado.plv.bounder.symbolicexecutor.state.State.constrainIsType(State.scala:412)\n",
      "\tat edu.colorado.plv.bounder.symbolicexecutor.TransferFunctions.cmdTransfer(TransferFunctions.scala:692)\n",
      "\tat edu.colorado.plv.bounder.symbolicexecutor.TransferFunctions.transfer(TransferFunctions.scala:254)\n",
      "\tat edu.colorado.plv.bounder.symbolicexecutor.SymbolicExecutor.$anonfun$executeStep$1(SymbolicExecutor.scala:394)\n",
      "\tat scala.collection.parallel.AugmentedIterableIterator.flatmap2combiner(RemainsIterator.scala:123)\n",
      "\tat scala.collection.parallel.AugmentedIterableIterator.flatmap2combiner$(RemainsIterator.scala:121)\n",
      "\tat scala.collection.parallel.immutable.ParVector$ParVectorIterator.flatmap2combiner(ParVector.scala:70)\n",
      "\tat scala.collection.parallel.ParIterableLike$FlatMap.leaf(ParIterableLike.scala:1024)\n",
      "\tat scala.collection.parallel.Task.$anonfun$tryLeaf$1(Tasks.scala:52)\n",
      "\tat scala.runtime.java8.JFunction0$mcV$sp.apply(JFunction0$mcV$sp.scala:18)\n",
      "\tat scala.util.control.Breaks$$anon$1.catchBreak(Breaks.scala:67)\n",
      "\tat scala.collection.parallel.Task.tryLeaf(Tasks.scala:55)\n",
      "\tat scala.collection.parallel.Task.tryLeaf$(Tasks.scala:49)\n",
      "\tat scala.collection.parallel.ParIterableLike$FlatMap.tryLeaf(ParIterableLike.scala:1020)\n",
      "\tat scala.collection.parallel.AdaptiveWorkStealingTasks$AWSTWrappedTask.compute(Tasks.scala:152)\n",
      "\tat scala.collection.parallel.AdaptiveWorkStealingTasks$AWSTWrappedTask.compute$(Tasks.scala:148)\n",
      "\tat scala.collection.parallel.AdaptiveWorkStealingForkJoinTasks$AWSFJTWrappedTask.compute(Tasks.scala:304)\n",
      "\tat java.base/java.util.concurrent.RecursiveAction.exec(RecursiveAction.java:189)\n",
      "\tat java.base/java.util.concurrent.ForkJoinTask.doExec(ForkJoinTask.java:290)\n",
      "\tat java.base/java.util.concurrent.ForkJoinPool$WorkQueue.topLevelExec(ForkJoinPool.java:1020)\n",
      "\tat java.base/java.util.concurrent.ForkJoinPool.scan(ForkJoinPool.java:1656)\n",
      "\tat java.base/java.util.concurrent.ForkJoinPool.runWorker(ForkJoinPool.java:1594)\n",
      "\tat java.base/java.util.concurrent.ForkJoinWorkerThread.run(ForkJoinWorkerThread.java:183)\n",
      "java.util.NoSuchElementException\n",
      "\tat scala.collection.immutable.BitmapIndexedMapNode.apply(HashMap.scala:608)\n",
      "\tat scala.collection.immutable.BitmapIndexedMapNode.apply(HashMap.scala:606)\n",
      "\tat scala.collection.immutable.BitmapIndexedMapNode.apply(HashMap.scala:606)\n",
      "\tat scala.collection.immutable.HashMap.apply(HashMap.scala:131)\n",
      "\tat edu.colorado.plv.bounder.symbolicexecutor.state.State.constrainIsType(State.scala:412)\n",
      "\tat edu.colorado.plv.bounder.symbolicexecutor.TransferFunctions.cmdTransfer(TransferFunctions.scala:692)\n",
      "\tat edu.colorado.plv.bounder.symbolicexecutor.TransferFunctions.transfer(TransferFunctions.scala:254)\n",
      "\tat edu.colorado.plv.bounder.symbolicexecutor.SymbolicExecutor.$anonfun$executeStep$1(SymbolicExecutor.scala:394)\n",
      "\tat scala.collection.parallel.AugmentedIterableIterator.flatmap2combiner(RemainsIterator.scala:123)\n",
      "\tat scala.collection.parallel.AugmentedIterableIterator.flatmap2combiner$(RemainsIterator.scala:121)\n",
      "\tat scala.collection.parallel.immutable.ParVector$ParVectorIterator.flatmap2combiner(ParVector.scala:70)\n",
      "\tat scala.collection.parallel.ParIterableLike$FlatMap.leaf(ParIterableLike.scala:1024)\n",
      "\tat scala.collection.parallel.Task.$anonfun$tryLeaf$1(Tasks.scala:52)\n",
      "\tat scala.runtime.java8.JFunction0$mcV$sp.apply(JFunction0$mcV$sp.scala:18)\n",
      "\tat scala.util.control.Breaks$$anon$1.catchBreak(Breaks.scala:67)\n",
      "\tat scala.collection.parallel.Task.tryLeaf(Tasks.scala:55)\n",
      "\tat scala.collection.parallel.Task.tryLeaf$(Tasks.scala:49)\n",
      "\tat scala.collection.parallel.ParIterableLike$FlatMap.tryLeaf(ParIterableLike.scala:1020)\n",
      "\tat scala.collection.parallel.AdaptiveWorkStealingTasks$AWSTWrappedTask.compute(Tasks.scala:152)\n",
      "\tat scala.collection.parallel.AdaptiveWorkStealingTasks$AWSTWrappedTask.compute$(Tasks.scala:148)\n",
      "\tat scala.collection.parallel.AdaptiveWorkStealingForkJoinTasks$AWSFJTWrappedTask.compute(Tasks.scala:304)\n",
      "\tat java.base/java.util.concurrent.RecursiveAction.exec(RecursiveAction.java:189)\n",
      "\tat java.base/java.util.concurrent.ForkJoinTask.doExec(ForkJoinTask.java:290)\n",
      "\tat java.base/java.util.concurrent.ForkJoinPool$WorkQueue.topLevelExec(ForkJoinPool.java:1020)\n",
      "\tat java.base/java.util.concurrent.ForkJoinPool.scan(ForkJoinPool.java:1656)\n",
      "\tat java.base/java.util.concurrent.ForkJoinPool.runWorker(ForkJoinPool.java:1594)\n",
      "\tat java.base/java.util.concurrent.ForkJoinWorkerThread.run(ForkJoinWorkerThread.java:183)\n",
      "java.util.NoSuchElementException\n",
      "\tat scala.collection.immutable.BitmapIndexedMapNode.apply(HashMap.scala:604)\n",
      "\tat scala.collection.immutable.BitmapIndexedMapNode.apply(HashMap.scala:606)\n",
      "\tat scala.collection.immutable.HashMap.apply(HashMap.scala:131)\n",
      "\tat edu.colorado.plv.bounder.symbolicexecutor.state.State.constrainIsType(State.scala:412)\n",
      "\tat edu.colorado.plv.bounder.symbolicexecutor.TransferFunctions.cmdTransfer(TransferFunctions.scala:692)\n",
      "\tat edu.colorado.plv.bounder.symbolicexecutor.TransferFunctions.transfer(TransferFunctions.scala:254)\n",
      "\tat edu.colorado.plv.bounder.symbolicexecutor.SymbolicExecutor.$anonfun$executeStep$1(SymbolicExecutor.scala:394)\n",
      "\tat scala.collection.parallel.AugmentedIterableIterator.flatmap2combiner(RemainsIterator.scala:123)\n",
      "\tat scala.collection.parallel.AugmentedIterableIterator.flatmap2combiner$(RemainsIterator.scala:121)\n",
      "\tat scala.collection.parallel.immutable.ParVector$ParVectorIterator.flatmap2combiner(ParVector.scala:70)\n",
      "\tat scala.collection.parallel.ParIterableLike$FlatMap.leaf(ParIterableLike.scala:1024)\n",
      "\tat scala.collection.parallel.Task.$anonfun$tryLeaf$1(Tasks.scala:52)\n",
      "\tat scala.runtime.java8.JFunction0$mcV$sp.apply(JFunction0$mcV$sp.scala:18)\n",
      "\tat scala.util.control.Breaks$$anon$1.catchBreak(Breaks.scala:67)\n",
      "\tat scala.collection.parallel.Task.tryLeaf(Tasks.scala:55)\n",
      "\tat scala.collection.parallel.Task.tryLeaf$(Tasks.scala:49)\n",
      "\tat scala.collection.parallel.ParIterableLike$FlatMap.tryLeaf(ParIterableLike.scala:1020)\n",
      "\tat scala.collection.parallel.AdaptiveWorkStealingTasks$AWSTWrappedTask.compute(Tasks.scala:152)\n",
      "\tat scala.collection.parallel.AdaptiveWorkStealingTasks$AWSTWrappedTask.compute$(Tasks.scala:148)\n",
      "\tat scala.collection.parallel.AdaptiveWorkStealingForkJoinTasks$AWSFJTWrappedTask.compute(Tasks.scala:304)\n",
      "\tat java.base/java.util.concurrent.RecursiveAction.exec(RecursiveAction.java:189)\n",
      "\tat java.base/java.util.concurrent.ForkJoinTask.doExec(ForkJoinTask.java:290)\n",
      "\tat java.base/java.util.concurrent.ForkJoinPool$WorkQueue.topLevelExec(ForkJoinPool.java:1020)\n",
      "\tat java.base/java.util.concurrent.ForkJoinPool.scan(ForkJoinPool.java:1656)\n",
      "\tat java.base/java.util.concurrent.ForkJoinPool.runWorker(ForkJoinPool.java:1594)\n",
      "\tat java.base/java.util.concurrent.ForkJoinWorkerThread.run(ForkJoinWorkerThread.java:183)\n",
      "java.util.NoSuchElementException\n",
      "\tat scala.collection.immutable.BitmapIndexedMapNode.apply(HashMap.scala:608)\n",
      "\tat scala.collection.immutable.BitmapIndexedMapNode.apply(HashMap.scala:606)\n",
      "\tat scala.collection.immutable.BitmapIndexedMapNode.apply(HashMap.scala:606)\n",
      "\tat scala.collection.immutable.HashMap.apply(HashMap.scala:131)\n",
      "\tat edu.colorado.plv.bounder.symbolicexecutor.state.State.constrainIsType(State.scala:412)\n",
      "\tat edu.colorado.plv.bounder.symbolicexecutor.TransferFunctions.cmdTransfer(TransferFunctions.scala:692)\n",
      "\tat edu.colorado.plv.bounder.symbolicexecutor.TransferFunctions.transfer(TransferFunctions.scala:254)\n",
      "\tat edu.colorado.plv.bounder.symbolicexecutor.SymbolicExecutor.$anonfun$executeStep$1(SymbolicExecutor.scala:394)\n",
      "\tat scala.collection.parallel.AugmentedIterableIterator.flatmap2combiner(RemainsIterator.scala:123)\n",
      "\tat scala.collection.parallel.AugmentedIterableIterator.flatmap2combiner$(RemainsIterator.scala:121)\n",
      "\tat scala.collection.parallel.immutable.ParVector$ParVectorIterator.flatmap2combiner(ParVector.scala:70)\n",
      "\tat scala.collection.parallel.ParIterableLike$FlatMap.leaf(ParIterableLike.scala:1024)\n",
      "\tat scala.collection.parallel.Task.$anonfun$tryLeaf$1(Tasks.scala:52)\n",
      "\tat scala.runtime.java8.JFunction0$mcV$sp.apply(JFunction0$mcV$sp.scala:18)\n",
      "\tat scala.util.control.Breaks$$anon$1.catchBreak(Breaks.scala:67)\n",
      "\tat scala.collection.parallel.Task.tryLeaf(Tasks.scala:55)\n",
      "\tat scala.collection.parallel.Task.tryLeaf$(Tasks.scala:49)\n",
      "\tat scala.collection.parallel.ParIterableLike$FlatMap.tryLeaf(ParIterableLike.scala:1020)\n",
      "\tat scala.collection.parallel.AdaptiveWorkStealingTasks$AWSTWrappedTask.compute(Tasks.scala:152)\n",
      "\tat scala.collection.parallel.AdaptiveWorkStealingTasks$AWSTWrappedTask.compute$(Tasks.scala:148)\n",
      "\tat scala.collection.parallel.AdaptiveWorkStealingForkJoinTasks$AWSFJTWrappedTask.compute(Tasks.scala:304)\n",
      "\tat java.base/java.util.concurrent.RecursiveAction.exec(RecursiveAction.java:189)\n",
      "\tat java.base/java.util.concurrent.ForkJoinTask.doExec(ForkJoinTask.java:290)\n",
      "\tat java.base/java.util.concurrent.ForkJoinPool$WorkQueue.topLevelExec(ForkJoinPool.java:1020)\n",
      "\tat java.base/java.util.concurrent.ForkJoinPool.scan(ForkJoinPool.java:1656)\n",
      "\tat java.base/java.util.concurrent.ForkJoinPool.runWorker(ForkJoinPool.java:1594)\n",
      "\tat java.base/java.util.concurrent.ForkJoinWorkerThread.run(ForkJoinWorkerThread.java:183)\n",
      "\n"
     ]
    }
   ],
   "source": [
    "err = %sql select (config::json->'initialQuery'->>0) as classname,stderr from jobs \\\n",
    "    where stderr like '%Exception%' and stderr not like '%no active body%' limit 1;\n",
    "df = err.DataFrame()\n",
    "print(df['classname'][0])\n",
    "print(df['stderr'][0])"
   ]
  },
  {
   "cell_type": "code",
   "execution_count": 49,
   "metadata": {},
   "outputs": [
    {
     "name": "stdout",
     "output_type": "stream",
     "text": [
      " * postgresql://postgres@localhost:3333/postgres\n",
      "2 rows affected.\n"
     ]
    },
    {
     "data": {
      "text/html": [
       "<table>\n",
       "    <tr>\n",
       "        <th>app</th>\n",
       "        <th>count</th>\n",
       "    </tr>\n",
       "    <tr>\n",
       "        <td>&quot;${baseDir}/itkach.aard2/0.43/apk/itkach.aard2_43.apk&quot;</td>\n",
       "        <td>119</td>\n",
       "    </tr>\n",
       "    <tr>\n",
       "        <td>&quot;${baseDir}/com.serwylo.lexica/0.12.0/apk/com.serwylo.lexica_1200.apk&quot;</td>\n",
       "        <td>77</td>\n",
       "    </tr>\n",
       "</table>"
      ],
      "text/plain": [
       "[('\"${baseDir}/itkach.aard2/0.43/apk/itkach.aard2_43.apk\"', 119),\n",
       " ('\"${baseDir}/com.serwylo.lexica/0.12.0/apk/com.serwylo.lexica_1200.apk\"', 77)]"
      ]
     },
     "execution_count": 49,
     "metadata": {},
     "output_type": "execute_result"
    }
   ],
   "source": [
    "%%sql\n",
    "select cast(config::json->'apkPath' as text) as app,count(*) as count from jobs group by app order by count desc;"
   ]
  },
  {
   "cell_type": "code",
   "execution_count": 142,
   "metadata": {},
   "outputs": [
    {
     "name": "stdout",
     "output_type": "stream",
     "text": [
      " * postgresql://postgres@localhost:3333/postgres\n",
      "1 rows affected.\n"
     ]
    },
    {
     "data": {
      "text/html": [
       "<table>\n",
       "    <tr>\n",
       "        <th>count</th>\n",
       "        <th>status</th>\n",
       "    </tr>\n",
       "    <tr>\n",
       "        <td>196</td>\n",
       "        <td>new</td>\n",
       "    </tr>\n",
       "</table>"
      ],
      "text/plain": [
       "[(196, 'new')]"
      ]
     },
     "execution_count": 142,
     "metadata": {},
     "output_type": "execute_result"
    }
   ],
   "source": [
    "%%sql\n",
    "select count(*),status from jobs group by status;"
   ]
  },
  {
   "cell_type": "code",
   "execution_count": 8,
   "metadata": {},
   "outputs": [
    {
     "name": "stdout",
     "output_type": "stream",
     "text": [
      " * postgresql://postgres@localhost:3333/postgres\n",
      "1 rows affected.\n"
     ]
    },
    {
     "data": {
      "text/html": [
       "<table>\n",
       "    <tr>\n",
       "        <th>count</th>\n",
       "    </tr>\n",
       "    <tr>\n",
       "        <td>0</td>\n",
       "    </tr>\n",
       "</table>"
      ],
      "text/plain": [
       "[(0,)]"
      ]
     },
     "execution_count": 8,
     "metadata": {},
     "output_type": "execute_result"
    }
   ],
   "source": [
    "%%sql\n",
    "select count(*) from jobs where status like '%Exception%';"
   ]
  },
  {
   "cell_type": "code",
   "execution_count": 6,
   "metadata": {},
   "outputs": [
    {
     "name": "stdout",
     "output_type": "stream",
     "text": [
      " * postgresql://postgres@localhost:3333/postgres\n",
      "1 rows affected.\n"
     ]
    },
    {
     "data": {
      "text/html": [
       "<table>\n",
       "    <tr>\n",
       "        <th>count</th>\n",
       "    </tr>\n",
       "    <tr>\n",
       "        <td>1</td>\n",
       "    </tr>\n",
       "</table>"
      ],
      "text/plain": [
       "[(1,)]"
      ]
     },
     "execution_count": 6,
     "metadata": {},
     "output_type": "execute_result"
    }
   ],
   "source": [
    "%%sql\n",
    "select count(*) from jobs where status = 'acquired';"
   ]
  },
  {
   "cell_type": "code",
   "execution_count": 216,
   "metadata": {},
   "outputs": [
    {
     "name": "stdout",
     "output_type": "stream",
     "text": [
      " * postgresql://postgres@localhost:3333/postgres\n",
      "9 rows affected.\n"
     ]
    },
    {
     "data": {
      "text/html": [
       "<table>\n",
       "    <tr>\n",
       "        <th>summary</th>\n",
       "        <th>ch</th>\n",
       "        <th>count</th>\n",
       "    </tr>\n",
       "    <tr>\n",
       "        <td>&quot;\\&quot;Itimeout\\&quot;&quot;</td>\n",
       "        <td>&quot;\\&quot;SingleMethod\\&quot;&quot;</td>\n",
       "        <td>27</td>\n",
       "    </tr>\n",
       "    <tr>\n",
       "        <td>&quot;\\&quot;Proven\\&quot;&quot;</td>\n",
       "        <td>&quot;\\&quot;MultiCallback\\&quot;&quot;</td>\n",
       "        <td>13</td>\n",
       "    </tr>\n",
       "    <tr>\n",
       "        <td>&quot;\\&quot;Itimeout\\&quot;&quot;</td>\n",
       "        <td>&quot;\\&quot;SingleCallbackMultiMethod\\&quot;&quot;</td>\n",
       "        <td>30</td>\n",
       "    </tr>\n",
       "    <tr>\n",
       "        <td>&quot;\\&quot;Itimeout\\&quot;&quot;</td>\n",
       "        <td>&quot;\\&quot;MultiCallback\\&quot;&quot;</td>\n",
       "        <td>29</td>\n",
       "    </tr>\n",
       "    <tr>\n",
       "        <td>&quot;\\&quot;Witnessed\\&quot;&quot;</td>\n",
       "        <td>&quot;\\&quot;MultiCallback\\&quot;&quot;</td>\n",
       "        <td>32</td>\n",
       "    </tr>\n",
       "    <tr>\n",
       "        <td>&quot;\\&quot;Iclass java.util.NoSuchElementException\\&quot;&quot;</td>\n",
       "        <td>&quot;\\&quot;SingleMethod\\&quot;&quot;</td>\n",
       "        <td>6</td>\n",
       "    </tr>\n",
       "    <tr>\n",
       "        <td>&quot;\\&quot;Proven\\&quot;&quot;</td>\n",
       "        <td>&quot;\\&quot;SingleCallbackMultiMethod\\&quot;&quot;</td>\n",
       "        <td>34</td>\n",
       "    </tr>\n",
       "    <tr>\n",
       "        <td>&quot;\\&quot;Unreachable\\&quot;&quot;</td>\n",
       "        <td>&quot;\\&quot;SingleMethod\\&quot;&quot;</td>\n",
       "        <td>221</td>\n",
       "    </tr>\n",
       "    <tr>\n",
       "        <td>&quot;\\&quot;Proven\\&quot;&quot;</td>\n",
       "        <td>&quot;\\&quot;SingleMethod\\&quot;&quot;</td>\n",
       "        <td>733</td>\n",
       "    </tr>\n",
       "</table>"
      ],
      "text/plain": [
       "[('\"\\\\\"Itimeout\\\\\"\"', '\"\\\\\"SingleMethod\\\\\"\"', 27),\n",
       " ('\"\\\\\"Proven\\\\\"\"', '\"\\\\\"MultiCallback\\\\\"\"', 13),\n",
       " ('\"\\\\\"Itimeout\\\\\"\"', '\"\\\\\"SingleCallbackMultiMethod\\\\\"\"', 30),\n",
       " ('\"\\\\\"Itimeout\\\\\"\"', '\"\\\\\"MultiCallback\\\\\"\"', 29),\n",
       " ('\"\\\\\"Witnessed\\\\\"\"', '\"\\\\\"MultiCallback\\\\\"\"', 32),\n",
       " ('\"\\\\\"Iclass java.util.NoSuchElementException\\\\\"\"', '\"\\\\\"SingleMethod\\\\\"\"', 6),\n",
       " ('\"\\\\\"Proven\\\\\"\"', '\"\\\\\"SingleCallbackMultiMethod\\\\\"\"', 34),\n",
       " ('\"\\\\\"Unreachable\\\\\"\"', '\"\\\\\"SingleMethod\\\\\"\"', 221),\n",
       " ('\"\\\\\"Proven\\\\\"\"', '\"\\\\\"SingleMethod\\\\\"\"', 733)]"
      ]
     },
     "execution_count": 216,
     "metadata": {},
     "output_type": "execute_result"
    }
   ],
   "source": [
    "%%sql \n",
    "select cast(result::json->'summary' as varchar) as summary, \n",
    "    cast(result::json->'maxPathCh' as varchar) as ch,count(*) from results group by summary,ch;"
   ]
  },
  {
   "cell_type": "markdown",
   "metadata": {},
   "source": [
    "TODO:\n",
    "- use some other tool to get rid of simple deref like hopper\n",
    "\n",
    "- [ ] break down proven number more and remove trivial things e.g.\n",
    "void myMethod(v){\n",
    "   v.foo(); // alarm\n",
    "   v.bar(); // no alarm\n",
    " \n",
    "- [ ] motivate why type based techniques aren't enough"
   ]
  },
  {
   "cell_type": "markdown",
   "metadata": {},
   "source": [
    "Triage witness results\n",
    "----------------------"
   ]
  },
  {
   "cell_type": "code",
   "execution_count": 206,
   "metadata": {},
   "outputs": [
    {
     "name": "stdout",
     "output_type": "stream",
     "text": [
      " * postgresql://postgres@localhost:3333/postgres\n",
      "10 rows affected.\n"
     ]
    },
    {
     "data": {
      "text/html": [
       "<table>\n",
       "    <tr>\n",
       "        <th>id</th>\n",
       "        <th>jobid</th>\n",
       "        <th>resultdata</th>\n",
       "        <th>clazz</th>\n",
       "        <th>?column?</th>\n",
       "    </tr>\n",
       "    <tr>\n",
       "        <td>40</td>\n",
       "        <td>73</td>\n",
       "        <td>228</td>\n",
       "        <td>itkach.aard2.FileSelectListAdapter$1</td>\n",
       "        <td>[&quot;itkach.aard2.FileSelectListAdapter$1&quot;,&quot;java.io.File&quot;]</td>\n",
       "    </tr>\n",
       "    <tr>\n",
       "        <td>133</td>\n",
       "        <td>53</td>\n",
       "        <td>244</td>\n",
       "        <td>itkach.aard2.FileSelectListAdapter$2</td>\n",
       "        <td>[&quot;itkach.aard2.FileSelectListAdapter$2&quot;,&quot;java.io.File&quot;,&quot;java.io.File&quot;]</td>\n",
       "    </tr>\n",
       "    <tr>\n",
       "        <td>163</td>\n",
       "        <td>177</td>\n",
       "        <td>248</td>\n",
       "        <td>com.serwylo.lexica.Lexica</td>\n",
       "        <td>[&quot;com.serwylo.lexica.Lexica&quot;]</td>\n",
       "    </tr>\n",
       "    <tr>\n",
       "        <td>78</td>\n",
       "        <td>83</td>\n",
       "        <td>232</td>\n",
       "        <td>itkach.aard2.DictionaryListAdapter$3</td>\n",
       "        <td>[&quot;itkach.aard2.DictionaryListAdapter$3&quot;,&quot;android.view.View&quot;]</td>\n",
       "    </tr>\n",
       "    <tr>\n",
       "        <td>168</td>\n",
       "        <td>177</td>\n",
       "        <td>248</td>\n",
       "        <td>com.serwylo.lexica.Lexica</td>\n",
       "        <td>[&quot;com.serwylo.lexica.Lexica&quot;,&quot;int&quot;]</td>\n",
       "    </tr>\n",
       "    <tr>\n",
       "        <td>174</td>\n",
       "        <td>177</td>\n",
       "        <td>248</td>\n",
       "        <td>com.serwylo.lexica.Lexica</td>\n",
       "        <td>[&quot;com.serwylo.lexica.Lexica&quot;]</td>\n",
       "    </tr>\n",
       "    <tr>\n",
       "        <td>139</td>\n",
       "        <td>53</td>\n",
       "        <td>244</td>\n",
       "        <td>itkach.aard2.FileSelectListAdapter$2</td>\n",
       "        <td>[&quot;itkach.aard2.FileSelectListAdapter$2&quot;,&quot;java.io.File&quot;,&quot;java.io.File&quot;]</td>\n",
       "    </tr>\n",
       "    <tr>\n",
       "        <td>155</td>\n",
       "        <td>177</td>\n",
       "        <td>248</td>\n",
       "        <td>com.serwylo.lexica.Lexica</td>\n",
       "        <td>[&quot;com.serwylo.lexica.Lexica&quot;]</td>\n",
       "    </tr>\n",
       "    <tr>\n",
       "        <td>149</td>\n",
       "        <td>177</td>\n",
       "        <td>248</td>\n",
       "        <td>com.serwylo.lexica.Lexica</td>\n",
       "        <td>[&quot;com.serwylo.lexica.Lexica&quot;]</td>\n",
       "    </tr>\n",
       "    <tr>\n",
       "        <td>91</td>\n",
       "        <td>83</td>\n",
       "        <td>232</td>\n",
       "        <td>itkach.aard2.DictionaryListAdapter$3</td>\n",
       "        <td>[&quot;itkach.aard2.DictionaryListAdapter$3&quot;,&quot;android.view.View&quot;]</td>\n",
       "    </tr>\n",
       "</table>"
      ],
      "text/plain": [
       "[(40, 73, 228, 'itkach.aard2.FileSelectListAdapter$1', '[\"itkach.aard2.FileSelectListAdapter$1\",\"java.io.File\"]'),\n",
       " (133, 53, 244, 'itkach.aard2.FileSelectListAdapter$2', '[\"itkach.aard2.FileSelectListAdapter$2\",\"java.io.File\",\"java.io.File\"]'),\n",
       " (163, 177, 248, 'com.serwylo.lexica.Lexica', '[\"com.serwylo.lexica.Lexica\"]'),\n",
       " (78, 83, 232, 'itkach.aard2.DictionaryListAdapter$3', '[\"itkach.aard2.DictionaryListAdapter$3\",\"android.view.View\"]'),\n",
       " (168, 177, 248, 'com.serwylo.lexica.Lexica', '[\"com.serwylo.lexica.Lexica\",\"int\"]'),\n",
       " (174, 177, 248, 'com.serwylo.lexica.Lexica', '[\"com.serwylo.lexica.Lexica\"]'),\n",
       " (139, 53, 244, 'itkach.aard2.FileSelectListAdapter$2', '[\"itkach.aard2.FileSelectListAdapter$2\",\"java.io.File\",\"java.io.File\"]'),\n",
       " (155, 177, 248, 'com.serwylo.lexica.Lexica', '[\"com.serwylo.lexica.Lexica\"]'),\n",
       " (149, 177, 248, 'com.serwylo.lexica.Lexica', '[\"com.serwylo.lexica.Lexica\"]'),\n",
       " (91, 83, 232, 'itkach.aard2.DictionaryListAdapter$3', '[\"itkach.aard2.DictionaryListAdapter$3\",\"android.view.View\"]')]"
      ]
     },
     "execution_count": 206,
     "metadata": {},
     "output_type": "execute_result"
    }
   ],
   "source": [
    "%%sql \n",
    "select id,jobid,resultdata,loc::json->'method'->>1 as clazz,loc::json->'method'->>2 from results \n",
    "                where cast(result::json->'summary' as varchar) like '%Witnessed%' order by random() limit 10;"
   ]
  },
  {
   "cell_type": "raw",
   "metadata": {},
   "source": [
    "\n",
    "id\tjobid\tresultdata\tclazz\n",
    "40\t73      228\t        itkach.aard2.FileSelectListAdapter$1\n",
    "133\t53\t    244\t        itkach.aard2.FileSelectListAdapter$2\n",
    "163\t177\t    248\t        com.serwylo.lexica.Lexica\n",
    "78\t83\t    232\t        itkach.aard2.DictionaryListAdapter$3\n",
    "168\t177\t    248\t        com.serwylo.lexica.Lexica\n",
    "174\t177\t    248\t        com.serwylo.lexica.Lexica\n",
    "139\t53\t    244\t        itkach.aard2.FileSelectListAdapter$2\n",
    "155\t177\t    248\t        com.serwylo.lexica.Lexica\n",
    "149\t177\t    248\t        com.serwylo.lexica.Lexica\n",
    "91\t83\t    232\t        itkach.aard2.DictionaryListAdapter$3\n"
   ]
  },
  {
   "cell_type": "code",
   "execution_count": 215,
   "metadata": {},
   "outputs": [
    {
     "name": "stdout",
     "output_type": "stream",
     "text": [
      " * postgresql://postgres@localhost:3333/postgres\n",
      "1 rows affected.\n"
     ]
    },
    {
     "data": {
      "text/html": [
       "<table>\n",
       "    <tr>\n",
       "        <th>id</th>\n",
       "        <th>jobid</th>\n",
       "        <th>resultdata</th>\n",
       "        <th>clazz</th>\n",
       "        <th>replace</th>\n",
       "    </tr>\n",
       "    <tr>\n",
       "        <td>40</td>\n",
       "        <td>73</td>\n",
       "        <td>228</td>\n",
       "        <td>itkach.aard2.FileSelectListAdapter$1</td>\n",
       "        <td>&quot;line: 34 \\$z0 = virtualinvoke \\$r1.&lt;java.io.File: boolean isDirectory()&gt;()&quot;</td>\n",
       "    </tr>\n",
       "</table>"
      ],
      "text/plain": [
       "[(40, 73, 228, 'itkach.aard2.FileSelectListAdapter$1', '\"line: 34 \\\\$z0 = virtualinvoke \\\\$r1.<java.io.File: boolean isDirectory()>()\"')]"
      ]
     },
     "execution_count": 215,
     "metadata": {},
     "output_type": "execute_result"
    }
   ],
   "source": [
    "%%sql \n",
    "select id,jobid,resultdata,loc::json->'method'->>1 as clazz, \n",
    "        replace(cast(loc::json->'line'->'str' as varchar),'$','\\$') from results where id = 40;"
   ]
  },
  {
   "cell_type": "markdown",
   "metadata": {},
   "source": [
    "Triage unreachable results\n",
    "--------------------------"
   ]
  },
  {
   "cell_type": "code",
   "execution_count": null,
   "metadata": {},
   "outputs": [],
   "source": [
    "%%sql \n",
    "select id,jobid,resultdata,loc::json->'method'->>1 as clazz \n",
    "            from results where cast(result::json->'summary' as varchar) like '%Unreachable%' \n",
    "            order by random() limit 5;"
   ]
  },
  {
   "cell_type": "markdown",
   "metadata": {},
   "source": [
    "TODO\n"
   ]
  },
  {
   "cell_type": "code",
   "execution_count": null,
   "metadata": {},
   "outputs": [],
   "source": [
    "%%sql\n",
    "select id,jobid,resultdata,loc::json->'method'->>1 as clazz, \n",
    "        replace(cast(loc::json->'method'->>0 as varchar),'$','\\$') as mname, \n",
    "        replace(cast(loc::json->'line' as varchar),'$','\\$') as location \n",
    "        from results where id = 15037;"
   ]
  },
  {
   "cell_type": "raw",
   "metadata": {},
   "source": [
    "\n",
    "id      jobid\tresultdata\tclazz\n",
    "15037\t243  \t761     \titkach.aard2.ArticleWebView$4\n",
    "\n",
    "12610\t90  \t676     \torg.tukaani.xz.lzma.LZMAEncoderNormal\n",
    "12479\t368  \t674\t        com.serwylo.lexica.trie.util.LetterFrequency\n",
    "8881\t308 \t436     \tnet.healeys.trie.StringTrie$Node\n",
    "11298\t208 \t573     \torg.tukaani.xz.index.IndexBase\n",
    "\n"
   ]
  },
  {
   "cell_type": "code",
   "execution_count": null,
   "metadata": {},
   "outputs": [],
   "source": [
    "%%sql\n",
    "select id,result,replace(cast(loc::json->'line' as varchar),'$','\\$') as location \n",
    "    from results where loc like '%244 $r3%';"
   ]
  },
  {
   "cell_type": "code",
   "execution_count": null,
   "metadata": {},
   "outputs": [],
   "source": [
    "%%sql\n",
    "select replace(cast(loc as varchar),'$','\\$') from results where id = 1494;"
   ]
  },
  {
   "cell_type": "markdown",
   "metadata": {},
   "source": [
    "Runtime Stats\n",
    "============="
   ]
  },
  {
   "cell_type": "code",
   "execution_count": 229,
   "metadata": {},
   "outputs": [
    {
     "name": "stdout",
     "output_type": "stream",
     "text": [
      " * postgresql://postgres@localhost:3333/postgres\n",
      "1319 rows affected.\n"
     ]
    },
    {
     "data": {
      "image/png": "[encoded data removed]",
      "text/plain": [
       "<Figure size 432x288 with 1 Axes>"
      ]
     },
     "metadata": {},
     "output_type": "display_data"
    }
   ],
   "source": [
    "queryTime = %sql select querytime from results;\n",
    "tplt = queryTime.DataFrame().plot.hist(bins=32)\n",
    "tplt.set_yscale('log')"
   ]
  },
  {
   "cell_type": "code",
   "execution_count": 228,
   "metadata": {},
   "outputs": [
    {
     "name": "stdout",
     "output_type": "stream",
     "text": [
      " * postgresql://postgres@localhost:3333/postgres\n",
      "88 rows affected.\n"
     ]
    },
    {
     "data": {
      "text/plain": [
       "Text(0.5, 0, 'time (min)')"
      ]
     },
     "execution_count": 228,
     "metadata": {},
     "output_type": "execute_result"
    },
    {
     "data": {
      "image/png": "[encoded data removed]",
      "text/plain": [
       "<Figure size 432x288 with 1 Axes>"
      ]
     },
     "metadata": {},
     "output_type": "display_data"
    }
   ],
   "source": [
    "# Job runtimes\n",
    "runtimes = %sql select ended - started as time from jobs where ended is not NULL;\n",
    "runtimesDF = runtimes.DataFrame()\n",
    "runtimesDF['time'] = runtimesDF['time'].apply(lambda x: x.total_seconds() / (60))\n",
    "tplt = runtimesDF.plot.hist(bins=32)\n",
    "tplt.set_yscale('log')\n",
    "tplt.set_xlabel('time (min)')"
   ]
  },
  {
   "cell_type": "code",
   "execution_count": 227,
   "metadata": {},
   "outputs": [
    {
     "name": "stdout",
     "output_type": "stream",
     "text": [
      " * postgresql://postgres@localhost:3333/postgres\n",
      "88 rows affected.\n"
     ]
    },
    {
     "data": {
      "image/png": "[encoded data removed]",
      "text/plain": [
       "<Figure size 432x288 with 1 Axes>"
      ]
     },
     "metadata": {},
     "output_type": "display_data"
    }
   ],
   "source": [
    "rtvt = %sql select started, ended - started as time from jobs where ended is not NULL;\n",
    "rtvtDF = rtvt.DataFrame()\n",
    "rtvtDF.sort_values('started', ascending=True)\n",
    "fig, ax = plt.subplots()\n",
    "ax.plot_date(rtvtDF['started'], rtvtDF['time'], marker='*', linestyle='')\n",
    "\n",
    "fig.autofmt_xdate()\n",
    "plt.show()\n"
   ]
  },
  {
   "cell_type": "markdown",
   "metadata": {},
   "source": [
    "Total job time"
   ]
  },
  {
   "cell_type": "code",
   "execution_count": 16,
   "metadata": {},
   "outputs": [
    {
     "name": "stdout",
     "output_type": "stream",
     "text": [
      " * postgresql://postgres@localhost:3333/postgres\n",
      "1 rows affected.\n"
     ]
    },
    {
     "data": {
      "text/html": [
       "<table>\n",
       "    <tr>\n",
       "        <th>sum</th>\n",
       "    </tr>\n",
       "    <tr>\n",
       "        <td>0:01:13.608000</td>\n",
       "    </tr>\n",
       "</table>"
      ],
      "text/plain": [
       "[(datetime.timedelta(0, 73, 608000),)]"
      ]
     },
     "execution_count": 16,
     "metadata": {},
     "output_type": "execute_result"
    }
   ],
   "source": [
    "%%sql\n",
    "select sum(ended-started) from jobs where ended is not NULL;"
   ]
  },
  {
   "cell_type": "code",
   "execution_count": 17,
   "metadata": {},
   "outputs": [
    {
     "name": "stdout",
     "output_type": "stream",
     "text": [
      " * postgresql://postgres@localhost:3333/postgres\n",
      "1 rows affected.\n"
     ]
    },
    {
     "data": {
      "text/html": [
       "<table>\n",
       "    <tr>\n",
       "        <th>sum</th>\n",
       "    </tr>\n",
       "    <tr>\n",
       "        <td>13</td>\n",
       "    </tr>\n",
       "</table>"
      ],
      "text/plain": [
       "[(13,)]"
      ]
     },
     "execution_count": 17,
     "metadata": {},
     "output_type": "execute_result"
    }
   ],
   "source": [
    "%%sql\n",
    "select sum(querytime) from results;"
   ]
  },
  {
   "cell_type": "code",
   "execution_count": 226,
   "metadata": {},
   "outputs": [
    {
     "name": "stdout",
     "output_type": "stream",
     "text": [
      " * postgresql://postgres@localhost:3333/postgres\n",
      "1 rows affected.\n"
     ]
    },
    {
     "data": {
      "text/html": [
       "<table>\n",
       "    <tr>\n",
       "        <th>?column?</th>\n",
       "    </tr>\n",
       "    <tr>\n",
       "        <td>5:11:46.525216</td>\n",
       "    </tr>\n",
       "</table>"
      ],
      "text/plain": [
       "[(datetime.timedelta(0, 18706, 525216),)]"
      ]
     },
     "execution_count": 226,
     "metadata": {},
     "output_type": "execute_result"
    }
   ],
   "source": [
    "%%sql\n",
    "select now() - min(started) from jobs;"
   ]
  },
  {
   "cell_type": "markdown",
   "metadata": {},
   "source": [
    "Size of postgres data\n",
    "====================="
   ]
  },
  {
   "cell_type": "code",
   "execution_count": 193,
   "metadata": {},
   "outputs": [
    {
     "name": "stdout",
     "output_type": "stream",
     "text": [
      " * postgresql://postgres@localhost:3333/postgres\n",
      "5 rows affected.\n"
     ]
    },
    {
     "data": {
      "text/html": [
       "<table>\n",
       "    <tr>\n",
       "        <th>table_schema</th>\n",
       "        <th>table_name</th>\n",
       "        <th>row_estimate</th>\n",
       "        <th>total</th>\n",
       "        <th>index</th>\n",
       "        <th>toast</th>\n",
       "        <th>table</th>\n",
       "    </tr>\n",
       "    <tr>\n",
       "        <td>public</td>\n",
       "        <td>apks</td>\n",
       "        <td>0.0</td>\n",
       "        <td>64 MB</td>\n",
       "        <td>0 bytes</td>\n",
       "        <td>64 MB</td>\n",
       "        <td>8192 bytes</td>\n",
       "    </tr>\n",
       "    <tr>\n",
       "        <td>public</td>\n",
       "        <td>resultdata</td>\n",
       "        <td>4.0</td>\n",
       "        <td>1128 kB</td>\n",
       "        <td>16 kB</td>\n",
       "        <td>1056 kB</td>\n",
       "        <td>56 kB</td>\n",
       "    </tr>\n",
       "    <tr>\n",
       "        <td>pg_catalog</td>\n",
       "        <td>pg_depend</td>\n",
       "        <td>7725.0</td>\n",
       "        <td>1120 kB</td>\n",
       "        <td>624 kB</td>\n",
       "        <td>None</td>\n",
       "        <td>496 kB</td>\n",
       "    </tr>\n",
       "    <tr>\n",
       "        <td>pg_catalog</td>\n",
       "        <td>pg_proc</td>\n",
       "        <td>3034.0</td>\n",
       "        <td>1024 kB</td>\n",
       "        <td>336 kB</td>\n",
       "        <td>8192 bytes</td>\n",
       "        <td>680 kB</td>\n",
       "    </tr>\n",
       "    <tr>\n",
       "        <td>pg_catalog</td>\n",
       "        <td>pg_attribute</td>\n",
       "        <td>2861.0</td>\n",
       "        <td>688 kB</td>\n",
       "        <td>216 kB</td>\n",
       "        <td>None</td>\n",
       "        <td>472 kB</td>\n",
       "    </tr>\n",
       "</table>"
      ],
      "text/plain": [
       "[('public', 'apks', 0.0, '64 MB', '0 bytes', '64 MB', '8192 bytes'),\n",
       " ('public', 'resultdata', 4.0, '1128 kB', '16 kB', '1056 kB', '56 kB'),\n",
       " ('pg_catalog', 'pg_depend', 7725.0, '1120 kB', '624 kB', None, '496 kB'),\n",
       " ('pg_catalog', 'pg_proc', 3034.0, '1024 kB', '336 kB', '8192 bytes', '680 kB'),\n",
       " ('pg_catalog', 'pg_attribute', 2861.0, '688 kB', '216 kB', None, '472 kB')]"
      ]
     },
     "execution_count": 193,
     "metadata": {},
     "output_type": "execute_result"
    }
   ],
   "source": [
    "%%sql\n",
    "WITH RECURSIVE pg_inherit(inhrelid, inhparent) AS\n",
    "    (select inhrelid, inhparent\n",
    "    FROM pg_inherits\n",
    "    UNION\n",
    "    SELECT child.inhrelid, parent.inhparent\n",
    "    FROM pg_inherit child, pg_inherits parent\n",
    "    WHERE child.inhparent = parent.inhrelid),\n",
    "pg_inherit_short AS (SELECT * FROM pg_inherit WHERE inhparent NOT IN (SELECT inhrelid FROM pg_inherit))\n",
    "SELECT table_schema\n",
    "    , TABLE_NAME\n",
    "    , row_estimate\n",
    "    , pg_size_pretty(total_bytes) AS total\n",
    "    , pg_size_pretty(index_bytes) AS INDEX\n",
    "    , pg_size_pretty(toast_bytes) AS toast\n",
    "    , pg_size_pretty(table_bytes) AS TABLE\n",
    "  FROM (\n",
    "    SELECT *, total_bytes-index_bytes-COALESCE(toast_bytes,0) AS table_bytes\n",
    "    FROM (\n",
    "         SELECT c.oid\n",
    "              , nspname AS table_schema\n",
    "              , relname AS TABLE_NAME\n",
    "              , SUM(c.reltuples) OVER (partition BY parent) AS row_estimate\n",
    "              , SUM(pg_total_relation_size(c.oid)) OVER (partition BY parent) AS total_bytes\n",
    "              , SUM(pg_indexes_size(c.oid)) OVER (partition BY parent) AS index_bytes\n",
    "              , SUM(pg_total_relation_size(reltoastrelid)) OVER (partition BY parent) AS toast_bytes\n",
    "              , parent\n",
    "          FROM (\n",
    "                SELECT pg_class.oid\n",
    "                    , reltuples\n",
    "                    , relname\n",
    "                    , relnamespace\n",
    "                    , pg_class.reltoastrelid\n",
    "                    , COALESCE(inhparent, pg_class.oid) parent\n",
    "                FROM pg_class\n",
    "                    LEFT JOIN pg_inherit_short ON inhrelid = oid\n",
    "                WHERE relkind IN ('r', 'p')\n",
    "             ) c\n",
    "             LEFT JOIN pg_namespace n ON n.oid = c.relnamespace\n",
    "  ) a\n",
    "  WHERE oid = parent\n",
    ") a\n",
    "ORDER BY total_bytes DESC limit 5;"
   ]
  },
  {
   "cell_type": "markdown",
   "metadata": {},
   "source": [
    "Inspection of exceptions\n",
    "========================"
   ]
  },
  {
   "cell_type": "code",
   "execution_count": null,
   "metadata": {
    "tags": []
   },
   "outputs": [],
   "source": [
    "%%sql\n",
    "select id,replace(stderr,'$','\\$') from jobs where stderr like '%Exception%' and stderr \n",
    "    not like '%no active body%' order by random() limit 3;"
   ]
  },
  {
   "cell_type": "code",
   "execution_count": null,
   "metadata": {},
   "outputs": [],
   "source": [
    "#count of total results\n",
    "%sql select count(*) as Total_locations_computed from results"
   ]
  },
  {
   "cell_type": "code",
   "execution_count": null,
   "metadata": {},
   "outputs": [],
   "source": []
  },
  {
   "cell_type": "markdown",
   "metadata": {},
   "source": [
    "- focus on writing specification for existing witnesses \n",
    "\n",
    "z3 encoding notes\n",
    "\n",
    "- indexes as integers may be slowing things down\n",
    "   - paper 2016 padon - paxos made epr\n",
    "   - exists relation < transitive \n",
    "   - forall i,j,k . j<k & ...\n",
    "   - uninterpreted sort t0 forall i,j . j<i \\/ i<j\n",
    "- write down sat/unsat properly  section 4\n",
    "   - use algebraic reasoning to say when we dont need to call z3\n",
    "                                                   \n",
    "\n",
    "SAT(O,S,\\rho,P) \n",
    "                                                   \n",
    " - O - trace suffix with symbolic variables\n",
    " - S - set of specifications, framework model"
   ]
  },
  {
   "cell_type": "markdown",
   "metadata": {},
   "source": [
    "- [ ] can we partition locations into places that are \"reasonably sound\"\n",
    "- [ ] easier story to say \"we did every dereference site\" for 6 apps\n",
    "- [ ] witnessed is a terrible name, should be \"alarm\""
   ]
  }
 ],
 "metadata": {
  "kernelspec": {
   "display_name": "Python 3",
   "language": "python",
   "name": "python3"
  },
  "language_info": {
   "codemirror_mode": {
    "name": "ipython",
    "version": 3
   },
   "file_extension": ".py",
   "mimetype": "text/x-python",
   "name": "python",
   "nbconvert_exporter": "python",
   "pygments_lexer": "ipython3",
   "version": "3.6.5"
  }
 },
 "nbformat": 4,
 "nbformat_minor": 4
}
