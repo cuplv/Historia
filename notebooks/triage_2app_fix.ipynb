{
 "cells": [
  {
   "cell_type": "code",
   "execution_count": 1,
   "metadata": {},
   "outputs": [
    {
     "name": "stderr",
     "output_type": "stream",
     "text": [
      "/Users/shawnmeier/.pyenv/versions/3.6.5/lib/python3.6/site-packages/pandas/compat/__init__.py:117: UserWarning: Could not import the lzma module. Your installed Python is incomplete. Attempting to use lzma compression will result in a RuntimeError.\n",
      "  warnings.warn(msg)\n"
     ]
    }
   ],
   "source": [
    "import pandas as pd\n",
    "import pylab\n",
    "import json\n",
    "%matplotlib inline\n",
    "import matplotlib.pyplot as plt\n",
    "plt.style.use('seaborn-whitegrid')\n",
    "import numpy as np\n",
    "from IPython.core import display\n",
    "import psycopg2\n",
    "import os\n",
    "homedir = os.getenv(\"HOME\")\n",
    "with open(homedir + \"/.pgpass\",'r') as pgfile:\n",
    "    pgdat = pgfile.read().strip().split(\":\")\n",
    "    pgurl = pgdat[0]\n",
    "    pgport = pgdat[1]\n",
    "    pgdb = pgdat[2]\n",
    "    pguser = pgdat[3]\n",
    "    pgpass = pgdat[4]\n",
    "\n",
    "%load_ext sql\n",
    "from sqlalchemy import create_engine\n",
    "# sql info: https://github.com/catherinedevlin/ipython-sql\n",
    "#uncomment for remote\n",
    "pgport=3333\n",
    "#pgport=5433\n",
    "engine = create_engine('postgresql://postgres@localhost:%i/postgres' % pgport)\n",
    "db = psycopg2.connect(host=pgurl, database=pgdb, user=pguser,password=pgpass,port=pgport)"
   ]
  },
  {
   "cell_type": "code",
   "execution_count": 98,
   "metadata": {},
   "outputs": [],
   "source": [
    "def qry(q):\n",
    "  return pd.read_sql_query(con = db, sql = q)\n",
    "# pd.set_option(\"max_colwidth\", None)\n",
    "# pd.set_option('display.max_columns', None)\n",
    "pd.set_option(\"display.latex.repr\", False)\n",
    "pd.set_option(\"display.latex.escape\", True)\n",
    "\n",
    "def iDisplay(v):\n",
    "    with pd.option_context('display.max_rows', None, 'display.max_columns', None, \"max_colwidth\", None):\n",
    "        display.display(v)\n"
   ]
  },
  {
   "cell_type": "code",
   "execution_count": 99,
   "metadata": {},
   "outputs": [
    {
     "name": "stdout",
     "output_type": "stream",
     "text": [
      "1 rows affected.\n"
     ]
    },
    {
     "data": {
      "text/html": [
       "<table>\n",
       "    <tr>\n",
       "        <th>count</th>\n",
       "    </tr>\n",
       "    <tr>\n",
       "        <td>2</td>\n",
       "    </tr>\n",
       "</table>"
      ],
      "text/plain": [
       "[(2,)]"
      ]
     },
     "execution_count": 99,
     "metadata": {},
     "output_type": "execute_result"
    }
   ],
   "source": [
    "%%sql postgresql://postgres@localhost:$pgport/postgres\n",
    "select count(*) from apks where apkname not like 'jar_%' and apkname not like 'spec_%';"
   ]
  },
  {
   "cell_type": "code",
   "execution_count": 140,
   "metadata": {},
   "outputs": [
    {
     "name": "stdout",
     "output_type": "stream",
     "text": [
      " * postgresql://postgres@localhost:3333/postgres\n",
      "(psycopg2.OperationalError) could not connect to server: Connection refused\n",
      "\tIs the server running on host \"localhost\" (::1) and accepting\n",
      "\tTCP/IP connections on port 3333?\n",
      "could not connect to server: Connection refused\n",
      "\tIs the server running on host \"localhost\" (127.0.0.1) and accepting\n",
      "\tTCP/IP connections on port 3333?\n",
      "\n",
      "[SQL: select (select count(*) from jobs where status = 'completed') as Completed_Jobs,\n",
      "    (select count(*) from jobs where status = 'acquired') as Acquired_jobs,\n",
      "    (select count(id) from jobs \n",
      "       where stderr like '%%Exception%%no active body present for method%%') as Body_Exception,\n",
      "    (select count(id) from jobs where stderr like '%%Exception%%') as Exception,\n",
      "    (select count(id) from jobs where stderr like '%%Failed to parse reflective type reference%%') as Refl_exception,\n",
      "    (select count(id) from jobs where status like 'failed%%') as worker_failure,\n",
      "    (select count(id) from jobs where stdout like '%%empty pred location%%') as possible_cg_unsound,\n",
      "    (select count(*) from jobs) as Total_Jobs]\n",
      "[parameters: [{'__name__': '__main__', '__doc__': 'Automatically created module for IPython interactive environment', '__package__': None, '__loader__': None, '__s ... (287995 characters truncated) ... \\n    (select count(id) from jobs where stdout like '%empty pred location%') as possible_cg_unsound,\\n    (select count(*) from jobs) as Total_Jobs\"}]]\n",
      "(Background on this error at: http://sqlalche.me/e/e3q8)\n"
     ]
    }
   ],
   "source": [
    "%%sql\n",
    "select \n",
    "    (select count(*) from jobs where status = 'completed') as Completed_Jobs,\n",
    "    (select count(*) from jobs where status = 'acquired') as Acquired_jobs,\n",
    "    (select count(id) from jobs \n",
    "       where stderr like '%Exception%no active body present for method%') as Body_Exception,\n",
    "    (select count(id) from jobs where stderr like '%Exception%') as Exception,\n",
    "    (select count(id) from jobs where stderr like '%Failed to parse reflective type reference%') as Refl_exception,\n",
    "    (select count(id) from jobs where status like 'failed%') as worker_failure,\n",
    "    (select count(id) from jobs where stdout like '%empty pred location%') as possible_cg_unsound,\n",
    "    (select count(*) from jobs) as Total_Jobs"
   ]
  },
  {
   "cell_type": "markdown",
   "metadata": {},
   "source": [
    "Failing apks"
   ]
  },
  {
   "cell_type": "code",
   "execution_count": 101,
   "metadata": {},
   "outputs": [
    {
     "name": "stdout",
     "output_type": "stream",
     "text": [
      " * postgresql://postgres@localhost:3333/postgres\n",
      "0 rows affected.\n"
     ]
    },
    {
     "data": {
      "text/html": [
       "<table>\n",
       "    <tr>\n",
       "        <th>text</th>\n",
       "    </tr>\n",
       "</table>"
      ],
      "text/plain": [
       "[]"
      ]
     },
     "execution_count": 101,
     "metadata": {},
     "output_type": "execute_result"
    }
   ],
   "source": [
    "%%sql\n",
    "select cast(config::json->'apkPath' as text) from jobs \n",
    "        where stderr like '%Exception' group by cast(config::json->'apkPath' as text) ;"
   ]
  },
  {
   "cell_type": "code",
   "execution_count": 102,
   "metadata": {},
   "outputs": [
    {
     "name": "stdout",
     "output_type": "stream",
     "text": [
      " * postgresql://postgres@localhost:3333/postgres\n",
      "1 rows affected.\n"
     ]
    },
    {
     "data": {
      "text/html": [
       "<table>\n",
       "    <tr>\n",
       "        <th>id</th>\n",
       "    </tr>\n",
       "    <tr>\n",
       "        <td>44</td>\n",
       "    </tr>\n",
       "</table>"
      ],
      "text/plain": [
       "[(44,)]"
      ]
     },
     "execution_count": 102,
     "metadata": {},
     "output_type": "execute_result"
    }
   ],
   "source": [
    "%%sql \n",
    " select id from jobs where status like '%IOException%' limit 1;\n"
   ]
  },
  {
   "cell_type": "code",
   "execution_count": 103,
   "metadata": {},
   "outputs": [
    {
     "name": "stdout",
     "output_type": "stream",
     "text": [
      " * postgresql://postgres@localhost:3333/postgres\n",
      "2 rows affected.\n"
     ]
    },
    {
     "data": {
      "text/html": [
       "<table>\n",
       "    <tr>\n",
       "        <th>app</th>\n",
       "        <th>count</th>\n",
       "    </tr>\n",
       "    <tr>\n",
       "        <td>&quot;${baseDir}/itkach.aard2/0.43/apk/itkach.aard2_43.apk&quot;</td>\n",
       "        <td>293</td>\n",
       "    </tr>\n",
       "    <tr>\n",
       "        <td>&quot;${baseDir}/com.serwylo.lexica/0.12.0/apk/com.serwylo.lexica_1200.apk&quot;</td>\n",
       "        <td>91</td>\n",
       "    </tr>\n",
       "</table>"
      ],
      "text/plain": [
       "[('\"${baseDir}/itkach.aard2/0.43/apk/itkach.aard2_43.apk\"', 293),\n",
       " ('\"${baseDir}/com.serwylo.lexica/0.12.0/apk/com.serwylo.lexica_1200.apk\"', 91)]"
      ]
     },
     "execution_count": 103,
     "metadata": {},
     "output_type": "execute_result"
    }
   ],
   "source": [
    "%%sql\n",
    "select cast(config::json->'apkPath' as text) as app,count(*) as count from jobs group by app order by count desc;"
   ]
  },
  {
   "cell_type": "code",
   "execution_count": 124,
   "metadata": {},
   "outputs": [
    {
     "name": "stdout",
     "output_type": "stream",
     "text": [
      " * postgresql://postgres@localhost:3333/postgres\n",
      "4 rows affected.\n"
     ]
    },
    {
     "data": {
      "text/html": [
       "<table>\n",
       "    <tr>\n",
       "        <th>count</th>\n",
       "        <th>status</th>\n",
       "    </tr>\n",
       "    <tr>\n",
       "        <td>339</td>\n",
       "        <td>completed</td>\n",
       "    </tr>\n",
       "    <tr>\n",
       "        <td>1</td>\n",
       "        <td>failed: org.postgresql.util.PSQLException: Unable to bind parameter values for statement.<br>org.postgresql.util.PSQLException: Unable to bind parameter values for statement.<br>\tat org.postgresql.core.v3.QueryExecutorImpl.execute(QueryExecutorImpl.java:345)<br>\tat org.postgresql.jdbc.PgStatement.executeInternal(PgStatement.java:481)<br>\tat org.postgresql.jdbc.PgStatement.execute(PgStatement.java:401)<br>\tat org.postgresql.jdbc.PgPreparedStatement.executeWithFlags(PgPreparedStatement.java:164)<br>\tat org.postgresql.jdbc.PgPreparedStatement.executeUpdate(PgPreparedStatement.java:130)<br>\tat slick.jdbc.JdbcActionComponent$InsertActionComposerImpl$SingleInsertAction.$anonfun$run$15(JdbcActionComponent.scala:520)<br>\tat slick.jdbc.JdbcBackend$SessionDef.withPreparedInsertStatement(JdbcBackend.scala:432)<br>\tat slick.jdbc.JdbcBackend$SessionDef.withPreparedInsertStatement$(JdbcBackend.scala:429)<br>\tat slick.jdbc.JdbcBackend$BaseSession.withPreparedInsertStatement(JdbcBackend.scala:489)<br>\tat slick.jdbc.JdbcActionComponent$ReturningInsertActionComposerImpl.preparedInsert(JdbcActionComponent.scala:660)<br>\tat slick.jdbc.JdbcActionComponent$InsertActionComposerImpl$SingleInsertAction.run(JdbcActionComponent.scala:517)<br>\tat slick.jdbc.JdbcActionComponent$SimpleJdbcProfileAction.run(JdbcActionComponent.scala:28)<br>\tat slick.jdbc.JdbcActionComponent$SimpleJdbcProfileAction.run(JdbcActionComponent.scala:25)<br>\tat slick.basic.BasicBackend$DatabaseDef$$anon$3.liftedTree1$1(BasicBackend.scala:276)<br>\tat slick.basic.BasicBackend$DatabaseDef$$anon$3.run(BasicBackend.scala:276)<br>\tat java.base/java.util.concurrent.ThreadPoolExecutor.runWorker(ThreadPoolExecutor.java:1128)<br>\tat java.base/java.util.concurrent.ThreadPoolExecutor$Worker.run(ThreadPoolExecutor.java:628)<br>\tat java.base/java.lang.Thread.run(Thread.java:834)<br>Caused by: java.io.IOException: Bind message length 1,810,508,286 too long.  This can be caused by very large or incorrect length specifications on InputStream parameters.<br>\tat org.postgresql.core.v3.QueryExecutorImpl.sendBind(QueryExecutorImpl.java:1631)<br>\tat org.postgresql.core.v3.QueryExecutorImpl.sendOneQuery(QueryExecutorImpl.java:1910)<br>\tat org.postgresql.core.v3.QueryExecutorImpl.sendQuery(QueryExecutorImpl.java:1433)<br>\tat org.postgresql.core.v3.QueryExecutorImpl.execute(QueryExecutorImpl.java:315)<br>\t... 17 more<br></td>\n",
       "    </tr>\n",
       "    <tr>\n",
       "        <td>24</td>\n",
       "        <td>new</td>\n",
       "    </tr>\n",
       "    <tr>\n",
       "        <td>20</td>\n",
       "        <td>acquired</td>\n",
       "    </tr>\n",
       "</table>"
      ],
      "text/plain": [
       "[(339, 'completed'),\n",
       " (1, 'failed: org.postgresql.util.PSQLException: Unable to bind parameter values for statement.\\norg.postgresql.util.PSQLException: Unable to bind paramete ... (2057 characters truncated) ... ecutorImpl.sendQuery(QueryExecutorImpl.java:1433)\\n\\tat org.postgresql.core.v3.QueryExecutorImpl.execute(QueryExecutorImpl.java:315)\\n\\t... 17 more\\n'),\n",
       " (24, 'new'),\n",
       " (20, 'acquired')]"
      ]
     },
     "execution_count": 124,
     "metadata": {},
     "output_type": "execute_result"
    }
   ],
   "source": [
    "%%sql\n",
    "select count(*),status from jobs group by status;"
   ]
  },
  {
   "cell_type": "code",
   "execution_count": 105,
   "metadata": {},
   "outputs": [
    {
     "name": "stdout",
     "output_type": "stream",
     "text": [
      " * postgresql://postgres@localhost:3333/postgres\n",
      "1 rows affected.\n"
     ]
    },
    {
     "data": {
      "text/html": [
       "<table>\n",
       "    <tr>\n",
       "        <th>count</th>\n",
       "    </tr>\n",
       "    <tr>\n",
       "        <td>1</td>\n",
       "    </tr>\n",
       "</table>"
      ],
      "text/plain": [
       "[(1,)]"
      ]
     },
     "execution_count": 105,
     "metadata": {},
     "output_type": "execute_result"
    }
   ],
   "source": [
    "%%sql\n",
    "select count(*) from jobs where status like '%Exception%';"
   ]
  },
  {
   "cell_type": "code",
   "execution_count": 106,
   "metadata": {},
   "outputs": [
    {
     "name": "stdout",
     "output_type": "stream",
     "text": [
      " * postgresql://postgres@localhost:3333/postgres\n",
      "1 rows affected.\n"
     ]
    },
    {
     "data": {
      "text/html": [
       "<table>\n",
       "    <tr>\n",
       "        <th>count</th>\n",
       "    </tr>\n",
       "    <tr>\n",
       "        <td>20</td>\n",
       "    </tr>\n",
       "</table>"
      ],
      "text/plain": [
       "[(20,)]"
      ]
     },
     "execution_count": 106,
     "metadata": {},
     "output_type": "execute_result"
    }
   ],
   "source": [
    "%%sql\n",
    "select count(*) from jobs where status = 'acquired';"
   ]
  },
  {
   "cell_type": "code",
   "execution_count": 129,
   "metadata": {},
   "outputs": [
    {
     "name": "stdout",
     "output_type": "stream",
     "text": [
      " * postgresql://postgres@localhost:3333/postgres\n",
      "8 rows affected.\n"
     ]
    },
    {
     "data": {
      "text/html": [
       "<table>\n",
       "    <tr>\n",
       "        <th>summary</th>\n",
       "        <th>ch</th>\n",
       "        <th>count</th>\n",
       "    </tr>\n",
       "    <tr>\n",
       "        <td>&quot;\\&quot;Itimeout\\&quot;&quot;</td>\n",
       "        <td>&quot;\\&quot;SingleMethod\\&quot;&quot;</td>\n",
       "        <td>274</td>\n",
       "    </tr>\n",
       "    <tr>\n",
       "        <td>&quot;\\&quot;Proven\\&quot;&quot;</td>\n",
       "        <td>&quot;\\&quot;MultiCallback\\&quot;&quot;</td>\n",
       "        <td>64</td>\n",
       "    </tr>\n",
       "    <tr>\n",
       "        <td>&quot;\\&quot;Itimeout\\&quot;&quot;</td>\n",
       "        <td>&quot;\\&quot;MultiCallback\\&quot;&quot;</td>\n",
       "        <td>140</td>\n",
       "    </tr>\n",
       "    <tr>\n",
       "        <td>&quot;\\&quot;Itimeout\\&quot;&quot;</td>\n",
       "        <td>&quot;\\&quot;SingleCallbackMultiMethod\\&quot;&quot;</td>\n",
       "        <td>308</td>\n",
       "    </tr>\n",
       "    <tr>\n",
       "        <td>&quot;\\&quot;Witnessed\\&quot;&quot;</td>\n",
       "        <td>&quot;\\&quot;MultiCallback\\&quot;&quot;</td>\n",
       "        <td>197</td>\n",
       "    </tr>\n",
       "    <tr>\n",
       "        <td>&quot;\\&quot;Proven\\&quot;&quot;</td>\n",
       "        <td>&quot;\\&quot;SingleCallbackMultiMethod\\&quot;&quot;</td>\n",
       "        <td>391</td>\n",
       "    </tr>\n",
       "    <tr>\n",
       "        <td>&quot;\\&quot;Unreachable\\&quot;&quot;</td>\n",
       "        <td>&quot;\\&quot;SingleMethod\\&quot;&quot;</td>\n",
       "        <td>1481</td>\n",
       "    </tr>\n",
       "    <tr>\n",
       "        <td>&quot;\\&quot;Proven\\&quot;&quot;</td>\n",
       "        <td>&quot;\\&quot;SingleMethod\\&quot;&quot;</td>\n",
       "        <td>4603</td>\n",
       "    </tr>\n",
       "</table>"
      ],
      "text/plain": [
       "[('\"\\\\\"Itimeout\\\\\"\"', '\"\\\\\"SingleMethod\\\\\"\"', 274),\n",
       " ('\"\\\\\"Proven\\\\\"\"', '\"\\\\\"MultiCallback\\\\\"\"', 64),\n",
       " ('\"\\\\\"Itimeout\\\\\"\"', '\"\\\\\"MultiCallback\\\\\"\"', 140),\n",
       " ('\"\\\\\"Itimeout\\\\\"\"', '\"\\\\\"SingleCallbackMultiMethod\\\\\"\"', 308),\n",
       " ('\"\\\\\"Witnessed\\\\\"\"', '\"\\\\\"MultiCallback\\\\\"\"', 197),\n",
       " ('\"\\\\\"Proven\\\\\"\"', '\"\\\\\"SingleCallbackMultiMethod\\\\\"\"', 391),\n",
       " ('\"\\\\\"Unreachable\\\\\"\"', '\"\\\\\"SingleMethod\\\\\"\"', 1481),\n",
       " ('\"\\\\\"Proven\\\\\"\"', '\"\\\\\"SingleMethod\\\\\"\"', 4603)]"
      ]
     },
     "execution_count": 129,
     "metadata": {},
     "output_type": "execute_result"
    }
   ],
   "source": [
    "%%sql \n",
    "select cast(result::json->'summary' as varchar) as summary, \n",
    "    cast(result::json->'maxPathCh' as varchar) as ch,count(*) from results group by summary,ch;"
   ]
  },
  {
   "cell_type": "markdown",
   "metadata": {},
   "source": [
    "TODO:\n",
    "- use some other tool to get rid of simple deref like hopper\n",
    "\n",
    "- [ ] break down proven number more and remove trivial things e.g.\n",
    "void myMethod(v){\n",
    "   v.foo(); // alarm\n",
    "   v.bar(); // no alarm\n",
    " \n",
    "- [ ] motivate why type based techniques aren't enough"
   ]
  },
  {
   "cell_type": "markdown",
   "metadata": {},
   "source": [
    "Triage witness results\n",
    "----------------------"
   ]
  },
  {
   "cell_type": "code",
   "execution_count": 108,
   "metadata": {},
   "outputs": [
    {
     "name": "stdout",
     "output_type": "stream",
     "text": [
      " * postgresql://postgres@localhost:3333/postgres\n",
      "10 rows affected.\n"
     ]
    },
    {
     "data": {
      "text/html": [
       "<table>\n",
       "    <tr>\n",
       "        <th>id</th>\n",
       "        <th>jobid</th>\n",
       "        <th>resultdata</th>\n",
       "        <th>clazz</th>\n",
       "        <th>?column?</th>\n",
       "    </tr>\n",
       "    <tr>\n",
       "        <td>4883</td>\n",
       "        <td>239</td>\n",
       "        <td>327</td>\n",
       "        <td>itkach.aard2.FileSelectActivity</td>\n",
       "        <td>[&quot;itkach.aard2.FileSelectActivity&quot;,&quot;android.view.MenuItem&quot;]</td>\n",
       "    </tr>\n",
       "    <tr>\n",
       "        <td>3857</td>\n",
       "        <td>188</td>\n",
       "        <td>305</td>\n",
       "        <td>itkach.aard2.DictionariesFragment</td>\n",
       "        <td>[&quot;itkach.aard2.DictionariesFragment&quot;,&quot;android.view.Menu&quot;]</td>\n",
       "    </tr>\n",
       "    <tr>\n",
       "        <td>2663</td>\n",
       "        <td>161</td>\n",
       "        <td>249</td>\n",
       "        <td>itkach.aard2.DictionaryListAdapter$2</td>\n",
       "        <td>[&quot;itkach.aard2.DictionaryListAdapter$2&quot;,&quot;android.view.View&quot;]</td>\n",
       "    </tr>\n",
       "    <tr>\n",
       "        <td>3852</td>\n",
       "        <td>188</td>\n",
       "        <td>305</td>\n",
       "        <td>itkach.aard2.DictionariesFragment</td>\n",
       "        <td>[&quot;itkach.aard2.DictionariesFragment&quot;,&quot;android.view.MenuItem&quot;]</td>\n",
       "    </tr>\n",
       "    <tr>\n",
       "        <td>4017</td>\n",
       "        <td>218</td>\n",
       "        <td>308</td>\n",
       "        <td>itkach.aard2.MainActivity</td>\n",
       "        <td>[&quot;itkach.aard2.MainActivity&quot;,&quot;android.app.ActionBar$Tab&quot;,&quot;android.app.FragmentTransaction&quot;]</td>\n",
       "    </tr>\n",
       "    <tr>\n",
       "        <td>4124</td>\n",
       "        <td>218</td>\n",
       "        <td>308</td>\n",
       "        <td>itkach.aard2.MainActivity</td>\n",
       "        <td>[&quot;itkach.aard2.MainActivity&quot;,&quot;android.os.Bundle&quot;]</td>\n",
       "    </tr>\n",
       "    <tr>\n",
       "        <td>3062</td>\n",
       "        <td>113</td>\n",
       "        <td>277</td>\n",
       "        <td>itkach.aard2.ArticleFragment</td>\n",
       "        <td>[&quot;itkach.aard2.ArticleFragment&quot;,&quot;android.view.MenuItem&quot;]</td>\n",
       "    </tr>\n",
       "    <tr>\n",
       "        <td>4004</td>\n",
       "        <td>218</td>\n",
       "        <td>308</td>\n",
       "        <td>itkach.aard2.MainActivity</td>\n",
       "        <td>[&quot;itkach.aard2.MainActivity&quot;]</td>\n",
       "    </tr>\n",
       "    <tr>\n",
       "        <td>4837</td>\n",
       "        <td>239</td>\n",
       "        <td>327</td>\n",
       "        <td>itkach.aard2.FileSelectActivity</td>\n",
       "        <td>[&quot;itkach.aard2.FileSelectActivity&quot;,&quot;android.view.Menu&quot;]</td>\n",
       "    </tr>\n",
       "    <tr>\n",
       "        <td>1723</td>\n",
       "        <td>341</td>\n",
       "        <td>168</td>\n",
       "        <td>com.serwylo.lexica.view.LexicaLogo</td>\n",
       "        <td>[&quot;com.serwylo.lexica.view.LexicaLogo&quot;,&quot;android.graphics.Canvas&quot;]</td>\n",
       "    </tr>\n",
       "</table>"
      ],
      "text/plain": [
       "[(4883, 239, 327, 'itkach.aard2.FileSelectActivity', '[\"itkach.aard2.FileSelectActivity\",\"android.view.MenuItem\"]'),\n",
       " (3857, 188, 305, 'itkach.aard2.DictionariesFragment', '[\"itkach.aard2.DictionariesFragment\",\"android.view.Menu\"]'),\n",
       " (2663, 161, 249, 'itkach.aard2.DictionaryListAdapter$2', '[\"itkach.aard2.DictionaryListAdapter$2\",\"android.view.View\"]'),\n",
       " (3852, 188, 305, 'itkach.aard2.DictionariesFragment', '[\"itkach.aard2.DictionariesFragment\",\"android.view.MenuItem\"]'),\n",
       " (4017, 218, 308, 'itkach.aard2.MainActivity', '[\"itkach.aard2.MainActivity\",\"android.app.ActionBar$Tab\",\"android.app.FragmentTransaction\"]'),\n",
       " (4124, 218, 308, 'itkach.aard2.MainActivity', '[\"itkach.aard2.MainActivity\",\"android.os.Bundle\"]'),\n",
       " (3062, 113, 277, 'itkach.aard2.ArticleFragment', '[\"itkach.aard2.ArticleFragment\",\"android.view.MenuItem\"]'),\n",
       " (4004, 218, 308, 'itkach.aard2.MainActivity', '[\"itkach.aard2.MainActivity\"]'),\n",
       " (4837, 239, 327, 'itkach.aard2.FileSelectActivity', '[\"itkach.aard2.FileSelectActivity\",\"android.view.Menu\"]'),\n",
       " (1723, 341, 168, 'com.serwylo.lexica.view.LexicaLogo', '[\"com.serwylo.lexica.view.LexicaLogo\",\"android.graphics.Canvas\"]')]"
      ]
     },
     "execution_count": 108,
     "metadata": {},
     "output_type": "execute_result"
    }
   ],
   "source": [
    "%%sql \n",
    "select id,jobid,resultdata,loc::json->'method'->>1 as clazz,loc::json->'method'->>2 from results \n",
    "                where cast(result::json->'summary' as varchar) like '%Witnessed%' order by random() limit 10;"
   ]
  },
  {
   "cell_type": "raw",
   "metadata": {},
   "source": [
    "TODO: check that all these witnesses exist in fixed\n",
    "\n",
    "NI(ci l.add(v), ci l.remove(v) ) /\\ NI(ci l.add(v2), ci l.remove(v2)) /\\ NI(ci l.sort(c), ci l.add(v)) /\\ NI(ci l.sort(c), ci l.add(v2))\n",
    "   <= cb c.compare(v,v2)\n",
    "\n",
    "\n",
    "id\tjobid\tresultdata\tclazz\t?column?\n",
    "5929\t202\t368\titkach.aard2.DictionaryListAdapter$3\t[\"itkach.aard2.DictionaryListAdapter$3\",\"android.view.View\"]\n",
    "    # simple annotation: on click cant have null arg\n",
    "   \n",
    "3866\t342\t303\tcom.serwylo.lexica.LexicaConfig\t[\"com.serwylo.lexica.LexicaConfig\",\"android.preference.Preference\"]\n",
    "    # simple annotation: onPreferencesClick cant have null arg\n",
    "    \n",
    "3868\t342\t303\tcom.serwylo.lexica.LexicaConfig\t[\"com.serwylo.lexica.LexicaConfig\",\"android.preference.Preference\"]\n",
    "    # simple annotation: setNavigationButton can't return null\n",
    "    \n",
    "6043\t24\t376\titkach.aard2.SlobDescriptorList$1\t[\"itkach.aard2.SlobDescriptorList$1\",\"itkach.aard2.SlobDescriptor\",\"itkach.aard2.SlobDescriptor\"]\n",
    "    # null value ncolr collection type prohibits null value\n",
    "    # specify on java AbstractList\n",
    "    \n",
    "3229\t188\t236\titkach.aard2.DictionariesFragment\t[\"itkach.aard2.DictionariesFragment\",\"android.view.Menu\",\"android.view.MenuInflater\"]\n",
    "    # simple annotation: onCreateOptionsMenu argument probably can't be null\n",
    "    \n",
    "1051\t81\t87\titkach.aard2.FileSelectListAdapter\t[\"itkach.aard2.FileSelectListAdapter\",\"int\"]\n",
    "    # specification: BaseAdapter getItemViewType invoked after parent activity onOptionsItemSelected\n",
    "    \n",
    "6055\t24\t376\titkach.aard2.SlobDescriptorList$1\t[\"itkach.aard2.SlobDescriptorList$1\",\"itkach.aard2.SlobDescriptor\",\"itkach.aard2.SlobDescriptor\"]\n",
    "    # null value never entered into collection or collection type prohibits null value\n",
    "    \n",
    "119\t225\t6\titkach.aard2.BlobDescriptorList$3\t[\"itkach.aard2.BlobDescriptorList$3\",\"itkach.aard2.BlobDescriptor\",\"itkach.aard2.BlobDescriptor\"]\n",
    "    # null value never entered into collection or collection type prohibits null value\n",
    "    \n",
    "3367\t289\t263\titkach.aard2.MainActivity$HistoryFragment\t[\"itkach.aard2.MainActivity$HistoryFragment\"]\n",
    "    # onPrepareOptionsMenu happens after onActivityCreated in fragment + getActivity spec from ap\n",
    "    \n",
    "7505\t319\t387\tcom.serwylo.lexica.view.LexicaView\t[\"com.serwylo.lexica.view.LexicaView\",\"int\",\"android.view.KeyEvent\"]\n",
    "    # simple annotation getUnicodeCharacter + casts never results in null\n",
    "\n",
    "\n",
    "total: \n",
    "5 simple annotation\n",
    "5 multi callback specs needed\n",
    "\n",
    "2 probably share a multi callback spec\n",
    "1 multi callback spec can probably be used from antennapod\n"
   ]
  },
  {
   "cell_type": "code",
   "execution_count": 109,
   "metadata": {},
   "outputs": [
    {
     "name": "stdout",
     "output_type": "stream",
     "text": [
      " * postgresql://postgres@localhost:3333/postgres\n",
      "0 rows affected.\n"
     ]
    },
    {
     "data": {
      "text/html": [
       "<table>\n",
       "    <tr>\n",
       "        <th>id</th>\n",
       "        <th>jobid</th>\n",
       "        <th>resultdata</th>\n",
       "        <th>clazz</th>\n",
       "        <th>?column?</th>\n",
       "    </tr>\n",
       "</table>"
      ],
      "text/plain": [
       "[]"
      ]
     },
     "execution_count": 109,
     "metadata": {},
     "output_type": "execute_result"
    }
   ],
   "source": [
    "%%sql \n",
    "select id,jobid,resultdata,loc::json->'method'->>1 as clazz, loc::json->'line' from results \n",
    "                where result = '\"Witnessed\"' and id = 7505;"
   ]
  },
  {
   "cell_type": "markdown",
   "metadata": {},
   "source": [
    "Triage unreachable results\n",
    "--------------------------"
   ]
  },
  {
   "cell_type": "code",
   "execution_count": 110,
   "metadata": {},
   "outputs": [
    {
     "name": "stdout",
     "output_type": "stream",
     "text": [
      " * postgresql://postgres@localhost:3333/postgres\n",
      "5 rows affected.\n"
     ]
    },
    {
     "data": {
      "text/html": [
       "<table>\n",
       "    <tr>\n",
       "        <th>id</th>\n",
       "        <th>jobid</th>\n",
       "        <th>resultdata</th>\n",
       "        <th>clazz</th>\n",
       "    </tr>\n",
       "    <tr>\n",
       "        <td>2757</td>\n",
       "        <td>135</td>\n",
       "        <td>256</td>\n",
       "        <td>itkach.aard2.SlobDescriptor</td>\n",
       "    </tr>\n",
       "    <tr>\n",
       "        <td>257</td>\n",
       "        <td>67</td>\n",
       "        <td>68</td>\n",
       "        <td>org.tukaani.xz.LZMA2Options</td>\n",
       "    </tr>\n",
       "    <tr>\n",
       "        <td>4895</td>\n",
       "        <td>230</td>\n",
       "        <td>328</td>\n",
       "        <td>org.tukaani.xz.UncompressedLZMA2OutputStream</td>\n",
       "    </tr>\n",
       "    <tr>\n",
       "        <td>4120</td>\n",
       "        <td>218</td>\n",
       "        <td>308</td>\n",
       "        <td>itkach.aard2.MainActivity</td>\n",
       "    </tr>\n",
       "    <tr>\n",
       "        <td>3741</td>\n",
       "        <td>148</td>\n",
       "        <td>304</td>\n",
       "        <td>org.tukaani.xz.index.IndexDecoder</td>\n",
       "    </tr>\n",
       "</table>"
      ],
      "text/plain": [
       "[(2757, 135, 256, 'itkach.aard2.SlobDescriptor'),\n",
       " (257, 67, 68, 'org.tukaani.xz.LZMA2Options'),\n",
       " (4895, 230, 328, 'org.tukaani.xz.UncompressedLZMA2OutputStream'),\n",
       " (4120, 218, 308, 'itkach.aard2.MainActivity'),\n",
       " (3741, 148, 304, 'org.tukaani.xz.index.IndexDecoder')]"
      ]
     },
     "execution_count": 110,
     "metadata": {},
     "output_type": "execute_result"
    }
   ],
   "source": [
    "%%sql \n",
    "select id,jobid,resultdata,loc::json->'method'->>1 as clazz \n",
    "            from results where cast(result::json->'summary' as varchar) like '%Unreachable%' \n",
    "            order by random() limit 5;"
   ]
  },
  {
   "cell_type": "markdown",
   "metadata": {},
   "source": [
    "TODO\n"
   ]
  },
  {
   "cell_type": "code",
   "execution_count": 111,
   "metadata": {},
   "outputs": [
    {
     "name": "stdout",
     "output_type": "stream",
     "text": [
      " * postgresql://postgres@localhost:3333/postgres\n",
      "0 rows affected.\n"
     ]
    },
    {
     "data": {
      "text/html": [
       "<table>\n",
       "    <tr>\n",
       "        <th>id</th>\n",
       "        <th>jobid</th>\n",
       "        <th>resultdata</th>\n",
       "        <th>clazz</th>\n",
       "        <th>mname</th>\n",
       "        <th>location</th>\n",
       "    </tr>\n",
       "</table>"
      ],
      "text/plain": [
       "[]"
      ]
     },
     "execution_count": 111,
     "metadata": {},
     "output_type": "execute_result"
    }
   ],
   "source": [
    "%%sql\n",
    "select id,jobid,resultdata,loc::json->'method'->>1 as clazz, \n",
    "        replace(cast(loc::json->'method'->>0 as varchar),'$','\\$') as mname, \n",
    "        replace(cast(loc::json->'line' as varchar),'$','\\$') as location \n",
    "        from results where id = 15037;"
   ]
  },
  {
   "cell_type": "raw",
   "metadata": {},
   "source": [
    "\n",
    "id      jobid\tresultdata\tclazz\n",
    "15037\t243  \t761     \titkach.aard2.ArticleWebView$4\n",
    "\n",
    "12610\t90  \t676     \torg.tukaani.xz.lzma.LZMAEncoderNormal\n",
    "12479\t368  \t674\t        com.serwylo.lexica.trie.util.LetterFrequency\n",
    "8881\t308 \t436     \tnet.healeys.trie.StringTrie$Node\n",
    "11298\t208 \t573     \torg.tukaani.xz.index.IndexBase\n",
    "\n"
   ]
  },
  {
   "cell_type": "code",
   "execution_count": 112,
   "metadata": {},
   "outputs": [
    {
     "name": "stdout",
     "output_type": "stream",
     "text": [
      " * postgresql://postgres@localhost:3333/postgres\n",
      "0 rows affected.\n"
     ]
    },
    {
     "data": {
      "text/html": [
       "<table>\n",
       "    <tr>\n",
       "        <th>id</th>\n",
       "        <th>result</th>\n",
       "        <th>location</th>\n",
       "    </tr>\n",
       "</table>"
      ],
      "text/plain": [
       "[]"
      ]
     },
     "execution_count": 112,
     "metadata": {},
     "output_type": "execute_result"
    }
   ],
   "source": [
    "%%sql\n",
    "select id,result,replace(cast(loc::json->'line' as varchar),'$','\\$') as location \n",
    "    from results where loc like '%244 $r3%';"
   ]
  },
  {
   "cell_type": "code",
   "execution_count": 113,
   "metadata": {},
   "outputs": [
    {
     "name": "stdout",
     "output_type": "stream",
     "text": [
      " * postgresql://postgres@localhost:3333/postgres\n",
      "1 rows affected.\n"
     ]
    },
    {
     "data": {
      "text/html": [
       "<table>\n",
       "    <tr>\n",
       "        <th>replace</th>\n",
       "    </tr>\n",
       "    <tr>\n",
       "        <td>{&quot;\\$type&quot;:&quot;edu.colorado.plv.bounder.ir.AppLoc&quot;,&quot;method&quot;:[&quot;void endUpdate(boolean)&quot;,&quot;itkach.aard2.BaseDescriptorList&quot;,[&quot;itkach.aard2.BaseDescriptorList&quot;,&quot;boolean&quot;],[&quot;[{\\&quot;name\\&quot;:\\&quot;@this\\&quot;,\\&quot;localType\\&quot;:\\&quot;itkach.aard2.BaseDescriptorList\\&quot;}]&quot;,&quot;[{\\&quot;name\\&quot;:\\&quot;@parameter0\\&quot;,\\&quot;localType\\&quot;:\\&quot;boolean\\&quot;}]&quot;]],&quot;line&quot;:{&quot;id&quot;:1949126165,&quot;str&quot;:&quot;line: 43 specialinvoke \\$r3.&lt;java.lang.StringBuilder: void &lt;init&gt;()&gt;()&quot;},&quot;isPre&quot;:true}</td>\n",
       "    </tr>\n",
       "</table>"
      ],
      "text/plain": [
       "[('{\"\\\\$type\":\"edu.colorado.plv.bounder.ir.AppLoc\",\"method\":[\"void endUpdate(boolean)\",\"itkach.aard2.BaseDescriptorList\",[\"itkach.aard2.BaseDescriptorLi ... (135 characters truncated) ... ocalType\\\\\":\\\\\"boolean\\\\\"}]\"]],\"line\":{\"id\":1949126165,\"str\":\"line: 43 specialinvoke \\\\$r3.<java.lang.StringBuilder: void <init>()>()\"},\"isPre\":true}',)]"
      ]
     },
     "execution_count": 113,
     "metadata": {},
     "output_type": "execute_result"
    }
   ],
   "source": [
    "%%sql\n",
    "select replace(cast(loc as varchar),'$','\\$') from results where id = 1494;"
   ]
  },
  {
   "cell_type": "markdown",
   "metadata": {},
   "source": [
    "Runtime Stats\n",
    "============="
   ]
  },
  {
   "cell_type": "code",
   "execution_count": 114,
   "metadata": {},
   "outputs": [
    {
     "name": "stdout",
     "output_type": "stream",
     "text": [
      " * postgresql://postgres@localhost:3333/postgres\n",
      "1 rows affected.\n"
     ]
    },
    {
     "data": {
      "text/html": [
       "<table>\n",
       "    <tr>\n",
       "        <th>count</th>\n",
       "    </tr>\n",
       "    <tr>\n",
       "        <td>20</td>\n",
       "    </tr>\n",
       "</table>"
      ],
      "text/plain": [
       "[(20,)]"
      ]
     },
     "execution_count": 114,
     "metadata": {},
     "output_type": "execute_result"
    }
   ],
   "source": [
    "%%sql\n",
    "select count(id) from jobs where status='acquired';"
   ]
  },
  {
   "cell_type": "code",
   "execution_count": 115,
   "metadata": {},
   "outputs": [
    {
     "name": "stdout",
     "output_type": "stream",
     "text": [
      " * postgresql://postgres@localhost:3333/postgres\n",
      "4825 rows affected.\n"
     ]
    },
    {
     "data": {
      "image/png": "[encoded data removed]",
      "text/plain": [
       "<Figure size 432x288 with 1 Axes>"
      ]
     },
     "metadata": {},
     "output_type": "display_data"
    }
   ],
   "source": [
    "queryTime = %sql select querytime from results;\n",
    "plt = queryTime.DataFrame().plot.hist(bins=32)\n",
    "plt.set_yscale('log')"
   ]
  },
  {
   "cell_type": "code",
   "execution_count": 116,
   "metadata": {},
   "outputs": [
    {
     "name": "stdout",
     "output_type": "stream",
     "text": [
      " * postgresql://postgres@localhost:3333/postgres\n",
      "277 rows affected.\n"
     ]
    },
    {
     "data": {
      "text/plain": [
       "Text(0.5, 0, 'time (min)')"
      ]
     },
     "execution_count": 116,
     "metadata": {},
     "output_type": "execute_result"
    },
    {
     "data": {
      "image/png": "[encoded data removed]",
      "text/plain": [
       "<Figure size 432x288 with 1 Axes>"
      ]
     },
     "metadata": {},
     "output_type": "display_data"
    }
   ],
   "source": [
    "# Job runtimes\n",
    "runtimes = %sql select ended - started as time from jobs where ended is not NULL;\n",
    "runtimesDF = runtimes.DataFrame()\n",
    "runtimesDF['time'] = runtimesDF['time'].apply(lambda x: x.total_seconds() / (60))\n",
    "plt = runtimesDF.plot.hist(bins=32)\n",
    "plt.set_yscale('log')\n",
    "plt.set_xlabel('time (min)')"
   ]
  },
  {
   "cell_type": "markdown",
   "metadata": {},
   "source": [
    "Total job time"
   ]
  },
  {
   "cell_type": "code",
   "execution_count": 117,
   "metadata": {},
   "outputs": [
    {
     "name": "stdout",
     "output_type": "stream",
     "text": [
      " * postgresql://postgres@localhost:3333/postgres\n",
      "1 rows affected.\n"
     ]
    },
    {
     "data": {
      "text/html": [
       "<table>\n",
       "    <tr>\n",
       "        <th>sum</th>\n",
       "    </tr>\n",
       "    <tr>\n",
       "        <td>7 days, 19:12:11.862000</td>\n",
       "    </tr>\n",
       "</table>"
      ],
      "text/plain": [
       "[(datetime.timedelta(7, 69131, 862000),)]"
      ]
     },
     "execution_count": 117,
     "metadata": {},
     "output_type": "execute_result"
    }
   ],
   "source": [
    "%%sql\n",
    "select sum(ended-started) from jobs where ended is not NULL;"
   ]
  },
  {
   "cell_type": "code",
   "execution_count": 118,
   "metadata": {},
   "outputs": [
    {
     "name": "stdout",
     "output_type": "stream",
     "text": [
      " * postgresql://postgres@localhost:3333/postgres\n",
      "1 rows affected.\n"
     ]
    },
    {
     "data": {
      "text/html": [
       "<table>\n",
       "    <tr>\n",
       "        <th>sum</th>\n",
       "    </tr>\n",
       "    <tr>\n",
       "        <td>474113</td>\n",
       "    </tr>\n",
       "</table>"
      ],
      "text/plain": [
       "[(474113,)]"
      ]
     },
     "execution_count": 118,
     "metadata": {},
     "output_type": "execute_result"
    }
   ],
   "source": [
    "%%sql\n",
    "select sum(querytime) from results;"
   ]
  },
  {
   "cell_type": "markdown",
   "metadata": {},
   "source": [
    "Size of postgres data\n",
    "====================="
   ]
  },
  {
   "cell_type": "code",
   "execution_count": 119,
   "metadata": {},
   "outputs": [
    {
     "name": "stdout",
     "output_type": "stream",
     "text": [
      " * postgresql://postgres@localhost:3333/postgres\n",
      "5 rows affected.\n"
     ]
    },
    {
     "data": {
      "text/html": [
       "<table>\n",
       "    <tr>\n",
       "        <th>table_schema</th>\n",
       "        <th>table_name</th>\n",
       "        <th>row_estimate</th>\n",
       "        <th>total</th>\n",
       "        <th>index</th>\n",
       "        <th>toast</th>\n",
       "        <th>table</th>\n",
       "    </tr>\n",
       "    <tr>\n",
       "        <td>public</td>\n",
       "        <td>resultdata</td>\n",
       "        <td>247.0</td>\n",
       "        <td>954 MB</td>\n",
       "        <td>16 kB</td>\n",
       "        <td>954 MB</td>\n",
       "        <td>104 kB</td>\n",
       "    </tr>\n",
       "    <tr>\n",
       "        <td>public</td>\n",
       "        <td>apks</td>\n",
       "        <td>0.0</td>\n",
       "        <td>64 MB</td>\n",
       "        <td>0 bytes</td>\n",
       "        <td>64 MB</td>\n",
       "        <td>8192 bytes</td>\n",
       "    </tr>\n",
       "    <tr>\n",
       "        <td>public</td>\n",
       "        <td>results</td>\n",
       "        <td>4619.0</td>\n",
       "        <td>4464 kB</td>\n",
       "        <td>128 kB</td>\n",
       "        <td>8192 bytes</td>\n",
       "        <td>4328 kB</td>\n",
       "    </tr>\n",
       "    <tr>\n",
       "        <td>pg_catalog</td>\n",
       "        <td>pg_depend</td>\n",
       "        <td>7725.0</td>\n",
       "        <td>1120 kB</td>\n",
       "        <td>624 kB</td>\n",
       "        <td>None</td>\n",
       "        <td>496 kB</td>\n",
       "    </tr>\n",
       "    <tr>\n",
       "        <td>pg_catalog</td>\n",
       "        <td>pg_proc</td>\n",
       "        <td>3034.0</td>\n",
       "        <td>1024 kB</td>\n",
       "        <td>336 kB</td>\n",
       "        <td>8192 bytes</td>\n",
       "        <td>680 kB</td>\n",
       "    </tr>\n",
       "</table>"
      ],
      "text/plain": [
       "[('public', 'resultdata', 247.0, '954 MB', '16 kB', '954 MB', '104 kB'),\n",
       " ('public', 'apks', 0.0, '64 MB', '0 bytes', '64 MB', '8192 bytes'),\n",
       " ('public', 'results', 4619.0, '4464 kB', '128 kB', '8192 bytes', '4328 kB'),\n",
       " ('pg_catalog', 'pg_depend', 7725.0, '1120 kB', '624 kB', None, '496 kB'),\n",
       " ('pg_catalog', 'pg_proc', 3034.0, '1024 kB', '336 kB', '8192 bytes', '680 kB')]"
      ]
     },
     "execution_count": 119,
     "metadata": {},
     "output_type": "execute_result"
    }
   ],
   "source": [
    "%%sql\n",
    "WITH RECURSIVE pg_inherit(inhrelid, inhparent) AS\n",
    "    (select inhrelid, inhparent\n",
    "    FROM pg_inherits\n",
    "    UNION\n",
    "    SELECT child.inhrelid, parent.inhparent\n",
    "    FROM pg_inherit child, pg_inherits parent\n",
    "    WHERE child.inhparent = parent.inhrelid),\n",
    "pg_inherit_short AS (SELECT * FROM pg_inherit WHERE inhparent NOT IN (SELECT inhrelid FROM pg_inherit))\n",
    "SELECT table_schema\n",
    "    , TABLE_NAME\n",
    "    , row_estimate\n",
    "    , pg_size_pretty(total_bytes) AS total\n",
    "    , pg_size_pretty(index_bytes) AS INDEX\n",
    "    , pg_size_pretty(toast_bytes) AS toast\n",
    "    , pg_size_pretty(table_bytes) AS TABLE\n",
    "  FROM (\n",
    "    SELECT *, total_bytes-index_bytes-COALESCE(toast_bytes,0) AS table_bytes\n",
    "    FROM (\n",
    "         SELECT c.oid\n",
    "              , nspname AS table_schema\n",
    "              , relname AS TABLE_NAME\n",
    "              , SUM(c.reltuples) OVER (partition BY parent) AS row_estimate\n",
    "              , SUM(pg_total_relation_size(c.oid)) OVER (partition BY parent) AS total_bytes\n",
    "              , SUM(pg_indexes_size(c.oid)) OVER (partition BY parent) AS index_bytes\n",
    "              , SUM(pg_total_relation_size(reltoastrelid)) OVER (partition BY parent) AS toast_bytes\n",
    "              , parent\n",
    "          FROM (\n",
    "                SELECT pg_class.oid\n",
    "                    , reltuples\n",
    "                    , relname\n",
    "                    , relnamespace\n",
    "                    , pg_class.reltoastrelid\n",
    "                    , COALESCE(inhparent, pg_class.oid) parent\n",
    "                FROM pg_class\n",
    "                    LEFT JOIN pg_inherit_short ON inhrelid = oid\n",
    "                WHERE relkind IN ('r', 'p')\n",
    "             ) c\n",
    "             LEFT JOIN pg_namespace n ON n.oid = c.relnamespace\n",
    "  ) a\n",
    "  WHERE oid = parent\n",
    ") a\n",
    "ORDER BY total_bytes DESC limit 5;"
   ]
  },
  {
   "cell_type": "markdown",
   "metadata": {},
   "source": [
    "Inspection of exceptions\n",
    "========================"
   ]
  },
  {
   "cell_type": "code",
   "execution_count": 120,
   "metadata": {
    "tags": []
   },
   "outputs": [
    {
     "name": "stdout",
     "output_type": "stream",
     "text": [
      " * postgresql://postgres@localhost:3333/postgres\n",
      "0 rows affected.\n"
     ]
    },
    {
     "data": {
      "text/html": [
       "<table>\n",
       "    <tr>\n",
       "        <th>id</th>\n",
       "        <th>replace</th>\n",
       "    </tr>\n",
       "</table>"
      ],
      "text/plain": [
       "[]"
      ]
     },
     "execution_count": 120,
     "metadata": {},
     "output_type": "execute_result"
    }
   ],
   "source": [
    "%%sql\n",
    "select id,replace(stderr,'$','\\$') from jobs where stderr like '%Exception%' and stderr \n",
    "    not like '%no active body%' order by random() limit 3;"
   ]
  },
  {
   "cell_type": "code",
   "execution_count": 40,
   "metadata": {},
   "outputs": [
    {
     "name": "stdout",
     "output_type": "stream",
     "text": [
      " * postgresql://postgres@localhost:3333/postgres\n",
      "1 rows affected.\n"
     ]
    },
    {
     "data": {
      "text/html": [
       "<table>\n",
       "    <tr>\n",
       "        <th>total_locations_computed</th>\n",
       "    </tr>\n",
       "    <tr>\n",
       "        <td>356</td>\n",
       "    </tr>\n",
       "</table>"
      ],
      "text/plain": [
       "[(356,)]"
      ]
     },
     "execution_count": 40,
     "metadata": {},
     "output_type": "execute_result"
    }
   ],
   "source": [
    "#count of total results\n",
    "%sql select count(*) as Total_locations_computed from results"
   ]
  },
  {
   "cell_type": "code",
   "execution_count": null,
   "metadata": {},
   "outputs": [],
   "source": []
  },
  {
   "cell_type": "markdown",
   "metadata": {},
   "source": [
    "- focus on writing specification for existing witnesses \n",
    "\n",
    "z3 encoding notes\n",
    "\n",
    "- indexes as integers may be slowing things down\n",
    "   - paper 2016 padon - paxos made epr\n",
    "   - exists relation < transitive \n",
    "   - forall i,j,k . j<k & ...\n",
    "   - uninterpreted sort t0 forall i,j . j<i \\/ i<j\n",
    "- write down sat/unsat properly  section 4\n",
    "   - use algebraic reasoning to say when we dont need to call z3\n",
    "                                                   \n",
    "\n",
    "SAT(O,S,\\rho,P) \n",
    "                                                   \n",
    " - O - trace suffix with symbolic variables\n",
    " - S - set of specifications, framework model"
   ]
  },
  {
   "cell_type": "markdown",
   "metadata": {},
   "source": [
    "- [ ] can we partition locations into places that are \"reasonably sound\"\n",
    "- [ ] easier story to say \"we did every dereference site\" for 6 apps\n",
    "- [ ] witnessed is a terrible name, should be \"alarm\""
   ]
  }
 ],
 "metadata": {
  "kernelspec": {
   "display_name": "Python 3",
   "language": "python",
   "name": "python3"
  },
  "language_info": {
   "codemirror_mode": {
    "name": "ipython",
    "version": 3
   },
   "file_extension": ".py",
   "mimetype": "text/x-python",
   "name": "python",
   "nbconvert_exporter": "python",
   "pygments_lexer": "ipython3",
   "version": "3.6.5"
  }
 },
 "nbformat": 4,
 "nbformat_minor": 4
}
