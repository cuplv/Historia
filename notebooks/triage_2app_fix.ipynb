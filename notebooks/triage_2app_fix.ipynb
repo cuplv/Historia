{
 "cells": [
  {
   "cell_type": "code",
   "execution_count": 1,
   "metadata": {},
   "outputs": [
    {
     "name": "stderr",
     "output_type": "stream",
     "text": [
      "/Users/shawnmeier/.pyenv/versions/3.6.5/lib/python3.6/site-packages/pandas/compat/__init__.py:117: UserWarning: Could not import the lzma module. Your installed Python is incomplete. Attempting to use lzma compression will result in a RuntimeError.\n",
      "  warnings.warn(msg)\n"
     ]
    }
   ],
   "source": [
    "import pandas as pd\n",
    "import pylab\n",
    "import json\n",
    "%matplotlib inline\n",
    "import matplotlib.pyplot as plt\n",
    "plt.style.use('seaborn-whitegrid')\n",
    "import numpy as np\n",
    "from IPython.core import display\n",
    "import psycopg2\n",
    "import os\n",
    "homedir = os.getenv(\"HOME\")\n",
    "with open(homedir + \"/.pgpass\",'r') as pgfile:\n",
    "    pgdat = pgfile.read().strip().split(\":\")\n",
    "    pgurl = pgdat[0]\n",
    "    pgport = pgdat[1]\n",
    "    pgdb = pgdat[2]\n",
    "    pguser = pgdat[3]\n",
    "    pgpass = pgdat[4]\n",
    "\n",
    "%load_ext sql\n",
    "from sqlalchemy import create_engine\n",
    "# sql info: https://github.com/catherinedevlin/ipython-sql\n",
    "#uncomment for remote\n",
    "pgport=3333\n",
    "#pgport=5433\n",
    "engine = create_engine('postgresql://postgres@localhost:%i/postgres' % pgport)\n",
    "db = psycopg2.connect(host=pgurl, database=pgdb, user=pguser,password=pgpass,port=pgport)"
   ]
  },
  {
   "cell_type": "code",
   "execution_count": 2,
   "metadata": {},
   "outputs": [],
   "source": [
    "def qry(q):\n",
    "  return pd.read_sql_query(con = db, sql = q)\n",
    "# pd.set_option(\"max_colwidth\", None)\n",
    "# pd.set_option('display.max_columns', None)\n",
    "pd.set_option(\"display.latex.repr\", False)\n",
    "pd.set_option(\"display.latex.escape\", True)\n",
    "\n",
    "def iDisplay(v):\n",
    "    with pd.option_context('display.max_rows', None, 'display.max_columns', None, \"max_colwidth\", None):\n",
    "        display.display(v)\n"
   ]
  },
  {
   "cell_type": "code",
   "execution_count": 3,
   "metadata": {},
   "outputs": [
    {
     "name": "stdout",
     "output_type": "stream",
     "text": [
      "1 rows affected.\n"
     ]
    },
    {
     "data": {
      "text/html": [
       "<table>\n",
       "    <tr>\n",
       "        <th>count</th>\n",
       "    </tr>\n",
       "    <tr>\n",
       "        <td>2</td>\n",
       "    </tr>\n",
       "</table>"
      ],
      "text/plain": [
       "[(2,)]"
      ]
     },
     "execution_count": 3,
     "metadata": {},
     "output_type": "execute_result"
    }
   ],
   "source": [
    "%%sql postgresql://postgres@localhost:$pgport/postgres\n",
    "select count(*) from apks where apkname not like 'jar_%' and apkname not like 'spec_%';"
   ]
  },
  {
   "cell_type": "code",
   "execution_count": 4,
   "metadata": {},
   "outputs": [
    {
     "name": "stdout",
     "output_type": "stream",
     "text": [
      " * postgresql://postgres@localhost:3333/postgres\n",
      "1 rows affected.\n"
     ]
    },
    {
     "data": {
      "text/html": [
       "<table>\n",
       "    <tr>\n",
       "        <th>total_locations_computed</th>\n",
       "    </tr>\n",
       "    <tr>\n",
       "        <td>60</td>\n",
       "    </tr>\n",
       "</table>"
      ],
      "text/plain": [
       "[(60,)]"
      ]
     },
     "execution_count": 4,
     "metadata": {},
     "output_type": "execute_result"
    }
   ],
   "source": [
    "#count of total results\n",
    "%sql select count(*) as Total_locations_computed from results"
   ]
  },
  {
   "cell_type": "code",
   "execution_count": 26,
   "metadata": {},
   "outputs": [
    {
     "name": "stdout",
     "output_type": "stream",
     "text": [
      " * postgresql://postgres@localhost:3333/postgres\n",
      "1 rows affected.\n"
     ]
    },
    {
     "data": {
      "text/html": [
       "<table>\n",
       "    <tr>\n",
       "        <th>completed_jobs</th>\n",
       "        <th>body_exception</th>\n",
       "        <th>exception</th>\n",
       "        <th>refl_exception</th>\n",
       "        <th>worker_failure</th>\n",
       "        <th>possible_cg_unsound</th>\n",
       "        <th>total_jobs</th>\n",
       "    </tr>\n",
       "    <tr>\n",
       "        <td>35</td>\n",
       "        <td>3</td>\n",
       "        <td>3</td>\n",
       "        <td>0</td>\n",
       "        <td>0</td>\n",
       "        <td>13</td>\n",
       "        <td>384</td>\n",
       "    </tr>\n",
       "</table>"
      ],
      "text/plain": [
       "[(35, 3, 3, 0, 0, 13, 384)]"
      ]
     },
     "execution_count": 26,
     "metadata": {},
     "output_type": "execute_result"
    }
   ],
   "source": [
    "%%sql\n",
    "select \n",
    "    (select count(*) from jobs where status = 'completed') as Completed_Jobs,\n",
    "    (select count(id) from jobs \n",
    "       where stderr like '%Exception%no active body present for method%') as Body_Exception,\n",
    "    (select count(id) from jobs where stderr like '%Exception%') as Exception,\n",
    "    (select count(id) from jobs where stderr like '%Failed to parse reflective type reference%') as Refl_exception,\n",
    "    (select count(id) from jobs where status like 'failed%') as worker_failure,\n",
    "    (select count(id) from jobs where stdout like '%empty pred location%') as possible_cg_unsound,\n",
    "    (select count(*) from jobs) as Total_Jobs"
   ]
  },
  {
   "cell_type": "code",
   "execution_count": 21,
   "metadata": {
    "tags": []
   },
   "outputs": [
    {
     "name": "stdout",
     "output_type": "stream",
     "text": [
      " * postgresql://postgres@localhost:3333/postgres\n",
      "0 rows affected.\n"
     ]
    },
    {
     "data": {
      "text/html": [
       "<table>\n",
       "    <tr>\n",
       "        <th>id</th>\n",
       "        <th>replace</th>\n",
       "    </tr>\n",
       "</table>"
      ],
      "text/plain": [
       "[]"
      ]
     },
     "execution_count": 21,
     "metadata": {},
     "output_type": "execute_result"
    }
   ],
   "source": [
    "%%sql\n",
    "select id,replace(stderr,'$','\\$') from jobs where stderr like '%Exception%' and stderr \n",
    "    not like '%no active body%' order by random() limit 3;"
   ]
  },
  {
   "cell_type": "markdown",
   "metadata": {},
   "source": [
    "Failing apks"
   ]
  },
  {
   "cell_type": "code",
   "execution_count": 7,
   "metadata": {},
   "outputs": [
    {
     "name": "stdout",
     "output_type": "stream",
     "text": [
      " * postgresql://postgres@localhost:3333/postgres\n",
      "0 rows affected.\n"
     ]
    },
    {
     "data": {
      "text/html": [
       "<table>\n",
       "    <tr>\n",
       "        <th>text</th>\n",
       "    </tr>\n",
       "</table>"
      ],
      "text/plain": [
       "[]"
      ]
     },
     "execution_count": 7,
     "metadata": {},
     "output_type": "execute_result"
    }
   ],
   "source": [
    "%%sql\n",
    "select cast(config::json->'apkPath' as text) from jobs \n",
    "        where stderr like '%Exception' group by cast(config::json->'apkPath' as text) ;"
   ]
  },
  {
   "cell_type": "code",
   "execution_count": 8,
   "metadata": {},
   "outputs": [
    {
     "name": "stdout",
     "output_type": "stream",
     "text": [
      " * postgresql://postgres@localhost:3333/postgres\n",
      "0 rows affected.\n"
     ]
    },
    {
     "data": {
      "text/html": [
       "<table>\n",
       "    <tr>\n",
       "        <th>id</th>\n",
       "    </tr>\n",
       "</table>"
      ],
      "text/plain": [
       "[]"
      ]
     },
     "execution_count": 8,
     "metadata": {},
     "output_type": "execute_result"
    }
   ],
   "source": [
    "%%sql \n",
    " select id from jobs where status like '%IOException%' limit 1;\n"
   ]
  },
  {
   "cell_type": "code",
   "execution_count": 9,
   "metadata": {},
   "outputs": [
    {
     "name": "stdout",
     "output_type": "stream",
     "text": [
      " * postgresql://postgres@localhost:3333/postgres\n",
      "2 rows affected.\n"
     ]
    },
    {
     "data": {
      "text/html": [
       "<table>\n",
       "    <tr>\n",
       "        <th>app</th>\n",
       "        <th>count</th>\n",
       "    </tr>\n",
       "    <tr>\n",
       "        <td>&quot;${baseDir}/itkach.aard2/0.43/apk/itkach.aard2_43.apk&quot;</td>\n",
       "        <td>293</td>\n",
       "    </tr>\n",
       "    <tr>\n",
       "        <td>&quot;${baseDir}/com.serwylo.lexica/0.12.0/apk/com.serwylo.lexica_1200.apk&quot;</td>\n",
       "        <td>91</td>\n",
       "    </tr>\n",
       "</table>"
      ],
      "text/plain": [
       "[('\"${baseDir}/itkach.aard2/0.43/apk/itkach.aard2_43.apk\"', 293),\n",
       " ('\"${baseDir}/com.serwylo.lexica/0.12.0/apk/com.serwylo.lexica_1200.apk\"', 91)]"
      ]
     },
     "execution_count": 9,
     "metadata": {},
     "output_type": "execute_result"
    }
   ],
   "source": [
    "%%sql\n",
    "select cast(config::json->'apkPath' as text) as app,count(*) as count from jobs group by app order by count desc;"
   ]
  },
  {
   "cell_type": "code",
   "execution_count": 33,
   "metadata": {},
   "outputs": [
    {
     "name": "stdout",
     "output_type": "stream",
     "text": [
      " * postgresql://postgres@localhost:3333/postgres\n",
      "3 rows affected.\n"
     ]
    },
    {
     "data": {
      "text/html": [
       "<table>\n",
       "    <tr>\n",
       "        <th>count</th>\n",
       "        <th>status</th>\n",
       "    </tr>\n",
       "    <tr>\n",
       "        <td>76</td>\n",
       "        <td>completed</td>\n",
       "    </tr>\n",
       "    <tr>\n",
       "        <td>296</td>\n",
       "        <td>new</td>\n",
       "    </tr>\n",
       "    <tr>\n",
       "        <td>12</td>\n",
       "        <td>acquired</td>\n",
       "    </tr>\n",
       "</table>"
      ],
      "text/plain": [
       "[(76, 'completed'), (296, 'new'), (12, 'acquired')]"
      ]
     },
     "execution_count": 33,
     "metadata": {},
     "output_type": "execute_result"
    }
   ],
   "source": [
    "%%sql\n",
    "select count(*),status from jobs group by status;"
   ]
  },
  {
   "cell_type": "code",
   "execution_count": 19,
   "metadata": {},
   "outputs": [
    {
     "name": "stdout",
     "output_type": "stream",
     "text": [
      " * postgresql://postgres@localhost:3333/postgres\n",
      "23 rows affected.\n"
     ]
    },
    {
     "data": {
      "text/plain": [
       "Text(0.5, 0, 'time (min)')"
      ]
     },
     "execution_count": 19,
     "metadata": {},
     "output_type": "execute_result"
    },
    {
     "data": {
      "image/png": "[encoded data removed]",
      "text/plain": [
       "<Figure size 432x288 with 1 Axes>"
      ]
     },
     "metadata": {},
     "output_type": "display_data"
    }
   ],
   "source": [
    "runtimes = %sql select ended - started as time from jobs where ended is not NULL;\n",
    "runtimesDF = runtimes.DataFrame()\n",
    "runtimesDF['time'] = runtimesDF['time'].apply(lambda x: x.total_seconds() / (60))\n",
    "plt = runtimesDF.plot.hist(bins=32)\n",
    "plt.set_yscale('log')\n",
    "plt.set_xlabel('time (min)')"
   ]
  },
  {
   "cell_type": "code",
   "execution_count": 12,
   "metadata": {},
   "outputs": [
    {
     "name": "stdout",
     "output_type": "stream",
     "text": [
      " * postgresql://postgres@localhost:3333/postgres\n",
      "1 rows affected.\n"
     ]
    },
    {
     "data": {
      "text/html": [
       "<table>\n",
       "    <tr>\n",
       "        <th>sum</th>\n",
       "    </tr>\n",
       "    <tr>\n",
       "        <td>0:07:24.399000</td>\n",
       "    </tr>\n",
       "</table>"
      ],
      "text/plain": [
       "[(datetime.timedelta(0, 444, 399000),)]"
      ]
     },
     "execution_count": 12,
     "metadata": {},
     "output_type": "execute_result"
    }
   ],
   "source": [
    "%%sql\n",
    "select sum(ended-started) from jobs where ended is not NULL;"
   ]
  },
  {
   "cell_type": "code",
   "execution_count": 13,
   "metadata": {},
   "outputs": [
    {
     "name": "stdout",
     "output_type": "stream",
     "text": [
      " * postgresql://postgres@localhost:3333/postgres\n",
      "1 rows affected.\n"
     ]
    },
    {
     "data": {
      "text/html": [
       "<table>\n",
       "    <tr>\n",
       "        <th>count</th>\n",
       "    </tr>\n",
       "    <tr>\n",
       "        <td>0</td>\n",
       "    </tr>\n",
       "</table>"
      ],
      "text/plain": [
       "[(0,)]"
      ]
     },
     "execution_count": 13,
     "metadata": {},
     "output_type": "execute_result"
    }
   ],
   "source": [
    "%%sql\n",
    "select count(*) from jobs where status like '%Exception%';"
   ]
  },
  {
   "cell_type": "code",
   "execution_count": 14,
   "metadata": {},
   "outputs": [
    {
     "name": "stdout",
     "output_type": "stream",
     "text": [
      " * postgresql://postgres@localhost:3333/postgres\n",
      "1 rows affected.\n"
     ]
    },
    {
     "data": {
      "text/html": [
       "<table>\n",
       "    <tr>\n",
       "        <th>count</th>\n",
       "    </tr>\n",
       "    <tr>\n",
       "        <td>7</td>\n",
       "    </tr>\n",
       "</table>"
      ],
      "text/plain": [
       "[(7,)]"
      ]
     },
     "execution_count": 14,
     "metadata": {},
     "output_type": "execute_result"
    }
   ],
   "source": [
    "%%sql\n",
    "select count(*) from jobs where status = 'acquired';"
   ]
  },
  {
   "cell_type": "code",
   "execution_count": 28,
   "metadata": {},
   "outputs": [
    {
     "name": "stdout",
     "output_type": "stream",
     "text": [
      " * postgresql://postgres@localhost:3333/postgres\n",
      "237 rows affected.\n"
     ]
    },
    {
     "data": {
      "image/png": "[encoded data removed]",
      "text/plain": [
       "<Figure size 432x288 with 1 Axes>"
      ]
     },
     "metadata": {},
     "output_type": "display_data"
    }
   ],
   "source": [
    "queryTime = %sql select querytime from results;\n",
    "plt = queryTime.DataFrame().plot.hist(bins=32)\n",
    "plt.set_yscale('log')"
   ]
  },
  {
   "cell_type": "code",
   "execution_count": 16,
   "metadata": {},
   "outputs": [
    {
     "name": "stdout",
     "output_type": "stream",
     "text": [
      " * postgresql://postgres@localhost:3333/postgres\n",
      "1 rows affected.\n"
     ]
    },
    {
     "data": {
      "text/html": [
       "<table>\n",
       "    <tr>\n",
       "        <th>sum</th>\n",
       "    </tr>\n",
       "    <tr>\n",
       "        <td>106</td>\n",
       "    </tr>\n",
       "</table>"
      ],
      "text/plain": [
       "[(106,)]"
      ]
     },
     "execution_count": 16,
     "metadata": {},
     "output_type": "execute_result"
    }
   ],
   "source": [
    "%%sql\n",
    "select sum(querytime) from results;"
   ]
  },
  {
   "cell_type": "code",
   "execution_count": 31,
   "metadata": {},
   "outputs": [
    {
     "name": "stdout",
     "output_type": "stream",
     "text": [
      " * postgresql://postgres@localhost:3333/postgres\n",
      "5 rows affected.\n"
     ]
    },
    {
     "data": {
      "text/html": [
       "<table>\n",
       "    <tr>\n",
       "        <th>result</th>\n",
       "        <th>count</th>\n",
       "    </tr>\n",
       "    <tr>\n",
       "        <td>&quot;Witnessed&quot;</td>\n",
       "        <td>10</td>\n",
       "    </tr>\n",
       "    <tr>\n",
       "        <td>&quot;Timeout&quot;</td>\n",
       "        <td>13</td>\n",
       "    </tr>\n",
       "    <tr>\n",
       "        <td>&quot;Itimeout&quot;</td>\n",
       "        <td>2</td>\n",
       "    </tr>\n",
       "    <tr>\n",
       "        <td>&quot;Unreachable&quot;</td>\n",
       "        <td>208</td>\n",
       "    </tr>\n",
       "    <tr>\n",
       "        <td>&quot;Proven&quot;</td>\n",
       "        <td>453</td>\n",
       "    </tr>\n",
       "</table>"
      ],
      "text/plain": [
       "[('\"Witnessed\"', 10),\n",
       " ('\"Timeout\"', 13),\n",
       " ('\"Itimeout\"', 2),\n",
       " ('\"Unreachable\"', 208),\n",
       " ('\"Proven\"', 453)]"
      ]
     },
     "execution_count": 31,
     "metadata": {},
     "output_type": "execute_result"
    }
   ],
   "source": [
    "%%sql \n",
    "select result,count(*) from results group by result;"
   ]
  },
  {
   "cell_type": "markdown",
   "metadata": {},
   "source": [
    "TODO:\n",
    "- use some other tool to get rid of simple deref like hopper\n",
    "\n",
    "- [ ] break down proven number more and remove trivial things e.g.\n",
    "void myMethod(v){\n",
    "   v.foo(); // alarm\n",
    "   v.bar(); // no alarm\n",
    " \n",
    "- [ ] motivate why type based techniques aren't enough"
   ]
  },
  {
   "cell_type": "markdown",
   "metadata": {},
   "source": [
    "Triage witness results\n",
    "----------------------"
   ]
  },
  {
   "cell_type": "code",
   "execution_count": 20,
   "metadata": {},
   "outputs": [
    {
     "name": "stdout",
     "output_type": "stream",
     "text": [
      " * postgresql://postgres@localhost:5433/postgres\n",
      "10 rows affected.\n"
     ]
    },
    {
     "data": {
      "text/html": [
       "<table>\n",
       "    <tr>\n",
       "        <th>id</th>\n",
       "        <th>jobid</th>\n",
       "        <th>resultdata</th>\n",
       "        <th>clazz</th>\n",
       "        <th>?column?</th>\n",
       "    </tr>\n",
       "    <tr>\n",
       "        <td>1535</td>\n",
       "        <td>132</td>\n",
       "        <td>134</td>\n",
       "        <td>itkach.aard2.FileSelectListAdapter$2</td>\n",
       "        <td>[&quot;itkach.aard2.FileSelectListAdapter$2&quot;,&quot;java.io.File&quot;,&quot;java.io.File&quot;]</td>\n",
       "    </tr>\n",
       "    <tr>\n",
       "        <td>4137</td>\n",
       "        <td>363</td>\n",
       "        <td>316</td>\n",
       "        <td>com.serwylo.lexica.Lexica</td>\n",
       "        <td>[&quot;com.serwylo.lexica.Lexica&quot;]</td>\n",
       "    </tr>\n",
       "    <tr>\n",
       "        <td>6042</td>\n",
       "        <td>24</td>\n",
       "        <td>376</td>\n",
       "        <td>itkach.aard2.SlobDescriptorList$1</td>\n",
       "        <td>[&quot;itkach.aard2.SlobDescriptorList$1&quot;,&quot;itkach.aard2.SlobDescriptor&quot;,&quot;itkach.aard2.SlobDescriptor&quot;]</td>\n",
       "    </tr>\n",
       "    <tr>\n",
       "        <td>2212</td>\n",
       "        <td>111</td>\n",
       "        <td>148</td>\n",
       "        <td>itkach.slob.Slob$Blob</td>\n",
       "        <td>[&quot;itkach.slob.Slob$Blob&quot;]</td>\n",
       "    </tr>\n",
       "    <tr>\n",
       "        <td>3874</td>\n",
       "        <td>342</td>\n",
       "        <td>303</td>\n",
       "        <td>com.serwylo.lexica.LexicaConfig</td>\n",
       "        <td>[&quot;com.serwylo.lexica.LexicaConfig&quot;]</td>\n",
       "    </tr>\n",
       "    <tr>\n",
       "        <td>6764</td>\n",
       "        <td>321</td>\n",
       "        <td>385</td>\n",
       "        <td>com.serwylo.lexica.view.BoardView</td>\n",
       "        <td>[&quot;com.serwylo.lexica.view.BoardView&quot;,&quot;android.content.Context&quot;,&quot;android.util.AttributeSet&quot;]</td>\n",
       "    </tr>\n",
       "    <tr>\n",
       "        <td>466</td>\n",
       "        <td>20</td>\n",
       "        <td>59</td>\n",
       "        <td>itkach.aard2.DictionaryFinder$2</td>\n",
       "        <td>[&quot;itkach.aard2.DictionaryFinder$2&quot;,&quot;java.io.File&quot;,&quot;java.lang.String&quot;]</td>\n",
       "    </tr>\n",
       "    <tr>\n",
       "        <td>2418</td>\n",
       "        <td>163</td>\n",
       "        <td>170</td>\n",
       "        <td>itkach.slobber.Slobber$LogFormatter</td>\n",
       "        <td>[&quot;itkach.slobber.Slobber$LogFormatter&quot;,&quot;java.util.logging.LogRecord&quot;]</td>\n",
       "    </tr>\n",
       "    <tr>\n",
       "        <td>2798</td>\n",
       "        <td>246</td>\n",
       "        <td>208</td>\n",
       "        <td>itkach.aard2.DictionaryListAdapter$4</td>\n",
       "        <td>[&quot;itkach.aard2.DictionaryListAdapter$4&quot;,&quot;android.view.View&quot;]</td>\n",
       "    </tr>\n",
       "    <tr>\n",
       "        <td>1534</td>\n",
       "        <td>132</td>\n",
       "        <td>134</td>\n",
       "        <td>itkach.aard2.FileSelectListAdapter$2</td>\n",
       "        <td>[&quot;itkach.aard2.FileSelectListAdapter$2&quot;,&quot;java.io.File&quot;,&quot;java.io.File&quot;]</td>\n",
       "    </tr>\n",
       "</table>"
      ],
      "text/plain": [
       "[(1535, 132, 134, 'itkach.aard2.FileSelectListAdapter$2', '[\"itkach.aard2.FileSelectListAdapter$2\",\"java.io.File\",\"java.io.File\"]'),\n",
       " (4137, 363, 316, 'com.serwylo.lexica.Lexica', '[\"com.serwylo.lexica.Lexica\"]'),\n",
       " (6042, 24, 376, 'itkach.aard2.SlobDescriptorList$1', '[\"itkach.aard2.SlobDescriptorList$1\",\"itkach.aard2.SlobDescriptor\",\"itkach.aard2.SlobDescriptor\"]'),\n",
       " (2212, 111, 148, 'itkach.slob.Slob$Blob', '[\"itkach.slob.Slob$Blob\"]'),\n",
       " (3874, 342, 303, 'com.serwylo.lexica.LexicaConfig', '[\"com.serwylo.lexica.LexicaConfig\"]'),\n",
       " (6764, 321, 385, 'com.serwylo.lexica.view.BoardView', '[\"com.serwylo.lexica.view.BoardView\",\"android.content.Context\",\"android.util.AttributeSet\"]'),\n",
       " (466, 20, 59, 'itkach.aard2.DictionaryFinder$2', '[\"itkach.aard2.DictionaryFinder$2\",\"java.io.File\",\"java.lang.String\"]'),\n",
       " (2418, 163, 170, 'itkach.slobber.Slobber$LogFormatter', '[\"itkach.slobber.Slobber$LogFormatter\",\"java.util.logging.LogRecord\"]'),\n",
       " (2798, 246, 208, 'itkach.aard2.DictionaryListAdapter$4', '[\"itkach.aard2.DictionaryListAdapter$4\",\"android.view.View\"]'),\n",
       " (1534, 132, 134, 'itkach.aard2.FileSelectListAdapter$2', '[\"itkach.aard2.FileSelectListAdapter$2\",\"java.io.File\",\"java.io.File\"]')]"
      ]
     },
     "execution_count": 20,
     "metadata": {},
     "output_type": "execute_result"
    }
   ],
   "source": [
    "%%sql \n",
    "select id,jobid,resultdata,loc::json->'method'->>1 as clazz,loc::json->'method'->>2 from results \n",
    "                where result = '\"Witnessed\"' order by random() limit 10;"
   ]
  },
  {
   "cell_type": "raw",
   "metadata": {},
   "source": [
    "TODO: check that all these witnesses exist in fixed\n",
    "\n",
    "NI(ci l.add(v), ci l.remove(v) ) /\\ NI(ci l.add(v2), ci l.remove(v2)) /\\ NI(ci l.sort(c), ci l.add(v)) /\\ NI(ci l.sort(c), ci l.add(v2))\n",
    "   <= cb c.compare(v,v2)\n",
    "\n",
    "\n",
    "id\tjobid\tresultdata\tclazz\t?column?\n",
    "5929\t202\t368\titkach.aard2.DictionaryListAdapter$3\t[\"itkach.aard2.DictionaryListAdapter$3\",\"android.view.View\"]\n",
    "    # simple annotation: on click cant have null arg\n",
    "   \n",
    "3866\t342\t303\tcom.serwylo.lexica.LexicaConfig\t[\"com.serwylo.lexica.LexicaConfig\",\"android.preference.Preference\"]\n",
    "    # simple annotation: onPreferencesClick cant have null arg\n",
    "    \n",
    "3868\t342\t303\tcom.serwylo.lexica.LexicaConfig\t[\"com.serwylo.lexica.LexicaConfig\",\"android.preference.Preference\"]\n",
    "    # simple annotation: setNavigationButton can't return null\n",
    "    \n",
    "6043\t24\t376\titkach.aard2.SlobDescriptorList$1\t[\"itkach.aard2.SlobDescriptorList$1\",\"itkach.aard2.SlobDescriptor\",\"itkach.aard2.SlobDescriptor\"]\n",
    "    # null value ncolr collection type prohibits null value\n",
    "    # specify on java AbstractList\n",
    "    \n",
    "3229\t188\t236\titkach.aard2.DictionariesFragment\t[\"itkach.aard2.DictionariesFragment\",\"android.view.Menu\",\"android.view.MenuInflater\"]\n",
    "    # simple annotation: onCreateOptionsMenu argument probably can't be null\n",
    "    \n",
    "1051\t81\t87\titkach.aard2.FileSelectListAdapter\t[\"itkach.aard2.FileSelectListAdapter\",\"int\"]\n",
    "    # specification: BaseAdapter getItemViewType invoked after parent activity onOptionsItemSelected\n",
    "    \n",
    "6055\t24\t376\titkach.aard2.SlobDescriptorList$1\t[\"itkach.aard2.SlobDescriptorList$1\",\"itkach.aard2.SlobDescriptor\",\"itkach.aard2.SlobDescriptor\"]\n",
    "    # null value never entered into collection or collection type prohibits null value\n",
    "    \n",
    "119\t225\t6\titkach.aard2.BlobDescriptorList$3\t[\"itkach.aard2.BlobDescriptorList$3\",\"itkach.aard2.BlobDescriptor\",\"itkach.aard2.BlobDescriptor\"]\n",
    "    # null value never entered into collection or collection type prohibits null value\n",
    "    \n",
    "3367\t289\t263\titkach.aard2.MainActivity$HistoryFragment\t[\"itkach.aard2.MainActivity$HistoryFragment\"]\n",
    "    # onPrepareOptionsMenu happens after onActivityCreated in fragment + getActivity spec from ap\n",
    "    \n",
    "7505\t319\t387\tcom.serwylo.lexica.view.LexicaView\t[\"com.serwylo.lexica.view.LexicaView\",\"int\",\"android.view.KeyEvent\"]\n",
    "    # simple annotation getUnicodeCharacter + casts never results in null\n",
    "\n",
    "\n",
    "total: \n",
    "5 simple annotation\n",
    "5 multi callback specs needed\n",
    "\n",
    "2 probably share a multi callback spec\n",
    "1 multi callback spec can probably be used from antennapod\n"
   ]
  },
  {
   "cell_type": "code",
   "execution_count": 132,
   "metadata": {},
   "outputs": [
    {
     "name": "stdout",
     "output_type": "stream",
     "text": [
      " * postgresql://postgres@localhost:3333/postgres\n",
      "1 rows affected.\n"
     ]
    },
    {
     "data": {
      "text/html": [
       "<table>\n",
       "    <tr>\n",
       "        <th>id</th>\n",
       "        <th>jobid</th>\n",
       "        <th>resultdata</th>\n",
       "        <th>clazz</th>\n",
       "        <th>?column?</th>\n",
       "    </tr>\n",
       "    <tr>\n",
       "        <td>7505</td>\n",
       "        <td>319</td>\n",
       "        <td>387</td>\n",
       "        <td>com.serwylo.lexica.view.LexicaView</td>\n",
       "        <td>{&#x27;id&#x27;: 1707901480, &#x27;str&#x27;: &#x27;line: 436 $i0 = virtualinvoke $r1.&lt;android.view.KeyEvent: int getUnicodeChar()&gt;()&#x27;}</td>\n",
       "    </tr>\n",
       "</table>"
      ],
      "text/plain": [
       "[(7505, 319, 387, 'com.serwylo.lexica.view.LexicaView', {'id': 1707901480, 'str': 'line: 436 $i0 = virtualinvoke $r1.<android.view.KeyEvent: int getUnicodeChar()>()'})]"
      ]
     },
     "execution_count": 132,
     "metadata": {},
     "output_type": "execute_result"
    }
   ],
   "source": [
    "%%sql \n",
    "select id,jobid,resultdata,loc::json->'method'->>1 as clazz, loc::json->'line' from results \n",
    "                where result = '\"Witnessed\"' and id = 7505;"
   ]
  },
  {
   "cell_type": "markdown",
   "metadata": {},
   "source": [
    "Triage unreachable results\n",
    "--------------------------"
   ]
  },
  {
   "cell_type": "code",
   "execution_count": 55,
   "metadata": {},
   "outputs": [
    {
     "name": "stdout",
     "output_type": "stream",
     "text": [
      " * postgresql://postgres@localhost:5433/postgres\n",
      "5 rows affected.\n"
     ]
    },
    {
     "data": {
      "text/html": [
       "<table>\n",
       "    <tr>\n",
       "        <th>id</th>\n",
       "        <th>jobid</th>\n",
       "        <th>resultdata</th>\n",
       "        <th>clazz</th>\n",
       "        <th>?column?</th>\n",
       "    </tr>\n",
       "    <tr>\n",
       "        <td>3126</td>\n",
       "        <td>264</td>\n",
       "        <td>229</td>\n",
       "        <td>itkach.aard2.DictionaryListAdapter$5</td>\n",
       "        <td>[&quot;itkach.aard2.DictionaryListAdapter$5&quot;,&quot;android.view.View&quot;]</td>\n",
       "    </tr>\n",
       "    <tr>\n",
       "        <td>7650</td>\n",
       "        <td>319</td>\n",
       "        <td>387</td>\n",
       "        <td>com.serwylo.lexica.view.LexicaView</td>\n",
       "        <td>[&quot;com.serwylo.lexica.view.LexicaView&quot;,&quot;android.graphics.Canvas&quot;]</td>\n",
       "    </tr>\n",
       "    <tr>\n",
       "        <td>4275</td>\n",
       "        <td>312</td>\n",
       "        <td>328</td>\n",
       "        <td>com.serwylo.lexica.ScoreActivity$DefinerListener</td>\n",
       "        <td>[&quot;com.serwylo.lexica.ScoreActivity$DefinerListener&quot;,&quot;android.view.View&quot;]</td>\n",
       "    </tr>\n",
       "    <tr>\n",
       "        <td>872</td>\n",
       "        <td>69</td>\n",
       "        <td>77</td>\n",
       "        <td>org.tukaani.xz.LZMA2OutputStream</td>\n",
       "        <td>[&quot;org.tukaani.xz.LZMA2OutputStream&quot;]</td>\n",
       "    </tr>\n",
       "    <tr>\n",
       "        <td>3889</td>\n",
       "        <td>356</td>\n",
       "        <td>308</td>\n",
       "        <td>com.serwylo.lexica.Lexica$4</td>\n",
       "        <td>[&quot;com.serwylo.lexica.Lexica$4&quot;,&quot;android.view.View&quot;]</td>\n",
       "    </tr>\n",
       "</table>"
      ],
      "text/plain": [
       "[(3126, 264, 229, 'itkach.aard2.DictionaryListAdapter$5', '[\"itkach.aard2.DictionaryListAdapter$5\",\"android.view.View\"]'),\n",
       " (7650, 319, 387, 'com.serwylo.lexica.view.LexicaView', '[\"com.serwylo.lexica.view.LexicaView\",\"android.graphics.Canvas\"]'),\n",
       " (4275, 312, 328, 'com.serwylo.lexica.ScoreActivity$DefinerListener', '[\"com.serwylo.lexica.ScoreActivity$DefinerListener\",\"android.view.View\"]'),\n",
       " (872, 69, 77, 'org.tukaani.xz.LZMA2OutputStream', '[\"org.tukaani.xz.LZMA2OutputStream\"]'),\n",
       " (3889, 356, 308, 'com.serwylo.lexica.Lexica$4', '[\"com.serwylo.lexica.Lexica$4\",\"android.view.View\"]')]"
      ]
     },
     "execution_count": 55,
     "metadata": {},
     "output_type": "execute_result"
    }
   ],
   "source": [
    "%sql select id,jobid,resultdata,loc::json->'method'->>1 as clazz, loc::json->'method'->>2 \n",
    "                from results where result = '\"Unreachable\"' order by random() limit 5;\n",
    "#unreachable.DataFrame().to_markdown()"
   ]
  },
  {
   "cell_type": "markdown",
   "metadata": {},
   "source": [
    "TODO\n"
   ]
  },
  {
   "cell_type": "code",
   "execution_count": 61,
   "metadata": {},
   "outputs": [
    {
     "name": "stdout",
     "output_type": "stream",
     "text": [
      " * postgresql://postgres@localhost:5433/postgres\n",
      "1 rows affected.\n"
     ]
    },
    {
     "data": {
      "text/html": [
       "<table>\n",
       "    <tr>\n",
       "        <th>id</th>\n",
       "        <th>jobid</th>\n",
       "        <th>resultdata</th>\n",
       "        <th>clazz</th>\n",
       "        <th>mname</th>\n",
       "        <th>location</th>\n",
       "    </tr>\n",
       "    <tr>\n",
       "        <td>3306</td>\n",
       "        <td>280</td>\n",
       "        <td>245</td>\n",
       "        <td>itkach.aard2.SettingsListAdapter$5</td>\n",
       "        <td>void onClick(android.view.View)</td>\n",
       "        <td>{&quot;id&quot;:1598434875,&quot;str&quot;:&quot;line: 244 \\$r3 = r0.&lt;itkach.aard2.SettingsListAdapter\\$5: itkach.aard2.SettingsListAdapter this\\$0&gt;&quot;}</td>\n",
       "    </tr>\n",
       "</table>"
      ],
      "text/plain": [
       "[(3306, 280, 245, 'itkach.aard2.SettingsListAdapter$5', 'void onClick(android.view.View)', '{\"id\":1598434875,\"str\":\"line: 244 \\\\$r3 = r0.<itkach.aard2.SettingsListAdapter\\\\$5: itkach.aard2.SettingsListAdapter this\\\\$0>\"}')]"
      ]
     },
     "execution_count": 61,
     "metadata": {},
     "output_type": "execute_result"
    }
   ],
   "source": [
    "%%sql\n",
    "select id,jobid,resultdata,loc::json->'method'->>1 as clazz, \n",
    "        replace(cast(loc::json->'method'->>0 as varchar),'$','\\$') as mname, \n",
    "        replace(cast(loc::json->'line' as varchar),'$','\\$') as location \n",
    "        from results where id = 3306;"
   ]
  },
  {
   "cell_type": "code",
   "execution_count": 62,
   "metadata": {},
   "outputs": [
    {
     "name": "stdout",
     "output_type": "stream",
     "text": [
      " * postgresql://postgres@localhost:5433/postgres\n",
      "2 rows affected.\n"
     ]
    },
    {
     "data": {
      "text/html": [
       "<table>\n",
       "    <tr>\n",
       "        <th>id</th>\n",
       "        <th>result</th>\n",
       "        <th>location</th>\n",
       "    </tr>\n",
       "    <tr>\n",
       "        <td>3305</td>\n",
       "        <td>&quot;Unreachable&quot;</td>\n",
       "        <td>{&quot;id&quot;:1300528434,&quot;str&quot;:&quot;line: 244 \\$r3 = r0.&lt;itkach.aard2.SettingsListAdapter\\$5: itkach.aard2.SettingsListAdapter this\\$0&gt;&quot;}</td>\n",
       "    </tr>\n",
       "    <tr>\n",
       "        <td>3306</td>\n",
       "        <td>&quot;Unreachable&quot;</td>\n",
       "        <td>{&quot;id&quot;:1598434875,&quot;str&quot;:&quot;line: 244 \\$r3 = r0.&lt;itkach.aard2.SettingsListAdapter\\$5: itkach.aard2.SettingsListAdapter this\\$0&gt;&quot;}</td>\n",
       "    </tr>\n",
       "</table>"
      ],
      "text/plain": [
       "[(3305, '\"Unreachable\"', '{\"id\":1300528434,\"str\":\"line: 244 \\\\$r3 = r0.<itkach.aard2.SettingsListAdapter\\\\$5: itkach.aard2.SettingsListAdapter this\\\\$0>\"}'),\n",
       " (3306, '\"Unreachable\"', '{\"id\":1598434875,\"str\":\"line: 244 \\\\$r3 = r0.<itkach.aard2.SettingsListAdapter\\\\$5: itkach.aard2.SettingsListAdapter this\\\\$0>\"}')]"
      ]
     },
     "execution_count": 62,
     "metadata": {},
     "output_type": "execute_result"
    }
   ],
   "source": [
    "%%sql\n",
    "select id,result,replace(cast(loc::json->'line' as varchar),'$','\\$') as location \n",
    "    from results where loc like '%244 $r3%';"
   ]
  },
  {
   "cell_type": "code",
   "execution_count": 48,
   "metadata": {},
   "outputs": [
    {
     "name": "stdout",
     "output_type": "stream",
     "text": [
      " * postgresql://postgres@localhost:5433/postgres\n",
      "1 rows affected.\n"
     ]
    },
    {
     "data": {
      "text/html": [
       "<table>\n",
       "    <tr>\n",
       "        <th>replace</th>\n",
       "    </tr>\n",
       "    <tr>\n",
       "        <td>{&quot;\\$type&quot;:&quot;edu.colorado.plv.bounder.ir.AppLoc&quot;,&quot;method&quot;:[&quot;itkach.slob.Slob\\$Blob run(itkach.slob.Slob\\$RandomAccessFile)&quot;,&quot;itkach.slob.Slob\\$4&quot;,[&quot;itkach.slob.Slob\\$4&quot;,&quot;itkach.slob.Slob\\$RandomAccessFile&quot;],[&quot;[{\\&quot;name\\&quot;:\\&quot;@this\\&quot;,\\&quot;localType\\&quot;:\\&quot;itkach.slob.Slob\\$4\\&quot;}]&quot;,&quot;[{\\&quot;name\\&quot;:\\&quot;@parameter0\\&quot;,\\&quot;localType\\&quot;:\\&quot;itkach.slob.Slob\\$RandomAccessFile\\&quot;}]&quot;]],&quot;line&quot;:{&quot;id&quot;:1316001196,&quot;str&quot;:&quot;line: 855 \\$r1 = r0.&lt;itkach.slob.Slob\\$4: itkach.slob.Slob this\\$0&gt;&quot;},&quot;isPre&quot;:true}</td>\n",
       "    </tr>\n",
       "</table>"
      ],
      "text/plain": [
       "[('{\"\\\\$type\":\"edu.colorado.plv.bounder.ir.AppLoc\",\"method\":[\"itkach.slob.Slob\\\\$Blob run(itkach.slob.Slob\\\\$RandomAccessFile)\",\"itkach.slob.Slob\\\\$4\",[ ... (198 characters truncated) ... Slob\\\\$RandomAccessFile\\\\\"}]\"]],\"line\":{\"id\":1316001196,\"str\":\"line: 855 \\\\$r1 = r0.<itkach.slob.Slob\\\\$4: itkach.slob.Slob this\\\\$0>\"},\"isPre\":true}',)]"
      ]
     },
     "execution_count": 48,
     "metadata": {},
     "output_type": "execute_result"
    }
   ],
   "source": [
    "%%sql\n",
    "select replace(cast(loc as varchar),'$','\\$') from results where id = 1494;"
   ]
  },
  {
   "cell_type": "markdown",
   "metadata": {},
   "source": [
    "Size of postgres data\n",
    "====================="
   ]
  },
  {
   "cell_type": "code",
   "execution_count": 73,
   "metadata": {},
   "outputs": [
    {
     "name": "stdout",
     "output_type": "stream",
     "text": [
      " * postgresql://postgres@localhost:3333/postgres\n",
      "5 rows affected.\n"
     ]
    },
    {
     "data": {
      "text/html": [
       "<table>\n",
       "    <tr>\n",
       "        <th>table_schema</th>\n",
       "        <th>table_name</th>\n",
       "        <th>row_estimate</th>\n",
       "        <th>total</th>\n",
       "        <th>index</th>\n",
       "        <th>toast</th>\n",
       "        <th>table</th>\n",
       "    </tr>\n",
       "    <tr>\n",
       "        <td>public</td>\n",
       "        <td>resultdata</td>\n",
       "        <td>317.0</td>\n",
       "        <td>334 MB</td>\n",
       "        <td>16 kB</td>\n",
       "        <td>334 MB</td>\n",
       "        <td>48 kB</td>\n",
       "    </tr>\n",
       "    <tr>\n",
       "        <td>public</td>\n",
       "        <td>apks</td>\n",
       "        <td>0.0</td>\n",
       "        <td>70 MB</td>\n",
       "        <td>0 bytes</td>\n",
       "        <td>70 MB</td>\n",
       "        <td>8192 bytes</td>\n",
       "    </tr>\n",
       "    <tr>\n",
       "        <td>public</td>\n",
       "        <td>results</td>\n",
       "        <td>7767.0</td>\n",
       "        <td>6472 kB</td>\n",
       "        <td>192 kB</td>\n",
       "        <td>8192 bytes</td>\n",
       "        <td>6272 kB</td>\n",
       "    </tr>\n",
       "    <tr>\n",
       "        <td>pg_catalog</td>\n",
       "        <td>pg_depend</td>\n",
       "        <td>7725.0</td>\n",
       "        <td>1120 kB</td>\n",
       "        <td>624 kB</td>\n",
       "        <td>None</td>\n",
       "        <td>496 kB</td>\n",
       "    </tr>\n",
       "    <tr>\n",
       "        <td>pg_catalog</td>\n",
       "        <td>pg_proc</td>\n",
       "        <td>3034.0</td>\n",
       "        <td>1024 kB</td>\n",
       "        <td>336 kB</td>\n",
       "        <td>8192 bytes</td>\n",
       "        <td>680 kB</td>\n",
       "    </tr>\n",
       "</table>"
      ],
      "text/plain": [
       "[('public', 'resultdata', 317.0, '334 MB', '16 kB', '334 MB', '48 kB'),\n",
       " ('public', 'apks', 0.0, '70 MB', '0 bytes', '70 MB', '8192 bytes'),\n",
       " ('public', 'results', 7767.0, '6472 kB', '192 kB', '8192 bytes', '6272 kB'),\n",
       " ('pg_catalog', 'pg_depend', 7725.0, '1120 kB', '624 kB', None, '496 kB'),\n",
       " ('pg_catalog', 'pg_proc', 3034.0, '1024 kB', '336 kB', '8192 bytes', '680 kB')]"
      ]
     },
     "execution_count": 73,
     "metadata": {},
     "output_type": "execute_result"
    }
   ],
   "source": [
    "%%sql\n",
    "WITH RECURSIVE pg_inherit(inhrelid, inhparent) AS\n",
    "    (select inhrelid, inhparent\n",
    "    FROM pg_inherits\n",
    "    UNION\n",
    "    SELECT child.inhrelid, parent.inhparent\n",
    "    FROM pg_inherit child, pg_inherits parent\n",
    "    WHERE child.inhparent = parent.inhrelid),\n",
    "pg_inherit_short AS (SELECT * FROM pg_inherit WHERE inhparent NOT IN (SELECT inhrelid FROM pg_inherit))\n",
    "SELECT table_schema\n",
    "    , TABLE_NAME\n",
    "    , row_estimate\n",
    "    , pg_size_pretty(total_bytes) AS total\n",
    "    , pg_size_pretty(index_bytes) AS INDEX\n",
    "    , pg_size_pretty(toast_bytes) AS toast\n",
    "    , pg_size_pretty(table_bytes) AS TABLE\n",
    "  FROM (\n",
    "    SELECT *, total_bytes-index_bytes-COALESCE(toast_bytes,0) AS table_bytes\n",
    "    FROM (\n",
    "         SELECT c.oid\n",
    "              , nspname AS table_schema\n",
    "              , relname AS TABLE_NAME\n",
    "              , SUM(c.reltuples) OVER (partition BY parent) AS row_estimate\n",
    "              , SUM(pg_total_relation_size(c.oid)) OVER (partition BY parent) AS total_bytes\n",
    "              , SUM(pg_indexes_size(c.oid)) OVER (partition BY parent) AS index_bytes\n",
    "              , SUM(pg_total_relation_size(reltoastrelid)) OVER (partition BY parent) AS toast_bytes\n",
    "              , parent\n",
    "          FROM (\n",
    "                SELECT pg_class.oid\n",
    "                    , reltuples\n",
    "                    , relname\n",
    "                    , relnamespace\n",
    "                    , pg_class.reltoastrelid\n",
    "                    , COALESCE(inhparent, pg_class.oid) parent\n",
    "                FROM pg_class\n",
    "                    LEFT JOIN pg_inherit_short ON inhrelid = oid\n",
    "                WHERE relkind IN ('r', 'p')\n",
    "             ) c\n",
    "             LEFT JOIN pg_namespace n ON n.oid = c.relnamespace\n",
    "  ) a\n",
    "  WHERE oid = parent\n",
    ") a\n",
    "ORDER BY total_bytes DESC limit 5;"
   ]
  },
  {
   "cell_type": "markdown",
   "metadata": {},
   "source": [
    "- [ ] can we partition locations into places that are \"reasonably sound\"\n",
    "- [ ] easier story to say \"we did every dereference site\" for 6 apps\n",
    "- [ ] witnessed is a terrible name, should be \"alarm\""
   ]
  }
 ],
 "metadata": {
  "kernelspec": {
   "display_name": "Python 3",
   "language": "python",
   "name": "python3"
  },
  "language_info": {
   "codemirror_mode": {
    "name": "ipython",
    "version": 3
   },
   "file_extension": ".py",
   "mimetype": "text/x-python",
   "name": "python",
   "nbconvert_exporter": "python",
   "pygments_lexer": "ipython3",
   "version": "3.6.5"
  }
 },
 "nbformat": 4,
 "nbformat_minor": 4
}
