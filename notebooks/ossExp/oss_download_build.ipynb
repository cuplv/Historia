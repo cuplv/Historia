{
 "cells": [
  {
   "cell_type": "code",
   "execution_count": 1,
   "metadata": {},
   "outputs": [
    {
     "name": "stdout",
     "output_type": "stream",
     "text": [
      "env: DATADIR=\"/home/s/Documents/data/ossExperiment\"\n"
     ]
    }
   ],
   "source": [
    "# Config\n",
    "\n",
    "import os\n",
    "import subprocess\n",
    "import glob\n",
    "%env DATADIR = \"/home/s/Documents/data/ossExperiment\"\n",
    "DATADIR = os.environ.get(\"DATADIR\")[1:-1]\n"
   ]
  },
  {
   "cell_type": "code",
   "execution_count": null,
   "metadata": {},
   "outputs": [],
   "source": [
    "#benchmarks\n",
    "class Benchmark:\n",
    "    def __init__(self, name,url,commitHash,primaryApk,pkg):\n",
    "        self.name = name\n",
    "        self.url = url\n",
    "        self.commitHash = commitHash\n",
    "        # self.print = lambda x:x\n",
    "        self.print = print\n",
    "        self.workDir = DATADIR + \"/\" + self.name\n",
    "        self.primaryApk = primaryApk\n",
    "        self.pkg = pkg\n",
    "    def clone(self):\n",
    "        #subprocess.Popen([\"touch\",\"abcdefghij\"], cwd=DATADIR)\n",
    "        cmd = [\"git\", \"clone\", self.url]\n",
    "        self.print(\"cloning: %s -- %s\" % (self.url,str(cmd)))\n",
    "        p1 = subprocess.Popen([\"git\", \"clone\", self.url],cwd=DATADIR,stdout=subprocess.PIPE)\n",
    "        output,error = p1.communicate()\n",
    "        self.print(\"output:\\n %s\" % output)\n",
    "        self.print(\"error:\\n %s\" % error)\n",
    "        self.print(\"checking out hash: %s\" % self.commitHash)\n",
    "        p2 = subprocess.Popen([\"git\", \"checkout\", self.commitHash])\n",
    "        output,error = p2.communicate()\n",
    "        self.print(\"output:\\n %s\" % output)\n",
    "        self.print(\"error:\\n %s\" % error)\n",
    "    def build(self):\n",
    "        p2 = subprocess.Popen([\"jenv\", \"local\", \"13.0.1\"])\n",
    "        p2.communicate()\n",
    "        output,error = p2.communicate()\n",
    "        self.print(\"output:\\n %s\" % output)\n",
    "        self.print(\"error:\\n %s\" % error)\n",
    "        cmd = [\"./gradlew\",\"assembleDebug\"]\n",
    "        p = subprocess.Popen(cmd, cwd=self.workDir, stdout=subprocess.PIPE)\n",
    "        output,error = p.communicate()\n",
    "        self.print(\"output:\\n %s\" % output)\n",
    "        self.print(\"error:\\n %s\" % error)\n",
    "    def findApk(self):\n",
    "        foundApks = glob.glob(\"%s/**/*.apk\" % self.workDir,recursive=True)\n",
    "        return [f for f in foundApks if self.primaryApk in f][0]\n",
    "        \n",
    "        \n",
    "benchmarks = [ \n",
    "    Benchmark('AntennaPod','https://github.com/AntennaPod/AntennaPod.git','88289d0','app-free-debug', 'de.danoeh.antennapod'), \n",
    "    Benchmark('connectbot','https://github.com/connectbot/connectbot.git','7b6973f','app-google-debug', 'org.connectbot'), \n",
    "    Benchmark('sgtpuzzles','https://github.com/chrisboyle/sgtpuzzles.git','83d3859','app-debug', 'name.boyle.chris'),\n",
    "    Benchmark('duckduckgo', 'https://github.com/duckduckgo/android.git', '87680ed7f417c684b2dc5541a81bbe0bddaea310', 'internal-debug', 'com.duckduckgo'),\n",
    "    Benchmark('k-9', 'https://github.com/thundernest/k-9.git', '679a2648c7dcbaf237f487f5dd1011c4dd6d4482', 'k9mail-debug', 'com.fsck.k9'),\n",
    "    Benchmark('SeriesGuide', 'https://github.com/UweTrottmann/SeriesGuide.git', '2f2c16902a2cf9f4499f2ba9bfe8243648d2bbda', 'app-pure-debug', 'com.uwetrottmann.seriesguide'),\n",
    "    Benchmark('WordPress-Android', 'https://github.com/wordpress-mobile/WordPress-Android.git', \n",
    "]"
   ]
  },
  {
   "cell_type": "code",
   "execution_count": null,
   "metadata": {
    "tags": []
   },
   "outputs": [],
   "source": [
    "f = open('benchmark-list.txt','w')\n",
    "for b in benchmarks:\n",
    "    # b.clone()\n",
    "    # b.build()\n",
    "    \n",
    "    benchmarkPkg = b.pkg\n",
    "    benchmarkApk = b.findApk()\n",
    "    f.write(\"%s:%s\\n\" % (benchmarkApk,benchmarkPkg))\n",
    "    \n",
    "f.close()"
   ]
  },
  {
   "cell_type": "code",
   "execution_count": null,
   "metadata": {},
   "outputs": [],
   "source": []
  }
 ],
 "metadata": {
  "kernelspec": {
   "display_name": "Python 3 (ipykernel)",
   "language": "python",
   "name": "python3"
  },
  "language_info": {
   "codemirror_mode": {
    "name": "ipython",
    "version": 3
   },
   "file_extension": ".py",
   "mimetype": "text/x-python",
   "name": "python",
   "nbconvert_exporter": "python",
   "pygments_lexer": "ipython3",
   "version": "3.10.6"
  }
 },
 "nbformat": 4,
 "nbformat_minor": 4
}
