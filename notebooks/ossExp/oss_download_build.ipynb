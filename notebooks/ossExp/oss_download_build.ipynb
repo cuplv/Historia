{
 "cells": [
  {
   "cell_type": "code",
   "execution_count": 1,
   "metadata": {},
   "outputs": [
    {
     "name": "stdout",
     "output_type": "stream",
     "text": [
      "env: DATADIR=\"/Users/shawnmeier/Documents/data/ossExperiment\"\n"
     ]
    }
   ],
   "source": [
    "# Config\n",
    "\n",
    "import os\n",
    "import subprocess\n",
    "import glob\n",
    "%env DATADIR = \"/Users/shawnmeier/Documents/data/ossExperiment\"\n",
    "DATADIR = os.environ.get(\"DATADIR\")[1:-1]\n"
   ]
  },
  {
   "cell_type": "code",
   "execution_count": 14,
   "metadata": {},
   "outputs": [],
   "source": [
    "#benchmarks\n",
    "class Benchmark:\n",
    "    def __init__(self, name,url,commitHash,primaryApk):\n",
    "        self.name = name\n",
    "        self.url = url\n",
    "        self.commitHash = commitHash\n",
    "        # self.print = lambda x:x\n",
    "        self.print = print\n",
    "        self.workDir = DATADIR + \"/\" + self.name\n",
    "        self.primaryApk = primaryApk\n",
    "    def clone(self):\n",
    "        #subprocess.Popen([\"touch\",\"abcdefghij\"], cwd=DATADIR)\n",
    "        cmd = [\"git\", \"clone\", self.url]\n",
    "        self.print(\"cloning: %s -- %s\" % (self.url,str(cmd)))\n",
    "        p1 = subprocess.Popen([\"git\", \"clone\", self.url],cwd=DATADIR,stdout=subprocess.PIPE)\n",
    "        output,error = p1.communicate()\n",
    "        self.print(\"output:\\n %s\" % output)\n",
    "        self.print(\"error:\\n %s\" % error)\n",
    "        self.print(\"checking out hash: %s\" % self.commitHash)\n",
    "        p2 = subprocess.Popen([\"git\", \"checkout\", self.commitHash])\n",
    "        output,error = p2.communicate()\n",
    "        self.print(\"output:\\n %s\" % output)\n",
    "        self.print(\"error:\\n %s\" % error)\n",
    "    def build(self):\n",
    "        p2 = subprocess.Popen([\"jenv\", \"local\", \"13.0.1\"])\n",
    "        p2.communicate()\n",
    "        output,error = p2.communicate()\n",
    "        self.print(\"output:\\n %s\" % output)\n",
    "        self.print(\"error:\\n %s\" % error)\n",
    "        cmd = [\"./gradlew\",\"assembleDebug\"]\n",
    "        p = subprocess.Popen(cmd, cwd=self.workDir, stdout=subprocess.PIPE)\n",
    "        output,error = p.communicate()\n",
    "        self.print(\"output:\\n %s\" % output)\n",
    "        self.print(\"error:\\n %s\" % error)\n",
    "    def findApk(self):\n",
    "        foundApks = glob.glob(\"%s/**/*.apk\" % self.workDir,recursive=True)\n",
    "        return [f for f in foundApks if self.primaryApk in f][0]\n",
    "        \n",
    "        \n",
    "benchmarks = [ \n",
    "    Benchmark('Antennapod','https://github.com/AntennaPod/AntennaPod.git','88289d0','app-free-debug'), \n",
    "    Benchmark('connectbot','https://github.com/connectbot/connectbot.git','7b6973f','app-google-debug'), \n",
    "    Benchmark('sgtpuzzles','https://github.com/chrisboyle/sgtpuzzles.git','83d3859','app-debug')]"
   ]
  },
  {
   "cell_type": "code",
   "execution_count": 15,
   "metadata": {},
   "outputs": [
    {
     "name": "stdout",
     "output_type": "stream",
     "text": [
      "Antennapod\n"
     ]
    },
    {
     "ename": "AttributeError",
     "evalue": "'str' object has no attribute 'contains'",
     "output_type": "error",
     "traceback": [
      "\u001b[0;31m---------------------------------------------------------------------------\u001b[0m",
      "\u001b[0;31mAttributeError\u001b[0m                            Traceback (most recent call last)",
      "\u001b[0;32m<ipython-input-15-94ba7d8466d0>\u001b[0m in \u001b[0;36m<module>\u001b[0;34m\u001b[0m\n\u001b[1;32m      5\u001b[0m \u001b[0;34m\u001b[0m\u001b[0m\n\u001b[1;32m      6\u001b[0m     \u001b[0mprint\u001b[0m\u001b[0;34m(\u001b[0m\u001b[0mb\u001b[0m\u001b[0;34m.\u001b[0m\u001b[0mname\u001b[0m\u001b[0;34m)\u001b[0m\u001b[0;34m\u001b[0m\u001b[0m\n\u001b[0;32m----> 7\u001b[0;31m     \u001b[0mprint\u001b[0m\u001b[0;34m(\u001b[0m\u001b[0mb\u001b[0m\u001b[0;34m.\u001b[0m\u001b[0mfindApk\u001b[0m\u001b[0;34m(\u001b[0m\u001b[0;34m)\u001b[0m\u001b[0;34m)\u001b[0m\u001b[0;34m\u001b[0m\u001b[0m\n\u001b[0m",
      "\u001b[0;32m<ipython-input-14-f2b6e4528240>\u001b[0m in \u001b[0;36mfindApk\u001b[0;34m(self)\u001b[0m\n\u001b[1;32m     35\u001b[0m     \u001b[0;32mdef\u001b[0m \u001b[0mfindApk\u001b[0m\u001b[0;34m(\u001b[0m\u001b[0mself\u001b[0m\u001b[0;34m)\u001b[0m\u001b[0;34m:\u001b[0m\u001b[0;34m\u001b[0m\u001b[0m\n\u001b[1;32m     36\u001b[0m         \u001b[0mfoundApks\u001b[0m \u001b[0;34m=\u001b[0m \u001b[0mglob\u001b[0m\u001b[0;34m.\u001b[0m\u001b[0mglob\u001b[0m\u001b[0;34m(\u001b[0m\u001b[0;34m\"%s/**/*.apk\"\u001b[0m \u001b[0;34m%\u001b[0m \u001b[0mself\u001b[0m\u001b[0;34m.\u001b[0m\u001b[0mworkDir\u001b[0m\u001b[0;34m,\u001b[0m\u001b[0mrecursive\u001b[0m\u001b[0;34m=\u001b[0m\u001b[0;32mTrue\u001b[0m\u001b[0;34m)\u001b[0m\u001b[0;34m\u001b[0m\u001b[0m\n\u001b[0;32m---> 37\u001b[0;31m         \u001b[0;32mreturn\u001b[0m \u001b[0;34m[\u001b[0m\u001b[0mf\u001b[0m \u001b[0;32mfor\u001b[0m \u001b[0mf\u001b[0m \u001b[0;32min\u001b[0m \u001b[0mfoundApks\u001b[0m \u001b[0;32mif\u001b[0m \u001b[0mf\u001b[0m\u001b[0;34m.\u001b[0m\u001b[0mcontains\u001b[0m\u001b[0;34m(\u001b[0m\u001b[0mself\u001b[0m\u001b[0;34m.\u001b[0m\u001b[0mprimaryApk\u001b[0m\u001b[0;34m)\u001b[0m\u001b[0;34m]\u001b[0m\u001b[0;34m[\u001b[0m\u001b[0;36m0\u001b[0m\u001b[0;34m]\u001b[0m\u001b[0;34m\u001b[0m\u001b[0m\n\u001b[0m\u001b[1;32m     38\u001b[0m \u001b[0;34m\u001b[0m\u001b[0m\n\u001b[1;32m     39\u001b[0m \u001b[0;34m\u001b[0m\u001b[0m\n",
      "\u001b[0;32m<ipython-input-14-f2b6e4528240>\u001b[0m in \u001b[0;36m<listcomp>\u001b[0;34m(.0)\u001b[0m\n\u001b[1;32m     35\u001b[0m     \u001b[0;32mdef\u001b[0m \u001b[0mfindApk\u001b[0m\u001b[0;34m(\u001b[0m\u001b[0mself\u001b[0m\u001b[0;34m)\u001b[0m\u001b[0;34m:\u001b[0m\u001b[0;34m\u001b[0m\u001b[0m\n\u001b[1;32m     36\u001b[0m         \u001b[0mfoundApks\u001b[0m \u001b[0;34m=\u001b[0m \u001b[0mglob\u001b[0m\u001b[0;34m.\u001b[0m\u001b[0mglob\u001b[0m\u001b[0;34m(\u001b[0m\u001b[0;34m\"%s/**/*.apk\"\u001b[0m \u001b[0;34m%\u001b[0m \u001b[0mself\u001b[0m\u001b[0;34m.\u001b[0m\u001b[0mworkDir\u001b[0m\u001b[0;34m,\u001b[0m\u001b[0mrecursive\u001b[0m\u001b[0;34m=\u001b[0m\u001b[0;32mTrue\u001b[0m\u001b[0;34m)\u001b[0m\u001b[0;34m\u001b[0m\u001b[0m\n\u001b[0;32m---> 37\u001b[0;31m         \u001b[0;32mreturn\u001b[0m \u001b[0;34m[\u001b[0m\u001b[0mf\u001b[0m \u001b[0;32mfor\u001b[0m \u001b[0mf\u001b[0m \u001b[0;32min\u001b[0m \u001b[0mfoundApks\u001b[0m \u001b[0;32mif\u001b[0m \u001b[0mf\u001b[0m\u001b[0;34m.\u001b[0m\u001b[0mcontains\u001b[0m\u001b[0;34m(\u001b[0m\u001b[0mself\u001b[0m\u001b[0;34m.\u001b[0m\u001b[0mprimaryApk\u001b[0m\u001b[0;34m)\u001b[0m\u001b[0;34m]\u001b[0m\u001b[0;34m[\u001b[0m\u001b[0;36m0\u001b[0m\u001b[0;34m]\u001b[0m\u001b[0;34m\u001b[0m\u001b[0m\n\u001b[0m\u001b[1;32m     38\u001b[0m \u001b[0;34m\u001b[0m\u001b[0m\n\u001b[1;32m     39\u001b[0m \u001b[0;34m\u001b[0m\u001b[0m\n",
      "\u001b[0;31mAttributeError\u001b[0m: 'str' object has no attribute 'contains'"
     ]
    }
   ],
   "source": [
    "f = open('benchmark-list.txt','w')\n",
    "for b in benchmarks:\n",
    "    # b.clone()\n",
    "    # b.build()\n",
    "    \n",
    "    print(b.name)\n",
    "    print(b.findApk())"
   ]
  },
  {
   "cell_type": "code",
   "execution_count": 21,
   "metadata": {},
   "outputs": [
    {
     "name": "stdout",
     "output_type": "stream",
     "text": [
      "/Users/shawnmeier/Documents/data/ossExperiment\n"
     ]
    }
   ],
   "source": [
    "print(DATADIR)"
   ]
  },
  {
   "cell_type": "code",
   "execution_count": 24,
   "metadata": {},
   "outputs": [
    {
     "data": {
      "text/plain": [
       "['foo', 'bar']"
      ]
     },
     "execution_count": 24,
     "metadata": {},
     "output_type": "execute_result"
    }
   ],
   "source": [
    "\"foo bar\".split()"
   ]
  },
  {
   "cell_type": "code",
   "execution_count": 4,
   "metadata": {},
   "outputs": [
    {
     "data": {
      "text/plain": [
       "'/Users/shawnmeier/.pyenv/versions/3.6.5/bin/python3.6'"
      ]
     },
     "execution_count": 4,
     "metadata": {},
     "output_type": "execute_result"
    }
   ],
   "source": [
    "import sys\n",
    "sys.executable"
   ]
  },
  {
   "cell_type": "code",
   "execution_count": null,
   "metadata": {},
   "outputs": [],
   "source": []
  }
 ],
 "metadata": {
  "kernelspec": {
   "display_name": "Python 3",
   "language": "python",
   "name": "python3"
  },
  "language_info": {
   "codemirror_mode": {
    "name": "ipython",
    "version": 3
   },
   "file_extension": ".py",
   "mimetype": "text/x-python",
   "name": "python",
   "nbconvert_exporter": "python",
   "pygments_lexer": "ipython3",
   "version": "3.6.5"
  }
 },
 "nbformat": 4,
 "nbformat_minor": 4
}
