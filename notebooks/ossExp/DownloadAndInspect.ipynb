{
 "cells": [
  {
   "cell_type": "code",
   "execution_count": null,
   "metadata": {
    "tags": []
   },
   "outputs": [],
   "source": [
    "val userhome = System.getProperty(\"user.home\")\n",
    "val path = s\"${userhome}/Documents/source/bounder/soot_hopper/target/scala-2.13/soot_hopper-assembly-0.1.jar\"\n",
    "\n",
    "interp.load.cp(os.Path(path))\n",
    "\n",
    "import $ivy.`org.plotly-scala:plotly-almond_2.13:0.8.2`\n",
    "import $ivy.`com.lihaoyi:ujson_2.13:1.3.8`\n",
    "// import $ivy.`edu.colorado.plv.bounder:soot_hopper_2.13:0.1`\n",
    "\n",
    "import plotly._, element._, layout._, Plotly._\n",
    "import ujson.Value\n",
    "import sys.process._\n"
   ]
  },
  {
   "cell_type": "code",
   "execution_count": null,
   "metadata": {
    "tags": []
   },
   "outputs": [],
   "source": [
    "import $ivy.`com.github.pathikrit::better-files:3.9.1`\n",
    "import better.files._\n",
    "\n",
    "import scala.util.Random\n",
    "import edu.colorado.plv.bounder.Driver\n",
    "import edu.colorado.plv.bounder.Action\n",
    "import edu.colorado.plv.bounder.RunConfig\n",
    "import upickle.default.read\n",
    "import upickle.default.write\n",
    "import scala.collection.parallel.CollectionConverters.{ImmutableSetIsParallelizable, IterableIsParallelizable}\n",
    "import edu.colorado.plv.bounder.ExperimentsDb\n",
    "import edu.colorado.plv.bounder.BounderUtil\n",
    "import scala.concurrent.duration._\n",
    "import scala.language.postfixOps"
   ]
  },
  {
   "cell_type": "code",
   "execution_count": null,
   "metadata": {
    "tags": []
   },
   "outputs": [],
   "source": [
    "val db = new ExperimentsDb(Some(path))"
   ]
  },
  {
   "cell_type": "code",
   "execution_count": null,
   "metadata": {
    "tags": []
   },
   "outputs": [],
   "source": [
    "import slick.driver.H2Driver.api._\n",
    "import slick.jdbc.GetResult\n",
    "import slick.jdbc.SQLActionBuilder\n",
    "import scala.concurrent.Await"
   ]
  },
  {
   "cell_type": "code",
   "execution_count": null,
   "metadata": {
    "tags": []
   },
   "outputs": [],
   "source": [
    "case class Count(n:Int)\n",
    "implicit val getCountResult = GetResult(r => Count(r.<<))\n",
    "\n",
    "Await.result(db.db.run(sql\"\"\"select count(*) from results;\"\"\".as[Count]), 30 seconds)"
   ]
  },
  {
   "cell_type": "code",
   "execution_count": null,
   "metadata": {},
   "outputs": [],
   "source": [
    "val triageFolder=s\"${userhome}/Desktop/ossExpDis\""
   ]
  },
  {
   "cell_type": "code",
   "execution_count": null,
   "metadata": {
    "tags": []
   },
   "outputs": [],
   "source": [
    "//Download witnessed with no limit\n",
    "// db.downloadResults(File(\"/Users/shawnmeier/Desktop/2appExp\"), \"\"\"%Witnessed%\"\"\", None)\n",
    "db.downloadResults(File(triageFolder), \"\"\"%\"\"\", None)"
   ]
  },
  {
   "cell_type": "code",
   "execution_count": null,
   "metadata": {},
   "outputs": [],
   "source": [
    "// remove other jobs from target cfg\n",
    "\n",
    "import edu.colorado.plv.bounder.RunConfig\n",
    "import edu.colorado.plv.bounder.ir.AppLoc\n",
    "import edu.colorado.plv.bounder.symbolicexecutor.state.ReceiverNonNull\n",
    "\n",
    "def specifyCFG(folder:File) = {\n",
    "//     val folder = triageFolder / \"com.gianlu\"/\"sample\"/\"res_3841\"\n",
    "\n",
    "    val oldCfg = folder / \"job_config\"\n",
    "\n",
    "    val rCfg = read[RunConfig](oldCfg.contentAsString)\n",
    "\n",
    "    val appLoc = read[AppLoc]((folder / \"res_loc\").contentAsString)\n",
    "    val mname = appLoc.method.simpleName\n",
    "    val mclazz = appLoc.method.classType\n",
    "    val newConfig = rCfg.copy(initialQuery = rCfg.initialQuery.filter{\n",
    "        case ReceiverNonNull(cn,mn,ln,_) => \n",
    "        cn == mclazz && mn == mname && appLoc.toString.contains(ln.toString)\n",
    "        case _ => false\n",
    "    })\n",
    "    val newCFG = folder / \"cfg.json\"\n",
    "    newCFG.overwrite(write(newConfig))\n",
    "}\n",
    "\n",
    "// specifyCFG(triageFolder / \"org.andstatus\" /\"sample\"/\"res_4028\")\n",
    "val baseOut = File(\"/Users/shawnmeier/Desktop/55select/\")\n",
    "val appList = List(\n",
    "\"com.duckduckgo\",\n",
    "\"com.gianlu\",\n",
    "\"com.health\",\n",
    "\"com.lyonbros\",\n",
    "\"org.andstatus\",\n",
    ")\n",
    "\n",
    "baseOut.glob(\"**/res_*\").filter(_.isDirectory).foreach{d => \n",
    "    try{\n",
    "        specifyCFG(d)\n",
    "    }catch{\n",
    "        case e => println(s\"failed to extract $d\")\n",
    "    }\n",
    "}\n",
    "// specifyCFG(File(\"/Users/shawnmeier/Desktop/55select/com.lyonbros/sample/res_266\"))"
   ]
  },
  {
   "cell_type": "code",
   "execution_count": null,
   "metadata": {},
   "outputs": [],
   "source": [
    "read[ruhnFile(\"/Users/shawnmeier/Desktop/55select/com.lyonbros/sample/res_266/job_config\")"
   ]
  },
  {
   "cell_type": "code",
   "execution_count": null,
   "metadata": {},
   "outputs": [],
   "source": [
    "val path = File(\"/Users/shawnmeier/Desktop/55select/org.andstatus/sample/res_4045/out/org.andstatus/sample\")\n",
    "\n",
    "Driver.readDB(path)"
   ]
  },
  {
   "cell_type": "code",
   "execution_count": null,
   "metadata": {
    "tags": []
   },
   "outputs": [],
   "source": [
    "def extractWitness(base:File) = {\n",
    "    val dataFile = (base / \"data.zip\").unzip()\n",
    "    val pathsF = dataFile.glob(\"**/paths.db\")\n",
    "    pathsF.next.moveToDirectory(base)\n",
    "    Driver.readDB(base)\n",
    "}\n",
    "val path = s\"${triageFolder}/com.gianlu/sample/data_477\"\n",
    "// val path = \"/Users/shawnmeier/Desktop/55select/com.gianlu/sample/res_3841/out/com.gianlu/sample\"\n",
    "extractWitness(File(path))"
   ]
  },
  {
   "cell_type": "code",
   "execution_count": null,
   "metadata": {
    "tags": []
   },
   "outputs": [],
   "source": [
    "// Find locations with no successors\n",
    "Driver.readDB(File(path),true)"
   ]
  },
  {
   "cell_type": "code",
   "execution_count": null,
   "metadata": {},
   "outputs": [],
   "source": []
  }
 ],
 "metadata": {
  "kernelspec": {
   "display_name": "Scala",
   "language": "scala",
   "name": "scala"
  },
  "language_info": {
   "codemirror_mode": "text/x-scala",
   "file_extension": ".scala",
   "mimetype": "text/x-scala",
   "name": "scala",
   "nbconvert_exporter": "script",
   "version": "2.13.2"
  },
  "toc-autonumbering": false,
  "toc-showmarkdowntxt": false,
  "toc-showtags": false
 },
 "nbformat": 4,
 "nbformat_minor": 4
}
