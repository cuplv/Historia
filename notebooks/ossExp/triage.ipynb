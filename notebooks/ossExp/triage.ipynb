{
 "cells": [
  {
   "cell_type": "code",
   "execution_count": 131,
   "metadata": {},
   "outputs": [
    {
     "name": "stdout",
     "output_type": "stream",
     "text": [
      "The sql extension is already loaded. To reload it, use:\n",
      "  %reload_ext sql\n"
     ]
    }
   ],
   "source": [
    "import pandas as pd\n",
    "import pylab\n",
    "import json\n",
    "%matplotlib inline\n",
    "import matplotlib.pyplot as plt\n",
    "#plt.style.use('seaborn-whitegrid') # TODO: what did this do?\n",
    "import numpy as np\n",
    "from IPython.core import display\n",
    "import psycopg2\n",
    "import os\n",
    "homedir = os.getenv(\"HOME\")\n",
    "with open(homedir + \"/.pgpass\",'r') as pgfile:\n",
    "    pgdat = pgfile.read().strip().split(\":\")\n",
    "    pgurl = pgdat[0]\n",
    "    pgport = pgdat[1]\n",
    "    pgdb = pgdat[2]\n",
    "    pguser = pgdat[3]\n",
    "    pgpass = pgdat[4]\n",
    "\n",
    "%load_ext sql\n",
    "from sqlalchemy import create_engine\n",
    "# sql info: https://github.com/catherinedevlin/ipython-sql\n",
    "# on error `pip install ipython-sql`\n",
    "#uncomment for remote\n",
    "#pgport=3333\n",
    "pgport=5433\n",
    "engine = create_engine('postgresql://postgres@localhost:%i/postgres' % pgport)\n",
    "db = psycopg2.connect(host=pgurl, database=pgdb, user=pguser,password=pgpass,port=pgport)"
   ]
  },
  {
   "cell_type": "code",
   "execution_count": 132,
   "metadata": {},
   "outputs": [],
   "source": [
    "def qry(q):\n",
    "  return pd.read_sql_query(con = db, sql = q)\n",
    "# pd.set_option(\"max_colwidth\", None)\n",
    "# pd.set_option('display.max_columns', None)\n",
    "pd.set_option(\"display.latex.repr\", False)\n",
    "pd.set_option(\"display.latex.escape\", True)\n",
    "\n",
    "def iDisplay(v):\n",
    "    with pd.option_context('display.max_rows', None, 'display.max_columns', None, \"max_colwidth\", None):\n",
    "        display.display(v)\n"
   ]
  },
  {
   "cell_type": "markdown",
   "metadata": {},
   "source": [
    "Count number of uploaded APK files"
   ]
  },
  {
   "cell_type": "code",
   "execution_count": 133,
   "metadata": {},
   "outputs": [
    {
     "name": "stdout",
     "output_type": "stream",
     "text": [
      "1 rows affected.\n"
     ]
    },
    {
     "data": {
      "text/html": [
       "<table>\n",
       "    <tr>\n",
       "        <th>count</th>\n",
       "    </tr>\n",
       "    <tr>\n",
       "        <td>0</td>\n",
       "    </tr>\n",
       "</table>"
      ],
      "text/plain": [
       "[(0,)]"
      ]
     },
     "execution_count": 133,
     "metadata": {},
     "output_type": "execute_result"
    }
   ],
   "source": [
    "%%sql postgresql://postgres@localhost:$pgport/postgres\n",
    "select count(*) from apks where apkname not like 'jar_%' and apkname not like 'spec_%';"
   ]
  },
  {
   "cell_type": "code",
   "execution_count": 139,
   "metadata": {},
   "outputs": [
    {
     "name": "stdout",
     "output_type": "stream",
     "text": [
      " * postgresql://postgres@localhost:5433/postgres\n",
      "1 rows affected.\n"
     ]
    },
    {
     "data": {
      "text/html": [
       "<table>\n",
       "    <tr>\n",
       "        <th>apk_count</th>\n",
       "        <th>input_count</th>\n",
       "        <th>job_count</th>\n",
       "        <th>result_data_count</th>\n",
       "        <th>result_count</th>\n",
       "    </tr>\n",
       "    <tr>\n",
       "        <td>5</td>\n",
       "        <td>1</td>\n",
       "        <td>23</td>\n",
       "        <td>1</td>\n",
       "        <td>1</td>\n",
       "    </tr>\n",
       "</table>"
      ],
      "text/plain": [
       "[(5, 1, 23, 1, 1)]"
      ]
     },
     "execution_count": 139,
     "metadata": {},
     "output_type": "execute_result"
    }
   ],
   "source": [
    "%%sql\n",
    "select\n",
    "    (select count(*) from apks) as apk_count, \n",
    "    (select count(*) from inputs) as input_count, \n",
    "    (select count(*) from jobs) as job_count, \n",
    "    (select count(*) from resultdata) as result_data_count, \n",
    "    (select count(*) from results) as result_count"
   ]
  },
  {
   "cell_type": "markdown",
   "metadata": {},
   "source": [
    "Print jobs and statuses"
   ]
  },
  {
   "cell_type": "code",
   "execution_count": 188,
   "metadata": {},
   "outputs": [
    {
     "name": "stdout",
     "output_type": "stream",
     "text": [
      " * postgresql://postgres@localhost:5433/postgres\n",
      "1 rows affected.\n"
     ]
    },
    {
     "data": {
      "text/html": [
       "<table>\n",
       "    <tr>\n",
       "        <th>completed_jobs</th>\n",
       "        <th>paused_jobs</th>\n",
       "        <th>acquired_jobs</th>\n",
       "        <th>body_exception</th>\n",
       "        <th>unimplemented</th>\n",
       "        <th>exception</th>\n",
       "        <th>path_exception</th>\n",
       "        <th>refl_exception</th>\n",
       "        <th>worker_failure</th>\n",
       "        <th>possible_cg_unsound</th>\n",
       "        <th>total_jobs</th>\n",
       "    </tr>\n",
       "    <tr>\n",
       "        <td>23</td>\n",
       "        <td>0</td>\n",
       "        <td>0</td>\n",
       "        <td>0</td>\n",
       "        <td>0</td>\n",
       "        <td>0</td>\n",
       "        <td>0</td>\n",
       "        <td>0</td>\n",
       "        <td>0</td>\n",
       "        <td>0</td>\n",
       "        <td>23</td>\n",
       "    </tr>\n",
       "</table>"
      ],
      "text/plain": [
       "[(23, 0, 0, 0, 0, 0, 0, 0, 0, 0, 23)]"
      ]
     },
     "execution_count": 188,
     "metadata": {},
     "output_type": "execute_result"
    }
   ],
   "source": [
    "%%sql\n",
    "select \n",
    "    (select count(*) from jobs where status = 'completed') as Completed_Jobs,\n",
    "    (select count(*) from jobs where status = 'paused') as Paused_Jobs,\n",
    "    (select count(*) from jobs where status = 'acquired') as Acquired_jobs,\n",
    "    (select count(id) from jobs \n",
    "       where stderr like '%Exception%no active body present for method%') as Body_Exception,\n",
    "    (select count(id) from jobs where stderr like '%an implementation is missing%') as unimplemented,\n",
    "    (select count(id) from jobs where stderr like '%Exception%') as Exception,\n",
    "    (select count(id) from jobs where stderr like '%no libz3java in java.library.path%') as path_exception,\n",
    "    (select count(id) from jobs where stderr like '%Failed to parse reflective type reference%') as Refl_exception,\n",
    "    (select count(id) from jobs where status like 'failed%') as worker_failure,\n",
    "    (select count(id) from jobs where stdout like '%empty pred location%') as possible_cg_unsound,\n",
    "    (select count(*) from jobs) as Total_Jobs"
   ]
  },
  {
   "cell_type": "code",
   "execution_count": 142,
   "metadata": {},
   "outputs": [
    {
     "name": "stdout",
     "output_type": "stream",
     "text": [
      " * postgresql://postgres@localhost:5433/postgres\n",
      "0 rows affected.\n",
      "none\n"
     ]
    }
   ],
   "source": [
    "# find exceptions\n",
    "#%%sql \n",
    "#select replace(cast(stderr as varchar),'$','\\$') from jobs where stderr like '%Exception%' limit 1;\n",
    "out = %sql select stderr,config from jobs where stderr like '%Exception%' order by random() limit 1;\n",
    "if(len(out) != 0):\n",
    "    print(out[0][1])\n",
    "    print(out[0][0])\n",
    "else:\n",
    "    print(\"none\")\n"
   ]
  },
  {
   "cell_type": "code",
   "execution_count": 143,
   "metadata": {},
   "outputs": [
    {
     "name": "stdout",
     "output_type": "stream",
     "text": [
      " * postgresql://postgres@localhost:5433/postgres\n",
      "0 rows affected.\n",
      "none\n"
     ]
    }
   ],
   "source": [
    "# find exceptions\n",
    "#%%sql \n",
    "#select replace(cast(stderr as varchar),'$','\\$') from jobs where stderr like '%Exception%' limit 1;\n",
    "out = %sql select stderr,config from jobs where stderr like '%an implementation is missing%' order by random() limit 1;\n",
    "if(len(out) != 0):\n",
    "    print(out[0][1])\n",
    "    print(out[0][0])\n",
    "else:\n",
    "    print(\"none\")\n"
   ]
  },
  {
   "cell_type": "markdown",
   "metadata": {},
   "source": [
    "Get failing apks"
   ]
  },
  {
   "cell_type": "code",
   "execution_count": 144,
   "metadata": {},
   "outputs": [
    {
     "name": "stdout",
     "output_type": "stream",
     "text": [
      " * postgresql://postgres@localhost:5433/postgres\n",
      "0 rows affected.\n"
     ]
    },
    {
     "data": {
      "text/html": [
       "<table>\n",
       "    <tr>\n",
       "        <th>text</th>\n",
       "    </tr>\n",
       "</table>"
      ],
      "text/plain": [
       "[]"
      ]
     },
     "execution_count": 144,
     "metadata": {},
     "output_type": "execute_result"
    }
   ],
   "source": [
    "%%sql\n",
    "select cast(config::json->'apkPath' as text) from jobs \n",
    "        where stderr like '%Exception%' group by cast(config::json->'apkPath' as text) ;"
   ]
  },
  {
   "cell_type": "code",
   "execution_count": 145,
   "metadata": {},
   "outputs": [
    {
     "name": "stdout",
     "output_type": "stream",
     "text": [
      " * postgresql://postgres@localhost:5433/postgres\n",
      "3 rows affected.\n"
     ]
    },
    {
     "data": {
      "text/html": [
       "<table>\n",
       "    <tr>\n",
       "        <th>app</th>\n",
       "        <th>count</th>\n",
       "    </tr>\n",
       "    <tr>\n",
       "        <td>&quot;${baseDir}/AntennaPod/app/build/outputs/apk/free/debug/app-free-debug.apk&quot;</td>\n",
       "        <td>12</td>\n",
       "    </tr>\n",
       "    <tr>\n",
       "        <td>&quot;${baseDir}/connectbot/app/build/outputs/apk/google/debug/app-google-debug.apk&quot;</td>\n",
       "        <td>6</td>\n",
       "    </tr>\n",
       "    <tr>\n",
       "        <td>&quot;${baseDir}/sgtpuzzles/app/build/outputs/apk/debug/app-debug.apk&quot;</td>\n",
       "        <td>5</td>\n",
       "    </tr>\n",
       "</table>"
      ],
      "text/plain": [
       "[('\"${baseDir}/AntennaPod/app/build/outputs/apk/free/debug/app-free-debug.apk\"', 12),\n",
       " ('\"${baseDir}/connectbot/app/build/outputs/apk/google/debug/app-google-debug.apk\"', 6),\n",
       " ('\"${baseDir}/sgtpuzzles/app/build/outputs/apk/debug/app-debug.apk\"', 5)]"
      ]
     },
     "execution_count": 145,
     "metadata": {},
     "output_type": "execute_result"
    }
   ],
   "source": [
    "%%sql\n",
    "select cast(config::json->'apkPath' as text) as app,count(*) as count from jobs group by app order by count desc;"
   ]
  },
  {
   "cell_type": "code",
   "execution_count": 163,
   "metadata": {},
   "outputs": [
    {
     "name": "stdout",
     "output_type": "stream",
     "text": [
      " * postgresql://postgres@localhost:5433/postgres\n",
      "1 rows affected.\n"
     ]
    },
    {
     "data": {
      "text/html": [
       "<table>\n",
       "    <tr>\n",
       "        <th>count</th>\n",
       "        <th>status</th>\n",
       "    </tr>\n",
       "    <tr>\n",
       "        <td>23</td>\n",
       "        <td>completed</td>\n",
       "    </tr>\n",
       "</table>"
      ],
      "text/plain": [
       "[(23, 'completed')]"
      ]
     },
     "execution_count": 163,
     "metadata": {},
     "output_type": "execute_result"
    }
   ],
   "source": [
    "%%sql\n",
    "select count(*),status from jobs group by status;"
   ]
  },
  {
   "cell_type": "code",
   "execution_count": 149,
   "metadata": {},
   "outputs": [
    {
     "name": "stdout",
     "output_type": "stream",
     "text": [
      " * postgresql://postgres@localhost:5433/postgres\n",
      "3 rows affected.\n"
     ]
    },
    {
     "data": {
      "text/html": [
       "<table>\n",
       "    <tr>\n",
       "        <th>summary</th>\n",
       "        <th>ch</th>\n",
       "        <th>count</th>\n",
       "        <th>avg</th>\n",
       "        <th>max</th>\n",
       "    </tr>\n",
       "    <tr>\n",
       "        <td>&quot;\\&quot;Itimeout\\&quot;&quot;</td>\n",
       "        <td>&quot;\\&quot;UnknownCharacterization\\&quot;&quot;</td>\n",
       "        <td>10</td>\n",
       "        <td>601.0000000000000000</td>\n",
       "        <td>601</td>\n",
       "    </tr>\n",
       "    <tr>\n",
       "        <td>&quot;\\&quot;Unreachable\\&quot;&quot;</td>\n",
       "        <td>&quot;\\&quot;UnknownCharacterization\\&quot;&quot;</td>\n",
       "        <td>3</td>\n",
       "        <td>0.33333333333333333333</td>\n",
       "        <td>1</td>\n",
       "    </tr>\n",
       "    <tr>\n",
       "        <td>&quot;\\&quot;Witnessed\\&quot;&quot;</td>\n",
       "        <td>&quot;\\&quot;UnknownCharacterization\\&quot;&quot;</td>\n",
       "        <td>24</td>\n",
       "        <td>3.5833333333333333</td>\n",
       "        <td>77</td>\n",
       "    </tr>\n",
       "</table>"
      ],
      "text/plain": [
       "[('\"\\\\\"Itimeout\\\\\"\"', '\"\\\\\"UnknownCharacterization\\\\\"\"', 10, Decimal('601.0000000000000000'), 601),\n",
       " ('\"\\\\\"Unreachable\\\\\"\"', '\"\\\\\"UnknownCharacterization\\\\\"\"', 3, Decimal('0.33333333333333333333'), 1),\n",
       " ('\"\\\\\"Witnessed\\\\\"\"', '\"\\\\\"UnknownCharacterization\\\\\"\"', 24, Decimal('3.5833333333333333'), 77)]"
      ]
     },
     "execution_count": 149,
     "metadata": {},
     "output_type": "execute_result"
    }
   ],
   "source": [
    "%%sql \n",
    "select cast(result::json->'summary' as varchar) as summary, cast(result::json->'maxPathCh' as varchar) as ch,count(*),avg(querytime),max(querytime) from results group by summary,ch order by summary,ch;"
   ]
  },
  {
   "cell_type": "code",
   "execution_count": 185,
   "metadata": {},
   "outputs": [
    {
     "name": "stdout",
     "output_type": "stream",
     "text": [
      " * postgresql://postgres@localhost:5433/postgres\n",
      "4 rows affected.\n"
     ]
    },
    {
     "data": {
      "text/html": [
       "<table>\n",
       "    <tr>\n",
       "        <th>benchmark</th>\n",
       "        <th>isdismiss</th>\n",
       "        <th>count</th>\n",
       "    </tr>\n",
       "    <tr>\n",
       "        <td>AntennaPod</td>\n",
       "        <td>Dialog_dismiss</td>\n",
       "        <td>26</td>\n",
       "    </tr>\n",
       "    <tr>\n",
       "        <td>connectbot</td>\n",
       "        <td>Dialog_dismiss</td>\n",
       "        <td>4</td>\n",
       "    </tr>\n",
       "    <tr>\n",
       "        <td>connectbot</td>\n",
       "        <td>execute</td>\n",
       "        <td>2</td>\n",
       "    </tr>\n",
       "    <tr>\n",
       "        <td>sgtpuzzles</td>\n",
       "        <td>Dialog_dismiss</td>\n",
       "        <td>17</td>\n",
       "    </tr>\n",
       "</table>"
      ],
      "text/plain": [
       "[('AntennaPod', 'Dialog_dismiss', 26),\n",
       " ('connectbot', 'Dialog_dismiss', 4),\n",
       " ('connectbot', 'execute', 2),\n",
       " ('sgtpuzzles', 'Dialog_dismiss', 17)]"
      ]
     },
     "execution_count": 185,
     "metadata": {},
     "output_type": "execute_result"
    }
   ],
   "source": [
    "%%sql \n",
    "select regexp_substr(cast(jobs.config::json->'apkPath' as varchar), 'AntennaPod|connectbot|sgtpuzzles') as benchmark, \n",
    "    regexp_substr(cast(results.qry::json->'s' as varchar), 'Dialog_dismiss|execute') as isDismiss, \n",
    "    count(*)\n",
    "    from results inner join jobs on results.jobid=jobs.id \n",
    "    group by regexp_substr(cast(jobs.config::json->'apkPath' as varchar), 'AntennaPod|connectbot|sgtpuzzles'),\n",
    "    regexp_substr(cast(results.qry::json->'s' as varchar), 'Dialog_dismiss|execute')"
   ]
  },
  {
   "cell_type": "code",
   "execution_count": 182,
   "metadata": {},
   "outputs": [
    {
     "name": "stdout",
     "output_type": "stream",
     "text": [
      " * postgresql://postgres@localhost:5433/postgres\n",
      "10 rows affected.\n"
     ]
    },
    {
     "data": {
      "text/html": [
       "<table>\n",
       "    <tr>\n",
       "        <th>benchmark</th>\n",
       "        <th>isdismiss</th>\n",
       "        <th>summary</th>\n",
       "        <th>count</th>\n",
       "    </tr>\n",
       "    <tr>\n",
       "        <td>AntennaPod</td>\n",
       "        <td>Dialog_dismiss</td>\n",
       "        <td>&quot;\\&quot;Itimeout\\&quot;&quot;</td>\n",
       "        <td>14</td>\n",
       "    </tr>\n",
       "    <tr>\n",
       "        <td>AntennaPod</td>\n",
       "        <td>Dialog_dismiss</td>\n",
       "        <td>&quot;\\&quot;Witnessed\\&quot;&quot;</td>\n",
       "        <td>12</td>\n",
       "    </tr>\n",
       "    <tr>\n",
       "        <td>connectbot</td>\n",
       "        <td>Dialog_dismiss</td>\n",
       "        <td>&quot;\\&quot;Itimeout\\&quot;&quot;</td>\n",
       "        <td>1</td>\n",
       "    </tr>\n",
       "    <tr>\n",
       "        <td>connectbot</td>\n",
       "        <td>execute</td>\n",
       "        <td>&quot;\\&quot;Itimeout\\&quot;&quot;</td>\n",
       "        <td>1</td>\n",
       "    </tr>\n",
       "    <tr>\n",
       "        <td>connectbot</td>\n",
       "        <td>Dialog_dismiss</td>\n",
       "        <td>&quot;\\&quot;Unreachable\\&quot;&quot;</td>\n",
       "        <td>1</td>\n",
       "    </tr>\n",
       "    <tr>\n",
       "        <td>connectbot</td>\n",
       "        <td>execute</td>\n",
       "        <td>&quot;\\&quot;Unreachable\\&quot;&quot;</td>\n",
       "        <td>1</td>\n",
       "    </tr>\n",
       "    <tr>\n",
       "        <td>connectbot</td>\n",
       "        <td>Dialog_dismiss</td>\n",
       "        <td>&quot;\\&quot;Witnessed\\&quot;&quot;</td>\n",
       "        <td>2</td>\n",
       "    </tr>\n",
       "    <tr>\n",
       "        <td>sgtpuzzles</td>\n",
       "        <td>Dialog_dismiss</td>\n",
       "        <td>&quot;\\&quot;Itimeout\\&quot;&quot;</td>\n",
       "        <td>4</td>\n",
       "    </tr>\n",
       "    <tr>\n",
       "        <td>sgtpuzzles</td>\n",
       "        <td>Dialog_dismiss</td>\n",
       "        <td>&quot;\\&quot;Unreachable\\&quot;&quot;</td>\n",
       "        <td>1</td>\n",
       "    </tr>\n",
       "    <tr>\n",
       "        <td>sgtpuzzles</td>\n",
       "        <td>Dialog_dismiss</td>\n",
       "        <td>&quot;\\&quot;Witnessed\\&quot;&quot;</td>\n",
       "        <td>12</td>\n",
       "    </tr>\n",
       "</table>"
      ],
      "text/plain": [
       "[('AntennaPod', 'Dialog_dismiss', '\"\\\\\"Itimeout\\\\\"\"', 14),\n",
       " ('AntennaPod', 'Dialog_dismiss', '\"\\\\\"Witnessed\\\\\"\"', 12),\n",
       " ('connectbot', 'Dialog_dismiss', '\"\\\\\"Itimeout\\\\\"\"', 1),\n",
       " ('connectbot', 'execute', '\"\\\\\"Itimeout\\\\\"\"', 1),\n",
       " ('connectbot', 'Dialog_dismiss', '\"\\\\\"Unreachable\\\\\"\"', 1),\n",
       " ('connectbot', 'execute', '\"\\\\\"Unreachable\\\\\"\"', 1),\n",
       " ('connectbot', 'Dialog_dismiss', '\"\\\\\"Witnessed\\\\\"\"', 2),\n",
       " ('sgtpuzzles', 'Dialog_dismiss', '\"\\\\\"Itimeout\\\\\"\"', 4),\n",
       " ('sgtpuzzles', 'Dialog_dismiss', '\"\\\\\"Unreachable\\\\\"\"', 1),\n",
       " ('sgtpuzzles', 'Dialog_dismiss', '\"\\\\\"Witnessed\\\\\"\"', 12)]"
      ]
     },
     "execution_count": 182,
     "metadata": {},
     "output_type": "execute_result"
    }
   ],
   "source": [
    "%%sql \n",
    "select regexp_substr(cast(jobs.config::json->'apkPath' as varchar), 'AntennaPod|connectbot|sgtpuzzles') as benchmark, \n",
    "    regexp_substr(cast(results.qry::json->'s' as varchar), 'Dialog_dismiss|execute') as isDismiss, \n",
    "    cast(results.result::json->'summary' as varchar) as summary, count(*)\n",
    "    from results inner join jobs on results.jobid=jobs.id \n",
    "    group by cast(jobs.config::json->'apkPath' as varchar),cast(results.result::json->'summary' as varchar),\n",
    "    regexp_substr(cast(results.qry::json->'s' as varchar), 'Dialog_dismiss|execute')\n"
   ]
  },
  {
   "cell_type": "code",
   "execution_count": 179,
   "metadata": {},
   "outputs": [
    {
     "name": "stdout",
     "output_type": "stream",
     "text": [
      " * postgresql://postgres@localhost:5433/postgres\n",
      "26 rows affected.\n"
     ]
    },
    {
     "data": {
      "text/html": [
       "<table>\n",
       "    <tr>\n",
       "        <th>id</th>\n",
       "    </tr>\n",
       "    <tr>\n",
       "        <td>67471</td>\n",
       "    </tr>\n",
       "    <tr>\n",
       "        <td>67472</td>\n",
       "    </tr>\n",
       "    <tr>\n",
       "        <td>67473</td>\n",
       "    </tr>\n",
       "    <tr>\n",
       "        <td>67475</td>\n",
       "    </tr>\n",
       "    <tr>\n",
       "        <td>67476</td>\n",
       "    </tr>\n",
       "    <tr>\n",
       "        <td>67477</td>\n",
       "    </tr>\n",
       "    <tr>\n",
       "        <td>67479</td>\n",
       "    </tr>\n",
       "    <tr>\n",
       "        <td>67480</td>\n",
       "    </tr>\n",
       "    <tr>\n",
       "        <td>67481</td>\n",
       "    </tr>\n",
       "    <tr>\n",
       "        <td>67483</td>\n",
       "    </tr>\n",
       "    <tr>\n",
       "        <td>67484</td>\n",
       "    </tr>\n",
       "    <tr>\n",
       "        <td>67485</td>\n",
       "    </tr>\n",
       "    <tr>\n",
       "        <td>67487</td>\n",
       "    </tr>\n",
       "    <tr>\n",
       "        <td>67488</td>\n",
       "    </tr>\n",
       "    <tr>\n",
       "        <td>67491</td>\n",
       "    </tr>\n",
       "    <tr>\n",
       "        <td>67493</td>\n",
       "    </tr>\n",
       "    <tr>\n",
       "        <td>67494</td>\n",
       "    </tr>\n",
       "    <tr>\n",
       "        <td>67495</td>\n",
       "    </tr>\n",
       "    <tr>\n",
       "        <td>67496</td>\n",
       "    </tr>\n",
       "    <tr>\n",
       "        <td>67497</td>\n",
       "    </tr>\n",
       "    <tr>\n",
       "        <td>67498</td>\n",
       "    </tr>\n",
       "    <tr>\n",
       "        <td>67499</td>\n",
       "    </tr>\n",
       "    <tr>\n",
       "        <td>67502</td>\n",
       "    </tr>\n",
       "    <tr>\n",
       "        <td>67504</td>\n",
       "    </tr>\n",
       "    <tr>\n",
       "        <td>67505</td>\n",
       "    </tr>\n",
       "    <tr>\n",
       "        <td>67507</td>\n",
       "    </tr>\n",
       "</table>"
      ],
      "text/plain": [
       "[(67471,),\n",
       " (67472,),\n",
       " (67473,),\n",
       " (67475,),\n",
       " (67476,),\n",
       " (67477,),\n",
       " (67479,),\n",
       " (67480,),\n",
       " (67481,),\n",
       " (67483,),\n",
       " (67484,),\n",
       " (67485,),\n",
       " (67487,),\n",
       " (67488,),\n",
       " (67491,),\n",
       " (67493,),\n",
       " (67494,),\n",
       " (67495,),\n",
       " (67496,),\n",
       " (67497,),\n",
       " (67498,),\n",
       " (67499,),\n",
       " (67502,),\n",
       " (67504,),\n",
       " (67505,),\n",
       " (67507,)]"
      ]
     },
     "execution_count": 179,
     "metadata": {},
     "output_type": "execute_result"
    }
   ],
   "source": [
    "%%sql\n",
    "select id from results where cast(results.result::json->'summary' as varchar) like '%Witnessed%'"
   ]
  },
  {
   "cell_type": "code",
   "execution_count": 178,
   "metadata": {},
   "outputs": [
    {
     "name": "stdout",
     "output_type": "stream",
     "text": [
      " * postgresql://postgres@localhost:5433/postgres\n",
      "1 rows affected.\n"
     ]
    },
    {
     "data": {
      "text/plain": [
       "'{\"apkPath\":\"${baseDir}/connectbot/app/build/outputs/apk/google/debug/app-google-debug.apk\",\"outFolder\":[\"${baseDirOut}/org.connectbot\"],\"specSet\":\"{\\\\\"specs\\\\\":[],\\\\\"disallow\\\\\":[{\\\\\"univQuant\\\\\":[{\\\\\"$type\\\\\":\\\\\"edu.colorado.plv.bounder.symbolicexecutor.state.NamedPureVar\\\\\",\\\\\"n\\\\\":\\\\\"d\\\\\"}],\\\\\"existQuant\\\\\":[{\\\\\"$type\\\\\":\\\\\"edu.colorado.plv.bounder.symbolicexecutor.state.NamedPureVar\\\\\",\\\\\"n\\\\\":\\\\\"a\\\\\"}],\\\\\"pred\\\\\":{\\\\\"$type\\\\\":\\\\\"edu.colorado.plv.bounder.lifestate.LifeState.And\\\\\",\\\\\"l1\\\\\":{\\\\\"$type\\\\\":\\\\\"edu.colorado.plv.bounder.lifestate.LifeState.OAbsMsg\\\\\",\\\\\"mt\\\\\":{\\\\\"$type\\\\\":\\\\\"edu.colorado.plv.bounder.ir.CIExit\\\\\"},\\\\\"signatures\\\\\":{\\\\\"$type\\\\\":\\\\\"edu.colorado.plv.bounder.lifestate.LifeState.SubClassMatcher\\\\\",\\\\\"baseSubtypeOf\\\\\":[\\\\\"android.app.ProgressDialog\\\\\",\\\\\"android.app.Dialog\\\\\"],\\\\\"signatureMatcher\\\\\":\\\\\".*show.*\\\\\",\\\\\"ident\\\\\":\\\\\"Dialog_show\\\\\"},\\\\\"lsVars\\\\\":[{\\\\\"$type\\\\\":\\\\\"edu.colorado.plv.bounder.symbolicexecutor.state.NamedPureVar\\\\\",\\\\\"n\\\\\":\\\\\"d\\\\\"},{\\\\\"$type\\\\\":\\\\\"edu.colorado.plv.bounder.symbolicexecutor.state.TopVal\\\\\"},{\\\\\"$type\\\\\":\\\\\"edu.colorado.plv.bounder.symbolicexecutor.state.NamedPureVar\\\\\",\\\\\"n\\\\\":\\\\\"a\\\\\"}]},\\\\\"l2\\\\\":{\\\\\"$type\\\\\":\\\\\"edu.colorado.plv.bounder.lifestate.LifeState.Or\\\\\",\\\\\"l1\\\\\":{\\\\\"$type\\\\\":\\\\\"edu.colorado.plv.bounder.lifestate.LifeState.Not\\\\\",\\\\\"p\\\\\":{\\\\\"$type\\\\\":\\\\\"edu.colorado.plv.bounder.lifestate.LifeState.OAbsMsg\\\\\",\\\\\"mt\\\\\":{\\\\\"$type\\\\\":\\\\\"edu.colorado.plv.bounder.ir.CBEnter\\\\\"},\\\\\"signatures\\\\\":{\\\\\"$type\\\\\":\\\\\"edu.colorado.plv.bounder.lifestate.LifeState.SubClassMatcher\\\\\",\\\\\"baseSubtypeOf\\\\\":[\\\\\"android.app.Activity\\\\\",\\\\\"androidx.fragment.app.FragmentActivity\\\\\"],\\\\\"signatureMatcher\\\\\":\\\\\"void onResume\\\\\\\\\\\\\\\\(\\\\\\\\\\\\\\\\)\\\\\",\\\\\"ident\\\\\":\\\\\"Activity_onResume\\\\\"},\\\\\"lsVars\\\\\":[{\\\\\"$type\\\\\":\\\\\"edu.colorado.plv.bounder.symbolicexecutor.state.TopVal\\\\\"},{\\\\\"$type\\\\\":\\\\\"edu.colorado.plv.bounder.symbolicexecutor.state.NamedPureVar\\\\\",\\\\\"n\\\\\":\\\\\"a\\\\\"}]}},\\\\\"l2\\\\\":{\\\\\"$type\\\\\":\\\\\"edu.colorado.plv.bounder.lifestate.LifeState.NS\\\\\",\\\\\"i1\\\\\":{\\\\\"$type\\\\\":\\\\\"edu.colorado.plv.bounder.lifestate.LifeState.OAbsMsg\\\\\",\\\\\"mt\\\\\":{\\\\\"$type\\\\\":\\\\\"edu.colorado.plv.bounder.ir.CBExit\\\\\"},\\\\\"signatures\\\\\":{\\\\\"$type\\\\\":\\\\\"edu.colorado.plv.bounder.lifestate.LifeState.SubClassMatcher\\\\\",\\\\\"baseSubtypeOf\\\\\":[\\\\\"android.app.Activity\\\\\",\\\\\"androidx.fragment.app.FragmentActivity\\\\\"],\\\\\"signatureMatcher\\\\\":\\\\\"void onPause\\\\\\\\\\\\\\\\(\\\\\\\\\\\\\\\\)\\\\\",\\\\\"ident\\\\\":\\\\\"Activity_onPause\\\\\"},\\\\\"lsVars\\\\\":[{\\\\\"$type\\\\\":\\\\\"edu.colorado.plv.bounder.symbolicexecutor.state.TopVal\\\\\"},{\\\\\"$type\\\\\":\\\\\"edu.colorado.plv.bounder.symbolicexecutor.state.NamedPureVar\\\\\",\\\\\"n\\\\\":\\\\\"a\\\\\"}]},\\\\\"i2\\\\\":{\\\\\"$type\\\\\":\\\\\"edu.colorado.plv.bounder.lifestate.LifeState.OAbsMsg\\\\\",\\\\\"mt\\\\\":{\\\\\"$type\\\\\":\\\\\"edu.colorado.plv.bounder.ir.CBEnter\\\\\"},\\\\\"signatures\\\\\":{\\\\\"$type\\\\\":\\\\\"edu.colorado.plv.bounder.lifestate.LifeState.SubClassMatcher\\\\\",\\\\\"baseSubtypeOf\\\\\":[\\\\\"android.app.Activity\\\\\",\\\\\"androidx.fragment.app.FragmentActivity\\\\\"],\\\\\"signatureMatcher\\\\\":\\\\\"void onResume\\\\\\\\\\\\\\\\(\\\\\\\\\\\\\\\\)\\\\\",\\\\\"ident\\\\\":\\\\\"Activity_onResume\\\\\"},\\\\\"lsVars\\\\\":[{\\\\\"$type\\\\\":\\\\\"edu.colorado.plv.bounder.symbolicexecutor.state.TopVal\\\\\"},{\\\\\"$type\\\\\":\\\\\"edu.colorado.plv.bounder.symbolicexecutor.state.NamedPureVar\\\\\",\\\\\"n\\\\\":\\\\\"a\\\\\"}]}}}},\\\\\"target\\\\\":{\\\\\"$type\\\\\":\\\\\"edu.colorado.plv.bounder.lifestate.LifeState.OAbsMsg\\\\\",\\\\\"mt\\\\\":{\\\\\"$type\\\\\":\\\\\"edu.colorado.plv.bounder.ir.CIEnter\\\\\"},\\\\\"signatures\\\\\":{\\\\\"$type\\\\\":\\\\\"edu.colorado.plv.bounder.lifestate.LifeState.SubClassMatcher\\\\\",\\\\\"baseSubtypeOf\\\\\":[\\\\\"android.app.ProgressDialog\\\\\",\\\\\"android.app.Dialog\\\\\"],\\\\\"signatureMatcher\\\\\":\\\\\"void dismiss\\\\\\\\\\\\\\\\(\\\\\\\\\\\\\\\\)\\\\\",\\\\\"ident\\\\\":\\\\\"Dialog_dismiss\\\\\"},\\\\\"lsVars\\\\\":[{\\\\\"$type\\\\\":\\\\\"edu.colorado.plv.bounder.symbolicexecutor.state.TopVal\\\\\"},{\\\\\"$type\\\\\":\\\\\"edu.colorado.plv.bounder.symbolicexecutor.state.NamedPureVar\\\\\",\\\\\"n\\\\\":\\\\\"d\\\\\"}]}}]}\",\"initialQuery\":[{\"t\":\"DisallowedCallin\",\"className\":\"org.connectbot.GeneratePubkeyActivity$5\",\"methodName\":\"void run()\",\"s\":\"{\\\\\"univQuant\\\\\":[{\\\\\"$type\\\\\":\\\\\"edu.colorado.plv.bounder.symbolicexecutor.state.NamedPureVar\\\\\",\\\\\"n\\\\\":\\\\\"d\\\\\"}],\\\\\"existQuant\\\\\":[{\\\\\"$type\\\\\":\\\\\"edu.colorado.plv.bounder.symbolicexecutor.state.NamedPureVar\\\\\",\\\\\"n\\\\\":\\\\\"a\\\\\"}],\\\\\"pred\\\\\":{\\\\\"$type\\\\\":\\\\\"edu.colorado.plv.bounder.lifestate.LifeState.And\\\\\",\\\\\"l1\\\\\":{\\\\\"$type\\\\\":\\\\\"edu.colorado.plv.bounder.lifestate.LifeState.OAbsMsg\\\\\",\\\\\"mt\\\\\":{\\\\\"$type\\\\\":\\\\\"edu.colorado.plv.bounder.ir.CIExit\\\\\"},\\\\\"signatures\\\\\":{\\\\\"$type\\\\\":\\\\\"edu.colorado.plv.bounder.lifestate.LifeState.SubClassMatcher\\\\\",\\\\\"baseSubtypeOf\\\\\":[\\\\\"android.app.ProgressDialog\\\\\",\\\\\"android.app.Dialog\\\\\"],\\\\\"signatureMatcher\\\\\":\\\\\".*show.*\\\\\",\\\\\"ident\\\\\":\\\\\"Dialog_show\\\\\"},\\\\\"lsVars\\\\\":[{\\\\\"$type\\\\\":\\\\\"edu.colorado.plv.bounder.symbolicexecutor.state.NamedPureVar\\\\\",\\\\\"n\\\\\":\\\\\"d\\\\\"},{\\\\\"$type\\\\\":\\\\\"edu.colorado.plv.bounder.symbolicexecutor.state.TopVal\\\\\"},{\\\\\"$type\\\\\":\\\\\"edu.colorado.plv.bounder.symbolicexecutor.state.NamedPureVar\\\\\",\\\\\"n\\\\\":\\\\\"a\\\\\"}]},\\\\\"l2\\\\\":{\\\\\"$type\\\\\":\\\\\"edu.colorado.plv.bounder.lifestate.LifeState.Or\\\\\",\\\\\"l1\\\\\":{\\\\\"$type\\\\\":\\\\\"edu.colorado.plv.bounder.lifestate.LifeState.Not\\\\\",\\\\\"p\\\\\":{\\\\\"$type\\\\\":\\\\\"edu.colorado.plv.bounder.lifestate.LifeState.OAbsMsg\\\\\",\\\\\"mt\\\\\":{\\\\\"$type\\\\\":\\\\\"edu.colorado.plv.bounder.ir.CBEnter\\\\\"},\\\\\"signatures\\\\\":{\\\\\"$type\\\\\":\\\\\"edu.colorado.plv.bounder.lifestate.LifeState.SubClassMatcher\\\\\",\\\\\"baseSubtypeOf\\\\\":[\\\\\"android.app.Activity\\\\\",\\\\\"androidx.fragment.app.FragmentActivity\\\\\"],\\\\\"signatureMatcher\\\\\":\\\\\"void onResume\\\\\\\\\\\\\\\\(\\\\\\\\\\\\\\\\)\\\\\",\\\\\"ident\\\\\":\\\\\"Activity_onResume\\\\\"},\\\\\"lsVars\\\\\":[{\\\\\"$type\\\\\":\\\\\"edu.colorado.plv.bounder.symbolicexecutor.state.TopVal\\\\\"},{\\\\\"$type\\\\\":\\\\\"edu.colorado.plv.bounder.symbolicexecutor.state.NamedPureVar\\\\\",\\\\\"n\\\\\":\\\\\"a\\\\\"}]}},\\\\\"l2\\\\\":{\\\\\"$type\\\\\":\\\\\"edu.colorado.plv.bounder.lifestate.LifeState.NS\\\\\",\\\\\"i1\\\\\":{\\\\\"$type\\\\\":\\\\\"edu.colorado.plv.bounder.lifestate.LifeState.OAbsMsg\\\\\",\\\\\"mt\\\\\":{\\\\\"$type\\\\\":\\\\\"edu.colorado.plv.bounder.ir.CBExit\\\\\"},\\\\\"signatures\\\\\":{\\\\\"$type\\\\\":\\\\\"edu.colorado.plv.bounder.lifestate.LifeState.SubClassMatcher\\\\\",\\\\\"baseSubtypeOf\\\\\":[\\\\\"android.app.Activity\\\\\",\\\\\"androidx.fragment.app.FragmentActivity\\\\\"],\\\\\"signatureMatcher\\\\\":\\\\\"void onPause\\\\\\\\\\\\\\\\(\\\\\\\\\\\\\\\\)\\\\\",\\\\\"ident\\\\\":\\\\\"Activity_onPause\\\\\"},\\\\\"lsVars\\\\\":[{\\\\\"$type\\\\\":\\\\\"edu.colorado.plv.bounder.symbolicexecutor.state.TopVal\\\\\"},{\\\\\"$type\\\\\":\\\\\"edu.colorado.plv.bounder.symbolicexecutor.state.NamedPureVar\\\\\",\\\\\"n\\\\\":\\\\\"a\\\\\"}]},\\\\\"i2\\\\\":{\\\\\"$type\\\\\":\\\\\"edu.colorado.plv.bounder.lifestate.LifeState.OAbsMsg\\\\\",\\\\\"mt\\\\\":{\\\\\"$type\\\\\":\\\\\"edu.colorado.plv.bounder.ir.CBEnter\\\\\"},\\\\\"signatures\\\\\":{\\\\\"$type\\\\\":\\\\\"edu.colorado.plv.bounder.lifestate.LifeState.SubClassMatcher\\\\\",\\\\\"baseSubtypeOf\\\\\":[\\\\\"android.app.Activity\\\\\",\\\\\"androidx.fragment.app.FragmentActivity\\\\\"],\\\\\"signatureMatcher\\\\\":\\\\\"void onResume\\\\\\\\\\\\\\\\(\\\\\\\\\\\\\\\\)\\\\\",\\\\\"ident\\\\\":\\\\\"Activity_onResume\\\\\"},\\\\\"lsVars\\\\\":[{\\\\\"$type\\\\\":\\\\\"edu.colorado.plv.bounder.symbolicexecutor.state.TopVal\\\\\"},{\\\\\"$type\\\\\":\\\\\"edu.colorado.plv.bounder.symbolicexecutor.state.NamedPureVar\\\\\",\\\\\"n\\\\\":\\\\\"a\\\\\"}]}}}},\\\\\"target\\\\\":{\\\\\"$type\\\\\":\\\\\"edu.colorado.plv.bounder.lifestate.LifeState.OAbsMsg\\\\\",\\\\\"mt\\\\\":{\\\\\"$type\\\\\":\\\\\"edu.colorado.plv.bounder.ir.CIEnter\\\\\"},\\\\\"signatures\\\\\":{\\\\\"$type\\\\\":\\\\\"edu.colorado.plv.bounder.lifestate.LifeState.SubClassMatcher\\\\\",\\\\\"baseSubtypeOf\\\\\":[\\\\\"android.app.ProgressDialog\\\\\",\\\\\"android.app.Dialog\\\\\"],\\\\\"signatureMatcher\\\\\":\\\\\"void dismiss\\\\\\\\\\\\\\\\(\\\\\\\\\\\\\\\\)\\\\\",\\\\\"ident\\\\\":\\\\\"Dialog_dismiss\\\\\"},\\\\\"lsVars\\\\\":[{\\\\\"$type\\\\\":\\\\\"edu.colorado.plv.bounder.symbolicexecutor.state.TopVal\\\\\"},{\\\\\"$type\\\\\":\\\\\"edu.colorado.plv.bounder.symbolicexecutor.state.NamedPureVar\\\\\",\\\\\"n\\\\\":\\\\\"d\\\\\"}]}}\"}]}'"
      ]
     },
     "execution_count": 178,
     "metadata": {},
     "output_type": "execute_result"
    }
   ],
   "source": [
    "cfg = %sql select jobs.config from results inner join jobs on results.jobid=jobs.id where cast(results.result::json->'summary' as varchar) like '%Witnessed%' limit 1;\n",
    "cfg[0][0]"
   ]
  },
  {
   "cell_type": "code",
   "execution_count": null,
   "metadata": {},
   "outputs": [],
   "source": [
    "%%sql\n",
    "select id,cast(result::json->'summary' as varchar) as summary,loc::json->'method'->>1 as clazz,loc::json->'method'->>2 from results order by random() limit 5;"
   ]
  },
  {
   "cell_type": "markdown",
   "metadata": {},
   "source": [
    "Triage witness results\n",
    "----------------------"
   ]
  },
  {
   "cell_type": "code",
   "execution_count": 186,
   "metadata": {},
   "outputs": [
    {
     "name": "stdout",
     "output_type": "stream",
     "text": [
      " * postgresql://postgres@localhost:5433/postgres\n",
      "26 rows affected.\n"
     ]
    }
   ],
   "source": [
    "witnessesq = %sql \\\n",
    "select id,jobid,resultdata,loc::json->'method'->>1 as clazz,loc::json->'method'->>2 from results \\\n",
    "                where cast(result::json->'summary' as varchar) like '%Witnessed%' order by id asc;\n",
    "\n",
    "witnessesdf = witnessesq.DataFrame()\n",
    "witnessesdf.to_csv('triageWit.csv')"
   ]
  },
  {
   "cell_type": "code",
   "execution_count": 187,
   "metadata": {},
   "outputs": [
    {
     "name": "stdout",
     "output_type": "stream",
     "text": [
      " * postgresql://postgres@localhost:5433/postgres\n",
      "0 rows affected.\n"
     ]
    }
   ],
   "source": [
    "witnessesq = %sql \\\n",
    "select id,jobid,resultdata,loc::json->'method'->>1 as clazz,loc::json->'method'->>2 from results \\\n",
    "                where cast(result::json->'summary' as varchar) like '%Itimeout%' and cast(result::json->'maxPathCh' as varchar) like '%MultiCallback%' order by id asc;\n",
    "\n",
    "witnessesdf = witnessesq.DataFrame()\n",
    "witnessesdf.to_csv('triageWitMultiTimeout.csv')"
   ]
  },
  {
   "cell_type": "raw",
   "metadata": {},
   "source": [
    "id \tjobid \tresultdata \tclazz \t?column?\n",
    "#29 \t2 \t2 \tcom.lyonbros.turtl.MainActivity \t[\"com.lyonbros.turtl.MainActivity\",\"android.os.Bundle\"]     (my bug) super should always be non null\n",
    "#69 \t1323 \t477 \tcom.gianlu.commonutils.Preferences.BasePreferenceActivity \t[\"com.gianlu.commonutils.Preferences.BasePreferenceActivity\",\"android.view.MenuItem\"]     (simple) arg of cb non null\n",
    "1:09 seems onOptionItemSelected wont get null value \n",
    "#107 \t1326 \t480 \tcom.health.openscale.gui.activities.UserSettingsActivity$1 \t[\"com.health.openscale.gui.activities.UserSettingsActivity$1\",\"android.view.View\"]  (simple) ret val of callin non null 1:14\n",
    "#175 \t1325 \t479 \tcom.duckduckgo.app.brokensite.BrokenSiteActivity \t[\"com.duckduckgo.app.brokensite.BrokenSiteActivity\"] (simple) arg of ci non null 15:28\n",
    "#201 \t1322 \t481 \torg.andstatus.app.util.UriUtils \t[\"void\",\"java.lang.String\"] (simple) non-null callin Optional.of 1:32\n",
    "#206 \t1322 \t481 \torg.andstatus.app.note.NoteBodyTokenizer \t[\"org.andstatus.app.note.NoteBodyTokenizer\",\"java.lang.CharSequence\"] (likely simple) non-null parameter\n",
    "#209 \t1322 \t481 \torg.andstatus.app.timeline.BaseTimelineAdapter \t[\"org.andstatus.app.timeline.BaseTimelineAdapter\",\"android.view.View\"]\n",
    "(revised not interesting, bug, now fixed)(interesting) value from get-parent - can be null i parent not defined. \n",
    "4045 \t1322 \t481 \torg.andstatus.app.data.checker.CheckConversations \t[\"void\",\"org.andstatus.app.data.checker.CheckConversations$NoteItem\"] (possibly interesting) apply callback, may be generated code of some kind? likely a bound callback from something"
   ]
  },
  {
   "cell_type": "raw",
   "metadata": {},
   "source": [
    "1) quick scan of code for patterns that likely involve multi callback crashes.\n",
    "    - deref of value read from field accessed by multiple callbacks (quick syntactic scan, needs minor upgrade to sampler)\n",
    "    - value returned from \"interesting\" callin, e.g. getParent/getActivity - need way to identify these, perhaps just use a few known ones\n",
    "    - sensitive callins e.g. execute\n",
    "    \n",
    "2) write specifications to avoid crashes on sampling of these interesting locations, if that fails, try to reproduce crash\n",
    "\n",
    "\n",
    "RQ: Is it feasible and necessary to write cftl specifications to prove a callback ordering sensitive assertion?\n",
    "\n",
    "We first generate a set of assertions that are likely to be useful to an android developer by scanning for patterns involved in multi callback mistakes.  We then report the number of locations proven 1)without a framework model 2) with the activity lifecycle and 3) with a hand written cftl model.  In the case of writing the model, we measure the time it takes a human to develop such a model.  "
   ]
  },
  {
   "cell_type": "code",
   "execution_count": null,
   "metadata": {},
   "outputs": [],
   "source": [
    "%%sql \n",
    "select id,jobid,resultdata,loc::json->'method'->>1 as clazz, \n",
    "        replace(cast(loc::json->'line'->'str' as varchar),'$','\\$') from results where id = 40;"
   ]
  },
  {
   "cell_type": "markdown",
   "metadata": {},
   "source": [
    "Triage proven results\n",
    "--------------------------"
   ]
  },
  {
   "cell_type": "code",
   "execution_count": null,
   "metadata": {},
   "outputs": [],
   "source": [
    "%%sql \n",
    "select id,jobid,resultdata,loc::json->'method'->>1 as clazz,loc::json->'method'->>2 from results \n",
    "                where cast(result::json->'summary' as varchar) like '%Proven%' order by random() limit 10;"
   ]
  },
  {
   "cell_type": "raw",
   "metadata": {},
   "source": [
    "TODO"
   ]
  },
  {
   "cell_type": "markdown",
   "metadata": {},
   "source": [
    "Triage unreachable results\n",
    "--------------------------"
   ]
  },
  {
   "cell_type": "code",
   "execution_count": null,
   "metadata": {},
   "outputs": [],
   "source": [
    "%%sql \n",
    "select id,jobid,resultdata,loc::json->'method'->>1 as clazz \n",
    "            from results where cast(result::json->'summary' as varchar) like '%Unreachable%' \n",
    "            order by random() limit 15;"
   ]
  },
  {
   "cell_type": "raw",
   "metadata": {},
   "source": [
    "id \tjobid \tresultdata \tclazz\n",
    "3632 \t1315 \t471 \tio.reactivex.Flowable\n",
    "3585 \t1314 \t470 \tcc.fovea.openwith.OpenWithPlugin\n",
    "3645 \t1315 \t471 \tcom.duckduckgo.app.bookmarks.ui.BookmarksViewModel\n",
    "3594 \t1314 \t470 \tcc.fovea.openwith.PluginResultSender\n",
    "3580 \t1314 \t470 \tcc.fovea.openwith.PluginResultSender\n",
    "3627 \t1315 \t471 \tio.reactivex.internal.operators.parallel.ParallelFromPublisher$ParallelDispatcher\n",
    "3629 \t1315 \t471 \tio.reactivex.internal.operators.single.SingleUnsubscribeOn\n",
    "3663 \t1315 \t471 \tio.reactivex.internal.operators.flowable.FlowableTakeUntil$TakeUntilMainSubscriber\n",
    "3582 \t1314 \t470 \tcc.fovea.openwith.PluginResultSender\n",
    "3657 \t1315 \t471 \tio.reactivex.internal.observers.QueueDrainObserver\n",
    "3603 \t1314 \t470 \tcc.fovea.openwith.ByteStreams\n",
    "3669 \t1315 \t471 \tcom.duckduckgo.app.tabs.db.TabsDao_Impl$1\n",
    "3586 \t1314 \t470 \tcc.fovea.openwith.OpenWithPlugin$1\n",
    "3659 \t1315 \t471 \tio.reactivex.internal.operators.flowable.FlowableCreate$BaseEmitter\n",
    "3646 \t1315 \t471 \tio.reactivex.internal.schedulers.SchedulerPoolFactory"
   ]
  },
  {
   "cell_type": "code",
   "execution_count": null,
   "metadata": {},
   "outputs": [],
   "source": [
    "%%sql\n",
    "select id,jobid,resultdata,loc::json->'method'->>1 as clazz, \n",
    "        replace(cast(loc::json->'method'->>0 as varchar),'$','\\$') as mname, \n",
    "        replace(cast(loc::json->'line' as varchar),'$','\\$') as location \n",
    "        from results where id = 15037;"
   ]
  },
  {
   "cell_type": "raw",
   "metadata": {},
   "source": [
    "\n",
    "id      jobid\tresultdata\tclazz\n",
    "15037\t243  \t761     \titkach.aard2.ArticleWebView$4\n",
    "\n",
    "12610\t90  \t676     \torg.tukaani.xz.lzma.LZMAEncoderNormal\n",
    "12479\t368  \t674\t        com.serwylo.lexica.trie.util.LetterFrequency\n",
    "8881\t308 \t436     \tnet.healeys.trie.StringTrie$Node\n",
    "11298\t208 \t573     \torg.tukaani.xz.index.IndexBase\n",
    "\n"
   ]
  },
  {
   "cell_type": "code",
   "execution_count": null,
   "metadata": {},
   "outputs": [],
   "source": [
    "%%sql\n",
    "select id,result,replace(cast(loc::json->'line' as varchar),'$','\\$') as location \n",
    "    from results where loc like '%244 $r3%';"
   ]
  },
  {
   "cell_type": "code",
   "execution_count": null,
   "metadata": {},
   "outputs": [],
   "source": [
    "%%sql\n",
    "select replace(cast(loc as varchar),'$','\\$') from results where id = 1494;"
   ]
  },
  {
   "cell_type": "markdown",
   "metadata": {},
   "source": [
    "Runtime Stats\n",
    "============="
   ]
  },
  {
   "cell_type": "code",
   "execution_count": 108,
   "metadata": {},
   "outputs": [
    {
     "name": "stdout",
     "output_type": "stream",
     "text": [
      " * postgresql://postgres@localhost:5433/postgres\n",
      "36900 rows affected.\n"
     ]
    },
    {
     "data": {
      "text/plain": [
       "Text(0.5, 0, 'time (sec)')"
      ]
     },
     "execution_count": 108,
     "metadata": {},
     "output_type": "execute_result"
    },
    {
     "data": {
      "image/png": "[encoded data removed]",
      "text/plain": [
       "<Figure size 640x480 with 1 Axes>"
      ]
     },
     "metadata": {},
     "output_type": "display_data"
    }
   ],
   "source": [
    "queryTime = %sql select querytime from results;\n",
    "tplt = queryTime.DataFrame().plot.hist(bins=32)\n",
    "# tplt.set_yscale('log')\n",
    "tplt.set_xlabel('time (sec)')\n",
    "# split this into proven and witnessed"
   ]
  },
  {
   "cell_type": "code",
   "execution_count": 109,
   "metadata": {},
   "outputs": [
    {
     "name": "stdout",
     "output_type": "stream",
     "text": [
      " * postgresql://postgres@localhost:5433/postgres\n",
      "1665 rows affected.\n"
     ]
    },
    {
     "data": {
      "text/plain": [
       "Text(0.5, 0, 'time (min)')"
      ]
     },
     "execution_count": 109,
     "metadata": {},
     "output_type": "execute_result"
    },
    {
     "data": {
      "image/png": "[encoded data removed]",
      "text/plain": [
       "<Figure size 640x480 with 1 Axes>"
      ]
     },
     "metadata": {},
     "output_type": "display_data"
    }
   ],
   "source": [
    "# Job runtimes\n",
    "runtimes = %sql select ended - started as time from jobs where ended is not NULL;\n",
    "runtimesDF = runtimes.DataFrame()\n",
    "runtimesDF['time'] = runtimesDF['time'].apply(lambda x: x.total_seconds() / (60))\n",
    "tplt = runtimesDF.plot.hist(bins=32)\n",
    "tplt.set_yscale('log')\n",
    "tplt.set_xlabel('time (min)')"
   ]
  },
  {
   "cell_type": "code",
   "execution_count": 125,
   "metadata": {},
   "outputs": [
    {
     "name": "stdout",
     "output_type": "stream",
     "text": [
      " * postgresql://postgres@localhost:5433/postgres\n",
      "1921 rows affected.\n"
     ]
    },
    {
     "name": "stderr",
     "output_type": "stream",
     "text": [
      "/tmp/ipykernel_8113/1841651425.py:6: UserWarning: marker is redundantly defined by the 'marker' keyword argument and the fmt string \"o\" (-> marker='o'). The keyword argument will take precedence.\n",
      "  ax.plot_date(rtvtDF['started'], rtvtDF['time'], marker='*', linestyle='')\n"
     ]
    },
    {
     "data": {
      "image/png": "[encoded data removed]",
      "text/plain": [
       "<Figure size 640x480 with 1 Axes>"
      ]
     },
     "metadata": {},
     "output_type": "display_data"
    }
   ],
   "source": [
    "# Plot job time trend\n",
    "rtvt = %sql select started, ended - started as time from jobs where ended is not NULL;\n",
    "rtvtDF = rtvt.DataFrame()\n",
    "rtvtDF.sort_values('started', ascending=True)\n",
    "fig, ax = plt.subplots()\n",
    "ax.plot_date(rtvtDF['started'], rtvtDF['time'], marker='*', linestyle='')\n",
    "\n",
    "fig.autofmt_xdate()\n",
    "plt.show()\n"
   ]
  },
  {
   "cell_type": "markdown",
   "metadata": {},
   "source": [
    "Total job time"
   ]
  },
  {
   "cell_type": "code",
   "execution_count": 111,
   "metadata": {},
   "outputs": [
    {
     "name": "stdout",
     "output_type": "stream",
     "text": [
      " * postgresql://postgres@localhost:5433/postgres\n",
      "1 rows affected.\n"
     ]
    },
    {
     "data": {
      "text/html": [
       "<table>\n",
       "    <tr>\n",
       "        <th>sum</th>\n",
       "    </tr>\n",
       "    <tr>\n",
       "        <td>5 days, 8:32:38.636000</td>\n",
       "    </tr>\n",
       "</table>"
      ],
      "text/plain": [
       "[(datetime.timedelta(days=5, seconds=30758, microseconds=636000),)]"
      ]
     },
     "execution_count": 111,
     "metadata": {},
     "output_type": "execute_result"
    }
   ],
   "source": [
    "%%sql\n",
    "select sum(ended-started) from jobs where ended is not NULL;"
   ]
  },
  {
   "cell_type": "code",
   "execution_count": 112,
   "metadata": {},
   "outputs": [
    {
     "name": "stdout",
     "output_type": "stream",
     "text": [
      " * postgresql://postgres@localhost:5433/postgres\n",
      "1 rows affected.\n"
     ]
    },
    {
     "data": {
      "text/html": [
       "<table>\n",
       "    <tr>\n",
       "        <th>?column?</th>\n",
       "    </tr>\n",
       "    <tr>\n",
       "        <td>80.5844444444444444</td>\n",
       "    </tr>\n",
       "</table>"
      ],
      "text/plain": [
       "[(Decimal('80.5844444444444444'),)]"
      ]
     },
     "execution_count": 112,
     "metadata": {},
     "output_type": "execute_result"
    }
   ],
   "source": [
    "%%sql\n",
    "select sum(querytime)/60./60. from results;"
   ]
  },
  {
   "cell_type": "code",
   "execution_count": 128,
   "metadata": {},
   "outputs": [
    {
     "name": "stdout",
     "output_type": "stream",
     "text": [
      " * postgresql://postgres@localhost:5433/postgres\n",
      "1 rows affected.\n"
     ]
    },
    {
     "data": {
      "text/html": [
       "<table>\n",
       "    <tr>\n",
       "        <th>?column?</th>\n",
       "    </tr>\n",
       "    <tr>\n",
       "        <td>1 day, 13:54:09.010372</td>\n",
       "    </tr>\n",
       "</table>"
      ],
      "text/plain": [
       "[(datetime.timedelta(days=1, seconds=50049, microseconds=10372),)]"
      ]
     },
     "execution_count": 128,
     "metadata": {},
     "output_type": "execute_result"
    }
   ],
   "source": [
    "%%sql\n",
    "select now() - min(started) from jobs;"
   ]
  },
  {
   "cell_type": "markdown",
   "metadata": {},
   "source": [
    "Size of postgres data\n",
    "====================="
   ]
  },
  {
   "cell_type": "code",
   "execution_count": 76,
   "metadata": {},
   "outputs": [
    {
     "name": "stdout",
     "output_type": "stream",
     "text": [
      " * postgresql://postgres@localhost:5433/postgres\n",
      "5 rows affected.\n"
     ]
    },
    {
     "data": {
      "text/html": [
       "<table>\n",
       "    <tr>\n",
       "        <th>table_schema</th>\n",
       "        <th>table_name</th>\n",
       "        <th>row_estimate</th>\n",
       "        <th>total</th>\n",
       "        <th>index</th>\n",
       "        <th>toast</th>\n",
       "        <th>table</th>\n",
       "    </tr>\n",
       "    <tr>\n",
       "        <td>public</td>\n",
       "        <td>apks</td>\n",
       "        <td>0.0</td>\n",
       "        <td>98 MB</td>\n",
       "        <td>0 bytes</td>\n",
       "        <td>98 MB</td>\n",
       "        <td>24 kB</td>\n",
       "    </tr>\n",
       "    <tr>\n",
       "        <td>public</td>\n",
       "        <td>results</td>\n",
       "        <td>3701.0</td>\n",
       "        <td>5168 kB</td>\n",
       "        <td>264 kB</td>\n",
       "        <td>424 kB</td>\n",
       "        <td>4480 kB</td>\n",
       "    </tr>\n",
       "    <tr>\n",
       "        <td>public</td>\n",
       "        <td>resultdata</td>\n",
       "        <td>178.0</td>\n",
       "        <td>3128 kB</td>\n",
       "        <td>64 kB</td>\n",
       "        <td>2936 kB</td>\n",
       "        <td>128 kB</td>\n",
       "    </tr>\n",
       "    <tr>\n",
       "        <td>public</td>\n",
       "        <td>jobs</td>\n",
       "        <td>2226.0</td>\n",
       "        <td>1336 kB</td>\n",
       "        <td>192 kB</td>\n",
       "        <td>112 kB</td>\n",
       "        <td>1032 kB</td>\n",
       "    </tr>\n",
       "    <tr>\n",
       "        <td>pg_catalog</td>\n",
       "        <td>pg_proc</td>\n",
       "        <td>3244.0</td>\n",
       "        <td>1192 kB</td>\n",
       "        <td>336 kB</td>\n",
       "        <td>56 kB</td>\n",
       "        <td>800 kB</td>\n",
       "    </tr>\n",
       "</table>"
      ],
      "text/plain": [
       "[('public', 'apks', 0.0, '98 MB', '0 bytes', '98 MB', '24 kB'),\n",
       " ('public', 'results', 3701.0, '5168 kB', '264 kB', '424 kB', '4480 kB'),\n",
       " ('public', 'resultdata', 178.0, '3128 kB', '64 kB', '2936 kB', '128 kB'),\n",
       " ('public', 'jobs', 2226.0, '1336 kB', '192 kB', '112 kB', '1032 kB'),\n",
       " ('pg_catalog', 'pg_proc', 3244.0, '1192 kB', '336 kB', '56 kB', '800 kB')]"
      ]
     },
     "execution_count": 76,
     "metadata": {},
     "output_type": "execute_result"
    }
   ],
   "source": [
    "%%sql\n",
    "WITH RECURSIVE pg_inherit(inhrelid, inhparent) AS\n",
    "    (select inhrelid, inhparent\n",
    "    FROM pg_inherits\n",
    "    UNION\n",
    "    SELECT child.inhrelid, parent.inhparent\n",
    "    FROM pg_inherit child, pg_inherits parent\n",
    "    WHERE child.inhparent = parent.inhrelid),\n",
    "pg_inherit_short AS (SELECT * FROM pg_inherit WHERE inhparent NOT IN (SELECT inhrelid FROM pg_inherit))\n",
    "SELECT table_schema\n",
    "    , TABLE_NAME\n",
    "    , row_estimate\n",
    "    , pg_size_pretty(total_bytes) AS total\n",
    "    , pg_size_pretty(index_bytes) AS INDEX\n",
    "    , pg_size_pretty(toast_bytes) AS toast\n",
    "    , pg_size_pretty(table_bytes) AS TABLE\n",
    "  FROM (\n",
    "    SELECT *, total_bytes-index_bytes-COALESCE(toast_bytes,0) AS table_bytes\n",
    "    FROM (\n",
    "         SELECT c.oid\n",
    "              , nspname AS table_schema\n",
    "              , relname AS TABLE_NAME\n",
    "              , SUM(c.reltuples) OVER (partition BY parent) AS row_estimate\n",
    "              , SUM(pg_total_relation_size(c.oid)) OVER (partition BY parent) AS total_bytes\n",
    "              , SUM(pg_indexes_size(c.oid)) OVER (partition BY parent) AS index_bytes\n",
    "              , SUM(pg_total_relation_size(reltoastrelid)) OVER (partition BY parent) AS toast_bytes\n",
    "              , parent\n",
    "          FROM (\n",
    "                SELECT pg_class.oid\n",
    "                    , reltuples\n",
    "                    , relname\n",
    "                    , relnamespace\n",
    "                    , pg_class.reltoastrelid\n",
    "                    , COALESCE(inhparent, pg_class.oid) parent\n",
    "                FROM pg_class\n",
    "                    LEFT JOIN pg_inherit_short ON inhrelid = oid\n",
    "                WHERE relkind IN ('r', 'p')\n",
    "             ) c\n",
    "             LEFT JOIN pg_namespace n ON n.oid = c.relnamespace\n",
    "  ) a\n",
    "  WHERE oid = parent\n",
    ") a\n",
    "ORDER BY total_bytes DESC limit 5;"
   ]
  },
  {
   "cell_type": "markdown",
   "metadata": {},
   "source": [
    "Inspection of exceptions\n",
    "========================"
   ]
  },
  {
   "cell_type": "code",
   "execution_count": null,
   "metadata": {
    "tags": []
   },
   "outputs": [],
   "source": [
    "%%sql\n",
    "select id,config::json->'apkPath',replace(stderr,'$','\\$') from jobs where stderr like '%Exception%';"
   ]
  },
  {
   "cell_type": "code",
   "execution_count": null,
   "metadata": {},
   "outputs": [],
   "source": [
    "#count of total results\n",
    "%sql select count(*) as Total_locations_computed from results"
   ]
  },
  {
   "cell_type": "code",
   "execution_count": null,
   "metadata": {},
   "outputs": [],
   "source": []
  }
 ],
 "metadata": {
  "kernelspec": {
   "display_name": "Python 3 (ipykernel)",
   "language": "python",
   "name": "python3"
  },
  "language_info": {
   "codemirror_mode": {
    "name": "ipython",
    "version": 3
   },
   "file_extension": ".py",
   "mimetype": "text/x-python",
   "name": "python",
   "nbconvert_exporter": "python",
   "pygments_lexer": "ipython3",
   "version": "3.10.6"
  }
 },
 "nbformat": 4,
 "nbformat_minor": 4
}
