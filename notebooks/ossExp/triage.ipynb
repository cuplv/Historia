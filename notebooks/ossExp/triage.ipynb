{
 "cells": [
  {
   "cell_type": "code",
   "execution_count": 107,
   "metadata": {},
   "outputs": [
    {
     "name": "stdout",
     "output_type": "stream",
     "text": [
      "The sql extension is already loaded. To reload it, use:\n",
      "  %reload_ext sql\n"
     ]
    }
   ],
   "source": [
    "import pandas as pd\n",
    "from IPython.display import JSON\n",
    "import pylab\n",
    "import json\n",
    "%matplotlib inline\n",
    "import matplotlib.pyplot as plt\n",
    "#plt.style.use('seaborn-whitegrid') # TODO: what did this do?\n",
    "import numpy as np\n",
    "from IPython.core import display\n",
    "import psycopg2\n",
    "import os\n",
    "homedir = os.getenv(\"HOME\")\n",
    "with open(homedir + \"/.pgpass\",'r') as pgfile:\n",
    "    pgdat = pgfile.read().strip().split(\":\")\n",
    "    pgurl = pgdat[0]\n",
    "    pgport = pgdat[1]\n",
    "    pgdb = pgdat[2]\n",
    "    pguser = pgdat[3]\n",
    "    pgpass = pgdat[4]\n",
    "\n",
    "%load_ext sql\n",
    "from sqlalchemy import create_engine\n",
    "# sql info: https://github.com/catherinedevlin/ipython-sql\n",
    "# on error `pip install ipython-sql`\n",
    "#uncomment for remote\n",
    "#pgport=3333\n",
    "pgport=5433\n",
    "engine = create_engine('postgresql://postgres@localhost:%i/postgres' % pgport)\n",
    "db = psycopg2.connect(host=pgurl, database=pgdb, user=pguser,password=pgpass,port=pgport)"
   ]
  },
  {
   "cell_type": "code",
   "execution_count": 108,
   "metadata": {},
   "outputs": [],
   "source": [
    "def qry(q):\n",
    "  return pd.read_sql_query(con = db, sql = q)\n",
    "# pd.set_option(\"max_colwidth\", None)\n",
    "# pd.set_option('display.max_columns', None)\n",
    "pd.set_option(\"display.latex.repr\", False)\n",
    "pd.set_option(\"display.latex.escape\", True)\n",
    "\n",
    "def iDisplay(v):\n",
    "    with pd.option_context('display.max_rows', None, 'display.max_columns', None, \"max_colwidth\", None):\n",
    "        display.display(v)\n"
   ]
  },
  {
   "cell_type": "markdown",
   "metadata": {},
   "source": [
    "Count number of uploaded APK files"
   ]
  },
  {
   "cell_type": "code",
   "execution_count": 109,
   "metadata": {},
   "outputs": [
    {
     "name": "stdout",
     "output_type": "stream",
     "text": [
      "1 rows affected.\n"
     ]
    },
    {
     "data": {
      "text/html": [
       "<table>\n",
       "    <tr>\n",
       "        <th>apk_count</th>\n",
       "        <th>blob_count</th>\n",
       "        <th>input_count</th>\n",
       "        <th>job_count</th>\n",
       "        <th>result_data_count</th>\n",
       "        <th>result_count</th>\n",
       "    </tr>\n",
       "    <tr>\n",
       "        <td>55</td>\n",
       "        <td>57</td>\n",
       "        <td>1</td>\n",
       "        <td>1410</td>\n",
       "        <td>1336</td>\n",
       "        <td>1367</td>\n",
       "    </tr>\n",
       "</table>"
      ],
      "text/plain": [
       "[(55, 57, 1, 1410, 1336, 1367)]"
      ]
     },
     "execution_count": 109,
     "metadata": {},
     "output_type": "execute_result"
    }
   ],
   "source": [
    "%%sql postgresql://postgres@localhost:$pgport/postgres\n",
    "select\n",
    "    (select count(*) from apks where apkname not like 'jar_%' and apkname not like 'spec_%') as apk_count,\n",
    "    (select count(*) from apks) as blob_count, \n",
    "    (select count(*) from inputs) as input_count, \n",
    "    (select count(*) from jobs) as job_count, \n",
    "    (select count(*) from resultdata) as result_data_count, \n",
    "    (select count(*) from results) as result_count"
   ]
  },
  {
   "cell_type": "code",
   "execution_count": 127,
   "metadata": {},
   "outputs": [
    {
     "name": "stdout",
     "output_type": "stream",
     "text": [
      "   postgresql://postgres@localhost:3333/postgres\n",
      " * postgresql://postgres@localhost:5433/postgres\n",
      "35 rows affected.\n"
     ]
    },
    {
     "data": {
      "text/html": [
       "<table>\n",
       "    <tr>\n",
       "        <th>status</th>\n",
       "        <th>count</th>\n",
       "    </tr>\n",
       "    <tr>\n",
       "        <td>failed: Non-zero exit code. StdErr: <br>Exception in thread &quot;main&quot; java.lang.OutOfMemoryError: Java heap space<br>\tat soot.util.BitVector.&lt;init&gt;(BitVector.java:46)<br>\tat soot.jimple.spark.sets.HybridPointsToSet.convertToBits(HybridPointsToSet.java:179)<br>\tat soot.jimple.spark.sets.HybridPointsToSet.nativeAddAll(HybridPointsToSet.java:61)<br>\tat soot.jimple.spark.sets.HybridPointsToSet.addAll(HybridPointsToSet.java:98)<br>\tat soot.jimple.spark.sets.DoublePointsToSet.addAll(DoublePointsToSet.java:73)<br>\tat soot.jimple.spark.solver.PropWorklist.handleVarNode(PropWorklist.java:232)<br>\tat soot.jimple.spark.solver.PropWorklist.propagate(PropWorklist.java:81)<br>\tat soot.jimple.spark.SparkTransformer.propagatePAG(SparkTransformer.java:238)<br>\tat soot.jimple.spark.SparkTransformer.internalTransform(SparkTransformer.java:155)<br>\tat soot.SceneTransformer.transform(SceneTransformer.java:36)<br>\tat edu.colorado.plv.bounder.ir.SootWrapper.buildSparkCallGraph(SootWrapper.scala:1157)<br>\tat edu.colorado.plv.bounder.ir.SootWrapper.&lt;init&gt;(SootWrapper.scala:1164)<br>\tat edu.colorado.plv.bounder.Driver$.runAnalysis(Driver.scala:593)<br>\tat edu.colorado.plv.bounder.Driver$.runAction(Driver.scala:325)<br>\tat edu.colorado.plv.bounder.Driver$.main(Driver.scala:274)<br>\tat edu.colorado.plv.bounder.Driver.main(Driver.scala)<br><br>---<br> StdOut:<br>java.library.path set to: /usr/lib/:/usr/java/packages/lib:/usr/lib64:/lib64:/lib:/usr/lib<br>analysis time(ms): 1155917936819<br></td>\n",
       "        <td>1</td>\n",
       "    </tr>\n",
       "    <tr>\n",
       "        <td>failed: Non-zero exit code. StdErr: <br>Exception in thread &quot;main&quot; java.lang.OutOfMemoryError: Java heap space<br>\tat soot.util.BitVector.&lt;init&gt;(BitVector.java:46)<br>\tat soot.jimple.spark.sets.HybridPointsToSet.convertToBits(HybridPointsToSet.java:179)<br>\tat soot.jimple.spark.sets.HybridPointsToSet.nativeAddAll(HybridPointsToSet.java:61)<br>\tat soot.jimple.spark.sets.HybridPointsToSet.addAll(HybridPointsToSet.java:98)<br>\tat soot.jimple.spark.sets.DoublePointsToSet.addAll(DoublePointsToSet.java:73)<br>\tat soot.jimple.spark.solver.PropWorklist.handleVarNode(PropWorklist.java:232)<br>\tat soot.jimple.spark.solver.PropWorklist.propagate(PropWorklist.java:81)<br>\tat soot.jimple.spark.SparkTransformer.propagatePAG(SparkTransformer.java:238)<br>\tat soot.jimple.spark.SparkTransformer.internalTransform(SparkTransformer.java:155)<br>\tat soot.SceneTransformer.transform(SceneTransformer.java:36)<br>\tat edu.colorado.plv.bounder.ir.SootWrapper.buildSparkCallGraph(SootWrapper.scala:1157)<br>\tat edu.colorado.plv.bounder.ir.SootWrapper.&lt;init&gt;(SootWrapper.scala:1164)<br>\tat edu.colorado.plv.bounder.Driver$.runAnalysis(Driver.scala:593)<br>\tat edu.colorado.plv.bounder.Driver$.runAction(Driver.scala:325)<br>\tat edu.colorado.plv.bounder.Driver$.main(Driver.scala:274)<br>\tat edu.colorado.plv.bounder.Driver.main(Driver.scala)<br><br>---<br> StdOut:<br>java.library.path set to: /usr/lib/:/usr/java/packages/lib:/usr/lib64:/lib64:/lib:/usr/lib<br>analysis time(ms): 1193583463351<br></td>\n",
       "        <td>1</td>\n",
       "    </tr>\n",
       "    <tr>\n",
       "        <td>failed: Non-zero exit code. StdErr: <br>Exception in thread &quot;main&quot; java.lang.OutOfMemoryError: Java heap space<br>\tat soot.util.BitVector.&lt;init&gt;(BitVector.java:46)<br>\tat soot.jimple.spark.sets.HybridPointsToSet.convertToBits(HybridPointsToSet.java:179)<br>\tat soot.jimple.spark.sets.HybridPointsToSet.nativeAddAll(HybridPointsToSet.java:61)<br>\tat soot.jimple.spark.sets.HybridPointsToSet.addAll(HybridPointsToSet.java:98)<br>\tat soot.jimple.spark.sets.DoublePointsToSet.addAll(DoublePointsToSet.java:73)<br>\tat soot.jimple.spark.solver.PropWorklist.handleVarNode(PropWorklist.java:232)<br>\tat soot.jimple.spark.solver.PropWorklist.propagate(PropWorklist.java:81)<br>\tat soot.jimple.spark.SparkTransformer.propagatePAG(SparkTransformer.java:238)<br>\tat soot.jimple.spark.SparkTransformer.internalTransform(SparkTransformer.java:155)<br>\tat soot.SceneTransformer.transform(SceneTransformer.java:36)<br>\tat edu.colorado.plv.bounder.ir.SootWrapper.buildSparkCallGraph(SootWrapper.scala:1157)<br>\tat edu.colorado.plv.bounder.ir.SootWrapper.&lt;init&gt;(SootWrapper.scala:1164)<br>\tat edu.colorado.plv.bounder.Driver$.runAnalysis(Driver.scala:593)<br>\tat edu.colorado.plv.bounder.Driver$.runAction(Driver.scala:325)<br>\tat edu.colorado.plv.bounder.Driver$.main(Driver.scala:274)<br>\tat edu.colorado.plv.bounder.Driver.main(Driver.scala)<br><br>---<br> StdOut:<br>java.library.path set to: /usr/lib/:/usr/java/packages/lib:/usr/lib64:/lib64:/lib:/usr/lib<br>analysis time(ms): 1265834825800<br></td>\n",
       "        <td>1</td>\n",
       "    </tr>\n",
       "    <tr>\n",
       "        <td>failed: Non-zero exit code. StdErr: <br>Exception in thread &quot;main&quot; java.lang.OutOfMemoryError: Java heap space<br>\tat soot.util.BitVector.&lt;init&gt;(BitVector.java:46)<br>\tat soot.jimple.spark.sets.HybridPointsToSet.convertToBits(HybridPointsToSet.java:179)<br>\tat soot.jimple.spark.sets.HybridPointsToSet.nativeAddAll(HybridPointsToSet.java:61)<br>\tat soot.jimple.spark.sets.HybridPointsToSet.addAll(HybridPointsToSet.java:98)<br>\tat soot.jimple.spark.sets.DoublePointsToSet.addAll(DoublePointsToSet.java:73)<br>\tat soot.jimple.spark.solver.PropWorklist.handleVarNode(PropWorklist.java:232)<br>\tat soot.jimple.spark.solver.PropWorklist.propagate(PropWorklist.java:81)<br>\tat soot.jimple.spark.SparkTransformer.propagatePAG(SparkTransformer.java:238)<br>\tat soot.jimple.spark.SparkTransformer.internalTransform(SparkTransformer.java:155)<br>\tat soot.SceneTransformer.transform(SceneTransformer.java:36)<br>\tat edu.colorado.plv.bounder.ir.SootWrapper.buildSparkCallGraph(SootWrapper.scala:1157)<br>\tat edu.colorado.plv.bounder.ir.SootWrapper.&lt;init&gt;(SootWrapper.scala:1164)<br>\tat edu.colorado.plv.bounder.Driver$.runAnalysis(Driver.scala:593)<br>\tat edu.colorado.plv.bounder.Driver$.runAction(Driver.scala:325)<br>\tat edu.colorado.plv.bounder.Driver$.main(Driver.scala:274)<br>\tat edu.colorado.plv.bounder.Driver.main(Driver.scala)<br><br>---<br> StdOut:<br>java.library.path set to: /usr/lib/:/usr/java/packages/lib:/usr/lib64:/lib64:/lib:/usr/lib<br>analysis time(ms): 1265897916769<br></td>\n",
       "        <td>1</td>\n",
       "    </tr>\n",
       "    <tr>\n",
       "        <td>failed: Non-zero exit code. StdErr: <br>Exception in thread &quot;main&quot; java.lang.OutOfMemoryError: Java heap space<br>\tat soot.util.BitVector.&lt;init&gt;(BitVector.java:46)<br>\tat soot.jimple.spark.sets.HybridPointsToSet.convertToBits(HybridPointsToSet.java:179)<br>\tat soot.jimple.spark.sets.HybridPointsToSet.nativeAddAll(HybridPointsToSet.java:61)<br>\tat soot.jimple.spark.sets.HybridPointsToSet.addAll(HybridPointsToSet.java:98)<br>\tat soot.jimple.spark.sets.DoublePointsToSet.addAll(DoublePointsToSet.java:73)<br>\tat soot.jimple.spark.solver.PropWorklist.handleVarNode(PropWorklist.java:232)<br>\tat soot.jimple.spark.solver.PropWorklist.propagate(PropWorklist.java:81)<br>\tat soot.jimple.spark.SparkTransformer.propagatePAG(SparkTransformer.java:238)<br>\tat soot.jimple.spark.SparkTransformer.internalTransform(SparkTransformer.java:155)<br>\tat soot.SceneTransformer.transform(SceneTransformer.java:36)<br>\tat edu.colorado.plv.bounder.ir.SootWrapper.buildSparkCallGraph(SootWrapper.scala:1157)<br>\tat edu.colorado.plv.bounder.ir.SootWrapper.&lt;init&gt;(SootWrapper.scala:1164)<br>\tat edu.colorado.plv.bounder.Driver$.runAnalysis(Driver.scala:593)<br>\tat edu.colorado.plv.bounder.Driver$.runAction(Driver.scala:325)<br>\tat edu.colorado.plv.bounder.Driver$.main(Driver.scala:274)<br>\tat edu.colorado.plv.bounder.Driver.main(Driver.scala)<br><br>---<br> StdOut:<br>java.library.path set to: /usr/lib/:/usr/java/packages/lib:/usr/lib64:/lib64:/lib:/usr/lib<br>analysis time(ms): 1290147273219<br></td>\n",
       "        <td>1</td>\n",
       "    </tr>\n",
       "    <tr>\n",
       "        <td>failed: Non-zero exit code. StdErr: <br>Exception in thread &quot;main&quot; java.lang.OutOfMemoryError: Java heap space<br>\tat soot.util.BitVector.&lt;init&gt;(BitVector.java:46)<br>\tat soot.jimple.spark.sets.HybridPointsToSet.convertToBits(HybridPointsToSet.java:179)<br>\tat soot.jimple.spark.sets.HybridPointsToSet.nativeAddAll(HybridPointsToSet.java:61)<br>\tat soot.jimple.spark.sets.HybridPointsToSet.addAll(HybridPointsToSet.java:98)<br>\tat soot.jimple.spark.sets.DoublePointsToSet.addAll(DoublePointsToSet.java:73)<br>\tat soot.jimple.spark.solver.PropWorklist.handleVarNode(PropWorklist.java:232)<br>\tat soot.jimple.spark.solver.PropWorklist.propagate(PropWorklist.java:81)<br>\tat soot.jimple.spark.SparkTransformer.propagatePAG(SparkTransformer.java:238)<br>\tat soot.jimple.spark.SparkTransformer.internalTransform(SparkTransformer.java:155)<br>\tat soot.SceneTransformer.transform(SceneTransformer.java:36)<br>\tat edu.colorado.plv.bounder.ir.SootWrapper.buildSparkCallGraph(SootWrapper.scala:1157)<br>\tat edu.colorado.plv.bounder.ir.SootWrapper.&lt;init&gt;(SootWrapper.scala:1164)<br>\tat edu.colorado.plv.bounder.Driver$.runAnalysis(Driver.scala:593)<br>\tat edu.colorado.plv.bounder.Driver$.runAction(Driver.scala:325)<br>\tat edu.colorado.plv.bounder.Driver$.main(Driver.scala:274)<br>\tat edu.colorado.plv.bounder.Driver.main(Driver.scala)<br><br>---<br> StdOut:<br>java.library.path set to: /usr/lib/:/usr/java/packages/lib:/usr/lib64:/lib64:/lib:/usr/lib<br>analysis time(ms): 1396569623754<br></td>\n",
       "        <td>1</td>\n",
       "    </tr>\n",
       "    <tr>\n",
       "        <td>failed: Non-zero exit code. StdErr: <br>Exception in thread &quot;main&quot; java.lang.OutOfMemoryError: Java heap space<br>\tat soot.util.BitVector.&lt;init&gt;(BitVector.java:46)<br>\tat soot.jimple.spark.sets.HybridPointsToSet.convertToBits(HybridPointsToSet.java:179)<br>\tat soot.jimple.spark.sets.HybridPointsToSet.nativeAddAll(HybridPointsToSet.java:61)<br>\tat soot.jimple.spark.sets.HybridPointsToSet.addAll(HybridPointsToSet.java:98)<br>\tat soot.jimple.spark.sets.DoublePointsToSet.addAll(DoublePointsToSet.java:73)<br>\tat soot.jimple.spark.solver.PropWorklist.handleVarNode(PropWorklist.java:232)<br>\tat soot.jimple.spark.solver.PropWorklist.propagate(PropWorklist.java:81)<br>\tat soot.jimple.spark.SparkTransformer.propagatePAG(SparkTransformer.java:238)<br>\tat soot.jimple.spark.SparkTransformer.internalTransform(SparkTransformer.java:155)<br>\tat soot.SceneTransformer.transform(SceneTransformer.java:36)<br>\tat edu.colorado.plv.bounder.ir.SootWrapper.buildSparkCallGraph(SootWrapper.scala:1157)<br>\tat edu.colorado.plv.bounder.ir.SootWrapper.&lt;init&gt;(SootWrapper.scala:1164)<br>\tat edu.colorado.plv.bounder.Driver$.runAnalysis(Driver.scala:593)<br>\tat edu.colorado.plv.bounder.Driver$.runAction(Driver.scala:325)<br>\tat edu.colorado.plv.bounder.Driver$.main(Driver.scala:274)<br>\tat edu.colorado.plv.bounder.Driver.main(Driver.scala)<br><br>---<br> StdOut:<br>java.library.path set to: /usr/lib/:/usr/java/packages/lib:/usr/lib64:/lib64:/lib:/usr/lib<br>analysis time(ms): 1406617763604<br></td>\n",
       "        <td>1</td>\n",
       "    </tr>\n",
       "    <tr>\n",
       "        <td>failed: Non-zero exit code. StdErr: <br>Exception in thread &quot;main&quot; java.lang.OutOfMemoryError: Java heap space<br>\tat soot.util.BitVector.&lt;init&gt;(BitVector.java:46)<br>\tat soot.jimple.spark.sets.HybridPointsToSet.convertToBits(HybridPointsToSet.java:179)<br>\tat soot.jimple.spark.sets.HybridPointsToSet.nativeAddAll(HybridPointsToSet.java:61)<br>\tat soot.jimple.spark.sets.HybridPointsToSet.addAll(HybridPointsToSet.java:98)<br>\tat soot.jimple.spark.sets.DoublePointsToSet.addAll(DoublePointsToSet.java:73)<br>\tat soot.jimple.spark.solver.PropWorklist.handleVarNode(PropWorklist.java:232)<br>\tat soot.jimple.spark.solver.PropWorklist.propagate(PropWorklist.java:81)<br>\tat soot.jimple.spark.SparkTransformer.propagatePAG(SparkTransformer.java:238)<br>\tat soot.jimple.spark.SparkTransformer.internalTransform(SparkTransformer.java:155)<br>\tat soot.SceneTransformer.transform(SceneTransformer.java:36)<br>\tat edu.colorado.plv.bounder.ir.SootWrapper.buildSparkCallGraph(SootWrapper.scala:1157)<br>\tat edu.colorado.plv.bounder.ir.SootWrapper.&lt;init&gt;(SootWrapper.scala:1164)<br>\tat edu.colorado.plv.bounder.Driver$.runAnalysis(Driver.scala:593)<br>\tat edu.colorado.plv.bounder.Driver$.runAction(Driver.scala:325)<br>\tat edu.colorado.plv.bounder.Driver$.main(Driver.scala:274)<br>\tat edu.colorado.plv.bounder.Driver.main(Driver.scala)<br><br>---<br> StdOut:<br>java.library.path set to: /usr/lib/:/usr/java/packages/lib:/usr/lib64:/lib64:/lib:/usr/lib<br>analysis time(ms): 1409263027517<br></td>\n",
       "        <td>1</td>\n",
       "    </tr>\n",
       "    <tr>\n",
       "        <td>failed: Non-zero exit code. StdErr: <br>Exception in thread &quot;main&quot; java.lang.OutOfMemoryError: Java heap space<br>\tat soot.util.BitVector.&lt;init&gt;(BitVector.java:46)<br>\tat soot.jimple.spark.sets.HybridPointsToSet.convertToBits(HybridPointsToSet.java:179)<br>\tat soot.jimple.spark.sets.HybridPointsToSet.nativeAddAll(HybridPointsToSet.java:61)<br>\tat soot.jimple.spark.sets.HybridPointsToSet.addAll(HybridPointsToSet.java:98)<br>\tat soot.jimple.spark.sets.DoublePointsToSet.addAll(DoublePointsToSet.java:73)<br>\tat soot.jimple.spark.solver.PropWorklist.handleVarNode(PropWorklist.java:232)<br>\tat soot.jimple.spark.solver.PropWorklist.propagate(PropWorklist.java:81)<br>\tat soot.jimple.spark.SparkTransformer.propagatePAG(SparkTransformer.java:238)<br>\tat soot.jimple.spark.SparkTransformer.internalTransform(SparkTransformer.java:155)<br>\tat soot.SceneTransformer.transform(SceneTransformer.java:36)<br>\tat edu.colorado.plv.bounder.ir.SootWrapper.buildSparkCallGraph(SootWrapper.scala:1157)<br>\tat edu.colorado.plv.bounder.ir.SootWrapper.&lt;init&gt;(SootWrapper.scala:1164)<br>\tat edu.colorado.plv.bounder.Driver$.runAnalysis(Driver.scala:593)<br>\tat edu.colorado.plv.bounder.Driver$.runAction(Driver.scala:325)<br>\tat edu.colorado.plv.bounder.Driver$.main(Driver.scala:274)<br>\tat edu.colorado.plv.bounder.Driver.main(Driver.scala)<br><br>---<br> StdOut:<br>java.library.path set to: /usr/lib/:/usr/java/packages/lib:/usr/lib64:/lib64:/lib:/usr/lib<br>analysis time(ms): 1457801048798<br></td>\n",
       "        <td>1</td>\n",
       "    </tr>\n",
       "    <tr>\n",
       "        <td>failed: Non-zero exit code. StdErr: <br>Exception in thread &quot;main&quot; java.lang.OutOfMemoryError: Java heap space<br>\tat soot.util.BitVector.&lt;init&gt;(BitVector.java:46)<br>\tat soot.jimple.spark.sets.HybridPointsToSet.convertToBits(HybridPointsToSet.java:179)<br>\tat soot.jimple.spark.sets.HybridPointsToSet.nativeAddAll(HybridPointsToSet.java:61)<br>\tat soot.jimple.spark.sets.HybridPointsToSet.addAll(HybridPointsToSet.java:98)<br>\tat soot.jimple.spark.sets.DoublePointsToSet.addAll(DoublePointsToSet.java:73)<br>\tat soot.jimple.spark.solver.PropWorklist.handleVarNode(PropWorklist.java:232)<br>\tat soot.jimple.spark.solver.PropWorklist.propagate(PropWorklist.java:81)<br>\tat soot.jimple.spark.SparkTransformer.propagatePAG(SparkTransformer.java:238)<br>\tat soot.jimple.spark.SparkTransformer.internalTransform(SparkTransformer.java:155)<br>\tat soot.SceneTransformer.transform(SceneTransformer.java:36)<br>\tat edu.colorado.plv.bounder.ir.SootWrapper.buildSparkCallGraph(SootWrapper.scala:1157)<br>\tat edu.colorado.plv.bounder.ir.SootWrapper.&lt;init&gt;(SootWrapper.scala:1164)<br>\tat edu.colorado.plv.bounder.Driver$.runAnalysis(Driver.scala:593)<br>\tat edu.colorado.plv.bounder.Driver$.runAction(Driver.scala:325)<br>\tat edu.colorado.plv.bounder.Driver$.main(Driver.scala:274)<br>\tat edu.colorado.plv.bounder.Driver.main(Driver.scala)<br><br>---<br> StdOut:<br>java.library.path set to: /usr/lib/:/usr/java/packages/lib:/usr/lib64:/lib64:/lib:/usr/lib<br>analysis time(ms): 2181406319915<br></td>\n",
       "        <td>1</td>\n",
       "    </tr>\n",
       "    <tr>\n",
       "        <td>failed: Non-zero exit code. StdErr: <br>Exception in thread &quot;main&quot; java.lang.OutOfMemoryError: Java heap space<br>\tat soot.util.BitVector.&lt;init&gt;(BitVector.java:46)<br>\tat soot.jimple.spark.sets.HybridPointsToSet.convertToBits(HybridPointsToSet.java:179)<br>\tat soot.jimple.spark.sets.HybridPointsToSet.nativeAddAll(HybridPointsToSet.java:61)<br>\tat soot.jimple.spark.sets.HybridPointsToSet.addAll(HybridPointsToSet.java:98)<br>\tat soot.jimple.spark.sets.DoublePointsToSet.addAll(DoublePointsToSet.java:73)<br>\tat soot.jimple.spark.solver.PropWorklist.propagate(PropWorklist.java:111)<br>\tat soot.jimple.spark.SparkTransformer.propagatePAG(SparkTransformer.java:238)<br>\tat soot.jimple.spark.SparkTransformer.internalTransform(SparkTransformer.java:155)<br>\tat soot.SceneTransformer.transform(SceneTransformer.java:36)<br>\tat edu.colorado.plv.bounder.ir.SootWrapper.buildSparkCallGraph(SootWrapper.scala:1157)<br>\tat edu.colorado.plv.bounder.ir.SootWrapper.&lt;init&gt;(SootWrapper.scala:1164)<br>\tat edu.colorado.plv.bounder.Driver$.runAnalysis(Driver.scala:593)<br>\tat edu.colorado.plv.bounder.Driver$.runAction(Driver.scala:325)<br>\tat edu.colorado.plv.bounder.Driver$.main(Driver.scala:274)<br>\tat edu.colorado.plv.bounder.Driver.main(Driver.scala)<br><br>---<br> StdOut:<br>java.library.path set to: /usr/lib/:/usr/java/packages/lib:/usr/lib64:/lib64:/lib:/usr/lib<br>analysis time(ms): 1163929423825<br></td>\n",
       "        <td>1</td>\n",
       "    </tr>\n",
       "    <tr>\n",
       "        <td>failed: Non-zero exit code. StdErr: <br>Exception in thread &quot;main&quot; java.lang.OutOfMemoryError: Java heap space<br>\tat soot.util.BitVector.&lt;init&gt;(BitVector.java:46)<br>\tat soot.jimple.spark.sets.HybridPointsToSet.convertToBits(HybridPointsToSet.java:179)<br>\tat soot.jimple.spark.sets.HybridPointsToSet.nativeAddAll(HybridPointsToSet.java:61)<br>\tat soot.jimple.spark.sets.HybridPointsToSet.addAll(HybridPointsToSet.java:98)<br>\tat soot.jimple.spark.sets.DoublePointsToSet.addAll(DoublePointsToSet.java:73)<br>\tat soot.jimple.spark.solver.PropWorklist.propagate(PropWorklist.java:111)<br>\tat soot.jimple.spark.SparkTransformer.propagatePAG(SparkTransformer.java:238)<br>\tat soot.jimple.spark.SparkTransformer.internalTransform(SparkTransformer.java:155)<br>\tat soot.SceneTransformer.transform(SceneTransformer.java:36)<br>\tat edu.colorado.plv.bounder.ir.SootWrapper.buildSparkCallGraph(SootWrapper.scala:1157)<br>\tat edu.colorado.plv.bounder.ir.SootWrapper.&lt;init&gt;(SootWrapper.scala:1164)<br>\tat edu.colorado.plv.bounder.Driver$.runAnalysis(Driver.scala:593)<br>\tat edu.colorado.plv.bounder.Driver$.runAction(Driver.scala:325)<br>\tat edu.colorado.plv.bounder.Driver$.main(Driver.scala:274)<br>\tat edu.colorado.plv.bounder.Driver.main(Driver.scala)<br><br>---<br> StdOut:<br>java.library.path set to: /usr/lib/:/usr/java/packages/lib:/usr/lib64:/lib64:/lib:/usr/lib<br>analysis time(ms): 1169852620724<br></td>\n",
       "        <td>1</td>\n",
       "    </tr>\n",
       "    <tr>\n",
       "        <td>failed: Non-zero exit code. StdErr: <br>Exception in thread &quot;main&quot; java.lang.OutOfMemoryError: Java heap space<br>\tat soot.util.BitVector.&lt;init&gt;(BitVector.java:46)<br>\tat soot.jimple.spark.sets.HybridPointsToSet.convertToBits(HybridPointsToSet.java:179)<br>\tat soot.jimple.spark.sets.HybridPointsToSet.nativeAddAll(HybridPointsToSet.java:61)<br>\tat soot.jimple.spark.sets.HybridPointsToSet.addAll(HybridPointsToSet.java:98)<br>\tat soot.jimple.spark.sets.DoublePointsToSet.addAll(DoublePointsToSet.java:73)<br>\tat soot.jimple.spark.solver.PropWorklist.propagate(PropWorklist.java:111)<br>\tat soot.jimple.spark.SparkTransformer.propagatePAG(SparkTransformer.java:238)<br>\tat soot.jimple.spark.SparkTransformer.internalTransform(SparkTransformer.java:155)<br>\tat soot.SceneTransformer.transform(SceneTransformer.java:36)<br>\tat edu.colorado.plv.bounder.ir.SootWrapper.buildSparkCallGraph(SootWrapper.scala:1157)<br>\tat edu.colorado.plv.bounder.ir.SootWrapper.&lt;init&gt;(SootWrapper.scala:1164)<br>\tat edu.colorado.plv.bounder.Driver$.runAnalysis(Driver.scala:593)<br>\tat edu.colorado.plv.bounder.Driver$.runAction(Driver.scala:325)<br>\tat edu.colorado.plv.bounder.Driver$.main(Driver.scala:274)<br>\tat edu.colorado.plv.bounder.Driver.main(Driver.scala)<br><br>---<br> StdOut:<br>java.library.path set to: /usr/lib/:/usr/java/packages/lib:/usr/lib64:/lib64:/lib:/usr/lib<br>analysis time(ms): 1216047903897<br></td>\n",
       "        <td>1</td>\n",
       "    </tr>\n",
       "    <tr>\n",
       "        <td>failed: Non-zero exit code. StdErr: <br>Exception in thread &quot;main&quot; java.lang.OutOfMemoryError: Java heap space<br>\tat soot.util.BitVector.&lt;init&gt;(BitVector.java:46)<br>\tat soot.jimple.spark.sets.HybridPointsToSet.convertToBits(HybridPointsToSet.java:179)<br>\tat soot.jimple.spark.sets.HybridPointsToSet.nativeAddAll(HybridPointsToSet.java:61)<br>\tat soot.jimple.spark.sets.HybridPointsToSet.addAll(HybridPointsToSet.java:98)<br>\tat soot.jimple.spark.sets.DoublePointsToSet.addAll(DoublePointsToSet.java:73)<br>\tat soot.jimple.spark.solver.PropWorklist.propagate(PropWorklist.java:111)<br>\tat soot.jimple.spark.SparkTransformer.propagatePAG(SparkTransformer.java:238)<br>\tat soot.jimple.spark.SparkTransformer.internalTransform(SparkTransformer.java:155)<br>\tat soot.SceneTransformer.transform(SceneTransformer.java:36)<br>\tat edu.colorado.plv.bounder.ir.SootWrapper.buildSparkCallGraph(SootWrapper.scala:1157)<br>\tat edu.colorado.plv.bounder.ir.SootWrapper.&lt;init&gt;(SootWrapper.scala:1164)<br>\tat edu.colorado.plv.bounder.Driver$.runAnalysis(Driver.scala:593)<br>\tat edu.colorado.plv.bounder.Driver$.runAction(Driver.scala:325)<br>\tat edu.colorado.plv.bounder.Driver$.main(Driver.scala:274)<br>\tat edu.colorado.plv.bounder.Driver.main(Driver.scala)<br><br>---<br> StdOut:<br>java.library.path set to: /usr/lib/:/usr/java/packages/lib:/usr/lib64:/lib64:/lib:/usr/lib<br>analysis time(ms): 1293701345973<br></td>\n",
       "        <td>1</td>\n",
       "    </tr>\n",
       "    <tr>\n",
       "        <td>failed: Non-zero exit code. StdErr: <br>Exception in thread &quot;main&quot; java.lang.OutOfMemoryError: Java heap space<br>\tat soot.util.BitVector.&lt;init&gt;(BitVector.java:46)<br>\tat soot.jimple.spark.sets.HybridPointsToSet.convertToBits(HybridPointsToSet.java:179)<br>\tat soot.jimple.spark.sets.HybridPointsToSet.nativeAddAll(HybridPointsToSet.java:61)<br>\tat soot.jimple.spark.sets.HybridPointsToSet.addAll(HybridPointsToSet.java:98)<br>\tat soot.jimple.spark.sets.DoublePointsToSet.addAll(DoublePointsToSet.java:73)<br>\tat soot.jimple.spark.solver.PropWorklist.propagate(PropWorklist.java:111)<br>\tat soot.jimple.spark.SparkTransformer.propagatePAG(SparkTransformer.java:238)<br>\tat soot.jimple.spark.SparkTransformer.internalTransform(SparkTransformer.java:155)<br>\tat soot.SceneTransformer.transform(SceneTransformer.java:36)<br>\tat edu.colorado.plv.bounder.ir.SootWrapper.buildSparkCallGraph(SootWrapper.scala:1157)<br>\tat edu.colorado.plv.bounder.ir.SootWrapper.&lt;init&gt;(SootWrapper.scala:1164)<br>\tat edu.colorado.plv.bounder.Driver$.runAnalysis(Driver.scala:593)<br>\tat edu.colorado.plv.bounder.Driver$.runAction(Driver.scala:325)<br>\tat edu.colorado.plv.bounder.Driver$.main(Driver.scala:274)<br>\tat edu.colorado.plv.bounder.Driver.main(Driver.scala)<br><br>---<br> StdOut:<br>java.library.path set to: /usr/lib/:/usr/java/packages/lib:/usr/lib64:/lib64:/lib:/usr/lib<br>analysis time(ms): 1403937544124<br></td>\n",
       "        <td>1</td>\n",
       "    </tr>\n",
       "    <tr>\n",
       "        <td>failed: Non-zero exit code. StdErr: <br>Exception in thread &quot;main&quot; java.lang.OutOfMemoryError: Java heap space<br>\tat soot.util.BitVector.&lt;init&gt;(BitVector.java:46)<br>\tat soot.jimple.spark.sets.HybridPointsToSet.convertToBits(HybridPointsToSet.java:179)<br>\tat soot.jimple.spark.sets.HybridPointsToSet.nativeAddAll(HybridPointsToSet.java:61)<br>\tat soot.jimple.spark.sets.HybridPointsToSet.addAll(HybridPointsToSet.java:98)<br>\tat soot.jimple.spark.sets.DoublePointsToSet.addAll(DoublePointsToSet.java:73)<br>\tat soot.jimple.spark.solver.PropWorklist.propagate(PropWorklist.java:111)<br>\tat soot.jimple.spark.SparkTransformer.propagatePAG(SparkTransformer.java:238)<br>\tat soot.jimple.spark.SparkTransformer.internalTransform(SparkTransformer.java:155)<br>\tat soot.SceneTransformer.transform(SceneTransformer.java:36)<br>\tat edu.colorado.plv.bounder.ir.SootWrapper.buildSparkCallGraph(SootWrapper.scala:1157)<br>\tat edu.colorado.plv.bounder.ir.SootWrapper.&lt;init&gt;(SootWrapper.scala:1164)<br>\tat edu.colorado.plv.bounder.Driver$.runAnalysis(Driver.scala:593)<br>\tat edu.colorado.plv.bounder.Driver$.runAction(Driver.scala:325)<br>\tat edu.colorado.plv.bounder.Driver$.main(Driver.scala:274)<br>\tat edu.colorado.plv.bounder.Driver.main(Driver.scala)<br><br>---<br> StdOut:<br>java.library.path set to: /usr/lib/:/usr/java/packages/lib:/usr/lib64:/lib64:/lib:/usr/lib<br>analysis time(ms): 1443336904083<br></td>\n",
       "        <td>1</td>\n",
       "    </tr>\n",
       "    <tr>\n",
       "        <td>failed: Non-zero exit code. StdErr: <br>Exception in thread &quot;main&quot; java.lang.OutOfMemoryError: Java heap space<br>\tat soot.util.BitVector.&lt;init&gt;(BitVector.java:46)<br>\tat soot.jimple.spark.sets.HybridPointsToSet.convertToBits(HybridPointsToSet.java:179)<br>\tat soot.jimple.spark.sets.HybridPointsToSet.nativeAddAll(HybridPointsToSet.java:61)<br>\tat soot.jimple.spark.sets.HybridPointsToSet.addAll(HybridPointsToSet.java:98)<br>\tat soot.jimple.spark.sets.DoublePointsToSet.addAll(DoublePointsToSet.java:73)<br>\tat soot.jimple.spark.solver.PropWorklist.propagate(PropWorklist.java:111)<br>\tat soot.jimple.spark.SparkTransformer.propagatePAG(SparkTransformer.java:238)<br>\tat soot.jimple.spark.SparkTransformer.internalTransform(SparkTransformer.java:155)<br>\tat soot.SceneTransformer.transform(SceneTransformer.java:36)<br>\tat edu.colorado.plv.bounder.ir.SootWrapper.buildSparkCallGraph(SootWrapper.scala:1157)<br>\tat edu.colorado.plv.bounder.ir.SootWrapper.&lt;init&gt;(SootWrapper.scala:1164)<br>\tat edu.colorado.plv.bounder.Driver$.runAnalysis(Driver.scala:593)<br>\tat edu.colorado.plv.bounder.Driver$.runAction(Driver.scala:325)<br>\tat edu.colorado.plv.bounder.Driver$.main(Driver.scala:274)<br>\tat edu.colorado.plv.bounder.Driver.main(Driver.scala)<br><br>---<br> StdOut:<br>java.library.path set to: /usr/lib/:/usr/java/packages/lib:/usr/lib64:/lib64:/lib:/usr/lib<br>analysis time(ms): 1477812784844<br></td>\n",
       "        <td>1</td>\n",
       "    </tr>\n",
       "    <tr>\n",
       "        <td>failed: Non-zero exit code. StdErr: <br>Exception in thread &quot;main&quot; java.lang.OutOfMemoryError: Java heap space<br>\tat soot.util.BitVector.&lt;init&gt;(BitVector.java:46)<br>\tat soot.jimple.spark.sets.HybridPointsToSet.convertToBits(HybridPointsToSet.java:179)<br>\tat soot.jimple.spark.sets.HybridPointsToSet.nativeAddAll(HybridPointsToSet.java:61)<br>\tat soot.jimple.spark.sets.HybridPointsToSet.addAll(HybridPointsToSet.java:98)<br>\tat soot.jimple.spark.sets.DoublePointsToSet.addAll(DoublePointsToSet.java:73)<br>\tat soot.jimple.spark.solver.PropWorklist.propagate(PropWorklist.java:111)<br>\tat soot.jimple.spark.SparkTransformer.propagatePAG(SparkTransformer.java:238)<br>\tat soot.jimple.spark.SparkTransformer.internalTransform(SparkTransformer.java:155)<br>\tat soot.SceneTransformer.transform(SceneTransformer.java:36)<br>\tat edu.colorado.plv.bounder.ir.SootWrapper.buildSparkCallGraph(SootWrapper.scala:1157)<br>\tat edu.colorado.plv.bounder.ir.SootWrapper.&lt;init&gt;(SootWrapper.scala:1164)<br>\tat edu.colorado.plv.bounder.Driver$.runAnalysis(Driver.scala:593)<br>\tat edu.colorado.plv.bounder.Driver$.runAction(Driver.scala:325)<br>\tat edu.colorado.plv.bounder.Driver$.main(Driver.scala:274)<br>\tat edu.colorado.plv.bounder.Driver.main(Driver.scala)<br><br>---<br> StdOut:<br>java.library.path set to: /usr/lib/:/usr/java/packages/lib:/usr/lib64:/lib64:/lib:/usr/lib<br>analysis time(ms): 961825557724<br></td>\n",
       "        <td>1</td>\n",
       "    </tr>\n",
       "    <tr>\n",
       "        <td>failed: Non-zero exit code. StdErr: <br>Exception in thread &quot;main&quot; java.lang.OutOfMemoryError: Java heap space<br>\tat soot.util.BitVector.orAndAndNot(BitVector.java:339)<br>\tat soot.jimple.spark.sets.HybridPointsToSet.nativeAddAll(HybridPointsToSet.java:71)<br>\tat soot.jimple.spark.sets.HybridPointsToSet.addAll(HybridPointsToSet.java:98)<br>\tat soot.jimple.spark.sets.DoublePointsToSet.addAll(DoublePointsToSet.java:73)<br>\tat soot.jimple.spark.solver.PropWorklist.handleVarNode(PropWorklist.java:232)<br>\tat soot.jimple.spark.solver.PropWorklist.propagate(PropWorklist.java:81)<br>\tat soot.jimple.spark.SparkTransformer.propagatePAG(SparkTransformer.java:238)<br>\tat soot.jimple.spark.SparkTransformer.internalTransform(SparkTransformer.java:155)<br>\tat soot.SceneTransformer.transform(SceneTransformer.java:36)<br>\tat edu.colorado.plv.bounder.ir.SootWrapper.buildSparkCallGraph(SootWrapper.scala:1157)<br>\tat edu.colorado.plv.bounder.ir.SootWrapper.&lt;init&gt;(SootWrapper.scala:1164)<br>\tat edu.colorado.plv.bounder.Driver$.runAnalysis(Driver.scala:593)<br>\tat edu.colorado.plv.bounder.Driver$.runAction(Driver.scala:325)<br>\tat edu.colorado.plv.bounder.Driver$.main(Driver.scala:274)<br>\tat edu.colorado.plv.bounder.Driver.main(Driver.scala)<br><br>---<br> StdOut:<br>java.library.path set to: /usr/lib/:/usr/java/packages/lib:/usr/lib64:/lib64:/lib:/usr/lib<br>analysis time(ms): 1066144728493<br></td>\n",
       "        <td>1</td>\n",
       "    </tr>\n",
       "    <tr>\n",
       "        <td>failed: Non-zero exit code. StdErr: <br>Exception in thread &quot;main&quot; java.lang.OutOfMemoryError: Java heap space<br>\tat soot.util.BitVector.orAndAndNot(BitVector.java:339)<br>\tat soot.jimple.spark.sets.HybridPointsToSet.nativeAddAll(HybridPointsToSet.java:71)<br>\tat soot.jimple.spark.sets.HybridPointsToSet.addAll(HybridPointsToSet.java:98)<br>\tat soot.jimple.spark.sets.DoublePointsToSet.addAll(DoublePointsToSet.java:73)<br>\tat soot.jimple.spark.solver.PropWorklist.handleVarNode(PropWorklist.java:232)<br>\tat soot.jimple.spark.solver.PropWorklist.propagate(PropWorklist.java:81)<br>\tat soot.jimple.spark.SparkTransformer.propagatePAG(SparkTransformer.java:238)<br>\tat soot.jimple.spark.SparkTransformer.internalTransform(SparkTransformer.java:155)<br>\tat soot.SceneTransformer.transform(SceneTransformer.java:36)<br>\tat edu.colorado.plv.bounder.ir.SootWrapper.buildSparkCallGraph(SootWrapper.scala:1157)<br>\tat edu.colorado.plv.bounder.ir.SootWrapper.&lt;init&gt;(SootWrapper.scala:1164)<br>\tat edu.colorado.plv.bounder.Driver$.runAnalysis(Driver.scala:593)<br>\tat edu.colorado.plv.bounder.Driver$.runAction(Driver.scala:325)<br>\tat edu.colorado.plv.bounder.Driver$.main(Driver.scala:274)<br>\tat edu.colorado.plv.bounder.Driver.main(Driver.scala)<br><br>---<br> StdOut:<br>java.library.path set to: /usr/lib/:/usr/java/packages/lib:/usr/lib64:/lib64:/lib:/usr/lib<br>analysis time(ms): 1109432853557<br></td>\n",
       "        <td>1</td>\n",
       "    </tr>\n",
       "    <tr>\n",
       "        <td>failed: Non-zero exit code. StdErr: <br>Exception in thread &quot;main&quot; java.lang.OutOfMemoryError: Java heap space<br>\tat soot.util.BitVector.orAndAndNot(BitVector.java:339)<br>\tat soot.jimple.spark.sets.HybridPointsToSet.nativeAddAll(HybridPointsToSet.java:71)<br>\tat soot.jimple.spark.sets.HybridPointsToSet.addAll(HybridPointsToSet.java:98)<br>\tat soot.jimple.spark.sets.DoublePointsToSet.addAll(DoublePointsToSet.java:73)<br>\tat soot.jimple.spark.solver.PropWorklist.handleVarNode(PropWorklist.java:232)<br>\tat soot.jimple.spark.solver.PropWorklist.propagate(PropWorklist.java:81)<br>\tat soot.jimple.spark.SparkTransformer.propagatePAG(SparkTransformer.java:238)<br>\tat soot.jimple.spark.SparkTransformer.internalTransform(SparkTransformer.java:155)<br>\tat soot.SceneTransformer.transform(SceneTransformer.java:36)<br>\tat edu.colorado.plv.bounder.ir.SootWrapper.buildSparkCallGraph(SootWrapper.scala:1157)<br>\tat edu.colorado.plv.bounder.ir.SootWrapper.&lt;init&gt;(SootWrapper.scala:1164)<br>\tat edu.colorado.plv.bounder.Driver$.runAnalysis(Driver.scala:593)<br>\tat edu.colorado.plv.bounder.Driver$.runAction(Driver.scala:325)<br>\tat edu.colorado.plv.bounder.Driver$.main(Driver.scala:274)<br>\tat edu.colorado.plv.bounder.Driver.main(Driver.scala)<br><br>---<br> StdOut:<br>java.library.path set to: /usr/lib/:/usr/java/packages/lib:/usr/lib64:/lib64:/lib:/usr/lib<br>analysis time(ms): 1133416937108<br></td>\n",
       "        <td>1</td>\n",
       "    </tr>\n",
       "    <tr>\n",
       "        <td>failed: Non-zero exit code. StdErr: <br>Exception in thread &quot;main&quot; java.lang.OutOfMemoryError: Java heap space<br>\tat soot.util.BitVector.orAndAndNot(BitVector.java:339)<br>\tat soot.jimple.spark.sets.HybridPointsToSet.nativeAddAll(HybridPointsToSet.java:71)<br>\tat soot.jimple.spark.sets.HybridPointsToSet.addAll(HybridPointsToSet.java:98)<br>\tat soot.jimple.spark.sets.DoublePointsToSet.addAll(DoublePointsToSet.java:73)<br>\tat soot.jimple.spark.solver.PropWorklist.handleVarNode(PropWorklist.java:232)<br>\tat soot.jimple.spark.solver.PropWorklist.propagate(PropWorklist.java:81)<br>\tat soot.jimple.spark.SparkTransformer.propagatePAG(SparkTransformer.java:238)<br>\tat soot.jimple.spark.SparkTransformer.internalTransform(SparkTransformer.java:155)<br>\tat soot.SceneTransformer.transform(SceneTransformer.java:36)<br>\tat edu.colorado.plv.bounder.ir.SootWrapper.buildSparkCallGraph(SootWrapper.scala:1157)<br>\tat edu.colorado.plv.bounder.ir.SootWrapper.&lt;init&gt;(SootWrapper.scala:1164)<br>\tat edu.colorado.plv.bounder.Driver$.runAnalysis(Driver.scala:593)<br>\tat edu.colorado.plv.bounder.Driver$.runAction(Driver.scala:325)<br>\tat edu.colorado.plv.bounder.Driver$.main(Driver.scala:274)<br>\tat edu.colorado.plv.bounder.Driver.main(Driver.scala)<br><br>---<br> StdOut:<br>java.library.path set to: /usr/lib/:/usr/java/packages/lib:/usr/lib64:/lib64:/lib:/usr/lib<br>analysis time(ms): 1178090244389<br></td>\n",
       "        <td>1</td>\n",
       "    </tr>\n",
       "    <tr>\n",
       "        <td>failed: Non-zero exit code. StdErr: <br>Exception in thread &quot;main&quot; java.lang.OutOfMemoryError: Java heap space<br>\tat soot.util.BitVector.orAndAndNot(BitVector.java:339)<br>\tat soot.jimple.spark.sets.HybridPointsToSet.nativeAddAll(HybridPointsToSet.java:71)<br>\tat soot.jimple.spark.sets.HybridPointsToSet.addAll(HybridPointsToSet.java:98)<br>\tat soot.jimple.spark.sets.DoublePointsToSet.addAll(DoublePointsToSet.java:73)<br>\tat soot.jimple.spark.solver.PropWorklist.handleVarNode(PropWorklist.java:232)<br>\tat soot.jimple.spark.solver.PropWorklist.propagate(PropWorklist.java:81)<br>\tat soot.jimple.spark.SparkTransformer.propagatePAG(SparkTransformer.java:238)<br>\tat soot.jimple.spark.SparkTransformer.internalTransform(SparkTransformer.java:155)<br>\tat soot.SceneTransformer.transform(SceneTransformer.java:36)<br>\tat edu.colorado.plv.bounder.ir.SootWrapper.buildSparkCallGraph(SootWrapper.scala:1157)<br>\tat edu.colorado.plv.bounder.ir.SootWrapper.&lt;init&gt;(SootWrapper.scala:1164)<br>\tat edu.colorado.plv.bounder.Driver$.runAnalysis(Driver.scala:593)<br>\tat edu.colorado.plv.bounder.Driver$.runAction(Driver.scala:325)<br>\tat edu.colorado.plv.bounder.Driver$.main(Driver.scala:274)<br>\tat edu.colorado.plv.bounder.Driver.main(Driver.scala)<br><br>---<br> StdOut:<br>java.library.path set to: /usr/lib/:/usr/java/packages/lib:/usr/lib64:/lib64:/lib:/usr/lib<br>analysis time(ms): 1212285736857<br></td>\n",
       "        <td>1</td>\n",
       "    </tr>\n",
       "    <tr>\n",
       "        <td>failed: Non-zero exit code. StdErr: <br>Exception in thread &quot;main&quot; java.lang.OutOfMemoryError: Java heap space<br>\tat soot.util.BitVector.orAndAndNot(BitVector.java:339)<br>\tat soot.jimple.spark.sets.HybridPointsToSet.nativeAddAll(HybridPointsToSet.java:71)<br>\tat soot.jimple.spark.sets.HybridPointsToSet.addAll(HybridPointsToSet.java:98)<br>\tat soot.jimple.spark.sets.DoublePointsToSet.addAll(DoublePointsToSet.java:73)<br>\tat soot.jimple.spark.solver.PropWorklist.handleVarNode(PropWorklist.java:232)<br>\tat soot.jimple.spark.solver.PropWorklist.propagate(PropWorklist.java:81)<br>\tat soot.jimple.spark.SparkTransformer.propagatePAG(SparkTransformer.java:238)<br>\tat soot.jimple.spark.SparkTransformer.internalTransform(SparkTransformer.java:155)<br>\tat soot.SceneTransformer.transform(SceneTransformer.java:36)<br>\tat edu.colorado.plv.bounder.ir.SootWrapper.buildSparkCallGraph(SootWrapper.scala:1157)<br>\tat edu.colorado.plv.bounder.ir.SootWrapper.&lt;init&gt;(SootWrapper.scala:1164)<br>\tat edu.colorado.plv.bounder.Driver$.runAnalysis(Driver.scala:593)<br>\tat edu.colorado.plv.bounder.Driver$.runAction(Driver.scala:325)<br>\tat edu.colorado.plv.bounder.Driver$.main(Driver.scala:274)<br>\tat edu.colorado.plv.bounder.Driver.main(Driver.scala)<br><br>---<br> StdOut:<br>java.library.path set to: /usr/lib/:/usr/java/packages/lib:/usr/lib64:/lib64:/lib:/usr/lib<br>analysis time(ms): 1222333436885<br></td>\n",
       "        <td>1</td>\n",
       "    </tr>\n",
       "    <tr>\n",
       "        <td>failed: Non-zero exit code. StdErr: <br>Exception in thread &quot;main&quot; java.lang.OutOfMemoryError: Java heap space<br>\tat soot.util.BitVector.orAndAndNot(BitVector.java:339)<br>\tat soot.jimple.spark.sets.HybridPointsToSet.nativeAddAll(HybridPointsToSet.java:71)<br>\tat soot.jimple.spark.sets.HybridPointsToSet.addAll(HybridPointsToSet.java:98)<br>\tat soot.jimple.spark.sets.DoublePointsToSet.addAll(DoublePointsToSet.java:73)<br>\tat soot.jimple.spark.solver.PropWorklist.handleVarNode(PropWorklist.java:232)<br>\tat soot.jimple.spark.solver.PropWorklist.propagate(PropWorklist.java:81)<br>\tat soot.jimple.spark.SparkTransformer.propagatePAG(SparkTransformer.java:238)<br>\tat soot.jimple.spark.SparkTransformer.internalTransform(SparkTransformer.java:155)<br>\tat soot.SceneTransformer.transform(SceneTransformer.java:36)<br>\tat edu.colorado.plv.bounder.ir.SootWrapper.buildSparkCallGraph(SootWrapper.scala:1157)<br>\tat edu.colorado.plv.bounder.ir.SootWrapper.&lt;init&gt;(SootWrapper.scala:1164)<br>\tat edu.colorado.plv.bounder.Driver$.runAnalysis(Driver.scala:593)<br>\tat edu.colorado.plv.bounder.Driver$.runAction(Driver.scala:325)<br>\tat edu.colorado.plv.bounder.Driver$.main(Driver.scala:274)<br>\tat edu.colorado.plv.bounder.Driver.main(Driver.scala)<br><br>---<br> StdOut:<br>java.library.path set to: /usr/lib/:/usr/java/packages/lib:/usr/lib64:/lib64:/lib:/usr/lib<br>analysis time(ms): 1288278513329<br></td>\n",
       "        <td>1</td>\n",
       "    </tr>\n",
       "    <tr>\n",
       "        <td>failed: Non-zero exit code. StdErr: <br>Exception in thread &quot;main&quot; java.lang.OutOfMemoryError: Java heap space<br>\tat soot.util.BitVector.orAndAndNot(BitVector.java:339)<br>\tat soot.jimple.spark.sets.HybridPointsToSet.nativeAddAll(HybridPointsToSet.java:71)<br>\tat soot.jimple.spark.sets.HybridPointsToSet.addAll(HybridPointsToSet.java:98)<br>\tat soot.jimple.spark.sets.DoublePointsToSet.addAll(DoublePointsToSet.java:73)<br>\tat soot.jimple.spark.solver.PropWorklist.handleVarNode(PropWorklist.java:232)<br>\tat soot.jimple.spark.solver.PropWorklist.propagate(PropWorklist.java:81)<br>\tat soot.jimple.spark.SparkTransformer.propagatePAG(SparkTransformer.java:238)<br>\tat soot.jimple.spark.SparkTransformer.internalTransform(SparkTransformer.java:155)<br>\tat soot.SceneTransformer.transform(SceneTransformer.java:36)<br>\tat edu.colorado.plv.bounder.ir.SootWrapper.buildSparkCallGraph(SootWrapper.scala:1157)<br>\tat edu.colorado.plv.bounder.ir.SootWrapper.&lt;init&gt;(SootWrapper.scala:1164)<br>\tat edu.colorado.plv.bounder.Driver$.runAnalysis(Driver.scala:593)<br>\tat edu.colorado.plv.bounder.Driver$.runAction(Driver.scala:325)<br>\tat edu.colorado.plv.bounder.Driver$.main(Driver.scala:274)<br>\tat edu.colorado.plv.bounder.Driver.main(Driver.scala)<br><br>---<br> StdOut:<br>java.library.path set to: /usr/lib/:/usr/java/packages/lib:/usr/lib64:/lib64:/lib:/usr/lib<br>analysis time(ms): 1301548859428<br></td>\n",
       "        <td>1</td>\n",
       "    </tr>\n",
       "    <tr>\n",
       "        <td>failed: Non-zero exit code. StdErr: <br>Exception in thread &quot;main&quot; java.lang.OutOfMemoryError: Java heap space<br>\tat soot.util.BitVector.orAndAndNot(BitVector.java:339)<br>\tat soot.jimple.spark.sets.HybridPointsToSet.nativeAddAll(HybridPointsToSet.java:71)<br>\tat soot.jimple.spark.sets.HybridPointsToSet.addAll(HybridPointsToSet.java:98)<br>\tat soot.jimple.spark.sets.DoublePointsToSet.addAll(DoublePointsToSet.java:73)<br>\tat soot.jimple.spark.solver.PropWorklist.handleVarNode(PropWorklist.java:232)<br>\tat soot.jimple.spark.solver.PropWorklist.propagate(PropWorklist.java:81)<br>\tat soot.jimple.spark.SparkTransformer.propagatePAG(SparkTransformer.java:238)<br>\tat soot.jimple.spark.SparkTransformer.internalTransform(SparkTransformer.java:155)<br>\tat soot.SceneTransformer.transform(SceneTransformer.java:36)<br>\tat edu.colorado.plv.bounder.ir.SootWrapper.buildSparkCallGraph(SootWrapper.scala:1157)<br>\tat edu.colorado.plv.bounder.ir.SootWrapper.&lt;init&gt;(SootWrapper.scala:1164)<br>\tat edu.colorado.plv.bounder.Driver$.runAnalysis(Driver.scala:593)<br>\tat edu.colorado.plv.bounder.Driver$.runAction(Driver.scala:325)<br>\tat edu.colorado.plv.bounder.Driver$.main(Driver.scala:274)<br>\tat edu.colorado.plv.bounder.Driver.main(Driver.scala)<br><br>---<br> StdOut:<br>java.library.path set to: /usr/lib/:/usr/java/packages/lib:/usr/lib64:/lib64:/lib:/usr/lib<br>analysis time(ms): 1312889520508<br></td>\n",
       "        <td>1</td>\n",
       "    </tr>\n",
       "    <tr>\n",
       "        <td>failed: Non-zero exit code. StdErr: <br>Exception in thread &quot;main&quot; java.lang.OutOfMemoryError: Java heap space<br>\tat soot.util.BitVector.orAndAndNot(BitVector.java:339)<br>\tat soot.jimple.spark.sets.HybridPointsToSet.nativeAddAll(HybridPointsToSet.java:71)<br>\tat soot.jimple.spark.sets.HybridPointsToSet.addAll(HybridPointsToSet.java:98)<br>\tat soot.jimple.spark.sets.DoublePointsToSet.addAll(DoublePointsToSet.java:73)<br>\tat soot.jimple.spark.solver.PropWorklist.handleVarNode(PropWorklist.java:232)<br>\tat soot.jimple.spark.solver.PropWorklist.propagate(PropWorklist.java:81)<br>\tat soot.jimple.spark.SparkTransformer.propagatePAG(SparkTransformer.java:238)<br>\tat soot.jimple.spark.SparkTransformer.internalTransform(SparkTransformer.java:155)<br>\tat soot.SceneTransformer.transform(SceneTransformer.java:36)<br>\tat edu.colorado.plv.bounder.ir.SootWrapper.buildSparkCallGraph(SootWrapper.scala:1157)<br>\tat edu.colorado.plv.bounder.ir.SootWrapper.&lt;init&gt;(SootWrapper.scala:1164)<br>\tat edu.colorado.plv.bounder.Driver$.runAnalysis(Driver.scala:593)<br>\tat edu.colorado.plv.bounder.Driver$.runAction(Driver.scala:325)<br>\tat edu.colorado.plv.bounder.Driver$.main(Driver.scala:274)<br>\tat edu.colorado.plv.bounder.Driver.main(Driver.scala)<br><br>---<br> StdOut:<br>java.library.path set to: /usr/lib/:/usr/java/packages/lib:/usr/lib64:/lib64:/lib:/usr/lib<br>analysis time(ms): 1367028557417<br></td>\n",
       "        <td>1</td>\n",
       "    </tr>\n",
       "    <tr>\n",
       "        <td>failed: Non-zero exit code. StdErr: <br>Exception in thread &quot;main&quot; java.lang.OutOfMemoryError: Java heap space<br>\tat soot.util.BitVector.orAndAndNot(BitVector.java:339)<br>\tat soot.jimple.spark.sets.HybridPointsToSet.nativeAddAll(HybridPointsToSet.java:71)<br>\tat soot.jimple.spark.sets.HybridPointsToSet.addAll(HybridPointsToSet.java:98)<br>\tat soot.jimple.spark.sets.DoublePointsToSet.addAll(DoublePointsToSet.java:73)<br>\tat soot.jimple.spark.solver.PropWorklist.handleVarNode(PropWorklist.java:232)<br>\tat soot.jimple.spark.solver.PropWorklist.propagate(PropWorklist.java:81)<br>\tat soot.jimple.spark.SparkTransformer.propagatePAG(SparkTransformer.java:238)<br>\tat soot.jimple.spark.SparkTransformer.internalTransform(SparkTransformer.java:155)<br>\tat soot.SceneTransformer.transform(SceneTransformer.java:36)<br>\tat edu.colorado.plv.bounder.ir.SootWrapper.buildSparkCallGraph(SootWrapper.scala:1157)<br>\tat edu.colorado.plv.bounder.ir.SootWrapper.&lt;init&gt;(SootWrapper.scala:1164)<br>\tat edu.colorado.plv.bounder.Driver$.runAnalysis(Driver.scala:593)<br>\tat edu.colorado.plv.bounder.Driver$.runAction(Driver.scala:325)<br>\tat edu.colorado.plv.bounder.Driver$.main(Driver.scala:274)<br>\tat edu.colorado.plv.bounder.Driver.main(Driver.scala)<br><br>---<br> StdOut:<br>java.library.path set to: /usr/lib/:/usr/java/packages/lib:/usr/lib64:/lib64:/lib:/usr/lib<br>analysis time(ms): 1394420629570<br></td>\n",
       "        <td>1</td>\n",
       "    </tr>\n",
       "    <tr>\n",
       "        <td>failed: Non-zero exit code. StdErr: <br>Exception in thread &quot;main&quot; java.lang.OutOfMemoryError: Java heap space<br>\tat soot.util.BitVector.orAndAndNot(BitVector.java:339)<br>\tat soot.jimple.spark.sets.HybridPointsToSet.nativeAddAll(HybridPointsToSet.java:71)<br>\tat soot.jimple.spark.sets.HybridPointsToSet.addAll(HybridPointsToSet.java:98)<br>\tat soot.jimple.spark.sets.DoublePointsToSet.addAll(DoublePointsToSet.java:73)<br>\tat soot.jimple.spark.solver.PropWorklist.handleVarNode(PropWorklist.java:232)<br>\tat soot.jimple.spark.solver.PropWorklist.propagate(PropWorklist.java:81)<br>\tat soot.jimple.spark.SparkTransformer.propagatePAG(SparkTransformer.java:238)<br>\tat soot.jimple.spark.SparkTransformer.internalTransform(SparkTransformer.java:155)<br>\tat soot.SceneTransformer.transform(SceneTransformer.java:36)<br>\tat edu.colorado.plv.bounder.ir.SootWrapper.buildSparkCallGraph(SootWrapper.scala:1157)<br>\tat edu.colorado.plv.bounder.ir.SootWrapper.&lt;init&gt;(SootWrapper.scala:1164)<br>\tat edu.colorado.plv.bounder.Driver$.runAnalysis(Driver.scala:593)<br>\tat edu.colorado.plv.bounder.Driver$.runAction(Driver.scala:325)<br>\tat edu.colorado.plv.bounder.Driver$.main(Driver.scala:274)<br>\tat edu.colorado.plv.bounder.Driver.main(Driver.scala)<br><br>---<br> StdOut:<br>java.library.path set to: /usr/lib/:/usr/java/packages/lib:/usr/lib64:/lib64:/lib:/usr/lib<br>analysis time(ms): 1488855449778<br></td>\n",
       "        <td>1</td>\n",
       "    </tr>\n",
       "    <tr>\n",
       "        <td>failed: Non-zero exit code. StdErr: <br>Exception in thread &quot;main&quot; java.lang.OutOfMemoryError: Java heap space<br>\tat soot.util.BitVector.orAndAndNot(BitVector.java:339)<br>\tat soot.jimple.spark.sets.HybridPointsToSet.nativeAddAll(HybridPointsToSet.java:71)<br>\tat soot.jimple.spark.sets.HybridPointsToSet.addAll(HybridPointsToSet.java:98)<br>\tat soot.jimple.spark.sets.DoublePointsToSet.addAll(DoublePointsToSet.java:73)<br>\tat soot.jimple.spark.solver.PropWorklist.handleVarNode(PropWorklist.java:232)<br>\tat soot.jimple.spark.solver.PropWorklist.propagate(PropWorklist.java:81)<br>\tat soot.jimple.spark.SparkTransformer.propagatePAG(SparkTransformer.java:238)<br>\tat soot.jimple.spark.SparkTransformer.internalTransform(SparkTransformer.java:155)<br>\tat soot.SceneTransformer.transform(SceneTransformer.java:36)<br>\tat edu.colorado.plv.bounder.ir.SootWrapper.buildSparkCallGraph(SootWrapper.scala:1157)<br>\tat edu.colorado.plv.bounder.ir.SootWrapper.&lt;init&gt;(SootWrapper.scala:1164)<br>\tat edu.colorado.plv.bounder.Driver$.runAnalysis(Driver.scala:593)<br>\tat edu.colorado.plv.bounder.Driver$.runAction(Driver.scala:325)<br>\tat edu.colorado.plv.bounder.Driver$.main(Driver.scala:274)<br>\tat edu.colorado.plv.bounder.Driver.main(Driver.scala)<br><br>---<br> StdOut:<br>java.library.path set to: /usr/lib/:/usr/java/packages/lib:/usr/lib64:/lib64:/lib:/usr/lib<br>analysis time(ms): 1672544672519<br></td>\n",
       "        <td>1</td>\n",
       "    </tr>\n",
       "    <tr>\n",
       "        <td>failed: Non-zero exit code. StdErr: <br>Exception in thread &quot;main&quot; java.lang.OutOfMemoryError: Java heap space<br>\tat soot.util.BitVector.orAndAndNot(BitVector.java:339)<br>\tat soot.jimple.spark.sets.HybridPointsToSet.nativeAddAll(HybridPointsToSet.java:71)<br>\tat soot.jimple.spark.sets.HybridPointsToSet.addAll(HybridPointsToSet.java:98)<br>\tat soot.jimple.spark.sets.DoublePointsToSet.addAll(DoublePointsToSet.java:73)<br>\tat soot.jimple.spark.solver.PropWorklist.handleVarNode(PropWorklist.java:232)<br>\tat soot.jimple.spark.solver.PropWorklist.propagate(PropWorklist.java:81)<br>\tat soot.jimple.spark.SparkTransformer.propagatePAG(SparkTransformer.java:238)<br>\tat soot.jimple.spark.SparkTransformer.internalTransform(SparkTransformer.java:155)<br>\tat soot.SceneTransformer.transform(SceneTransformer.java:36)<br>\tat edu.colorado.plv.bounder.ir.SootWrapper.buildSparkCallGraph(SootWrapper.scala:1157)<br>\tat edu.colorado.plv.bounder.ir.SootWrapper.&lt;init&gt;(SootWrapper.scala:1164)<br>\tat edu.colorado.plv.bounder.Driver$.runAnalysis(Driver.scala:593)<br>\tat edu.colorado.plv.bounder.Driver$.runAction(Driver.scala:325)<br>\tat edu.colorado.plv.bounder.Driver$.main(Driver.scala:274)<br>\tat edu.colorado.plv.bounder.Driver.main(Driver.scala)<br><br>---<br> StdOut:<br>java.library.path set to: /usr/lib/:/usr/java/packages/lib:/usr/lib64:/lib64:/lib:/usr/lib<br>analysis time(ms): 1769731966296<br></td>\n",
       "        <td>1</td>\n",
       "    </tr>\n",
       "    <tr>\n",
       "        <td>failed: Non-zero exit code. StdErr: <br>Exception in thread &quot;main&quot; java.lang.OutOfMemoryError: Java heap space<br>\tat soot.util.BitVector.orAndAndNot(BitVector.java:339)<br>\tat soot.jimple.spark.sets.HybridPointsToSet.nativeAddAll(HybridPointsToSet.java:71)<br>\tat soot.jimple.spark.sets.HybridPointsToSet.addAll(HybridPointsToSet.java:98)<br>\tat soot.jimple.spark.sets.DoublePointsToSet.addAll(DoublePointsToSet.java:73)<br>\tat soot.jimple.spark.solver.PropWorklist.handleVarNode(PropWorklist.java:232)<br>\tat soot.jimple.spark.solver.PropWorklist.propagate(PropWorklist.java:81)<br>\tat soot.jimple.spark.SparkTransformer.propagatePAG(SparkTransformer.java:238)<br>\tat soot.jimple.spark.SparkTransformer.internalTransform(SparkTransformer.java:155)<br>\tat soot.SceneTransformer.transform(SceneTransformer.java:36)<br>\tat edu.colorado.plv.bounder.ir.SootWrapper.buildSparkCallGraph(SootWrapper.scala:1157)<br>\tat edu.colorado.plv.bounder.ir.SootWrapper.&lt;init&gt;(SootWrapper.scala:1164)<br>\tat edu.colorado.plv.bounder.Driver$.runAnalysis(Driver.scala:593)<br>\tat edu.colorado.plv.bounder.Driver$.runAction(Driver.scala:325)<br>\tat edu.colorado.plv.bounder.Driver$.main(Driver.scala:274)<br>\tat edu.colorado.plv.bounder.Driver.main(Driver.scala)<br><br>---<br> StdOut:<br>java.library.path set to: /usr/lib/:/usr/java/packages/lib:/usr/lib64:/lib64:/lib:/usr/lib<br>analysis time(ms): 1801078974501<br></td>\n",
       "        <td>1</td>\n",
       "    </tr>\n",
       "    <tr>\n",
       "        <td>failed: Non-zero exit code. StdErr: <br>Exception in thread &quot;main&quot; java.lang.OutOfMemoryError: Java heap space<br>\tat soot.util.BitVector.orAndAndNot(BitVector.java:339)<br>\tat soot.jimple.spark.sets.HybridPointsToSet.nativeAddAll(HybridPointsToSet.java:71)<br>\tat soot.jimple.spark.sets.HybridPointsToSet.addAll(HybridPointsToSet.java:98)<br>\tat soot.jimple.spark.sets.DoublePointsToSet.addAll(DoublePointsToSet.java:73)<br>\tat soot.jimple.spark.solver.PropWorklist.handleVarNode(PropWorklist.java:232)<br>\tat soot.jimple.spark.solver.PropWorklist.propagate(PropWorklist.java:81)<br>\tat soot.jimple.spark.SparkTransformer.propagatePAG(SparkTransformer.java:238)<br>\tat soot.jimple.spark.SparkTransformer.internalTransform(SparkTransformer.java:155)<br>\tat soot.SceneTransformer.transform(SceneTransformer.java:36)<br>\tat edu.colorado.plv.bounder.ir.SootWrapper.buildSparkCallGraph(SootWrapper.scala:1157)<br>\tat edu.colorado.plv.bounder.ir.SootWrapper.&lt;init&gt;(SootWrapper.scala:1164)<br>\tat edu.colorado.plv.bounder.Driver$.runAnalysis(Driver.scala:593)<br>\tat edu.colorado.plv.bounder.Driver$.runAction(Driver.scala:325)<br>\tat edu.colorado.plv.bounder.Driver$.main(Driver.scala:274)<br>\tat edu.colorado.plv.bounder.Driver.main(Driver.scala)<br><br>---<br> StdOut:<br>java.library.path set to: /usr/lib/:/usr/java/packages/lib:/usr/lib64:/lib64:/lib:/usr/lib<br>analysis time(ms): 2228856542727<br></td>\n",
       "        <td>1</td>\n",
       "    </tr>\n",
       "    <tr>\n",
       "        <td>failed: Non-zero exit code. StdErr: <br>Exception in thread &quot;main&quot; java.lang.OutOfMemoryError: Java heap space<br>\tat soot.util.BitVector.orAndAndNot(BitVector.java:339)<br>\tat soot.jimple.spark.sets.HybridPointsToSet.nativeAddAll(HybridPointsToSet.java:71)<br>\tat soot.jimple.spark.sets.HybridPointsToSet.addAll(HybridPointsToSet.java:98)<br>\tat soot.jimple.spark.sets.DoublePointsToSet.addAll(DoublePointsToSet.java:73)<br>\tat soot.jimple.spark.solver.PropWorklist.propagate(PropWorklist.java:111)<br>\tat soot.jimple.spark.SparkTransformer.propagatePAG(SparkTransformer.java:238)<br>\tat soot.jimple.spark.SparkTransformer.internalTransform(SparkTransformer.java:155)<br>\tat soot.SceneTransformer.transform(SceneTransformer.java:36)<br>\tat edu.colorado.plv.bounder.ir.SootWrapper.buildSparkCallGraph(SootWrapper.scala:1157)<br>\tat edu.colorado.plv.bounder.ir.SootWrapper.&lt;init&gt;(SootWrapper.scala:1164)<br>\tat edu.colorado.plv.bounder.Driver$.runAnalysis(Driver.scala:593)<br>\tat edu.colorado.plv.bounder.Driver$.runAction(Driver.scala:325)<br>\tat edu.colorado.plv.bounder.Driver$.main(Driver.scala:274)<br>\tat edu.colorado.plv.bounder.Driver.main(Driver.scala)<br><br>---<br> StdOut:<br>java.library.path set to: /usr/lib/:/usr/java/packages/lib:/usr/lib64:/lib64:/lib:/usr/lib<br>analysis time(ms): 1184590588649<br></td>\n",
       "        <td>1</td>\n",
       "    </tr>\n",
       "</table>"
      ],
      "text/plain": [
       "[('failed: Non-zero exit code. StdErr: \\nException in thread \"main\" java.lang.OutOfMemoryError: Java heap space\\n\\tat soot.util.BitVector.<init>(BitVect ... (1155 characters truncated) ... ala)\\n\\n---\\n StdOut:\\njava.library.path set to: /usr/lib/:/usr/java/packages/lib:/usr/lib64:/lib64:/lib:/usr/lib\\nanalysis time(ms): 1155917936819\\n', 1),\n",
       " ('failed: Non-zero exit code. StdErr: \\nException in thread \"main\" java.lang.OutOfMemoryError: Java heap space\\n\\tat soot.util.BitVector.<init>(BitVect ... (1155 characters truncated) ... ala)\\n\\n---\\n StdOut:\\njava.library.path set to: /usr/lib/:/usr/java/packages/lib:/usr/lib64:/lib64:/lib:/usr/lib\\nanalysis time(ms): 1193583463351\\n', 1),\n",
       " ('failed: Non-zero exit code. StdErr: \\nException in thread \"main\" java.lang.OutOfMemoryError: Java heap space\\n\\tat soot.util.BitVector.<init>(BitVect ... (1155 characters truncated) ... ala)\\n\\n---\\n StdOut:\\njava.library.path set to: /usr/lib/:/usr/java/packages/lib:/usr/lib64:/lib64:/lib:/usr/lib\\nanalysis time(ms): 1265834825800\\n', 1),\n",
       " ('failed: Non-zero exit code. StdErr: \\nException in thread \"main\" java.lang.OutOfMemoryError: Java heap space\\n\\tat soot.util.BitVector.<init>(BitVect ... (1155 characters truncated) ... ala)\\n\\n---\\n StdOut:\\njava.library.path set to: /usr/lib/:/usr/java/packages/lib:/usr/lib64:/lib64:/lib:/usr/lib\\nanalysis time(ms): 1265897916769\\n', 1),\n",
       " ('failed: Non-zero exit code. StdErr: \\nException in thread \"main\" java.lang.OutOfMemoryError: Java heap space\\n\\tat soot.util.BitVector.<init>(BitVect ... (1155 characters truncated) ... ala)\\n\\n---\\n StdOut:\\njava.library.path set to: /usr/lib/:/usr/java/packages/lib:/usr/lib64:/lib64:/lib:/usr/lib\\nanalysis time(ms): 1290147273219\\n', 1),\n",
       " ('failed: Non-zero exit code. StdErr: \\nException in thread \"main\" java.lang.OutOfMemoryError: Java heap space\\n\\tat soot.util.BitVector.<init>(BitVect ... (1155 characters truncated) ... ala)\\n\\n---\\n StdOut:\\njava.library.path set to: /usr/lib/:/usr/java/packages/lib:/usr/lib64:/lib64:/lib:/usr/lib\\nanalysis time(ms): 1396569623754\\n', 1),\n",
       " ('failed: Non-zero exit code. StdErr: \\nException in thread \"main\" java.lang.OutOfMemoryError: Java heap space\\n\\tat soot.util.BitVector.<init>(BitVect ... (1155 characters truncated) ... ala)\\n\\n---\\n StdOut:\\njava.library.path set to: /usr/lib/:/usr/java/packages/lib:/usr/lib64:/lib64:/lib:/usr/lib\\nanalysis time(ms): 1406617763604\\n', 1),\n",
       " ('failed: Non-zero exit code. StdErr: \\nException in thread \"main\" java.lang.OutOfMemoryError: Java heap space\\n\\tat soot.util.BitVector.<init>(BitVect ... (1155 characters truncated) ... ala)\\n\\n---\\n StdOut:\\njava.library.path set to: /usr/lib/:/usr/java/packages/lib:/usr/lib64:/lib64:/lib:/usr/lib\\nanalysis time(ms): 1409263027517\\n', 1),\n",
       " ('failed: Non-zero exit code. StdErr: \\nException in thread \"main\" java.lang.OutOfMemoryError: Java heap space\\n\\tat soot.util.BitVector.<init>(BitVect ... (1155 characters truncated) ... ala)\\n\\n---\\n StdOut:\\njava.library.path set to: /usr/lib/:/usr/java/packages/lib:/usr/lib64:/lib64:/lib:/usr/lib\\nanalysis time(ms): 1457801048798\\n', 1),\n",
       " ('failed: Non-zero exit code. StdErr: \\nException in thread \"main\" java.lang.OutOfMemoryError: Java heap space\\n\\tat soot.util.BitVector.<init>(BitVect ... (1155 characters truncated) ... ala)\\n\\n---\\n StdOut:\\njava.library.path set to: /usr/lib/:/usr/java/packages/lib:/usr/lib64:/lib64:/lib:/usr/lib\\nanalysis time(ms): 2181406319915\\n', 1),\n",
       " ('failed: Non-zero exit code. StdErr: \\nException in thread \"main\" java.lang.OutOfMemoryError: Java heap space\\n\\tat soot.util.BitVector.<init>(BitVect ... (1075 characters truncated) ... ala)\\n\\n---\\n StdOut:\\njava.library.path set to: /usr/lib/:/usr/java/packages/lib:/usr/lib64:/lib64:/lib:/usr/lib\\nanalysis time(ms): 1163929423825\\n', 1),\n",
       " ('failed: Non-zero exit code. StdErr: \\nException in thread \"main\" java.lang.OutOfMemoryError: Java heap space\\n\\tat soot.util.BitVector.<init>(BitVect ... (1075 characters truncated) ... ala)\\n\\n---\\n StdOut:\\njava.library.path set to: /usr/lib/:/usr/java/packages/lib:/usr/lib64:/lib64:/lib:/usr/lib\\nanalysis time(ms): 1169852620724\\n', 1),\n",
       " ('failed: Non-zero exit code. StdErr: \\nException in thread \"main\" java.lang.OutOfMemoryError: Java heap space\\n\\tat soot.util.BitVector.<init>(BitVect ... (1075 characters truncated) ... ala)\\n\\n---\\n StdOut:\\njava.library.path set to: /usr/lib/:/usr/java/packages/lib:/usr/lib64:/lib64:/lib:/usr/lib\\nanalysis time(ms): 1216047903897\\n', 1),\n",
       " ('failed: Non-zero exit code. StdErr: \\nException in thread \"main\" java.lang.OutOfMemoryError: Java heap space\\n\\tat soot.util.BitVector.<init>(BitVect ... (1075 characters truncated) ... ala)\\n\\n---\\n StdOut:\\njava.library.path set to: /usr/lib/:/usr/java/packages/lib:/usr/lib64:/lib64:/lib:/usr/lib\\nanalysis time(ms): 1293701345973\\n', 1),\n",
       " ('failed: Non-zero exit code. StdErr: \\nException in thread \"main\" java.lang.OutOfMemoryError: Java heap space\\n\\tat soot.util.BitVector.<init>(BitVect ... (1075 characters truncated) ... ala)\\n\\n---\\n StdOut:\\njava.library.path set to: /usr/lib/:/usr/java/packages/lib:/usr/lib64:/lib64:/lib:/usr/lib\\nanalysis time(ms): 1403937544124\\n', 1),\n",
       " ('failed: Non-zero exit code. StdErr: \\nException in thread \"main\" java.lang.OutOfMemoryError: Java heap space\\n\\tat soot.util.BitVector.<init>(BitVect ... (1075 characters truncated) ... ala)\\n\\n---\\n StdOut:\\njava.library.path set to: /usr/lib/:/usr/java/packages/lib:/usr/lib64:/lib64:/lib:/usr/lib\\nanalysis time(ms): 1443336904083\\n', 1),\n",
       " ('failed: Non-zero exit code. StdErr: \\nException in thread \"main\" java.lang.OutOfMemoryError: Java heap space\\n\\tat soot.util.BitVector.<init>(BitVect ... (1075 characters truncated) ... ala)\\n\\n---\\n StdOut:\\njava.library.path set to: /usr/lib/:/usr/java/packages/lib:/usr/lib64:/lib64:/lib:/usr/lib\\nanalysis time(ms): 1477812784844\\n', 1),\n",
       " ('failed: Non-zero exit code. StdErr: \\nException in thread \"main\" java.lang.OutOfMemoryError: Java heap space\\n\\tat soot.util.BitVector.<init>(BitVect ... (1074 characters truncated) ... cala)\\n\\n---\\n StdOut:\\njava.library.path set to: /usr/lib/:/usr/java/packages/lib:/usr/lib64:/lib64:/lib:/usr/lib\\nanalysis time(ms): 961825557724\\n', 1),\n",
       " ('failed: Non-zero exit code. StdErr: \\nException in thread \"main\" java.lang.OutOfMemoryError: Java heap space\\n\\tat soot.util.BitVector.orAndAndNot(Bi ... (1072 characters truncated) ... ala)\\n\\n---\\n StdOut:\\njava.library.path set to: /usr/lib/:/usr/java/packages/lib:/usr/lib64:/lib64:/lib:/usr/lib\\nanalysis time(ms): 1066144728493\\n', 1),\n",
       " ('failed: Non-zero exit code. StdErr: \\nException in thread \"main\" java.lang.OutOfMemoryError: Java heap space\\n\\tat soot.util.BitVector.orAndAndNot(Bi ... (1072 characters truncated) ... ala)\\n\\n---\\n StdOut:\\njava.library.path set to: /usr/lib/:/usr/java/packages/lib:/usr/lib64:/lib64:/lib:/usr/lib\\nanalysis time(ms): 1109432853557\\n', 1),\n",
       " ('failed: Non-zero exit code. StdErr: \\nException in thread \"main\" java.lang.OutOfMemoryError: Java heap space\\n\\tat soot.util.BitVector.orAndAndNot(Bi ... (1072 characters truncated) ... ala)\\n\\n---\\n StdOut:\\njava.library.path set to: /usr/lib/:/usr/java/packages/lib:/usr/lib64:/lib64:/lib:/usr/lib\\nanalysis time(ms): 1133416937108\\n', 1),\n",
       " ('failed: Non-zero exit code. StdErr: \\nException in thread \"main\" java.lang.OutOfMemoryError: Java heap space\\n\\tat soot.util.BitVector.orAndAndNot(Bi ... (1072 characters truncated) ... ala)\\n\\n---\\n StdOut:\\njava.library.path set to: /usr/lib/:/usr/java/packages/lib:/usr/lib64:/lib64:/lib:/usr/lib\\nanalysis time(ms): 1178090244389\\n', 1),\n",
       " ('failed: Non-zero exit code. StdErr: \\nException in thread \"main\" java.lang.OutOfMemoryError: Java heap space\\n\\tat soot.util.BitVector.orAndAndNot(Bi ... (1072 characters truncated) ... ala)\\n\\n---\\n StdOut:\\njava.library.path set to: /usr/lib/:/usr/java/packages/lib:/usr/lib64:/lib64:/lib:/usr/lib\\nanalysis time(ms): 1212285736857\\n', 1),\n",
       " ('failed: Non-zero exit code. StdErr: \\nException in thread \"main\" java.lang.OutOfMemoryError: Java heap space\\n\\tat soot.util.BitVector.orAndAndNot(Bi ... (1072 characters truncated) ... ala)\\n\\n---\\n StdOut:\\njava.library.path set to: /usr/lib/:/usr/java/packages/lib:/usr/lib64:/lib64:/lib:/usr/lib\\nanalysis time(ms): 1222333436885\\n', 1),\n",
       " ('failed: Non-zero exit code. StdErr: \\nException in thread \"main\" java.lang.OutOfMemoryError: Java heap space\\n\\tat soot.util.BitVector.orAndAndNot(Bi ... (1072 characters truncated) ... ala)\\n\\n---\\n StdOut:\\njava.library.path set to: /usr/lib/:/usr/java/packages/lib:/usr/lib64:/lib64:/lib:/usr/lib\\nanalysis time(ms): 1288278513329\\n', 1),\n",
       " ('failed: Non-zero exit code. StdErr: \\nException in thread \"main\" java.lang.OutOfMemoryError: Java heap space\\n\\tat soot.util.BitVector.orAndAndNot(Bi ... (1072 characters truncated) ... ala)\\n\\n---\\n StdOut:\\njava.library.path set to: /usr/lib/:/usr/java/packages/lib:/usr/lib64:/lib64:/lib:/usr/lib\\nanalysis time(ms): 1301548859428\\n', 1),\n",
       " ('failed: Non-zero exit code. StdErr: \\nException in thread \"main\" java.lang.OutOfMemoryError: Java heap space\\n\\tat soot.util.BitVector.orAndAndNot(Bi ... (1072 characters truncated) ... ala)\\n\\n---\\n StdOut:\\njava.library.path set to: /usr/lib/:/usr/java/packages/lib:/usr/lib64:/lib64:/lib:/usr/lib\\nanalysis time(ms): 1312889520508\\n', 1),\n",
       " ('failed: Non-zero exit code. StdErr: \\nException in thread \"main\" java.lang.OutOfMemoryError: Java heap space\\n\\tat soot.util.BitVector.orAndAndNot(Bi ... (1072 characters truncated) ... ala)\\n\\n---\\n StdOut:\\njava.library.path set to: /usr/lib/:/usr/java/packages/lib:/usr/lib64:/lib64:/lib:/usr/lib\\nanalysis time(ms): 1367028557417\\n', 1),\n",
       " ('failed: Non-zero exit code. StdErr: \\nException in thread \"main\" java.lang.OutOfMemoryError: Java heap space\\n\\tat soot.util.BitVector.orAndAndNot(Bi ... (1072 characters truncated) ... ala)\\n\\n---\\n StdOut:\\njava.library.path set to: /usr/lib/:/usr/java/packages/lib:/usr/lib64:/lib64:/lib:/usr/lib\\nanalysis time(ms): 1394420629570\\n', 1),\n",
       " ('failed: Non-zero exit code. StdErr: \\nException in thread \"main\" java.lang.OutOfMemoryError: Java heap space\\n\\tat soot.util.BitVector.orAndAndNot(Bi ... (1072 characters truncated) ... ala)\\n\\n---\\n StdOut:\\njava.library.path set to: /usr/lib/:/usr/java/packages/lib:/usr/lib64:/lib64:/lib:/usr/lib\\nanalysis time(ms): 1488855449778\\n', 1),\n",
       " ('failed: Non-zero exit code. StdErr: \\nException in thread \"main\" java.lang.OutOfMemoryError: Java heap space\\n\\tat soot.util.BitVector.orAndAndNot(Bi ... (1072 characters truncated) ... ala)\\n\\n---\\n StdOut:\\njava.library.path set to: /usr/lib/:/usr/java/packages/lib:/usr/lib64:/lib64:/lib:/usr/lib\\nanalysis time(ms): 1672544672519\\n', 1),\n",
       " ('failed: Non-zero exit code. StdErr: \\nException in thread \"main\" java.lang.OutOfMemoryError: Java heap space\\n\\tat soot.util.BitVector.orAndAndNot(Bi ... (1072 characters truncated) ... ala)\\n\\n---\\n StdOut:\\njava.library.path set to: /usr/lib/:/usr/java/packages/lib:/usr/lib64:/lib64:/lib:/usr/lib\\nanalysis time(ms): 1769731966296\\n', 1),\n",
       " ('failed: Non-zero exit code. StdErr: \\nException in thread \"main\" java.lang.OutOfMemoryError: Java heap space\\n\\tat soot.util.BitVector.orAndAndNot(Bi ... (1072 characters truncated) ... ala)\\n\\n---\\n StdOut:\\njava.library.path set to: /usr/lib/:/usr/java/packages/lib:/usr/lib64:/lib64:/lib:/usr/lib\\nanalysis time(ms): 1801078974501\\n', 1),\n",
       " ('failed: Non-zero exit code. StdErr: \\nException in thread \"main\" java.lang.OutOfMemoryError: Java heap space\\n\\tat soot.util.BitVector.orAndAndNot(Bi ... (1072 characters truncated) ... ala)\\n\\n---\\n StdOut:\\njava.library.path set to: /usr/lib/:/usr/java/packages/lib:/usr/lib64:/lib64:/lib:/usr/lib\\nanalysis time(ms): 2228856542727\\n', 1),\n",
       " ('failed: Non-zero exit code. StdErr: \\nException in thread \"main\" java.lang.OutOfMemoryError: Java heap space\\n\\tat soot.util.BitVector.orAndAndNot(Bi ... (992 characters truncated) ... ala)\\n\\n---\\n StdOut:\\njava.library.path set to: /usr/lib/:/usr/java/packages/lib:/usr/lib64:/lib64:/lib:/usr/lib\\nanalysis time(ms): 1184590588649\\n', 1)]"
      ]
     },
     "execution_count": 127,
     "metadata": {},
     "output_type": "execute_result"
    }
   ],
   "source": [
    "%%sql -- count distinct apk\n",
    "select status,count(*) from jobs\n",
    "where cast(jobs.config::json->'apkPath' as varchar) like '%com.duckduckgo.mobile%' group by status"
   ]
  },
  {
   "cell_type": "code",
   "execution_count": 110,
   "metadata": {},
   "outputs": [
    {
     "name": "stdout",
     "output_type": "stream",
     "text": [
      "   postgresql://postgres@localhost:3333/postgres\n",
      " * postgresql://postgres@localhost:5433/postgres\n",
      "5 rows affected.\n"
     ]
    },
    {
     "data": {
      "text/html": [
       "<table>\n",
       "    <tr>\n",
       "        <th>count</th>\n",
       "        <th>category</th>\n",
       "    </tr>\n",
       "    <tr>\n",
       "        <td>55</td>\n",
       "        <td>&quot;SensitiveDerefFieldCausedSynch&quot;</td>\n",
       "    </tr>\n",
       "    <tr>\n",
       "        <td>357</td>\n",
       "        <td>&quot;Disallow.I_CIEnter_Dialogdismiss&quot;</td>\n",
       "    </tr>\n",
       "    <tr>\n",
       "        <td>163</td>\n",
       "        <td>&quot;Disallow.I_CIEnter_AsyncTaskexecute&quot;</td>\n",
       "    </tr>\n",
       "    <tr>\n",
       "        <td>33</td>\n",
       "        <td>&quot;SensitiveDerefFieldCausedFinish&quot;</td>\n",
       "    </tr>\n",
       "    <tr>\n",
       "        <td>802</td>\n",
       "        <td>&quot;SensitiveDerefCallinCaused&quot;</td>\n",
       "    </tr>\n",
       "</table>"
      ],
      "text/plain": [
       "[(55, '\"SensitiveDerefFieldCausedSynch\"'),\n",
       " (357, '\"Disallow.I_CIEnter_Dialogdismiss\"'),\n",
       " (163, '\"Disallow.I_CIEnter_AsyncTaskexecute\"'),\n",
       " (33, '\"SensitiveDerefFieldCausedFinish\"'),\n",
       " (802, '\"SensitiveDerefCallinCaused\"')]"
      ]
     },
     "execution_count": 110,
     "metadata": {},
     "output_type": "execute_result"
    }
   ],
   "source": [
    "%%sql -- count locations by pattern\n",
    "select count(*), cast(jobs.config::json->'tag'->'heuristicType' as varchar) as category from jobs group by category"
   ]
  },
  {
   "cell_type": "code",
   "execution_count": 111,
   "metadata": {},
   "outputs": [
    {
     "name": "stdout",
     "output_type": "stream",
     "text": [
      "   postgresql://postgres@localhost:3333/postgres\n",
      " * postgresql://postgres@localhost:5433/postgres\n",
      "1 rows affected.\n"
     ]
    },
    {
     "data": {
      "text/html": [
       "<table>\n",
       "    <tr>\n",
       "        <th>completed_jobs</th>\n",
       "        <th>new_jobs</th>\n",
       "        <th>paused_jobs</th>\n",
       "        <th>total_jobs</th>\n",
       "        <th>acquired_jobs</th>\n",
       "        <th>body_exception</th>\n",
       "        <th>unimplemented</th>\n",
       "        <th>exception</th>\n",
       "        <th>path_exception</th>\n",
       "        <th>refl_exception</th>\n",
       "        <th>worker_failure</th>\n",
       "        <th>subprocess_timeout</th>\n",
       "        <th>possible_cg_unsound</th>\n",
       "        <th>memory</th>\n",
       "    </tr>\n",
       "    <tr>\n",
       "        <td>1336</td>\n",
       "        <td>0</td>\n",
       "        <td>0</td>\n",
       "        <td>1410</td>\n",
       "        <td>2</td>\n",
       "        <td>0</td>\n",
       "        <td>0</td>\n",
       "        <td>0</td>\n",
       "        <td>0</td>\n",
       "        <td>0</td>\n",
       "        <td>45</td>\n",
       "        <td>27</td>\n",
       "        <td>0</td>\n",
       "        <td>0</td>\n",
       "    </tr>\n",
       "</table>"
      ],
      "text/plain": [
       "[(1336, 0, 0, 1410, 2, 0, 0, 0, 0, 0, 45, 27, 0, 0)]"
      ]
     },
     "execution_count": 111,
     "metadata": {},
     "output_type": "execute_result"
    }
   ],
   "source": [
    "%%sql --    # (select count(*) from jobs where status = 'new') as New_Jobs, # new jobs takes a while to run, only add if needed\n",
    "select \n",
    "    (select count(*) from jobs where status = 'completed') as Completed_Jobs,\n",
    "    (select count(*) from jobs where status = 'new') as New_Jobs,\n",
    "    (select count(*) from jobs where status = 'paused') as Paused_Jobs,\n",
    "    (select count(*) from jobs) as Total_Jobs,\n",
    "    (select count(*) from jobs where status = 'acquired') as Acquired_jobs,\n",
    "    (select count(id) from jobs \n",
    "       where stderr like '%Exception%no active body present for method%') as Body_Exception,\n",
    "    (select count(id) from jobs where stderr like '%an implementation is missing%') as unimplemented,\n",
    "    (select count(id) from jobs where stderr like '%Exception%') as Exception,\n",
    "    (select count(id) from jobs where stderr like '%no libz3java in java.library.path%') as path_exception,\n",
    "    (select count(id) from jobs where stderr like '%Failed to parse reflective type reference%') as Refl_exception,\n",
    "    (select count(id) from jobs where status like 'failed%' and status not like 'failed: Subprocess Timeout') as worker_failure,\n",
    "    (select count(id) from jobs where status like 'failed: Subprocess Timeout') as subprocess_timeout,\n",
    "    (select count(id) from jobs where stdout like '%empty pred location%') as possible_cg_unsound,\n",
    "    (select count(id) from jobs where stderr like '%OutOfMemory%') as memory\n",
    " "
   ]
  },
  {
   "cell_type": "code",
   "execution_count": 104,
   "metadata": {},
   "outputs": [
    {
     "name": "stdout",
     "output_type": "stream",
     "text": [
      " * postgresql://postgres@localhost:3333/postgres\n",
      "1 rows affected.\n"
     ]
    },
    {
     "data": {
      "text/html": [
       "<table>\n",
       "    <tr>\n",
       "        <th>md5</th>\n",
       "    </tr>\n",
       "    <tr>\n",
       "        <td>fb20c882daa7b6679a9d120b557bb142</td>\n",
       "    </tr>\n",
       "</table>"
      ],
      "text/plain": [
       "[('fb20c882daa7b6679a9d120b557bb142',)]"
      ]
     },
     "execution_count": 104,
     "metadata": {},
     "output_type": "execute_result"
    }
   ],
   "source": [
    "%%sql -- get md5 hash of results table (to validate transfer)\n",
    "select md5(cast((array_agg(f.* order by id)) as text)) from results f;"
   ]
  },
  {
   "cell_type": "code",
   "execution_count": 98,
   "metadata": {},
   "outputs": [
    {
     "name": "stdout",
     "output_type": "stream",
     "text": [
      " * postgresql://postgres@localhost:3333/postgres\n",
      "57 rows affected.\n"
     ]
    },
    {
     "data": {
      "text/html": [
       "<table>\n",
       "    <tr>\n",
       "        <th>md5</th>\n",
       "        <th>apkname</th>\n",
       "    </tr>\n",
       "    <tr>\n",
       "        <td>d6887b18e7ffae75b8c867a2bd5b71ac</td>\n",
       "        <td>/fdroid/be.digitalia.fosdem/2.1.1/apk/be.digitalia.fosdem_1900211.apk</td>\n",
       "    </tr>\n",
       "    <tr>\n",
       "        <td>63394a26d690de660f53d8b8147a7f79</td>\n",
       "        <td>/fdroid/ch.blinkenlights.android.vanilla/1.2.2/apk/ch.blinkenlights.android.vanilla_12200.apk</td>\n",
       "    </tr>\n",
       "    <tr>\n",
       "        <td>828263ed3dfd6415b9e89f1ab614a9ba</td>\n",
       "        <td>/fdroid/com.android.keepass/2.6.8/apk/com.android.keepass_215.apk</td>\n",
       "    </tr>\n",
       "    <tr>\n",
       "        <td>b26b61ba62e4e2222215aa718ea21dde</td>\n",
       "        <td>/fdroid/com.asksven.betterbatterystats/3.3.1/apk/com.asksven.betterbatterystats_107.apk</td>\n",
       "    </tr>\n",
       "    <tr>\n",
       "        <td>fcebd8c446f8aca0c984cf3c834eba5c</td>\n",
       "        <td>/fdroid/com.byagowi.persiancalendar/7.8.0/apk/com.byagowi.persiancalendar_780.apk</td>\n",
       "    </tr>\n",
       "    <tr>\n",
       "        <td>5250376dae212fa14886156404794501</td>\n",
       "        <td>/fdroid/com.darshancomputing.BatteryIndicatorPro/12.0.0/apk/com.darshancomputing.BatteryIndicatorPro_26016.apk</td>\n",
       "    </tr>\n",
       "    <tr>\n",
       "        <td>83e40bb94191d31011acaf909c551d4c</td>\n",
       "        <td>/fdroid/com.duckduckgo.mobile.android/5.146.0/apk/com.duckduckgo.mobile.android_51460000.apk</td>\n",
       "    </tr>\n",
       "    <tr>\n",
       "        <td>cf44e5f2e63a4165ff16cc049442d6c2</td>\n",
       "        <td>/fdroid/com.fsck.k9/6.503/apk/com.fsck.k9_35003.apk</td>\n",
       "    </tr>\n",
       "    <tr>\n",
       "        <td>421794c47ba400d89fa1b838a763a313</td>\n",
       "        <td>/fdroid/com.github.cetoolbox/1.4.5/apk/com.github.cetoolbox_13.apk</td>\n",
       "    </tr>\n",
       "    <tr>\n",
       "        <td>bfd89e3c35c51fd707cdca4c91834668</td>\n",
       "        <td>/fdroid/com.github.ruleant.getback_gps/0.8/apk/com.github.ruleant.getback_gps_80.apk</td>\n",
       "    </tr>\n",
       "    <tr>\n",
       "        <td>c63f446f1f99eaf2087c5913f693fb45</td>\n",
       "        <td>/fdroid/com.gpl.rpg.AndorsTrail/0.8.3/apk/com.gpl.rpg.AndorsTrail_67.apk</td>\n",
       "    </tr>\n",
       "    <tr>\n",
       "        <td>494e3e95a80ee396ab46161d59051641</td>\n",
       "        <td>/fdroid/com.ichi2.anki/2.15.6/apk/com.ichi2.anki_21506300.apk</td>\n",
       "    </tr>\n",
       "    <tr>\n",
       "        <td>1f804046d0403554c83e1559f6a981e1</td>\n",
       "        <td>/fdroid/com.knirirr.beecount/2.6.0/apk/com.knirirr.beecount_125.apk</td>\n",
       "    </tr>\n",
       "    <tr>\n",
       "        <td>c4e9c69e165db524006572135e36df49</td>\n",
       "        <td>/fdroid/com.MarcosDiez.shareviahttp/2.0.14/apk/com.MarcosDiez.shareviahttp_34.apk</td>\n",
       "    </tr>\n",
       "    <tr>\n",
       "        <td>920e4b3035bba02cb490b94c565cc942</td>\n",
       "        <td>/fdroid/com.nutomic.syncthingandroid/1.23.0/apk/com.nutomic.syncthingandroid_4334.apk</td>\n",
       "    </tr>\n",
       "    <tr>\n",
       "        <td>1c79bbc4ffd1a834d05da9ddcb50afe5</td>\n",
       "        <td>/fdroid/com.owncloud.android/3.0.1/apk/com.owncloud.android_30000001.apk</td>\n",
       "    </tr>\n",
       "    <tr>\n",
       "        <td>39dc4220326ecfe8adf6ac8ea6d31254</td>\n",
       "        <td>/fdroid/com.pilot51.voicenotify/1.2.2/apk/com.pilot51.voicenotify_26.apk</td>\n",
       "    </tr>\n",
       "    <tr>\n",
       "        <td>c5f0f63d7372a09359426853a4c3b42e</td>\n",
       "        <td>/fdroid/com.seafile.seadroid2/2.2.48/apk/com.seafile.seadroid2_123.apk</td>\n",
       "    </tr>\n",
       "    <tr>\n",
       "        <td>1dae958009d03b38a579672a035bba82</td>\n",
       "        <td>/fdroid/com.shatteredpixel.shatteredpixeldungeon/1.4.3/apk/com.shatteredpixel.shatteredpixeldungeon_668.apk</td>\n",
       "    </tr>\n",
       "    <tr>\n",
       "        <td>ea18cfff29e2d48695c3a8faa3e435fe</td>\n",
       "        <td>/fdroid/com.ubergeek42.WeechatAndroid/1.8.1/apk/com.ubergeek42.WeechatAndroid_10801.apk</td>\n",
       "    </tr>\n",
       "    <tr>\n",
       "        <td>a40bd91287d7603b3c373dc0414b79dc</td>\n",
       "        <td>/fdroid/com.yubico.yubioath/6.0.2/apk/com.yubico.yubioath_600064.apk</td>\n",
       "    </tr>\n",
       "    <tr>\n",
       "        <td>450c5cc315df7a44b7a0f5fe9afd7355</td>\n",
       "        <td>/fdroid/de.blau.android/18.1.1.0/apk/de.blau.android_2303.apk</td>\n",
       "    </tr>\n",
       "    <tr>\n",
       "        <td>3a52f585e54f47b964beba5eacf4a31d</td>\n",
       "        <td>/fdroid/de.blinkt.openvpn/0.7.43/apk/de.blinkt.openvpn_198.apk</td>\n",
       "    </tr>\n",
       "    <tr>\n",
       "        <td>0eb5a8cf794e005a41f9e85627308de0</td>\n",
       "        <td>/fdroid/de.jkliemann.parkendd/1.2.8/apk/de.jkliemann.parkendd_33.apk</td>\n",
       "    </tr>\n",
       "    <tr>\n",
       "        <td>12bcd02fe35ea577dbcffb09ca833f73</td>\n",
       "        <td>/fdroid/de.markusfisch.android.wavelines/1.13.2/apk/de.markusfisch.android.wavelines_22.apk</td>\n",
       "    </tr>\n",
       "    <tr>\n",
       "        <td>b3a2fee1f2019f14eec592254db748cb</td>\n",
       "        <td>/fdroid/de.srlabs.snoopsnitch/2.0.12-nbc/apk/de.srlabs.snoopsnitch_50.apk</td>\n",
       "    </tr>\n",
       "    <tr>\n",
       "        <td>fd7d184ba56ed4825da4308dff15bbb0</td>\n",
       "        <td>/fdroid/de.syss.MifareClassicTool/4.0.4/apk/de.syss.MifareClassicTool_62.apk</td>\n",
       "    </tr>\n",
       "    <tr>\n",
       "        <td>f25796ef1042381c5c4dcdfe5ccdb9b2</td>\n",
       "        <td>/fdroid/dev.ukanth.ufirewall/3.5.3/apk/dev.ukanth.ufirewall_20220615.apk</td>\n",
       "    </tr>\n",
       "    <tr>\n",
       "        <td>9f57938fd1a6d06d4ca315ed0fd238e4</td>\n",
       "        <td>/fdroid/info.guardianproject.pixelknot/1.0.2.1/apk/info.guardianproject.pixelknot_1021.apk</td>\n",
       "    </tr>\n",
       "    <tr>\n",
       "        <td>5449a329fd66b071b9bd1a4014ac36d7</td>\n",
       "        <td>/fdroid/jwtc.android.chess/9.3.10/apk/jwtc.android.chess_192.apk</td>\n",
       "    </tr>\n",
       "    <tr>\n",
       "        <td>7db71396bef7a306cf75661eea02628f</td>\n",
       "        <td>/fdroid/name.boyle.chris.sgtpuzzles/2023-01-18-2324-aaa36328-fdroid/apk/name.boyle.chris.sgtpuzzles_137.apk</td>\n",
       "    </tr>\n",
       "    <tr>\n",
       "        <td>fed61d96872207c5bb3b692f45be4cac</td>\n",
       "        <td>/fdroid/net.bible.android.activity/4.0.673/apk/net.bible.android.activity_673.apk</td>\n",
       "    </tr>\n",
       "    <tr>\n",
       "        <td>fa4d0c97f0cf86c5f26e6da9e389953e</td>\n",
       "        <td>/fdroid/net.gaast.giggity/2.0.8/apk/net.gaast.giggity_520.apk</td>\n",
       "    </tr>\n",
       "    <tr>\n",
       "        <td>0869e91110542f500e768eb247fc0646</td>\n",
       "        <td>/fdroid/net.justdave.nwsweatheralertswidget/1.1.4/apk/net.justdave.nwsweatheralertswidget_12.apk</td>\n",
       "    </tr>\n",
       "    <tr>\n",
       "        <td>0573f22ba2db087bc500b2ee4bb8770a</td>\n",
       "        <td>/fdroid/net.nurik.roman.muzei/3.5.0-alpha02/apk/net.nurik.roman.muzei_350002.apk</td>\n",
       "    </tr>\n",
       "    <tr>\n",
       "        <td>6df911fbc45ba44c8fbea17343c70e4d</td>\n",
       "        <td>/fdroid/net.osmand.plus/4.3.8/apk/net.osmand.plus_4308.apk</td>\n",
       "    </tr>\n",
       "    <tr>\n",
       "        <td>df7855155dac418ee06c3740ed37936f</td>\n",
       "        <td>/fdroid/net.wigle.wigleandroid/2.63/apk/net.wigle.wigleandroid_263.apk</td>\n",
       "    </tr>\n",
       "    <tr>\n",
       "        <td>2f9854a20ed29a58a81b5337d0af61e1</td>\n",
       "        <td>/fdroid/nitezh.ministock/81/apk/nitezh.ministock_81.apk</td>\n",
       "    </tr>\n",
       "    <tr>\n",
       "        <td>be586447d92438a16d686b9622305e3b</td>\n",
       "        <td>/fdroid/nl.mpcjanssen.simpletask/11.0.1/apk/nl.mpcjanssen.simpletask_11000001.apk</td>\n",
       "    </tr>\n",
       "    <tr>\n",
       "        <td>a0ad61f1b9d595d49188ec0d93a06a24</td>\n",
       "        <td>/fdroid/org.andstatus.app/60.01/apk/org.andstatus.app_361.apk</td>\n",
       "    </tr>\n",
       "    <tr>\n",
       "        <td>80500e687b4de36028be5ddd9b528b64</td>\n",
       "        <td>/fdroid/org.epstudios.epmobile/2.30.1/apk/org.epstudios.epmobile_77.apk</td>\n",
       "    </tr>\n",
       "    <tr>\n",
       "        <td>a24133295b539819ca6eed1c0df907f4</td>\n",
       "        <td>/fdroid/org.fedorahosted.freeotp/2.0/apk/org.fedorahosted.freeotp_24.apk</td>\n",
       "    </tr>\n",
       "    <tr>\n",
       "        <td>322f1f0149304201c3280e4654907bdd</td>\n",
       "        <td>/fdroid/org.liberty.android.fantastischmemo/10.11.7/apk/org.liberty.android.fantastischmemo_237.apk</td>\n",
       "    </tr>\n",
       "    <tr>\n",
       "        <td>66bdfebd9c2ca07b59d64659631576ff</td>\n",
       "        <td>/fdroid/org.mariotaku.twidere/4.1.8/apk/org.mariotaku.twidere_517.apk</td>\n",
       "    </tr>\n",
       "    <tr>\n",
       "        <td>3f5b4ae5ae3597ee25c555f8c23a3205</td>\n",
       "        <td>/fdroid/org.navitproject.navit/v0.5.6/apk/org.navitproject.navit_2021030660.apk</td>\n",
       "    </tr>\n",
       "    <tr>\n",
       "        <td>60e9a6da93433fe0ebe14c56a0261945</td>\n",
       "        <td>/fdroid/org.scoutant.blokish/3.4/apk/org.scoutant.blokish_22.apk</td>\n",
       "    </tr>\n",
       "    <tr>\n",
       "        <td>d2c6ae87fb62cd45a3cb291a147a5b2e</td>\n",
       "        <td>/fdroid/org.sipdroid.sipua/6.3beta/apk/org.sipdroid.sipua_134.apk</td>\n",
       "    </tr>\n",
       "    <tr>\n",
       "        <td>d7937b80ac1f04797b8f353f19019937</td>\n",
       "        <td>/fdroid/org.sufficientlysecure.keychain/5.8.2/apk/org.sufficientlysecure.keychain_58902.apk</td>\n",
       "    </tr>\n",
       "    <tr>\n",
       "        <td>fa2864e2057b5deb36534206649b7bce</td>\n",
       "        <td>/fdroid/org.tasks/13.1.1/apk/org.tasks_130101.apk</td>\n",
       "    </tr>\n",
       "    <tr>\n",
       "        <td>657bdaf968d7766a385b0a9b7a09f70a</td>\n",
       "        <td>/fdroid/org.traccar.client/6.18/apk/org.traccar.client_79.apk</td>\n",
       "    </tr>\n",
       "    <tr>\n",
       "        <td>0aa716d66cb39de4d1be74e384967604</td>\n",
       "        <td>/fdroid/org.transdroid.lite/2.5.19/apk/org.transdroid.lite_239.apk</td>\n",
       "    </tr>\n",
       "    <tr>\n",
       "        <td>b591bf81c3c9c87fef841e6a058341bd</td>\n",
       "        <td>/fdroid/org.yuttadhammo.BodhiTimer/6.3.0/apk/org.yuttadhammo.BodhiTimer_98.apk</td>\n",
       "    </tr>\n",
       "    <tr>\n",
       "        <td>e0a63a855db9e9f9606eb1f79d192470</td>\n",
       "        <td>/fdroid/org.zephyrsoft.trackworktime/1.1.20/apk/org.zephyrsoft.trackworktime_64.apk</td>\n",
       "    </tr>\n",
       "    <tr>\n",
       "        <td>17fd8f5ea0f1d31bc99f66dbdce01402</td>\n",
       "        <td>jar_17fd8f5ea0f1d31bc99f66dbdce01402</td>\n",
       "    </tr>\n",
       "    <tr>\n",
       "        <td>09e34270416ed5783ab89d39b9032102</td>\n",
       "        <td>/oss/de.danoeh.antennapod/app/build/outputs/apk/free/debug/app-free-debug.apk</td>\n",
       "    </tr>\n",
       "    <tr>\n",
       "        <td>146ca09bccccd231f84c29b68f66e8ef</td>\n",
       "        <td>/oss/org.connectbot/app/build/outputs/apk/oss/debug/app-oss-debug.apk</td>\n",
       "    </tr>\n",
       "    <tr>\n",
       "        <td>d41d8cd98f00b204e9800998ecf8427e</td>\n",
       "        <td>spec_d41d8cd98f00b204e9800998ecf8427e</td>\n",
       "    </tr>\n",
       "</table>"
      ],
      "text/plain": [
       "[('d6887b18e7ffae75b8c867a2bd5b71ac', '/fdroid/be.digitalia.fosdem/2.1.1/apk/be.digitalia.fosdem_1900211.apk'),\n",
       " ('63394a26d690de660f53d8b8147a7f79', '/fdroid/ch.blinkenlights.android.vanilla/1.2.2/apk/ch.blinkenlights.android.vanilla_12200.apk'),\n",
       " ('828263ed3dfd6415b9e89f1ab614a9ba', '/fdroid/com.android.keepass/2.6.8/apk/com.android.keepass_215.apk'),\n",
       " ('b26b61ba62e4e2222215aa718ea21dde', '/fdroid/com.asksven.betterbatterystats/3.3.1/apk/com.asksven.betterbatterystats_107.apk'),\n",
       " ('fcebd8c446f8aca0c984cf3c834eba5c', '/fdroid/com.byagowi.persiancalendar/7.8.0/apk/com.byagowi.persiancalendar_780.apk'),\n",
       " ('5250376dae212fa14886156404794501', '/fdroid/com.darshancomputing.BatteryIndicatorPro/12.0.0/apk/com.darshancomputing.BatteryIndicatorPro_26016.apk'),\n",
       " ('83e40bb94191d31011acaf909c551d4c', '/fdroid/com.duckduckgo.mobile.android/5.146.0/apk/com.duckduckgo.mobile.android_51460000.apk'),\n",
       " ('cf44e5f2e63a4165ff16cc049442d6c2', '/fdroid/com.fsck.k9/6.503/apk/com.fsck.k9_35003.apk'),\n",
       " ('421794c47ba400d89fa1b838a763a313', '/fdroid/com.github.cetoolbox/1.4.5/apk/com.github.cetoolbox_13.apk'),\n",
       " ('bfd89e3c35c51fd707cdca4c91834668', '/fdroid/com.github.ruleant.getback_gps/0.8/apk/com.github.ruleant.getback_gps_80.apk'),\n",
       " ('c63f446f1f99eaf2087c5913f693fb45', '/fdroid/com.gpl.rpg.AndorsTrail/0.8.3/apk/com.gpl.rpg.AndorsTrail_67.apk'),\n",
       " ('494e3e95a80ee396ab46161d59051641', '/fdroid/com.ichi2.anki/2.15.6/apk/com.ichi2.anki_21506300.apk'),\n",
       " ('1f804046d0403554c83e1559f6a981e1', '/fdroid/com.knirirr.beecount/2.6.0/apk/com.knirirr.beecount_125.apk'),\n",
       " ('c4e9c69e165db524006572135e36df49', '/fdroid/com.MarcosDiez.shareviahttp/2.0.14/apk/com.MarcosDiez.shareviahttp_34.apk'),\n",
       " ('920e4b3035bba02cb490b94c565cc942', '/fdroid/com.nutomic.syncthingandroid/1.23.0/apk/com.nutomic.syncthingandroid_4334.apk'),\n",
       " ('1c79bbc4ffd1a834d05da9ddcb50afe5', '/fdroid/com.owncloud.android/3.0.1/apk/com.owncloud.android_30000001.apk'),\n",
       " ('39dc4220326ecfe8adf6ac8ea6d31254', '/fdroid/com.pilot51.voicenotify/1.2.2/apk/com.pilot51.voicenotify_26.apk'),\n",
       " ('c5f0f63d7372a09359426853a4c3b42e', '/fdroid/com.seafile.seadroid2/2.2.48/apk/com.seafile.seadroid2_123.apk'),\n",
       " ('1dae958009d03b38a579672a035bba82', '/fdroid/com.shatteredpixel.shatteredpixeldungeon/1.4.3/apk/com.shatteredpixel.shatteredpixeldungeon_668.apk'),\n",
       " ('ea18cfff29e2d48695c3a8faa3e435fe', '/fdroid/com.ubergeek42.WeechatAndroid/1.8.1/apk/com.ubergeek42.WeechatAndroid_10801.apk'),\n",
       " ('a40bd91287d7603b3c373dc0414b79dc', '/fdroid/com.yubico.yubioath/6.0.2/apk/com.yubico.yubioath_600064.apk'),\n",
       " ('450c5cc315df7a44b7a0f5fe9afd7355', '/fdroid/de.blau.android/18.1.1.0/apk/de.blau.android_2303.apk'),\n",
       " ('3a52f585e54f47b964beba5eacf4a31d', '/fdroid/de.blinkt.openvpn/0.7.43/apk/de.blinkt.openvpn_198.apk'),\n",
       " ('0eb5a8cf794e005a41f9e85627308de0', '/fdroid/de.jkliemann.parkendd/1.2.8/apk/de.jkliemann.parkendd_33.apk'),\n",
       " ('12bcd02fe35ea577dbcffb09ca833f73', '/fdroid/de.markusfisch.android.wavelines/1.13.2/apk/de.markusfisch.android.wavelines_22.apk'),\n",
       " ('b3a2fee1f2019f14eec592254db748cb', '/fdroid/de.srlabs.snoopsnitch/2.0.12-nbc/apk/de.srlabs.snoopsnitch_50.apk'),\n",
       " ('fd7d184ba56ed4825da4308dff15bbb0', '/fdroid/de.syss.MifareClassicTool/4.0.4/apk/de.syss.MifareClassicTool_62.apk'),\n",
       " ('f25796ef1042381c5c4dcdfe5ccdb9b2', '/fdroid/dev.ukanth.ufirewall/3.5.3/apk/dev.ukanth.ufirewall_20220615.apk'),\n",
       " ('9f57938fd1a6d06d4ca315ed0fd238e4', '/fdroid/info.guardianproject.pixelknot/1.0.2.1/apk/info.guardianproject.pixelknot_1021.apk'),\n",
       " ('5449a329fd66b071b9bd1a4014ac36d7', '/fdroid/jwtc.android.chess/9.3.10/apk/jwtc.android.chess_192.apk'),\n",
       " ('7db71396bef7a306cf75661eea02628f', '/fdroid/name.boyle.chris.sgtpuzzles/2023-01-18-2324-aaa36328-fdroid/apk/name.boyle.chris.sgtpuzzles_137.apk'),\n",
       " ('fed61d96872207c5bb3b692f45be4cac', '/fdroid/net.bible.android.activity/4.0.673/apk/net.bible.android.activity_673.apk'),\n",
       " ('fa4d0c97f0cf86c5f26e6da9e389953e', '/fdroid/net.gaast.giggity/2.0.8/apk/net.gaast.giggity_520.apk'),\n",
       " ('0869e91110542f500e768eb247fc0646', '/fdroid/net.justdave.nwsweatheralertswidget/1.1.4/apk/net.justdave.nwsweatheralertswidget_12.apk'),\n",
       " ('0573f22ba2db087bc500b2ee4bb8770a', '/fdroid/net.nurik.roman.muzei/3.5.0-alpha02/apk/net.nurik.roman.muzei_350002.apk'),\n",
       " ('6df911fbc45ba44c8fbea17343c70e4d', '/fdroid/net.osmand.plus/4.3.8/apk/net.osmand.plus_4308.apk'),\n",
       " ('df7855155dac418ee06c3740ed37936f', '/fdroid/net.wigle.wigleandroid/2.63/apk/net.wigle.wigleandroid_263.apk'),\n",
       " ('2f9854a20ed29a58a81b5337d0af61e1', '/fdroid/nitezh.ministock/81/apk/nitezh.ministock_81.apk'),\n",
       " ('be586447d92438a16d686b9622305e3b', '/fdroid/nl.mpcjanssen.simpletask/11.0.1/apk/nl.mpcjanssen.simpletask_11000001.apk'),\n",
       " ('a0ad61f1b9d595d49188ec0d93a06a24', '/fdroid/org.andstatus.app/60.01/apk/org.andstatus.app_361.apk'),\n",
       " ('80500e687b4de36028be5ddd9b528b64', '/fdroid/org.epstudios.epmobile/2.30.1/apk/org.epstudios.epmobile_77.apk'),\n",
       " ('a24133295b539819ca6eed1c0df907f4', '/fdroid/org.fedorahosted.freeotp/2.0/apk/org.fedorahosted.freeotp_24.apk'),\n",
       " ('322f1f0149304201c3280e4654907bdd', '/fdroid/org.liberty.android.fantastischmemo/10.11.7/apk/org.liberty.android.fantastischmemo_237.apk'),\n",
       " ('66bdfebd9c2ca07b59d64659631576ff', '/fdroid/org.mariotaku.twidere/4.1.8/apk/org.mariotaku.twidere_517.apk'),\n",
       " ('3f5b4ae5ae3597ee25c555f8c23a3205', '/fdroid/org.navitproject.navit/v0.5.6/apk/org.navitproject.navit_2021030660.apk'),\n",
       " ('60e9a6da93433fe0ebe14c56a0261945', '/fdroid/org.scoutant.blokish/3.4/apk/org.scoutant.blokish_22.apk'),\n",
       " ('d2c6ae87fb62cd45a3cb291a147a5b2e', '/fdroid/org.sipdroid.sipua/6.3beta/apk/org.sipdroid.sipua_134.apk'),\n",
       " ('d7937b80ac1f04797b8f353f19019937', '/fdroid/org.sufficientlysecure.keychain/5.8.2/apk/org.sufficientlysecure.keychain_58902.apk'),\n",
       " ('fa2864e2057b5deb36534206649b7bce', '/fdroid/org.tasks/13.1.1/apk/org.tasks_130101.apk'),\n",
       " ('657bdaf968d7766a385b0a9b7a09f70a', '/fdroid/org.traccar.client/6.18/apk/org.traccar.client_79.apk'),\n",
       " ('0aa716d66cb39de4d1be74e384967604', '/fdroid/org.transdroid.lite/2.5.19/apk/org.transdroid.lite_239.apk'),\n",
       " ('b591bf81c3c9c87fef841e6a058341bd', '/fdroid/org.yuttadhammo.BodhiTimer/6.3.0/apk/org.yuttadhammo.BodhiTimer_98.apk'),\n",
       " ('e0a63a855db9e9f9606eb1f79d192470', '/fdroid/org.zephyrsoft.trackworktime/1.1.20/apk/org.zephyrsoft.trackworktime_64.apk'),\n",
       " ('17fd8f5ea0f1d31bc99f66dbdce01402', 'jar_17fd8f5ea0f1d31bc99f66dbdce01402'),\n",
       " ('09e34270416ed5783ab89d39b9032102', '/oss/de.danoeh.antennapod/app/build/outputs/apk/free/debug/app-free-debug.apk'),\n",
       " ('146ca09bccccd231f84c29b68f66e8ef', '/oss/org.connectbot/app/build/outputs/apk/oss/debug/app-oss-debug.apk'),\n",
       " ('d41d8cd98f00b204e9800998ecf8427e', 'spec_d41d8cd98f00b204e9800998ecf8427e')]"
      ]
     },
     "execution_count": 98,
     "metadata": {},
     "output_type": "execute_result"
    }
   ],
   "source": [
    "%%sql -- md5 hash of binary inputs\n",
    "select md5(img),apkname from apks order by apkname;"
   ]
  },
  {
   "cell_type": "code",
   "execution_count": 87,
   "metadata": {},
   "outputs": [
    {
     "name": "stdout",
     "output_type": "stream",
     "text": [
      " * postgresql://postgres@localhost:3333/postgres\n",
      "1 rows affected.\n",
      " * postgresql://postgres@localhost:3333/postgres\n",
      "1 rows affected.\n",
      " * postgresql://postgres@localhost:3333/postgres\n",
      "1 rows affected.\n",
      " * postgresql://postgres@localhost:3333/postgres\n",
      "1 rows affected.\n",
      "average time per job: 0:01:12.528276\n",
      "est remaining time: 3:40:00.146232\n"
     ]
    }
   ],
   "source": [
    "#Estimate time until completion of all jobs\n",
    "\n",
    "totTime = %sql select now() - min(started) from jobs;\n",
    "completedJobs = %sql select count(*) from jobs where status = 'completed';\n",
    "timeoutJobs = %sql select count(*) from jobs where status like 'failed%';\n",
    "newJobs = %sql select count(*) from jobs where status = 'new';\n",
    "avgJobTime = totTime[0][0] / (completedJobs[0][0] + timeoutJobs[0][0])\n",
    "print(\"average time per job: \" + str(avgJobTime))\n",
    "print(\"est remaining time: \" + str(avgJobTime * newJobs[0][0]))"
   ]
  },
  {
   "cell_type": "code",
   "execution_count": 120,
   "metadata": {},
   "outputs": [
    {
     "name": "stdout",
     "output_type": "stream",
     "text": [
      "   postgresql://postgres@localhost:3333/postgres\n",
      " * postgresql://postgres@localhost:5433/postgres\n",
      "3 rows affected.\n"
     ]
    },
    {
     "data": {
      "text/html": [
       "<table>\n",
       "    <tr>\n",
       "        <th>count</th>\n",
       "        <th>substring</th>\n",
       "    </tr>\n",
       "    <tr>\n",
       "        <td>35</td>\n",
       "        <td>failed: Non-zero exit code. StdErr: <br>Exception in thread &quot;main&quot; java.lang.OutOfMemoryError: Java heap space<br>\tat soot.uti</td>\n",
       "    </tr>\n",
       "    <tr>\n",
       "        <td>10</td>\n",
       "        <td>failed: Non-zero exit code. StdErr: <br><br>---<br> StdOut:<br>java.library.path set to: /usr/lib/:/usr/java/packages/lib:/usr/lib64</td>\n",
       "    </tr>\n",
       "    <tr>\n",
       "        <td>27</td>\n",
       "        <td>failed: Subprocess Timeout</td>\n",
       "    </tr>\n",
       "</table>"
      ],
      "text/plain": [
       "[(35, 'failed: Non-zero exit code. StdErr: \\nException in thread \"main\" java.lang.OutOfMemoryError: Java heap space\\n\\tat soot.uti'),\n",
       " (10, 'failed: Non-zero exit code. StdErr: \\n\\n---\\n StdOut:\\njava.library.path set to: /usr/lib/:/usr/java/packages/lib:/usr/lib64'),\n",
       " (27, 'failed: Subprocess Timeout')]"
      ]
     },
     "execution_count": 120,
     "metadata": {},
     "output_type": "execute_result"
    }
   ],
   "source": [
    "%%sql \n",
    "select count(*),substring(status from 1 for 120) from jobs where jobs.status like 'failed%' group by substring(status from 1 for 120)\n"
   ]
  },
  {
   "cell_type": "markdown",
   "metadata": {},
   "source": [
    "Print jobs and statuses"
   ]
  },
  {
   "cell_type": "code",
   "execution_count": 75,
   "metadata": {},
   "outputs": [
    {
     "name": "stdout",
     "output_type": "stream",
     "text": [
      " * postgresql://postgres@localhost:3333/postgres\n",
      "25 rows affected.\n"
     ]
    },
    {
     "data": {
      "text/html": [
       "<table>\n",
       "    <tr>\n",
       "        <th>owner</th>\n",
       "        <th>jobcount</th>\n",
       "    </tr>\n",
       "    <tr>\n",
       "        <td>Linux Historia3Zen3 5.15.0-67-generic #74-Ubuntu SMP Wed Feb 22 14:14:39 UTC 2023 x86_64 x86_64 x86_64 GNU/Linux hostname: Historia3Zen3<br> uuid: 8335c336-3b7a-4f79-b562-09400b5b8573</td>\n",
       "        <td>19</td>\n",
       "    </tr>\n",
       "    <tr>\n",
       "        <td>Linux Loki 5.15.0-60-generic #66-Ubuntu SMP Fri Jan 20 14:29:49 UTC 2023 x86_64 x86_64 x86_64 GNU/Linux hostname: Loki<br> uuid: 555b8a46-fb37-4014-906a-58fd49bc24a1</td>\n",
       "        <td>23</td>\n",
       "    </tr>\n",
       "    <tr>\n",
       "        <td>Linux Historia4cascadelaker 5.15.0-67-generic #74-Ubuntu SMP Wed Feb 22 14:14:39 UTC 2023 x86_64 x86_64 x86_64 GNU/Linux hostname: Historia4cascadelaker<br> uuid: f360531d-9b90-442d-ac63-935be00657c1</td>\n",
       "        <td>23</td>\n",
       "    </tr>\n",
       "    <tr>\n",
       "        <td>Linux Historia3Zen3 5.15.0-67-generic #74-Ubuntu SMP Wed Feb 22 14:14:39 UTC 2023 x86_64 x86_64 x86_64 GNU/Linux hostname: Historia3Zen3<br> uuid: 1758ebf8-80b2-41ae-81ba-dde83f2f95e4</td>\n",
       "        <td>25</td>\n",
       "    </tr>\n",
       "    <tr>\n",
       "        <td>Linux Historia4cascadelaker 5.15.0-67-generic #74-Ubuntu SMP Wed Feb 22 14:14:39 UTC 2023 x86_64 x86_64 x86_64 GNU/Linux hostname: Historia4cascadelaker<br> uuid: 188382f8-57be-464b-873e-aef18af38177</td>\n",
       "        <td>27</td>\n",
       "    </tr>\n",
       "    <tr>\n",
       "        <td>Linux historia2 5.15.0-67-generic #74-Ubuntu SMP Wed Feb 22 14:14:39 UTC 2023 x86_64 x86_64 x86_64 GNU/Linux hostname: historia2<br> uuid: 2774560d-74ce-40a8-9a66-78bf117384a5</td>\n",
       "        <td>28</td>\n",
       "    </tr>\n",
       "    <tr>\n",
       "        <td>Linux historia1 5.15.0-67-generic #74-Ubuntu SMP Wed Feb 22 14:14:39 UTC 2023 x86_64 x86_64 x86_64 GNU/Linux hostname: historia1<br> uuid: b203d016-2407-4e85-9e2b-33c954015b03</td>\n",
       "        <td>28</td>\n",
       "    </tr>\n",
       "    <tr>\n",
       "        <td>Linux Historia3Zen3 5.15.0-67-generic #74-Ubuntu SMP Wed Feb 22 14:14:39 UTC 2023 x86_64 x86_64 x86_64 GNU/Linux hostname: Historia3Zen3<br> uuid: dc5c3b15-dafb-4dbb-aac8-e4060b6bf3d6</td>\n",
       "        <td>30</td>\n",
       "    </tr>\n",
       "    <tr>\n",
       "        <td>Linux Historia3Zen3 5.15.0-67-generic #74-Ubuntu SMP Wed Feb 22 14:14:39 UTC 2023 x86_64 x86_64 x86_64 GNU/Linux hostname: Historia3Zen3<br> uuid: 43b66e81-d612-47e6-84b4-6c74b7b68306</td>\n",
       "        <td>31</td>\n",
       "    </tr>\n",
       "    <tr>\n",
       "        <td>Linux Historia4cascadelaker 5.15.0-67-generic #74-Ubuntu SMP Wed Feb 22 14:14:39 UTC 2023 x86_64 x86_64 x86_64 GNU/Linux hostname: Historia4cascadelaker<br> uuid: 982d47f3-b6e0-4961-9bd3-4811d152a864</td>\n",
       "        <td>31</td>\n",
       "    </tr>\n",
       "    <tr>\n",
       "        <td>Linux historia2 5.15.0-67-generic #74-Ubuntu SMP Wed Feb 22 14:14:39 UTC 2023 x86_64 x86_64 x86_64 GNU/Linux hostname: historia2<br> uuid: 32b3cb46-8037-4cf6-b261-0c4fb263f4f0</td>\n",
       "        <td>31</td>\n",
       "    </tr>\n",
       "    <tr>\n",
       "        <td>Linux Historia3Zen3 5.15.0-67-generic #74-Ubuntu SMP Wed Feb 22 14:14:39 UTC 2023 x86_64 x86_64 x86_64 GNU/Linux hostname: Historia3Zen3<br> uuid: 6bb0629e-c59b-46c2-9b5a-af7ef840a54b</td>\n",
       "        <td>32</td>\n",
       "    </tr>\n",
       "    <tr>\n",
       "        <td>Linux historia2 5.15.0-67-generic #74-Ubuntu SMP Wed Feb 22 14:14:39 UTC 2023 x86_64 x86_64 x86_64 GNU/Linux hostname: historia2<br> uuid: f1582fce-c330-4799-a89f-99501d5094b3</td>\n",
       "        <td>32</td>\n",
       "    </tr>\n",
       "    <tr>\n",
       "        <td>Linux Historia4cascadelaker 5.15.0-67-generic #74-Ubuntu SMP Wed Feb 22 14:14:39 UTC 2023 x86_64 x86_64 x86_64 GNU/Linux hostname: Historia4cascadelaker<br> uuid: 781936b8-e24b-4c93-a5f4-dee1654dedb5</td>\n",
       "        <td>34</td>\n",
       "    </tr>\n",
       "    <tr>\n",
       "        <td>Linux historia1 5.15.0-67-generic #74-Ubuntu SMP Wed Feb 22 14:14:39 UTC 2023 x86_64 x86_64 x86_64 GNU/Linux hostname: historia1<br> uuid: 473d50b7-8860-4265-8202-f53b0d6923f3</td>\n",
       "        <td>34</td>\n",
       "    </tr>\n",
       "    <tr>\n",
       "        <td>Linux historia2 5.15.0-67-generic #74-Ubuntu SMP Wed Feb 22 14:14:39 UTC 2023 x86_64 x86_64 x86_64 GNU/Linux hostname: historia2<br> uuid: 1c8a62de-5415-4fee-91d1-d9d0fa0f38a6</td>\n",
       "        <td>35</td>\n",
       "    </tr>\n",
       "    <tr>\n",
       "        <td>Linux historia1 5.15.0-67-generic #74-Ubuntu SMP Wed Feb 22 14:14:39 UTC 2023 x86_64 x86_64 x86_64 GNU/Linux hostname: historia1<br> uuid: 117f5272-6927-4c7c-ba69-83eae9881af1</td>\n",
       "        <td>35</td>\n",
       "    </tr>\n",
       "    <tr>\n",
       "        <td>Linux historia1 5.15.0-67-generic #74-Ubuntu SMP Wed Feb 22 14:14:39 UTC 2023 x86_64 x86_64 x86_64 GNU/Linux hostname: historia1<br> uuid: 19b8613e-bacd-42ae-8e32-02d568d86ca1</td>\n",
       "        <td>36</td>\n",
       "    </tr>\n",
       "    <tr>\n",
       "        <td>Linux Historia3Zen3 5.15.0-67-generic #74-Ubuntu SMP Wed Feb 22 14:14:39 UTC 2023 x86_64 x86_64 x86_64 GNU/Linux hostname: Historia3Zen3<br> uuid: caf02553-c4a7-46d7-bb0a-d991ae876db6</td>\n",
       "        <td>37</td>\n",
       "    </tr>\n",
       "    <tr>\n",
       "        <td>Linux Loki 5.15.0-60-generic #66-Ubuntu SMP Fri Jan 20 14:29:49 UTC 2023 x86_64 x86_64 x86_64 GNU/Linux hostname: Loki<br> uuid: e02d58e9-5215-42ae-b67e-325ead1a3236</td>\n",
       "        <td>39</td>\n",
       "    </tr>\n",
       "    <tr>\n",
       "        <td>Linux historia1 5.15.0-67-generic #74-Ubuntu SMP Wed Feb 22 14:14:39 UTC 2023 x86_64 x86_64 x86_64 GNU/Linux hostname: historia1<br> uuid: ef99a0ef-55f4-4a08-917a-4b9394cfa67d</td>\n",
       "        <td>40</td>\n",
       "    </tr>\n",
       "    <tr>\n",
       "        <td>Linux historia1 5.15.0-67-generic #74-Ubuntu SMP Wed Feb 22 14:14:39 UTC 2023 x86_64 x86_64 x86_64 GNU/Linux hostname: historia1<br> uuid: 18b0fd7f-fa00-49d1-898e-650f6d9a4b1c</td>\n",
       "        <td>41</td>\n",
       "    </tr>\n",
       "    <tr>\n",
       "        <td>Linux historia2-2 5.15.0-67-generic #74-Ubuntu SMP Wed Feb 22 14:14:39 UTC 2023 x86_64 x86_64 x86_64 GNU/Linux hostname: historia2-2<br> uuid: 09626626-08fb-49bc-b150-9275f6069c43</td>\n",
       "        <td>41</td>\n",
       "    </tr>\n",
       "    <tr>\n",
       "        <td>Linux historia1 5.15.0-67-generic #74-Ubuntu SMP Wed Feb 22 14:14:39 UTC 2023 x86_64 x86_64 x86_64 GNU/Linux hostname: historia1<br> uuid: 7df038d4-e70a-455f-84e1-6a7cf7a9f073</td>\n",
       "        <td>41</td>\n",
       "    </tr>\n",
       "    <tr>\n",
       "        <td>Linux historia2-2 5.15.0-67-generic #74-Ubuntu SMP Wed Feb 22 14:14:39 UTC 2023 x86_64 x86_64 x86_64 GNU/Linux hostname: historia2-2<br> uuid: 075f3c44-94da-4e3e-bbe2-5c6ce608f05f</td>\n",
       "        <td>42</td>\n",
       "    </tr>\n",
       "</table>"
      ],
      "text/plain": [
       "[('Linux Historia3Zen3 5.15.0-67-generic #74-Ubuntu SMP Wed Feb 22 14:14:39 UTC 2023 x86_64 x86_64 x86_64 GNU/Linux hostname: Historia3Zen3\\n uuid: 8335c336-3b7a-4f79-b562-09400b5b8573', 19),\n",
       " ('Linux Loki 5.15.0-60-generic #66-Ubuntu SMP Fri Jan 20 14:29:49 UTC 2023 x86_64 x86_64 x86_64 GNU/Linux hostname: Loki\\n uuid: 555b8a46-fb37-4014-906a-58fd49bc24a1', 23),\n",
       " ('Linux Historia4cascadelaker 5.15.0-67-generic #74-Ubuntu SMP Wed Feb 22 14:14:39 UTC 2023 x86_64 x86_64 x86_64 GNU/Linux hostname: Historia4cascadelaker\\n uuid: f360531d-9b90-442d-ac63-935be00657c1', 23),\n",
       " ('Linux Historia3Zen3 5.15.0-67-generic #74-Ubuntu SMP Wed Feb 22 14:14:39 UTC 2023 x86_64 x86_64 x86_64 GNU/Linux hostname: Historia3Zen3\\n uuid: 1758ebf8-80b2-41ae-81ba-dde83f2f95e4', 25),\n",
       " ('Linux Historia4cascadelaker 5.15.0-67-generic #74-Ubuntu SMP Wed Feb 22 14:14:39 UTC 2023 x86_64 x86_64 x86_64 GNU/Linux hostname: Historia4cascadelaker\\n uuid: 188382f8-57be-464b-873e-aef18af38177', 27),\n",
       " ('Linux historia2 5.15.0-67-generic #74-Ubuntu SMP Wed Feb 22 14:14:39 UTC 2023 x86_64 x86_64 x86_64 GNU/Linux hostname: historia2\\n uuid: 2774560d-74ce-40a8-9a66-78bf117384a5', 28),\n",
       " ('Linux historia1 5.15.0-67-generic #74-Ubuntu SMP Wed Feb 22 14:14:39 UTC 2023 x86_64 x86_64 x86_64 GNU/Linux hostname: historia1\\n uuid: b203d016-2407-4e85-9e2b-33c954015b03', 28),\n",
       " ('Linux Historia3Zen3 5.15.0-67-generic #74-Ubuntu SMP Wed Feb 22 14:14:39 UTC 2023 x86_64 x86_64 x86_64 GNU/Linux hostname: Historia3Zen3\\n uuid: dc5c3b15-dafb-4dbb-aac8-e4060b6bf3d6', 30),\n",
       " ('Linux Historia3Zen3 5.15.0-67-generic #74-Ubuntu SMP Wed Feb 22 14:14:39 UTC 2023 x86_64 x86_64 x86_64 GNU/Linux hostname: Historia3Zen3\\n uuid: 43b66e81-d612-47e6-84b4-6c74b7b68306', 31),\n",
       " ('Linux Historia4cascadelaker 5.15.0-67-generic #74-Ubuntu SMP Wed Feb 22 14:14:39 UTC 2023 x86_64 x86_64 x86_64 GNU/Linux hostname: Historia4cascadelaker\\n uuid: 982d47f3-b6e0-4961-9bd3-4811d152a864', 31),\n",
       " ('Linux historia2 5.15.0-67-generic #74-Ubuntu SMP Wed Feb 22 14:14:39 UTC 2023 x86_64 x86_64 x86_64 GNU/Linux hostname: historia2\\n uuid: 32b3cb46-8037-4cf6-b261-0c4fb263f4f0', 31),\n",
       " ('Linux Historia3Zen3 5.15.0-67-generic #74-Ubuntu SMP Wed Feb 22 14:14:39 UTC 2023 x86_64 x86_64 x86_64 GNU/Linux hostname: Historia3Zen3\\n uuid: 6bb0629e-c59b-46c2-9b5a-af7ef840a54b', 32),\n",
       " ('Linux historia2 5.15.0-67-generic #74-Ubuntu SMP Wed Feb 22 14:14:39 UTC 2023 x86_64 x86_64 x86_64 GNU/Linux hostname: historia2\\n uuid: f1582fce-c330-4799-a89f-99501d5094b3', 32),\n",
       " ('Linux Historia4cascadelaker 5.15.0-67-generic #74-Ubuntu SMP Wed Feb 22 14:14:39 UTC 2023 x86_64 x86_64 x86_64 GNU/Linux hostname: Historia4cascadelaker\\n uuid: 781936b8-e24b-4c93-a5f4-dee1654dedb5', 34),\n",
       " ('Linux historia1 5.15.0-67-generic #74-Ubuntu SMP Wed Feb 22 14:14:39 UTC 2023 x86_64 x86_64 x86_64 GNU/Linux hostname: historia1\\n uuid: 473d50b7-8860-4265-8202-f53b0d6923f3', 34),\n",
       " ('Linux historia2 5.15.0-67-generic #74-Ubuntu SMP Wed Feb 22 14:14:39 UTC 2023 x86_64 x86_64 x86_64 GNU/Linux hostname: historia2\\n uuid: 1c8a62de-5415-4fee-91d1-d9d0fa0f38a6', 35),\n",
       " ('Linux historia1 5.15.0-67-generic #74-Ubuntu SMP Wed Feb 22 14:14:39 UTC 2023 x86_64 x86_64 x86_64 GNU/Linux hostname: historia1\\n uuid: 117f5272-6927-4c7c-ba69-83eae9881af1', 35),\n",
       " ('Linux historia1 5.15.0-67-generic #74-Ubuntu SMP Wed Feb 22 14:14:39 UTC 2023 x86_64 x86_64 x86_64 GNU/Linux hostname: historia1\\n uuid: 19b8613e-bacd-42ae-8e32-02d568d86ca1', 36),\n",
       " ('Linux Historia3Zen3 5.15.0-67-generic #74-Ubuntu SMP Wed Feb 22 14:14:39 UTC 2023 x86_64 x86_64 x86_64 GNU/Linux hostname: Historia3Zen3\\n uuid: caf02553-c4a7-46d7-bb0a-d991ae876db6', 37),\n",
       " ('Linux Loki 5.15.0-60-generic #66-Ubuntu SMP Fri Jan 20 14:29:49 UTC 2023 x86_64 x86_64 x86_64 GNU/Linux hostname: Loki\\n uuid: e02d58e9-5215-42ae-b67e-325ead1a3236', 39),\n",
       " ('Linux historia1 5.15.0-67-generic #74-Ubuntu SMP Wed Feb 22 14:14:39 UTC 2023 x86_64 x86_64 x86_64 GNU/Linux hostname: historia1\\n uuid: ef99a0ef-55f4-4a08-917a-4b9394cfa67d', 40),\n",
       " ('Linux historia1 5.15.0-67-generic #74-Ubuntu SMP Wed Feb 22 14:14:39 UTC 2023 x86_64 x86_64 x86_64 GNU/Linux hostname: historia1\\n uuid: 18b0fd7f-fa00-49d1-898e-650f6d9a4b1c', 41),\n",
       " ('Linux historia2-2 5.15.0-67-generic #74-Ubuntu SMP Wed Feb 22 14:14:39 UTC 2023 x86_64 x86_64 x86_64 GNU/Linux hostname: historia2-2\\n uuid: 09626626-08fb-49bc-b150-9275f6069c43', 41),\n",
       " ('Linux historia1 5.15.0-67-generic #74-Ubuntu SMP Wed Feb 22 14:14:39 UTC 2023 x86_64 x86_64 x86_64 GNU/Linux hostname: historia1\\n uuid: 7df038d4-e70a-455f-84e1-6a7cf7a9f073', 41),\n",
       " ('Linux historia2-2 5.15.0-67-generic #74-Ubuntu SMP Wed Feb 22 14:14:39 UTC 2023 x86_64 x86_64 x86_64 GNU/Linux hostname: historia2-2\\n uuid: 075f3c44-94da-4e3e-bbe2-5c6ce608f05f', 42)]"
      ]
     },
     "execution_count": 75,
     "metadata": {},
     "output_type": "execute_result"
    }
   ],
   "source": [
    "%%sql\n",
    "select owner,count(*) as jobcount from jobs where status ='completed' group by owner order by jobcount;"
   ]
  },
  {
   "cell_type": "code",
   "execution_count": null,
   "metadata": {},
   "outputs": [],
   "source": [
    "%%sql\n",
    "select \n",
    "  (select avg(ended - started) from jobs where owner like '%Loki%' and status = 'completed') as Loki,\n",
    "    (select avg(ended - started) from jobs where owner like '%Loan%' and status = 'completed') as Loan,\n",
    "    (select avg(ended - started) from jobs where owner like '% historia %' and status = 'completed') as zen3,\n",
    "    (select avg(ended - started) from jobs where owner not like '% historia %' and status = 'completed') as cascadelake_r"
   ]
  },
  {
   "cell_type": "code",
   "execution_count": 99,
   "metadata": {
    "tags": []
   },
   "outputs": [
    {
     "name": "stdout",
     "output_type": "stream",
     "text": [
      " * postgresql://postgres@localhost:3333/postgres\n",
      "0 rows affected.\n"
     ]
    }
   ],
   "source": [
    "# find exceptions\n",
    "#%%sql \n",
    "#select replace(cast(stderr as varchar),'$','\\$') from jobs where stderr like '%Exception%' limit 1;\n",
    "outs = %sql select stderr,config from jobs where stderr like '%Exception%' and stderr not like '%OutOfMemory%' order by random() limit 1;\n",
    "for out in outs:\n",
    "    print(out[1])\n",
    "    print(out[0])\n"
   ]
  },
  {
   "cell_type": "code",
   "execution_count": 100,
   "metadata": {},
   "outputs": [
    {
     "name": "stdout",
     "output_type": "stream",
     "text": [
      " * postgresql://postgres@localhost:3333/postgres\n",
      "3 rows affected.\n"
     ]
    },
    {
     "data": {
      "text/html": [
       "<table>\n",
       "    <tr>\n",
       "        <th>result</th>\n",
       "        <th>category</th>\n",
       "        <th>count</th>\n",
       "    </tr>\n",
       "    <tr>\n",
       "        <td>&quot;\\&quot;IOutOfMemoryError\\&quot;&quot;</td>\n",
       "        <td>&quot;Disallow.I_CIEnter_AsyncTaskexecute&quot;</td>\n",
       "        <td>8</td>\n",
       "    </tr>\n",
       "    <tr>\n",
       "        <td>&quot;\\&quot;Timeout\\&quot;&quot;</td>\n",
       "        <td>&quot;Disallow.I_CIEnter_AsyncTaskexecute&quot;</td>\n",
       "        <td>1</td>\n",
       "    </tr>\n",
       "    <tr>\n",
       "        <td>&quot;\\&quot;Unreachable\\&quot;&quot;</td>\n",
       "        <td>&quot;Disallow.I_CIEnter_AsyncTaskexecute&quot;</td>\n",
       "        <td>170</td>\n",
       "    </tr>\n",
       "</table>"
      ],
      "text/plain": [
       "[('\"\\\\\"IOutOfMemoryError\\\\\"\"', '\"Disallow.I_CIEnter_AsyncTaskexecute\"', 8),\n",
       " ('\"\\\\\"Timeout\\\\\"\"', '\"Disallow.I_CIEnter_AsyncTaskexecute\"', 1),\n",
       " ('\"\\\\\"Unreachable\\\\\"\"', '\"Disallow.I_CIEnter_AsyncTaskexecute\"', 170)]"
      ]
     },
     "execution_count": 100,
     "metadata": {},
     "output_type": "execute_result"
    }
   ],
   "source": [
    "%%sql -- look at results by tag\n",
    "select cast(results.result::json->'summary' as varchar) as result, \n",
    "    cast(jobs.config::json->'tag'->'heuristicType' as varchar) as category, \n",
    "    count(*)\n",
    "    from results inner join jobs on results.jobid=jobs.id where cast(jobs.config::json->'tag'->'heuristicType' as varchar)  like '%execute%'\n",
    "    group by cast(results.result::json->'summary' as varchar),\n",
    "    cast(jobs.config::json->'tag'->'heuristicType' as varchar)"
   ]
  },
  {
   "cell_type": "code",
   "execution_count": 43,
   "metadata": {},
   "outputs": [
    {
     "name": "stdout",
     "output_type": "stream",
     "text": [
      " * postgresql://postgres@localhost:3333/postgres\n",
      "1 rows affected.\n"
     ]
    },
    {
     "data": {
      "text/html": [
       "<table>\n",
       "    <tr>\n",
       "        <th>count</th>\n",
       "        <th>varchar</th>\n",
       "    </tr>\n",
       "    <tr>\n",
       "        <td>5</td>\n",
       "        <td>&quot;\\&quot;Unreachable\\&quot;&quot;</td>\n",
       "    </tr>\n",
       "</table>"
      ],
      "text/plain": [
       "[(5, '\"\\\\\"Unreachable\\\\\"\"')]"
      ]
     },
     "execution_count": 43,
     "metadata": {},
     "output_type": "execute_result"
    }
   ],
   "source": [
    "%%sql -- results of SensitiveDerefFieldCausedSynch count\n",
    "select count(*),cast(results.result::json->'summary' as varchar) from jobs inner join results on jobs.id=results.jobid \n",
    "where cast(jobs.config::json->'tag'->'heuristicType' as varchar) like '%SensitiveDerefFieldCausedSynch%' \n",
    "group by cast(results.result::json->'summary' as varchar)\n"
   ]
  },
  {
   "cell_type": "code",
   "execution_count": 44,
   "metadata": {},
   "outputs": [
    {
     "name": "stdout",
     "output_type": "stream",
     "text": [
      " * postgresql://postgres@localhost:3333/postgres\n",
      "5 rows affected.\n"
     ]
    }
   ],
   "source": [
    "cfg = %sql select jobs.config from jobs inner join results on jobs.id=results.jobid where cast(jobs.config::json->'tag'->'heuristicType' as varchar) like '%SensitiveDerefFieldCausedSynch%'  and cast(results.result::json->'summary' as varchar) like '%Unreach%'"
   ]
  },
  {
   "cell_type": "code",
   "execution_count": 45,
   "metadata": {},
   "outputs": [
    {
     "data": {
      "text/plain": [
       "'{\"apkPath\":\"${baseDir}/fdroid/org.sipdroid.sipua/6.3beta/apk/org.sipdroid.sipua_134.apk\",\"outFolder\":[\"${baseDirOut}/org.sipdroid.sipua\"],\"specSet\":\"{\\\\\"specs\\\\\":[],\\\\\"disallow\\\\\":[{\\\\\"univQuant\\\\\":[{\\\\\"$type\\\\\":\\\\\"edu.colorado.plv.bounder.symbolicexecutor.state.NamedPureVar\\\\\",\\\\\"n\\\\\":\\\\\"a\\\\\"},{\\\\\"$type\\\\\":\\\\\"edu.colorado.plv.bounder.symbolicexecutor.state.NamedPureVar\\\\\",\\\\\"n\\\\\":\\\\\"f\\\\\"}],\\\\\"existQuant\\\\\":[],\\\\\"pred\\\\\":{\\\\\"$type\\\\\":\\\\\"edu.colorado.plv.bounder.lifestate.LifeState.Or\\\\\",\\\\\"l1\\\\\":{\\\\\"$type\\\\\":\\\\\"edu.colorado.plv.bounder.lifestate.LifeState.NS\\\\\",\\\\\"i1\\\\\":{\\\\\"$type\\\\\":\\\\\"edu.colorado.plv.bounder.lifestate.LifeState.OAbsMsg\\\\\",\\\\\"mt\\\\\":{\\\\\"$type\\\\\":\\\\\"edu.colorado.plv.bounder.ir.CBExit\\\\\"},\\\\\"signatures\\\\\":{\\\\\"$type\\\\\":\\\\\"edu.colorado.plv.bounder.lifestate.LifeState.SubClassMatcher\\\\\",\\\\\"baseSubtypeOf\\\\\":[\\\\\"android.app.Fragment\\\\\",\\\\\"androidx.fragment.app.Fragment\\\\\",\\\\\"android.support.v4.app.Fragment\\\\\"],\\\\\"signatureMatcher\\\\\":\\\\\"void onDestroy\\\\\\\\\\\\\\\\(\\\\\\\\\\\\\\\\)\\\\\",\\\\\"ident\\\\\":\\\\\"Fragment_onDestroy\\\\\"},\\\\\"lsVars\\\\\":[{\\\\\"$type\\\\\":\\\\\"edu.colorado.plv.bounder.symbolicexecutor.state.TopVal\\\\\"},{\\\\\"$type\\\\\":\\\\\"edu.colorado.plv.bounder.symbolicexecutor.state.NamedPureVar\\\\\",\\\\\"n\\\\\":\\\\\"f\\\\\"}]},\\\\\"i2\\\\\":{\\\\\"$type\\\\\":\\\\\"edu.colorado.plv.bounder.lifestate.LifeState.OAbsMsg\\\\\",\\\\\"mt\\\\\":{\\\\\"$type\\\\\":\\\\\"edu.colorado.plv.bounder.ir.CBEnter\\\\\"},\\\\\"signatures\\\\\":{\\\\\"$type\\\\\":\\\\\"edu.colorado.plv.bounder.lifestate.LifeState.SubClassMatcher\\\\\",\\\\\"baseSubtypeOf\\\\\":[\\\\\"android.app.Fragment\\\\\",\\\\\"androidx.fragment.app.Fragment\\\\\",\\\\\"android.support.v4.app.Fragment\\\\\"],\\\\\"signatureMatcher\\\\\":\\\\\"void onActivityCreated\\\\\\\\\\\\\\\\(android.os.Bundle\\\\\\\\\\\\\\\\)\\\\\",\\\\\"ident\\\\\":\\\\\"Fragment_onActivityCreated\\\\\"},\\\\\"lsVars\\\\\":[{\\\\\"$type\\\\\":\\\\\"edu.colorado.plv.bounder.symbolicexecutor.state.TopVal\\\\\"},{\\\\\"$type\\\\\":\\\\\"edu.colorado.plv.bounder.symbolicexecutor.state.NamedPureVar\\\\\",\\\\\"n\\\\\":\\\\\"f\\\\\"}]}},\\\\\"l2\\\\\":{\\\\\"$type\\\\\":\\\\\"edu.colorado.plv.bounder.lifestate.LifeState.Not\\\\\",\\\\\"p\\\\\":{\\\\\"$type\\\\\":\\\\\"edu.colorado.plv.bounder.lifestate.LifeState.OAbsMsg\\\\\",\\\\\"mt\\\\\":{\\\\\"$type\\\\\":\\\\\"edu.colorado.plv.bounder.ir.CBEnter\\\\\"},\\\\\"signatures\\\\\":{\\\\\"$type\\\\\":\\\\\"edu.colorado.plv.bounder.lifestate.LifeState.SubClassMatcher\\\\\",\\\\\"baseSubtypeOf\\\\\":[\\\\\"android.app.Fragment\\\\\",\\\\\"androidx.fragment.app.Fragment\\\\\",\\\\\"android.support.v4.app.Fragment\\\\\"],\\\\\"signatureMatcher\\\\\":\\\\\"void onActivityCreated\\\\\\\\\\\\\\\\(android.os.Bundle\\\\\\\\\\\\\\\\)\\\\\",\\\\\"ident\\\\\":\\\\\"Fragment_onActivityCreated\\\\\"},\\\\\"lsVars\\\\\":[{\\\\\"$type\\\\\":\\\\\"edu.colorado.plv.bounder.symbolicexecutor.state.TopVal\\\\\"},{\\\\\"$type\\\\\":\\\\\"edu.colorado.plv.bounder.symbolicexecutor.state.NamedPureVar\\\\\",\\\\\"n\\\\\":\\\\\"f\\\\\"}]}}},\\\\\"target\\\\\":{\\\\\"$type\\\\\":\\\\\"edu.colorado.plv.bounder.lifestate.LifeState.OAbsMsg\\\\\",\\\\\"mt\\\\\":{\\\\\"$type\\\\\":\\\\\"edu.colorado.plv.bounder.ir.CIExit\\\\\"},\\\\\"signatures\\\\\":{\\\\\"$type\\\\\":\\\\\"edu.colorado.plv.bounder.lifestate.LifeState.SubClassMatcher\\\\\",\\\\\"baseSubtypeOf\\\\\":[\\\\\"android.app.Fragment\\\\\",\\\\\"androidx.fragment.app.Fragment\\\\\",\\\\\"android.support.v4.app.Fragment\\\\\"],\\\\\"signatureMatcher\\\\\":\\\\\".*Activity getActivity\\\\\\\\\\\\\\\\(\\\\\\\\\\\\\\\\)\\\\\",\\\\\"ident\\\\\":\\\\\"Fragment_getActivity\\\\\"},\\\\\"lsVars\\\\\":[{\\\\\"$type\\\\\":\\\\\"edu.colorado.plv.bounder.symbolicexecutor.state.NamedPureVar\\\\\",\\\\\"n\\\\\":\\\\\"a\\\\\"},{\\\\\"$type\\\\\":\\\\\"edu.colorado.plv.bounder.symbolicexecutor.state.NamedPureVar\\\\\",\\\\\"n\\\\\":\\\\\"f\\\\\"}]},\\\\\"rhsConstraints\\\\\":[{\\\\\"$type\\\\\":\\\\\"edu.colorado.plv.bounder.lifestate.LifeState.LSConstraint\\\\\",\\\\\"v1\\\\\":{\\\\\"$type\\\\\":\\\\\"edu.colorado.plv.bounder.symbolicexecutor.state.NamedPureVar\\\\\",\\\\\"n\\\\\":\\\\\"a\\\\\"},\\\\\"op\\\\\":{\\\\\"$type\\\\\":\\\\\"edu.colorado.plv.bounder.symbolicexecutor.state.Equals\\\\\"},\\\\\"v2\\\\\":{\\\\\"$type\\\\\":\\\\\"edu.colorado.plv.bounder.symbolicexecutor.state.NullVal\\\\\"}}]},{\\\\\"univQuant\\\\\":[{\\\\\"$type\\\\\":\\\\\"edu.colorado.plv.bounder.symbolicexecutor.state.NamedPureVar\\\\\",\\\\\"n\\\\\":\\\\\"t\\\\\"}],\\\\\"existQuant\\\\\":[],\\\\\"pred\\\\\":{\\\\\"$type\\\\\":\\\\\"edu.colorado.plv.bounder.lifestate.LifeState.OAbsMsg\\\\\",\\\\\"mt\\\\\":{\\\\\"$type\\\\\":\\\\\"edu.colorado.plv.bounder.ir.CIExit\\\\\"},\\\\\"signatures\\\\\":{\\\\\"$type\\\\\":\\\\\"edu.colorado.plv.bounder.lifestate.LifeState.SubClassMatcher\\\\\",\\\\\"baseSubtypeOf\\\\\":[\\\\\"android.os.AsyncTask\\\\\"],\\\\\"signatureMatcher\\\\\":\\\\\".*AsyncTask execute\\\\\\\\\\\\\\\\(.*\\\\\\\\\\\\\\\\)\\\\\",\\\\\"ident\\\\\":\\\\\"AsyncTask_execute\\\\\"},\\\\\"lsVars\\\\\":[{\\\\\"$type\\\\\":\\\\\"edu.colorado.plv.bounder.symbolicexecutor.state.TopVal\\\\\"},{\\\\\"$type\\\\\":\\\\\"edu.colorado.plv.bounder.symbolicexecutor.state.NamedPureVar\\\\\",\\\\\"n\\\\\":\\\\\"t\\\\\"}]},\\\\\"target\\\\\":{\\\\\"$type\\\\\":\\\\\"edu.colorado.plv.bounder.lifestate.LifeState.OAbsMsg\\\\\",\\\\\"mt\\\\\":{\\\\\"$type\\\\\":\\\\\"edu.colorado.plv.bounder.ir.CIEnter\\\\\"},\\\\\"signatures\\\\\":{\\\\\"$type\\\\\":\\\\\"edu.colorado.plv.bounder.lifestate.LifeState.SubClassMatcher\\\\\",\\\\\"baseSubtypeOf\\\\\":[\\\\\"android.os.AsyncTask\\\\\"],\\\\\"signatureMatcher\\\\\":\\\\\".*AsyncTask execute\\\\\\\\\\\\\\\\(.*\\\\\\\\\\\\\\\\)\\\\\",\\\\\"ident\\\\\":\\\\\"AsyncTask_execute\\\\\"},\\\\\"lsVars\\\\\":[{\\\\\"$type\\\\\":\\\\\"edu.colorado.plv.bounder.symbolicexecutor.state.TopVal\\\\\"},{\\\\\"$type\\\\\":\\\\\"edu.colorado.plv.bounder.symbolicexecutor.state.NamedPureVar\\\\\",\\\\\"n\\\\\":\\\\\"t\\\\\"}]}},{\\\\\"univQuant\\\\\":[{\\\\\"$type\\\\\":\\\\\"edu.colorado.plv.bounder.symbolicexecutor.state.NamedPureVar\\\\\",\\\\\"n\\\\\":\\\\\"d\\\\\"}],\\\\\"existQuant\\\\\":[{\\\\\"$type\\\\\":\\\\\"edu.colorado.plv.bounder.symbolicexecutor.state.NamedPureVar\\\\\",\\\\\"n\\\\\":\\\\\"a\\\\\"}],\\\\\"pred\\\\\":{\\\\\"$type\\\\\":\\\\\"edu.colorado.plv.bounder.lifestate.LifeState.And\\\\\",\\\\\"l1\\\\\":{\\\\\"$type\\\\\":\\\\\"edu.colorado.plv.bounder.lifestate.LifeState.OAbsMsg\\\\\",\\\\\"mt\\\\\":{\\\\\"$type\\\\\":\\\\\"edu.colorado.plv.bounder.ir.CIExit\\\\\"},\\\\\"signatures\\\\\":{\\\\\"$type\\\\\":\\\\\"edu.colorado.plv.bounder.lifestate.LifeState.SubClassMatcher\\\\\",\\\\\"baseSubtypeOf\\\\\":[\\\\\"android.app.ProgressDialog\\\\\",\\\\\"android.app.Dialog\\\\\"],\\\\\"signatureMatcher\\\\\":\\\\\".*show.*\\\\\",\\\\\"ident\\\\\":\\\\\"Dialog_show\\\\\"},\\\\\"lsVars\\\\\":[{\\\\\"$type\\\\\":\\\\\"edu.colorado.plv.bounder.symbolicexecutor.state.NamedPureVar\\\\\",\\\\\"n\\\\\":\\\\\"d\\\\\"},{\\\\\"$type\\\\\":\\\\\"edu.colorado.plv.bounder.symbolicexecutor.state.TopVal\\\\\"},{\\\\\"$type\\\\\":\\\\\"edu.colorado.plv.bounder.symbolicexecutor.state.NamedPureVar\\\\\",\\\\\"n\\\\\":\\\\\"a\\\\\"}]},\\\\\"l2\\\\\":{\\\\\"$type\\\\\":\\\\\"edu.colorado.plv.bounder.lifestate.LifeState.Or\\\\\",\\\\\"l1\\\\\":{\\\\\"$type\\\\\":\\\\\"edu.colorado.plv.bounder.lifestate.LifeState.Not\\\\\",\\\\\"p\\\\\":{\\\\\"$type\\\\\":\\\\\"edu.colorado.plv.bounder.lifestate.LifeState.OAbsMsg\\\\\",\\\\\"mt\\\\\":{\\\\\"$type\\\\\":\\\\\"edu.colorado.plv.bounder.ir.CBEnter\\\\\"},\\\\\"signatures\\\\\":{\\\\\"$type\\\\\":\\\\\"edu.colorado.plv.bounder.lifestate.LifeState.SubClassMatcher\\\\\",\\\\\"baseSubtypeOf\\\\\":[\\\\\"android.app.Activity\\\\\",\\\\\"androidx.fragment.app.FragmentActivity\\\\\"],\\\\\"signatureMatcher\\\\\":\\\\\"void onResume\\\\\\\\\\\\\\\\(\\\\\\\\\\\\\\\\)\\\\\",\\\\\"ident\\\\\":\\\\\"Activity_onResume\\\\\"},\\\\\"lsVars\\\\\":[{\\\\\"$type\\\\\":\\\\\"edu.colorado.plv.bounder.symbolicexecutor.state.TopVal\\\\\"},{\\\\\"$type\\\\\":\\\\\"edu.colorado.plv.bounder.symbolicexecutor.state.NamedPureVar\\\\\",\\\\\"n\\\\\":\\\\\"a\\\\\"}]}},\\\\\"l2\\\\\":{\\\\\"$type\\\\\":\\\\\"edu.colorado.plv.bounder.lifestate.LifeState.NS\\\\\",\\\\\"i1\\\\\":{\\\\\"$type\\\\\":\\\\\"edu.colorado.plv.bounder.lifestate.LifeState.OAbsMsg\\\\\",\\\\\"mt\\\\\":{\\\\\"$type\\\\\":\\\\\"edu.colorado.plv.bounder.ir.CBExit\\\\\"},\\\\\"signatures\\\\\":{\\\\\"$type\\\\\":\\\\\"edu.colorado.plv.bounder.lifestate.LifeState.SubClassMatcher\\\\\",\\\\\"baseSubtypeOf\\\\\":[\\\\\"android.app.Activity\\\\\",\\\\\"androidx.fragment.app.FragmentActivity\\\\\"],\\\\\"signatureMatcher\\\\\":\\\\\"void onPause\\\\\\\\\\\\\\\\(\\\\\\\\\\\\\\\\)\\\\\",\\\\\"ident\\\\\":\\\\\"Activity_onPause\\\\\"},\\\\\"lsVars\\\\\":[{\\\\\"$type\\\\\":\\\\\"edu.colorado.plv.bounder.symbolicexecutor.state.TopVal\\\\\"},{\\\\\"$type\\\\\":\\\\\"edu.colorado.plv.bounder.symbolicexecutor.state.NamedPureVar\\\\\",\\\\\"n\\\\\":\\\\\"a\\\\\"}]},\\\\\"i2\\\\\":{\\\\\"$type\\\\\":\\\\\"edu.colorado.plv.bounder.lifestate.LifeState.OAbsMsg\\\\\",\\\\\"mt\\\\\":{\\\\\"$type\\\\\":\\\\\"edu.colorado.plv.bounder.ir.CBEnter\\\\\"},\\\\\"signatures\\\\\":{\\\\\"$type\\\\\":\\\\\"edu.colorado.plv.bounder.lifestate.LifeState.SubClassMatcher\\\\\",\\\\\"baseSubtypeOf\\\\\":[\\\\\"android.app.Activity\\\\\",\\\\\"androidx.fragment.app.FragmentActivity\\\\\"],\\\\\"signatureMatcher\\\\\":\\\\\"void onResume\\\\\\\\\\\\\\\\(\\\\\\\\\\\\\\\\)\\\\\",\\\\\"ident\\\\\":\\\\\"Activity_onResume\\\\\"},\\\\\"lsVars\\\\\":[{\\\\\"$type\\\\\":\\\\\"edu.colorado.plv.bounder.symbolicexecutor.state.TopVal\\\\\"},{\\\\\"$type\\\\\":\\\\\"edu.colorado.plv.bounder.symbolicexecutor.state.NamedPureVar\\\\\",\\\\\"n\\\\\":\\\\\"a\\\\\"}]}}}},\\\\\"target\\\\\":{\\\\\"$type\\\\\":\\\\\"edu.colorado.plv.bounder.lifestate.LifeState.OAbsMsg\\\\\",\\\\\"mt\\\\\":{\\\\\"$type\\\\\":\\\\\"edu.colorado.plv.bounder.ir.CIEnter\\\\\"},\\\\\"signatures\\\\\":{\\\\\"$type\\\\\":\\\\\"edu.colorado.plv.bounder.lifestate.LifeState.SubClassMatcher\\\\\",\\\\\"baseSubtypeOf\\\\\":[\\\\\"android.app.ProgressDialog\\\\\",\\\\\"android.app.Dialog\\\\\"],\\\\\"signatureMatcher\\\\\":\\\\\"void dismiss\\\\\\\\\\\\\\\\(\\\\\\\\\\\\\\\\)\\\\\",\\\\\"ident\\\\\":\\\\\"Dialog_dismiss\\\\\"},\\\\\"lsVars\\\\\":[{\\\\\"$type\\\\\":\\\\\"edu.colorado.plv.bounder.symbolicexecutor.state.TopVal\\\\\"},{\\\\\"$type\\\\\":\\\\\"edu.colorado.plv.bounder.symbolicexecutor.state.NamedPureVar\\\\\",\\\\\"n\\\\\":\\\\\"d\\\\\"}]}}]}\",\"initialQuery\":[{\"methodName\":\"void run()\",\"line\":533,\"t\":\"ReceiverNonNull\",\"matcher\":\"org.sipdroid.net.SipdroidSocket getDatagramSocket()\",\"className\":\"org.sipdroid.media.RtpStreamSender\"}],\"tag\":{\"heuristicType\":\"SensitiveDerefFieldCausedSynch\"},\"timeLimit\":900,\"configPath\":[\"/tmp/270335928576313844\"]}'"
      ]
     },
     "execution_count": 45,
     "metadata": {},
     "output_type": "execute_result"
    }
   ],
   "source": [
    "cfg[2][0]"
   ]
  },
  {
   "cell_type": "code",
   "execution_count": 46,
   "metadata": {},
   "outputs": [
    {
     "name": "stdout",
     "output_type": "stream",
     "text": [
      " * postgresql://postgres@localhost:3333/postgres\n",
      "43 rows affected.\n"
     ]
    },
    {
     "data": {
      "text/html": [
       "<table>\n",
       "    <tr>\n",
       "        <th>summary</th>\n",
       "        <th>benchmark</th>\n",
       "        <th>count</th>\n",
       "    </tr>\n",
       "    <tr>\n",
       "        <td>&quot;\\&quot;Unreachable\\&quot;&quot;</td>\n",
       "        <td>&quot;${baseDir}/fdroid/ch.blinkenlights.android.vanilla/1.2.2/apk/ch.blinkenlights.android.vanilla_12200.apk&quot;</td>\n",
       "        <td>1</td>\n",
       "    </tr>\n",
       "    <tr>\n",
       "        <td>&quot;\\&quot;Ijava.lang.AssertionError: assertion failed: Exception: Too many locations found: \\\\n \\&quot;&quot;</td>\n",
       "        <td>&quot;${baseDir}/fdroid/ch.blinkenlights.android.vanilla/1.2.2/apk/ch.blinkenlights.android.vanilla_12200.apk&quot;</td>\n",
       "        <td>1</td>\n",
       "    </tr>\n",
       "    <tr>\n",
       "        <td>&quot;\\&quot;Unreachable\\&quot;&quot;</td>\n",
       "        <td>&quot;${baseDir}/fdroid/com.android.keepass/2.6.8/apk/com.android.keepass_215.apk&quot;</td>\n",
       "        <td>1</td>\n",
       "    </tr>\n",
       "    <tr>\n",
       "        <td>&quot;\\&quot;Unreachable\\&quot;&quot;</td>\n",
       "        <td>&quot;${baseDir}/fdroid/com.byagowi.persiancalendar/7.8.0/apk/com.byagowi.persiancalendar_780.apk&quot;</td>\n",
       "        <td>1</td>\n",
       "    </tr>\n",
       "    <tr>\n",
       "        <td>&quot;\\&quot;Witnessed\\&quot;&quot;</td>\n",
       "        <td>&quot;${baseDir}/fdroid/com.darshancomputing.BatteryIndicatorPro/12.0.0/apk/com.darshancomputing.BatteryIndicatorPro_26016.apk&quot;</td>\n",
       "        <td>2</td>\n",
       "    </tr>\n",
       "    <tr>\n",
       "        <td>&quot;\\&quot;Unreachable\\&quot;&quot;</td>\n",
       "        <td>&quot;${baseDir}/fdroid/com.fsck.k9/6.503/apk/com.fsck.k9_35003.apk&quot;</td>\n",
       "        <td>1</td>\n",
       "    </tr>\n",
       "    <tr>\n",
       "        <td>&quot;\\&quot;Unreachable\\&quot;&quot;</td>\n",
       "        <td>&quot;${baseDir}/fdroid/com.gpl.rpg.AndorsTrail/0.8.3/apk/com.gpl.rpg.AndorsTrail_67.apk&quot;</td>\n",
       "        <td>1</td>\n",
       "    </tr>\n",
       "    <tr>\n",
       "        <td>&quot;\\&quot;Timeout\\&quot;&quot;</td>\n",
       "        <td>&quot;${baseDir}/fdroid/com.gpl.rpg.AndorsTrail/0.8.3/apk/com.gpl.rpg.AndorsTrail_67.apk&quot;</td>\n",
       "        <td>2</td>\n",
       "    </tr>\n",
       "    <tr>\n",
       "        <td>&quot;\\&quot;Timeout\\&quot;&quot;</td>\n",
       "        <td>&quot;${baseDir}/fdroid/com.ichi2.anki/2.15.6/apk/com.ichi2.anki_21506300.apk&quot;</td>\n",
       "        <td>4</td>\n",
       "    </tr>\n",
       "    <tr>\n",
       "        <td>&quot;\\&quot;Timeout\\&quot;&quot;</td>\n",
       "        <td>&quot;${baseDir}/fdroid/com.nutomic.syncthingandroid/1.23.0/apk/com.nutomic.syncthingandroid_4334.apk&quot;</td>\n",
       "        <td>1</td>\n",
       "    </tr>\n",
       "    <tr>\n",
       "        <td>&quot;\\&quot;Unreachable\\&quot;&quot;</td>\n",
       "        <td>&quot;${baseDir}/fdroid/com.owncloud.android/3.0.1/apk/com.owncloud.android_30000001.apk&quot;</td>\n",
       "        <td>3</td>\n",
       "    </tr>\n",
       "    <tr>\n",
       "        <td>&quot;\\&quot;Unreachable\\&quot;&quot;</td>\n",
       "        <td>&quot;${baseDir}/fdroid/com.seafile.seadroid2/2.2.48/apk/com.seafile.seadroid2_123.apk&quot;</td>\n",
       "        <td>1</td>\n",
       "    </tr>\n",
       "    <tr>\n",
       "        <td>&quot;\\&quot;Timeout\\&quot;&quot;</td>\n",
       "        <td>&quot;${baseDir}/fdroid/com.seafile.seadroid2/2.2.48/apk/com.seafile.seadroid2_123.apk&quot;</td>\n",
       "        <td>3</td>\n",
       "    </tr>\n",
       "    <tr>\n",
       "        <td>&quot;\\&quot;Unreachable\\&quot;&quot;</td>\n",
       "        <td>&quot;${baseDir}/fdroid/com.shatteredpixel.shatteredpixeldungeon/1.4.3/apk/com.shatteredpixel.shatteredpixeldungeon_668.apk&quot;</td>\n",
       "        <td>1</td>\n",
       "    </tr>\n",
       "    <tr>\n",
       "        <td>&quot;\\&quot;Witnessed\\&quot;&quot;</td>\n",
       "        <td>&quot;${baseDir}/fdroid/com.ubergeek42.WeechatAndroid/1.8.1/apk/com.ubergeek42.WeechatAndroid_10801.apk&quot;</td>\n",
       "        <td>1</td>\n",
       "    </tr>\n",
       "    <tr>\n",
       "        <td>&quot;\\&quot;Unreachable\\&quot;&quot;</td>\n",
       "        <td>&quot;${baseDir}/fdroid/com.ubergeek42.WeechatAndroid/1.8.1/apk/com.ubergeek42.WeechatAndroid_10801.apk&quot;</td>\n",
       "        <td>1</td>\n",
       "    </tr>\n",
       "    <tr>\n",
       "        <td>&quot;\\&quot;Unreachable\\&quot;&quot;</td>\n",
       "        <td>&quot;${baseDir}/fdroid/de.blau.android/18.1.1.0/apk/de.blau.android_2303.apk&quot;</td>\n",
       "        <td>1</td>\n",
       "    </tr>\n",
       "    <tr>\n",
       "        <td>&quot;\\&quot;Witnessed\\&quot;&quot;</td>\n",
       "        <td>&quot;${baseDir}/fdroid/de.blinkt.openvpn/0.7.43/apk/de.blinkt.openvpn_198.apk&quot;</td>\n",
       "        <td>3</td>\n",
       "    </tr>\n",
       "    <tr>\n",
       "        <td>&quot;\\&quot;Unreachable\\&quot;&quot;</td>\n",
       "        <td>&quot;${baseDir}/fdroid/de.blinkt.openvpn/0.7.43/apk/de.blinkt.openvpn_198.apk&quot;</td>\n",
       "        <td>1</td>\n",
       "    </tr>\n",
       "    <tr>\n",
       "        <td>&quot;\\&quot;Unreachable\\&quot;&quot;</td>\n",
       "        <td>&quot;${baseDir}/fdroid/de.markusfisch.android.wavelines/1.13.2/apk/de.markusfisch.android.wavelines_22.apk&quot;</td>\n",
       "        <td>1</td>\n",
       "    </tr>\n",
       "    <tr>\n",
       "        <td>&quot;\\&quot;Witnessed\\&quot;&quot;</td>\n",
       "        <td>&quot;${baseDir}/fdroid/dev.ukanth.ufirewall/3.5.3/apk/dev.ukanth.ufirewall_20220615.apk&quot;</td>\n",
       "        <td>3</td>\n",
       "    </tr>\n",
       "    <tr>\n",
       "        <td>&quot;\\&quot;Unreachable\\&quot;&quot;</td>\n",
       "        <td>&quot;${baseDir}/fdroid/dev.ukanth.ufirewall/3.5.3/apk/dev.ukanth.ufirewall_20220615.apk&quot;</td>\n",
       "        <td>7</td>\n",
       "    </tr>\n",
       "    <tr>\n",
       "        <td>&quot;\\&quot;Timeout\\&quot;&quot;</td>\n",
       "        <td>&quot;${baseDir}/fdroid/dev.ukanth.ufirewall/3.5.3/apk/dev.ukanth.ufirewall_20220615.apk&quot;</td>\n",
       "        <td>1</td>\n",
       "    </tr>\n",
       "    <tr>\n",
       "        <td>&quot;\\&quot;Timeout\\&quot;&quot;</td>\n",
       "        <td>&quot;${baseDir}/fdroid/jwtc.android.chess/9.3.10/apk/jwtc.android.chess_192.apk&quot;</td>\n",
       "        <td>4</td>\n",
       "    </tr>\n",
       "    <tr>\n",
       "        <td>&quot;\\&quot;Witnessed\\&quot;&quot;</td>\n",
       "        <td>&quot;${baseDir}/fdroid/net.bible.android.activity/4.0.673/apk/net.bible.android.activity_673.apk&quot;</td>\n",
       "        <td>1</td>\n",
       "    </tr>\n",
       "    <tr>\n",
       "        <td>&quot;\\&quot;Witnessed\\&quot;&quot;</td>\n",
       "        <td>&quot;${baseDir}/fdroid/net.justdave.nwsweatheralertswidget/1.1.4/apk/net.justdave.nwsweatheralertswidget_12.apk&quot;</td>\n",
       "        <td>1</td>\n",
       "    </tr>\n",
       "    <tr>\n",
       "        <td>&quot;\\&quot;IOutOfMemoryError\\&quot;&quot;</td>\n",
       "        <td>&quot;${baseDir}/fdroid/net.osmand.plus/4.3.8/apk/net.osmand.plus_4308.apk&quot;</td>\n",
       "        <td>14</td>\n",
       "    </tr>\n",
       "    <tr>\n",
       "        <td>&quot;\\&quot;Witnessed\\&quot;&quot;</td>\n",
       "        <td>&quot;${baseDir}/fdroid/net.wigle.wigleandroid/2.63/apk/net.wigle.wigleandroid_263.apk&quot;</td>\n",
       "        <td>5</td>\n",
       "    </tr>\n",
       "    <tr>\n",
       "        <td>&quot;\\&quot;Witnessed\\&quot;&quot;</td>\n",
       "        <td>&quot;${baseDir}/fdroid/nitezh.ministock/81/apk/nitezh.ministock_81.apk&quot;</td>\n",
       "        <td>1</td>\n",
       "    </tr>\n",
       "    <tr>\n",
       "        <td>&quot;\\&quot;Timeout\\&quot;&quot;</td>\n",
       "        <td>&quot;${baseDir}/fdroid/nl.mpcjanssen.simpletask/11.0.1/apk/nl.mpcjanssen.simpletask_11000001.apk&quot;</td>\n",
       "        <td>1</td>\n",
       "    </tr>\n",
       "    <tr>\n",
       "        <td>&quot;\\&quot;Witnessed\\&quot;&quot;</td>\n",
       "        <td>&quot;${baseDir}/fdroid/org.liberty.android.fantastischmemo/10.11.7/apk/org.liberty.android.fantastischmemo_237.apk&quot;</td>\n",
       "        <td>2</td>\n",
       "    </tr>\n",
       "    <tr>\n",
       "        <td>&quot;\\&quot;Unreachable\\&quot;&quot;</td>\n",
       "        <td>&quot;${baseDir}/fdroid/org.liberty.android.fantastischmemo/10.11.7/apk/org.liberty.android.fantastischmemo_237.apk&quot;</td>\n",
       "        <td>2</td>\n",
       "    </tr>\n",
       "    <tr>\n",
       "        <td>&quot;\\&quot;Timeout\\&quot;&quot;</td>\n",
       "        <td>&quot;${baseDir}/fdroid/org.liberty.android.fantastischmemo/10.11.7/apk/org.liberty.android.fantastischmemo_237.apk&quot;</td>\n",
       "        <td>3</td>\n",
       "    </tr>\n",
       "    <tr>\n",
       "        <td>&quot;\\&quot;Unreachable\\&quot;&quot;</td>\n",
       "        <td>&quot;${baseDir}/fdroid/org.mariotaku.twidere/4.1.8/apk/org.mariotaku.twidere_517.apk&quot;</td>\n",
       "        <td>3</td>\n",
       "    </tr>\n",
       "    <tr>\n",
       "        <td>&quot;\\&quot;Unreachable\\&quot;&quot;</td>\n",
       "        <td>&quot;${baseDir}/fdroid/org.navitproject.navit/v0.5.6/apk/org.navitproject.navit_2021030660.apk&quot;</td>\n",
       "        <td>1</td>\n",
       "    </tr>\n",
       "    <tr>\n",
       "        <td>&quot;\\&quot;Unreachable\\&quot;&quot;</td>\n",
       "        <td>&quot;${baseDir}/fdroid/org.sipdroid.sipua/6.3beta/apk/org.sipdroid.sipua_134.apk&quot;</td>\n",
       "        <td>2</td>\n",
       "    </tr>\n",
       "    <tr>\n",
       "        <td>&quot;\\&quot;Witnessed\\&quot;&quot;</td>\n",
       "        <td>&quot;${baseDir}/fdroid/org.sufficientlysecure.keychain/5.8.2/apk/org.sufficientlysecure.keychain_58902.apk&quot;</td>\n",
       "        <td>3</td>\n",
       "    </tr>\n",
       "    <tr>\n",
       "        <td>&quot;\\&quot;Unreachable\\&quot;&quot;</td>\n",
       "        <td>&quot;${baseDir}/fdroid/org.sufficientlysecure.keychain/5.8.2/apk/org.sufficientlysecure.keychain_58902.apk&quot;</td>\n",
       "        <td>4</td>\n",
       "    </tr>\n",
       "    <tr>\n",
       "        <td>&quot;\\&quot;Timeout\\&quot;&quot;</td>\n",
       "        <td>&quot;${baseDir}/fdroid/org.sufficientlysecure.keychain/5.8.2/apk/org.sufficientlysecure.keychain_58902.apk&quot;</td>\n",
       "        <td>1</td>\n",
       "    </tr>\n",
       "    <tr>\n",
       "        <td>&quot;\\&quot;Unreachable\\&quot;&quot;</td>\n",
       "        <td>&quot;${baseDir}/fdroid/org.tasks/13.1.1/apk/org.tasks_130101.apk&quot;</td>\n",
       "        <td>1</td>\n",
       "    </tr>\n",
       "    <tr>\n",
       "        <td>&quot;\\&quot;Witnessed\\&quot;&quot;</td>\n",
       "        <td>&quot;${baseDir}/oss/de.danoeh.antennapod/app/build/outputs/apk/free/debug/app-free-debug.apk&quot;</td>\n",
       "        <td>1</td>\n",
       "    </tr>\n",
       "    <tr>\n",
       "        <td>&quot;\\&quot;Timeout\\&quot;&quot;</td>\n",
       "        <td>&quot;${baseDir}/oss/de.danoeh.antennapod/app/build/outputs/apk/free/debug/app-free-debug.apk&quot;</td>\n",
       "        <td>1</td>\n",
       "    </tr>\n",
       "    <tr>\n",
       "        <td>&quot;\\&quot;Timeout\\&quot;&quot;</td>\n",
       "        <td>&quot;${baseDir}/oss/org.connectbot/app/build/outputs/apk/oss/debug/app-oss-debug.apk&quot;</td>\n",
       "        <td>1</td>\n",
       "    </tr>\n",
       "</table>"
      ],
      "text/plain": [
       "[('\"\\\\\"Unreachable\\\\\"\"', '\"${baseDir}/fdroid/ch.blinkenlights.android.vanilla/1.2.2/apk/ch.blinkenlights.android.vanilla_12200.apk\"', 1),\n",
       " ('\"\\\\\"Ijava.lang.AssertionError: assertion failed: Exception: Too many locations found: \\\\\\\\n \\\\\"\"', '\"${baseDir}/fdroid/ch.blinkenlights.android.vanilla/1.2.2/apk/ch.blinkenlights.android.vanilla_12200.apk\"', 1),\n",
       " ('\"\\\\\"Unreachable\\\\\"\"', '\"${baseDir}/fdroid/com.android.keepass/2.6.8/apk/com.android.keepass_215.apk\"', 1),\n",
       " ('\"\\\\\"Unreachable\\\\\"\"', '\"${baseDir}/fdroid/com.byagowi.persiancalendar/7.8.0/apk/com.byagowi.persiancalendar_780.apk\"', 1),\n",
       " ('\"\\\\\"Witnessed\\\\\"\"', '\"${baseDir}/fdroid/com.darshancomputing.BatteryIndicatorPro/12.0.0/apk/com.darshancomputing.BatteryIndicatorPro_26016.apk\"', 2),\n",
       " ('\"\\\\\"Unreachable\\\\\"\"', '\"${baseDir}/fdroid/com.fsck.k9/6.503/apk/com.fsck.k9_35003.apk\"', 1),\n",
       " ('\"\\\\\"Unreachable\\\\\"\"', '\"${baseDir}/fdroid/com.gpl.rpg.AndorsTrail/0.8.3/apk/com.gpl.rpg.AndorsTrail_67.apk\"', 1),\n",
       " ('\"\\\\\"Timeout\\\\\"\"', '\"${baseDir}/fdroid/com.gpl.rpg.AndorsTrail/0.8.3/apk/com.gpl.rpg.AndorsTrail_67.apk\"', 2),\n",
       " ('\"\\\\\"Timeout\\\\\"\"', '\"${baseDir}/fdroid/com.ichi2.anki/2.15.6/apk/com.ichi2.anki_21506300.apk\"', 4),\n",
       " ('\"\\\\\"Timeout\\\\\"\"', '\"${baseDir}/fdroid/com.nutomic.syncthingandroid/1.23.0/apk/com.nutomic.syncthingandroid_4334.apk\"', 1),\n",
       " ('\"\\\\\"Unreachable\\\\\"\"', '\"${baseDir}/fdroid/com.owncloud.android/3.0.1/apk/com.owncloud.android_30000001.apk\"', 3),\n",
       " ('\"\\\\\"Unreachable\\\\\"\"', '\"${baseDir}/fdroid/com.seafile.seadroid2/2.2.48/apk/com.seafile.seadroid2_123.apk\"', 1),\n",
       " ('\"\\\\\"Timeout\\\\\"\"', '\"${baseDir}/fdroid/com.seafile.seadroid2/2.2.48/apk/com.seafile.seadroid2_123.apk\"', 3),\n",
       " ('\"\\\\\"Unreachable\\\\\"\"', '\"${baseDir}/fdroid/com.shatteredpixel.shatteredpixeldungeon/1.4.3/apk/com.shatteredpixel.shatteredpixeldungeon_668.apk\"', 1),\n",
       " ('\"\\\\\"Witnessed\\\\\"\"', '\"${baseDir}/fdroid/com.ubergeek42.WeechatAndroid/1.8.1/apk/com.ubergeek42.WeechatAndroid_10801.apk\"', 1),\n",
       " ('\"\\\\\"Unreachable\\\\\"\"', '\"${baseDir}/fdroid/com.ubergeek42.WeechatAndroid/1.8.1/apk/com.ubergeek42.WeechatAndroid_10801.apk\"', 1),\n",
       " ('\"\\\\\"Unreachable\\\\\"\"', '\"${baseDir}/fdroid/de.blau.android/18.1.1.0/apk/de.blau.android_2303.apk\"', 1),\n",
       " ('\"\\\\\"Witnessed\\\\\"\"', '\"${baseDir}/fdroid/de.blinkt.openvpn/0.7.43/apk/de.blinkt.openvpn_198.apk\"', 3),\n",
       " ('\"\\\\\"Unreachable\\\\\"\"', '\"${baseDir}/fdroid/de.blinkt.openvpn/0.7.43/apk/de.blinkt.openvpn_198.apk\"', 1),\n",
       " ('\"\\\\\"Unreachable\\\\\"\"', '\"${baseDir}/fdroid/de.markusfisch.android.wavelines/1.13.2/apk/de.markusfisch.android.wavelines_22.apk\"', 1),\n",
       " ('\"\\\\\"Witnessed\\\\\"\"', '\"${baseDir}/fdroid/dev.ukanth.ufirewall/3.5.3/apk/dev.ukanth.ufirewall_20220615.apk\"', 3),\n",
       " ('\"\\\\\"Unreachable\\\\\"\"', '\"${baseDir}/fdroid/dev.ukanth.ufirewall/3.5.3/apk/dev.ukanth.ufirewall_20220615.apk\"', 7),\n",
       " ('\"\\\\\"Timeout\\\\\"\"', '\"${baseDir}/fdroid/dev.ukanth.ufirewall/3.5.3/apk/dev.ukanth.ufirewall_20220615.apk\"', 1),\n",
       " ('\"\\\\\"Timeout\\\\\"\"', '\"${baseDir}/fdroid/jwtc.android.chess/9.3.10/apk/jwtc.android.chess_192.apk\"', 4),\n",
       " ('\"\\\\\"Witnessed\\\\\"\"', '\"${baseDir}/fdroid/net.bible.android.activity/4.0.673/apk/net.bible.android.activity_673.apk\"', 1),\n",
       " ('\"\\\\\"Witnessed\\\\\"\"', '\"${baseDir}/fdroid/net.justdave.nwsweatheralertswidget/1.1.4/apk/net.justdave.nwsweatheralertswidget_12.apk\"', 1),\n",
       " ('\"\\\\\"IOutOfMemoryError\\\\\"\"', '\"${baseDir}/fdroid/net.osmand.plus/4.3.8/apk/net.osmand.plus_4308.apk\"', 14),\n",
       " ('\"\\\\\"Witnessed\\\\\"\"', '\"${baseDir}/fdroid/net.wigle.wigleandroid/2.63/apk/net.wigle.wigleandroid_263.apk\"', 5),\n",
       " ('\"\\\\\"Witnessed\\\\\"\"', '\"${baseDir}/fdroid/nitezh.ministock/81/apk/nitezh.ministock_81.apk\"', 1),\n",
       " ('\"\\\\\"Timeout\\\\\"\"', '\"${baseDir}/fdroid/nl.mpcjanssen.simpletask/11.0.1/apk/nl.mpcjanssen.simpletask_11000001.apk\"', 1),\n",
       " ('\"\\\\\"Witnessed\\\\\"\"', '\"${baseDir}/fdroid/org.liberty.android.fantastischmemo/10.11.7/apk/org.liberty.android.fantastischmemo_237.apk\"', 2),\n",
       " ('\"\\\\\"Unreachable\\\\\"\"', '\"${baseDir}/fdroid/org.liberty.android.fantastischmemo/10.11.7/apk/org.liberty.android.fantastischmemo_237.apk\"', 2),\n",
       " ('\"\\\\\"Timeout\\\\\"\"', '\"${baseDir}/fdroid/org.liberty.android.fantastischmemo/10.11.7/apk/org.liberty.android.fantastischmemo_237.apk\"', 3),\n",
       " ('\"\\\\\"Unreachable\\\\\"\"', '\"${baseDir}/fdroid/org.mariotaku.twidere/4.1.8/apk/org.mariotaku.twidere_517.apk\"', 3),\n",
       " ('\"\\\\\"Unreachable\\\\\"\"', '\"${baseDir}/fdroid/org.navitproject.navit/v0.5.6/apk/org.navitproject.navit_2021030660.apk\"', 1),\n",
       " ('\"\\\\\"Unreachable\\\\\"\"', '\"${baseDir}/fdroid/org.sipdroid.sipua/6.3beta/apk/org.sipdroid.sipua_134.apk\"', 2),\n",
       " ('\"\\\\\"Witnessed\\\\\"\"', '\"${baseDir}/fdroid/org.sufficientlysecure.keychain/5.8.2/apk/org.sufficientlysecure.keychain_58902.apk\"', 3),\n",
       " ('\"\\\\\"Unreachable\\\\\"\"', '\"${baseDir}/fdroid/org.sufficientlysecure.keychain/5.8.2/apk/org.sufficientlysecure.keychain_58902.apk\"', 4),\n",
       " ('\"\\\\\"Timeout\\\\\"\"', '\"${baseDir}/fdroid/org.sufficientlysecure.keychain/5.8.2/apk/org.sufficientlysecure.keychain_58902.apk\"', 1),\n",
       " ('\"\\\\\"Unreachable\\\\\"\"', '\"${baseDir}/fdroid/org.tasks/13.1.1/apk/org.tasks_130101.apk\"', 1),\n",
       " ('\"\\\\\"Witnessed\\\\\"\"', '\"${baseDir}/oss/de.danoeh.antennapod/app/build/outputs/apk/free/debug/app-free-debug.apk\"', 1),\n",
       " ('\"\\\\\"Timeout\\\\\"\"', '\"${baseDir}/oss/de.danoeh.antennapod/app/build/outputs/apk/free/debug/app-free-debug.apk\"', 1),\n",
       " ('\"\\\\\"Timeout\\\\\"\"', '\"${baseDir}/oss/org.connectbot/app/build/outputs/apk/oss/debug/app-oss-debug.apk\"', 1)]"
      ]
     },
     "execution_count": 46,
     "metadata": {},
     "output_type": "execute_result"
    }
   ],
   "source": [
    "%%sql\n",
    "select cast(results.result::json->'summary' as varchar) as summary, cast(jobs.config::json->'apkPath' as varchar) as benchmark,count(*) from results inner join jobs on jobs.id=results.jobid group by summary,benchmark order by benchmark,summary desc"
   ]
  },
  {
   "cell_type": "markdown",
   "metadata": {},
   "source": [
    "Get failing apks"
   ]
  },
  {
   "cell_type": "code",
   "execution_count": 47,
   "metadata": {},
   "outputs": [
    {
     "name": "stdout",
     "output_type": "stream",
     "text": [
      " * postgresql://postgres@localhost:3333/postgres\n",
      "0 rows affected.\n"
     ]
    },
    {
     "data": {
      "text/html": [
       "<table>\n",
       "    <tr>\n",
       "        <th>text</th>\n",
       "    </tr>\n",
       "</table>"
      ],
      "text/plain": [
       "[]"
      ]
     },
     "execution_count": 47,
     "metadata": {},
     "output_type": "execute_result"
    }
   ],
   "source": [
    "%%sql\n",
    "select cast(config::json->'apkPath' as text) from jobs \n",
    "        where stderr like '%Exception%' group by cast(config::json->'apkPath' as text) ;"
   ]
  },
  {
   "cell_type": "code",
   "execution_count": 48,
   "metadata": {},
   "outputs": [
    {
     "name": "stdout",
     "output_type": "stream",
     "text": [
      " * postgresql://postgres@localhost:3333/postgres\n",
      "49 rows affected.\n"
     ]
    },
    {
     "data": {
      "text/html": [
       "<table>\n",
       "    <tr>\n",
       "        <th>app</th>\n",
       "        <th>count</th>\n",
       "    </tr>\n",
       "    <tr>\n",
       "        <td>&quot;${baseDir}/fdroid/net.osmand.plus/4.3.8/apk/net.osmand.plus_4308.apk&quot;</td>\n",
       "        <td>285</td>\n",
       "    </tr>\n",
       "    <tr>\n",
       "        <td>&quot;${baseDir}/fdroid/org.sufficientlysecure.keychain/5.8.2/apk/org.sufficientlysecure.keychain_58902.apk&quot;</td>\n",
       "        <td>143</td>\n",
       "    </tr>\n",
       "    <tr>\n",
       "        <td>&quot;${baseDir}/fdroid/org.mariotaku.twidere/4.1.8/apk/org.mariotaku.twidere_517.apk&quot;</td>\n",
       "        <td>92</td>\n",
       "    </tr>\n",
       "    <tr>\n",
       "        <td>&quot;${baseDir}/fdroid/net.wigle.wigleandroid/2.63/apk/net.wigle.wigleandroid_263.apk&quot;</td>\n",
       "        <td>88</td>\n",
       "    </tr>\n",
       "    <tr>\n",
       "        <td>&quot;${baseDir}/fdroid/dev.ukanth.ufirewall/3.5.3/apk/dev.ukanth.ufirewall_20220615.apk&quot;</td>\n",
       "        <td>73</td>\n",
       "    </tr>\n",
       "    <tr>\n",
       "        <td>&quot;${baseDir}/fdroid/com.seafile.seadroid2/2.2.48/apk/com.seafile.seadroid2_123.apk&quot;</td>\n",
       "        <td>63</td>\n",
       "    </tr>\n",
       "    <tr>\n",
       "        <td>&quot;${baseDir}/fdroid/de.blau.android/18.1.1.0/apk/de.blau.android_2303.apk&quot;</td>\n",
       "        <td>59</td>\n",
       "    </tr>\n",
       "    <tr>\n",
       "        <td>&quot;${baseDir}/fdroid/org.liberty.android.fantastischmemo/10.11.7/apk/org.liberty.android.fantastischmemo_237.apk&quot;</td>\n",
       "        <td>56</td>\n",
       "    </tr>\n",
       "    <tr>\n",
       "        <td>&quot;${baseDir}/fdroid/de.blinkt.openvpn/0.7.43/apk/de.blinkt.openvpn_198.apk&quot;</td>\n",
       "        <td>44</td>\n",
       "    </tr>\n",
       "    <tr>\n",
       "        <td>&quot;${baseDir}/fdroid/com.ichi2.anki/2.15.6/apk/com.ichi2.anki_21506300.apk&quot;</td>\n",
       "        <td>41</td>\n",
       "    </tr>\n",
       "    <tr>\n",
       "        <td>&quot;${baseDir}/fdroid/com.owncloud.android/3.0.1/apk/com.owncloud.android_30000001.apk&quot;</td>\n",
       "        <td>41</td>\n",
       "    </tr>\n",
       "    <tr>\n",
       "        <td>&quot;${baseDir}/oss/de.danoeh.antennapod/app/build/outputs/apk/free/debug/app-free-debug.apk&quot;</td>\n",
       "        <td>40</td>\n",
       "    </tr>\n",
       "    <tr>\n",
       "        <td>&quot;${baseDir}/fdroid/com.darshancomputing.BatteryIndicatorPro/12.0.0/apk/com.darshancomputing.BatteryIndicatorPro_26016.apk&quot;</td>\n",
       "        <td>37</td>\n",
       "    </tr>\n",
       "    <tr>\n",
       "        <td>&quot;${baseDir}/fdroid/com.duckduckgo.mobile.android/5.146.0/apk/com.duckduckgo.mobile.android_51460000.apk&quot;</td>\n",
       "        <td>35</td>\n",
       "    </tr>\n",
       "    <tr>\n",
       "        <td>&quot;${baseDir}/fdroid/org.sipdroid.sipua/6.3beta/apk/org.sipdroid.sipua_134.apk&quot;</td>\n",
       "        <td>31</td>\n",
       "    </tr>\n",
       "    <tr>\n",
       "        <td>&quot;${baseDir}/fdroid/jwtc.android.chess/9.3.10/apk/jwtc.android.chess_192.apk&quot;</td>\n",
       "        <td>28</td>\n",
       "    </tr>\n",
       "    <tr>\n",
       "        <td>&quot;${baseDir}/fdroid/org.tasks/13.1.1/apk/org.tasks_130101.apk&quot;</td>\n",
       "        <td>26</td>\n",
       "    </tr>\n",
       "    <tr>\n",
       "        <td>&quot;${baseDir}/fdroid/com.gpl.rpg.AndorsTrail/0.8.3/apk/com.gpl.rpg.AndorsTrail_67.apk&quot;</td>\n",
       "        <td>25</td>\n",
       "    </tr>\n",
       "    <tr>\n",
       "        <td>&quot;${baseDir}/fdroid/com.fsck.k9/6.503/apk/com.fsck.k9_35003.apk&quot;</td>\n",
       "        <td>21</td>\n",
       "    </tr>\n",
       "    <tr>\n",
       "        <td>&quot;${baseDir}/fdroid/com.asksven.betterbatterystats/3.3.1/apk/com.asksven.betterbatterystats_107.apk&quot;</td>\n",
       "        <td>19</td>\n",
       "    </tr>\n",
       "    <tr>\n",
       "        <td>&quot;${baseDir}/fdroid/org.transdroid.lite/2.5.19/apk/org.transdroid.lite_239.apk&quot;</td>\n",
       "        <td>16</td>\n",
       "    </tr>\n",
       "    <tr>\n",
       "        <td>&quot;${baseDir}/fdroid/com.ubergeek42.WeechatAndroid/1.8.1/apk/com.ubergeek42.WeechatAndroid_10801.apk&quot;</td>\n",
       "        <td>13</td>\n",
       "    </tr>\n",
       "    <tr>\n",
       "        <td>&quot;${baseDir}/fdroid/ch.blinkenlights.android.vanilla/1.2.2/apk/ch.blinkenlights.android.vanilla_12200.apk&quot;</td>\n",
       "        <td>13</td>\n",
       "    </tr>\n",
       "    <tr>\n",
       "        <td>&quot;${baseDir}/fdroid/com.byagowi.persiancalendar/7.8.0/apk/com.byagowi.persiancalendar_780.apk&quot;</td>\n",
       "        <td>12</td>\n",
       "    </tr>\n",
       "    <tr>\n",
       "        <td>&quot;${baseDir}/fdroid/com.nutomic.syncthingandroid/1.23.0/apk/com.nutomic.syncthingandroid_4334.apk&quot;</td>\n",
       "        <td>12</td>\n",
       "    </tr>\n",
       "    <tr>\n",
       "        <td>&quot;${baseDir}/fdroid/org.navitproject.navit/v0.5.6/apk/org.navitproject.navit_2021030660.apk&quot;</td>\n",
       "        <td>10</td>\n",
       "    </tr>\n",
       "    <tr>\n",
       "        <td>&quot;${baseDir}/fdroid/be.digitalia.fosdem/2.1.1/apk/be.digitalia.fosdem_1900211.apk&quot;</td>\n",
       "        <td>9</td>\n",
       "    </tr>\n",
       "    <tr>\n",
       "        <td>&quot;${baseDir}/fdroid/com.android.keepass/2.6.8/apk/com.android.keepass_215.apk&quot;</td>\n",
       "        <td>8</td>\n",
       "    </tr>\n",
       "    <tr>\n",
       "        <td>&quot;${baseDir}/fdroid/org.scoutant.blokish/3.4/apk/org.scoutant.blokish_22.apk&quot;</td>\n",
       "        <td>8</td>\n",
       "    </tr>\n",
       "    <tr>\n",
       "        <td>&quot;${baseDir}/oss/org.connectbot/app/build/outputs/apk/oss/debug/app-oss-debug.apk&quot;</td>\n",
       "        <td>6</td>\n",
       "    </tr>\n",
       "    <tr>\n",
       "        <td>&quot;${baseDir}/fdroid/de.jkliemann.parkendd/1.2.8/apk/de.jkliemann.parkendd_33.apk&quot;</td>\n",
       "        <td>5</td>\n",
       "    </tr>\n",
       "    <tr>\n",
       "        <td>&quot;${baseDir}/fdroid/name.boyle.chris.sgtpuzzles/2023-01-18-2324-aaa36328-fdroid/apk/name.boyle.chris.sgtpuzzles_137.apk&quot;</td>\n",
       "        <td>5</td>\n",
       "    </tr>\n",
       "    <tr>\n",
       "        <td>&quot;${baseDir}/fdroid/org.zephyrsoft.trackworktime/1.1.20/apk/org.zephyrsoft.trackworktime_64.apk&quot;</td>\n",
       "        <td>5</td>\n",
       "    </tr>\n",
       "    <tr>\n",
       "        <td>&quot;${baseDir}/fdroid/de.markusfisch.android.wavelines/1.13.2/apk/de.markusfisch.android.wavelines_22.apk&quot;</td>\n",
       "        <td>5</td>\n",
       "    </tr>\n",
       "    <tr>\n",
       "        <td>&quot;${baseDir}/fdroid/net.bible.android.activity/4.0.673/apk/net.bible.android.activity_673.apk&quot;</td>\n",
       "        <td>5</td>\n",
       "    </tr>\n",
       "    <tr>\n",
       "        <td>&quot;${baseDir}/fdroid/org.traccar.client/6.18/apk/org.traccar.client_79.apk&quot;</td>\n",
       "        <td>4</td>\n",
       "    </tr>\n",
       "    <tr>\n",
       "        <td>&quot;${baseDir}/fdroid/net.justdave.nwsweatheralertswidget/1.1.4/apk/net.justdave.nwsweatheralertswidget_12.apk&quot;</td>\n",
       "        <td>4</td>\n",
       "    </tr>\n",
       "    <tr>\n",
       "        <td>&quot;${baseDir}/fdroid/nl.mpcjanssen.simpletask/11.0.1/apk/nl.mpcjanssen.simpletask_11000001.apk&quot;</td>\n",
       "        <td>3</td>\n",
       "    </tr>\n",
       "    <tr>\n",
       "        <td>&quot;${baseDir}/fdroid/de.syss.MifareClassicTool/4.0.4/apk/de.syss.MifareClassicTool_62.apk&quot;</td>\n",
       "        <td>3</td>\n",
       "    </tr>\n",
       "    <tr>\n",
       "        <td>&quot;${baseDir}/fdroid/net.gaast.giggity/2.0.8/apk/net.gaast.giggity_520.apk&quot;</td>\n",
       "        <td>3</td>\n",
       "    </tr>\n",
       "    <tr>\n",
       "        <td>&quot;${baseDir}/fdroid/nitezh.ministock/81/apk/nitezh.ministock_81.apk&quot;</td>\n",
       "        <td>3</td>\n",
       "    </tr>\n",
       "    <tr>\n",
       "        <td>&quot;${baseDir}/fdroid/com.MarcosDiez.shareviahttp/2.0.14/apk/com.MarcosDiez.shareviahttp_34.apk&quot;</td>\n",
       "        <td>2</td>\n",
       "    </tr>\n",
       "    <tr>\n",
       "        <td>&quot;${baseDir}/fdroid/com.shatteredpixel.shatteredpixeldungeon/1.4.3/apk/com.shatteredpixel.shatteredpixeldungeon_668.apk&quot;</td>\n",
       "        <td>2</td>\n",
       "    </tr>\n",
       "    <tr>\n",
       "        <td>&quot;${baseDir}/fdroid/de.srlabs.snoopsnitch/2.0.12-nbc/apk/de.srlabs.snoopsnitch_50.apk&quot;</td>\n",
       "        <td>2</td>\n",
       "    </tr>\n",
       "    <tr>\n",
       "        <td>&quot;${baseDir}/fdroid/com.yubico.yubioath/6.0.2/apk/com.yubico.yubioath_600064.apk&quot;</td>\n",
       "        <td>1</td>\n",
       "    </tr>\n",
       "    <tr>\n",
       "        <td>&quot;${baseDir}/fdroid/org.andstatus.app/60.01/apk/org.andstatus.app_361.apk&quot;</td>\n",
       "        <td>1</td>\n",
       "    </tr>\n",
       "    <tr>\n",
       "        <td>&quot;${baseDir}/fdroid/org.yuttadhammo.BodhiTimer/6.3.0/apk/org.yuttadhammo.BodhiTimer_98.apk&quot;</td>\n",
       "        <td>1</td>\n",
       "    </tr>\n",
       "    <tr>\n",
       "        <td>&quot;${baseDir}/fdroid/info.guardianproject.pixelknot/1.0.2.1/apk/info.guardianproject.pixelknot_1021.apk&quot;</td>\n",
       "        <td>1</td>\n",
       "    </tr>\n",
       "    <tr>\n",
       "        <td>&quot;${baseDir}/fdroid/org.fedorahosted.freeotp/2.0/apk/org.fedorahosted.freeotp_24.apk&quot;</td>\n",
       "        <td>1</td>\n",
       "    </tr>\n",
       "</table>"
      ],
      "text/plain": [
       "[('\"${baseDir}/fdroid/net.osmand.plus/4.3.8/apk/net.osmand.plus_4308.apk\"', 285),\n",
       " ('\"${baseDir}/fdroid/org.sufficientlysecure.keychain/5.8.2/apk/org.sufficientlysecure.keychain_58902.apk\"', 143),\n",
       " ('\"${baseDir}/fdroid/org.mariotaku.twidere/4.1.8/apk/org.mariotaku.twidere_517.apk\"', 92),\n",
       " ('\"${baseDir}/fdroid/net.wigle.wigleandroid/2.63/apk/net.wigle.wigleandroid_263.apk\"', 88),\n",
       " ('\"${baseDir}/fdroid/dev.ukanth.ufirewall/3.5.3/apk/dev.ukanth.ufirewall_20220615.apk\"', 73),\n",
       " ('\"${baseDir}/fdroid/com.seafile.seadroid2/2.2.48/apk/com.seafile.seadroid2_123.apk\"', 63),\n",
       " ('\"${baseDir}/fdroid/de.blau.android/18.1.1.0/apk/de.blau.android_2303.apk\"', 59),\n",
       " ('\"${baseDir}/fdroid/org.liberty.android.fantastischmemo/10.11.7/apk/org.liberty.android.fantastischmemo_237.apk\"', 56),\n",
       " ('\"${baseDir}/fdroid/de.blinkt.openvpn/0.7.43/apk/de.blinkt.openvpn_198.apk\"', 44),\n",
       " ('\"${baseDir}/fdroid/com.ichi2.anki/2.15.6/apk/com.ichi2.anki_21506300.apk\"', 41),\n",
       " ('\"${baseDir}/fdroid/com.owncloud.android/3.0.1/apk/com.owncloud.android_30000001.apk\"', 41),\n",
       " ('\"${baseDir}/oss/de.danoeh.antennapod/app/build/outputs/apk/free/debug/app-free-debug.apk\"', 40),\n",
       " ('\"${baseDir}/fdroid/com.darshancomputing.BatteryIndicatorPro/12.0.0/apk/com.darshancomputing.BatteryIndicatorPro_26016.apk\"', 37),\n",
       " ('\"${baseDir}/fdroid/com.duckduckgo.mobile.android/5.146.0/apk/com.duckduckgo.mobile.android_51460000.apk\"', 35),\n",
       " ('\"${baseDir}/fdroid/org.sipdroid.sipua/6.3beta/apk/org.sipdroid.sipua_134.apk\"', 31),\n",
       " ('\"${baseDir}/fdroid/jwtc.android.chess/9.3.10/apk/jwtc.android.chess_192.apk\"', 28),\n",
       " ('\"${baseDir}/fdroid/org.tasks/13.1.1/apk/org.tasks_130101.apk\"', 26),\n",
       " ('\"${baseDir}/fdroid/com.gpl.rpg.AndorsTrail/0.8.3/apk/com.gpl.rpg.AndorsTrail_67.apk\"', 25),\n",
       " ('\"${baseDir}/fdroid/com.fsck.k9/6.503/apk/com.fsck.k9_35003.apk\"', 21),\n",
       " ('\"${baseDir}/fdroid/com.asksven.betterbatterystats/3.3.1/apk/com.asksven.betterbatterystats_107.apk\"', 19),\n",
       " ('\"${baseDir}/fdroid/org.transdroid.lite/2.5.19/apk/org.transdroid.lite_239.apk\"', 16),\n",
       " ('\"${baseDir}/fdroid/com.ubergeek42.WeechatAndroid/1.8.1/apk/com.ubergeek42.WeechatAndroid_10801.apk\"', 13),\n",
       " ('\"${baseDir}/fdroid/ch.blinkenlights.android.vanilla/1.2.2/apk/ch.blinkenlights.android.vanilla_12200.apk\"', 13),\n",
       " ('\"${baseDir}/fdroid/com.byagowi.persiancalendar/7.8.0/apk/com.byagowi.persiancalendar_780.apk\"', 12),\n",
       " ('\"${baseDir}/fdroid/com.nutomic.syncthingandroid/1.23.0/apk/com.nutomic.syncthingandroid_4334.apk\"', 12),\n",
       " ('\"${baseDir}/fdroid/org.navitproject.navit/v0.5.6/apk/org.navitproject.navit_2021030660.apk\"', 10),\n",
       " ('\"${baseDir}/fdroid/be.digitalia.fosdem/2.1.1/apk/be.digitalia.fosdem_1900211.apk\"', 9),\n",
       " ('\"${baseDir}/fdroid/com.android.keepass/2.6.8/apk/com.android.keepass_215.apk\"', 8),\n",
       " ('\"${baseDir}/fdroid/org.scoutant.blokish/3.4/apk/org.scoutant.blokish_22.apk\"', 8),\n",
       " ('\"${baseDir}/oss/org.connectbot/app/build/outputs/apk/oss/debug/app-oss-debug.apk\"', 6),\n",
       " ('\"${baseDir}/fdroid/de.jkliemann.parkendd/1.2.8/apk/de.jkliemann.parkendd_33.apk\"', 5),\n",
       " ('\"${baseDir}/fdroid/name.boyle.chris.sgtpuzzles/2023-01-18-2324-aaa36328-fdroid/apk/name.boyle.chris.sgtpuzzles_137.apk\"', 5),\n",
       " ('\"${baseDir}/fdroid/org.zephyrsoft.trackworktime/1.1.20/apk/org.zephyrsoft.trackworktime_64.apk\"', 5),\n",
       " ('\"${baseDir}/fdroid/de.markusfisch.android.wavelines/1.13.2/apk/de.markusfisch.android.wavelines_22.apk\"', 5),\n",
       " ('\"${baseDir}/fdroid/net.bible.android.activity/4.0.673/apk/net.bible.android.activity_673.apk\"', 5),\n",
       " ('\"${baseDir}/fdroid/org.traccar.client/6.18/apk/org.traccar.client_79.apk\"', 4),\n",
       " ('\"${baseDir}/fdroid/net.justdave.nwsweatheralertswidget/1.1.4/apk/net.justdave.nwsweatheralertswidget_12.apk\"', 4),\n",
       " ('\"${baseDir}/fdroid/nl.mpcjanssen.simpletask/11.0.1/apk/nl.mpcjanssen.simpletask_11000001.apk\"', 3),\n",
       " ('\"${baseDir}/fdroid/de.syss.MifareClassicTool/4.0.4/apk/de.syss.MifareClassicTool_62.apk\"', 3),\n",
       " ('\"${baseDir}/fdroid/net.gaast.giggity/2.0.8/apk/net.gaast.giggity_520.apk\"', 3),\n",
       " ('\"${baseDir}/fdroid/nitezh.ministock/81/apk/nitezh.ministock_81.apk\"', 3),\n",
       " ('\"${baseDir}/fdroid/com.MarcosDiez.shareviahttp/2.0.14/apk/com.MarcosDiez.shareviahttp_34.apk\"', 2),\n",
       " ('\"${baseDir}/fdroid/com.shatteredpixel.shatteredpixeldungeon/1.4.3/apk/com.shatteredpixel.shatteredpixeldungeon_668.apk\"', 2),\n",
       " ('\"${baseDir}/fdroid/de.srlabs.snoopsnitch/2.0.12-nbc/apk/de.srlabs.snoopsnitch_50.apk\"', 2),\n",
       " ('\"${baseDir}/fdroid/com.yubico.yubioath/6.0.2/apk/com.yubico.yubioath_600064.apk\"', 1),\n",
       " ('\"${baseDir}/fdroid/org.andstatus.app/60.01/apk/org.andstatus.app_361.apk\"', 1),\n",
       " ('\"${baseDir}/fdroid/org.yuttadhammo.BodhiTimer/6.3.0/apk/org.yuttadhammo.BodhiTimer_98.apk\"', 1),\n",
       " ('\"${baseDir}/fdroid/info.guardianproject.pixelknot/1.0.2.1/apk/info.guardianproject.pixelknot_1021.apk\"', 1),\n",
       " ('\"${baseDir}/fdroid/org.fedorahosted.freeotp/2.0/apk/org.fedorahosted.freeotp_24.apk\"', 1)]"
      ]
     },
     "execution_count": 48,
     "metadata": {},
     "output_type": "execute_result"
    }
   ],
   "source": [
    "%%sql\n",
    "select cast(config::json->'apkPath' as text) as app,count(*) as count from jobs group by app order by count desc;"
   ]
  },
  {
   "cell_type": "code",
   "execution_count": null,
   "metadata": {},
   "outputs": [],
   "source": [
    "%%sql \n",
    "select cast(result::json->'summary' as varchar) as summary, cast(result::json->'maxPathCh' as varchar) as ch,count(*),avg(querytime),max(querytime) from results group by summary,ch order by summary,ch;"
   ]
  },
  {
   "cell_type": "code",
   "execution_count": null,
   "metadata": {},
   "outputs": [],
   "source": [
    "%%sql \n",
    "select count(*), cast(results.result::json->'summary' as varchar),cast(jobs.config::json->'tag' as varchar) as tag \n",
    "from jobs inner join results on jobs.id=results.jobid group by cast(jobs.config::json->'tag' as varchar),cast(results.result::json->'summary' as varchar)\n",
    "order by  cast(jobs.config::json->'tag' as varchar)"
   ]
  },
  {
   "cell_type": "code",
   "execution_count": null,
   "metadata": {},
   "outputs": [],
   "source": [
    "%%sql \n",
    "select regexp_substr(cast(jobs.config::json->'apkPath' as varchar), '[a-zA-Z]*\\.[a-zA-Z]*') as benchmark, \n",
    "    regexp_substr(cast(results.qry::json->'s' as varchar), 'Dialog_dismiss|execute') as isDismiss, \n",
    "    cast(results.result::json->'summary' as varchar) as summary, count(*)\n",
    "    from results inner join jobs on results.jobid=jobs.id \n",
    "    group by cast(jobs.config::json->'apkPath' as varchar),cast(results.result::json->'summary' as varchar),\n",
    "    regexp_substr(cast(results.qry::json->'s' as varchar), 'Dialog_dismiss|execute')\n"
   ]
  },
  {
   "cell_type": "code",
   "execution_count": null,
   "metadata": {},
   "outputs": [],
   "source": [
    "%%sql\n",
    "select cast(result::json->'summary' as varchar) as summary, count(*) from results group by cast(result::json->'summary' as varchar)"
   ]
  },
  {
   "cell_type": "code",
   "execution_count": null,
   "metadata": {},
   "outputs": [],
   "source": [
    "%%sql\n",
    "select count(*),status from jobs group by status;"
   ]
  },
  {
   "cell_type": "markdown",
   "metadata": {},
   "source": [
    "Check result consistency\n",
    "========================"
   ]
  },
  {
   "cell_type": "code",
   "execution_count": null,
   "metadata": {},
   "outputs": [],
   "source": [
    "%%sql -- get workers with acquired jobs -- check for abandoned jobs\n",
    "select owner,count(*) from jobs where status='acquired' group by owner;"
   ]
  },
  {
   "cell_type": "code",
   "execution_count": null,
   "metadata": {},
   "outputs": [],
   "source": [
    "%%sql -- Find completed jobs where no results exist and no error occurred\n",
    "select jobs.id from jobs where jobs.id not in (select results.jobid from results) and jobs.status = 'completed' and jobs.stderr not like '%Exception%';"
   ]
  },
  {
   "cell_type": "code",
   "execution_count": null,
   "metadata": {},
   "outputs": [],
   "source": [
    "%%sql -- Find new/paused jobs with results\n",
    "select jobs.id from jobs where jobs.id in (select results.jobid from results) and (jobs.status = 'paused' or jobs.status = 'new');"
   ]
  },
  {
   "cell_type": "code",
   "execution_count": null,
   "metadata": {},
   "outputs": [],
   "source": [
    "%%sql -- check that each location/qry pair only has one result (should detect duplicat runs)\n",
    "select count(*),qry,loc as num from results group by qry,loc order by count(*) desc limit 1;"
   ]
  },
  {
   "cell_type": "markdown",
   "metadata": {},
   "source": [
    "Triage witness results\n",
    "----------------------"
   ]
  },
  {
   "cell_type": "code",
   "execution_count": null,
   "metadata": {},
   "outputs": [],
   "source": [
    "witnessesq = %sql \\\n",
    "select id,jobid,resultdata,loc::json->'method'->>1 as clazz,loc::json->'method'->>2 from results \\\n",
    "                where cast(result::json->'summary' as varchar) like '%Witnessed%' order by id asc;\n",
    "\n",
    "witnessesdf = witnessesq.DataFrame()\n",
    "witnessesdf.to_csv('triageWit.csv')"
   ]
  },
  {
   "cell_type": "code",
   "execution_count": null,
   "metadata": {},
   "outputs": [],
   "source": [
    "witnessesq = %sql \\\n",
    "select id,jobid,resultdata,loc::json->'method'->>1 as clazz,loc::json->'method'->>2 from results \\\n",
    "                where cast(result::json->'summary' as varchar) like '%Itimeout%' and cast(result::json->'maxPathCh' as varchar) like '%MultiCallback%' order by id asc;\n",
    "\n",
    "witnessesdf = witnessesq.DataFrame()\n",
    "witnessesdf.to_csv('triageWitMultiTimeout.csv')"
   ]
  },
  {
   "cell_type": "raw",
   "metadata": {},
   "source": [
    "id \tjobid \tresultdata \tclazz \t?column?\n",
    "#29 \t2 \t2 \tcom.lyonbros.turtl.MainActivity \t[\"com.lyonbros.turtl.MainActivity\",\"android.os.Bundle\"]     (my bug) super should always be non null\n",
    "#69 \t1323 \t477 \tcom.gianlu.commonutils.Preferences.BasePreferenceActivity \t[\"com.gianlu.commonutils.Preferences.BasePreferenceActivity\",\"android.view.MenuItem\"]     (simple) arg of cb non null\n",
    "1:09 seems onOptionItemSelected wont get null value \n",
    "#107 \t1326 \t480 \tcom.health.openscale.gui.activities.UserSettingsActivity$1 \t[\"com.health.openscale.gui.activities.UserSettingsActivity$1\",\"android.view.View\"]  (simple) ret val of callin non null 1:14\n",
    "#175 \t1325 \t479 \tcom.duckduckgo.app.brokensite.BrokenSiteActivity \t[\"com.duckduckgo.app.brokensite.BrokenSiteActivity\"] (simple) arg of ci non null 15:28\n",
    "#201 \t1322 \t481 \torg.andstatus.app.util.UriUtils \t[\"void\",\"java.lang.String\"] (simple) non-null callin Optional.of 1:32\n",
    "#206 \t1322 \t481 \torg.andstatus.app.note.NoteBodyTokenizer \t[\"org.andstatus.app.note.NoteBodyTokenizer\",\"java.lang.CharSequence\"] (likely simple) non-null parameter\n",
    "#209 \t1322 \t481 \torg.andstatus.app.timeline.BaseTimelineAdapter \t[\"org.andstatus.app.timeline.BaseTimelineAdapter\",\"android.view.View\"]\n",
    "(revised not interesting, bug, now fixed)(interesting) value from get-parent - can be null i parent not defined. \n",
    "4045 \t1322 \t481 \torg.andstatus.app.data.checker.CheckConversations \t[\"void\",\"org.andstatus.app.data.checker.CheckConversations$NoteItem\"] (possibly interesting) apply callback, may be generated code of some kind? likely a bound callback from something"
   ]
  },
  {
   "cell_type": "raw",
   "metadata": {},
   "source": [
    "1) quick scan of code for patterns that likely involve multi callback crashes.\n",
    "    - deref of value read from field accessed by multiple callbacks (quick syntactic scan, needs minor upgrade to sampler)\n",
    "    - value returned from \"interesting\" callin, e.g. getParent/getActivity - need way to identify these, perhaps just use a few known ones\n",
    "    - sensitive callins e.g. execute\n",
    "    \n",
    "2) write specifications to avoid crashes on sampling of these interesting locations, if that fails, try to reproduce crash\n",
    "\n",
    "\n",
    "RQ: Is it feasible and necessary to write cftl specifications to prove a callback ordering sensitive assertion?\n",
    "\n",
    "We first generate a set of assertions that are likely to be useful to an android developer by scanning for patterns involved in multi callback mistakes.  We then report the number of locations proven 1)without a framework model 2) with the activity lifecycle and 3) with a hand written cftl model.  In the case of writing the model, we measure the time it takes a human to develop such a model.  "
   ]
  },
  {
   "cell_type": "code",
   "execution_count": null,
   "metadata": {},
   "outputs": [],
   "source": [
    "%%sql \n",
    "select id,jobid,resultdata,loc::json->'method'->>1 as clazz, \n",
    "        replace(cast(loc::json->'line'->'str' as varchar),'$','\\$') from results where id = 40;"
   ]
  },
  {
   "cell_type": "markdown",
   "metadata": {},
   "source": [
    "Triage proven results\n",
    "--------------------------"
   ]
  },
  {
   "cell_type": "code",
   "execution_count": null,
   "metadata": {},
   "outputs": [],
   "source": [
    "%%sql \n",
    "select id,jobid,resultdata,loc::json->'method'->>1 as clazz,loc::json->'method'->>2 from results \n",
    "                where cast(result::json->'summary' as varchar) like '%Proven%' order by random() limit 10;"
   ]
  },
  {
   "cell_type": "raw",
   "metadata": {},
   "source": [
    "TODO"
   ]
  },
  {
   "cell_type": "markdown",
   "metadata": {},
   "source": [
    "Triage unreachable results\n",
    "--------------------------"
   ]
  },
  {
   "cell_type": "code",
   "execution_count": null,
   "metadata": {},
   "outputs": [],
   "source": [
    "%%sql \n",
    "select id,jobid,resultdata,loc::json->'method'->>1 as clazz \n",
    "            from results where cast(result::json->'summary' as varchar) like '%Unreachable%' \n",
    "            order by random() limit 15;"
   ]
  },
  {
   "cell_type": "raw",
   "metadata": {},
   "source": [
    "id \tjobid \tresultdata \tclazz\n",
    "3632 \t1315 \t471 \tio.reactivex.Flowable\n",
    "3585 \t1314 \t470 \tcc.fovea.openwith.OpenWithPlugin\n",
    "3645 \t1315 \t471 \tcom.duckduckgo.app.bookmarks.ui.BookmarksViewModel\n",
    "3594 \t1314 \t470 \tcc.fovea.openwith.PluginResultSender\n",
    "3580 \t1314 \t470 \tcc.fovea.openwith.PluginResultSender\n",
    "3627 \t1315 \t471 \tio.reactivex.internal.operators.parallel.ParallelFromPublisher$ParallelDispatcher\n",
    "3629 \t1315 \t471 \tio.reactivex.internal.operators.single.SingleUnsubscribeOn\n",
    "3663 \t1315 \t471 \tio.reactivex.internal.operators.flowable.FlowableTakeUntil$TakeUntilMainSubscriber\n",
    "3582 \t1314 \t470 \tcc.fovea.openwith.PluginResultSender\n",
    "3657 \t1315 \t471 \tio.reactivex.internal.observers.QueueDrainObserver\n",
    "3603 \t1314 \t470 \tcc.fovea.openwith.ByteStreams\n",
    "3669 \t1315 \t471 \tcom.duckduckgo.app.tabs.db.TabsDao_Impl$1\n",
    "3586 \t1314 \t470 \tcc.fovea.openwith.OpenWithPlugin$1\n",
    "3659 \t1315 \t471 \tio.reactivex.internal.operators.flowable.FlowableCreate$BaseEmitter\n",
    "3646 \t1315 \t471 \tio.reactivex.internal.schedulers.SchedulerPoolFactory"
   ]
  },
  {
   "cell_type": "code",
   "execution_count": null,
   "metadata": {},
   "outputs": [],
   "source": [
    "%%sql\n",
    "select id,jobid,resultdata,loc::json->'method'->>1 as clazz, \n",
    "        replace(cast(loc::json->'method'->>0 as varchar),'$','\\$') as mname, \n",
    "        replace(cast(loc::json->'line' as varchar),'$','\\$') as location \n",
    "        from results where id = 15037;"
   ]
  },
  {
   "cell_type": "raw",
   "metadata": {},
   "source": [
    "\n",
    "id      jobid\tresultdata\tclazz\n",
    "15037\t243  \t761     \titkach.aard2.ArticleWebView$4\n",
    "\n",
    "12610\t90  \t676     \torg.tukaani.xz.lzma.LZMAEncoderNormal\n",
    "12479\t368  \t674\t        com.serwylo.lexica.trie.util.LetterFrequency\n",
    "8881\t308 \t436     \tnet.healeys.trie.StringTrie$Node\n",
    "11298\t208 \t573     \torg.tukaani.xz.index.IndexBase\n",
    "\n"
   ]
  },
  {
   "cell_type": "code",
   "execution_count": null,
   "metadata": {},
   "outputs": [],
   "source": [
    "%%sql\n",
    "select id,result,replace(cast(loc::json->'line' as varchar),'$','\\$') as location \n",
    "    from results where loc like '%244 $r3%';"
   ]
  },
  {
   "cell_type": "code",
   "execution_count": null,
   "metadata": {},
   "outputs": [],
   "source": [
    "%%sql\n",
    "select replace(cast(loc as varchar),'$','\\$') from results where id = 1494;"
   ]
  },
  {
   "cell_type": "markdown",
   "metadata": {},
   "source": [
    "Runtime Stats\n",
    "============="
   ]
  },
  {
   "cell_type": "code",
   "execution_count": null,
   "metadata": {},
   "outputs": [],
   "source": [
    "queryTime = %sql select querytime/60/60 from results;\n",
    "tplt = queryTime.DataFrame().plot.hist(bins=16)\n",
    "tplt.set_yscale('log')\n",
    "# tplt.set_xscale('log')\n",
    "tplt.set_xlabel('time (hrs)')\n",
    "# split this into proven and witnessed"
   ]
  },
  {
   "cell_type": "code",
   "execution_count": null,
   "metadata": {},
   "outputs": [],
   "source": [
    "%%sql\n",
    "select "
   ]
  },
  {
   "cell_type": "code",
   "execution_count": null,
   "metadata": {},
   "outputs": [],
   "source": [
    "cfg = %sql select jobs.config from results join jobs on jobs.id = results.jobid where querytime > 6*60*60 limit 1;\n",
    "if len(cfg) > 0:\n",
    "    print(cfg[0][0])"
   ]
  },
  {
   "cell_type": "code",
   "execution_count": null,
   "metadata": {
    "tags": []
   },
   "outputs": [],
   "source": [
    "%%sql -- which apps cause runtimes over 2 hours?\n",
    "select jobs.id, results.querytime, jobs.config::json->'apkPath' from results inner join jobs on jobs.id=results.jobid where results.querytime > 7200 order by results.querytime desc limit 200;"
   ]
  },
  {
   "cell_type": "code",
   "execution_count": null,
   "metadata": {},
   "outputs": [],
   "source": [
    "# Job runtimes\n",
    "runtimes = %sql select ended - started as time from jobs where ended is not NULL;\n",
    "runtimesDF = runtimes.DataFrame()\n",
    "runtimesDF['time'] = runtimesDF['time'].apply(lambda x: x.total_seconds() / (60))\n",
    "tplt = runtimesDF.plot.hist(bins=32)\n",
    "tplt.set_yscale('log')\n",
    "tplt.set_xlabel('time (min)')"
   ]
  },
  {
   "cell_type": "code",
   "execution_count": null,
   "metadata": {},
   "outputs": [],
   "source": [
    "# Plot job time trend\n",
    "rtvt = %sql select started, ended - started as time from jobs where ended is not NULL;\n",
    "rtvtDF = rtvt.DataFrame()\n",
    "rtvtDF.sort_values('started', ascending=True)\n",
    "fig, ax = plt.subplots()\n",
    "ax.plot_date(rtvtDF['started'], rtvtDF['time'], marker='*', linestyle='')\n",
    "\n",
    "fig.autofmt_xdate()\n",
    "plt.show()\n"
   ]
  },
  {
   "cell_type": "markdown",
   "metadata": {},
   "source": [
    "Total job time"
   ]
  },
  {
   "cell_type": "code",
   "execution_count": null,
   "metadata": {},
   "outputs": [],
   "source": [
    "%%sql\n",
    "select sum(ended-started) from jobs where ended is not NULL;"
   ]
  },
  {
   "cell_type": "code",
   "execution_count": null,
   "metadata": {},
   "outputs": [],
   "source": [
    "%%sql\n",
    "select avg(ended-started) from jobs where ended is not NULL;"
   ]
  },
  {
   "cell_type": "code",
   "execution_count": null,
   "metadata": {},
   "outputs": [],
   "source": [
    "%%sql\n",
    "select avg(querytime) from results;"
   ]
  },
  {
   "cell_type": "code",
   "execution_count": null,
   "metadata": {},
   "outputs": [],
   "source": [
    "%%sql\n",
    "select now() - min(started) from jobs;"
   ]
  },
  {
   "cell_type": "markdown",
   "metadata": {},
   "source": [
    "Size of postgres data\n",
    "====================="
   ]
  },
  {
   "cell_type": "code",
   "execution_count": null,
   "metadata": {},
   "outputs": [],
   "source": [
    "%%sql\n",
    "WITH RECURSIVE pg_inherit(inhrelid, inhparent) AS\n",
    "    (select inhrelid, inhparent\n",
    "    FROM pg_inherits\n",
    "    UNION\n",
    "    SELECT child.inhrelid, parent.inhparent\n",
    "    FROM pg_inherit child, pg_inherits parent\n",
    "    WHERE child.inhparent = parent.inhrelid),\n",
    "pg_inherit_short AS (SELECT * FROM pg_inherit WHERE inhparent NOT IN (SELECT inhrelid FROM pg_inherit))\n",
    "SELECT table_schema\n",
    "    , TABLE_NAME\n",
    "    , row_estimate\n",
    "    , pg_size_pretty(total_bytes) AS total\n",
    "    , pg_size_pretty(index_bytes) AS INDEX\n",
    "    , pg_size_pretty(toast_bytes) AS toast\n",
    "    , pg_size_pretty(table_bytes) AS TABLE\n",
    "  FROM (\n",
    "    SELECT *, total_bytes-index_bytes-COALESCE(toast_bytes,0) AS table_bytes\n",
    "    FROM (\n",
    "         SELECT c.oid\n",
    "              , nspname AS table_schema\n",
    "              , relname AS TABLE_NAME\n",
    "              , SUM(c.reltuples) OVER (partition BY parent) AS row_estimate\n",
    "              , SUM(pg_total_relation_size(c.oid)) OVER (partition BY parent) AS total_bytes\n",
    "              , SUM(pg_indexes_size(c.oid)) OVER (partition BY parent) AS index_bytes\n",
    "              , SUM(pg_total_relation_size(reltoastrelid)) OVER (partition BY parent) AS toast_bytes\n",
    "              , parent\n",
    "          FROM (\n",
    "                SELECT pg_class.oid\n",
    "                    , reltuples\n",
    "                    , relname\n",
    "                    , relnamespace\n",
    "                    , pg_class.reltoastrelid\n",
    "                    , COALESCE(inhparent, pg_class.oid) parent\n",
    "                FROM pg_class\n",
    "                    LEFT JOIN pg_inherit_short ON inhrelid = oid\n",
    "                WHERE relkind IN ('r', 'p')\n",
    "             ) c\n",
    "             LEFT JOIN pg_namespace n ON n.oid = c.relnamespace\n",
    "  ) a\n",
    "  WHERE oid = parent\n",
    ") a\n",
    "ORDER BY total_bytes DESC limit 5;"
   ]
  },
  {
   "cell_type": "markdown",
   "metadata": {},
   "source": [
    "Inspection of exceptions\n",
    "========================"
   ]
  },
  {
   "cell_type": "code",
   "execution_count": null,
   "metadata": {
    "tags": []
   },
   "outputs": [],
   "source": [
    "%%sql\n",
    "select id,config::json->'apkPath',replace(stderr,'$','\\$') from jobs where stderr like '%Exception%';"
   ]
  },
  {
   "cell_type": "code",
   "execution_count": null,
   "metadata": {},
   "outputs": [],
   "source": [
    "#count of total results\n",
    "%sql select count(*) as Total_locations_computed from results"
   ]
  },
  {
   "cell_type": "code",
   "execution_count": null,
   "metadata": {},
   "outputs": [],
   "source": []
  }
 ],
 "metadata": {
  "kernelspec": {
   "display_name": "Python 3 (ipykernel)",
   "language": "python",
   "name": "python3"
  },
  "language_info": {
   "codemirror_mode": {
    "name": "ipython",
    "version": 3
   },
   "file_extension": ".py",
   "mimetype": "text/x-python",
   "name": "python",
   "nbconvert_exporter": "python",
   "pygments_lexer": "ipython3",
   "version": "3.10.6"
  }
 },
 "nbformat": 4,
 "nbformat_minor": 4
}
