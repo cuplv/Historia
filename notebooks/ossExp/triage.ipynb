{
 "cells": [
  {
   "cell_type": "code",
   "execution_count": 2,
   "metadata": {},
   "outputs": [
    {
     "name": "stdout",
     "output_type": "stream",
     "text": [
      "The sql extension is already loaded. To reload it, use:\n",
      "  %reload_ext sql\n"
     ]
    }
   ],
   "source": [
    "import pandas as pd\n",
    "from IPython.display import JSON\n",
    "import pylab\n",
    "import json\n",
    "%matplotlib inline\n",
    "import matplotlib.pyplot as plt\n",
    "#plt.style.use('seaborn-whitegrid') # TODO: what did this do?\n",
    "import numpy as np\n",
    "from IPython.core import display\n",
    "import psycopg2\n",
    "import os\n",
    "homedir = os.getenv(\"HOME\")\n",
    "with open(homedir + \"/.pgpass\",'r') as pgfile:\n",
    "    pgdat = pgfile.read().strip().split(\":\")\n",
    "    pgurl = pgdat[0]\n",
    "    pgport = pgdat[1]\n",
    "    pgdb = pgdat[2]\n",
    "    pguser = pgdat[3]\n",
    "    pgpass = pgdat[4]\n",
    "\n",
    "%load_ext sql\n",
    "from sqlalchemy import create_engine\n",
    "# sql info: https://github.com/catherinedevlin/ipython-sql\n",
    "# on error `pip install ipython-sql`\n",
    "#uncomment for remote\n",
    "pgport=3333\n",
    "#pgport=5433\n",
    "engine = create_engine('postgresql://postgres@localhost:%i/postgres' % pgport)\n",
    "db = psycopg2.connect(host=pgurl, database=pgdb, user=pguser,password=pgpass,port=pgport)"
   ]
  },
  {
   "cell_type": "code",
   "execution_count": 3,
   "metadata": {},
   "outputs": [],
   "source": [
    "def qry(q):\n",
    "  return pd.read_sql_query(con = db, sql = q)\n",
    "# pd.set_option(\"max_colwidth\", None)\n",
    "# pd.set_option('display.max_columns', None)\n",
    "pd.set_option(\"display.latex.repr\", False)\n",
    "pd.set_option(\"display.latex.escape\", True)\n",
    "\n",
    "def iDisplay(v):\n",
    "    with pd.option_context('display.max_rows', None, 'display.max_columns', None, \"max_colwidth\", None):\n",
    "        display.display(v)\n"
   ]
  },
  {
   "cell_type": "markdown",
   "metadata": {},
   "source": [
    "Count number of uploaded APK files"
   ]
  },
  {
   "cell_type": "code",
   "execution_count": 194,
   "metadata": {},
   "outputs": [
    {
     "name": "stdout",
     "output_type": "stream",
     "text": [
      "1 rows affected.\n"
     ]
    },
    {
     "data": {
      "text/html": [
       "<table>\n",
       "    <tr>\n",
       "        <th>apk_count</th>\n",
       "        <th>blob_count</th>\n",
       "        <th>input_count</th>\n",
       "        <th>job_count</th>\n",
       "        <th>result_data_count</th>\n",
       "        <th>result_count</th>\n",
       "    </tr>\n",
       "    <tr>\n",
       "        <td>55</td>\n",
       "        <td>57</td>\n",
       "        <td>1</td>\n",
       "        <td>1410</td>\n",
       "        <td>1336</td>\n",
       "        <td>1368</td>\n",
       "    </tr>\n",
       "</table>"
      ],
      "text/plain": [
       "[(55, 57, 1, 1410, 1336, 1368)]"
      ]
     },
     "execution_count": 194,
     "metadata": {},
     "output_type": "execute_result"
    }
   ],
   "source": [
    "%%sql postgresql://postgres@localhost:$pgport/postgres\n",
    "select\n",
    "    (select count(*) from apks where apkname not like 'jar_%' and apkname not like 'spec_%') as apk_count,\n",
    "    (select count(*) from apks) as blob_count, \n",
    "    (select count(*) from inputs) as input_count, \n",
    "    (select count(*) from jobs) as job_count, \n",
    "    (select count(*) from resultdata) as result_data_count, \n",
    "    (select count(*) from results) as result_count"
   ]
  },
  {
   "cell_type": "code",
   "execution_count": 195,
   "metadata": {},
   "outputs": [
    {
     "name": "stdout",
     "output_type": "stream",
     "text": [
      " * postgresql://postgres@localhost:3333/postgres\n",
      "5 rows affected.\n"
     ]
    },
    {
     "data": {
      "text/html": [
       "<table>\n",
       "    <tr>\n",
       "        <th>count</th>\n",
       "        <th>category</th>\n",
       "    </tr>\n",
       "    <tr>\n",
       "        <td>55</td>\n",
       "        <td>&quot;SensitiveDerefFieldCausedSynch&quot;</td>\n",
       "    </tr>\n",
       "    <tr>\n",
       "        <td>357</td>\n",
       "        <td>&quot;Disallow.I_CIEnter_Dialogdismiss&quot;</td>\n",
       "    </tr>\n",
       "    <tr>\n",
       "        <td>163</td>\n",
       "        <td>&quot;Disallow.I_CIEnter_AsyncTaskexecute&quot;</td>\n",
       "    </tr>\n",
       "    <tr>\n",
       "        <td>33</td>\n",
       "        <td>&quot;SensitiveDerefFieldCausedFinish&quot;</td>\n",
       "    </tr>\n",
       "    <tr>\n",
       "        <td>802</td>\n",
       "        <td>&quot;SensitiveDerefCallinCaused&quot;</td>\n",
       "    </tr>\n",
       "</table>"
      ],
      "text/plain": [
       "[(55, '\"SensitiveDerefFieldCausedSynch\"'),\n",
       " (357, '\"Disallow.I_CIEnter_Dialogdismiss\"'),\n",
       " (163, '\"Disallow.I_CIEnter_AsyncTaskexecute\"'),\n",
       " (33, '\"SensitiveDerefFieldCausedFinish\"'),\n",
       " (802, '\"SensitiveDerefCallinCaused\"')]"
      ]
     },
     "execution_count": 195,
     "metadata": {},
     "output_type": "execute_result"
    }
   ],
   "source": [
    "%%sql -- count locations by pattern\n",
    "select count(*), cast(jobs.config::json->'tag'->'heuristicType' as varchar) as category from jobs group by category"
   ]
  },
  {
   "cell_type": "code",
   "execution_count": 196,
   "metadata": {},
   "outputs": [
    {
     "name": "stdout",
     "output_type": "stream",
     "text": [
      " * postgresql://postgres@localhost:3333/postgres\n",
      "1 rows affected.\n"
     ]
    },
    {
     "data": {
      "text/html": [
       "<table>\n",
       "    <tr>\n",
       "        <th>completed_jobs</th>\n",
       "        <th>new_jobs</th>\n",
       "        <th>paused_jobs</th>\n",
       "        <th>total_jobs</th>\n",
       "        <th>acquired_jobs</th>\n",
       "        <th>body_exception</th>\n",
       "        <th>unimplemented</th>\n",
       "        <th>exception</th>\n",
       "        <th>path_exception</th>\n",
       "        <th>refl_exception</th>\n",
       "        <th>worker_failure</th>\n",
       "        <th>subprocess_timeout</th>\n",
       "        <th>possible_cg_unsound</th>\n",
       "        <th>memory</th>\n",
       "    </tr>\n",
       "    <tr>\n",
       "        <td>1336</td>\n",
       "        <td>0</td>\n",
       "        <td>0</td>\n",
       "        <td>1410</td>\n",
       "        <td>0</td>\n",
       "        <td>0</td>\n",
       "        <td>0</td>\n",
       "        <td>0</td>\n",
       "        <td>0</td>\n",
       "        <td>0</td>\n",
       "        <td>35</td>\n",
       "        <td>39</td>\n",
       "        <td>0</td>\n",
       "        <td>0</td>\n",
       "    </tr>\n",
       "</table>"
      ],
      "text/plain": [
       "[(1336, 0, 0, 1410, 0, 0, 0, 0, 0, 0, 35, 39, 0, 0)]"
      ]
     },
     "execution_count": 196,
     "metadata": {},
     "output_type": "execute_result"
    }
   ],
   "source": [
    "%%sql --    # (select count(*) from jobs where status = 'new') as New_Jobs, # new jobs takes a while to run, only add if needed\n",
    "select \n",
    "    (select count(*) from jobs where status = 'completed') as Completed_Jobs,\n",
    "    (select count(*) from jobs where status = 'new') as New_Jobs,\n",
    "    (select count(*) from jobs where status = 'paused') as Paused_Jobs,\n",
    "    (select count(*) from jobs) as Total_Jobs,\n",
    "    (select count(*) from jobs where status = 'acquired') as Acquired_jobs,\n",
    "    (select count(id) from jobs \n",
    "       where stderr like '%Exception%no active body present for method%') as Body_Exception,\n",
    "    (select count(id) from jobs where stderr like '%an implementation is missing%') as unimplemented,\n",
    "    (select count(id) from jobs where stderr like '%Exception%') as Exception,\n",
    "    (select count(id) from jobs where stderr like '%no libz3java in java.library.path%') as path_exception,\n",
    "    (select count(id) from jobs where stderr like '%Failed to parse reflective type reference%') as Refl_exception,\n",
    "    (select count(id) from jobs where status like 'failed%' and status not like 'failed: Subprocess Timeout') as worker_failure,\n",
    "    (select count(id) from jobs where status like 'failed: Subprocess Timeout') as subprocess_timeout,\n",
    "    (select count(id) from jobs where stdout like '%empty pred location%') as possible_cg_unsound,\n",
    "    (select count(id) from jobs where stderr like '%OutOfMemory%') as memory\n",
    " "
   ]
  },
  {
   "cell_type": "code",
   "execution_count": 202,
   "metadata": {},
   "outputs": [
    {
     "name": "stdout",
     "output_type": "stream",
     "text": [
      " * postgresql://postgres@localhost:3333/postgres\n",
      "1 rows affected.\n"
     ]
    },
    {
     "data": {
      "text/html": [
       "<table>\n",
       "    <tr>\n",
       "        <th>md5</th>\n",
       "    </tr>\n",
       "    <tr>\n",
       "        <td>5e3c67ecbc189e04252e7365bb61177a</td>\n",
       "    </tr>\n",
       "</table>"
      ],
      "text/plain": [
       "[('5e3c67ecbc189e04252e7365bb61177a',)]"
      ]
     },
     "execution_count": 202,
     "metadata": {},
     "output_type": "execute_result"
    }
   ],
   "source": [
    "%%sql -- get md5 hash of results table (to validate transfer)\n",
    "select md5(cast((array_agg(f.* order by id)) as text)) from results f;"
   ]
  },
  {
   "cell_type": "code",
   "execution_count": 201,
   "metadata": {},
   "outputs": [
    {
     "name": "stdout",
     "output_type": "stream",
     "text": [
      " * postgresql://postgres@localhost:3333/postgres\n",
      "1 rows affected.\n",
      " * postgresql://postgres@localhost:3333/postgres\n",
      "1 rows affected.\n",
      " * postgresql://postgres@localhost:3333/postgres\n",
      "1 rows affected.\n",
      " * postgresql://postgres@localhost:3333/postgres\n",
      "1 rows affected.\n",
      "average time per job: 0:01:33.808421\n",
      "est remaining time: 0:00:00\n"
     ]
    }
   ],
   "source": [
    "#Estimate time until completion of all jobs\n",
    "\n",
    "totTime = %sql select now() - min(started) from jobs;\n",
    "completedJobs = %sql select count(*) from jobs where status = 'completed';\n",
    "timeoutJobs = %sql select count(*) from jobs where status like 'failed%';\n",
    "newJobs = %sql select count(*) from jobs where status = 'new';\n",
    "avgJobTime = totTime[0][0] / (completedJobs[0][0] + timeoutJobs[0][0])\n",
    "print(\"average time per job: \" + str(avgJobTime))\n",
    "print(\"est remaining time: \" + str(avgJobTime * newJobs[0][0]))"
   ]
  },
  {
   "cell_type": "code",
   "execution_count": 186,
   "metadata": {},
   "outputs": [
    {
     "name": "stdout",
     "output_type": "stream",
     "text": [
      " * postgresql://postgres@localhost:3333/postgres\n",
      "2 rows affected.\n"
     ]
    },
    {
     "data": {
      "text/html": [
       "<table>\n",
       "    <tr>\n",
       "        <th>count</th>\n",
       "        <th>substring</th>\n",
       "    </tr>\n",
       "    <tr>\n",
       "        <td>18</td>\n",
       "        <td>failed: Non-zero exit code. StdErr: <br>Exception in thread &quot;main&quot; java.lang.OutOfMemoryError: Java hea</td>\n",
       "    </tr>\n",
       "    <tr>\n",
       "        <td>17</td>\n",
       "        <td>failed: Subprocess Timeout</td>\n",
       "    </tr>\n",
       "</table>"
      ],
      "text/plain": [
       "[(18, 'failed: Non-zero exit code. StdErr: \\nException in thread \"main\" java.lang.OutOfMemoryError: Java hea'),\n",
       " (17, 'failed: Subprocess Timeout')]"
      ]
     },
     "execution_count": 186,
     "metadata": {},
     "output_type": "execute_result"
    }
   ],
   "source": [
    "%%sql \n",
    "select count(*),substring(status from 1 for 100) from jobs where jobs.status like 'failed%' group by substring(status from 1 for 100)\n"
   ]
  },
  {
   "cell_type": "markdown",
   "metadata": {},
   "source": [
    "Print jobs and statuses"
   ]
  },
  {
   "cell_type": "code",
   "execution_count": 180,
   "metadata": {},
   "outputs": [
    {
     "name": "stdout",
     "output_type": "stream",
     "text": [
      " * postgresql://postgres@localhost:3333/postgres\n",
      "10 rows affected.\n"
     ]
    },
    {
     "data": {
      "text/html": [
       "<table>\n",
       "    <tr>\n",
       "        <th>owner</th>\n",
       "        <th>jobcount</th>\n",
       "    </tr>\n",
       "    <tr>\n",
       "        <td>Linux Loki 5.15.0-60-generic #66-Ubuntu SMP Fri Jan 20 14:29:49 UTC 2023 x86_64 x86_64 x86_64 GNU/Linux hostname: Loki<br> uuid: 845ab3a8-ae10-472e-9b67-64a91be95b57</td>\n",
       "        <td>1</td>\n",
       "    </tr>\n",
       "    <tr>\n",
       "        <td>Linux Historia3 5.15.0-67-generic #74-Ubuntu SMP Wed Feb 22 14:14:39 UTC 2023 x86_64 x86_64 x86_64 GNU/Linux hostname: Historia3<br> uuid: 268fd0aa-e185-4adf-b807-476571dae6e1</td>\n",
       "        <td>1</td>\n",
       "    </tr>\n",
       "    <tr>\n",
       "        <td>Linux Historia3 5.15.0-67-generic #74-Ubuntu SMP Wed Feb 22 14:14:39 UTC 2023 x86_64 x86_64 x86_64 GNU/Linux hostname: Historia3<br> uuid: 4e682c64-2c02-491a-a254-7ae0b724b99a</td>\n",
       "        <td>1</td>\n",
       "    </tr>\n",
       "    <tr>\n",
       "        <td>Linux Historia3 5.15.0-67-generic #74-Ubuntu SMP Wed Feb 22 14:14:39 UTC 2023 x86_64 x86_64 x86_64 GNU/Linux hostname: Historia3<br> uuid: ae12c187-24ff-4019-ab85-6fa421cb87b0</td>\n",
       "        <td>1</td>\n",
       "    </tr>\n",
       "    <tr>\n",
       "        <td>Linux historia 5.15.0-67-generic #74-Ubuntu SMP Wed Feb 22 14:14:39 UTC 2023 x86_64 x86_64 x86_64 GNU/Linux hostname: historia<br> uuid: 5fe6c467-a67c-497b-8b74-f6a20a7498f5</td>\n",
       "        <td>1</td>\n",
       "    </tr>\n",
       "    <tr>\n",
       "        <td>Linux historia 5.15.0-67-generic #74-Ubuntu SMP Wed Feb 22 14:14:39 UTC 2023 x86_64 x86_64 x86_64 GNU/Linux hostname: historia<br> uuid: 603ef70c-2dc5-4d3c-8f31-4c4ec9d04385</td>\n",
       "        <td>1</td>\n",
       "    </tr>\n",
       "    <tr>\n",
       "        <td>Linux historia2-2 5.15.0-67-generic #74-Ubuntu SMP Wed Feb 22 14:14:39 UTC 2023 x86_64 x86_64 x86_64 GNU/Linux hostname: historia2-2<br> uuid: 3a2e253b-64f9-4fdc-a841-0bbc9258b880</td>\n",
       "        <td>1</td>\n",
       "    </tr>\n",
       "    <tr>\n",
       "        <td>Linux Loki 5.15.0-60-generic #66-Ubuntu SMP Fri Jan 20 14:29:49 UTC 2023 x86_64 x86_64 x86_64 GNU/Linux hostname: Loki<br> uuid: 65c6ca95-8920-4eb4-ac59-b10eaf8df8f8</td>\n",
       "        <td>2</td>\n",
       "    </tr>\n",
       "    <tr>\n",
       "        <td>Linux historia 5.15.0-67-generic #74-Ubuntu SMP Wed Feb 22 14:14:39 UTC 2023 x86_64 x86_64 x86_64 GNU/Linux hostname: historia<br> uuid: ff139dcd-e65d-41af-a1a2-65e48a18c24a</td>\n",
       "        <td>2</td>\n",
       "    </tr>\n",
       "    <tr>\n",
       "        <td>Linux Loki 5.15.0-60-generic #66-Ubuntu SMP Fri Jan 20 14:29:49 UTC 2023 x86_64 x86_64 x86_64 GNU/Linux hostname: Loki<br> uuid: 793e8b81-1185-4a4c-bcf7-a24b63b54013</td>\n",
       "        <td>3</td>\n",
       "    </tr>\n",
       "</table>"
      ],
      "text/plain": [
       "[('Linux Loki 5.15.0-60-generic #66-Ubuntu SMP Fri Jan 20 14:29:49 UTC 2023 x86_64 x86_64 x86_64 GNU/Linux hostname: Loki\\n uuid: 845ab3a8-ae10-472e-9b67-64a91be95b57', 1),\n",
       " ('Linux Historia3 5.15.0-67-generic #74-Ubuntu SMP Wed Feb 22 14:14:39 UTC 2023 x86_64 x86_64 x86_64 GNU/Linux hostname: Historia3\\n uuid: 268fd0aa-e185-4adf-b807-476571dae6e1', 1),\n",
       " ('Linux Historia3 5.15.0-67-generic #74-Ubuntu SMP Wed Feb 22 14:14:39 UTC 2023 x86_64 x86_64 x86_64 GNU/Linux hostname: Historia3\\n uuid: 4e682c64-2c02-491a-a254-7ae0b724b99a', 1),\n",
       " ('Linux Historia3 5.15.0-67-generic #74-Ubuntu SMP Wed Feb 22 14:14:39 UTC 2023 x86_64 x86_64 x86_64 GNU/Linux hostname: Historia3\\n uuid: ae12c187-24ff-4019-ab85-6fa421cb87b0', 1),\n",
       " ('Linux historia 5.15.0-67-generic #74-Ubuntu SMP Wed Feb 22 14:14:39 UTC 2023 x86_64 x86_64 x86_64 GNU/Linux hostname: historia\\n uuid: 5fe6c467-a67c-497b-8b74-f6a20a7498f5', 1),\n",
       " ('Linux historia 5.15.0-67-generic #74-Ubuntu SMP Wed Feb 22 14:14:39 UTC 2023 x86_64 x86_64 x86_64 GNU/Linux hostname: historia\\n uuid: 603ef70c-2dc5-4d3c-8f31-4c4ec9d04385', 1),\n",
       " ('Linux historia2-2 5.15.0-67-generic #74-Ubuntu SMP Wed Feb 22 14:14:39 UTC 2023 x86_64 x86_64 x86_64 GNU/Linux hostname: historia2-2\\n uuid: 3a2e253b-64f9-4fdc-a841-0bbc9258b880', 1),\n",
       " ('Linux Loki 5.15.0-60-generic #66-Ubuntu SMP Fri Jan 20 14:29:49 UTC 2023 x86_64 x86_64 x86_64 GNU/Linux hostname: Loki\\n uuid: 65c6ca95-8920-4eb4-ac59-b10eaf8df8f8', 2),\n",
       " ('Linux historia 5.15.0-67-generic #74-Ubuntu SMP Wed Feb 22 14:14:39 UTC 2023 x86_64 x86_64 x86_64 GNU/Linux hostname: historia\\n uuid: ff139dcd-e65d-41af-a1a2-65e48a18c24a', 2),\n",
       " ('Linux Loki 5.15.0-60-generic #66-Ubuntu SMP Fri Jan 20 14:29:49 UTC 2023 x86_64 x86_64 x86_64 GNU/Linux hostname: Loki\\n uuid: 793e8b81-1185-4a4c-bcf7-a24b63b54013', 3)]"
      ]
     },
     "execution_count": 180,
     "metadata": {},
     "output_type": "execute_result"
    }
   ],
   "source": [
    "%%sql\n",
    "select owner,count(*) as jobcount from jobs where status ='completed' group by owner order by jobcount;"
   ]
  },
  {
   "cell_type": "code",
   "execution_count": 234,
   "metadata": {},
   "outputs": [
    {
     "name": "stdout",
     "output_type": "stream",
     "text": [
      " * postgresql://postgres@localhost:5433/postgres\n",
      "1 rows affected.\n"
     ]
    },
    {
     "data": {
      "text/html": [
       "<table>\n",
       "    <tr>\n",
       "        <th>loki</th>\n",
       "        <th>loan</th>\n",
       "        <th>zen3</th>\n",
       "        <th>cascadelake_r</th>\n",
       "    </tr>\n",
       "    <tr>\n",
       "        <td>None</td>\n",
       "        <td>None</td>\n",
       "        <td>0:01:15.268500</td>\n",
       "        <td>0:03:50.088182</td>\n",
       "    </tr>\n",
       "</table>"
      ],
      "text/plain": [
       "[(None, None, datetime.timedelta(seconds=75, microseconds=268500), datetime.timedelta(seconds=230, microseconds=88182))]"
      ]
     },
     "execution_count": 234,
     "metadata": {},
     "output_type": "execute_result"
    }
   ],
   "source": [
    "%%sql\n",
    "select \n",
    "  (select avg(ended - started) from jobs where owner like '%Loki%' and status = 'completed') as Loki,\n",
    "    (select avg(ended - started) from jobs where owner like '%Loan%' and status = 'completed') as Loan,\n",
    "    (select avg(ended - started) from jobs where owner like '% historia %' and status = 'completed') as zen3,\n",
    "    (select avg(ended - started) from jobs where owner not like '% historia %' and status = 'completed') as cascadelake_r"
   ]
  },
  {
   "cell_type": "code",
   "execution_count": 235,
   "metadata": {
    "tags": []
   },
   "outputs": [
    {
     "name": "stdout",
     "output_type": "stream",
     "text": [
      " * postgresql://postgres@localhost:5433/postgres\n",
      "0 rows affected.\n"
     ]
    }
   ],
   "source": [
    "# find exceptions\n",
    "#%%sql \n",
    "#select replace(cast(stderr as varchar),'$','\\$') from jobs where stderr like '%Exception%' limit 1;\n",
    "outs = %sql select stderr,config from jobs where stderr like '%Exception%' and stderr not like '%OutOfMemory%' order by random() limit 1;\n",
    "for out in outs:\n",
    "    print(out[1])\n",
    "    print(out[0])\n"
   ]
  },
  {
   "cell_type": "code",
   "execution_count": 236,
   "metadata": {},
   "outputs": [
    {
     "name": "stdout",
     "output_type": "stream",
     "text": [
      " * postgresql://postgres@localhost:5433/postgres\n",
      "1 rows affected.\n"
     ]
    },
    {
     "data": {
      "text/html": [
       "<table>\n",
       "    <tr>\n",
       "        <th>result</th>\n",
       "        <th>category</th>\n",
       "        <th>count</th>\n",
       "    </tr>\n",
       "    <tr>\n",
       "        <td>&quot;\\&quot;Unreachable\\&quot;&quot;</td>\n",
       "        <td>&quot;Disallow.I_CIEnter_AsyncTaskexecute&quot;</td>\n",
       "        <td>12</td>\n",
       "    </tr>\n",
       "</table>"
      ],
      "text/plain": [
       "[('\"\\\\\"Unreachable\\\\\"\"', '\"Disallow.I_CIEnter_AsyncTaskexecute\"', 12)]"
      ]
     },
     "execution_count": 236,
     "metadata": {},
     "output_type": "execute_result"
    }
   ],
   "source": [
    "%%sql -- look at results by tag\n",
    "select cast(results.result::json->'summary' as varchar) as result, \n",
    "    cast(jobs.config::json->'tag'->'heuristicType' as varchar) as category, \n",
    "    count(*)\n",
    "    from results inner join jobs on results.jobid=jobs.id where cast(jobs.config::json->'tag'->'heuristicType' as varchar)  like '%execute%'\n",
    "    group by cast(results.result::json->'summary' as varchar),\n",
    "    cast(jobs.config::json->'tag'->'heuristicType' as varchar)"
   ]
  },
  {
   "cell_type": "code",
   "execution_count": 237,
   "metadata": {},
   "outputs": [
    {
     "name": "stdout",
     "output_type": "stream",
     "text": [
      " * postgresql://postgres@localhost:5433/postgres\n",
      "1 rows affected.\n"
     ]
    },
    {
     "data": {
      "text/html": [
       "<table>\n",
       "    <tr>\n",
       "        <th>count</th>\n",
       "        <th>varchar</th>\n",
       "    </tr>\n",
       "    <tr>\n",
       "        <td>1</td>\n",
       "        <td>&quot;\\&quot;Unreachable\\&quot;&quot;</td>\n",
       "    </tr>\n",
       "</table>"
      ],
      "text/plain": [
       "[(1, '\"\\\\\"Unreachable\\\\\"\"')]"
      ]
     },
     "execution_count": 237,
     "metadata": {},
     "output_type": "execute_result"
    }
   ],
   "source": [
    "%%sql -- results of SensitiveDerefFieldCausedSynch count\n",
    "select count(*),cast(results.result::json->'summary' as varchar) from jobs inner join results on jobs.id=results.jobid \n",
    "where cast(jobs.config::json->'tag'->'heuristicType' as varchar) like '%SensitiveDerefFieldCausedSynch%' \n",
    "group by cast(results.result::json->'summary' as varchar)\n"
   ]
  },
  {
   "cell_type": "code",
   "execution_count": 238,
   "metadata": {},
   "outputs": [
    {
     "name": "stdout",
     "output_type": "stream",
     "text": [
      " * postgresql://postgres@localhost:5433/postgres\n",
      "1 rows affected.\n"
     ]
    }
   ],
   "source": [
    "cfg = %sql select jobs.config from jobs inner join results on jobs.id=results.jobid where cast(jobs.config::json->'tag'->'heuristicType' as varchar) like '%SensitiveDerefFieldCausedSynch%'  and cast(results.result::json->'summary' as varchar) like '%Unreach%'"
   ]
  },
  {
   "cell_type": "code",
   "execution_count": 51,
   "metadata": {},
   "outputs": [
    {
     "data": {
      "text/plain": [
       "'{\"apkPath\":\"${baseDir}/fdroid/org.sipdroid.sipua/6.3beta/apk/org.sipdroid.sipua_134.apk\",\"outFolder\":[\"${baseDirOut}/org.sipdroid.sipua\"],\"specSet\":\"{\\\\\"specs\\\\\":[],\\\\\"disallow\\\\\":[{\\\\\"univQuant\\\\\":[{\\\\\"$type\\\\\":\\\\\"edu.colorado.plv.bounder.symbolicexecutor.state.NamedPureVar\\\\\",\\\\\"n\\\\\":\\\\\"a\\\\\"},{\\\\\"$type\\\\\":\\\\\"edu.colorado.plv.bounder.symbolicexecutor.state.NamedPureVar\\\\\",\\\\\"n\\\\\":\\\\\"f\\\\\"}],\\\\\"existQuant\\\\\":[],\\\\\"pred\\\\\":{\\\\\"$type\\\\\":\\\\\"edu.colorado.plv.bounder.lifestate.LifeState.Or\\\\\",\\\\\"l1\\\\\":{\\\\\"$type\\\\\":\\\\\"edu.colorado.plv.bounder.lifestate.LifeState.NS\\\\\",\\\\\"i1\\\\\":{\\\\\"$type\\\\\":\\\\\"edu.colorado.plv.bounder.lifestate.LifeState.OAbsMsg\\\\\",\\\\\"mt\\\\\":{\\\\\"$type\\\\\":\\\\\"edu.colorado.plv.bounder.ir.CBExit\\\\\"},\\\\\"signatures\\\\\":{\\\\\"$type\\\\\":\\\\\"edu.colorado.plv.bounder.lifestate.LifeState.SubClassMatcher\\\\\",\\\\\"baseSubtypeOf\\\\\":[\\\\\"android.app.Fragment\\\\\",\\\\\"androidx.fragment.app.Fragment\\\\\",\\\\\"android.support.v4.app.Fragment\\\\\"],\\\\\"signatureMatcher\\\\\":\\\\\"void onDestroy\\\\\\\\\\\\\\\\(\\\\\\\\\\\\\\\\)\\\\\",\\\\\"ident\\\\\":\\\\\"Fragment_onDestroy\\\\\"},\\\\\"lsVars\\\\\":[{\\\\\"$type\\\\\":\\\\\"edu.colorado.plv.bounder.symbolicexecutor.state.TopVal\\\\\"},{\\\\\"$type\\\\\":\\\\\"edu.colorado.plv.bounder.symbolicexecutor.state.NamedPureVar\\\\\",\\\\\"n\\\\\":\\\\\"f\\\\\"}]},\\\\\"i2\\\\\":{\\\\\"$type\\\\\":\\\\\"edu.colorado.plv.bounder.lifestate.LifeState.OAbsMsg\\\\\",\\\\\"mt\\\\\":{\\\\\"$type\\\\\":\\\\\"edu.colorado.plv.bounder.ir.CBEnter\\\\\"},\\\\\"signatures\\\\\":{\\\\\"$type\\\\\":\\\\\"edu.colorado.plv.bounder.lifestate.LifeState.SubClassMatcher\\\\\",\\\\\"baseSubtypeOf\\\\\":[\\\\\"android.app.Fragment\\\\\",\\\\\"androidx.fragment.app.Fragment\\\\\",\\\\\"android.support.v4.app.Fragment\\\\\"],\\\\\"signatureMatcher\\\\\":\\\\\"void onActivityCreated\\\\\\\\\\\\\\\\(android.os.Bundle\\\\\\\\\\\\\\\\)\\\\\",\\\\\"ident\\\\\":\\\\\"Fragment_onActivityCreated\\\\\"},\\\\\"lsVars\\\\\":[{\\\\\"$type\\\\\":\\\\\"edu.colorado.plv.bounder.symbolicexecutor.state.TopVal\\\\\"},{\\\\\"$type\\\\\":\\\\\"edu.colorado.plv.bounder.symbolicexecutor.state.NamedPureVar\\\\\",\\\\\"n\\\\\":\\\\\"f\\\\\"}]}},\\\\\"l2\\\\\":{\\\\\"$type\\\\\":\\\\\"edu.colorado.plv.bounder.lifestate.LifeState.Not\\\\\",\\\\\"p\\\\\":{\\\\\"$type\\\\\":\\\\\"edu.colorado.plv.bounder.lifestate.LifeState.OAbsMsg\\\\\",\\\\\"mt\\\\\":{\\\\\"$type\\\\\":\\\\\"edu.colorado.plv.bounder.ir.CBEnter\\\\\"},\\\\\"signatures\\\\\":{\\\\\"$type\\\\\":\\\\\"edu.colorado.plv.bounder.lifestate.LifeState.SubClassMatcher\\\\\",\\\\\"baseSubtypeOf\\\\\":[\\\\\"android.app.Fragment\\\\\",\\\\\"androidx.fragment.app.Fragment\\\\\",\\\\\"android.support.v4.app.Fragment\\\\\"],\\\\\"signatureMatcher\\\\\":\\\\\"void onActivityCreated\\\\\\\\\\\\\\\\(android.os.Bundle\\\\\\\\\\\\\\\\)\\\\\",\\\\\"ident\\\\\":\\\\\"Fragment_onActivityCreated\\\\\"},\\\\\"lsVars\\\\\":[{\\\\\"$type\\\\\":\\\\\"edu.colorado.plv.bounder.symbolicexecutor.state.TopVal\\\\\"},{\\\\\"$type\\\\\":\\\\\"edu.colorado.plv.bounder.symbolicexecutor.state.NamedPureVar\\\\\",\\\\\"n\\\\\":\\\\\"f\\\\\"}]}}},\\\\\"target\\\\\":{\\\\\"$type\\\\\":\\\\\"edu.colorado.plv.bounder.lifestate.LifeState.OAbsMsg\\\\\",\\\\\"mt\\\\\":{\\\\\"$type\\\\\":\\\\\"edu.colorado.plv.bounder.ir.CIExit\\\\\"},\\\\\"signatures\\\\\":{\\\\\"$type\\\\\":\\\\\"edu.colorado.plv.bounder.lifestate.LifeState.SubClassMatcher\\\\\",\\\\\"baseSubtypeOf\\\\\":[\\\\\"android.app.Fragment\\\\\",\\\\\"androidx.fragment.app.Fragment\\\\\",\\\\\"android.support.v4.app.Fragment\\\\\"],\\\\\"signatureMatcher\\\\\":\\\\\".*Activity getActivity\\\\\\\\\\\\\\\\(\\\\\\\\\\\\\\\\)\\\\\",\\\\\"ident\\\\\":\\\\\"Fragment_getActivity\\\\\"},\\\\\"lsVars\\\\\":[{\\\\\"$type\\\\\":\\\\\"edu.colorado.plv.bounder.symbolicexecutor.state.NamedPureVar\\\\\",\\\\\"n\\\\\":\\\\\"a\\\\\"},{\\\\\"$type\\\\\":\\\\\"edu.colorado.plv.bounder.symbolicexecutor.state.NamedPureVar\\\\\",\\\\\"n\\\\\":\\\\\"f\\\\\"}]},\\\\\"rhsConstraints\\\\\":[{\\\\\"$type\\\\\":\\\\\"edu.colorado.plv.bounder.lifestate.LifeState.LSConstraint\\\\\",\\\\\"v1\\\\\":{\\\\\"$type\\\\\":\\\\\"edu.colorado.plv.bounder.symbolicexecutor.state.NamedPureVar\\\\\",\\\\\"n\\\\\":\\\\\"a\\\\\"},\\\\\"op\\\\\":{\\\\\"$type\\\\\":\\\\\"edu.colorado.plv.bounder.symbolicexecutor.state.Equals\\\\\"},\\\\\"v2\\\\\":{\\\\\"$type\\\\\":\\\\\"edu.colorado.plv.bounder.symbolicexecutor.state.NullVal\\\\\"}}]},{\\\\\"univQuant\\\\\":[{\\\\\"$type\\\\\":\\\\\"edu.colorado.plv.bounder.symbolicexecutor.state.NamedPureVar\\\\\",\\\\\"n\\\\\":\\\\\"t\\\\\"}],\\\\\"existQuant\\\\\":[],\\\\\"pred\\\\\":{\\\\\"$type\\\\\":\\\\\"edu.colorado.plv.bounder.lifestate.LifeState.OAbsMsg\\\\\",\\\\\"mt\\\\\":{\\\\\"$type\\\\\":\\\\\"edu.colorado.plv.bounder.ir.CIExit\\\\\"},\\\\\"signatures\\\\\":{\\\\\"$type\\\\\":\\\\\"edu.colorado.plv.bounder.lifestate.LifeState.SubClassMatcher\\\\\",\\\\\"baseSubtypeOf\\\\\":[\\\\\"android.os.AsyncTask\\\\\"],\\\\\"signatureMatcher\\\\\":\\\\\".*AsyncTask execute\\\\\\\\\\\\\\\\(.*\\\\\\\\\\\\\\\\)\\\\\",\\\\\"ident\\\\\":\\\\\"AsyncTask_execute\\\\\"},\\\\\"lsVars\\\\\":[{\\\\\"$type\\\\\":\\\\\"edu.colorado.plv.bounder.symbolicexecutor.state.TopVal\\\\\"},{\\\\\"$type\\\\\":\\\\\"edu.colorado.plv.bounder.symbolicexecutor.state.NamedPureVar\\\\\",\\\\\"n\\\\\":\\\\\"t\\\\\"}]},\\\\\"target\\\\\":{\\\\\"$type\\\\\":\\\\\"edu.colorado.plv.bounder.lifestate.LifeState.OAbsMsg\\\\\",\\\\\"mt\\\\\":{\\\\\"$type\\\\\":\\\\\"edu.colorado.plv.bounder.ir.CIEnter\\\\\"},\\\\\"signatures\\\\\":{\\\\\"$type\\\\\":\\\\\"edu.colorado.plv.bounder.lifestate.LifeState.SubClassMatcher\\\\\",\\\\\"baseSubtypeOf\\\\\":[\\\\\"android.os.AsyncTask\\\\\"],\\\\\"signatureMatcher\\\\\":\\\\\".*AsyncTask execute\\\\\\\\\\\\\\\\(.*\\\\\\\\\\\\\\\\)\\\\\",\\\\\"ident\\\\\":\\\\\"AsyncTask_execute\\\\\"},\\\\\"lsVars\\\\\":[{\\\\\"$type\\\\\":\\\\\"edu.colorado.plv.bounder.symbolicexecutor.state.TopVal\\\\\"},{\\\\\"$type\\\\\":\\\\\"edu.colorado.plv.bounder.symbolicexecutor.state.NamedPureVar\\\\\",\\\\\"n\\\\\":\\\\\"t\\\\\"}]}},{\\\\\"univQuant\\\\\":[{\\\\\"$type\\\\\":\\\\\"edu.colorado.plv.bounder.symbolicexecutor.state.NamedPureVar\\\\\",\\\\\"n\\\\\":\\\\\"d\\\\\"}],\\\\\"existQuant\\\\\":[{\\\\\"$type\\\\\":\\\\\"edu.colorado.plv.bounder.symbolicexecutor.state.NamedPureVar\\\\\",\\\\\"n\\\\\":\\\\\"a\\\\\"}],\\\\\"pred\\\\\":{\\\\\"$type\\\\\":\\\\\"edu.colorado.plv.bounder.lifestate.LifeState.And\\\\\",\\\\\"l1\\\\\":{\\\\\"$type\\\\\":\\\\\"edu.colorado.plv.bounder.lifestate.LifeState.OAbsMsg\\\\\",\\\\\"mt\\\\\":{\\\\\"$type\\\\\":\\\\\"edu.colorado.plv.bounder.ir.CIExit\\\\\"},\\\\\"signatures\\\\\":{\\\\\"$type\\\\\":\\\\\"edu.colorado.plv.bounder.lifestate.LifeState.SubClassMatcher\\\\\",\\\\\"baseSubtypeOf\\\\\":[\\\\\"android.app.ProgressDialog\\\\\",\\\\\"android.app.Dialog\\\\\"],\\\\\"signatureMatcher\\\\\":\\\\\".*show.*\\\\\",\\\\\"ident\\\\\":\\\\\"Dialog_show\\\\\"},\\\\\"lsVars\\\\\":[{\\\\\"$type\\\\\":\\\\\"edu.colorado.plv.bounder.symbolicexecutor.state.NamedPureVar\\\\\",\\\\\"n\\\\\":\\\\\"d\\\\\"},{\\\\\"$type\\\\\":\\\\\"edu.colorado.plv.bounder.symbolicexecutor.state.TopVal\\\\\"},{\\\\\"$type\\\\\":\\\\\"edu.colorado.plv.bounder.symbolicexecutor.state.NamedPureVar\\\\\",\\\\\"n\\\\\":\\\\\"a\\\\\"}]},\\\\\"l2\\\\\":{\\\\\"$type\\\\\":\\\\\"edu.colorado.plv.bounder.lifestate.LifeState.Or\\\\\",\\\\\"l1\\\\\":{\\\\\"$type\\\\\":\\\\\"edu.colorado.plv.bounder.lifestate.LifeState.Not\\\\\",\\\\\"p\\\\\":{\\\\\"$type\\\\\":\\\\\"edu.colorado.plv.bounder.lifestate.LifeState.OAbsMsg\\\\\",\\\\\"mt\\\\\":{\\\\\"$type\\\\\":\\\\\"edu.colorado.plv.bounder.ir.CBEnter\\\\\"},\\\\\"signatures\\\\\":{\\\\\"$type\\\\\":\\\\\"edu.colorado.plv.bounder.lifestate.LifeState.SubClassMatcher\\\\\",\\\\\"baseSubtypeOf\\\\\":[\\\\\"android.app.Activity\\\\\",\\\\\"androidx.fragment.app.FragmentActivity\\\\\"],\\\\\"signatureMatcher\\\\\":\\\\\"void onResume\\\\\\\\\\\\\\\\(\\\\\\\\\\\\\\\\)\\\\\",\\\\\"ident\\\\\":\\\\\"Activity_onResume\\\\\"},\\\\\"lsVars\\\\\":[{\\\\\"$type\\\\\":\\\\\"edu.colorado.plv.bounder.symbolicexecutor.state.TopVal\\\\\"},{\\\\\"$type\\\\\":\\\\\"edu.colorado.plv.bounder.symbolicexecutor.state.NamedPureVar\\\\\",\\\\\"n\\\\\":\\\\\"a\\\\\"}]}},\\\\\"l2\\\\\":{\\\\\"$type\\\\\":\\\\\"edu.colorado.plv.bounder.lifestate.LifeState.NS\\\\\",\\\\\"i1\\\\\":{\\\\\"$type\\\\\":\\\\\"edu.colorado.plv.bounder.lifestate.LifeState.OAbsMsg\\\\\",\\\\\"mt\\\\\":{\\\\\"$type\\\\\":\\\\\"edu.colorado.plv.bounder.ir.CBExit\\\\\"},\\\\\"signatures\\\\\":{\\\\\"$type\\\\\":\\\\\"edu.colorado.plv.bounder.lifestate.LifeState.SubClassMatcher\\\\\",\\\\\"baseSubtypeOf\\\\\":[\\\\\"android.app.Activity\\\\\",\\\\\"androidx.fragment.app.FragmentActivity\\\\\"],\\\\\"signatureMatcher\\\\\":\\\\\"void onPause\\\\\\\\\\\\\\\\(\\\\\\\\\\\\\\\\)\\\\\",\\\\\"ident\\\\\":\\\\\"Activity_onPause\\\\\"},\\\\\"lsVars\\\\\":[{\\\\\"$type\\\\\":\\\\\"edu.colorado.plv.bounder.symbolicexecutor.state.TopVal\\\\\"},{\\\\\"$type\\\\\":\\\\\"edu.colorado.plv.bounder.symbolicexecutor.state.NamedPureVar\\\\\",\\\\\"n\\\\\":\\\\\"a\\\\\"}]},\\\\\"i2\\\\\":{\\\\\"$type\\\\\":\\\\\"edu.colorado.plv.bounder.lifestate.LifeState.OAbsMsg\\\\\",\\\\\"mt\\\\\":{\\\\\"$type\\\\\":\\\\\"edu.colorado.plv.bounder.ir.CBEnter\\\\\"},\\\\\"signatures\\\\\":{\\\\\"$type\\\\\":\\\\\"edu.colorado.plv.bounder.lifestate.LifeState.SubClassMatcher\\\\\",\\\\\"baseSubtypeOf\\\\\":[\\\\\"android.app.Activity\\\\\",\\\\\"androidx.fragment.app.FragmentActivity\\\\\"],\\\\\"signatureMatcher\\\\\":\\\\\"void onResume\\\\\\\\\\\\\\\\(\\\\\\\\\\\\\\\\)\\\\\",\\\\\"ident\\\\\":\\\\\"Activity_onResume\\\\\"},\\\\\"lsVars\\\\\":[{\\\\\"$type\\\\\":\\\\\"edu.colorado.plv.bounder.symbolicexecutor.state.TopVal\\\\\"},{\\\\\"$type\\\\\":\\\\\"edu.colorado.plv.bounder.symbolicexecutor.state.NamedPureVar\\\\\",\\\\\"n\\\\\":\\\\\"a\\\\\"}]}}}},\\\\\"target\\\\\":{\\\\\"$type\\\\\":\\\\\"edu.colorado.plv.bounder.lifestate.LifeState.OAbsMsg\\\\\",\\\\\"mt\\\\\":{\\\\\"$type\\\\\":\\\\\"edu.colorado.plv.bounder.ir.CIEnter\\\\\"},\\\\\"signatures\\\\\":{\\\\\"$type\\\\\":\\\\\"edu.colorado.plv.bounder.lifestate.LifeState.SubClassMatcher\\\\\",\\\\\"baseSubtypeOf\\\\\":[\\\\\"android.app.ProgressDialog\\\\\",\\\\\"android.app.Dialog\\\\\"],\\\\\"signatureMatcher\\\\\":\\\\\"void dismiss\\\\\\\\\\\\\\\\(\\\\\\\\\\\\\\\\)\\\\\",\\\\\"ident\\\\\":\\\\\"Dialog_dismiss\\\\\"},\\\\\"lsVars\\\\\":[{\\\\\"$type\\\\\":\\\\\"edu.colorado.plv.bounder.symbolicexecutor.state.TopVal\\\\\"},{\\\\\"$type\\\\\":\\\\\"edu.colorado.plv.bounder.symbolicexecutor.state.NamedPureVar\\\\\",\\\\\"n\\\\\":\\\\\"d\\\\\"}]}}]}\",\"initialQuery\":[{\"methodName\":\"void run()\",\"line\":533,\"t\":\"ReceiverNonNull\",\"matcher\":\"org.sipdroid.net.SipdroidSocket getDatagramSocket()\",\"className\":\"org.sipdroid.media.RtpStreamSender\"}],\"tag\":{\"heuristicType\":\"SensitiveDerefFieldCausedSynch\"},\"timeLimit\":900,\"configPath\":[\"/tmp/270335928576313844\"]}'"
      ]
     },
     "execution_count": 52,
     "metadata": {},
     "output_type": "execute_result"
    }
   ],
   "source": [
    "cfg[2][0]"
   ]
  },
  {
   "cell_type": "code",
   "execution_count": 239,
   "metadata": {},
   "outputs": [
    {
     "name": "stdout",
     "output_type": "stream",
     "text": [
      " * postgresql://postgres@localhost:5433/postgres\n",
      "11 rows affected.\n"
     ]
    },
    {
     "data": {
      "text/html": [
       "<table>\n",
       "    <tr>\n",
       "        <th>summary</th>\n",
       "        <th>benchmark</th>\n",
       "        <th>count</th>\n",
       "    </tr>\n",
       "    <tr>\n",
       "        <td>&quot;\\&quot;Unreachable\\&quot;&quot;</td>\n",
       "        <td>&quot;${baseDir}/fdroid/com.android.keepass/2.6.8/apk/com.android.keepass_215.apk&quot;</td>\n",
       "        <td>1</td>\n",
       "    </tr>\n",
       "    <tr>\n",
       "        <td>&quot;\\&quot;Unreachable\\&quot;&quot;</td>\n",
       "        <td>&quot;${baseDir}/fdroid/com.gpl.rpg.AndorsTrail/0.8.3/apk/com.gpl.rpg.AndorsTrail_67.apk&quot;</td>\n",
       "        <td>1</td>\n",
       "    </tr>\n",
       "    <tr>\n",
       "        <td>&quot;\\&quot;Unreachable\\&quot;&quot;</td>\n",
       "        <td>&quot;${baseDir}/fdroid/com.owncloud.android/3.0.1/apk/com.owncloud.android_30000001.apk&quot;</td>\n",
       "        <td>1</td>\n",
       "    </tr>\n",
       "    <tr>\n",
       "        <td>&quot;\\&quot;Unreachable\\&quot;&quot;</td>\n",
       "        <td>&quot;${baseDir}/fdroid/com.shatteredpixel.shatteredpixeldungeon/1.4.3/apk/com.shatteredpixel.shatteredpixeldungeon_668.apk&quot;</td>\n",
       "        <td>1</td>\n",
       "    </tr>\n",
       "    <tr>\n",
       "        <td>&quot;\\&quot;Unreachable\\&quot;&quot;</td>\n",
       "        <td>&quot;${baseDir}/fdroid/de.blinkt.openvpn/0.7.43/apk/de.blinkt.openvpn_198.apk&quot;</td>\n",
       "        <td>1</td>\n",
       "    </tr>\n",
       "    <tr>\n",
       "        <td>&quot;\\&quot;Unreachable\\&quot;&quot;</td>\n",
       "        <td>&quot;${baseDir}/fdroid/de.markusfisch.android.wavelines/1.13.2/apk/de.markusfisch.android.wavelines_22.apk&quot;</td>\n",
       "        <td>1</td>\n",
       "    </tr>\n",
       "    <tr>\n",
       "        <td>&quot;\\&quot;Unreachable\\&quot;&quot;</td>\n",
       "        <td>&quot;${baseDir}/fdroid/dev.ukanth.ufirewall/3.5.3/apk/dev.ukanth.ufirewall_20220615.apk&quot;</td>\n",
       "        <td>6</td>\n",
       "    </tr>\n",
       "    <tr>\n",
       "        <td>&quot;\\&quot;Witnessed\\&quot;&quot;</td>\n",
       "        <td>&quot;${baseDir}/fdroid/net.wigle.wigleandroid/2.63/apk/net.wigle.wigleandroid_263.apk&quot;</td>\n",
       "        <td>1</td>\n",
       "    </tr>\n",
       "    <tr>\n",
       "        <td>&quot;\\&quot;Witnessed\\&quot;&quot;</td>\n",
       "        <td>&quot;${baseDir}/fdroid/org.liberty.android.fantastischmemo/10.11.7/apk/org.liberty.android.fantastischmemo_237.apk&quot;</td>\n",
       "        <td>1</td>\n",
       "    </tr>\n",
       "    <tr>\n",
       "        <td>&quot;\\&quot;Unreachable\\&quot;&quot;</td>\n",
       "        <td>&quot;${baseDir}/fdroid/org.liberty.android.fantastischmemo/10.11.7/apk/org.liberty.android.fantastischmemo_237.apk&quot;</td>\n",
       "        <td>2</td>\n",
       "    </tr>\n",
       "    <tr>\n",
       "        <td>&quot;\\&quot;Unreachable\\&quot;&quot;</td>\n",
       "        <td>&quot;${baseDir}/fdroid/org.sufficientlysecure.keychain/5.8.2/apk/org.sufficientlysecure.keychain_58902.apk&quot;</td>\n",
       "        <td>1</td>\n",
       "    </tr>\n",
       "</table>"
      ],
      "text/plain": [
       "[('\"\\\\\"Unreachable\\\\\"\"', '\"${baseDir}/fdroid/com.android.keepass/2.6.8/apk/com.android.keepass_215.apk\"', 1),\n",
       " ('\"\\\\\"Unreachable\\\\\"\"', '\"${baseDir}/fdroid/com.gpl.rpg.AndorsTrail/0.8.3/apk/com.gpl.rpg.AndorsTrail_67.apk\"', 1),\n",
       " ('\"\\\\\"Unreachable\\\\\"\"', '\"${baseDir}/fdroid/com.owncloud.android/3.0.1/apk/com.owncloud.android_30000001.apk\"', 1),\n",
       " ('\"\\\\\"Unreachable\\\\\"\"', '\"${baseDir}/fdroid/com.shatteredpixel.shatteredpixeldungeon/1.4.3/apk/com.shatteredpixel.shatteredpixeldungeon_668.apk\"', 1),\n",
       " ('\"\\\\\"Unreachable\\\\\"\"', '\"${baseDir}/fdroid/de.blinkt.openvpn/0.7.43/apk/de.blinkt.openvpn_198.apk\"', 1),\n",
       " ('\"\\\\\"Unreachable\\\\\"\"', '\"${baseDir}/fdroid/de.markusfisch.android.wavelines/1.13.2/apk/de.markusfisch.android.wavelines_22.apk\"', 1),\n",
       " ('\"\\\\\"Unreachable\\\\\"\"', '\"${baseDir}/fdroid/dev.ukanth.ufirewall/3.5.3/apk/dev.ukanth.ufirewall_20220615.apk\"', 6),\n",
       " ('\"\\\\\"Witnessed\\\\\"\"', '\"${baseDir}/fdroid/net.wigle.wigleandroid/2.63/apk/net.wigle.wigleandroid_263.apk\"', 1),\n",
       " ('\"\\\\\"Witnessed\\\\\"\"', '\"${baseDir}/fdroid/org.liberty.android.fantastischmemo/10.11.7/apk/org.liberty.android.fantastischmemo_237.apk\"', 1),\n",
       " ('\"\\\\\"Unreachable\\\\\"\"', '\"${baseDir}/fdroid/org.liberty.android.fantastischmemo/10.11.7/apk/org.liberty.android.fantastischmemo_237.apk\"', 2),\n",
       " ('\"\\\\\"Unreachable\\\\\"\"', '\"${baseDir}/fdroid/org.sufficientlysecure.keychain/5.8.2/apk/org.sufficientlysecure.keychain_58902.apk\"', 1)]"
      ]
     },
     "execution_count": 239,
     "metadata": {},
     "output_type": "execute_result"
    }
   ],
   "source": [
    "%%sql\n",
    "select cast(results.result::json->'summary' as varchar) as summary, cast(jobs.config::json->'apkPath' as varchar) as benchmark,count(*) from results inner join jobs on jobs.id=results.jobid group by summary,benchmark order by benchmark,summary desc"
   ]
  },
  {
   "cell_type": "markdown",
   "metadata": {},
   "source": [
    "Get failing apks"
   ]
  },
  {
   "cell_type": "code",
   "execution_count": 240,
   "metadata": {},
   "outputs": [
    {
     "name": "stdout",
     "output_type": "stream",
     "text": [
      " * postgresql://postgres@localhost:5433/postgres\n",
      "0 rows affected.\n"
     ]
    },
    {
     "data": {
      "text/html": [
       "<table>\n",
       "    <tr>\n",
       "        <th>text</th>\n",
       "    </tr>\n",
       "</table>"
      ],
      "text/plain": [
       "[]"
      ]
     },
     "execution_count": 240,
     "metadata": {},
     "output_type": "execute_result"
    }
   ],
   "source": [
    "%%sql\n",
    "select cast(config::json->'apkPath' as text) from jobs \n",
    "        where stderr like '%Exception%' group by cast(config::json->'apkPath' as text) ;"
   ]
  },
  {
   "cell_type": "code",
   "execution_count": 241,
   "metadata": {},
   "outputs": [
    {
     "name": "stdout",
     "output_type": "stream",
     "text": [
      " * postgresql://postgres@localhost:5433/postgres\n",
      "49 rows affected.\n"
     ]
    },
    {
     "data": {
      "text/html": [
       "<table>\n",
       "    <tr>\n",
       "        <th>app</th>\n",
       "        <th>count</th>\n",
       "    </tr>\n",
       "    <tr>\n",
       "        <td>&quot;${baseDir}/fdroid/net.osmand.plus/4.3.8/apk/net.osmand.plus_4308.apk&quot;</td>\n",
       "        <td>285</td>\n",
       "    </tr>\n",
       "    <tr>\n",
       "        <td>&quot;${baseDir}/fdroid/org.sufficientlysecure.keychain/5.8.2/apk/org.sufficientlysecure.keychain_58902.apk&quot;</td>\n",
       "        <td>143</td>\n",
       "    </tr>\n",
       "    <tr>\n",
       "        <td>&quot;${baseDir}/fdroid/org.mariotaku.twidere/4.1.8/apk/org.mariotaku.twidere_517.apk&quot;</td>\n",
       "        <td>92</td>\n",
       "    </tr>\n",
       "    <tr>\n",
       "        <td>&quot;${baseDir}/fdroid/net.wigle.wigleandroid/2.63/apk/net.wigle.wigleandroid_263.apk&quot;</td>\n",
       "        <td>88</td>\n",
       "    </tr>\n",
       "    <tr>\n",
       "        <td>&quot;${baseDir}/fdroid/dev.ukanth.ufirewall/3.5.3/apk/dev.ukanth.ufirewall_20220615.apk&quot;</td>\n",
       "        <td>73</td>\n",
       "    </tr>\n",
       "    <tr>\n",
       "        <td>&quot;${baseDir}/fdroid/com.seafile.seadroid2/2.2.48/apk/com.seafile.seadroid2_123.apk&quot;</td>\n",
       "        <td>63</td>\n",
       "    </tr>\n",
       "    <tr>\n",
       "        <td>&quot;${baseDir}/fdroid/de.blau.android/18.1.1.0/apk/de.blau.android_2303.apk&quot;</td>\n",
       "        <td>59</td>\n",
       "    </tr>\n",
       "    <tr>\n",
       "        <td>&quot;${baseDir}/fdroid/org.liberty.android.fantastischmemo/10.11.7/apk/org.liberty.android.fantastischmemo_237.apk&quot;</td>\n",
       "        <td>56</td>\n",
       "    </tr>\n",
       "    <tr>\n",
       "        <td>&quot;${baseDir}/fdroid/de.blinkt.openvpn/0.7.43/apk/de.blinkt.openvpn_198.apk&quot;</td>\n",
       "        <td>44</td>\n",
       "    </tr>\n",
       "    <tr>\n",
       "        <td>&quot;${baseDir}/fdroid/com.ichi2.anki/2.15.6/apk/com.ichi2.anki_21506300.apk&quot;</td>\n",
       "        <td>41</td>\n",
       "    </tr>\n",
       "    <tr>\n",
       "        <td>&quot;${baseDir}/fdroid/com.owncloud.android/3.0.1/apk/com.owncloud.android_30000001.apk&quot;</td>\n",
       "        <td>41</td>\n",
       "    </tr>\n",
       "    <tr>\n",
       "        <td>&quot;${baseDir}/oss/de.danoeh.antennapod/app/build/outputs/apk/free/debug/app-free-debug.apk&quot;</td>\n",
       "        <td>40</td>\n",
       "    </tr>\n",
       "    <tr>\n",
       "        <td>&quot;${baseDir}/fdroid/com.darshancomputing.BatteryIndicatorPro/12.0.0/apk/com.darshancomputing.BatteryIndicatorPro_26016.apk&quot;</td>\n",
       "        <td>37</td>\n",
       "    </tr>\n",
       "    <tr>\n",
       "        <td>&quot;${baseDir}/fdroid/com.duckduckgo.mobile.android/5.146.0/apk/com.duckduckgo.mobile.android_51460000.apk&quot;</td>\n",
       "        <td>35</td>\n",
       "    </tr>\n",
       "    <tr>\n",
       "        <td>&quot;${baseDir}/fdroid/org.sipdroid.sipua/6.3beta/apk/org.sipdroid.sipua_134.apk&quot;</td>\n",
       "        <td>31</td>\n",
       "    </tr>\n",
       "    <tr>\n",
       "        <td>&quot;${baseDir}/fdroid/jwtc.android.chess/9.3.10/apk/jwtc.android.chess_192.apk&quot;</td>\n",
       "        <td>28</td>\n",
       "    </tr>\n",
       "    <tr>\n",
       "        <td>&quot;${baseDir}/fdroid/org.tasks/13.1.1/apk/org.tasks_130101.apk&quot;</td>\n",
       "        <td>26</td>\n",
       "    </tr>\n",
       "    <tr>\n",
       "        <td>&quot;${baseDir}/fdroid/com.gpl.rpg.AndorsTrail/0.8.3/apk/com.gpl.rpg.AndorsTrail_67.apk&quot;</td>\n",
       "        <td>25</td>\n",
       "    </tr>\n",
       "    <tr>\n",
       "        <td>&quot;${baseDir}/fdroid/com.fsck.k9/6.503/apk/com.fsck.k9_35003.apk&quot;</td>\n",
       "        <td>21</td>\n",
       "    </tr>\n",
       "    <tr>\n",
       "        <td>&quot;${baseDir}/fdroid/com.asksven.betterbatterystats/3.3.1/apk/com.asksven.betterbatterystats_107.apk&quot;</td>\n",
       "        <td>19</td>\n",
       "    </tr>\n",
       "    <tr>\n",
       "        <td>&quot;${baseDir}/fdroid/org.transdroid.lite/2.5.19/apk/org.transdroid.lite_239.apk&quot;</td>\n",
       "        <td>16</td>\n",
       "    </tr>\n",
       "    <tr>\n",
       "        <td>&quot;${baseDir}/fdroid/com.ubergeek42.WeechatAndroid/1.8.1/apk/com.ubergeek42.WeechatAndroid_10801.apk&quot;</td>\n",
       "        <td>13</td>\n",
       "    </tr>\n",
       "    <tr>\n",
       "        <td>&quot;${baseDir}/fdroid/ch.blinkenlights.android.vanilla/1.2.2/apk/ch.blinkenlights.android.vanilla_12200.apk&quot;</td>\n",
       "        <td>13</td>\n",
       "    </tr>\n",
       "    <tr>\n",
       "        <td>&quot;${baseDir}/fdroid/com.byagowi.persiancalendar/7.8.0/apk/com.byagowi.persiancalendar_780.apk&quot;</td>\n",
       "        <td>12</td>\n",
       "    </tr>\n",
       "    <tr>\n",
       "        <td>&quot;${baseDir}/fdroid/com.nutomic.syncthingandroid/1.23.0/apk/com.nutomic.syncthingandroid_4334.apk&quot;</td>\n",
       "        <td>12</td>\n",
       "    </tr>\n",
       "    <tr>\n",
       "        <td>&quot;${baseDir}/fdroid/org.navitproject.navit/v0.5.6/apk/org.navitproject.navit_2021030660.apk&quot;</td>\n",
       "        <td>10</td>\n",
       "    </tr>\n",
       "    <tr>\n",
       "        <td>&quot;${baseDir}/fdroid/be.digitalia.fosdem/2.1.1/apk/be.digitalia.fosdem_1900211.apk&quot;</td>\n",
       "        <td>9</td>\n",
       "    </tr>\n",
       "    <tr>\n",
       "        <td>&quot;${baseDir}/fdroid/com.android.keepass/2.6.8/apk/com.android.keepass_215.apk&quot;</td>\n",
       "        <td>8</td>\n",
       "    </tr>\n",
       "    <tr>\n",
       "        <td>&quot;${baseDir}/fdroid/org.scoutant.blokish/3.4/apk/org.scoutant.blokish_22.apk&quot;</td>\n",
       "        <td>8</td>\n",
       "    </tr>\n",
       "    <tr>\n",
       "        <td>&quot;${baseDir}/oss/org.connectbot/app/build/outputs/apk/oss/debug/app-oss-debug.apk&quot;</td>\n",
       "        <td>6</td>\n",
       "    </tr>\n",
       "    <tr>\n",
       "        <td>&quot;${baseDir}/fdroid/de.jkliemann.parkendd/1.2.8/apk/de.jkliemann.parkendd_33.apk&quot;</td>\n",
       "        <td>5</td>\n",
       "    </tr>\n",
       "    <tr>\n",
       "        <td>&quot;${baseDir}/fdroid/name.boyle.chris.sgtpuzzles/2023-01-18-2324-aaa36328-fdroid/apk/name.boyle.chris.sgtpuzzles_137.apk&quot;</td>\n",
       "        <td>5</td>\n",
       "    </tr>\n",
       "    <tr>\n",
       "        <td>&quot;${baseDir}/fdroid/org.zephyrsoft.trackworktime/1.1.20/apk/org.zephyrsoft.trackworktime_64.apk&quot;</td>\n",
       "        <td>5</td>\n",
       "    </tr>\n",
       "    <tr>\n",
       "        <td>&quot;${baseDir}/fdroid/de.markusfisch.android.wavelines/1.13.2/apk/de.markusfisch.android.wavelines_22.apk&quot;</td>\n",
       "        <td>5</td>\n",
       "    </tr>\n",
       "    <tr>\n",
       "        <td>&quot;${baseDir}/fdroid/net.bible.android.activity/4.0.673/apk/net.bible.android.activity_673.apk&quot;</td>\n",
       "        <td>5</td>\n",
       "    </tr>\n",
       "    <tr>\n",
       "        <td>&quot;${baseDir}/fdroid/org.traccar.client/6.18/apk/org.traccar.client_79.apk&quot;</td>\n",
       "        <td>4</td>\n",
       "    </tr>\n",
       "    <tr>\n",
       "        <td>&quot;${baseDir}/fdroid/net.justdave.nwsweatheralertswidget/1.1.4/apk/net.justdave.nwsweatheralertswidget_12.apk&quot;</td>\n",
       "        <td>4</td>\n",
       "    </tr>\n",
       "    <tr>\n",
       "        <td>&quot;${baseDir}/fdroid/nl.mpcjanssen.simpletask/11.0.1/apk/nl.mpcjanssen.simpletask_11000001.apk&quot;</td>\n",
       "        <td>3</td>\n",
       "    </tr>\n",
       "    <tr>\n",
       "        <td>&quot;${baseDir}/fdroid/de.syss.MifareClassicTool/4.0.4/apk/de.syss.MifareClassicTool_62.apk&quot;</td>\n",
       "        <td>3</td>\n",
       "    </tr>\n",
       "    <tr>\n",
       "        <td>&quot;${baseDir}/fdroid/net.gaast.giggity/2.0.8/apk/net.gaast.giggity_520.apk&quot;</td>\n",
       "        <td>3</td>\n",
       "    </tr>\n",
       "    <tr>\n",
       "        <td>&quot;${baseDir}/fdroid/nitezh.ministock/81/apk/nitezh.ministock_81.apk&quot;</td>\n",
       "        <td>3</td>\n",
       "    </tr>\n",
       "    <tr>\n",
       "        <td>&quot;${baseDir}/fdroid/com.MarcosDiez.shareviahttp/2.0.14/apk/com.MarcosDiez.shareviahttp_34.apk&quot;</td>\n",
       "        <td>2</td>\n",
       "    </tr>\n",
       "    <tr>\n",
       "        <td>&quot;${baseDir}/fdroid/com.shatteredpixel.shatteredpixeldungeon/1.4.3/apk/com.shatteredpixel.shatteredpixeldungeon_668.apk&quot;</td>\n",
       "        <td>2</td>\n",
       "    </tr>\n",
       "    <tr>\n",
       "        <td>&quot;${baseDir}/fdroid/de.srlabs.snoopsnitch/2.0.12-nbc/apk/de.srlabs.snoopsnitch_50.apk&quot;</td>\n",
       "        <td>2</td>\n",
       "    </tr>\n",
       "    <tr>\n",
       "        <td>&quot;${baseDir}/fdroid/com.yubico.yubioath/6.0.2/apk/com.yubico.yubioath_600064.apk&quot;</td>\n",
       "        <td>1</td>\n",
       "    </tr>\n",
       "    <tr>\n",
       "        <td>&quot;${baseDir}/fdroid/org.andstatus.app/60.01/apk/org.andstatus.app_361.apk&quot;</td>\n",
       "        <td>1</td>\n",
       "    </tr>\n",
       "    <tr>\n",
       "        <td>&quot;${baseDir}/fdroid/org.yuttadhammo.BodhiTimer/6.3.0/apk/org.yuttadhammo.BodhiTimer_98.apk&quot;</td>\n",
       "        <td>1</td>\n",
       "    </tr>\n",
       "    <tr>\n",
       "        <td>&quot;${baseDir}/fdroid/info.guardianproject.pixelknot/1.0.2.1/apk/info.guardianproject.pixelknot_1021.apk&quot;</td>\n",
       "        <td>1</td>\n",
       "    </tr>\n",
       "    <tr>\n",
       "        <td>&quot;${baseDir}/fdroid/org.fedorahosted.freeotp/2.0/apk/org.fedorahosted.freeotp_24.apk&quot;</td>\n",
       "        <td>1</td>\n",
       "    </tr>\n",
       "</table>"
      ],
      "text/plain": [
       "[('\"${baseDir}/fdroid/net.osmand.plus/4.3.8/apk/net.osmand.plus_4308.apk\"', 285),\n",
       " ('\"${baseDir}/fdroid/org.sufficientlysecure.keychain/5.8.2/apk/org.sufficientlysecure.keychain_58902.apk\"', 143),\n",
       " ('\"${baseDir}/fdroid/org.mariotaku.twidere/4.1.8/apk/org.mariotaku.twidere_517.apk\"', 92),\n",
       " ('\"${baseDir}/fdroid/net.wigle.wigleandroid/2.63/apk/net.wigle.wigleandroid_263.apk\"', 88),\n",
       " ('\"${baseDir}/fdroid/dev.ukanth.ufirewall/3.5.3/apk/dev.ukanth.ufirewall_20220615.apk\"', 73),\n",
       " ('\"${baseDir}/fdroid/com.seafile.seadroid2/2.2.48/apk/com.seafile.seadroid2_123.apk\"', 63),\n",
       " ('\"${baseDir}/fdroid/de.blau.android/18.1.1.0/apk/de.blau.android_2303.apk\"', 59),\n",
       " ('\"${baseDir}/fdroid/org.liberty.android.fantastischmemo/10.11.7/apk/org.liberty.android.fantastischmemo_237.apk\"', 56),\n",
       " ('\"${baseDir}/fdroid/de.blinkt.openvpn/0.7.43/apk/de.blinkt.openvpn_198.apk\"', 44),\n",
       " ('\"${baseDir}/fdroid/com.ichi2.anki/2.15.6/apk/com.ichi2.anki_21506300.apk\"', 41),\n",
       " ('\"${baseDir}/fdroid/com.owncloud.android/3.0.1/apk/com.owncloud.android_30000001.apk\"', 41),\n",
       " ('\"${baseDir}/oss/de.danoeh.antennapod/app/build/outputs/apk/free/debug/app-free-debug.apk\"', 40),\n",
       " ('\"${baseDir}/fdroid/com.darshancomputing.BatteryIndicatorPro/12.0.0/apk/com.darshancomputing.BatteryIndicatorPro_26016.apk\"', 37),\n",
       " ('\"${baseDir}/fdroid/com.duckduckgo.mobile.android/5.146.0/apk/com.duckduckgo.mobile.android_51460000.apk\"', 35),\n",
       " ('\"${baseDir}/fdroid/org.sipdroid.sipua/6.3beta/apk/org.sipdroid.sipua_134.apk\"', 31),\n",
       " ('\"${baseDir}/fdroid/jwtc.android.chess/9.3.10/apk/jwtc.android.chess_192.apk\"', 28),\n",
       " ('\"${baseDir}/fdroid/org.tasks/13.1.1/apk/org.tasks_130101.apk\"', 26),\n",
       " ('\"${baseDir}/fdroid/com.gpl.rpg.AndorsTrail/0.8.3/apk/com.gpl.rpg.AndorsTrail_67.apk\"', 25),\n",
       " ('\"${baseDir}/fdroid/com.fsck.k9/6.503/apk/com.fsck.k9_35003.apk\"', 21),\n",
       " ('\"${baseDir}/fdroid/com.asksven.betterbatterystats/3.3.1/apk/com.asksven.betterbatterystats_107.apk\"', 19),\n",
       " ('\"${baseDir}/fdroid/org.transdroid.lite/2.5.19/apk/org.transdroid.lite_239.apk\"', 16),\n",
       " ('\"${baseDir}/fdroid/com.ubergeek42.WeechatAndroid/1.8.1/apk/com.ubergeek42.WeechatAndroid_10801.apk\"', 13),\n",
       " ('\"${baseDir}/fdroid/ch.blinkenlights.android.vanilla/1.2.2/apk/ch.blinkenlights.android.vanilla_12200.apk\"', 13),\n",
       " ('\"${baseDir}/fdroid/com.byagowi.persiancalendar/7.8.0/apk/com.byagowi.persiancalendar_780.apk\"', 12),\n",
       " ('\"${baseDir}/fdroid/com.nutomic.syncthingandroid/1.23.0/apk/com.nutomic.syncthingandroid_4334.apk\"', 12),\n",
       " ('\"${baseDir}/fdroid/org.navitproject.navit/v0.5.6/apk/org.navitproject.navit_2021030660.apk\"', 10),\n",
       " ('\"${baseDir}/fdroid/be.digitalia.fosdem/2.1.1/apk/be.digitalia.fosdem_1900211.apk\"', 9),\n",
       " ('\"${baseDir}/fdroid/com.android.keepass/2.6.8/apk/com.android.keepass_215.apk\"', 8),\n",
       " ('\"${baseDir}/fdroid/org.scoutant.blokish/3.4/apk/org.scoutant.blokish_22.apk\"', 8),\n",
       " ('\"${baseDir}/oss/org.connectbot/app/build/outputs/apk/oss/debug/app-oss-debug.apk\"', 6),\n",
       " ('\"${baseDir}/fdroid/de.jkliemann.parkendd/1.2.8/apk/de.jkliemann.parkendd_33.apk\"', 5),\n",
       " ('\"${baseDir}/fdroid/name.boyle.chris.sgtpuzzles/2023-01-18-2324-aaa36328-fdroid/apk/name.boyle.chris.sgtpuzzles_137.apk\"', 5),\n",
       " ('\"${baseDir}/fdroid/org.zephyrsoft.trackworktime/1.1.20/apk/org.zephyrsoft.trackworktime_64.apk\"', 5),\n",
       " ('\"${baseDir}/fdroid/de.markusfisch.android.wavelines/1.13.2/apk/de.markusfisch.android.wavelines_22.apk\"', 5),\n",
       " ('\"${baseDir}/fdroid/net.bible.android.activity/4.0.673/apk/net.bible.android.activity_673.apk\"', 5),\n",
       " ('\"${baseDir}/fdroid/org.traccar.client/6.18/apk/org.traccar.client_79.apk\"', 4),\n",
       " ('\"${baseDir}/fdroid/net.justdave.nwsweatheralertswidget/1.1.4/apk/net.justdave.nwsweatheralertswidget_12.apk\"', 4),\n",
       " ('\"${baseDir}/fdroid/nl.mpcjanssen.simpletask/11.0.1/apk/nl.mpcjanssen.simpletask_11000001.apk\"', 3),\n",
       " ('\"${baseDir}/fdroid/de.syss.MifareClassicTool/4.0.4/apk/de.syss.MifareClassicTool_62.apk\"', 3),\n",
       " ('\"${baseDir}/fdroid/net.gaast.giggity/2.0.8/apk/net.gaast.giggity_520.apk\"', 3),\n",
       " ('\"${baseDir}/fdroid/nitezh.ministock/81/apk/nitezh.ministock_81.apk\"', 3),\n",
       " ('\"${baseDir}/fdroid/com.MarcosDiez.shareviahttp/2.0.14/apk/com.MarcosDiez.shareviahttp_34.apk\"', 2),\n",
       " ('\"${baseDir}/fdroid/com.shatteredpixel.shatteredpixeldungeon/1.4.3/apk/com.shatteredpixel.shatteredpixeldungeon_668.apk\"', 2),\n",
       " ('\"${baseDir}/fdroid/de.srlabs.snoopsnitch/2.0.12-nbc/apk/de.srlabs.snoopsnitch_50.apk\"', 2),\n",
       " ('\"${baseDir}/fdroid/com.yubico.yubioath/6.0.2/apk/com.yubico.yubioath_600064.apk\"', 1),\n",
       " ('\"${baseDir}/fdroid/org.andstatus.app/60.01/apk/org.andstatus.app_361.apk\"', 1),\n",
       " ('\"${baseDir}/fdroid/org.yuttadhammo.BodhiTimer/6.3.0/apk/org.yuttadhammo.BodhiTimer_98.apk\"', 1),\n",
       " ('\"${baseDir}/fdroid/info.guardianproject.pixelknot/1.0.2.1/apk/info.guardianproject.pixelknot_1021.apk\"', 1),\n",
       " ('\"${baseDir}/fdroid/org.fedorahosted.freeotp/2.0/apk/org.fedorahosted.freeotp_24.apk\"', 1)]"
      ]
     },
     "execution_count": 241,
     "metadata": {},
     "output_type": "execute_result"
    }
   ],
   "source": [
    "%%sql\n",
    "select cast(config::json->'apkPath' as text) as app,count(*) as count from jobs group by app order by count desc;"
   ]
  },
  {
   "cell_type": "code",
   "execution_count": 242,
   "metadata": {},
   "outputs": [
    {
     "name": "stdout",
     "output_type": "stream",
     "text": [
      " * postgresql://postgres@localhost:5433/postgres\n",
      "2 rows affected.\n"
     ]
    },
    {
     "data": {
      "text/html": [
       "<table>\n",
       "    <tr>\n",
       "        <th>summary</th>\n",
       "        <th>ch</th>\n",
       "        <th>count</th>\n",
       "        <th>avg</th>\n",
       "        <th>max</th>\n",
       "    </tr>\n",
       "    <tr>\n",
       "        <td>&quot;\\&quot;Unreachable\\&quot;&quot;</td>\n",
       "        <td>&quot;\\&quot;UnknownCharacterization\\&quot;&quot;</td>\n",
       "        <td>15</td>\n",
       "        <td>1.00000000000000000000</td>\n",
       "        <td>7</td>\n",
       "    </tr>\n",
       "    <tr>\n",
       "        <td>&quot;\\&quot;Witnessed\\&quot;&quot;</td>\n",
       "        <td>&quot;\\&quot;UnknownCharacterization\\&quot;&quot;</td>\n",
       "        <td>2</td>\n",
       "        <td>2.0000000000000000</td>\n",
       "        <td>3</td>\n",
       "    </tr>\n",
       "</table>"
      ],
      "text/plain": [
       "[('\"\\\\\"Unreachable\\\\\"\"', '\"\\\\\"UnknownCharacterization\\\\\"\"', 15, Decimal('1.00000000000000000000'), 7),\n",
       " ('\"\\\\\"Witnessed\\\\\"\"', '\"\\\\\"UnknownCharacterization\\\\\"\"', 2, Decimal('2.0000000000000000'), 3)]"
      ]
     },
     "execution_count": 242,
     "metadata": {},
     "output_type": "execute_result"
    }
   ],
   "source": [
    "%%sql \n",
    "select cast(result::json->'summary' as varchar) as summary, cast(result::json->'maxPathCh' as varchar) as ch,count(*),avg(querytime),max(querytime) from results group by summary,ch order by summary,ch;"
   ]
  },
  {
   "cell_type": "code",
   "execution_count": 243,
   "metadata": {},
   "outputs": [
    {
     "name": "stdout",
     "output_type": "stream",
     "text": [
      " * postgresql://postgres@localhost:5433/postgres\n",
      "4 rows affected.\n"
     ]
    },
    {
     "data": {
      "text/html": [
       "<table>\n",
       "    <tr>\n",
       "        <th>count</th>\n",
       "        <th>varchar</th>\n",
       "        <th>tag</th>\n",
       "    </tr>\n",
       "    <tr>\n",
       "        <td>12</td>\n",
       "        <td>&quot;\\&quot;Unreachable\\&quot;&quot;</td>\n",
       "        <td>{&quot;heuristicType&quot;:&quot;Disallow.I_CIEnter_AsyncTaskexecute&quot;}</td>\n",
       "    </tr>\n",
       "    <tr>\n",
       "        <td>2</td>\n",
       "        <td>&quot;\\&quot;Unreachable\\&quot;&quot;</td>\n",
       "        <td>{&quot;heuristicType&quot;:&quot;SensitiveDerefCallinCaused&quot;}</td>\n",
       "    </tr>\n",
       "    <tr>\n",
       "        <td>2</td>\n",
       "        <td>&quot;\\&quot;Witnessed\\&quot;&quot;</td>\n",
       "        <td>{&quot;heuristicType&quot;:&quot;SensitiveDerefCallinCaused&quot;}</td>\n",
       "    </tr>\n",
       "    <tr>\n",
       "        <td>1</td>\n",
       "        <td>&quot;\\&quot;Unreachable\\&quot;&quot;</td>\n",
       "        <td>{&quot;heuristicType&quot;:&quot;SensitiveDerefFieldCausedSynch&quot;}</td>\n",
       "    </tr>\n",
       "</table>"
      ],
      "text/plain": [
       "[(12, '\"\\\\\"Unreachable\\\\\"\"', '{\"heuristicType\":\"Disallow.I_CIEnter_AsyncTaskexecute\"}'),\n",
       " (2, '\"\\\\\"Unreachable\\\\\"\"', '{\"heuristicType\":\"SensitiveDerefCallinCaused\"}'),\n",
       " (2, '\"\\\\\"Witnessed\\\\\"\"', '{\"heuristicType\":\"SensitiveDerefCallinCaused\"}'),\n",
       " (1, '\"\\\\\"Unreachable\\\\\"\"', '{\"heuristicType\":\"SensitiveDerefFieldCausedSynch\"}')]"
      ]
     },
     "execution_count": 243,
     "metadata": {},
     "output_type": "execute_result"
    }
   ],
   "source": [
    "%%sql \n",
    "select count(*), cast(results.result::json->'summary' as varchar),cast(jobs.config::json->'tag' as varchar) as tag \n",
    "from jobs inner join results on jobs.id=results.jobid group by cast(jobs.config::json->'tag' as varchar),cast(results.result::json->'summary' as varchar)\n",
    "order by  cast(jobs.config::json->'tag' as varchar)"
   ]
  },
  {
   "cell_type": "code",
   "execution_count": 244,
   "metadata": {},
   "outputs": [
    {
     "name": "stdout",
     "output_type": "stream",
     "text": [
      " * postgresql://postgres@localhost:5433/postgres\n",
      "11 rows affected.\n"
     ]
    },
    {
     "data": {
      "text/html": [
       "<table>\n",
       "    <tr>\n",
       "        <th>benchmark</th>\n",
       "        <th>isdismiss</th>\n",
       "        <th>summary</th>\n",
       "        <th>count</th>\n",
       "    </tr>\n",
       "    <tr>\n",
       "        <td>com.android</td>\n",
       "        <td>execute</td>\n",
       "        <td>&quot;\\&quot;Unreachable\\&quot;&quot;</td>\n",
       "        <td>1</td>\n",
       "    </tr>\n",
       "    <tr>\n",
       "        <td>com.gpl</td>\n",
       "        <td>execute</td>\n",
       "        <td>&quot;\\&quot;Unreachable\\&quot;&quot;</td>\n",
       "        <td>1</td>\n",
       "    </tr>\n",
       "    <tr>\n",
       "        <td>com.owncloud</td>\n",
       "        <td>execute</td>\n",
       "        <td>&quot;\\&quot;Unreachable\\&quot;&quot;</td>\n",
       "        <td>1</td>\n",
       "    </tr>\n",
       "    <tr>\n",
       "        <td>com.shatteredpixel</td>\n",
       "        <td>None</td>\n",
       "        <td>&quot;\\&quot;Unreachable\\&quot;&quot;</td>\n",
       "        <td>1</td>\n",
       "    </tr>\n",
       "    <tr>\n",
       "        <td>de.blinkt</td>\n",
       "        <td>None</td>\n",
       "        <td>&quot;\\&quot;Unreachable\\&quot;&quot;</td>\n",
       "        <td>1</td>\n",
       "    </tr>\n",
       "    <tr>\n",
       "        <td>de.markusfisch</td>\n",
       "        <td>execute</td>\n",
       "        <td>&quot;\\&quot;Unreachable\\&quot;&quot;</td>\n",
       "        <td>1</td>\n",
       "    </tr>\n",
       "    <tr>\n",
       "        <td>dev.ukanth</td>\n",
       "        <td>execute</td>\n",
       "        <td>&quot;\\&quot;Unreachable\\&quot;&quot;</td>\n",
       "        <td>6</td>\n",
       "    </tr>\n",
       "    <tr>\n",
       "        <td>net.wigle</td>\n",
       "        <td>None</td>\n",
       "        <td>&quot;\\&quot;Witnessed\\&quot;&quot;</td>\n",
       "        <td>1</td>\n",
       "    </tr>\n",
       "    <tr>\n",
       "        <td>org.liberty</td>\n",
       "        <td>execute</td>\n",
       "        <td>&quot;\\&quot;Unreachable\\&quot;&quot;</td>\n",
       "        <td>2</td>\n",
       "    </tr>\n",
       "    <tr>\n",
       "        <td>org.liberty</td>\n",
       "        <td>None</td>\n",
       "        <td>&quot;\\&quot;Witnessed\\&quot;&quot;</td>\n",
       "        <td>1</td>\n",
       "    </tr>\n",
       "    <tr>\n",
       "        <td>org.sufficientlysecure</td>\n",
       "        <td>None</td>\n",
       "        <td>&quot;\\&quot;Unreachable\\&quot;&quot;</td>\n",
       "        <td>1</td>\n",
       "    </tr>\n",
       "</table>"
      ],
      "text/plain": [
       "[('com.android', 'execute', '\"\\\\\"Unreachable\\\\\"\"', 1),\n",
       " ('com.gpl', 'execute', '\"\\\\\"Unreachable\\\\\"\"', 1),\n",
       " ('com.owncloud', 'execute', '\"\\\\\"Unreachable\\\\\"\"', 1),\n",
       " ('com.shatteredpixel', None, '\"\\\\\"Unreachable\\\\\"\"', 1),\n",
       " ('de.blinkt', None, '\"\\\\\"Unreachable\\\\\"\"', 1),\n",
       " ('de.markusfisch', 'execute', '\"\\\\\"Unreachable\\\\\"\"', 1),\n",
       " ('dev.ukanth', 'execute', '\"\\\\\"Unreachable\\\\\"\"', 6),\n",
       " ('net.wigle', None, '\"\\\\\"Witnessed\\\\\"\"', 1),\n",
       " ('org.liberty', 'execute', '\"\\\\\"Unreachable\\\\\"\"', 2),\n",
       " ('org.liberty', None, '\"\\\\\"Witnessed\\\\\"\"', 1),\n",
       " ('org.sufficientlysecure', None, '\"\\\\\"Unreachable\\\\\"\"', 1)]"
      ]
     },
     "execution_count": 244,
     "metadata": {},
     "output_type": "execute_result"
    }
   ],
   "source": [
    "%%sql \n",
    "select regexp_substr(cast(jobs.config::json->'apkPath' as varchar), '[a-zA-Z]*\\.[a-zA-Z]*') as benchmark, \n",
    "    regexp_substr(cast(results.qry::json->'s' as varchar), 'Dialog_dismiss|execute') as isDismiss, \n",
    "    cast(results.result::json->'summary' as varchar) as summary, count(*)\n",
    "    from results inner join jobs on results.jobid=jobs.id \n",
    "    group by cast(jobs.config::json->'apkPath' as varchar),cast(results.result::json->'summary' as varchar),\n",
    "    regexp_substr(cast(results.qry::json->'s' as varchar), 'Dialog_dismiss|execute')\n"
   ]
  },
  {
   "cell_type": "code",
   "execution_count": 248,
   "metadata": {},
   "outputs": [
    {
     "name": "stdout",
     "output_type": "stream",
     "text": [
      " * postgresql://postgres@localhost:5433/postgres\n",
      "2 rows affected.\n"
     ]
    },
    {
     "data": {
      "text/html": [
       "<table>\n",
       "    <tr>\n",
       "        <th>summary</th>\n",
       "        <th>count</th>\n",
       "    </tr>\n",
       "    <tr>\n",
       "        <td>&quot;\\&quot;Unreachable\\&quot;&quot;</td>\n",
       "        <td>15</td>\n",
       "    </tr>\n",
       "    <tr>\n",
       "        <td>&quot;\\&quot;Witnessed\\&quot;&quot;</td>\n",
       "        <td>2</td>\n",
       "    </tr>\n",
       "</table>"
      ],
      "text/plain": [
       "[('\"\\\\\"Unreachable\\\\\"\"', 15), ('\"\\\\\"Witnessed\\\\\"\"', 2)]"
      ]
     },
     "execution_count": 248,
     "metadata": {},
     "output_type": "execute_result"
    }
   ],
   "source": [
    "%%sql\n",
    "select cast(result::json->'summary' as varchar) as summary, count(*) from results group by cast(result::json->'summary' as varchar)"
   ]
  },
  {
   "cell_type": "code",
   "execution_count": 257,
   "metadata": {},
   "outputs": [
    {
     "name": "stdout",
     "output_type": "stream",
     "text": [
      " * postgresql://postgres@localhost:5433/postgres\n",
      "5 rows affected.\n"
     ]
    },
    {
     "data": {
      "text/html": [
       "<table>\n",
       "    <tr>\n",
       "        <th>count</th>\n",
       "        <th>status</th>\n",
       "    </tr>\n",
       "    <tr>\n",
       "        <td>5</td>\n",
       "        <td>failed: java.util.concurrent.TimeoutException: Future timed out after [300 seconds]<br>java.util.concurrent.TimeoutException: Future timed out after [300 seconds]<br>\tat scala.concurrent.impl.Promise$DefaultPromise.tryAwait0(Promise.scala:248)<br>\tat scala.concurrent.impl.Promise$DefaultPromise.result(Promise.scala:261)<br>\tat scala.concurrent.Await$.$anonfun$result$1(package.scala:201)<br>\tat scala.concurrent.BlockContext$DefaultBlockContext$.blockOn(BlockContext.scala:62)<br>\tat scala.concurrent.Await$.result(package.scala:124)<br>\tat edu.colorado.plv.bounder.ExperimentsDb.downloadApk(Driver.scala:1239)<br>\tat edu.colorado.plv.bounder.ExperimentsDb.getInputs(Driver.scala:1287)<br>\tat edu.colorado.plv.bounder.ExperimentsDb.$anonfun$processJob$1(Driver.scala:865)<br>\tat edu.colorado.plv.bounder.ExperimentsDb.processJob(Driver.scala:934)<br>\tat edu.colorado.plv.bounder.ExperimentsDb.loop(Driver.scala:838)<br>\tat edu.colorado.plv.bounder.Driver$.expLoop(Driver.scala:281)<br>\tat edu.colorado.plv.bounder.Driver$.runAction(Driver.scala:343)<br>\tat edu.colorado.plv.bounder.Driver$.main(Driver.scala:268)<br>\tat edu.colorado.plv.bounder.Driver.main(Driver.scala)<br></td>\n",
       "    </tr>\n",
       "    <tr>\n",
       "        <td>13</td>\n",
       "        <td>completed</td>\n",
       "    </tr>\n",
       "    <tr>\n",
       "        <td>37</td>\n",
       "        <td>acquired</td>\n",
       "    </tr>\n",
       "    <tr>\n",
       "        <td>1348</td>\n",
       "        <td>new</td>\n",
       "    </tr>\n",
       "    <tr>\n",
       "        <td>7</td>\n",
       "        <td>failed: java.util.concurrent.TimeoutException: Future timed out after [300 seconds]<br>java.util.concurrent.TimeoutException: Future timed out after [300 seconds]<br>\tat scala.concurrent.impl.Promise$DefaultPromise.tryAwait0(Promise.scala:248)<br>\tat scala.concurrent.impl.Promise$DefaultPromise.result(Promise.scala:261)<br>\tat scala.concurrent.Await$.$anonfun$result$1(package.scala:201)<br>\tat scala.concurrent.BlockContext$DefaultBlockContext$.blockOn(BlockContext.scala:62)<br>\tat scala.concurrent.Await$.result(package.scala:124)<br>\tat edu.colorado.plv.bounder.ExperimentsDb.downloadApk(Driver.scala:1239)<br>\tat edu.colorado.plv.bounder.ExperimentsDb.$anonfun$processJob$1(Driver.scala:857)<br>\tat edu.colorado.plv.bounder.ExperimentsDb.processJob(Driver.scala:934)<br>\tat edu.colorado.plv.bounder.ExperimentsDb.loop(Driver.scala:838)<br>\tat edu.colorado.plv.bounder.Driver$.expLoop(Driver.scala:281)<br>\tat edu.colorado.plv.bounder.Driver$.runAction(Driver.scala:343)<br>\tat edu.colorado.plv.bounder.Driver$.main(Driver.scala:268)<br>\tat edu.colorado.plv.bounder.Driver.main(Driver.scala)<br></td>\n",
       "    </tr>\n",
       "</table>"
      ],
      "text/plain": [
       "[(5, 'failed: java.util.concurrent.TimeoutException: Future timed out after [300 seconds]\\njava.util.concurrent.TimeoutException: Future timed out after [3 ... (860 characters truncated) ... .runAction(Driver.scala:343)\\n\\tat edu.colorado.plv.bounder.Driver$.main(Driver.scala:268)\\n\\tat edu.colorado.plv.bounder.Driver.main(Driver.scala)\\n'),\n",
       " (13, 'completed'),\n",
       " (37, 'acquired'),\n",
       " (1348, 'new'),\n",
       " (7, 'failed: java.util.concurrent.TimeoutException: Future timed out after [300 seconds]\\njava.util.concurrent.TimeoutException: Future timed out after [3 ... (786 characters truncated) ... .runAction(Driver.scala:343)\\n\\tat edu.colorado.plv.bounder.Driver$.main(Driver.scala:268)\\n\\tat edu.colorado.plv.bounder.Driver.main(Driver.scala)\\n')]"
      ]
     },
     "execution_count": 257,
     "metadata": {},
     "output_type": "execute_result"
    }
   ],
   "source": [
    "%%sql\n",
    "select count(*),status from jobs group by status;"
   ]
  },
  {
   "cell_type": "markdown",
   "metadata": {},
   "source": [
    "Check result consistency\n",
    "========================"
   ]
  },
  {
   "cell_type": "code",
   "execution_count": 252,
   "metadata": {},
   "outputs": [
    {
     "name": "stdout",
     "output_type": "stream",
     "text": [
      " * postgresql://postgres@localhost:5433/postgres\n",
      "37 rows affected.\n"
     ]
    },
    {
     "data": {
      "text/html": [
       "<table>\n",
       "    <tr>\n",
       "        <th>owner</th>\n",
       "        <th>count</th>\n",
       "    </tr>\n",
       "    <tr>\n",
       "        <td>Linux historia2-2 5.15.0-67-generic #74-Ubuntu SMP Wed Feb 22 14:14:39 UTC 2023 x86_64 x86_64 x86_64 GNU/Linux hostname: historia2-2<br> uuid: 050e1c59-e514-4604-8d20-0d7105ca1c20</td>\n",
       "        <td>1</td>\n",
       "    </tr>\n",
       "    <tr>\n",
       "        <td>Linux historia2-2 5.15.0-67-generic #74-Ubuntu SMP Wed Feb 22 14:14:39 UTC 2023 x86_64 x86_64 x86_64 GNU/Linux hostname: historia2-2<br> uuid: 38afe6a5-a557-4c6c-a371-7f43c834eb9d</td>\n",
       "        <td>1</td>\n",
       "    </tr>\n",
       "    <tr>\n",
       "        <td>Linux historia2-2 5.15.0-67-generic #74-Ubuntu SMP Wed Feb 22 14:14:39 UTC 2023 x86_64 x86_64 x86_64 GNU/Linux hostname: historia2-2<br> uuid: 57304e84-01fb-4dae-9997-3b3153d1fb04</td>\n",
       "        <td>1</td>\n",
       "    </tr>\n",
       "    <tr>\n",
       "        <td>Linux historia2-2 5.15.0-67-generic #74-Ubuntu SMP Wed Feb 22 14:14:39 UTC 2023 x86_64 x86_64 x86_64 GNU/Linux hostname: historia2-2<br> uuid: 73aeccb9-eb8e-4774-8acf-6652292ba835</td>\n",
       "        <td>1</td>\n",
       "    </tr>\n",
       "    <tr>\n",
       "        <td>Linux historia2-2 5.15.0-67-generic #74-Ubuntu SMP Wed Feb 22 14:14:39 UTC 2023 x86_64 x86_64 x86_64 GNU/Linux hostname: historia2-2<br> uuid: 75b844be-c068-499b-bd97-4e3caaaa38df</td>\n",
       "        <td>1</td>\n",
       "    </tr>\n",
       "    <tr>\n",
       "        <td>Linux historia2-2 5.15.0-67-generic #74-Ubuntu SMP Wed Feb 22 14:14:39 UTC 2023 x86_64 x86_64 x86_64 GNU/Linux hostname: historia2-2<br> uuid: 9acaa80e-588a-4b74-9e07-047b736f694e</td>\n",
       "        <td>1</td>\n",
       "    </tr>\n",
       "    <tr>\n",
       "        <td>Linux historia2-2 5.15.0-67-generic #74-Ubuntu SMP Wed Feb 22 14:14:39 UTC 2023 x86_64 x86_64 x86_64 GNU/Linux hostname: historia2-2<br> uuid: c0cafe56-ee4e-49f0-ae84-9185d8fe61eb</td>\n",
       "        <td>1</td>\n",
       "    </tr>\n",
       "    <tr>\n",
       "        <td>Linux historia2 5.15.0-67-generic #74-Ubuntu SMP Wed Feb 22 14:14:39 UTC 2023 x86_64 x86_64 x86_64 GNU/Linux hostname: historia2<br> uuid: 208957a3-9467-49a0-9b4e-f5b9980955d2</td>\n",
       "        <td>1</td>\n",
       "    </tr>\n",
       "    <tr>\n",
       "        <td>Linux historia2 5.15.0-67-generic #74-Ubuntu SMP Wed Feb 22 14:14:39 UTC 2023 x86_64 x86_64 x86_64 GNU/Linux hostname: historia2<br> uuid: 3139a2b4-d06b-45f9-81ba-a9e6525b6081</td>\n",
       "        <td>1</td>\n",
       "    </tr>\n",
       "    <tr>\n",
       "        <td>Linux historia2 5.15.0-67-generic #74-Ubuntu SMP Wed Feb 22 14:14:39 UTC 2023 x86_64 x86_64 x86_64 GNU/Linux hostname: historia2<br> uuid: 5ab70004-e9bf-4afe-9fd3-070051fcb62f</td>\n",
       "        <td>1</td>\n",
       "    </tr>\n",
       "    <tr>\n",
       "        <td>Linux historia2 5.15.0-67-generic #74-Ubuntu SMP Wed Feb 22 14:14:39 UTC 2023 x86_64 x86_64 x86_64 GNU/Linux hostname: historia2<br> uuid: 9162a348-7aef-4c90-b75d-21aa54cc7122</td>\n",
       "        <td>1</td>\n",
       "    </tr>\n",
       "    <tr>\n",
       "        <td>Linux historia2 5.15.0-67-generic #74-Ubuntu SMP Wed Feb 22 14:14:39 UTC 2023 x86_64 x86_64 x86_64 GNU/Linux hostname: historia2<br> uuid: 9b0d706d-9ccc-4c58-a11c-4a43d32f2beb</td>\n",
       "        <td>1</td>\n",
       "    </tr>\n",
       "    <tr>\n",
       "        <td>Linux historia2 5.15.0-67-generic #74-Ubuntu SMP Wed Feb 22 14:14:39 UTC 2023 x86_64 x86_64 x86_64 GNU/Linux hostname: historia2<br> uuid: 9df8a3db-47db-4516-bd58-abe700401a55</td>\n",
       "        <td>1</td>\n",
       "    </tr>\n",
       "    <tr>\n",
       "        <td>Linux historia2 5.15.0-67-generic #74-Ubuntu SMP Wed Feb 22 14:14:39 UTC 2023 x86_64 x86_64 x86_64 GNU/Linux hostname: historia2<br> uuid: d5b1c19e-ccf5-459e-ba06-6a2fc21a7f15</td>\n",
       "        <td>1</td>\n",
       "    </tr>\n",
       "    <tr>\n",
       "        <td>Linux historia2 5.15.0-67-generic #74-Ubuntu SMP Wed Feb 22 14:14:39 UTC 2023 x86_64 x86_64 x86_64 GNU/Linux hostname: historia2<br> uuid: e320c695-add4-4e29-8c27-2d44a59b4a1f</td>\n",
       "        <td>1</td>\n",
       "    </tr>\n",
       "    <tr>\n",
       "        <td>Linux historia4 5.15.0-67-generic #74-Ubuntu SMP Wed Feb 22 14:14:39 UTC 2023 x86_64 x86_64 x86_64 GNU/Linux hostname: historia4<br> uuid: 0135dabc-cc22-454d-a7e1-374bd8422a54</td>\n",
       "        <td>1</td>\n",
       "    </tr>\n",
       "    <tr>\n",
       "        <td>Linux historia4 5.15.0-67-generic #74-Ubuntu SMP Wed Feb 22 14:14:39 UTC 2023 x86_64 x86_64 x86_64 GNU/Linux hostname: historia4<br> uuid: 1180f253-b197-431c-80a2-0e8218c6fe83</td>\n",
       "        <td>1</td>\n",
       "    </tr>\n",
       "    <tr>\n",
       "        <td>Linux historia4 5.15.0-67-generic #74-Ubuntu SMP Wed Feb 22 14:14:39 UTC 2023 x86_64 x86_64 x86_64 GNU/Linux hostname: historia4<br> uuid: 25d9d7b3-9cae-4a90-8fe5-543aa07f822d</td>\n",
       "        <td>1</td>\n",
       "    </tr>\n",
       "    <tr>\n",
       "        <td>Linux historia4 5.15.0-67-generic #74-Ubuntu SMP Wed Feb 22 14:14:39 UTC 2023 x86_64 x86_64 x86_64 GNU/Linux hostname: historia4<br> uuid: 328bdb75-31a4-407e-9ffd-5a1edf0771a0</td>\n",
       "        <td>1</td>\n",
       "    </tr>\n",
       "    <tr>\n",
       "        <td>Linux historia4 5.15.0-67-generic #74-Ubuntu SMP Wed Feb 22 14:14:39 UTC 2023 x86_64 x86_64 x86_64 GNU/Linux hostname: historia4<br> uuid: 6aee9ab6-e47f-41a9-9631-6344e9fc5e4e</td>\n",
       "        <td>1</td>\n",
       "    </tr>\n",
       "    <tr>\n",
       "        <td>Linux historia4 5.15.0-67-generic #74-Ubuntu SMP Wed Feb 22 14:14:39 UTC 2023 x86_64 x86_64 x86_64 GNU/Linux hostname: historia4<br> uuid: 86e10272-05d8-4443-aa46-7226155f6125</td>\n",
       "        <td>1</td>\n",
       "    </tr>\n",
       "    <tr>\n",
       "        <td>Linux historia4 5.15.0-67-generic #74-Ubuntu SMP Wed Feb 22 14:14:39 UTC 2023 x86_64 x86_64 x86_64 GNU/Linux hostname: historia4<br> uuid: c634f75e-c103-4e8f-a93d-8df1f76430e3</td>\n",
       "        <td>1</td>\n",
       "    </tr>\n",
       "    <tr>\n",
       "        <td>Linux historia4 5.15.0-67-generic #74-Ubuntu SMP Wed Feb 22 14:14:39 UTC 2023 x86_64 x86_64 x86_64 GNU/Linux hostname: historia4<br> uuid: f0de5986-64be-42bb-9094-e84e0af94372</td>\n",
       "        <td>1</td>\n",
       "    </tr>\n",
       "    <tr>\n",
       "        <td>Linux historia 5.15.0-67-generic #74-Ubuntu SMP Wed Feb 22 14:14:39 UTC 2023 x86_64 x86_64 x86_64 GNU/Linux hostname: historia<br> uuid: 2ba6616d-70c6-4138-a3a9-5c2fd27b790f</td>\n",
       "        <td>1</td>\n",
       "    </tr>\n",
       "    <tr>\n",
       "        <td>Linux historia 5.15.0-67-generic #74-Ubuntu SMP Wed Feb 22 14:14:39 UTC 2023 x86_64 x86_64 x86_64 GNU/Linux hostname: historia<br> uuid: 3aa00928-73b7-4724-b569-f2caa3c2f6f7</td>\n",
       "        <td>1</td>\n",
       "    </tr>\n",
       "    <tr>\n",
       "        <td>Linux historia 5.15.0-67-generic #74-Ubuntu SMP Wed Feb 22 14:14:39 UTC 2023 x86_64 x86_64 x86_64 GNU/Linux hostname: historia<br> uuid: 4ceeb61b-d344-4970-93e0-04c1cfa1e444</td>\n",
       "        <td>1</td>\n",
       "    </tr>\n",
       "    <tr>\n",
       "        <td>Linux historia 5.15.0-67-generic #74-Ubuntu SMP Wed Feb 22 14:14:39 UTC 2023 x86_64 x86_64 x86_64 GNU/Linux hostname: historia<br> uuid: 5245854a-2858-4e18-b9f7-4b566b6a681a</td>\n",
       "        <td>1</td>\n",
       "    </tr>\n",
       "    <tr>\n",
       "        <td>Linux historia 5.15.0-67-generic #74-Ubuntu SMP Wed Feb 22 14:14:39 UTC 2023 x86_64 x86_64 x86_64 GNU/Linux hostname: historia<br> uuid: a1d1d3bb-600a-4b5f-92d8-fdc84bb550bb</td>\n",
       "        <td>1</td>\n",
       "    </tr>\n",
       "    <tr>\n",
       "        <td>Linux historia 5.15.0-67-generic #74-Ubuntu SMP Wed Feb 22 14:14:39 UTC 2023 x86_64 x86_64 x86_64 GNU/Linux hostname: historia<br> uuid: cd7eed21-ac97-4955-a93e-d6a04bb07f5d</td>\n",
       "        <td>1</td>\n",
       "    </tr>\n",
       "    <tr>\n",
       "        <td>Linux historia 5.15.0-67-generic #74-Ubuntu SMP Wed Feb 22 14:14:39 UTC 2023 x86_64 x86_64 x86_64 GNU/Linux hostname: historia<br> uuid: d1e2da81-4f98-4148-b413-e8e5102f8bdc</td>\n",
       "        <td>1</td>\n",
       "    </tr>\n",
       "    <tr>\n",
       "        <td>Linux historia 5.15.0-67-generic #74-Ubuntu SMP Wed Feb 22 14:14:39 UTC 2023 x86_64 x86_64 x86_64 GNU/Linux hostname: historia<br> uuid: e3879586-577a-47cd-9faa-5595bedd9125</td>\n",
       "        <td>1</td>\n",
       "    </tr>\n",
       "    <tr>\n",
       "        <td>Linux historia5 5.15.0-67-generic #74-Ubuntu SMP Wed Feb 22 14:14:39 UTC 2023 x86_64 x86_64 x86_64 GNU/Linux hostname: historia5<br> uuid: 13a1eab3-a6d5-481d-b152-69b1921e8ded</td>\n",
       "        <td>1</td>\n",
       "    </tr>\n",
       "    <tr>\n",
       "        <td>Linux historia5 5.15.0-67-generic #74-Ubuntu SMP Wed Feb 22 14:14:39 UTC 2023 x86_64 x86_64 x86_64 GNU/Linux hostname: historia5<br> uuid: 302985bb-3516-4815-976f-0dbba1f5bcd4</td>\n",
       "        <td>1</td>\n",
       "    </tr>\n",
       "    <tr>\n",
       "        <td>Linux historia5 5.15.0-67-generic #74-Ubuntu SMP Wed Feb 22 14:14:39 UTC 2023 x86_64 x86_64 x86_64 GNU/Linux hostname: historia5<br> uuid: 4f1ca879-ad35-4c6a-9767-7d5c74de53dd</td>\n",
       "        <td>1</td>\n",
       "    </tr>\n",
       "    <tr>\n",
       "        <td>Linux historia5 5.15.0-67-generic #74-Ubuntu SMP Wed Feb 22 14:14:39 UTC 2023 x86_64 x86_64 x86_64 GNU/Linux hostname: historia5<br> uuid: 61dc6333-bf8d-491d-81f2-ccc0e377bfec</td>\n",
       "        <td>1</td>\n",
       "    </tr>\n",
       "    <tr>\n",
       "        <td>Linux historia5 5.15.0-67-generic #74-Ubuntu SMP Wed Feb 22 14:14:39 UTC 2023 x86_64 x86_64 x86_64 GNU/Linux hostname: historia5<br> uuid: 6857daee-66db-4156-9719-12064b55d9af</td>\n",
       "        <td>1</td>\n",
       "    </tr>\n",
       "    <tr>\n",
       "        <td>Linux historia5 5.15.0-67-generic #74-Ubuntu SMP Wed Feb 22 14:14:39 UTC 2023 x86_64 x86_64 x86_64 GNU/Linux hostname: historia5<br> uuid: a46bd601-3c8a-4d3c-bb53-9510c898b6e2</td>\n",
       "        <td>1</td>\n",
       "    </tr>\n",
       "</table>"
      ],
      "text/plain": [
       "[('Linux historia2-2 5.15.0-67-generic #74-Ubuntu SMP Wed Feb 22 14:14:39 UTC 2023 x86_64 x86_64 x86_64 GNU/Linux hostname: historia2-2\\n uuid: 050e1c59-e514-4604-8d20-0d7105ca1c20', 1),\n",
       " ('Linux historia2-2 5.15.0-67-generic #74-Ubuntu SMP Wed Feb 22 14:14:39 UTC 2023 x86_64 x86_64 x86_64 GNU/Linux hostname: historia2-2\\n uuid: 38afe6a5-a557-4c6c-a371-7f43c834eb9d', 1),\n",
       " ('Linux historia2-2 5.15.0-67-generic #74-Ubuntu SMP Wed Feb 22 14:14:39 UTC 2023 x86_64 x86_64 x86_64 GNU/Linux hostname: historia2-2\\n uuid: 57304e84-01fb-4dae-9997-3b3153d1fb04', 1),\n",
       " ('Linux historia2-2 5.15.0-67-generic #74-Ubuntu SMP Wed Feb 22 14:14:39 UTC 2023 x86_64 x86_64 x86_64 GNU/Linux hostname: historia2-2\\n uuid: 73aeccb9-eb8e-4774-8acf-6652292ba835', 1),\n",
       " ('Linux historia2-2 5.15.0-67-generic #74-Ubuntu SMP Wed Feb 22 14:14:39 UTC 2023 x86_64 x86_64 x86_64 GNU/Linux hostname: historia2-2\\n uuid: 75b844be-c068-499b-bd97-4e3caaaa38df', 1),\n",
       " ('Linux historia2-2 5.15.0-67-generic #74-Ubuntu SMP Wed Feb 22 14:14:39 UTC 2023 x86_64 x86_64 x86_64 GNU/Linux hostname: historia2-2\\n uuid: 9acaa80e-588a-4b74-9e07-047b736f694e', 1),\n",
       " ('Linux historia2-2 5.15.0-67-generic #74-Ubuntu SMP Wed Feb 22 14:14:39 UTC 2023 x86_64 x86_64 x86_64 GNU/Linux hostname: historia2-2\\n uuid: c0cafe56-ee4e-49f0-ae84-9185d8fe61eb', 1),\n",
       " ('Linux historia2 5.15.0-67-generic #74-Ubuntu SMP Wed Feb 22 14:14:39 UTC 2023 x86_64 x86_64 x86_64 GNU/Linux hostname: historia2\\n uuid: 208957a3-9467-49a0-9b4e-f5b9980955d2', 1),\n",
       " ('Linux historia2 5.15.0-67-generic #74-Ubuntu SMP Wed Feb 22 14:14:39 UTC 2023 x86_64 x86_64 x86_64 GNU/Linux hostname: historia2\\n uuid: 3139a2b4-d06b-45f9-81ba-a9e6525b6081', 1),\n",
       " ('Linux historia2 5.15.0-67-generic #74-Ubuntu SMP Wed Feb 22 14:14:39 UTC 2023 x86_64 x86_64 x86_64 GNU/Linux hostname: historia2\\n uuid: 5ab70004-e9bf-4afe-9fd3-070051fcb62f', 1),\n",
       " ('Linux historia2 5.15.0-67-generic #74-Ubuntu SMP Wed Feb 22 14:14:39 UTC 2023 x86_64 x86_64 x86_64 GNU/Linux hostname: historia2\\n uuid: 9162a348-7aef-4c90-b75d-21aa54cc7122', 1),\n",
       " ('Linux historia2 5.15.0-67-generic #74-Ubuntu SMP Wed Feb 22 14:14:39 UTC 2023 x86_64 x86_64 x86_64 GNU/Linux hostname: historia2\\n uuid: 9b0d706d-9ccc-4c58-a11c-4a43d32f2beb', 1),\n",
       " ('Linux historia2 5.15.0-67-generic #74-Ubuntu SMP Wed Feb 22 14:14:39 UTC 2023 x86_64 x86_64 x86_64 GNU/Linux hostname: historia2\\n uuid: 9df8a3db-47db-4516-bd58-abe700401a55', 1),\n",
       " ('Linux historia2 5.15.0-67-generic #74-Ubuntu SMP Wed Feb 22 14:14:39 UTC 2023 x86_64 x86_64 x86_64 GNU/Linux hostname: historia2\\n uuid: d5b1c19e-ccf5-459e-ba06-6a2fc21a7f15', 1),\n",
       " ('Linux historia2 5.15.0-67-generic #74-Ubuntu SMP Wed Feb 22 14:14:39 UTC 2023 x86_64 x86_64 x86_64 GNU/Linux hostname: historia2\\n uuid: e320c695-add4-4e29-8c27-2d44a59b4a1f', 1),\n",
       " ('Linux historia4 5.15.0-67-generic #74-Ubuntu SMP Wed Feb 22 14:14:39 UTC 2023 x86_64 x86_64 x86_64 GNU/Linux hostname: historia4\\n uuid: 0135dabc-cc22-454d-a7e1-374bd8422a54', 1),\n",
       " ('Linux historia4 5.15.0-67-generic #74-Ubuntu SMP Wed Feb 22 14:14:39 UTC 2023 x86_64 x86_64 x86_64 GNU/Linux hostname: historia4\\n uuid: 1180f253-b197-431c-80a2-0e8218c6fe83', 1),\n",
       " ('Linux historia4 5.15.0-67-generic #74-Ubuntu SMP Wed Feb 22 14:14:39 UTC 2023 x86_64 x86_64 x86_64 GNU/Linux hostname: historia4\\n uuid: 25d9d7b3-9cae-4a90-8fe5-543aa07f822d', 1),\n",
       " ('Linux historia4 5.15.0-67-generic #74-Ubuntu SMP Wed Feb 22 14:14:39 UTC 2023 x86_64 x86_64 x86_64 GNU/Linux hostname: historia4\\n uuid: 328bdb75-31a4-407e-9ffd-5a1edf0771a0', 1),\n",
       " ('Linux historia4 5.15.0-67-generic #74-Ubuntu SMP Wed Feb 22 14:14:39 UTC 2023 x86_64 x86_64 x86_64 GNU/Linux hostname: historia4\\n uuid: 6aee9ab6-e47f-41a9-9631-6344e9fc5e4e', 1),\n",
       " ('Linux historia4 5.15.0-67-generic #74-Ubuntu SMP Wed Feb 22 14:14:39 UTC 2023 x86_64 x86_64 x86_64 GNU/Linux hostname: historia4\\n uuid: 86e10272-05d8-4443-aa46-7226155f6125', 1),\n",
       " ('Linux historia4 5.15.0-67-generic #74-Ubuntu SMP Wed Feb 22 14:14:39 UTC 2023 x86_64 x86_64 x86_64 GNU/Linux hostname: historia4\\n uuid: c634f75e-c103-4e8f-a93d-8df1f76430e3', 1),\n",
       " ('Linux historia4 5.15.0-67-generic #74-Ubuntu SMP Wed Feb 22 14:14:39 UTC 2023 x86_64 x86_64 x86_64 GNU/Linux hostname: historia4\\n uuid: f0de5986-64be-42bb-9094-e84e0af94372', 1),\n",
       " ('Linux historia 5.15.0-67-generic #74-Ubuntu SMP Wed Feb 22 14:14:39 UTC 2023 x86_64 x86_64 x86_64 GNU/Linux hostname: historia\\n uuid: 2ba6616d-70c6-4138-a3a9-5c2fd27b790f', 1),\n",
       " ('Linux historia 5.15.0-67-generic #74-Ubuntu SMP Wed Feb 22 14:14:39 UTC 2023 x86_64 x86_64 x86_64 GNU/Linux hostname: historia\\n uuid: 3aa00928-73b7-4724-b569-f2caa3c2f6f7', 1),\n",
       " ('Linux historia 5.15.0-67-generic #74-Ubuntu SMP Wed Feb 22 14:14:39 UTC 2023 x86_64 x86_64 x86_64 GNU/Linux hostname: historia\\n uuid: 4ceeb61b-d344-4970-93e0-04c1cfa1e444', 1),\n",
       " ('Linux historia 5.15.0-67-generic #74-Ubuntu SMP Wed Feb 22 14:14:39 UTC 2023 x86_64 x86_64 x86_64 GNU/Linux hostname: historia\\n uuid: 5245854a-2858-4e18-b9f7-4b566b6a681a', 1),\n",
       " ('Linux historia 5.15.0-67-generic #74-Ubuntu SMP Wed Feb 22 14:14:39 UTC 2023 x86_64 x86_64 x86_64 GNU/Linux hostname: historia\\n uuid: a1d1d3bb-600a-4b5f-92d8-fdc84bb550bb', 1),\n",
       " ('Linux historia 5.15.0-67-generic #74-Ubuntu SMP Wed Feb 22 14:14:39 UTC 2023 x86_64 x86_64 x86_64 GNU/Linux hostname: historia\\n uuid: cd7eed21-ac97-4955-a93e-d6a04bb07f5d', 1),\n",
       " ('Linux historia 5.15.0-67-generic #74-Ubuntu SMP Wed Feb 22 14:14:39 UTC 2023 x86_64 x86_64 x86_64 GNU/Linux hostname: historia\\n uuid: d1e2da81-4f98-4148-b413-e8e5102f8bdc', 1),\n",
       " ('Linux historia 5.15.0-67-generic #74-Ubuntu SMP Wed Feb 22 14:14:39 UTC 2023 x86_64 x86_64 x86_64 GNU/Linux hostname: historia\\n uuid: e3879586-577a-47cd-9faa-5595bedd9125', 1),\n",
       " ('Linux historia5 5.15.0-67-generic #74-Ubuntu SMP Wed Feb 22 14:14:39 UTC 2023 x86_64 x86_64 x86_64 GNU/Linux hostname: historia5\\n uuid: 13a1eab3-a6d5-481d-b152-69b1921e8ded', 1),\n",
       " ('Linux historia5 5.15.0-67-generic #74-Ubuntu SMP Wed Feb 22 14:14:39 UTC 2023 x86_64 x86_64 x86_64 GNU/Linux hostname: historia5\\n uuid: 302985bb-3516-4815-976f-0dbba1f5bcd4', 1),\n",
       " ('Linux historia5 5.15.0-67-generic #74-Ubuntu SMP Wed Feb 22 14:14:39 UTC 2023 x86_64 x86_64 x86_64 GNU/Linux hostname: historia5\\n uuid: 4f1ca879-ad35-4c6a-9767-7d5c74de53dd', 1),\n",
       " ('Linux historia5 5.15.0-67-generic #74-Ubuntu SMP Wed Feb 22 14:14:39 UTC 2023 x86_64 x86_64 x86_64 GNU/Linux hostname: historia5\\n uuid: 61dc6333-bf8d-491d-81f2-ccc0e377bfec', 1),\n",
       " ('Linux historia5 5.15.0-67-generic #74-Ubuntu SMP Wed Feb 22 14:14:39 UTC 2023 x86_64 x86_64 x86_64 GNU/Linux hostname: historia5\\n uuid: 6857daee-66db-4156-9719-12064b55d9af', 1),\n",
       " ('Linux historia5 5.15.0-67-generic #74-Ubuntu SMP Wed Feb 22 14:14:39 UTC 2023 x86_64 x86_64 x86_64 GNU/Linux hostname: historia5\\n uuid: a46bd601-3c8a-4d3c-bb53-9510c898b6e2', 1)]"
      ]
     },
     "execution_count": 252,
     "metadata": {},
     "output_type": "execute_result"
    }
   ],
   "source": [
    "%%sql -- get workers with acquired jobs -- check for abandoned jobs\n",
    "select owner,count(*) from jobs where status='acquired' group by owner;"
   ]
  },
  {
   "cell_type": "code",
   "execution_count": 253,
   "metadata": {},
   "outputs": [
    {
     "name": "stdout",
     "output_type": "stream",
     "text": [
      " * postgresql://postgres@localhost:5433/postgres\n",
      "0 rows affected.\n"
     ]
    },
    {
     "data": {
      "text/html": [
       "<table>\n",
       "    <tr>\n",
       "        <th>id</th>\n",
       "    </tr>\n",
       "</table>"
      ],
      "text/plain": [
       "[]"
      ]
     },
     "execution_count": 253,
     "metadata": {},
     "output_type": "execute_result"
    }
   ],
   "source": [
    "%%sql -- Find completed jobs where no results exist and no error occurred\n",
    "select jobs.id from jobs where jobs.id not in (select results.jobid from results) and jobs.status = 'completed' and jobs.stderr not like '%Exception%';"
   ]
  },
  {
   "cell_type": "code",
   "execution_count": 254,
   "metadata": {},
   "outputs": [
    {
     "name": "stdout",
     "output_type": "stream",
     "text": [
      " * postgresql://postgres@localhost:5433/postgres\n",
      "0 rows affected.\n"
     ]
    },
    {
     "data": {
      "text/html": [
       "<table>\n",
       "    <tr>\n",
       "        <th>id</th>\n",
       "    </tr>\n",
       "</table>"
      ],
      "text/plain": [
       "[]"
      ]
     },
     "execution_count": 254,
     "metadata": {},
     "output_type": "execute_result"
    }
   ],
   "source": [
    "%%sql -- Find new/paused jobs with results\n",
    "select jobs.id from jobs where jobs.id in (select results.jobid from results) and (jobs.status = 'paused' or jobs.status = 'new');"
   ]
  },
  {
   "cell_type": "code",
   "execution_count": 255,
   "metadata": {},
   "outputs": [
    {
     "name": "stdout",
     "output_type": "stream",
     "text": [
      " * postgresql://postgres@localhost:5433/postgres\n",
      "1 rows affected.\n"
     ]
    },
    {
     "data": {
      "text/html": [
       "<table>\n",
       "    <tr>\n",
       "        <th>count</th>\n",
       "        <th>qry</th>\n",
       "        <th>num</th>\n",
       "    </tr>\n",
       "    <tr>\n",
       "        <td>1</td>\n",
       "        <td>{&quot;t&quot;:&quot;DisallowedCallin&quot;,&quot;className&quot;:&quot;dev.ukanth.ufirewall.activity.LogDetailActivity&quot;,&quot;methodName&quot;:&quot;boolean onContextItemSelected(android.view.MenuItem)&quot;,&quot;s&quot;:&quot;{\\&quot;univQuant\\&quot;:[{\\&quot;$type\\&quot;:\\&quot;edu.colorado.plv.bounder.symbolicexecutor.state.NamedPureVar\\&quot;,\\&quot;n\\&quot;:\\&quot;t\\&quot;}],\\&quot;existQuant\\&quot;:[],\\&quot;pred\\&quot;:{\\&quot;$type\\&quot;:\\&quot;edu.colorado.plv.bounder.lifestate.LifeState.OAbsMsg\\&quot;,\\&quot;mt\\&quot;:{\\&quot;$type\\&quot;:\\&quot;edu.colorado.plv.bounder.ir.CIExit\\&quot;},\\&quot;signatures\\&quot;:{\\&quot;$type\\&quot;:\\&quot;edu.colorado.plv.bounder.lifestate.LifeState.SubClassMatcher\\&quot;,\\&quot;baseSubtypeOf\\&quot;:[\\&quot;android.os.AsyncTask\\&quot;],\\&quot;signatureMatcher\\&quot;:\\&quot;.*AsyncTask execute\\\\\\\\(.*\\\\\\\\)\\&quot;,\\&quot;ident\\&quot;:\\&quot;AsyncTask_execute\\&quot;},\\&quot;lsVars\\&quot;:[{\\&quot;$type\\&quot;:\\&quot;edu.colorado.plv.bounder.symbolicexecutor.state.TopVal\\&quot;},{\\&quot;$type\\&quot;:\\&quot;edu.colorado.plv.bounder.symbolicexecutor.state.NamedPureVar\\&quot;,\\&quot;n\\&quot;:\\&quot;t\\&quot;}]},\\&quot;target\\&quot;:{\\&quot;$type\\&quot;:\\&quot;edu.colorado.plv.bounder.lifestate.LifeState.OAbsMsg\\&quot;,\\&quot;mt\\&quot;:{\\&quot;$type\\&quot;:\\&quot;edu.colorado.plv.bounder.ir.CIEnter\\&quot;},\\&quot;signatures\\&quot;:{\\&quot;$type\\&quot;:\\&quot;edu.colorado.plv.bounder.lifestate.LifeState.SubClassMatcher\\&quot;,\\&quot;baseSubtypeOf\\&quot;:[\\&quot;android.os.AsyncTask\\&quot;],\\&quot;signatureMatcher\\&quot;:\\&quot;.*AsyncTask execute\\\\\\\\(.*\\\\\\\\)\\&quot;,\\&quot;ident\\&quot;:\\&quot;AsyncTask_execute\\&quot;},\\&quot;lsVars\\&quot;:[{\\&quot;$type\\&quot;:\\&quot;edu.colorado.plv.bounder.symbolicexecutor.state.TopVal\\&quot;},{\\&quot;$type\\&quot;:\\&quot;edu.colorado.plv.bounder.symbolicexecutor.state.NamedPureVar\\&quot;,\\&quot;n\\&quot;:\\&quot;t\\&quot;}]}}&quot;}</td>\n",
       "        <td>{&quot;$type&quot;:&quot;edu.colorado.plv.bounder.ir.AppLoc&quot;,&quot;method&quot;:[&quot;boolean onContextItemSelected(android.view.MenuItem)&quot;,&quot;dev.ukanth.ufirewall.activity.LogDetailActivity&quot;,[&quot;dev.ukanth.ufirewall.activity.LogDetailActivity&quot;,&quot;android.view.MenuItem&quot;],[&quot;[{\\&quot;name\\&quot;:\\&quot;@this\\&quot;,\\&quot;localType\\&quot;:\\&quot;dev.ukanth.ufirewall.activity.LogDetailActivity\\&quot;}]&quot;,&quot;[{\\&quot;name\\&quot;:\\&quot;@parameter0\\&quot;,\\&quot;localType\\&quot;:\\&quot;android.view.MenuItem\\&quot;}]&quot;]],&quot;line&quot;:{&quot;id&quot;:213,&quot;desc&quot;:&quot;SerializedIRLineLoc(213,line: 213 virtualinvoke $r2.&lt;dev.ukanth.ufirewall.util.LogNetUtil$NetTask: android.os.AsyncTask execute(java.lang.Object[])&gt;($r3),430910893)&quot;,&quot;ident&quot;:1835841364},&quot;isPre&quot;:true}</td>\n",
       "    </tr>\n",
       "</table>"
      ],
      "text/plain": [
       "[(1, '{\"t\":\"DisallowedCallin\",\"className\":\"dev.ukanth.ufirewall.activity.LogDetailActivity\",\"methodName\":\"boolean onContextItemSelected(android.view.MenuIt ... (1176 characters truncated) ... o.plv.bounder.symbolicexecutor.state.TopVal\\\\\"},{\\\\\"$type\\\\\":\\\\\"edu.colorado.plv.bounder.symbolicexecutor.state.NamedPureVar\\\\\",\\\\\"n\\\\\":\\\\\"t\\\\\"}]}}\"}', '{\"$type\":\"edu.colorado.plv.bounder.ir.AppLoc\",\"method\":[\"boolean onContextItemSelected(android.view.MenuItem)\",\"dev.ukanth.ufirewall.activity.LogDeta ... (344 characters truncated) ... 2.<dev.ukanth.ufirewall.util.LogNetUtil$NetTask: android.os.AsyncTask execute(java.lang.Object[])>($r3),430910893)\",\"ident\":1835841364},\"isPre\":true}')]"
      ]
     },
     "execution_count": 255,
     "metadata": {},
     "output_type": "execute_result"
    }
   ],
   "source": [
    "%%sql -- check that each location/qry pair only has one result (should detect duplicat runs)\n",
    "select count(*),qry,loc as num from results group by qry,loc order by count(*) desc limit 1;"
   ]
  },
  {
   "cell_type": "markdown",
   "metadata": {},
   "source": [
    "Triage witness results\n",
    "----------------------"
   ]
  },
  {
   "cell_type": "code",
   "execution_count": null,
   "metadata": {},
   "outputs": [],
   "source": [
    "witnessesq = %sql \\\n",
    "select id,jobid,resultdata,loc::json->'method'->>1 as clazz,loc::json->'method'->>2 from results \\\n",
    "                where cast(result::json->'summary' as varchar) like '%Witnessed%' order by id asc;\n",
    "\n",
    "witnessesdf = witnessesq.DataFrame()\n",
    "witnessesdf.to_csv('triageWit.csv')"
   ]
  },
  {
   "cell_type": "code",
   "execution_count": null,
   "metadata": {},
   "outputs": [],
   "source": [
    "witnessesq = %sql \\\n",
    "select id,jobid,resultdata,loc::json->'method'->>1 as clazz,loc::json->'method'->>2 from results \\\n",
    "                where cast(result::json->'summary' as varchar) like '%Itimeout%' and cast(result::json->'maxPathCh' as varchar) like '%MultiCallback%' order by id asc;\n",
    "\n",
    "witnessesdf = witnessesq.DataFrame()\n",
    "witnessesdf.to_csv('triageWitMultiTimeout.csv')"
   ]
  },
  {
   "cell_type": "raw",
   "metadata": {},
   "source": [
    "id \tjobid \tresultdata \tclazz \t?column?\n",
    "#29 \t2 \t2 \tcom.lyonbros.turtl.MainActivity \t[\"com.lyonbros.turtl.MainActivity\",\"android.os.Bundle\"]     (my bug) super should always be non null\n",
    "#69 \t1323 \t477 \tcom.gianlu.commonutils.Preferences.BasePreferenceActivity \t[\"com.gianlu.commonutils.Preferences.BasePreferenceActivity\",\"android.view.MenuItem\"]     (simple) arg of cb non null\n",
    "1:09 seems onOptionItemSelected wont get null value \n",
    "#107 \t1326 \t480 \tcom.health.openscale.gui.activities.UserSettingsActivity$1 \t[\"com.health.openscale.gui.activities.UserSettingsActivity$1\",\"android.view.View\"]  (simple) ret val of callin non null 1:14\n",
    "#175 \t1325 \t479 \tcom.duckduckgo.app.brokensite.BrokenSiteActivity \t[\"com.duckduckgo.app.brokensite.BrokenSiteActivity\"] (simple) arg of ci non null 15:28\n",
    "#201 \t1322 \t481 \torg.andstatus.app.util.UriUtils \t[\"void\",\"java.lang.String\"] (simple) non-null callin Optional.of 1:32\n",
    "#206 \t1322 \t481 \torg.andstatus.app.note.NoteBodyTokenizer \t[\"org.andstatus.app.note.NoteBodyTokenizer\",\"java.lang.CharSequence\"] (likely simple) non-null parameter\n",
    "#209 \t1322 \t481 \torg.andstatus.app.timeline.BaseTimelineAdapter \t[\"org.andstatus.app.timeline.BaseTimelineAdapter\",\"android.view.View\"]\n",
    "(revised not interesting, bug, now fixed)(interesting) value from get-parent - can be null i parent not defined. \n",
    "4045 \t1322 \t481 \torg.andstatus.app.data.checker.CheckConversations \t[\"void\",\"org.andstatus.app.data.checker.CheckConversations$NoteItem\"] (possibly interesting) apply callback, may be generated code of some kind? likely a bound callback from something"
   ]
  },
  {
   "cell_type": "raw",
   "metadata": {},
   "source": [
    "1) quick scan of code for patterns that likely involve multi callback crashes.\n",
    "    - deref of value read from field accessed by multiple callbacks (quick syntactic scan, needs minor upgrade to sampler)\n",
    "    - value returned from \"interesting\" callin, e.g. getParent/getActivity - need way to identify these, perhaps just use a few known ones\n",
    "    - sensitive callins e.g. execute\n",
    "    \n",
    "2) write specifications to avoid crashes on sampling of these interesting locations, if that fails, try to reproduce crash\n",
    "\n",
    "\n",
    "RQ: Is it feasible and necessary to write cftl specifications to prove a callback ordering sensitive assertion?\n",
    "\n",
    "We first generate a set of assertions that are likely to be useful to an android developer by scanning for patterns involved in multi callback mistakes.  We then report the number of locations proven 1)without a framework model 2) with the activity lifecycle and 3) with a hand written cftl model.  In the case of writing the model, we measure the time it takes a human to develop such a model.  "
   ]
  },
  {
   "cell_type": "code",
   "execution_count": null,
   "metadata": {},
   "outputs": [],
   "source": [
    "%%sql \n",
    "select id,jobid,resultdata,loc::json->'method'->>1 as clazz, \n",
    "        replace(cast(loc::json->'line'->'str' as varchar),'$','\\$') from results where id = 40;"
   ]
  },
  {
   "cell_type": "markdown",
   "metadata": {},
   "source": [
    "Triage proven results\n",
    "--------------------------"
   ]
  },
  {
   "cell_type": "code",
   "execution_count": null,
   "metadata": {},
   "outputs": [],
   "source": [
    "%%sql \n",
    "select id,jobid,resultdata,loc::json->'method'->>1 as clazz,loc::json->'method'->>2 from results \n",
    "                where cast(result::json->'summary' as varchar) like '%Proven%' order by random() limit 10;"
   ]
  },
  {
   "cell_type": "raw",
   "metadata": {},
   "source": [
    "TODO"
   ]
  },
  {
   "cell_type": "markdown",
   "metadata": {},
   "source": [
    "Triage unreachable results\n",
    "--------------------------"
   ]
  },
  {
   "cell_type": "code",
   "execution_count": null,
   "metadata": {},
   "outputs": [],
   "source": [
    "%%sql \n",
    "select id,jobid,resultdata,loc::json->'method'->>1 as clazz \n",
    "            from results where cast(result::json->'summary' as varchar) like '%Unreachable%' \n",
    "            order by random() limit 15;"
   ]
  },
  {
   "cell_type": "raw",
   "metadata": {},
   "source": [
    "id \tjobid \tresultdata \tclazz\n",
    "3632 \t1315 \t471 \tio.reactivex.Flowable\n",
    "3585 \t1314 \t470 \tcc.fovea.openwith.OpenWithPlugin\n",
    "3645 \t1315 \t471 \tcom.duckduckgo.app.bookmarks.ui.BookmarksViewModel\n",
    "3594 \t1314 \t470 \tcc.fovea.openwith.PluginResultSender\n",
    "3580 \t1314 \t470 \tcc.fovea.openwith.PluginResultSender\n",
    "3627 \t1315 \t471 \tio.reactivex.internal.operators.parallel.ParallelFromPublisher$ParallelDispatcher\n",
    "3629 \t1315 \t471 \tio.reactivex.internal.operators.single.SingleUnsubscribeOn\n",
    "3663 \t1315 \t471 \tio.reactivex.internal.operators.flowable.FlowableTakeUntil$TakeUntilMainSubscriber\n",
    "3582 \t1314 \t470 \tcc.fovea.openwith.PluginResultSender\n",
    "3657 \t1315 \t471 \tio.reactivex.internal.observers.QueueDrainObserver\n",
    "3603 \t1314 \t470 \tcc.fovea.openwith.ByteStreams\n",
    "3669 \t1315 \t471 \tcom.duckduckgo.app.tabs.db.TabsDao_Impl$1\n",
    "3586 \t1314 \t470 \tcc.fovea.openwith.OpenWithPlugin$1\n",
    "3659 \t1315 \t471 \tio.reactivex.internal.operators.flowable.FlowableCreate$BaseEmitter\n",
    "3646 \t1315 \t471 \tio.reactivex.internal.schedulers.SchedulerPoolFactory"
   ]
  },
  {
   "cell_type": "code",
   "execution_count": null,
   "metadata": {},
   "outputs": [],
   "source": [
    "%%sql\n",
    "select id,jobid,resultdata,loc::json->'method'->>1 as clazz, \n",
    "        replace(cast(loc::json->'method'->>0 as varchar),'$','\\$') as mname, \n",
    "        replace(cast(loc::json->'line' as varchar),'$','\\$') as location \n",
    "        from results where id = 15037;"
   ]
  },
  {
   "cell_type": "raw",
   "metadata": {},
   "source": [
    "\n",
    "id      jobid\tresultdata\tclazz\n",
    "15037\t243  \t761     \titkach.aard2.ArticleWebView$4\n",
    "\n",
    "12610\t90  \t676     \torg.tukaani.xz.lzma.LZMAEncoderNormal\n",
    "12479\t368  \t674\t        com.serwylo.lexica.trie.util.LetterFrequency\n",
    "8881\t308 \t436     \tnet.healeys.trie.StringTrie$Node\n",
    "11298\t208 \t573     \torg.tukaani.xz.index.IndexBase\n",
    "\n"
   ]
  },
  {
   "cell_type": "code",
   "execution_count": null,
   "metadata": {},
   "outputs": [],
   "source": [
    "%%sql\n",
    "select id,result,replace(cast(loc::json->'line' as varchar),'$','\\$') as location \n",
    "    from results where loc like '%244 $r3%';"
   ]
  },
  {
   "cell_type": "code",
   "execution_count": null,
   "metadata": {},
   "outputs": [],
   "source": [
    "%%sql\n",
    "select replace(cast(loc as varchar),'$','\\$') from results where id = 1494;"
   ]
  },
  {
   "cell_type": "markdown",
   "metadata": {},
   "source": [
    "Runtime Stats\n",
    "============="
   ]
  },
  {
   "cell_type": "code",
   "execution_count": null,
   "metadata": {},
   "outputs": [],
   "source": [
    "queryTime = %sql select querytime/60/60 from results;\n",
    "tplt = queryTime.DataFrame().plot.hist(bins=16)\n",
    "tplt.set_yscale('log')\n",
    "# tplt.set_xscale('log')\n",
    "tplt.set_xlabel('time (hrs)')\n",
    "# split this into proven and witnessed"
   ]
  },
  {
   "cell_type": "code",
   "execution_count": null,
   "metadata": {},
   "outputs": [],
   "source": [
    "%%sql\n",
    "select "
   ]
  },
  {
   "cell_type": "code",
   "execution_count": null,
   "metadata": {},
   "outputs": [],
   "source": [
    "cfg = %sql select jobs.config from results join jobs on jobs.id = results.jobid where querytime > 6*60*60 limit 1;\n",
    "if len(cfg) > 0:\n",
    "    print(cfg[0][0])"
   ]
  },
  {
   "cell_type": "code",
   "execution_count": null,
   "metadata": {
    "tags": []
   },
   "outputs": [],
   "source": [
    "%%sql -- which apps cause runtimes over 2 hours?\n",
    "select jobs.id, results.querytime, jobs.config::json->'apkPath' from results inner join jobs on jobs.id=results.jobid where results.querytime > 7200 order by results.querytime desc limit 200;"
   ]
  },
  {
   "cell_type": "code",
   "execution_count": null,
   "metadata": {},
   "outputs": [],
   "source": [
    "# Job runtimes\n",
    "runtimes = %sql select ended - started as time from jobs where ended is not NULL;\n",
    "runtimesDF = runtimes.DataFrame()\n",
    "runtimesDF['time'] = runtimesDF['time'].apply(lambda x: x.total_seconds() / (60))\n",
    "tplt = runtimesDF.plot.hist(bins=32)\n",
    "tplt.set_yscale('log')\n",
    "tplt.set_xlabel('time (min)')"
   ]
  },
  {
   "cell_type": "code",
   "execution_count": null,
   "metadata": {},
   "outputs": [],
   "source": [
    "# Plot job time trend\n",
    "rtvt = %sql select started, ended - started as time from jobs where ended is not NULL;\n",
    "rtvtDF = rtvt.DataFrame()\n",
    "rtvtDF.sort_values('started', ascending=True)\n",
    "fig, ax = plt.subplots()\n",
    "ax.plot_date(rtvtDF['started'], rtvtDF['time'], marker='*', linestyle='')\n",
    "\n",
    "fig.autofmt_xdate()\n",
    "plt.show()\n"
   ]
  },
  {
   "cell_type": "markdown",
   "metadata": {},
   "source": [
    "Total job time"
   ]
  },
  {
   "cell_type": "code",
   "execution_count": null,
   "metadata": {},
   "outputs": [],
   "source": [
    "%%sql\n",
    "select sum(ended-started) from jobs where ended is not NULL;"
   ]
  },
  {
   "cell_type": "code",
   "execution_count": null,
   "metadata": {},
   "outputs": [],
   "source": [
    "%%sql\n",
    "select avg(ended-started) from jobs where ended is not NULL;"
   ]
  },
  {
   "cell_type": "code",
   "execution_count": null,
   "metadata": {},
   "outputs": [],
   "source": [
    "%%sql\n",
    "select avg(querytime) from results;"
   ]
  },
  {
   "cell_type": "code",
   "execution_count": null,
   "metadata": {},
   "outputs": [],
   "source": [
    "%%sql\n",
    "select now() - min(started) from jobs;"
   ]
  },
  {
   "cell_type": "markdown",
   "metadata": {},
   "source": [
    "Size of postgres data\n",
    "====================="
   ]
  },
  {
   "cell_type": "code",
   "execution_count": null,
   "metadata": {},
   "outputs": [],
   "source": [
    "%%sql\n",
    "WITH RECURSIVE pg_inherit(inhrelid, inhparent) AS\n",
    "    (select inhrelid, inhparent\n",
    "    FROM pg_inherits\n",
    "    UNION\n",
    "    SELECT child.inhrelid, parent.inhparent\n",
    "    FROM pg_inherit child, pg_inherits parent\n",
    "    WHERE child.inhparent = parent.inhrelid),\n",
    "pg_inherit_short AS (SELECT * FROM pg_inherit WHERE inhparent NOT IN (SELECT inhrelid FROM pg_inherit))\n",
    "SELECT table_schema\n",
    "    , TABLE_NAME\n",
    "    , row_estimate\n",
    "    , pg_size_pretty(total_bytes) AS total\n",
    "    , pg_size_pretty(index_bytes) AS INDEX\n",
    "    , pg_size_pretty(toast_bytes) AS toast\n",
    "    , pg_size_pretty(table_bytes) AS TABLE\n",
    "  FROM (\n",
    "    SELECT *, total_bytes-index_bytes-COALESCE(toast_bytes,0) AS table_bytes\n",
    "    FROM (\n",
    "         SELECT c.oid\n",
    "              , nspname AS table_schema\n",
    "              , relname AS TABLE_NAME\n",
    "              , SUM(c.reltuples) OVER (partition BY parent) AS row_estimate\n",
    "              , SUM(pg_total_relation_size(c.oid)) OVER (partition BY parent) AS total_bytes\n",
    "              , SUM(pg_indexes_size(c.oid)) OVER (partition BY parent) AS index_bytes\n",
    "              , SUM(pg_total_relation_size(reltoastrelid)) OVER (partition BY parent) AS toast_bytes\n",
    "              , parent\n",
    "          FROM (\n",
    "                SELECT pg_class.oid\n",
    "                    , reltuples\n",
    "                    , relname\n",
    "                    , relnamespace\n",
    "                    , pg_class.reltoastrelid\n",
    "                    , COALESCE(inhparent, pg_class.oid) parent\n",
    "                FROM pg_class\n",
    "                    LEFT JOIN pg_inherit_short ON inhrelid = oid\n",
    "                WHERE relkind IN ('r', 'p')\n",
    "             ) c\n",
    "             LEFT JOIN pg_namespace n ON n.oid = c.relnamespace\n",
    "  ) a\n",
    "  WHERE oid = parent\n",
    ") a\n",
    "ORDER BY total_bytes DESC limit 5;"
   ]
  },
  {
   "cell_type": "markdown",
   "metadata": {},
   "source": [
    "Inspection of exceptions\n",
    "========================"
   ]
  },
  {
   "cell_type": "code",
   "execution_count": null,
   "metadata": {
    "tags": []
   },
   "outputs": [],
   "source": [
    "%%sql\n",
    "select id,config::json->'apkPath',replace(stderr,'$','\\$') from jobs where stderr like '%Exception%';"
   ]
  },
  {
   "cell_type": "code",
   "execution_count": null,
   "metadata": {},
   "outputs": [],
   "source": [
    "#count of total results\n",
    "%sql select count(*) as Total_locations_computed from results"
   ]
  },
  {
   "cell_type": "code",
   "execution_count": null,
   "metadata": {},
   "outputs": [],
   "source": []
  }
 ],
 "metadata": {
  "kernelspec": {
   "display_name": "Python 3 (ipykernel)",
   "language": "python",
   "name": "python3"
  },
  "language_info": {
   "codemirror_mode": {
    "name": "ipython",
    "version": 3
   },
   "file_extension": ".py",
   "mimetype": "text/x-python",
   "name": "python",
   "nbconvert_exporter": "python",
   "pygments_lexer": "ipython3",
   "version": "3.10.6"
  }
 },
 "nbformat": 4,
 "nbformat_minor": 4
}
