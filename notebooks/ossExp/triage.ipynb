{
 "cells": [
  {
   "cell_type": "code",
   "execution_count": 1,
   "metadata": {},
   "outputs": [],
   "source": [
    "import pandas as pd\n",
    "from IPython.display import JSON\n",
    "import pylab\n",
    "import json\n",
    "%matplotlib inline\n",
    "import matplotlib.pyplot as plt\n",
    "#plt.style.use('seaborn-whitegrid') # TODO: what did this do?\n",
    "import numpy as np\n",
    "from IPython.core import display\n",
    "import psycopg2\n",
    "import os\n",
    "homedir = os.getenv(\"HOME\")\n",
    "with open(homedir + \"/.pgpass\",'r') as pgfile:\n",
    "    pgdat = pgfile.read().strip().split(\":\")\n",
    "    pgurl = pgdat[0]\n",
    "    pgport = pgdat[1]\n",
    "    pgdb = pgdat[2]\n",
    "    pguser = pgdat[3]\n",
    "    pgpass = pgdat[4]\n",
    "\n",
    "%load_ext sql\n",
    "from sqlalchemy import create_engine\n",
    "# sql info: https://github.com/catherinedevlin/ipython-sql\n",
    "# on error `pip install ipython-sql`\n",
    "#uncomment for remote\n",
    "#pgport=3333\n",
    "pgport=5433\n",
    "engine = create_engine('postgresql://postgres@localhost:%i/postgres' % pgport)\n",
    "db = psycopg2.connect(host=pgurl, database=pgdb, user=pguser,password=pgpass,port=pgport)"
   ]
  },
  {
   "cell_type": "code",
   "execution_count": 2,
   "metadata": {},
   "outputs": [],
   "source": [
    "def qry(q):\n",
    "  return pd.read_sql_query(con = db, sql = q)\n",
    "# pd.set_option(\"max_colwidth\", None)\n",
    "# pd.set_option('display.max_columns', None)\n",
    "pd.set_option(\"display.latex.repr\", False)\n",
    "pd.set_option(\"display.latex.escape\", True)\n",
    "\n",
    "def iDisplay(v):\n",
    "    with pd.option_context('display.max_rows', None, 'display.max_columns', None, \"max_colwidth\", None):\n",
    "        display.display(v)\n"
   ]
  },
  {
   "cell_type": "markdown",
   "metadata": {},
   "source": [
    "Count number of uploaded APK files"
   ]
  },
  {
   "cell_type": "code",
   "execution_count": 3,
   "metadata": {},
   "outputs": [
    {
     "name": "stdout",
     "output_type": "stream",
     "text": [
      "1 rows affected.\n"
     ]
    },
    {
     "data": {
      "text/html": [
       "<table>\n",
       "    <tr>\n",
       "        <th>apk_count</th>\n",
       "        <th>blob_count</th>\n",
       "        <th>input_count</th>\n",
       "        <th>job_count</th>\n",
       "        <th>result_data_count</th>\n",
       "        <th>result_count</th>\n",
       "    </tr>\n",
       "    <tr>\n",
       "        <td>55</td>\n",
       "        <td>57</td>\n",
       "        <td>1</td>\n",
       "        <td>1410</td>\n",
       "        <td>1052</td>\n",
       "        <td>1084</td>\n",
       "    </tr>\n",
       "</table>"
      ],
      "text/plain": [
       "[(55, 57, 1, 1410, 1052, 1084)]"
      ]
     },
     "execution_count": 3,
     "metadata": {},
     "output_type": "execute_result"
    }
   ],
   "source": [
    "%%sql postgresql://postgres@localhost:$pgport/postgres\n",
    "select\n",
    "    (select count(*) from apks where apkname not like 'jar_%' and apkname not like 'spec_%') as apk_count,\n",
    "    (select count(*) from apks) as blob_count, \n",
    "    (select count(*) from inputs) as input_count, \n",
    "    (select count(*) from jobs) as job_count, \n",
    "    (select count(*) from resultdata) as result_data_count, \n",
    "    (select count(*) from results) as result_count"
   ]
  },
  {
   "cell_type": "code",
   "execution_count": 4,
   "metadata": {},
   "outputs": [
    {
     "name": "stdout",
     "output_type": "stream",
     "text": [
      " * postgresql://postgres@localhost:5433/postgres\n",
      "5 rows affected.\n"
     ]
    },
    {
     "data": {
      "text/html": [
       "<table>\n",
       "    <tr>\n",
       "        <th>count</th>\n",
       "        <th>category</th>\n",
       "    </tr>\n",
       "    <tr>\n",
       "        <td>55</td>\n",
       "        <td>&quot;SensitiveDerefFieldCausedSynch&quot;</td>\n",
       "    </tr>\n",
       "    <tr>\n",
       "        <td>357</td>\n",
       "        <td>&quot;Disallow.I_CIEnter_Dialogdismiss&quot;</td>\n",
       "    </tr>\n",
       "    <tr>\n",
       "        <td>163</td>\n",
       "        <td>&quot;Disallow.I_CIEnter_AsyncTaskexecute&quot;</td>\n",
       "    </tr>\n",
       "    <tr>\n",
       "        <td>33</td>\n",
       "        <td>&quot;SensitiveDerefFieldCausedFinish&quot;</td>\n",
       "    </tr>\n",
       "    <tr>\n",
       "        <td>802</td>\n",
       "        <td>&quot;SensitiveDerefCallinCaused&quot;</td>\n",
       "    </tr>\n",
       "</table>"
      ],
      "text/plain": [
       "[(55, '\"SensitiveDerefFieldCausedSynch\"'),\n",
       " (357, '\"Disallow.I_CIEnter_Dialogdismiss\"'),\n",
       " (163, '\"Disallow.I_CIEnter_AsyncTaskexecute\"'),\n",
       " (33, '\"SensitiveDerefFieldCausedFinish\"'),\n",
       " (802, '\"SensitiveDerefCallinCaused\"')]"
      ]
     },
     "execution_count": 4,
     "metadata": {},
     "output_type": "execute_result"
    }
   ],
   "source": [
    "%%sql -- count locations by pattern\n",
    "select count(*), cast(jobs.config::json->'tag'->'heuristicType' as varchar) as category from jobs group by category"
   ]
  },
  {
   "cell_type": "code",
   "execution_count": 53,
   "metadata": {},
   "outputs": [
    {
     "name": "stdout",
     "output_type": "stream",
     "text": [
      " * postgresql://postgres@localhost:5433/postgres\n",
      "1 rows affected.\n"
     ]
    },
    {
     "data": {
      "text/html": [
       "<table>\n",
       "    <tr>\n",
       "        <th>completed_jobs</th>\n",
       "        <th>new_jobs</th>\n",
       "        <th>paused_jobs</th>\n",
       "        <th>total_jobs</th>\n",
       "        <th>acquired_jobs</th>\n",
       "        <th>body_exception</th>\n",
       "        <th>unimplemented</th>\n",
       "        <th>exception</th>\n",
       "        <th>path_exception</th>\n",
       "        <th>refl_exception</th>\n",
       "        <th>worker_failure</th>\n",
       "        <th>subprocess_timeout</th>\n",
       "        <th>possible_cg_unsound</th>\n",
       "        <th>memory</th>\n",
       "    </tr>\n",
       "    <tr>\n",
       "        <td>1052</td>\n",
       "        <td>0</td>\n",
       "        <td>0</td>\n",
       "        <td>1410</td>\n",
       "        <td>0</td>\n",
       "        <td>0</td>\n",
       "        <td>0</td>\n",
       "        <td>0</td>\n",
       "        <td>0</td>\n",
       "        <td>0</td>\n",
       "        <td>15</td>\n",
       "        <td>343</td>\n",
       "        <td>0</td>\n",
       "        <td>0</td>\n",
       "    </tr>\n",
       "</table>"
      ],
      "text/plain": [
       "[(1052, 0, 0, 1410, 0, 0, 0, 0, 0, 0, 15, 343, 0, 0)]"
      ]
     },
     "execution_count": 53,
     "metadata": {},
     "output_type": "execute_result"
    }
   ],
   "source": [
    "%%sql --    # (select count(*) from jobs where status = 'new') as New_Jobs, # new jobs takes a while to run, only add if needed\n",
    "select \n",
    "    (select count(*) from jobs where status = 'completed') as Completed_Jobs,\n",
    "    (select count(*) from jobs where status = 'new') as New_Jobs,\n",
    "    (select count(*) from jobs where status = 'paused') as Paused_Jobs,\n",
    "    (select count(*) from jobs) as Total_Jobs,\n",
    "    (select count(*) from jobs where status = 'acquired') as Acquired_jobs,\n",
    "    (select count(id) from jobs \n",
    "       where stderr like '%Exception%no active body present for method%') as Body_Exception,\n",
    "    (select count(id) from jobs where stderr like '%an implementation is missing%') as unimplemented,\n",
    "    (select count(id) from jobs where stderr like '%Exception%') as Exception,\n",
    "    (select count(id) from jobs where stderr like '%no libz3java in java.library.path%') as path_exception,\n",
    "    (select count(id) from jobs where stderr like '%Failed to parse reflective type reference%') as Refl_exception,\n",
    "    (select count(id) from jobs where status like 'failed%' and status not like 'failed: Subprocess Timeout') as worker_failure,\n",
    "    (select count(id) from jobs where status like 'failed: Subprocess Timeout') as subprocess_timeout,\n",
    "    (select count(id) from jobs where stdout like '%empty pred location%') as possible_cg_unsound,\n",
    "    (select count(id) from jobs where stderr like '%OutOfMemory%') as memory\n",
    " "
   ]
  },
  {
   "cell_type": "code",
   "execution_count": 6,
   "metadata": {},
   "outputs": [
    {
     "name": "stdout",
     "output_type": "stream",
     "text": [
      " * postgresql://postgres@localhost:5433/postgres\n",
      "1 rows affected.\n",
      " * postgresql://postgres@localhost:5433/postgres\n",
      "1 rows affected.\n",
      " * postgresql://postgres@localhost:5433/postgres\n",
      "1 rows affected.\n",
      " * postgresql://postgres@localhost:5433/postgres\n",
      "1 rows affected.\n",
      "average time per job: 0:05:00.784273\n",
      "est remaining time: 0:00:00\n"
     ]
    }
   ],
   "source": [
    "#Estimate time until completion of all jobs\n",
    "\n",
    "totTime = %sql select now() - min(started) from jobs;\n",
    "completedJobs = %sql select count(*) from jobs where status = 'completed';\n",
    "timeoutJobs = %sql select count(*) from jobs where status like 'failed%';\n",
    "newJobs = %sql select count(*) from jobs where status = 'new';\n",
    "avgJobTime = totTime[0][0] / (completedJobs[0][0] + timeoutJobs[0][0])\n",
    "print(\"average time per job: \" + str(avgJobTime))\n",
    "print(\"est remaining time: \" + str(avgJobTime * newJobs[0][0]))"
   ]
  },
  {
   "cell_type": "code",
   "execution_count": 7,
   "metadata": {},
   "outputs": [
    {
     "name": "stdout",
     "output_type": "stream",
     "text": [
      " * postgresql://postgres@localhost:5433/postgres\n",
      "1 rows affected.\n"
     ]
    },
    {
     "data": {
      "text/html": [
       "<table>\n",
       "    <tr>\n",
       "        <th>count</th>\n",
       "    </tr>\n",
       "    <tr>\n",
       "        <td>0</td>\n",
       "    </tr>\n",
       "</table>"
      ],
      "text/plain": [
       "[(0,)]"
      ]
     },
     "execution_count": 7,
     "metadata": {},
     "output_type": "execute_result"
    }
   ],
   "source": [
    "%%sql \n",
    "select count(*) from jobs where jobs.status like '%existing results data nonempty%'\n"
   ]
  },
  {
   "cell_type": "markdown",
   "metadata": {},
   "source": [
    "Print jobs and statuses"
   ]
  },
  {
   "cell_type": "code",
   "execution_count": 8,
   "metadata": {},
   "outputs": [
    {
     "name": "stdout",
     "output_type": "stream",
     "text": [
      " * postgresql://postgres@localhost:5433/postgres\n",
      "33 rows affected.\n"
     ]
    },
    {
     "data": {
      "text/html": [
       "<table>\n",
       "    <tr>\n",
       "        <th>owner</th>\n",
       "        <th>jobcount</th>\n",
       "    </tr>\n",
       "    <tr>\n",
       "        <td>Linux historia 5.15.0-67-generic #74-Ubuntu SMP Wed Feb 22 14:14:39 UTC 2023 x86_64 x86_64 x86_64 GNU/Linux hostname: historia<br> uuid: b8998cf9-a271-4a3d-b22e-6222aeed5d81</td>\n",
       "        <td>1</td>\n",
       "    </tr>\n",
       "    <tr>\n",
       "        <td>Linux Loki 5.15.0-60-generic #66-Ubuntu SMP Fri Jan 20 14:29:49 UTC 2023 x86_64 x86_64 x86_64 GNU/Linux hostname: Loki<br> uuid: 6c6d05ef-0794-4d03-974a-f73eb2b2e6e6</td>\n",
       "        <td>1</td>\n",
       "    </tr>\n",
       "    <tr>\n",
       "        <td>Linux Loaner 5.19.0-35-generic #36-Ubuntu SMP PREEMPT_DYNAMIC Fri Feb 3 18:36:56 UTC 2023 x86_64 x86_64 x86_64 GNU/Linux hostname: Loaner<br> uuid: 6951971b-52ba-49f2-95b3-06dc525a3871</td>\n",
       "        <td>2</td>\n",
       "    </tr>\n",
       "    <tr>\n",
       "        <td>Linux historia 5.15.0-67-generic #74-Ubuntu SMP Wed Feb 22 14:14:39 UTC 2023 x86_64 x86_64 x86_64 GNU/Linux hostname: historia<br> uuid: be650c3e-03aa-4bf3-8eae-c3bc405a285a</td>\n",
       "        <td>2</td>\n",
       "    </tr>\n",
       "    <tr>\n",
       "        <td>Linux historia-uc-5 5.15.0-60-generic #66-Ubuntu SMP Fri Jan 20 14:29:49 UTC 2023 x86_64 x86_64 x86_64 GNU/Linux hostname: historia-uc-5<br> uuid: e7cd0d8d-1637-4742-b51c-8f49d87d202f</td>\n",
       "        <td>4</td>\n",
       "    </tr>\n",
       "    <tr>\n",
       "        <td>Linux Loaner 5.19.0-35-generic #36-Ubuntu SMP PREEMPT_DYNAMIC Fri Feb 3 18:36:56 UTC 2023 x86_64 x86_64 x86_64 GNU/Linux hostname: Loaner<br> uuid: b12b6f81-4e78-4812-ae54-0edc5af5e5c9</td>\n",
       "        <td>5</td>\n",
       "    </tr>\n",
       "    <tr>\n",
       "        <td>Linux historia3 5.15.0-67-generic #74-Ubuntu SMP Wed Feb 22 14:14:39 UTC 2023 x86_64 x86_64 x86_64 GNU/Linux hostname: historia3<br> uuid: 57205db1-53fd-4f30-a496-db980d6aa9fe</td>\n",
       "        <td>6</td>\n",
       "    </tr>\n",
       "    <tr>\n",
       "        <td>Linux historia-uc-5 5.15.0-60-generic #66-Ubuntu SMP Fri Jan 20 14:29:49 UTC 2023 x86_64 x86_64 x86_64 GNU/Linux hostname: historia-uc-5<br> uuid: f1e253b8-306a-4868-aa1a-f4f4ebbb32e3</td>\n",
       "        <td>8</td>\n",
       "    </tr>\n",
       "    <tr>\n",
       "        <td>Linux historia3 5.15.0-67-generic #74-Ubuntu SMP Wed Feb 22 14:14:39 UTC 2023 x86_64 x86_64 x86_64 GNU/Linux hostname: historia3<br> uuid: ef3e6906-efa6-4195-9c13-1808a1e81372</td>\n",
       "        <td>10</td>\n",
       "    </tr>\n",
       "    <tr>\n",
       "        <td>Linux historia-uc-5 5.15.0-60-generic #66-Ubuntu SMP Fri Jan 20 14:29:49 UTC 2023 x86_64 x86_64 x86_64 GNU/Linux hostname: historia-uc-5<br> uuid: 01ce0ac1-913d-4125-b1fa-cf2a4faadd9d</td>\n",
       "        <td>13</td>\n",
       "    </tr>\n",
       "    <tr>\n",
       "        <td>Linux historia-uc-4 5.15.0-60-generic #66-Ubuntu SMP Fri Jan 20 14:29:49 UTC 2023 x86_64 x86_64 x86_64 GNU/Linux hostname: historia-uc-4<br> uuid: 0ef19aa3-5064-4750-8d6f-0526b011df42</td>\n",
       "        <td>14</td>\n",
       "    </tr>\n",
       "    <tr>\n",
       "        <td>Linux historia-uc-4 5.15.0-60-generic #66-Ubuntu SMP Fri Jan 20 14:29:49 UTC 2023 x86_64 x86_64 x86_64 GNU/Linux hostname: historia-uc-4<br> uuid: 557371ec-0983-4637-a8d9-7c40693a07f4</td>\n",
       "        <td>15</td>\n",
       "    </tr>\n",
       "    <tr>\n",
       "        <td>Linux historia 5.15.0-67-generic #74-Ubuntu SMP Wed Feb 22 14:14:39 UTC 2023 x86_64 x86_64 x86_64 GNU/Linux hostname: historia<br> uuid: f3d17e35-de2b-4458-910a-eb4a7c6711e2</td>\n",
       "        <td>19</td>\n",
       "    </tr>\n",
       "    <tr>\n",
       "        <td>Linux historia-uc-5 5.15.0-60-generic #66-Ubuntu SMP Fri Jan 20 14:29:49 UTC 2023 x86_64 x86_64 x86_64 GNU/Linux hostname: historia-uc-5<br> uuid: a25c5d67-e19d-46d1-b683-4296380e541b</td>\n",
       "        <td>21</td>\n",
       "    </tr>\n",
       "    <tr>\n",
       "        <td>Linux historia 5.15.0-67-generic #74-Ubuntu SMP Wed Feb 22 14:14:39 UTC 2023 x86_64 x86_64 x86_64 GNU/Linux hostname: historia<br> uuid: 02b6b02e-eb93-46dc-a2d6-32d73bffd026</td>\n",
       "        <td>23</td>\n",
       "    </tr>\n",
       "    <tr>\n",
       "        <td>Linux historia-uc-4 5.15.0-60-generic #66-Ubuntu SMP Fri Jan 20 14:29:49 UTC 2023 x86_64 x86_64 x86_64 GNU/Linux hostname: historia-uc-4<br> uuid: e1c32bd8-7d39-40dc-aac7-9a8a85d87ed0</td>\n",
       "        <td>23</td>\n",
       "    </tr>\n",
       "    <tr>\n",
       "        <td>Linux historia-uc-5 5.15.0-60-generic #66-Ubuntu SMP Fri Jan 20 14:29:49 UTC 2023 x86_64 x86_64 x86_64 GNU/Linux hostname: historia-uc-5<br> uuid: 81483bbe-c6d9-475e-94ea-ecb219fac191</td>\n",
       "        <td>26</td>\n",
       "    </tr>\n",
       "    <tr>\n",
       "        <td>Linux historia-uc-4 5.15.0-60-generic #66-Ubuntu SMP Fri Jan 20 14:29:49 UTC 2023 x86_64 x86_64 x86_64 GNU/Linux hostname: historia-uc-4<br> uuid: 12d5e2ea-5e9e-4cdf-a3f6-51cc16e637f0</td>\n",
       "        <td>27</td>\n",
       "    </tr>\n",
       "    <tr>\n",
       "        <td>Linux historia-uc-5 5.15.0-60-generic #66-Ubuntu SMP Fri Jan 20 14:29:49 UTC 2023 x86_64 x86_64 x86_64 GNU/Linux hostname: historia-uc-5<br> uuid: ff60a5da-5b20-4bbb-bd0a-9ac7c053525b</td>\n",
       "        <td>29</td>\n",
       "    </tr>\n",
       "    <tr>\n",
       "        <td>Linux historia3 5.15.0-67-generic #74-Ubuntu SMP Wed Feb 22 14:14:39 UTC 2023 x86_64 x86_64 x86_64 GNU/Linux hostname: historia3<br> uuid: a8931834-5d57-4381-aca0-e5f0804c65e1</td>\n",
       "        <td>29</td>\n",
       "    </tr>\n",
       "    <tr>\n",
       "        <td>Linux historia-uc-4 5.15.0-60-generic #66-Ubuntu SMP Fri Jan 20 14:29:49 UTC 2023 x86_64 x86_64 x86_64 GNU/Linux hostname: historia-uc-4<br> uuid: 60bb9fa9-930b-4365-b27a-047cd7eb375f</td>\n",
       "        <td>38</td>\n",
       "    </tr>\n",
       "    <tr>\n",
       "        <td>Linux historia-uc-5 5.15.0-60-generic #66-Ubuntu SMP Fri Jan 20 14:29:49 UTC 2023 x86_64 x86_64 x86_64 GNU/Linux hostname: historia-uc-5<br> uuid: 1716165b-572f-4067-9ea2-633028ae2fde</td>\n",
       "        <td>41</td>\n",
       "    </tr>\n",
       "    <tr>\n",
       "        <td>Linux historia 5.15.0-67-generic #74-Ubuntu SMP Wed Feb 22 14:14:39 UTC 2023 x86_64 x86_64 x86_64 GNU/Linux hostname: historia<br> uuid: 71bf2ce5-9f0f-49f8-bc22-100fcc71d3e8</td>\n",
       "        <td>43</td>\n",
       "    </tr>\n",
       "    <tr>\n",
       "        <td>Linux historia3 5.15.0-67-generic #74-Ubuntu SMP Wed Feb 22 14:14:39 UTC 2023 x86_64 x86_64 x86_64 GNU/Linux hostname: historia3<br> uuid: 155723e9-ab79-435e-bfe1-d7b947d4ef35</td>\n",
       "        <td>43</td>\n",
       "    </tr>\n",
       "    <tr>\n",
       "        <td>Linux historia-uc-4 5.15.0-60-generic #66-Ubuntu SMP Fri Jan 20 14:29:49 UTC 2023 x86_64 x86_64 x86_64 GNU/Linux hostname: historia-uc-4<br> uuid: 71024319-8b3a-44c3-8d32-c7a5e65f7a69</td>\n",
       "        <td>47</td>\n",
       "    </tr>\n",
       "    <tr>\n",
       "        <td>Linux historia 5.15.0-67-generic #74-Ubuntu SMP Wed Feb 22 14:14:39 UTC 2023 x86_64 x86_64 x86_64 GNU/Linux hostname: historia<br> uuid: 5364681f-cc98-4fa7-bfbd-3f555c3882d7</td>\n",
       "        <td>48</td>\n",
       "    </tr>\n",
       "    <tr>\n",
       "        <td>Linux historia3 5.15.0-67-generic #74-Ubuntu SMP Wed Feb 22 14:14:39 UTC 2023 x86_64 x86_64 x86_64 GNU/Linux hostname: historia3<br> uuid: 3025f317-fd54-4b45-80f7-242e71301c5c</td>\n",
       "        <td>56</td>\n",
       "    </tr>\n",
       "    <tr>\n",
       "        <td>Linux Loaner 5.19.0-35-generic #36-Ubuntu SMP PREEMPT_DYNAMIC Fri Feb 3 18:36:56 UTC 2023 x86_64 x86_64 x86_64 GNU/Linux hostname: Loaner<br> uuid: 9ccb5f66-1945-48ac-85e0-b34511538bd2</td>\n",
       "        <td>60</td>\n",
       "    </tr>\n",
       "    <tr>\n",
       "        <td>Linux historia 5.15.0-67-generic #74-Ubuntu SMP Wed Feb 22 14:14:39 UTC 2023 x86_64 x86_64 x86_64 GNU/Linux hostname: historia<br> uuid: 2d94ded1-86be-4395-8c87-c3e253fe6703</td>\n",
       "        <td>69</td>\n",
       "    </tr>\n",
       "    <tr>\n",
       "        <td>Linux historia 5.15.0-67-generic #74-Ubuntu SMP Wed Feb 22 14:14:39 UTC 2023 x86_64 x86_64 x86_64 GNU/Linux hostname: historia<br> uuid: 456e3ff9-ac47-4810-a8c6-83d1d963ea13</td>\n",
       "        <td>69</td>\n",
       "    </tr>\n",
       "    <tr>\n",
       "        <td>Linux Loki 5.15.0-60-generic #66-Ubuntu SMP Fri Jan 20 14:29:49 UTC 2023 x86_64 x86_64 x86_64 GNU/Linux hostname: Loki<br> uuid: 73d279c6-529e-4e75-b3bb-4c847497d1c4</td>\n",
       "        <td>84</td>\n",
       "    </tr>\n",
       "    <tr>\n",
       "        <td>Linux historia3 5.15.0-67-generic #74-Ubuntu SMP Wed Feb 22 14:14:39 UTC 2023 x86_64 x86_64 x86_64 GNU/Linux hostname: historia3<br> uuid: b35cea0f-6968-4fff-8e40-696f158c3387</td>\n",
       "        <td>88</td>\n",
       "    </tr>\n",
       "    <tr>\n",
       "        <td>Linux historia3 5.15.0-67-generic #74-Ubuntu SMP Wed Feb 22 14:14:39 UTC 2023 x86_64 x86_64 x86_64 GNU/Linux hostname: historia3<br> uuid: 2eff7522-528d-4e8d-ad94-70c0649124f6</td>\n",
       "        <td>88</td>\n",
       "    </tr>\n",
       "</table>"
      ],
      "text/plain": [
       "[('Linux historia 5.15.0-67-generic #74-Ubuntu SMP Wed Feb 22 14:14:39 UTC 2023 x86_64 x86_64 x86_64 GNU/Linux hostname: historia\\n uuid: b8998cf9-a271-4a3d-b22e-6222aeed5d81', 1),\n",
       " ('Linux Loki 5.15.0-60-generic #66-Ubuntu SMP Fri Jan 20 14:29:49 UTC 2023 x86_64 x86_64 x86_64 GNU/Linux hostname: Loki\\n uuid: 6c6d05ef-0794-4d03-974a-f73eb2b2e6e6', 1),\n",
       " ('Linux Loaner 5.19.0-35-generic #36-Ubuntu SMP PREEMPT_DYNAMIC Fri Feb 3 18:36:56 UTC 2023 x86_64 x86_64 x86_64 GNU/Linux hostname: Loaner\\n uuid: 6951971b-52ba-49f2-95b3-06dc525a3871', 2),\n",
       " ('Linux historia 5.15.0-67-generic #74-Ubuntu SMP Wed Feb 22 14:14:39 UTC 2023 x86_64 x86_64 x86_64 GNU/Linux hostname: historia\\n uuid: be650c3e-03aa-4bf3-8eae-c3bc405a285a', 2),\n",
       " ('Linux historia-uc-5 5.15.0-60-generic #66-Ubuntu SMP Fri Jan 20 14:29:49 UTC 2023 x86_64 x86_64 x86_64 GNU/Linux hostname: historia-uc-5\\n uuid: e7cd0d8d-1637-4742-b51c-8f49d87d202f', 4),\n",
       " ('Linux Loaner 5.19.0-35-generic #36-Ubuntu SMP PREEMPT_DYNAMIC Fri Feb 3 18:36:56 UTC 2023 x86_64 x86_64 x86_64 GNU/Linux hostname: Loaner\\n uuid: b12b6f81-4e78-4812-ae54-0edc5af5e5c9', 5),\n",
       " ('Linux historia3 5.15.0-67-generic #74-Ubuntu SMP Wed Feb 22 14:14:39 UTC 2023 x86_64 x86_64 x86_64 GNU/Linux hostname: historia3\\n uuid: 57205db1-53fd-4f30-a496-db980d6aa9fe', 6),\n",
       " ('Linux historia-uc-5 5.15.0-60-generic #66-Ubuntu SMP Fri Jan 20 14:29:49 UTC 2023 x86_64 x86_64 x86_64 GNU/Linux hostname: historia-uc-5\\n uuid: f1e253b8-306a-4868-aa1a-f4f4ebbb32e3', 8),\n",
       " ('Linux historia3 5.15.0-67-generic #74-Ubuntu SMP Wed Feb 22 14:14:39 UTC 2023 x86_64 x86_64 x86_64 GNU/Linux hostname: historia3\\n uuid: ef3e6906-efa6-4195-9c13-1808a1e81372', 10),\n",
       " ('Linux historia-uc-5 5.15.0-60-generic #66-Ubuntu SMP Fri Jan 20 14:29:49 UTC 2023 x86_64 x86_64 x86_64 GNU/Linux hostname: historia-uc-5\\n uuid: 01ce0ac1-913d-4125-b1fa-cf2a4faadd9d', 13),\n",
       " ('Linux historia-uc-4 5.15.0-60-generic #66-Ubuntu SMP Fri Jan 20 14:29:49 UTC 2023 x86_64 x86_64 x86_64 GNU/Linux hostname: historia-uc-4\\n uuid: 0ef19aa3-5064-4750-8d6f-0526b011df42', 14),\n",
       " ('Linux historia-uc-4 5.15.0-60-generic #66-Ubuntu SMP Fri Jan 20 14:29:49 UTC 2023 x86_64 x86_64 x86_64 GNU/Linux hostname: historia-uc-4\\n uuid: 557371ec-0983-4637-a8d9-7c40693a07f4', 15),\n",
       " ('Linux historia 5.15.0-67-generic #74-Ubuntu SMP Wed Feb 22 14:14:39 UTC 2023 x86_64 x86_64 x86_64 GNU/Linux hostname: historia\\n uuid: f3d17e35-de2b-4458-910a-eb4a7c6711e2', 19),\n",
       " ('Linux historia-uc-5 5.15.0-60-generic #66-Ubuntu SMP Fri Jan 20 14:29:49 UTC 2023 x86_64 x86_64 x86_64 GNU/Linux hostname: historia-uc-5\\n uuid: a25c5d67-e19d-46d1-b683-4296380e541b', 21),\n",
       " ('Linux historia 5.15.0-67-generic #74-Ubuntu SMP Wed Feb 22 14:14:39 UTC 2023 x86_64 x86_64 x86_64 GNU/Linux hostname: historia\\n uuid: 02b6b02e-eb93-46dc-a2d6-32d73bffd026', 23),\n",
       " ('Linux historia-uc-4 5.15.0-60-generic #66-Ubuntu SMP Fri Jan 20 14:29:49 UTC 2023 x86_64 x86_64 x86_64 GNU/Linux hostname: historia-uc-4\\n uuid: e1c32bd8-7d39-40dc-aac7-9a8a85d87ed0', 23),\n",
       " ('Linux historia-uc-5 5.15.0-60-generic #66-Ubuntu SMP Fri Jan 20 14:29:49 UTC 2023 x86_64 x86_64 x86_64 GNU/Linux hostname: historia-uc-5\\n uuid: 81483bbe-c6d9-475e-94ea-ecb219fac191', 26),\n",
       " ('Linux historia-uc-4 5.15.0-60-generic #66-Ubuntu SMP Fri Jan 20 14:29:49 UTC 2023 x86_64 x86_64 x86_64 GNU/Linux hostname: historia-uc-4\\n uuid: 12d5e2ea-5e9e-4cdf-a3f6-51cc16e637f0', 27),\n",
       " ('Linux historia-uc-5 5.15.0-60-generic #66-Ubuntu SMP Fri Jan 20 14:29:49 UTC 2023 x86_64 x86_64 x86_64 GNU/Linux hostname: historia-uc-5\\n uuid: ff60a5da-5b20-4bbb-bd0a-9ac7c053525b', 29),\n",
       " ('Linux historia3 5.15.0-67-generic #74-Ubuntu SMP Wed Feb 22 14:14:39 UTC 2023 x86_64 x86_64 x86_64 GNU/Linux hostname: historia3\\n uuid: a8931834-5d57-4381-aca0-e5f0804c65e1', 29),\n",
       " ('Linux historia-uc-4 5.15.0-60-generic #66-Ubuntu SMP Fri Jan 20 14:29:49 UTC 2023 x86_64 x86_64 x86_64 GNU/Linux hostname: historia-uc-4\\n uuid: 60bb9fa9-930b-4365-b27a-047cd7eb375f', 38),\n",
       " ('Linux historia-uc-5 5.15.0-60-generic #66-Ubuntu SMP Fri Jan 20 14:29:49 UTC 2023 x86_64 x86_64 x86_64 GNU/Linux hostname: historia-uc-5\\n uuid: 1716165b-572f-4067-9ea2-633028ae2fde', 41),\n",
       " ('Linux historia 5.15.0-67-generic #74-Ubuntu SMP Wed Feb 22 14:14:39 UTC 2023 x86_64 x86_64 x86_64 GNU/Linux hostname: historia\\n uuid: 71bf2ce5-9f0f-49f8-bc22-100fcc71d3e8', 43),\n",
       " ('Linux historia3 5.15.0-67-generic #74-Ubuntu SMP Wed Feb 22 14:14:39 UTC 2023 x86_64 x86_64 x86_64 GNU/Linux hostname: historia3\\n uuid: 155723e9-ab79-435e-bfe1-d7b947d4ef35', 43),\n",
       " ('Linux historia-uc-4 5.15.0-60-generic #66-Ubuntu SMP Fri Jan 20 14:29:49 UTC 2023 x86_64 x86_64 x86_64 GNU/Linux hostname: historia-uc-4\\n uuid: 71024319-8b3a-44c3-8d32-c7a5e65f7a69', 47),\n",
       " ('Linux historia 5.15.0-67-generic #74-Ubuntu SMP Wed Feb 22 14:14:39 UTC 2023 x86_64 x86_64 x86_64 GNU/Linux hostname: historia\\n uuid: 5364681f-cc98-4fa7-bfbd-3f555c3882d7', 48),\n",
       " ('Linux historia3 5.15.0-67-generic #74-Ubuntu SMP Wed Feb 22 14:14:39 UTC 2023 x86_64 x86_64 x86_64 GNU/Linux hostname: historia3\\n uuid: 3025f317-fd54-4b45-80f7-242e71301c5c', 56),\n",
       " ('Linux Loaner 5.19.0-35-generic #36-Ubuntu SMP PREEMPT_DYNAMIC Fri Feb 3 18:36:56 UTC 2023 x86_64 x86_64 x86_64 GNU/Linux hostname: Loaner\\n uuid: 9ccb5f66-1945-48ac-85e0-b34511538bd2', 60),\n",
       " ('Linux historia 5.15.0-67-generic #74-Ubuntu SMP Wed Feb 22 14:14:39 UTC 2023 x86_64 x86_64 x86_64 GNU/Linux hostname: historia\\n uuid: 2d94ded1-86be-4395-8c87-c3e253fe6703', 69),\n",
       " ('Linux historia 5.15.0-67-generic #74-Ubuntu SMP Wed Feb 22 14:14:39 UTC 2023 x86_64 x86_64 x86_64 GNU/Linux hostname: historia\\n uuid: 456e3ff9-ac47-4810-a8c6-83d1d963ea13', 69),\n",
       " ('Linux Loki 5.15.0-60-generic #66-Ubuntu SMP Fri Jan 20 14:29:49 UTC 2023 x86_64 x86_64 x86_64 GNU/Linux hostname: Loki\\n uuid: 73d279c6-529e-4e75-b3bb-4c847497d1c4', 84),\n",
       " ('Linux historia3 5.15.0-67-generic #74-Ubuntu SMP Wed Feb 22 14:14:39 UTC 2023 x86_64 x86_64 x86_64 GNU/Linux hostname: historia3\\n uuid: b35cea0f-6968-4fff-8e40-696f158c3387', 88),\n",
       " ('Linux historia3 5.15.0-67-generic #74-Ubuntu SMP Wed Feb 22 14:14:39 UTC 2023 x86_64 x86_64 x86_64 GNU/Linux hostname: historia3\\n uuid: 2eff7522-528d-4e8d-ad94-70c0649124f6', 88)]"
      ]
     },
     "execution_count": 8,
     "metadata": {},
     "output_type": "execute_result"
    }
   ],
   "source": [
    "%%sql\n",
    "select owner,count(*) as jobcount from jobs where status ='completed' group by owner order by jobcount;"
   ]
  },
  {
   "cell_type": "code",
   "execution_count": 9,
   "metadata": {},
   "outputs": [
    {
     "name": "stdout",
     "output_type": "stream",
     "text": [
      " * postgresql://postgres@localhost:5433/postgres\n",
      "1 rows affected.\n"
     ]
    },
    {
     "data": {
      "text/html": [
       "<table>\n",
       "    <tr>\n",
       "        <th>loki</th>\n",
       "        <th>loan</th>\n",
       "        <th>zen3</th>\n",
       "        <th>cascadelake_r</th>\n",
       "    </tr>\n",
       "    <tr>\n",
       "        <td>0:11:06.082153</td>\n",
       "        <td>0:13:12.974776</td>\n",
       "        <td>0:15:39.948423</td>\n",
       "        <td>0:19:35.193863</td>\n",
       "    </tr>\n",
       "</table>"
      ],
      "text/plain": [
       "[(datetime.timedelta(seconds=666, microseconds=82153), datetime.timedelta(seconds=792, microseconds=974776), datetime.timedelta(seconds=939, microseconds=948423), datetime.timedelta(seconds=1175, microseconds=193863))]"
      ]
     },
     "execution_count": 9,
     "metadata": {},
     "output_type": "execute_result"
    }
   ],
   "source": [
    "%%sql\n",
    "select \n",
    "  (select avg(ended - started) from jobs where owner like '%Loki%' and status = 'completed') as Loki,\n",
    "    (select avg(ended - started) from jobs where owner like '%Loan%' and status = 'completed') as Loan,\n",
    "    (select avg(ended - started) from jobs where owner like '% historia %' or owner like '%historia3%' and status = 'completed') as zen3,\n",
    "    (select avg(ended - started) from jobs where owner like '%historia-uc%' and status = 'completed') as cascadelake_r"
   ]
  },
  {
   "cell_type": "code",
   "execution_count": 10,
   "metadata": {
    "tags": []
   },
   "outputs": [
    {
     "name": "stdout",
     "output_type": "stream",
     "text": [
      " * postgresql://postgres@localhost:5433/postgres\n",
      "0 rows affected.\n"
     ]
    }
   ],
   "source": [
    "# find exceptions\n",
    "#%%sql \n",
    "#select replace(cast(stderr as varchar),'$','\\$') from jobs where stderr like '%Exception%' limit 1;\n",
    "outs = %sql select stderr,config from jobs where stderr like '%Exception%' and stderr not like '%OutOfMemory%' order by random() limit 1;\n",
    "for out in outs:\n",
    "    print(out[1])\n",
    "    print(out[0])\n"
   ]
  },
  {
   "cell_type": "code",
   "execution_count": 11,
   "metadata": {},
   "outputs": [
    {
     "name": "stdout",
     "output_type": "stream",
     "text": [
      " * postgresql://postgres@localhost:5433/postgres\n",
      "2 rows affected.\n"
     ]
    },
    {
     "data": {
      "text/html": [
       "<table>\n",
       "    <tr>\n",
       "        <th>result</th>\n",
       "        <th>category</th>\n",
       "        <th>count</th>\n",
       "    </tr>\n",
       "    <tr>\n",
       "        <td>&quot;\\&quot;Ijava.lang.IllegalArgumentException: cannot union primitive type set with: PrimTypeSet(byte)\\&quot;&quot;</td>\n",
       "        <td>&quot;Disallow.I_CIEnter_AsyncTaskexecute&quot;</td>\n",
       "        <td>3</td>\n",
       "    </tr>\n",
       "    <tr>\n",
       "        <td>&quot;\\&quot;Unreachable\\&quot;&quot;</td>\n",
       "        <td>&quot;Disallow.I_CIEnter_AsyncTaskexecute&quot;</td>\n",
       "        <td>168</td>\n",
       "    </tr>\n",
       "</table>"
      ],
      "text/plain": [
       "[('\"\\\\\"Ijava.lang.IllegalArgumentException: cannot union primitive type set with: PrimTypeSet(byte)\\\\\"\"', '\"Disallow.I_CIEnter_AsyncTaskexecute\"', 3),\n",
       " ('\"\\\\\"Unreachable\\\\\"\"', '\"Disallow.I_CIEnter_AsyncTaskexecute\"', 168)]"
      ]
     },
     "execution_count": 11,
     "metadata": {},
     "output_type": "execute_result"
    }
   ],
   "source": [
    "%%sql -- look at results by tag\n",
    "select cast(results.result::json->'summary' as varchar) as result, \n",
    "    cast(jobs.config::json->'tag'->'heuristicType' as varchar) as category, \n",
    "    count(*)\n",
    "    from results inner join jobs on results.jobid=jobs.id where cast(jobs.config::json->'tag'->'heuristicType' as varchar)  like '%execute%'\n",
    "    group by cast(results.result::json->'summary' as varchar),\n",
    "    cast(jobs.config::json->'tag'->'heuristicType' as varchar)"
   ]
  },
  {
   "cell_type": "code",
   "execution_count": 45,
   "metadata": {},
   "outputs": [
    {
     "name": "stdout",
     "output_type": "stream",
     "text": [
      " * postgresql://postgres@localhost:5433/postgres\n",
      "3 rows affected.\n"
     ]
    },
    {
     "data": {
      "text/html": [
       "<table>\n",
       "    <tr>\n",
       "        <th>count</th>\n",
       "        <th>varchar</th>\n",
       "    </tr>\n",
       "    <tr>\n",
       "        <td>5</td>\n",
       "        <td>&quot;\\&quot;Ijava.lang.IllegalArgumentException: cannot union primitive type set with: PrimTypeSet(byte)\\&quot;&quot;</td>\n",
       "    </tr>\n",
       "    <tr>\n",
       "        <td>5</td>\n",
       "        <td>&quot;\\&quot;Timeout\\&quot;&quot;</td>\n",
       "    </tr>\n",
       "    <tr>\n",
       "        <td>44</td>\n",
       "        <td>&quot;\\&quot;Unreachable\\&quot;&quot;</td>\n",
       "    </tr>\n",
       "</table>"
      ],
      "text/plain": [
       "[(5, '\"\\\\\"Ijava.lang.IllegalArgumentException: cannot union primitive type set with: PrimTypeSet(byte)\\\\\"\"'),\n",
       " (5, '\"\\\\\"Timeout\\\\\"\"'),\n",
       " (44, '\"\\\\\"Unreachable\\\\\"\"')]"
      ]
     },
     "execution_count": 45,
     "metadata": {},
     "output_type": "execute_result"
    }
   ],
   "source": [
    "%%sql -- results of SensitiveDerefFieldCausedSynch count\n",
    "select count(*),cast(results.result::json->'summary' as varchar) from jobs inner join results on jobs.id=results.jobid \n",
    "where cast(jobs.config::json->'tag'->'heuristicType' as varchar) like '%SensitiveDerefFieldCausedSynch%' \n",
    "group by cast(results.result::json->'summary' as varchar)\n"
   ]
  },
  {
   "cell_type": "code",
   "execution_count": 49,
   "metadata": {},
   "outputs": [
    {
     "name": "stdout",
     "output_type": "stream",
     "text": [
      " * postgresql://postgres@localhost:5433/postgres\n",
      "44 rows affected.\n"
     ]
    }
   ],
   "source": [
    "cfg = %sql select jobs.config from jobs inner join results on jobs.id=results.jobid where cast(jobs.config::json->'tag'->'heuristicType' as varchar) like '%SensitiveDerefFieldCausedSynch%'  and cast(results.result::json->'summary' as varchar) like '%Unreach%'"
   ]
  },
  {
   "cell_type": "code",
   "execution_count": 51,
   "metadata": {},
   "outputs": [
    {
     "data": {
      "text/plain": [
       "'{\"apkPath\":\"${baseDir}/fdroid/org.sipdroid.sipua/6.3beta/apk/org.sipdroid.sipua_134.apk\",\"outFolder\":[\"${baseDirOut}/org.sipdroid.sipua\"],\"specSet\":\"{\\\\\"specs\\\\\":[],\\\\\"disallow\\\\\":[{\\\\\"univQuant\\\\\":[{\\\\\"$type\\\\\":\\\\\"edu.colorado.plv.bounder.symbolicexecutor.state.NamedPureVar\\\\\",\\\\\"n\\\\\":\\\\\"a\\\\\"},{\\\\\"$type\\\\\":\\\\\"edu.colorado.plv.bounder.symbolicexecutor.state.NamedPureVar\\\\\",\\\\\"n\\\\\":\\\\\"f\\\\\"}],\\\\\"existQuant\\\\\":[],\\\\\"pred\\\\\":{\\\\\"$type\\\\\":\\\\\"edu.colorado.plv.bounder.lifestate.LifeState.Or\\\\\",\\\\\"l1\\\\\":{\\\\\"$type\\\\\":\\\\\"edu.colorado.plv.bounder.lifestate.LifeState.NS\\\\\",\\\\\"i1\\\\\":{\\\\\"$type\\\\\":\\\\\"edu.colorado.plv.bounder.lifestate.LifeState.OAbsMsg\\\\\",\\\\\"mt\\\\\":{\\\\\"$type\\\\\":\\\\\"edu.colorado.plv.bounder.ir.CBExit\\\\\"},\\\\\"signatures\\\\\":{\\\\\"$type\\\\\":\\\\\"edu.colorado.plv.bounder.lifestate.LifeState.SubClassMatcher\\\\\",\\\\\"baseSubtypeOf\\\\\":[\\\\\"android.app.Fragment\\\\\",\\\\\"androidx.fragment.app.Fragment\\\\\",\\\\\"android.support.v4.app.Fragment\\\\\"],\\\\\"signatureMatcher\\\\\":\\\\\"void onDestroy\\\\\\\\\\\\\\\\(\\\\\\\\\\\\\\\\)\\\\\",\\\\\"ident\\\\\":\\\\\"Fragment_onDestroy\\\\\"},\\\\\"lsVars\\\\\":[{\\\\\"$type\\\\\":\\\\\"edu.colorado.plv.bounder.symbolicexecutor.state.TopVal\\\\\"},{\\\\\"$type\\\\\":\\\\\"edu.colorado.plv.bounder.symbolicexecutor.state.NamedPureVar\\\\\",\\\\\"n\\\\\":\\\\\"f\\\\\"}]},\\\\\"i2\\\\\":{\\\\\"$type\\\\\":\\\\\"edu.colorado.plv.bounder.lifestate.LifeState.OAbsMsg\\\\\",\\\\\"mt\\\\\":{\\\\\"$type\\\\\":\\\\\"edu.colorado.plv.bounder.ir.CBEnter\\\\\"},\\\\\"signatures\\\\\":{\\\\\"$type\\\\\":\\\\\"edu.colorado.plv.bounder.lifestate.LifeState.SubClassMatcher\\\\\",\\\\\"baseSubtypeOf\\\\\":[\\\\\"android.app.Fragment\\\\\",\\\\\"androidx.fragment.app.Fragment\\\\\",\\\\\"android.support.v4.app.Fragment\\\\\"],\\\\\"signatureMatcher\\\\\":\\\\\"void onActivityCreated\\\\\\\\\\\\\\\\(android.os.Bundle\\\\\\\\\\\\\\\\)\\\\\",\\\\\"ident\\\\\":\\\\\"Fragment_onActivityCreated\\\\\"},\\\\\"lsVars\\\\\":[{\\\\\"$type\\\\\":\\\\\"edu.colorado.plv.bounder.symbolicexecutor.state.TopVal\\\\\"},{\\\\\"$type\\\\\":\\\\\"edu.colorado.plv.bounder.symbolicexecutor.state.NamedPureVar\\\\\",\\\\\"n\\\\\":\\\\\"f\\\\\"}]}},\\\\\"l2\\\\\":{\\\\\"$type\\\\\":\\\\\"edu.colorado.plv.bounder.lifestate.LifeState.Not\\\\\",\\\\\"p\\\\\":{\\\\\"$type\\\\\":\\\\\"edu.colorado.plv.bounder.lifestate.LifeState.OAbsMsg\\\\\",\\\\\"mt\\\\\":{\\\\\"$type\\\\\":\\\\\"edu.colorado.plv.bounder.ir.CBEnter\\\\\"},\\\\\"signatures\\\\\":{\\\\\"$type\\\\\":\\\\\"edu.colorado.plv.bounder.lifestate.LifeState.SubClassMatcher\\\\\",\\\\\"baseSubtypeOf\\\\\":[\\\\\"android.app.Fragment\\\\\",\\\\\"androidx.fragment.app.Fragment\\\\\",\\\\\"android.support.v4.app.Fragment\\\\\"],\\\\\"signatureMatcher\\\\\":\\\\\"void onActivityCreated\\\\\\\\\\\\\\\\(android.os.Bundle\\\\\\\\\\\\\\\\)\\\\\",\\\\\"ident\\\\\":\\\\\"Fragment_onActivityCreated\\\\\"},\\\\\"lsVars\\\\\":[{\\\\\"$type\\\\\":\\\\\"edu.colorado.plv.bounder.symbolicexecutor.state.TopVal\\\\\"},{\\\\\"$type\\\\\":\\\\\"edu.colorado.plv.bounder.symbolicexecutor.state.NamedPureVar\\\\\",\\\\\"n\\\\\":\\\\\"f\\\\\"}]}}},\\\\\"target\\\\\":{\\\\\"$type\\\\\":\\\\\"edu.colorado.plv.bounder.lifestate.LifeState.OAbsMsg\\\\\",\\\\\"mt\\\\\":{\\\\\"$type\\\\\":\\\\\"edu.colorado.plv.bounder.ir.CIExit\\\\\"},\\\\\"signatures\\\\\":{\\\\\"$type\\\\\":\\\\\"edu.colorado.plv.bounder.lifestate.LifeState.SubClassMatcher\\\\\",\\\\\"baseSubtypeOf\\\\\":[\\\\\"android.app.Fragment\\\\\",\\\\\"androidx.fragment.app.Fragment\\\\\",\\\\\"android.support.v4.app.Fragment\\\\\"],\\\\\"signatureMatcher\\\\\":\\\\\".*Activity getActivity\\\\\\\\\\\\\\\\(\\\\\\\\\\\\\\\\)\\\\\",\\\\\"ident\\\\\":\\\\\"Fragment_getActivity\\\\\"},\\\\\"lsVars\\\\\":[{\\\\\"$type\\\\\":\\\\\"edu.colorado.plv.bounder.symbolicexecutor.state.NamedPureVar\\\\\",\\\\\"n\\\\\":\\\\\"a\\\\\"},{\\\\\"$type\\\\\":\\\\\"edu.colorado.plv.bounder.symbolicexecutor.state.NamedPureVar\\\\\",\\\\\"n\\\\\":\\\\\"f\\\\\"}]},\\\\\"rhsConstraints\\\\\":[{\\\\\"$type\\\\\":\\\\\"edu.colorado.plv.bounder.lifestate.LifeState.LSConstraint\\\\\",\\\\\"v1\\\\\":{\\\\\"$type\\\\\":\\\\\"edu.colorado.plv.bounder.symbolicexecutor.state.NamedPureVar\\\\\",\\\\\"n\\\\\":\\\\\"a\\\\\"},\\\\\"op\\\\\":{\\\\\"$type\\\\\":\\\\\"edu.colorado.plv.bounder.symbolicexecutor.state.Equals\\\\\"},\\\\\"v2\\\\\":{\\\\\"$type\\\\\":\\\\\"edu.colorado.plv.bounder.symbolicexecutor.state.NullVal\\\\\"}}]},{\\\\\"univQuant\\\\\":[{\\\\\"$type\\\\\":\\\\\"edu.colorado.plv.bounder.symbolicexecutor.state.NamedPureVar\\\\\",\\\\\"n\\\\\":\\\\\"t\\\\\"}],\\\\\"existQuant\\\\\":[],\\\\\"pred\\\\\":{\\\\\"$type\\\\\":\\\\\"edu.colorado.plv.bounder.lifestate.LifeState.OAbsMsg\\\\\",\\\\\"mt\\\\\":{\\\\\"$type\\\\\":\\\\\"edu.colorado.plv.bounder.ir.CIExit\\\\\"},\\\\\"signatures\\\\\":{\\\\\"$type\\\\\":\\\\\"edu.colorado.plv.bounder.lifestate.LifeState.SubClassMatcher\\\\\",\\\\\"baseSubtypeOf\\\\\":[\\\\\"android.os.AsyncTask\\\\\"],\\\\\"signatureMatcher\\\\\":\\\\\".*AsyncTask execute\\\\\\\\\\\\\\\\(.*\\\\\\\\\\\\\\\\)\\\\\",\\\\\"ident\\\\\":\\\\\"AsyncTask_execute\\\\\"},\\\\\"lsVars\\\\\":[{\\\\\"$type\\\\\":\\\\\"edu.colorado.plv.bounder.symbolicexecutor.state.TopVal\\\\\"},{\\\\\"$type\\\\\":\\\\\"edu.colorado.plv.bounder.symbolicexecutor.state.NamedPureVar\\\\\",\\\\\"n\\\\\":\\\\\"t\\\\\"}]},\\\\\"target\\\\\":{\\\\\"$type\\\\\":\\\\\"edu.colorado.plv.bounder.lifestate.LifeState.OAbsMsg\\\\\",\\\\\"mt\\\\\":{\\\\\"$type\\\\\":\\\\\"edu.colorado.plv.bounder.ir.CIEnter\\\\\"},\\\\\"signatures\\\\\":{\\\\\"$type\\\\\":\\\\\"edu.colorado.plv.bounder.lifestate.LifeState.SubClassMatcher\\\\\",\\\\\"baseSubtypeOf\\\\\":[\\\\\"android.os.AsyncTask\\\\\"],\\\\\"signatureMatcher\\\\\":\\\\\".*AsyncTask execute\\\\\\\\\\\\\\\\(.*\\\\\\\\\\\\\\\\)\\\\\",\\\\\"ident\\\\\":\\\\\"AsyncTask_execute\\\\\"},\\\\\"lsVars\\\\\":[{\\\\\"$type\\\\\":\\\\\"edu.colorado.plv.bounder.symbolicexecutor.state.TopVal\\\\\"},{\\\\\"$type\\\\\":\\\\\"edu.colorado.plv.bounder.symbolicexecutor.state.NamedPureVar\\\\\",\\\\\"n\\\\\":\\\\\"t\\\\\"}]}},{\\\\\"univQuant\\\\\":[{\\\\\"$type\\\\\":\\\\\"edu.colorado.plv.bounder.symbolicexecutor.state.NamedPureVar\\\\\",\\\\\"n\\\\\":\\\\\"d\\\\\"}],\\\\\"existQuant\\\\\":[{\\\\\"$type\\\\\":\\\\\"edu.colorado.plv.bounder.symbolicexecutor.state.NamedPureVar\\\\\",\\\\\"n\\\\\":\\\\\"a\\\\\"}],\\\\\"pred\\\\\":{\\\\\"$type\\\\\":\\\\\"edu.colorado.plv.bounder.lifestate.LifeState.And\\\\\",\\\\\"l1\\\\\":{\\\\\"$type\\\\\":\\\\\"edu.colorado.plv.bounder.lifestate.LifeState.OAbsMsg\\\\\",\\\\\"mt\\\\\":{\\\\\"$type\\\\\":\\\\\"edu.colorado.plv.bounder.ir.CIExit\\\\\"},\\\\\"signatures\\\\\":{\\\\\"$type\\\\\":\\\\\"edu.colorado.plv.bounder.lifestate.LifeState.SubClassMatcher\\\\\",\\\\\"baseSubtypeOf\\\\\":[\\\\\"android.app.ProgressDialog\\\\\",\\\\\"android.app.Dialog\\\\\"],\\\\\"signatureMatcher\\\\\":\\\\\".*show.*\\\\\",\\\\\"ident\\\\\":\\\\\"Dialog_show\\\\\"},\\\\\"lsVars\\\\\":[{\\\\\"$type\\\\\":\\\\\"edu.colorado.plv.bounder.symbolicexecutor.state.NamedPureVar\\\\\",\\\\\"n\\\\\":\\\\\"d\\\\\"},{\\\\\"$type\\\\\":\\\\\"edu.colorado.plv.bounder.symbolicexecutor.state.TopVal\\\\\"},{\\\\\"$type\\\\\":\\\\\"edu.colorado.plv.bounder.symbolicexecutor.state.NamedPureVar\\\\\",\\\\\"n\\\\\":\\\\\"a\\\\\"}]},\\\\\"l2\\\\\":{\\\\\"$type\\\\\":\\\\\"edu.colorado.plv.bounder.lifestate.LifeState.Or\\\\\",\\\\\"l1\\\\\":{\\\\\"$type\\\\\":\\\\\"edu.colorado.plv.bounder.lifestate.LifeState.Not\\\\\",\\\\\"p\\\\\":{\\\\\"$type\\\\\":\\\\\"edu.colorado.plv.bounder.lifestate.LifeState.OAbsMsg\\\\\",\\\\\"mt\\\\\":{\\\\\"$type\\\\\":\\\\\"edu.colorado.plv.bounder.ir.CBEnter\\\\\"},\\\\\"signatures\\\\\":{\\\\\"$type\\\\\":\\\\\"edu.colorado.plv.bounder.lifestate.LifeState.SubClassMatcher\\\\\",\\\\\"baseSubtypeOf\\\\\":[\\\\\"android.app.Activity\\\\\",\\\\\"androidx.fragment.app.FragmentActivity\\\\\"],\\\\\"signatureMatcher\\\\\":\\\\\"void onResume\\\\\\\\\\\\\\\\(\\\\\\\\\\\\\\\\)\\\\\",\\\\\"ident\\\\\":\\\\\"Activity_onResume\\\\\"},\\\\\"lsVars\\\\\":[{\\\\\"$type\\\\\":\\\\\"edu.colorado.plv.bounder.symbolicexecutor.state.TopVal\\\\\"},{\\\\\"$type\\\\\":\\\\\"edu.colorado.plv.bounder.symbolicexecutor.state.NamedPureVar\\\\\",\\\\\"n\\\\\":\\\\\"a\\\\\"}]}},\\\\\"l2\\\\\":{\\\\\"$type\\\\\":\\\\\"edu.colorado.plv.bounder.lifestate.LifeState.NS\\\\\",\\\\\"i1\\\\\":{\\\\\"$type\\\\\":\\\\\"edu.colorado.plv.bounder.lifestate.LifeState.OAbsMsg\\\\\",\\\\\"mt\\\\\":{\\\\\"$type\\\\\":\\\\\"edu.colorado.plv.bounder.ir.CBExit\\\\\"},\\\\\"signatures\\\\\":{\\\\\"$type\\\\\":\\\\\"edu.colorado.plv.bounder.lifestate.LifeState.SubClassMatcher\\\\\",\\\\\"baseSubtypeOf\\\\\":[\\\\\"android.app.Activity\\\\\",\\\\\"androidx.fragment.app.FragmentActivity\\\\\"],\\\\\"signatureMatcher\\\\\":\\\\\"void onPause\\\\\\\\\\\\\\\\(\\\\\\\\\\\\\\\\)\\\\\",\\\\\"ident\\\\\":\\\\\"Activity_onPause\\\\\"},\\\\\"lsVars\\\\\":[{\\\\\"$type\\\\\":\\\\\"edu.colorado.plv.bounder.symbolicexecutor.state.TopVal\\\\\"},{\\\\\"$type\\\\\":\\\\\"edu.colorado.plv.bounder.symbolicexecutor.state.NamedPureVar\\\\\",\\\\\"n\\\\\":\\\\\"a\\\\\"}]},\\\\\"i2\\\\\":{\\\\\"$type\\\\\":\\\\\"edu.colorado.plv.bounder.lifestate.LifeState.OAbsMsg\\\\\",\\\\\"mt\\\\\":{\\\\\"$type\\\\\":\\\\\"edu.colorado.plv.bounder.ir.CBEnter\\\\\"},\\\\\"signatures\\\\\":{\\\\\"$type\\\\\":\\\\\"edu.colorado.plv.bounder.lifestate.LifeState.SubClassMatcher\\\\\",\\\\\"baseSubtypeOf\\\\\":[\\\\\"android.app.Activity\\\\\",\\\\\"androidx.fragment.app.FragmentActivity\\\\\"],\\\\\"signatureMatcher\\\\\":\\\\\"void onResume\\\\\\\\\\\\\\\\(\\\\\\\\\\\\\\\\)\\\\\",\\\\\"ident\\\\\":\\\\\"Activity_onResume\\\\\"},\\\\\"lsVars\\\\\":[{\\\\\"$type\\\\\":\\\\\"edu.colorado.plv.bounder.symbolicexecutor.state.TopVal\\\\\"},{\\\\\"$type\\\\\":\\\\\"edu.colorado.plv.bounder.symbolicexecutor.state.NamedPureVar\\\\\",\\\\\"n\\\\\":\\\\\"a\\\\\"}]}}}},\\\\\"target\\\\\":{\\\\\"$type\\\\\":\\\\\"edu.colorado.plv.bounder.lifestate.LifeState.OAbsMsg\\\\\",\\\\\"mt\\\\\":{\\\\\"$type\\\\\":\\\\\"edu.colorado.plv.bounder.ir.CIEnter\\\\\"},\\\\\"signatures\\\\\":{\\\\\"$type\\\\\":\\\\\"edu.colorado.plv.bounder.lifestate.LifeState.SubClassMatcher\\\\\",\\\\\"baseSubtypeOf\\\\\":[\\\\\"android.app.ProgressDialog\\\\\",\\\\\"android.app.Dialog\\\\\"],\\\\\"signatureMatcher\\\\\":\\\\\"void dismiss\\\\\\\\\\\\\\\\(\\\\\\\\\\\\\\\\)\\\\\",\\\\\"ident\\\\\":\\\\\"Dialog_dismiss\\\\\"},\\\\\"lsVars\\\\\":[{\\\\\"$type\\\\\":\\\\\"edu.colorado.plv.bounder.symbolicexecutor.state.TopVal\\\\\"},{\\\\\"$type\\\\\":\\\\\"edu.colorado.plv.bounder.symbolicexecutor.state.NamedPureVar\\\\\",\\\\\"n\\\\\":\\\\\"d\\\\\"}]}}]}\",\"initialQuery\":[{\"methodName\":\"void run()\",\"line\":533,\"t\":\"ReceiverNonNull\",\"matcher\":\"org.sipdroid.net.SipdroidSocket getDatagramSocket()\",\"className\":\"org.sipdroid.media.RtpStreamSender\"}],\"tag\":{\"heuristicType\":\"SensitiveDerefFieldCausedSynch\"},\"timeLimit\":900,\"configPath\":[\"/tmp/270335928576313844\"]}'"
      ]
     },
     "execution_count": 52,
     "metadata": {},
     "output_type": "execute_result"
    }
   ],
   "source": [
    "cfg[2][0]"
   ]
  },
  {
   "cell_type": "code",
   "execution_count": 50,
   "metadata": {},
   "outputs": [
    {
     "data": {
      "application/json": [
       {
        "apkPath": "${baseDir}/fdroid/com.byagowi.persiancalendar/7.8.0/apk/com.byagowi.persiancalendar_780.apk",
        "configPath": [
         "/tmp/5276423409742033781"
        ],
        "initialQuery": [
         {
          "className": "d.z",
          "line": 113,
          "matcher": "void d(k0.n1)",
          "methodName": "void run()",
          "t": "ReceiverNonNull"
         }
        ],
        "outFolder": [
         "${baseDirOut}/com.byagowi.persiancalendar"
        ],
        "specSet": "{\"specs\":[],\"disallow\":[{\"univQuant\":[{\"$type\":\"edu.colorado.plv.bounder.symbolicexecutor.state.NamedPureVar\",\"n\":\"a\"},{\"$type\":\"edu.colorado.plv.bounder.symbolicexecutor.state.NamedPureVar\",\"n\":\"f\"}],\"existQuant\":[],\"pred\":{\"$type\":\"edu.colorado.plv.bounder.lifestate.LifeState.Or\",\"l1\":{\"$type\":\"edu.colorado.plv.bounder.lifestate.LifeState.NS\",\"i1\":{\"$type\":\"edu.colorado.plv.bounder.lifestate.LifeState.OAbsMsg\",\"mt\":{\"$type\":\"edu.colorado.plv.bounder.ir.CBExit\"},\"signatures\":{\"$type\":\"edu.colorado.plv.bounder.lifestate.LifeState.SubClassMatcher\",\"baseSubtypeOf\":[\"android.app.Fragment\",\"androidx.fragment.app.Fragment\",\"android.support.v4.app.Fragment\"],\"signatureMatcher\":\"void onDestroy\\\\(\\\\)\",\"ident\":\"Fragment_onDestroy\"},\"lsVars\":[{\"$type\":\"edu.colorado.plv.bounder.symbolicexecutor.state.TopVal\"},{\"$type\":\"edu.colorado.plv.bounder.symbolicexecutor.state.NamedPureVar\",\"n\":\"f\"}]},\"i2\":{\"$type\":\"edu.colorado.plv.bounder.lifestate.LifeState.OAbsMsg\",\"mt\":{\"$type\":\"edu.colorado.plv.bounder.ir.CBEnter\"},\"signatures\":{\"$type\":\"edu.colorado.plv.bounder.lifestate.LifeState.SubClassMatcher\",\"baseSubtypeOf\":[\"android.app.Fragment\",\"androidx.fragment.app.Fragment\",\"android.support.v4.app.Fragment\"],\"signatureMatcher\":\"void onActivityCreated\\\\(android.os.Bundle\\\\)\",\"ident\":\"Fragment_onActivityCreated\"},\"lsVars\":[{\"$type\":\"edu.colorado.plv.bounder.symbolicexecutor.state.TopVal\"},{\"$type\":\"edu.colorado.plv.bounder.symbolicexecutor.state.NamedPureVar\",\"n\":\"f\"}]}},\"l2\":{\"$type\":\"edu.colorado.plv.bounder.lifestate.LifeState.Not\",\"p\":{\"$type\":\"edu.colorado.plv.bounder.lifestate.LifeState.OAbsMsg\",\"mt\":{\"$type\":\"edu.colorado.plv.bounder.ir.CBEnter\"},\"signatures\":{\"$type\":\"edu.colorado.plv.bounder.lifestate.LifeState.SubClassMatcher\",\"baseSubtypeOf\":[\"android.app.Fragment\",\"androidx.fragment.app.Fragment\",\"android.support.v4.app.Fragment\"],\"signatureMatcher\":\"void onActivityCreated\\\\(android.os.Bundle\\\\)\",\"ident\":\"Fragment_onActivityCreated\"},\"lsVars\":[{\"$type\":\"edu.colorado.plv.bounder.symbolicexecutor.state.TopVal\"},{\"$type\":\"edu.colorado.plv.bounder.symbolicexecutor.state.NamedPureVar\",\"n\":\"f\"}]}}},\"target\":{\"$type\":\"edu.colorado.plv.bounder.lifestate.LifeState.OAbsMsg\",\"mt\":{\"$type\":\"edu.colorado.plv.bounder.ir.CIExit\"},\"signatures\":{\"$type\":\"edu.colorado.plv.bounder.lifestate.LifeState.SubClassMatcher\",\"baseSubtypeOf\":[\"android.app.Fragment\",\"androidx.fragment.app.Fragment\",\"android.support.v4.app.Fragment\"],\"signatureMatcher\":\".*Activity getActivity\\\\(\\\\)\",\"ident\":\"Fragment_getActivity\"},\"lsVars\":[{\"$type\":\"edu.colorado.plv.bounder.symbolicexecutor.state.NamedPureVar\",\"n\":\"a\"},{\"$type\":\"edu.colorado.plv.bounder.symbolicexecutor.state.NamedPureVar\",\"n\":\"f\"}]},\"rhsConstraints\":[{\"$type\":\"edu.colorado.plv.bounder.lifestate.LifeState.LSConstraint\",\"v1\":{\"$type\":\"edu.colorado.plv.bounder.symbolicexecutor.state.NamedPureVar\",\"n\":\"a\"},\"op\":{\"$type\":\"edu.colorado.plv.bounder.symbolicexecutor.state.Equals\"},\"v2\":{\"$type\":\"edu.colorado.plv.bounder.symbolicexecutor.state.NullVal\"}}]},{\"univQuant\":[{\"$type\":\"edu.colorado.plv.bounder.symbolicexecutor.state.NamedPureVar\",\"n\":\"t\"}],\"existQuant\":[],\"pred\":{\"$type\":\"edu.colorado.plv.bounder.lifestate.LifeState.OAbsMsg\",\"mt\":{\"$type\":\"edu.colorado.plv.bounder.ir.CIExit\"},\"signatures\":{\"$type\":\"edu.colorado.plv.bounder.lifestate.LifeState.SubClassMatcher\",\"baseSubtypeOf\":[\"android.os.AsyncTask\"],\"signatureMatcher\":\".*AsyncTask execute\\\\(.*\\\\)\",\"ident\":\"AsyncTask_execute\"},\"lsVars\":[{\"$type\":\"edu.colorado.plv.bounder.symbolicexecutor.state.TopVal\"},{\"$type\":\"edu.colorado.plv.bounder.symbolicexecutor.state.NamedPureVar\",\"n\":\"t\"}]},\"target\":{\"$type\":\"edu.colorado.plv.bounder.lifestate.LifeState.OAbsMsg\",\"mt\":{\"$type\":\"edu.colorado.plv.bounder.ir.CIEnter\"},\"signatures\":{\"$type\":\"edu.colorado.plv.bounder.lifestate.LifeState.SubClassMatcher\",\"baseSubtypeOf\":[\"android.os.AsyncTask\"],\"signatureMatcher\":\".*AsyncTask execute\\\\(.*\\\\)\",\"ident\":\"AsyncTask_execute\"},\"lsVars\":[{\"$type\":\"edu.colorado.plv.bounder.symbolicexecutor.state.TopVal\"},{\"$type\":\"edu.colorado.plv.bounder.symbolicexecutor.state.NamedPureVar\",\"n\":\"t\"}]}},{\"univQuant\":[{\"$type\":\"edu.colorado.plv.bounder.symbolicexecutor.state.NamedPureVar\",\"n\":\"d\"}],\"existQuant\":[{\"$type\":\"edu.colorado.plv.bounder.symbolicexecutor.state.NamedPureVar\",\"n\":\"a\"}],\"pred\":{\"$type\":\"edu.colorado.plv.bounder.lifestate.LifeState.And\",\"l1\":{\"$type\":\"edu.colorado.plv.bounder.lifestate.LifeState.OAbsMsg\",\"mt\":{\"$type\":\"edu.colorado.plv.bounder.ir.CIExit\"},\"signatures\":{\"$type\":\"edu.colorado.plv.bounder.lifestate.LifeState.SubClassMatcher\",\"baseSubtypeOf\":[\"android.app.ProgressDialog\",\"android.app.Dialog\"],\"signatureMatcher\":\".*show.*\",\"ident\":\"Dialog_show\"},\"lsVars\":[{\"$type\":\"edu.colorado.plv.bounder.symbolicexecutor.state.NamedPureVar\",\"n\":\"d\"},{\"$type\":\"edu.colorado.plv.bounder.symbolicexecutor.state.TopVal\"},{\"$type\":\"edu.colorado.plv.bounder.symbolicexecutor.state.NamedPureVar\",\"n\":\"a\"}]},\"l2\":{\"$type\":\"edu.colorado.plv.bounder.lifestate.LifeState.Or\",\"l1\":{\"$type\":\"edu.colorado.plv.bounder.lifestate.LifeState.Not\",\"p\":{\"$type\":\"edu.colorado.plv.bounder.lifestate.LifeState.OAbsMsg\",\"mt\":{\"$type\":\"edu.colorado.plv.bounder.ir.CBEnter\"},\"signatures\":{\"$type\":\"edu.colorado.plv.bounder.lifestate.LifeState.SubClassMatcher\",\"baseSubtypeOf\":[\"android.app.Activity\",\"androidx.fragment.app.FragmentActivity\"],\"signatureMatcher\":\"void onResume\\\\(\\\\)\",\"ident\":\"Activity_onResume\"},\"lsVars\":[{\"$type\":\"edu.colorado.plv.bounder.symbolicexecutor.state.TopVal\"},{\"$type\":\"edu.colorado.plv.bounder.symbolicexecutor.state.NamedPureVar\",\"n\":\"a\"}]}},\"l2\":{\"$type\":\"edu.colorado.plv.bounder.lifestate.LifeState.NS\",\"i1\":{\"$type\":\"edu.colorado.plv.bounder.lifestate.LifeState.OAbsMsg\",\"mt\":{\"$type\":\"edu.colorado.plv.bounder.ir.CBExit\"},\"signatures\":{\"$type\":\"edu.colorado.plv.bounder.lifestate.LifeState.SubClassMatcher\",\"baseSubtypeOf\":[\"android.app.Activity\",\"androidx.fragment.app.FragmentActivity\"],\"signatureMatcher\":\"void onPause\\\\(\\\\)\",\"ident\":\"Activity_onPause\"},\"lsVars\":[{\"$type\":\"edu.colorado.plv.bounder.symbolicexecutor.state.TopVal\"},{\"$type\":\"edu.colorado.plv.bounder.symbolicexecutor.state.NamedPureVar\",\"n\":\"a\"}]},\"i2\":{\"$type\":\"edu.colorado.plv.bounder.lifestate.LifeState.OAbsMsg\",\"mt\":{\"$type\":\"edu.colorado.plv.bounder.ir.CBEnter\"},\"signatures\":{\"$type\":\"edu.colorado.plv.bounder.lifestate.LifeState.SubClassMatcher\",\"baseSubtypeOf\":[\"android.app.Activity\",\"androidx.fragment.app.FragmentActivity\"],\"signatureMatcher\":\"void onResume\\\\(\\\\)\",\"ident\":\"Activity_onResume\"},\"lsVars\":[{\"$type\":\"edu.colorado.plv.bounder.symbolicexecutor.state.TopVal\"},{\"$type\":\"edu.colorado.plv.bounder.symbolicexecutor.state.NamedPureVar\",\"n\":\"a\"}]}}}},\"target\":{\"$type\":\"edu.colorado.plv.bounder.lifestate.LifeState.OAbsMsg\",\"mt\":{\"$type\":\"edu.colorado.plv.bounder.ir.CIEnter\"},\"signatures\":{\"$type\":\"edu.colorado.plv.bounder.lifestate.LifeState.SubClassMatcher\",\"baseSubtypeOf\":[\"android.app.ProgressDialog\",\"android.app.Dialog\"],\"signatureMatcher\":\"void dismiss\\\\(\\\\)\",\"ident\":\"Dialog_dismiss\"},\"lsVars\":[{\"$type\":\"edu.colorado.plv.bounder.symbolicexecutor.state.TopVal\"},{\"$type\":\"edu.colorado.plv.bounder.symbolicexecutor.state.NamedPureVar\",\"n\":\"d\"}]}}]}",
        "tag": {
         "heuristicType": "SensitiveDerefFieldCausedSynch"
        },
        "timeLimit": 900
       },
       {
        "apkPath": "${baseDir}/fdroid/com.shatteredpixel.shatteredpixeldungeon/1.4.3/apk/com.shatteredpixel.shatteredpixeldungeon_668.apk",
        "configPath": [
         "/tmp/2515852923491409547"
        ],
        "initialQuery": [
         {
          "className": "c.n$a",
          "line": 9,
          "matcher": "void onCompletion(b.a)",
          "methodName": "void run()",
          "t": "ReceiverNonNull"
         }
        ],
        "outFolder": [
         "${baseDirOut}/com.shatteredpixel.shatteredpixeldungeon"
        ],
        "specSet": "{\"specs\":[],\"disallow\":[{\"univQuant\":[{\"$type\":\"edu.colorado.plv.bounder.symbolicexecutor.state.NamedPureVar\",\"n\":\"a\"},{\"$type\":\"edu.colorado.plv.bounder.symbolicexecutor.state.NamedPureVar\",\"n\":\"f\"}],\"existQuant\":[],\"pred\":{\"$type\":\"edu.colorado.plv.bounder.lifestate.LifeState.Or\",\"l1\":{\"$type\":\"edu.colorado.plv.bounder.lifestate.LifeState.NS\",\"i1\":{\"$type\":\"edu.colorado.plv.bounder.lifestate.LifeState.OAbsMsg\",\"mt\":{\"$type\":\"edu.colorado.plv.bounder.ir.CBExit\"},\"signatures\":{\"$type\":\"edu.colorado.plv.bounder.lifestate.LifeState.SubClassMatcher\",\"baseSubtypeOf\":[\"android.app.Fragment\",\"androidx.fragment.app.Fragment\",\"android.support.v4.app.Fragment\"],\"signatureMatcher\":\"void onDestroy\\\\(\\\\)\",\"ident\":\"Fragment_onDestroy\"},\"lsVars\":[{\"$type\":\"edu.colorado.plv.bounder.symbolicexecutor.state.TopVal\"},{\"$type\":\"edu.colorado.plv.bounder.symbolicexecutor.state.NamedPureVar\",\"n\":\"f\"}]},\"i2\":{\"$type\":\"edu.colorado.plv.bounder.lifestate.LifeState.OAbsMsg\",\"mt\":{\"$type\":\"edu.colorado.plv.bounder.ir.CBEnter\"},\"signatures\":{\"$type\":\"edu.colorado.plv.bounder.lifestate.LifeState.SubClassMatcher\",\"baseSubtypeOf\":[\"android.app.Fragment\",\"androidx.fragment.app.Fragment\",\"android.support.v4.app.Fragment\"],\"signatureMatcher\":\"void onActivityCreated\\\\(android.os.Bundle\\\\)\",\"ident\":\"Fragment_onActivityCreated\"},\"lsVars\":[{\"$type\":\"edu.colorado.plv.bounder.symbolicexecutor.state.TopVal\"},{\"$type\":\"edu.colorado.plv.bounder.symbolicexecutor.state.NamedPureVar\",\"n\":\"f\"}]}},\"l2\":{\"$type\":\"edu.colorado.plv.bounder.lifestate.LifeState.Not\",\"p\":{\"$type\":\"edu.colorado.plv.bounder.lifestate.LifeState.OAbsMsg\",\"mt\":{\"$type\":\"edu.colorado.plv.bounder.ir.CBEnter\"},\"signatures\":{\"$type\":\"edu.colorado.plv.bounder.lifestate.LifeState.SubClassMatcher\",\"baseSubtypeOf\":[\"android.app.Fragment\",\"androidx.fragment.app.Fragment\",\"android.support.v4.app.Fragment\"],\"signatureMatcher\":\"void onActivityCreated\\\\(android.os.Bundle\\\\)\",\"ident\":\"Fragment_onActivityCreated\"},\"lsVars\":[{\"$type\":\"edu.colorado.plv.bounder.symbolicexecutor.state.TopVal\"},{\"$type\":\"edu.colorado.plv.bounder.symbolicexecutor.state.NamedPureVar\",\"n\":\"f\"}]}}},\"target\":{\"$type\":\"edu.colorado.plv.bounder.lifestate.LifeState.OAbsMsg\",\"mt\":{\"$type\":\"edu.colorado.plv.bounder.ir.CIExit\"},\"signatures\":{\"$type\":\"edu.colorado.plv.bounder.lifestate.LifeState.SubClassMatcher\",\"baseSubtypeOf\":[\"android.app.Fragment\",\"androidx.fragment.app.Fragment\",\"android.support.v4.app.Fragment\"],\"signatureMatcher\":\".*Activity getActivity\\\\(\\\\)\",\"ident\":\"Fragment_getActivity\"},\"lsVars\":[{\"$type\":\"edu.colorado.plv.bounder.symbolicexecutor.state.NamedPureVar\",\"n\":\"a\"},{\"$type\":\"edu.colorado.plv.bounder.symbolicexecutor.state.NamedPureVar\",\"n\":\"f\"}]},\"rhsConstraints\":[{\"$type\":\"edu.colorado.plv.bounder.lifestate.LifeState.LSConstraint\",\"v1\":{\"$type\":\"edu.colorado.plv.bounder.symbolicexecutor.state.NamedPureVar\",\"n\":\"a\"},\"op\":{\"$type\":\"edu.colorado.plv.bounder.symbolicexecutor.state.Equals\"},\"v2\":{\"$type\":\"edu.colorado.plv.bounder.symbolicexecutor.state.NullVal\"}}]},{\"univQuant\":[{\"$type\":\"edu.colorado.plv.bounder.symbolicexecutor.state.NamedPureVar\",\"n\":\"t\"}],\"existQuant\":[],\"pred\":{\"$type\":\"edu.colorado.plv.bounder.lifestate.LifeState.OAbsMsg\",\"mt\":{\"$type\":\"edu.colorado.plv.bounder.ir.CIExit\"},\"signatures\":{\"$type\":\"edu.colorado.plv.bounder.lifestate.LifeState.SubClassMatcher\",\"baseSubtypeOf\":[\"android.os.AsyncTask\"],\"signatureMatcher\":\".*AsyncTask execute\\\\(.*\\\\)\",\"ident\":\"AsyncTask_execute\"},\"lsVars\":[{\"$type\":\"edu.colorado.plv.bounder.symbolicexecutor.state.TopVal\"},{\"$type\":\"edu.colorado.plv.bounder.symbolicexecutor.state.NamedPureVar\",\"n\":\"t\"}]},\"target\":{\"$type\":\"edu.colorado.plv.bounder.lifestate.LifeState.OAbsMsg\",\"mt\":{\"$type\":\"edu.colorado.plv.bounder.ir.CIEnter\"},\"signatures\":{\"$type\":\"edu.colorado.plv.bounder.lifestate.LifeState.SubClassMatcher\",\"baseSubtypeOf\":[\"android.os.AsyncTask\"],\"signatureMatcher\":\".*AsyncTask execute\\\\(.*\\\\)\",\"ident\":\"AsyncTask_execute\"},\"lsVars\":[{\"$type\":\"edu.colorado.plv.bounder.symbolicexecutor.state.TopVal\"},{\"$type\":\"edu.colorado.plv.bounder.symbolicexecutor.state.NamedPureVar\",\"n\":\"t\"}]}},{\"univQuant\":[{\"$type\":\"edu.colorado.plv.bounder.symbolicexecutor.state.NamedPureVar\",\"n\":\"d\"}],\"existQuant\":[{\"$type\":\"edu.colorado.plv.bounder.symbolicexecutor.state.NamedPureVar\",\"n\":\"a\"}],\"pred\":{\"$type\":\"edu.colorado.plv.bounder.lifestate.LifeState.And\",\"l1\":{\"$type\":\"edu.colorado.plv.bounder.lifestate.LifeState.OAbsMsg\",\"mt\":{\"$type\":\"edu.colorado.plv.bounder.ir.CIExit\"},\"signatures\":{\"$type\":\"edu.colorado.plv.bounder.lifestate.LifeState.SubClassMatcher\",\"baseSubtypeOf\":[\"android.app.ProgressDialog\",\"android.app.Dialog\"],\"signatureMatcher\":\".*show.*\",\"ident\":\"Dialog_show\"},\"lsVars\":[{\"$type\":\"edu.colorado.plv.bounder.symbolicexecutor.state.NamedPureVar\",\"n\":\"d\"},{\"$type\":\"edu.colorado.plv.bounder.symbolicexecutor.state.TopVal\"},{\"$type\":\"edu.colorado.plv.bounder.symbolicexecutor.state.NamedPureVar\",\"n\":\"a\"}]},\"l2\":{\"$type\":\"edu.colorado.plv.bounder.lifestate.LifeState.Or\",\"l1\":{\"$type\":\"edu.colorado.plv.bounder.lifestate.LifeState.Not\",\"p\":{\"$type\":\"edu.colorado.plv.bounder.lifestate.LifeState.OAbsMsg\",\"mt\":{\"$type\":\"edu.colorado.plv.bounder.ir.CBEnter\"},\"signatures\":{\"$type\":\"edu.colorado.plv.bounder.lifestate.LifeState.SubClassMatcher\",\"baseSubtypeOf\":[\"android.app.Activity\",\"androidx.fragment.app.FragmentActivity\"],\"signatureMatcher\":\"void onResume\\\\(\\\\)\",\"ident\":\"Activity_onResume\"},\"lsVars\":[{\"$type\":\"edu.colorado.plv.bounder.symbolicexecutor.state.TopVal\"},{\"$type\":\"edu.colorado.plv.bounder.symbolicexecutor.state.NamedPureVar\",\"n\":\"a\"}]}},\"l2\":{\"$type\":\"edu.colorado.plv.bounder.lifestate.LifeState.NS\",\"i1\":{\"$type\":\"edu.colorado.plv.bounder.lifestate.LifeState.OAbsMsg\",\"mt\":{\"$type\":\"edu.colorado.plv.bounder.ir.CBExit\"},\"signatures\":{\"$type\":\"edu.colorado.plv.bounder.lifestate.LifeState.SubClassMatcher\",\"baseSubtypeOf\":[\"android.app.Activity\",\"androidx.fragment.app.FragmentActivity\"],\"signatureMatcher\":\"void onPause\\\\(\\\\)\",\"ident\":\"Activity_onPause\"},\"lsVars\":[{\"$type\":\"edu.colorado.plv.bounder.symbolicexecutor.state.TopVal\"},{\"$type\":\"edu.colorado.plv.bounder.symbolicexecutor.state.NamedPureVar\",\"n\":\"a\"}]},\"i2\":{\"$type\":\"edu.colorado.plv.bounder.lifestate.LifeState.OAbsMsg\",\"mt\":{\"$type\":\"edu.colorado.plv.bounder.ir.CBEnter\"},\"signatures\":{\"$type\":\"edu.colorado.plv.bounder.lifestate.LifeState.SubClassMatcher\",\"baseSubtypeOf\":[\"android.app.Activity\",\"androidx.fragment.app.FragmentActivity\"],\"signatureMatcher\":\"void onResume\\\\(\\\\)\",\"ident\":\"Activity_onResume\"},\"lsVars\":[{\"$type\":\"edu.colorado.plv.bounder.symbolicexecutor.state.TopVal\"},{\"$type\":\"edu.colorado.plv.bounder.symbolicexecutor.state.NamedPureVar\",\"n\":\"a\"}]}}}},\"target\":{\"$type\":\"edu.colorado.plv.bounder.lifestate.LifeState.OAbsMsg\",\"mt\":{\"$type\":\"edu.colorado.plv.bounder.ir.CIEnter\"},\"signatures\":{\"$type\":\"edu.colorado.plv.bounder.lifestate.LifeState.SubClassMatcher\",\"baseSubtypeOf\":[\"android.app.ProgressDialog\",\"android.app.Dialog\"],\"signatureMatcher\":\"void dismiss\\\\(\\\\)\",\"ident\":\"Dialog_dismiss\"},\"lsVars\":[{\"$type\":\"edu.colorado.plv.bounder.symbolicexecutor.state.TopVal\"},{\"$type\":\"edu.colorado.plv.bounder.symbolicexecutor.state.NamedPureVar\",\"n\":\"d\"}]}}]}",
        "tag": {
         "heuristicType": "SensitiveDerefFieldCausedSynch"
        },
        "timeLimit": 900
       },
       {
        "apkPath": "${baseDir}/fdroid/org.sipdroid.sipua/6.3beta/apk/org.sipdroid.sipua_134.apk",
        "configPath": [
         "/tmp/270335928576313844"
        ],
        "initialQuery": [
         {
          "className": "org.sipdroid.media.RtpStreamSender",
          "line": 533,
          "matcher": "org.sipdroid.net.SipdroidSocket getDatagramSocket()",
          "methodName": "void run()",
          "t": "ReceiverNonNull"
         }
        ],
        "outFolder": [
         "${baseDirOut}/org.sipdroid.sipua"
        ],
        "specSet": "{\"specs\":[],\"disallow\":[{\"univQuant\":[{\"$type\":\"edu.colorado.plv.bounder.symbolicexecutor.state.NamedPureVar\",\"n\":\"a\"},{\"$type\":\"edu.colorado.plv.bounder.symbolicexecutor.state.NamedPureVar\",\"n\":\"f\"}],\"existQuant\":[],\"pred\":{\"$type\":\"edu.colorado.plv.bounder.lifestate.LifeState.Or\",\"l1\":{\"$type\":\"edu.colorado.plv.bounder.lifestate.LifeState.NS\",\"i1\":{\"$type\":\"edu.colorado.plv.bounder.lifestate.LifeState.OAbsMsg\",\"mt\":{\"$type\":\"edu.colorado.plv.bounder.ir.CBExit\"},\"signatures\":{\"$type\":\"edu.colorado.plv.bounder.lifestate.LifeState.SubClassMatcher\",\"baseSubtypeOf\":[\"android.app.Fragment\",\"androidx.fragment.app.Fragment\",\"android.support.v4.app.Fragment\"],\"signatureMatcher\":\"void onDestroy\\\\(\\\\)\",\"ident\":\"Fragment_onDestroy\"},\"lsVars\":[{\"$type\":\"edu.colorado.plv.bounder.symbolicexecutor.state.TopVal\"},{\"$type\":\"edu.colorado.plv.bounder.symbolicexecutor.state.NamedPureVar\",\"n\":\"f\"}]},\"i2\":{\"$type\":\"edu.colorado.plv.bounder.lifestate.LifeState.OAbsMsg\",\"mt\":{\"$type\":\"edu.colorado.plv.bounder.ir.CBEnter\"},\"signatures\":{\"$type\":\"edu.colorado.plv.bounder.lifestate.LifeState.SubClassMatcher\",\"baseSubtypeOf\":[\"android.app.Fragment\",\"androidx.fragment.app.Fragment\",\"android.support.v4.app.Fragment\"],\"signatureMatcher\":\"void onActivityCreated\\\\(android.os.Bundle\\\\)\",\"ident\":\"Fragment_onActivityCreated\"},\"lsVars\":[{\"$type\":\"edu.colorado.plv.bounder.symbolicexecutor.state.TopVal\"},{\"$type\":\"edu.colorado.plv.bounder.symbolicexecutor.state.NamedPureVar\",\"n\":\"f\"}]}},\"l2\":{\"$type\":\"edu.colorado.plv.bounder.lifestate.LifeState.Not\",\"p\":{\"$type\":\"edu.colorado.plv.bounder.lifestate.LifeState.OAbsMsg\",\"mt\":{\"$type\":\"edu.colorado.plv.bounder.ir.CBEnter\"},\"signatures\":{\"$type\":\"edu.colorado.plv.bounder.lifestate.LifeState.SubClassMatcher\",\"baseSubtypeOf\":[\"android.app.Fragment\",\"androidx.fragment.app.Fragment\",\"android.support.v4.app.Fragment\"],\"signatureMatcher\":\"void onActivityCreated\\\\(android.os.Bundle\\\\)\",\"ident\":\"Fragment_onActivityCreated\"},\"lsVars\":[{\"$type\":\"edu.colorado.plv.bounder.symbolicexecutor.state.TopVal\"},{\"$type\":\"edu.colorado.plv.bounder.symbolicexecutor.state.NamedPureVar\",\"n\":\"f\"}]}}},\"target\":{\"$type\":\"edu.colorado.plv.bounder.lifestate.LifeState.OAbsMsg\",\"mt\":{\"$type\":\"edu.colorado.plv.bounder.ir.CIExit\"},\"signatures\":{\"$type\":\"edu.colorado.plv.bounder.lifestate.LifeState.SubClassMatcher\",\"baseSubtypeOf\":[\"android.app.Fragment\",\"androidx.fragment.app.Fragment\",\"android.support.v4.app.Fragment\"],\"signatureMatcher\":\".*Activity getActivity\\\\(\\\\)\",\"ident\":\"Fragment_getActivity\"},\"lsVars\":[{\"$type\":\"edu.colorado.plv.bounder.symbolicexecutor.state.NamedPureVar\",\"n\":\"a\"},{\"$type\":\"edu.colorado.plv.bounder.symbolicexecutor.state.NamedPureVar\",\"n\":\"f\"}]},\"rhsConstraints\":[{\"$type\":\"edu.colorado.plv.bounder.lifestate.LifeState.LSConstraint\",\"v1\":{\"$type\":\"edu.colorado.plv.bounder.symbolicexecutor.state.NamedPureVar\",\"n\":\"a\"},\"op\":{\"$type\":\"edu.colorado.plv.bounder.symbolicexecutor.state.Equals\"},\"v2\":{\"$type\":\"edu.colorado.plv.bounder.symbolicexecutor.state.NullVal\"}}]},{\"univQuant\":[{\"$type\":\"edu.colorado.plv.bounder.symbolicexecutor.state.NamedPureVar\",\"n\":\"t\"}],\"existQuant\":[],\"pred\":{\"$type\":\"edu.colorado.plv.bounder.lifestate.LifeState.OAbsMsg\",\"mt\":{\"$type\":\"edu.colorado.plv.bounder.ir.CIExit\"},\"signatures\":{\"$type\":\"edu.colorado.plv.bounder.lifestate.LifeState.SubClassMatcher\",\"baseSubtypeOf\":[\"android.os.AsyncTask\"],\"signatureMatcher\":\".*AsyncTask execute\\\\(.*\\\\)\",\"ident\":\"AsyncTask_execute\"},\"lsVars\":[{\"$type\":\"edu.colorado.plv.bounder.symbolicexecutor.state.TopVal\"},{\"$type\":\"edu.colorado.plv.bounder.symbolicexecutor.state.NamedPureVar\",\"n\":\"t\"}]},\"target\":{\"$type\":\"edu.colorado.plv.bounder.lifestate.LifeState.OAbsMsg\",\"mt\":{\"$type\":\"edu.colorado.plv.bounder.ir.CIEnter\"},\"signatures\":{\"$type\":\"edu.colorado.plv.bounder.lifestate.LifeState.SubClassMatcher\",\"baseSubtypeOf\":[\"android.os.AsyncTask\"],\"signatureMatcher\":\".*AsyncTask execute\\\\(.*\\\\)\",\"ident\":\"AsyncTask_execute\"},\"lsVars\":[{\"$type\":\"edu.colorado.plv.bounder.symbolicexecutor.state.TopVal\"},{\"$type\":\"edu.colorado.plv.bounder.symbolicexecutor.state.NamedPureVar\",\"n\":\"t\"}]}},{\"univQuant\":[{\"$type\":\"edu.colorado.plv.bounder.symbolicexecutor.state.NamedPureVar\",\"n\":\"d\"}],\"existQuant\":[{\"$type\":\"edu.colorado.plv.bounder.symbolicexecutor.state.NamedPureVar\",\"n\":\"a\"}],\"pred\":{\"$type\":\"edu.colorado.plv.bounder.lifestate.LifeState.And\",\"l1\":{\"$type\":\"edu.colorado.plv.bounder.lifestate.LifeState.OAbsMsg\",\"mt\":{\"$type\":\"edu.colorado.plv.bounder.ir.CIExit\"},\"signatures\":{\"$type\":\"edu.colorado.plv.bounder.lifestate.LifeState.SubClassMatcher\",\"baseSubtypeOf\":[\"android.app.ProgressDialog\",\"android.app.Dialog\"],\"signatureMatcher\":\".*show.*\",\"ident\":\"Dialog_show\"},\"lsVars\":[{\"$type\":\"edu.colorado.plv.bounder.symbolicexecutor.state.NamedPureVar\",\"n\":\"d\"},{\"$type\":\"edu.colorado.plv.bounder.symbolicexecutor.state.TopVal\"},{\"$type\":\"edu.colorado.plv.bounder.symbolicexecutor.state.NamedPureVar\",\"n\":\"a\"}]},\"l2\":{\"$type\":\"edu.colorado.plv.bounder.lifestate.LifeState.Or\",\"l1\":{\"$type\":\"edu.colorado.plv.bounder.lifestate.LifeState.Not\",\"p\":{\"$type\":\"edu.colorado.plv.bounder.lifestate.LifeState.OAbsMsg\",\"mt\":{\"$type\":\"edu.colorado.plv.bounder.ir.CBEnter\"},\"signatures\":{\"$type\":\"edu.colorado.plv.bounder.lifestate.LifeState.SubClassMatcher\",\"baseSubtypeOf\":[\"android.app.Activity\",\"androidx.fragment.app.FragmentActivity\"],\"signatureMatcher\":\"void onResume\\\\(\\\\)\",\"ident\":\"Activity_onResume\"},\"lsVars\":[{\"$type\":\"edu.colorado.plv.bounder.symbolicexecutor.state.TopVal\"},{\"$type\":\"edu.colorado.plv.bounder.symbolicexecutor.state.NamedPureVar\",\"n\":\"a\"}]}},\"l2\":{\"$type\":\"edu.colorado.plv.bounder.lifestate.LifeState.NS\",\"i1\":{\"$type\":\"edu.colorado.plv.bounder.lifestate.LifeState.OAbsMsg\",\"mt\":{\"$type\":\"edu.colorado.plv.bounder.ir.CBExit\"},\"signatures\":{\"$type\":\"edu.colorado.plv.bounder.lifestate.LifeState.SubClassMatcher\",\"baseSubtypeOf\":[\"android.app.Activity\",\"androidx.fragment.app.FragmentActivity\"],\"signatureMatcher\":\"void onPause\\\\(\\\\)\",\"ident\":\"Activity_onPause\"},\"lsVars\":[{\"$type\":\"edu.colorado.plv.bounder.symbolicexecutor.state.TopVal\"},{\"$type\":\"edu.colorado.plv.bounder.symbolicexecutor.state.NamedPureVar\",\"n\":\"a\"}]},\"i2\":{\"$type\":\"edu.colorado.plv.bounder.lifestate.LifeState.OAbsMsg\",\"mt\":{\"$type\":\"edu.colorado.plv.bounder.ir.CBEnter\"},\"signatures\":{\"$type\":\"edu.colorado.plv.bounder.lifestate.LifeState.SubClassMatcher\",\"baseSubtypeOf\":[\"android.app.Activity\",\"androidx.fragment.app.FragmentActivity\"],\"signatureMatcher\":\"void onResume\\\\(\\\\)\",\"ident\":\"Activity_onResume\"},\"lsVars\":[{\"$type\":\"edu.colorado.plv.bounder.symbolicexecutor.state.TopVal\"},{\"$type\":\"edu.colorado.plv.bounder.symbolicexecutor.state.NamedPureVar\",\"n\":\"a\"}]}}}},\"target\":{\"$type\":\"edu.colorado.plv.bounder.lifestate.LifeState.OAbsMsg\",\"mt\":{\"$type\":\"edu.colorado.plv.bounder.ir.CIEnter\"},\"signatures\":{\"$type\":\"edu.colorado.plv.bounder.lifestate.LifeState.SubClassMatcher\",\"baseSubtypeOf\":[\"android.app.ProgressDialog\",\"android.app.Dialog\"],\"signatureMatcher\":\"void dismiss\\\\(\\\\)\",\"ident\":\"Dialog_dismiss\"},\"lsVars\":[{\"$type\":\"edu.colorado.plv.bounder.symbolicexecutor.state.TopVal\"},{\"$type\":\"edu.colorado.plv.bounder.symbolicexecutor.state.NamedPureVar\",\"n\":\"d\"}]}}]}",
        "tag": {
         "heuristicType": "SensitiveDerefFieldCausedSynch"
        },
        "timeLimit": 900
       },
       {
        "apkPath": "${baseDir}/fdroid/be.digitalia.fosdem/2.1.1/apk/be.digitalia.fosdem_1900211.apk",
        "configPath": [
         "/tmp/1616220754643788746"
        ],
        "initialQuery": [
         {
          "className": "k.J0",
          "line": 42,
          "matcher": "int getChildCount()",
          "methodName": "void run()",
          "t": "ReceiverNonNull"
         }
        ],
        "outFolder": [
         "${baseDirOut}/be.digitalia.fosdem"
        ],
        "specSet": "{\"specs\":[],\"disallow\":[{\"univQuant\":[{\"$type\":\"edu.colorado.plv.bounder.symbolicexecutor.state.NamedPureVar\",\"n\":\"a\"},{\"$type\":\"edu.colorado.plv.bounder.symbolicexecutor.state.NamedPureVar\",\"n\":\"f\"}],\"existQuant\":[],\"pred\":{\"$type\":\"edu.colorado.plv.bounder.lifestate.LifeState.Or\",\"l1\":{\"$type\":\"edu.colorado.plv.bounder.lifestate.LifeState.NS\",\"i1\":{\"$type\":\"edu.colorado.plv.bounder.lifestate.LifeState.OAbsMsg\",\"mt\":{\"$type\":\"edu.colorado.plv.bounder.ir.CBExit\"},\"signatures\":{\"$type\":\"edu.colorado.plv.bounder.lifestate.LifeState.SubClassMatcher\",\"baseSubtypeOf\":[\"android.app.Fragment\",\"androidx.fragment.app.Fragment\",\"android.support.v4.app.Fragment\"],\"signatureMatcher\":\"void onDestroy\\\\(\\\\)\",\"ident\":\"Fragment_onDestroy\"},\"lsVars\":[{\"$type\":\"edu.colorado.plv.bounder.symbolicexecutor.state.TopVal\"},{\"$type\":\"edu.colorado.plv.bounder.symbolicexecutor.state.NamedPureVar\",\"n\":\"f\"}]},\"i2\":{\"$type\":\"edu.colorado.plv.bounder.lifestate.LifeState.OAbsMsg\",\"mt\":{\"$type\":\"edu.colorado.plv.bounder.ir.CBEnter\"},\"signatures\":{\"$type\":\"edu.colorado.plv.bounder.lifestate.LifeState.SubClassMatcher\",\"baseSubtypeOf\":[\"android.app.Fragment\",\"androidx.fragment.app.Fragment\",\"android.support.v4.app.Fragment\"],\"signatureMatcher\":\"void onActivityCreated\\\\(android.os.Bundle\\\\)\",\"ident\":\"Fragment_onActivityCreated\"},\"lsVars\":[{\"$type\":\"edu.colorado.plv.bounder.symbolicexecutor.state.TopVal\"},{\"$type\":\"edu.colorado.plv.bounder.symbolicexecutor.state.NamedPureVar\",\"n\":\"f\"}]}},\"l2\":{\"$type\":\"edu.colorado.plv.bounder.lifestate.LifeState.Not\",\"p\":{\"$type\":\"edu.colorado.plv.bounder.lifestate.LifeState.OAbsMsg\",\"mt\":{\"$type\":\"edu.colorado.plv.bounder.ir.CBEnter\"},\"signatures\":{\"$type\":\"edu.colorado.plv.bounder.lifestate.LifeState.SubClassMatcher\",\"baseSubtypeOf\":[\"android.app.Fragment\",\"androidx.fragment.app.Fragment\",\"android.support.v4.app.Fragment\"],\"signatureMatcher\":\"void onActivityCreated\\\\(android.os.Bundle\\\\)\",\"ident\":\"Fragment_onActivityCreated\"},\"lsVars\":[{\"$type\":\"edu.colorado.plv.bounder.symbolicexecutor.state.TopVal\"},{\"$type\":\"edu.colorado.plv.bounder.symbolicexecutor.state.NamedPureVar\",\"n\":\"f\"}]}}},\"target\":{\"$type\":\"edu.colorado.plv.bounder.lifestate.LifeState.OAbsMsg\",\"mt\":{\"$type\":\"edu.colorado.plv.bounder.ir.CIExit\"},\"signatures\":{\"$type\":\"edu.colorado.plv.bounder.lifestate.LifeState.SubClassMatcher\",\"baseSubtypeOf\":[\"android.app.Fragment\",\"androidx.fragment.app.Fragment\",\"android.support.v4.app.Fragment\"],\"signatureMatcher\":\".*Activity getActivity\\\\(\\\\)\",\"ident\":\"Fragment_getActivity\"},\"lsVars\":[{\"$type\":\"edu.colorado.plv.bounder.symbolicexecutor.state.NamedPureVar\",\"n\":\"a\"},{\"$type\":\"edu.colorado.plv.bounder.symbolicexecutor.state.NamedPureVar\",\"n\":\"f\"}]},\"rhsConstraints\":[{\"$type\":\"edu.colorado.plv.bounder.lifestate.LifeState.LSConstraint\",\"v1\":{\"$type\":\"edu.colorado.plv.bounder.symbolicexecutor.state.NamedPureVar\",\"n\":\"a\"},\"op\":{\"$type\":\"edu.colorado.plv.bounder.symbolicexecutor.state.Equals\"},\"v2\":{\"$type\":\"edu.colorado.plv.bounder.symbolicexecutor.state.NullVal\"}}]},{\"univQuant\":[{\"$type\":\"edu.colorado.plv.bounder.symbolicexecutor.state.NamedPureVar\",\"n\":\"t\"}],\"existQuant\":[],\"pred\":{\"$type\":\"edu.colorado.plv.bounder.lifestate.LifeState.OAbsMsg\",\"mt\":{\"$type\":\"edu.colorado.plv.bounder.ir.CIExit\"},\"signatures\":{\"$type\":\"edu.colorado.plv.bounder.lifestate.LifeState.SubClassMatcher\",\"baseSubtypeOf\":[\"android.os.AsyncTask\"],\"signatureMatcher\":\".*AsyncTask execute\\\\(.*\\\\)\",\"ident\":\"AsyncTask_execute\"},\"lsVars\":[{\"$type\":\"edu.colorado.plv.bounder.symbolicexecutor.state.TopVal\"},{\"$type\":\"edu.colorado.plv.bounder.symbolicexecutor.state.NamedPureVar\",\"n\":\"t\"}]},\"target\":{\"$type\":\"edu.colorado.plv.bounder.lifestate.LifeState.OAbsMsg\",\"mt\":{\"$type\":\"edu.colorado.plv.bounder.ir.CIEnter\"},\"signatures\":{\"$type\":\"edu.colorado.plv.bounder.lifestate.LifeState.SubClassMatcher\",\"baseSubtypeOf\":[\"android.os.AsyncTask\"],\"signatureMatcher\":\".*AsyncTask execute\\\\(.*\\\\)\",\"ident\":\"AsyncTask_execute\"},\"lsVars\":[{\"$type\":\"edu.colorado.plv.bounder.symbolicexecutor.state.TopVal\"},{\"$type\":\"edu.colorado.plv.bounder.symbolicexecutor.state.NamedPureVar\",\"n\":\"t\"}]}},{\"univQuant\":[{\"$type\":\"edu.colorado.plv.bounder.symbolicexecutor.state.NamedPureVar\",\"n\":\"d\"}],\"existQuant\":[{\"$type\":\"edu.colorado.plv.bounder.symbolicexecutor.state.NamedPureVar\",\"n\":\"a\"}],\"pred\":{\"$type\":\"edu.colorado.plv.bounder.lifestate.LifeState.And\",\"l1\":{\"$type\":\"edu.colorado.plv.bounder.lifestate.LifeState.OAbsMsg\",\"mt\":{\"$type\":\"edu.colorado.plv.bounder.ir.CIExit\"},\"signatures\":{\"$type\":\"edu.colorado.plv.bounder.lifestate.LifeState.SubClassMatcher\",\"baseSubtypeOf\":[\"android.app.ProgressDialog\",\"android.app.Dialog\"],\"signatureMatcher\":\".*show.*\",\"ident\":\"Dialog_show\"},\"lsVars\":[{\"$type\":\"edu.colorado.plv.bounder.symbolicexecutor.state.NamedPureVar\",\"n\":\"d\"},{\"$type\":\"edu.colorado.plv.bounder.symbolicexecutor.state.TopVal\"},{\"$type\":\"edu.colorado.plv.bounder.symbolicexecutor.state.NamedPureVar\",\"n\":\"a\"}]},\"l2\":{\"$type\":\"edu.colorado.plv.bounder.lifestate.LifeState.Or\",\"l1\":{\"$type\":\"edu.colorado.plv.bounder.lifestate.LifeState.Not\",\"p\":{\"$type\":\"edu.colorado.plv.bounder.lifestate.LifeState.OAbsMsg\",\"mt\":{\"$type\":\"edu.colorado.plv.bounder.ir.CBEnter\"},\"signatures\":{\"$type\":\"edu.colorado.plv.bounder.lifestate.LifeState.SubClassMatcher\",\"baseSubtypeOf\":[\"android.app.Activity\",\"androidx.fragment.app.FragmentActivity\"],\"signatureMatcher\":\"void onResume\\\\(\\\\)\",\"ident\":\"Activity_onResume\"},\"lsVars\":[{\"$type\":\"edu.colorado.plv.bounder.symbolicexecutor.state.TopVal\"},{\"$type\":\"edu.colorado.plv.bounder.symbolicexecutor.state.NamedPureVar\",\"n\":\"a\"}]}},\"l2\":{\"$type\":\"edu.colorado.plv.bounder.lifestate.LifeState.NS\",\"i1\":{\"$type\":\"edu.colorado.plv.bounder.lifestate.LifeState.OAbsMsg\",\"mt\":{\"$type\":\"edu.colorado.plv.bounder.ir.CBExit\"},\"signatures\":{\"$type\":\"edu.colorado.plv.bounder.lifestate.LifeState.SubClassMatcher\",\"baseSubtypeOf\":[\"android.app.Activity\",\"androidx.fragment.app.FragmentActivity\"],\"signatureMatcher\":\"void onPause\\\\(\\\\)\",\"ident\":\"Activity_onPause\"},\"lsVars\":[{\"$type\":\"edu.colorado.plv.bounder.symbolicexecutor.state.TopVal\"},{\"$type\":\"edu.colorado.plv.bounder.symbolicexecutor.state.NamedPureVar\",\"n\":\"a\"}]},\"i2\":{\"$type\":\"edu.colorado.plv.bounder.lifestate.LifeState.OAbsMsg\",\"mt\":{\"$type\":\"edu.colorado.plv.bounder.ir.CBEnter\"},\"signatures\":{\"$type\":\"edu.colorado.plv.bounder.lifestate.LifeState.SubClassMatcher\",\"baseSubtypeOf\":[\"android.app.Activity\",\"androidx.fragment.app.FragmentActivity\"],\"signatureMatcher\":\"void onResume\\\\(\\\\)\",\"ident\":\"Activity_onResume\"},\"lsVars\":[{\"$type\":\"edu.colorado.plv.bounder.symbolicexecutor.state.TopVal\"},{\"$type\":\"edu.colorado.plv.bounder.symbolicexecutor.state.NamedPureVar\",\"n\":\"a\"}]}}}},\"target\":{\"$type\":\"edu.colorado.plv.bounder.lifestate.LifeState.OAbsMsg\",\"mt\":{\"$type\":\"edu.colorado.plv.bounder.ir.CIEnter\"},\"signatures\":{\"$type\":\"edu.colorado.plv.bounder.lifestate.LifeState.SubClassMatcher\",\"baseSubtypeOf\":[\"android.app.ProgressDialog\",\"android.app.Dialog\"],\"signatureMatcher\":\"void dismiss\\\\(\\\\)\",\"ident\":\"Dialog_dismiss\"},\"lsVars\":[{\"$type\":\"edu.colorado.plv.bounder.symbolicexecutor.state.TopVal\"},{\"$type\":\"edu.colorado.plv.bounder.symbolicexecutor.state.NamedPureVar\",\"n\":\"d\"}]}}]}",
        "tag": {
         "heuristicType": "SensitiveDerefFieldCausedSynch"
        },
        "timeLimit": 900
       },
       {
        "apkPath": "${baseDir}/fdroid/com.shatteredpixel.shatteredpixeldungeon/1.4.3/apk/com.shatteredpixel.shatteredpixeldungeon_668.apk",
        "configPath": [
         "/tmp/2515852923491409547"
        ],
        "initialQuery": [
         {
          "className": "com.shatteredpixel.shatteredpixeldungeon.scenes.InterlevelScene$4",
          "line": 7,
          "matcher": "void spendToWhole()",
          "methodName": "void run()",
          "t": "ReceiverNonNull"
         }
        ],
        "outFolder": [
         "${baseDirOut}/com.shatteredpixel.shatteredpixeldungeon"
        ],
        "specSet": "{\"specs\":[],\"disallow\":[{\"univQuant\":[{\"$type\":\"edu.colorado.plv.bounder.symbolicexecutor.state.NamedPureVar\",\"n\":\"a\"},{\"$type\":\"edu.colorado.plv.bounder.symbolicexecutor.state.NamedPureVar\",\"n\":\"f\"}],\"existQuant\":[],\"pred\":{\"$type\":\"edu.colorado.plv.bounder.lifestate.LifeState.Or\",\"l1\":{\"$type\":\"edu.colorado.plv.bounder.lifestate.LifeState.NS\",\"i1\":{\"$type\":\"edu.colorado.plv.bounder.lifestate.LifeState.OAbsMsg\",\"mt\":{\"$type\":\"edu.colorado.plv.bounder.ir.CBExit\"},\"signatures\":{\"$type\":\"edu.colorado.plv.bounder.lifestate.LifeState.SubClassMatcher\",\"baseSubtypeOf\":[\"android.app.Fragment\",\"androidx.fragment.app.Fragment\",\"android.support.v4.app.Fragment\"],\"signatureMatcher\":\"void onDestroy\\\\(\\\\)\",\"ident\":\"Fragment_onDestroy\"},\"lsVars\":[{\"$type\":\"edu.colorado.plv.bounder.symbolicexecutor.state.TopVal\"},{\"$type\":\"edu.colorado.plv.bounder.symbolicexecutor.state.NamedPureVar\",\"n\":\"f\"}]},\"i2\":{\"$type\":\"edu.colorado.plv.bounder.lifestate.LifeState.OAbsMsg\",\"mt\":{\"$type\":\"edu.colorado.plv.bounder.ir.CBEnter\"},\"signatures\":{\"$type\":\"edu.colorado.plv.bounder.lifestate.LifeState.SubClassMatcher\",\"baseSubtypeOf\":[\"android.app.Fragment\",\"androidx.fragment.app.Fragment\",\"android.support.v4.app.Fragment\"],\"signatureMatcher\":\"void onActivityCreated\\\\(android.os.Bundle\\\\)\",\"ident\":\"Fragment_onActivityCreated\"},\"lsVars\":[{\"$type\":\"edu.colorado.plv.bounder.symbolicexecutor.state.TopVal\"},{\"$type\":\"edu.colorado.plv.bounder.symbolicexecutor.state.NamedPureVar\",\"n\":\"f\"}]}},\"l2\":{\"$type\":\"edu.colorado.plv.bounder.lifestate.LifeState.Not\",\"p\":{\"$type\":\"edu.colorado.plv.bounder.lifestate.LifeState.OAbsMsg\",\"mt\":{\"$type\":\"edu.colorado.plv.bounder.ir.CBEnter\"},\"signatures\":{\"$type\":\"edu.colorado.plv.bounder.lifestate.LifeState.SubClassMatcher\",\"baseSubtypeOf\":[\"android.app.Fragment\",\"androidx.fragment.app.Fragment\",\"android.support.v4.app.Fragment\"],\"signatureMatcher\":\"void onActivityCreated\\\\(android.os.Bundle\\\\)\",\"ident\":\"Fragment_onActivityCreated\"},\"lsVars\":[{\"$type\":\"edu.colorado.plv.bounder.symbolicexecutor.state.TopVal\"},{\"$type\":\"edu.colorado.plv.bounder.symbolicexecutor.state.NamedPureVar\",\"n\":\"f\"}]}}},\"target\":{\"$type\":\"edu.colorado.plv.bounder.lifestate.LifeState.OAbsMsg\",\"mt\":{\"$type\":\"edu.colorado.plv.bounder.ir.CIExit\"},\"signatures\":{\"$type\":\"edu.colorado.plv.bounder.lifestate.LifeState.SubClassMatcher\",\"baseSubtypeOf\":[\"android.app.Fragment\",\"androidx.fragment.app.Fragment\",\"android.support.v4.app.Fragment\"],\"signatureMatcher\":\".*Activity getActivity\\\\(\\\\)\",\"ident\":\"Fragment_getActivity\"},\"lsVars\":[{\"$type\":\"edu.colorado.plv.bounder.symbolicexecutor.state.NamedPureVar\",\"n\":\"a\"},{\"$type\":\"edu.colorado.plv.bounder.symbolicexecutor.state.NamedPureVar\",\"n\":\"f\"}]},\"rhsConstraints\":[{\"$type\":\"edu.colorado.plv.bounder.lifestate.LifeState.LSConstraint\",\"v1\":{\"$type\":\"edu.colorado.plv.bounder.symbolicexecutor.state.NamedPureVar\",\"n\":\"a\"},\"op\":{\"$type\":\"edu.colorado.plv.bounder.symbolicexecutor.state.Equals\"},\"v2\":{\"$type\":\"edu.colorado.plv.bounder.symbolicexecutor.state.NullVal\"}}]},{\"univQuant\":[{\"$type\":\"edu.colorado.plv.bounder.symbolicexecutor.state.NamedPureVar\",\"n\":\"t\"}],\"existQuant\":[],\"pred\":{\"$type\":\"edu.colorado.plv.bounder.lifestate.LifeState.OAbsMsg\",\"mt\":{\"$type\":\"edu.colorado.plv.bounder.ir.CIExit\"},\"signatures\":{\"$type\":\"edu.colorado.plv.bounder.lifestate.LifeState.SubClassMatcher\",\"baseSubtypeOf\":[\"android.os.AsyncTask\"],\"signatureMatcher\":\".*AsyncTask execute\\\\(.*\\\\)\",\"ident\":\"AsyncTask_execute\"},\"lsVars\":[{\"$type\":\"edu.colorado.plv.bounder.symbolicexecutor.state.TopVal\"},{\"$type\":\"edu.colorado.plv.bounder.symbolicexecutor.state.NamedPureVar\",\"n\":\"t\"}]},\"target\":{\"$type\":\"edu.colorado.plv.bounder.lifestate.LifeState.OAbsMsg\",\"mt\":{\"$type\":\"edu.colorado.plv.bounder.ir.CIEnter\"},\"signatures\":{\"$type\":\"edu.colorado.plv.bounder.lifestate.LifeState.SubClassMatcher\",\"baseSubtypeOf\":[\"android.os.AsyncTask\"],\"signatureMatcher\":\".*AsyncTask execute\\\\(.*\\\\)\",\"ident\":\"AsyncTask_execute\"},\"lsVars\":[{\"$type\":\"edu.colorado.plv.bounder.symbolicexecutor.state.TopVal\"},{\"$type\":\"edu.colorado.plv.bounder.symbolicexecutor.state.NamedPureVar\",\"n\":\"t\"}]}},{\"univQuant\":[{\"$type\":\"edu.colorado.plv.bounder.symbolicexecutor.state.NamedPureVar\",\"n\":\"d\"}],\"existQuant\":[{\"$type\":\"edu.colorado.plv.bounder.symbolicexecutor.state.NamedPureVar\",\"n\":\"a\"}],\"pred\":{\"$type\":\"edu.colorado.plv.bounder.lifestate.LifeState.And\",\"l1\":{\"$type\":\"edu.colorado.plv.bounder.lifestate.LifeState.OAbsMsg\",\"mt\":{\"$type\":\"edu.colorado.plv.bounder.ir.CIExit\"},\"signatures\":{\"$type\":\"edu.colorado.plv.bounder.lifestate.LifeState.SubClassMatcher\",\"baseSubtypeOf\":[\"android.app.ProgressDialog\",\"android.app.Dialog\"],\"signatureMatcher\":\".*show.*\",\"ident\":\"Dialog_show\"},\"lsVars\":[{\"$type\":\"edu.colorado.plv.bounder.symbolicexecutor.state.NamedPureVar\",\"n\":\"d\"},{\"$type\":\"edu.colorado.plv.bounder.symbolicexecutor.state.TopVal\"},{\"$type\":\"edu.colorado.plv.bounder.symbolicexecutor.state.NamedPureVar\",\"n\":\"a\"}]},\"l2\":{\"$type\":\"edu.colorado.plv.bounder.lifestate.LifeState.Or\",\"l1\":{\"$type\":\"edu.colorado.plv.bounder.lifestate.LifeState.Not\",\"p\":{\"$type\":\"edu.colorado.plv.bounder.lifestate.LifeState.OAbsMsg\",\"mt\":{\"$type\":\"edu.colorado.plv.bounder.ir.CBEnter\"},\"signatures\":{\"$type\":\"edu.colorado.plv.bounder.lifestate.LifeState.SubClassMatcher\",\"baseSubtypeOf\":[\"android.app.Activity\",\"androidx.fragment.app.FragmentActivity\"],\"signatureMatcher\":\"void onResume\\\\(\\\\)\",\"ident\":\"Activity_onResume\"},\"lsVars\":[{\"$type\":\"edu.colorado.plv.bounder.symbolicexecutor.state.TopVal\"},{\"$type\":\"edu.colorado.plv.bounder.symbolicexecutor.state.NamedPureVar\",\"n\":\"a\"}]}},\"l2\":{\"$type\":\"edu.colorado.plv.bounder.lifestate.LifeState.NS\",\"i1\":{\"$type\":\"edu.colorado.plv.bounder.lifestate.LifeState.OAbsMsg\",\"mt\":{\"$type\":\"edu.colorado.plv.bounder.ir.CBExit\"},\"signatures\":{\"$type\":\"edu.colorado.plv.bounder.lifestate.LifeState.SubClassMatcher\",\"baseSubtypeOf\":[\"android.app.Activity\",\"androidx.fragment.app.FragmentActivity\"],\"signatureMatcher\":\"void onPause\\\\(\\\\)\",\"ident\":\"Activity_onPause\"},\"lsVars\":[{\"$type\":\"edu.colorado.plv.bounder.symbolicexecutor.state.TopVal\"},{\"$type\":\"edu.colorado.plv.bounder.symbolicexecutor.state.NamedPureVar\",\"n\":\"a\"}]},\"i2\":{\"$type\":\"edu.colorado.plv.bounder.lifestate.LifeState.OAbsMsg\",\"mt\":{\"$type\":\"edu.colorado.plv.bounder.ir.CBEnter\"},\"signatures\":{\"$type\":\"edu.colorado.plv.bounder.lifestate.LifeState.SubClassMatcher\",\"baseSubtypeOf\":[\"android.app.Activity\",\"androidx.fragment.app.FragmentActivity\"],\"signatureMatcher\":\"void onResume\\\\(\\\\)\",\"ident\":\"Activity_onResume\"},\"lsVars\":[{\"$type\":\"edu.colorado.plv.bounder.symbolicexecutor.state.TopVal\"},{\"$type\":\"edu.colorado.plv.bounder.symbolicexecutor.state.NamedPureVar\",\"n\":\"a\"}]}}}},\"target\":{\"$type\":\"edu.colorado.plv.bounder.lifestate.LifeState.OAbsMsg\",\"mt\":{\"$type\":\"edu.colorado.plv.bounder.ir.CIEnter\"},\"signatures\":{\"$type\":\"edu.colorado.plv.bounder.lifestate.LifeState.SubClassMatcher\",\"baseSubtypeOf\":[\"android.app.ProgressDialog\",\"android.app.Dialog\"],\"signatureMatcher\":\"void dismiss\\\\(\\\\)\",\"ident\":\"Dialog_dismiss\"},\"lsVars\":[{\"$type\":\"edu.colorado.plv.bounder.symbolicexecutor.state.TopVal\"},{\"$type\":\"edu.colorado.plv.bounder.symbolicexecutor.state.NamedPureVar\",\"n\":\"d\"}]}}]}",
        "tag": {
         "heuristicType": "SensitiveDerefFieldCausedSynch"
        },
        "timeLimit": 900
       },
       {
        "apkPath": "${baseDir}/fdroid/com.ubergeek42.WeechatAndroid/1.8.1/apk/com.ubergeek42.WeechatAndroid_10801.apk",
        "configPath": [
         "/tmp/8820395083434005566"
        ],
        "initialQuery": [
         {
          "className": "com.ubergeek42.WeechatAndroid.fragments.BufferFragment$$ExternalSyntheticLambda7",
          "line": 140,
          "matcher": "void closeBuffer(long)",
          "methodName": "void run()",
          "t": "ReceiverNonNull"
         }
        ],
        "outFolder": [
         "${baseDirOut}/com.ubergeek42.WeechatAndroid"
        ],
        "specSet": "{\"specs\":[],\"disallow\":[{\"univQuant\":[{\"$type\":\"edu.colorado.plv.bounder.symbolicexecutor.state.NamedPureVar\",\"n\":\"a\"},{\"$type\":\"edu.colorado.plv.bounder.symbolicexecutor.state.NamedPureVar\",\"n\":\"f\"}],\"existQuant\":[],\"pred\":{\"$type\":\"edu.colorado.plv.bounder.lifestate.LifeState.Or\",\"l1\":{\"$type\":\"edu.colorado.plv.bounder.lifestate.LifeState.NS\",\"i1\":{\"$type\":\"edu.colorado.plv.bounder.lifestate.LifeState.OAbsMsg\",\"mt\":{\"$type\":\"edu.colorado.plv.bounder.ir.CBExit\"},\"signatures\":{\"$type\":\"edu.colorado.plv.bounder.lifestate.LifeState.SubClassMatcher\",\"baseSubtypeOf\":[\"android.app.Fragment\",\"androidx.fragment.app.Fragment\",\"android.support.v4.app.Fragment\"],\"signatureMatcher\":\"void onDestroy\\\\(\\\\)\",\"ident\":\"Fragment_onDestroy\"},\"lsVars\":[{\"$type\":\"edu.colorado.plv.bounder.symbolicexecutor.state.TopVal\"},{\"$type\":\"edu.colorado.plv.bounder.symbolicexecutor.state.NamedPureVar\",\"n\":\"f\"}]},\"i2\":{\"$type\":\"edu.colorado.plv.bounder.lifestate.LifeState.OAbsMsg\",\"mt\":{\"$type\":\"edu.colorado.plv.bounder.ir.CBEnter\"},\"signatures\":{\"$type\":\"edu.colorado.plv.bounder.lifestate.LifeState.SubClassMatcher\",\"baseSubtypeOf\":[\"android.app.Fragment\",\"androidx.fragment.app.Fragment\",\"android.support.v4.app.Fragment\"],\"signatureMatcher\":\"void onActivityCreated\\\\(android.os.Bundle\\\\)\",\"ident\":\"Fragment_onActivityCreated\"},\"lsVars\":[{\"$type\":\"edu.colorado.plv.bounder.symbolicexecutor.state.TopVal\"},{\"$type\":\"edu.colorado.plv.bounder.symbolicexecutor.state.NamedPureVar\",\"n\":\"f\"}]}},\"l2\":{\"$type\":\"edu.colorado.plv.bounder.lifestate.LifeState.Not\",\"p\":{\"$type\":\"edu.colorado.plv.bounder.lifestate.LifeState.OAbsMsg\",\"mt\":{\"$type\":\"edu.colorado.plv.bounder.ir.CBEnter\"},\"signatures\":{\"$type\":\"edu.colorado.plv.bounder.lifestate.LifeState.SubClassMatcher\",\"baseSubtypeOf\":[\"android.app.Fragment\",\"androidx.fragment.app.Fragment\",\"android.support.v4.app.Fragment\"],\"signatureMatcher\":\"void onActivityCreated\\\\(android.os.Bundle\\\\)\",\"ident\":\"Fragment_onActivityCreated\"},\"lsVars\":[{\"$type\":\"edu.colorado.plv.bounder.symbolicexecutor.state.TopVal\"},{\"$type\":\"edu.colorado.plv.bounder.symbolicexecutor.state.NamedPureVar\",\"n\":\"f\"}]}}},\"target\":{\"$type\":\"edu.colorado.plv.bounder.lifestate.LifeState.OAbsMsg\",\"mt\":{\"$type\":\"edu.colorado.plv.bounder.ir.CIExit\"},\"signatures\":{\"$type\":\"edu.colorado.plv.bounder.lifestate.LifeState.SubClassMatcher\",\"baseSubtypeOf\":[\"android.app.Fragment\",\"androidx.fragment.app.Fragment\",\"android.support.v4.app.Fragment\"],\"signatureMatcher\":\".*Activity getActivity\\\\(\\\\)\",\"ident\":\"Fragment_getActivity\"},\"lsVars\":[{\"$type\":\"edu.colorado.plv.bounder.symbolicexecutor.state.NamedPureVar\",\"n\":\"a\"},{\"$type\":\"edu.colorado.plv.bounder.symbolicexecutor.state.NamedPureVar\",\"n\":\"f\"}]},\"rhsConstraints\":[{\"$type\":\"edu.colorado.plv.bounder.lifestate.LifeState.LSConstraint\",\"v1\":{\"$type\":\"edu.colorado.plv.bounder.symbolicexecutor.state.NamedPureVar\",\"n\":\"a\"},\"op\":{\"$type\":\"edu.colorado.plv.bounder.symbolicexecutor.state.Equals\"},\"v2\":{\"$type\":\"edu.colorado.plv.bounder.symbolicexecutor.state.NullVal\"}}]},{\"univQuant\":[{\"$type\":\"edu.colorado.plv.bounder.symbolicexecutor.state.NamedPureVar\",\"n\":\"t\"}],\"existQuant\":[],\"pred\":{\"$type\":\"edu.colorado.plv.bounder.lifestate.LifeState.OAbsMsg\",\"mt\":{\"$type\":\"edu.colorado.plv.bounder.ir.CIExit\"},\"signatures\":{\"$type\":\"edu.colorado.plv.bounder.lifestate.LifeState.SubClassMatcher\",\"baseSubtypeOf\":[\"android.os.AsyncTask\"],\"signatureMatcher\":\".*AsyncTask execute\\\\(.*\\\\)\",\"ident\":\"AsyncTask_execute\"},\"lsVars\":[{\"$type\":\"edu.colorado.plv.bounder.symbolicexecutor.state.TopVal\"},{\"$type\":\"edu.colorado.plv.bounder.symbolicexecutor.state.NamedPureVar\",\"n\":\"t\"}]},\"target\":{\"$type\":\"edu.colorado.plv.bounder.lifestate.LifeState.OAbsMsg\",\"mt\":{\"$type\":\"edu.colorado.plv.bounder.ir.CIEnter\"},\"signatures\":{\"$type\":\"edu.colorado.plv.bounder.lifestate.LifeState.SubClassMatcher\",\"baseSubtypeOf\":[\"android.os.AsyncTask\"],\"signatureMatcher\":\".*AsyncTask execute\\\\(.*\\\\)\",\"ident\":\"AsyncTask_execute\"},\"lsVars\":[{\"$type\":\"edu.colorado.plv.bounder.symbolicexecutor.state.TopVal\"},{\"$type\":\"edu.colorado.plv.bounder.symbolicexecutor.state.NamedPureVar\",\"n\":\"t\"}]}},{\"univQuant\":[{\"$type\":\"edu.colorado.plv.bounder.symbolicexecutor.state.NamedPureVar\",\"n\":\"d\"}],\"existQuant\":[{\"$type\":\"edu.colorado.plv.bounder.symbolicexecutor.state.NamedPureVar\",\"n\":\"a\"}],\"pred\":{\"$type\":\"edu.colorado.plv.bounder.lifestate.LifeState.And\",\"l1\":{\"$type\":\"edu.colorado.plv.bounder.lifestate.LifeState.OAbsMsg\",\"mt\":{\"$type\":\"edu.colorado.plv.bounder.ir.CIExit\"},\"signatures\":{\"$type\":\"edu.colorado.plv.bounder.lifestate.LifeState.SubClassMatcher\",\"baseSubtypeOf\":[\"android.app.ProgressDialog\",\"android.app.Dialog\"],\"signatureMatcher\":\".*show.*\",\"ident\":\"Dialog_show\"},\"lsVars\":[{\"$type\":\"edu.colorado.plv.bounder.symbolicexecutor.state.NamedPureVar\",\"n\":\"d\"},{\"$type\":\"edu.colorado.plv.bounder.symbolicexecutor.state.TopVal\"},{\"$type\":\"edu.colorado.plv.bounder.symbolicexecutor.state.NamedPureVar\",\"n\":\"a\"}]},\"l2\":{\"$type\":\"edu.colorado.plv.bounder.lifestate.LifeState.Or\",\"l1\":{\"$type\":\"edu.colorado.plv.bounder.lifestate.LifeState.Not\",\"p\":{\"$type\":\"edu.colorado.plv.bounder.lifestate.LifeState.OAbsMsg\",\"mt\":{\"$type\":\"edu.colorado.plv.bounder.ir.CBEnter\"},\"signatures\":{\"$type\":\"edu.colorado.plv.bounder.lifestate.LifeState.SubClassMatcher\",\"baseSubtypeOf\":[\"android.app.Activity\",\"androidx.fragment.app.FragmentActivity\"],\"signatureMatcher\":\"void onResume\\\\(\\\\)\",\"ident\":\"Activity_onResume\"},\"lsVars\":[{\"$type\":\"edu.colorado.plv.bounder.symbolicexecutor.state.TopVal\"},{\"$type\":\"edu.colorado.plv.bounder.symbolicexecutor.state.NamedPureVar\",\"n\":\"a\"}]}},\"l2\":{\"$type\":\"edu.colorado.plv.bounder.lifestate.LifeState.NS\",\"i1\":{\"$type\":\"edu.colorado.plv.bounder.lifestate.LifeState.OAbsMsg\",\"mt\":{\"$type\":\"edu.colorado.plv.bounder.ir.CBExit\"},\"signatures\":{\"$type\":\"edu.colorado.plv.bounder.lifestate.LifeState.SubClassMatcher\",\"baseSubtypeOf\":[\"android.app.Activity\",\"androidx.fragment.app.FragmentActivity\"],\"signatureMatcher\":\"void onPause\\\\(\\\\)\",\"ident\":\"Activity_onPause\"},\"lsVars\":[{\"$type\":\"edu.colorado.plv.bounder.symbolicexecutor.state.TopVal\"},{\"$type\":\"edu.colorado.plv.bounder.symbolicexecutor.state.NamedPureVar\",\"n\":\"a\"}]},\"i2\":{\"$type\":\"edu.colorado.plv.bounder.lifestate.LifeState.OAbsMsg\",\"mt\":{\"$type\":\"edu.colorado.plv.bounder.ir.CBEnter\"},\"signatures\":{\"$type\":\"edu.colorado.plv.bounder.lifestate.LifeState.SubClassMatcher\",\"baseSubtypeOf\":[\"android.app.Activity\",\"androidx.fragment.app.FragmentActivity\"],\"signatureMatcher\":\"void onResume\\\\(\\\\)\",\"ident\":\"Activity_onResume\"},\"lsVars\":[{\"$type\":\"edu.colorado.plv.bounder.symbolicexecutor.state.TopVal\"},{\"$type\":\"edu.colorado.plv.bounder.symbolicexecutor.state.NamedPureVar\",\"n\":\"a\"}]}}}},\"target\":{\"$type\":\"edu.colorado.plv.bounder.lifestate.LifeState.OAbsMsg\",\"mt\":{\"$type\":\"edu.colorado.plv.bounder.ir.CIEnter\"},\"signatures\":{\"$type\":\"edu.colorado.plv.bounder.lifestate.LifeState.SubClassMatcher\",\"baseSubtypeOf\":[\"android.app.ProgressDialog\",\"android.app.Dialog\"],\"signatureMatcher\":\"void dismiss\\\\(\\\\)\",\"ident\":\"Dialog_dismiss\"},\"lsVars\":[{\"$type\":\"edu.colorado.plv.bounder.symbolicexecutor.state.TopVal\"},{\"$type\":\"edu.colorado.plv.bounder.symbolicexecutor.state.NamedPureVar\",\"n\":\"d\"}]}}]}",
        "tag": {
         "heuristicType": "SensitiveDerefFieldCausedSynch"
        },
        "timeLimit": 900
       },
       {
        "apkPath": "${baseDir}/fdroid/org.sipdroid.sipua/6.3beta/apk/org.sipdroid.sipua_134.apk",
        "configPath": [
         "/tmp/270335928576313844"
        ],
        "initialQuery": [
         {
          "className": "org.zoolu.net.UdpProvider",
          "line": 189,
          "matcher": "void onReceivedPacket(org.zoolu.net.UdpProvider,org.zoolu.net.UdpPacket)",
          "methodName": "void run()",
          "t": "ReceiverNonNull"
         }
        ],
        "outFolder": [
         "${baseDirOut}/org.sipdroid.sipua"
        ],
        "specSet": "{\"specs\":[],\"disallow\":[{\"univQuant\":[{\"$type\":\"edu.colorado.plv.bounder.symbolicexecutor.state.NamedPureVar\",\"n\":\"a\"},{\"$type\":\"edu.colorado.plv.bounder.symbolicexecutor.state.NamedPureVar\",\"n\":\"f\"}],\"existQuant\":[],\"pred\":{\"$type\":\"edu.colorado.plv.bounder.lifestate.LifeState.Or\",\"l1\":{\"$type\":\"edu.colorado.plv.bounder.lifestate.LifeState.NS\",\"i1\":{\"$type\":\"edu.colorado.plv.bounder.lifestate.LifeState.OAbsMsg\",\"mt\":{\"$type\":\"edu.colorado.plv.bounder.ir.CBExit\"},\"signatures\":{\"$type\":\"edu.colorado.plv.bounder.lifestate.LifeState.SubClassMatcher\",\"baseSubtypeOf\":[\"android.app.Fragment\",\"androidx.fragment.app.Fragment\",\"android.support.v4.app.Fragment\"],\"signatureMatcher\":\"void onDestroy\\\\(\\\\)\",\"ident\":\"Fragment_onDestroy\"},\"lsVars\":[{\"$type\":\"edu.colorado.plv.bounder.symbolicexecutor.state.TopVal\"},{\"$type\":\"edu.colorado.plv.bounder.symbolicexecutor.state.NamedPureVar\",\"n\":\"f\"}]},\"i2\":{\"$type\":\"edu.colorado.plv.bounder.lifestate.LifeState.OAbsMsg\",\"mt\":{\"$type\":\"edu.colorado.plv.bounder.ir.CBEnter\"},\"signatures\":{\"$type\":\"edu.colorado.plv.bounder.lifestate.LifeState.SubClassMatcher\",\"baseSubtypeOf\":[\"android.app.Fragment\",\"androidx.fragment.app.Fragment\",\"android.support.v4.app.Fragment\"],\"signatureMatcher\":\"void onActivityCreated\\\\(android.os.Bundle\\\\)\",\"ident\":\"Fragment_onActivityCreated\"},\"lsVars\":[{\"$type\":\"edu.colorado.plv.bounder.symbolicexecutor.state.TopVal\"},{\"$type\":\"edu.colorado.plv.bounder.symbolicexecutor.state.NamedPureVar\",\"n\":\"f\"}]}},\"l2\":{\"$type\":\"edu.colorado.plv.bounder.lifestate.LifeState.Not\",\"p\":{\"$type\":\"edu.colorado.plv.bounder.lifestate.LifeState.OAbsMsg\",\"mt\":{\"$type\":\"edu.colorado.plv.bounder.ir.CBEnter\"},\"signatures\":{\"$type\":\"edu.colorado.plv.bounder.lifestate.LifeState.SubClassMatcher\",\"baseSubtypeOf\":[\"android.app.Fragment\",\"androidx.fragment.app.Fragment\",\"android.support.v4.app.Fragment\"],\"signatureMatcher\":\"void onActivityCreated\\\\(android.os.Bundle\\\\)\",\"ident\":\"Fragment_onActivityCreated\"},\"lsVars\":[{\"$type\":\"edu.colorado.plv.bounder.symbolicexecutor.state.TopVal\"},{\"$type\":\"edu.colorado.plv.bounder.symbolicexecutor.state.NamedPureVar\",\"n\":\"f\"}]}}},\"target\":{\"$type\":\"edu.colorado.plv.bounder.lifestate.LifeState.OAbsMsg\",\"mt\":{\"$type\":\"edu.colorado.plv.bounder.ir.CIExit\"},\"signatures\":{\"$type\":\"edu.colorado.plv.bounder.lifestate.LifeState.SubClassMatcher\",\"baseSubtypeOf\":[\"android.app.Fragment\",\"androidx.fragment.app.Fragment\",\"android.support.v4.app.Fragment\"],\"signatureMatcher\":\".*Activity getActivity\\\\(\\\\)\",\"ident\":\"Fragment_getActivity\"},\"lsVars\":[{\"$type\":\"edu.colorado.plv.bounder.symbolicexecutor.state.NamedPureVar\",\"n\":\"a\"},{\"$type\":\"edu.colorado.plv.bounder.symbolicexecutor.state.NamedPureVar\",\"n\":\"f\"}]},\"rhsConstraints\":[{\"$type\":\"edu.colorado.plv.bounder.lifestate.LifeState.LSConstraint\",\"v1\":{\"$type\":\"edu.colorado.plv.bounder.symbolicexecutor.state.NamedPureVar\",\"n\":\"a\"},\"op\":{\"$type\":\"edu.colorado.plv.bounder.symbolicexecutor.state.Equals\"},\"v2\":{\"$type\":\"edu.colorado.plv.bounder.symbolicexecutor.state.NullVal\"}}]},{\"univQuant\":[{\"$type\":\"edu.colorado.plv.bounder.symbolicexecutor.state.NamedPureVar\",\"n\":\"t\"}],\"existQuant\":[],\"pred\":{\"$type\":\"edu.colorado.plv.bounder.lifestate.LifeState.OAbsMsg\",\"mt\":{\"$type\":\"edu.colorado.plv.bounder.ir.CIExit\"},\"signatures\":{\"$type\":\"edu.colorado.plv.bounder.lifestate.LifeState.SubClassMatcher\",\"baseSubtypeOf\":[\"android.os.AsyncTask\"],\"signatureMatcher\":\".*AsyncTask execute\\\\(.*\\\\)\",\"ident\":\"AsyncTask_execute\"},\"lsVars\":[{\"$type\":\"edu.colorado.plv.bounder.symbolicexecutor.state.TopVal\"},{\"$type\":\"edu.colorado.plv.bounder.symbolicexecutor.state.NamedPureVar\",\"n\":\"t\"}]},\"target\":{\"$type\":\"edu.colorado.plv.bounder.lifestate.LifeState.OAbsMsg\",\"mt\":{\"$type\":\"edu.colorado.plv.bounder.ir.CIEnter\"},\"signatures\":{\"$type\":\"edu.colorado.plv.bounder.lifestate.LifeState.SubClassMatcher\",\"baseSubtypeOf\":[\"android.os.AsyncTask\"],\"signatureMatcher\":\".*AsyncTask execute\\\\(.*\\\\)\",\"ident\":\"AsyncTask_execute\"},\"lsVars\":[{\"$type\":\"edu.colorado.plv.bounder.symbolicexecutor.state.TopVal\"},{\"$type\":\"edu.colorado.plv.bounder.symbolicexecutor.state.NamedPureVar\",\"n\":\"t\"}]}},{\"univQuant\":[{\"$type\":\"edu.colorado.plv.bounder.symbolicexecutor.state.NamedPureVar\",\"n\":\"d\"}],\"existQuant\":[{\"$type\":\"edu.colorado.plv.bounder.symbolicexecutor.state.NamedPureVar\",\"n\":\"a\"}],\"pred\":{\"$type\":\"edu.colorado.plv.bounder.lifestate.LifeState.And\",\"l1\":{\"$type\":\"edu.colorado.plv.bounder.lifestate.LifeState.OAbsMsg\",\"mt\":{\"$type\":\"edu.colorado.plv.bounder.ir.CIExit\"},\"signatures\":{\"$type\":\"edu.colorado.plv.bounder.lifestate.LifeState.SubClassMatcher\",\"baseSubtypeOf\":[\"android.app.ProgressDialog\",\"android.app.Dialog\"],\"signatureMatcher\":\".*show.*\",\"ident\":\"Dialog_show\"},\"lsVars\":[{\"$type\":\"edu.colorado.plv.bounder.symbolicexecutor.state.NamedPureVar\",\"n\":\"d\"},{\"$type\":\"edu.colorado.plv.bounder.symbolicexecutor.state.TopVal\"},{\"$type\":\"edu.colorado.plv.bounder.symbolicexecutor.state.NamedPureVar\",\"n\":\"a\"}]},\"l2\":{\"$type\":\"edu.colorado.plv.bounder.lifestate.LifeState.Or\",\"l1\":{\"$type\":\"edu.colorado.plv.bounder.lifestate.LifeState.Not\",\"p\":{\"$type\":\"edu.colorado.plv.bounder.lifestate.LifeState.OAbsMsg\",\"mt\":{\"$type\":\"edu.colorado.plv.bounder.ir.CBEnter\"},\"signatures\":{\"$type\":\"edu.colorado.plv.bounder.lifestate.LifeState.SubClassMatcher\",\"baseSubtypeOf\":[\"android.app.Activity\",\"androidx.fragment.app.FragmentActivity\"],\"signatureMatcher\":\"void onResume\\\\(\\\\)\",\"ident\":\"Activity_onResume\"},\"lsVars\":[{\"$type\":\"edu.colorado.plv.bounder.symbolicexecutor.state.TopVal\"},{\"$type\":\"edu.colorado.plv.bounder.symbolicexecutor.state.NamedPureVar\",\"n\":\"a\"}]}},\"l2\":{\"$type\":\"edu.colorado.plv.bounder.lifestate.LifeState.NS\",\"i1\":{\"$type\":\"edu.colorado.plv.bounder.lifestate.LifeState.OAbsMsg\",\"mt\":{\"$type\":\"edu.colorado.plv.bounder.ir.CBExit\"},\"signatures\":{\"$type\":\"edu.colorado.plv.bounder.lifestate.LifeState.SubClassMatcher\",\"baseSubtypeOf\":[\"android.app.Activity\",\"androidx.fragment.app.FragmentActivity\"],\"signatureMatcher\":\"void onPause\\\\(\\\\)\",\"ident\":\"Activity_onPause\"},\"lsVars\":[{\"$type\":\"edu.colorado.plv.bounder.symbolicexecutor.state.TopVal\"},{\"$type\":\"edu.colorado.plv.bounder.symbolicexecutor.state.NamedPureVar\",\"n\":\"a\"}]},\"i2\":{\"$type\":\"edu.colorado.plv.bounder.lifestate.LifeState.OAbsMsg\",\"mt\":{\"$type\":\"edu.colorado.plv.bounder.ir.CBEnter\"},\"signatures\":{\"$type\":\"edu.colorado.plv.bounder.lifestate.LifeState.SubClassMatcher\",\"baseSubtypeOf\":[\"android.app.Activity\",\"androidx.fragment.app.FragmentActivity\"],\"signatureMatcher\":\"void onResume\\\\(\\\\)\",\"ident\":\"Activity_onResume\"},\"lsVars\":[{\"$type\":\"edu.colorado.plv.bounder.symbolicexecutor.state.TopVal\"},{\"$type\":\"edu.colorado.plv.bounder.symbolicexecutor.state.NamedPureVar\",\"n\":\"a\"}]}}}},\"target\":{\"$type\":\"edu.colorado.plv.bounder.lifestate.LifeState.OAbsMsg\",\"mt\":{\"$type\":\"edu.colorado.plv.bounder.ir.CIEnter\"},\"signatures\":{\"$type\":\"edu.colorado.plv.bounder.lifestate.LifeState.SubClassMatcher\",\"baseSubtypeOf\":[\"android.app.ProgressDialog\",\"android.app.Dialog\"],\"signatureMatcher\":\"void dismiss\\\\(\\\\)\",\"ident\":\"Dialog_dismiss\"},\"lsVars\":[{\"$type\":\"edu.colorado.plv.bounder.symbolicexecutor.state.TopVal\"},{\"$type\":\"edu.colorado.plv.bounder.symbolicexecutor.state.NamedPureVar\",\"n\":\"d\"}]}}]}",
        "tag": {
         "heuristicType": "SensitiveDerefFieldCausedSynch"
        },
        "timeLimit": 900
       },
       {
        "apkPath": "${baseDir}/fdroid/org.sipdroid.sipua/6.3beta/apk/org.sipdroid.sipua_134.apk",
        "configPath": [
         "/tmp/270335928576313844"
        ],
        "initialQuery": [
         {
          "className": "org.zoolu.net.TcpConnection",
          "line": 175,
          "matcher": "void onReceivedData(org.zoolu.net.TcpConnection,byte[],int)",
          "methodName": "void run()",
          "t": "ReceiverNonNull"
         }
        ],
        "outFolder": [
         "${baseDirOut}/org.sipdroid.sipua"
        ],
        "specSet": "{\"specs\":[],\"disallow\":[{\"univQuant\":[{\"$type\":\"edu.colorado.plv.bounder.symbolicexecutor.state.NamedPureVar\",\"n\":\"a\"},{\"$type\":\"edu.colorado.plv.bounder.symbolicexecutor.state.NamedPureVar\",\"n\":\"f\"}],\"existQuant\":[],\"pred\":{\"$type\":\"edu.colorado.plv.bounder.lifestate.LifeState.Or\",\"l1\":{\"$type\":\"edu.colorado.plv.bounder.lifestate.LifeState.NS\",\"i1\":{\"$type\":\"edu.colorado.plv.bounder.lifestate.LifeState.OAbsMsg\",\"mt\":{\"$type\":\"edu.colorado.plv.bounder.ir.CBExit\"},\"signatures\":{\"$type\":\"edu.colorado.plv.bounder.lifestate.LifeState.SubClassMatcher\",\"baseSubtypeOf\":[\"android.app.Fragment\",\"androidx.fragment.app.Fragment\",\"android.support.v4.app.Fragment\"],\"signatureMatcher\":\"void onDestroy\\\\(\\\\)\",\"ident\":\"Fragment_onDestroy\"},\"lsVars\":[{\"$type\":\"edu.colorado.plv.bounder.symbolicexecutor.state.TopVal\"},{\"$type\":\"edu.colorado.plv.bounder.symbolicexecutor.state.NamedPureVar\",\"n\":\"f\"}]},\"i2\":{\"$type\":\"edu.colorado.plv.bounder.lifestate.LifeState.OAbsMsg\",\"mt\":{\"$type\":\"edu.colorado.plv.bounder.ir.CBEnter\"},\"signatures\":{\"$type\":\"edu.colorado.plv.bounder.lifestate.LifeState.SubClassMatcher\",\"baseSubtypeOf\":[\"android.app.Fragment\",\"androidx.fragment.app.Fragment\",\"android.support.v4.app.Fragment\"],\"signatureMatcher\":\"void onActivityCreated\\\\(android.os.Bundle\\\\)\",\"ident\":\"Fragment_onActivityCreated\"},\"lsVars\":[{\"$type\":\"edu.colorado.plv.bounder.symbolicexecutor.state.TopVal\"},{\"$type\":\"edu.colorado.plv.bounder.symbolicexecutor.state.NamedPureVar\",\"n\":\"f\"}]}},\"l2\":{\"$type\":\"edu.colorado.plv.bounder.lifestate.LifeState.Not\",\"p\":{\"$type\":\"edu.colorado.plv.bounder.lifestate.LifeState.OAbsMsg\",\"mt\":{\"$type\":\"edu.colorado.plv.bounder.ir.CBEnter\"},\"signatures\":{\"$type\":\"edu.colorado.plv.bounder.lifestate.LifeState.SubClassMatcher\",\"baseSubtypeOf\":[\"android.app.Fragment\",\"androidx.fragment.app.Fragment\",\"android.support.v4.app.Fragment\"],\"signatureMatcher\":\"void onActivityCreated\\\\(android.os.Bundle\\\\)\",\"ident\":\"Fragment_onActivityCreated\"},\"lsVars\":[{\"$type\":\"edu.colorado.plv.bounder.symbolicexecutor.state.TopVal\"},{\"$type\":\"edu.colorado.plv.bounder.symbolicexecutor.state.NamedPureVar\",\"n\":\"f\"}]}}},\"target\":{\"$type\":\"edu.colorado.plv.bounder.lifestate.LifeState.OAbsMsg\",\"mt\":{\"$type\":\"edu.colorado.plv.bounder.ir.CIExit\"},\"signatures\":{\"$type\":\"edu.colorado.plv.bounder.lifestate.LifeState.SubClassMatcher\",\"baseSubtypeOf\":[\"android.app.Fragment\",\"androidx.fragment.app.Fragment\",\"android.support.v4.app.Fragment\"],\"signatureMatcher\":\".*Activity getActivity\\\\(\\\\)\",\"ident\":\"Fragment_getActivity\"},\"lsVars\":[{\"$type\":\"edu.colorado.plv.bounder.symbolicexecutor.state.NamedPureVar\",\"n\":\"a\"},{\"$type\":\"edu.colorado.plv.bounder.symbolicexecutor.state.NamedPureVar\",\"n\":\"f\"}]},\"rhsConstraints\":[{\"$type\":\"edu.colorado.plv.bounder.lifestate.LifeState.LSConstraint\",\"v1\":{\"$type\":\"edu.colorado.plv.bounder.symbolicexecutor.state.NamedPureVar\",\"n\":\"a\"},\"op\":{\"$type\":\"edu.colorado.plv.bounder.symbolicexecutor.state.Equals\"},\"v2\":{\"$type\":\"edu.colorado.plv.bounder.symbolicexecutor.state.NullVal\"}}]},{\"univQuant\":[{\"$type\":\"edu.colorado.plv.bounder.symbolicexecutor.state.NamedPureVar\",\"n\":\"t\"}],\"existQuant\":[],\"pred\":{\"$type\":\"edu.colorado.plv.bounder.lifestate.LifeState.OAbsMsg\",\"mt\":{\"$type\":\"edu.colorado.plv.bounder.ir.CIExit\"},\"signatures\":{\"$type\":\"edu.colorado.plv.bounder.lifestate.LifeState.SubClassMatcher\",\"baseSubtypeOf\":[\"android.os.AsyncTask\"],\"signatureMatcher\":\".*AsyncTask execute\\\\(.*\\\\)\",\"ident\":\"AsyncTask_execute\"},\"lsVars\":[{\"$type\":\"edu.colorado.plv.bounder.symbolicexecutor.state.TopVal\"},{\"$type\":\"edu.colorado.plv.bounder.symbolicexecutor.state.NamedPureVar\",\"n\":\"t\"}]},\"target\":{\"$type\":\"edu.colorado.plv.bounder.lifestate.LifeState.OAbsMsg\",\"mt\":{\"$type\":\"edu.colorado.plv.bounder.ir.CIEnter\"},\"signatures\":{\"$type\":\"edu.colorado.plv.bounder.lifestate.LifeState.SubClassMatcher\",\"baseSubtypeOf\":[\"android.os.AsyncTask\"],\"signatureMatcher\":\".*AsyncTask execute\\\\(.*\\\\)\",\"ident\":\"AsyncTask_execute\"},\"lsVars\":[{\"$type\":\"edu.colorado.plv.bounder.symbolicexecutor.state.TopVal\"},{\"$type\":\"edu.colorado.plv.bounder.symbolicexecutor.state.NamedPureVar\",\"n\":\"t\"}]}},{\"univQuant\":[{\"$type\":\"edu.colorado.plv.bounder.symbolicexecutor.state.NamedPureVar\",\"n\":\"d\"}],\"existQuant\":[{\"$type\":\"edu.colorado.plv.bounder.symbolicexecutor.state.NamedPureVar\",\"n\":\"a\"}],\"pred\":{\"$type\":\"edu.colorado.plv.bounder.lifestate.LifeState.And\",\"l1\":{\"$type\":\"edu.colorado.plv.bounder.lifestate.LifeState.OAbsMsg\",\"mt\":{\"$type\":\"edu.colorado.plv.bounder.ir.CIExit\"},\"signatures\":{\"$type\":\"edu.colorado.plv.bounder.lifestate.LifeState.SubClassMatcher\",\"baseSubtypeOf\":[\"android.app.ProgressDialog\",\"android.app.Dialog\"],\"signatureMatcher\":\".*show.*\",\"ident\":\"Dialog_show\"},\"lsVars\":[{\"$type\":\"edu.colorado.plv.bounder.symbolicexecutor.state.NamedPureVar\",\"n\":\"d\"},{\"$type\":\"edu.colorado.plv.bounder.symbolicexecutor.state.TopVal\"},{\"$type\":\"edu.colorado.plv.bounder.symbolicexecutor.state.NamedPureVar\",\"n\":\"a\"}]},\"l2\":{\"$type\":\"edu.colorado.plv.bounder.lifestate.LifeState.Or\",\"l1\":{\"$type\":\"edu.colorado.plv.bounder.lifestate.LifeState.Not\",\"p\":{\"$type\":\"edu.colorado.plv.bounder.lifestate.LifeState.OAbsMsg\",\"mt\":{\"$type\":\"edu.colorado.plv.bounder.ir.CBEnter\"},\"signatures\":{\"$type\":\"edu.colorado.plv.bounder.lifestate.LifeState.SubClassMatcher\",\"baseSubtypeOf\":[\"android.app.Activity\",\"androidx.fragment.app.FragmentActivity\"],\"signatureMatcher\":\"void onResume\\\\(\\\\)\",\"ident\":\"Activity_onResume\"},\"lsVars\":[{\"$type\":\"edu.colorado.plv.bounder.symbolicexecutor.state.TopVal\"},{\"$type\":\"edu.colorado.plv.bounder.symbolicexecutor.state.NamedPureVar\",\"n\":\"a\"}]}},\"l2\":{\"$type\":\"edu.colorado.plv.bounder.lifestate.LifeState.NS\",\"i1\":{\"$type\":\"edu.colorado.plv.bounder.lifestate.LifeState.OAbsMsg\",\"mt\":{\"$type\":\"edu.colorado.plv.bounder.ir.CBExit\"},\"signatures\":{\"$type\":\"edu.colorado.plv.bounder.lifestate.LifeState.SubClassMatcher\",\"baseSubtypeOf\":[\"android.app.Activity\",\"androidx.fragment.app.FragmentActivity\"],\"signatureMatcher\":\"void onPause\\\\(\\\\)\",\"ident\":\"Activity_onPause\"},\"lsVars\":[{\"$type\":\"edu.colorado.plv.bounder.symbolicexecutor.state.TopVal\"},{\"$type\":\"edu.colorado.plv.bounder.symbolicexecutor.state.NamedPureVar\",\"n\":\"a\"}]},\"i2\":{\"$type\":\"edu.colorado.plv.bounder.lifestate.LifeState.OAbsMsg\",\"mt\":{\"$type\":\"edu.colorado.plv.bounder.ir.CBEnter\"},\"signatures\":{\"$type\":\"edu.colorado.plv.bounder.lifestate.LifeState.SubClassMatcher\",\"baseSubtypeOf\":[\"android.app.Activity\",\"androidx.fragment.app.FragmentActivity\"],\"signatureMatcher\":\"void onResume\\\\(\\\\)\",\"ident\":\"Activity_onResume\"},\"lsVars\":[{\"$type\":\"edu.colorado.plv.bounder.symbolicexecutor.state.TopVal\"},{\"$type\":\"edu.colorado.plv.bounder.symbolicexecutor.state.NamedPureVar\",\"n\":\"a\"}]}}}},\"target\":{\"$type\":\"edu.colorado.plv.bounder.lifestate.LifeState.OAbsMsg\",\"mt\":{\"$type\":\"edu.colorado.plv.bounder.ir.CIEnter\"},\"signatures\":{\"$type\":\"edu.colorado.plv.bounder.lifestate.LifeState.SubClassMatcher\",\"baseSubtypeOf\":[\"android.app.ProgressDialog\",\"android.app.Dialog\"],\"signatureMatcher\":\"void dismiss\\\\(\\\\)\",\"ident\":\"Dialog_dismiss\"},\"lsVars\":[{\"$type\":\"edu.colorado.plv.bounder.symbolicexecutor.state.TopVal\"},{\"$type\":\"edu.colorado.plv.bounder.symbolicexecutor.state.NamedPureVar\",\"n\":\"d\"}]}}]}",
        "tag": {
         "heuristicType": "SensitiveDerefFieldCausedSynch"
        },
        "timeLimit": 900
       },
       {
        "apkPath": "${baseDir}/fdroid/org.sipdroid.sipua/6.3beta/apk/org.sipdroid.sipua_134.apk",
        "configPath": [
         "/tmp/270335928576313844"
        ],
        "initialQuery": [
         {
          "className": "org.sipdroid.media.RtpStreamReceiver",
          "line": 715,
          "matcher": "void writeIncoming(short[],int,int)",
          "methodName": "void run()",
          "t": "ReceiverNonNull"
         }
        ],
        "outFolder": [
         "${baseDirOut}/org.sipdroid.sipua"
        ],
        "specSet": "{\"specs\":[],\"disallow\":[{\"univQuant\":[{\"$type\":\"edu.colorado.plv.bounder.symbolicexecutor.state.NamedPureVar\",\"n\":\"a\"},{\"$type\":\"edu.colorado.plv.bounder.symbolicexecutor.state.NamedPureVar\",\"n\":\"f\"}],\"existQuant\":[],\"pred\":{\"$type\":\"edu.colorado.plv.bounder.lifestate.LifeState.Or\",\"l1\":{\"$type\":\"edu.colorado.plv.bounder.lifestate.LifeState.NS\",\"i1\":{\"$type\":\"edu.colorado.plv.bounder.lifestate.LifeState.OAbsMsg\",\"mt\":{\"$type\":\"edu.colorado.plv.bounder.ir.CBExit\"},\"signatures\":{\"$type\":\"edu.colorado.plv.bounder.lifestate.LifeState.SubClassMatcher\",\"baseSubtypeOf\":[\"android.app.Fragment\",\"androidx.fragment.app.Fragment\",\"android.support.v4.app.Fragment\"],\"signatureMatcher\":\"void onDestroy\\\\(\\\\)\",\"ident\":\"Fragment_onDestroy\"},\"lsVars\":[{\"$type\":\"edu.colorado.plv.bounder.symbolicexecutor.state.TopVal\"},{\"$type\":\"edu.colorado.plv.bounder.symbolicexecutor.state.NamedPureVar\",\"n\":\"f\"}]},\"i2\":{\"$type\":\"edu.colorado.plv.bounder.lifestate.LifeState.OAbsMsg\",\"mt\":{\"$type\":\"edu.colorado.plv.bounder.ir.CBEnter\"},\"signatures\":{\"$type\":\"edu.colorado.plv.bounder.lifestate.LifeState.SubClassMatcher\",\"baseSubtypeOf\":[\"android.app.Fragment\",\"androidx.fragment.app.Fragment\",\"android.support.v4.app.Fragment\"],\"signatureMatcher\":\"void onActivityCreated\\\\(android.os.Bundle\\\\)\",\"ident\":\"Fragment_onActivityCreated\"},\"lsVars\":[{\"$type\":\"edu.colorado.plv.bounder.symbolicexecutor.state.TopVal\"},{\"$type\":\"edu.colorado.plv.bounder.symbolicexecutor.state.NamedPureVar\",\"n\":\"f\"}]}},\"l2\":{\"$type\":\"edu.colorado.plv.bounder.lifestate.LifeState.Not\",\"p\":{\"$type\":\"edu.colorado.plv.bounder.lifestate.LifeState.OAbsMsg\",\"mt\":{\"$type\":\"edu.colorado.plv.bounder.ir.CBEnter\"},\"signatures\":{\"$type\":\"edu.colorado.plv.bounder.lifestate.LifeState.SubClassMatcher\",\"baseSubtypeOf\":[\"android.app.Fragment\",\"androidx.fragment.app.Fragment\",\"android.support.v4.app.Fragment\"],\"signatureMatcher\":\"void onActivityCreated\\\\(android.os.Bundle\\\\)\",\"ident\":\"Fragment_onActivityCreated\"},\"lsVars\":[{\"$type\":\"edu.colorado.plv.bounder.symbolicexecutor.state.TopVal\"},{\"$type\":\"edu.colorado.plv.bounder.symbolicexecutor.state.NamedPureVar\",\"n\":\"f\"}]}}},\"target\":{\"$type\":\"edu.colorado.plv.bounder.lifestate.LifeState.OAbsMsg\",\"mt\":{\"$type\":\"edu.colorado.plv.bounder.ir.CIExit\"},\"signatures\":{\"$type\":\"edu.colorado.plv.bounder.lifestate.LifeState.SubClassMatcher\",\"baseSubtypeOf\":[\"android.app.Fragment\",\"androidx.fragment.app.Fragment\",\"android.support.v4.app.Fragment\"],\"signatureMatcher\":\".*Activity getActivity\\\\(\\\\)\",\"ident\":\"Fragment_getActivity\"},\"lsVars\":[{\"$type\":\"edu.colorado.plv.bounder.symbolicexecutor.state.NamedPureVar\",\"n\":\"a\"},{\"$type\":\"edu.colorado.plv.bounder.symbolicexecutor.state.NamedPureVar\",\"n\":\"f\"}]},\"rhsConstraints\":[{\"$type\":\"edu.colorado.plv.bounder.lifestate.LifeState.LSConstraint\",\"v1\":{\"$type\":\"edu.colorado.plv.bounder.symbolicexecutor.state.NamedPureVar\",\"n\":\"a\"},\"op\":{\"$type\":\"edu.colorado.plv.bounder.symbolicexecutor.state.Equals\"},\"v2\":{\"$type\":\"edu.colorado.plv.bounder.symbolicexecutor.state.NullVal\"}}]},{\"univQuant\":[{\"$type\":\"edu.colorado.plv.bounder.symbolicexecutor.state.NamedPureVar\",\"n\":\"t\"}],\"existQuant\":[],\"pred\":{\"$type\":\"edu.colorado.plv.bounder.lifestate.LifeState.OAbsMsg\",\"mt\":{\"$type\":\"edu.colorado.plv.bounder.ir.CIExit\"},\"signatures\":{\"$type\":\"edu.colorado.plv.bounder.lifestate.LifeState.SubClassMatcher\",\"baseSubtypeOf\":[\"android.os.AsyncTask\"],\"signatureMatcher\":\".*AsyncTask execute\\\\(.*\\\\)\",\"ident\":\"AsyncTask_execute\"},\"lsVars\":[{\"$type\":\"edu.colorado.plv.bounder.symbolicexecutor.state.TopVal\"},{\"$type\":\"edu.colorado.plv.bounder.symbolicexecutor.state.NamedPureVar\",\"n\":\"t\"}]},\"target\":{\"$type\":\"edu.colorado.plv.bounder.lifestate.LifeState.OAbsMsg\",\"mt\":{\"$type\":\"edu.colorado.plv.bounder.ir.CIEnter\"},\"signatures\":{\"$type\":\"edu.colorado.plv.bounder.lifestate.LifeState.SubClassMatcher\",\"baseSubtypeOf\":[\"android.os.AsyncTask\"],\"signatureMatcher\":\".*AsyncTask execute\\\\(.*\\\\)\",\"ident\":\"AsyncTask_execute\"},\"lsVars\":[{\"$type\":\"edu.colorado.plv.bounder.symbolicexecutor.state.TopVal\"},{\"$type\":\"edu.colorado.plv.bounder.symbolicexecutor.state.NamedPureVar\",\"n\":\"t\"}]}},{\"univQuant\":[{\"$type\":\"edu.colorado.plv.bounder.symbolicexecutor.state.NamedPureVar\",\"n\":\"d\"}],\"existQuant\":[{\"$type\":\"edu.colorado.plv.bounder.symbolicexecutor.state.NamedPureVar\",\"n\":\"a\"}],\"pred\":{\"$type\":\"edu.colorado.plv.bounder.lifestate.LifeState.And\",\"l1\":{\"$type\":\"edu.colorado.plv.bounder.lifestate.LifeState.OAbsMsg\",\"mt\":{\"$type\":\"edu.colorado.plv.bounder.ir.CIExit\"},\"signatures\":{\"$type\":\"edu.colorado.plv.bounder.lifestate.LifeState.SubClassMatcher\",\"baseSubtypeOf\":[\"android.app.ProgressDialog\",\"android.app.Dialog\"],\"signatureMatcher\":\".*show.*\",\"ident\":\"Dialog_show\"},\"lsVars\":[{\"$type\":\"edu.colorado.plv.bounder.symbolicexecutor.state.NamedPureVar\",\"n\":\"d\"},{\"$type\":\"edu.colorado.plv.bounder.symbolicexecutor.state.TopVal\"},{\"$type\":\"edu.colorado.plv.bounder.symbolicexecutor.state.NamedPureVar\",\"n\":\"a\"}]},\"l2\":{\"$type\":\"edu.colorado.plv.bounder.lifestate.LifeState.Or\",\"l1\":{\"$type\":\"edu.colorado.plv.bounder.lifestate.LifeState.Not\",\"p\":{\"$type\":\"edu.colorado.plv.bounder.lifestate.LifeState.OAbsMsg\",\"mt\":{\"$type\":\"edu.colorado.plv.bounder.ir.CBEnter\"},\"signatures\":{\"$type\":\"edu.colorado.plv.bounder.lifestate.LifeState.SubClassMatcher\",\"baseSubtypeOf\":[\"android.app.Activity\",\"androidx.fragment.app.FragmentActivity\"],\"signatureMatcher\":\"void onResume\\\\(\\\\)\",\"ident\":\"Activity_onResume\"},\"lsVars\":[{\"$type\":\"edu.colorado.plv.bounder.symbolicexecutor.state.TopVal\"},{\"$type\":\"edu.colorado.plv.bounder.symbolicexecutor.state.NamedPureVar\",\"n\":\"a\"}]}},\"l2\":{\"$type\":\"edu.colorado.plv.bounder.lifestate.LifeState.NS\",\"i1\":{\"$type\":\"edu.colorado.plv.bounder.lifestate.LifeState.OAbsMsg\",\"mt\":{\"$type\":\"edu.colorado.plv.bounder.ir.CBExit\"},\"signatures\":{\"$type\":\"edu.colorado.plv.bounder.lifestate.LifeState.SubClassMatcher\",\"baseSubtypeOf\":[\"android.app.Activity\",\"androidx.fragment.app.FragmentActivity\"],\"signatureMatcher\":\"void onPause\\\\(\\\\)\",\"ident\":\"Activity_onPause\"},\"lsVars\":[{\"$type\":\"edu.colorado.plv.bounder.symbolicexecutor.state.TopVal\"},{\"$type\":\"edu.colorado.plv.bounder.symbolicexecutor.state.NamedPureVar\",\"n\":\"a\"}]},\"i2\":{\"$type\":\"edu.colorado.plv.bounder.lifestate.LifeState.OAbsMsg\",\"mt\":{\"$type\":\"edu.colorado.plv.bounder.ir.CBEnter\"},\"signatures\":{\"$type\":\"edu.colorado.plv.bounder.lifestate.LifeState.SubClassMatcher\",\"baseSubtypeOf\":[\"android.app.Activity\",\"androidx.fragment.app.FragmentActivity\"],\"signatureMatcher\":\"void onResume\\\\(\\\\)\",\"ident\":\"Activity_onResume\"},\"lsVars\":[{\"$type\":\"edu.colorado.plv.bounder.symbolicexecutor.state.TopVal\"},{\"$type\":\"edu.colorado.plv.bounder.symbolicexecutor.state.NamedPureVar\",\"n\":\"a\"}]}}}},\"target\":{\"$type\":\"edu.colorado.plv.bounder.lifestate.LifeState.OAbsMsg\",\"mt\":{\"$type\":\"edu.colorado.plv.bounder.ir.CIEnter\"},\"signatures\":{\"$type\":\"edu.colorado.plv.bounder.lifestate.LifeState.SubClassMatcher\",\"baseSubtypeOf\":[\"android.app.ProgressDialog\",\"android.app.Dialog\"],\"signatureMatcher\":\"void dismiss\\\\(\\\\)\",\"ident\":\"Dialog_dismiss\"},\"lsVars\":[{\"$type\":\"edu.colorado.plv.bounder.symbolicexecutor.state.TopVal\"},{\"$type\":\"edu.colorado.plv.bounder.symbolicexecutor.state.NamedPureVar\",\"n\":\"d\"}]}}]}",
        "tag": {
         "heuristicType": "SensitiveDerefFieldCausedSynch"
        },
        "timeLimit": 900
       },
       {
        "apkPath": "${baseDir}/fdroid/org.sipdroid.sipua/6.3beta/apk/org.sipdroid.sipua_134.apk",
        "configPath": [
         "/tmp/270335928576313844"
        ],
        "initialQuery": [
         {
          "className": "org.sipdroid.media.RtpStreamSender",
          "line": 446,
          "matcher": "void writeOutgoing(short[],int,int)",
          "methodName": "void run()",
          "t": "ReceiverNonNull"
         }
        ],
        "outFolder": [
         "${baseDirOut}/org.sipdroid.sipua"
        ],
        "specSet": "{\"specs\":[],\"disallow\":[{\"univQuant\":[{\"$type\":\"edu.colorado.plv.bounder.symbolicexecutor.state.NamedPureVar\",\"n\":\"a\"},{\"$type\":\"edu.colorado.plv.bounder.symbolicexecutor.state.NamedPureVar\",\"n\":\"f\"}],\"existQuant\":[],\"pred\":{\"$type\":\"edu.colorado.plv.bounder.lifestate.LifeState.Or\",\"l1\":{\"$type\":\"edu.colorado.plv.bounder.lifestate.LifeState.NS\",\"i1\":{\"$type\":\"edu.colorado.plv.bounder.lifestate.LifeState.OAbsMsg\",\"mt\":{\"$type\":\"edu.colorado.plv.bounder.ir.CBExit\"},\"signatures\":{\"$type\":\"edu.colorado.plv.bounder.lifestate.LifeState.SubClassMatcher\",\"baseSubtypeOf\":[\"android.app.Fragment\",\"androidx.fragment.app.Fragment\",\"android.support.v4.app.Fragment\"],\"signatureMatcher\":\"void onDestroy\\\\(\\\\)\",\"ident\":\"Fragment_onDestroy\"},\"lsVars\":[{\"$type\":\"edu.colorado.plv.bounder.symbolicexecutor.state.TopVal\"},{\"$type\":\"edu.colorado.plv.bounder.symbolicexecutor.state.NamedPureVar\",\"n\":\"f\"}]},\"i2\":{\"$type\":\"edu.colorado.plv.bounder.lifestate.LifeState.OAbsMsg\",\"mt\":{\"$type\":\"edu.colorado.plv.bounder.ir.CBEnter\"},\"signatures\":{\"$type\":\"edu.colorado.plv.bounder.lifestate.LifeState.SubClassMatcher\",\"baseSubtypeOf\":[\"android.app.Fragment\",\"androidx.fragment.app.Fragment\",\"android.support.v4.app.Fragment\"],\"signatureMatcher\":\"void onActivityCreated\\\\(android.os.Bundle\\\\)\",\"ident\":\"Fragment_onActivityCreated\"},\"lsVars\":[{\"$type\":\"edu.colorado.plv.bounder.symbolicexecutor.state.TopVal\"},{\"$type\":\"edu.colorado.plv.bounder.symbolicexecutor.state.NamedPureVar\",\"n\":\"f\"}]}},\"l2\":{\"$type\":\"edu.colorado.plv.bounder.lifestate.LifeState.Not\",\"p\":{\"$type\":\"edu.colorado.plv.bounder.lifestate.LifeState.OAbsMsg\",\"mt\":{\"$type\":\"edu.colorado.plv.bounder.ir.CBEnter\"},\"signatures\":{\"$type\":\"edu.colorado.plv.bounder.lifestate.LifeState.SubClassMatcher\",\"baseSubtypeOf\":[\"android.app.Fragment\",\"androidx.fragment.app.Fragment\",\"android.support.v4.app.Fragment\"],\"signatureMatcher\":\"void onActivityCreated\\\\(android.os.Bundle\\\\)\",\"ident\":\"Fragment_onActivityCreated\"},\"lsVars\":[{\"$type\":\"edu.colorado.plv.bounder.symbolicexecutor.state.TopVal\"},{\"$type\":\"edu.colorado.plv.bounder.symbolicexecutor.state.NamedPureVar\",\"n\":\"f\"}]}}},\"target\":{\"$type\":\"edu.colorado.plv.bounder.lifestate.LifeState.OAbsMsg\",\"mt\":{\"$type\":\"edu.colorado.plv.bounder.ir.CIExit\"},\"signatures\":{\"$type\":\"edu.colorado.plv.bounder.lifestate.LifeState.SubClassMatcher\",\"baseSubtypeOf\":[\"android.app.Fragment\",\"androidx.fragment.app.Fragment\",\"android.support.v4.app.Fragment\"],\"signatureMatcher\":\".*Activity getActivity\\\\(\\\\)\",\"ident\":\"Fragment_getActivity\"},\"lsVars\":[{\"$type\":\"edu.colorado.plv.bounder.symbolicexecutor.state.NamedPureVar\",\"n\":\"a\"},{\"$type\":\"edu.colorado.plv.bounder.symbolicexecutor.state.NamedPureVar\",\"n\":\"f\"}]},\"rhsConstraints\":[{\"$type\":\"edu.colorado.plv.bounder.lifestate.LifeState.LSConstraint\",\"v1\":{\"$type\":\"edu.colorado.plv.bounder.symbolicexecutor.state.NamedPureVar\",\"n\":\"a\"},\"op\":{\"$type\":\"edu.colorado.plv.bounder.symbolicexecutor.state.Equals\"},\"v2\":{\"$type\":\"edu.colorado.plv.bounder.symbolicexecutor.state.NullVal\"}}]},{\"univQuant\":[{\"$type\":\"edu.colorado.plv.bounder.symbolicexecutor.state.NamedPureVar\",\"n\":\"t\"}],\"existQuant\":[],\"pred\":{\"$type\":\"edu.colorado.plv.bounder.lifestate.LifeState.OAbsMsg\",\"mt\":{\"$type\":\"edu.colorado.plv.bounder.ir.CIExit\"},\"signatures\":{\"$type\":\"edu.colorado.plv.bounder.lifestate.LifeState.SubClassMatcher\",\"baseSubtypeOf\":[\"android.os.AsyncTask\"],\"signatureMatcher\":\".*AsyncTask execute\\\\(.*\\\\)\",\"ident\":\"AsyncTask_execute\"},\"lsVars\":[{\"$type\":\"edu.colorado.plv.bounder.symbolicexecutor.state.TopVal\"},{\"$type\":\"edu.colorado.plv.bounder.symbolicexecutor.state.NamedPureVar\",\"n\":\"t\"}]},\"target\":{\"$type\":\"edu.colorado.plv.bounder.lifestate.LifeState.OAbsMsg\",\"mt\":{\"$type\":\"edu.colorado.plv.bounder.ir.CIEnter\"},\"signatures\":{\"$type\":\"edu.colorado.plv.bounder.lifestate.LifeState.SubClassMatcher\",\"baseSubtypeOf\":[\"android.os.AsyncTask\"],\"signatureMatcher\":\".*AsyncTask execute\\\\(.*\\\\)\",\"ident\":\"AsyncTask_execute\"},\"lsVars\":[{\"$type\":\"edu.colorado.plv.bounder.symbolicexecutor.state.TopVal\"},{\"$type\":\"edu.colorado.plv.bounder.symbolicexecutor.state.NamedPureVar\",\"n\":\"t\"}]}},{\"univQuant\":[{\"$type\":\"edu.colorado.plv.bounder.symbolicexecutor.state.NamedPureVar\",\"n\":\"d\"}],\"existQuant\":[{\"$type\":\"edu.colorado.plv.bounder.symbolicexecutor.state.NamedPureVar\",\"n\":\"a\"}],\"pred\":{\"$type\":\"edu.colorado.plv.bounder.lifestate.LifeState.And\",\"l1\":{\"$type\":\"edu.colorado.plv.bounder.lifestate.LifeState.OAbsMsg\",\"mt\":{\"$type\":\"edu.colorado.plv.bounder.ir.CIExit\"},\"signatures\":{\"$type\":\"edu.colorado.plv.bounder.lifestate.LifeState.SubClassMatcher\",\"baseSubtypeOf\":[\"android.app.ProgressDialog\",\"android.app.Dialog\"],\"signatureMatcher\":\".*show.*\",\"ident\":\"Dialog_show\"},\"lsVars\":[{\"$type\":\"edu.colorado.plv.bounder.symbolicexecutor.state.NamedPureVar\",\"n\":\"d\"},{\"$type\":\"edu.colorado.plv.bounder.symbolicexecutor.state.TopVal\"},{\"$type\":\"edu.colorado.plv.bounder.symbolicexecutor.state.NamedPureVar\",\"n\":\"a\"}]},\"l2\":{\"$type\":\"edu.colorado.plv.bounder.lifestate.LifeState.Or\",\"l1\":{\"$type\":\"edu.colorado.plv.bounder.lifestate.LifeState.Not\",\"p\":{\"$type\":\"edu.colorado.plv.bounder.lifestate.LifeState.OAbsMsg\",\"mt\":{\"$type\":\"edu.colorado.plv.bounder.ir.CBEnter\"},\"signatures\":{\"$type\":\"edu.colorado.plv.bounder.lifestate.LifeState.SubClassMatcher\",\"baseSubtypeOf\":[\"android.app.Activity\",\"androidx.fragment.app.FragmentActivity\"],\"signatureMatcher\":\"void onResume\\\\(\\\\)\",\"ident\":\"Activity_onResume\"},\"lsVars\":[{\"$type\":\"edu.colorado.plv.bounder.symbolicexecutor.state.TopVal\"},{\"$type\":\"edu.colorado.plv.bounder.symbolicexecutor.state.NamedPureVar\",\"n\":\"a\"}]}},\"l2\":{\"$type\":\"edu.colorado.plv.bounder.lifestate.LifeState.NS\",\"i1\":{\"$type\":\"edu.colorado.plv.bounder.lifestate.LifeState.OAbsMsg\",\"mt\":{\"$type\":\"edu.colorado.plv.bounder.ir.CBExit\"},\"signatures\":{\"$type\":\"edu.colorado.plv.bounder.lifestate.LifeState.SubClassMatcher\",\"baseSubtypeOf\":[\"android.app.Activity\",\"androidx.fragment.app.FragmentActivity\"],\"signatureMatcher\":\"void onPause\\\\(\\\\)\",\"ident\":\"Activity_onPause\"},\"lsVars\":[{\"$type\":\"edu.colorado.plv.bounder.symbolicexecutor.state.TopVal\"},{\"$type\":\"edu.colorado.plv.bounder.symbolicexecutor.state.NamedPureVar\",\"n\":\"a\"}]},\"i2\":{\"$type\":\"edu.colorado.plv.bounder.lifestate.LifeState.OAbsMsg\",\"mt\":{\"$type\":\"edu.colorado.plv.bounder.ir.CBEnter\"},\"signatures\":{\"$type\":\"edu.colorado.plv.bounder.lifestate.LifeState.SubClassMatcher\",\"baseSubtypeOf\":[\"android.app.Activity\",\"androidx.fragment.app.FragmentActivity\"],\"signatureMatcher\":\"void onResume\\\\(\\\\)\",\"ident\":\"Activity_onResume\"},\"lsVars\":[{\"$type\":\"edu.colorado.plv.bounder.symbolicexecutor.state.TopVal\"},{\"$type\":\"edu.colorado.plv.bounder.symbolicexecutor.state.NamedPureVar\",\"n\":\"a\"}]}}}},\"target\":{\"$type\":\"edu.colorado.plv.bounder.lifestate.LifeState.OAbsMsg\",\"mt\":{\"$type\":\"edu.colorado.plv.bounder.ir.CIEnter\"},\"signatures\":{\"$type\":\"edu.colorado.plv.bounder.lifestate.LifeState.SubClassMatcher\",\"baseSubtypeOf\":[\"android.app.ProgressDialog\",\"android.app.Dialog\"],\"signatureMatcher\":\"void dismiss\\\\(\\\\)\",\"ident\":\"Dialog_dismiss\"},\"lsVars\":[{\"$type\":\"edu.colorado.plv.bounder.symbolicexecutor.state.TopVal\"},{\"$type\":\"edu.colorado.plv.bounder.symbolicexecutor.state.NamedPureVar\",\"n\":\"d\"}]}}]}",
        "tag": {
         "heuristicType": "SensitiveDerefFieldCausedSynch"
        },
        "timeLimit": 900
       },
       {
        "apkPath": "${baseDir}/fdroid/org.sipdroid.sipua/6.3beta/apk/org.sipdroid.sipua_134.apk",
        "configPath": [
         "/tmp/270335928576313844"
        ],
        "initialQuery": [
         {
          "className": "org.sipdroid.media.RtpStreamSender",
          "line": 493,
          "matcher": "void send(org.sipdroid.net.RtpPacket)",
          "methodName": "void run()",
          "t": "ReceiverNonNull"
         }
        ],
        "outFolder": [
         "${baseDirOut}/org.sipdroid.sipua"
        ],
        "specSet": "{\"specs\":[],\"disallow\":[{\"univQuant\":[{\"$type\":\"edu.colorado.plv.bounder.symbolicexecutor.state.NamedPureVar\",\"n\":\"a\"},{\"$type\":\"edu.colorado.plv.bounder.symbolicexecutor.state.NamedPureVar\",\"n\":\"f\"}],\"existQuant\":[],\"pred\":{\"$type\":\"edu.colorado.plv.bounder.lifestate.LifeState.Or\",\"l1\":{\"$type\":\"edu.colorado.plv.bounder.lifestate.LifeState.NS\",\"i1\":{\"$type\":\"edu.colorado.plv.bounder.lifestate.LifeState.OAbsMsg\",\"mt\":{\"$type\":\"edu.colorado.plv.bounder.ir.CBExit\"},\"signatures\":{\"$type\":\"edu.colorado.plv.bounder.lifestate.LifeState.SubClassMatcher\",\"baseSubtypeOf\":[\"android.app.Fragment\",\"androidx.fragment.app.Fragment\",\"android.support.v4.app.Fragment\"],\"signatureMatcher\":\"void onDestroy\\\\(\\\\)\",\"ident\":\"Fragment_onDestroy\"},\"lsVars\":[{\"$type\":\"edu.colorado.plv.bounder.symbolicexecutor.state.TopVal\"},{\"$type\":\"edu.colorado.plv.bounder.symbolicexecutor.state.NamedPureVar\",\"n\":\"f\"}]},\"i2\":{\"$type\":\"edu.colorado.plv.bounder.lifestate.LifeState.OAbsMsg\",\"mt\":{\"$type\":\"edu.colorado.plv.bounder.ir.CBEnter\"},\"signatures\":{\"$type\":\"edu.colorado.plv.bounder.lifestate.LifeState.SubClassMatcher\",\"baseSubtypeOf\":[\"android.app.Fragment\",\"androidx.fragment.app.Fragment\",\"android.support.v4.app.Fragment\"],\"signatureMatcher\":\"void onActivityCreated\\\\(android.os.Bundle\\\\)\",\"ident\":\"Fragment_onActivityCreated\"},\"lsVars\":[{\"$type\":\"edu.colorado.plv.bounder.symbolicexecutor.state.TopVal\"},{\"$type\":\"edu.colorado.plv.bounder.symbolicexecutor.state.NamedPureVar\",\"n\":\"f\"}]}},\"l2\":{\"$type\":\"edu.colorado.plv.bounder.lifestate.LifeState.Not\",\"p\":{\"$type\":\"edu.colorado.plv.bounder.lifestate.LifeState.OAbsMsg\",\"mt\":{\"$type\":\"edu.colorado.plv.bounder.ir.CBEnter\"},\"signatures\":{\"$type\":\"edu.colorado.plv.bounder.lifestate.LifeState.SubClassMatcher\",\"baseSubtypeOf\":[\"android.app.Fragment\",\"androidx.fragment.app.Fragment\",\"android.support.v4.app.Fragment\"],\"signatureMatcher\":\"void onActivityCreated\\\\(android.os.Bundle\\\\)\",\"ident\":\"Fragment_onActivityCreated\"},\"lsVars\":[{\"$type\":\"edu.colorado.plv.bounder.symbolicexecutor.state.TopVal\"},{\"$type\":\"edu.colorado.plv.bounder.symbolicexecutor.state.NamedPureVar\",\"n\":\"f\"}]}}},\"target\":{\"$type\":\"edu.colorado.plv.bounder.lifestate.LifeState.OAbsMsg\",\"mt\":{\"$type\":\"edu.colorado.plv.bounder.ir.CIExit\"},\"signatures\":{\"$type\":\"edu.colorado.plv.bounder.lifestate.LifeState.SubClassMatcher\",\"baseSubtypeOf\":[\"android.app.Fragment\",\"androidx.fragment.app.Fragment\",\"android.support.v4.app.Fragment\"],\"signatureMatcher\":\".*Activity getActivity\\\\(\\\\)\",\"ident\":\"Fragment_getActivity\"},\"lsVars\":[{\"$type\":\"edu.colorado.plv.bounder.symbolicexecutor.state.NamedPureVar\",\"n\":\"a\"},{\"$type\":\"edu.colorado.plv.bounder.symbolicexecutor.state.NamedPureVar\",\"n\":\"f\"}]},\"rhsConstraints\":[{\"$type\":\"edu.colorado.plv.bounder.lifestate.LifeState.LSConstraint\",\"v1\":{\"$type\":\"edu.colorado.plv.bounder.symbolicexecutor.state.NamedPureVar\",\"n\":\"a\"},\"op\":{\"$type\":\"edu.colorado.plv.bounder.symbolicexecutor.state.Equals\"},\"v2\":{\"$type\":\"edu.colorado.plv.bounder.symbolicexecutor.state.NullVal\"}}]},{\"univQuant\":[{\"$type\":\"edu.colorado.plv.bounder.symbolicexecutor.state.NamedPureVar\",\"n\":\"t\"}],\"existQuant\":[],\"pred\":{\"$type\":\"edu.colorado.plv.bounder.lifestate.LifeState.OAbsMsg\",\"mt\":{\"$type\":\"edu.colorado.plv.bounder.ir.CIExit\"},\"signatures\":{\"$type\":\"edu.colorado.plv.bounder.lifestate.LifeState.SubClassMatcher\",\"baseSubtypeOf\":[\"android.os.AsyncTask\"],\"signatureMatcher\":\".*AsyncTask execute\\\\(.*\\\\)\",\"ident\":\"AsyncTask_execute\"},\"lsVars\":[{\"$type\":\"edu.colorado.plv.bounder.symbolicexecutor.state.TopVal\"},{\"$type\":\"edu.colorado.plv.bounder.symbolicexecutor.state.NamedPureVar\",\"n\":\"t\"}]},\"target\":{\"$type\":\"edu.colorado.plv.bounder.lifestate.LifeState.OAbsMsg\",\"mt\":{\"$type\":\"edu.colorado.plv.bounder.ir.CIEnter\"},\"signatures\":{\"$type\":\"edu.colorado.plv.bounder.lifestate.LifeState.SubClassMatcher\",\"baseSubtypeOf\":[\"android.os.AsyncTask\"],\"signatureMatcher\":\".*AsyncTask execute\\\\(.*\\\\)\",\"ident\":\"AsyncTask_execute\"},\"lsVars\":[{\"$type\":\"edu.colorado.plv.bounder.symbolicexecutor.state.TopVal\"},{\"$type\":\"edu.colorado.plv.bounder.symbolicexecutor.state.NamedPureVar\",\"n\":\"t\"}]}},{\"univQuant\":[{\"$type\":\"edu.colorado.plv.bounder.symbolicexecutor.state.NamedPureVar\",\"n\":\"d\"}],\"existQuant\":[{\"$type\":\"edu.colorado.plv.bounder.symbolicexecutor.state.NamedPureVar\",\"n\":\"a\"}],\"pred\":{\"$type\":\"edu.colorado.plv.bounder.lifestate.LifeState.And\",\"l1\":{\"$type\":\"edu.colorado.plv.bounder.lifestate.LifeState.OAbsMsg\",\"mt\":{\"$type\":\"edu.colorado.plv.bounder.ir.CIExit\"},\"signatures\":{\"$type\":\"edu.colorado.plv.bounder.lifestate.LifeState.SubClassMatcher\",\"baseSubtypeOf\":[\"android.app.ProgressDialog\",\"android.app.Dialog\"],\"signatureMatcher\":\".*show.*\",\"ident\":\"Dialog_show\"},\"lsVars\":[{\"$type\":\"edu.colorado.plv.bounder.symbolicexecutor.state.NamedPureVar\",\"n\":\"d\"},{\"$type\":\"edu.colorado.plv.bounder.symbolicexecutor.state.TopVal\"},{\"$type\":\"edu.colorado.plv.bounder.symbolicexecutor.state.NamedPureVar\",\"n\":\"a\"}]},\"l2\":{\"$type\":\"edu.colorado.plv.bounder.lifestate.LifeState.Or\",\"l1\":{\"$type\":\"edu.colorado.plv.bounder.lifestate.LifeState.Not\",\"p\":{\"$type\":\"edu.colorado.plv.bounder.lifestate.LifeState.OAbsMsg\",\"mt\":{\"$type\":\"edu.colorado.plv.bounder.ir.CBEnter\"},\"signatures\":{\"$type\":\"edu.colorado.plv.bounder.lifestate.LifeState.SubClassMatcher\",\"baseSubtypeOf\":[\"android.app.Activity\",\"androidx.fragment.app.FragmentActivity\"],\"signatureMatcher\":\"void onResume\\\\(\\\\)\",\"ident\":\"Activity_onResume\"},\"lsVars\":[{\"$type\":\"edu.colorado.plv.bounder.symbolicexecutor.state.TopVal\"},{\"$type\":\"edu.colorado.plv.bounder.symbolicexecutor.state.NamedPureVar\",\"n\":\"a\"}]}},\"l2\":{\"$type\":\"edu.colorado.plv.bounder.lifestate.LifeState.NS\",\"i1\":{\"$type\":\"edu.colorado.plv.bounder.lifestate.LifeState.OAbsMsg\",\"mt\":{\"$type\":\"edu.colorado.plv.bounder.ir.CBExit\"},\"signatures\":{\"$type\":\"edu.colorado.plv.bounder.lifestate.LifeState.SubClassMatcher\",\"baseSubtypeOf\":[\"android.app.Activity\",\"androidx.fragment.app.FragmentActivity\"],\"signatureMatcher\":\"void onPause\\\\(\\\\)\",\"ident\":\"Activity_onPause\"},\"lsVars\":[{\"$type\":\"edu.colorado.plv.bounder.symbolicexecutor.state.TopVal\"},{\"$type\":\"edu.colorado.plv.bounder.symbolicexecutor.state.NamedPureVar\",\"n\":\"a\"}]},\"i2\":{\"$type\":\"edu.colorado.plv.bounder.lifestate.LifeState.OAbsMsg\",\"mt\":{\"$type\":\"edu.colorado.plv.bounder.ir.CBEnter\"},\"signatures\":{\"$type\":\"edu.colorado.plv.bounder.lifestate.LifeState.SubClassMatcher\",\"baseSubtypeOf\":[\"android.app.Activity\",\"androidx.fragment.app.FragmentActivity\"],\"signatureMatcher\":\"void onResume\\\\(\\\\)\",\"ident\":\"Activity_onResume\"},\"lsVars\":[{\"$type\":\"edu.colorado.plv.bounder.symbolicexecutor.state.TopVal\"},{\"$type\":\"edu.colorado.plv.bounder.symbolicexecutor.state.NamedPureVar\",\"n\":\"a\"}]}}}},\"target\":{\"$type\":\"edu.colorado.plv.bounder.lifestate.LifeState.OAbsMsg\",\"mt\":{\"$type\":\"edu.colorado.plv.bounder.ir.CIEnter\"},\"signatures\":{\"$type\":\"edu.colorado.plv.bounder.lifestate.LifeState.SubClassMatcher\",\"baseSubtypeOf\":[\"android.app.ProgressDialog\",\"android.app.Dialog\"],\"signatureMatcher\":\"void dismiss\\\\(\\\\)\",\"ident\":\"Dialog_dismiss\"},\"lsVars\":[{\"$type\":\"edu.colorado.plv.bounder.symbolicexecutor.state.TopVal\"},{\"$type\":\"edu.colorado.plv.bounder.symbolicexecutor.state.NamedPureVar\",\"n\":\"d\"}]}}]}",
        "tag": {
         "heuristicType": "SensitiveDerefFieldCausedSynch"
        },
        "timeLimit": 900
       },
       {
        "apkPath": "${baseDir}/fdroid/org.sipdroid.sipua/6.3beta/apk/org.sipdroid.sipua_134.apk",
        "configPath": [
         "/tmp/270335928576313844"
        ],
        "initialQuery": [
         {
          "className": "org.zoolu.tools.InnerTimerST",
          "line": 43,
          "matcher": "void onInnerTimeout()",
          "methodName": "void run()",
          "t": "ReceiverNonNull"
         }
        ],
        "outFolder": [
         "${baseDirOut}/org.sipdroid.sipua"
        ],
        "specSet": "{\"specs\":[],\"disallow\":[{\"univQuant\":[{\"$type\":\"edu.colorado.plv.bounder.symbolicexecutor.state.NamedPureVar\",\"n\":\"a\"},{\"$type\":\"edu.colorado.plv.bounder.symbolicexecutor.state.NamedPureVar\",\"n\":\"f\"}],\"existQuant\":[],\"pred\":{\"$type\":\"edu.colorado.plv.bounder.lifestate.LifeState.Or\",\"l1\":{\"$type\":\"edu.colorado.plv.bounder.lifestate.LifeState.NS\",\"i1\":{\"$type\":\"edu.colorado.plv.bounder.lifestate.LifeState.OAbsMsg\",\"mt\":{\"$type\":\"edu.colorado.plv.bounder.ir.CBExit\"},\"signatures\":{\"$type\":\"edu.colorado.plv.bounder.lifestate.LifeState.SubClassMatcher\",\"baseSubtypeOf\":[\"android.app.Fragment\",\"androidx.fragment.app.Fragment\",\"android.support.v4.app.Fragment\"],\"signatureMatcher\":\"void onDestroy\\\\(\\\\)\",\"ident\":\"Fragment_onDestroy\"},\"lsVars\":[{\"$type\":\"edu.colorado.plv.bounder.symbolicexecutor.state.TopVal\"},{\"$type\":\"edu.colorado.plv.bounder.symbolicexecutor.state.NamedPureVar\",\"n\":\"f\"}]},\"i2\":{\"$type\":\"edu.colorado.plv.bounder.lifestate.LifeState.OAbsMsg\",\"mt\":{\"$type\":\"edu.colorado.plv.bounder.ir.CBEnter\"},\"signatures\":{\"$type\":\"edu.colorado.plv.bounder.lifestate.LifeState.SubClassMatcher\",\"baseSubtypeOf\":[\"android.app.Fragment\",\"androidx.fragment.app.Fragment\",\"android.support.v4.app.Fragment\"],\"signatureMatcher\":\"void onActivityCreated\\\\(android.os.Bundle\\\\)\",\"ident\":\"Fragment_onActivityCreated\"},\"lsVars\":[{\"$type\":\"edu.colorado.plv.bounder.symbolicexecutor.state.TopVal\"},{\"$type\":\"edu.colorado.plv.bounder.symbolicexecutor.state.NamedPureVar\",\"n\":\"f\"}]}},\"l2\":{\"$type\":\"edu.colorado.plv.bounder.lifestate.LifeState.Not\",\"p\":{\"$type\":\"edu.colorado.plv.bounder.lifestate.LifeState.OAbsMsg\",\"mt\":{\"$type\":\"edu.colorado.plv.bounder.ir.CBEnter\"},\"signatures\":{\"$type\":\"edu.colorado.plv.bounder.lifestate.LifeState.SubClassMatcher\",\"baseSubtypeOf\":[\"android.app.Fragment\",\"androidx.fragment.app.Fragment\",\"android.support.v4.app.Fragment\"],\"signatureMatcher\":\"void onActivityCreated\\\\(android.os.Bundle\\\\)\",\"ident\":\"Fragment_onActivityCreated\"},\"lsVars\":[{\"$type\":\"edu.colorado.plv.bounder.symbolicexecutor.state.TopVal\"},{\"$type\":\"edu.colorado.plv.bounder.symbolicexecutor.state.NamedPureVar\",\"n\":\"f\"}]}}},\"target\":{\"$type\":\"edu.colorado.plv.bounder.lifestate.LifeState.OAbsMsg\",\"mt\":{\"$type\":\"edu.colorado.plv.bounder.ir.CIExit\"},\"signatures\":{\"$type\":\"edu.colorado.plv.bounder.lifestate.LifeState.SubClassMatcher\",\"baseSubtypeOf\":[\"android.app.Fragment\",\"androidx.fragment.app.Fragment\",\"android.support.v4.app.Fragment\"],\"signatureMatcher\":\".*Activity getActivity\\\\(\\\\)\",\"ident\":\"Fragment_getActivity\"},\"lsVars\":[{\"$type\":\"edu.colorado.plv.bounder.symbolicexecutor.state.NamedPureVar\",\"n\":\"a\"},{\"$type\":\"edu.colorado.plv.bounder.symbolicexecutor.state.NamedPureVar\",\"n\":\"f\"}]},\"rhsConstraints\":[{\"$type\":\"edu.colorado.plv.bounder.lifestate.LifeState.LSConstraint\",\"v1\":{\"$type\":\"edu.colorado.plv.bounder.symbolicexecutor.state.NamedPureVar\",\"n\":\"a\"},\"op\":{\"$type\":\"edu.colorado.plv.bounder.symbolicexecutor.state.Equals\"},\"v2\":{\"$type\":\"edu.colorado.plv.bounder.symbolicexecutor.state.NullVal\"}}]},{\"univQuant\":[{\"$type\":\"edu.colorado.plv.bounder.symbolicexecutor.state.NamedPureVar\",\"n\":\"t\"}],\"existQuant\":[],\"pred\":{\"$type\":\"edu.colorado.plv.bounder.lifestate.LifeState.OAbsMsg\",\"mt\":{\"$type\":\"edu.colorado.plv.bounder.ir.CIExit\"},\"signatures\":{\"$type\":\"edu.colorado.plv.bounder.lifestate.LifeState.SubClassMatcher\",\"baseSubtypeOf\":[\"android.os.AsyncTask\"],\"signatureMatcher\":\".*AsyncTask execute\\\\(.*\\\\)\",\"ident\":\"AsyncTask_execute\"},\"lsVars\":[{\"$type\":\"edu.colorado.plv.bounder.symbolicexecutor.state.TopVal\"},{\"$type\":\"edu.colorado.plv.bounder.symbolicexecutor.state.NamedPureVar\",\"n\":\"t\"}]},\"target\":{\"$type\":\"edu.colorado.plv.bounder.lifestate.LifeState.OAbsMsg\",\"mt\":{\"$type\":\"edu.colorado.plv.bounder.ir.CIEnter\"},\"signatures\":{\"$type\":\"edu.colorado.plv.bounder.lifestate.LifeState.SubClassMatcher\",\"baseSubtypeOf\":[\"android.os.AsyncTask\"],\"signatureMatcher\":\".*AsyncTask execute\\\\(.*\\\\)\",\"ident\":\"AsyncTask_execute\"},\"lsVars\":[{\"$type\":\"edu.colorado.plv.bounder.symbolicexecutor.state.TopVal\"},{\"$type\":\"edu.colorado.plv.bounder.symbolicexecutor.state.NamedPureVar\",\"n\":\"t\"}]}},{\"univQuant\":[{\"$type\":\"edu.colorado.plv.bounder.symbolicexecutor.state.NamedPureVar\",\"n\":\"d\"}],\"existQuant\":[{\"$type\":\"edu.colorado.plv.bounder.symbolicexecutor.state.NamedPureVar\",\"n\":\"a\"}],\"pred\":{\"$type\":\"edu.colorado.plv.bounder.lifestate.LifeState.And\",\"l1\":{\"$type\":\"edu.colorado.plv.bounder.lifestate.LifeState.OAbsMsg\",\"mt\":{\"$type\":\"edu.colorado.plv.bounder.ir.CIExit\"},\"signatures\":{\"$type\":\"edu.colorado.plv.bounder.lifestate.LifeState.SubClassMatcher\",\"baseSubtypeOf\":[\"android.app.ProgressDialog\",\"android.app.Dialog\"],\"signatureMatcher\":\".*show.*\",\"ident\":\"Dialog_show\"},\"lsVars\":[{\"$type\":\"edu.colorado.plv.bounder.symbolicexecutor.state.NamedPureVar\",\"n\":\"d\"},{\"$type\":\"edu.colorado.plv.bounder.symbolicexecutor.state.TopVal\"},{\"$type\":\"edu.colorado.plv.bounder.symbolicexecutor.state.NamedPureVar\",\"n\":\"a\"}]},\"l2\":{\"$type\":\"edu.colorado.plv.bounder.lifestate.LifeState.Or\",\"l1\":{\"$type\":\"edu.colorado.plv.bounder.lifestate.LifeState.Not\",\"p\":{\"$type\":\"edu.colorado.plv.bounder.lifestate.LifeState.OAbsMsg\",\"mt\":{\"$type\":\"edu.colorado.plv.bounder.ir.CBEnter\"},\"signatures\":{\"$type\":\"edu.colorado.plv.bounder.lifestate.LifeState.SubClassMatcher\",\"baseSubtypeOf\":[\"android.app.Activity\",\"androidx.fragment.app.FragmentActivity\"],\"signatureMatcher\":\"void onResume\\\\(\\\\)\",\"ident\":\"Activity_onResume\"},\"lsVars\":[{\"$type\":\"edu.colorado.plv.bounder.symbolicexecutor.state.TopVal\"},{\"$type\":\"edu.colorado.plv.bounder.symbolicexecutor.state.NamedPureVar\",\"n\":\"a\"}]}},\"l2\":{\"$type\":\"edu.colorado.plv.bounder.lifestate.LifeState.NS\",\"i1\":{\"$type\":\"edu.colorado.plv.bounder.lifestate.LifeState.OAbsMsg\",\"mt\":{\"$type\":\"edu.colorado.plv.bounder.ir.CBExit\"},\"signatures\":{\"$type\":\"edu.colorado.plv.bounder.lifestate.LifeState.SubClassMatcher\",\"baseSubtypeOf\":[\"android.app.Activity\",\"androidx.fragment.app.FragmentActivity\"],\"signatureMatcher\":\"void onPause\\\\(\\\\)\",\"ident\":\"Activity_onPause\"},\"lsVars\":[{\"$type\":\"edu.colorado.plv.bounder.symbolicexecutor.state.TopVal\"},{\"$type\":\"edu.colorado.plv.bounder.symbolicexecutor.state.NamedPureVar\",\"n\":\"a\"}]},\"i2\":{\"$type\":\"edu.colorado.plv.bounder.lifestate.LifeState.OAbsMsg\",\"mt\":{\"$type\":\"edu.colorado.plv.bounder.ir.CBEnter\"},\"signatures\":{\"$type\":\"edu.colorado.plv.bounder.lifestate.LifeState.SubClassMatcher\",\"baseSubtypeOf\":[\"android.app.Activity\",\"androidx.fragment.app.FragmentActivity\"],\"signatureMatcher\":\"void onResume\\\\(\\\\)\",\"ident\":\"Activity_onResume\"},\"lsVars\":[{\"$type\":\"edu.colorado.plv.bounder.symbolicexecutor.state.TopVal\"},{\"$type\":\"edu.colorado.plv.bounder.symbolicexecutor.state.NamedPureVar\",\"n\":\"a\"}]}}}},\"target\":{\"$type\":\"edu.colorado.plv.bounder.lifestate.LifeState.OAbsMsg\",\"mt\":{\"$type\":\"edu.colorado.plv.bounder.ir.CIEnter\"},\"signatures\":{\"$type\":\"edu.colorado.plv.bounder.lifestate.LifeState.SubClassMatcher\",\"baseSubtypeOf\":[\"android.app.ProgressDialog\",\"android.app.Dialog\"],\"signatureMatcher\":\"void dismiss\\\\(\\\\)\",\"ident\":\"Dialog_dismiss\"},\"lsVars\":[{\"$type\":\"edu.colorado.plv.bounder.symbolicexecutor.state.TopVal\"},{\"$type\":\"edu.colorado.plv.bounder.symbolicexecutor.state.NamedPureVar\",\"n\":\"d\"}]}}]}",
        "tag": {
         "heuristicType": "SensitiveDerefFieldCausedSynch"
        },
        "timeLimit": 900
       },
       {
        "apkPath": "${baseDir}/fdroid/be.digitalia.fosdem/2.1.1/apk/be.digitalia.fosdem_1900211.apk",
        "configPath": [
         "/tmp/1616220754643788746"
        ],
        "initialQuery": [
         {
          "className": "k.J0",
          "line": 36,
          "matcher": "int getCount()",
          "methodName": "void run()",
          "t": "ReceiverNonNull"
         }
        ],
        "outFolder": [
         "${baseDirOut}/be.digitalia.fosdem"
        ],
        "specSet": "{\"specs\":[],\"disallow\":[{\"univQuant\":[{\"$type\":\"edu.colorado.plv.bounder.symbolicexecutor.state.NamedPureVar\",\"n\":\"a\"},{\"$type\":\"edu.colorado.plv.bounder.symbolicexecutor.state.NamedPureVar\",\"n\":\"f\"}],\"existQuant\":[],\"pred\":{\"$type\":\"edu.colorado.plv.bounder.lifestate.LifeState.Or\",\"l1\":{\"$type\":\"edu.colorado.plv.bounder.lifestate.LifeState.NS\",\"i1\":{\"$type\":\"edu.colorado.plv.bounder.lifestate.LifeState.OAbsMsg\",\"mt\":{\"$type\":\"edu.colorado.plv.bounder.ir.CBExit\"},\"signatures\":{\"$type\":\"edu.colorado.plv.bounder.lifestate.LifeState.SubClassMatcher\",\"baseSubtypeOf\":[\"android.app.Fragment\",\"androidx.fragment.app.Fragment\",\"android.support.v4.app.Fragment\"],\"signatureMatcher\":\"void onDestroy\\\\(\\\\)\",\"ident\":\"Fragment_onDestroy\"},\"lsVars\":[{\"$type\":\"edu.colorado.plv.bounder.symbolicexecutor.state.TopVal\"},{\"$type\":\"edu.colorado.plv.bounder.symbolicexecutor.state.NamedPureVar\",\"n\":\"f\"}]},\"i2\":{\"$type\":\"edu.colorado.plv.bounder.lifestate.LifeState.OAbsMsg\",\"mt\":{\"$type\":\"edu.colorado.plv.bounder.ir.CBEnter\"},\"signatures\":{\"$type\":\"edu.colorado.plv.bounder.lifestate.LifeState.SubClassMatcher\",\"baseSubtypeOf\":[\"android.app.Fragment\",\"androidx.fragment.app.Fragment\",\"android.support.v4.app.Fragment\"],\"signatureMatcher\":\"void onActivityCreated\\\\(android.os.Bundle\\\\)\",\"ident\":\"Fragment_onActivityCreated\"},\"lsVars\":[{\"$type\":\"edu.colorado.plv.bounder.symbolicexecutor.state.TopVal\"},{\"$type\":\"edu.colorado.plv.bounder.symbolicexecutor.state.NamedPureVar\",\"n\":\"f\"}]}},\"l2\":{\"$type\":\"edu.colorado.plv.bounder.lifestate.LifeState.Not\",\"p\":{\"$type\":\"edu.colorado.plv.bounder.lifestate.LifeState.OAbsMsg\",\"mt\":{\"$type\":\"edu.colorado.plv.bounder.ir.CBEnter\"},\"signatures\":{\"$type\":\"edu.colorado.plv.bounder.lifestate.LifeState.SubClassMatcher\",\"baseSubtypeOf\":[\"android.app.Fragment\",\"androidx.fragment.app.Fragment\",\"android.support.v4.app.Fragment\"],\"signatureMatcher\":\"void onActivityCreated\\\\(android.os.Bundle\\\\)\",\"ident\":\"Fragment_onActivityCreated\"},\"lsVars\":[{\"$type\":\"edu.colorado.plv.bounder.symbolicexecutor.state.TopVal\"},{\"$type\":\"edu.colorado.plv.bounder.symbolicexecutor.state.NamedPureVar\",\"n\":\"f\"}]}}},\"target\":{\"$type\":\"edu.colorado.plv.bounder.lifestate.LifeState.OAbsMsg\",\"mt\":{\"$type\":\"edu.colorado.plv.bounder.ir.CIExit\"},\"signatures\":{\"$type\":\"edu.colorado.plv.bounder.lifestate.LifeState.SubClassMatcher\",\"baseSubtypeOf\":[\"android.app.Fragment\",\"androidx.fragment.app.Fragment\",\"android.support.v4.app.Fragment\"],\"signatureMatcher\":\".*Activity getActivity\\\\(\\\\)\",\"ident\":\"Fragment_getActivity\"},\"lsVars\":[{\"$type\":\"edu.colorado.plv.bounder.symbolicexecutor.state.NamedPureVar\",\"n\":\"a\"},{\"$type\":\"edu.colorado.plv.bounder.symbolicexecutor.state.NamedPureVar\",\"n\":\"f\"}]},\"rhsConstraints\":[{\"$type\":\"edu.colorado.plv.bounder.lifestate.LifeState.LSConstraint\",\"v1\":{\"$type\":\"edu.colorado.plv.bounder.symbolicexecutor.state.NamedPureVar\",\"n\":\"a\"},\"op\":{\"$type\":\"edu.colorado.plv.bounder.symbolicexecutor.state.Equals\"},\"v2\":{\"$type\":\"edu.colorado.plv.bounder.symbolicexecutor.state.NullVal\"}}]},{\"univQuant\":[{\"$type\":\"edu.colorado.plv.bounder.symbolicexecutor.state.NamedPureVar\",\"n\":\"t\"}],\"existQuant\":[],\"pred\":{\"$type\":\"edu.colorado.plv.bounder.lifestate.LifeState.OAbsMsg\",\"mt\":{\"$type\":\"edu.colorado.plv.bounder.ir.CIExit\"},\"signatures\":{\"$type\":\"edu.colorado.plv.bounder.lifestate.LifeState.SubClassMatcher\",\"baseSubtypeOf\":[\"android.os.AsyncTask\"],\"signatureMatcher\":\".*AsyncTask execute\\\\(.*\\\\)\",\"ident\":\"AsyncTask_execute\"},\"lsVars\":[{\"$type\":\"edu.colorado.plv.bounder.symbolicexecutor.state.TopVal\"},{\"$type\":\"edu.colorado.plv.bounder.symbolicexecutor.state.NamedPureVar\",\"n\":\"t\"}]},\"target\":{\"$type\":\"edu.colorado.plv.bounder.lifestate.LifeState.OAbsMsg\",\"mt\":{\"$type\":\"edu.colorado.plv.bounder.ir.CIEnter\"},\"signatures\":{\"$type\":\"edu.colorado.plv.bounder.lifestate.LifeState.SubClassMatcher\",\"baseSubtypeOf\":[\"android.os.AsyncTask\"],\"signatureMatcher\":\".*AsyncTask execute\\\\(.*\\\\)\",\"ident\":\"AsyncTask_execute\"},\"lsVars\":[{\"$type\":\"edu.colorado.plv.bounder.symbolicexecutor.state.TopVal\"},{\"$type\":\"edu.colorado.plv.bounder.symbolicexecutor.state.NamedPureVar\",\"n\":\"t\"}]}},{\"univQuant\":[{\"$type\":\"edu.colorado.plv.bounder.symbolicexecutor.state.NamedPureVar\",\"n\":\"d\"}],\"existQuant\":[{\"$type\":\"edu.colorado.plv.bounder.symbolicexecutor.state.NamedPureVar\",\"n\":\"a\"}],\"pred\":{\"$type\":\"edu.colorado.plv.bounder.lifestate.LifeState.And\",\"l1\":{\"$type\":\"edu.colorado.plv.bounder.lifestate.LifeState.OAbsMsg\",\"mt\":{\"$type\":\"edu.colorado.plv.bounder.ir.CIExit\"},\"signatures\":{\"$type\":\"edu.colorado.plv.bounder.lifestate.LifeState.SubClassMatcher\",\"baseSubtypeOf\":[\"android.app.ProgressDialog\",\"android.app.Dialog\"],\"signatureMatcher\":\".*show.*\",\"ident\":\"Dialog_show\"},\"lsVars\":[{\"$type\":\"edu.colorado.plv.bounder.symbolicexecutor.state.NamedPureVar\",\"n\":\"d\"},{\"$type\":\"edu.colorado.plv.bounder.symbolicexecutor.state.TopVal\"},{\"$type\":\"edu.colorado.plv.bounder.symbolicexecutor.state.NamedPureVar\",\"n\":\"a\"}]},\"l2\":{\"$type\":\"edu.colorado.plv.bounder.lifestate.LifeState.Or\",\"l1\":{\"$type\":\"edu.colorado.plv.bounder.lifestate.LifeState.Not\",\"p\":{\"$type\":\"edu.colorado.plv.bounder.lifestate.LifeState.OAbsMsg\",\"mt\":{\"$type\":\"edu.colorado.plv.bounder.ir.CBEnter\"},\"signatures\":{\"$type\":\"edu.colorado.plv.bounder.lifestate.LifeState.SubClassMatcher\",\"baseSubtypeOf\":[\"android.app.Activity\",\"androidx.fragment.app.FragmentActivity\"],\"signatureMatcher\":\"void onResume\\\\(\\\\)\",\"ident\":\"Activity_onResume\"},\"lsVars\":[{\"$type\":\"edu.colorado.plv.bounder.symbolicexecutor.state.TopVal\"},{\"$type\":\"edu.colorado.plv.bounder.symbolicexecutor.state.NamedPureVar\",\"n\":\"a\"}]}},\"l2\":{\"$type\":\"edu.colorado.plv.bounder.lifestate.LifeState.NS\",\"i1\":{\"$type\":\"edu.colorado.plv.bounder.lifestate.LifeState.OAbsMsg\",\"mt\":{\"$type\":\"edu.colorado.plv.bounder.ir.CBExit\"},\"signatures\":{\"$type\":\"edu.colorado.plv.bounder.lifestate.LifeState.SubClassMatcher\",\"baseSubtypeOf\":[\"android.app.Activity\",\"androidx.fragment.app.FragmentActivity\"],\"signatureMatcher\":\"void onPause\\\\(\\\\)\",\"ident\":\"Activity_onPause\"},\"lsVars\":[{\"$type\":\"edu.colorado.plv.bounder.symbolicexecutor.state.TopVal\"},{\"$type\":\"edu.colorado.plv.bounder.symbolicexecutor.state.NamedPureVar\",\"n\":\"a\"}]},\"i2\":{\"$type\":\"edu.colorado.plv.bounder.lifestate.LifeState.OAbsMsg\",\"mt\":{\"$type\":\"edu.colorado.plv.bounder.ir.CBEnter\"},\"signatures\":{\"$type\":\"edu.colorado.plv.bounder.lifestate.LifeState.SubClassMatcher\",\"baseSubtypeOf\":[\"android.app.Activity\",\"androidx.fragment.app.FragmentActivity\"],\"signatureMatcher\":\"void onResume\\\\(\\\\)\",\"ident\":\"Activity_onResume\"},\"lsVars\":[{\"$type\":\"edu.colorado.plv.bounder.symbolicexecutor.state.TopVal\"},{\"$type\":\"edu.colorado.plv.bounder.symbolicexecutor.state.NamedPureVar\",\"n\":\"a\"}]}}}},\"target\":{\"$type\":\"edu.colorado.plv.bounder.lifestate.LifeState.OAbsMsg\",\"mt\":{\"$type\":\"edu.colorado.plv.bounder.ir.CIEnter\"},\"signatures\":{\"$type\":\"edu.colorado.plv.bounder.lifestate.LifeState.SubClassMatcher\",\"baseSubtypeOf\":[\"android.app.ProgressDialog\",\"android.app.Dialog\"],\"signatureMatcher\":\"void dismiss\\\\(\\\\)\",\"ident\":\"Dialog_dismiss\"},\"lsVars\":[{\"$type\":\"edu.colorado.plv.bounder.symbolicexecutor.state.TopVal\"},{\"$type\":\"edu.colorado.plv.bounder.symbolicexecutor.state.NamedPureVar\",\"n\":\"d\"}]}}]}",
        "tag": {
         "heuristicType": "SensitiveDerefFieldCausedSynch"
        },
        "timeLimit": 900
       },
       {
        "apkPath": "${baseDir}/fdroid/org.sipdroid.sipua/6.3beta/apk/org.sipdroid.sipua_134.apk",
        "configPath": [
         "/tmp/270335928576313844"
        ],
        "initialQuery": [
         {
          "className": "org.sipdroid.media.RtpStreamReceiver",
          "line": 669,
          "matcher": "org.sipdroid.net.SipdroidSocket getDatagramSocket()",
          "methodName": "void run()",
          "t": "ReceiverNonNull"
         }
        ],
        "outFolder": [
         "${baseDirOut}/org.sipdroid.sipua"
        ],
        "specSet": "{\"specs\":[],\"disallow\":[{\"univQuant\":[{\"$type\":\"edu.colorado.plv.bounder.symbolicexecutor.state.NamedPureVar\",\"n\":\"a\"},{\"$type\":\"edu.colorado.plv.bounder.symbolicexecutor.state.NamedPureVar\",\"n\":\"f\"}],\"existQuant\":[],\"pred\":{\"$type\":\"edu.colorado.plv.bounder.lifestate.LifeState.Or\",\"l1\":{\"$type\":\"edu.colorado.plv.bounder.lifestate.LifeState.NS\",\"i1\":{\"$type\":\"edu.colorado.plv.bounder.lifestate.LifeState.OAbsMsg\",\"mt\":{\"$type\":\"edu.colorado.plv.bounder.ir.CBExit\"},\"signatures\":{\"$type\":\"edu.colorado.plv.bounder.lifestate.LifeState.SubClassMatcher\",\"baseSubtypeOf\":[\"android.app.Fragment\",\"androidx.fragment.app.Fragment\",\"android.support.v4.app.Fragment\"],\"signatureMatcher\":\"void onDestroy\\\\(\\\\)\",\"ident\":\"Fragment_onDestroy\"},\"lsVars\":[{\"$type\":\"edu.colorado.plv.bounder.symbolicexecutor.state.TopVal\"},{\"$type\":\"edu.colorado.plv.bounder.symbolicexecutor.state.NamedPureVar\",\"n\":\"f\"}]},\"i2\":{\"$type\":\"edu.colorado.plv.bounder.lifestate.LifeState.OAbsMsg\",\"mt\":{\"$type\":\"edu.colorado.plv.bounder.ir.CBEnter\"},\"signatures\":{\"$type\":\"edu.colorado.plv.bounder.lifestate.LifeState.SubClassMatcher\",\"baseSubtypeOf\":[\"android.app.Fragment\",\"androidx.fragment.app.Fragment\",\"android.support.v4.app.Fragment\"],\"signatureMatcher\":\"void onActivityCreated\\\\(android.os.Bundle\\\\)\",\"ident\":\"Fragment_onActivityCreated\"},\"lsVars\":[{\"$type\":\"edu.colorado.plv.bounder.symbolicexecutor.state.TopVal\"},{\"$type\":\"edu.colorado.plv.bounder.symbolicexecutor.state.NamedPureVar\",\"n\":\"f\"}]}},\"l2\":{\"$type\":\"edu.colorado.plv.bounder.lifestate.LifeState.Not\",\"p\":{\"$type\":\"edu.colorado.plv.bounder.lifestate.LifeState.OAbsMsg\",\"mt\":{\"$type\":\"edu.colorado.plv.bounder.ir.CBEnter\"},\"signatures\":{\"$type\":\"edu.colorado.plv.bounder.lifestate.LifeState.SubClassMatcher\",\"baseSubtypeOf\":[\"android.app.Fragment\",\"androidx.fragment.app.Fragment\",\"android.support.v4.app.Fragment\"],\"signatureMatcher\":\"void onActivityCreated\\\\(android.os.Bundle\\\\)\",\"ident\":\"Fragment_onActivityCreated\"},\"lsVars\":[{\"$type\":\"edu.colorado.plv.bounder.symbolicexecutor.state.TopVal\"},{\"$type\":\"edu.colorado.plv.bounder.symbolicexecutor.state.NamedPureVar\",\"n\":\"f\"}]}}},\"target\":{\"$type\":\"edu.colorado.plv.bounder.lifestate.LifeState.OAbsMsg\",\"mt\":{\"$type\":\"edu.colorado.plv.bounder.ir.CIExit\"},\"signatures\":{\"$type\":\"edu.colorado.plv.bounder.lifestate.LifeState.SubClassMatcher\",\"baseSubtypeOf\":[\"android.app.Fragment\",\"androidx.fragment.app.Fragment\",\"android.support.v4.app.Fragment\"],\"signatureMatcher\":\".*Activity getActivity\\\\(\\\\)\",\"ident\":\"Fragment_getActivity\"},\"lsVars\":[{\"$type\":\"edu.colorado.plv.bounder.symbolicexecutor.state.NamedPureVar\",\"n\":\"a\"},{\"$type\":\"edu.colorado.plv.bounder.symbolicexecutor.state.NamedPureVar\",\"n\":\"f\"}]},\"rhsConstraints\":[{\"$type\":\"edu.colorado.plv.bounder.lifestate.LifeState.LSConstraint\",\"v1\":{\"$type\":\"edu.colorado.plv.bounder.symbolicexecutor.state.NamedPureVar\",\"n\":\"a\"},\"op\":{\"$type\":\"edu.colorado.plv.bounder.symbolicexecutor.state.Equals\"},\"v2\":{\"$type\":\"edu.colorado.plv.bounder.symbolicexecutor.state.NullVal\"}}]},{\"univQuant\":[{\"$type\":\"edu.colorado.plv.bounder.symbolicexecutor.state.NamedPureVar\",\"n\":\"t\"}],\"existQuant\":[],\"pred\":{\"$type\":\"edu.colorado.plv.bounder.lifestate.LifeState.OAbsMsg\",\"mt\":{\"$type\":\"edu.colorado.plv.bounder.ir.CIExit\"},\"signatures\":{\"$type\":\"edu.colorado.plv.bounder.lifestate.LifeState.SubClassMatcher\",\"baseSubtypeOf\":[\"android.os.AsyncTask\"],\"signatureMatcher\":\".*AsyncTask execute\\\\(.*\\\\)\",\"ident\":\"AsyncTask_execute\"},\"lsVars\":[{\"$type\":\"edu.colorado.plv.bounder.symbolicexecutor.state.TopVal\"},{\"$type\":\"edu.colorado.plv.bounder.symbolicexecutor.state.NamedPureVar\",\"n\":\"t\"}]},\"target\":{\"$type\":\"edu.colorado.plv.bounder.lifestate.LifeState.OAbsMsg\",\"mt\":{\"$type\":\"edu.colorado.plv.bounder.ir.CIEnter\"},\"signatures\":{\"$type\":\"edu.colorado.plv.bounder.lifestate.LifeState.SubClassMatcher\",\"baseSubtypeOf\":[\"android.os.AsyncTask\"],\"signatureMatcher\":\".*AsyncTask execute\\\\(.*\\\\)\",\"ident\":\"AsyncTask_execute\"},\"lsVars\":[{\"$type\":\"edu.colorado.plv.bounder.symbolicexecutor.state.TopVal\"},{\"$type\":\"edu.colorado.plv.bounder.symbolicexecutor.state.NamedPureVar\",\"n\":\"t\"}]}},{\"univQuant\":[{\"$type\":\"edu.colorado.plv.bounder.symbolicexecutor.state.NamedPureVar\",\"n\":\"d\"}],\"existQuant\":[{\"$type\":\"edu.colorado.plv.bounder.symbolicexecutor.state.NamedPureVar\",\"n\":\"a\"}],\"pred\":{\"$type\":\"edu.colorado.plv.bounder.lifestate.LifeState.And\",\"l1\":{\"$type\":\"edu.colorado.plv.bounder.lifestate.LifeState.OAbsMsg\",\"mt\":{\"$type\":\"edu.colorado.plv.bounder.ir.CIExit\"},\"signatures\":{\"$type\":\"edu.colorado.plv.bounder.lifestate.LifeState.SubClassMatcher\",\"baseSubtypeOf\":[\"android.app.ProgressDialog\",\"android.app.Dialog\"],\"signatureMatcher\":\".*show.*\",\"ident\":\"Dialog_show\"},\"lsVars\":[{\"$type\":\"edu.colorado.plv.bounder.symbolicexecutor.state.NamedPureVar\",\"n\":\"d\"},{\"$type\":\"edu.colorado.plv.bounder.symbolicexecutor.state.TopVal\"},{\"$type\":\"edu.colorado.plv.bounder.symbolicexecutor.state.NamedPureVar\",\"n\":\"a\"}]},\"l2\":{\"$type\":\"edu.colorado.plv.bounder.lifestate.LifeState.Or\",\"l1\":{\"$type\":\"edu.colorado.plv.bounder.lifestate.LifeState.Not\",\"p\":{\"$type\":\"edu.colorado.plv.bounder.lifestate.LifeState.OAbsMsg\",\"mt\":{\"$type\":\"edu.colorado.plv.bounder.ir.CBEnter\"},\"signatures\":{\"$type\":\"edu.colorado.plv.bounder.lifestate.LifeState.SubClassMatcher\",\"baseSubtypeOf\":[\"android.app.Activity\",\"androidx.fragment.app.FragmentActivity\"],\"signatureMatcher\":\"void onResume\\\\(\\\\)\",\"ident\":\"Activity_onResume\"},\"lsVars\":[{\"$type\":\"edu.colorado.plv.bounder.symbolicexecutor.state.TopVal\"},{\"$type\":\"edu.colorado.plv.bounder.symbolicexecutor.state.NamedPureVar\",\"n\":\"a\"}]}},\"l2\":{\"$type\":\"edu.colorado.plv.bounder.lifestate.LifeState.NS\",\"i1\":{\"$type\":\"edu.colorado.plv.bounder.lifestate.LifeState.OAbsMsg\",\"mt\":{\"$type\":\"edu.colorado.plv.bounder.ir.CBExit\"},\"signatures\":{\"$type\":\"edu.colorado.plv.bounder.lifestate.LifeState.SubClassMatcher\",\"baseSubtypeOf\":[\"android.app.Activity\",\"androidx.fragment.app.FragmentActivity\"],\"signatureMatcher\":\"void onPause\\\\(\\\\)\",\"ident\":\"Activity_onPause\"},\"lsVars\":[{\"$type\":\"edu.colorado.plv.bounder.symbolicexecutor.state.TopVal\"},{\"$type\":\"edu.colorado.plv.bounder.symbolicexecutor.state.NamedPureVar\",\"n\":\"a\"}]},\"i2\":{\"$type\":\"edu.colorado.plv.bounder.lifestate.LifeState.OAbsMsg\",\"mt\":{\"$type\":\"edu.colorado.plv.bounder.ir.CBEnter\"},\"signatures\":{\"$type\":\"edu.colorado.plv.bounder.lifestate.LifeState.SubClassMatcher\",\"baseSubtypeOf\":[\"android.app.Activity\",\"androidx.fragment.app.FragmentActivity\"],\"signatureMatcher\":\"void onResume\\\\(\\\\)\",\"ident\":\"Activity_onResume\"},\"lsVars\":[{\"$type\":\"edu.colorado.plv.bounder.symbolicexecutor.state.TopVal\"},{\"$type\":\"edu.colorado.plv.bounder.symbolicexecutor.state.NamedPureVar\",\"n\":\"a\"}]}}}},\"target\":{\"$type\":\"edu.colorado.plv.bounder.lifestate.LifeState.OAbsMsg\",\"mt\":{\"$type\":\"edu.colorado.plv.bounder.ir.CIEnter\"},\"signatures\":{\"$type\":\"edu.colorado.plv.bounder.lifestate.LifeState.SubClassMatcher\",\"baseSubtypeOf\":[\"android.app.ProgressDialog\",\"android.app.Dialog\"],\"signatureMatcher\":\"void dismiss\\\\(\\\\)\",\"ident\":\"Dialog_dismiss\"},\"lsVars\":[{\"$type\":\"edu.colorado.plv.bounder.symbolicexecutor.state.TopVal\"},{\"$type\":\"edu.colorado.plv.bounder.symbolicexecutor.state.NamedPureVar\",\"n\":\"d\"}]}}]}",
        "tag": {
         "heuristicType": "SensitiveDerefFieldCausedSynch"
        },
        "timeLimit": 900
       },
       {
        "apkPath": "${baseDir}/fdroid/be.digitalia.fosdem/2.1.1/apk/be.digitalia.fosdem_1900211.apk",
        "configPath": [
         "/tmp/1616220754643788746"
        ],
        "initialQuery": [
         {
          "className": "k.J0",
          "line": 50,
          "matcher": "int getChildCount()",
          "methodName": "void run()",
          "t": "ReceiverNonNull"
         }
        ],
        "outFolder": [
         "${baseDirOut}/be.digitalia.fosdem"
        ],
        "specSet": "{\"specs\":[],\"disallow\":[{\"univQuant\":[{\"$type\":\"edu.colorado.plv.bounder.symbolicexecutor.state.NamedPureVar\",\"n\":\"a\"},{\"$type\":\"edu.colorado.plv.bounder.symbolicexecutor.state.NamedPureVar\",\"n\":\"f\"}],\"existQuant\":[],\"pred\":{\"$type\":\"edu.colorado.plv.bounder.lifestate.LifeState.Or\",\"l1\":{\"$type\":\"edu.colorado.plv.bounder.lifestate.LifeState.NS\",\"i1\":{\"$type\":\"edu.colorado.plv.bounder.lifestate.LifeState.OAbsMsg\",\"mt\":{\"$type\":\"edu.colorado.plv.bounder.ir.CBExit\"},\"signatures\":{\"$type\":\"edu.colorado.plv.bounder.lifestate.LifeState.SubClassMatcher\",\"baseSubtypeOf\":[\"android.app.Fragment\",\"androidx.fragment.app.Fragment\",\"android.support.v4.app.Fragment\"],\"signatureMatcher\":\"void onDestroy\\\\(\\\\)\",\"ident\":\"Fragment_onDestroy\"},\"lsVars\":[{\"$type\":\"edu.colorado.plv.bounder.symbolicexecutor.state.TopVal\"},{\"$type\":\"edu.colorado.plv.bounder.symbolicexecutor.state.NamedPureVar\",\"n\":\"f\"}]},\"i2\":{\"$type\":\"edu.colorado.plv.bounder.lifestate.LifeState.OAbsMsg\",\"mt\":{\"$type\":\"edu.colorado.plv.bounder.ir.CBEnter\"},\"signatures\":{\"$type\":\"edu.colorado.plv.bounder.lifestate.LifeState.SubClassMatcher\",\"baseSubtypeOf\":[\"android.app.Fragment\",\"androidx.fragment.app.Fragment\",\"android.support.v4.app.Fragment\"],\"signatureMatcher\":\"void onActivityCreated\\\\(android.os.Bundle\\\\)\",\"ident\":\"Fragment_onActivityCreated\"},\"lsVars\":[{\"$type\":\"edu.colorado.plv.bounder.symbolicexecutor.state.TopVal\"},{\"$type\":\"edu.colorado.plv.bounder.symbolicexecutor.state.NamedPureVar\",\"n\":\"f\"}]}},\"l2\":{\"$type\":\"edu.colorado.plv.bounder.lifestate.LifeState.Not\",\"p\":{\"$type\":\"edu.colorado.plv.bounder.lifestate.LifeState.OAbsMsg\",\"mt\":{\"$type\":\"edu.colorado.plv.bounder.ir.CBEnter\"},\"signatures\":{\"$type\":\"edu.colorado.plv.bounder.lifestate.LifeState.SubClassMatcher\",\"baseSubtypeOf\":[\"android.app.Fragment\",\"androidx.fragment.app.Fragment\",\"android.support.v4.app.Fragment\"],\"signatureMatcher\":\"void onActivityCreated\\\\(android.os.Bundle\\\\)\",\"ident\":\"Fragment_onActivityCreated\"},\"lsVars\":[{\"$type\":\"edu.colorado.plv.bounder.symbolicexecutor.state.TopVal\"},{\"$type\":\"edu.colorado.plv.bounder.symbolicexecutor.state.NamedPureVar\",\"n\":\"f\"}]}}},\"target\":{\"$type\":\"edu.colorado.plv.bounder.lifestate.LifeState.OAbsMsg\",\"mt\":{\"$type\":\"edu.colorado.plv.bounder.ir.CIExit\"},\"signatures\":{\"$type\":\"edu.colorado.plv.bounder.lifestate.LifeState.SubClassMatcher\",\"baseSubtypeOf\":[\"android.app.Fragment\",\"androidx.fragment.app.Fragment\",\"android.support.v4.app.Fragment\"],\"signatureMatcher\":\".*Activity getActivity\\\\(\\\\)\",\"ident\":\"Fragment_getActivity\"},\"lsVars\":[{\"$type\":\"edu.colorado.plv.bounder.symbolicexecutor.state.NamedPureVar\",\"n\":\"a\"},{\"$type\":\"edu.colorado.plv.bounder.symbolicexecutor.state.NamedPureVar\",\"n\":\"f\"}]},\"rhsConstraints\":[{\"$type\":\"edu.colorado.plv.bounder.lifestate.LifeState.LSConstraint\",\"v1\":{\"$type\":\"edu.colorado.plv.bounder.symbolicexecutor.state.NamedPureVar\",\"n\":\"a\"},\"op\":{\"$type\":\"edu.colorado.plv.bounder.symbolicexecutor.state.Equals\"},\"v2\":{\"$type\":\"edu.colorado.plv.bounder.symbolicexecutor.state.NullVal\"}}]},{\"univQuant\":[{\"$type\":\"edu.colorado.plv.bounder.symbolicexecutor.state.NamedPureVar\",\"n\":\"t\"}],\"existQuant\":[],\"pred\":{\"$type\":\"edu.colorado.plv.bounder.lifestate.LifeState.OAbsMsg\",\"mt\":{\"$type\":\"edu.colorado.plv.bounder.ir.CIExit\"},\"signatures\":{\"$type\":\"edu.colorado.plv.bounder.lifestate.LifeState.SubClassMatcher\",\"baseSubtypeOf\":[\"android.os.AsyncTask\"],\"signatureMatcher\":\".*AsyncTask execute\\\\(.*\\\\)\",\"ident\":\"AsyncTask_execute\"},\"lsVars\":[{\"$type\":\"edu.colorado.plv.bounder.symbolicexecutor.state.TopVal\"},{\"$type\":\"edu.colorado.plv.bounder.symbolicexecutor.state.NamedPureVar\",\"n\":\"t\"}]},\"target\":{\"$type\":\"edu.colorado.plv.bounder.lifestate.LifeState.OAbsMsg\",\"mt\":{\"$type\":\"edu.colorado.plv.bounder.ir.CIEnter\"},\"signatures\":{\"$type\":\"edu.colorado.plv.bounder.lifestate.LifeState.SubClassMatcher\",\"baseSubtypeOf\":[\"android.os.AsyncTask\"],\"signatureMatcher\":\".*AsyncTask execute\\\\(.*\\\\)\",\"ident\":\"AsyncTask_execute\"},\"lsVars\":[{\"$type\":\"edu.colorado.plv.bounder.symbolicexecutor.state.TopVal\"},{\"$type\":\"edu.colorado.plv.bounder.symbolicexecutor.state.NamedPureVar\",\"n\":\"t\"}]}},{\"univQuant\":[{\"$type\":\"edu.colorado.plv.bounder.symbolicexecutor.state.NamedPureVar\",\"n\":\"d\"}],\"existQuant\":[{\"$type\":\"edu.colorado.plv.bounder.symbolicexecutor.state.NamedPureVar\",\"n\":\"a\"}],\"pred\":{\"$type\":\"edu.colorado.plv.bounder.lifestate.LifeState.And\",\"l1\":{\"$type\":\"edu.colorado.plv.bounder.lifestate.LifeState.OAbsMsg\",\"mt\":{\"$type\":\"edu.colorado.plv.bounder.ir.CIExit\"},\"signatures\":{\"$type\":\"edu.colorado.plv.bounder.lifestate.LifeState.SubClassMatcher\",\"baseSubtypeOf\":[\"android.app.ProgressDialog\",\"android.app.Dialog\"],\"signatureMatcher\":\".*show.*\",\"ident\":\"Dialog_show\"},\"lsVars\":[{\"$type\":\"edu.colorado.plv.bounder.symbolicexecutor.state.NamedPureVar\",\"n\":\"d\"},{\"$type\":\"edu.colorado.plv.bounder.symbolicexecutor.state.TopVal\"},{\"$type\":\"edu.colorado.plv.bounder.symbolicexecutor.state.NamedPureVar\",\"n\":\"a\"}]},\"l2\":{\"$type\":\"edu.colorado.plv.bounder.lifestate.LifeState.Or\",\"l1\":{\"$type\":\"edu.colorado.plv.bounder.lifestate.LifeState.Not\",\"p\":{\"$type\":\"edu.colorado.plv.bounder.lifestate.LifeState.OAbsMsg\",\"mt\":{\"$type\":\"edu.colorado.plv.bounder.ir.CBEnter\"},\"signatures\":{\"$type\":\"edu.colorado.plv.bounder.lifestate.LifeState.SubClassMatcher\",\"baseSubtypeOf\":[\"android.app.Activity\",\"androidx.fragment.app.FragmentActivity\"],\"signatureMatcher\":\"void onResume\\\\(\\\\)\",\"ident\":\"Activity_onResume\"},\"lsVars\":[{\"$type\":\"edu.colorado.plv.bounder.symbolicexecutor.state.TopVal\"},{\"$type\":\"edu.colorado.plv.bounder.symbolicexecutor.state.NamedPureVar\",\"n\":\"a\"}]}},\"l2\":{\"$type\":\"edu.colorado.plv.bounder.lifestate.LifeState.NS\",\"i1\":{\"$type\":\"edu.colorado.plv.bounder.lifestate.LifeState.OAbsMsg\",\"mt\":{\"$type\":\"edu.colorado.plv.bounder.ir.CBExit\"},\"signatures\":{\"$type\":\"edu.colorado.plv.bounder.lifestate.LifeState.SubClassMatcher\",\"baseSubtypeOf\":[\"android.app.Activity\",\"androidx.fragment.app.FragmentActivity\"],\"signatureMatcher\":\"void onPause\\\\(\\\\)\",\"ident\":\"Activity_onPause\"},\"lsVars\":[{\"$type\":\"edu.colorado.plv.bounder.symbolicexecutor.state.TopVal\"},{\"$type\":\"edu.colorado.plv.bounder.symbolicexecutor.state.NamedPureVar\",\"n\":\"a\"}]},\"i2\":{\"$type\":\"edu.colorado.plv.bounder.lifestate.LifeState.OAbsMsg\",\"mt\":{\"$type\":\"edu.colorado.plv.bounder.ir.CBEnter\"},\"signatures\":{\"$type\":\"edu.colorado.plv.bounder.lifestate.LifeState.SubClassMatcher\",\"baseSubtypeOf\":[\"android.app.Activity\",\"androidx.fragment.app.FragmentActivity\"],\"signatureMatcher\":\"void onResume\\\\(\\\\)\",\"ident\":\"Activity_onResume\"},\"lsVars\":[{\"$type\":\"edu.colorado.plv.bounder.symbolicexecutor.state.TopVal\"},{\"$type\":\"edu.colorado.plv.bounder.symbolicexecutor.state.NamedPureVar\",\"n\":\"a\"}]}}}},\"target\":{\"$type\":\"edu.colorado.plv.bounder.lifestate.LifeState.OAbsMsg\",\"mt\":{\"$type\":\"edu.colorado.plv.bounder.ir.CIEnter\"},\"signatures\":{\"$type\":\"edu.colorado.plv.bounder.lifestate.LifeState.SubClassMatcher\",\"baseSubtypeOf\":[\"android.app.ProgressDialog\",\"android.app.Dialog\"],\"signatureMatcher\":\"void dismiss\\\\(\\\\)\",\"ident\":\"Dialog_dismiss\"},\"lsVars\":[{\"$type\":\"edu.colorado.plv.bounder.symbolicexecutor.state.TopVal\"},{\"$type\":\"edu.colorado.plv.bounder.symbolicexecutor.state.NamedPureVar\",\"n\":\"d\"}]}}]}",
        "tag": {
         "heuristicType": "SensitiveDerefFieldCausedSynch"
        },
        "timeLimit": 900
       },
       {
        "apkPath": "${baseDir}/fdroid/org.sufficientlysecure.keychain/5.8.2/apk/org.sufficientlysecure.keychain_58902.apk",
        "configPath": [
         "/tmp/143442486308183487"
        ],
        "initialQuery": [
         {
          "className": "eu.davidea.flexibleadapter.FlexibleAdapter$6",
          "line": 7,
          "matcher": "void scrollToPosition(int)",
          "methodName": "void run()",
          "t": "ReceiverNonNull"
         }
        ],
        "outFolder": [
         "${baseDirOut}/org.sufficientlysecure.keychain"
        ],
        "specSet": "{\"specs\":[],\"disallow\":[{\"univQuant\":[{\"$type\":\"edu.colorado.plv.bounder.symbolicexecutor.state.NamedPureVar\",\"n\":\"a\"},{\"$type\":\"edu.colorado.plv.bounder.symbolicexecutor.state.NamedPureVar\",\"n\":\"f\"}],\"existQuant\":[],\"pred\":{\"$type\":\"edu.colorado.plv.bounder.lifestate.LifeState.Or\",\"l1\":{\"$type\":\"edu.colorado.plv.bounder.lifestate.LifeState.NS\",\"i1\":{\"$type\":\"edu.colorado.plv.bounder.lifestate.LifeState.OAbsMsg\",\"mt\":{\"$type\":\"edu.colorado.plv.bounder.ir.CBExit\"},\"signatures\":{\"$type\":\"edu.colorado.plv.bounder.lifestate.LifeState.SubClassMatcher\",\"baseSubtypeOf\":[\"android.app.Fragment\",\"androidx.fragment.app.Fragment\",\"android.support.v4.app.Fragment\"],\"signatureMatcher\":\"void onDestroy\\\\(\\\\)\",\"ident\":\"Fragment_onDestroy\"},\"lsVars\":[{\"$type\":\"edu.colorado.plv.bounder.symbolicexecutor.state.TopVal\"},{\"$type\":\"edu.colorado.plv.bounder.symbolicexecutor.state.NamedPureVar\",\"n\":\"f\"}]},\"i2\":{\"$type\":\"edu.colorado.plv.bounder.lifestate.LifeState.OAbsMsg\",\"mt\":{\"$type\":\"edu.colorado.plv.bounder.ir.CBEnter\"},\"signatures\":{\"$type\":\"edu.colorado.plv.bounder.lifestate.LifeState.SubClassMatcher\",\"baseSubtypeOf\":[\"android.app.Fragment\",\"androidx.fragment.app.Fragment\",\"android.support.v4.app.Fragment\"],\"signatureMatcher\":\"void onActivityCreated\\\\(android.os.Bundle\\\\)\",\"ident\":\"Fragment_onActivityCreated\"},\"lsVars\":[{\"$type\":\"edu.colorado.plv.bounder.symbolicexecutor.state.TopVal\"},{\"$type\":\"edu.colorado.plv.bounder.symbolicexecutor.state.NamedPureVar\",\"n\":\"f\"}]}},\"l2\":{\"$type\":\"edu.colorado.plv.bounder.lifestate.LifeState.Not\",\"p\":{\"$type\":\"edu.colorado.plv.bounder.lifestate.LifeState.OAbsMsg\",\"mt\":{\"$type\":\"edu.colorado.plv.bounder.ir.CBEnter\"},\"signatures\":{\"$type\":\"edu.colorado.plv.bounder.lifestate.LifeState.SubClassMatcher\",\"baseSubtypeOf\":[\"android.app.Fragment\",\"androidx.fragment.app.Fragment\",\"android.support.v4.app.Fragment\"],\"signatureMatcher\":\"void onActivityCreated\\\\(android.os.Bundle\\\\)\",\"ident\":\"Fragment_onActivityCreated\"},\"lsVars\":[{\"$type\":\"edu.colorado.plv.bounder.symbolicexecutor.state.TopVal\"},{\"$type\":\"edu.colorado.plv.bounder.symbolicexecutor.state.NamedPureVar\",\"n\":\"f\"}]}}},\"target\":{\"$type\":\"edu.colorado.plv.bounder.lifestate.LifeState.OAbsMsg\",\"mt\":{\"$type\":\"edu.colorado.plv.bounder.ir.CIExit\"},\"signatures\":{\"$type\":\"edu.colorado.plv.bounder.lifestate.LifeState.SubClassMatcher\",\"baseSubtypeOf\":[\"android.app.Fragment\",\"androidx.fragment.app.Fragment\",\"android.support.v4.app.Fragment\"],\"signatureMatcher\":\".*Activity getActivity\\\\(\\\\)\",\"ident\":\"Fragment_getActivity\"},\"lsVars\":[{\"$type\":\"edu.colorado.plv.bounder.symbolicexecutor.state.NamedPureVar\",\"n\":\"a\"},{\"$type\":\"edu.colorado.plv.bounder.symbolicexecutor.state.NamedPureVar\",\"n\":\"f\"}]},\"rhsConstraints\":[{\"$type\":\"edu.colorado.plv.bounder.lifestate.LifeState.LSConstraint\",\"v1\":{\"$type\":\"edu.colorado.plv.bounder.symbolicexecutor.state.NamedPureVar\",\"n\":\"a\"},\"op\":{\"$type\":\"edu.colorado.plv.bounder.symbolicexecutor.state.Equals\"},\"v2\":{\"$type\":\"edu.colorado.plv.bounder.symbolicexecutor.state.NullVal\"}}]},{\"univQuant\":[{\"$type\":\"edu.colorado.plv.bounder.symbolicexecutor.state.NamedPureVar\",\"n\":\"t\"}],\"existQuant\":[],\"pred\":{\"$type\":\"edu.colorado.plv.bounder.lifestate.LifeState.OAbsMsg\",\"mt\":{\"$type\":\"edu.colorado.plv.bounder.ir.CIExit\"},\"signatures\":{\"$type\":\"edu.colorado.plv.bounder.lifestate.LifeState.SubClassMatcher\",\"baseSubtypeOf\":[\"android.os.AsyncTask\"],\"signatureMatcher\":\".*AsyncTask execute\\\\(.*\\\\)\",\"ident\":\"AsyncTask_execute\"},\"lsVars\":[{\"$type\":\"edu.colorado.plv.bounder.symbolicexecutor.state.TopVal\"},{\"$type\":\"edu.colorado.plv.bounder.symbolicexecutor.state.NamedPureVar\",\"n\":\"t\"}]},\"target\":{\"$type\":\"edu.colorado.plv.bounder.lifestate.LifeState.OAbsMsg\",\"mt\":{\"$type\":\"edu.colorado.plv.bounder.ir.CIEnter\"},\"signatures\":{\"$type\":\"edu.colorado.plv.bounder.lifestate.LifeState.SubClassMatcher\",\"baseSubtypeOf\":[\"android.os.AsyncTask\"],\"signatureMatcher\":\".*AsyncTask execute\\\\(.*\\\\)\",\"ident\":\"AsyncTask_execute\"},\"lsVars\":[{\"$type\":\"edu.colorado.plv.bounder.symbolicexecutor.state.TopVal\"},{\"$type\":\"edu.colorado.plv.bounder.symbolicexecutor.state.NamedPureVar\",\"n\":\"t\"}]}},{\"univQuant\":[{\"$type\":\"edu.colorado.plv.bounder.symbolicexecutor.state.NamedPureVar\",\"n\":\"d\"}],\"existQuant\":[{\"$type\":\"edu.colorado.plv.bounder.symbolicexecutor.state.NamedPureVar\",\"n\":\"a\"}],\"pred\":{\"$type\":\"edu.colorado.plv.bounder.lifestate.LifeState.And\",\"l1\":{\"$type\":\"edu.colorado.plv.bounder.lifestate.LifeState.OAbsMsg\",\"mt\":{\"$type\":\"edu.colorado.plv.bounder.ir.CIExit\"},\"signatures\":{\"$type\":\"edu.colorado.plv.bounder.lifestate.LifeState.SubClassMatcher\",\"baseSubtypeOf\":[\"android.app.ProgressDialog\",\"android.app.Dialog\"],\"signatureMatcher\":\".*show.*\",\"ident\":\"Dialog_show\"},\"lsVars\":[{\"$type\":\"edu.colorado.plv.bounder.symbolicexecutor.state.NamedPureVar\",\"n\":\"d\"},{\"$type\":\"edu.colorado.plv.bounder.symbolicexecutor.state.TopVal\"},{\"$type\":\"edu.colorado.plv.bounder.symbolicexecutor.state.NamedPureVar\",\"n\":\"a\"}]},\"l2\":{\"$type\":\"edu.colorado.plv.bounder.lifestate.LifeState.Or\",\"l1\":{\"$type\":\"edu.colorado.plv.bounder.lifestate.LifeState.Not\",\"p\":{\"$type\":\"edu.colorado.plv.bounder.lifestate.LifeState.OAbsMsg\",\"mt\":{\"$type\":\"edu.colorado.plv.bounder.ir.CBEnter\"},\"signatures\":{\"$type\":\"edu.colorado.plv.bounder.lifestate.LifeState.SubClassMatcher\",\"baseSubtypeOf\":[\"android.app.Activity\",\"androidx.fragment.app.FragmentActivity\"],\"signatureMatcher\":\"void onResume\\\\(\\\\)\",\"ident\":\"Activity_onResume\"},\"lsVars\":[{\"$type\":\"edu.colorado.plv.bounder.symbolicexecutor.state.TopVal\"},{\"$type\":\"edu.colorado.plv.bounder.symbolicexecutor.state.NamedPureVar\",\"n\":\"a\"}]}},\"l2\":{\"$type\":\"edu.colorado.plv.bounder.lifestate.LifeState.NS\",\"i1\":{\"$type\":\"edu.colorado.plv.bounder.lifestate.LifeState.OAbsMsg\",\"mt\":{\"$type\":\"edu.colorado.plv.bounder.ir.CBExit\"},\"signatures\":{\"$type\":\"edu.colorado.plv.bounder.lifestate.LifeState.SubClassMatcher\",\"baseSubtypeOf\":[\"android.app.Activity\",\"androidx.fragment.app.FragmentActivity\"],\"signatureMatcher\":\"void onPause\\\\(\\\\)\",\"ident\":\"Activity_onPause\"},\"lsVars\":[{\"$type\":\"edu.colorado.plv.bounder.symbolicexecutor.state.TopVal\"},{\"$type\":\"edu.colorado.plv.bounder.symbolicexecutor.state.NamedPureVar\",\"n\":\"a\"}]},\"i2\":{\"$type\":\"edu.colorado.plv.bounder.lifestate.LifeState.OAbsMsg\",\"mt\":{\"$type\":\"edu.colorado.plv.bounder.ir.CBEnter\"},\"signatures\":{\"$type\":\"edu.colorado.plv.bounder.lifestate.LifeState.SubClassMatcher\",\"baseSubtypeOf\":[\"android.app.Activity\",\"androidx.fragment.app.FragmentActivity\"],\"signatureMatcher\":\"void onResume\\\\(\\\\)\",\"ident\":\"Activity_onResume\"},\"lsVars\":[{\"$type\":\"edu.colorado.plv.bounder.symbolicexecutor.state.TopVal\"},{\"$type\":\"edu.colorado.plv.bounder.symbolicexecutor.state.NamedPureVar\",\"n\":\"a\"}]}}}},\"target\":{\"$type\":\"edu.colorado.plv.bounder.lifestate.LifeState.OAbsMsg\",\"mt\":{\"$type\":\"edu.colorado.plv.bounder.ir.CIEnter\"},\"signatures\":{\"$type\":\"edu.colorado.plv.bounder.lifestate.LifeState.SubClassMatcher\",\"baseSubtypeOf\":[\"android.app.ProgressDialog\",\"android.app.Dialog\"],\"signatureMatcher\":\"void dismiss\\\\(\\\\)\",\"ident\":\"Dialog_dismiss\"},\"lsVars\":[{\"$type\":\"edu.colorado.plv.bounder.symbolicexecutor.state.TopVal\"},{\"$type\":\"edu.colorado.plv.bounder.symbolicexecutor.state.NamedPureVar\",\"n\":\"d\"}]}}]}",
        "tag": {
         "heuristicType": "SensitiveDerefFieldCausedSynch"
        },
        "timeLimit": 900
       },
       {
        "apkPath": "${baseDir}/fdroid/org.sipdroid.sipua/6.3beta/apk/org.sipdroid.sipua_134.apk",
        "configPath": [
         "/tmp/270335928576313844"
        ],
        "initialQuery": [
         {
          "className": "org.zoolu.tools.InnerTimer",
          "line": 41,
          "matcher": "void onInnerTimeout()",
          "methodName": "void run()",
          "t": "ReceiverNonNull"
         }
        ],
        "outFolder": [
         "${baseDirOut}/org.sipdroid.sipua"
        ],
        "specSet": "{\"specs\":[],\"disallow\":[{\"univQuant\":[{\"$type\":\"edu.colorado.plv.bounder.symbolicexecutor.state.NamedPureVar\",\"n\":\"a\"},{\"$type\":\"edu.colorado.plv.bounder.symbolicexecutor.state.NamedPureVar\",\"n\":\"f\"}],\"existQuant\":[],\"pred\":{\"$type\":\"edu.colorado.plv.bounder.lifestate.LifeState.Or\",\"l1\":{\"$type\":\"edu.colorado.plv.bounder.lifestate.LifeState.NS\",\"i1\":{\"$type\":\"edu.colorado.plv.bounder.lifestate.LifeState.OAbsMsg\",\"mt\":{\"$type\":\"edu.colorado.plv.bounder.ir.CBExit\"},\"signatures\":{\"$type\":\"edu.colorado.plv.bounder.lifestate.LifeState.SubClassMatcher\",\"baseSubtypeOf\":[\"android.app.Fragment\",\"androidx.fragment.app.Fragment\",\"android.support.v4.app.Fragment\"],\"signatureMatcher\":\"void onDestroy\\\\(\\\\)\",\"ident\":\"Fragment_onDestroy\"},\"lsVars\":[{\"$type\":\"edu.colorado.plv.bounder.symbolicexecutor.state.TopVal\"},{\"$type\":\"edu.colorado.plv.bounder.symbolicexecutor.state.NamedPureVar\",\"n\":\"f\"}]},\"i2\":{\"$type\":\"edu.colorado.plv.bounder.lifestate.LifeState.OAbsMsg\",\"mt\":{\"$type\":\"edu.colorado.plv.bounder.ir.CBEnter\"},\"signatures\":{\"$type\":\"edu.colorado.plv.bounder.lifestate.LifeState.SubClassMatcher\",\"baseSubtypeOf\":[\"android.app.Fragment\",\"androidx.fragment.app.Fragment\",\"android.support.v4.app.Fragment\"],\"signatureMatcher\":\"void onActivityCreated\\\\(android.os.Bundle\\\\)\",\"ident\":\"Fragment_onActivityCreated\"},\"lsVars\":[{\"$type\":\"edu.colorado.plv.bounder.symbolicexecutor.state.TopVal\"},{\"$type\":\"edu.colorado.plv.bounder.symbolicexecutor.state.NamedPureVar\",\"n\":\"f\"}]}},\"l2\":{\"$type\":\"edu.colorado.plv.bounder.lifestate.LifeState.Not\",\"p\":{\"$type\":\"edu.colorado.plv.bounder.lifestate.LifeState.OAbsMsg\",\"mt\":{\"$type\":\"edu.colorado.plv.bounder.ir.CBEnter\"},\"signatures\":{\"$type\":\"edu.colorado.plv.bounder.lifestate.LifeState.SubClassMatcher\",\"baseSubtypeOf\":[\"android.app.Fragment\",\"androidx.fragment.app.Fragment\",\"android.support.v4.app.Fragment\"],\"signatureMatcher\":\"void onActivityCreated\\\\(android.os.Bundle\\\\)\",\"ident\":\"Fragment_onActivityCreated\"},\"lsVars\":[{\"$type\":\"edu.colorado.plv.bounder.symbolicexecutor.state.TopVal\"},{\"$type\":\"edu.colorado.plv.bounder.symbolicexecutor.state.NamedPureVar\",\"n\":\"f\"}]}}},\"target\":{\"$type\":\"edu.colorado.plv.bounder.lifestate.LifeState.OAbsMsg\",\"mt\":{\"$type\":\"edu.colorado.plv.bounder.ir.CIExit\"},\"signatures\":{\"$type\":\"edu.colorado.plv.bounder.lifestate.LifeState.SubClassMatcher\",\"baseSubtypeOf\":[\"android.app.Fragment\",\"androidx.fragment.app.Fragment\",\"android.support.v4.app.Fragment\"],\"signatureMatcher\":\".*Activity getActivity\\\\(\\\\)\",\"ident\":\"Fragment_getActivity\"},\"lsVars\":[{\"$type\":\"edu.colorado.plv.bounder.symbolicexecutor.state.NamedPureVar\",\"n\":\"a\"},{\"$type\":\"edu.colorado.plv.bounder.symbolicexecutor.state.NamedPureVar\",\"n\":\"f\"}]},\"rhsConstraints\":[{\"$type\":\"edu.colorado.plv.bounder.lifestate.LifeState.LSConstraint\",\"v1\":{\"$type\":\"edu.colorado.plv.bounder.symbolicexecutor.state.NamedPureVar\",\"n\":\"a\"},\"op\":{\"$type\":\"edu.colorado.plv.bounder.symbolicexecutor.state.Equals\"},\"v2\":{\"$type\":\"edu.colorado.plv.bounder.symbolicexecutor.state.NullVal\"}}]},{\"univQuant\":[{\"$type\":\"edu.colorado.plv.bounder.symbolicexecutor.state.NamedPureVar\",\"n\":\"t\"}],\"existQuant\":[],\"pred\":{\"$type\":\"edu.colorado.plv.bounder.lifestate.LifeState.OAbsMsg\",\"mt\":{\"$type\":\"edu.colorado.plv.bounder.ir.CIExit\"},\"signatures\":{\"$type\":\"edu.colorado.plv.bounder.lifestate.LifeState.SubClassMatcher\",\"baseSubtypeOf\":[\"android.os.AsyncTask\"],\"signatureMatcher\":\".*AsyncTask execute\\\\(.*\\\\)\",\"ident\":\"AsyncTask_execute\"},\"lsVars\":[{\"$type\":\"edu.colorado.plv.bounder.symbolicexecutor.state.TopVal\"},{\"$type\":\"edu.colorado.plv.bounder.symbolicexecutor.state.NamedPureVar\",\"n\":\"t\"}]},\"target\":{\"$type\":\"edu.colorado.plv.bounder.lifestate.LifeState.OAbsMsg\",\"mt\":{\"$type\":\"edu.colorado.plv.bounder.ir.CIEnter\"},\"signatures\":{\"$type\":\"edu.colorado.plv.bounder.lifestate.LifeState.SubClassMatcher\",\"baseSubtypeOf\":[\"android.os.AsyncTask\"],\"signatureMatcher\":\".*AsyncTask execute\\\\(.*\\\\)\",\"ident\":\"AsyncTask_execute\"},\"lsVars\":[{\"$type\":\"edu.colorado.plv.bounder.symbolicexecutor.state.TopVal\"},{\"$type\":\"edu.colorado.plv.bounder.symbolicexecutor.state.NamedPureVar\",\"n\":\"t\"}]}},{\"univQuant\":[{\"$type\":\"edu.colorado.plv.bounder.symbolicexecutor.state.NamedPureVar\",\"n\":\"d\"}],\"existQuant\":[{\"$type\":\"edu.colorado.plv.bounder.symbolicexecutor.state.NamedPureVar\",\"n\":\"a\"}],\"pred\":{\"$type\":\"edu.colorado.plv.bounder.lifestate.LifeState.And\",\"l1\":{\"$type\":\"edu.colorado.plv.bounder.lifestate.LifeState.OAbsMsg\",\"mt\":{\"$type\":\"edu.colorado.plv.bounder.ir.CIExit\"},\"signatures\":{\"$type\":\"edu.colorado.plv.bounder.lifestate.LifeState.SubClassMatcher\",\"baseSubtypeOf\":[\"android.app.ProgressDialog\",\"android.app.Dialog\"],\"signatureMatcher\":\".*show.*\",\"ident\":\"Dialog_show\"},\"lsVars\":[{\"$type\":\"edu.colorado.plv.bounder.symbolicexecutor.state.NamedPureVar\",\"n\":\"d\"},{\"$type\":\"edu.colorado.plv.bounder.symbolicexecutor.state.TopVal\"},{\"$type\":\"edu.colorado.plv.bounder.symbolicexecutor.state.NamedPureVar\",\"n\":\"a\"}]},\"l2\":{\"$type\":\"edu.colorado.plv.bounder.lifestate.LifeState.Or\",\"l1\":{\"$type\":\"edu.colorado.plv.bounder.lifestate.LifeState.Not\",\"p\":{\"$type\":\"edu.colorado.plv.bounder.lifestate.LifeState.OAbsMsg\",\"mt\":{\"$type\":\"edu.colorado.plv.bounder.ir.CBEnter\"},\"signatures\":{\"$type\":\"edu.colorado.plv.bounder.lifestate.LifeState.SubClassMatcher\",\"baseSubtypeOf\":[\"android.app.Activity\",\"androidx.fragment.app.FragmentActivity\"],\"signatureMatcher\":\"void onResume\\\\(\\\\)\",\"ident\":\"Activity_onResume\"},\"lsVars\":[{\"$type\":\"edu.colorado.plv.bounder.symbolicexecutor.state.TopVal\"},{\"$type\":\"edu.colorado.plv.bounder.symbolicexecutor.state.NamedPureVar\",\"n\":\"a\"}]}},\"l2\":{\"$type\":\"edu.colorado.plv.bounder.lifestate.LifeState.NS\",\"i1\":{\"$type\":\"edu.colorado.plv.bounder.lifestate.LifeState.OAbsMsg\",\"mt\":{\"$type\":\"edu.colorado.plv.bounder.ir.CBExit\"},\"signatures\":{\"$type\":\"edu.colorado.plv.bounder.lifestate.LifeState.SubClassMatcher\",\"baseSubtypeOf\":[\"android.app.Activity\",\"androidx.fragment.app.FragmentActivity\"],\"signatureMatcher\":\"void onPause\\\\(\\\\)\",\"ident\":\"Activity_onPause\"},\"lsVars\":[{\"$type\":\"edu.colorado.plv.bounder.symbolicexecutor.state.TopVal\"},{\"$type\":\"edu.colorado.plv.bounder.symbolicexecutor.state.NamedPureVar\",\"n\":\"a\"}]},\"i2\":{\"$type\":\"edu.colorado.plv.bounder.lifestate.LifeState.OAbsMsg\",\"mt\":{\"$type\":\"edu.colorado.plv.bounder.ir.CBEnter\"},\"signatures\":{\"$type\":\"edu.colorado.plv.bounder.lifestate.LifeState.SubClassMatcher\",\"baseSubtypeOf\":[\"android.app.Activity\",\"androidx.fragment.app.FragmentActivity\"],\"signatureMatcher\":\"void onResume\\\\(\\\\)\",\"ident\":\"Activity_onResume\"},\"lsVars\":[{\"$type\":\"edu.colorado.plv.bounder.symbolicexecutor.state.TopVal\"},{\"$type\":\"edu.colorado.plv.bounder.symbolicexecutor.state.NamedPureVar\",\"n\":\"a\"}]}}}},\"target\":{\"$type\":\"edu.colorado.plv.bounder.lifestate.LifeState.OAbsMsg\",\"mt\":{\"$type\":\"edu.colorado.plv.bounder.ir.CIEnter\"},\"signatures\":{\"$type\":\"edu.colorado.plv.bounder.lifestate.LifeState.SubClassMatcher\",\"baseSubtypeOf\":[\"android.app.ProgressDialog\",\"android.app.Dialog\"],\"signatureMatcher\":\"void dismiss\\\\(\\\\)\",\"ident\":\"Dialog_dismiss\"},\"lsVars\":[{\"$type\":\"edu.colorado.plv.bounder.symbolicexecutor.state.TopVal\"},{\"$type\":\"edu.colorado.plv.bounder.symbolicexecutor.state.NamedPureVar\",\"n\":\"d\"}]}}]}",
        "tag": {
         "heuristicType": "SensitiveDerefFieldCausedSynch"
        },
        "timeLimit": 900
       },
       {
        "apkPath": "${baseDir}/fdroid/org.sipdroid.sipua/6.3beta/apk/org.sipdroid.sipua_134.apk",
        "configPath": [
         "/tmp/270335928576313844"
        ],
        "initialQuery": [
         {
          "className": "org.zoolu.net.TcpServer",
          "line": 144,
          "matcher": "void onIncomingConnection(org.zoolu.net.TcpServer,org.zoolu.net.TcpSocket)",
          "methodName": "void run()",
          "t": "ReceiverNonNull"
         }
        ],
        "outFolder": [
         "${baseDirOut}/org.sipdroid.sipua"
        ],
        "specSet": "{\"specs\":[],\"disallow\":[{\"univQuant\":[{\"$type\":\"edu.colorado.plv.bounder.symbolicexecutor.state.NamedPureVar\",\"n\":\"a\"},{\"$type\":\"edu.colorado.plv.bounder.symbolicexecutor.state.NamedPureVar\",\"n\":\"f\"}],\"existQuant\":[],\"pred\":{\"$type\":\"edu.colorado.plv.bounder.lifestate.LifeState.Or\",\"l1\":{\"$type\":\"edu.colorado.plv.bounder.lifestate.LifeState.NS\",\"i1\":{\"$type\":\"edu.colorado.plv.bounder.lifestate.LifeState.OAbsMsg\",\"mt\":{\"$type\":\"edu.colorado.plv.bounder.ir.CBExit\"},\"signatures\":{\"$type\":\"edu.colorado.plv.bounder.lifestate.LifeState.SubClassMatcher\",\"baseSubtypeOf\":[\"android.app.Fragment\",\"androidx.fragment.app.Fragment\",\"android.support.v4.app.Fragment\"],\"signatureMatcher\":\"void onDestroy\\\\(\\\\)\",\"ident\":\"Fragment_onDestroy\"},\"lsVars\":[{\"$type\":\"edu.colorado.plv.bounder.symbolicexecutor.state.TopVal\"},{\"$type\":\"edu.colorado.plv.bounder.symbolicexecutor.state.NamedPureVar\",\"n\":\"f\"}]},\"i2\":{\"$type\":\"edu.colorado.plv.bounder.lifestate.LifeState.OAbsMsg\",\"mt\":{\"$type\":\"edu.colorado.plv.bounder.ir.CBEnter\"},\"signatures\":{\"$type\":\"edu.colorado.plv.bounder.lifestate.LifeState.SubClassMatcher\",\"baseSubtypeOf\":[\"android.app.Fragment\",\"androidx.fragment.app.Fragment\",\"android.support.v4.app.Fragment\"],\"signatureMatcher\":\"void onActivityCreated\\\\(android.os.Bundle\\\\)\",\"ident\":\"Fragment_onActivityCreated\"},\"lsVars\":[{\"$type\":\"edu.colorado.plv.bounder.symbolicexecutor.state.TopVal\"},{\"$type\":\"edu.colorado.plv.bounder.symbolicexecutor.state.NamedPureVar\",\"n\":\"f\"}]}},\"l2\":{\"$type\":\"edu.colorado.plv.bounder.lifestate.LifeState.Not\",\"p\":{\"$type\":\"edu.colorado.plv.bounder.lifestate.LifeState.OAbsMsg\",\"mt\":{\"$type\":\"edu.colorado.plv.bounder.ir.CBEnter\"},\"signatures\":{\"$type\":\"edu.colorado.plv.bounder.lifestate.LifeState.SubClassMatcher\",\"baseSubtypeOf\":[\"android.app.Fragment\",\"androidx.fragment.app.Fragment\",\"android.support.v4.app.Fragment\"],\"signatureMatcher\":\"void onActivityCreated\\\\(android.os.Bundle\\\\)\",\"ident\":\"Fragment_onActivityCreated\"},\"lsVars\":[{\"$type\":\"edu.colorado.plv.bounder.symbolicexecutor.state.TopVal\"},{\"$type\":\"edu.colorado.plv.bounder.symbolicexecutor.state.NamedPureVar\",\"n\":\"f\"}]}}},\"target\":{\"$type\":\"edu.colorado.plv.bounder.lifestate.LifeState.OAbsMsg\",\"mt\":{\"$type\":\"edu.colorado.plv.bounder.ir.CIExit\"},\"signatures\":{\"$type\":\"edu.colorado.plv.bounder.lifestate.LifeState.SubClassMatcher\",\"baseSubtypeOf\":[\"android.app.Fragment\",\"androidx.fragment.app.Fragment\",\"android.support.v4.app.Fragment\"],\"signatureMatcher\":\".*Activity getActivity\\\\(\\\\)\",\"ident\":\"Fragment_getActivity\"},\"lsVars\":[{\"$type\":\"edu.colorado.plv.bounder.symbolicexecutor.state.NamedPureVar\",\"n\":\"a\"},{\"$type\":\"edu.colorado.plv.bounder.symbolicexecutor.state.NamedPureVar\",\"n\":\"f\"}]},\"rhsConstraints\":[{\"$type\":\"edu.colorado.plv.bounder.lifestate.LifeState.LSConstraint\",\"v1\":{\"$type\":\"edu.colorado.plv.bounder.symbolicexecutor.state.NamedPureVar\",\"n\":\"a\"},\"op\":{\"$type\":\"edu.colorado.plv.bounder.symbolicexecutor.state.Equals\"},\"v2\":{\"$type\":\"edu.colorado.plv.bounder.symbolicexecutor.state.NullVal\"}}]},{\"univQuant\":[{\"$type\":\"edu.colorado.plv.bounder.symbolicexecutor.state.NamedPureVar\",\"n\":\"t\"}],\"existQuant\":[],\"pred\":{\"$type\":\"edu.colorado.plv.bounder.lifestate.LifeState.OAbsMsg\",\"mt\":{\"$type\":\"edu.colorado.plv.bounder.ir.CIExit\"},\"signatures\":{\"$type\":\"edu.colorado.plv.bounder.lifestate.LifeState.SubClassMatcher\",\"baseSubtypeOf\":[\"android.os.AsyncTask\"],\"signatureMatcher\":\".*AsyncTask execute\\\\(.*\\\\)\",\"ident\":\"AsyncTask_execute\"},\"lsVars\":[{\"$type\":\"edu.colorado.plv.bounder.symbolicexecutor.state.TopVal\"},{\"$type\":\"edu.colorado.plv.bounder.symbolicexecutor.state.NamedPureVar\",\"n\":\"t\"}]},\"target\":{\"$type\":\"edu.colorado.plv.bounder.lifestate.LifeState.OAbsMsg\",\"mt\":{\"$type\":\"edu.colorado.plv.bounder.ir.CIEnter\"},\"signatures\":{\"$type\":\"edu.colorado.plv.bounder.lifestate.LifeState.SubClassMatcher\",\"baseSubtypeOf\":[\"android.os.AsyncTask\"],\"signatureMatcher\":\".*AsyncTask execute\\\\(.*\\\\)\",\"ident\":\"AsyncTask_execute\"},\"lsVars\":[{\"$type\":\"edu.colorado.plv.bounder.symbolicexecutor.state.TopVal\"},{\"$type\":\"edu.colorado.plv.bounder.symbolicexecutor.state.NamedPureVar\",\"n\":\"t\"}]}},{\"univQuant\":[{\"$type\":\"edu.colorado.plv.bounder.symbolicexecutor.state.NamedPureVar\",\"n\":\"d\"}],\"existQuant\":[{\"$type\":\"edu.colorado.plv.bounder.symbolicexecutor.state.NamedPureVar\",\"n\":\"a\"}],\"pred\":{\"$type\":\"edu.colorado.plv.bounder.lifestate.LifeState.And\",\"l1\":{\"$type\":\"edu.colorado.plv.bounder.lifestate.LifeState.OAbsMsg\",\"mt\":{\"$type\":\"edu.colorado.plv.bounder.ir.CIExit\"},\"signatures\":{\"$type\":\"edu.colorado.plv.bounder.lifestate.LifeState.SubClassMatcher\",\"baseSubtypeOf\":[\"android.app.ProgressDialog\",\"android.app.Dialog\"],\"signatureMatcher\":\".*show.*\",\"ident\":\"Dialog_show\"},\"lsVars\":[{\"$type\":\"edu.colorado.plv.bounder.symbolicexecutor.state.NamedPureVar\",\"n\":\"d\"},{\"$type\":\"edu.colorado.plv.bounder.symbolicexecutor.state.TopVal\"},{\"$type\":\"edu.colorado.plv.bounder.symbolicexecutor.state.NamedPureVar\",\"n\":\"a\"}]},\"l2\":{\"$type\":\"edu.colorado.plv.bounder.lifestate.LifeState.Or\",\"l1\":{\"$type\":\"edu.colorado.plv.bounder.lifestate.LifeState.Not\",\"p\":{\"$type\":\"edu.colorado.plv.bounder.lifestate.LifeState.OAbsMsg\",\"mt\":{\"$type\":\"edu.colorado.plv.bounder.ir.CBEnter\"},\"signatures\":{\"$type\":\"edu.colorado.plv.bounder.lifestate.LifeState.SubClassMatcher\",\"baseSubtypeOf\":[\"android.app.Activity\",\"androidx.fragment.app.FragmentActivity\"],\"signatureMatcher\":\"void onResume\\\\(\\\\)\",\"ident\":\"Activity_onResume\"},\"lsVars\":[{\"$type\":\"edu.colorado.plv.bounder.symbolicexecutor.state.TopVal\"},{\"$type\":\"edu.colorado.plv.bounder.symbolicexecutor.state.NamedPureVar\",\"n\":\"a\"}]}},\"l2\":{\"$type\":\"edu.colorado.plv.bounder.lifestate.LifeState.NS\",\"i1\":{\"$type\":\"edu.colorado.plv.bounder.lifestate.LifeState.OAbsMsg\",\"mt\":{\"$type\":\"edu.colorado.plv.bounder.ir.CBExit\"},\"signatures\":{\"$type\":\"edu.colorado.plv.bounder.lifestate.LifeState.SubClassMatcher\",\"baseSubtypeOf\":[\"android.app.Activity\",\"androidx.fragment.app.FragmentActivity\"],\"signatureMatcher\":\"void onPause\\\\(\\\\)\",\"ident\":\"Activity_onPause\"},\"lsVars\":[{\"$type\":\"edu.colorado.plv.bounder.symbolicexecutor.state.TopVal\"},{\"$type\":\"edu.colorado.plv.bounder.symbolicexecutor.state.NamedPureVar\",\"n\":\"a\"}]},\"i2\":{\"$type\":\"edu.colorado.plv.bounder.lifestate.LifeState.OAbsMsg\",\"mt\":{\"$type\":\"edu.colorado.plv.bounder.ir.CBEnter\"},\"signatures\":{\"$type\":\"edu.colorado.plv.bounder.lifestate.LifeState.SubClassMatcher\",\"baseSubtypeOf\":[\"android.app.Activity\",\"androidx.fragment.app.FragmentActivity\"],\"signatureMatcher\":\"void onResume\\\\(\\\\)\",\"ident\":\"Activity_onResume\"},\"lsVars\":[{\"$type\":\"edu.colorado.plv.bounder.symbolicexecutor.state.TopVal\"},{\"$type\":\"edu.colorado.plv.bounder.symbolicexecutor.state.NamedPureVar\",\"n\":\"a\"}]}}}},\"target\":{\"$type\":\"edu.colorado.plv.bounder.lifestate.LifeState.OAbsMsg\",\"mt\":{\"$type\":\"edu.colorado.plv.bounder.ir.CIEnter\"},\"signatures\":{\"$type\":\"edu.colorado.plv.bounder.lifestate.LifeState.SubClassMatcher\",\"baseSubtypeOf\":[\"android.app.ProgressDialog\",\"android.app.Dialog\"],\"signatureMatcher\":\"void dismiss\\\\(\\\\)\",\"ident\":\"Dialog_dismiss\"},\"lsVars\":[{\"$type\":\"edu.colorado.plv.bounder.symbolicexecutor.state.TopVal\"},{\"$type\":\"edu.colorado.plv.bounder.symbolicexecutor.state.NamedPureVar\",\"n\":\"d\"}]}}]}",
        "tag": {
         "heuristicType": "SensitiveDerefFieldCausedSynch"
        },
        "timeLimit": 900
       },
       {
        "apkPath": "${baseDir}/fdroid/be.digitalia.fosdem/2.1.1/apk/be.digitalia.fosdem_1900211.apk",
        "configPath": [
         "/tmp/1616220754643788746"
        ],
        "initialQuery": [
         {
          "className": "e.C",
          "line": 87,
          "matcher": "void a(float)",
          "methodName": "void run()",
          "t": "ReceiverNonNull"
         }
        ],
        "outFolder": [
         "${baseDirOut}/be.digitalia.fosdem"
        ],
        "specSet": "{\"specs\":[],\"disallow\":[{\"univQuant\":[{\"$type\":\"edu.colorado.plv.bounder.symbolicexecutor.state.NamedPureVar\",\"n\":\"a\"},{\"$type\":\"edu.colorado.plv.bounder.symbolicexecutor.state.NamedPureVar\",\"n\":\"f\"}],\"existQuant\":[],\"pred\":{\"$type\":\"edu.colorado.plv.bounder.lifestate.LifeState.Or\",\"l1\":{\"$type\":\"edu.colorado.plv.bounder.lifestate.LifeState.NS\",\"i1\":{\"$type\":\"edu.colorado.plv.bounder.lifestate.LifeState.OAbsMsg\",\"mt\":{\"$type\":\"edu.colorado.plv.bounder.ir.CBExit\"},\"signatures\":{\"$type\":\"edu.colorado.plv.bounder.lifestate.LifeState.SubClassMatcher\",\"baseSubtypeOf\":[\"android.app.Fragment\",\"androidx.fragment.app.Fragment\",\"android.support.v4.app.Fragment\"],\"signatureMatcher\":\"void onDestroy\\\\(\\\\)\",\"ident\":\"Fragment_onDestroy\"},\"lsVars\":[{\"$type\":\"edu.colorado.plv.bounder.symbolicexecutor.state.TopVal\"},{\"$type\":\"edu.colorado.plv.bounder.symbolicexecutor.state.NamedPureVar\",\"n\":\"f\"}]},\"i2\":{\"$type\":\"edu.colorado.plv.bounder.lifestate.LifeState.OAbsMsg\",\"mt\":{\"$type\":\"edu.colorado.plv.bounder.ir.CBEnter\"},\"signatures\":{\"$type\":\"edu.colorado.plv.bounder.lifestate.LifeState.SubClassMatcher\",\"baseSubtypeOf\":[\"android.app.Fragment\",\"androidx.fragment.app.Fragment\",\"android.support.v4.app.Fragment\"],\"signatureMatcher\":\"void onActivityCreated\\\\(android.os.Bundle\\\\)\",\"ident\":\"Fragment_onActivityCreated\"},\"lsVars\":[{\"$type\":\"edu.colorado.plv.bounder.symbolicexecutor.state.TopVal\"},{\"$type\":\"edu.colorado.plv.bounder.symbolicexecutor.state.NamedPureVar\",\"n\":\"f\"}]}},\"l2\":{\"$type\":\"edu.colorado.plv.bounder.lifestate.LifeState.Not\",\"p\":{\"$type\":\"edu.colorado.plv.bounder.lifestate.LifeState.OAbsMsg\",\"mt\":{\"$type\":\"edu.colorado.plv.bounder.ir.CBEnter\"},\"signatures\":{\"$type\":\"edu.colorado.plv.bounder.lifestate.LifeState.SubClassMatcher\",\"baseSubtypeOf\":[\"android.app.Fragment\",\"androidx.fragment.app.Fragment\",\"android.support.v4.app.Fragment\"],\"signatureMatcher\":\"void onActivityCreated\\\\(android.os.Bundle\\\\)\",\"ident\":\"Fragment_onActivityCreated\"},\"lsVars\":[{\"$type\":\"edu.colorado.plv.bounder.symbolicexecutor.state.TopVal\"},{\"$type\":\"edu.colorado.plv.bounder.symbolicexecutor.state.NamedPureVar\",\"n\":\"f\"}]}}},\"target\":{\"$type\":\"edu.colorado.plv.bounder.lifestate.LifeState.OAbsMsg\",\"mt\":{\"$type\":\"edu.colorado.plv.bounder.ir.CIExit\"},\"signatures\":{\"$type\":\"edu.colorado.plv.bounder.lifestate.LifeState.SubClassMatcher\",\"baseSubtypeOf\":[\"android.app.Fragment\",\"androidx.fragment.app.Fragment\",\"android.support.v4.app.Fragment\"],\"signatureMatcher\":\".*Activity getActivity\\\\(\\\\)\",\"ident\":\"Fragment_getActivity\"},\"lsVars\":[{\"$type\":\"edu.colorado.plv.bounder.symbolicexecutor.state.NamedPureVar\",\"n\":\"a\"},{\"$type\":\"edu.colorado.plv.bounder.symbolicexecutor.state.NamedPureVar\",\"n\":\"f\"}]},\"rhsConstraints\":[{\"$type\":\"edu.colorado.plv.bounder.lifestate.LifeState.LSConstraint\",\"v1\":{\"$type\":\"edu.colorado.plv.bounder.symbolicexecutor.state.NamedPureVar\",\"n\":\"a\"},\"op\":{\"$type\":\"edu.colorado.plv.bounder.symbolicexecutor.state.Equals\"},\"v2\":{\"$type\":\"edu.colorado.plv.bounder.symbolicexecutor.state.NullVal\"}}]},{\"univQuant\":[{\"$type\":\"edu.colorado.plv.bounder.symbolicexecutor.state.NamedPureVar\",\"n\":\"t\"}],\"existQuant\":[],\"pred\":{\"$type\":\"edu.colorado.plv.bounder.lifestate.LifeState.OAbsMsg\",\"mt\":{\"$type\":\"edu.colorado.plv.bounder.ir.CIExit\"},\"signatures\":{\"$type\":\"edu.colorado.plv.bounder.lifestate.LifeState.SubClassMatcher\",\"baseSubtypeOf\":[\"android.os.AsyncTask\"],\"signatureMatcher\":\".*AsyncTask execute\\\\(.*\\\\)\",\"ident\":\"AsyncTask_execute\"},\"lsVars\":[{\"$type\":\"edu.colorado.plv.bounder.symbolicexecutor.state.TopVal\"},{\"$type\":\"edu.colorado.plv.bounder.symbolicexecutor.state.NamedPureVar\",\"n\":\"t\"}]},\"target\":{\"$type\":\"edu.colorado.plv.bounder.lifestate.LifeState.OAbsMsg\",\"mt\":{\"$type\":\"edu.colorado.plv.bounder.ir.CIEnter\"},\"signatures\":{\"$type\":\"edu.colorado.plv.bounder.lifestate.LifeState.SubClassMatcher\",\"baseSubtypeOf\":[\"android.os.AsyncTask\"],\"signatureMatcher\":\".*AsyncTask execute\\\\(.*\\\\)\",\"ident\":\"AsyncTask_execute\"},\"lsVars\":[{\"$type\":\"edu.colorado.plv.bounder.symbolicexecutor.state.TopVal\"},{\"$type\":\"edu.colorado.plv.bounder.symbolicexecutor.state.NamedPureVar\",\"n\":\"t\"}]}},{\"univQuant\":[{\"$type\":\"edu.colorado.plv.bounder.symbolicexecutor.state.NamedPureVar\",\"n\":\"d\"}],\"existQuant\":[{\"$type\":\"edu.colorado.plv.bounder.symbolicexecutor.state.NamedPureVar\",\"n\":\"a\"}],\"pred\":{\"$type\":\"edu.colorado.plv.bounder.lifestate.LifeState.And\",\"l1\":{\"$type\":\"edu.colorado.plv.bounder.lifestate.LifeState.OAbsMsg\",\"mt\":{\"$type\":\"edu.colorado.plv.bounder.ir.CIExit\"},\"signatures\":{\"$type\":\"edu.colorado.plv.bounder.lifestate.LifeState.SubClassMatcher\",\"baseSubtypeOf\":[\"android.app.ProgressDialog\",\"android.app.Dialog\"],\"signatureMatcher\":\".*show.*\",\"ident\":\"Dialog_show\"},\"lsVars\":[{\"$type\":\"edu.colorado.plv.bounder.symbolicexecutor.state.NamedPureVar\",\"n\":\"d\"},{\"$type\":\"edu.colorado.plv.bounder.symbolicexecutor.state.TopVal\"},{\"$type\":\"edu.colorado.plv.bounder.symbolicexecutor.state.NamedPureVar\",\"n\":\"a\"}]},\"l2\":{\"$type\":\"edu.colorado.plv.bounder.lifestate.LifeState.Or\",\"l1\":{\"$type\":\"edu.colorado.plv.bounder.lifestate.LifeState.Not\",\"p\":{\"$type\":\"edu.colorado.plv.bounder.lifestate.LifeState.OAbsMsg\",\"mt\":{\"$type\":\"edu.colorado.plv.bounder.ir.CBEnter\"},\"signatures\":{\"$type\":\"edu.colorado.plv.bounder.lifestate.LifeState.SubClassMatcher\",\"baseSubtypeOf\":[\"android.app.Activity\",\"androidx.fragment.app.FragmentActivity\"],\"signatureMatcher\":\"void onResume\\\\(\\\\)\",\"ident\":\"Activity_onResume\"},\"lsVars\":[{\"$type\":\"edu.colorado.plv.bounder.symbolicexecutor.state.TopVal\"},{\"$type\":\"edu.colorado.plv.bounder.symbolicexecutor.state.NamedPureVar\",\"n\":\"a\"}]}},\"l2\":{\"$type\":\"edu.colorado.plv.bounder.lifestate.LifeState.NS\",\"i1\":{\"$type\":\"edu.colorado.plv.bounder.lifestate.LifeState.OAbsMsg\",\"mt\":{\"$type\":\"edu.colorado.plv.bounder.ir.CBExit\"},\"signatures\":{\"$type\":\"edu.colorado.plv.bounder.lifestate.LifeState.SubClassMatcher\",\"baseSubtypeOf\":[\"android.app.Activity\",\"androidx.fragment.app.FragmentActivity\"],\"signatureMatcher\":\"void onPause\\\\(\\\\)\",\"ident\":\"Activity_onPause\"},\"lsVars\":[{\"$type\":\"edu.colorado.plv.bounder.symbolicexecutor.state.TopVal\"},{\"$type\":\"edu.colorado.plv.bounder.symbolicexecutor.state.NamedPureVar\",\"n\":\"a\"}]},\"i2\":{\"$type\":\"edu.colorado.plv.bounder.lifestate.LifeState.OAbsMsg\",\"mt\":{\"$type\":\"edu.colorado.plv.bounder.ir.CBEnter\"},\"signatures\":{\"$type\":\"edu.colorado.plv.bounder.lifestate.LifeState.SubClassMatcher\",\"baseSubtypeOf\":[\"android.app.Activity\",\"androidx.fragment.app.FragmentActivity\"],\"signatureMatcher\":\"void onResume\\\\(\\\\)\",\"ident\":\"Activity_onResume\"},\"lsVars\":[{\"$type\":\"edu.colorado.plv.bounder.symbolicexecutor.state.TopVal\"},{\"$type\":\"edu.colorado.plv.bounder.symbolicexecutor.state.NamedPureVar\",\"n\":\"a\"}]}}}},\"target\":{\"$type\":\"edu.colorado.plv.bounder.lifestate.LifeState.OAbsMsg\",\"mt\":{\"$type\":\"edu.colorado.plv.bounder.ir.CIEnter\"},\"signatures\":{\"$type\":\"edu.colorado.plv.bounder.lifestate.LifeState.SubClassMatcher\",\"baseSubtypeOf\":[\"android.app.ProgressDialog\",\"android.app.Dialog\"],\"signatureMatcher\":\"void dismiss\\\\(\\\\)\",\"ident\":\"Dialog_dismiss\"},\"lsVars\":[{\"$type\":\"edu.colorado.plv.bounder.symbolicexecutor.state.TopVal\"},{\"$type\":\"edu.colorado.plv.bounder.symbolicexecutor.state.NamedPureVar\",\"n\":\"d\"}]}}]}",
        "tag": {
         "heuristicType": "SensitiveDerefFieldCausedSynch"
        },
        "timeLimit": 900
       },
       {
        "apkPath": "${baseDir}/fdroid/org.sipdroid.sipua/6.3beta/apk/org.sipdroid.sipua_134.apk",
        "configPath": [
         "/tmp/270335928576313844"
        ],
        "initialQuery": [
         {
          "className": "org.sipdroid.media.RtpStreamReceiver",
          "line": 807,
          "matcher": "void stopIncoming()",
          "methodName": "void run()",
          "t": "ReceiverNonNull"
         }
        ],
        "outFolder": [
         "${baseDirOut}/org.sipdroid.sipua"
        ],
        "specSet": "{\"specs\":[],\"disallow\":[{\"univQuant\":[{\"$type\":\"edu.colorado.plv.bounder.symbolicexecutor.state.NamedPureVar\",\"n\":\"a\"},{\"$type\":\"edu.colorado.plv.bounder.symbolicexecutor.state.NamedPureVar\",\"n\":\"f\"}],\"existQuant\":[],\"pred\":{\"$type\":\"edu.colorado.plv.bounder.lifestate.LifeState.Or\",\"l1\":{\"$type\":\"edu.colorado.plv.bounder.lifestate.LifeState.NS\",\"i1\":{\"$type\":\"edu.colorado.plv.bounder.lifestate.LifeState.OAbsMsg\",\"mt\":{\"$type\":\"edu.colorado.plv.bounder.ir.CBExit\"},\"signatures\":{\"$type\":\"edu.colorado.plv.bounder.lifestate.LifeState.SubClassMatcher\",\"baseSubtypeOf\":[\"android.app.Fragment\",\"androidx.fragment.app.Fragment\",\"android.support.v4.app.Fragment\"],\"signatureMatcher\":\"void onDestroy\\\\(\\\\)\",\"ident\":\"Fragment_onDestroy\"},\"lsVars\":[{\"$type\":\"edu.colorado.plv.bounder.symbolicexecutor.state.TopVal\"},{\"$type\":\"edu.colorado.plv.bounder.symbolicexecutor.state.NamedPureVar\",\"n\":\"f\"}]},\"i2\":{\"$type\":\"edu.colorado.plv.bounder.lifestate.LifeState.OAbsMsg\",\"mt\":{\"$type\":\"edu.colorado.plv.bounder.ir.CBEnter\"},\"signatures\":{\"$type\":\"edu.colorado.plv.bounder.lifestate.LifeState.SubClassMatcher\",\"baseSubtypeOf\":[\"android.app.Fragment\",\"androidx.fragment.app.Fragment\",\"android.support.v4.app.Fragment\"],\"signatureMatcher\":\"void onActivityCreated\\\\(android.os.Bundle\\\\)\",\"ident\":\"Fragment_onActivityCreated\"},\"lsVars\":[{\"$type\":\"edu.colorado.plv.bounder.symbolicexecutor.state.TopVal\"},{\"$type\":\"edu.colorado.plv.bounder.symbolicexecutor.state.NamedPureVar\",\"n\":\"f\"}]}},\"l2\":{\"$type\":\"edu.colorado.plv.bounder.lifestate.LifeState.Not\",\"p\":{\"$type\":\"edu.colorado.plv.bounder.lifestate.LifeState.OAbsMsg\",\"mt\":{\"$type\":\"edu.colorado.plv.bounder.ir.CBEnter\"},\"signatures\":{\"$type\":\"edu.colorado.plv.bounder.lifestate.LifeState.SubClassMatcher\",\"baseSubtypeOf\":[\"android.app.Fragment\",\"androidx.fragment.app.Fragment\",\"android.support.v4.app.Fragment\"],\"signatureMatcher\":\"void onActivityCreated\\\\(android.os.Bundle\\\\)\",\"ident\":\"Fragment_onActivityCreated\"},\"lsVars\":[{\"$type\":\"edu.colorado.plv.bounder.symbolicexecutor.state.TopVal\"},{\"$type\":\"edu.colorado.plv.bounder.symbolicexecutor.state.NamedPureVar\",\"n\":\"f\"}]}}},\"target\":{\"$type\":\"edu.colorado.plv.bounder.lifestate.LifeState.OAbsMsg\",\"mt\":{\"$type\":\"edu.colorado.plv.bounder.ir.CIExit\"},\"signatures\":{\"$type\":\"edu.colorado.plv.bounder.lifestate.LifeState.SubClassMatcher\",\"baseSubtypeOf\":[\"android.app.Fragment\",\"androidx.fragment.app.Fragment\",\"android.support.v4.app.Fragment\"],\"signatureMatcher\":\".*Activity getActivity\\\\(\\\\)\",\"ident\":\"Fragment_getActivity\"},\"lsVars\":[{\"$type\":\"edu.colorado.plv.bounder.symbolicexecutor.state.NamedPureVar\",\"n\":\"a\"},{\"$type\":\"edu.colorado.plv.bounder.symbolicexecutor.state.NamedPureVar\",\"n\":\"f\"}]},\"rhsConstraints\":[{\"$type\":\"edu.colorado.plv.bounder.lifestate.LifeState.LSConstraint\",\"v1\":{\"$type\":\"edu.colorado.plv.bounder.symbolicexecutor.state.NamedPureVar\",\"n\":\"a\"},\"op\":{\"$type\":\"edu.colorado.plv.bounder.symbolicexecutor.state.Equals\"},\"v2\":{\"$type\":\"edu.colorado.plv.bounder.symbolicexecutor.state.NullVal\"}}]},{\"univQuant\":[{\"$type\":\"edu.colorado.plv.bounder.symbolicexecutor.state.NamedPureVar\",\"n\":\"t\"}],\"existQuant\":[],\"pred\":{\"$type\":\"edu.colorado.plv.bounder.lifestate.LifeState.OAbsMsg\",\"mt\":{\"$type\":\"edu.colorado.plv.bounder.ir.CIExit\"},\"signatures\":{\"$type\":\"edu.colorado.plv.bounder.lifestate.LifeState.SubClassMatcher\",\"baseSubtypeOf\":[\"android.os.AsyncTask\"],\"signatureMatcher\":\".*AsyncTask execute\\\\(.*\\\\)\",\"ident\":\"AsyncTask_execute\"},\"lsVars\":[{\"$type\":\"edu.colorado.plv.bounder.symbolicexecutor.state.TopVal\"},{\"$type\":\"edu.colorado.plv.bounder.symbolicexecutor.state.NamedPureVar\",\"n\":\"t\"}]},\"target\":{\"$type\":\"edu.colorado.plv.bounder.lifestate.LifeState.OAbsMsg\",\"mt\":{\"$type\":\"edu.colorado.plv.bounder.ir.CIEnter\"},\"signatures\":{\"$type\":\"edu.colorado.plv.bounder.lifestate.LifeState.SubClassMatcher\",\"baseSubtypeOf\":[\"android.os.AsyncTask\"],\"signatureMatcher\":\".*AsyncTask execute\\\\(.*\\\\)\",\"ident\":\"AsyncTask_execute\"},\"lsVars\":[{\"$type\":\"edu.colorado.plv.bounder.symbolicexecutor.state.TopVal\"},{\"$type\":\"edu.colorado.plv.bounder.symbolicexecutor.state.NamedPureVar\",\"n\":\"t\"}]}},{\"univQuant\":[{\"$type\":\"edu.colorado.plv.bounder.symbolicexecutor.state.NamedPureVar\",\"n\":\"d\"}],\"existQuant\":[{\"$type\":\"edu.colorado.plv.bounder.symbolicexecutor.state.NamedPureVar\",\"n\":\"a\"}],\"pred\":{\"$type\":\"edu.colorado.plv.bounder.lifestate.LifeState.And\",\"l1\":{\"$type\":\"edu.colorado.plv.bounder.lifestate.LifeState.OAbsMsg\",\"mt\":{\"$type\":\"edu.colorado.plv.bounder.ir.CIExit\"},\"signatures\":{\"$type\":\"edu.colorado.plv.bounder.lifestate.LifeState.SubClassMatcher\",\"baseSubtypeOf\":[\"android.app.ProgressDialog\",\"android.app.Dialog\"],\"signatureMatcher\":\".*show.*\",\"ident\":\"Dialog_show\"},\"lsVars\":[{\"$type\":\"edu.colorado.plv.bounder.symbolicexecutor.state.NamedPureVar\",\"n\":\"d\"},{\"$type\":\"edu.colorado.plv.bounder.symbolicexecutor.state.TopVal\"},{\"$type\":\"edu.colorado.plv.bounder.symbolicexecutor.state.NamedPureVar\",\"n\":\"a\"}]},\"l2\":{\"$type\":\"edu.colorado.plv.bounder.lifestate.LifeState.Or\",\"l1\":{\"$type\":\"edu.colorado.plv.bounder.lifestate.LifeState.Not\",\"p\":{\"$type\":\"edu.colorado.plv.bounder.lifestate.LifeState.OAbsMsg\",\"mt\":{\"$type\":\"edu.colorado.plv.bounder.ir.CBEnter\"},\"signatures\":{\"$type\":\"edu.colorado.plv.bounder.lifestate.LifeState.SubClassMatcher\",\"baseSubtypeOf\":[\"android.app.Activity\",\"androidx.fragment.app.FragmentActivity\"],\"signatureMatcher\":\"void onResume\\\\(\\\\)\",\"ident\":\"Activity_onResume\"},\"lsVars\":[{\"$type\":\"edu.colorado.plv.bounder.symbolicexecutor.state.TopVal\"},{\"$type\":\"edu.colorado.plv.bounder.symbolicexecutor.state.NamedPureVar\",\"n\":\"a\"}]}},\"l2\":{\"$type\":\"edu.colorado.plv.bounder.lifestate.LifeState.NS\",\"i1\":{\"$type\":\"edu.colorado.plv.bounder.lifestate.LifeState.OAbsMsg\",\"mt\":{\"$type\":\"edu.colorado.plv.bounder.ir.CBExit\"},\"signatures\":{\"$type\":\"edu.colorado.plv.bounder.lifestate.LifeState.SubClassMatcher\",\"baseSubtypeOf\":[\"android.app.Activity\",\"androidx.fragment.app.FragmentActivity\"],\"signatureMatcher\":\"void onPause\\\\(\\\\)\",\"ident\":\"Activity_onPause\"},\"lsVars\":[{\"$type\":\"edu.colorado.plv.bounder.symbolicexecutor.state.TopVal\"},{\"$type\":\"edu.colorado.plv.bounder.symbolicexecutor.state.NamedPureVar\",\"n\":\"a\"}]},\"i2\":{\"$type\":\"edu.colorado.plv.bounder.lifestate.LifeState.OAbsMsg\",\"mt\":{\"$type\":\"edu.colorado.plv.bounder.ir.CBEnter\"},\"signatures\":{\"$type\":\"edu.colorado.plv.bounder.lifestate.LifeState.SubClassMatcher\",\"baseSubtypeOf\":[\"android.app.Activity\",\"androidx.fragment.app.FragmentActivity\"],\"signatureMatcher\":\"void onResume\\\\(\\\\)\",\"ident\":\"Activity_onResume\"},\"lsVars\":[{\"$type\":\"edu.colorado.plv.bounder.symbolicexecutor.state.TopVal\"},{\"$type\":\"edu.colorado.plv.bounder.symbolicexecutor.state.NamedPureVar\",\"n\":\"a\"}]}}}},\"target\":{\"$type\":\"edu.colorado.plv.bounder.lifestate.LifeState.OAbsMsg\",\"mt\":{\"$type\":\"edu.colorado.plv.bounder.ir.CIEnter\"},\"signatures\":{\"$type\":\"edu.colorado.plv.bounder.lifestate.LifeState.SubClassMatcher\",\"baseSubtypeOf\":[\"android.app.ProgressDialog\",\"android.app.Dialog\"],\"signatureMatcher\":\"void dismiss\\\\(\\\\)\",\"ident\":\"Dialog_dismiss\"},\"lsVars\":[{\"$type\":\"edu.colorado.plv.bounder.symbolicexecutor.state.TopVal\"},{\"$type\":\"edu.colorado.plv.bounder.symbolicexecutor.state.NamedPureVar\",\"n\":\"d\"}]}}]}",
        "tag": {
         "heuristicType": "SensitiveDerefFieldCausedSynch"
        },
        "timeLimit": 900
       },
       {
        "apkPath": "${baseDir}/fdroid/com.ubergeek42.WeechatAndroid/1.8.1/apk/com.ubergeek42.WeechatAndroid_10801.apk",
        "configPath": [
         "/tmp/8820395083434005566"
        ],
        "initialQuery": [
         {
          "className": "com.ubergeek42.WeechatAndroid.fragments.BufferFragment$$ExternalSyntheticLambda7",
          "line": 48,
          "matcher": "chatLines",
          "methodName": "void run()",
          "t": "ReceiverNonNull"
         }
        ],
        "outFolder": [
         "${baseDirOut}/com.ubergeek42.WeechatAndroid"
        ],
        "specSet": "{\"specs\":[],\"disallow\":[{\"univQuant\":[{\"$type\":\"edu.colorado.plv.bounder.symbolicexecutor.state.NamedPureVar\",\"n\":\"a\"},{\"$type\":\"edu.colorado.plv.bounder.symbolicexecutor.state.NamedPureVar\",\"n\":\"f\"}],\"existQuant\":[],\"pred\":{\"$type\":\"edu.colorado.plv.bounder.lifestate.LifeState.Or\",\"l1\":{\"$type\":\"edu.colorado.plv.bounder.lifestate.LifeState.NS\",\"i1\":{\"$type\":\"edu.colorado.plv.bounder.lifestate.LifeState.OAbsMsg\",\"mt\":{\"$type\":\"edu.colorado.plv.bounder.ir.CBExit\"},\"signatures\":{\"$type\":\"edu.colorado.plv.bounder.lifestate.LifeState.SubClassMatcher\",\"baseSubtypeOf\":[\"android.app.Fragment\",\"androidx.fragment.app.Fragment\",\"android.support.v4.app.Fragment\"],\"signatureMatcher\":\"void onDestroy\\\\(\\\\)\",\"ident\":\"Fragment_onDestroy\"},\"lsVars\":[{\"$type\":\"edu.colorado.plv.bounder.symbolicexecutor.state.TopVal\"},{\"$type\":\"edu.colorado.plv.bounder.symbolicexecutor.state.NamedPureVar\",\"n\":\"f\"}]},\"i2\":{\"$type\":\"edu.colorado.plv.bounder.lifestate.LifeState.OAbsMsg\",\"mt\":{\"$type\":\"edu.colorado.plv.bounder.ir.CBEnter\"},\"signatures\":{\"$type\":\"edu.colorado.plv.bounder.lifestate.LifeState.SubClassMatcher\",\"baseSubtypeOf\":[\"android.app.Fragment\",\"androidx.fragment.app.Fragment\",\"android.support.v4.app.Fragment\"],\"signatureMatcher\":\"void onActivityCreated\\\\(android.os.Bundle\\\\)\",\"ident\":\"Fragment_onActivityCreated\"},\"lsVars\":[{\"$type\":\"edu.colorado.plv.bounder.symbolicexecutor.state.TopVal\"},{\"$type\":\"edu.colorado.plv.bounder.symbolicexecutor.state.NamedPureVar\",\"n\":\"f\"}]}},\"l2\":{\"$type\":\"edu.colorado.plv.bounder.lifestate.LifeState.Not\",\"p\":{\"$type\":\"edu.colorado.plv.bounder.lifestate.LifeState.OAbsMsg\",\"mt\":{\"$type\":\"edu.colorado.plv.bounder.ir.CBEnter\"},\"signatures\":{\"$type\":\"edu.colorado.plv.bounder.lifestate.LifeState.SubClassMatcher\",\"baseSubtypeOf\":[\"android.app.Fragment\",\"androidx.fragment.app.Fragment\",\"android.support.v4.app.Fragment\"],\"signatureMatcher\":\"void onActivityCreated\\\\(android.os.Bundle\\\\)\",\"ident\":\"Fragment_onActivityCreated\"},\"lsVars\":[{\"$type\":\"edu.colorado.plv.bounder.symbolicexecutor.state.TopVal\"},{\"$type\":\"edu.colorado.plv.bounder.symbolicexecutor.state.NamedPureVar\",\"n\":\"f\"}]}}},\"target\":{\"$type\":\"edu.colorado.plv.bounder.lifestate.LifeState.OAbsMsg\",\"mt\":{\"$type\":\"edu.colorado.plv.bounder.ir.CIExit\"},\"signatures\":{\"$type\":\"edu.colorado.plv.bounder.lifestate.LifeState.SubClassMatcher\",\"baseSubtypeOf\":[\"android.app.Fragment\",\"androidx.fragment.app.Fragment\",\"android.support.v4.app.Fragment\"],\"signatureMatcher\":\".*Activity getActivity\\\\(\\\\)\",\"ident\":\"Fragment_getActivity\"},\"lsVars\":[{\"$type\":\"edu.colorado.plv.bounder.symbolicexecutor.state.NamedPureVar\",\"n\":\"a\"},{\"$type\":\"edu.colorado.plv.bounder.symbolicexecutor.state.NamedPureVar\",\"n\":\"f\"}]},\"rhsConstraints\":[{\"$type\":\"edu.colorado.plv.bounder.lifestate.LifeState.LSConstraint\",\"v1\":{\"$type\":\"edu.colorado.plv.bounder.symbolicexecutor.state.NamedPureVar\",\"n\":\"a\"},\"op\":{\"$type\":\"edu.colorado.plv.bounder.symbolicexecutor.state.Equals\"},\"v2\":{\"$type\":\"edu.colorado.plv.bounder.symbolicexecutor.state.NullVal\"}}]},{\"univQuant\":[{\"$type\":\"edu.colorado.plv.bounder.symbolicexecutor.state.NamedPureVar\",\"n\":\"t\"}],\"existQuant\":[],\"pred\":{\"$type\":\"edu.colorado.plv.bounder.lifestate.LifeState.OAbsMsg\",\"mt\":{\"$type\":\"edu.colorado.plv.bounder.ir.CIExit\"},\"signatures\":{\"$type\":\"edu.colorado.plv.bounder.lifestate.LifeState.SubClassMatcher\",\"baseSubtypeOf\":[\"android.os.AsyncTask\"],\"signatureMatcher\":\".*AsyncTask execute\\\\(.*\\\\)\",\"ident\":\"AsyncTask_execute\"},\"lsVars\":[{\"$type\":\"edu.colorado.plv.bounder.symbolicexecutor.state.TopVal\"},{\"$type\":\"edu.colorado.plv.bounder.symbolicexecutor.state.NamedPureVar\",\"n\":\"t\"}]},\"target\":{\"$type\":\"edu.colorado.plv.bounder.lifestate.LifeState.OAbsMsg\",\"mt\":{\"$type\":\"edu.colorado.plv.bounder.ir.CIEnter\"},\"signatures\":{\"$type\":\"edu.colorado.plv.bounder.lifestate.LifeState.SubClassMatcher\",\"baseSubtypeOf\":[\"android.os.AsyncTask\"],\"signatureMatcher\":\".*AsyncTask execute\\\\(.*\\\\)\",\"ident\":\"AsyncTask_execute\"},\"lsVars\":[{\"$type\":\"edu.colorado.plv.bounder.symbolicexecutor.state.TopVal\"},{\"$type\":\"edu.colorado.plv.bounder.symbolicexecutor.state.NamedPureVar\",\"n\":\"t\"}]}},{\"univQuant\":[{\"$type\":\"edu.colorado.plv.bounder.symbolicexecutor.state.NamedPureVar\",\"n\":\"d\"}],\"existQuant\":[{\"$type\":\"edu.colorado.plv.bounder.symbolicexecutor.state.NamedPureVar\",\"n\":\"a\"}],\"pred\":{\"$type\":\"edu.colorado.plv.bounder.lifestate.LifeState.And\",\"l1\":{\"$type\":\"edu.colorado.plv.bounder.lifestate.LifeState.OAbsMsg\",\"mt\":{\"$type\":\"edu.colorado.plv.bounder.ir.CIExit\"},\"signatures\":{\"$type\":\"edu.colorado.plv.bounder.lifestate.LifeState.SubClassMatcher\",\"baseSubtypeOf\":[\"android.app.ProgressDialog\",\"android.app.Dialog\"],\"signatureMatcher\":\".*show.*\",\"ident\":\"Dialog_show\"},\"lsVars\":[{\"$type\":\"edu.colorado.plv.bounder.symbolicexecutor.state.NamedPureVar\",\"n\":\"d\"},{\"$type\":\"edu.colorado.plv.bounder.symbolicexecutor.state.TopVal\"},{\"$type\":\"edu.colorado.plv.bounder.symbolicexecutor.state.NamedPureVar\",\"n\":\"a\"}]},\"l2\":{\"$type\":\"edu.colorado.plv.bounder.lifestate.LifeState.Or\",\"l1\":{\"$type\":\"edu.colorado.plv.bounder.lifestate.LifeState.Not\",\"p\":{\"$type\":\"edu.colorado.plv.bounder.lifestate.LifeState.OAbsMsg\",\"mt\":{\"$type\":\"edu.colorado.plv.bounder.ir.CBEnter\"},\"signatures\":{\"$type\":\"edu.colorado.plv.bounder.lifestate.LifeState.SubClassMatcher\",\"baseSubtypeOf\":[\"android.app.Activity\",\"androidx.fragment.app.FragmentActivity\"],\"signatureMatcher\":\"void onResume\\\\(\\\\)\",\"ident\":\"Activity_onResume\"},\"lsVars\":[{\"$type\":\"edu.colorado.plv.bounder.symbolicexecutor.state.TopVal\"},{\"$type\":\"edu.colorado.plv.bounder.symbolicexecutor.state.NamedPureVar\",\"n\":\"a\"}]}},\"l2\":{\"$type\":\"edu.colorado.plv.bounder.lifestate.LifeState.NS\",\"i1\":{\"$type\":\"edu.colorado.plv.bounder.lifestate.LifeState.OAbsMsg\",\"mt\":{\"$type\":\"edu.colorado.plv.bounder.ir.CBExit\"},\"signatures\":{\"$type\":\"edu.colorado.plv.bounder.lifestate.LifeState.SubClassMatcher\",\"baseSubtypeOf\":[\"android.app.Activity\",\"androidx.fragment.app.FragmentActivity\"],\"signatureMatcher\":\"void onPause\\\\(\\\\)\",\"ident\":\"Activity_onPause\"},\"lsVars\":[{\"$type\":\"edu.colorado.plv.bounder.symbolicexecutor.state.TopVal\"},{\"$type\":\"edu.colorado.plv.bounder.symbolicexecutor.state.NamedPureVar\",\"n\":\"a\"}]},\"i2\":{\"$type\":\"edu.colorado.plv.bounder.lifestate.LifeState.OAbsMsg\",\"mt\":{\"$type\":\"edu.colorado.plv.bounder.ir.CBEnter\"},\"signatures\":{\"$type\":\"edu.colorado.plv.bounder.lifestate.LifeState.SubClassMatcher\",\"baseSubtypeOf\":[\"android.app.Activity\",\"androidx.fragment.app.FragmentActivity\"],\"signatureMatcher\":\"void onResume\\\\(\\\\)\",\"ident\":\"Activity_onResume\"},\"lsVars\":[{\"$type\":\"edu.colorado.plv.bounder.symbolicexecutor.state.TopVal\"},{\"$type\":\"edu.colorado.plv.bounder.symbolicexecutor.state.NamedPureVar\",\"n\":\"a\"}]}}}},\"target\":{\"$type\":\"edu.colorado.plv.bounder.lifestate.LifeState.OAbsMsg\",\"mt\":{\"$type\":\"edu.colorado.plv.bounder.ir.CIEnter\"},\"signatures\":{\"$type\":\"edu.colorado.plv.bounder.lifestate.LifeState.SubClassMatcher\",\"baseSubtypeOf\":[\"android.app.ProgressDialog\",\"android.app.Dialog\"],\"signatureMatcher\":\"void dismiss\\\\(\\\\)\",\"ident\":\"Dialog_dismiss\"},\"lsVars\":[{\"$type\":\"edu.colorado.plv.bounder.symbolicexecutor.state.TopVal\"},{\"$type\":\"edu.colorado.plv.bounder.symbolicexecutor.state.NamedPureVar\",\"n\":\"d\"}]}}]}",
        "tag": {
         "heuristicType": "SensitiveDerefFieldCausedSynch"
        },
        "timeLimit": 900
       },
       {
        "apkPath": "${baseDir}/fdroid/be.digitalia.fosdem/2.1.1/apk/be.digitalia.fosdem_1900211.apk",
        "configPath": [
         "/tmp/1616220754643788746"
        ],
        "initialQuery": [
         {
          "className": "e.C",
          "line": 50,
          "matcher": "void b()",
          "methodName": "void run()",
          "t": "ReceiverNonNull"
         }
        ],
        "outFolder": [
         "${baseDirOut}/be.digitalia.fosdem"
        ],
        "specSet": "{\"specs\":[],\"disallow\":[{\"univQuant\":[{\"$type\":\"edu.colorado.plv.bounder.symbolicexecutor.state.NamedPureVar\",\"n\":\"a\"},{\"$type\":\"edu.colorado.plv.bounder.symbolicexecutor.state.NamedPureVar\",\"n\":\"f\"}],\"existQuant\":[],\"pred\":{\"$type\":\"edu.colorado.plv.bounder.lifestate.LifeState.Or\",\"l1\":{\"$type\":\"edu.colorado.plv.bounder.lifestate.LifeState.NS\",\"i1\":{\"$type\":\"edu.colorado.plv.bounder.lifestate.LifeState.OAbsMsg\",\"mt\":{\"$type\":\"edu.colorado.plv.bounder.ir.CBExit\"},\"signatures\":{\"$type\":\"edu.colorado.plv.bounder.lifestate.LifeState.SubClassMatcher\",\"baseSubtypeOf\":[\"android.app.Fragment\",\"androidx.fragment.app.Fragment\",\"android.support.v4.app.Fragment\"],\"signatureMatcher\":\"void onDestroy\\\\(\\\\)\",\"ident\":\"Fragment_onDestroy\"},\"lsVars\":[{\"$type\":\"edu.colorado.plv.bounder.symbolicexecutor.state.TopVal\"},{\"$type\":\"edu.colorado.plv.bounder.symbolicexecutor.state.NamedPureVar\",\"n\":\"f\"}]},\"i2\":{\"$type\":\"edu.colorado.plv.bounder.lifestate.LifeState.OAbsMsg\",\"mt\":{\"$type\":\"edu.colorado.plv.bounder.ir.CBEnter\"},\"signatures\":{\"$type\":\"edu.colorado.plv.bounder.lifestate.LifeState.SubClassMatcher\",\"baseSubtypeOf\":[\"android.app.Fragment\",\"androidx.fragment.app.Fragment\",\"android.support.v4.app.Fragment\"],\"signatureMatcher\":\"void onActivityCreated\\\\(android.os.Bundle\\\\)\",\"ident\":\"Fragment_onActivityCreated\"},\"lsVars\":[{\"$type\":\"edu.colorado.plv.bounder.symbolicexecutor.state.TopVal\"},{\"$type\":\"edu.colorado.plv.bounder.symbolicexecutor.state.NamedPureVar\",\"n\":\"f\"}]}},\"l2\":{\"$type\":\"edu.colorado.plv.bounder.lifestate.LifeState.Not\",\"p\":{\"$type\":\"edu.colorado.plv.bounder.lifestate.LifeState.OAbsMsg\",\"mt\":{\"$type\":\"edu.colorado.plv.bounder.ir.CBEnter\"},\"signatures\":{\"$type\":\"edu.colorado.plv.bounder.lifestate.LifeState.SubClassMatcher\",\"baseSubtypeOf\":[\"android.app.Fragment\",\"androidx.fragment.app.Fragment\",\"android.support.v4.app.Fragment\"],\"signatureMatcher\":\"void onActivityCreated\\\\(android.os.Bundle\\\\)\",\"ident\":\"Fragment_onActivityCreated\"},\"lsVars\":[{\"$type\":\"edu.colorado.plv.bounder.symbolicexecutor.state.TopVal\"},{\"$type\":\"edu.colorado.plv.bounder.symbolicexecutor.state.NamedPureVar\",\"n\":\"f\"}]}}},\"target\":{\"$type\":\"edu.colorado.plv.bounder.lifestate.LifeState.OAbsMsg\",\"mt\":{\"$type\":\"edu.colorado.plv.bounder.ir.CIExit\"},\"signatures\":{\"$type\":\"edu.colorado.plv.bounder.lifestate.LifeState.SubClassMatcher\",\"baseSubtypeOf\":[\"android.app.Fragment\",\"androidx.fragment.app.Fragment\",\"android.support.v4.app.Fragment\"],\"signatureMatcher\":\".*Activity getActivity\\\\(\\\\)\",\"ident\":\"Fragment_getActivity\"},\"lsVars\":[{\"$type\":\"edu.colorado.plv.bounder.symbolicexecutor.state.NamedPureVar\",\"n\":\"a\"},{\"$type\":\"edu.colorado.plv.bounder.symbolicexecutor.state.NamedPureVar\",\"n\":\"f\"}]},\"rhsConstraints\":[{\"$type\":\"edu.colorado.plv.bounder.lifestate.LifeState.LSConstraint\",\"v1\":{\"$type\":\"edu.colorado.plv.bounder.symbolicexecutor.state.NamedPureVar\",\"n\":\"a\"},\"op\":{\"$type\":\"edu.colorado.plv.bounder.symbolicexecutor.state.Equals\"},\"v2\":{\"$type\":\"edu.colorado.plv.bounder.symbolicexecutor.state.NullVal\"}}]},{\"univQuant\":[{\"$type\":\"edu.colorado.plv.bounder.symbolicexecutor.state.NamedPureVar\",\"n\":\"t\"}],\"existQuant\":[],\"pred\":{\"$type\":\"edu.colorado.plv.bounder.lifestate.LifeState.OAbsMsg\",\"mt\":{\"$type\":\"edu.colorado.plv.bounder.ir.CIExit\"},\"signatures\":{\"$type\":\"edu.colorado.plv.bounder.lifestate.LifeState.SubClassMatcher\",\"baseSubtypeOf\":[\"android.os.AsyncTask\"],\"signatureMatcher\":\".*AsyncTask execute\\\\(.*\\\\)\",\"ident\":\"AsyncTask_execute\"},\"lsVars\":[{\"$type\":\"edu.colorado.plv.bounder.symbolicexecutor.state.TopVal\"},{\"$type\":\"edu.colorado.plv.bounder.symbolicexecutor.state.NamedPureVar\",\"n\":\"t\"}]},\"target\":{\"$type\":\"edu.colorado.plv.bounder.lifestate.LifeState.OAbsMsg\",\"mt\":{\"$type\":\"edu.colorado.plv.bounder.ir.CIEnter\"},\"signatures\":{\"$type\":\"edu.colorado.plv.bounder.lifestate.LifeState.SubClassMatcher\",\"baseSubtypeOf\":[\"android.os.AsyncTask\"],\"signatureMatcher\":\".*AsyncTask execute\\\\(.*\\\\)\",\"ident\":\"AsyncTask_execute\"},\"lsVars\":[{\"$type\":\"edu.colorado.plv.bounder.symbolicexecutor.state.TopVal\"},{\"$type\":\"edu.colorado.plv.bounder.symbolicexecutor.state.NamedPureVar\",\"n\":\"t\"}]}},{\"univQuant\":[{\"$type\":\"edu.colorado.plv.bounder.symbolicexecutor.state.NamedPureVar\",\"n\":\"d\"}],\"existQuant\":[{\"$type\":\"edu.colorado.plv.bounder.symbolicexecutor.state.NamedPureVar\",\"n\":\"a\"}],\"pred\":{\"$type\":\"edu.colorado.plv.bounder.lifestate.LifeState.And\",\"l1\":{\"$type\":\"edu.colorado.plv.bounder.lifestate.LifeState.OAbsMsg\",\"mt\":{\"$type\":\"edu.colorado.plv.bounder.ir.CIExit\"},\"signatures\":{\"$type\":\"edu.colorado.plv.bounder.lifestate.LifeState.SubClassMatcher\",\"baseSubtypeOf\":[\"android.app.ProgressDialog\",\"android.app.Dialog\"],\"signatureMatcher\":\".*show.*\",\"ident\":\"Dialog_show\"},\"lsVars\":[{\"$type\":\"edu.colorado.plv.bounder.symbolicexecutor.state.NamedPureVar\",\"n\":\"d\"},{\"$type\":\"edu.colorado.plv.bounder.symbolicexecutor.state.TopVal\"},{\"$type\":\"edu.colorado.plv.bounder.symbolicexecutor.state.NamedPureVar\",\"n\":\"a\"}]},\"l2\":{\"$type\":\"edu.colorado.plv.bounder.lifestate.LifeState.Or\",\"l1\":{\"$type\":\"edu.colorado.plv.bounder.lifestate.LifeState.Not\",\"p\":{\"$type\":\"edu.colorado.plv.bounder.lifestate.LifeState.OAbsMsg\",\"mt\":{\"$type\":\"edu.colorado.plv.bounder.ir.CBEnter\"},\"signatures\":{\"$type\":\"edu.colorado.plv.bounder.lifestate.LifeState.SubClassMatcher\",\"baseSubtypeOf\":[\"android.app.Activity\",\"androidx.fragment.app.FragmentActivity\"],\"signatureMatcher\":\"void onResume\\\\(\\\\)\",\"ident\":\"Activity_onResume\"},\"lsVars\":[{\"$type\":\"edu.colorado.plv.bounder.symbolicexecutor.state.TopVal\"},{\"$type\":\"edu.colorado.plv.bounder.symbolicexecutor.state.NamedPureVar\",\"n\":\"a\"}]}},\"l2\":{\"$type\":\"edu.colorado.plv.bounder.lifestate.LifeState.NS\",\"i1\":{\"$type\":\"edu.colorado.plv.bounder.lifestate.LifeState.OAbsMsg\",\"mt\":{\"$type\":\"edu.colorado.plv.bounder.ir.CBExit\"},\"signatures\":{\"$type\":\"edu.colorado.plv.bounder.lifestate.LifeState.SubClassMatcher\",\"baseSubtypeOf\":[\"android.app.Activity\",\"androidx.fragment.app.FragmentActivity\"],\"signatureMatcher\":\"void onPause\\\\(\\\\)\",\"ident\":\"Activity_onPause\"},\"lsVars\":[{\"$type\":\"edu.colorado.plv.bounder.symbolicexecutor.state.TopVal\"},{\"$type\":\"edu.colorado.plv.bounder.symbolicexecutor.state.NamedPureVar\",\"n\":\"a\"}]},\"i2\":{\"$type\":\"edu.colorado.plv.bounder.lifestate.LifeState.OAbsMsg\",\"mt\":{\"$type\":\"edu.colorado.plv.bounder.ir.CBEnter\"},\"signatures\":{\"$type\":\"edu.colorado.plv.bounder.lifestate.LifeState.SubClassMatcher\",\"baseSubtypeOf\":[\"android.app.Activity\",\"androidx.fragment.app.FragmentActivity\"],\"signatureMatcher\":\"void onResume\\\\(\\\\)\",\"ident\":\"Activity_onResume\"},\"lsVars\":[{\"$type\":\"edu.colorado.plv.bounder.symbolicexecutor.state.TopVal\"},{\"$type\":\"edu.colorado.plv.bounder.symbolicexecutor.state.NamedPureVar\",\"n\":\"a\"}]}}}},\"target\":{\"$type\":\"edu.colorado.plv.bounder.lifestate.LifeState.OAbsMsg\",\"mt\":{\"$type\":\"edu.colorado.plv.bounder.ir.CIEnter\"},\"signatures\":{\"$type\":\"edu.colorado.plv.bounder.lifestate.LifeState.SubClassMatcher\",\"baseSubtypeOf\":[\"android.app.ProgressDialog\",\"android.app.Dialog\"],\"signatureMatcher\":\"void dismiss\\\\(\\\\)\",\"ident\":\"Dialog_dismiss\"},\"lsVars\":[{\"$type\":\"edu.colorado.plv.bounder.symbolicexecutor.state.TopVal\"},{\"$type\":\"edu.colorado.plv.bounder.symbolicexecutor.state.NamedPureVar\",\"n\":\"d\"}]}}]}",
        "tag": {
         "heuristicType": "SensitiveDerefFieldCausedSynch"
        },
        "timeLimit": 900
       },
       {
        "apkPath": "${baseDir}/fdroid/org.sipdroid.sipua/6.3beta/apk/org.sipdroid.sipua_134.apk",
        "configPath": [
         "/tmp/270335928576313844"
        ],
        "initialQuery": [
         {
          "className": "org.sipdroid.media.RtpStreamSender",
          "line": 539,
          "matcher": "void stopOutgoing()",
          "methodName": "void run()",
          "t": "ReceiverNonNull"
         }
        ],
        "outFolder": [
         "${baseDirOut}/org.sipdroid.sipua"
        ],
        "specSet": "{\"specs\":[],\"disallow\":[{\"univQuant\":[{\"$type\":\"edu.colorado.plv.bounder.symbolicexecutor.state.NamedPureVar\",\"n\":\"a\"},{\"$type\":\"edu.colorado.plv.bounder.symbolicexecutor.state.NamedPureVar\",\"n\":\"f\"}],\"existQuant\":[],\"pred\":{\"$type\":\"edu.colorado.plv.bounder.lifestate.LifeState.Or\",\"l1\":{\"$type\":\"edu.colorado.plv.bounder.lifestate.LifeState.NS\",\"i1\":{\"$type\":\"edu.colorado.plv.bounder.lifestate.LifeState.OAbsMsg\",\"mt\":{\"$type\":\"edu.colorado.plv.bounder.ir.CBExit\"},\"signatures\":{\"$type\":\"edu.colorado.plv.bounder.lifestate.LifeState.SubClassMatcher\",\"baseSubtypeOf\":[\"android.app.Fragment\",\"androidx.fragment.app.Fragment\",\"android.support.v4.app.Fragment\"],\"signatureMatcher\":\"void onDestroy\\\\(\\\\)\",\"ident\":\"Fragment_onDestroy\"},\"lsVars\":[{\"$type\":\"edu.colorado.plv.bounder.symbolicexecutor.state.TopVal\"},{\"$type\":\"edu.colorado.plv.bounder.symbolicexecutor.state.NamedPureVar\",\"n\":\"f\"}]},\"i2\":{\"$type\":\"edu.colorado.plv.bounder.lifestate.LifeState.OAbsMsg\",\"mt\":{\"$type\":\"edu.colorado.plv.bounder.ir.CBEnter\"},\"signatures\":{\"$type\":\"edu.colorado.plv.bounder.lifestate.LifeState.SubClassMatcher\",\"baseSubtypeOf\":[\"android.app.Fragment\",\"androidx.fragment.app.Fragment\",\"android.support.v4.app.Fragment\"],\"signatureMatcher\":\"void onActivityCreated\\\\(android.os.Bundle\\\\)\",\"ident\":\"Fragment_onActivityCreated\"},\"lsVars\":[{\"$type\":\"edu.colorado.plv.bounder.symbolicexecutor.state.TopVal\"},{\"$type\":\"edu.colorado.plv.bounder.symbolicexecutor.state.NamedPureVar\",\"n\":\"f\"}]}},\"l2\":{\"$type\":\"edu.colorado.plv.bounder.lifestate.LifeState.Not\",\"p\":{\"$type\":\"edu.colorado.plv.bounder.lifestate.LifeState.OAbsMsg\",\"mt\":{\"$type\":\"edu.colorado.plv.bounder.ir.CBEnter\"},\"signatures\":{\"$type\":\"edu.colorado.plv.bounder.lifestate.LifeState.SubClassMatcher\",\"baseSubtypeOf\":[\"android.app.Fragment\",\"androidx.fragment.app.Fragment\",\"android.support.v4.app.Fragment\"],\"signatureMatcher\":\"void onActivityCreated\\\\(android.os.Bundle\\\\)\",\"ident\":\"Fragment_onActivityCreated\"},\"lsVars\":[{\"$type\":\"edu.colorado.plv.bounder.symbolicexecutor.state.TopVal\"},{\"$type\":\"edu.colorado.plv.bounder.symbolicexecutor.state.NamedPureVar\",\"n\":\"f\"}]}}},\"target\":{\"$type\":\"edu.colorado.plv.bounder.lifestate.LifeState.OAbsMsg\",\"mt\":{\"$type\":\"edu.colorado.plv.bounder.ir.CIExit\"},\"signatures\":{\"$type\":\"edu.colorado.plv.bounder.lifestate.LifeState.SubClassMatcher\",\"baseSubtypeOf\":[\"android.app.Fragment\",\"androidx.fragment.app.Fragment\",\"android.support.v4.app.Fragment\"],\"signatureMatcher\":\".*Activity getActivity\\\\(\\\\)\",\"ident\":\"Fragment_getActivity\"},\"lsVars\":[{\"$type\":\"edu.colorado.plv.bounder.symbolicexecutor.state.NamedPureVar\",\"n\":\"a\"},{\"$type\":\"edu.colorado.plv.bounder.symbolicexecutor.state.NamedPureVar\",\"n\":\"f\"}]},\"rhsConstraints\":[{\"$type\":\"edu.colorado.plv.bounder.lifestate.LifeState.LSConstraint\",\"v1\":{\"$type\":\"edu.colorado.plv.bounder.symbolicexecutor.state.NamedPureVar\",\"n\":\"a\"},\"op\":{\"$type\":\"edu.colorado.plv.bounder.symbolicexecutor.state.Equals\"},\"v2\":{\"$type\":\"edu.colorado.plv.bounder.symbolicexecutor.state.NullVal\"}}]},{\"univQuant\":[{\"$type\":\"edu.colorado.plv.bounder.symbolicexecutor.state.NamedPureVar\",\"n\":\"t\"}],\"existQuant\":[],\"pred\":{\"$type\":\"edu.colorado.plv.bounder.lifestate.LifeState.OAbsMsg\",\"mt\":{\"$type\":\"edu.colorado.plv.bounder.ir.CIExit\"},\"signatures\":{\"$type\":\"edu.colorado.plv.bounder.lifestate.LifeState.SubClassMatcher\",\"baseSubtypeOf\":[\"android.os.AsyncTask\"],\"signatureMatcher\":\".*AsyncTask execute\\\\(.*\\\\)\",\"ident\":\"AsyncTask_execute\"},\"lsVars\":[{\"$type\":\"edu.colorado.plv.bounder.symbolicexecutor.state.TopVal\"},{\"$type\":\"edu.colorado.plv.bounder.symbolicexecutor.state.NamedPureVar\",\"n\":\"t\"}]},\"target\":{\"$type\":\"edu.colorado.plv.bounder.lifestate.LifeState.OAbsMsg\",\"mt\":{\"$type\":\"edu.colorado.plv.bounder.ir.CIEnter\"},\"signatures\":{\"$type\":\"edu.colorado.plv.bounder.lifestate.LifeState.SubClassMatcher\",\"baseSubtypeOf\":[\"android.os.AsyncTask\"],\"signatureMatcher\":\".*AsyncTask execute\\\\(.*\\\\)\",\"ident\":\"AsyncTask_execute\"},\"lsVars\":[{\"$type\":\"edu.colorado.plv.bounder.symbolicexecutor.state.TopVal\"},{\"$type\":\"edu.colorado.plv.bounder.symbolicexecutor.state.NamedPureVar\",\"n\":\"t\"}]}},{\"univQuant\":[{\"$type\":\"edu.colorado.plv.bounder.symbolicexecutor.state.NamedPureVar\",\"n\":\"d\"}],\"existQuant\":[{\"$type\":\"edu.colorado.plv.bounder.symbolicexecutor.state.NamedPureVar\",\"n\":\"a\"}],\"pred\":{\"$type\":\"edu.colorado.plv.bounder.lifestate.LifeState.And\",\"l1\":{\"$type\":\"edu.colorado.plv.bounder.lifestate.LifeState.OAbsMsg\",\"mt\":{\"$type\":\"edu.colorado.plv.bounder.ir.CIExit\"},\"signatures\":{\"$type\":\"edu.colorado.plv.bounder.lifestate.LifeState.SubClassMatcher\",\"baseSubtypeOf\":[\"android.app.ProgressDialog\",\"android.app.Dialog\"],\"signatureMatcher\":\".*show.*\",\"ident\":\"Dialog_show\"},\"lsVars\":[{\"$type\":\"edu.colorado.plv.bounder.symbolicexecutor.state.NamedPureVar\",\"n\":\"d\"},{\"$type\":\"edu.colorado.plv.bounder.symbolicexecutor.state.TopVal\"},{\"$type\":\"edu.colorado.plv.bounder.symbolicexecutor.state.NamedPureVar\",\"n\":\"a\"}]},\"l2\":{\"$type\":\"edu.colorado.plv.bounder.lifestate.LifeState.Or\",\"l1\":{\"$type\":\"edu.colorado.plv.bounder.lifestate.LifeState.Not\",\"p\":{\"$type\":\"edu.colorado.plv.bounder.lifestate.LifeState.OAbsMsg\",\"mt\":{\"$type\":\"edu.colorado.plv.bounder.ir.CBEnter\"},\"signatures\":{\"$type\":\"edu.colorado.plv.bounder.lifestate.LifeState.SubClassMatcher\",\"baseSubtypeOf\":[\"android.app.Activity\",\"androidx.fragment.app.FragmentActivity\"],\"signatureMatcher\":\"void onResume\\\\(\\\\)\",\"ident\":\"Activity_onResume\"},\"lsVars\":[{\"$type\":\"edu.colorado.plv.bounder.symbolicexecutor.state.TopVal\"},{\"$type\":\"edu.colorado.plv.bounder.symbolicexecutor.state.NamedPureVar\",\"n\":\"a\"}]}},\"l2\":{\"$type\":\"edu.colorado.plv.bounder.lifestate.LifeState.NS\",\"i1\":{\"$type\":\"edu.colorado.plv.bounder.lifestate.LifeState.OAbsMsg\",\"mt\":{\"$type\":\"edu.colorado.plv.bounder.ir.CBExit\"},\"signatures\":{\"$type\":\"edu.colorado.plv.bounder.lifestate.LifeState.SubClassMatcher\",\"baseSubtypeOf\":[\"android.app.Activity\",\"androidx.fragment.app.FragmentActivity\"],\"signatureMatcher\":\"void onPause\\\\(\\\\)\",\"ident\":\"Activity_onPause\"},\"lsVars\":[{\"$type\":\"edu.colorado.plv.bounder.symbolicexecutor.state.TopVal\"},{\"$type\":\"edu.colorado.plv.bounder.symbolicexecutor.state.NamedPureVar\",\"n\":\"a\"}]},\"i2\":{\"$type\":\"edu.colorado.plv.bounder.lifestate.LifeState.OAbsMsg\",\"mt\":{\"$type\":\"edu.colorado.plv.bounder.ir.CBEnter\"},\"signatures\":{\"$type\":\"edu.colorado.plv.bounder.lifestate.LifeState.SubClassMatcher\",\"baseSubtypeOf\":[\"android.app.Activity\",\"androidx.fragment.app.FragmentActivity\"],\"signatureMatcher\":\"void onResume\\\\(\\\\)\",\"ident\":\"Activity_onResume\"},\"lsVars\":[{\"$type\":\"edu.colorado.plv.bounder.symbolicexecutor.state.TopVal\"},{\"$type\":\"edu.colorado.plv.bounder.symbolicexecutor.state.NamedPureVar\",\"n\":\"a\"}]}}}},\"target\":{\"$type\":\"edu.colorado.plv.bounder.lifestate.LifeState.OAbsMsg\",\"mt\":{\"$type\":\"edu.colorado.plv.bounder.ir.CIEnter\"},\"signatures\":{\"$type\":\"edu.colorado.plv.bounder.lifestate.LifeState.SubClassMatcher\",\"baseSubtypeOf\":[\"android.app.ProgressDialog\",\"android.app.Dialog\"],\"signatureMatcher\":\"void dismiss\\\\(\\\\)\",\"ident\":\"Dialog_dismiss\"},\"lsVars\":[{\"$type\":\"edu.colorado.plv.bounder.symbolicexecutor.state.TopVal\"},{\"$type\":\"edu.colorado.plv.bounder.symbolicexecutor.state.NamedPureVar\",\"n\":\"d\"}]}}]}",
        "tag": {
         "heuristicType": "SensitiveDerefFieldCausedSynch"
        },
        "timeLimit": 900
       },
       {
        "apkPath": "${baseDir}/fdroid/com.ubergeek42.WeechatAndroid/1.8.1/apk/com.ubergeek42.WeechatAndroid_10801.apk",
        "configPath": [
         "/tmp/8820395083434005566"
        ],
        "initialQuery": [
         {
          "className": "com.ubergeek42.WeechatAndroid.adapters.ChatLinesAdapter$$ExternalSyntheticLambda0",
          "line": -1,
          "matcher": "void onLinesChanged(java.util.ArrayList)",
          "methodName": "void run()",
          "t": "ReceiverNonNull"
         }
        ],
        "outFolder": [
         "${baseDirOut}/com.ubergeek42.WeechatAndroid"
        ],
        "specSet": "{\"specs\":[],\"disallow\":[{\"univQuant\":[{\"$type\":\"edu.colorado.plv.bounder.symbolicexecutor.state.NamedPureVar\",\"n\":\"a\"},{\"$type\":\"edu.colorado.plv.bounder.symbolicexecutor.state.NamedPureVar\",\"n\":\"f\"}],\"existQuant\":[],\"pred\":{\"$type\":\"edu.colorado.plv.bounder.lifestate.LifeState.Or\",\"l1\":{\"$type\":\"edu.colorado.plv.bounder.lifestate.LifeState.NS\",\"i1\":{\"$type\":\"edu.colorado.plv.bounder.lifestate.LifeState.OAbsMsg\",\"mt\":{\"$type\":\"edu.colorado.plv.bounder.ir.CBExit\"},\"signatures\":{\"$type\":\"edu.colorado.plv.bounder.lifestate.LifeState.SubClassMatcher\",\"baseSubtypeOf\":[\"android.app.Fragment\",\"androidx.fragment.app.Fragment\",\"android.support.v4.app.Fragment\"],\"signatureMatcher\":\"void onDestroy\\\\(\\\\)\",\"ident\":\"Fragment_onDestroy\"},\"lsVars\":[{\"$type\":\"edu.colorado.plv.bounder.symbolicexecutor.state.TopVal\"},{\"$type\":\"edu.colorado.plv.bounder.symbolicexecutor.state.NamedPureVar\",\"n\":\"f\"}]},\"i2\":{\"$type\":\"edu.colorado.plv.bounder.lifestate.LifeState.OAbsMsg\",\"mt\":{\"$type\":\"edu.colorado.plv.bounder.ir.CBEnter\"},\"signatures\":{\"$type\":\"edu.colorado.plv.bounder.lifestate.LifeState.SubClassMatcher\",\"baseSubtypeOf\":[\"android.app.Fragment\",\"androidx.fragment.app.Fragment\",\"android.support.v4.app.Fragment\"],\"signatureMatcher\":\"void onActivityCreated\\\\(android.os.Bundle\\\\)\",\"ident\":\"Fragment_onActivityCreated\"},\"lsVars\":[{\"$type\":\"edu.colorado.plv.bounder.symbolicexecutor.state.TopVal\"},{\"$type\":\"edu.colorado.plv.bounder.symbolicexecutor.state.NamedPureVar\",\"n\":\"f\"}]}},\"l2\":{\"$type\":\"edu.colorado.plv.bounder.lifestate.LifeState.Not\",\"p\":{\"$type\":\"edu.colorado.plv.bounder.lifestate.LifeState.OAbsMsg\",\"mt\":{\"$type\":\"edu.colorado.plv.bounder.ir.CBEnter\"},\"signatures\":{\"$type\":\"edu.colorado.plv.bounder.lifestate.LifeState.SubClassMatcher\",\"baseSubtypeOf\":[\"android.app.Fragment\",\"androidx.fragment.app.Fragment\",\"android.support.v4.app.Fragment\"],\"signatureMatcher\":\"void onActivityCreated\\\\(android.os.Bundle\\\\)\",\"ident\":\"Fragment_onActivityCreated\"},\"lsVars\":[{\"$type\":\"edu.colorado.plv.bounder.symbolicexecutor.state.TopVal\"},{\"$type\":\"edu.colorado.plv.bounder.symbolicexecutor.state.NamedPureVar\",\"n\":\"f\"}]}}},\"target\":{\"$type\":\"edu.colorado.plv.bounder.lifestate.LifeState.OAbsMsg\",\"mt\":{\"$type\":\"edu.colorado.plv.bounder.ir.CIExit\"},\"signatures\":{\"$type\":\"edu.colorado.plv.bounder.lifestate.LifeState.SubClassMatcher\",\"baseSubtypeOf\":[\"android.app.Fragment\",\"androidx.fragment.app.Fragment\",\"android.support.v4.app.Fragment\"],\"signatureMatcher\":\".*Activity getActivity\\\\(\\\\)\",\"ident\":\"Fragment_getActivity\"},\"lsVars\":[{\"$type\":\"edu.colorado.plv.bounder.symbolicexecutor.state.NamedPureVar\",\"n\":\"a\"},{\"$type\":\"edu.colorado.plv.bounder.symbolicexecutor.state.NamedPureVar\",\"n\":\"f\"}]},\"rhsConstraints\":[{\"$type\":\"edu.colorado.plv.bounder.lifestate.LifeState.LSConstraint\",\"v1\":{\"$type\":\"edu.colorado.plv.bounder.symbolicexecutor.state.NamedPureVar\",\"n\":\"a\"},\"op\":{\"$type\":\"edu.colorado.plv.bounder.symbolicexecutor.state.Equals\"},\"v2\":{\"$type\":\"edu.colorado.plv.bounder.symbolicexecutor.state.NullVal\"}}]},{\"univQuant\":[{\"$type\":\"edu.colorado.plv.bounder.symbolicexecutor.state.NamedPureVar\",\"n\":\"t\"}],\"existQuant\":[],\"pred\":{\"$type\":\"edu.colorado.plv.bounder.lifestate.LifeState.OAbsMsg\",\"mt\":{\"$type\":\"edu.colorado.plv.bounder.ir.CIExit\"},\"signatures\":{\"$type\":\"edu.colorado.plv.bounder.lifestate.LifeState.SubClassMatcher\",\"baseSubtypeOf\":[\"android.os.AsyncTask\"],\"signatureMatcher\":\".*AsyncTask execute\\\\(.*\\\\)\",\"ident\":\"AsyncTask_execute\"},\"lsVars\":[{\"$type\":\"edu.colorado.plv.bounder.symbolicexecutor.state.TopVal\"},{\"$type\":\"edu.colorado.plv.bounder.symbolicexecutor.state.NamedPureVar\",\"n\":\"t\"}]},\"target\":{\"$type\":\"edu.colorado.plv.bounder.lifestate.LifeState.OAbsMsg\",\"mt\":{\"$type\":\"edu.colorado.plv.bounder.ir.CIEnter\"},\"signatures\":{\"$type\":\"edu.colorado.plv.bounder.lifestate.LifeState.SubClassMatcher\",\"baseSubtypeOf\":[\"android.os.AsyncTask\"],\"signatureMatcher\":\".*AsyncTask execute\\\\(.*\\\\)\",\"ident\":\"AsyncTask_execute\"},\"lsVars\":[{\"$type\":\"edu.colorado.plv.bounder.symbolicexecutor.state.TopVal\"},{\"$type\":\"edu.colorado.plv.bounder.symbolicexecutor.state.NamedPureVar\",\"n\":\"t\"}]}},{\"univQuant\":[{\"$type\":\"edu.colorado.plv.bounder.symbolicexecutor.state.NamedPureVar\",\"n\":\"d\"}],\"existQuant\":[{\"$type\":\"edu.colorado.plv.bounder.symbolicexecutor.state.NamedPureVar\",\"n\":\"a\"}],\"pred\":{\"$type\":\"edu.colorado.plv.bounder.lifestate.LifeState.And\",\"l1\":{\"$type\":\"edu.colorado.plv.bounder.lifestate.LifeState.OAbsMsg\",\"mt\":{\"$type\":\"edu.colorado.plv.bounder.ir.CIExit\"},\"signatures\":{\"$type\":\"edu.colorado.plv.bounder.lifestate.LifeState.SubClassMatcher\",\"baseSubtypeOf\":[\"android.app.ProgressDialog\",\"android.app.Dialog\"],\"signatureMatcher\":\".*show.*\",\"ident\":\"Dialog_show\"},\"lsVars\":[{\"$type\":\"edu.colorado.plv.bounder.symbolicexecutor.state.NamedPureVar\",\"n\":\"d\"},{\"$type\":\"edu.colorado.plv.bounder.symbolicexecutor.state.TopVal\"},{\"$type\":\"edu.colorado.plv.bounder.symbolicexecutor.state.NamedPureVar\",\"n\":\"a\"}]},\"l2\":{\"$type\":\"edu.colorado.plv.bounder.lifestate.LifeState.Or\",\"l1\":{\"$type\":\"edu.colorado.plv.bounder.lifestate.LifeState.Not\",\"p\":{\"$type\":\"edu.colorado.plv.bounder.lifestate.LifeState.OAbsMsg\",\"mt\":{\"$type\":\"edu.colorado.plv.bounder.ir.CBEnter\"},\"signatures\":{\"$type\":\"edu.colorado.plv.bounder.lifestate.LifeState.SubClassMatcher\",\"baseSubtypeOf\":[\"android.app.Activity\",\"androidx.fragment.app.FragmentActivity\"],\"signatureMatcher\":\"void onResume\\\\(\\\\)\",\"ident\":\"Activity_onResume\"},\"lsVars\":[{\"$type\":\"edu.colorado.plv.bounder.symbolicexecutor.state.TopVal\"},{\"$type\":\"edu.colorado.plv.bounder.symbolicexecutor.state.NamedPureVar\",\"n\":\"a\"}]}},\"l2\":{\"$type\":\"edu.colorado.plv.bounder.lifestate.LifeState.NS\",\"i1\":{\"$type\":\"edu.colorado.plv.bounder.lifestate.LifeState.OAbsMsg\",\"mt\":{\"$type\":\"edu.colorado.plv.bounder.ir.CBExit\"},\"signatures\":{\"$type\":\"edu.colorado.plv.bounder.lifestate.LifeState.SubClassMatcher\",\"baseSubtypeOf\":[\"android.app.Activity\",\"androidx.fragment.app.FragmentActivity\"],\"signatureMatcher\":\"void onPause\\\\(\\\\)\",\"ident\":\"Activity_onPause\"},\"lsVars\":[{\"$type\":\"edu.colorado.plv.bounder.symbolicexecutor.state.TopVal\"},{\"$type\":\"edu.colorado.plv.bounder.symbolicexecutor.state.NamedPureVar\",\"n\":\"a\"}]},\"i2\":{\"$type\":\"edu.colorado.plv.bounder.lifestate.LifeState.OAbsMsg\",\"mt\":{\"$type\":\"edu.colorado.plv.bounder.ir.CBEnter\"},\"signatures\":{\"$type\":\"edu.colorado.plv.bounder.lifestate.LifeState.SubClassMatcher\",\"baseSubtypeOf\":[\"android.app.Activity\",\"androidx.fragment.app.FragmentActivity\"],\"signatureMatcher\":\"void onResume\\\\(\\\\)\",\"ident\":\"Activity_onResume\"},\"lsVars\":[{\"$type\":\"edu.colorado.plv.bounder.symbolicexecutor.state.TopVal\"},{\"$type\":\"edu.colorado.plv.bounder.symbolicexecutor.state.NamedPureVar\",\"n\":\"a\"}]}}}},\"target\":{\"$type\":\"edu.colorado.plv.bounder.lifestate.LifeState.OAbsMsg\",\"mt\":{\"$type\":\"edu.colorado.plv.bounder.ir.CIEnter\"},\"signatures\":{\"$type\":\"edu.colorado.plv.bounder.lifestate.LifeState.SubClassMatcher\",\"baseSubtypeOf\":[\"android.app.ProgressDialog\",\"android.app.Dialog\"],\"signatureMatcher\":\"void dismiss\\\\(\\\\)\",\"ident\":\"Dialog_dismiss\"},\"lsVars\":[{\"$type\":\"edu.colorado.plv.bounder.symbolicexecutor.state.TopVal\"},{\"$type\":\"edu.colorado.plv.bounder.symbolicexecutor.state.NamedPureVar\",\"n\":\"d\"}]}}]}",
        "tag": {
         "heuristicType": "SensitiveDerefFieldCausedSynch"
        },
        "timeLimit": 900
       },
       {
        "apkPath": "${baseDir}/fdroid/com.byagowi.persiancalendar/7.8.0/apk/com.byagowi.persiancalendar_780.apk",
        "configPath": [
         "/tmp/5276423409742033781"
        ],
        "initialQuery": [
         {
          "className": "d.z",
          "line": 58,
          "matcher": "void b()",
          "methodName": "void run()",
          "t": "ReceiverNonNull"
         }
        ],
        "outFolder": [
         "${baseDirOut}/com.byagowi.persiancalendar"
        ],
        "specSet": "{\"specs\":[],\"disallow\":[{\"univQuant\":[{\"$type\":\"edu.colorado.plv.bounder.symbolicexecutor.state.NamedPureVar\",\"n\":\"a\"},{\"$type\":\"edu.colorado.plv.bounder.symbolicexecutor.state.NamedPureVar\",\"n\":\"f\"}],\"existQuant\":[],\"pred\":{\"$type\":\"edu.colorado.plv.bounder.lifestate.LifeState.Or\",\"l1\":{\"$type\":\"edu.colorado.plv.bounder.lifestate.LifeState.NS\",\"i1\":{\"$type\":\"edu.colorado.plv.bounder.lifestate.LifeState.OAbsMsg\",\"mt\":{\"$type\":\"edu.colorado.plv.bounder.ir.CBExit\"},\"signatures\":{\"$type\":\"edu.colorado.plv.bounder.lifestate.LifeState.SubClassMatcher\",\"baseSubtypeOf\":[\"android.app.Fragment\",\"androidx.fragment.app.Fragment\",\"android.support.v4.app.Fragment\"],\"signatureMatcher\":\"void onDestroy\\\\(\\\\)\",\"ident\":\"Fragment_onDestroy\"},\"lsVars\":[{\"$type\":\"edu.colorado.plv.bounder.symbolicexecutor.state.TopVal\"},{\"$type\":\"edu.colorado.plv.bounder.symbolicexecutor.state.NamedPureVar\",\"n\":\"f\"}]},\"i2\":{\"$type\":\"edu.colorado.plv.bounder.lifestate.LifeState.OAbsMsg\",\"mt\":{\"$type\":\"edu.colorado.plv.bounder.ir.CBEnter\"},\"signatures\":{\"$type\":\"edu.colorado.plv.bounder.lifestate.LifeState.SubClassMatcher\",\"baseSubtypeOf\":[\"android.app.Fragment\",\"androidx.fragment.app.Fragment\",\"android.support.v4.app.Fragment\"],\"signatureMatcher\":\"void onActivityCreated\\\\(android.os.Bundle\\\\)\",\"ident\":\"Fragment_onActivityCreated\"},\"lsVars\":[{\"$type\":\"edu.colorado.plv.bounder.symbolicexecutor.state.TopVal\"},{\"$type\":\"edu.colorado.plv.bounder.symbolicexecutor.state.NamedPureVar\",\"n\":\"f\"}]}},\"l2\":{\"$type\":\"edu.colorado.plv.bounder.lifestate.LifeState.Not\",\"p\":{\"$type\":\"edu.colorado.plv.bounder.lifestate.LifeState.OAbsMsg\",\"mt\":{\"$type\":\"edu.colorado.plv.bounder.ir.CBEnter\"},\"signatures\":{\"$type\":\"edu.colorado.plv.bounder.lifestate.LifeState.SubClassMatcher\",\"baseSubtypeOf\":[\"android.app.Fragment\",\"androidx.fragment.app.Fragment\",\"android.support.v4.app.Fragment\"],\"signatureMatcher\":\"void onActivityCreated\\\\(android.os.Bundle\\\\)\",\"ident\":\"Fragment_onActivityCreated\"},\"lsVars\":[{\"$type\":\"edu.colorado.plv.bounder.symbolicexecutor.state.TopVal\"},{\"$type\":\"edu.colorado.plv.bounder.symbolicexecutor.state.NamedPureVar\",\"n\":\"f\"}]}}},\"target\":{\"$type\":\"edu.colorado.plv.bounder.lifestate.LifeState.OAbsMsg\",\"mt\":{\"$type\":\"edu.colorado.plv.bounder.ir.CIExit\"},\"signatures\":{\"$type\":\"edu.colorado.plv.bounder.lifestate.LifeState.SubClassMatcher\",\"baseSubtypeOf\":[\"android.app.Fragment\",\"androidx.fragment.app.Fragment\",\"android.support.v4.app.Fragment\"],\"signatureMatcher\":\".*Activity getActivity\\\\(\\\\)\",\"ident\":\"Fragment_getActivity\"},\"lsVars\":[{\"$type\":\"edu.colorado.plv.bounder.symbolicexecutor.state.NamedPureVar\",\"n\":\"a\"},{\"$type\":\"edu.colorado.plv.bounder.symbolicexecutor.state.NamedPureVar\",\"n\":\"f\"}]},\"rhsConstraints\":[{\"$type\":\"edu.colorado.plv.bounder.lifestate.LifeState.LSConstraint\",\"v1\":{\"$type\":\"edu.colorado.plv.bounder.symbolicexecutor.state.NamedPureVar\",\"n\":\"a\"},\"op\":{\"$type\":\"edu.colorado.plv.bounder.symbolicexecutor.state.Equals\"},\"v2\":{\"$type\":\"edu.colorado.plv.bounder.symbolicexecutor.state.NullVal\"}}]},{\"univQuant\":[{\"$type\":\"edu.colorado.plv.bounder.symbolicexecutor.state.NamedPureVar\",\"n\":\"t\"}],\"existQuant\":[],\"pred\":{\"$type\":\"edu.colorado.plv.bounder.lifestate.LifeState.OAbsMsg\",\"mt\":{\"$type\":\"edu.colorado.plv.bounder.ir.CIExit\"},\"signatures\":{\"$type\":\"edu.colorado.plv.bounder.lifestate.LifeState.SubClassMatcher\",\"baseSubtypeOf\":[\"android.os.AsyncTask\"],\"signatureMatcher\":\".*AsyncTask execute\\\\(.*\\\\)\",\"ident\":\"AsyncTask_execute\"},\"lsVars\":[{\"$type\":\"edu.colorado.plv.bounder.symbolicexecutor.state.TopVal\"},{\"$type\":\"edu.colorado.plv.bounder.symbolicexecutor.state.NamedPureVar\",\"n\":\"t\"}]},\"target\":{\"$type\":\"edu.colorado.plv.bounder.lifestate.LifeState.OAbsMsg\",\"mt\":{\"$type\":\"edu.colorado.plv.bounder.ir.CIEnter\"},\"signatures\":{\"$type\":\"edu.colorado.plv.bounder.lifestate.LifeState.SubClassMatcher\",\"baseSubtypeOf\":[\"android.os.AsyncTask\"],\"signatureMatcher\":\".*AsyncTask execute\\\\(.*\\\\)\",\"ident\":\"AsyncTask_execute\"},\"lsVars\":[{\"$type\":\"edu.colorado.plv.bounder.symbolicexecutor.state.TopVal\"},{\"$type\":\"edu.colorado.plv.bounder.symbolicexecutor.state.NamedPureVar\",\"n\":\"t\"}]}},{\"univQuant\":[{\"$type\":\"edu.colorado.plv.bounder.symbolicexecutor.state.NamedPureVar\",\"n\":\"d\"}],\"existQuant\":[{\"$type\":\"edu.colorado.plv.bounder.symbolicexecutor.state.NamedPureVar\",\"n\":\"a\"}],\"pred\":{\"$type\":\"edu.colorado.plv.bounder.lifestate.LifeState.And\",\"l1\":{\"$type\":\"edu.colorado.plv.bounder.lifestate.LifeState.OAbsMsg\",\"mt\":{\"$type\":\"edu.colorado.plv.bounder.ir.CIExit\"},\"signatures\":{\"$type\":\"edu.colorado.plv.bounder.lifestate.LifeState.SubClassMatcher\",\"baseSubtypeOf\":[\"android.app.ProgressDialog\",\"android.app.Dialog\"],\"signatureMatcher\":\".*show.*\",\"ident\":\"Dialog_show\"},\"lsVars\":[{\"$type\":\"edu.colorado.plv.bounder.symbolicexecutor.state.NamedPureVar\",\"n\":\"d\"},{\"$type\":\"edu.colorado.plv.bounder.symbolicexecutor.state.TopVal\"},{\"$type\":\"edu.colorado.plv.bounder.symbolicexecutor.state.NamedPureVar\",\"n\":\"a\"}]},\"l2\":{\"$type\":\"edu.colorado.plv.bounder.lifestate.LifeState.Or\",\"l1\":{\"$type\":\"edu.colorado.plv.bounder.lifestate.LifeState.Not\",\"p\":{\"$type\":\"edu.colorado.plv.bounder.lifestate.LifeState.OAbsMsg\",\"mt\":{\"$type\":\"edu.colorado.plv.bounder.ir.CBEnter\"},\"signatures\":{\"$type\":\"edu.colorado.plv.bounder.lifestate.LifeState.SubClassMatcher\",\"baseSubtypeOf\":[\"android.app.Activity\",\"androidx.fragment.app.FragmentActivity\"],\"signatureMatcher\":\"void onResume\\\\(\\\\)\",\"ident\":\"Activity_onResume\"},\"lsVars\":[{\"$type\":\"edu.colorado.plv.bounder.symbolicexecutor.state.TopVal\"},{\"$type\":\"edu.colorado.plv.bounder.symbolicexecutor.state.NamedPureVar\",\"n\":\"a\"}]}},\"l2\":{\"$type\":\"edu.colorado.plv.bounder.lifestate.LifeState.NS\",\"i1\":{\"$type\":\"edu.colorado.plv.bounder.lifestate.LifeState.OAbsMsg\",\"mt\":{\"$type\":\"edu.colorado.plv.bounder.ir.CBExit\"},\"signatures\":{\"$type\":\"edu.colorado.plv.bounder.lifestate.LifeState.SubClassMatcher\",\"baseSubtypeOf\":[\"android.app.Activity\",\"androidx.fragment.app.FragmentActivity\"],\"signatureMatcher\":\"void onPause\\\\(\\\\)\",\"ident\":\"Activity_onPause\"},\"lsVars\":[{\"$type\":\"edu.colorado.plv.bounder.symbolicexecutor.state.TopVal\"},{\"$type\":\"edu.colorado.plv.bounder.symbolicexecutor.state.NamedPureVar\",\"n\":\"a\"}]},\"i2\":{\"$type\":\"edu.colorado.plv.bounder.lifestate.LifeState.OAbsMsg\",\"mt\":{\"$type\":\"edu.colorado.plv.bounder.ir.CBEnter\"},\"signatures\":{\"$type\":\"edu.colorado.plv.bounder.lifestate.LifeState.SubClassMatcher\",\"baseSubtypeOf\":[\"android.app.Activity\",\"androidx.fragment.app.FragmentActivity\"],\"signatureMatcher\":\"void onResume\\\\(\\\\)\",\"ident\":\"Activity_onResume\"},\"lsVars\":[{\"$type\":\"edu.colorado.plv.bounder.symbolicexecutor.state.TopVal\"},{\"$type\":\"edu.colorado.plv.bounder.symbolicexecutor.state.NamedPureVar\",\"n\":\"a\"}]}}}},\"target\":{\"$type\":\"edu.colorado.plv.bounder.lifestate.LifeState.OAbsMsg\",\"mt\":{\"$type\":\"edu.colorado.plv.bounder.ir.CIEnter\"},\"signatures\":{\"$type\":\"edu.colorado.plv.bounder.lifestate.LifeState.SubClassMatcher\",\"baseSubtypeOf\":[\"android.app.ProgressDialog\",\"android.app.Dialog\"],\"signatureMatcher\":\"void dismiss\\\\(\\\\)\",\"ident\":\"Dialog_dismiss\"},\"lsVars\":[{\"$type\":\"edu.colorado.plv.bounder.symbolicexecutor.state.TopVal\"},{\"$type\":\"edu.colorado.plv.bounder.symbolicexecutor.state.NamedPureVar\",\"n\":\"d\"}]}}]}",
        "tag": {
         "heuristicType": "SensitiveDerefFieldCausedSynch"
        },
        "timeLimit": 900
       },
       {
        "apkPath": "${baseDir}/fdroid/org.sipdroid.sipua/6.3beta/apk/org.sipdroid.sipua_134.apk",
        "configPath": [
         "/tmp/270335928576313844"
        ],
        "initialQuery": [
         {
          "className": "org.sipdroid.sipua.ui.CreateAccount$2",
          "line": 175,
          "matcher": "boolean equals(java.lang.Object)",
          "methodName": "void run()",
          "t": "ReceiverNonNull"
         }
        ],
        "outFolder": [
         "${baseDirOut}/org.sipdroid.sipua"
        ],
        "specSet": "{\"specs\":[],\"disallow\":[{\"univQuant\":[{\"$type\":\"edu.colorado.plv.bounder.symbolicexecutor.state.NamedPureVar\",\"n\":\"a\"},{\"$type\":\"edu.colorado.plv.bounder.symbolicexecutor.state.NamedPureVar\",\"n\":\"f\"}],\"existQuant\":[],\"pred\":{\"$type\":\"edu.colorado.plv.bounder.lifestate.LifeState.Or\",\"l1\":{\"$type\":\"edu.colorado.plv.bounder.lifestate.LifeState.NS\",\"i1\":{\"$type\":\"edu.colorado.plv.bounder.lifestate.LifeState.OAbsMsg\",\"mt\":{\"$type\":\"edu.colorado.plv.bounder.ir.CBExit\"},\"signatures\":{\"$type\":\"edu.colorado.plv.bounder.lifestate.LifeState.SubClassMatcher\",\"baseSubtypeOf\":[\"android.app.Fragment\",\"androidx.fragment.app.Fragment\",\"android.support.v4.app.Fragment\"],\"signatureMatcher\":\"void onDestroy\\\\(\\\\)\",\"ident\":\"Fragment_onDestroy\"},\"lsVars\":[{\"$type\":\"edu.colorado.plv.bounder.symbolicexecutor.state.TopVal\"},{\"$type\":\"edu.colorado.plv.bounder.symbolicexecutor.state.NamedPureVar\",\"n\":\"f\"}]},\"i2\":{\"$type\":\"edu.colorado.plv.bounder.lifestate.LifeState.OAbsMsg\",\"mt\":{\"$type\":\"edu.colorado.plv.bounder.ir.CBEnter\"},\"signatures\":{\"$type\":\"edu.colorado.plv.bounder.lifestate.LifeState.SubClassMatcher\",\"baseSubtypeOf\":[\"android.app.Fragment\",\"androidx.fragment.app.Fragment\",\"android.support.v4.app.Fragment\"],\"signatureMatcher\":\"void onActivityCreated\\\\(android.os.Bundle\\\\)\",\"ident\":\"Fragment_onActivityCreated\"},\"lsVars\":[{\"$type\":\"edu.colorado.plv.bounder.symbolicexecutor.state.TopVal\"},{\"$type\":\"edu.colorado.plv.bounder.symbolicexecutor.state.NamedPureVar\",\"n\":\"f\"}]}},\"l2\":{\"$type\":\"edu.colorado.plv.bounder.lifestate.LifeState.Not\",\"p\":{\"$type\":\"edu.colorado.plv.bounder.lifestate.LifeState.OAbsMsg\",\"mt\":{\"$type\":\"edu.colorado.plv.bounder.ir.CBEnter\"},\"signatures\":{\"$type\":\"edu.colorado.plv.bounder.lifestate.LifeState.SubClassMatcher\",\"baseSubtypeOf\":[\"android.app.Fragment\",\"androidx.fragment.app.Fragment\",\"android.support.v4.app.Fragment\"],\"signatureMatcher\":\"void onActivityCreated\\\\(android.os.Bundle\\\\)\",\"ident\":\"Fragment_onActivityCreated\"},\"lsVars\":[{\"$type\":\"edu.colorado.plv.bounder.symbolicexecutor.state.TopVal\"},{\"$type\":\"edu.colorado.plv.bounder.symbolicexecutor.state.NamedPureVar\",\"n\":\"f\"}]}}},\"target\":{\"$type\":\"edu.colorado.plv.bounder.lifestate.LifeState.OAbsMsg\",\"mt\":{\"$type\":\"edu.colorado.plv.bounder.ir.CIExit\"},\"signatures\":{\"$type\":\"edu.colorado.plv.bounder.lifestate.LifeState.SubClassMatcher\",\"baseSubtypeOf\":[\"android.app.Fragment\",\"androidx.fragment.app.Fragment\",\"android.support.v4.app.Fragment\"],\"signatureMatcher\":\".*Activity getActivity\\\\(\\\\)\",\"ident\":\"Fragment_getActivity\"},\"lsVars\":[{\"$type\":\"edu.colorado.plv.bounder.symbolicexecutor.state.NamedPureVar\",\"n\":\"a\"},{\"$type\":\"edu.colorado.plv.bounder.symbolicexecutor.state.NamedPureVar\",\"n\":\"f\"}]},\"rhsConstraints\":[{\"$type\":\"edu.colorado.plv.bounder.lifestate.LifeState.LSConstraint\",\"v1\":{\"$type\":\"edu.colorado.plv.bounder.symbolicexecutor.state.NamedPureVar\",\"n\":\"a\"},\"op\":{\"$type\":\"edu.colorado.plv.bounder.symbolicexecutor.state.Equals\"},\"v2\":{\"$type\":\"edu.colorado.plv.bounder.symbolicexecutor.state.NullVal\"}}]},{\"univQuant\":[{\"$type\":\"edu.colorado.plv.bounder.symbolicexecutor.state.NamedPureVar\",\"n\":\"t\"}],\"existQuant\":[],\"pred\":{\"$type\":\"edu.colorado.plv.bounder.lifestate.LifeState.OAbsMsg\",\"mt\":{\"$type\":\"edu.colorado.plv.bounder.ir.CIExit\"},\"signatures\":{\"$type\":\"edu.colorado.plv.bounder.lifestate.LifeState.SubClassMatcher\",\"baseSubtypeOf\":[\"android.os.AsyncTask\"],\"signatureMatcher\":\".*AsyncTask execute\\\\(.*\\\\)\",\"ident\":\"AsyncTask_execute\"},\"lsVars\":[{\"$type\":\"edu.colorado.plv.bounder.symbolicexecutor.state.TopVal\"},{\"$type\":\"edu.colorado.plv.bounder.symbolicexecutor.state.NamedPureVar\",\"n\":\"t\"}]},\"target\":{\"$type\":\"edu.colorado.plv.bounder.lifestate.LifeState.OAbsMsg\",\"mt\":{\"$type\":\"edu.colorado.plv.bounder.ir.CIEnter\"},\"signatures\":{\"$type\":\"edu.colorado.plv.bounder.lifestate.LifeState.SubClassMatcher\",\"baseSubtypeOf\":[\"android.os.AsyncTask\"],\"signatureMatcher\":\".*AsyncTask execute\\\\(.*\\\\)\",\"ident\":\"AsyncTask_execute\"},\"lsVars\":[{\"$type\":\"edu.colorado.plv.bounder.symbolicexecutor.state.TopVal\"},{\"$type\":\"edu.colorado.plv.bounder.symbolicexecutor.state.NamedPureVar\",\"n\":\"t\"}]}},{\"univQuant\":[{\"$type\":\"edu.colorado.plv.bounder.symbolicexecutor.state.NamedPureVar\",\"n\":\"d\"}],\"existQuant\":[{\"$type\":\"edu.colorado.plv.bounder.symbolicexecutor.state.NamedPureVar\",\"n\":\"a\"}],\"pred\":{\"$type\":\"edu.colorado.plv.bounder.lifestate.LifeState.And\",\"l1\":{\"$type\":\"edu.colorado.plv.bounder.lifestate.LifeState.OAbsMsg\",\"mt\":{\"$type\":\"edu.colorado.plv.bounder.ir.CIExit\"},\"signatures\":{\"$type\":\"edu.colorado.plv.bounder.lifestate.LifeState.SubClassMatcher\",\"baseSubtypeOf\":[\"android.app.ProgressDialog\",\"android.app.Dialog\"],\"signatureMatcher\":\".*show.*\",\"ident\":\"Dialog_show\"},\"lsVars\":[{\"$type\":\"edu.colorado.plv.bounder.symbolicexecutor.state.NamedPureVar\",\"n\":\"d\"},{\"$type\":\"edu.colorado.plv.bounder.symbolicexecutor.state.TopVal\"},{\"$type\":\"edu.colorado.plv.bounder.symbolicexecutor.state.NamedPureVar\",\"n\":\"a\"}]},\"l2\":{\"$type\":\"edu.colorado.plv.bounder.lifestate.LifeState.Or\",\"l1\":{\"$type\":\"edu.colorado.plv.bounder.lifestate.LifeState.Not\",\"p\":{\"$type\":\"edu.colorado.plv.bounder.lifestate.LifeState.OAbsMsg\",\"mt\":{\"$type\":\"edu.colorado.plv.bounder.ir.CBEnter\"},\"signatures\":{\"$type\":\"edu.colorado.plv.bounder.lifestate.LifeState.SubClassMatcher\",\"baseSubtypeOf\":[\"android.app.Activity\",\"androidx.fragment.app.FragmentActivity\"],\"signatureMatcher\":\"void onResume\\\\(\\\\)\",\"ident\":\"Activity_onResume\"},\"lsVars\":[{\"$type\":\"edu.colorado.plv.bounder.symbolicexecutor.state.TopVal\"},{\"$type\":\"edu.colorado.plv.bounder.symbolicexecutor.state.NamedPureVar\",\"n\":\"a\"}]}},\"l2\":{\"$type\":\"edu.colorado.plv.bounder.lifestate.LifeState.NS\",\"i1\":{\"$type\":\"edu.colorado.plv.bounder.lifestate.LifeState.OAbsMsg\",\"mt\":{\"$type\":\"edu.colorado.plv.bounder.ir.CBExit\"},\"signatures\":{\"$type\":\"edu.colorado.plv.bounder.lifestate.LifeState.SubClassMatcher\",\"baseSubtypeOf\":[\"android.app.Activity\",\"androidx.fragment.app.FragmentActivity\"],\"signatureMatcher\":\"void onPause\\\\(\\\\)\",\"ident\":\"Activity_onPause\"},\"lsVars\":[{\"$type\":\"edu.colorado.plv.bounder.symbolicexecutor.state.TopVal\"},{\"$type\":\"edu.colorado.plv.bounder.symbolicexecutor.state.NamedPureVar\",\"n\":\"a\"}]},\"i2\":{\"$type\":\"edu.colorado.plv.bounder.lifestate.LifeState.OAbsMsg\",\"mt\":{\"$type\":\"edu.colorado.plv.bounder.ir.CBEnter\"},\"signatures\":{\"$type\":\"edu.colorado.plv.bounder.lifestate.LifeState.SubClassMatcher\",\"baseSubtypeOf\":[\"android.app.Activity\",\"androidx.fragment.app.FragmentActivity\"],\"signatureMatcher\":\"void onResume\\\\(\\\\)\",\"ident\":\"Activity_onResume\"},\"lsVars\":[{\"$type\":\"edu.colorado.plv.bounder.symbolicexecutor.state.TopVal\"},{\"$type\":\"edu.colorado.plv.bounder.symbolicexecutor.state.NamedPureVar\",\"n\":\"a\"}]}}}},\"target\":{\"$type\":\"edu.colorado.plv.bounder.lifestate.LifeState.OAbsMsg\",\"mt\":{\"$type\":\"edu.colorado.plv.bounder.ir.CIEnter\"},\"signatures\":{\"$type\":\"edu.colorado.plv.bounder.lifestate.LifeState.SubClassMatcher\",\"baseSubtypeOf\":[\"android.app.ProgressDialog\",\"android.app.Dialog\"],\"signatureMatcher\":\"void dismiss\\\\(\\\\)\",\"ident\":\"Dialog_dismiss\"},\"lsVars\":[{\"$type\":\"edu.colorado.plv.bounder.symbolicexecutor.state.TopVal\"},{\"$type\":\"edu.colorado.plv.bounder.symbolicexecutor.state.NamedPureVar\",\"n\":\"d\"}]}}]}",
        "tag": {
         "heuristicType": "SensitiveDerefFieldCausedSynch"
        },
        "timeLimit": 900
       },
       {
        "apkPath": "${baseDir}/fdroid/org.sipdroid.sipua/6.3beta/apk/org.sipdroid.sipua_134.apk",
        "configPath": [
         "/tmp/270335928576313844"
        ],
        "initialQuery": [
         {
          "className": "org.zoolu.net.TcpConnection",
          "line": 196,
          "matcher": "void onConnectionTerminated(org.zoolu.net.TcpConnection,java.lang.Exception)",
          "methodName": "void run()",
          "t": "ReceiverNonNull"
         }
        ],
        "outFolder": [
         "${baseDirOut}/org.sipdroid.sipua"
        ],
        "specSet": "{\"specs\":[],\"disallow\":[{\"univQuant\":[{\"$type\":\"edu.colorado.plv.bounder.symbolicexecutor.state.NamedPureVar\",\"n\":\"a\"},{\"$type\":\"edu.colorado.plv.bounder.symbolicexecutor.state.NamedPureVar\",\"n\":\"f\"}],\"existQuant\":[],\"pred\":{\"$type\":\"edu.colorado.plv.bounder.lifestate.LifeState.Or\",\"l1\":{\"$type\":\"edu.colorado.plv.bounder.lifestate.LifeState.NS\",\"i1\":{\"$type\":\"edu.colorado.plv.bounder.lifestate.LifeState.OAbsMsg\",\"mt\":{\"$type\":\"edu.colorado.plv.bounder.ir.CBExit\"},\"signatures\":{\"$type\":\"edu.colorado.plv.bounder.lifestate.LifeState.SubClassMatcher\",\"baseSubtypeOf\":[\"android.app.Fragment\",\"androidx.fragment.app.Fragment\",\"android.support.v4.app.Fragment\"],\"signatureMatcher\":\"void onDestroy\\\\(\\\\)\",\"ident\":\"Fragment_onDestroy\"},\"lsVars\":[{\"$type\":\"edu.colorado.plv.bounder.symbolicexecutor.state.TopVal\"},{\"$type\":\"edu.colorado.plv.bounder.symbolicexecutor.state.NamedPureVar\",\"n\":\"f\"}]},\"i2\":{\"$type\":\"edu.colorado.plv.bounder.lifestate.LifeState.OAbsMsg\",\"mt\":{\"$type\":\"edu.colorado.plv.bounder.ir.CBEnter\"},\"signatures\":{\"$type\":\"edu.colorado.plv.bounder.lifestate.LifeState.SubClassMatcher\",\"baseSubtypeOf\":[\"android.app.Fragment\",\"androidx.fragment.app.Fragment\",\"android.support.v4.app.Fragment\"],\"signatureMatcher\":\"void onActivityCreated\\\\(android.os.Bundle\\\\)\",\"ident\":\"Fragment_onActivityCreated\"},\"lsVars\":[{\"$type\":\"edu.colorado.plv.bounder.symbolicexecutor.state.TopVal\"},{\"$type\":\"edu.colorado.plv.bounder.symbolicexecutor.state.NamedPureVar\",\"n\":\"f\"}]}},\"l2\":{\"$type\":\"edu.colorado.plv.bounder.lifestate.LifeState.Not\",\"p\":{\"$type\":\"edu.colorado.plv.bounder.lifestate.LifeState.OAbsMsg\",\"mt\":{\"$type\":\"edu.colorado.plv.bounder.ir.CBEnter\"},\"signatures\":{\"$type\":\"edu.colorado.plv.bounder.lifestate.LifeState.SubClassMatcher\",\"baseSubtypeOf\":[\"android.app.Fragment\",\"androidx.fragment.app.Fragment\",\"android.support.v4.app.Fragment\"],\"signatureMatcher\":\"void onActivityCreated\\\\(android.os.Bundle\\\\)\",\"ident\":\"Fragment_onActivityCreated\"},\"lsVars\":[{\"$type\":\"edu.colorado.plv.bounder.symbolicexecutor.state.TopVal\"},{\"$type\":\"edu.colorado.plv.bounder.symbolicexecutor.state.NamedPureVar\",\"n\":\"f\"}]}}},\"target\":{\"$type\":\"edu.colorado.plv.bounder.lifestate.LifeState.OAbsMsg\",\"mt\":{\"$type\":\"edu.colorado.plv.bounder.ir.CIExit\"},\"signatures\":{\"$type\":\"edu.colorado.plv.bounder.lifestate.LifeState.SubClassMatcher\",\"baseSubtypeOf\":[\"android.app.Fragment\",\"androidx.fragment.app.Fragment\",\"android.support.v4.app.Fragment\"],\"signatureMatcher\":\".*Activity getActivity\\\\(\\\\)\",\"ident\":\"Fragment_getActivity\"},\"lsVars\":[{\"$type\":\"edu.colorado.plv.bounder.symbolicexecutor.state.NamedPureVar\",\"n\":\"a\"},{\"$type\":\"edu.colorado.plv.bounder.symbolicexecutor.state.NamedPureVar\",\"n\":\"f\"}]},\"rhsConstraints\":[{\"$type\":\"edu.colorado.plv.bounder.lifestate.LifeState.LSConstraint\",\"v1\":{\"$type\":\"edu.colorado.plv.bounder.symbolicexecutor.state.NamedPureVar\",\"n\":\"a\"},\"op\":{\"$type\":\"edu.colorado.plv.bounder.symbolicexecutor.state.Equals\"},\"v2\":{\"$type\":\"edu.colorado.plv.bounder.symbolicexecutor.state.NullVal\"}}]},{\"univQuant\":[{\"$type\":\"edu.colorado.plv.bounder.symbolicexecutor.state.NamedPureVar\",\"n\":\"t\"}],\"existQuant\":[],\"pred\":{\"$type\":\"edu.colorado.plv.bounder.lifestate.LifeState.OAbsMsg\",\"mt\":{\"$type\":\"edu.colorado.plv.bounder.ir.CIExit\"},\"signatures\":{\"$type\":\"edu.colorado.plv.bounder.lifestate.LifeState.SubClassMatcher\",\"baseSubtypeOf\":[\"android.os.AsyncTask\"],\"signatureMatcher\":\".*AsyncTask execute\\\\(.*\\\\)\",\"ident\":\"AsyncTask_execute\"},\"lsVars\":[{\"$type\":\"edu.colorado.plv.bounder.symbolicexecutor.state.TopVal\"},{\"$type\":\"edu.colorado.plv.bounder.symbolicexecutor.state.NamedPureVar\",\"n\":\"t\"}]},\"target\":{\"$type\":\"edu.colorado.plv.bounder.lifestate.LifeState.OAbsMsg\",\"mt\":{\"$type\":\"edu.colorado.plv.bounder.ir.CIEnter\"},\"signatures\":{\"$type\":\"edu.colorado.plv.bounder.lifestate.LifeState.SubClassMatcher\",\"baseSubtypeOf\":[\"android.os.AsyncTask\"],\"signatureMatcher\":\".*AsyncTask execute\\\\(.*\\\\)\",\"ident\":\"AsyncTask_execute\"},\"lsVars\":[{\"$type\":\"edu.colorado.plv.bounder.symbolicexecutor.state.TopVal\"},{\"$type\":\"edu.colorado.plv.bounder.symbolicexecutor.state.NamedPureVar\",\"n\":\"t\"}]}},{\"univQuant\":[{\"$type\":\"edu.colorado.plv.bounder.symbolicexecutor.state.NamedPureVar\",\"n\":\"d\"}],\"existQuant\":[{\"$type\":\"edu.colorado.plv.bounder.symbolicexecutor.state.NamedPureVar\",\"n\":\"a\"}],\"pred\":{\"$type\":\"edu.colorado.plv.bounder.lifestate.LifeState.And\",\"l1\":{\"$type\":\"edu.colorado.plv.bounder.lifestate.LifeState.OAbsMsg\",\"mt\":{\"$type\":\"edu.colorado.plv.bounder.ir.CIExit\"},\"signatures\":{\"$type\":\"edu.colorado.plv.bounder.lifestate.LifeState.SubClassMatcher\",\"baseSubtypeOf\":[\"android.app.ProgressDialog\",\"android.app.Dialog\"],\"signatureMatcher\":\".*show.*\",\"ident\":\"Dialog_show\"},\"lsVars\":[{\"$type\":\"edu.colorado.plv.bounder.symbolicexecutor.state.NamedPureVar\",\"n\":\"d\"},{\"$type\":\"edu.colorado.plv.bounder.symbolicexecutor.state.TopVal\"},{\"$type\":\"edu.colorado.plv.bounder.symbolicexecutor.state.NamedPureVar\",\"n\":\"a\"}]},\"l2\":{\"$type\":\"edu.colorado.plv.bounder.lifestate.LifeState.Or\",\"l1\":{\"$type\":\"edu.colorado.plv.bounder.lifestate.LifeState.Not\",\"p\":{\"$type\":\"edu.colorado.plv.bounder.lifestate.LifeState.OAbsMsg\",\"mt\":{\"$type\":\"edu.colorado.plv.bounder.ir.CBEnter\"},\"signatures\":{\"$type\":\"edu.colorado.plv.bounder.lifestate.LifeState.SubClassMatcher\",\"baseSubtypeOf\":[\"android.app.Activity\",\"androidx.fragment.app.FragmentActivity\"],\"signatureMatcher\":\"void onResume\\\\(\\\\)\",\"ident\":\"Activity_onResume\"},\"lsVars\":[{\"$type\":\"edu.colorado.plv.bounder.symbolicexecutor.state.TopVal\"},{\"$type\":\"edu.colorado.plv.bounder.symbolicexecutor.state.NamedPureVar\",\"n\":\"a\"}]}},\"l2\":{\"$type\":\"edu.colorado.plv.bounder.lifestate.LifeState.NS\",\"i1\":{\"$type\":\"edu.colorado.plv.bounder.lifestate.LifeState.OAbsMsg\",\"mt\":{\"$type\":\"edu.colorado.plv.bounder.ir.CBExit\"},\"signatures\":{\"$type\":\"edu.colorado.plv.bounder.lifestate.LifeState.SubClassMatcher\",\"baseSubtypeOf\":[\"android.app.Activity\",\"androidx.fragment.app.FragmentActivity\"],\"signatureMatcher\":\"void onPause\\\\(\\\\)\",\"ident\":\"Activity_onPause\"},\"lsVars\":[{\"$type\":\"edu.colorado.plv.bounder.symbolicexecutor.state.TopVal\"},{\"$type\":\"edu.colorado.plv.bounder.symbolicexecutor.state.NamedPureVar\",\"n\":\"a\"}]},\"i2\":{\"$type\":\"edu.colorado.plv.bounder.lifestate.LifeState.OAbsMsg\",\"mt\":{\"$type\":\"edu.colorado.plv.bounder.ir.CBEnter\"},\"signatures\":{\"$type\":\"edu.colorado.plv.bounder.lifestate.LifeState.SubClassMatcher\",\"baseSubtypeOf\":[\"android.app.Activity\",\"androidx.fragment.app.FragmentActivity\"],\"signatureMatcher\":\"void onResume\\\\(\\\\)\",\"ident\":\"Activity_onResume\"},\"lsVars\":[{\"$type\":\"edu.colorado.plv.bounder.symbolicexecutor.state.TopVal\"},{\"$type\":\"edu.colorado.plv.bounder.symbolicexecutor.state.NamedPureVar\",\"n\":\"a\"}]}}}},\"target\":{\"$type\":\"edu.colorado.plv.bounder.lifestate.LifeState.OAbsMsg\",\"mt\":{\"$type\":\"edu.colorado.plv.bounder.ir.CIEnter\"},\"signatures\":{\"$type\":\"edu.colorado.plv.bounder.lifestate.LifeState.SubClassMatcher\",\"baseSubtypeOf\":[\"android.app.ProgressDialog\",\"android.app.Dialog\"],\"signatureMatcher\":\"void dismiss\\\\(\\\\)\",\"ident\":\"Dialog_dismiss\"},\"lsVars\":[{\"$type\":\"edu.colorado.plv.bounder.symbolicexecutor.state.TopVal\"},{\"$type\":\"edu.colorado.plv.bounder.symbolicexecutor.state.NamedPureVar\",\"n\":\"d\"}]}}]}",
        "tag": {
         "heuristicType": "SensitiveDerefFieldCausedSynch"
        },
        "timeLimit": 900
       },
       {
        "apkPath": "${baseDir}/fdroid/org.sipdroid.sipua/6.3beta/apk/org.sipdroid.sipua_134.apk",
        "configPath": [
         "/tmp/270335928576313844"
        ],
        "initialQuery": [
         {
          "className": "org.sipdroid.media.RtpStreamSender",
          "line": 496,
          "matcher": "void close()",
          "methodName": "void run()",
          "t": "ReceiverNonNull"
         }
        ],
        "outFolder": [
         "${baseDirOut}/org.sipdroid.sipua"
        ],
        "specSet": "{\"specs\":[],\"disallow\":[{\"univQuant\":[{\"$type\":\"edu.colorado.plv.bounder.symbolicexecutor.state.NamedPureVar\",\"n\":\"a\"},{\"$type\":\"edu.colorado.plv.bounder.symbolicexecutor.state.NamedPureVar\",\"n\":\"f\"}],\"existQuant\":[],\"pred\":{\"$type\":\"edu.colorado.plv.bounder.lifestate.LifeState.Or\",\"l1\":{\"$type\":\"edu.colorado.plv.bounder.lifestate.LifeState.NS\",\"i1\":{\"$type\":\"edu.colorado.plv.bounder.lifestate.LifeState.OAbsMsg\",\"mt\":{\"$type\":\"edu.colorado.plv.bounder.ir.CBExit\"},\"signatures\":{\"$type\":\"edu.colorado.plv.bounder.lifestate.LifeState.SubClassMatcher\",\"baseSubtypeOf\":[\"android.app.Fragment\",\"androidx.fragment.app.Fragment\",\"android.support.v4.app.Fragment\"],\"signatureMatcher\":\"void onDestroy\\\\(\\\\)\",\"ident\":\"Fragment_onDestroy\"},\"lsVars\":[{\"$type\":\"edu.colorado.plv.bounder.symbolicexecutor.state.TopVal\"},{\"$type\":\"edu.colorado.plv.bounder.symbolicexecutor.state.NamedPureVar\",\"n\":\"f\"}]},\"i2\":{\"$type\":\"edu.colorado.plv.bounder.lifestate.LifeState.OAbsMsg\",\"mt\":{\"$type\":\"edu.colorado.plv.bounder.ir.CBEnter\"},\"signatures\":{\"$type\":\"edu.colorado.plv.bounder.lifestate.LifeState.SubClassMatcher\",\"baseSubtypeOf\":[\"android.app.Fragment\",\"androidx.fragment.app.Fragment\",\"android.support.v4.app.Fragment\"],\"signatureMatcher\":\"void onActivityCreated\\\\(android.os.Bundle\\\\)\",\"ident\":\"Fragment_onActivityCreated\"},\"lsVars\":[{\"$type\":\"edu.colorado.plv.bounder.symbolicexecutor.state.TopVal\"},{\"$type\":\"edu.colorado.plv.bounder.symbolicexecutor.state.NamedPureVar\",\"n\":\"f\"}]}},\"l2\":{\"$type\":\"edu.colorado.plv.bounder.lifestate.LifeState.Not\",\"p\":{\"$type\":\"edu.colorado.plv.bounder.lifestate.LifeState.OAbsMsg\",\"mt\":{\"$type\":\"edu.colorado.plv.bounder.ir.CBEnter\"},\"signatures\":{\"$type\":\"edu.colorado.plv.bounder.lifestate.LifeState.SubClassMatcher\",\"baseSubtypeOf\":[\"android.app.Fragment\",\"androidx.fragment.app.Fragment\",\"android.support.v4.app.Fragment\"],\"signatureMatcher\":\"void onActivityCreated\\\\(android.os.Bundle\\\\)\",\"ident\":\"Fragment_onActivityCreated\"},\"lsVars\":[{\"$type\":\"edu.colorado.plv.bounder.symbolicexecutor.state.TopVal\"},{\"$type\":\"edu.colorado.plv.bounder.symbolicexecutor.state.NamedPureVar\",\"n\":\"f\"}]}}},\"target\":{\"$type\":\"edu.colorado.plv.bounder.lifestate.LifeState.OAbsMsg\",\"mt\":{\"$type\":\"edu.colorado.plv.bounder.ir.CIExit\"},\"signatures\":{\"$type\":\"edu.colorado.plv.bounder.lifestate.LifeState.SubClassMatcher\",\"baseSubtypeOf\":[\"android.app.Fragment\",\"androidx.fragment.app.Fragment\",\"android.support.v4.app.Fragment\"],\"signatureMatcher\":\".*Activity getActivity\\\\(\\\\)\",\"ident\":\"Fragment_getActivity\"},\"lsVars\":[{\"$type\":\"edu.colorado.plv.bounder.symbolicexecutor.state.NamedPureVar\",\"n\":\"a\"},{\"$type\":\"edu.colorado.plv.bounder.symbolicexecutor.state.NamedPureVar\",\"n\":\"f\"}]},\"rhsConstraints\":[{\"$type\":\"edu.colorado.plv.bounder.lifestate.LifeState.LSConstraint\",\"v1\":{\"$type\":\"edu.colorado.plv.bounder.symbolicexecutor.state.NamedPureVar\",\"n\":\"a\"},\"op\":{\"$type\":\"edu.colorado.plv.bounder.symbolicexecutor.state.Equals\"},\"v2\":{\"$type\":\"edu.colorado.plv.bounder.symbolicexecutor.state.NullVal\"}}]},{\"univQuant\":[{\"$type\":\"edu.colorado.plv.bounder.symbolicexecutor.state.NamedPureVar\",\"n\":\"t\"}],\"existQuant\":[],\"pred\":{\"$type\":\"edu.colorado.plv.bounder.lifestate.LifeState.OAbsMsg\",\"mt\":{\"$type\":\"edu.colorado.plv.bounder.ir.CIExit\"},\"signatures\":{\"$type\":\"edu.colorado.plv.bounder.lifestate.LifeState.SubClassMatcher\",\"baseSubtypeOf\":[\"android.os.AsyncTask\"],\"signatureMatcher\":\".*AsyncTask execute\\\\(.*\\\\)\",\"ident\":\"AsyncTask_execute\"},\"lsVars\":[{\"$type\":\"edu.colorado.plv.bounder.symbolicexecutor.state.TopVal\"},{\"$type\":\"edu.colorado.plv.bounder.symbolicexecutor.state.NamedPureVar\",\"n\":\"t\"}]},\"target\":{\"$type\":\"edu.colorado.plv.bounder.lifestate.LifeState.OAbsMsg\",\"mt\":{\"$type\":\"edu.colorado.plv.bounder.ir.CIEnter\"},\"signatures\":{\"$type\":\"edu.colorado.plv.bounder.lifestate.LifeState.SubClassMatcher\",\"baseSubtypeOf\":[\"android.os.AsyncTask\"],\"signatureMatcher\":\".*AsyncTask execute\\\\(.*\\\\)\",\"ident\":\"AsyncTask_execute\"},\"lsVars\":[{\"$type\":\"edu.colorado.plv.bounder.symbolicexecutor.state.TopVal\"},{\"$type\":\"edu.colorado.plv.bounder.symbolicexecutor.state.NamedPureVar\",\"n\":\"t\"}]}},{\"univQuant\":[{\"$type\":\"edu.colorado.plv.bounder.symbolicexecutor.state.NamedPureVar\",\"n\":\"d\"}],\"existQuant\":[{\"$type\":\"edu.colorado.plv.bounder.symbolicexecutor.state.NamedPureVar\",\"n\":\"a\"}],\"pred\":{\"$type\":\"edu.colorado.plv.bounder.lifestate.LifeState.And\",\"l1\":{\"$type\":\"edu.colorado.plv.bounder.lifestate.LifeState.OAbsMsg\",\"mt\":{\"$type\":\"edu.colorado.plv.bounder.ir.CIExit\"},\"signatures\":{\"$type\":\"edu.colorado.plv.bounder.lifestate.LifeState.SubClassMatcher\",\"baseSubtypeOf\":[\"android.app.ProgressDialog\",\"android.app.Dialog\"],\"signatureMatcher\":\".*show.*\",\"ident\":\"Dialog_show\"},\"lsVars\":[{\"$type\":\"edu.colorado.plv.bounder.symbolicexecutor.state.NamedPureVar\",\"n\":\"d\"},{\"$type\":\"edu.colorado.plv.bounder.symbolicexecutor.state.TopVal\"},{\"$type\":\"edu.colorado.plv.bounder.symbolicexecutor.state.NamedPureVar\",\"n\":\"a\"}]},\"l2\":{\"$type\":\"edu.colorado.plv.bounder.lifestate.LifeState.Or\",\"l1\":{\"$type\":\"edu.colorado.plv.bounder.lifestate.LifeState.Not\",\"p\":{\"$type\":\"edu.colorado.plv.bounder.lifestate.LifeState.OAbsMsg\",\"mt\":{\"$type\":\"edu.colorado.plv.bounder.ir.CBEnter\"},\"signatures\":{\"$type\":\"edu.colorado.plv.bounder.lifestate.LifeState.SubClassMatcher\",\"baseSubtypeOf\":[\"android.app.Activity\",\"androidx.fragment.app.FragmentActivity\"],\"signatureMatcher\":\"void onResume\\\\(\\\\)\",\"ident\":\"Activity_onResume\"},\"lsVars\":[{\"$type\":\"edu.colorado.plv.bounder.symbolicexecutor.state.TopVal\"},{\"$type\":\"edu.colorado.plv.bounder.symbolicexecutor.state.NamedPureVar\",\"n\":\"a\"}]}},\"l2\":{\"$type\":\"edu.colorado.plv.bounder.lifestate.LifeState.NS\",\"i1\":{\"$type\":\"edu.colorado.plv.bounder.lifestate.LifeState.OAbsMsg\",\"mt\":{\"$type\":\"edu.colorado.plv.bounder.ir.CBExit\"},\"signatures\":{\"$type\":\"edu.colorado.plv.bounder.lifestate.LifeState.SubClassMatcher\",\"baseSubtypeOf\":[\"android.app.Activity\",\"androidx.fragment.app.FragmentActivity\"],\"signatureMatcher\":\"void onPause\\\\(\\\\)\",\"ident\":\"Activity_onPause\"},\"lsVars\":[{\"$type\":\"edu.colorado.plv.bounder.symbolicexecutor.state.TopVal\"},{\"$type\":\"edu.colorado.plv.bounder.symbolicexecutor.state.NamedPureVar\",\"n\":\"a\"}]},\"i2\":{\"$type\":\"edu.colorado.plv.bounder.lifestate.LifeState.OAbsMsg\",\"mt\":{\"$type\":\"edu.colorado.plv.bounder.ir.CBEnter\"},\"signatures\":{\"$type\":\"edu.colorado.plv.bounder.lifestate.LifeState.SubClassMatcher\",\"baseSubtypeOf\":[\"android.app.Activity\",\"androidx.fragment.app.FragmentActivity\"],\"signatureMatcher\":\"void onResume\\\\(\\\\)\",\"ident\":\"Activity_onResume\"},\"lsVars\":[{\"$type\":\"edu.colorado.plv.bounder.symbolicexecutor.state.TopVal\"},{\"$type\":\"edu.colorado.plv.bounder.symbolicexecutor.state.NamedPureVar\",\"n\":\"a\"}]}}}},\"target\":{\"$type\":\"edu.colorado.plv.bounder.lifestate.LifeState.OAbsMsg\",\"mt\":{\"$type\":\"edu.colorado.plv.bounder.ir.CIEnter\"},\"signatures\":{\"$type\":\"edu.colorado.plv.bounder.lifestate.LifeState.SubClassMatcher\",\"baseSubtypeOf\":[\"android.app.ProgressDialog\",\"android.app.Dialog\"],\"signatureMatcher\":\"void dismiss\\\\(\\\\)\",\"ident\":\"Dialog_dismiss\"},\"lsVars\":[{\"$type\":\"edu.colorado.plv.bounder.symbolicexecutor.state.TopVal\"},{\"$type\":\"edu.colorado.plv.bounder.symbolicexecutor.state.NamedPureVar\",\"n\":\"d\"}]}}]}",
        "tag": {
         "heuristicType": "SensitiveDerefFieldCausedSynch"
        },
        "timeLimit": 900
       },
       {
        "apkPath": "${baseDir}/fdroid/org.sipdroid.sipua/6.3beta/apk/org.sipdroid.sipua_134.apk",
        "configPath": [
         "/tmp/270335928576313844"
        ],
        "initialQuery": [
         {
          "className": "org.sipdroid.media.RtpStreamSender",
          "line": 496,
          "matcher": "org.sipdroid.net.SipdroidSocket getDatagramSocket()",
          "methodName": "void run()",
          "t": "ReceiverNonNull"
         }
        ],
        "outFolder": [
         "${baseDirOut}/org.sipdroid.sipua"
        ],
        "specSet": "{\"specs\":[],\"disallow\":[{\"univQuant\":[{\"$type\":\"edu.colorado.plv.bounder.symbolicexecutor.state.NamedPureVar\",\"n\":\"a\"},{\"$type\":\"edu.colorado.plv.bounder.symbolicexecutor.state.NamedPureVar\",\"n\":\"f\"}],\"existQuant\":[],\"pred\":{\"$type\":\"edu.colorado.plv.bounder.lifestate.LifeState.Or\",\"l1\":{\"$type\":\"edu.colorado.plv.bounder.lifestate.LifeState.NS\",\"i1\":{\"$type\":\"edu.colorado.plv.bounder.lifestate.LifeState.OAbsMsg\",\"mt\":{\"$type\":\"edu.colorado.plv.bounder.ir.CBExit\"},\"signatures\":{\"$type\":\"edu.colorado.plv.bounder.lifestate.LifeState.SubClassMatcher\",\"baseSubtypeOf\":[\"android.app.Fragment\",\"androidx.fragment.app.Fragment\",\"android.support.v4.app.Fragment\"],\"signatureMatcher\":\"void onDestroy\\\\(\\\\)\",\"ident\":\"Fragment_onDestroy\"},\"lsVars\":[{\"$type\":\"edu.colorado.plv.bounder.symbolicexecutor.state.TopVal\"},{\"$type\":\"edu.colorado.plv.bounder.symbolicexecutor.state.NamedPureVar\",\"n\":\"f\"}]},\"i2\":{\"$type\":\"edu.colorado.plv.bounder.lifestate.LifeState.OAbsMsg\",\"mt\":{\"$type\":\"edu.colorado.plv.bounder.ir.CBEnter\"},\"signatures\":{\"$type\":\"edu.colorado.plv.bounder.lifestate.LifeState.SubClassMatcher\",\"baseSubtypeOf\":[\"android.app.Fragment\",\"androidx.fragment.app.Fragment\",\"android.support.v4.app.Fragment\"],\"signatureMatcher\":\"void onActivityCreated\\\\(android.os.Bundle\\\\)\",\"ident\":\"Fragment_onActivityCreated\"},\"lsVars\":[{\"$type\":\"edu.colorado.plv.bounder.symbolicexecutor.state.TopVal\"},{\"$type\":\"edu.colorado.plv.bounder.symbolicexecutor.state.NamedPureVar\",\"n\":\"f\"}]}},\"l2\":{\"$type\":\"edu.colorado.plv.bounder.lifestate.LifeState.Not\",\"p\":{\"$type\":\"edu.colorado.plv.bounder.lifestate.LifeState.OAbsMsg\",\"mt\":{\"$type\":\"edu.colorado.plv.bounder.ir.CBEnter\"},\"signatures\":{\"$type\":\"edu.colorado.plv.bounder.lifestate.LifeState.SubClassMatcher\",\"baseSubtypeOf\":[\"android.app.Fragment\",\"androidx.fragment.app.Fragment\",\"android.support.v4.app.Fragment\"],\"signatureMatcher\":\"void onActivityCreated\\\\(android.os.Bundle\\\\)\",\"ident\":\"Fragment_onActivityCreated\"},\"lsVars\":[{\"$type\":\"edu.colorado.plv.bounder.symbolicexecutor.state.TopVal\"},{\"$type\":\"edu.colorado.plv.bounder.symbolicexecutor.state.NamedPureVar\",\"n\":\"f\"}]}}},\"target\":{\"$type\":\"edu.colorado.plv.bounder.lifestate.LifeState.OAbsMsg\",\"mt\":{\"$type\":\"edu.colorado.plv.bounder.ir.CIExit\"},\"signatures\":{\"$type\":\"edu.colorado.plv.bounder.lifestate.LifeState.SubClassMatcher\",\"baseSubtypeOf\":[\"android.app.Fragment\",\"androidx.fragment.app.Fragment\",\"android.support.v4.app.Fragment\"],\"signatureMatcher\":\".*Activity getActivity\\\\(\\\\)\",\"ident\":\"Fragment_getActivity\"},\"lsVars\":[{\"$type\":\"edu.colorado.plv.bounder.symbolicexecutor.state.NamedPureVar\",\"n\":\"a\"},{\"$type\":\"edu.colorado.plv.bounder.symbolicexecutor.state.NamedPureVar\",\"n\":\"f\"}]},\"rhsConstraints\":[{\"$type\":\"edu.colorado.plv.bounder.lifestate.LifeState.LSConstraint\",\"v1\":{\"$type\":\"edu.colorado.plv.bounder.symbolicexecutor.state.NamedPureVar\",\"n\":\"a\"},\"op\":{\"$type\":\"edu.colorado.plv.bounder.symbolicexecutor.state.Equals\"},\"v2\":{\"$type\":\"edu.colorado.plv.bounder.symbolicexecutor.state.NullVal\"}}]},{\"univQuant\":[{\"$type\":\"edu.colorado.plv.bounder.symbolicexecutor.state.NamedPureVar\",\"n\":\"t\"}],\"existQuant\":[],\"pred\":{\"$type\":\"edu.colorado.plv.bounder.lifestate.LifeState.OAbsMsg\",\"mt\":{\"$type\":\"edu.colorado.plv.bounder.ir.CIExit\"},\"signatures\":{\"$type\":\"edu.colorado.plv.bounder.lifestate.LifeState.SubClassMatcher\",\"baseSubtypeOf\":[\"android.os.AsyncTask\"],\"signatureMatcher\":\".*AsyncTask execute\\\\(.*\\\\)\",\"ident\":\"AsyncTask_execute\"},\"lsVars\":[{\"$type\":\"edu.colorado.plv.bounder.symbolicexecutor.state.TopVal\"},{\"$type\":\"edu.colorado.plv.bounder.symbolicexecutor.state.NamedPureVar\",\"n\":\"t\"}]},\"target\":{\"$type\":\"edu.colorado.plv.bounder.lifestate.LifeState.OAbsMsg\",\"mt\":{\"$type\":\"edu.colorado.plv.bounder.ir.CIEnter\"},\"signatures\":{\"$type\":\"edu.colorado.plv.bounder.lifestate.LifeState.SubClassMatcher\",\"baseSubtypeOf\":[\"android.os.AsyncTask\"],\"signatureMatcher\":\".*AsyncTask execute\\\\(.*\\\\)\",\"ident\":\"AsyncTask_execute\"},\"lsVars\":[{\"$type\":\"edu.colorado.plv.bounder.symbolicexecutor.state.TopVal\"},{\"$type\":\"edu.colorado.plv.bounder.symbolicexecutor.state.NamedPureVar\",\"n\":\"t\"}]}},{\"univQuant\":[{\"$type\":\"edu.colorado.plv.bounder.symbolicexecutor.state.NamedPureVar\",\"n\":\"d\"}],\"existQuant\":[{\"$type\":\"edu.colorado.plv.bounder.symbolicexecutor.state.NamedPureVar\",\"n\":\"a\"}],\"pred\":{\"$type\":\"edu.colorado.plv.bounder.lifestate.LifeState.And\",\"l1\":{\"$type\":\"edu.colorado.plv.bounder.lifestate.LifeState.OAbsMsg\",\"mt\":{\"$type\":\"edu.colorado.plv.bounder.ir.CIExit\"},\"signatures\":{\"$type\":\"edu.colorado.plv.bounder.lifestate.LifeState.SubClassMatcher\",\"baseSubtypeOf\":[\"android.app.ProgressDialog\",\"android.app.Dialog\"],\"signatureMatcher\":\".*show.*\",\"ident\":\"Dialog_show\"},\"lsVars\":[{\"$type\":\"edu.colorado.plv.bounder.symbolicexecutor.state.NamedPureVar\",\"n\":\"d\"},{\"$type\":\"edu.colorado.plv.bounder.symbolicexecutor.state.TopVal\"},{\"$type\":\"edu.colorado.plv.bounder.symbolicexecutor.state.NamedPureVar\",\"n\":\"a\"}]},\"l2\":{\"$type\":\"edu.colorado.plv.bounder.lifestate.LifeState.Or\",\"l1\":{\"$type\":\"edu.colorado.plv.bounder.lifestate.LifeState.Not\",\"p\":{\"$type\":\"edu.colorado.plv.bounder.lifestate.LifeState.OAbsMsg\",\"mt\":{\"$type\":\"edu.colorado.plv.bounder.ir.CBEnter\"},\"signatures\":{\"$type\":\"edu.colorado.plv.bounder.lifestate.LifeState.SubClassMatcher\",\"baseSubtypeOf\":[\"android.app.Activity\",\"androidx.fragment.app.FragmentActivity\"],\"signatureMatcher\":\"void onResume\\\\(\\\\)\",\"ident\":\"Activity_onResume\"},\"lsVars\":[{\"$type\":\"edu.colorado.plv.bounder.symbolicexecutor.state.TopVal\"},{\"$type\":\"edu.colorado.plv.bounder.symbolicexecutor.state.NamedPureVar\",\"n\":\"a\"}]}},\"l2\":{\"$type\":\"edu.colorado.plv.bounder.lifestate.LifeState.NS\",\"i1\":{\"$type\":\"edu.colorado.plv.bounder.lifestate.LifeState.OAbsMsg\",\"mt\":{\"$type\":\"edu.colorado.plv.bounder.ir.CBExit\"},\"signatures\":{\"$type\":\"edu.colorado.plv.bounder.lifestate.LifeState.SubClassMatcher\",\"baseSubtypeOf\":[\"android.app.Activity\",\"androidx.fragment.app.FragmentActivity\"],\"signatureMatcher\":\"void onPause\\\\(\\\\)\",\"ident\":\"Activity_onPause\"},\"lsVars\":[{\"$type\":\"edu.colorado.plv.bounder.symbolicexecutor.state.TopVal\"},{\"$type\":\"edu.colorado.plv.bounder.symbolicexecutor.state.NamedPureVar\",\"n\":\"a\"}]},\"i2\":{\"$type\":\"edu.colorado.plv.bounder.lifestate.LifeState.OAbsMsg\",\"mt\":{\"$type\":\"edu.colorado.plv.bounder.ir.CBEnter\"},\"signatures\":{\"$type\":\"edu.colorado.plv.bounder.lifestate.LifeState.SubClassMatcher\",\"baseSubtypeOf\":[\"android.app.Activity\",\"androidx.fragment.app.FragmentActivity\"],\"signatureMatcher\":\"void onResume\\\\(\\\\)\",\"ident\":\"Activity_onResume\"},\"lsVars\":[{\"$type\":\"edu.colorado.plv.bounder.symbolicexecutor.state.TopVal\"},{\"$type\":\"edu.colorado.plv.bounder.symbolicexecutor.state.NamedPureVar\",\"n\":\"a\"}]}}}},\"target\":{\"$type\":\"edu.colorado.plv.bounder.lifestate.LifeState.OAbsMsg\",\"mt\":{\"$type\":\"edu.colorado.plv.bounder.ir.CIEnter\"},\"signatures\":{\"$type\":\"edu.colorado.plv.bounder.lifestate.LifeState.SubClassMatcher\",\"baseSubtypeOf\":[\"android.app.ProgressDialog\",\"android.app.Dialog\"],\"signatureMatcher\":\"void dismiss\\\\(\\\\)\",\"ident\":\"Dialog_dismiss\"},\"lsVars\":[{\"$type\":\"edu.colorado.plv.bounder.symbolicexecutor.state.TopVal\"},{\"$type\":\"edu.colorado.plv.bounder.symbolicexecutor.state.NamedPureVar\",\"n\":\"d\"}]}}]}",
        "tag": {
         "heuristicType": "SensitiveDerefFieldCausedSynch"
        },
        "timeLimit": 900
       },
       {
        "apkPath": "${baseDir}/fdroid/be.digitalia.fosdem/2.1.1/apk/be.digitalia.fosdem_1900211.apk",
        "configPath": [
         "/tmp/1616220754643788746"
        ],
        "initialQuery": [
         {
          "className": "k.J0",
          "line": 18,
          "matcher": "void requestLayout()",
          "methodName": "void run()",
          "t": "ReceiverNonNull"
         }
        ],
        "outFolder": [
         "${baseDirOut}/be.digitalia.fosdem"
        ],
        "specSet": "{\"specs\":[],\"disallow\":[{\"univQuant\":[{\"$type\":\"edu.colorado.plv.bounder.symbolicexecutor.state.NamedPureVar\",\"n\":\"a\"},{\"$type\":\"edu.colorado.plv.bounder.symbolicexecutor.state.NamedPureVar\",\"n\":\"f\"}],\"existQuant\":[],\"pred\":{\"$type\":\"edu.colorado.plv.bounder.lifestate.LifeState.Or\",\"l1\":{\"$type\":\"edu.colorado.plv.bounder.lifestate.LifeState.NS\",\"i1\":{\"$type\":\"edu.colorado.plv.bounder.lifestate.LifeState.OAbsMsg\",\"mt\":{\"$type\":\"edu.colorado.plv.bounder.ir.CBExit\"},\"signatures\":{\"$type\":\"edu.colorado.plv.bounder.lifestate.LifeState.SubClassMatcher\",\"baseSubtypeOf\":[\"android.app.Fragment\",\"androidx.fragment.app.Fragment\",\"android.support.v4.app.Fragment\"],\"signatureMatcher\":\"void onDestroy\\\\(\\\\)\",\"ident\":\"Fragment_onDestroy\"},\"lsVars\":[{\"$type\":\"edu.colorado.plv.bounder.symbolicexecutor.state.TopVal\"},{\"$type\":\"edu.colorado.plv.bounder.symbolicexecutor.state.NamedPureVar\",\"n\":\"f\"}]},\"i2\":{\"$type\":\"edu.colorado.plv.bounder.lifestate.LifeState.OAbsMsg\",\"mt\":{\"$type\":\"edu.colorado.plv.bounder.ir.CBEnter\"},\"signatures\":{\"$type\":\"edu.colorado.plv.bounder.lifestate.LifeState.SubClassMatcher\",\"baseSubtypeOf\":[\"android.app.Fragment\",\"androidx.fragment.app.Fragment\",\"android.support.v4.app.Fragment\"],\"signatureMatcher\":\"void onActivityCreated\\\\(android.os.Bundle\\\\)\",\"ident\":\"Fragment_onActivityCreated\"},\"lsVars\":[{\"$type\":\"edu.colorado.plv.bounder.symbolicexecutor.state.TopVal\"},{\"$type\":\"edu.colorado.plv.bounder.symbolicexecutor.state.NamedPureVar\",\"n\":\"f\"}]}},\"l2\":{\"$type\":\"edu.colorado.plv.bounder.lifestate.LifeState.Not\",\"p\":{\"$type\":\"edu.colorado.plv.bounder.lifestate.LifeState.OAbsMsg\",\"mt\":{\"$type\":\"edu.colorado.plv.bounder.ir.CBEnter\"},\"signatures\":{\"$type\":\"edu.colorado.plv.bounder.lifestate.LifeState.SubClassMatcher\",\"baseSubtypeOf\":[\"android.app.Fragment\",\"androidx.fragment.app.Fragment\",\"android.support.v4.app.Fragment\"],\"signatureMatcher\":\"void onActivityCreated\\\\(android.os.Bundle\\\\)\",\"ident\":\"Fragment_onActivityCreated\"},\"lsVars\":[{\"$type\":\"edu.colorado.plv.bounder.symbolicexecutor.state.TopVal\"},{\"$type\":\"edu.colorado.plv.bounder.symbolicexecutor.state.NamedPureVar\",\"n\":\"f\"}]}}},\"target\":{\"$type\":\"edu.colorado.plv.bounder.lifestate.LifeState.OAbsMsg\",\"mt\":{\"$type\":\"edu.colorado.plv.bounder.ir.CIExit\"},\"signatures\":{\"$type\":\"edu.colorado.plv.bounder.lifestate.LifeState.SubClassMatcher\",\"baseSubtypeOf\":[\"android.app.Fragment\",\"androidx.fragment.app.Fragment\",\"android.support.v4.app.Fragment\"],\"signatureMatcher\":\".*Activity getActivity\\\\(\\\\)\",\"ident\":\"Fragment_getActivity\"},\"lsVars\":[{\"$type\":\"edu.colorado.plv.bounder.symbolicexecutor.state.NamedPureVar\",\"n\":\"a\"},{\"$type\":\"edu.colorado.plv.bounder.symbolicexecutor.state.NamedPureVar\",\"n\":\"f\"}]},\"rhsConstraints\":[{\"$type\":\"edu.colorado.plv.bounder.lifestate.LifeState.LSConstraint\",\"v1\":{\"$type\":\"edu.colorado.plv.bounder.symbolicexecutor.state.NamedPureVar\",\"n\":\"a\"},\"op\":{\"$type\":\"edu.colorado.plv.bounder.symbolicexecutor.state.Equals\"},\"v2\":{\"$type\":\"edu.colorado.plv.bounder.symbolicexecutor.state.NullVal\"}}]},{\"univQuant\":[{\"$type\":\"edu.colorado.plv.bounder.symbolicexecutor.state.NamedPureVar\",\"n\":\"t\"}],\"existQuant\":[],\"pred\":{\"$type\":\"edu.colorado.plv.bounder.lifestate.LifeState.OAbsMsg\",\"mt\":{\"$type\":\"edu.colorado.plv.bounder.ir.CIExit\"},\"signatures\":{\"$type\":\"edu.colorado.plv.bounder.lifestate.LifeState.SubClassMatcher\",\"baseSubtypeOf\":[\"android.os.AsyncTask\"],\"signatureMatcher\":\".*AsyncTask execute\\\\(.*\\\\)\",\"ident\":\"AsyncTask_execute\"},\"lsVars\":[{\"$type\":\"edu.colorado.plv.bounder.symbolicexecutor.state.TopVal\"},{\"$type\":\"edu.colorado.plv.bounder.symbolicexecutor.state.NamedPureVar\",\"n\":\"t\"}]},\"target\":{\"$type\":\"edu.colorado.plv.bounder.lifestate.LifeState.OAbsMsg\",\"mt\":{\"$type\":\"edu.colorado.plv.bounder.ir.CIEnter\"},\"signatures\":{\"$type\":\"edu.colorado.plv.bounder.lifestate.LifeState.SubClassMatcher\",\"baseSubtypeOf\":[\"android.os.AsyncTask\"],\"signatureMatcher\":\".*AsyncTask execute\\\\(.*\\\\)\",\"ident\":\"AsyncTask_execute\"},\"lsVars\":[{\"$type\":\"edu.colorado.plv.bounder.symbolicexecutor.state.TopVal\"},{\"$type\":\"edu.colorado.plv.bounder.symbolicexecutor.state.NamedPureVar\",\"n\":\"t\"}]}},{\"univQuant\":[{\"$type\":\"edu.colorado.plv.bounder.symbolicexecutor.state.NamedPureVar\",\"n\":\"d\"}],\"existQuant\":[{\"$type\":\"edu.colorado.plv.bounder.symbolicexecutor.state.NamedPureVar\",\"n\":\"a\"}],\"pred\":{\"$type\":\"edu.colorado.plv.bounder.lifestate.LifeState.And\",\"l1\":{\"$type\":\"edu.colorado.plv.bounder.lifestate.LifeState.OAbsMsg\",\"mt\":{\"$type\":\"edu.colorado.plv.bounder.ir.CIExit\"},\"signatures\":{\"$type\":\"edu.colorado.plv.bounder.lifestate.LifeState.SubClassMatcher\",\"baseSubtypeOf\":[\"android.app.ProgressDialog\",\"android.app.Dialog\"],\"signatureMatcher\":\".*show.*\",\"ident\":\"Dialog_show\"},\"lsVars\":[{\"$type\":\"edu.colorado.plv.bounder.symbolicexecutor.state.NamedPureVar\",\"n\":\"d\"},{\"$type\":\"edu.colorado.plv.bounder.symbolicexecutor.state.TopVal\"},{\"$type\":\"edu.colorado.plv.bounder.symbolicexecutor.state.NamedPureVar\",\"n\":\"a\"}]},\"l2\":{\"$type\":\"edu.colorado.plv.bounder.lifestate.LifeState.Or\",\"l1\":{\"$type\":\"edu.colorado.plv.bounder.lifestate.LifeState.Not\",\"p\":{\"$type\":\"edu.colorado.plv.bounder.lifestate.LifeState.OAbsMsg\",\"mt\":{\"$type\":\"edu.colorado.plv.bounder.ir.CBEnter\"},\"signatures\":{\"$type\":\"edu.colorado.plv.bounder.lifestate.LifeState.SubClassMatcher\",\"baseSubtypeOf\":[\"android.app.Activity\",\"androidx.fragment.app.FragmentActivity\"],\"signatureMatcher\":\"void onResume\\\\(\\\\)\",\"ident\":\"Activity_onResume\"},\"lsVars\":[{\"$type\":\"edu.colorado.plv.bounder.symbolicexecutor.state.TopVal\"},{\"$type\":\"edu.colorado.plv.bounder.symbolicexecutor.state.NamedPureVar\",\"n\":\"a\"}]}},\"l2\":{\"$type\":\"edu.colorado.plv.bounder.lifestate.LifeState.NS\",\"i1\":{\"$type\":\"edu.colorado.plv.bounder.lifestate.LifeState.OAbsMsg\",\"mt\":{\"$type\":\"edu.colorado.plv.bounder.ir.CBExit\"},\"signatures\":{\"$type\":\"edu.colorado.plv.bounder.lifestate.LifeState.SubClassMatcher\",\"baseSubtypeOf\":[\"android.app.Activity\",\"androidx.fragment.app.FragmentActivity\"],\"signatureMatcher\":\"void onPause\\\\(\\\\)\",\"ident\":\"Activity_onPause\"},\"lsVars\":[{\"$type\":\"edu.colorado.plv.bounder.symbolicexecutor.state.TopVal\"},{\"$type\":\"edu.colorado.plv.bounder.symbolicexecutor.state.NamedPureVar\",\"n\":\"a\"}]},\"i2\":{\"$type\":\"edu.colorado.plv.bounder.lifestate.LifeState.OAbsMsg\",\"mt\":{\"$type\":\"edu.colorado.plv.bounder.ir.CBEnter\"},\"signatures\":{\"$type\":\"edu.colorado.plv.bounder.lifestate.LifeState.SubClassMatcher\",\"baseSubtypeOf\":[\"android.app.Activity\",\"androidx.fragment.app.FragmentActivity\"],\"signatureMatcher\":\"void onResume\\\\(\\\\)\",\"ident\":\"Activity_onResume\"},\"lsVars\":[{\"$type\":\"edu.colorado.plv.bounder.symbolicexecutor.state.TopVal\"},{\"$type\":\"edu.colorado.plv.bounder.symbolicexecutor.state.NamedPureVar\",\"n\":\"a\"}]}}}},\"target\":{\"$type\":\"edu.colorado.plv.bounder.lifestate.LifeState.OAbsMsg\",\"mt\":{\"$type\":\"edu.colorado.plv.bounder.ir.CIEnter\"},\"signatures\":{\"$type\":\"edu.colorado.plv.bounder.lifestate.LifeState.SubClassMatcher\",\"baseSubtypeOf\":[\"android.app.ProgressDialog\",\"android.app.Dialog\"],\"signatureMatcher\":\"void dismiss\\\\(\\\\)\",\"ident\":\"Dialog_dismiss\"},\"lsVars\":[{\"$type\":\"edu.colorado.plv.bounder.symbolicexecutor.state.TopVal\"},{\"$type\":\"edu.colorado.plv.bounder.symbolicexecutor.state.NamedPureVar\",\"n\":\"d\"}]}}]}",
        "tag": {
         "heuristicType": "SensitiveDerefFieldCausedSynch"
        },
        "timeLimit": 900
       },
       {
        "apkPath": "${baseDir}/fdroid/be.digitalia.fosdem/2.1.1/apk/be.digitalia.fosdem_1900211.apk",
        "configPath": [
         "/tmp/1616220754643788746"
        ],
        "initialQuery": [
         {
          "className": "e0.p",
          "line": 27,
          "matcher": "int b(e0.h,java.lang.String)",
          "methodName": "void run()",
          "t": "ReceiverNonNull"
         }
        ],
        "outFolder": [
         "${baseDirOut}/be.digitalia.fosdem"
        ],
        "specSet": "{\"specs\":[],\"disallow\":[{\"univQuant\":[{\"$type\":\"edu.colorado.plv.bounder.symbolicexecutor.state.NamedPureVar\",\"n\":\"a\"},{\"$type\":\"edu.colorado.plv.bounder.symbolicexecutor.state.NamedPureVar\",\"n\":\"f\"}],\"existQuant\":[],\"pred\":{\"$type\":\"edu.colorado.plv.bounder.lifestate.LifeState.Or\",\"l1\":{\"$type\":\"edu.colorado.plv.bounder.lifestate.LifeState.NS\",\"i1\":{\"$type\":\"edu.colorado.plv.bounder.lifestate.LifeState.OAbsMsg\",\"mt\":{\"$type\":\"edu.colorado.plv.bounder.ir.CBExit\"},\"signatures\":{\"$type\":\"edu.colorado.plv.bounder.lifestate.LifeState.SubClassMatcher\",\"baseSubtypeOf\":[\"android.app.Fragment\",\"androidx.fragment.app.Fragment\",\"android.support.v4.app.Fragment\"],\"signatureMatcher\":\"void onDestroy\\\\(\\\\)\",\"ident\":\"Fragment_onDestroy\"},\"lsVars\":[{\"$type\":\"edu.colorado.plv.bounder.symbolicexecutor.state.TopVal\"},{\"$type\":\"edu.colorado.plv.bounder.symbolicexecutor.state.NamedPureVar\",\"n\":\"f\"}]},\"i2\":{\"$type\":\"edu.colorado.plv.bounder.lifestate.LifeState.OAbsMsg\",\"mt\":{\"$type\":\"edu.colorado.plv.bounder.ir.CBEnter\"},\"signatures\":{\"$type\":\"edu.colorado.plv.bounder.lifestate.LifeState.SubClassMatcher\",\"baseSubtypeOf\":[\"android.app.Fragment\",\"androidx.fragment.app.Fragment\",\"android.support.v4.app.Fragment\"],\"signatureMatcher\":\"void onActivityCreated\\\\(android.os.Bundle\\\\)\",\"ident\":\"Fragment_onActivityCreated\"},\"lsVars\":[{\"$type\":\"edu.colorado.plv.bounder.symbolicexecutor.state.TopVal\"},{\"$type\":\"edu.colorado.plv.bounder.symbolicexecutor.state.NamedPureVar\",\"n\":\"f\"}]}},\"l2\":{\"$type\":\"edu.colorado.plv.bounder.lifestate.LifeState.Not\",\"p\":{\"$type\":\"edu.colorado.plv.bounder.lifestate.LifeState.OAbsMsg\",\"mt\":{\"$type\":\"edu.colorado.plv.bounder.ir.CBEnter\"},\"signatures\":{\"$type\":\"edu.colorado.plv.bounder.lifestate.LifeState.SubClassMatcher\",\"baseSubtypeOf\":[\"android.app.Fragment\",\"androidx.fragment.app.Fragment\",\"android.support.v4.app.Fragment\"],\"signatureMatcher\":\"void onActivityCreated\\\\(android.os.Bundle\\\\)\",\"ident\":\"Fragment_onActivityCreated\"},\"lsVars\":[{\"$type\":\"edu.colorado.plv.bounder.symbolicexecutor.state.TopVal\"},{\"$type\":\"edu.colorado.plv.bounder.symbolicexecutor.state.NamedPureVar\",\"n\":\"f\"}]}}},\"target\":{\"$type\":\"edu.colorado.plv.bounder.lifestate.LifeState.OAbsMsg\",\"mt\":{\"$type\":\"edu.colorado.plv.bounder.ir.CIExit\"},\"signatures\":{\"$type\":\"edu.colorado.plv.bounder.lifestate.LifeState.SubClassMatcher\",\"baseSubtypeOf\":[\"android.app.Fragment\",\"androidx.fragment.app.Fragment\",\"android.support.v4.app.Fragment\"],\"signatureMatcher\":\".*Activity getActivity\\\\(\\\\)\",\"ident\":\"Fragment_getActivity\"},\"lsVars\":[{\"$type\":\"edu.colorado.plv.bounder.symbolicexecutor.state.NamedPureVar\",\"n\":\"a\"},{\"$type\":\"edu.colorado.plv.bounder.symbolicexecutor.state.NamedPureVar\",\"n\":\"f\"}]},\"rhsConstraints\":[{\"$type\":\"edu.colorado.plv.bounder.lifestate.LifeState.LSConstraint\",\"v1\":{\"$type\":\"edu.colorado.plv.bounder.symbolicexecutor.state.NamedPureVar\",\"n\":\"a\"},\"op\":{\"$type\":\"edu.colorado.plv.bounder.symbolicexecutor.state.Equals\"},\"v2\":{\"$type\":\"edu.colorado.plv.bounder.symbolicexecutor.state.NullVal\"}}]},{\"univQuant\":[{\"$type\":\"edu.colorado.plv.bounder.symbolicexecutor.state.NamedPureVar\",\"n\":\"t\"}],\"existQuant\":[],\"pred\":{\"$type\":\"edu.colorado.plv.bounder.lifestate.LifeState.OAbsMsg\",\"mt\":{\"$type\":\"edu.colorado.plv.bounder.ir.CIExit\"},\"signatures\":{\"$type\":\"edu.colorado.plv.bounder.lifestate.LifeState.SubClassMatcher\",\"baseSubtypeOf\":[\"android.os.AsyncTask\"],\"signatureMatcher\":\".*AsyncTask execute\\\\(.*\\\\)\",\"ident\":\"AsyncTask_execute\"},\"lsVars\":[{\"$type\":\"edu.colorado.plv.bounder.symbolicexecutor.state.TopVal\"},{\"$type\":\"edu.colorado.plv.bounder.symbolicexecutor.state.NamedPureVar\",\"n\":\"t\"}]},\"target\":{\"$type\":\"edu.colorado.plv.bounder.lifestate.LifeState.OAbsMsg\",\"mt\":{\"$type\":\"edu.colorado.plv.bounder.ir.CIEnter\"},\"signatures\":{\"$type\":\"edu.colorado.plv.bounder.lifestate.LifeState.SubClassMatcher\",\"baseSubtypeOf\":[\"android.os.AsyncTask\"],\"signatureMatcher\":\".*AsyncTask execute\\\\(.*\\\\)\",\"ident\":\"AsyncTask_execute\"},\"lsVars\":[{\"$type\":\"edu.colorado.plv.bounder.symbolicexecutor.state.TopVal\"},{\"$type\":\"edu.colorado.plv.bounder.symbolicexecutor.state.NamedPureVar\",\"n\":\"t\"}]}},{\"univQuant\":[{\"$type\":\"edu.colorado.plv.bounder.symbolicexecutor.state.NamedPureVar\",\"n\":\"d\"}],\"existQuant\":[{\"$type\":\"edu.colorado.plv.bounder.symbolicexecutor.state.NamedPureVar\",\"n\":\"a\"}],\"pred\":{\"$type\":\"edu.colorado.plv.bounder.lifestate.LifeState.And\",\"l1\":{\"$type\":\"edu.colorado.plv.bounder.lifestate.LifeState.OAbsMsg\",\"mt\":{\"$type\":\"edu.colorado.plv.bounder.ir.CIExit\"},\"signatures\":{\"$type\":\"edu.colorado.plv.bounder.lifestate.LifeState.SubClassMatcher\",\"baseSubtypeOf\":[\"android.app.ProgressDialog\",\"android.app.Dialog\"],\"signatureMatcher\":\".*show.*\",\"ident\":\"Dialog_show\"},\"lsVars\":[{\"$type\":\"edu.colorado.plv.bounder.symbolicexecutor.state.NamedPureVar\",\"n\":\"d\"},{\"$type\":\"edu.colorado.plv.bounder.symbolicexecutor.state.TopVal\"},{\"$type\":\"edu.colorado.plv.bounder.symbolicexecutor.state.NamedPureVar\",\"n\":\"a\"}]},\"l2\":{\"$type\":\"edu.colorado.plv.bounder.lifestate.LifeState.Or\",\"l1\":{\"$type\":\"edu.colorado.plv.bounder.lifestate.LifeState.Not\",\"p\":{\"$type\":\"edu.colorado.plv.bounder.lifestate.LifeState.OAbsMsg\",\"mt\":{\"$type\":\"edu.colorado.plv.bounder.ir.CBEnter\"},\"signatures\":{\"$type\":\"edu.colorado.plv.bounder.lifestate.LifeState.SubClassMatcher\",\"baseSubtypeOf\":[\"android.app.Activity\",\"androidx.fragment.app.FragmentActivity\"],\"signatureMatcher\":\"void onResume\\\\(\\\\)\",\"ident\":\"Activity_onResume\"},\"lsVars\":[{\"$type\":\"edu.colorado.plv.bounder.symbolicexecutor.state.TopVal\"},{\"$type\":\"edu.colorado.plv.bounder.symbolicexecutor.state.NamedPureVar\",\"n\":\"a\"}]}},\"l2\":{\"$type\":\"edu.colorado.plv.bounder.lifestate.LifeState.NS\",\"i1\":{\"$type\":\"edu.colorado.plv.bounder.lifestate.LifeState.OAbsMsg\",\"mt\":{\"$type\":\"edu.colorado.plv.bounder.ir.CBExit\"},\"signatures\":{\"$type\":\"edu.colorado.plv.bounder.lifestate.LifeState.SubClassMatcher\",\"baseSubtypeOf\":[\"android.app.Activity\",\"androidx.fragment.app.FragmentActivity\"],\"signatureMatcher\":\"void onPause\\\\(\\\\)\",\"ident\":\"Activity_onPause\"},\"lsVars\":[{\"$type\":\"edu.colorado.plv.bounder.symbolicexecutor.state.TopVal\"},{\"$type\":\"edu.colorado.plv.bounder.symbolicexecutor.state.NamedPureVar\",\"n\":\"a\"}]},\"i2\":{\"$type\":\"edu.colorado.plv.bounder.lifestate.LifeState.OAbsMsg\",\"mt\":{\"$type\":\"edu.colorado.plv.bounder.ir.CBEnter\"},\"signatures\":{\"$type\":\"edu.colorado.plv.bounder.lifestate.LifeState.SubClassMatcher\",\"baseSubtypeOf\":[\"android.app.Activity\",\"androidx.fragment.app.FragmentActivity\"],\"signatureMatcher\":\"void onResume\\\\(\\\\)\",\"ident\":\"Activity_onResume\"},\"lsVars\":[{\"$type\":\"edu.colorado.plv.bounder.symbolicexecutor.state.TopVal\"},{\"$type\":\"edu.colorado.plv.bounder.symbolicexecutor.state.NamedPureVar\",\"n\":\"a\"}]}}}},\"target\":{\"$type\":\"edu.colorado.plv.bounder.lifestate.LifeState.OAbsMsg\",\"mt\":{\"$type\":\"edu.colorado.plv.bounder.ir.CIEnter\"},\"signatures\":{\"$type\":\"edu.colorado.plv.bounder.lifestate.LifeState.SubClassMatcher\",\"baseSubtypeOf\":[\"android.app.ProgressDialog\",\"android.app.Dialog\"],\"signatureMatcher\":\"void dismiss\\\\(\\\\)\",\"ident\":\"Dialog_dismiss\"},\"lsVars\":[{\"$type\":\"edu.colorado.plv.bounder.symbolicexecutor.state.TopVal\"},{\"$type\":\"edu.colorado.plv.bounder.symbolicexecutor.state.NamedPureVar\",\"n\":\"d\"}]}}]}",
        "tag": {
         "heuristicType": "SensitiveDerefFieldCausedSynch"
        },
        "timeLimit": 900
       },
       {
        "apkPath": "${baseDir}/fdroid/com.ubergeek42.WeechatAndroid/1.8.1/apk/com.ubergeek42.WeechatAndroid_10801.apk",
        "configPath": [
         "/tmp/8820395083434005566"
        ],
        "initialQuery": [
         {
          "className": "com.ubergeek42.WeechatAndroid.utils.Toaster$$ExternalSyntheticLambda0",
          "line": 194,
          "matcher": "chatLines",
          "methodName": "void run()",
          "t": "ReceiverNonNull"
         }
        ],
        "outFolder": [
         "${baseDirOut}/com.ubergeek42.WeechatAndroid"
        ],
        "specSet": "{\"specs\":[],\"disallow\":[{\"univQuant\":[{\"$type\":\"edu.colorado.plv.bounder.symbolicexecutor.state.NamedPureVar\",\"n\":\"a\"},{\"$type\":\"edu.colorado.plv.bounder.symbolicexecutor.state.NamedPureVar\",\"n\":\"f\"}],\"existQuant\":[],\"pred\":{\"$type\":\"edu.colorado.plv.bounder.lifestate.LifeState.Or\",\"l1\":{\"$type\":\"edu.colorado.plv.bounder.lifestate.LifeState.NS\",\"i1\":{\"$type\":\"edu.colorado.plv.bounder.lifestate.LifeState.OAbsMsg\",\"mt\":{\"$type\":\"edu.colorado.plv.bounder.ir.CBExit\"},\"signatures\":{\"$type\":\"edu.colorado.plv.bounder.lifestate.LifeState.SubClassMatcher\",\"baseSubtypeOf\":[\"android.app.Fragment\",\"androidx.fragment.app.Fragment\",\"android.support.v4.app.Fragment\"],\"signatureMatcher\":\"void onDestroy\\\\(\\\\)\",\"ident\":\"Fragment_onDestroy\"},\"lsVars\":[{\"$type\":\"edu.colorado.plv.bounder.symbolicexecutor.state.TopVal\"},{\"$type\":\"edu.colorado.plv.bounder.symbolicexecutor.state.NamedPureVar\",\"n\":\"f\"}]},\"i2\":{\"$type\":\"edu.colorado.plv.bounder.lifestate.LifeState.OAbsMsg\",\"mt\":{\"$type\":\"edu.colorado.plv.bounder.ir.CBEnter\"},\"signatures\":{\"$type\":\"edu.colorado.plv.bounder.lifestate.LifeState.SubClassMatcher\",\"baseSubtypeOf\":[\"android.app.Fragment\",\"androidx.fragment.app.Fragment\",\"android.support.v4.app.Fragment\"],\"signatureMatcher\":\"void onActivityCreated\\\\(android.os.Bundle\\\\)\",\"ident\":\"Fragment_onActivityCreated\"},\"lsVars\":[{\"$type\":\"edu.colorado.plv.bounder.symbolicexecutor.state.TopVal\"},{\"$type\":\"edu.colorado.plv.bounder.symbolicexecutor.state.NamedPureVar\",\"n\":\"f\"}]}},\"l2\":{\"$type\":\"edu.colorado.plv.bounder.lifestate.LifeState.Not\",\"p\":{\"$type\":\"edu.colorado.plv.bounder.lifestate.LifeState.OAbsMsg\",\"mt\":{\"$type\":\"edu.colorado.plv.bounder.ir.CBEnter\"},\"signatures\":{\"$type\":\"edu.colorado.plv.bounder.lifestate.LifeState.SubClassMatcher\",\"baseSubtypeOf\":[\"android.app.Fragment\",\"androidx.fragment.app.Fragment\",\"android.support.v4.app.Fragment\"],\"signatureMatcher\":\"void onActivityCreated\\\\(android.os.Bundle\\\\)\",\"ident\":\"Fragment_onActivityCreated\"},\"lsVars\":[{\"$type\":\"edu.colorado.plv.bounder.symbolicexecutor.state.TopVal\"},{\"$type\":\"edu.colorado.plv.bounder.symbolicexecutor.state.NamedPureVar\",\"n\":\"f\"}]}}},\"target\":{\"$type\":\"edu.colorado.plv.bounder.lifestate.LifeState.OAbsMsg\",\"mt\":{\"$type\":\"edu.colorado.plv.bounder.ir.CIExit\"},\"signatures\":{\"$type\":\"edu.colorado.plv.bounder.lifestate.LifeState.SubClassMatcher\",\"baseSubtypeOf\":[\"android.app.Fragment\",\"androidx.fragment.app.Fragment\",\"android.support.v4.app.Fragment\"],\"signatureMatcher\":\".*Activity getActivity\\\\(\\\\)\",\"ident\":\"Fragment_getActivity\"},\"lsVars\":[{\"$type\":\"edu.colorado.plv.bounder.symbolicexecutor.state.NamedPureVar\",\"n\":\"a\"},{\"$type\":\"edu.colorado.plv.bounder.symbolicexecutor.state.NamedPureVar\",\"n\":\"f\"}]},\"rhsConstraints\":[{\"$type\":\"edu.colorado.plv.bounder.lifestate.LifeState.LSConstraint\",\"v1\":{\"$type\":\"edu.colorado.plv.bounder.symbolicexecutor.state.NamedPureVar\",\"n\":\"a\"},\"op\":{\"$type\":\"edu.colorado.plv.bounder.symbolicexecutor.state.Equals\"},\"v2\":{\"$type\":\"edu.colorado.plv.bounder.symbolicexecutor.state.NullVal\"}}]},{\"univQuant\":[{\"$type\":\"edu.colorado.plv.bounder.symbolicexecutor.state.NamedPureVar\",\"n\":\"t\"}],\"existQuant\":[],\"pred\":{\"$type\":\"edu.colorado.plv.bounder.lifestate.LifeState.OAbsMsg\",\"mt\":{\"$type\":\"edu.colorado.plv.bounder.ir.CIExit\"},\"signatures\":{\"$type\":\"edu.colorado.plv.bounder.lifestate.LifeState.SubClassMatcher\",\"baseSubtypeOf\":[\"android.os.AsyncTask\"],\"signatureMatcher\":\".*AsyncTask execute\\\\(.*\\\\)\",\"ident\":\"AsyncTask_execute\"},\"lsVars\":[{\"$type\":\"edu.colorado.plv.bounder.symbolicexecutor.state.TopVal\"},{\"$type\":\"edu.colorado.plv.bounder.symbolicexecutor.state.NamedPureVar\",\"n\":\"t\"}]},\"target\":{\"$type\":\"edu.colorado.plv.bounder.lifestate.LifeState.OAbsMsg\",\"mt\":{\"$type\":\"edu.colorado.plv.bounder.ir.CIEnter\"},\"signatures\":{\"$type\":\"edu.colorado.plv.bounder.lifestate.LifeState.SubClassMatcher\",\"baseSubtypeOf\":[\"android.os.AsyncTask\"],\"signatureMatcher\":\".*AsyncTask execute\\\\(.*\\\\)\",\"ident\":\"AsyncTask_execute\"},\"lsVars\":[{\"$type\":\"edu.colorado.plv.bounder.symbolicexecutor.state.TopVal\"},{\"$type\":\"edu.colorado.plv.bounder.symbolicexecutor.state.NamedPureVar\",\"n\":\"t\"}]}},{\"univQuant\":[{\"$type\":\"edu.colorado.plv.bounder.symbolicexecutor.state.NamedPureVar\",\"n\":\"d\"}],\"existQuant\":[{\"$type\":\"edu.colorado.plv.bounder.symbolicexecutor.state.NamedPureVar\",\"n\":\"a\"}],\"pred\":{\"$type\":\"edu.colorado.plv.bounder.lifestate.LifeState.And\",\"l1\":{\"$type\":\"edu.colorado.plv.bounder.lifestate.LifeState.OAbsMsg\",\"mt\":{\"$type\":\"edu.colorado.plv.bounder.ir.CIExit\"},\"signatures\":{\"$type\":\"edu.colorado.plv.bounder.lifestate.LifeState.SubClassMatcher\",\"baseSubtypeOf\":[\"android.app.ProgressDialog\",\"android.app.Dialog\"],\"signatureMatcher\":\".*show.*\",\"ident\":\"Dialog_show\"},\"lsVars\":[{\"$type\":\"edu.colorado.plv.bounder.symbolicexecutor.state.NamedPureVar\",\"n\":\"d\"},{\"$type\":\"edu.colorado.plv.bounder.symbolicexecutor.state.TopVal\"},{\"$type\":\"edu.colorado.plv.bounder.symbolicexecutor.state.NamedPureVar\",\"n\":\"a\"}]},\"l2\":{\"$type\":\"edu.colorado.plv.bounder.lifestate.LifeState.Or\",\"l1\":{\"$type\":\"edu.colorado.plv.bounder.lifestate.LifeState.Not\",\"p\":{\"$type\":\"edu.colorado.plv.bounder.lifestate.LifeState.OAbsMsg\",\"mt\":{\"$type\":\"edu.colorado.plv.bounder.ir.CBEnter\"},\"signatures\":{\"$type\":\"edu.colorado.plv.bounder.lifestate.LifeState.SubClassMatcher\",\"baseSubtypeOf\":[\"android.app.Activity\",\"androidx.fragment.app.FragmentActivity\"],\"signatureMatcher\":\"void onResume\\\\(\\\\)\",\"ident\":\"Activity_onResume\"},\"lsVars\":[{\"$type\":\"edu.colorado.plv.bounder.symbolicexecutor.state.TopVal\"},{\"$type\":\"edu.colorado.plv.bounder.symbolicexecutor.state.NamedPureVar\",\"n\":\"a\"}]}},\"l2\":{\"$type\":\"edu.colorado.plv.bounder.lifestate.LifeState.NS\",\"i1\":{\"$type\":\"edu.colorado.plv.bounder.lifestate.LifeState.OAbsMsg\",\"mt\":{\"$type\":\"edu.colorado.plv.bounder.ir.CBExit\"},\"signatures\":{\"$type\":\"edu.colorado.plv.bounder.lifestate.LifeState.SubClassMatcher\",\"baseSubtypeOf\":[\"android.app.Activity\",\"androidx.fragment.app.FragmentActivity\"],\"signatureMatcher\":\"void onPause\\\\(\\\\)\",\"ident\":\"Activity_onPause\"},\"lsVars\":[{\"$type\":\"edu.colorado.plv.bounder.symbolicexecutor.state.TopVal\"},{\"$type\":\"edu.colorado.plv.bounder.symbolicexecutor.state.NamedPureVar\",\"n\":\"a\"}]},\"i2\":{\"$type\":\"edu.colorado.plv.bounder.lifestate.LifeState.OAbsMsg\",\"mt\":{\"$type\":\"edu.colorado.plv.bounder.ir.CBEnter\"},\"signatures\":{\"$type\":\"edu.colorado.plv.bounder.lifestate.LifeState.SubClassMatcher\",\"baseSubtypeOf\":[\"android.app.Activity\",\"androidx.fragment.app.FragmentActivity\"],\"signatureMatcher\":\"void onResume\\\\(\\\\)\",\"ident\":\"Activity_onResume\"},\"lsVars\":[{\"$type\":\"edu.colorado.plv.bounder.symbolicexecutor.state.TopVal\"},{\"$type\":\"edu.colorado.plv.bounder.symbolicexecutor.state.NamedPureVar\",\"n\":\"a\"}]}}}},\"target\":{\"$type\":\"edu.colorado.plv.bounder.lifestate.LifeState.OAbsMsg\",\"mt\":{\"$type\":\"edu.colorado.plv.bounder.ir.CIEnter\"},\"signatures\":{\"$type\":\"edu.colorado.plv.bounder.lifestate.LifeState.SubClassMatcher\",\"baseSubtypeOf\":[\"android.app.ProgressDialog\",\"android.app.Dialog\"],\"signatureMatcher\":\"void dismiss\\\\(\\\\)\",\"ident\":\"Dialog_dismiss\"},\"lsVars\":[{\"$type\":\"edu.colorado.plv.bounder.symbolicexecutor.state.TopVal\"},{\"$type\":\"edu.colorado.plv.bounder.symbolicexecutor.state.NamedPureVar\",\"n\":\"d\"}]}}]}",
        "tag": {
         "heuristicType": "SensitiveDerefFieldCausedSynch"
        },
        "timeLimit": 900
       },
       {
        "apkPath": "${baseDir}/fdroid/org.sipdroid.sipua/6.3beta/apk/org.sipdroid.sipua_134.apk",
        "configPath": [
         "/tmp/270335928576313844"
        ],
        "initialQuery": [
         {
          "className": "org.sipdroid.media.RtpStreamSender",
          "line": 402,
          "matcher": "void send(org.sipdroid.net.RtpPacket)",
          "methodName": "void run()",
          "t": "ReceiverNonNull"
         }
        ],
        "outFolder": [
         "${baseDirOut}/org.sipdroid.sipua"
        ],
        "specSet": "{\"specs\":[],\"disallow\":[{\"univQuant\":[{\"$type\":\"edu.colorado.plv.bounder.symbolicexecutor.state.NamedPureVar\",\"n\":\"a\"},{\"$type\":\"edu.colorado.plv.bounder.symbolicexecutor.state.NamedPureVar\",\"n\":\"f\"}],\"existQuant\":[],\"pred\":{\"$type\":\"edu.colorado.plv.bounder.lifestate.LifeState.Or\",\"l1\":{\"$type\":\"edu.colorado.plv.bounder.lifestate.LifeState.NS\",\"i1\":{\"$type\":\"edu.colorado.plv.bounder.lifestate.LifeState.OAbsMsg\",\"mt\":{\"$type\":\"edu.colorado.plv.bounder.ir.CBExit\"},\"signatures\":{\"$type\":\"edu.colorado.plv.bounder.lifestate.LifeState.SubClassMatcher\",\"baseSubtypeOf\":[\"android.app.Fragment\",\"androidx.fragment.app.Fragment\",\"android.support.v4.app.Fragment\"],\"signatureMatcher\":\"void onDestroy\\\\(\\\\)\",\"ident\":\"Fragment_onDestroy\"},\"lsVars\":[{\"$type\":\"edu.colorado.plv.bounder.symbolicexecutor.state.TopVal\"},{\"$type\":\"edu.colorado.plv.bounder.symbolicexecutor.state.NamedPureVar\",\"n\":\"f\"}]},\"i2\":{\"$type\":\"edu.colorado.plv.bounder.lifestate.LifeState.OAbsMsg\",\"mt\":{\"$type\":\"edu.colorado.plv.bounder.ir.CBEnter\"},\"signatures\":{\"$type\":\"edu.colorado.plv.bounder.lifestate.LifeState.SubClassMatcher\",\"baseSubtypeOf\":[\"android.app.Fragment\",\"androidx.fragment.app.Fragment\",\"android.support.v4.app.Fragment\"],\"signatureMatcher\":\"void onActivityCreated\\\\(android.os.Bundle\\\\)\",\"ident\":\"Fragment_onActivityCreated\"},\"lsVars\":[{\"$type\":\"edu.colorado.plv.bounder.symbolicexecutor.state.TopVal\"},{\"$type\":\"edu.colorado.plv.bounder.symbolicexecutor.state.NamedPureVar\",\"n\":\"f\"}]}},\"l2\":{\"$type\":\"edu.colorado.plv.bounder.lifestate.LifeState.Not\",\"p\":{\"$type\":\"edu.colorado.plv.bounder.lifestate.LifeState.OAbsMsg\",\"mt\":{\"$type\":\"edu.colorado.plv.bounder.ir.CBEnter\"},\"signatures\":{\"$type\":\"edu.colorado.plv.bounder.lifestate.LifeState.SubClassMatcher\",\"baseSubtypeOf\":[\"android.app.Fragment\",\"androidx.fragment.app.Fragment\",\"android.support.v4.app.Fragment\"],\"signatureMatcher\":\"void onActivityCreated\\\\(android.os.Bundle\\\\)\",\"ident\":\"Fragment_onActivityCreated\"},\"lsVars\":[{\"$type\":\"edu.colorado.plv.bounder.symbolicexecutor.state.TopVal\"},{\"$type\":\"edu.colorado.plv.bounder.symbolicexecutor.state.NamedPureVar\",\"n\":\"f\"}]}}},\"target\":{\"$type\":\"edu.colorado.plv.bounder.lifestate.LifeState.OAbsMsg\",\"mt\":{\"$type\":\"edu.colorado.plv.bounder.ir.CIExit\"},\"signatures\":{\"$type\":\"edu.colorado.plv.bounder.lifestate.LifeState.SubClassMatcher\",\"baseSubtypeOf\":[\"android.app.Fragment\",\"androidx.fragment.app.Fragment\",\"android.support.v4.app.Fragment\"],\"signatureMatcher\":\".*Activity getActivity\\\\(\\\\)\",\"ident\":\"Fragment_getActivity\"},\"lsVars\":[{\"$type\":\"edu.colorado.plv.bounder.symbolicexecutor.state.NamedPureVar\",\"n\":\"a\"},{\"$type\":\"edu.colorado.plv.bounder.symbolicexecutor.state.NamedPureVar\",\"n\":\"f\"}]},\"rhsConstraints\":[{\"$type\":\"edu.colorado.plv.bounder.lifestate.LifeState.LSConstraint\",\"v1\":{\"$type\":\"edu.colorado.plv.bounder.symbolicexecutor.state.NamedPureVar\",\"n\":\"a\"},\"op\":{\"$type\":\"edu.colorado.plv.bounder.symbolicexecutor.state.Equals\"},\"v2\":{\"$type\":\"edu.colorado.plv.bounder.symbolicexecutor.state.NullVal\"}}]},{\"univQuant\":[{\"$type\":\"edu.colorado.plv.bounder.symbolicexecutor.state.NamedPureVar\",\"n\":\"t\"}],\"existQuant\":[],\"pred\":{\"$type\":\"edu.colorado.plv.bounder.lifestate.LifeState.OAbsMsg\",\"mt\":{\"$type\":\"edu.colorado.plv.bounder.ir.CIExit\"},\"signatures\":{\"$type\":\"edu.colorado.plv.bounder.lifestate.LifeState.SubClassMatcher\",\"baseSubtypeOf\":[\"android.os.AsyncTask\"],\"signatureMatcher\":\".*AsyncTask execute\\\\(.*\\\\)\",\"ident\":\"AsyncTask_execute\"},\"lsVars\":[{\"$type\":\"edu.colorado.plv.bounder.symbolicexecutor.state.TopVal\"},{\"$type\":\"edu.colorado.plv.bounder.symbolicexecutor.state.NamedPureVar\",\"n\":\"t\"}]},\"target\":{\"$type\":\"edu.colorado.plv.bounder.lifestate.LifeState.OAbsMsg\",\"mt\":{\"$type\":\"edu.colorado.plv.bounder.ir.CIEnter\"},\"signatures\":{\"$type\":\"edu.colorado.plv.bounder.lifestate.LifeState.SubClassMatcher\",\"baseSubtypeOf\":[\"android.os.AsyncTask\"],\"signatureMatcher\":\".*AsyncTask execute\\\\(.*\\\\)\",\"ident\":\"AsyncTask_execute\"},\"lsVars\":[{\"$type\":\"edu.colorado.plv.bounder.symbolicexecutor.state.TopVal\"},{\"$type\":\"edu.colorado.plv.bounder.symbolicexecutor.state.NamedPureVar\",\"n\":\"t\"}]}},{\"univQuant\":[{\"$type\":\"edu.colorado.plv.bounder.symbolicexecutor.state.NamedPureVar\",\"n\":\"d\"}],\"existQuant\":[{\"$type\":\"edu.colorado.plv.bounder.symbolicexecutor.state.NamedPureVar\",\"n\":\"a\"}],\"pred\":{\"$type\":\"edu.colorado.plv.bounder.lifestate.LifeState.And\",\"l1\":{\"$type\":\"edu.colorado.plv.bounder.lifestate.LifeState.OAbsMsg\",\"mt\":{\"$type\":\"edu.colorado.plv.bounder.ir.CIExit\"},\"signatures\":{\"$type\":\"edu.colorado.plv.bounder.lifestate.LifeState.SubClassMatcher\",\"baseSubtypeOf\":[\"android.app.ProgressDialog\",\"android.app.Dialog\"],\"signatureMatcher\":\".*show.*\",\"ident\":\"Dialog_show\"},\"lsVars\":[{\"$type\":\"edu.colorado.plv.bounder.symbolicexecutor.state.NamedPureVar\",\"n\":\"d\"},{\"$type\":\"edu.colorado.plv.bounder.symbolicexecutor.state.TopVal\"},{\"$type\":\"edu.colorado.plv.bounder.symbolicexecutor.state.NamedPureVar\",\"n\":\"a\"}]},\"l2\":{\"$type\":\"edu.colorado.plv.bounder.lifestate.LifeState.Or\",\"l1\":{\"$type\":\"edu.colorado.plv.bounder.lifestate.LifeState.Not\",\"p\":{\"$type\":\"edu.colorado.plv.bounder.lifestate.LifeState.OAbsMsg\",\"mt\":{\"$type\":\"edu.colorado.plv.bounder.ir.CBEnter\"},\"signatures\":{\"$type\":\"edu.colorado.plv.bounder.lifestate.LifeState.SubClassMatcher\",\"baseSubtypeOf\":[\"android.app.Activity\",\"androidx.fragment.app.FragmentActivity\"],\"signatureMatcher\":\"void onResume\\\\(\\\\)\",\"ident\":\"Activity_onResume\"},\"lsVars\":[{\"$type\":\"edu.colorado.plv.bounder.symbolicexecutor.state.TopVal\"},{\"$type\":\"edu.colorado.plv.bounder.symbolicexecutor.state.NamedPureVar\",\"n\":\"a\"}]}},\"l2\":{\"$type\":\"edu.colorado.plv.bounder.lifestate.LifeState.NS\",\"i1\":{\"$type\":\"edu.colorado.plv.bounder.lifestate.LifeState.OAbsMsg\",\"mt\":{\"$type\":\"edu.colorado.plv.bounder.ir.CBExit\"},\"signatures\":{\"$type\":\"edu.colorado.plv.bounder.lifestate.LifeState.SubClassMatcher\",\"baseSubtypeOf\":[\"android.app.Activity\",\"androidx.fragment.app.FragmentActivity\"],\"signatureMatcher\":\"void onPause\\\\(\\\\)\",\"ident\":\"Activity_onPause\"},\"lsVars\":[{\"$type\":\"edu.colorado.plv.bounder.symbolicexecutor.state.TopVal\"},{\"$type\":\"edu.colorado.plv.bounder.symbolicexecutor.state.NamedPureVar\",\"n\":\"a\"}]},\"i2\":{\"$type\":\"edu.colorado.plv.bounder.lifestate.LifeState.OAbsMsg\",\"mt\":{\"$type\":\"edu.colorado.plv.bounder.ir.CBEnter\"},\"signatures\":{\"$type\":\"edu.colorado.plv.bounder.lifestate.LifeState.SubClassMatcher\",\"baseSubtypeOf\":[\"android.app.Activity\",\"androidx.fragment.app.FragmentActivity\"],\"signatureMatcher\":\"void onResume\\\\(\\\\)\",\"ident\":\"Activity_onResume\"},\"lsVars\":[{\"$type\":\"edu.colorado.plv.bounder.symbolicexecutor.state.TopVal\"},{\"$type\":\"edu.colorado.plv.bounder.symbolicexecutor.state.NamedPureVar\",\"n\":\"a\"}]}}}},\"target\":{\"$type\":\"edu.colorado.plv.bounder.lifestate.LifeState.OAbsMsg\",\"mt\":{\"$type\":\"edu.colorado.plv.bounder.ir.CIEnter\"},\"signatures\":{\"$type\":\"edu.colorado.plv.bounder.lifestate.LifeState.SubClassMatcher\",\"baseSubtypeOf\":[\"android.app.ProgressDialog\",\"android.app.Dialog\"],\"signatureMatcher\":\"void dismiss\\\\(\\\\)\",\"ident\":\"Dialog_dismiss\"},\"lsVars\":[{\"$type\":\"edu.colorado.plv.bounder.symbolicexecutor.state.TopVal\"},{\"$type\":\"edu.colorado.plv.bounder.symbolicexecutor.state.NamedPureVar\",\"n\":\"d\"}]}}]}",
        "tag": {
         "heuristicType": "SensitiveDerefFieldCausedSynch"
        },
        "timeLimit": 900
       },
       {
        "apkPath": "${baseDir}/fdroid/de.markusfisch.android.wavelines/1.13.2/apk/de.markusfisch.android.wavelines_22.apk",
        "configPath": [
         "/tmp/3338353664134078840"
        ],
        "initialQuery": [
         {
          "className": "m.k$e",
          "line": -1,
          "matcher": "j.o3 f(j.w3)",
          "methodName": "void run()",
          "t": "ReceiverNonNull"
         }
        ],
        "outFolder": [
         "${baseDirOut}/de.markusfisch.android.wavelines"
        ],
        "specSet": "{\"specs\":[],\"disallow\":[{\"univQuant\":[{\"$type\":\"edu.colorado.plv.bounder.symbolicexecutor.state.NamedPureVar\",\"n\":\"a\"},{\"$type\":\"edu.colorado.plv.bounder.symbolicexecutor.state.NamedPureVar\",\"n\":\"f\"}],\"existQuant\":[],\"pred\":{\"$type\":\"edu.colorado.plv.bounder.lifestate.LifeState.Or\",\"l1\":{\"$type\":\"edu.colorado.plv.bounder.lifestate.LifeState.NS\",\"i1\":{\"$type\":\"edu.colorado.plv.bounder.lifestate.LifeState.OAbsMsg\",\"mt\":{\"$type\":\"edu.colorado.plv.bounder.ir.CBExit\"},\"signatures\":{\"$type\":\"edu.colorado.plv.bounder.lifestate.LifeState.SubClassMatcher\",\"baseSubtypeOf\":[\"android.app.Fragment\",\"androidx.fragment.app.Fragment\",\"android.support.v4.app.Fragment\"],\"signatureMatcher\":\"void onDestroy\\\\(\\\\)\",\"ident\":\"Fragment_onDestroy\"},\"lsVars\":[{\"$type\":\"edu.colorado.plv.bounder.symbolicexecutor.state.TopVal\"},{\"$type\":\"edu.colorado.plv.bounder.symbolicexecutor.state.NamedPureVar\",\"n\":\"f\"}]},\"i2\":{\"$type\":\"edu.colorado.plv.bounder.lifestate.LifeState.OAbsMsg\",\"mt\":{\"$type\":\"edu.colorado.plv.bounder.ir.CBEnter\"},\"signatures\":{\"$type\":\"edu.colorado.plv.bounder.lifestate.LifeState.SubClassMatcher\",\"baseSubtypeOf\":[\"android.app.Fragment\",\"androidx.fragment.app.Fragment\",\"android.support.v4.app.Fragment\"],\"signatureMatcher\":\"void onActivityCreated\\\\(android.os.Bundle\\\\)\",\"ident\":\"Fragment_onActivityCreated\"},\"lsVars\":[{\"$type\":\"edu.colorado.plv.bounder.symbolicexecutor.state.TopVal\"},{\"$type\":\"edu.colorado.plv.bounder.symbolicexecutor.state.NamedPureVar\",\"n\":\"f\"}]}},\"l2\":{\"$type\":\"edu.colorado.plv.bounder.lifestate.LifeState.Not\",\"p\":{\"$type\":\"edu.colorado.plv.bounder.lifestate.LifeState.OAbsMsg\",\"mt\":{\"$type\":\"edu.colorado.plv.bounder.ir.CBEnter\"},\"signatures\":{\"$type\":\"edu.colorado.plv.bounder.lifestate.LifeState.SubClassMatcher\",\"baseSubtypeOf\":[\"android.app.Fragment\",\"androidx.fragment.app.Fragment\",\"android.support.v4.app.Fragment\"],\"signatureMatcher\":\"void onActivityCreated\\\\(android.os.Bundle\\\\)\",\"ident\":\"Fragment_onActivityCreated\"},\"lsVars\":[{\"$type\":\"edu.colorado.plv.bounder.symbolicexecutor.state.TopVal\"},{\"$type\":\"edu.colorado.plv.bounder.symbolicexecutor.state.NamedPureVar\",\"n\":\"f\"}]}}},\"target\":{\"$type\":\"edu.colorado.plv.bounder.lifestate.LifeState.OAbsMsg\",\"mt\":{\"$type\":\"edu.colorado.plv.bounder.ir.CIExit\"},\"signatures\":{\"$type\":\"edu.colorado.plv.bounder.lifestate.LifeState.SubClassMatcher\",\"baseSubtypeOf\":[\"android.app.Fragment\",\"androidx.fragment.app.Fragment\",\"android.support.v4.app.Fragment\"],\"signatureMatcher\":\".*Activity getActivity\\\\(\\\\)\",\"ident\":\"Fragment_getActivity\"},\"lsVars\":[{\"$type\":\"edu.colorado.plv.bounder.symbolicexecutor.state.NamedPureVar\",\"n\":\"a\"},{\"$type\":\"edu.colorado.plv.bounder.symbolicexecutor.state.NamedPureVar\",\"n\":\"f\"}]},\"rhsConstraints\":[{\"$type\":\"edu.colorado.plv.bounder.lifestate.LifeState.LSConstraint\",\"v1\":{\"$type\":\"edu.colorado.plv.bounder.symbolicexecutor.state.NamedPureVar\",\"n\":\"a\"},\"op\":{\"$type\":\"edu.colorado.plv.bounder.symbolicexecutor.state.Equals\"},\"v2\":{\"$type\":\"edu.colorado.plv.bounder.symbolicexecutor.state.NullVal\"}}]},{\"univQuant\":[{\"$type\":\"edu.colorado.plv.bounder.symbolicexecutor.state.NamedPureVar\",\"n\":\"t\"}],\"existQuant\":[],\"pred\":{\"$type\":\"edu.colorado.plv.bounder.lifestate.LifeState.OAbsMsg\",\"mt\":{\"$type\":\"edu.colorado.plv.bounder.ir.CIExit\"},\"signatures\":{\"$type\":\"edu.colorado.plv.bounder.lifestate.LifeState.SubClassMatcher\",\"baseSubtypeOf\":[\"android.os.AsyncTask\"],\"signatureMatcher\":\".*AsyncTask execute\\\\(.*\\\\)\",\"ident\":\"AsyncTask_execute\"},\"lsVars\":[{\"$type\":\"edu.colorado.plv.bounder.symbolicexecutor.state.TopVal\"},{\"$type\":\"edu.colorado.plv.bounder.symbolicexecutor.state.NamedPureVar\",\"n\":\"t\"}]},\"target\":{\"$type\":\"edu.colorado.plv.bounder.lifestate.LifeState.OAbsMsg\",\"mt\":{\"$type\":\"edu.colorado.plv.bounder.ir.CIEnter\"},\"signatures\":{\"$type\":\"edu.colorado.plv.bounder.lifestate.LifeState.SubClassMatcher\",\"baseSubtypeOf\":[\"android.os.AsyncTask\"],\"signatureMatcher\":\".*AsyncTask execute\\\\(.*\\\\)\",\"ident\":\"AsyncTask_execute\"},\"lsVars\":[{\"$type\":\"edu.colorado.plv.bounder.symbolicexecutor.state.TopVal\"},{\"$type\":\"edu.colorado.plv.bounder.symbolicexecutor.state.NamedPureVar\",\"n\":\"t\"}]}},{\"univQuant\":[{\"$type\":\"edu.colorado.plv.bounder.symbolicexecutor.state.NamedPureVar\",\"n\":\"d\"}],\"existQuant\":[{\"$type\":\"edu.colorado.plv.bounder.symbolicexecutor.state.NamedPureVar\",\"n\":\"a\"}],\"pred\":{\"$type\":\"edu.colorado.plv.bounder.lifestate.LifeState.And\",\"l1\":{\"$type\":\"edu.colorado.plv.bounder.lifestate.LifeState.OAbsMsg\",\"mt\":{\"$type\":\"edu.colorado.plv.bounder.ir.CIExit\"},\"signatures\":{\"$type\":\"edu.colorado.plv.bounder.lifestate.LifeState.SubClassMatcher\",\"baseSubtypeOf\":[\"android.app.ProgressDialog\",\"android.app.Dialog\"],\"signatureMatcher\":\".*show.*\",\"ident\":\"Dialog_show\"},\"lsVars\":[{\"$type\":\"edu.colorado.plv.bounder.symbolicexecutor.state.NamedPureVar\",\"n\":\"d\"},{\"$type\":\"edu.colorado.plv.bounder.symbolicexecutor.state.TopVal\"},{\"$type\":\"edu.colorado.plv.bounder.symbolicexecutor.state.NamedPureVar\",\"n\":\"a\"}]},\"l2\":{\"$type\":\"edu.colorado.plv.bounder.lifestate.LifeState.Or\",\"l1\":{\"$type\":\"edu.colorado.plv.bounder.lifestate.LifeState.Not\",\"p\":{\"$type\":\"edu.colorado.plv.bounder.lifestate.LifeState.OAbsMsg\",\"mt\":{\"$type\":\"edu.colorado.plv.bounder.ir.CBEnter\"},\"signatures\":{\"$type\":\"edu.colorado.plv.bounder.lifestate.LifeState.SubClassMatcher\",\"baseSubtypeOf\":[\"android.app.Activity\",\"androidx.fragment.app.FragmentActivity\"],\"signatureMatcher\":\"void onResume\\\\(\\\\)\",\"ident\":\"Activity_onResume\"},\"lsVars\":[{\"$type\":\"edu.colorado.plv.bounder.symbolicexecutor.state.TopVal\"},{\"$type\":\"edu.colorado.plv.bounder.symbolicexecutor.state.NamedPureVar\",\"n\":\"a\"}]}},\"l2\":{\"$type\":\"edu.colorado.plv.bounder.lifestate.LifeState.NS\",\"i1\":{\"$type\":\"edu.colorado.plv.bounder.lifestate.LifeState.OAbsMsg\",\"mt\":{\"$type\":\"edu.colorado.plv.bounder.ir.CBExit\"},\"signatures\":{\"$type\":\"edu.colorado.plv.bounder.lifestate.LifeState.SubClassMatcher\",\"baseSubtypeOf\":[\"android.app.Activity\",\"androidx.fragment.app.FragmentActivity\"],\"signatureMatcher\":\"void onPause\\\\(\\\\)\",\"ident\":\"Activity_onPause\"},\"lsVars\":[{\"$type\":\"edu.colorado.plv.bounder.symbolicexecutor.state.TopVal\"},{\"$type\":\"edu.colorado.plv.bounder.symbolicexecutor.state.NamedPureVar\",\"n\":\"a\"}]},\"i2\":{\"$type\":\"edu.colorado.plv.bounder.lifestate.LifeState.OAbsMsg\",\"mt\":{\"$type\":\"edu.colorado.plv.bounder.ir.CBEnter\"},\"signatures\":{\"$type\":\"edu.colorado.plv.bounder.lifestate.LifeState.SubClassMatcher\",\"baseSubtypeOf\":[\"android.app.Activity\",\"androidx.fragment.app.FragmentActivity\"],\"signatureMatcher\":\"void onResume\\\\(\\\\)\",\"ident\":\"Activity_onResume\"},\"lsVars\":[{\"$type\":\"edu.colorado.plv.bounder.symbolicexecutor.state.TopVal\"},{\"$type\":\"edu.colorado.plv.bounder.symbolicexecutor.state.NamedPureVar\",\"n\":\"a\"}]}}}},\"target\":{\"$type\":\"edu.colorado.plv.bounder.lifestate.LifeState.OAbsMsg\",\"mt\":{\"$type\":\"edu.colorado.plv.bounder.ir.CIEnter\"},\"signatures\":{\"$type\":\"edu.colorado.plv.bounder.lifestate.LifeState.SubClassMatcher\",\"baseSubtypeOf\":[\"android.app.ProgressDialog\",\"android.app.Dialog\"],\"signatureMatcher\":\"void dismiss\\\\(\\\\)\",\"ident\":\"Dialog_dismiss\"},\"lsVars\":[{\"$type\":\"edu.colorado.plv.bounder.symbolicexecutor.state.TopVal\"},{\"$type\":\"edu.colorado.plv.bounder.symbolicexecutor.state.NamedPureVar\",\"n\":\"d\"}]}}]}",
        "tag": {
         "heuristicType": "SensitiveDerefFieldCausedSynch"
        },
        "timeLimit": 900
       },
       {
        "apkPath": "${baseDir}/fdroid/org.sipdroid.sipua/6.3beta/apk/org.sipdroid.sipua_134.apk",
        "configPath": [
         "/tmp/270335928576313844"
        ],
        "initialQuery": [
         {
          "className": "org.sipdroid.media.RtpStreamSender",
          "line": 490,
          "matcher": "void send(org.sipdroid.net.RtpPacket)",
          "methodName": "void run()",
          "t": "ReceiverNonNull"
         }
        ],
        "outFolder": [
         "${baseDirOut}/org.sipdroid.sipua"
        ],
        "specSet": "{\"specs\":[],\"disallow\":[{\"univQuant\":[{\"$type\":\"edu.colorado.plv.bounder.symbolicexecutor.state.NamedPureVar\",\"n\":\"a\"},{\"$type\":\"edu.colorado.plv.bounder.symbolicexecutor.state.NamedPureVar\",\"n\":\"f\"}],\"existQuant\":[],\"pred\":{\"$type\":\"edu.colorado.plv.bounder.lifestate.LifeState.Or\",\"l1\":{\"$type\":\"edu.colorado.plv.bounder.lifestate.LifeState.NS\",\"i1\":{\"$type\":\"edu.colorado.plv.bounder.lifestate.LifeState.OAbsMsg\",\"mt\":{\"$type\":\"edu.colorado.plv.bounder.ir.CBExit\"},\"signatures\":{\"$type\":\"edu.colorado.plv.bounder.lifestate.LifeState.SubClassMatcher\",\"baseSubtypeOf\":[\"android.app.Fragment\",\"androidx.fragment.app.Fragment\",\"android.support.v4.app.Fragment\"],\"signatureMatcher\":\"void onDestroy\\\\(\\\\)\",\"ident\":\"Fragment_onDestroy\"},\"lsVars\":[{\"$type\":\"edu.colorado.plv.bounder.symbolicexecutor.state.TopVal\"},{\"$type\":\"edu.colorado.plv.bounder.symbolicexecutor.state.NamedPureVar\",\"n\":\"f\"}]},\"i2\":{\"$type\":\"edu.colorado.plv.bounder.lifestate.LifeState.OAbsMsg\",\"mt\":{\"$type\":\"edu.colorado.plv.bounder.ir.CBEnter\"},\"signatures\":{\"$type\":\"edu.colorado.plv.bounder.lifestate.LifeState.SubClassMatcher\",\"baseSubtypeOf\":[\"android.app.Fragment\",\"androidx.fragment.app.Fragment\",\"android.support.v4.app.Fragment\"],\"signatureMatcher\":\"void onActivityCreated\\\\(android.os.Bundle\\\\)\",\"ident\":\"Fragment_onActivityCreated\"},\"lsVars\":[{\"$type\":\"edu.colorado.plv.bounder.symbolicexecutor.state.TopVal\"},{\"$type\":\"edu.colorado.plv.bounder.symbolicexecutor.state.NamedPureVar\",\"n\":\"f\"}]}},\"l2\":{\"$type\":\"edu.colorado.plv.bounder.lifestate.LifeState.Not\",\"p\":{\"$type\":\"edu.colorado.plv.bounder.lifestate.LifeState.OAbsMsg\",\"mt\":{\"$type\":\"edu.colorado.plv.bounder.ir.CBEnter\"},\"signatures\":{\"$type\":\"edu.colorado.plv.bounder.lifestate.LifeState.SubClassMatcher\",\"baseSubtypeOf\":[\"android.app.Fragment\",\"androidx.fragment.app.Fragment\",\"android.support.v4.app.Fragment\"],\"signatureMatcher\":\"void onActivityCreated\\\\(android.os.Bundle\\\\)\",\"ident\":\"Fragment_onActivityCreated\"},\"lsVars\":[{\"$type\":\"edu.colorado.plv.bounder.symbolicexecutor.state.TopVal\"},{\"$type\":\"edu.colorado.plv.bounder.symbolicexecutor.state.NamedPureVar\",\"n\":\"f\"}]}}},\"target\":{\"$type\":\"edu.colorado.plv.bounder.lifestate.LifeState.OAbsMsg\",\"mt\":{\"$type\":\"edu.colorado.plv.bounder.ir.CIExit\"},\"signatures\":{\"$type\":\"edu.colorado.plv.bounder.lifestate.LifeState.SubClassMatcher\",\"baseSubtypeOf\":[\"android.app.Fragment\",\"androidx.fragment.app.Fragment\",\"android.support.v4.app.Fragment\"],\"signatureMatcher\":\".*Activity getActivity\\\\(\\\\)\",\"ident\":\"Fragment_getActivity\"},\"lsVars\":[{\"$type\":\"edu.colorado.plv.bounder.symbolicexecutor.state.NamedPureVar\",\"n\":\"a\"},{\"$type\":\"edu.colorado.plv.bounder.symbolicexecutor.state.NamedPureVar\",\"n\":\"f\"}]},\"rhsConstraints\":[{\"$type\":\"edu.colorado.plv.bounder.lifestate.LifeState.LSConstraint\",\"v1\":{\"$type\":\"edu.colorado.plv.bounder.symbolicexecutor.state.NamedPureVar\",\"n\":\"a\"},\"op\":{\"$type\":\"edu.colorado.plv.bounder.symbolicexecutor.state.Equals\"},\"v2\":{\"$type\":\"edu.colorado.plv.bounder.symbolicexecutor.state.NullVal\"}}]},{\"univQuant\":[{\"$type\":\"edu.colorado.plv.bounder.symbolicexecutor.state.NamedPureVar\",\"n\":\"t\"}],\"existQuant\":[],\"pred\":{\"$type\":\"edu.colorado.plv.bounder.lifestate.LifeState.OAbsMsg\",\"mt\":{\"$type\":\"edu.colorado.plv.bounder.ir.CIExit\"},\"signatures\":{\"$type\":\"edu.colorado.plv.bounder.lifestate.LifeState.SubClassMatcher\",\"baseSubtypeOf\":[\"android.os.AsyncTask\"],\"signatureMatcher\":\".*AsyncTask execute\\\\(.*\\\\)\",\"ident\":\"AsyncTask_execute\"},\"lsVars\":[{\"$type\":\"edu.colorado.plv.bounder.symbolicexecutor.state.TopVal\"},{\"$type\":\"edu.colorado.plv.bounder.symbolicexecutor.state.NamedPureVar\",\"n\":\"t\"}]},\"target\":{\"$type\":\"edu.colorado.plv.bounder.lifestate.LifeState.OAbsMsg\",\"mt\":{\"$type\":\"edu.colorado.plv.bounder.ir.CIEnter\"},\"signatures\":{\"$type\":\"edu.colorado.plv.bounder.lifestate.LifeState.SubClassMatcher\",\"baseSubtypeOf\":[\"android.os.AsyncTask\"],\"signatureMatcher\":\".*AsyncTask execute\\\\(.*\\\\)\",\"ident\":\"AsyncTask_execute\"},\"lsVars\":[{\"$type\":\"edu.colorado.plv.bounder.symbolicexecutor.state.TopVal\"},{\"$type\":\"edu.colorado.plv.bounder.symbolicexecutor.state.NamedPureVar\",\"n\":\"t\"}]}},{\"univQuant\":[{\"$type\":\"edu.colorado.plv.bounder.symbolicexecutor.state.NamedPureVar\",\"n\":\"d\"}],\"existQuant\":[{\"$type\":\"edu.colorado.plv.bounder.symbolicexecutor.state.NamedPureVar\",\"n\":\"a\"}],\"pred\":{\"$type\":\"edu.colorado.plv.bounder.lifestate.LifeState.And\",\"l1\":{\"$type\":\"edu.colorado.plv.bounder.lifestate.LifeState.OAbsMsg\",\"mt\":{\"$type\":\"edu.colorado.plv.bounder.ir.CIExit\"},\"signatures\":{\"$type\":\"edu.colorado.plv.bounder.lifestate.LifeState.SubClassMatcher\",\"baseSubtypeOf\":[\"android.app.ProgressDialog\",\"android.app.Dialog\"],\"signatureMatcher\":\".*show.*\",\"ident\":\"Dialog_show\"},\"lsVars\":[{\"$type\":\"edu.colorado.plv.bounder.symbolicexecutor.state.NamedPureVar\",\"n\":\"d\"},{\"$type\":\"edu.colorado.plv.bounder.symbolicexecutor.state.TopVal\"},{\"$type\":\"edu.colorado.plv.bounder.symbolicexecutor.state.NamedPureVar\",\"n\":\"a\"}]},\"l2\":{\"$type\":\"edu.colorado.plv.bounder.lifestate.LifeState.Or\",\"l1\":{\"$type\":\"edu.colorado.plv.bounder.lifestate.LifeState.Not\",\"p\":{\"$type\":\"edu.colorado.plv.bounder.lifestate.LifeState.OAbsMsg\",\"mt\":{\"$type\":\"edu.colorado.plv.bounder.ir.CBEnter\"},\"signatures\":{\"$type\":\"edu.colorado.plv.bounder.lifestate.LifeState.SubClassMatcher\",\"baseSubtypeOf\":[\"android.app.Activity\",\"androidx.fragment.app.FragmentActivity\"],\"signatureMatcher\":\"void onResume\\\\(\\\\)\",\"ident\":\"Activity_onResume\"},\"lsVars\":[{\"$type\":\"edu.colorado.plv.bounder.symbolicexecutor.state.TopVal\"},{\"$type\":\"edu.colorado.plv.bounder.symbolicexecutor.state.NamedPureVar\",\"n\":\"a\"}]}},\"l2\":{\"$type\":\"edu.colorado.plv.bounder.lifestate.LifeState.NS\",\"i1\":{\"$type\":\"edu.colorado.plv.bounder.lifestate.LifeState.OAbsMsg\",\"mt\":{\"$type\":\"edu.colorado.plv.bounder.ir.CBExit\"},\"signatures\":{\"$type\":\"edu.colorado.plv.bounder.lifestate.LifeState.SubClassMatcher\",\"baseSubtypeOf\":[\"android.app.Activity\",\"androidx.fragment.app.FragmentActivity\"],\"signatureMatcher\":\"void onPause\\\\(\\\\)\",\"ident\":\"Activity_onPause\"},\"lsVars\":[{\"$type\":\"edu.colorado.plv.bounder.symbolicexecutor.state.TopVal\"},{\"$type\":\"edu.colorado.plv.bounder.symbolicexecutor.state.NamedPureVar\",\"n\":\"a\"}]},\"i2\":{\"$type\":\"edu.colorado.plv.bounder.lifestate.LifeState.OAbsMsg\",\"mt\":{\"$type\":\"edu.colorado.plv.bounder.ir.CBEnter\"},\"signatures\":{\"$type\":\"edu.colorado.plv.bounder.lifestate.LifeState.SubClassMatcher\",\"baseSubtypeOf\":[\"android.app.Activity\",\"androidx.fragment.app.FragmentActivity\"],\"signatureMatcher\":\"void onResume\\\\(\\\\)\",\"ident\":\"Activity_onResume\"},\"lsVars\":[{\"$type\":\"edu.colorado.plv.bounder.symbolicexecutor.state.TopVal\"},{\"$type\":\"edu.colorado.plv.bounder.symbolicexecutor.state.NamedPureVar\",\"n\":\"a\"}]}}}},\"target\":{\"$type\":\"edu.colorado.plv.bounder.lifestate.LifeState.OAbsMsg\",\"mt\":{\"$type\":\"edu.colorado.plv.bounder.ir.CIEnter\"},\"signatures\":{\"$type\":\"edu.colorado.plv.bounder.lifestate.LifeState.SubClassMatcher\",\"baseSubtypeOf\":[\"android.app.ProgressDialog\",\"android.app.Dialog\"],\"signatureMatcher\":\"void dismiss\\\\(\\\\)\",\"ident\":\"Dialog_dismiss\"},\"lsVars\":[{\"$type\":\"edu.colorado.plv.bounder.symbolicexecutor.state.TopVal\"},{\"$type\":\"edu.colorado.plv.bounder.symbolicexecutor.state.NamedPureVar\",\"n\":\"d\"}]}}]}",
        "tag": {
         "heuristicType": "SensitiveDerefFieldCausedSynch"
        },
        "timeLimit": 900
       },
       {
        "apkPath": "${baseDir}/fdroid/org.sipdroid.sipua/6.3beta/apk/org.sipdroid.sipua_134.apk",
        "configPath": [
         "/tmp/270335928576313844"
        ],
        "initialQuery": [
         {
          "className": "org.sipdroid.media.RtpStreamReceiver",
          "line": 669,
          "matcher": "void disconnect()",
          "methodName": "void run()",
          "t": "ReceiverNonNull"
         }
        ],
        "outFolder": [
         "${baseDirOut}/org.sipdroid.sipua"
        ],
        "specSet": "{\"specs\":[],\"disallow\":[{\"univQuant\":[{\"$type\":\"edu.colorado.plv.bounder.symbolicexecutor.state.NamedPureVar\",\"n\":\"a\"},{\"$type\":\"edu.colorado.plv.bounder.symbolicexecutor.state.NamedPureVar\",\"n\":\"f\"}],\"existQuant\":[],\"pred\":{\"$type\":\"edu.colorado.plv.bounder.lifestate.LifeState.Or\",\"l1\":{\"$type\":\"edu.colorado.plv.bounder.lifestate.LifeState.NS\",\"i1\":{\"$type\":\"edu.colorado.plv.bounder.lifestate.LifeState.OAbsMsg\",\"mt\":{\"$type\":\"edu.colorado.plv.bounder.ir.CBExit\"},\"signatures\":{\"$type\":\"edu.colorado.plv.bounder.lifestate.LifeState.SubClassMatcher\",\"baseSubtypeOf\":[\"android.app.Fragment\",\"androidx.fragment.app.Fragment\",\"android.support.v4.app.Fragment\"],\"signatureMatcher\":\"void onDestroy\\\\(\\\\)\",\"ident\":\"Fragment_onDestroy\"},\"lsVars\":[{\"$type\":\"edu.colorado.plv.bounder.symbolicexecutor.state.TopVal\"},{\"$type\":\"edu.colorado.plv.bounder.symbolicexecutor.state.NamedPureVar\",\"n\":\"f\"}]},\"i2\":{\"$type\":\"edu.colorado.plv.bounder.lifestate.LifeState.OAbsMsg\",\"mt\":{\"$type\":\"edu.colorado.plv.bounder.ir.CBEnter\"},\"signatures\":{\"$type\":\"edu.colorado.plv.bounder.lifestate.LifeState.SubClassMatcher\",\"baseSubtypeOf\":[\"android.app.Fragment\",\"androidx.fragment.app.Fragment\",\"android.support.v4.app.Fragment\"],\"signatureMatcher\":\"void onActivityCreated\\\\(android.os.Bundle\\\\)\",\"ident\":\"Fragment_onActivityCreated\"},\"lsVars\":[{\"$type\":\"edu.colorado.plv.bounder.symbolicexecutor.state.TopVal\"},{\"$type\":\"edu.colorado.plv.bounder.symbolicexecutor.state.NamedPureVar\",\"n\":\"f\"}]}},\"l2\":{\"$type\":\"edu.colorado.plv.bounder.lifestate.LifeState.Not\",\"p\":{\"$type\":\"edu.colorado.plv.bounder.lifestate.LifeState.OAbsMsg\",\"mt\":{\"$type\":\"edu.colorado.plv.bounder.ir.CBEnter\"},\"signatures\":{\"$type\":\"edu.colorado.plv.bounder.lifestate.LifeState.SubClassMatcher\",\"baseSubtypeOf\":[\"android.app.Fragment\",\"androidx.fragment.app.Fragment\",\"android.support.v4.app.Fragment\"],\"signatureMatcher\":\"void onActivityCreated\\\\(android.os.Bundle\\\\)\",\"ident\":\"Fragment_onActivityCreated\"},\"lsVars\":[{\"$type\":\"edu.colorado.plv.bounder.symbolicexecutor.state.TopVal\"},{\"$type\":\"edu.colorado.plv.bounder.symbolicexecutor.state.NamedPureVar\",\"n\":\"f\"}]}}},\"target\":{\"$type\":\"edu.colorado.plv.bounder.lifestate.LifeState.OAbsMsg\",\"mt\":{\"$type\":\"edu.colorado.plv.bounder.ir.CIExit\"},\"signatures\":{\"$type\":\"edu.colorado.plv.bounder.lifestate.LifeState.SubClassMatcher\",\"baseSubtypeOf\":[\"android.app.Fragment\",\"androidx.fragment.app.Fragment\",\"android.support.v4.app.Fragment\"],\"signatureMatcher\":\".*Activity getActivity\\\\(\\\\)\",\"ident\":\"Fragment_getActivity\"},\"lsVars\":[{\"$type\":\"edu.colorado.plv.bounder.symbolicexecutor.state.NamedPureVar\",\"n\":\"a\"},{\"$type\":\"edu.colorado.plv.bounder.symbolicexecutor.state.NamedPureVar\",\"n\":\"f\"}]},\"rhsConstraints\":[{\"$type\":\"edu.colorado.plv.bounder.lifestate.LifeState.LSConstraint\",\"v1\":{\"$type\":\"edu.colorado.plv.bounder.symbolicexecutor.state.NamedPureVar\",\"n\":\"a\"},\"op\":{\"$type\":\"edu.colorado.plv.bounder.symbolicexecutor.state.Equals\"},\"v2\":{\"$type\":\"edu.colorado.plv.bounder.symbolicexecutor.state.NullVal\"}}]},{\"univQuant\":[{\"$type\":\"edu.colorado.plv.bounder.symbolicexecutor.state.NamedPureVar\",\"n\":\"t\"}],\"existQuant\":[],\"pred\":{\"$type\":\"edu.colorado.plv.bounder.lifestate.LifeState.OAbsMsg\",\"mt\":{\"$type\":\"edu.colorado.plv.bounder.ir.CIExit\"},\"signatures\":{\"$type\":\"edu.colorado.plv.bounder.lifestate.LifeState.SubClassMatcher\",\"baseSubtypeOf\":[\"android.os.AsyncTask\"],\"signatureMatcher\":\".*AsyncTask execute\\\\(.*\\\\)\",\"ident\":\"AsyncTask_execute\"},\"lsVars\":[{\"$type\":\"edu.colorado.plv.bounder.symbolicexecutor.state.TopVal\"},{\"$type\":\"edu.colorado.plv.bounder.symbolicexecutor.state.NamedPureVar\",\"n\":\"t\"}]},\"target\":{\"$type\":\"edu.colorado.plv.bounder.lifestate.LifeState.OAbsMsg\",\"mt\":{\"$type\":\"edu.colorado.plv.bounder.ir.CIEnter\"},\"signatures\":{\"$type\":\"edu.colorado.plv.bounder.lifestate.LifeState.SubClassMatcher\",\"baseSubtypeOf\":[\"android.os.AsyncTask\"],\"signatureMatcher\":\".*AsyncTask execute\\\\(.*\\\\)\",\"ident\":\"AsyncTask_execute\"},\"lsVars\":[{\"$type\":\"edu.colorado.plv.bounder.symbolicexecutor.state.TopVal\"},{\"$type\":\"edu.colorado.plv.bounder.symbolicexecutor.state.NamedPureVar\",\"n\":\"t\"}]}},{\"univQuant\":[{\"$type\":\"edu.colorado.plv.bounder.symbolicexecutor.state.NamedPureVar\",\"n\":\"d\"}],\"existQuant\":[{\"$type\":\"edu.colorado.plv.bounder.symbolicexecutor.state.NamedPureVar\",\"n\":\"a\"}],\"pred\":{\"$type\":\"edu.colorado.plv.bounder.lifestate.LifeState.And\",\"l1\":{\"$type\":\"edu.colorado.plv.bounder.lifestate.LifeState.OAbsMsg\",\"mt\":{\"$type\":\"edu.colorado.plv.bounder.ir.CIExit\"},\"signatures\":{\"$type\":\"edu.colorado.plv.bounder.lifestate.LifeState.SubClassMatcher\",\"baseSubtypeOf\":[\"android.app.ProgressDialog\",\"android.app.Dialog\"],\"signatureMatcher\":\".*show.*\",\"ident\":\"Dialog_show\"},\"lsVars\":[{\"$type\":\"edu.colorado.plv.bounder.symbolicexecutor.state.NamedPureVar\",\"n\":\"d\"},{\"$type\":\"edu.colorado.plv.bounder.symbolicexecutor.state.TopVal\"},{\"$type\":\"edu.colorado.plv.bounder.symbolicexecutor.state.NamedPureVar\",\"n\":\"a\"}]},\"l2\":{\"$type\":\"edu.colorado.plv.bounder.lifestate.LifeState.Or\",\"l1\":{\"$type\":\"edu.colorado.plv.bounder.lifestate.LifeState.Not\",\"p\":{\"$type\":\"edu.colorado.plv.bounder.lifestate.LifeState.OAbsMsg\",\"mt\":{\"$type\":\"edu.colorado.plv.bounder.ir.CBEnter\"},\"signatures\":{\"$type\":\"edu.colorado.plv.bounder.lifestate.LifeState.SubClassMatcher\",\"baseSubtypeOf\":[\"android.app.Activity\",\"androidx.fragment.app.FragmentActivity\"],\"signatureMatcher\":\"void onResume\\\\(\\\\)\",\"ident\":\"Activity_onResume\"},\"lsVars\":[{\"$type\":\"edu.colorado.plv.bounder.symbolicexecutor.state.TopVal\"},{\"$type\":\"edu.colorado.plv.bounder.symbolicexecutor.state.NamedPureVar\",\"n\":\"a\"}]}},\"l2\":{\"$type\":\"edu.colorado.plv.bounder.lifestate.LifeState.NS\",\"i1\":{\"$type\":\"edu.colorado.plv.bounder.lifestate.LifeState.OAbsMsg\",\"mt\":{\"$type\":\"edu.colorado.plv.bounder.ir.CBExit\"},\"signatures\":{\"$type\":\"edu.colorado.plv.bounder.lifestate.LifeState.SubClassMatcher\",\"baseSubtypeOf\":[\"android.app.Activity\",\"androidx.fragment.app.FragmentActivity\"],\"signatureMatcher\":\"void onPause\\\\(\\\\)\",\"ident\":\"Activity_onPause\"},\"lsVars\":[{\"$type\":\"edu.colorado.plv.bounder.symbolicexecutor.state.TopVal\"},{\"$type\":\"edu.colorado.plv.bounder.symbolicexecutor.state.NamedPureVar\",\"n\":\"a\"}]},\"i2\":{\"$type\":\"edu.colorado.plv.bounder.lifestate.LifeState.OAbsMsg\",\"mt\":{\"$type\":\"edu.colorado.plv.bounder.ir.CBEnter\"},\"signatures\":{\"$type\":\"edu.colorado.plv.bounder.lifestate.LifeState.SubClassMatcher\",\"baseSubtypeOf\":[\"android.app.Activity\",\"androidx.fragment.app.FragmentActivity\"],\"signatureMatcher\":\"void onResume\\\\(\\\\)\",\"ident\":\"Activity_onResume\"},\"lsVars\":[{\"$type\":\"edu.colorado.plv.bounder.symbolicexecutor.state.TopVal\"},{\"$type\":\"edu.colorado.plv.bounder.symbolicexecutor.state.NamedPureVar\",\"n\":\"a\"}]}}}},\"target\":{\"$type\":\"edu.colorado.plv.bounder.lifestate.LifeState.OAbsMsg\",\"mt\":{\"$type\":\"edu.colorado.plv.bounder.ir.CIEnter\"},\"signatures\":{\"$type\":\"edu.colorado.plv.bounder.lifestate.LifeState.SubClassMatcher\",\"baseSubtypeOf\":[\"android.app.ProgressDialog\",\"android.app.Dialog\"],\"signatureMatcher\":\"void dismiss\\\\(\\\\)\",\"ident\":\"Dialog_dismiss\"},\"lsVars\":[{\"$type\":\"edu.colorado.plv.bounder.symbolicexecutor.state.TopVal\"},{\"$type\":\"edu.colorado.plv.bounder.symbolicexecutor.state.NamedPureVar\",\"n\":\"d\"}]}}]}",
        "tag": {
         "heuristicType": "SensitiveDerefFieldCausedSynch"
        },
        "timeLimit": 900
       },
       {
        "apkPath": "${baseDir}/fdroid/org.sipdroid.sipua/6.3beta/apk/org.sipdroid.sipua_134.apk",
        "configPath": [
         "/tmp/270335928576313844"
        ],
        "initialQuery": [
         {
          "className": "org.zoolu.net.TcpServer",
          "line": 160,
          "matcher": "void onServerTerminated(org.zoolu.net.TcpServer,java.lang.Exception)",
          "methodName": "void run()",
          "t": "ReceiverNonNull"
         }
        ],
        "outFolder": [
         "${baseDirOut}/org.sipdroid.sipua"
        ],
        "specSet": "{\"specs\":[],\"disallow\":[{\"univQuant\":[{\"$type\":\"edu.colorado.plv.bounder.symbolicexecutor.state.NamedPureVar\",\"n\":\"a\"},{\"$type\":\"edu.colorado.plv.bounder.symbolicexecutor.state.NamedPureVar\",\"n\":\"f\"}],\"existQuant\":[],\"pred\":{\"$type\":\"edu.colorado.plv.bounder.lifestate.LifeState.Or\",\"l1\":{\"$type\":\"edu.colorado.plv.bounder.lifestate.LifeState.NS\",\"i1\":{\"$type\":\"edu.colorado.plv.bounder.lifestate.LifeState.OAbsMsg\",\"mt\":{\"$type\":\"edu.colorado.plv.bounder.ir.CBExit\"},\"signatures\":{\"$type\":\"edu.colorado.plv.bounder.lifestate.LifeState.SubClassMatcher\",\"baseSubtypeOf\":[\"android.app.Fragment\",\"androidx.fragment.app.Fragment\",\"android.support.v4.app.Fragment\"],\"signatureMatcher\":\"void onDestroy\\\\(\\\\)\",\"ident\":\"Fragment_onDestroy\"},\"lsVars\":[{\"$type\":\"edu.colorado.plv.bounder.symbolicexecutor.state.TopVal\"},{\"$type\":\"edu.colorado.plv.bounder.symbolicexecutor.state.NamedPureVar\",\"n\":\"f\"}]},\"i2\":{\"$type\":\"edu.colorado.plv.bounder.lifestate.LifeState.OAbsMsg\",\"mt\":{\"$type\":\"edu.colorado.plv.bounder.ir.CBEnter\"},\"signatures\":{\"$type\":\"edu.colorado.plv.bounder.lifestate.LifeState.SubClassMatcher\",\"baseSubtypeOf\":[\"android.app.Fragment\",\"androidx.fragment.app.Fragment\",\"android.support.v4.app.Fragment\"],\"signatureMatcher\":\"void onActivityCreated\\\\(android.os.Bundle\\\\)\",\"ident\":\"Fragment_onActivityCreated\"},\"lsVars\":[{\"$type\":\"edu.colorado.plv.bounder.symbolicexecutor.state.TopVal\"},{\"$type\":\"edu.colorado.plv.bounder.symbolicexecutor.state.NamedPureVar\",\"n\":\"f\"}]}},\"l2\":{\"$type\":\"edu.colorado.plv.bounder.lifestate.LifeState.Not\",\"p\":{\"$type\":\"edu.colorado.plv.bounder.lifestate.LifeState.OAbsMsg\",\"mt\":{\"$type\":\"edu.colorado.plv.bounder.ir.CBEnter\"},\"signatures\":{\"$type\":\"edu.colorado.plv.bounder.lifestate.LifeState.SubClassMatcher\",\"baseSubtypeOf\":[\"android.app.Fragment\",\"androidx.fragment.app.Fragment\",\"android.support.v4.app.Fragment\"],\"signatureMatcher\":\"void onActivityCreated\\\\(android.os.Bundle\\\\)\",\"ident\":\"Fragment_onActivityCreated\"},\"lsVars\":[{\"$type\":\"edu.colorado.plv.bounder.symbolicexecutor.state.TopVal\"},{\"$type\":\"edu.colorado.plv.bounder.symbolicexecutor.state.NamedPureVar\",\"n\":\"f\"}]}}},\"target\":{\"$type\":\"edu.colorado.plv.bounder.lifestate.LifeState.OAbsMsg\",\"mt\":{\"$type\":\"edu.colorado.plv.bounder.ir.CIExit\"},\"signatures\":{\"$type\":\"edu.colorado.plv.bounder.lifestate.LifeState.SubClassMatcher\",\"baseSubtypeOf\":[\"android.app.Fragment\",\"androidx.fragment.app.Fragment\",\"android.support.v4.app.Fragment\"],\"signatureMatcher\":\".*Activity getActivity\\\\(\\\\)\",\"ident\":\"Fragment_getActivity\"},\"lsVars\":[{\"$type\":\"edu.colorado.plv.bounder.symbolicexecutor.state.NamedPureVar\",\"n\":\"a\"},{\"$type\":\"edu.colorado.plv.bounder.symbolicexecutor.state.NamedPureVar\",\"n\":\"f\"}]},\"rhsConstraints\":[{\"$type\":\"edu.colorado.plv.bounder.lifestate.LifeState.LSConstraint\",\"v1\":{\"$type\":\"edu.colorado.plv.bounder.symbolicexecutor.state.NamedPureVar\",\"n\":\"a\"},\"op\":{\"$type\":\"edu.colorado.plv.bounder.symbolicexecutor.state.Equals\"},\"v2\":{\"$type\":\"edu.colorado.plv.bounder.symbolicexecutor.state.NullVal\"}}]},{\"univQuant\":[{\"$type\":\"edu.colorado.plv.bounder.symbolicexecutor.state.NamedPureVar\",\"n\":\"t\"}],\"existQuant\":[],\"pred\":{\"$type\":\"edu.colorado.plv.bounder.lifestate.LifeState.OAbsMsg\",\"mt\":{\"$type\":\"edu.colorado.plv.bounder.ir.CIExit\"},\"signatures\":{\"$type\":\"edu.colorado.plv.bounder.lifestate.LifeState.SubClassMatcher\",\"baseSubtypeOf\":[\"android.os.AsyncTask\"],\"signatureMatcher\":\".*AsyncTask execute\\\\(.*\\\\)\",\"ident\":\"AsyncTask_execute\"},\"lsVars\":[{\"$type\":\"edu.colorado.plv.bounder.symbolicexecutor.state.TopVal\"},{\"$type\":\"edu.colorado.plv.bounder.symbolicexecutor.state.NamedPureVar\",\"n\":\"t\"}]},\"target\":{\"$type\":\"edu.colorado.plv.bounder.lifestate.LifeState.OAbsMsg\",\"mt\":{\"$type\":\"edu.colorado.plv.bounder.ir.CIEnter\"},\"signatures\":{\"$type\":\"edu.colorado.plv.bounder.lifestate.LifeState.SubClassMatcher\",\"baseSubtypeOf\":[\"android.os.AsyncTask\"],\"signatureMatcher\":\".*AsyncTask execute\\\\(.*\\\\)\",\"ident\":\"AsyncTask_execute\"},\"lsVars\":[{\"$type\":\"edu.colorado.plv.bounder.symbolicexecutor.state.TopVal\"},{\"$type\":\"edu.colorado.plv.bounder.symbolicexecutor.state.NamedPureVar\",\"n\":\"t\"}]}},{\"univQuant\":[{\"$type\":\"edu.colorado.plv.bounder.symbolicexecutor.state.NamedPureVar\",\"n\":\"d\"}],\"existQuant\":[{\"$type\":\"edu.colorado.plv.bounder.symbolicexecutor.state.NamedPureVar\",\"n\":\"a\"}],\"pred\":{\"$type\":\"edu.colorado.plv.bounder.lifestate.LifeState.And\",\"l1\":{\"$type\":\"edu.colorado.plv.bounder.lifestate.LifeState.OAbsMsg\",\"mt\":{\"$type\":\"edu.colorado.plv.bounder.ir.CIExit\"},\"signatures\":{\"$type\":\"edu.colorado.plv.bounder.lifestate.LifeState.SubClassMatcher\",\"baseSubtypeOf\":[\"android.app.ProgressDialog\",\"android.app.Dialog\"],\"signatureMatcher\":\".*show.*\",\"ident\":\"Dialog_show\"},\"lsVars\":[{\"$type\":\"edu.colorado.plv.bounder.symbolicexecutor.state.NamedPureVar\",\"n\":\"d\"},{\"$type\":\"edu.colorado.plv.bounder.symbolicexecutor.state.TopVal\"},{\"$type\":\"edu.colorado.plv.bounder.symbolicexecutor.state.NamedPureVar\",\"n\":\"a\"}]},\"l2\":{\"$type\":\"edu.colorado.plv.bounder.lifestate.LifeState.Or\",\"l1\":{\"$type\":\"edu.colorado.plv.bounder.lifestate.LifeState.Not\",\"p\":{\"$type\":\"edu.colorado.plv.bounder.lifestate.LifeState.OAbsMsg\",\"mt\":{\"$type\":\"edu.colorado.plv.bounder.ir.CBEnter\"},\"signatures\":{\"$type\":\"edu.colorado.plv.bounder.lifestate.LifeState.SubClassMatcher\",\"baseSubtypeOf\":[\"android.app.Activity\",\"androidx.fragment.app.FragmentActivity\"],\"signatureMatcher\":\"void onResume\\\\(\\\\)\",\"ident\":\"Activity_onResume\"},\"lsVars\":[{\"$type\":\"edu.colorado.plv.bounder.symbolicexecutor.state.TopVal\"},{\"$type\":\"edu.colorado.plv.bounder.symbolicexecutor.state.NamedPureVar\",\"n\":\"a\"}]}},\"l2\":{\"$type\":\"edu.colorado.plv.bounder.lifestate.LifeState.NS\",\"i1\":{\"$type\":\"edu.colorado.plv.bounder.lifestate.LifeState.OAbsMsg\",\"mt\":{\"$type\":\"edu.colorado.plv.bounder.ir.CBExit\"},\"signatures\":{\"$type\":\"edu.colorado.plv.bounder.lifestate.LifeState.SubClassMatcher\",\"baseSubtypeOf\":[\"android.app.Activity\",\"androidx.fragment.app.FragmentActivity\"],\"signatureMatcher\":\"void onPause\\\\(\\\\)\",\"ident\":\"Activity_onPause\"},\"lsVars\":[{\"$type\":\"edu.colorado.plv.bounder.symbolicexecutor.state.TopVal\"},{\"$type\":\"edu.colorado.plv.bounder.symbolicexecutor.state.NamedPureVar\",\"n\":\"a\"}]},\"i2\":{\"$type\":\"edu.colorado.plv.bounder.lifestate.LifeState.OAbsMsg\",\"mt\":{\"$type\":\"edu.colorado.plv.bounder.ir.CBEnter\"},\"signatures\":{\"$type\":\"edu.colorado.plv.bounder.lifestate.LifeState.SubClassMatcher\",\"baseSubtypeOf\":[\"android.app.Activity\",\"androidx.fragment.app.FragmentActivity\"],\"signatureMatcher\":\"void onResume\\\\(\\\\)\",\"ident\":\"Activity_onResume\"},\"lsVars\":[{\"$type\":\"edu.colorado.plv.bounder.symbolicexecutor.state.TopVal\"},{\"$type\":\"edu.colorado.plv.bounder.symbolicexecutor.state.NamedPureVar\",\"n\":\"a\"}]}}}},\"target\":{\"$type\":\"edu.colorado.plv.bounder.lifestate.LifeState.OAbsMsg\",\"mt\":{\"$type\":\"edu.colorado.plv.bounder.ir.CIEnter\"},\"signatures\":{\"$type\":\"edu.colorado.plv.bounder.lifestate.LifeState.SubClassMatcher\",\"baseSubtypeOf\":[\"android.app.ProgressDialog\",\"android.app.Dialog\"],\"signatureMatcher\":\"void dismiss\\\\(\\\\)\",\"ident\":\"Dialog_dismiss\"},\"lsVars\":[{\"$type\":\"edu.colorado.plv.bounder.symbolicexecutor.state.TopVal\"},{\"$type\":\"edu.colorado.plv.bounder.symbolicexecutor.state.NamedPureVar\",\"n\":\"d\"}]}}]}",
        "tag": {
         "heuristicType": "SensitiveDerefFieldCausedSynch"
        },
        "timeLimit": 900
       },
       {
        "apkPath": "${baseDir}/fdroid/org.sipdroid.sipua/6.3beta/apk/org.sipdroid.sipua_134.apk",
        "configPath": [
         "/tmp/270335928576313844"
        ],
        "initialQuery": [
         {
          "className": "org.sipdroid.media.RtpStreamReceiver",
          "line": 651,
          "matcher": "void receive(org.sipdroid.net.RtpPacket)",
          "methodName": "void run()",
          "t": "ReceiverNonNull"
         }
        ],
        "outFolder": [
         "${baseDirOut}/org.sipdroid.sipua"
        ],
        "specSet": "{\"specs\":[],\"disallow\":[{\"univQuant\":[{\"$type\":\"edu.colorado.plv.bounder.symbolicexecutor.state.NamedPureVar\",\"n\":\"a\"},{\"$type\":\"edu.colorado.plv.bounder.symbolicexecutor.state.NamedPureVar\",\"n\":\"f\"}],\"existQuant\":[],\"pred\":{\"$type\":\"edu.colorado.plv.bounder.lifestate.LifeState.Or\",\"l1\":{\"$type\":\"edu.colorado.plv.bounder.lifestate.LifeState.NS\",\"i1\":{\"$type\":\"edu.colorado.plv.bounder.lifestate.LifeState.OAbsMsg\",\"mt\":{\"$type\":\"edu.colorado.plv.bounder.ir.CBExit\"},\"signatures\":{\"$type\":\"edu.colorado.plv.bounder.lifestate.LifeState.SubClassMatcher\",\"baseSubtypeOf\":[\"android.app.Fragment\",\"androidx.fragment.app.Fragment\",\"android.support.v4.app.Fragment\"],\"signatureMatcher\":\"void onDestroy\\\\(\\\\)\",\"ident\":\"Fragment_onDestroy\"},\"lsVars\":[{\"$type\":\"edu.colorado.plv.bounder.symbolicexecutor.state.TopVal\"},{\"$type\":\"edu.colorado.plv.bounder.symbolicexecutor.state.NamedPureVar\",\"n\":\"f\"}]},\"i2\":{\"$type\":\"edu.colorado.plv.bounder.lifestate.LifeState.OAbsMsg\",\"mt\":{\"$type\":\"edu.colorado.plv.bounder.ir.CBEnter\"},\"signatures\":{\"$type\":\"edu.colorado.plv.bounder.lifestate.LifeState.SubClassMatcher\",\"baseSubtypeOf\":[\"android.app.Fragment\",\"androidx.fragment.app.Fragment\",\"android.support.v4.app.Fragment\"],\"signatureMatcher\":\"void onActivityCreated\\\\(android.os.Bundle\\\\)\",\"ident\":\"Fragment_onActivityCreated\"},\"lsVars\":[{\"$type\":\"edu.colorado.plv.bounder.symbolicexecutor.state.TopVal\"},{\"$type\":\"edu.colorado.plv.bounder.symbolicexecutor.state.NamedPureVar\",\"n\":\"f\"}]}},\"l2\":{\"$type\":\"edu.colorado.plv.bounder.lifestate.LifeState.Not\",\"p\":{\"$type\":\"edu.colorado.plv.bounder.lifestate.LifeState.OAbsMsg\",\"mt\":{\"$type\":\"edu.colorado.plv.bounder.ir.CBEnter\"},\"signatures\":{\"$type\":\"edu.colorado.plv.bounder.lifestate.LifeState.SubClassMatcher\",\"baseSubtypeOf\":[\"android.app.Fragment\",\"androidx.fragment.app.Fragment\",\"android.support.v4.app.Fragment\"],\"signatureMatcher\":\"void onActivityCreated\\\\(android.os.Bundle\\\\)\",\"ident\":\"Fragment_onActivityCreated\"},\"lsVars\":[{\"$type\":\"edu.colorado.plv.bounder.symbolicexecutor.state.TopVal\"},{\"$type\":\"edu.colorado.plv.bounder.symbolicexecutor.state.NamedPureVar\",\"n\":\"f\"}]}}},\"target\":{\"$type\":\"edu.colorado.plv.bounder.lifestate.LifeState.OAbsMsg\",\"mt\":{\"$type\":\"edu.colorado.plv.bounder.ir.CIExit\"},\"signatures\":{\"$type\":\"edu.colorado.plv.bounder.lifestate.LifeState.SubClassMatcher\",\"baseSubtypeOf\":[\"android.app.Fragment\",\"androidx.fragment.app.Fragment\",\"android.support.v4.app.Fragment\"],\"signatureMatcher\":\".*Activity getActivity\\\\(\\\\)\",\"ident\":\"Fragment_getActivity\"},\"lsVars\":[{\"$type\":\"edu.colorado.plv.bounder.symbolicexecutor.state.NamedPureVar\",\"n\":\"a\"},{\"$type\":\"edu.colorado.plv.bounder.symbolicexecutor.state.NamedPureVar\",\"n\":\"f\"}]},\"rhsConstraints\":[{\"$type\":\"edu.colorado.plv.bounder.lifestate.LifeState.LSConstraint\",\"v1\":{\"$type\":\"edu.colorado.plv.bounder.symbolicexecutor.state.NamedPureVar\",\"n\":\"a\"},\"op\":{\"$type\":\"edu.colorado.plv.bounder.symbolicexecutor.state.Equals\"},\"v2\":{\"$type\":\"edu.colorado.plv.bounder.symbolicexecutor.state.NullVal\"}}]},{\"univQuant\":[{\"$type\":\"edu.colorado.plv.bounder.symbolicexecutor.state.NamedPureVar\",\"n\":\"t\"}],\"existQuant\":[],\"pred\":{\"$type\":\"edu.colorado.plv.bounder.lifestate.LifeState.OAbsMsg\",\"mt\":{\"$type\":\"edu.colorado.plv.bounder.ir.CIExit\"},\"signatures\":{\"$type\":\"edu.colorado.plv.bounder.lifestate.LifeState.SubClassMatcher\",\"baseSubtypeOf\":[\"android.os.AsyncTask\"],\"signatureMatcher\":\".*AsyncTask execute\\\\(.*\\\\)\",\"ident\":\"AsyncTask_execute\"},\"lsVars\":[{\"$type\":\"edu.colorado.plv.bounder.symbolicexecutor.state.TopVal\"},{\"$type\":\"edu.colorado.plv.bounder.symbolicexecutor.state.NamedPureVar\",\"n\":\"t\"}]},\"target\":{\"$type\":\"edu.colorado.plv.bounder.lifestate.LifeState.OAbsMsg\",\"mt\":{\"$type\":\"edu.colorado.plv.bounder.ir.CIEnter\"},\"signatures\":{\"$type\":\"edu.colorado.plv.bounder.lifestate.LifeState.SubClassMatcher\",\"baseSubtypeOf\":[\"android.os.AsyncTask\"],\"signatureMatcher\":\".*AsyncTask execute\\\\(.*\\\\)\",\"ident\":\"AsyncTask_execute\"},\"lsVars\":[{\"$type\":\"edu.colorado.plv.bounder.symbolicexecutor.state.TopVal\"},{\"$type\":\"edu.colorado.plv.bounder.symbolicexecutor.state.NamedPureVar\",\"n\":\"t\"}]}},{\"univQuant\":[{\"$type\":\"edu.colorado.plv.bounder.symbolicexecutor.state.NamedPureVar\",\"n\":\"d\"}],\"existQuant\":[{\"$type\":\"edu.colorado.plv.bounder.symbolicexecutor.state.NamedPureVar\",\"n\":\"a\"}],\"pred\":{\"$type\":\"edu.colorado.plv.bounder.lifestate.LifeState.And\",\"l1\":{\"$type\":\"edu.colorado.plv.bounder.lifestate.LifeState.OAbsMsg\",\"mt\":{\"$type\":\"edu.colorado.plv.bounder.ir.CIExit\"},\"signatures\":{\"$type\":\"edu.colorado.plv.bounder.lifestate.LifeState.SubClassMatcher\",\"baseSubtypeOf\":[\"android.app.ProgressDialog\",\"android.app.Dialog\"],\"signatureMatcher\":\".*show.*\",\"ident\":\"Dialog_show\"},\"lsVars\":[{\"$type\":\"edu.colorado.plv.bounder.symbolicexecutor.state.NamedPureVar\",\"n\":\"d\"},{\"$type\":\"edu.colorado.plv.bounder.symbolicexecutor.state.TopVal\"},{\"$type\":\"edu.colorado.plv.bounder.symbolicexecutor.state.NamedPureVar\",\"n\":\"a\"}]},\"l2\":{\"$type\":\"edu.colorado.plv.bounder.lifestate.LifeState.Or\",\"l1\":{\"$type\":\"edu.colorado.plv.bounder.lifestate.LifeState.Not\",\"p\":{\"$type\":\"edu.colorado.plv.bounder.lifestate.LifeState.OAbsMsg\",\"mt\":{\"$type\":\"edu.colorado.plv.bounder.ir.CBEnter\"},\"signatures\":{\"$type\":\"edu.colorado.plv.bounder.lifestate.LifeState.SubClassMatcher\",\"baseSubtypeOf\":[\"android.app.Activity\",\"androidx.fragment.app.FragmentActivity\"],\"signatureMatcher\":\"void onResume\\\\(\\\\)\",\"ident\":\"Activity_onResume\"},\"lsVars\":[{\"$type\":\"edu.colorado.plv.bounder.symbolicexecutor.state.TopVal\"},{\"$type\":\"edu.colorado.plv.bounder.symbolicexecutor.state.NamedPureVar\",\"n\":\"a\"}]}},\"l2\":{\"$type\":\"edu.colorado.plv.bounder.lifestate.LifeState.NS\",\"i1\":{\"$type\":\"edu.colorado.plv.bounder.lifestate.LifeState.OAbsMsg\",\"mt\":{\"$type\":\"edu.colorado.plv.bounder.ir.CBExit\"},\"signatures\":{\"$type\":\"edu.colorado.plv.bounder.lifestate.LifeState.SubClassMatcher\",\"baseSubtypeOf\":[\"android.app.Activity\",\"androidx.fragment.app.FragmentActivity\"],\"signatureMatcher\":\"void onPause\\\\(\\\\)\",\"ident\":\"Activity_onPause\"},\"lsVars\":[{\"$type\":\"edu.colorado.plv.bounder.symbolicexecutor.state.TopVal\"},{\"$type\":\"edu.colorado.plv.bounder.symbolicexecutor.state.NamedPureVar\",\"n\":\"a\"}]},\"i2\":{\"$type\":\"edu.colorado.plv.bounder.lifestate.LifeState.OAbsMsg\",\"mt\":{\"$type\":\"edu.colorado.plv.bounder.ir.CBEnter\"},\"signatures\":{\"$type\":\"edu.colorado.plv.bounder.lifestate.LifeState.SubClassMatcher\",\"baseSubtypeOf\":[\"android.app.Activity\",\"androidx.fragment.app.FragmentActivity\"],\"signatureMatcher\":\"void onResume\\\\(\\\\)\",\"ident\":\"Activity_onResume\"},\"lsVars\":[{\"$type\":\"edu.colorado.plv.bounder.symbolicexecutor.state.TopVal\"},{\"$type\":\"edu.colorado.plv.bounder.symbolicexecutor.state.NamedPureVar\",\"n\":\"a\"}]}}}},\"target\":{\"$type\":\"edu.colorado.plv.bounder.lifestate.LifeState.OAbsMsg\",\"mt\":{\"$type\":\"edu.colorado.plv.bounder.ir.CIEnter\"},\"signatures\":{\"$type\":\"edu.colorado.plv.bounder.lifestate.LifeState.SubClassMatcher\",\"baseSubtypeOf\":[\"android.app.ProgressDialog\",\"android.app.Dialog\"],\"signatureMatcher\":\"void dismiss\\\\(\\\\)\",\"ident\":\"Dialog_dismiss\"},\"lsVars\":[{\"$type\":\"edu.colorado.plv.bounder.symbolicexecutor.state.TopVal\"},{\"$type\":\"edu.colorado.plv.bounder.symbolicexecutor.state.NamedPureVar\",\"n\":\"d\"}]}}]}",
        "tag": {
         "heuristicType": "SensitiveDerefFieldCausedSynch"
        },
        "timeLimit": 900
       },
       {
        "apkPath": "${baseDir}/fdroid/com.MarcosDiez.shareviahttp/2.0.14/apk/com.MarcosDiez.shareviahttp_34.apk",
        "configPath": [
         "/tmp/7995645621894533851"
        ],
        "initialQuery": [
         {
          "className": "com.MarcosDiez.shareviahttp.MyHttpServer",
          "line": 249,
          "matcher": "java.net.Socket accept()",
          "methodName": "void run()",
          "t": "ReceiverNonNull"
         }
        ],
        "outFolder": [
         "${baseDirOut}/com.MarcosDiez.shareviahttp"
        ],
        "specSet": "{\"specs\":[],\"disallow\":[{\"univQuant\":[{\"$type\":\"edu.colorado.plv.bounder.symbolicexecutor.state.NamedPureVar\",\"n\":\"a\"},{\"$type\":\"edu.colorado.plv.bounder.symbolicexecutor.state.NamedPureVar\",\"n\":\"f\"}],\"existQuant\":[],\"pred\":{\"$type\":\"edu.colorado.plv.bounder.lifestate.LifeState.Or\",\"l1\":{\"$type\":\"edu.colorado.plv.bounder.lifestate.LifeState.NS\",\"i1\":{\"$type\":\"edu.colorado.plv.bounder.lifestate.LifeState.OAbsMsg\",\"mt\":{\"$type\":\"edu.colorado.plv.bounder.ir.CBExit\"},\"signatures\":{\"$type\":\"edu.colorado.plv.bounder.lifestate.LifeState.SubClassMatcher\",\"baseSubtypeOf\":[\"android.app.Fragment\",\"androidx.fragment.app.Fragment\",\"android.support.v4.app.Fragment\"],\"signatureMatcher\":\"void onDestroy\\\\(\\\\)\",\"ident\":\"Fragment_onDestroy\"},\"lsVars\":[{\"$type\":\"edu.colorado.plv.bounder.symbolicexecutor.state.TopVal\"},{\"$type\":\"edu.colorado.plv.bounder.symbolicexecutor.state.NamedPureVar\",\"n\":\"f\"}]},\"i2\":{\"$type\":\"edu.colorado.plv.bounder.lifestate.LifeState.OAbsMsg\",\"mt\":{\"$type\":\"edu.colorado.plv.bounder.ir.CBEnter\"},\"signatures\":{\"$type\":\"edu.colorado.plv.bounder.lifestate.LifeState.SubClassMatcher\",\"baseSubtypeOf\":[\"android.app.Fragment\",\"androidx.fragment.app.Fragment\",\"android.support.v4.app.Fragment\"],\"signatureMatcher\":\"void onActivityCreated\\\\(android.os.Bundle\\\\)\",\"ident\":\"Fragment_onActivityCreated\"},\"lsVars\":[{\"$type\":\"edu.colorado.plv.bounder.symbolicexecutor.state.TopVal\"},{\"$type\":\"edu.colorado.plv.bounder.symbolicexecutor.state.NamedPureVar\",\"n\":\"f\"}]}},\"l2\":{\"$type\":\"edu.colorado.plv.bounder.lifestate.LifeState.Not\",\"p\":{\"$type\":\"edu.colorado.plv.bounder.lifestate.LifeState.OAbsMsg\",\"mt\":{\"$type\":\"edu.colorado.plv.bounder.ir.CBEnter\"},\"signatures\":{\"$type\":\"edu.colorado.plv.bounder.lifestate.LifeState.SubClassMatcher\",\"baseSubtypeOf\":[\"android.app.Fragment\",\"androidx.fragment.app.Fragment\",\"android.support.v4.app.Fragment\"],\"signatureMatcher\":\"void onActivityCreated\\\\(android.os.Bundle\\\\)\",\"ident\":\"Fragment_onActivityCreated\"},\"lsVars\":[{\"$type\":\"edu.colorado.plv.bounder.symbolicexecutor.state.TopVal\"},{\"$type\":\"edu.colorado.plv.bounder.symbolicexecutor.state.NamedPureVar\",\"n\":\"f\"}]}}},\"target\":{\"$type\":\"edu.colorado.plv.bounder.lifestate.LifeState.OAbsMsg\",\"mt\":{\"$type\":\"edu.colorado.plv.bounder.ir.CIExit\"},\"signatures\":{\"$type\":\"edu.colorado.plv.bounder.lifestate.LifeState.SubClassMatcher\",\"baseSubtypeOf\":[\"android.app.Fragment\",\"androidx.fragment.app.Fragment\",\"android.support.v4.app.Fragment\"],\"signatureMatcher\":\".*Activity getActivity\\\\(\\\\)\",\"ident\":\"Fragment_getActivity\"},\"lsVars\":[{\"$type\":\"edu.colorado.plv.bounder.symbolicexecutor.state.NamedPureVar\",\"n\":\"a\"},{\"$type\":\"edu.colorado.plv.bounder.symbolicexecutor.state.NamedPureVar\",\"n\":\"f\"}]},\"rhsConstraints\":[{\"$type\":\"edu.colorado.plv.bounder.lifestate.LifeState.LSConstraint\",\"v1\":{\"$type\":\"edu.colorado.plv.bounder.symbolicexecutor.state.NamedPureVar\",\"n\":\"a\"},\"op\":{\"$type\":\"edu.colorado.plv.bounder.symbolicexecutor.state.Equals\"},\"v2\":{\"$type\":\"edu.colorado.plv.bounder.symbolicexecutor.state.NullVal\"}}]},{\"univQuant\":[{\"$type\":\"edu.colorado.plv.bounder.symbolicexecutor.state.NamedPureVar\",\"n\":\"t\"}],\"existQuant\":[],\"pred\":{\"$type\":\"edu.colorado.plv.bounder.lifestate.LifeState.OAbsMsg\",\"mt\":{\"$type\":\"edu.colorado.plv.bounder.ir.CIExit\"},\"signatures\":{\"$type\":\"edu.colorado.plv.bounder.lifestate.LifeState.SubClassMatcher\",\"baseSubtypeOf\":[\"android.os.AsyncTask\"],\"signatureMatcher\":\".*AsyncTask execute\\\\(.*\\\\)\",\"ident\":\"AsyncTask_execute\"},\"lsVars\":[{\"$type\":\"edu.colorado.plv.bounder.symbolicexecutor.state.TopVal\"},{\"$type\":\"edu.colorado.plv.bounder.symbolicexecutor.state.NamedPureVar\",\"n\":\"t\"}]},\"target\":{\"$type\":\"edu.colorado.plv.bounder.lifestate.LifeState.OAbsMsg\",\"mt\":{\"$type\":\"edu.colorado.plv.bounder.ir.CIEnter\"},\"signatures\":{\"$type\":\"edu.colorado.plv.bounder.lifestate.LifeState.SubClassMatcher\",\"baseSubtypeOf\":[\"android.os.AsyncTask\"],\"signatureMatcher\":\".*AsyncTask execute\\\\(.*\\\\)\",\"ident\":\"AsyncTask_execute\"},\"lsVars\":[{\"$type\":\"edu.colorado.plv.bounder.symbolicexecutor.state.TopVal\"},{\"$type\":\"edu.colorado.plv.bounder.symbolicexecutor.state.NamedPureVar\",\"n\":\"t\"}]}},{\"univQuant\":[{\"$type\":\"edu.colorado.plv.bounder.symbolicexecutor.state.NamedPureVar\",\"n\":\"d\"}],\"existQuant\":[{\"$type\":\"edu.colorado.plv.bounder.symbolicexecutor.state.NamedPureVar\",\"n\":\"a\"}],\"pred\":{\"$type\":\"edu.colorado.plv.bounder.lifestate.LifeState.And\",\"l1\":{\"$type\":\"edu.colorado.plv.bounder.lifestate.LifeState.OAbsMsg\",\"mt\":{\"$type\":\"edu.colorado.plv.bounder.ir.CIExit\"},\"signatures\":{\"$type\":\"edu.colorado.plv.bounder.lifestate.LifeState.SubClassMatcher\",\"baseSubtypeOf\":[\"android.app.ProgressDialog\",\"android.app.Dialog\"],\"signatureMatcher\":\".*show.*\",\"ident\":\"Dialog_show\"},\"lsVars\":[{\"$type\":\"edu.colorado.plv.bounder.symbolicexecutor.state.NamedPureVar\",\"n\":\"d\"},{\"$type\":\"edu.colorado.plv.bounder.symbolicexecutor.state.TopVal\"},{\"$type\":\"edu.colorado.plv.bounder.symbolicexecutor.state.NamedPureVar\",\"n\":\"a\"}]},\"l2\":{\"$type\":\"edu.colorado.plv.bounder.lifestate.LifeState.Or\",\"l1\":{\"$type\":\"edu.colorado.plv.bounder.lifestate.LifeState.Not\",\"p\":{\"$type\":\"edu.colorado.plv.bounder.lifestate.LifeState.OAbsMsg\",\"mt\":{\"$type\":\"edu.colorado.plv.bounder.ir.CBEnter\"},\"signatures\":{\"$type\":\"edu.colorado.plv.bounder.lifestate.LifeState.SubClassMatcher\",\"baseSubtypeOf\":[\"android.app.Activity\",\"androidx.fragment.app.FragmentActivity\"],\"signatureMatcher\":\"void onResume\\\\(\\\\)\",\"ident\":\"Activity_onResume\"},\"lsVars\":[{\"$type\":\"edu.colorado.plv.bounder.symbolicexecutor.state.TopVal\"},{\"$type\":\"edu.colorado.plv.bounder.symbolicexecutor.state.NamedPureVar\",\"n\":\"a\"}]}},\"l2\":{\"$type\":\"edu.colorado.plv.bounder.lifestate.LifeState.NS\",\"i1\":{\"$type\":\"edu.colorado.plv.bounder.lifestate.LifeState.OAbsMsg\",\"mt\":{\"$type\":\"edu.colorado.plv.bounder.ir.CBExit\"},\"signatures\":{\"$type\":\"edu.colorado.plv.bounder.lifestate.LifeState.SubClassMatcher\",\"baseSubtypeOf\":[\"android.app.Activity\",\"androidx.fragment.app.FragmentActivity\"],\"signatureMatcher\":\"void onPause\\\\(\\\\)\",\"ident\":\"Activity_onPause\"},\"lsVars\":[{\"$type\":\"edu.colorado.plv.bounder.symbolicexecutor.state.TopVal\"},{\"$type\":\"edu.colorado.plv.bounder.symbolicexecutor.state.NamedPureVar\",\"n\":\"a\"}]},\"i2\":{\"$type\":\"edu.colorado.plv.bounder.lifestate.LifeState.OAbsMsg\",\"mt\":{\"$type\":\"edu.colorado.plv.bounder.ir.CBEnter\"},\"signatures\":{\"$type\":\"edu.colorado.plv.bounder.lifestate.LifeState.SubClassMatcher\",\"baseSubtypeOf\":[\"android.app.Activity\",\"androidx.fragment.app.FragmentActivity\"],\"signatureMatcher\":\"void onResume\\\\(\\\\)\",\"ident\":\"Activity_onResume\"},\"lsVars\":[{\"$type\":\"edu.colorado.plv.bounder.symbolicexecutor.state.TopVal\"},{\"$type\":\"edu.colorado.plv.bounder.symbolicexecutor.state.NamedPureVar\",\"n\":\"a\"}]}}}},\"target\":{\"$type\":\"edu.colorado.plv.bounder.lifestate.LifeState.OAbsMsg\",\"mt\":{\"$type\":\"edu.colorado.plv.bounder.ir.CIEnter\"},\"signatures\":{\"$type\":\"edu.colorado.plv.bounder.lifestate.LifeState.SubClassMatcher\",\"baseSubtypeOf\":[\"android.app.ProgressDialog\",\"android.app.Dialog\"],\"signatureMatcher\":\"void dismiss\\\\(\\\\)\",\"ident\":\"Dialog_dismiss\"},\"lsVars\":[{\"$type\":\"edu.colorado.plv.bounder.symbolicexecutor.state.TopVal\"},{\"$type\":\"edu.colorado.plv.bounder.symbolicexecutor.state.NamedPureVar\",\"n\":\"d\"}]}}]}",
        "tag": {
         "heuristicType": "SensitiveDerefFieldCausedSynch"
        },
        "timeLimit": 900
       },
       {
        "apkPath": "${baseDir}/fdroid/org.sipdroid.sipua/6.3beta/apk/org.sipdroid.sipua_134.apk",
        "configPath": [
         "/tmp/270335928576313844"
        ],
        "initialQuery": [
         {
          "className": "org.zoolu.net.UdpProvider",
          "line": 201,
          "matcher": "void onServiceTerminated(org.zoolu.net.UdpProvider,java.lang.Exception)",
          "methodName": "void run()",
          "t": "ReceiverNonNull"
         }
        ],
        "outFolder": [
         "${baseDirOut}/org.sipdroid.sipua"
        ],
        "specSet": "{\"specs\":[],\"disallow\":[{\"univQuant\":[{\"$type\":\"edu.colorado.plv.bounder.symbolicexecutor.state.NamedPureVar\",\"n\":\"a\"},{\"$type\":\"edu.colorado.plv.bounder.symbolicexecutor.state.NamedPureVar\",\"n\":\"f\"}],\"existQuant\":[],\"pred\":{\"$type\":\"edu.colorado.plv.bounder.lifestate.LifeState.Or\",\"l1\":{\"$type\":\"edu.colorado.plv.bounder.lifestate.LifeState.NS\",\"i1\":{\"$type\":\"edu.colorado.plv.bounder.lifestate.LifeState.OAbsMsg\",\"mt\":{\"$type\":\"edu.colorado.plv.bounder.ir.CBExit\"},\"signatures\":{\"$type\":\"edu.colorado.plv.bounder.lifestate.LifeState.SubClassMatcher\",\"baseSubtypeOf\":[\"android.app.Fragment\",\"androidx.fragment.app.Fragment\",\"android.support.v4.app.Fragment\"],\"signatureMatcher\":\"void onDestroy\\\\(\\\\)\",\"ident\":\"Fragment_onDestroy\"},\"lsVars\":[{\"$type\":\"edu.colorado.plv.bounder.symbolicexecutor.state.TopVal\"},{\"$type\":\"edu.colorado.plv.bounder.symbolicexecutor.state.NamedPureVar\",\"n\":\"f\"}]},\"i2\":{\"$type\":\"edu.colorado.plv.bounder.lifestate.LifeState.OAbsMsg\",\"mt\":{\"$type\":\"edu.colorado.plv.bounder.ir.CBEnter\"},\"signatures\":{\"$type\":\"edu.colorado.plv.bounder.lifestate.LifeState.SubClassMatcher\",\"baseSubtypeOf\":[\"android.app.Fragment\",\"androidx.fragment.app.Fragment\",\"android.support.v4.app.Fragment\"],\"signatureMatcher\":\"void onActivityCreated\\\\(android.os.Bundle\\\\)\",\"ident\":\"Fragment_onActivityCreated\"},\"lsVars\":[{\"$type\":\"edu.colorado.plv.bounder.symbolicexecutor.state.TopVal\"},{\"$type\":\"edu.colorado.plv.bounder.symbolicexecutor.state.NamedPureVar\",\"n\":\"f\"}]}},\"l2\":{\"$type\":\"edu.colorado.plv.bounder.lifestate.LifeState.Not\",\"p\":{\"$type\":\"edu.colorado.plv.bounder.lifestate.LifeState.OAbsMsg\",\"mt\":{\"$type\":\"edu.colorado.plv.bounder.ir.CBEnter\"},\"signatures\":{\"$type\":\"edu.colorado.plv.bounder.lifestate.LifeState.SubClassMatcher\",\"baseSubtypeOf\":[\"android.app.Fragment\",\"androidx.fragment.app.Fragment\",\"android.support.v4.app.Fragment\"],\"signatureMatcher\":\"void onActivityCreated\\\\(android.os.Bundle\\\\)\",\"ident\":\"Fragment_onActivityCreated\"},\"lsVars\":[{\"$type\":\"edu.colorado.plv.bounder.symbolicexecutor.state.TopVal\"},{\"$type\":\"edu.colorado.plv.bounder.symbolicexecutor.state.NamedPureVar\",\"n\":\"f\"}]}}},\"target\":{\"$type\":\"edu.colorado.plv.bounder.lifestate.LifeState.OAbsMsg\",\"mt\":{\"$type\":\"edu.colorado.plv.bounder.ir.CIExit\"},\"signatures\":{\"$type\":\"edu.colorado.plv.bounder.lifestate.LifeState.SubClassMatcher\",\"baseSubtypeOf\":[\"android.app.Fragment\",\"androidx.fragment.app.Fragment\",\"android.support.v4.app.Fragment\"],\"signatureMatcher\":\".*Activity getActivity\\\\(\\\\)\",\"ident\":\"Fragment_getActivity\"},\"lsVars\":[{\"$type\":\"edu.colorado.plv.bounder.symbolicexecutor.state.NamedPureVar\",\"n\":\"a\"},{\"$type\":\"edu.colorado.plv.bounder.symbolicexecutor.state.NamedPureVar\",\"n\":\"f\"}]},\"rhsConstraints\":[{\"$type\":\"edu.colorado.plv.bounder.lifestate.LifeState.LSConstraint\",\"v1\":{\"$type\":\"edu.colorado.plv.bounder.symbolicexecutor.state.NamedPureVar\",\"n\":\"a\"},\"op\":{\"$type\":\"edu.colorado.plv.bounder.symbolicexecutor.state.Equals\"},\"v2\":{\"$type\":\"edu.colorado.plv.bounder.symbolicexecutor.state.NullVal\"}}]},{\"univQuant\":[{\"$type\":\"edu.colorado.plv.bounder.symbolicexecutor.state.NamedPureVar\",\"n\":\"t\"}],\"existQuant\":[],\"pred\":{\"$type\":\"edu.colorado.plv.bounder.lifestate.LifeState.OAbsMsg\",\"mt\":{\"$type\":\"edu.colorado.plv.bounder.ir.CIExit\"},\"signatures\":{\"$type\":\"edu.colorado.plv.bounder.lifestate.LifeState.SubClassMatcher\",\"baseSubtypeOf\":[\"android.os.AsyncTask\"],\"signatureMatcher\":\".*AsyncTask execute\\\\(.*\\\\)\",\"ident\":\"AsyncTask_execute\"},\"lsVars\":[{\"$type\":\"edu.colorado.plv.bounder.symbolicexecutor.state.TopVal\"},{\"$type\":\"edu.colorado.plv.bounder.symbolicexecutor.state.NamedPureVar\",\"n\":\"t\"}]},\"target\":{\"$type\":\"edu.colorado.plv.bounder.lifestate.LifeState.OAbsMsg\",\"mt\":{\"$type\":\"edu.colorado.plv.bounder.ir.CIEnter\"},\"signatures\":{\"$type\":\"edu.colorado.plv.bounder.lifestate.LifeState.SubClassMatcher\",\"baseSubtypeOf\":[\"android.os.AsyncTask\"],\"signatureMatcher\":\".*AsyncTask execute\\\\(.*\\\\)\",\"ident\":\"AsyncTask_execute\"},\"lsVars\":[{\"$type\":\"edu.colorado.plv.bounder.symbolicexecutor.state.TopVal\"},{\"$type\":\"edu.colorado.plv.bounder.symbolicexecutor.state.NamedPureVar\",\"n\":\"t\"}]}},{\"univQuant\":[{\"$type\":\"edu.colorado.plv.bounder.symbolicexecutor.state.NamedPureVar\",\"n\":\"d\"}],\"existQuant\":[{\"$type\":\"edu.colorado.plv.bounder.symbolicexecutor.state.NamedPureVar\",\"n\":\"a\"}],\"pred\":{\"$type\":\"edu.colorado.plv.bounder.lifestate.LifeState.And\",\"l1\":{\"$type\":\"edu.colorado.plv.bounder.lifestate.LifeState.OAbsMsg\",\"mt\":{\"$type\":\"edu.colorado.plv.bounder.ir.CIExit\"},\"signatures\":{\"$type\":\"edu.colorado.plv.bounder.lifestate.LifeState.SubClassMatcher\",\"baseSubtypeOf\":[\"android.app.ProgressDialog\",\"android.app.Dialog\"],\"signatureMatcher\":\".*show.*\",\"ident\":\"Dialog_show\"},\"lsVars\":[{\"$type\":\"edu.colorado.plv.bounder.symbolicexecutor.state.NamedPureVar\",\"n\":\"d\"},{\"$type\":\"edu.colorado.plv.bounder.symbolicexecutor.state.TopVal\"},{\"$type\":\"edu.colorado.plv.bounder.symbolicexecutor.state.NamedPureVar\",\"n\":\"a\"}]},\"l2\":{\"$type\":\"edu.colorado.plv.bounder.lifestate.LifeState.Or\",\"l1\":{\"$type\":\"edu.colorado.plv.bounder.lifestate.LifeState.Not\",\"p\":{\"$type\":\"edu.colorado.plv.bounder.lifestate.LifeState.OAbsMsg\",\"mt\":{\"$type\":\"edu.colorado.plv.bounder.ir.CBEnter\"},\"signatures\":{\"$type\":\"edu.colorado.plv.bounder.lifestate.LifeState.SubClassMatcher\",\"baseSubtypeOf\":[\"android.app.Activity\",\"androidx.fragment.app.FragmentActivity\"],\"signatureMatcher\":\"void onResume\\\\(\\\\)\",\"ident\":\"Activity_onResume\"},\"lsVars\":[{\"$type\":\"edu.colorado.plv.bounder.symbolicexecutor.state.TopVal\"},{\"$type\":\"edu.colorado.plv.bounder.symbolicexecutor.state.NamedPureVar\",\"n\":\"a\"}]}},\"l2\":{\"$type\":\"edu.colorado.plv.bounder.lifestate.LifeState.NS\",\"i1\":{\"$type\":\"edu.colorado.plv.bounder.lifestate.LifeState.OAbsMsg\",\"mt\":{\"$type\":\"edu.colorado.plv.bounder.ir.CBExit\"},\"signatures\":{\"$type\":\"edu.colorado.plv.bounder.lifestate.LifeState.SubClassMatcher\",\"baseSubtypeOf\":[\"android.app.Activity\",\"androidx.fragment.app.FragmentActivity\"],\"signatureMatcher\":\"void onPause\\\\(\\\\)\",\"ident\":\"Activity_onPause\"},\"lsVars\":[{\"$type\":\"edu.colorado.plv.bounder.symbolicexecutor.state.TopVal\"},{\"$type\":\"edu.colorado.plv.bounder.symbolicexecutor.state.NamedPureVar\",\"n\":\"a\"}]},\"i2\":{\"$type\":\"edu.colorado.plv.bounder.lifestate.LifeState.OAbsMsg\",\"mt\":{\"$type\":\"edu.colorado.plv.bounder.ir.CBEnter\"},\"signatures\":{\"$type\":\"edu.colorado.plv.bounder.lifestate.LifeState.SubClassMatcher\",\"baseSubtypeOf\":[\"android.app.Activity\",\"androidx.fragment.app.FragmentActivity\"],\"signatureMatcher\":\"void onResume\\\\(\\\\)\",\"ident\":\"Activity_onResume\"},\"lsVars\":[{\"$type\":\"edu.colorado.plv.bounder.symbolicexecutor.state.TopVal\"},{\"$type\":\"edu.colorado.plv.bounder.symbolicexecutor.state.NamedPureVar\",\"n\":\"a\"}]}}}},\"target\":{\"$type\":\"edu.colorado.plv.bounder.lifestate.LifeState.OAbsMsg\",\"mt\":{\"$type\":\"edu.colorado.plv.bounder.ir.CIEnter\"},\"signatures\":{\"$type\":\"edu.colorado.plv.bounder.lifestate.LifeState.SubClassMatcher\",\"baseSubtypeOf\":[\"android.app.ProgressDialog\",\"android.app.Dialog\"],\"signatureMatcher\":\"void dismiss\\\\(\\\\)\",\"ident\":\"Dialog_dismiss\"},\"lsVars\":[{\"$type\":\"edu.colorado.plv.bounder.symbolicexecutor.state.TopVal\"},{\"$type\":\"edu.colorado.plv.bounder.symbolicexecutor.state.NamedPureVar\",\"n\":\"d\"}]}}]}",
        "tag": {
         "heuristicType": "SensitiveDerefFieldCausedSynch"
        },
        "timeLimit": 900
       },
       {
        "apkPath": "${baseDir}/fdroid/com.byagowi.persiancalendar/7.8.0/apk/com.byagowi.persiancalendar_780.apk",
        "configPath": [
         "/tmp/5276423409742033781"
        ],
        "initialQuery": [
         {
          "className": "d.z",
          "line": 99,
          "matcher": "void a(float)",
          "methodName": "void run()",
          "t": "ReceiverNonNull"
         }
        ],
        "outFolder": [
         "${baseDirOut}/com.byagowi.persiancalendar"
        ],
        "specSet": "{\"specs\":[],\"disallow\":[{\"univQuant\":[{\"$type\":\"edu.colorado.plv.bounder.symbolicexecutor.state.NamedPureVar\",\"n\":\"a\"},{\"$type\":\"edu.colorado.plv.bounder.symbolicexecutor.state.NamedPureVar\",\"n\":\"f\"}],\"existQuant\":[],\"pred\":{\"$type\":\"edu.colorado.plv.bounder.lifestate.LifeState.Or\",\"l1\":{\"$type\":\"edu.colorado.plv.bounder.lifestate.LifeState.NS\",\"i1\":{\"$type\":\"edu.colorado.plv.bounder.lifestate.LifeState.OAbsMsg\",\"mt\":{\"$type\":\"edu.colorado.plv.bounder.ir.CBExit\"},\"signatures\":{\"$type\":\"edu.colorado.plv.bounder.lifestate.LifeState.SubClassMatcher\",\"baseSubtypeOf\":[\"android.app.Fragment\",\"androidx.fragment.app.Fragment\",\"android.support.v4.app.Fragment\"],\"signatureMatcher\":\"void onDestroy\\\\(\\\\)\",\"ident\":\"Fragment_onDestroy\"},\"lsVars\":[{\"$type\":\"edu.colorado.plv.bounder.symbolicexecutor.state.TopVal\"},{\"$type\":\"edu.colorado.plv.bounder.symbolicexecutor.state.NamedPureVar\",\"n\":\"f\"}]},\"i2\":{\"$type\":\"edu.colorado.plv.bounder.lifestate.LifeState.OAbsMsg\",\"mt\":{\"$type\":\"edu.colorado.plv.bounder.ir.CBEnter\"},\"signatures\":{\"$type\":\"edu.colorado.plv.bounder.lifestate.LifeState.SubClassMatcher\",\"baseSubtypeOf\":[\"android.app.Fragment\",\"androidx.fragment.app.Fragment\",\"android.support.v4.app.Fragment\"],\"signatureMatcher\":\"void onActivityCreated\\\\(android.os.Bundle\\\\)\",\"ident\":\"Fragment_onActivityCreated\"},\"lsVars\":[{\"$type\":\"edu.colorado.plv.bounder.symbolicexecutor.state.TopVal\"},{\"$type\":\"edu.colorado.plv.bounder.symbolicexecutor.state.NamedPureVar\",\"n\":\"f\"}]}},\"l2\":{\"$type\":\"edu.colorado.plv.bounder.lifestate.LifeState.Not\",\"p\":{\"$type\":\"edu.colorado.plv.bounder.lifestate.LifeState.OAbsMsg\",\"mt\":{\"$type\":\"edu.colorado.plv.bounder.ir.CBEnter\"},\"signatures\":{\"$type\":\"edu.colorado.plv.bounder.lifestate.LifeState.SubClassMatcher\",\"baseSubtypeOf\":[\"android.app.Fragment\",\"androidx.fragment.app.Fragment\",\"android.support.v4.app.Fragment\"],\"signatureMatcher\":\"void onActivityCreated\\\\(android.os.Bundle\\\\)\",\"ident\":\"Fragment_onActivityCreated\"},\"lsVars\":[{\"$type\":\"edu.colorado.plv.bounder.symbolicexecutor.state.TopVal\"},{\"$type\":\"edu.colorado.plv.bounder.symbolicexecutor.state.NamedPureVar\",\"n\":\"f\"}]}}},\"target\":{\"$type\":\"edu.colorado.plv.bounder.lifestate.LifeState.OAbsMsg\",\"mt\":{\"$type\":\"edu.colorado.plv.bounder.ir.CIExit\"},\"signatures\":{\"$type\":\"edu.colorado.plv.bounder.lifestate.LifeState.SubClassMatcher\",\"baseSubtypeOf\":[\"android.app.Fragment\",\"androidx.fragment.app.Fragment\",\"android.support.v4.app.Fragment\"],\"signatureMatcher\":\".*Activity getActivity\\\\(\\\\)\",\"ident\":\"Fragment_getActivity\"},\"lsVars\":[{\"$type\":\"edu.colorado.plv.bounder.symbolicexecutor.state.NamedPureVar\",\"n\":\"a\"},{\"$type\":\"edu.colorado.plv.bounder.symbolicexecutor.state.NamedPureVar\",\"n\":\"f\"}]},\"rhsConstraints\":[{\"$type\":\"edu.colorado.plv.bounder.lifestate.LifeState.LSConstraint\",\"v1\":{\"$type\":\"edu.colorado.plv.bounder.symbolicexecutor.state.NamedPureVar\",\"n\":\"a\"},\"op\":{\"$type\":\"edu.colorado.plv.bounder.symbolicexecutor.state.Equals\"},\"v2\":{\"$type\":\"edu.colorado.plv.bounder.symbolicexecutor.state.NullVal\"}}]},{\"univQuant\":[{\"$type\":\"edu.colorado.plv.bounder.symbolicexecutor.state.NamedPureVar\",\"n\":\"t\"}],\"existQuant\":[],\"pred\":{\"$type\":\"edu.colorado.plv.bounder.lifestate.LifeState.OAbsMsg\",\"mt\":{\"$type\":\"edu.colorado.plv.bounder.ir.CIExit\"},\"signatures\":{\"$type\":\"edu.colorado.plv.bounder.lifestate.LifeState.SubClassMatcher\",\"baseSubtypeOf\":[\"android.os.AsyncTask\"],\"signatureMatcher\":\".*AsyncTask execute\\\\(.*\\\\)\",\"ident\":\"AsyncTask_execute\"},\"lsVars\":[{\"$type\":\"edu.colorado.plv.bounder.symbolicexecutor.state.TopVal\"},{\"$type\":\"edu.colorado.plv.bounder.symbolicexecutor.state.NamedPureVar\",\"n\":\"t\"}]},\"target\":{\"$type\":\"edu.colorado.plv.bounder.lifestate.LifeState.OAbsMsg\",\"mt\":{\"$type\":\"edu.colorado.plv.bounder.ir.CIEnter\"},\"signatures\":{\"$type\":\"edu.colorado.plv.bounder.lifestate.LifeState.SubClassMatcher\",\"baseSubtypeOf\":[\"android.os.AsyncTask\"],\"signatureMatcher\":\".*AsyncTask execute\\\\(.*\\\\)\",\"ident\":\"AsyncTask_execute\"},\"lsVars\":[{\"$type\":\"edu.colorado.plv.bounder.symbolicexecutor.state.TopVal\"},{\"$type\":\"edu.colorado.plv.bounder.symbolicexecutor.state.NamedPureVar\",\"n\":\"t\"}]}},{\"univQuant\":[{\"$type\":\"edu.colorado.plv.bounder.symbolicexecutor.state.NamedPureVar\",\"n\":\"d\"}],\"existQuant\":[{\"$type\":\"edu.colorado.plv.bounder.symbolicexecutor.state.NamedPureVar\",\"n\":\"a\"}],\"pred\":{\"$type\":\"edu.colorado.plv.bounder.lifestate.LifeState.And\",\"l1\":{\"$type\":\"edu.colorado.plv.bounder.lifestate.LifeState.OAbsMsg\",\"mt\":{\"$type\":\"edu.colorado.plv.bounder.ir.CIExit\"},\"signatures\":{\"$type\":\"edu.colorado.plv.bounder.lifestate.LifeState.SubClassMatcher\",\"baseSubtypeOf\":[\"android.app.ProgressDialog\",\"android.app.Dialog\"],\"signatureMatcher\":\".*show.*\",\"ident\":\"Dialog_show\"},\"lsVars\":[{\"$type\":\"edu.colorado.plv.bounder.symbolicexecutor.state.NamedPureVar\",\"n\":\"d\"},{\"$type\":\"edu.colorado.plv.bounder.symbolicexecutor.state.TopVal\"},{\"$type\":\"edu.colorado.plv.bounder.symbolicexecutor.state.NamedPureVar\",\"n\":\"a\"}]},\"l2\":{\"$type\":\"edu.colorado.plv.bounder.lifestate.LifeState.Or\",\"l1\":{\"$type\":\"edu.colorado.plv.bounder.lifestate.LifeState.Not\",\"p\":{\"$type\":\"edu.colorado.plv.bounder.lifestate.LifeState.OAbsMsg\",\"mt\":{\"$type\":\"edu.colorado.plv.bounder.ir.CBEnter\"},\"signatures\":{\"$type\":\"edu.colorado.plv.bounder.lifestate.LifeState.SubClassMatcher\",\"baseSubtypeOf\":[\"android.app.Activity\",\"androidx.fragment.app.FragmentActivity\"],\"signatureMatcher\":\"void onResume\\\\(\\\\)\",\"ident\":\"Activity_onResume\"},\"lsVars\":[{\"$type\":\"edu.colorado.plv.bounder.symbolicexecutor.state.TopVal\"},{\"$type\":\"edu.colorado.plv.bounder.symbolicexecutor.state.NamedPureVar\",\"n\":\"a\"}]}},\"l2\":{\"$type\":\"edu.colorado.plv.bounder.lifestate.LifeState.NS\",\"i1\":{\"$type\":\"edu.colorado.plv.bounder.lifestate.LifeState.OAbsMsg\",\"mt\":{\"$type\":\"edu.colorado.plv.bounder.ir.CBExit\"},\"signatures\":{\"$type\":\"edu.colorado.plv.bounder.lifestate.LifeState.SubClassMatcher\",\"baseSubtypeOf\":[\"android.app.Activity\",\"androidx.fragment.app.FragmentActivity\"],\"signatureMatcher\":\"void onPause\\\\(\\\\)\",\"ident\":\"Activity_onPause\"},\"lsVars\":[{\"$type\":\"edu.colorado.plv.bounder.symbolicexecutor.state.TopVal\"},{\"$type\":\"edu.colorado.plv.bounder.symbolicexecutor.state.NamedPureVar\",\"n\":\"a\"}]},\"i2\":{\"$type\":\"edu.colorado.plv.bounder.lifestate.LifeState.OAbsMsg\",\"mt\":{\"$type\":\"edu.colorado.plv.bounder.ir.CBEnter\"},\"signatures\":{\"$type\":\"edu.colorado.plv.bounder.lifestate.LifeState.SubClassMatcher\",\"baseSubtypeOf\":[\"android.app.Activity\",\"androidx.fragment.app.FragmentActivity\"],\"signatureMatcher\":\"void onResume\\\\(\\\\)\",\"ident\":\"Activity_onResume\"},\"lsVars\":[{\"$type\":\"edu.colorado.plv.bounder.symbolicexecutor.state.TopVal\"},{\"$type\":\"edu.colorado.plv.bounder.symbolicexecutor.state.NamedPureVar\",\"n\":\"a\"}]}}}},\"target\":{\"$type\":\"edu.colorado.plv.bounder.lifestate.LifeState.OAbsMsg\",\"mt\":{\"$type\":\"edu.colorado.plv.bounder.ir.CIEnter\"},\"signatures\":{\"$type\":\"edu.colorado.plv.bounder.lifestate.LifeState.SubClassMatcher\",\"baseSubtypeOf\":[\"android.app.ProgressDialog\",\"android.app.Dialog\"],\"signatureMatcher\":\"void dismiss\\\\(\\\\)\",\"ident\":\"Dialog_dismiss\"},\"lsVars\":[{\"$type\":\"edu.colorado.plv.bounder.symbolicexecutor.state.TopVal\"},{\"$type\":\"edu.colorado.plv.bounder.symbolicexecutor.state.NamedPureVar\",\"n\":\"d\"}]}}]}",
        "tag": {
         "heuristicType": "SensitiveDerefFieldCausedSynch"
        },
        "timeLimit": 900
       },
       {
        "apkPath": "${baseDir}/fdroid/org.sipdroid.sipua/6.3beta/apk/org.sipdroid.sipua_134.apk",
        "configPath": [
         "/tmp/270335928576313844"
        ],
        "initialQuery": [
         {
          "className": "org.zoolu.net.TcpConnection",
          "line": 163,
          "matcher": "int read(byte[])",
          "methodName": "void run()",
          "t": "ReceiverNonNull"
         }
        ],
        "outFolder": [
         "${baseDirOut}/org.sipdroid.sipua"
        ],
        "specSet": "{\"specs\":[],\"disallow\":[{\"univQuant\":[{\"$type\":\"edu.colorado.plv.bounder.symbolicexecutor.state.NamedPureVar\",\"n\":\"a\"},{\"$type\":\"edu.colorado.plv.bounder.symbolicexecutor.state.NamedPureVar\",\"n\":\"f\"}],\"existQuant\":[],\"pred\":{\"$type\":\"edu.colorado.plv.bounder.lifestate.LifeState.Or\",\"l1\":{\"$type\":\"edu.colorado.plv.bounder.lifestate.LifeState.NS\",\"i1\":{\"$type\":\"edu.colorado.plv.bounder.lifestate.LifeState.OAbsMsg\",\"mt\":{\"$type\":\"edu.colorado.plv.bounder.ir.CBExit\"},\"signatures\":{\"$type\":\"edu.colorado.plv.bounder.lifestate.LifeState.SubClassMatcher\",\"baseSubtypeOf\":[\"android.app.Fragment\",\"androidx.fragment.app.Fragment\",\"android.support.v4.app.Fragment\"],\"signatureMatcher\":\"void onDestroy\\\\(\\\\)\",\"ident\":\"Fragment_onDestroy\"},\"lsVars\":[{\"$type\":\"edu.colorado.plv.bounder.symbolicexecutor.state.TopVal\"},{\"$type\":\"edu.colorado.plv.bounder.symbolicexecutor.state.NamedPureVar\",\"n\":\"f\"}]},\"i2\":{\"$type\":\"edu.colorado.plv.bounder.lifestate.LifeState.OAbsMsg\",\"mt\":{\"$type\":\"edu.colorado.plv.bounder.ir.CBEnter\"},\"signatures\":{\"$type\":\"edu.colorado.plv.bounder.lifestate.LifeState.SubClassMatcher\",\"baseSubtypeOf\":[\"android.app.Fragment\",\"androidx.fragment.app.Fragment\",\"android.support.v4.app.Fragment\"],\"signatureMatcher\":\"void onActivityCreated\\\\(android.os.Bundle\\\\)\",\"ident\":\"Fragment_onActivityCreated\"},\"lsVars\":[{\"$type\":\"edu.colorado.plv.bounder.symbolicexecutor.state.TopVal\"},{\"$type\":\"edu.colorado.plv.bounder.symbolicexecutor.state.NamedPureVar\",\"n\":\"f\"}]}},\"l2\":{\"$type\":\"edu.colorado.plv.bounder.lifestate.LifeState.Not\",\"p\":{\"$type\":\"edu.colorado.plv.bounder.lifestate.LifeState.OAbsMsg\",\"mt\":{\"$type\":\"edu.colorado.plv.bounder.ir.CBEnter\"},\"signatures\":{\"$type\":\"edu.colorado.plv.bounder.lifestate.LifeState.SubClassMatcher\",\"baseSubtypeOf\":[\"android.app.Fragment\",\"androidx.fragment.app.Fragment\",\"android.support.v4.app.Fragment\"],\"signatureMatcher\":\"void onActivityCreated\\\\(android.os.Bundle\\\\)\",\"ident\":\"Fragment_onActivityCreated\"},\"lsVars\":[{\"$type\":\"edu.colorado.plv.bounder.symbolicexecutor.state.TopVal\"},{\"$type\":\"edu.colorado.plv.bounder.symbolicexecutor.state.NamedPureVar\",\"n\":\"f\"}]}}},\"target\":{\"$type\":\"edu.colorado.plv.bounder.lifestate.LifeState.OAbsMsg\",\"mt\":{\"$type\":\"edu.colorado.plv.bounder.ir.CIExit\"},\"signatures\":{\"$type\":\"edu.colorado.plv.bounder.lifestate.LifeState.SubClassMatcher\",\"baseSubtypeOf\":[\"android.app.Fragment\",\"androidx.fragment.app.Fragment\",\"android.support.v4.app.Fragment\"],\"signatureMatcher\":\".*Activity getActivity\\\\(\\\\)\",\"ident\":\"Fragment_getActivity\"},\"lsVars\":[{\"$type\":\"edu.colorado.plv.bounder.symbolicexecutor.state.NamedPureVar\",\"n\":\"a\"},{\"$type\":\"edu.colorado.plv.bounder.symbolicexecutor.state.NamedPureVar\",\"n\":\"f\"}]},\"rhsConstraints\":[{\"$type\":\"edu.colorado.plv.bounder.lifestate.LifeState.LSConstraint\",\"v1\":{\"$type\":\"edu.colorado.plv.bounder.symbolicexecutor.state.NamedPureVar\",\"n\":\"a\"},\"op\":{\"$type\":\"edu.colorado.plv.bounder.symbolicexecutor.state.Equals\"},\"v2\":{\"$type\":\"edu.colorado.plv.bounder.symbolicexecutor.state.NullVal\"}}]},{\"univQuant\":[{\"$type\":\"edu.colorado.plv.bounder.symbolicexecutor.state.NamedPureVar\",\"n\":\"t\"}],\"existQuant\":[],\"pred\":{\"$type\":\"edu.colorado.plv.bounder.lifestate.LifeState.OAbsMsg\",\"mt\":{\"$type\":\"edu.colorado.plv.bounder.ir.CIExit\"},\"signatures\":{\"$type\":\"edu.colorado.plv.bounder.lifestate.LifeState.SubClassMatcher\",\"baseSubtypeOf\":[\"android.os.AsyncTask\"],\"signatureMatcher\":\".*AsyncTask execute\\\\(.*\\\\)\",\"ident\":\"AsyncTask_execute\"},\"lsVars\":[{\"$type\":\"edu.colorado.plv.bounder.symbolicexecutor.state.TopVal\"},{\"$type\":\"edu.colorado.plv.bounder.symbolicexecutor.state.NamedPureVar\",\"n\":\"t\"}]},\"target\":{\"$type\":\"edu.colorado.plv.bounder.lifestate.LifeState.OAbsMsg\",\"mt\":{\"$type\":\"edu.colorado.plv.bounder.ir.CIEnter\"},\"signatures\":{\"$type\":\"edu.colorado.plv.bounder.lifestate.LifeState.SubClassMatcher\",\"baseSubtypeOf\":[\"android.os.AsyncTask\"],\"signatureMatcher\":\".*AsyncTask execute\\\\(.*\\\\)\",\"ident\":\"AsyncTask_execute\"},\"lsVars\":[{\"$type\":\"edu.colorado.plv.bounder.symbolicexecutor.state.TopVal\"},{\"$type\":\"edu.colorado.plv.bounder.symbolicexecutor.state.NamedPureVar\",\"n\":\"t\"}]}},{\"univQuant\":[{\"$type\":\"edu.colorado.plv.bounder.symbolicexecutor.state.NamedPureVar\",\"n\":\"d\"}],\"existQuant\":[{\"$type\":\"edu.colorado.plv.bounder.symbolicexecutor.state.NamedPureVar\",\"n\":\"a\"}],\"pred\":{\"$type\":\"edu.colorado.plv.bounder.lifestate.LifeState.And\",\"l1\":{\"$type\":\"edu.colorado.plv.bounder.lifestate.LifeState.OAbsMsg\",\"mt\":{\"$type\":\"edu.colorado.plv.bounder.ir.CIExit\"},\"signatures\":{\"$type\":\"edu.colorado.plv.bounder.lifestate.LifeState.SubClassMatcher\",\"baseSubtypeOf\":[\"android.app.ProgressDialog\",\"android.app.Dialog\"],\"signatureMatcher\":\".*show.*\",\"ident\":\"Dialog_show\"},\"lsVars\":[{\"$type\":\"edu.colorado.plv.bounder.symbolicexecutor.state.NamedPureVar\",\"n\":\"d\"},{\"$type\":\"edu.colorado.plv.bounder.symbolicexecutor.state.TopVal\"},{\"$type\":\"edu.colorado.plv.bounder.symbolicexecutor.state.NamedPureVar\",\"n\":\"a\"}]},\"l2\":{\"$type\":\"edu.colorado.plv.bounder.lifestate.LifeState.Or\",\"l1\":{\"$type\":\"edu.colorado.plv.bounder.lifestate.LifeState.Not\",\"p\":{\"$type\":\"edu.colorado.plv.bounder.lifestate.LifeState.OAbsMsg\",\"mt\":{\"$type\":\"edu.colorado.plv.bounder.ir.CBEnter\"},\"signatures\":{\"$type\":\"edu.colorado.plv.bounder.lifestate.LifeState.SubClassMatcher\",\"baseSubtypeOf\":[\"android.app.Activity\",\"androidx.fragment.app.FragmentActivity\"],\"signatureMatcher\":\"void onResume\\\\(\\\\)\",\"ident\":\"Activity_onResume\"},\"lsVars\":[{\"$type\":\"edu.colorado.plv.bounder.symbolicexecutor.state.TopVal\"},{\"$type\":\"edu.colorado.plv.bounder.symbolicexecutor.state.NamedPureVar\",\"n\":\"a\"}]}},\"l2\":{\"$type\":\"edu.colorado.plv.bounder.lifestate.LifeState.NS\",\"i1\":{\"$type\":\"edu.colorado.plv.bounder.lifestate.LifeState.OAbsMsg\",\"mt\":{\"$type\":\"edu.colorado.plv.bounder.ir.CBExit\"},\"signatures\":{\"$type\":\"edu.colorado.plv.bounder.lifestate.LifeState.SubClassMatcher\",\"baseSubtypeOf\":[\"android.app.Activity\",\"androidx.fragment.app.FragmentActivity\"],\"signatureMatcher\":\"void onPause\\\\(\\\\)\",\"ident\":\"Activity_onPause\"},\"lsVars\":[{\"$type\":\"edu.colorado.plv.bounder.symbolicexecutor.state.TopVal\"},{\"$type\":\"edu.colorado.plv.bounder.symbolicexecutor.state.NamedPureVar\",\"n\":\"a\"}]},\"i2\":{\"$type\":\"edu.colorado.plv.bounder.lifestate.LifeState.OAbsMsg\",\"mt\":{\"$type\":\"edu.colorado.plv.bounder.ir.CBEnter\"},\"signatures\":{\"$type\":\"edu.colorado.plv.bounder.lifestate.LifeState.SubClassMatcher\",\"baseSubtypeOf\":[\"android.app.Activity\",\"androidx.fragment.app.FragmentActivity\"],\"signatureMatcher\":\"void onResume\\\\(\\\\)\",\"ident\":\"Activity_onResume\"},\"lsVars\":[{\"$type\":\"edu.colorado.plv.bounder.symbolicexecutor.state.TopVal\"},{\"$type\":\"edu.colorado.plv.bounder.symbolicexecutor.state.NamedPureVar\",\"n\":\"a\"}]}}}},\"target\":{\"$type\":\"edu.colorado.plv.bounder.lifestate.LifeState.OAbsMsg\",\"mt\":{\"$type\":\"edu.colorado.plv.bounder.ir.CIEnter\"},\"signatures\":{\"$type\":\"edu.colorado.plv.bounder.lifestate.LifeState.SubClassMatcher\",\"baseSubtypeOf\":[\"android.app.ProgressDialog\",\"android.app.Dialog\"],\"signatureMatcher\":\"void dismiss\\\\(\\\\)\",\"ident\":\"Dialog_dismiss\"},\"lsVars\":[{\"$type\":\"edu.colorado.plv.bounder.symbolicexecutor.state.TopVal\"},{\"$type\":\"edu.colorado.plv.bounder.symbolicexecutor.state.NamedPureVar\",\"n\":\"d\"}]}}]}",
        "tag": {
         "heuristicType": "SensitiveDerefFieldCausedSynch"
        },
        "timeLimit": 900
       },
       {
        "apkPath": "${baseDir}/fdroid/com.ubergeek42.WeechatAndroid/1.8.1/apk/com.ubergeek42.WeechatAndroid_10801.apk",
        "configPath": [
         "/tmp/8820395083434005566"
        ],
        "initialQuery": [
         {
          "className": "com.ubergeek42.WeechatAndroid.fragments.BufferFragment$$ExternalSyntheticLambda7",
          "line": 63,
          "matcher": "int findPositionByPointer(long)",
          "methodName": "void run()",
          "t": "ReceiverNonNull"
         }
        ],
        "outFolder": [
         "${baseDirOut}/com.ubergeek42.WeechatAndroid"
        ],
        "specSet": "{\"specs\":[],\"disallow\":[{\"univQuant\":[{\"$type\":\"edu.colorado.plv.bounder.symbolicexecutor.state.NamedPureVar\",\"n\":\"a\"},{\"$type\":\"edu.colorado.plv.bounder.symbolicexecutor.state.NamedPureVar\",\"n\":\"f\"}],\"existQuant\":[],\"pred\":{\"$type\":\"edu.colorado.plv.bounder.lifestate.LifeState.Or\",\"l1\":{\"$type\":\"edu.colorado.plv.bounder.lifestate.LifeState.NS\",\"i1\":{\"$type\":\"edu.colorado.plv.bounder.lifestate.LifeState.OAbsMsg\",\"mt\":{\"$type\":\"edu.colorado.plv.bounder.ir.CBExit\"},\"signatures\":{\"$type\":\"edu.colorado.plv.bounder.lifestate.LifeState.SubClassMatcher\",\"baseSubtypeOf\":[\"android.app.Fragment\",\"androidx.fragment.app.Fragment\",\"android.support.v4.app.Fragment\"],\"signatureMatcher\":\"void onDestroy\\\\(\\\\)\",\"ident\":\"Fragment_onDestroy\"},\"lsVars\":[{\"$type\":\"edu.colorado.plv.bounder.symbolicexecutor.state.TopVal\"},{\"$type\":\"edu.colorado.plv.bounder.symbolicexecutor.state.NamedPureVar\",\"n\":\"f\"}]},\"i2\":{\"$type\":\"edu.colorado.plv.bounder.lifestate.LifeState.OAbsMsg\",\"mt\":{\"$type\":\"edu.colorado.plv.bounder.ir.CBEnter\"},\"signatures\":{\"$type\":\"edu.colorado.plv.bounder.lifestate.LifeState.SubClassMatcher\",\"baseSubtypeOf\":[\"android.app.Fragment\",\"androidx.fragment.app.Fragment\",\"android.support.v4.app.Fragment\"],\"signatureMatcher\":\"void onActivityCreated\\\\(android.os.Bundle\\\\)\",\"ident\":\"Fragment_onActivityCreated\"},\"lsVars\":[{\"$type\":\"edu.colorado.plv.bounder.symbolicexecutor.state.TopVal\"},{\"$type\":\"edu.colorado.plv.bounder.symbolicexecutor.state.NamedPureVar\",\"n\":\"f\"}]}},\"l2\":{\"$type\":\"edu.colorado.plv.bounder.lifestate.LifeState.Not\",\"p\":{\"$type\":\"edu.colorado.plv.bounder.lifestate.LifeState.OAbsMsg\",\"mt\":{\"$type\":\"edu.colorado.plv.bounder.ir.CBEnter\"},\"signatures\":{\"$type\":\"edu.colorado.plv.bounder.lifestate.LifeState.SubClassMatcher\",\"baseSubtypeOf\":[\"android.app.Fragment\",\"androidx.fragment.app.Fragment\",\"android.support.v4.app.Fragment\"],\"signatureMatcher\":\"void onActivityCreated\\\\(android.os.Bundle\\\\)\",\"ident\":\"Fragment_onActivityCreated\"},\"lsVars\":[{\"$type\":\"edu.colorado.plv.bounder.symbolicexecutor.state.TopVal\"},{\"$type\":\"edu.colorado.plv.bounder.symbolicexecutor.state.NamedPureVar\",\"n\":\"f\"}]}}},\"target\":{\"$type\":\"edu.colorado.plv.bounder.lifestate.LifeState.OAbsMsg\",\"mt\":{\"$type\":\"edu.colorado.plv.bounder.ir.CIExit\"},\"signatures\":{\"$type\":\"edu.colorado.plv.bounder.lifestate.LifeState.SubClassMatcher\",\"baseSubtypeOf\":[\"android.app.Fragment\",\"androidx.fragment.app.Fragment\",\"android.support.v4.app.Fragment\"],\"signatureMatcher\":\".*Activity getActivity\\\\(\\\\)\",\"ident\":\"Fragment_getActivity\"},\"lsVars\":[{\"$type\":\"edu.colorado.plv.bounder.symbolicexecutor.state.NamedPureVar\",\"n\":\"a\"},{\"$type\":\"edu.colorado.plv.bounder.symbolicexecutor.state.NamedPureVar\",\"n\":\"f\"}]},\"rhsConstraints\":[{\"$type\":\"edu.colorado.plv.bounder.lifestate.LifeState.LSConstraint\",\"v1\":{\"$type\":\"edu.colorado.plv.bounder.symbolicexecutor.state.NamedPureVar\",\"n\":\"a\"},\"op\":{\"$type\":\"edu.colorado.plv.bounder.symbolicexecutor.state.Equals\"},\"v2\":{\"$type\":\"edu.colorado.plv.bounder.symbolicexecutor.state.NullVal\"}}]},{\"univQuant\":[{\"$type\":\"edu.colorado.plv.bounder.symbolicexecutor.state.NamedPureVar\",\"n\":\"t\"}],\"existQuant\":[],\"pred\":{\"$type\":\"edu.colorado.plv.bounder.lifestate.LifeState.OAbsMsg\",\"mt\":{\"$type\":\"edu.colorado.plv.bounder.ir.CIExit\"},\"signatures\":{\"$type\":\"edu.colorado.plv.bounder.lifestate.LifeState.SubClassMatcher\",\"baseSubtypeOf\":[\"android.os.AsyncTask\"],\"signatureMatcher\":\".*AsyncTask execute\\\\(.*\\\\)\",\"ident\":\"AsyncTask_execute\"},\"lsVars\":[{\"$type\":\"edu.colorado.plv.bounder.symbolicexecutor.state.TopVal\"},{\"$type\":\"edu.colorado.plv.bounder.symbolicexecutor.state.NamedPureVar\",\"n\":\"t\"}]},\"target\":{\"$type\":\"edu.colorado.plv.bounder.lifestate.LifeState.OAbsMsg\",\"mt\":{\"$type\":\"edu.colorado.plv.bounder.ir.CIEnter\"},\"signatures\":{\"$type\":\"edu.colorado.plv.bounder.lifestate.LifeState.SubClassMatcher\",\"baseSubtypeOf\":[\"android.os.AsyncTask\"],\"signatureMatcher\":\".*AsyncTask execute\\\\(.*\\\\)\",\"ident\":\"AsyncTask_execute\"},\"lsVars\":[{\"$type\":\"edu.colorado.plv.bounder.symbolicexecutor.state.TopVal\"},{\"$type\":\"edu.colorado.plv.bounder.symbolicexecutor.state.NamedPureVar\",\"n\":\"t\"}]}},{\"univQuant\":[{\"$type\":\"edu.colorado.plv.bounder.symbolicexecutor.state.NamedPureVar\",\"n\":\"d\"}],\"existQuant\":[{\"$type\":\"edu.colorado.plv.bounder.symbolicexecutor.state.NamedPureVar\",\"n\":\"a\"}],\"pred\":{\"$type\":\"edu.colorado.plv.bounder.lifestate.LifeState.And\",\"l1\":{\"$type\":\"edu.colorado.plv.bounder.lifestate.LifeState.OAbsMsg\",\"mt\":{\"$type\":\"edu.colorado.plv.bounder.ir.CIExit\"},\"signatures\":{\"$type\":\"edu.colorado.plv.bounder.lifestate.LifeState.SubClassMatcher\",\"baseSubtypeOf\":[\"android.app.ProgressDialog\",\"android.app.Dialog\"],\"signatureMatcher\":\".*show.*\",\"ident\":\"Dialog_show\"},\"lsVars\":[{\"$type\":\"edu.colorado.plv.bounder.symbolicexecutor.state.NamedPureVar\",\"n\":\"d\"},{\"$type\":\"edu.colorado.plv.bounder.symbolicexecutor.state.TopVal\"},{\"$type\":\"edu.colorado.plv.bounder.symbolicexecutor.state.NamedPureVar\",\"n\":\"a\"}]},\"l2\":{\"$type\":\"edu.colorado.plv.bounder.lifestate.LifeState.Or\",\"l1\":{\"$type\":\"edu.colorado.plv.bounder.lifestate.LifeState.Not\",\"p\":{\"$type\":\"edu.colorado.plv.bounder.lifestate.LifeState.OAbsMsg\",\"mt\":{\"$type\":\"edu.colorado.plv.bounder.ir.CBEnter\"},\"signatures\":{\"$type\":\"edu.colorado.plv.bounder.lifestate.LifeState.SubClassMatcher\",\"baseSubtypeOf\":[\"android.app.Activity\",\"androidx.fragment.app.FragmentActivity\"],\"signatureMatcher\":\"void onResume\\\\(\\\\)\",\"ident\":\"Activity_onResume\"},\"lsVars\":[{\"$type\":\"edu.colorado.plv.bounder.symbolicexecutor.state.TopVal\"},{\"$type\":\"edu.colorado.plv.bounder.symbolicexecutor.state.NamedPureVar\",\"n\":\"a\"}]}},\"l2\":{\"$type\":\"edu.colorado.plv.bounder.lifestate.LifeState.NS\",\"i1\":{\"$type\":\"edu.colorado.plv.bounder.lifestate.LifeState.OAbsMsg\",\"mt\":{\"$type\":\"edu.colorado.plv.bounder.ir.CBExit\"},\"signatures\":{\"$type\":\"edu.colorado.plv.bounder.lifestate.LifeState.SubClassMatcher\",\"baseSubtypeOf\":[\"android.app.Activity\",\"androidx.fragment.app.FragmentActivity\"],\"signatureMatcher\":\"void onPause\\\\(\\\\)\",\"ident\":\"Activity_onPause\"},\"lsVars\":[{\"$type\":\"edu.colorado.plv.bounder.symbolicexecutor.state.TopVal\"},{\"$type\":\"edu.colorado.plv.bounder.symbolicexecutor.state.NamedPureVar\",\"n\":\"a\"}]},\"i2\":{\"$type\":\"edu.colorado.plv.bounder.lifestate.LifeState.OAbsMsg\",\"mt\":{\"$type\":\"edu.colorado.plv.bounder.ir.CBEnter\"},\"signatures\":{\"$type\":\"edu.colorado.plv.bounder.lifestate.LifeState.SubClassMatcher\",\"baseSubtypeOf\":[\"android.app.Activity\",\"androidx.fragment.app.FragmentActivity\"],\"signatureMatcher\":\"void onResume\\\\(\\\\)\",\"ident\":\"Activity_onResume\"},\"lsVars\":[{\"$type\":\"edu.colorado.plv.bounder.symbolicexecutor.state.TopVal\"},{\"$type\":\"edu.colorado.plv.bounder.symbolicexecutor.state.NamedPureVar\",\"n\":\"a\"}]}}}},\"target\":{\"$type\":\"edu.colorado.plv.bounder.lifestate.LifeState.OAbsMsg\",\"mt\":{\"$type\":\"edu.colorado.plv.bounder.ir.CIEnter\"},\"signatures\":{\"$type\":\"edu.colorado.plv.bounder.lifestate.LifeState.SubClassMatcher\",\"baseSubtypeOf\":[\"android.app.ProgressDialog\",\"android.app.Dialog\"],\"signatureMatcher\":\"void dismiss\\\\(\\\\)\",\"ident\":\"Dialog_dismiss\"},\"lsVars\":[{\"$type\":\"edu.colorado.plv.bounder.symbolicexecutor.state.TopVal\"},{\"$type\":\"edu.colorado.plv.bounder.symbolicexecutor.state.NamedPureVar\",\"n\":\"d\"}]}}]}",
        "tag": {
         "heuristicType": "SensitiveDerefFieldCausedSynch"
        },
        "timeLimit": 900
       },
       {
        "apkPath": "${baseDir}/fdroid/org.sipdroid.sipua/6.3beta/apk/org.sipdroid.sipua_134.apk",
        "configPath": [
         "/tmp/270335928576313844"
        ],
        "initialQuery": [
         {
          "className": "org.sipdroid.media.RtpStreamSender",
          "line": 533,
          "matcher": "void close()",
          "methodName": "void run()",
          "t": "ReceiverNonNull"
         }
        ],
        "outFolder": [
         "${baseDirOut}/org.sipdroid.sipua"
        ],
        "specSet": "{\"specs\":[],\"disallow\":[{\"univQuant\":[{\"$type\":\"edu.colorado.plv.bounder.symbolicexecutor.state.NamedPureVar\",\"n\":\"a\"},{\"$type\":\"edu.colorado.plv.bounder.symbolicexecutor.state.NamedPureVar\",\"n\":\"f\"}],\"existQuant\":[],\"pred\":{\"$type\":\"edu.colorado.plv.bounder.lifestate.LifeState.Or\",\"l1\":{\"$type\":\"edu.colorado.plv.bounder.lifestate.LifeState.NS\",\"i1\":{\"$type\":\"edu.colorado.plv.bounder.lifestate.LifeState.OAbsMsg\",\"mt\":{\"$type\":\"edu.colorado.plv.bounder.ir.CBExit\"},\"signatures\":{\"$type\":\"edu.colorado.plv.bounder.lifestate.LifeState.SubClassMatcher\",\"baseSubtypeOf\":[\"android.app.Fragment\",\"androidx.fragment.app.Fragment\",\"android.support.v4.app.Fragment\"],\"signatureMatcher\":\"void onDestroy\\\\(\\\\)\",\"ident\":\"Fragment_onDestroy\"},\"lsVars\":[{\"$type\":\"edu.colorado.plv.bounder.symbolicexecutor.state.TopVal\"},{\"$type\":\"edu.colorado.plv.bounder.symbolicexecutor.state.NamedPureVar\",\"n\":\"f\"}]},\"i2\":{\"$type\":\"edu.colorado.plv.bounder.lifestate.LifeState.OAbsMsg\",\"mt\":{\"$type\":\"edu.colorado.plv.bounder.ir.CBEnter\"},\"signatures\":{\"$type\":\"edu.colorado.plv.bounder.lifestate.LifeState.SubClassMatcher\",\"baseSubtypeOf\":[\"android.app.Fragment\",\"androidx.fragment.app.Fragment\",\"android.support.v4.app.Fragment\"],\"signatureMatcher\":\"void onActivityCreated\\\\(android.os.Bundle\\\\)\",\"ident\":\"Fragment_onActivityCreated\"},\"lsVars\":[{\"$type\":\"edu.colorado.plv.bounder.symbolicexecutor.state.TopVal\"},{\"$type\":\"edu.colorado.plv.bounder.symbolicexecutor.state.NamedPureVar\",\"n\":\"f\"}]}},\"l2\":{\"$type\":\"edu.colorado.plv.bounder.lifestate.LifeState.Not\",\"p\":{\"$type\":\"edu.colorado.plv.bounder.lifestate.LifeState.OAbsMsg\",\"mt\":{\"$type\":\"edu.colorado.plv.bounder.ir.CBEnter\"},\"signatures\":{\"$type\":\"edu.colorado.plv.bounder.lifestate.LifeState.SubClassMatcher\",\"baseSubtypeOf\":[\"android.app.Fragment\",\"androidx.fragment.app.Fragment\",\"android.support.v4.app.Fragment\"],\"signatureMatcher\":\"void onActivityCreated\\\\(android.os.Bundle\\\\)\",\"ident\":\"Fragment_onActivityCreated\"},\"lsVars\":[{\"$type\":\"edu.colorado.plv.bounder.symbolicexecutor.state.TopVal\"},{\"$type\":\"edu.colorado.plv.bounder.symbolicexecutor.state.NamedPureVar\",\"n\":\"f\"}]}}},\"target\":{\"$type\":\"edu.colorado.plv.bounder.lifestate.LifeState.OAbsMsg\",\"mt\":{\"$type\":\"edu.colorado.plv.bounder.ir.CIExit\"},\"signatures\":{\"$type\":\"edu.colorado.plv.bounder.lifestate.LifeState.SubClassMatcher\",\"baseSubtypeOf\":[\"android.app.Fragment\",\"androidx.fragment.app.Fragment\",\"android.support.v4.app.Fragment\"],\"signatureMatcher\":\".*Activity getActivity\\\\(\\\\)\",\"ident\":\"Fragment_getActivity\"},\"lsVars\":[{\"$type\":\"edu.colorado.plv.bounder.symbolicexecutor.state.NamedPureVar\",\"n\":\"a\"},{\"$type\":\"edu.colorado.plv.bounder.symbolicexecutor.state.NamedPureVar\",\"n\":\"f\"}]},\"rhsConstraints\":[{\"$type\":\"edu.colorado.plv.bounder.lifestate.LifeState.LSConstraint\",\"v1\":{\"$type\":\"edu.colorado.plv.bounder.symbolicexecutor.state.NamedPureVar\",\"n\":\"a\"},\"op\":{\"$type\":\"edu.colorado.plv.bounder.symbolicexecutor.state.Equals\"},\"v2\":{\"$type\":\"edu.colorado.plv.bounder.symbolicexecutor.state.NullVal\"}}]},{\"univQuant\":[{\"$type\":\"edu.colorado.plv.bounder.symbolicexecutor.state.NamedPureVar\",\"n\":\"t\"}],\"existQuant\":[],\"pred\":{\"$type\":\"edu.colorado.plv.bounder.lifestate.LifeState.OAbsMsg\",\"mt\":{\"$type\":\"edu.colorado.plv.bounder.ir.CIExit\"},\"signatures\":{\"$type\":\"edu.colorado.plv.bounder.lifestate.LifeState.SubClassMatcher\",\"baseSubtypeOf\":[\"android.os.AsyncTask\"],\"signatureMatcher\":\".*AsyncTask execute\\\\(.*\\\\)\",\"ident\":\"AsyncTask_execute\"},\"lsVars\":[{\"$type\":\"edu.colorado.plv.bounder.symbolicexecutor.state.TopVal\"},{\"$type\":\"edu.colorado.plv.bounder.symbolicexecutor.state.NamedPureVar\",\"n\":\"t\"}]},\"target\":{\"$type\":\"edu.colorado.plv.bounder.lifestate.LifeState.OAbsMsg\",\"mt\":{\"$type\":\"edu.colorado.plv.bounder.ir.CIEnter\"},\"signatures\":{\"$type\":\"edu.colorado.plv.bounder.lifestate.LifeState.SubClassMatcher\",\"baseSubtypeOf\":[\"android.os.AsyncTask\"],\"signatureMatcher\":\".*AsyncTask execute\\\\(.*\\\\)\",\"ident\":\"AsyncTask_execute\"},\"lsVars\":[{\"$type\":\"edu.colorado.plv.bounder.symbolicexecutor.state.TopVal\"},{\"$type\":\"edu.colorado.plv.bounder.symbolicexecutor.state.NamedPureVar\",\"n\":\"t\"}]}},{\"univQuant\":[{\"$type\":\"edu.colorado.plv.bounder.symbolicexecutor.state.NamedPureVar\",\"n\":\"d\"}],\"existQuant\":[{\"$type\":\"edu.colorado.plv.bounder.symbolicexecutor.state.NamedPureVar\",\"n\":\"a\"}],\"pred\":{\"$type\":\"edu.colorado.plv.bounder.lifestate.LifeState.And\",\"l1\":{\"$type\":\"edu.colorado.plv.bounder.lifestate.LifeState.OAbsMsg\",\"mt\":{\"$type\":\"edu.colorado.plv.bounder.ir.CIExit\"},\"signatures\":{\"$type\":\"edu.colorado.plv.bounder.lifestate.LifeState.SubClassMatcher\",\"baseSubtypeOf\":[\"android.app.ProgressDialog\",\"android.app.Dialog\"],\"signatureMatcher\":\".*show.*\",\"ident\":\"Dialog_show\"},\"lsVars\":[{\"$type\":\"edu.colorado.plv.bounder.symbolicexecutor.state.NamedPureVar\",\"n\":\"d\"},{\"$type\":\"edu.colorado.plv.bounder.symbolicexecutor.state.TopVal\"},{\"$type\":\"edu.colorado.plv.bounder.symbolicexecutor.state.NamedPureVar\",\"n\":\"a\"}]},\"l2\":{\"$type\":\"edu.colorado.plv.bounder.lifestate.LifeState.Or\",\"l1\":{\"$type\":\"edu.colorado.plv.bounder.lifestate.LifeState.Not\",\"p\":{\"$type\":\"edu.colorado.plv.bounder.lifestate.LifeState.OAbsMsg\",\"mt\":{\"$type\":\"edu.colorado.plv.bounder.ir.CBEnter\"},\"signatures\":{\"$type\":\"edu.colorado.plv.bounder.lifestate.LifeState.SubClassMatcher\",\"baseSubtypeOf\":[\"android.app.Activity\",\"androidx.fragment.app.FragmentActivity\"],\"signatureMatcher\":\"void onResume\\\\(\\\\)\",\"ident\":\"Activity_onResume\"},\"lsVars\":[{\"$type\":\"edu.colorado.plv.bounder.symbolicexecutor.state.TopVal\"},{\"$type\":\"edu.colorado.plv.bounder.symbolicexecutor.state.NamedPureVar\",\"n\":\"a\"}]}},\"l2\":{\"$type\":\"edu.colorado.plv.bounder.lifestate.LifeState.NS\",\"i1\":{\"$type\":\"edu.colorado.plv.bounder.lifestate.LifeState.OAbsMsg\",\"mt\":{\"$type\":\"edu.colorado.plv.bounder.ir.CBExit\"},\"signatures\":{\"$type\":\"edu.colorado.plv.bounder.lifestate.LifeState.SubClassMatcher\",\"baseSubtypeOf\":[\"android.app.Activity\",\"androidx.fragment.app.FragmentActivity\"],\"signatureMatcher\":\"void onPause\\\\(\\\\)\",\"ident\":\"Activity_onPause\"},\"lsVars\":[{\"$type\":\"edu.colorado.plv.bounder.symbolicexecutor.state.TopVal\"},{\"$type\":\"edu.colorado.plv.bounder.symbolicexecutor.state.NamedPureVar\",\"n\":\"a\"}]},\"i2\":{\"$type\":\"edu.colorado.plv.bounder.lifestate.LifeState.OAbsMsg\",\"mt\":{\"$type\":\"edu.colorado.plv.bounder.ir.CBEnter\"},\"signatures\":{\"$type\":\"edu.colorado.plv.bounder.lifestate.LifeState.SubClassMatcher\",\"baseSubtypeOf\":[\"android.app.Activity\",\"androidx.fragment.app.FragmentActivity\"],\"signatureMatcher\":\"void onResume\\\\(\\\\)\",\"ident\":\"Activity_onResume\"},\"lsVars\":[{\"$type\":\"edu.colorado.plv.bounder.symbolicexecutor.state.TopVal\"},{\"$type\":\"edu.colorado.plv.bounder.symbolicexecutor.state.NamedPureVar\",\"n\":\"a\"}]}}}},\"target\":{\"$type\":\"edu.colorado.plv.bounder.lifestate.LifeState.OAbsMsg\",\"mt\":{\"$type\":\"edu.colorado.plv.bounder.ir.CIEnter\"},\"signatures\":{\"$type\":\"edu.colorado.plv.bounder.lifestate.LifeState.SubClassMatcher\",\"baseSubtypeOf\":[\"android.app.ProgressDialog\",\"android.app.Dialog\"],\"signatureMatcher\":\"void dismiss\\\\(\\\\)\",\"ident\":\"Dialog_dismiss\"},\"lsVars\":[{\"$type\":\"edu.colorado.plv.bounder.symbolicexecutor.state.TopVal\"},{\"$type\":\"edu.colorado.plv.bounder.symbolicexecutor.state.NamedPureVar\",\"n\":\"d\"}]}}]}",
        "tag": {
         "heuristicType": "SensitiveDerefFieldCausedSynch"
        },
        "timeLimit": 900
       }
      ],
      "text/plain": [
       "<IPython.core.display.JSON object>"
      ]
     },
     "execution_count": 50,
     "metadata": {
      "application/json": {
       "expanded": false,
       "root": "root"
      }
     },
     "output_type": "execute_result"
    }
   ],
   "source": [
    "#\"BaseLogcatActivity\",\"WikivoyageExploreActivity\",\"GpxSelectionHelper\",\"WikiArticleHelper\", \"DataStorageHelper\"\n",
    "JSON([json.loads(c[0]) for c in cfg])"
   ]
  },
  {
   "cell_type": "code",
   "execution_count": 37,
   "metadata": {},
   "outputs": [
    {
     "name": "stdout",
     "output_type": "stream",
     "text": [
      "{\"apkPath\":\"${baseDir}/fdroid/net.osmand.plus/4.3.8/apk/net.osmand.plus_4308.apk\",\"outFolder\":[\"${baseDirOut}/net.osmand.plus\"],\"specSet\":\"{\\\"specs\\\":[],\\\"disallow\\\":[{\\\"univQuant\\\":[{\\\"$type\\\":\\\"edu.colorado.plv.bounder.symbolicexecutor.state.NamedPureVar\\\",\\\"n\\\":\\\"t\\\"}],\\\"existQuant\\\":[],\\\"pred\\\":{\\\"$type\\\":\\\"edu.colorado.plv.bounder.lifestate.LifeState.OAbsMsg\\\",\\\"mt\\\":{\\\"$type\\\":\\\"edu.colorado.plv.bounder.ir.CIExit\\\"},\\\"signatures\\\":{\\\"$type\\\":\\\"edu.colorado.plv.bounder.lifestate.LifeState.SubClassMatcher\\\",\\\"baseSubtypeOf\\\":[\\\"android.os.AsyncTask\\\"],\\\"signatureMatcher\\\":\\\".*AsyncTask execute\\\\\\\\(.*\\\\\\\\)\\\",\\\"ident\\\":\\\"AsyncTask_execute\\\"},\\\"lsVars\\\":[{\\\"$type\\\":\\\"edu.colorado.plv.bounder.symbolicexecutor.state.TopVal\\\"},{\\\"$type\\\":\\\"edu.colorado.plv.bounder.symbolicexecutor.state.NamedPureVar\\\",\\\"n\\\":\\\"t\\\"}]},\\\"target\\\":{\\\"$type\\\":\\\"edu.colorado.plv.bounder.lifestate.LifeState.OAbsMsg\\\",\\\"mt\\\":{\\\"$type\\\":\\\"edu.colorado.plv.bounder.ir.CIEnter\\\"},\\\"signatures\\\":{\\\"$type\\\":\\\"edu.colorado.plv.bounder.lifestate.LifeState.SubClassMatcher\\\",\\\"baseSubtypeOf\\\":[\\\"android.os.AsyncTask\\\"],\\\"signatureMatcher\\\":\\\".*AsyncTask execute\\\\\\\\(.*\\\\\\\\)\\\",\\\"ident\\\":\\\"AsyncTask_execute\\\"},\\\"lsVars\\\":[{\\\"$type\\\":\\\"edu.colorado.plv.bounder.symbolicexecutor.state.TopVal\\\"},{\\\"$type\\\":\\\"edu.colorado.plv.bounder.symbolicexecutor.state.NamedPureVar\\\",\\\"n\\\":\\\"t\\\"}]}}]}\",\"initialQuery\":[{\"t\":\"DisallowedCallin\",\"className\":\"net.osmand.plus.OsmAndTaskManager$InternalTaskExecutor\",\"methodName\":\"void executeWithParams(java.lang.Object[])\",\"s\":\"{\\\"univQuant\\\":[{\\\"$type\\\":\\\"edu.colorado.plv.bounder.symbolicexecutor.state.NamedPureVar\\\",\\\"n\\\":\\\"t\\\"}],\\\"existQuant\\\":[],\\\"pred\\\":{\\\"$type\\\":\\\"edu.colorado.plv.bounder.lifestate.LifeState.OAbsMsg\\\",\\\"mt\\\":{\\\"$type\\\":\\\"edu.colorado.plv.bounder.ir.CIExit\\\"},\\\"signatures\\\":{\\\"$type\\\":\\\"edu.colorado.plv.bounder.lifestate.LifeState.SubClassMatcher\\\",\\\"baseSubtypeOf\\\":[\\\"android.os.AsyncTask\\\"],\\\"signatureMatcher\\\":\\\".*AsyncTask execute\\\\\\\\(.*\\\\\\\\)\\\",\\\"ident\\\":\\\"AsyncTask_execute\\\"},\\\"lsVars\\\":[{\\\"$type\\\":\\\"edu.colorado.plv.bounder.symbolicexecutor.state.TopVal\\\"},{\\\"$type\\\":\\\"edu.colorado.plv.bounder.symbolicexecutor.state.NamedPureVar\\\",\\\"n\\\":\\\"t\\\"}]},\\\"target\\\":{\\\"$type\\\":\\\"edu.colorado.plv.bounder.lifestate.LifeState.OAbsMsg\\\",\\\"mt\\\":{\\\"$type\\\":\\\"edu.colorado.plv.bounder.ir.CIEnter\\\"},\\\"signatures\\\":{\\\"$type\\\":\\\"edu.colorado.plv.bounder.lifestate.LifeState.SubClassMatcher\\\",\\\"baseSubtypeOf\\\":[\\\"android.os.AsyncTask\\\"],\\\"signatureMatcher\\\":\\\".*AsyncTask execute\\\\\\\\(.*\\\\\\\\)\\\",\\\"ident\\\":\\\"AsyncTask_execute\\\"},\\\"lsVars\\\":[{\\\"$type\\\":\\\"edu.colorado.plv.bounder.symbolicexecutor.state.TopVal\\\"},{\\\"$type\\\":\\\"edu.colorado.plv.bounder.symbolicexecutor.state.NamedPureVar\\\",\\\"n\\\":\\\"t\\\"}]}}\"}],\"tag\":{\"heuristicType\":\"Disallow.I_CIEnter_AsyncTaskexecute\"},\"timeLimit\":900,\"configPath\":[\"/tmp/5133988353999695223\"]}\n"
     ]
    }
   ],
   "source": [
    "print([c[0] for c in cfg if \"executeWithParams\" in c[0]][0])"
   ]
  },
  {
   "cell_type": "code",
   "execution_count": null,
   "metadata": {},
   "outputs": [],
   "source": [
    "%%sql\n",
    "select cast(results.result::json->'summary' as varchar) as summary, cast(jobs.config::json->'apkPath' as varchar) as benchmark,count(*) from results inner join jobs on jobs.id=results.jobid group by summary,benchmark order by benchmark,summary desc"
   ]
  },
  {
   "cell_type": "markdown",
   "metadata": {},
   "source": [
    "Get failing apks"
   ]
  },
  {
   "cell_type": "code",
   "execution_count": null,
   "metadata": {},
   "outputs": [],
   "source": [
    "%%sql\n",
    "select cast(config::json->'apkPath' as text) from jobs \n",
    "        where stderr like '%Exception%' group by cast(config::json->'apkPath' as text) ;"
   ]
  },
  {
   "cell_type": "code",
   "execution_count": null,
   "metadata": {},
   "outputs": [],
   "source": [
    "%%sql\n",
    "select cast(config::json->'apkPath' as text) as app,count(*) as count from jobs group by app order by count desc;"
   ]
  },
  {
   "cell_type": "code",
   "execution_count": null,
   "metadata": {},
   "outputs": [],
   "source": [
    "%%sql \n",
    "select cast(result::json->'summary' as varchar) as summary, cast(result::json->'maxPathCh' as varchar) as ch,count(*),avg(querytime),max(querytime) from results group by summary,ch order by summary,ch;"
   ]
  },
  {
   "cell_type": "code",
   "execution_count": null,
   "metadata": {},
   "outputs": [],
   "source": [
    "%%sql \n",
    "select count(*), cast(results.result::json->'summary' as varchar),cast(jobs.config::json->'tag' as varchar) as tag \n",
    "from jobs inner join results on jobs.id=results.jobid group by cast(jobs.config::json->'tag' as varchar),cast(results.result::json->'summary' as varchar)\n",
    "order by  cast(jobs.config::json->'tag' as varchar)"
   ]
  },
  {
   "cell_type": "code",
   "execution_count": null,
   "metadata": {},
   "outputs": [],
   "source": [
    "%%sql \n",
    "select regexp_substr(cast(jobs.config::json->'apkPath' as varchar), '[a-zA-Z]*\\.[a-zA-Z]*') as benchmark, \n",
    "    regexp_substr(cast(results.qry::json->'s' as varchar), 'Dialog_dismiss|execute') as isDismiss, \n",
    "    cast(results.result::json->'summary' as varchar) as summary, count(*)\n",
    "    from results inner join jobs on results.jobid=jobs.id \n",
    "    group by cast(jobs.config::json->'apkPath' as varchar),cast(results.result::json->'summary' as varchar),\n",
    "    regexp_substr(cast(results.qry::json->'s' as varchar), 'Dialog_dismiss|execute')\n"
   ]
  },
  {
   "cell_type": "code",
   "execution_count": null,
   "metadata": {},
   "outputs": [],
   "source": [
    "%%sql\n",
    "select cast(result::json->'summary' as varchar) as summary, count(*) from results, group by cast(result::json->'summary' as varchar)"
   ]
  },
  {
   "cell_type": "code",
   "execution_count": null,
   "metadata": {},
   "outputs": [],
   "source": [
    "%%sql\n",
    "select id from results where cast(results.result::json->'summary' as varchar) like '%Witnessed%'"
   ]
  },
  {
   "cell_type": "code",
   "execution_count": null,
   "metadata": {},
   "outputs": [],
   "source": [
    "cfg = %sql select jobs.config from results inner join jobs on results.jobid=jobs.id where cast(results.result::json->'summary' as varchar) like '%Witnessed%' limit 1;\n",
    "cfg[0][0]"
   ]
  },
  {
   "cell_type": "code",
   "execution_count": null,
   "metadata": {},
   "outputs": [],
   "source": [
    "%%sql\n",
    "select id,cast(result::json->'summary' as varchar) as summary,loc::json->'method'->>1 as clazz,loc::json->'method'->>2 from results order by random() limit 5;"
   ]
  },
  {
   "cell_type": "markdown",
   "metadata": {},
   "source": [
    "Check result consistency\n",
    "========================"
   ]
  },
  {
   "cell_type": "code",
   "execution_count": null,
   "metadata": {},
   "outputs": [],
   "source": [
    "%%sql -- get workers with acquired jobs -- check for abandoned jobs\n",
    "select owner,count(*) from jobs where status='acquired' group by owner;"
   ]
  },
  {
   "cell_type": "code",
   "execution_count": null,
   "metadata": {},
   "outputs": [],
   "source": [
    "%%sql -- Find completed jobs where no results exist and no error occurred\n",
    "select jobs.id from jobs where jobs.id not in (select results.jobid from results) and jobs.status = 'completed' and jobs.stderr not like '%Exception%';"
   ]
  },
  {
   "cell_type": "code",
   "execution_count": null,
   "metadata": {},
   "outputs": [],
   "source": [
    "%%sql -- Find new/paused jobs with results\n",
    "select jobs.id from jobs where jobs.id in (select results.jobid from results) and (jobs.status = 'paused' or jobs.status = 'new');"
   ]
  },
  {
   "cell_type": "code",
   "execution_count": null,
   "metadata": {},
   "outputs": [],
   "source": [
    "%%sql -- check that each location/qry pair only has one result (should detect duplicat runs)\n",
    "select count(*),qry,loc as num from results group by qry,loc order by count(*) desc limit 1;"
   ]
  },
  {
   "cell_type": "markdown",
   "metadata": {},
   "source": [
    "Triage witness results\n",
    "----------------------"
   ]
  },
  {
   "cell_type": "code",
   "execution_count": null,
   "metadata": {},
   "outputs": [],
   "source": [
    "witnessesq = %sql \\\n",
    "select id,jobid,resultdata,loc::json->'method'->>1 as clazz,loc::json->'method'->>2 from results \\\n",
    "                where cast(result::json->'summary' as varchar) like '%Witnessed%' order by id asc;\n",
    "\n",
    "witnessesdf = witnessesq.DataFrame()\n",
    "witnessesdf.to_csv('triageWit.csv')"
   ]
  },
  {
   "cell_type": "code",
   "execution_count": null,
   "metadata": {},
   "outputs": [],
   "source": [
    "witnessesq = %sql \\\n",
    "select id,jobid,resultdata,loc::json->'method'->>1 as clazz,loc::json->'method'->>2 from results \\\n",
    "                where cast(result::json->'summary' as varchar) like '%Itimeout%' and cast(result::json->'maxPathCh' as varchar) like '%MultiCallback%' order by id asc;\n",
    "\n",
    "witnessesdf = witnessesq.DataFrame()\n",
    "witnessesdf.to_csv('triageWitMultiTimeout.csv')"
   ]
  },
  {
   "cell_type": "raw",
   "metadata": {},
   "source": [
    "id \tjobid \tresultdata \tclazz \t?column?\n",
    "#29 \t2 \t2 \tcom.lyonbros.turtl.MainActivity \t[\"com.lyonbros.turtl.MainActivity\",\"android.os.Bundle\"]     (my bug) super should always be non null\n",
    "#69 \t1323 \t477 \tcom.gianlu.commonutils.Preferences.BasePreferenceActivity \t[\"com.gianlu.commonutils.Preferences.BasePreferenceActivity\",\"android.view.MenuItem\"]     (simple) arg of cb non null\n",
    "1:09 seems onOptionItemSelected wont get null value \n",
    "#107 \t1326 \t480 \tcom.health.openscale.gui.activities.UserSettingsActivity$1 \t[\"com.health.openscale.gui.activities.UserSettingsActivity$1\",\"android.view.View\"]  (simple) ret val of callin non null 1:14\n",
    "#175 \t1325 \t479 \tcom.duckduckgo.app.brokensite.BrokenSiteActivity \t[\"com.duckduckgo.app.brokensite.BrokenSiteActivity\"] (simple) arg of ci non null 15:28\n",
    "#201 \t1322 \t481 \torg.andstatus.app.util.UriUtils \t[\"void\",\"java.lang.String\"] (simple) non-null callin Optional.of 1:32\n",
    "#206 \t1322 \t481 \torg.andstatus.app.note.NoteBodyTokenizer \t[\"org.andstatus.app.note.NoteBodyTokenizer\",\"java.lang.CharSequence\"] (likely simple) non-null parameter\n",
    "#209 \t1322 \t481 \torg.andstatus.app.timeline.BaseTimelineAdapter \t[\"org.andstatus.app.timeline.BaseTimelineAdapter\",\"android.view.View\"]\n",
    "(revised not interesting, bug, now fixed)(interesting) value from get-parent - can be null i parent not defined. \n",
    "4045 \t1322 \t481 \torg.andstatus.app.data.checker.CheckConversations \t[\"void\",\"org.andstatus.app.data.checker.CheckConversations$NoteItem\"] (possibly interesting) apply callback, may be generated code of some kind? likely a bound callback from something"
   ]
  },
  {
   "cell_type": "raw",
   "metadata": {},
   "source": [
    "1) quick scan of code for patterns that likely involve multi callback crashes.\n",
    "    - deref of value read from field accessed by multiple callbacks (quick syntactic scan, needs minor upgrade to sampler)\n",
    "    - value returned from \"interesting\" callin, e.g. getParent/getActivity - need way to identify these, perhaps just use a few known ones\n",
    "    - sensitive callins e.g. execute\n",
    "    \n",
    "2) write specifications to avoid crashes on sampling of these interesting locations, if that fails, try to reproduce crash\n",
    "\n",
    "\n",
    "RQ: Is it feasible and necessary to write cftl specifications to prove a callback ordering sensitive assertion?\n",
    "\n",
    "We first generate a set of assertions that are likely to be useful to an android developer by scanning for patterns involved in multi callback mistakes.  We then report the number of locations proven 1)without a framework model 2) with the activity lifecycle and 3) with a hand written cftl model.  In the case of writing the model, we measure the time it takes a human to develop such a model.  "
   ]
  },
  {
   "cell_type": "code",
   "execution_count": null,
   "metadata": {},
   "outputs": [],
   "source": [
    "%%sql \n",
    "select id,jobid,resultdata,loc::json->'method'->>1 as clazz, \n",
    "        replace(cast(loc::json->'line'->'str' as varchar),'$','\\$') from results where id = 40;"
   ]
  },
  {
   "cell_type": "markdown",
   "metadata": {},
   "source": [
    "Triage proven results\n",
    "--------------------------"
   ]
  },
  {
   "cell_type": "code",
   "execution_count": null,
   "metadata": {},
   "outputs": [],
   "source": [
    "%%sql \n",
    "select id,jobid,resultdata,loc::json->'method'->>1 as clazz,loc::json->'method'->>2 from results \n",
    "                where cast(result::json->'summary' as varchar) like '%Proven%' order by random() limit 10;"
   ]
  },
  {
   "cell_type": "raw",
   "metadata": {},
   "source": [
    "TODO"
   ]
  },
  {
   "cell_type": "markdown",
   "metadata": {},
   "source": [
    "Triage unreachable results\n",
    "--------------------------"
   ]
  },
  {
   "cell_type": "code",
   "execution_count": null,
   "metadata": {},
   "outputs": [],
   "source": [
    "%%sql \n",
    "select id,jobid,resultdata,loc::json->'method'->>1 as clazz \n",
    "            from results where cast(result::json->'summary' as varchar) like '%Unreachable%' \n",
    "            order by random() limit 15;"
   ]
  },
  {
   "cell_type": "raw",
   "metadata": {},
   "source": [
    "id \tjobid \tresultdata \tclazz\n",
    "3632 \t1315 \t471 \tio.reactivex.Flowable\n",
    "3585 \t1314 \t470 \tcc.fovea.openwith.OpenWithPlugin\n",
    "3645 \t1315 \t471 \tcom.duckduckgo.app.bookmarks.ui.BookmarksViewModel\n",
    "3594 \t1314 \t470 \tcc.fovea.openwith.PluginResultSender\n",
    "3580 \t1314 \t470 \tcc.fovea.openwith.PluginResultSender\n",
    "3627 \t1315 \t471 \tio.reactivex.internal.operators.parallel.ParallelFromPublisher$ParallelDispatcher\n",
    "3629 \t1315 \t471 \tio.reactivex.internal.operators.single.SingleUnsubscribeOn\n",
    "3663 \t1315 \t471 \tio.reactivex.internal.operators.flowable.FlowableTakeUntil$TakeUntilMainSubscriber\n",
    "3582 \t1314 \t470 \tcc.fovea.openwith.PluginResultSender\n",
    "3657 \t1315 \t471 \tio.reactivex.internal.observers.QueueDrainObserver\n",
    "3603 \t1314 \t470 \tcc.fovea.openwith.ByteStreams\n",
    "3669 \t1315 \t471 \tcom.duckduckgo.app.tabs.db.TabsDao_Impl$1\n",
    "3586 \t1314 \t470 \tcc.fovea.openwith.OpenWithPlugin$1\n",
    "3659 \t1315 \t471 \tio.reactivex.internal.operators.flowable.FlowableCreate$BaseEmitter\n",
    "3646 \t1315 \t471 \tio.reactivex.internal.schedulers.SchedulerPoolFactory"
   ]
  },
  {
   "cell_type": "code",
   "execution_count": null,
   "metadata": {},
   "outputs": [],
   "source": [
    "%%sql\n",
    "select id,jobid,resultdata,loc::json->'method'->>1 as clazz, \n",
    "        replace(cast(loc::json->'method'->>0 as varchar),'$','\\$') as mname, \n",
    "        replace(cast(loc::json->'line' as varchar),'$','\\$') as location \n",
    "        from results where id = 15037;"
   ]
  },
  {
   "cell_type": "raw",
   "metadata": {},
   "source": [
    "\n",
    "id      jobid\tresultdata\tclazz\n",
    "15037\t243  \t761     \titkach.aard2.ArticleWebView$4\n",
    "\n",
    "12610\t90  \t676     \torg.tukaani.xz.lzma.LZMAEncoderNormal\n",
    "12479\t368  \t674\t        com.serwylo.lexica.trie.util.LetterFrequency\n",
    "8881\t308 \t436     \tnet.healeys.trie.StringTrie$Node\n",
    "11298\t208 \t573     \torg.tukaani.xz.index.IndexBase\n",
    "\n"
   ]
  },
  {
   "cell_type": "code",
   "execution_count": null,
   "metadata": {},
   "outputs": [],
   "source": [
    "%%sql\n",
    "select id,result,replace(cast(loc::json->'line' as varchar),'$','\\$') as location \n",
    "    from results where loc like '%244 $r3%';"
   ]
  },
  {
   "cell_type": "code",
   "execution_count": null,
   "metadata": {},
   "outputs": [],
   "source": [
    "%%sql\n",
    "select replace(cast(loc as varchar),'$','\\$') from results where id = 1494;"
   ]
  },
  {
   "cell_type": "markdown",
   "metadata": {},
   "source": [
    "Runtime Stats\n",
    "============="
   ]
  },
  {
   "cell_type": "code",
   "execution_count": null,
   "metadata": {},
   "outputs": [],
   "source": [
    "queryTime = %sql select querytime/60/60 from results;\n",
    "tplt = queryTime.DataFrame().plot.hist(bins=16)\n",
    "tplt.set_yscale('log')\n",
    "# tplt.set_xscale('log')\n",
    "tplt.set_xlabel('time (hrs)')\n",
    "# split this into proven and witnessed"
   ]
  },
  {
   "cell_type": "code",
   "execution_count": null,
   "metadata": {},
   "outputs": [],
   "source": [
    "%%sql\n",
    "select "
   ]
  },
  {
   "cell_type": "code",
   "execution_count": null,
   "metadata": {},
   "outputs": [],
   "source": [
    "cfg = %sql select jobs.config from results join jobs on jobs.id = results.jobid where querytime > 6*60*60 limit 1;\n",
    "if len(cfg) > 0:\n",
    "    print(cfg[0][0])"
   ]
  },
  {
   "cell_type": "code",
   "execution_count": null,
   "metadata": {
    "tags": []
   },
   "outputs": [],
   "source": [
    "%%sql -- which apps cause runtimes over 2 hours?\n",
    "select jobs.id, results.querytime, jobs.config::json->'apkPath' from results inner join jobs on jobs.id=results.jobid where results.querytime > 7200 order by results.querytime desc limit 200;"
   ]
  },
  {
   "cell_type": "code",
   "execution_count": null,
   "metadata": {},
   "outputs": [],
   "source": [
    "# Job runtimes\n",
    "runtimes = %sql select ended - started as time from jobs where ended is not NULL;\n",
    "runtimesDF = runtimes.DataFrame()\n",
    "runtimesDF['time'] = runtimesDF['time'].apply(lambda x: x.total_seconds() / (60))\n",
    "tplt = runtimesDF.plot.hist(bins=32)\n",
    "tplt.set_yscale('log')\n",
    "tplt.set_xlabel('time (min)')"
   ]
  },
  {
   "cell_type": "code",
   "execution_count": null,
   "metadata": {},
   "outputs": [],
   "source": [
    "# Plot job time trend\n",
    "rtvt = %sql select started, ended - started as time from jobs where ended is not NULL;\n",
    "rtvtDF = rtvt.DataFrame()\n",
    "rtvtDF.sort_values('started', ascending=True)\n",
    "fig, ax = plt.subplots()\n",
    "ax.plot_date(rtvtDF['started'], rtvtDF['time'], marker='*', linestyle='')\n",
    "\n",
    "fig.autofmt_xdate()\n",
    "plt.show()\n"
   ]
  },
  {
   "cell_type": "markdown",
   "metadata": {},
   "source": [
    "Total job time"
   ]
  },
  {
   "cell_type": "code",
   "execution_count": null,
   "metadata": {},
   "outputs": [],
   "source": [
    "%%sql\n",
    "select sum(ended-started) from jobs where ended is not NULL;"
   ]
  },
  {
   "cell_type": "code",
   "execution_count": null,
   "metadata": {},
   "outputs": [],
   "source": [
    "%%sql\n",
    "select avg(ended-started) from jobs where ended is not NULL;"
   ]
  },
  {
   "cell_type": "code",
   "execution_count": null,
   "metadata": {},
   "outputs": [],
   "source": [
    "%%sql\n",
    "select avg(querytime) from results;"
   ]
  },
  {
   "cell_type": "code",
   "execution_count": null,
   "metadata": {},
   "outputs": [],
   "source": [
    "%%sql\n",
    "select now() - min(started) from jobs;"
   ]
  },
  {
   "cell_type": "markdown",
   "metadata": {},
   "source": [
    "Size of postgres data\n",
    "====================="
   ]
  },
  {
   "cell_type": "code",
   "execution_count": null,
   "metadata": {},
   "outputs": [],
   "source": [
    "%%sql\n",
    "WITH RECURSIVE pg_inherit(inhrelid, inhparent) AS\n",
    "    (select inhrelid, inhparent\n",
    "    FROM pg_inherits\n",
    "    UNION\n",
    "    SELECT child.inhrelid, parent.inhparent\n",
    "    FROM pg_inherit child, pg_inherits parent\n",
    "    WHERE child.inhparent = parent.inhrelid),\n",
    "pg_inherit_short AS (SELECT * FROM pg_inherit WHERE inhparent NOT IN (SELECT inhrelid FROM pg_inherit))\n",
    "SELECT table_schema\n",
    "    , TABLE_NAME\n",
    "    , row_estimate\n",
    "    , pg_size_pretty(total_bytes) AS total\n",
    "    , pg_size_pretty(index_bytes) AS INDEX\n",
    "    , pg_size_pretty(toast_bytes) AS toast\n",
    "    , pg_size_pretty(table_bytes) AS TABLE\n",
    "  FROM (\n",
    "    SELECT *, total_bytes-index_bytes-COALESCE(toast_bytes,0) AS table_bytes\n",
    "    FROM (\n",
    "         SELECT c.oid\n",
    "              , nspname AS table_schema\n",
    "              , relname AS TABLE_NAME\n",
    "              , SUM(c.reltuples) OVER (partition BY parent) AS row_estimate\n",
    "              , SUM(pg_total_relation_size(c.oid)) OVER (partition BY parent) AS total_bytes\n",
    "              , SUM(pg_indexes_size(c.oid)) OVER (partition BY parent) AS index_bytes\n",
    "              , SUM(pg_total_relation_size(reltoastrelid)) OVER (partition BY parent) AS toast_bytes\n",
    "              , parent\n",
    "          FROM (\n",
    "                SELECT pg_class.oid\n",
    "                    , reltuples\n",
    "                    , relname\n",
    "                    , relnamespace\n",
    "                    , pg_class.reltoastrelid\n",
    "                    , COALESCE(inhparent, pg_class.oid) parent\n",
    "                FROM pg_class\n",
    "                    LEFT JOIN pg_inherit_short ON inhrelid = oid\n",
    "                WHERE relkind IN ('r', 'p')\n",
    "             ) c\n",
    "             LEFT JOIN pg_namespace n ON n.oid = c.relnamespace\n",
    "  ) a\n",
    "  WHERE oid = parent\n",
    ") a\n",
    "ORDER BY total_bytes DESC limit 5;"
   ]
  },
  {
   "cell_type": "markdown",
   "metadata": {},
   "source": [
    "Inspection of exceptions\n",
    "========================"
   ]
  },
  {
   "cell_type": "code",
   "execution_count": null,
   "metadata": {
    "tags": []
   },
   "outputs": [],
   "source": [
    "%%sql\n",
    "select id,config::json->'apkPath',replace(stderr,'$','\\$') from jobs where stderr like '%Exception%';"
   ]
  },
  {
   "cell_type": "code",
   "execution_count": null,
   "metadata": {},
   "outputs": [],
   "source": [
    "#count of total results\n",
    "%sql select count(*) as Total_locations_computed from results"
   ]
  },
  {
   "cell_type": "code",
   "execution_count": null,
   "metadata": {},
   "outputs": [],
   "source": []
  }
 ],
 "metadata": {
  "kernelspec": {
   "display_name": "Python 3 (ipykernel)",
   "language": "python",
   "name": "python3"
  },
  "language_info": {
   "codemirror_mode": {
    "name": "ipython",
    "version": 3
   },
   "file_extension": ".py",
   "mimetype": "text/x-python",
   "name": "python",
   "nbconvert_exporter": "python",
   "pygments_lexer": "ipython3",
   "version": "3.10.6"
  }
 },
 "nbformat": 4,
 "nbformat_minor": 4
}
