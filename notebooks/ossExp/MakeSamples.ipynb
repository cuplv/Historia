{
 "cells": [
  {
   "cell_type": "code",
   "execution_count": null,
   "metadata": {
    "tags": []
   },
   "outputs": [],
   "source": [
    "// hacky way to set java path since macos breaks this\n",
    "val userhome = System.getProperty(\"user.home\")\n",
    "val jniPath = s\"${userhome}/software/z3/build\"\n",
    "val newPath = Array(jniPath) ++  System.getProperty(\"java.library.path\").split(\":\")\n",
    "System.setProperty(\"java.library.path\",newPath.distinct.mkString(\":\"))\n",
    "//set sys_paths to null so that java.library.path will be reevaluated next time it is needed\n",
    "val sysPathsField = classOf[ClassLoader].getDeclaredField(\"sys_paths\");\n",
    "sysPathsField.setAccessible(true);\n",
    "sysPathsField.set(null, null);\n",
    "// note: make sim link between bounder and Bounder due to macos case sensitivity before hand\n",
    "val path = s\"${userhome}/Documents/source/bounder/soot_hopper/target/scala-2.13/soot_hopper-assembly-0.1.jar\"\n",
    "//unzip -p jdiff.jar META-INF/MANIFEST.MF\n",
    "interp.load.cp(os.Path(path))\n",
    "\n",
    "import $ivy.`org.plotly-scala:plotly-almond_2.13:0.8.2`\n",
    "import $ivy.`com.github.pathikrit::better-files:3.9.1`\n",
    "\n",
    "import $ivy.`com.lihaoyi:ujson_2.13:1.3.8`\n",
    "// import $ivy.`edu.colorado.plv.bounder:soot_hopper_2.13:0.1`\n",
    "\n",
    "import plotly._, element._, layout._, Plotly._\n",
    "import ujson.Value\n",
    "import sys.process._\n"
   ]
  },
  {
   "cell_type": "code",
   "execution_count": null,
   "metadata": {
    "tags": []
   },
   "outputs": [],
   "source": [
    "import better.files._\n",
    "\n",
    "import scala.util.Random\n",
    "import edu.colorado.plv.bounder.{Driver,PickleSpec,Action,RunConfig}\n",
    "import upickle.default.read\n",
    "import upickle.default.write\n",
    "import scala.collection.parallel.CollectionConverters.{ImmutableSetIsParallelizable, IterableIsParallelizable}\n",
    "import edu.colorado.plv.bounder.{ExperimentsDb,BounderUtil}\n",
    "import scala.concurrent.duration._\n",
    "import scala.language.postfixOps\n",
    "import slick.driver.H2Driver.api._\n",
    "import slick.jdbc.{GetResult,SQLActionBuilder}\n",
    "import scala.concurrent.Await\n",
    "import edu.colorado.plv.bounder.lifestate.{SpecSpace,LifecycleSpec, SDialog, SAsyncTask,FragmentGetActivityNullSpec}\n",
    "\n",
    "\n",
    "Driver.setZ3Path(s\"${userhome}/software/z3/build\")\n",
    "\n",
    "var android_home_possible = List(s\"${userhome}/Library/Android/sdk\", s\"${userhome}/Android/Sdk\")\n",
    "var android_home = android_home_possible.find(p => File(p).exists()).get             \n",
    "BounderUtil.setEnv(Map(\"DYLD_LIBRARY_PATH\" -> s\"${userhome}/software/z3/build\",\"ANDROID_HOME\" -> android_home,\"HOME\" -> userhome))\n",
    "System.setProperty(\"user.dir\", s\"${System.getProperty(\"user.home\")}/Documents/source/bounder/notebooks/ossExp/data\");\n",
    "val expDir = File(System.getProperty(\"user.dir\"))\n",
    "val baseDir = File(System.getProperty(\"user.home\")) / \"Documents/data/ossExperiment\"\n",
    "val benchmarkList = \"benchmark-list.txt\""
   ]
  },
  {
   "cell_type": "code",
   "execution_count": null,
   "metadata": {
    "tags": []
   },
   "outputs": [],
   "source": [
    "// Create json files for config runs\n",
    "def createConfigsFromList():Unit = {\n",
    "    val disallowSpecs = new SpecSpace(Set(), disallowSpecs = Set(\n",
    "        FragmentGetActivityNullSpec.getActivityNull,\n",
    "        SAsyncTask.disallowDoubleExecute,\n",
    "        SDialog.disallowDismiss\n",
    "        ))\n",
    "    val mode = Driver.SampleDeref\n",
    "    val baseConfig = RunConfig(limit = -1)\n",
    "    case class ApkSample(apk:String, pkg:String, outDir:File)\n",
    "    val apkSamples = (expDir / \"..\" / benchmarkList)\n",
    "        .contentAsString\n",
    "        .split(\"\\n\").toList.map{v => \n",
    "            val pkg = v.split(\":\")(1)\n",
    "            println(s\"package: $pkg\")\n",
    "            val apk = v.split(\":\")(0)\n",
    "            val apkDirCfg = apk.toString.replace(baseDir.toString,\"${baseDir}\")\n",
    "            val outDirCfg = \"${baseDirOut}/\" + pkg\n",
    "            val outDir = expDir / pkg\n",
    "//             val getSample = outDir / \"getSample.json\"\n",
    "//             if(getSample.exists())getSample.delete()\n",
    "            // val samples = if(pkg.contains(\"lyonbros\")) 90 else 200\n",
    "            val cfg = baseConfig.copy(apkPath=apkDirCfg, outFolder=Some(outDirCfg), specSet = PickleSpec.mk(disallowSpecs)) // 5 dereference samples per class\n",
    "//             getSample.append(write[RunConfig](cfg))\n",
    "            outDir.createIfNotExists(true)\n",
    "            // sample dereference locations\n",
    "            // SampleDeref for choosing subset of samples, MakeAllDeref for getting all of them\n",
    "            Action(Driver.FindCallins, baseDirOut=Some(expDir.toString), baseDirApk = Some(baseDir.toString), // b u options\n",
    "                  cfg, filter=Some(pkg))\n",
    "        }\n",
    "    apkSamples.foreach{action => \n",
    "        println(s\"action: ${action}\")\n",
    "        Driver.runAction(action)\n",
    "        val f = File(s\"data/${action.filter.get}.cfg\")\n",
    "        f.overwrite(write[RunConfig](action.config))\n",
    "    }\n",
    "}\n",
    "createConfigsFromList()"
   ]
  },
  {
   "cell_type": "code",
   "execution_count": null,
   "metadata": {},
   "outputs": [],
   "source": [
    "expDir"
   ]
  },
  {
   "cell_type": "code",
   "execution_count": null,
   "metadata": {},
   "outputs": [],
   "source": [
    "// val f = File(\"data/alljson_whydoesthisincrease.txt\")\n",
    "// val existing = f.contentAsString.split('\\n')\n",
    "// val globed = expDir.glob(\"**/*.json\").toList\n",
    "\n",
    "// globed.find{g => !existing.contains(g.toString.split(\"/data/\")(1))}\n",
    "expDir.glob(\"**/*.json\").toList.size\n"
   ]
  },
  {
   "cell_type": "code",
   "execution_count": null,
   "metadata": {},
   "outputs": [],
   "source": [
    "// Utilities for manipulating run configs\n",
    "\n",
    "def splitConfig(cfg:File, maxJobsPerFile:Int) = {\n",
    "    val cfgContent = read[RunConfig](cfg.contentAsString)\n",
    "    val parentDir = cfg.parent\n",
    "    val cfgName = cfg.name.split('.')(0)\n",
    "    assert(cfg.name.split('.')(1) == \"json\", \"Input should have ext json\")\n",
    "    val newCfg = cfgContent.initialQuery.grouped(maxJobsPerFile).zipWithIndex\n",
    "    \n",
    "    newCfg.foreach{\n",
    "        case (iqs,ind) => \n",
    "            val outfname = s\"${cfgName}_${ind}.json\"\n",
    "            println(s\"index: ${ind} size: ${cfg.size} fname: ${outfname}\")\n",
    "            val outf = parentDir / outfname\n",
    "            outf.overwrite(write[RunConfig](cfgContent.copy(initialQuery=iqs)))\n",
    "    }\n",
    "}\n",
    "\n",
    "// update timeout in run config\n",
    "def setTimeout(nt:Int) = {\n",
    "    val configs = expDir.glob(\"**/*.json\").toList\n",
    "    assert(configs.forall(f => !f.toString.contains(\".ipynb_checkpoints\")), \"Delete dumb jupyter backup file\")\n",
    "    configs.foreach{cfgf =>\n",
    "        val cfg = read[RunConfig](cfgf.contentAsString)\n",
    "        cfgf.delete()\n",
    "        cfgf.overwrite(write[RunConfig](cfg.copy(timeLimit=nt)))\n",
    "    }\n",
    "//     write[RunConfig](.map{c => read[RunConfig](c.contentAsString)}.toList.head.copy(timeLimit = 180))\n",
    "}\n",
    "//splitConfig(File(\"/Users/shawnmeier/Documents/source/bounder/experiments/5fdroid5dev_sampderef/com.lyonbros/sample.json\"),5)\n",
    "\n",
    "val db = new ExperimentsDb(Some(s\"${userhome}/Documents/source/bounder/soot_hopper/target/scala-2.13/soot_hopper-assembly-0.1.jar\"))\n",
    "case class Count(n:Int)\n",
    "case class StrRes(s:String)\n",
    "implicit val getCountResult = GetResult(r => Count(r.<<))\n",
    "implicit val getStrResult = GetResult(r => StrRes(r.<<))\n",
    "\n",
    "def pauseJobs() = {\n",
    "    val pauseJobsQ = sql\"\"\"update jobs set status='paused' where status='new';\"\"\"\n",
    "    Await.result(db.db.run(pauseJobsQ.as[StrRes]), 30 seconds)\n",
    "}\n",
    "def resumeJobs() = {\n",
    "    val pauseJobsQ = sql\"\"\"update jobs set status='new' where status='paused';\"\"\"\n",
    "    Await.result(db.db.run(pauseJobsQ.as[StrRes]), 30 seconds)\n",
    "}\n",
    "def clearInputs() = {\n",
    "    val clearInputsQ = sql\"\"\"delete from apks where apkname like 'jar_%' or apkname like 'spec_%';\"\"\"\n",
    "    Await.result(db.db.run(clearInputsQ.as[StrRes]), 30 seconds)\n",
    "    val clearInputsTableQ = sql\"\"\"delete from inputs;\"\"\"\n",
    "    Await.result(db.db.run(clearInputsTableQ.as[StrRes]), 30 seconds)\n",
    "}\n",
    "def resetJobs() = {\n",
    "    val resetJobsQ = sql\"\"\"update jobs set inputid=4, stderr='',stdout='',owner='',started=NULL,ended=NULL,status='new';\"\"\"\n",
    "    Await.result(db.db.run(resetJobsQ.as[StrRes]), 30 seconds)\n",
    "}\n",
    "def clearTable(tableName:String) = {\n",
    "    val clear = sql\"\"\"delete from #$tableName ;\"\"\"\n",
    "    Await.result(db.db.run(clear.as[StrRes]), 30 seconds)\n",
    "}\n",
    "def clearApks() = {\n",
    "    \n",
    "}\n",
    "def clearResults(){\n",
    "    val clearResults = sql\"\"\"delete from results; delete from resultdata;\"\"\"\n",
    "    Await.result(db.db.run(clearResults.as[StrRes]), 30 seconds)\n",
    "}\n",
    "def clearAll(){\n",
    "    clearInputs()\n",
    "    clearResults()\n",
    "    clearTable(\"jobs\")\n",
    "    clearTable(\"apks\")\n",
    "}\n",
    "\n",
    "//clearResults()\n",
    "//pauseJobs()\n",
    "//clearAll()\n",
    "//resumeJobs()\n",
    "//Await.result(db.db.run(sql\"\"\"select count(*) from results;\"\"\".as[Count]), 30 seconds)"
   ]
  },
  {
   "cell_type": "markdown",
   "metadata": {
    "tags": []
   },
   "source": [
    "Upload needed files to database\n",
    "-------------------------------"
   ]
  },
  {
   "cell_type": "code",
   "execution_count": null,
   "metadata": {},
   "outputs": [],
   "source": [
    "clearAll()\n",
    "setTimeout(30)"
   ]
  },
  {
   "cell_type": "code",
   "execution_count": null,
   "metadata": {
    "tags": []
   },
   "outputs": [],
   "source": [
    "\n",
    "val jarPath = File(s\"${userhome}/Documents/source/bounder/soot_hopper/target/scala-2.13/soot_hopper-assembly-0.1.jar\")\n",
    "val emptySpecPath = File(s\"${userhome}/Documents/source/bounder/soot_hopper/specs/emptySpec.txt\")\n",
    "println(jarPath)\n",
    "println(emptySpecPath)\n",
    "// Upload empty spec run config and bounder jar\n",
    "val emptyCfg = db.createConfig(\n",
    "    emptySpecPath,\n",
    "    jarPath,\n",
    "    \"Empty spec set\"\n",
    ")\n",
    "\n",
    "// Upload data of APK files to database for experiments\n",
    "def uploadApks() = {\n",
    "    def appList = (expDir / benchmarkList).contentAsString.split(\"\\n\")\n",
    "        .map{v => \n",
    "            val spl = v.split(\":\")\n",
    "            val name = spl(0).replace(baseDir.toString,\"\")\n",
    "            val path = spl(0)\n",
    "            (name,path)\n",
    "        }\n",
    "    appList.foreach(a => db.uploadApk(a._1,File(a._2)))\n",
    "}\n",
    "uploadApks()\n",
    "\n",
    "// push experiment .json files to database\n",
    "def pushExp() = {\n",
    "    val experiments = expDir.glob(\"**/*.json\").toList\n",
    "    println(experiments.size)\n",
    "    experiments.foreach(v => db.createJob(v, Some(\"empty1\"), emptyCfg))\n",
    "}\n",
    "pushExp()"
   ]
  },
  {
   "cell_type": "markdown",
   "metadata": {
    "tags": []
   },
   "source": [
    "Bulk Job Tasks\n",
    "=============="
   ]
  },
  {
   "cell_type": "code",
   "execution_count": null,
   "metadata": {},
   "outputs": [],
   "source": [
    "//db.downloadApk(\"/com.gpl.rpg.AndorsTrail/0.7.5/apk/com.gpl.rpg.AndorsTrail_46.apk\", File(\"/Users/shawnmeier/Desktop/testDownload.apk\"))\n",
    "//clearAll()\n",
    "//resumeJobs()\n",
    "//clearResults()\n",
    "//pauseJobs()"
   ]
  },
  {
   "cell_type": "code",
   "execution_count": null,
   "metadata": {},
   "outputs": [],
   "source": []
  }
 ],
 "metadata": {
  "kernelspec": {
   "display_name": "Scala",
   "language": "scala",
   "name": "scala"
  },
  "language_info": {
   "codemirror_mode": "text/x-scala",
   "file_extension": ".scala",
   "mimetype": "text/x-scala",
   "name": "scala",
   "nbconvert_exporter": "script",
   "version": "2.13.2"
  }
 },
 "nbformat": 4,
 "nbformat_minor": 4
}
