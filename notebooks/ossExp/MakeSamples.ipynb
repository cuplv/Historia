{
 "cells": [
  {
   "cell_type": "code",
   "execution_count": 1,
   "metadata": {
    "tags": []
   },
   "outputs": [
    {
     "data": {
      "text/plain": [
       "\u001b[36mjniPath\u001b[39m: \u001b[32mString\u001b[39m = \u001b[32m\"/Users/shawnmeier/software/z3/build\"\u001b[39m\n",
       "\u001b[36mnewPath\u001b[39m: \u001b[32mArray\u001b[39m[\u001b[32mString\u001b[39m] = \u001b[33mArray\u001b[39m(\n",
       "  \u001b[32m\"/Users/shawnmeier/software/z3/build\"\u001b[39m,\n",
       "  \u001b[32m\"/Users/shawnmeier/Library/Java/Extensions\"\u001b[39m,\n",
       "  \u001b[32m\"/Library/Java/Extensions\"\u001b[39m,\n",
       "  \u001b[32m\"/Network/Library/Java/Extensions\"\u001b[39m,\n",
       "  \u001b[32m\"/System/Library/Java/Extensions\"\u001b[39m,\n",
       "  \u001b[32m\"/usr/lib/java\"\u001b[39m,\n",
       "  \u001b[32m\".\"\u001b[39m\n",
       ")\n",
       "\u001b[36mres0_2\u001b[39m: \u001b[32mString\u001b[39m = \u001b[32m\"/Users/shawnmeier/Library/Java/Extensions:/Library/Java/Extensions:/Network/Library/Java/Extensions:/System/Library/Java/Extensions:/usr/lib/java:.\"\u001b[39m\n",
       "\u001b[36msysPathsField\u001b[39m: \u001b[32mjava\u001b[39m.\u001b[32mlang\u001b[39m.\u001b[32mreflect\u001b[39m.\u001b[32mField\u001b[39m = private static java.lang.String[] java.lang.ClassLoader.sys_paths\n",
       "\u001b[36mpath\u001b[39m: \u001b[32mString\u001b[39m = \u001b[32m\"/Users/shawnmeier/Documents/source/bounder/soot_hopper/target/scala-2.13/soot_hopper-assembly-0.1.jar\"\u001b[39m\n",
       "\u001b[32mimport \u001b[39m\u001b[36m$ivy.$                                          \n",
       "\u001b[39m\n",
       "\u001b[32mimport \u001b[39m\u001b[36m$ivy.$                                         \n",
       "\n",
       "\u001b[39m\n",
       "\u001b[32mimport \u001b[39m\u001b[36m$ivy.$                             \n",
       "// import $ivy.`edu.colorado.plv.bounder:soot_hopper_2.13:0.1`\n",
       "\n",
       "\u001b[39m\n",
       "\u001b[32mimport \u001b[39m\u001b[36mplotly._, element._, layout._, Plotly._\n",
       "\u001b[39m\n",
       "\u001b[32mimport \u001b[39m\u001b[36mujson.Value\n",
       "\u001b[39m\n",
       "\u001b[32mimport \u001b[39m\u001b[36msys.process._\n",
       "\u001b[39m"
      ]
     },
     "execution_count": 1,
     "metadata": {},
     "output_type": "execute_result"
    }
   ],
   "source": [
    "// hacky way to set java path since macos breaks this\n",
    "val jniPath = \"/Users/shawnmeier/software/z3/build\"\n",
    "val newPath = Array(jniPath) ++  System.getProperty(\"java.library.path\").split(\":\")\n",
    "System.setProperty(\"java.library.path\",newPath.distinct.mkString(\":\"))\n",
    "//set sys_paths to null so that java.library.path will be reevaluated next time it is needed\n",
    "val sysPathsField = classOf[ClassLoader].getDeclaredField(\"sys_paths\");\n",
    "sysPathsField.setAccessible(true);\n",
    "sysPathsField.set(null, null);\n",
    "\n",
    "val path = \"/Users/shawnmeier/Documents/source/bounder/soot_hopper/target/scala-2.13/soot_hopper-assembly-0.1.jar\"\n",
    "//unzip -p jdiff.jar META-INF/MANIFEST.MF\n",
    "interp.load.cp(os.Path(path))\n",
    "\n",
    "import $ivy.`org.plotly-scala:plotly-almond_2.13:0.8.2`\n",
    "import $ivy.`com.github.pathikrit::better-files:3.9.1`\n",
    "\n",
    "import $ivy.`com.lihaoyi:ujson_2.13:1.3.8`\n",
    "// import $ivy.`edu.colorado.plv.bounder:soot_hopper_2.13:0.1`\n",
    "\n",
    "import plotly._, element._, layout._, Plotly._\n",
    "import ujson.Value\n",
    "import sys.process._\n"
   ]
  },
  {
   "cell_type": "code",
   "execution_count": 2,
   "metadata": {
    "tags": []
   },
   "outputs": [
    {
     "name": "stdout",
     "output_type": "stream",
     "text": [
      "java.library.path set to: /Users/shawnmeier/software/z3/build:/Users/shawnmeier/Library/Java/Extensions:/Library/Java/Extensions:/Network/Library/Java/Extensions:/System/Library/Java/Extensions:/usr/lib/java:.\n"
     ]
    },
    {
     "data": {
      "text/plain": [
       "\u001b[32mimport \u001b[39m\u001b[36mbetter.files._\n",
       "\n",
       "\u001b[39m\n",
       "\u001b[32mimport \u001b[39m\u001b[36mscala.util.Random\n",
       "\u001b[39m\n",
       "\u001b[32mimport \u001b[39m\u001b[36medu.colorado.plv.bounder.Driver\n",
       "\u001b[39m\n",
       "\u001b[32mimport \u001b[39m\u001b[36medu.colorado.plv.bounder.Action\n",
       "\u001b[39m\n",
       "\u001b[32mimport \u001b[39m\u001b[36medu.colorado.plv.bounder.RunConfig\n",
       "\u001b[39m\n",
       "\u001b[32mimport \u001b[39m\u001b[36mupickle.default.read\n",
       "\u001b[39m\n",
       "\u001b[32mimport \u001b[39m\u001b[36mupickle.default.write\n",
       "\u001b[39m\n",
       "\u001b[32mimport \u001b[39m\u001b[36mscala.collection.parallel.CollectionConverters.{ImmutableSetIsParallelizable, IterableIsParallelizable}\n",
       "\u001b[39m\n",
       "\u001b[32mimport \u001b[39m\u001b[36medu.colorado.plv.bounder.ExperimentsDb\n",
       "\u001b[39m\n",
       "\u001b[32mimport \u001b[39m\u001b[36medu.colorado.plv.bounder.BounderUtil\n",
       "\u001b[39m\n",
       "\u001b[32mimport \u001b[39m\u001b[36mscala.concurrent.duration._\n",
       "\u001b[39m\n",
       "\u001b[32mimport \u001b[39m\u001b[36mscala.language.postfixOps\n",
       "\u001b[39m\n",
       "\u001b[32mimport \u001b[39m\u001b[36mslick.driver.H2Driver.api._\n",
       "\u001b[39m\n",
       "\u001b[32mimport \u001b[39m\u001b[36mslick.jdbc.GetResult\n",
       "\u001b[39m\n",
       "\u001b[32mimport \u001b[39m\u001b[36mslick.jdbc.SQLActionBuilder\n",
       "\u001b[39m\n",
       "\u001b[32mimport \u001b[39m\u001b[36mscala.concurrent.Await\n",
       "\u001b[39m"
      ]
     },
     "execution_count": 2,
     "metadata": {},
     "output_type": "execute_result"
    }
   ],
   "source": [
    "import better.files._\n",
    "\n",
    "import scala.util.Random\n",
    "import edu.colorado.plv.bounder.Driver\n",
    "import edu.colorado.plv.bounder.Action\n",
    "import edu.colorado.plv.bounder.RunConfig\n",
    "import upickle.default.read\n",
    "import upickle.default.write\n",
    "import scala.collection.parallel.CollectionConverters.{ImmutableSetIsParallelizable, IterableIsParallelizable}\n",
    "import edu.colorado.plv.bounder.ExperimentsDb\n",
    "import edu.colorado.plv.bounder.BounderUtil\n",
    "import scala.concurrent.duration._\n",
    "import scala.language.postfixOps\n",
    "import slick.driver.H2Driver.api._\n",
    "import slick.jdbc.GetResult\n",
    "import slick.jdbc.SQLActionBuilder\n",
    "import scala.concurrent.Await\n",
    "Driver.setZ3Path(\"/Users/shawnmeier/software/z3/build\")\n",
    "BounderUtil.setEnv(Map(\"DYLD_LIBRARY_PATH\" -> \"/Users/shawnmeier/software/z3/build\",\"ANDROID_HOME\" -> \"/Users/shawnmeier/Library/Android/sdk\",\"HOME\" -> \"/Users/shawnmeier\"))"
   ]
  },
  {
   "cell_type": "code",
   "execution_count": 3,
   "metadata": {},
   "outputs": [
    {
     "data": {
      "text/plain": [
       "\u001b[36mres2\u001b[39m: \u001b[32mString\u001b[39m = \u001b[32m\"/Users/shawnmeier\"\u001b[39m"
      ]
     },
     "execution_count": 3,
     "metadata": {},
     "output_type": "execute_result"
    }
   ],
   "source": [
    "System.getProperty(\"user.home\")"
   ]
  },
  {
   "cell_type": "code",
   "execution_count": 4,
   "metadata": {},
   "outputs": [
    {
     "data": {
      "text/plain": [
       "\u001b[36mres3_0\u001b[39m: \u001b[32mString\u001b[39m = \u001b[32m\"/Users/shawnmeier/Documents/source/bounder/notebooks/ossExp\"\u001b[39m\n",
       "\u001b[36mexpDir\u001b[39m: \u001b[32mFile\u001b[39m = /Users/shawnmeier/Documents/source/bounder/notebooks/ossExp/data\n",
       "\u001b[36mbaseDir\u001b[39m: \u001b[32mFile\u001b[39m = /Users/shawnmeier/Documents/data/ossExperiment"
      ]
     },
     "execution_count": 4,
     "metadata": {},
     "output_type": "execute_result"
    }
   ],
   "source": [
    "System.setProperty(\"user.dir\", s\"${System.getProperty(\"user.home\")}/Documents/source/bounder/notebooks/ossExp/data\");\n",
    "val expDir = File(System.getProperty(\"user.dir\"))\n",
    "val baseDir = File(System.getProperty(\"user.home\")) / \"Documents/data/ossExperiment\""
   ]
  },
  {
   "cell_type": "code",
   "execution_count": 5,
   "metadata": {
    "tags": []
   },
   "outputs": [
    {
     "name": "stdout",
     "output_type": "stream",
     "text": [
      "package: de.danoeh.antennapod\n",
      "package: org.connectbot\n",
      "package: name.boyle.chris\n",
      "action: Action(SampleDeref,Some(/Users/shawnmeier/Documents/source/bounder/notebooks/ossExp/data),Some(/Users/shawnmeier/Documents/data/ossExperiment),RunConfig(${baseDir}/Antennapod/app/build/outputs/apk/free/debug/app-free-debug.apk,Some(${baseDirOut}/de.danoeh.antennapod),None,TopSpecSet,List(),-1,90,,600,true,None),Some(de.danoeh.antennapod),None,MEM)\n",
      "java.library.path set to: /Users/shawnmeier/software/z3/build:/Users/shawnmeier/Library/Java/Extensions:/Library/Java/Extensions:/Network/Library/Java/Extensions:/System/Library/Java/Extensions:/usr/lib/java:.\n",
      "sampels: 0\n",
      "sampels: 10\n",
      "sampels: 20\n",
      "sampels: 30\n",
      "sampels: 40\n",
      "sampels: 50\n",
      "sampels: 60\n",
      "sampels: 70\n",
      "sampels: 80\n",
      "action: Action(SampleDeref,Some(/Users/shawnmeier/Documents/source/bounder/notebooks/ossExp/data),Some(/Users/shawnmeier/Documents/data/ossExperiment),RunConfig(${baseDir}/connectbot/app/build/outputs/apk/google/debug/app-google-debug.apk,Some(${baseDirOut}/org.connectbot),None,TopSpecSet,List(),-1,90,,600,true,None),Some(org.connectbot),None,MEM)\n",
      "java.library.path set to: /Users/shawnmeier/software/z3/build:/Users/shawnmeier/Library/Java/Extensions:/Library/Java/Extensions:/Network/Library/Java/Extensions:/System/Library/Java/Extensions:/usr/lib/java:.\n",
      "sampels: 0\n",
      "sampels: 10\n",
      "sampels: 20\n",
      "sampels: 30\n",
      "sampels: 40\n",
      "sampels: 50\n",
      "sampels: 60\n",
      "sampels: 70\n",
      "sampels: 80\n",
      "action: Action(SampleDeref,Some(/Users/shawnmeier/Documents/source/bounder/notebooks/ossExp/data),Some(/Users/shawnmeier/Documents/data/ossExperiment),RunConfig(${baseDir}/sgtpuzzles/app/build/outputs/apk/debug/app-debug.apk,Some(${baseDirOut}/name.boyle.chris),None,TopSpecSet,List(),-1,90,,600,true,None),Some(name.boyle.chris),None,MEM)\n",
      "java.library.path set to: /Users/shawnmeier/software/z3/build:/Users/shawnmeier/Library/Java/Extensions:/Library/Java/Extensions:/Network/Library/Java/Extensions:/System/Library/Java/Extensions:/usr/lib/java:.\n",
      "sampels: 0\n",
      "sampels: 10\n",
      "sampels: 20\n",
      "sampels: 30\n",
      "sampels: 40\n",
      "sampels: 50\n",
      "sampels: 60\n",
      "sampels: 70\n",
      "sampels: 80\n"
     ]
    },
    {
     "data": {
      "text/plain": [
       "defined \u001b[32mfunction\u001b[39m \u001b[36mcreateConfigsFromList\u001b[39m"
      ]
     },
     "execution_count": 5,
     "metadata": {},
     "output_type": "execute_result"
    }
   ],
   "source": [
    "// Create json files for config runs\n",
    "def createConfigsFromList():Unit = {\n",
    "    val mode = Driver.SampleDeref\n",
    "    val baseConfig = RunConfig(limit = -1, samples = 50)\n",
    "    case class ApkSample(apk:String, pkg:String, outDir:File)\n",
    "    val apkSamples = (expDir / \"benchmark-list.txt\")\n",
    "        .contentAsString\n",
    "        .split(\"\\n\")map{v => \n",
    "            val pkg = v.split(\":\")(1)\n",
    "            println(s\"package: $pkg\")\n",
    "            val apk = v.split(\":\")(0)\n",
    "            val apkDirCfg = apk.toString.replace(baseDir.toString,\"${baseDir}\")\n",
    "            val outDirCfg = \"${baseDirOut}/\" + pkg\n",
    "            val outDir = expDir / pkg\n",
    "//             val getSample = outDir / \"getSample.json\"\n",
    "//             if(getSample.exists())getSample.delete()\n",
    "            // val samples = if(pkg.contains(\"lyonbros\")) 90 else 200\n",
    "            val cfg = baseConfig.copy(apkPath=apkDirCfg, outFolder=Some(outDirCfg), samples=90) // 5 dereference samples per class\n",
    "//             getSample.append(write[RunConfig](cfg))\n",
    "            outDir.createIfNotExists(true)\n",
    "            // sample dereference locations\n",
    "            Action(Driver.SampleDeref, baseDirOut=Some(expDir.toString), baseDirApk = Some(baseDir.toString), // b u options\n",
    "                  cfg, filter=Some(pkg))\n",
    "        }\n",
    "    apkSamples.foreach{action => \n",
    "        println(s\"action: ${action}\")\n",
    "        Driver.runAction(action)\n",
    "        val f = File(s\"data/${action.filter.get}.cfg\")\n",
    "        f.overwrite(write[RunConfig](action.config))\n",
    "    }\n",
    "}\n",
    "createConfigsFromList()"
   ]
  },
  {
   "cell_type": "code",
   "execution_count": 6,
   "metadata": {},
   "outputs": [
    {
     "data": {
      "text/plain": [
       "\u001b[36mres5\u001b[39m: \u001b[32mInt\u001b[39m = \u001b[32m3\u001b[39m"
      ]
     },
     "execution_count": 6,
     "metadata": {},
     "output_type": "execute_result"
    }
   ],
   "source": [
    "expDir.glob(\"**/*.json\").toList.size\n"
   ]
  },
  {
   "cell_type": "markdown",
   "metadata": {
    "tags": []
   },
   "source": [
    "Upload needed files to database\n",
    "-------------------------------"
   ]
  },
  {
   "cell_type": "code",
   "execution_count": 7,
   "metadata": {
    "tags": []
   },
   "outputs": [
    {
     "name": "stdout",
     "output_type": "stream",
     "text": [
      "Initializing database\n"
     ]
    },
    {
     "data": {
      "text/plain": [
       "\u001b[36mdb\u001b[39m: \u001b[32mExperimentsDb\u001b[39m = edu.colorado.plv.bounder.ExperimentsDb@7e5e193c"
      ]
     },
     "execution_count": 7,
     "metadata": {},
     "output_type": "execute_result"
    }
   ],
   "source": [
    "val db = new ExperimentsDb(Some(\"/Users/shawnmeier/Documents/source/bounder/soot_hopper/target/scala-2.13/soot_hopper-assembly-0.1.jar\"))"
   ]
  },
  {
   "cell_type": "code",
   "execution_count": 38,
   "metadata": {
    "collapsed": true,
    "jupyter": {
     "outputs_hidden": true
    },
    "tags": []
   },
   "outputs": [
    {
     "data": {
      "text/plain": [
       "defined \u001b[32mfunction\u001b[39m \u001b[36muploadApks\u001b[39m"
      ]
     },
     "execution_count": 38,
     "metadata": {},
     "output_type": "execute_result"
    }
   ],
   "source": [
    "// Upload data of APK files to database for experiments\n",
    "def uploadApks() = {\n",
    "    def appList = (expDir / \"appSample.txt\").contentAsString.split(\"\\n\")\n",
    "        .map{v => \n",
    "            val spl = v.split(\":\")\n",
    "            val name = spl(0).replace(baseDir.toString,\"\")\n",
    "            val path = spl(0)\n",
    "            (name,path)\n",
    "        }\n",
    "    appList.foreach(a => db.uploadApk(a._1,File(a._2)))\n",
    "}\n",
    "uploadApks()"
   ]
  },
  {
   "cell_type": "code",
   "execution_count": null,
   "metadata": {},
   "outputs": [],
   "source": []
  },
  {
   "cell_type": "code",
   "execution_count": null,
   "metadata": {},
   "outputs": [],
   "source": []
  }
 ],
 "metadata": {
  "kernelspec": {
   "display_name": "Scala",
   "language": "scala",
   "name": "scala"
  },
  "language_info": {
   "codemirror_mode": "text/x-scala",
   "file_extension": ".scala",
   "mimetype": "text/x-scala",
   "name": "scala",
   "nbconvert_exporter": "script",
   "version": "2.13.2"
  }
 },
 "nbformat": 4,
 "nbformat_minor": 4
}
