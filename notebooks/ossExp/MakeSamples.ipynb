{
 "cells": [
  {
   "cell_type": "code",
   "execution_count": 1,
   "metadata": {
    "tags": []
   },
   "outputs": [
    {
     "data": {
      "text/plain": [
       "\u001b[36muserhome\u001b[39m: \u001b[32mString\u001b[39m = \u001b[32m\"/home/s\"\u001b[39m\n",
       "\u001b[36mjniPath\u001b[39m: \u001b[32mString\u001b[39m = \u001b[32m\"/home/s/software/z3/build\"\u001b[39m\n",
       "\u001b[36mnewPath\u001b[39m: \u001b[32mArray\u001b[39m[\u001b[32mString\u001b[39m] = \u001b[33mArray\u001b[39m(\n",
       "  \u001b[32m\"/home/s/software/z3/build\"\u001b[39m,\n",
       "  \u001b[32m\"\"\u001b[39m,\n",
       "  \u001b[32m\"/home/s/software/z3/build\"\u001b[39m,\n",
       "  \u001b[32m\"/home/s/software/z3/build\"\u001b[39m,\n",
       "  \u001b[32m\"/usr/java/packages/lib/amd64\"\u001b[39m,\n",
       "  \u001b[32m\"/usr/lib/x86_64-linux-gnu/jni\"\u001b[39m,\n",
       "  \u001b[32m\"/lib/x86_64-linux-gnu\"\u001b[39m,\n",
       "  \u001b[32m\"/usr/lib/x86_64-linux-gnu\"\u001b[39m,\n",
       "  \u001b[32m\"/usr/lib/jni\"\u001b[39m,\n",
       "  \u001b[32m\"/lib\"\u001b[39m,\n",
       "  \u001b[32m\"/usr/lib\"\u001b[39m\n",
       ")\n",
       "\u001b[36mres0_3\u001b[39m: \u001b[32mString\u001b[39m = \u001b[32m\":/home/s/software/z3/build:/home/s/software/z3/build:/usr/java/packages/lib/amd64:/usr/lib/x86_64-linux-gnu/jni:/lib/x86_64-linux-gnu:/usr/lib/x86_64-linux-gnu:/usr/lib/jni:/lib:/usr/lib\"\u001b[39m\n",
       "\u001b[36msysPathsField\u001b[39m: \u001b[32mjava\u001b[39m.\u001b[32mlang\u001b[39m.\u001b[32mreflect\u001b[39m.\u001b[32mField\u001b[39m = private static java.lang.String[] java.lang.ClassLoader.sys_paths\n",
       "\u001b[36mpath\u001b[39m: \u001b[32mString\u001b[39m = \u001b[32m\"/home/s/Documents/source/bounder/soot_hopper/target/scala-2.13/soot_hopper-assembly-0.1.jar\"\u001b[39m\n",
       "\u001b[32mimport \u001b[39m\u001b[36m$ivy.$                                          \n",
       "\u001b[39m\n",
       "\u001b[32mimport \u001b[39m\u001b[36m$ivy.$                                         \n",
       "\n",
       "\u001b[39m\n",
       "\u001b[32mimport \u001b[39m\u001b[36m$ivy.$                             \n",
       "// import $ivy.`edu.colorado.plv.bounder:soot_hopper_2.13:0.1`\n",
       "\n",
       "\u001b[39m\n",
       "\u001b[32mimport \u001b[39m\u001b[36mplotly._, element._, layout._, Plotly._\n",
       "\u001b[39m\n",
       "\u001b[32mimport \u001b[39m\u001b[36mujson.Value\n",
       "\u001b[39m\n",
       "\u001b[32mimport \u001b[39m\u001b[36msys.process._\n",
       "\u001b[39m"
      ]
     },
     "execution_count": 1,
     "metadata": {},
     "output_type": "execute_result"
    }
   ],
   "source": [
    "// hacky way to set java path since macos breaks this\n",
    "val userhome = System.getProperty(\"user.home\")\n",
    "val jniPath = s\"${userhome}/software/z3/build\"\n",
    "val newPath = Array(jniPath) ++  System.getProperty(\"java.library.path\").split(\":\")\n",
    "System.setProperty(\"java.library.path\",newPath.distinct.mkString(\":\"))\n",
    "//set sys_paths to null so that java.library.path will be reevaluated next time it is needed\n",
    "val sysPathsField = classOf[ClassLoader].getDeclaredField(\"sys_paths\");\n",
    "sysPathsField.setAccessible(true);\n",
    "sysPathsField.set(null, null);\n",
    "// note: make sim link between bounder and Bounder due to macos case sensitivity before hand\n",
    "val path = s\"${userhome}/Documents/source/bounder/soot_hopper/target/scala-2.13/soot_hopper-assembly-0.1.jar\"\n",
    "//unzip -p jdiff.jar META-INF/MANIFEST.MF\n",
    "interp.load.cp(os.Path(path))\n",
    "\n",
    "import $ivy.`org.plotly-scala:plotly-almond_2.13:0.8.2`\n",
    "import $ivy.`com.github.pathikrit::better-files:3.9.1`\n",
    "\n",
    "import $ivy.`com.lihaoyi:ujson_2.13:1.3.8`\n",
    "// import $ivy.`edu.colorado.plv.bounder:soot_hopper_2.13:0.1`\n",
    "\n",
    "import plotly._, element._, layout._, Plotly._\n",
    "import ujson.Value\n",
    "import sys.process._\n"
   ]
  },
  {
   "cell_type": "code",
   "execution_count": 2,
   "metadata": {
    "tags": []
   },
   "outputs": [
    {
     "name": "stdout",
     "output_type": "stream",
     "text": [
      "java.library.path set to: /home/s/software/z3/build::/usr/java/packages/lib/amd64:/usr/lib/x86_64-linux-gnu/jni:/lib/x86_64-linux-gnu:/usr/lib/x86_64-linux-gnu:/usr/lib/jni:/lib:/usr/lib\n"
     ]
    },
    {
     "data": {
      "text/html": [
       "<div class=\"jp-RenderedText\">\n",
       "<pre><code><span style=\"color: rgb(0, 187, 0)\"><span class=\"ansi-green-fg\">import </span></span><span style=\"color: rgb(0, 187, 187)\"><span class=\"ansi-cyan-fg\">better.files._\n",
       "\n",
       "</span></span>\n",
       "<span style=\"color: rgb(0, 187, 0)\"><span class=\"ansi-green-fg\">import </span></span><span style=\"color: rgb(0, 187, 187)\"><span class=\"ansi-cyan-fg\">scala.util.Random\n",
       "</span></span>\n",
       "<span style=\"color: rgb(0, 187, 0)\"><span class=\"ansi-green-fg\">import </span></span><span style=\"color: rgb(0, 187, 187)\"><span class=\"ansi-cyan-fg\">edu.colorado.plv.bounder.{Driver,PickleSpec,Action,RunConfig,ExpTag}\n",
       "</span></span>\n",
       "<span style=\"color: rgb(0, 187, 0)\"><span class=\"ansi-green-fg\">import </span></span><span style=\"color: rgb(0, 187, 187)\"><span class=\"ansi-cyan-fg\">upickle.default.read\n",
       "</span></span>\n",
       "<span style=\"color: rgb(0, 187, 0)\"><span class=\"ansi-green-fg\">import </span></span><span style=\"color: rgb(0, 187, 187)\"><span class=\"ansi-cyan-fg\">upickle.default.write\n",
       "</span></span>\n",
       "<span style=\"color: rgb(0, 187, 0)\"><span class=\"ansi-green-fg\">import </span></span><span style=\"color: rgb(0, 187, 187)\"><span class=\"ansi-cyan-fg\">scala.collection.parallel.CollectionConverters.{ImmutableSetIsParallelizable, IterableIsParallelizable}\n",
       "</span></span>\n",
       "<span style=\"color: rgb(0, 187, 0)\"><span class=\"ansi-green-fg\">import </span></span><span style=\"color: rgb(0, 187, 187)\"><span class=\"ansi-cyan-fg\">edu.colorado.plv.bounder.{ExperimentsDb,BounderUtil}\n",
       "</span></span>\n",
       "<span style=\"color: rgb(0, 187, 0)\"><span class=\"ansi-green-fg\">import </span></span><span style=\"color: rgb(0, 187, 187)\"><span class=\"ansi-cyan-fg\">scala.concurrent.duration._\n",
       "</span></span>\n",
       "<span style=\"color: rgb(0, 187, 0)\"><span class=\"ansi-green-fg\">import </span></span><span style=\"color: rgb(0, 187, 187)\"><span class=\"ansi-cyan-fg\">scala.language.postfixOps\n",
       "</span></span>\n",
       "<span style=\"color: rgb(0, 187, 0)\"><span class=\"ansi-green-fg\">import </span></span><span style=\"color: rgb(0, 187, 187)\"><span class=\"ansi-cyan-fg\">slick.driver.H2Driver.api._\n",
       "</span></span>\n",
       "<span style=\"color: rgb(0, 187, 0)\"><span class=\"ansi-green-fg\">import </span></span><span style=\"color: rgb(0, 187, 187)\"><span class=\"ansi-cyan-fg\">slick.jdbc.{GetResult,SQLActionBuilder}\n",
       "</span></span>\n",
       "<span style=\"color: rgb(0, 187, 0)\"><span class=\"ansi-green-fg\">import </span></span><span style=\"color: rgb(0, 187, 187)\"><span class=\"ansi-cyan-fg\">scala.concurrent.Await\n",
       "</span></span>\n",
       "<span style=\"color: rgb(0, 187, 0)\"><span class=\"ansi-green-fg\">import </span></span><span style=\"color: rgb(0, 187, 187)\"><span class=\"ansi-cyan-fg\">edu.colorado.plv.bounder.lifestate.{SpecSpace,LifecycleSpec, SDialog, SAsyncTask,FragmentGetActivityNullSpec}\n",
       "</span></span>\n",
       "<span style=\"color: rgb(0, 187, 0)\"><span class=\"ansi-green-fg\">import </span></span><span style=\"color: rgb(0, 187, 187)\"><span class=\"ansi-cyan-fg\">scala.collection.parallel.CollectionConverters.IterableIsParallelizable\n",
       "\n",
       "\n",
       "\n",
       "</span></span>\n",
       "<span style=\"color: rgb(0, 187, 187)\"><span class=\"ansi-cyan-fg\">android_home_possible</span></span>: <span style=\"color: rgb(0, 187, 0)\"><span class=\"ansi-green-fg\">List</span></span>[<span style=\"color: rgb(0, 187, 0)\"><span class=\"ansi-green-fg\">String</span></span>] = <span style=\"color: yellow\"><span class=\"ansi-yellow-fg\">List</span></span>(\n",
       "  <span style=\"color: rgb(0, 187, 0)\"><span class=\"ansi-green-fg\">&quot;/home/s/Library/Android/sdk&quot;</span></span>,\n",
       "  <span style=\"color: rgb(0, 187, 0)\"><span class=\"ansi-green-fg\">&quot;/home/s/Android/Sdk&quot;</span></span>\n",
       ")\n",
       "<span style=\"color: rgb(0, 187, 187)\"><span class=\"ansi-cyan-fg\">android_home</span></span>: <span style=\"color: rgb(0, 187, 0)\"><span class=\"ansi-green-fg\">String</span></span> = <span style=\"color: rgb(0, 187, 0)\"><span class=\"ansi-green-fg\">&quot;/home/s/Android/Sdk&quot;</span></span>\n",
       "<span style=\"color: rgb(0, 187, 187)\"><span class=\"ansi-cyan-fg\">res1_18</span></span>: <span style=\"color: rgb(0, 187, 0)\"><span class=\"ansi-green-fg\">String</span></span> = <span style=\"color: rgb(0, 187, 0)\"><span class=\"ansi-green-fg\">&quot;/home/s/Documents/source/Bounder/notebooks/ossExp&quot;</span></span>\n",
       "<span style=\"color: rgb(0, 187, 187)\"><span class=\"ansi-cyan-fg\">expDir</span></span>: <span style=\"color: rgb(0, 187, 0)\"><span class=\"ansi-green-fg\">File</span></span> = /home/s/Documents/source/bounder/notebooks/ossExp/data\n",
       "<span style=\"color: rgb(0, 187, 187)\"><span class=\"ansi-cyan-fg\">baseDir</span></span>: <span style=\"color: rgb(0, 187, 0)\"><span class=\"ansi-green-fg\">File</span></span> = /home/s/Documents/data/historia_generalizability</code></pre>\n",
       "</div>"
      ],
      "text/plain": [
       "\u001b[32mimport \u001b[39m\u001b[36mbetter.files._\n",
       "\n",
       "\u001b[39m\n",
       "\u001b[32mimport \u001b[39m\u001b[36mscala.util.Random\n",
       "\u001b[39m\n",
       "\u001b[32mimport \u001b[39m\u001b[36medu.colorado.plv.bounder.{Driver,PickleSpec,Action,RunConfig,ExpTag}\n",
       "\u001b[39m\n",
       "\u001b[32mimport \u001b[39m\u001b[36mupickle.default.read\n",
       "\u001b[39m\n",
       "\u001b[32mimport \u001b[39m\u001b[36mupickle.default.write\n",
       "\u001b[39m\n",
       "\u001b[32mimport \u001b[39m\u001b[36mscala.collection.parallel.CollectionConverters.{ImmutableSetIsParallelizable, IterableIsParallelizable}\n",
       "\u001b[39m\n",
       "\u001b[32mimport \u001b[39m\u001b[36medu.colorado.plv.bounder.{ExperimentsDb,BounderUtil}\n",
       "\u001b[39m\n",
       "\u001b[32mimport \u001b[39m\u001b[36mscala.concurrent.duration._\n",
       "\u001b[39m\n",
       "\u001b[32mimport \u001b[39m\u001b[36mscala.language.postfixOps\n",
       "\u001b[39m\n",
       "\u001b[32mimport \u001b[39m\u001b[36mslick.driver.H2Driver.api._\n",
       "\u001b[39m\n",
       "\u001b[32mimport \u001b[39m\u001b[36mslick.jdbc.{GetResult,SQLActionBuilder}\n",
       "\u001b[39m\n",
       "\u001b[32mimport \u001b[39m\u001b[36mscala.concurrent.Await\n",
       "\u001b[39m\n",
       "\u001b[32mimport \u001b[39m\u001b[36medu.colorado.plv.bounder.lifestate.{SpecSpace,LifecycleSpec, SDialog, SAsyncTask,FragmentGetActivityNullSpec}\n",
       "\u001b[39m\n",
       "\u001b[32mimport \u001b[39m\u001b[36mscala.collection.parallel.CollectionConverters.IterableIsParallelizable\n",
       "\n",
       "\n",
       "\n",
       "\u001b[39m\n",
       "\u001b[36mandroid_home_possible\u001b[39m: \u001b[32mList\u001b[39m[\u001b[32mString\u001b[39m] = \u001b[33mList\u001b[39m(\n",
       "  \u001b[32m\"/home/s/Library/Android/sdk\"\u001b[39m,\n",
       "  \u001b[32m\"/home/s/Android/Sdk\"\u001b[39m\n",
       ")\n",
       "\u001b[36mandroid_home\u001b[39m: \u001b[32mString\u001b[39m = \u001b[32m\"/home/s/Android/Sdk\"\u001b[39m\n",
       "\u001b[36mres1_18\u001b[39m: \u001b[32mString\u001b[39m = \u001b[32m\"/home/s/Documents/source/Bounder/notebooks/ossExp\"\u001b[39m\n",
       "\u001b[36mexpDir\u001b[39m: \u001b[32mFile\u001b[39m = /home/s/Documents/source/bounder/notebooks/ossExp/data\n",
       "\u001b[36mbaseDir\u001b[39m: \u001b[32mFile\u001b[39m = /home/s/Documents/data/historia_generalizability"
      ]
     },
     "metadata": {},
     "output_type": "display_data"
    }
   ],
   "source": [
    "import better.files._\n",
    "\n",
    "import scala.util.Random\n",
    "import edu.colorado.plv.bounder.{Driver,PickleSpec,Action,RunConfig,ExpTag}\n",
    "import upickle.default.read\n",
    "import upickle.default.write\n",
    "import scala.collection.parallel.CollectionConverters.{ImmutableSetIsParallelizable, IterableIsParallelizable}\n",
    "import edu.colorado.plv.bounder.{ExperimentsDb,BounderUtil}\n",
    "import scala.concurrent.duration._\n",
    "import scala.language.postfixOps\n",
    "import slick.driver.H2Driver.api._\n",
    "import slick.jdbc.{GetResult,SQLActionBuilder}\n",
    "import scala.concurrent.Await\n",
    "import edu.colorado.plv.bounder.lifestate.{SpecSpace,LifecycleSpec, SDialog, SAsyncTask,FragmentGetActivityNullSpec}\n",
    "import scala.collection.parallel.CollectionConverters.IterableIsParallelizable\n",
    "\n",
    "\n",
    "\n",
    "Driver.setZ3Path(s\"${userhome}/software/z3/build\")\n",
    "\n",
    "var android_home_possible = List(s\"${userhome}/Library/Android/sdk\", s\"${userhome}/Android/Sdk\")\n",
    "var android_home = android_home_possible.find(p => File(p).exists()).get             \n",
    "BounderUtil.setEnv(Map(\"DYLD_LIBRARY_PATH\" -> s\"${userhome}/software/z3/build\",\"ANDROID_HOME\" -> android_home,\"HOME\" -> userhome))\n",
    "System.setProperty(\"user.dir\", s\"${System.getProperty(\"user.home\")}/Documents/source/bounder/notebooks/ossExp/data\");\n",
    "val expDir = File(System.getProperty(\"user.dir\"))\n",
    "val baseDir = File(System.getProperty(\"user.home\")) / \"Documents/data/historia_generalizability\""
   ]
  },
  {
   "cell_type": "code",
   "execution_count": 3,
   "metadata": {},
   "outputs": [
    {
     "data": {
      "text/plain": [
       "\u001b[36mbenchmarkList\u001b[39m: \u001b[32mString\u001b[39m = \u001b[32m\"benchmark-list.txt\"\u001b[39m\n",
       "defined \u001b[32mobject\u001b[39m \u001b[36mExpConfig\u001b[39m\n",
       "\u001b[36museProguard\u001b[39m: \u001b[32mList\u001b[39m[\u001b[32mFile\u001b[39m] = \u001b[33mList\u001b[39m()\n",
       "\u001b[36mres2_3\u001b[39m: \u001b[32mInt\u001b[39m = \u001b[32m55\u001b[39m"
      ]
     },
     "execution_count": 3,
     "metadata": {},
     "output_type": "execute_result"
    }
   ],
   "source": [
    "val benchmarkList = \"benchmark-list.txt\"\n",
    "object ExpConfig{\n",
    "    val excludeFromProguardCheck = List(\"ch.blinkenlights.android.vanilla\", \"com.darshancomputing.BatteryIndicatorPro\") // apps that break the tool I am using for proguard check but don't use proguard (checked manually)\n",
    "    def apkAndFilt(file:File) = {\n",
    "        val path = file.toString\n",
    "        val spliton = if(path.contains(\"fdroid\")) \"fdroid\" else \"oss\"\n",
    "        val pkg = path.split(spliton)(1).split(\"/\")\n",
    "        s\"${path}:${pkg.tail.head}\"\n",
    "    }\n",
    "    val apkList = baseDir.glob(\"**/*.apk\").toList.filter{pathF =>\n",
    "        val path = pathF.toString // filter out the duplicate APKs for connectbot and antennapod\n",
    "        !(path.contains(\"de.danoeh.antennapod\") && path.contains(\"app-play\")) && !(path.contains(\"org.connectbot\") && path.contains(\"app-google\"))}\n",
    "        /*moved to another dir, comment out for speed*///.filter{a => excludeFromProguardCheck.exists(x => a.toString.contains(x)) || !Driver.detectProguard(a.toString)} // remove apps that use proguard (we can't distinguish app and framework)\n",
    "    assert(apkList.exists(_.toString.contains(\"org.connectbot\")))\n",
    "    assert(apkList.exists(_.toString.contains(\"de.danoeh.antennapod\")))\n",
    "    val benchmarkListFile = File(benchmarkList)\n",
    "    benchmarkListFile.overwrite(apkList.map(apkAndFilt(_)).mkString(\"\\n\"))\n",
    "    \n",
    "}\n",
    "// Apps that use proguard (should be empty, moved to another folder)\n",
    "val useProguard = baseDir.glob(\"**/*.apk\").toList.filter{pathF =>\n",
    "        val path = pathF.toString // filter out the duplicate APKs for connectbot and antennapod\n",
    "        !(path.contains(\"de.danoeh.antennapod\") && path.contains(\"app-play\")) && !(path.contains(\"org.connectbot\") && path.contains(\"app-google\"))}.filter{ pathF => !ExpConfig.apkList.exists(o => o == pathF)}\n",
    "ExpConfig.apkList.size"
   ]
  },
  {
   "cell_type": "code",
   "execution_count": 4,
   "metadata": {
    "tags": []
   },
   "outputs": [
    {
     "data": {
      "text/plain": [
       "\u001b[32mimport \u001b[39m\u001b[36mscala.util.Random // for shuffling list\n",
       "\u001b[39m\n",
       "defined \u001b[32mfunction\u001b[39m \u001b[36mcreateConfigsFromList\u001b[39m"
      ]
     },
     "execution_count": 4,
     "metadata": {},
     "output_type": "execute_result"
    }
   ],
   "source": [
    "// Create json files for config runs\n",
    "import scala.util.Random // for shuffling list\n",
    "def createConfigsFromList():Unit = {\n",
    "    val disallowSpecs = new SpecSpace(Set(), disallowSpecs = Set(\n",
    "        FragmentGetActivityNullSpec.getActivityNull,\n",
    "        SAsyncTask.disallowDoubleExecute,\n",
    "        SDialog.disallowDismiss\n",
    "        ))\n",
    "    List( Driver.MakeSensitiveDerefFieldCausedFinish,\n",
    "         Driver.MakeSensitiveDerefFieldCausedSync,\n",
    "         Driver.MakeSensitiveDerefCallinCaused,\n",
    "         Driver.FindCallins).foreach{ mode =>\n",
    "        val baseConfig = RunConfig(limit = -1)\n",
    "        case class ApkSample(apk:String, pkg:String, outDir:File)\n",
    "        val apkSamples = (expDir / \"..\" / benchmarkList)\n",
    "            .contentAsString\n",
    "            .split(\"\\n\").toList.map{v => \n",
    "                val pkg = v.split(\":\")(1)\n",
    "                // println(s\"package: $pkg\")\n",
    "                val apk = v.split(\":\")(0)\n",
    "                val apkDirCfg = apk.toString.replace(baseDir.toString,\"${baseDir}\")\n",
    "                val outDirCfg = \"${baseDirOut}/\" + pkg\n",
    "                val outDir = expDir / pkg\n",
    "    //             val getSample = outDir / \"getSample.json\"\n",
    "    //             if(getSample.exists())getSample.delete()\n",
    "                // val samples = if(pkg.contains(\"lyonbros\")) 90 else 200\n",
    "                val cfg = baseConfig.copy(apkPath=apkDirCfg, outFolder=Some(outDirCfg), specSet = PickleSpec.mk(disallowSpecs)) // 5 dereference samples per class\n",
    "    //             getSample.append(write[RunConfig](cfg))\n",
    "                //outDir.createIfNotExists(true)\n",
    "                // sample dereference locations\n",
    "                // SampleDeref for choosing subset of samples, MakeAllDeref for getting all of them\n",
    "                Action(mode, baseDirOut=Some(expDir.toString), baseDirApk = Some(baseDir.toString), // b u options\n",
    "                      cfg, filter=Some(pkg))\n",
    "            }\n",
    "        // we shuffle apps because as we run and fix things it would normally take a longer time to get to the errors.\n",
    "        Random.shuffle(apkSamples).foreach{action => \n",
    "            //println(s\"action: ${action}\")\n",
    "            //println(\"\\n====\\n\")\n",
    "            //println(s\"mode:${action.mode}\")\n",
    "            //println(s\"out folder: ${action.getOutFolder}\")\n",
    "            //println(action.filter.get)\n",
    "            val f = File(s\"data/${action.filter.get}.cfg\")\n",
    "            f.overwrite(write[RunConfig](action.config))\n",
    "            //Driver.runAction(action)\n",
    "            println(action.filter)\n",
    "            action.runCmdFork(path) match {\n",
    "                case None =>\n",
    "                case Some(t) => \n",
    "                    println(\"!!!exception\")\n",
    "                    println(t)\n",
    "            }\n",
    "        }\n",
    "    }\n",
    "}\n",
    "\n",
    "// echo \"SensitiveDerefFieldFinish $(ls **/SensitiveDerefFieldCausedFinish* |wc -l) - SensitiveDerefFieldSync $(ls **/SensitiveDerefFieldCausedSynch* |wc -l) - Disallow $(ls **/Disallow* |wc -l) - SensitiveDerefCallin $(ls **/SensitiveDerefCallin* |wc -l)\"\n",
    "//SensitiveDerefFieldFinish 3 - SensitiveDerefFieldSync 26 - Disallow 524 - SensitiveDerefCallin 814\n",
    "// after fixes: SensitiveDerefFieldFinish 33 - SensitiveDerefFieldSync 55 - Disallow 524 - SensitiveDerefCallin 814\n",
    "//createConfigsFromList() //TODO: uncomment to regen configs"
   ]
  },
  {
   "cell_type": "code",
   "execution_count": 5,
   "metadata": {},
   "outputs": [
    {
     "name": "stdout",
     "output_type": "stream",
     "text": [
      "disallows (combined): 2\n",
      "all size: 1410\n",
      "distinct configurations: 1410\n",
      "deref from callin: 802\n",
      "deref from field finish: 33\n",
      "deref from field sync: 55\n",
      "dismiss callins: 357\n",
      "execute callins: 163\n"
     ]
    },
    {
     "data": {
      "text/plain": [
       "defined \u001b[32mobject\u001b[39m \u001b[36mCountEach\u001b[39m"
      ]
     },
     "execution_count": 5,
     "metadata": {},
     "output_type": "execute_result"
    }
   ],
   "source": [
    "// val f = File(\"data/alljson_whydoesthisincrease.txt\")\n",
    "// val existing = f.contentAsString.split('\\n')\n",
    "// val globed = expDir.glob(\"**/*.json\").toList\n",
    "\n",
    "// globed.find{g => !existing.contains(g.toString.split(\"/data/\")(1))}\n",
    "object CountEach{\n",
    "    def appName(cfg:File):String = {\n",
    "        val split = cfg.toString.split(\"/\")\n",
    "        split.reverse.tail.head\n",
    "    }\n",
    "    def groupByApp(cfgs:List[File]):Map[String,List[File]] = cfgs.groupBy{appName}\n",
    "    val cfgs = expDir.glob(\"**/*.cfg\").map(f => read[RunConfig](f.contentAsString())).toSet\n",
    "    val disallows = expDir.glob(\"**/Disallow*\").toList.groupBy{f => \n",
    "        val spec = read[RunConfig](f.contentAsString).specSet\n",
    "        val disSpec = spec.getDisallowSpecSet\n",
    "        assert(disSpec.size == 1, \"should only have one disallow spec per config\")\n",
    "        disSpec.head.target.identitySignature\n",
    "    }\n",
    "    val disallowByApp = disallows.map{ case (dis,cfgs) => (dis, groupByApp(cfgs))}\n",
    "    val derefCallin = expDir.glob(\"**/SensitiveDerefCallinCaused_*\").toList\n",
    "    val derefCallinByApp = groupByApp(derefCallin)\n",
    "    val derefFieldSync = expDir.glob(\"**/SensitiveDerefFieldCausedSynch_*\").toList\n",
    "    val derefFieldSyncByApp = groupByApp(derefFieldSync)\n",
    "    val derefFieldFinish = expDir.glob(\"**/SensitiveDerefFieldCausedFinish_*\").toList\n",
    "    val derefFieldFinishByApp = groupByApp(derefFieldFinish)\n",
    "    val allCfg = expDir.glob(\"**/SensitiveDerefFieldCausedSynch_*\").toSet ++ expDir.glob(\"**/Disallow*\").toSet ++ expDir.glob(\"**/SensitiveDerefCallinCaused_*\") ++  expDir.glob(\"**/SensitiveDerefFieldCausedFinish_*\")\n",
    "    val allCfgDeser = allCfg.map{cfg => read[RunConfig](cfg.contentAsString())}.toSet\n",
    "}\n",
    "println(s\"disallows (combined): ${CountEach.disallows.size}\")\n",
    "println(s\"all size: ${CountEach.allCfg.size}\")\n",
    "println(s\"distinct configurations: ${CountEach.allCfgDeser.size}\") //why do we have one more config than earlier?\n",
    "println(s\"deref from callin: ${CountEach.derefCallin.size}\")\n",
    "println(s\"deref from field finish: ${CountEach.derefFieldFinish.size}\")\n",
    "println(s\"deref from field sync: ${CountEach.derefFieldSync.size}\")\n",
    "//println(s\"disallow kinds: ${CountEach.disallows.keys}\")\n",
    "println(s\"dismiss callins: ${CountEach.disallows(\"I_CIEnter_Dialogdismiss\").size}\")\n",
    "println(s\"execute callins: ${CountEach.disallows(\"I_CIEnter_AsyncTaskexecute\").size}\")\n",
    "// println(s\"\\n**deref from callin by app: \")\n",
    "// CountEach.derefCallinByApp.foreach{ case (app, configs) => println(s\"app:${app} - count: ${configs.size}\")}\n",
    "// println(s\"\\n**deref from field by app: \")\n",
    "// CountEach.derefFieldByApp.foreach{ case (app, configs) => println(s\"app:${app} - count: ${configs.size}\")}\n",
    "// println(s\"\\n**disallow by app: \")\n",
    "// CountEach.disallowByApp.foreach{case (dis,apps) =>\n",
    "//                                 apps.foreach{ case(app, configs) => println(s\"dis:${dis} - app:${app} - count: ${configs.size}\")}}\n"
   ]
  },
  {
   "cell_type": "code",
   "execution_count": 6,
   "metadata": {},
   "outputs": [],
   "source": [
    "if(false){ // TODO: grouping data screws up the results fix this at some point\n",
    "object NoOutput{\n",
    "    val allDir = expDir.glob(\"**/*.json\").toSet.map{(f:File) => f.parent}\n",
    "    def combine() = {\n",
    "        NoOutput.allDir.foreach{(dir:File) => \n",
    "            println(dir)\n",
    "            Driver.groupConfigsInDirectory(20,dir)\n",
    "        }\n",
    "    }\n",
    "    val allGroupedCfgFiles = expDir.glob(\"**/*.json\").toList.filter(f => !f.toString.contains(\".ipynb_checkpoints\"))\n",
    "    val allCfg = allGroupedCfgFiles.map((f:File) => read[RunConfig](f.contentAsString)).toSet\n",
    "    val allInitialGrouped = allCfg.groupBy((cfg:RunConfig) => cfg.tag).map{\n",
    "        case (tag,cfgs) => (tag,cfgs.flatMap{cfg => cfg.initialQuery})\n",
    "    }\n",
    "    \n",
    "    val allInitial = allCfg.flatMap{cfg => cfg.initialQuery}\n",
    "    \n",
    "    val rawConfigFiles = File(\"/home/s/Documents/source/Bounder/notebooks/ossExp/preGroupData/data\").glob(\"**/*.json\").toSet\n",
    "    val configFileSet = rawConfigFiles.map{(f:File) => read[RunConfig](f.contentAsString)}.toSet\n",
    "    val initialQuerySet = configFileSet.map{cfg => (cfg.initialQuery, cfg.tag)}\n",
    "}\n",
    "println(s\"raw config file count: ${NoOutput.rawConfigFiles.size}\")\n",
    "println(s\"distinct configs: ${NoOutput.configFileSet.size}\")\n",
    "println(s\"initial query size: ${NoOutput.initialQuerySet.size}\")\n",
    "\n",
    "println(\"\\nafter combine\")\n",
    "println(s\"config count: ${NoOutput.allCfg.size}\")\n",
    "println(s\"initial query count: ${NoOutput.allInitial.size}\")\n",
    "NoOutput.allInitialGrouped.foreach{\n",
    " case (tag,initials) => \n",
    "    println(s\"${tag.heuristicType} - ${initials.size}\")\n",
    "}\n",
    "}\n",
    "\n",
    "//NoOutput.combine() //===== uncomment to combine outputs\n",
    "// raw config file count: 1426\n",
    "// distinct configs: 1426\n",
    "// initial query size: 1402\n",
    "\n",
    "// after combine\n",
    "// config count: 158\n",
    "// initial query count: 1402\n",
    "// SensitiveDerefFieldCausedSynch - 55\n",
    "// SensitiveDerefFieldCausedFinish - 33\n",
    "// Disallow.I_CIEnter_AsyncTaskexecute - 162\n",
    "// SensitiveDerefCallinCaused - 798\n",
    "// Disallow.I_CIEnter_Dialogdismiss - 354\n"
   ]
  },
  {
   "cell_type": "code",
   "execution_count": 7,
   "metadata": {},
   "outputs": [
    {
     "name": "stdout",
     "output_type": "stream",
     "text": [
      "Initializing database\n"
     ]
    },
    {
     "name": "stderr",
     "output_type": "stream",
     "text": [
      "SLF4J: No SLF4J providers were found.\n",
      "SLF4J: Defaulting to no-operation (NOP) logger implementation\n",
      "SLF4J: See https://www.slf4j.org/codes.html#noProviders for further details.\n"
     ]
    },
    {
     "data": {
      "text/plain": [
       "defined \u001b[32mfunction\u001b[39m \u001b[36msplitConfig\u001b[39m\n",
       "defined \u001b[32mfunction\u001b[39m \u001b[36msetTimeout\u001b[39m\n",
       "\u001b[36mdb\u001b[39m: \u001b[32mExperimentsDb\u001b[39m = edu.colorado.plv.bounder.ExperimentsDb@4794309c\n",
       "defined \u001b[32mclass\u001b[39m \u001b[36mCount\u001b[39m\n",
       "defined \u001b[32mclass\u001b[39m \u001b[36mStrRes\u001b[39m\n",
       "\u001b[36mgetCountResult\u001b[39m: \u001b[32mAnyRef\u001b[39m with \u001b[32mGetResult\u001b[39m[\u001b[32mCount\u001b[39m] = <function1>\n",
       "\u001b[36mgetStrResult\u001b[39m: \u001b[32mAnyRef\u001b[39m with \u001b[32mGetResult\u001b[39m[\u001b[32mStrRes\u001b[39m] = <function1>\n",
       "defined \u001b[32mfunction\u001b[39m \u001b[36mpauseJobs\u001b[39m\n",
       "defined \u001b[32mfunction\u001b[39m \u001b[36mresumeJobs\u001b[39m\n",
       "defined \u001b[32mfunction\u001b[39m \u001b[36mclearInputs\u001b[39m\n",
       "defined \u001b[32mfunction\u001b[39m \u001b[36mresetJobs\u001b[39m\n",
       "defined \u001b[32mfunction\u001b[39m \u001b[36mclearTable\u001b[39m\n",
       "defined \u001b[32mfunction\u001b[39m \u001b[36mclearApks\u001b[39m\n",
       "defined \u001b[32mfunction\u001b[39m \u001b[36mclearResults\u001b[39m\n",
       "defined \u001b[32mfunction\u001b[39m \u001b[36mclearAll\u001b[39m"
      ]
     },
     "execution_count": 7,
     "metadata": {},
     "output_type": "execute_result"
    }
   ],
   "source": [
    "// Utilities for manipulating run configs\n",
    "\n",
    "def splitConfig(cfg:File, maxJobsPerFile:Int) = {\n",
    "    val cfgContent = read[RunConfig](cfg.contentAsString)\n",
    "    val parentDir = cfg.parent\n",
    "    val cfgName = cfg.name.split('.')(0)\n",
    "    assert(cfg.name.split('.')(1) == \"json\", \"Input should have ext json\")\n",
    "    val newCfg = cfgContent.initialQuery.grouped(maxJobsPerFile).zipWithIndex\n",
    "    \n",
    "    newCfg.foreach{\n",
    "        case (iqs,ind) => \n",
    "            val outfname = s\"${cfgName}_${ind}.json\"\n",
    "            println(s\"index: ${ind} size: ${cfg.size} fname: ${outfname}\")\n",
    "            val outf = parentDir / outfname\n",
    "            outf.overwrite(write[RunConfig](cfgContent.copy(initialQuery=iqs)))\n",
    "    }\n",
    "}\n",
    "\n",
    "// update timeout in run config\n",
    "def setTimeout(nt:Int) = {\n",
    "    //val configs = expDir.glob(\"**/*.json\").toList\n",
    "    val configs = CountEach.allCfg\n",
    "    assert(configs.forall(f => !f.toString.contains(\".ipynb_checkpoints\")), s\"Delete dumb jupyter backup file\")\n",
    "    configs.foreach{cfgf =>\n",
    "        //println(cfgf.toString)\n",
    "        val cfg = read[RunConfig](cfgf.contentAsString)\n",
    "        cfgf.delete()\n",
    "        cfgf.overwrite(write[RunConfig](cfg.copy(timeLimit=nt)))\n",
    "    }\n",
    "//     write[RunConfig](.map{c => read[RunConfig](c.contentAsString)}.toList.head.copy(timeLimit = 180))\n",
    "}\n",
    "//splitConfig(File(\"/Users/shawnmeier/Documents/source/bounder/experiments/5fdroid5dev_sampderef/com.lyonbros/sample.json\"),5)\n",
    "\n",
    "val db = new ExperimentsDb(Some(s\"${userhome}/Documents/source/bounder/soot_hopper/target/scala-2.13/soot_hopper-assembly-0.1.jar\"))\n",
    "case class Count(n:Int)\n",
    "case class StrRes(s:String)\n",
    "implicit val getCountResult = GetResult(r => Count(r.<<))\n",
    "implicit val getStrResult = GetResult(r => StrRes(r.<<))\n",
    "\n",
    "def pauseJobs() = {\n",
    "    val pauseJobsQ = sql\"\"\"update jobs set status='paused' where status='new';\"\"\"\n",
    "    Await.result(db.db.run(pauseJobsQ.as[StrRes]), 30 seconds)\n",
    "}\n",
    "def resumeJobs() = {\n",
    "    val pauseJobsQ = sql\"\"\"update jobs set status='new' where status='paused';\"\"\"\n",
    "    Await.result(db.db.run(pauseJobsQ.as[StrRes]), 30 seconds)\n",
    "}\n",
    "def clearInputs() = {\n",
    "    val clearInputsQ = sql\"\"\"delete from apks where apkname like 'jar_%' or apkname like 'spec_%';\"\"\"\n",
    "    Await.result(db.db.run(clearInputsQ.as[StrRes]), 30 seconds)\n",
    "    val clearInputsTableQ = sql\"\"\"delete from inputs;\"\"\"\n",
    "    Await.result(db.db.run(clearInputsTableQ.as[StrRes]), 30 seconds)\n",
    "}\n",
    "def resetJobs() = {\n",
    "    val resetJobsQ = sql\"\"\"update jobs set inputid=4, stderr='',stdout='',owner='',started=NULL,ended=NULL,status='new';\"\"\"\n",
    "    Await.result(db.db.run(resetJobsQ.as[StrRes]), 30 seconds)\n",
    "}\n",
    "def clearTable(tableName:String) = {\n",
    "    val clear = sql\"\"\"delete from #$tableName ;\"\"\"\n",
    "    Await.result(db.db.run(clear.as[StrRes]), 30 seconds)\n",
    "}\n",
    "def clearApks() = {\n",
    "    \n",
    "}\n",
    "def clearResults(){\n",
    "    val clearResults = sql\"\"\"delete from results; delete from resultdata;\"\"\"\n",
    "    Await.result(db.db.run(clearResults.as[StrRes]), 30 seconds)\n",
    "}\n",
    "def clearAll(){\n",
    "    clearInputs()\n",
    "    clearResults()\n",
    "    clearTable(\"jobs\")\n",
    "    clearTable(\"apks\")\n",
    "}\n",
    "\n",
    "//clearResults()\n",
    "//pauseJobs()\n",
    "//clearAll()\n",
    "//resumeJobs()\n",
    "//Await.result(db.db.run(sql\"\"\"select count(*) from results;\"\"\".as[Count]), 30 seconds)"
   ]
  },
  {
   "cell_type": "markdown",
   "metadata": {
    "tags": []
   },
   "source": [
    "Upload needed files to database\n",
    "-------------------------------"
   ]
  },
  {
   "cell_type": "code",
   "execution_count": 8,
   "metadata": {},
   "outputs": [],
   "source": [
    "// clearAll()\n",
    "// setTimeout(900)"
   ]
  },
  {
   "cell_type": "code",
   "execution_count": 9,
   "metadata": {
    "tags": []
   },
   "outputs": [
    {
     "name": "stdout",
     "output_type": "stream",
     "text": [
      "/home/s/Documents/source/bounder/soot_hopper/target/scala-2.13/soot_hopper-assembly-0.1.jar\n",
      "/home/s/Documents/source/bounder/soot_hopper/specs/emptySpec.txt\n",
      "1410\n"
     ]
    },
    {
     "data": {
      "text/plain": [
       "\u001b[36mjarPath\u001b[39m: \u001b[32mFile\u001b[39m = /home/s/Documents/source/bounder/soot_hopper/target/scala-2.13/soot_hopper-assembly-0.1.jar\n",
       "\u001b[36memptySpecPath\u001b[39m: \u001b[32mFile\u001b[39m = /home/s/Documents/source/bounder/soot_hopper/specs/emptySpec.txt\n",
       "\u001b[36memptyCfg\u001b[39m: \u001b[32mInt\u001b[39m = \u001b[32m2\u001b[39m\n",
       "defined \u001b[32mfunction\u001b[39m \u001b[36muploadApks\u001b[39m\n",
       "defined \u001b[32mfunction\u001b[39m \u001b[36mpushExp\u001b[39m"
      ]
     },
     "execution_count": 9,
     "metadata": {},
     "output_type": "execute_result"
    }
   ],
   "source": [
    "\n",
    "val jarPath = File(s\"${userhome}/Documents/source/bounder/soot_hopper/target/scala-2.13/soot_hopper-assembly-0.1.jar\")\n",
    "val emptySpecPath = File(s\"${userhome}/Documents/source/bounder/soot_hopper/specs/emptySpec.txt\")\n",
    "println(jarPath)\n",
    "println(emptySpecPath)\n",
    "// Upload empty spec run config and bounder jar\n",
    "val emptyCfg = db.createConfig(\n",
    "    emptySpecPath,\n",
    "    jarPath,\n",
    "    \"Empty spec set\"\n",
    ")\n",
    "\n",
    "// Upload data of APK files to database for experiments\n",
    "def uploadApks() = {\n",
    "    def appList = (expDir / \"..\" / benchmarkList).contentAsString.split(\"\\n\")\n",
    "        .map{v => \n",
    "            val spl = v.split(\":\")\n",
    "            val name = spl(0).replace(baseDir.toString,\"\")\n",
    "            val path = spl(0)\n",
    "            (name,path)\n",
    "        }\n",
    "    appList.foreach(a => db.uploadApk(a._1,File(a._2)))\n",
    "}\n",
    "\n",
    "\n",
    "// push experiment .json files to database\n",
    "def pushExp() = {\n",
    "    // val experiments = expDir.glob(\"**/*.cfg\").toList\n",
    "    val experiments =  CountEach.allCfg\n",
    "    println(experiments.size)\n",
    "    experiments.foreach{v => \n",
    "                        val cfg = read[RunConfig](v.contentAsString)\n",
    "                        db.createJob(v, Some(write[ExpTag](cfg.tag)), emptyCfg)\n",
    "    }\n",
    "}\n",
    "// uploadApks()\n",
    "// pushExp()"
   ]
  },
  {
   "cell_type": "markdown",
   "metadata": {
    "tags": []
   },
   "source": [
    "Bulk Job Tasks\n",
    "=============="
   ]
  },
  {
   "cell_type": "code",
   "execution_count": 9,
   "metadata": {},
   "outputs": [],
   "source": [
    "//db.downloadApk(\"/com.gpl.rpg.AndorsTrail/0.7.5/apk/com.gpl.rpg.AndorsTrail_46.apk\", File(\"/Users/shawnmeier/Desktop/testDownload.apk\"))\n",
    "//clearAll()\n",
    "//resumeJobs()\n",
    "//clearResults()\n",
    "//pauseJobs()"
   ]
  }
 ],
 "metadata": {
  "kernelspec": {
   "display_name": "Scala (almond 0.13.3)",
   "language": "scala",
   "name": "scalaalmond133"
  },
  "language_info": {
   "codemirror_mode": "text/x-scala",
   "file_extension": ".sc",
   "mimetype": "text/x-scala",
   "name": "scala",
   "nbconvert_exporter": "script",
   "version": "2.13.8"
  }
 },
 "nbformat": 4,
 "nbformat_minor": 4
}
