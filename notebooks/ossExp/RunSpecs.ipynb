{
 "cells": [
  {
   "cell_type": "code",
   "execution_count": 14,
   "metadata": {},
   "outputs": [
    {
     "data": {
      "text/plain": [
       "\u001b[36muserhome\u001b[39m: \u001b[32mString\u001b[39m = \u001b[32m\"/home/s\"\u001b[39m\n",
       "\u001b[36mjniPath\u001b[39m: \u001b[32mString\u001b[39m = \u001b[32m\"/home/s/software/z3/build\"\u001b[39m\n",
       "\u001b[36mnewPath\u001b[39m: \u001b[32mArray\u001b[39m[\u001b[32mString\u001b[39m] = \u001b[33mArray\u001b[39m(\n",
       "  \u001b[32m\"/home/s/software/z3/build\"\u001b[39m,\n",
       "  \u001b[32m\"/home/s/software/z3/build\"\u001b[39m,\n",
       "  \u001b[32m\"\"\u001b[39m,\n",
       "  \u001b[32m\"/usr/java/packages/lib/amd64\"\u001b[39m,\n",
       "  \u001b[32m\"/usr/lib/x86_64-linux-gnu/jni\"\u001b[39m,\n",
       "  \u001b[32m\"/lib/x86_64-linux-gnu\"\u001b[39m,\n",
       "  \u001b[32m\"/usr/lib/x86_64-linux-gnu\"\u001b[39m,\n",
       "  \u001b[32m\"/usr/lib/jni\"\u001b[39m,\n",
       "  \u001b[32m\"/lib\"\u001b[39m,\n",
       "  \u001b[32m\"/usr/lib\"\u001b[39m\n",
       ")\n",
       "\u001b[36mres13_3\u001b[39m: \u001b[32mString\u001b[39m = \u001b[32m\"/home/s/software/z3/build::/usr/java/packages/lib/amd64:/usr/lib/x86_64-linux-gnu/jni:/lib/x86_64-linux-gnu:/usr/lib/x86_64-linux-gnu:/usr/lib/jni:/lib:/usr/lib\"\u001b[39m\n",
       "\u001b[36msysPathsField\u001b[39m: \u001b[32mjava\u001b[39m.\u001b[32mlang\u001b[39m.\u001b[32mreflect\u001b[39m.\u001b[32mField\u001b[39m = private static java.lang.String[] java.lang.ClassLoader.sys_paths\n",
       "\u001b[36mpath\u001b[39m: \u001b[32mString\u001b[39m = \u001b[32m\"/home/s/Documents/source/bounder/soot_hopper/target/scala-2.13/soot_hopper-assembly-0.1.jar\"\u001b[39m\n",
       "\u001b[32mimport \u001b[39m\u001b[36m$ivy.$                                          \n",
       "\u001b[39m\n",
       "\u001b[32mimport \u001b[39m\u001b[36m$ivy.$                                         \n",
       "\n",
       "\u001b[39m\n",
       "\u001b[32mimport \u001b[39m\u001b[36m$ivy.$                             \n",
       "// import $ivy.`edu.colorado.plv.bounder:soot_hopper_2.13:0.1`\n",
       "\n",
       "\u001b[39m\n",
       "\u001b[32mimport \u001b[39m\u001b[36mplotly._, element._, layout._, Plotly._\n",
       "\u001b[39m\n",
       "\u001b[32mimport \u001b[39m\u001b[36mujson.Value\n",
       "\u001b[39m\n",
       "\u001b[32mimport \u001b[39m\u001b[36msys.process._\n",
       "\n",
       "\u001b[39m\n",
       "\u001b[32mimport \u001b[39m\u001b[36m$ivy.$                              \n",
       "\n",
       "\u001b[39m\n",
       "\u001b[32mimport \u001b[39m\u001b[36mjupyter.Displayer, jupyter.Displayers\n",
       "\u001b[39m\n",
       "\u001b[32mimport \u001b[39m\u001b[36mscala.collection.JavaConverters._\n",
       "\u001b[39m\n",
       "\u001b[32mimport \u001b[39m\u001b[36mscala.collection.mutable\u001b[39m"
      ]
     },
     "execution_count": 14,
     "metadata": {},
     "output_type": "execute_result"
    }
   ],
   "source": [
    "// hacky way to set java path since macos breaks this\n",
    "val userhome = System.getProperty(\"user.home\")\n",
    "val jniPath = s\"${userhome}/software/z3/build\"\n",
    "val newPath = Array(jniPath) ++  System.getProperty(\"java.library.path\").split(\":\")\n",
    "System.setProperty(\"java.library.path\",newPath.distinct.mkString(\":\"))\n",
    "//set sys_paths to null so that java.library.path will be reevaluated next time it is needed\n",
    "val sysPathsField = classOf[ClassLoader].getDeclaredField(\"sys_paths\");\n",
    "sysPathsField.setAccessible(true);\n",
    "sysPathsField.set(null, null);\n",
    "// note: make sim link between bounder and Bounder due to macos case sensitivity before hand\n",
    "val path = s\"${userhome}/Documents/source/bounder/soot_hopper/target/scala-2.13/soot_hopper-assembly-0.1.jar\"\n",
    "//unzip -p jdiff.jar META-INF/MANIFEST.MF\n",
    "interp.load.cp(os.Path(path))\n",
    "\n",
    "import $ivy.`org.plotly-scala:plotly-almond_2.13:0.8.2`\n",
    "import $ivy.`com.github.pathikrit::better-files:3.9.1`\n",
    "\n",
    "import $ivy.`com.lihaoyi:ujson_2.13:1.3.8`\n",
    "// import $ivy.`edu.colorado.plv.bounder:soot_hopper_2.13:0.1`\n",
    "\n",
    "import plotly._, element._, layout._, Plotly._\n",
    "import ujson.Value\n",
    "import sys.process._\n",
    "\n",
    "import $ivy.`com.lihaoyi::scalatags:0.12.0`\n",
    "\n",
    "import jupyter.Displayer, jupyter.Displayers\n",
    "import scala.collection.JavaConverters._\n",
    "import scala.collection.mutable"
   ]
  },
  {
   "cell_type": "code",
   "execution_count": 23,
   "metadata": {},
   "outputs": [
    {
     "name": "stdout",
     "output_type": "stream",
     "text": [
      "java.library.path set to: /home/s/software/z3/build::/usr/java/packages/lib/amd64:/usr/lib/x86_64-linux-gnu/jni:/lib/x86_64-linux-gnu:/usr/lib/x86_64-linux-gnu:/usr/lib/jni:/lib:/usr/lib\n"
     ]
    },
    {
     "ename": "",
     "evalue": "",
     "output_type": "error",
     "traceback": [
      "\u001b[31mjava.lang.ClassCastException: java.lang.String cannot be cast to ammonite.$sess.cmd9$Helper$TableAble\u001b[39m\n  ammonite.$sess.cmd9$Helper.ammonite$$sess$cmd9$Helper$$$anonfun$res9_6$1(\u001b[32mcmd9.sc\u001b[39m:\u001b[32m18\u001b[39m)\n  ammonite.$sess.cmd9$Helper$$anonfun$1.display(\u001b[32mcmd9.sc\u001b[39m:\u001b[32m13\u001b[39m)\n  ammonite.$sess.cmd9$Helper$$anonfun$1.display(\u001b[32mcmd9.sc\u001b[39m:\u001b[32m13\u001b[39m)\n  almond.ReplApiImpl.printSpecial(\u001b[32mReplApiImpl.scala\u001b[39m:\u001b[32m63\u001b[39m)\n  almond.JupyterApiImpl.printOnChange(\u001b[32mJupyterApiImpl.scala\u001b[39m:\u001b[32m38\u001b[39m)\n  almond.api.FullJupyterApi$Internal$.printOnChange(\u001b[32mFullJupyterApi.scala\u001b[39m:\u001b[32m43\u001b[39m)"
     ]
    }
   ],
   "source": [
    "import better.files._\n",
    "\n",
    "import scala.util.Random\n",
    "import edu.colorado.plv.bounder.Driver\n",
    "import edu.colorado.plv.bounder.ExpTag\n",
    "import edu.colorado.plv.bounder.Action\n",
    "import edu.colorado.plv.bounder.RunConfig\n",
    "import edu.colorado.plv.bounder.PickleSpec\n",
    "import edu.colorado.plv.bounder.lifestate.SpecSpace\n",
    "import edu.colorado.plv.bounder.lifestate.SpecSignatures\n",
    "import edu.colorado.plv.bounder.symbolicexecutor.state.InitialQuery\n",
    "import upickle.default.read\n",
    "import upickle.default.write\n",
    "import scala.collection.parallel.CollectionConverters.{ImmutableSetIsParallelizable, IterableIsParallelizable}\n",
    "import edu.colorado.plv.bounder.ExperimentsDb\n",
    "import edu.colorado.plv.bounder.BounderUtil\n",
    "import scala.concurrent.duration._\n",
    "import scala.language.postfixOps\n",
    "import slick.driver.H2Driver.api._\n",
    "import slick.jdbc.GetResult\n",
    "import slick.jdbc.SQLActionBuilder\n",
    "import scala.concurrent.Await\n",
    "import almond.interpreter.api.DisplayData\n",
    "\n",
    "Driver.setZ3Path(s\"${userhome}/software/z3/build\")\n",
    "\n",
    "var android_home_possible = List(s\"${userhome}/Library/Android/sdk\", s\"${userhome}/Android/Sdk\")\n",
    "var android_home = android_home_possible.find(p => File(p).exists()).get             \n",
    "BounderUtil.setEnv(Map(\"DYLD_LIBRARY_PATH\" -> s\"${userhome}/software/z3/build\",\"ANDROID_HOME\" -> android_home,\"HOME\" -> userhome))\n",
    "\n",
    "System.setProperty(\"user.dir\", s\"${System.getProperty(\"user.home\")}/Documents/source/bounder/notebooks/ossExp/SpecGen\");\n",
    "val expDir = File(System.getProperty(\"user.dir\"))"
   ]
  },
  {
   "cell_type": "code",
   "execution_count": 10,
   "metadata": {},
   "outputs": [
    {
     "name": "stdout",
     "output_type": "stream",
     "text": [
      "Initializing database\n"
     ]
    },
    {
     "data": {
      "text/plain": [
       "\u001b[36mdb\u001b[39m: \u001b[32mExperimentsDb\u001b[39m = edu.colorado.plv.bounder.ExperimentsDb@95633d5\n",
       "defined \u001b[32mclass\u001b[39m \u001b[36mCount\u001b[39m\n",
       "defined \u001b[32mclass\u001b[39m \u001b[36mStrRes\u001b[39m\n",
       "\u001b[36mgetCountResult\u001b[39m: \u001b[32mAnyRef\u001b[39m with \u001b[32mGetResult\u001b[39m[\u001b[32mCount\u001b[39m] = <function1>\n",
       "\u001b[36mgetStrResult\u001b[39m: \u001b[32mAnyRef\u001b[39m with \u001b[32mGetResult\u001b[39m[\u001b[32mStrRes\u001b[39m] = <function1>\n",
       "defined \u001b[32mtrait\u001b[39m \u001b[36mTableAble\u001b[39m"
      ]
     },
     "execution_count": 10,
     "metadata": {},
     "output_type": "execute_result"
    }
   ],
   "source": [
    "val db = new ExperimentsDb(Some(s\"${userhome}/Documents/source/bounder/soot_hopper/target/scala-2.13/soot_hopper-assembly-0.1.jar\"))\n",
    "case class Count(n:Int)\n",
    "case class StrRes(s:String)\n",
    "implicit val getCountResult = GetResult(r => Count(r.<<))\n",
    "implicit val getStrResult = GetResult(r => StrRes(r.<<))\n",
    "\n",
    "//implement in a class so any sequence gets converted to a table that can be displayed in jupyter\n",
    "trait TableAble {\n",
    "  def headers:List[String]   \n",
    "  def values:List[Any]\n",
    "}\n",
    "\n",
    "Displayers.register(classOf[Seq[TableAble]], (people: Seq[TableAble]) => {\n",
    "  import scalatags.Text.all._\n",
    "  Map(\n",
    "    \"text/html\" -> {\n",
    "      table(cls:=\"table\")(\n",
    "        tr(people.head.headers.map(v => th(v))),\n",
    "        for (row <- people) yield tr(\n",
    "          row.values.map{\n",
    "              case v:String => td(v)\n",
    "              case v:Int => td(v)\n",
    "          }\n",
    "        )\n",
    "      ).render\n",
    "    }\n",
    "  ).asJava\n",
    "})"
   ]
  },
  {
   "cell_type": "code",
   "execution_count": 16,
   "metadata": {},
   "outputs": [
    {
     "name": "stdout",
     "output_type": "stream",
     "text": [
      "all results: 771\n",
      "all top results: 771\n",
      "all top results by qry: 747\n"
     ]
    },
    {
     "data": {
      "text/plain": [
       "defined \u001b[32mclass\u001b[39m \u001b[36mJoinedResultRow\u001b[39m\n",
       "defined \u001b[32mclass\u001b[39m \u001b[36mSummaryRow\u001b[39m\n",
       "defined \u001b[32mclass\u001b[39m \u001b[36mApkSummaryRow\u001b[39m\n",
       "\u001b[36mgetCoffeeResult\u001b[39m: \u001b[32mAnyRef\u001b[39m with \u001b[32mGetResult\u001b[39m[\u001b[32mJoinedResultRow\u001b[39m] = <function1>\n",
       "defined \u001b[32mobject\u001b[39m \u001b[36mReadResults\u001b[39m"
      ]
     },
     "execution_count": 16,
     "metadata": {},
     "output_type": "execute_result"
    }
   ],
   "source": [
    "case class JoinedResultRow(tag:String, summary:String, loc:List[String], qry:String, config:String, apk:String) extends TableAble{\n",
    "    override def toString = s\"JoinedResultRow(summary = ${summary}, apk = ${apk}\"\n",
    "    def getSummary:BounderUtil.ResultSummary = read[BounderUtil.ResultSummary](summary)\n",
    "    val getConfig:RunConfig = read[RunConfig](config)\n",
    "    val getInitQuery = read[InitialQuery](qry)\n",
    "    assert(getConfig.initialQuery.exists{q => q == getInitQuery})\n",
    "    def headers = List(\"tag\", \"summary\", \"qry\", \"apk\")\n",
    "    def values = List (tag  ,  summary , qry  , apk)\n",
    "    def merge(other:JoinedResultRow):JoinedResultRow = {\n",
    "        assert(tag == other.tag)\n",
    "        assert(qry == other.qry)\n",
    "        assert(config == other.config)\n",
    "        assert(apk == other.apk)\n",
    "        \n",
    "        JoinedResultRow(tag, write[BounderUtil.ResultSummary](Driver.reduceResults(getSummary, other.getSummary)), loc ++ other.loc,qry, config, apk)\n",
    "    }\n",
    "}\n",
    "\n",
    "case class SummaryRow(witnessed:Set[JoinedResultRow] = Set.empty, unreachable:Set[JoinedResultRow] = Set.empty, \n",
    "                      timeout:Set[JoinedResultRow] = Set.empty, err:Set[JoinedResultRow] = Set.empty) extends TableAble{\n",
    "    def headers =  List(\"witnessed\", \"unreachable\", \"timeout\", \"err\")\n",
    "    def values = List(witnessed.size, unreachable.size, timeout.size, err.size)\n",
    "    def add(row:JoinedResultRow):SummaryRow = {\n",
    "        row.getSummary match{\n",
    "            case BounderUtil.Timeout => this.copy(timeout = timeout + row)\n",
    "            case BounderUtil.Witnessed => this.copy(witnessed = witnessed + row)\n",
    "            case BounderUtil.Unreachable => this.copy(unreachable = unreachable + row)\n",
    "            case BounderUtil.Interrupted(_) => this.copy(err = err + row)\n",
    "        }\n",
    "    }\n",
    "}\n",
    "case class ApkSummaryRow(apk:String, row:SummaryRow = SummaryRow()) extends TableAble{\n",
    "    def headers = \"apk\"::row.headers\n",
    "    def values = apk::row.values\n",
    "    def add(newRow:JoinedResultRow):ApkSummaryRow = {\n",
    "        assert(newRow.apk == apk)\n",
    "        this.copy(row = row.add(newRow))\n",
    "    }\n",
    "}\n",
    "\n",
    "\n",
    "\n",
    "implicit val getCoffeeResult = GetResult(r => JoinedResultRow(r.<<, r.<<, List(r.<<), r.<<, r.<<, r.<<))\n",
    "object ReadResults{\n",
    "//where cast(results.result::json->'summary' as varchar) like '%Witnessed%' or cast(results.result::json->'summary' as varchar) like '%timeout%'\n",
    "    //TODO:==== figure out if this query is counting things correctly\n",
    "    def selectResults() = {\n",
    "        val q = sql\"\"\"select results.jobtag, cast(results.result::json->'summary' as varchar), results.loc, results.qry, jobs.config as cfg, \n",
    "        cast(jobs.config::json->'apkPath' as varchar) as benchmark from results inner join jobs on jobs.id=results.jobid\"\"\"\n",
    "        Await.result(db.db.run(q.as[JoinedResultRow]), 30 seconds)   \n",
    "    }\n",
    "    val allResults = selectResults()\n",
    "    \n",
    "    val rand = new scala.util.Random\n",
    "    \n",
    "    // Top model\n",
    "    val allTopResults = allResults.filter(res => read[ExpTag](res.tag).specRefinement == \"\")\n",
    "    val topResultsByQuery = allTopResults.groupBy(res => (res.apk,res.qry)).map{ // each query can have multiple locations, we just merge them\n",
    "        case (_, rows) => rows.reduce((a:JoinedResultRow,b:JoinedResultRow) => a.merge(b))\n",
    "    }.toSeq\n",
    "    val topByApp:Seq[ApkSummaryRow] = topResultsByQuery.foldLeft(Map[String,ApkSummaryRow]()){\n",
    "        case (acc,joinedRow) => \n",
    "            acc + (joinedRow.apk -> acc.getOrElse(joinedRow.apk, ApkSummaryRow(joinedRow.apk)).add(joinedRow))    \n",
    "    }.values.toSeq.sortBy(_.apk)\n",
    "    val appList = topByApp.map{v => v.apk}\n",
    "    val topByResult = Seq(topResultsByQuery.foldLeft(SummaryRow()){\n",
    "        case (acc, joinedRow) => acc.add(joinedRow)\n",
    "    })\n",
    "    def summaryForApkTop(app:String) = {\n",
    "        val res = topByApp.filter(row => row.apk.contains(app))\n",
    "        assert(res.size == 1, s\"Failure, wrong number of results ${res.size}\")\n",
    "        res.head\n",
    "    }\n",
    "    def sampleWitForTop(app:String) = {\n",
    "        val summary = summaryForApkTop(app)\n",
    "        val witnesses = summary.row.witnessed.toList\n",
    "        if(witnesses.isEmpty)\n",
    "            None\n",
    "        else{\n",
    "            val max = witnesses.size\n",
    "            Some(witnesses(rand.nextInt(max)))\n",
    "        }\n",
    "    }\n",
    "    def getTopCfgFor(app:String,clazz:String,method:String,line:Option[Int]) = {\n",
    "        ???\n",
    "    }\n",
    "    \n",
    "}\n",
    "println(s\"all results: ${ReadResults.allResults.size}\")\n",
    "println(s\"all top results: ${ReadResults.allTopResults.size}\")\n",
    "println(s\"all top results by qry: ${ReadResults.topResultsByQuery.size}\")"
   ]
  },
  {
   "cell_type": "code",
   "execution_count": 17,
   "metadata": {},
   "outputs": [
    {
     "data": {
      "text/html": [
       "<table class=\"table\"><tr><th>witnessed</th><th>unreachable</th><th>timeout</th><th>err</th></tr><tr><td>304</td><td>193</td><td>200</td><td>50</td></tr></table>"
      ]
     },
     "metadata": {},
     "output_type": "display_data"
    }
   ],
   "source": [
    "ReadResults.topByResult"
   ]
  },
  {
   "cell_type": "code",
   "execution_count": 18,
   "metadata": {},
   "outputs": [
    {
     "data": {
      "text/html": [
       "<table class=\"table\"><tr><th>apk</th><th>witnessed</th><th>unreachable</th><th>timeout</th><th>err</th></tr><tr><td>&quot;${baseDir}/fdroid/ch.blinkenlights.android.vanilla/1.2.2/apk/ch.blinkenlights.android.vanilla_12200.apk&quot;</td><td>5</td><td>4</td><td>2</td><td>1</td></tr><tr><td>&quot;${baseDir}/fdroid/com.MarcosDiez.shareviahttp/2.0.14/apk/com.MarcosDiez.shareviahttp_34.apk&quot;</td><td>0</td><td>1</td><td>0</td><td>0</td></tr><tr><td>&quot;${baseDir}/fdroid/com.android.keepass/2.6.8/apk/com.android.keepass_215.apk&quot;</td><td>3</td><td>2</td><td>2</td><td>0</td></tr><tr><td>&quot;${baseDir}/fdroid/com.asksven.betterbatterystats/3.3.1/apk/com.asksven.betterbatterystats_107.apk&quot;</td><td>8</td><td>1</td><td>3</td><td>0</td></tr><tr><td>&quot;${baseDir}/fdroid/com.byagowi.persiancalendar/7.8.0/apk/com.byagowi.persiancalendar_780.apk&quot;</td><td>2</td><td>0</td><td>6</td><td>0</td></tr><tr><td>&quot;${baseDir}/fdroid/com.darshancomputing.BatteryIndicatorPro/12.0.0/apk/com.darshancomputing.BatteryIndicatorPro_26016.apk&quot;</td><td>20</td><td>5</td><td>5</td><td>0</td></tr><tr><td>&quot;${baseDir}/fdroid/com.gpl.rpg.AndorsTrail/0.8.3/apk/com.gpl.rpg.AndorsTrail_67.apk&quot;</td><td>6</td><td>6</td><td>11</td><td>0</td></tr><tr><td>&quot;${baseDir}/fdroid/com.nutomic.syncthingandroid/1.23.0/apk/com.nutomic.syncthingandroid_4334.apk&quot;</td><td>3</td><td>4</td><td>2</td><td>0</td></tr><tr><td>&quot;${baseDir}/fdroid/com.owncloud.android/3.0.1/apk/com.owncloud.android_30000001.apk&quot;</td><td>9</td><td>9</td><td>17</td><td>1</td></tr><tr><td>&quot;${baseDir}/fdroid/com.seafile.seadroid2/2.2.48/apk/com.seafile.seadroid2_123.apk&quot;</td><td>11</td><td>22</td><td>18</td><td>0</td></tr><tr><td>&quot;${baseDir}/fdroid/com.ubergeek42.WeechatAndroid/1.8.1/apk/com.ubergeek42.WeechatAndroid_10801.apk&quot;</td><td>1</td><td>4</td><td>3</td><td>0</td></tr><tr><td>&quot;${baseDir}/fdroid/de.blau.android/18.1.1.0/apk/de.blau.android_2303.apk&quot;</td><td>0</td><td>0</td><td>0</td><td>46</td></tr><tr><td>&quot;${baseDir}/fdroid/de.blinkt.openvpn/0.7.43/apk/de.blinkt.openvpn_198.apk&quot;</td><td>20</td><td>8</td><td>9</td><td>0</td></tr><tr><td>&quot;${baseDir}/fdroid/de.jkliemann.parkendd/1.2.8/apk/de.jkliemann.parkendd_33.apk&quot;</td><td>1</td><td>0</td><td>3</td><td>0</td></tr><tr><td>&quot;${baseDir}/fdroid/de.markusfisch.android.wavelines/1.13.2/apk/de.markusfisch.android.wavelines_22.apk&quot;</td><td>0</td><td>0</td><td>3</td><td>0</td></tr><tr><td>&quot;${baseDir}/fdroid/de.syss.MifareClassicTool/4.0.4/apk/de.syss.MifareClassicTool_62.apk&quot;</td><td>0</td><td>1</td><td>1</td><td>0</td></tr><tr><td>&quot;${baseDir}/fdroid/dev.ukanth.ufirewall/3.5.3/apk/dev.ukanth.ufirewall_20220615.apk&quot;</td><td>23</td><td>8</td><td>25</td><td>1</td></tr><tr><td>&quot;${baseDir}/fdroid/info.guardianproject.pixelknot/1.0.2.1/apk/info.guardianproject.pixelknot_1021.apk&quot;</td><td>0</td><td>0</td><td>1</td><td>0</td></tr><tr><td>&quot;${baseDir}/fdroid/jwtc.android.chess/9.3.10/apk/jwtc.android.chess_192.apk&quot;</td><td>15</td><td>1</td><td>9</td><td>0</td></tr><tr><td>&quot;${baseDir}/fdroid/name.boyle.chris.sgtpuzzles/2023-01-18-2324-aaa36328-fdroid/apk/name.boyle.chris.sgtpuzzles_137.apk&quot;</td><td>3</td><td>1</td><td>1</td><td>0</td></tr><tr><td>&quot;${baseDir}/fdroid/net.bible.android.activity/4.0.673/apk/net.bible.android.activity_673.apk&quot;</td><td>1</td><td>0</td><td>4</td><td>0</td></tr><tr><td>&quot;${baseDir}/fdroid/net.gaast.giggity/2.0.8/apk/net.gaast.giggity_520.apk&quot;</td><td>0</td><td>0</td><td>2</td><td>0</td></tr><tr><td>&quot;${baseDir}/fdroid/net.justdave.nwsweatheralertswidget/1.1.4/apk/net.justdave.nwsweatheralertswidget_12.apk&quot;</td><td>4</td><td>0</td><td>0</td><td>0</td></tr><tr><td>&quot;${baseDir}/fdroid/net.wigle.wigleandroid/2.63/apk/net.wigle.wigleandroid_263.apk&quot;</td><td>46</td><td>16</td><td>11</td><td>0</td></tr><tr><td>&quot;${baseDir}/fdroid/nitezh.ministock/81/apk/nitezh.ministock_81.apk&quot;</td><td>2</td><td>0</td><td>0</td><td>0</td></tr><tr><td>&quot;${baseDir}/fdroid/nl.mpcjanssen.simpletask/11.0.1/apk/nl.mpcjanssen.simpletask_11000001.apk&quot;</td><td>0</td><td>0</td><td>1</td><td>0</td></tr><tr><td>&quot;${baseDir}/fdroid/org.andstatus.app/60.01/apk/org.andstatus.app_361.apk&quot;</td><td>0</td><td>1</td><td>0</td><td>0</td></tr><tr><td>&quot;${baseDir}/fdroid/org.fedorahosted.freeotp/2.0/apk/org.fedorahosted.freeotp_24.apk&quot;</td><td>1</td><td>0</td><td>0</td><td>0</td></tr><tr><td>&quot;${baseDir}/fdroid/org.liberty.android.fantastischmemo/10.11.7/apk/org.liberty.android.fantastischmemo_237.apk&quot;</td><td>32</td><td>7</td><td>9</td><td>0</td></tr><tr><td>&quot;${baseDir}/fdroid/org.mariotaku.twidere/4.1.8/apk/org.mariotaku.twidere_517.apk&quot;</td><td>6</td><td>51</td><td>9</td><td>0</td></tr><tr><td>&quot;${baseDir}/fdroid/org.navitproject.navit/v0.5.6/apk/org.navitproject.navit_2021030660.apk&quot;</td><td>5</td><td>1</td><td>2</td><td>0</td></tr><tr><td>&quot;${baseDir}/fdroid/org.scoutant.blokish/3.4/apk/org.scoutant.blokish_22.apk&quot;</td><td>3</td><td>0</td><td>4</td><td>0</td></tr><tr><td>&quot;${baseDir}/fdroid/org.sipdroid.sipua/6.3beta/apk/org.sipdroid.sipua_134.apk&quot;</td><td>0</td><td>1</td><td>1</td><td>0</td></tr><tr><td>&quot;${baseDir}/fdroid/org.sufficientlysecure.keychain/5.8.2/apk/org.sufficientlysecure.keychain_58902.apk&quot;</td><td>45</td><td>28</td><td>22</td><td>0</td></tr><tr><td>&quot;${baseDir}/fdroid/org.tasks/13.1.1/apk/org.tasks_130101.apk&quot;</td><td>0</td><td>4</td><td>1</td><td>1</td></tr><tr><td>&quot;${baseDir}/fdroid/org.traccar.client/6.18/apk/org.traccar.client_79.apk&quot;</td><td>0</td><td>1</td><td>2</td><td>0</td></tr><tr><td>&quot;${baseDir}/fdroid/org.transdroid.lite/2.5.19/apk/org.transdroid.lite_239.apk&quot;</td><td>6</td><td>1</td><td>4</td><td>0</td></tr><tr><td>&quot;${baseDir}/fdroid/org.yuttadhammo.BodhiTimer/6.3.0/apk/org.yuttadhammo.BodhiTimer_98.apk&quot;</td><td>0</td><td>0</td><td>1</td><td>0</td></tr><tr><td>&quot;${baseDir}/fdroid/org.zephyrsoft.trackworktime/1.1.20/apk/org.zephyrsoft.trackworktime_64.apk&quot;</td><td>2</td><td>0</td><td>1</td><td>0</td></tr><tr><td>&quot;${baseDir}/oss/de.danoeh.antennapod/app/build/outputs/apk/free/debug/app-free-debug.apk&quot;</td><td>20</td><td>3</td><td>5</td><td>0</td></tr><tr><td>&quot;${baseDir}/oss/org.connectbot/app/build/outputs/apk/oss/debug/app-oss-debug.apk&quot;</td><td>1</td><td>2</td><td>0</td><td>0</td></tr></table>"
      ]
     },
     "metadata": {},
     "output_type": "display_data"
    }
   ],
   "source": [
    "ReadResults.topByApp"
   ]
  },
  {
   "cell_type": "code",
   "execution_count": 27,
   "metadata": {},
   "outputs": [],
   "source": [
    "ReadResults.topByApp.filter(v => v.apk.contains(\"org.liberty.android\")).flatMap{_.row.err.toList.map{_.summary}}.foreach{println}"
   ]
  },
  {
   "cell_type": "code",
   "execution_count": 28,
   "metadata": {},
   "outputs": [
    {
     "name": "stdout",
     "output_type": "stream",
     "text": [
      "\"\\\"Witnessed\\\"\"\n",
      "{\"t\":\"DisallowedCallin\",\"className\":\"org.transdroid.core.seedbox.XirvikSharedSettingsActivity\",\"methodName\":\"void onPreferencesChanged()\",\"s\":\"{\\\"univQuant\\\":[{\\\"$type\\\":\\\"edu.colorado.plv.bounder.symbolicexecutor.state.NamedPureVar\\\",\\\"n\\\":\\\"t\\\"}],\\\"existQuant\\\":[],\\\"pred\\\":{\\\"$type\\\":\\\"edu.colorado.plv.bounder.lifestate.LifeState.OAbsMsg\\\",\\\"mt\\\":{\\\"$type\\\":\\\"edu.colorado.plv.bounder.ir.CIExit\\\"},\\\"signatures\\\":{\\\"$type\\\":\\\"edu.colorado.plv.bounder.lifestate.LifeState.SubClassMatcher\\\",\\\"baseSubtypeOf\\\":[\\\"android.os.AsyncTask\\\"],\\\"signatureMatcher\\\":\\\".*AsyncTask execute\\\\\\\\(.*\\\\\\\\)\\\",\\\"ident\\\":\\\"AsyncTask_execute\\\"},\\\"lsVars\\\":[{\\\"$type\\\":\\\"edu.colorado.plv.bounder.symbolicexecutor.state.TopVal\\\"},{\\\"$type\\\":\\\"edu.colorado.plv.bounder.symbolicexecutor.state.NamedPureVar\\\",\\\"n\\\":\\\"t\\\"}]},\\\"target\\\":{\\\"$type\\\":\\\"edu.colorado.plv.bounder.lifestate.LifeState.OAbsMsg\\\",\\\"mt\\\":{\\\"$type\\\":\\\"edu.colorado.plv.bounder.ir.CIEnter\\\"},\\\"signatures\\\":{\\\"$type\\\":\\\"edu.colorado.plv.bounder.lifestate.LifeState.SubClassMatcher\\\",\\\"baseSubtypeOf\\\":[\\\"android.os.AsyncTask\\\"],\\\"signatureMatcher\\\":\\\".*AsyncTask execute\\\\\\\\(.*\\\\\\\\)\\\",\\\"ident\\\":\\\"AsyncTask_execute\\\"},\\\"lsVars\\\":[{\\\"$type\\\":\\\"edu.colorado.plv.bounder.symbolicexecutor.state.TopVal\\\"},{\\\"$type\\\":\\\"edu.colorado.plv.bounder.symbolicexecutor.state.NamedPureVar\\\",\\\"n\\\":\\\"t\\\"}]}}\"}\n",
      "\"\\\"Witnessed\\\"\"\n",
      "{\"methodName\":\"boolean onActionItemClicked(android.view.ActionMode,android.view.MenuItem)\",\"line\":24,\"t\":\"ReceiverNonNull\",\"matcher\":\"java.lang.Object getSystemService(java.lang.String)\",\"className\":\"org.transdroid.core.gui.rss.RssItemsFragment$1\"}\n",
      "\"\\\"Witnessed\\\"\"\n",
      "{\"methodName\":\"boolean onOptionsItemSelected(android.view.MenuItem)\",\"line\":8,\"t\":\"ReceiverNonNull\",\"matcher\":\"void startActivity(android.content.Intent)\",\"className\":\"org.transdroid.core.gui.rss.RssFeedsFragment_\"}\n",
      "\"\\\"Witnessed\\\"\"\n",
      "{\"methodName\":\"void onViewChanged(org.androidannotations.api.view.HasViews)\",\"line\":7,\"t\":\"ReceiverNonNull\",\"matcher\":\"android.content.res.Resources getResources()\",\"className\":\"org.transdroid.core.gui.search.SearchResultsFragment_\"}\n",
      "\"\\\"Witnessed\\\"\"\n",
      "{\"t\":\"DisallowedCallin\",\"className\":\"net.margaritov.preference.colorpicker.ColorPickerDialog\",\"methodName\":\"void onClick(android.view.View)\",\"s\":\"{\\\"univQuant\\\":[{\\\"$type\\\":\\\"edu.colorado.plv.bounder.symbolicexecutor.state.NamedPureVar\\\",\\\"n\\\":\\\"d\\\"}],\\\"existQuant\\\":[{\\\"$type\\\":\\\"edu.colorado.plv.bounder.symbolicexecutor.state.NamedPureVar\\\",\\\"n\\\":\\\"a\\\"}],\\\"pred\\\":{\\\"$type\\\":\\\"edu.colorado.plv.bounder.lifestate.LifeState.And\\\",\\\"l1\\\":{\\\"$type\\\":\\\"edu.colorado.plv.bounder.lifestate.LifeState.OAbsMsg\\\",\\\"mt\\\":{\\\"$type\\\":\\\"edu.colorado.plv.bounder.ir.CIExit\\\"},\\\"signatures\\\":{\\\"$type\\\":\\\"edu.colorado.plv.bounder.lifestate.LifeState.SubClassMatcher\\\",\\\"baseSubtypeOf\\\":[\\\"android.app.ProgressDialog\\\",\\\"android.app.Dialog\\\"],\\\"signatureMatcher\\\":\\\".*show.*\\\",\\\"ident\\\":\\\"Dialog_show\\\"},\\\"lsVars\\\":[{\\\"$type\\\":\\\"edu.colorado.plv.bounder.symbolicexecutor.state.NamedPureVar\\\",\\\"n\\\":\\\"d\\\"},{\\\"$type\\\":\\\"edu.colorado.plv.bounder.symbolicexecutor.state.TopVal\\\"},{\\\"$type\\\":\\\"edu.colorado.plv.bounder.symbolicexecutor.state.NamedPureVar\\\",\\\"n\\\":\\\"a\\\"}]},\\\"l2\\\":{\\\"$type\\\":\\\"edu.colorado.plv.bounder.lifestate.LifeState.Or\\\",\\\"l1\\\":{\\\"$type\\\":\\\"edu.colorado.plv.bounder.lifestate.LifeState.Not\\\",\\\"p\\\":{\\\"$type\\\":\\\"edu.colorado.plv.bounder.lifestate.LifeState.OAbsMsg\\\",\\\"mt\\\":{\\\"$type\\\":\\\"edu.colorado.plv.bounder.ir.CBEnter\\\"},\\\"signatures\\\":{\\\"$type\\\":\\\"edu.colorado.plv.bounder.lifestate.LifeState.SubClassMatcher\\\",\\\"baseSubtypeOf\\\":[\\\"android.app.Activity\\\",\\\"androidx.fragment.app.FragmentActivity\\\"],\\\"signatureMatcher\\\":\\\"void onResume\\\\\\\\(\\\\\\\\)\\\",\\\"ident\\\":\\\"Activity_onResume\\\"},\\\"lsVars\\\":[{\\\"$type\\\":\\\"edu.colorado.plv.bounder.symbolicexecutor.state.TopVal\\\"},{\\\"$type\\\":\\\"edu.colorado.plv.bounder.symbolicexecutor.state.NamedPureVar\\\",\\\"n\\\":\\\"a\\\"}]}},\\\"l2\\\":{\\\"$type\\\":\\\"edu.colorado.plv.bounder.lifestate.LifeState.NS\\\",\\\"i1\\\":{\\\"$type\\\":\\\"edu.colorado.plv.bounder.lifestate.LifeState.OAbsMsg\\\",\\\"mt\\\":{\\\"$type\\\":\\\"edu.colorado.plv.bounder.ir.CBExit\\\"},\\\"signatures\\\":{\\\"$type\\\":\\\"edu.colorado.plv.bounder.lifestate.LifeState.SubClassMatcher\\\",\\\"baseSubtypeOf\\\":[\\\"android.app.Activity\\\",\\\"androidx.fragment.app.FragmentActivity\\\"],\\\"signatureMatcher\\\":\\\"void onPause\\\\\\\\(\\\\\\\\)\\\",\\\"ident\\\":\\\"Activity_onPause\\\"},\\\"lsVars\\\":[{\\\"$type\\\":\\\"edu.colorado.plv.bounder.symbolicexecutor.state.TopVal\\\"},{\\\"$type\\\":\\\"edu.colorado.plv.bounder.symbolicexecutor.state.NamedPureVar\\\",\\\"n\\\":\\\"a\\\"}]},\\\"i2\\\":{\\\"$type\\\":\\\"edu.colorado.plv.bounder.lifestate.LifeState.OAbsMsg\\\",\\\"mt\\\":{\\\"$type\\\":\\\"edu.colorado.plv.bounder.ir.CBEnter\\\"},\\\"signatures\\\":{\\\"$type\\\":\\\"edu.colorado.plv.bounder.lifestate.LifeState.SubClassMatcher\\\",\\\"baseSubtypeOf\\\":[\\\"android.app.Activity\\\",\\\"androidx.fragment.app.FragmentActivity\\\"],\\\"signatureMatcher\\\":\\\"void onResume\\\\\\\\(\\\\\\\\)\\\",\\\"ident\\\":\\\"Activity_onResume\\\"},\\\"lsVars\\\":[{\\\"$type\\\":\\\"edu.colorado.plv.bounder.symbolicexecutor.state.TopVal\\\"},{\\\"$type\\\":\\\"edu.colorado.plv.bounder.symbolicexecutor.state.NamedPureVar\\\",\\\"n\\\":\\\"a\\\"}]}}}},\\\"target\\\":{\\\"$type\\\":\\\"edu.colorado.plv.bounder.lifestate.LifeState.OAbsMsg\\\",\\\"mt\\\":{\\\"$type\\\":\\\"edu.colorado.plv.bounder.ir.CIEnter\\\"},\\\"signatures\\\":{\\\"$type\\\":\\\"edu.colorado.plv.bounder.lifestate.LifeState.SubClassMatcher\\\",\\\"baseSubtypeOf\\\":[\\\"android.app.ProgressDialog\\\",\\\"android.app.Dialog\\\"],\\\"signatureMatcher\\\":\\\"void dismiss\\\\\\\\(\\\\\\\\)\\\",\\\"ident\\\":\\\"Dialog_dismiss\\\"},\\\"lsVars\\\":[{\\\"$type\\\":\\\"edu.colorado.plv.bounder.symbolicexecutor.state.TopVal\\\"},{\\\"$type\\\":\\\"edu.colorado.plv.bounder.symbolicexecutor.state.NamedPureVar\\\",\\\"n\\\":\\\"d\\\"}]}}\"}\n",
      "\"\\\"Witnessed\\\"\"\n",
      "{\"methodName\":\"boolean onCreateActionMode(android.view.ActionMode,android.view.Menu)\",\"line\":5,\"t\":\"ReceiverNonNull\",\"matcher\":\"android.view.MenuInflater getMenuInflater()\",\"className\":\"org.transdroid.core.gui.DetailsFragment$1\"}\n"
     ]
    }
   ],
   "source": [
    "ReadResults.topByApp.filter(v => v.apk.contains(\"org.transdroid.lite\")).flatMap{_.row.witnessed.flatMap{r => r.getConfig.initialQuery.map(v => (r.summary,v) )}}.foreach{v => println(v._1);println(write[InitialQuery](v._2))}"
   ]
  },
  {
   "cell_type": "code",
   "execution_count": 21,
   "metadata": {},
   "outputs": [
    {
     "name": "stdout",
     "output_type": "stream",
     "text": [
      "Samples to specify: 0\n"
     ]
    },
    {
     "data": {
      "text/plain": [
       "defined \u001b[32mobject\u001b[39m \u001b[36mSamplesToSpecify\u001b[39m"
      ]
     },
     "execution_count": 21,
     "metadata": {},
     "output_type": "execute_result"
    }
   ],
   "source": [
    "// TODO: see if we can validate that the same alarms exist\n",
    "object SamplesToSpecify{\n",
    "    // choose 1 witness sample per app\n",
    "    def toInt(s: String): Option[Int] = {\n",
    "      try {\n",
    "        Some(s.toInt)\n",
    "      } catch {\n",
    "        case e: Exception => None\n",
    "      }\n",
    "    }\n",
    "    def createHeuristicDir(cfg:RunConfig) = {\n",
    "        val appDirName:String = cfg.outFolder.get.split(\"/\").last\n",
    "        val appDir = expDir / appDirName\n",
    "        appDir.createIfNotExists(asDirectory=true)\n",
    "        val heuristicDir = appDir / cfg.tag.heuristicType\n",
    "        heuristicDir.createIfNotExists(asDirectory=true)\n",
    "        heuristicDir\n",
    "    }\n",
    "    def writeSamples(count:Int) = {\n",
    "        // val samples = ReadResults.appList.map(app => ReadResults.sampleWitForTop(app)) //TODO: random choice needs to be moved so it gets more than one per app per run\n",
    "        val samples = ReadResults.topByApp.flatMap{appRes => \n",
    "            Random.shuffle(appRes.row.witnessed).take(count)\n",
    "        }\n",
    "        samples.zipWithIndex.foreach{\n",
    "            case (sample,ind) => \n",
    "                val cfg = sample.getConfig\n",
    "                val heuristicDir = createHeuristicDir(cfg)\n",
    "                val existingDir = heuristicDir.glob(\"*\").toList.filter(a => !a.name.startsWith(\".\"))\n",
    "                val existingConfigs = heuristicDir.glob(\"**/config.json\").toList.map(v => read[RunConfig](v.contentAsString))\n",
    "                val currentCfg = read[RunConfig](sample.config).copy(initialQuery=List(read[InitialQuery](sample.qry)))\n",
    "                if(existingDir.size < count){\n",
    "                    if(existingConfigs.forall(_ != currentCfg)){\n",
    "                        val nextNum = if(existingDir.isEmpty) 0 else{ existingDir.flatMap(v => toInt(v.name)).max + 1 }\n",
    "                        val sampleDir = heuristicDir / nextNum.toString\n",
    "                        sampleDir.createIfNotExists(asDirectory=true)\n",
    "                        (sampleDir / \"config.json\").overwrite(write[RunConfig](currentCfg))\n",
    "                    }\n",
    "                }\n",
    "                \n",
    "                // val f = expDir / s\"sample_${ind}\"\n",
    "                // assert(!f.exists())\n",
    "                // f.createIfNotExists(asDirectory=true)\n",
    "                // (f / \"apk\").overwrite(sample.apk)\n",
    "                // (f / \"summary\").overwrite(sample.summary)\n",
    "                // (f / \"configTop.json\").overwrite(write[RunConfig](read[RunConfig](sample.config).copy(initialQuery=List(read[InitialQuery](sample.qry)))))\n",
    "        }\n",
    "    }\n",
    "}\n",
    "SamplesToSpecify.writeSamples(1)\n",
    "println(s\"Samples to specify: ${expDir.glob(\"**/configTop.json\").toList.size}\")"
   ]
  },
  {
   "cell_type": "code",
   "execution_count": 47,
   "metadata": {},
   "outputs": [
    {
     "name": "stdout",
     "output_type": "stream",
     "text": [
      "29\n"
     ]
    },
    {
     "data": {
      "text/plain": [
       "\u001b[32mimport \u001b[39m\u001b[36medu.colorado.plv.bounder.lifestate.FragmentGetActivityNullSpec\n",
       "\u001b[39m\n",
       "\u001b[32mimport \u001b[39m\u001b[36medu.colorado.plv.bounder.lifestate.LifeState.{AbsMsg, LSSpec, LSPred, OAbsMsg, SetSignatureMatcher, Signature, SignatureMatcher, SubClassMatcher,Or,And,NS,Not}\n",
       "\u001b[39m\n",
       "\u001b[32mimport \u001b[39m\u001b[36medu.colorado.plv.bounder.symbolicexecutor.state.{BoolVal, Equals, NamedPureVar, NotEquals, NullVal, PureExpr, TopVal}\n",
       "\n",
       "\n",
       "\u001b[39m\n",
       "\u001b[32mimport \u001b[39m\u001b[36medu.colorado.plv.bounder.ir.{CBEnter, CBExit}\n",
       "\n",
       "\u001b[39m\n",
       "defined \u001b[32mobject\u001b[39m \u001b[36mToSpecify\u001b[39m"
      ]
     },
     "execution_count": 47,
     "metadata": {},
     "output_type": "execute_result"
    }
   ],
   "source": [
    "import edu.colorado.plv.bounder.lifestate.FragmentGetActivityNullSpec\n",
    "import edu.colorado.plv.bounder.lifestate.LifeState.{AbsMsg, LSSpec, LSPred, OAbsMsg, SetSignatureMatcher, Signature, SignatureMatcher, SubClassMatcher,Or,And,NS,Not}\n",
    "import edu.colorado.plv.bounder.symbolicexecutor.state.{BoolVal, Equals, NamedPureVar, NotEquals, NullVal, PureExpr, TopVal}\n",
    "\n",
    "\n",
    "import edu.colorado.plv.bounder.ir.{CBEnter, CBExit}\n",
    "\n",
    "object ToSpecify{\n",
    "    val allCfg = expDir.glob(\"**/config.json\").map{f => (f,read[RunConfig](f.contentAsString))}.toList\n",
    "}\n",
    "println(ToSpecify.allCfg.size)"
   ]
  },
  {
   "cell_type": "code",
   "execution_count": 47,
   "metadata": {},
   "outputs": [
    {
     "name": "stderr",
     "output_type": "stream",
     "text": [
      "cmd47.sc:17: value Fragment in object SpecSignatures cannot be accessed as a member of object edu.colorado.plv.bounder.lifestate.SpecSignatures from object Specify_0 in object Helper\n",
      "    val Fragment_onCreate: SignatureMatcher = SubClassMatcher(SpecSignatures.Fragment,\n",
      "                                                                             ^Compilation Failed"
     ]
    },
    {
     "ename": "",
     "evalue": "",
     "output_type": "error",
     "traceback": [
      "Compilation Failed"
     ]
    }
   ],
   "source": [
    "//ch.blinkenlights.android  (20 min 3 seconds so far) + \n",
    "// note: above pauses were checking other unrelated issues with historia implementation\n",
    "object Specify_0{\n",
    "    val initial = read[InitialQuery](\"\"\"\n",
    "        {\n",
    "          \"methodName\": \"void onClick(android.content.DialogInterface,int)\",\n",
    "          \"line\": 297,\n",
    "          \"t\": \"ReceiverNonNull\",\n",
    "          \"matcher\": \"void onBackPressed()\",\n",
    "          \"className\": \"ch.blinkenlights.android.vanilla.PreferencesActivity$HeadsetLaunchFragment$2\"\n",
    "        }\n",
    "      \"\"\")\n",
    "\n",
    "    private val mConfig = ToSpecify.allCfg.filter{case (_,cfg) => cfg.initialQuery.exists(v => v == initial)}\n",
    "    assert(mConfig.size == 1)\n",
    "    val config = mConfig.head._2\n",
    "    val configFile = mConfig.head._1\n",
    "    \n",
    "    val Fragment_onCreate: SignatureMatcher = SubClassMatcher(SpecSignatures.Fragment,\n",
    "          \"void onCreate\\\\(android.os.Bundle\\\\)\", \"Fragment_onCreate\")\n",
    "                                                                                                             \n",
    "    val Fragment_onCreate_entry: OAbsMsg = AbsMsg(CBEnter, Fragment_onCreate, TopVal::NamedPureVar(\"f\")::Nil)\n",
    "    val fragmentActivityNotAttached_improved: LSPred =\n",
    "        Or(And(\n",
    "            NS(SpecSignatures.Fragment_onDestroy_exit, SpecSignatures.Fragment_onActivityCreated_entry),\n",
    "            NS(SpecSignatures.Fragment_onDestroy_exit, Fragment_onCreate_entry)\n",
    "        ),\n",
    "          And(Not(SpecSignatures.Fragment_onActivityCreated_entry), Fragment_onCreate_entry))\n",
    "    val configWithSpec = config.copy(specSet = config.specSet.asInstanceOf[PickleSpec].copy(specs = Set(FragmentGetActivityNullSpec.getActivityNonNull)))\n",
    "    def writeSpec():Unit = {\n",
    "        val outf = File(configFile.toString + \"_spec.json\")\n",
    "        outf.overwrite(write(configWithSpec))\n",
    "    }\n",
    "}\n",
    "Specify_0.writeSpec()"
   ]
  },
  {
   "cell_type": "code",
   "execution_count": null,
   "metadata": {},
   "outputs": [],
   "source": []
  }
 ],
 "metadata": {
  "kernelspec": {
   "display_name": "Scala (almond 0.13.3)",
   "language": "scala",
   "name": "scalaalmond133"
  },
  "language_info": {
   "codemirror_mode": "text/x-scala",
   "file_extension": ".sc",
   "mimetype": "text/x-scala",
   "name": "scala",
   "nbconvert_exporter": "script",
   "version": "2.13.8"
  }
 },
 "nbformat": 4,
 "nbformat_minor": 4
}
