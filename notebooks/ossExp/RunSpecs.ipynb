{
 "cells": [
  {
   "cell_type": "code",
   "execution_count": 1,
   "metadata": {},
   "outputs": [
    {
     "data": {
      "text/plain": [
       "\u001b[36muserhome\u001b[39m: \u001b[32mString\u001b[39m = \u001b[32m\"/Users/shawnmeier\"\u001b[39m\n",
       "\u001b[36mjniPath\u001b[39m: \u001b[32mString\u001b[39m = \u001b[32m\"/Users/shawnmeier/software/z3/build\"\u001b[39m\n",
       "\u001b[36mnewPath\u001b[39m: \u001b[32mArray\u001b[39m[\u001b[32mString\u001b[39m] = \u001b[33mArray\u001b[39m(\n",
       "  \u001b[32m\"/Users/shawnmeier/software/z3/build\"\u001b[39m,\n",
       "  \u001b[32m\"/Users/shawnmeier/Library/Java/Extensions\"\u001b[39m,\n",
       "  \u001b[32m\"/Library/Java/Extensions\"\u001b[39m,\n",
       "  \u001b[32m\"/Network/Library/Java/Extensions\"\u001b[39m,\n",
       "  \u001b[32m\"/System/Library/Java/Extensions\"\u001b[39m,\n",
       "  \u001b[32m\"/usr/lib/java\"\u001b[39m,\n",
       "  \u001b[32m\".\"\u001b[39m\n",
       ")\n",
       "\u001b[36mres0_3\u001b[39m: \u001b[32mString\u001b[39m = \u001b[32m\"/Users/shawnmeier/Library/Java/Extensions:/Library/Java/Extensions:/Network/Library/Java/Extensions:/System/Library/Java/Extensions:/usr/lib/java:.\"\u001b[39m\n",
       "\u001b[36msysPathsField\u001b[39m: \u001b[32mjava\u001b[39m.\u001b[32mlang\u001b[39m.\u001b[32mreflect\u001b[39m.\u001b[32mField\u001b[39m = private static java.lang.String[] java.lang.ClassLoader.sys_paths\n",
       "\u001b[36mpath\u001b[39m: \u001b[32mString\u001b[39m = \u001b[32m\"/Users/shawnmeier/Documents/source/bounder/soot_hopper/target/scala-2.13/soot_hopper-assembly-0.1.jar\"\u001b[39m\n",
       "\u001b[32mimport \u001b[39m\u001b[36m$ivy.$                                          \n",
       "\u001b[39m\n",
       "\u001b[32mimport \u001b[39m\u001b[36m$ivy.$                                         \n",
       "\n",
       "\u001b[39m\n",
       "\u001b[32mimport \u001b[39m\u001b[36m$ivy.$                             \n",
       "// import $ivy.`edu.colorado.plv.bounder:soot_hopper_2.13:0.1`\n",
       "\n",
       "\u001b[39m\n",
       "\u001b[32mimport \u001b[39m\u001b[36mplotly._, element._, layout._, Plotly._\n",
       "\u001b[39m\n",
       "\u001b[32mimport \u001b[39m\u001b[36mujson.Value\n",
       "\u001b[39m\n",
       "\u001b[32mimport \u001b[39m\u001b[36msys.process._\n",
       "\n",
       "\u001b[39m\n",
       "\u001b[32mimport \u001b[39m\u001b[36m$ivy.$                              \n",
       "\n",
       "\u001b[39m\n",
       "\u001b[32mimport \u001b[39m\u001b[36mjupyter.Displayer, jupyter.Displayers\n",
       "\u001b[39m\n",
       "\u001b[32mimport \u001b[39m\u001b[36mscala.collection.JavaConverters._\n",
       "\u001b[39m\n",
       "\u001b[32mimport \u001b[39m\u001b[36mscala.collection.mutable\u001b[39m"
      ]
     },
     "execution_count": 1,
     "metadata": {},
     "output_type": "execute_result"
    }
   ],
   "source": [
    "// hacky way to set java path since macos breaks this\n",
    "val userhome = System.getProperty(\"user.home\")\n",
    "val jniPath = s\"${userhome}/software/z3/build\"\n",
    "val newPath = Array(jniPath) ++  System.getProperty(\"java.library.path\").split(\":\")\n",
    "System.setProperty(\"java.library.path\",newPath.distinct.mkString(\":\"))\n",
    "//set sys_paths to null so that java.library.path will be reevaluated next time it is needed\n",
    "val sysPathsField = classOf[ClassLoader].getDeclaredField(\"sys_paths\");\n",
    "sysPathsField.setAccessible(true);\n",
    "sysPathsField.set(null, null);\n",
    "// note: make sim link between bounder and Bounder due to macos case sensitivity before hand\n",
    "val path = s\"${userhome}/Documents/source/bounder/soot_hopper/target/scala-2.13/soot_hopper-assembly-0.1.jar\"\n",
    "//unzip -p jdiff.jar META-INF/MANIFEST.MF\n",
    "interp.load.cp(os.Path(path))\n",
    "\n",
    "import $ivy.`org.plotly-scala:plotly-almond_2.13:0.8.2`\n",
    "import $ivy.`com.github.pathikrit::better-files:3.9.1`\n",
    "\n",
    "import $ivy.`com.lihaoyi:ujson_2.13:1.3.8`\n",
    "// import $ivy.`edu.colorado.plv.bounder:soot_hopper_2.13:0.1`\n",
    "\n",
    "import plotly._, element._, layout._, Plotly._\n",
    "import ujson.Value\n",
    "import sys.process._\n",
    "\n",
    "import $ivy.`com.lihaoyi::scalatags:0.12.0`\n",
    "\n",
    "import jupyter.Displayer, jupyter.Displayers\n",
    "import scala.collection.JavaConverters._\n",
    "import scala.collection.mutable"
   ]
  },
  {
   "cell_type": "code",
   "execution_count": 2,
   "metadata": {},
   "outputs": [
    {
     "name": "stdout",
     "output_type": "stream",
     "text": [
      "java.library.path set to: /Users/shawnmeier/software/z3/build:/Users/shawnmeier/Library/Java/Extensions:/Library/Java/Extensions:/Network/Library/Java/Extensions:/System/Library/Java/Extensions:/usr/lib/java:.\n"
     ]
    },
    {
     "data": {
      "text/html": [
       "<div class=\"jp-RenderedText\">\n",
       "<pre><code><span style=\"color: rgb(0, 187, 0)\"><span class=\"ansi-green-fg\">import </span></span><span style=\"color: rgb(0, 187, 187)\"><span class=\"ansi-cyan-fg\">better.files._\n",
       "\n",
       "</span></span>\n",
       "<span style=\"color: rgb(0, 187, 0)\"><span class=\"ansi-green-fg\">import </span></span><span style=\"color: rgb(0, 187, 187)\"><span class=\"ansi-cyan-fg\">scala.util.Random\n",
       "</span></span>\n",
       "<span style=\"color: rgb(0, 187, 0)\"><span class=\"ansi-green-fg\">import </span></span><span style=\"color: rgb(0, 187, 187)\"><span class=\"ansi-cyan-fg\">edu.colorado.plv.bounder.Driver\n",
       "</span></span>\n",
       "<span style=\"color: rgb(0, 187, 0)\"><span class=\"ansi-green-fg\">import </span></span><span style=\"color: rgb(0, 187, 187)\"><span class=\"ansi-cyan-fg\">edu.colorado.plv.bounder.ExpTag\n",
       "</span></span>\n",
       "<span style=\"color: rgb(0, 187, 0)\"><span class=\"ansi-green-fg\">import </span></span><span style=\"color: rgb(0, 187, 187)\"><span class=\"ansi-cyan-fg\">edu.colorado.plv.bounder.Action\n",
       "</span></span>\n",
       "<span style=\"color: rgb(0, 187, 0)\"><span class=\"ansi-green-fg\">import </span></span><span style=\"color: rgb(0, 187, 187)\"><span class=\"ansi-cyan-fg\">edu.colorado.plv.bounder.RunConfig\n",
       "</span></span>\n",
       "<span style=\"color: rgb(0, 187, 0)\"><span class=\"ansi-green-fg\">import </span></span><span style=\"color: rgb(0, 187, 187)\"><span class=\"ansi-cyan-fg\">edu.colorado.plv.bounder.PickleSpec\n",
       "</span></span>\n",
       "<span style=\"color: rgb(0, 187, 0)\"><span class=\"ansi-green-fg\">import </span></span><span style=\"color: rgb(0, 187, 187)\"><span class=\"ansi-cyan-fg\">edu.colorado.plv.bounder.lifestate.SpecSpace\n",
       "</span></span>\n",
       "<span style=\"color: rgb(0, 187, 0)\"><span class=\"ansi-green-fg\">import </span></span><span style=\"color: rgb(0, 187, 187)\"><span class=\"ansi-cyan-fg\">edu.colorado.plv.bounder.lifestate.SpecSignatures\n",
       "</span></span>\n",
       "<span style=\"color: rgb(0, 187, 0)\"><span class=\"ansi-green-fg\">import </span></span><span style=\"color: rgb(0, 187, 187)\"><span class=\"ansi-cyan-fg\">edu.colorado.plv.bounder.symbolicexecutor.state.{InitialQuery,Reachable,ReceiverNonNull}\n",
       "</span></span>\n",
       "<span style=\"color: rgb(0, 187, 0)\"><span class=\"ansi-green-fg\">import </span></span><span style=\"color: rgb(0, 187, 187)\"><span class=\"ansi-cyan-fg\">upickle.default.read\n",
       "</span></span>\n",
       "<span style=\"color: rgb(0, 187, 0)\"><span class=\"ansi-green-fg\">import </span></span><span style=\"color: rgb(0, 187, 187)\"><span class=\"ansi-cyan-fg\">upickle.default.write\n",
       "</span></span>\n",
       "<span style=\"color: rgb(0, 187, 0)\"><span class=\"ansi-green-fg\">import </span></span><span style=\"color: rgb(0, 187, 187)\"><span class=\"ansi-cyan-fg\">scala.collection.parallel.CollectionConverters.{ImmutableSetIsParallelizable, IterableIsParallelizable}\n",
       "</span></span>\n",
       "<span style=\"color: rgb(0, 187, 0)\"><span class=\"ansi-green-fg\">import </span></span><span style=\"color: rgb(0, 187, 187)\"><span class=\"ansi-cyan-fg\">edu.colorado.plv.bounder.ExperimentsDb\n",
       "</span></span>\n",
       "<span style=\"color: rgb(0, 187, 0)\"><span class=\"ansi-green-fg\">import </span></span><span style=\"color: rgb(0, 187, 187)\"><span class=\"ansi-cyan-fg\">edu.colorado.plv.bounder.BounderUtil\n",
       "</span></span>\n",
       "<span style=\"color: rgb(0, 187, 0)\"><span class=\"ansi-green-fg\">import </span></span><span style=\"color: rgb(0, 187, 187)\"><span class=\"ansi-cyan-fg\">scala.concurrent.duration._\n",
       "</span></span>\n",
       "<span style=\"color: rgb(0, 187, 0)\"><span class=\"ansi-green-fg\">import </span></span><span style=\"color: rgb(0, 187, 187)\"><span class=\"ansi-cyan-fg\">scala.language.postfixOps\n",
       "</span></span>\n",
       "<span style=\"color: rgb(0, 187, 0)\"><span class=\"ansi-green-fg\">import </span></span><span style=\"color: rgb(0, 187, 187)\"><span class=\"ansi-cyan-fg\">slick.driver.H2Driver.api._\n",
       "</span></span>\n",
       "<span style=\"color: rgb(0, 187, 0)\"><span class=\"ansi-green-fg\">import </span></span><span style=\"color: rgb(0, 187, 187)\"><span class=\"ansi-cyan-fg\">slick.jdbc.GetResult\n",
       "</span></span>\n",
       "<span style=\"color: rgb(0, 187, 0)\"><span class=\"ansi-green-fg\">import </span></span><span style=\"color: rgb(0, 187, 187)\"><span class=\"ansi-cyan-fg\">slick.jdbc.SQLActionBuilder\n",
       "</span></span>\n",
       "<span style=\"color: rgb(0, 187, 0)\"><span class=\"ansi-green-fg\">import </span></span><span style=\"color: rgb(0, 187, 187)\"><span class=\"ansi-cyan-fg\">scala.concurrent.Await\n",
       "</span></span>\n",
       "<span style=\"color: rgb(0, 187, 0)\"><span class=\"ansi-green-fg\">import </span></span><span style=\"color: rgb(0, 187, 187)\"><span class=\"ansi-cyan-fg\">almond.interpreter.api.DisplayData\n",
       "\n",
       "</span></span>\n",
       "<span style=\"color: rgb(0, 187, 187)\"><span class=\"ansi-cyan-fg\">android_home_possible</span></span>: <span style=\"color: rgb(0, 187, 0)\"><span class=\"ansi-green-fg\">List</span></span>[<span style=\"color: rgb(0, 187, 0)\"><span class=\"ansi-green-fg\">String</span></span>] = <span style=\"color: yellow\"><span class=\"ansi-yellow-fg\">List</span></span>(\n",
       "  <span style=\"color: rgb(0, 187, 0)\"><span class=\"ansi-green-fg\">&quot;/Users/shawnmeier/Library/Android/sdk&quot;</span></span>,\n",
       "  <span style=\"color: rgb(0, 187, 0)\"><span class=\"ansi-green-fg\">&quot;/Users/shawnmeier/Android/Sdk&quot;</span></span>\n",
       ")\n",
       "<span style=\"color: rgb(0, 187, 187)\"><span class=\"ansi-cyan-fg\">android_home</span></span>: <span style=\"color: rgb(0, 187, 0)\"><span class=\"ansi-green-fg\">String</span></span> = <span style=\"color: rgb(0, 187, 0)\"><span class=\"ansi-green-fg\">&quot;/Users/shawnmeier/Library/Android/sdk&quot;</span></span>\n",
       "<span style=\"color: rgb(0, 187, 187)\"><span class=\"ansi-cyan-fg\">res1_26</span></span>: <span style=\"color: rgb(0, 187, 0)\"><span class=\"ansi-green-fg\">String</span></span> = <span style=\"color: rgb(0, 187, 0)\"><span class=\"ansi-green-fg\">&quot;/Users/shawnmeier/Documents/source/bounder/notebooks/ossExp&quot;</span></span>\n",
       "<span style=\"color: rgb(0, 187, 187)\"><span class=\"ansi-cyan-fg\">expDir</span></span>: <span style=\"color: rgb(0, 187, 0)\"><span class=\"ansi-green-fg\">File</span></span> = /Users/shawnmeier/Documents/source/bounder/notebooks/ossExp/SpecGen</code></pre>\n",
       "</div>"
      ],
      "text/plain": [
       "\u001b[32mimport \u001b[39m\u001b[36mbetter.files._\n",
       "\n",
       "\u001b[39m\n",
       "\u001b[32mimport \u001b[39m\u001b[36mscala.util.Random\n",
       "\u001b[39m\n",
       "\u001b[32mimport \u001b[39m\u001b[36medu.colorado.plv.bounder.Driver\n",
       "\u001b[39m\n",
       "\u001b[32mimport \u001b[39m\u001b[36medu.colorado.plv.bounder.ExpTag\n",
       "\u001b[39m\n",
       "\u001b[32mimport \u001b[39m\u001b[36medu.colorado.plv.bounder.Action\n",
       "\u001b[39m\n",
       "\u001b[32mimport \u001b[39m\u001b[36medu.colorado.plv.bounder.RunConfig\n",
       "\u001b[39m\n",
       "\u001b[32mimport \u001b[39m\u001b[36medu.colorado.plv.bounder.PickleSpec\n",
       "\u001b[39m\n",
       "\u001b[32mimport \u001b[39m\u001b[36medu.colorado.plv.bounder.lifestate.SpecSpace\n",
       "\u001b[39m\n",
       "\u001b[32mimport \u001b[39m\u001b[36medu.colorado.plv.bounder.lifestate.SpecSignatures\n",
       "\u001b[39m\n",
       "\u001b[32mimport \u001b[39m\u001b[36medu.colorado.plv.bounder.symbolicexecutor.state.{InitialQuery,Reachable,ReceiverNonNull}\n",
       "\u001b[39m\n",
       "\u001b[32mimport \u001b[39m\u001b[36mupickle.default.read\n",
       "\u001b[39m\n",
       "\u001b[32mimport \u001b[39m\u001b[36mupickle.default.write\n",
       "\u001b[39m\n",
       "\u001b[32mimport \u001b[39m\u001b[36mscala.collection.parallel.CollectionConverters.{ImmutableSetIsParallelizable, IterableIsParallelizable}\n",
       "\u001b[39m\n",
       "\u001b[32mimport \u001b[39m\u001b[36medu.colorado.plv.bounder.ExperimentsDb\n",
       "\u001b[39m\n",
       "\u001b[32mimport \u001b[39m\u001b[36medu.colorado.plv.bounder.BounderUtil\n",
       "\u001b[39m\n",
       "\u001b[32mimport \u001b[39m\u001b[36mscala.concurrent.duration._\n",
       "\u001b[39m\n",
       "\u001b[32mimport \u001b[39m\u001b[36mscala.language.postfixOps\n",
       "\u001b[39m\n",
       "\u001b[32mimport \u001b[39m\u001b[36mslick.driver.H2Driver.api._\n",
       "\u001b[39m\n",
       "\u001b[32mimport \u001b[39m\u001b[36mslick.jdbc.GetResult\n",
       "\u001b[39m\n",
       "\u001b[32mimport \u001b[39m\u001b[36mslick.jdbc.SQLActionBuilder\n",
       "\u001b[39m\n",
       "\u001b[32mimport \u001b[39m\u001b[36mscala.concurrent.Await\n",
       "\u001b[39m\n",
       "\u001b[32mimport \u001b[39m\u001b[36malmond.interpreter.api.DisplayData\n",
       "\n",
       "\u001b[39m\n",
       "\u001b[36mandroid_home_possible\u001b[39m: \u001b[32mList\u001b[39m[\u001b[32mString\u001b[39m] = \u001b[33mList\u001b[39m(\n",
       "  \u001b[32m\"/Users/shawnmeier/Library/Android/sdk\"\u001b[39m,\n",
       "  \u001b[32m\"/Users/shawnmeier/Android/Sdk\"\u001b[39m\n",
       ")\n",
       "\u001b[36mandroid_home\u001b[39m: \u001b[32mString\u001b[39m = \u001b[32m\"/Users/shawnmeier/Library/Android/sdk\"\u001b[39m\n",
       "\u001b[36mres1_26\u001b[39m: \u001b[32mString\u001b[39m = \u001b[32m\"/Users/shawnmeier/Documents/source/bounder/notebooks/ossExp\"\u001b[39m\n",
       "\u001b[36mexpDir\u001b[39m: \u001b[32mFile\u001b[39m = /Users/shawnmeier/Documents/source/bounder/notebooks/ossExp/SpecGen"
      ]
     },
     "metadata": {},
     "output_type": "display_data"
    }
   ],
   "source": [
    "import better.files._\n",
    "\n",
    "import scala.util.Random\n",
    "import edu.colorado.plv.bounder.Driver\n",
    "import edu.colorado.plv.bounder.ExpTag\n",
    "import edu.colorado.plv.bounder.Action\n",
    "import edu.colorado.plv.bounder.RunConfig\n",
    "import edu.colorado.plv.bounder.PickleSpec\n",
    "import edu.colorado.plv.bounder.lifestate.SpecSpace\n",
    "import edu.colorado.plv.bounder.lifestate.SpecSignatures\n",
    "import edu.colorado.plv.bounder.symbolicexecutor.state.{InitialQuery,Reachable,ReceiverNonNull}\n",
    "import upickle.default.read\n",
    "import upickle.default.write\n",
    "import scala.collection.parallel.CollectionConverters.{ImmutableSetIsParallelizable, IterableIsParallelizable}\n",
    "import edu.colorado.plv.bounder.ExperimentsDb\n",
    "import edu.colorado.plv.bounder.BounderUtil\n",
    "import scala.concurrent.duration._\n",
    "import scala.language.postfixOps\n",
    "import slick.driver.H2Driver.api._\n",
    "import slick.jdbc.GetResult\n",
    "import slick.jdbc.SQLActionBuilder\n",
    "import scala.concurrent.Await\n",
    "import almond.interpreter.api.DisplayData\n",
    "\n",
    "Driver.setZ3Path(s\"${userhome}/software/z3/build\")\n",
    "\n",
    "var android_home_possible = List(s\"${userhome}/Library/Android/sdk\", s\"${userhome}/Android/Sdk\")\n",
    "var android_home = android_home_possible.find(p => File(p).exists()).get             \n",
    "BounderUtil.setEnv(Map(\"DYLD_LIBRARY_PATH\" -> s\"${userhome}/software/z3/build\",\"ANDROID_HOME\" -> android_home,\"HOME\" -> userhome))\n",
    "\n",
    "System.setProperty(\"user.dir\", s\"${System.getProperty(\"user.home\")}/Documents/source/bounder/notebooks/ossExp/SpecGen\");\n",
    "val expDir = File(System.getProperty(\"user.dir\"))"
   ]
  },
  {
   "cell_type": "code",
   "execution_count": 3,
   "metadata": {},
   "outputs": [
    {
     "name": "stdout",
     "output_type": "stream",
     "text": [
      "Initializing database\n"
     ]
    },
    {
     "data": {
      "text/plain": [
       "\u001b[36mdb\u001b[39m: \u001b[32mExperimentsDb\u001b[39m = edu.colorado.plv.bounder.ExperimentsDb@718a33be\n",
       "defined \u001b[32mclass\u001b[39m \u001b[36mCount\u001b[39m\n",
       "defined \u001b[32mclass\u001b[39m \u001b[36mStrRes\u001b[39m\n",
       "\u001b[36mgetCountResult\u001b[39m: \u001b[32mAnyRef\u001b[39m with \u001b[32mGetResult\u001b[39m[\u001b[32mCount\u001b[39m] = <function1>\n",
       "\u001b[36mgetStrResult\u001b[39m: \u001b[32mAnyRef\u001b[39m with \u001b[32mGetResult\u001b[39m[\u001b[32mStrRes\u001b[39m] = <function1>\n",
       "defined \u001b[32mtrait\u001b[39m \u001b[36mTableAble\u001b[39m"
      ]
     },
     "execution_count": 3,
     "metadata": {},
     "output_type": "execute_result"
    }
   ],
   "source": [
    "val db = new ExperimentsDb(Some(s\"${userhome}/Documents/source/bounder/soot_hopper/target/scala-2.13/soot_hopper-assembly-0.1.jar\"))\n",
    "case class Count(n:Int)\n",
    "case class StrRes(s:String)\n",
    "implicit val getCountResult = GetResult(r => Count(r.<<))\n",
    "implicit val getStrResult = GetResult(r => StrRes(r.<<))\n",
    "\n",
    "//implement in a class so any sequence gets converted to a table that can be displayed in jupyter\n",
    "trait TableAble {\n",
    "  def headers:List[String]   \n",
    "  def values:List[Any]\n",
    "}\n",
    "\n",
    "Displayers.register(classOf[Seq[TableAble]], (people: Seq[TableAble]) => {\n",
    "  import scalatags.Text.all._\n",
    "  Map(\n",
    "    \"text/html\" -> {\n",
    "      table(cls:=\"table\")(\n",
    "        tr(people.head.headers.map(v => th(v))),\n",
    "        for (row <- people) yield tr(\n",
    "          row.values.map{\n",
    "              case v:String => td(v)\n",
    "              case v:Int => td(v)\n",
    "          }\n",
    "        )\n",
    "      ).render\n",
    "    }\n",
    "  ).asJava\n",
    "})"
   ]
  },
  {
   "cell_type": "code",
   "execution_count": 4,
   "metadata": {},
   "outputs": [
    {
     "name": "stdout",
     "output_type": "stream",
     "text": [
      "all results: 6\n",
      "all top results: 6\n",
      "all top results by qry: 6\n"
     ]
    },
    {
     "data": {
      "text/plain": [
       "defined \u001b[32mclass\u001b[39m \u001b[36mJoinedResultRow\u001b[39m\n",
       "defined \u001b[32mclass\u001b[39m \u001b[36mSummaryRow\u001b[39m\n",
       "defined \u001b[32mclass\u001b[39m \u001b[36mApkSummaryRow\u001b[39m\n",
       "\u001b[36mgetCoffeeResult\u001b[39m: \u001b[32mAnyRef\u001b[39m with \u001b[32mGetResult\u001b[39m[\u001b[32mJoinedResultRow\u001b[39m] = <function1>\n",
       "defined \u001b[32mobject\u001b[39m \u001b[36mReadResults\u001b[39m"
      ]
     },
     "execution_count": 4,
     "metadata": {},
     "output_type": "execute_result"
    }
   ],
   "source": [
    "case class JoinedResultRow(tag:String, summary:String, loc:List[String], qry:String, config:String, apk:String) extends TableAble{\n",
    "    override def toString = s\"JoinedResultRow(summary = ${summary}, apk = ${apk}\"\n",
    "    def getSummary:BounderUtil.ResultSummary = read[BounderUtil.ResultSummary](summary)\n",
    "    val getConfig:RunConfig = read[RunConfig](config)\n",
    "    val getInitQuery = read[InitialQuery](qry)\n",
    "    assert(getConfig.initialQuery.exists{q => q == getInitQuery})\n",
    "    def headers = List(\"tag\", \"summary\", \"qry\", \"apk\")\n",
    "    def values = List (tag  ,  summary , qry  , apk)\n",
    "    def merge(other:JoinedResultRow):JoinedResultRow = {\n",
    "        assert(tag == other.tag)\n",
    "        assert(qry == other.qry)\n",
    "        assert(config == other.config)\n",
    "        assert(apk == other.apk)\n",
    "        \n",
    "        JoinedResultRow(tag, write[BounderUtil.ResultSummary](Driver.reduceResults(getSummary, other.getSummary)), loc ++ other.loc,qry, config, apk)\n",
    "    }\n",
    "}\n",
    "\n",
    "case class SummaryRow(witnessed:Set[JoinedResultRow] = Set.empty, unreachable:Set[JoinedResultRow] = Set.empty, \n",
    "                      timeout:Set[JoinedResultRow] = Set.empty, err:Set[JoinedResultRow] = Set.empty) extends TableAble{\n",
    "    def headers =  List(\"witnessed\", \"unreachable\", \"timeout\", \"err\")\n",
    "    def values = List(witnessed.size, unreachable.size, timeout.size, err.size)\n",
    "    def add(row:JoinedResultRow):SummaryRow = {\n",
    "        row.getSummary match{\n",
    "            case BounderUtil.Timeout => this.copy(timeout = timeout + row)\n",
    "            case BounderUtil.Witnessed => this.copy(witnessed = witnessed + row)\n",
    "            case BounderUtil.Unreachable => this.copy(unreachable = unreachable + row)\n",
    "            case BounderUtil.Interrupted(_) => this.copy(err = err + row)\n",
    "        }\n",
    "    }\n",
    "}\n",
    "case class ApkSummaryRow(apk:String, row:SummaryRow = SummaryRow()) extends TableAble{\n",
    "    def headers = \"apk\"::row.headers\n",
    "    def values = apk::row.values\n",
    "    def add(newRow:JoinedResultRow):ApkSummaryRow = {\n",
    "        assert(newRow.apk == apk)\n",
    "        this.copy(row = row.add(newRow))\n",
    "    }\n",
    "}\n",
    "\n",
    "\n",
    "\n",
    "implicit val getCoffeeResult = GetResult(r => JoinedResultRow(r.<<, r.<<, List(r.<<), r.<<, r.<<, r.<<))\n",
    "object ReadResults{\n",
    "//where cast(results.result::json->'summary' as varchar) like '%Witnessed%' or cast(results.result::json->'summary' as varchar) like '%timeout%'\n",
    "    //TODO:==== figure out if this query is counting things correctly\n",
    "    def selectResults() = {\n",
    "        val q = sql\"\"\"select results.jobtag, cast(results.result::json->'summary' as varchar), results.loc, results.qry, jobs.config as cfg, \n",
    "        cast(jobs.config::json->'apkPath' as varchar) as benchmark from results inner join jobs on jobs.id=results.jobid\"\"\"\n",
    "        Await.result(db.db.run(q.as[JoinedResultRow]), 30 seconds)   \n",
    "    }\n",
    "    val allResults = selectResults()\n",
    "    \n",
    "    val rand = new scala.util.Random\n",
    "    \n",
    "    // Top model\n",
    "    val allTopResults = allResults.filter(res => read[ExpTag](res.tag).specRefinement == \"\")\n",
    "    val topResultsByQuery = allTopResults.groupBy(res => (res.apk,res.qry)).map{ // each query can have multiple locations, we just merge them\n",
    "        case (_, rows) => rows.reduce((a:JoinedResultRow,b:JoinedResultRow) => a.merge(b))\n",
    "    }.toSeq\n",
    "    val topByApp:Seq[ApkSummaryRow] = topResultsByQuery.foldLeft(Map[String,ApkSummaryRow]()){\n",
    "        case (acc,joinedRow) => \n",
    "            acc + (joinedRow.apk -> acc.getOrElse(joinedRow.apk, ApkSummaryRow(joinedRow.apk)).add(joinedRow))    \n",
    "    }.values.toSeq.sortBy(_.apk)\n",
    "    val appList = topByApp.map{v => v.apk}\n",
    "    val topByResult = Seq(topResultsByQuery.foldLeft(SummaryRow()){\n",
    "        case (acc, joinedRow) => acc.add(joinedRow)\n",
    "    })\n",
    "    def summaryForApkTop(app:String) = {\n",
    "        val res = topByApp.filter(row => row.apk.contains(app))\n",
    "        assert(res.size == 1, s\"Failure, wrong number of results ${res.size}\")\n",
    "        res.head\n",
    "    }\n",
    "    def sampleWitForTop(app:String) = {\n",
    "        val summary = summaryForApkTop(app)\n",
    "        val witnesses = summary.row.witnessed.toList\n",
    "        if(witnesses.isEmpty)\n",
    "            None\n",
    "        else{\n",
    "            val max = witnesses.size\n",
    "            Some(witnesses(rand.nextInt(max)))\n",
    "        }\n",
    "    }\n",
    "    def getTopCfgFor(app:String,clazz:String,method:String,line:Option[Int]) = {\n",
    "        ???\n",
    "    }\n",
    "    \n",
    "}\n",
    "println(s\"all results: ${ReadResults.allResults.size}\")\n",
    "println(s\"all top results: ${ReadResults.allTopResults.size}\")\n",
    "println(s\"all top results by qry: ${ReadResults.topResultsByQuery.size}\")"
   ]
  },
  {
   "cell_type": "code",
   "execution_count": 5,
   "metadata": {},
   "outputs": [
    {
     "data": {
      "text/html": [
       "<table class=\"table\"><tr><th>witnessed</th><th>unreachable</th><th>timeout</th><th>err</th></tr><tr><td>3</td><td>3</td><td>0</td><td>0</td></tr></table>"
      ]
     },
     "metadata": {},
     "output_type": "display_data"
    }
   ],
   "source": [
    "ReadResults.topByResult"
   ]
  },
  {
   "cell_type": "code",
   "execution_count": 6,
   "metadata": {},
   "outputs": [
    {
     "data": {
      "text/html": [
       "<table class=\"table\"><tr><th>apk</th><th>witnessed</th><th>unreachable</th><th>timeout</th><th>err</th></tr><tr><td>&quot;${baseDir}/fdroid/com.gpl.rpg.AndorsTrail/0.8.3/apk/com.gpl.rpg.AndorsTrail_67.apk&quot;</td><td>0</td><td>1</td><td>0</td><td>0</td></tr><tr><td>&quot;${baseDir}/fdroid/com.seafile.seadroid2/2.2.48/apk/com.seafile.seadroid2_123.apk&quot;</td><td>0</td><td>1</td><td>0</td><td>0</td></tr><tr><td>&quot;${baseDir}/fdroid/de.blinkt.openvpn/0.7.43/apk/de.blinkt.openvpn_198.apk&quot;</td><td>1</td><td>0</td><td>0</td><td>0</td></tr><tr><td>&quot;${baseDir}/fdroid/jwtc.android.chess/9.3.10/apk/jwtc.android.chess_192.apk&quot;</td><td>1</td><td>0</td><td>0</td><td>0</td></tr><tr><td>&quot;${baseDir}/fdroid/net.justdave.nwsweatheralertswidget/1.1.4/apk/net.justdave.nwsweatheralertswidget_12.apk&quot;</td><td>0</td><td>1</td><td>0</td><td>0</td></tr><tr><td>&quot;${baseDir}/fdroid/org.sufficientlysecure.keychain/5.8.2/apk/org.sufficientlysecure.keychain_58902.apk&quot;</td><td>1</td><td>0</td><td>0</td><td>0</td></tr></table>"
      ]
     },
     "metadata": {},
     "output_type": "display_data"
    }
   ],
   "source": [
    "ReadResults.topByApp"
   ]
  },
  {
   "cell_type": "code",
   "execution_count": 7,
   "metadata": {},
   "outputs": [
    {
     "name": "stdout",
     "output_type": "stream",
     "text": [
      "Samples to specify: 0\n"
     ]
    },
    {
     "data": {
      "text/plain": [
       "defined \u001b[32mobject\u001b[39m \u001b[36mSamplesToSpecify\u001b[39m"
      ]
     },
     "execution_count": 7,
     "metadata": {},
     "output_type": "execute_result"
    }
   ],
   "source": [
    "// TODO: see if we can validate that the same alarms exist\n",
    "object SamplesToSpecify{\n",
    "    // choose 1 witness sample per app\n",
    "    def toInt(s: String): Option[Int] = {\n",
    "      try {\n",
    "        Some(s.toInt)\n",
    "      } catch {\n",
    "        case e: Exception => None\n",
    "      }\n",
    "    }\n",
    "    def createHeuristicDir(cfg:RunConfig) = {\n",
    "        val appDirName:String = cfg.outFolder.get.split(\"/\").last\n",
    "        val appDir = expDir / appDirName\n",
    "        appDir.createIfNotExists(asDirectory=true)\n",
    "        val heuristicDir = appDir / cfg.tag.heuristicType\n",
    "        heuristicDir.createIfNotExists(asDirectory=true)\n",
    "        heuristicDir\n",
    "    }\n",
    "    def writeSamples(count:Int) = {\n",
    "        // val samples = ReadResults.appList.map(app => ReadResults.sampleWitForTop(app)) //TODO: random choice needs to be moved so it gets more than one per app per run\n",
    "        val samples = ReadResults.topByApp.flatMap{appRes => \n",
    "            Random.shuffle(appRes.row.witnessed).take(count)\n",
    "        }\n",
    "        samples.zipWithIndex.foreach{\n",
    "            case (sample,ind) => \n",
    "                val cfg = sample.getConfig\n",
    "                val heuristicDir = createHeuristicDir(cfg)\n",
    "                val existingDir = heuristicDir.glob(\"*\").toList.filter(a => !a.name.startsWith(\".\"))\n",
    "                val existingConfigs = heuristicDir.glob(\"**/config.json\").toList.map(v => read[RunConfig](v.contentAsString))\n",
    "                val currentCfg = read[RunConfig](sample.config).copy(initialQuery=List(read[InitialQuery](sample.qry)))\n",
    "                if(existingDir.size < count){\n",
    "                    if(existingConfigs.forall(_ != currentCfg)){\n",
    "                        val nextNum = if(existingDir.isEmpty) 0 else{ existingDir.flatMap(v => toInt(v.name)).max + 1 }\n",
    "                        val sampleDir = heuristicDir / nextNum.toString\n",
    "                        sampleDir.createIfNotExists(asDirectory=true)\n",
    "                        (sampleDir / \"config.json\").overwrite(write[RunConfig](currentCfg))\n",
    "                    }\n",
    "                }\n",
    "                \n",
    "                // val f = expDir / s\"sample_${ind}\"\n",
    "                // assert(!f.exists())\n",
    "                // f.createIfNotExists(asDirectory=true)\n",
    "                // (f / \"apk\").overwrite(sample.apk)\n",
    "                // (f / \"summary\").overwrite(sample.summary)\n",
    "                // (f / \"configTop.json\").overwrite(write[RunConfig](read[RunConfig](sample.config).copy(initialQuery=List(read[InitialQuery](sample.qry)))))\n",
    "        }\n",
    "    }\n",
    "}\n",
    "SamplesToSpecify.writeSamples(1)\n",
    "println(s\"Samples to specify: ${expDir.glob(\"**/configTop.json\").toList.size}\")"
   ]
  },
  {
   "cell_type": "code",
   "execution_count": 8,
   "metadata": {},
   "outputs": [
    {
     "name": "stdout",
     "output_type": "stream",
     "text": [
      "37\n"
     ]
    },
    {
     "data": {
      "text/plain": [
       "\u001b[32mimport \u001b[39m\u001b[36medu.colorado.plv.bounder.lifestate.FragmentGetActivityNullSpec\n",
       "\u001b[39m\n",
       "\u001b[32mimport \u001b[39m\u001b[36medu.colorado.plv.bounder.lifestate.LifeState.{AbsMsg, LSSpec, LSPred, OAbsMsg, SetSignatureMatcher, Signature, SignatureMatcher, SubClassMatcher,Or,And,NS,Not}\n",
       "\u001b[39m\n",
       "\u001b[32mimport \u001b[39m\u001b[36medu.colorado.plv.bounder.symbolicexecutor.state.{BoolVal, Equals, NamedPureVar, NotEquals, NullVal, PureExpr, TopVal}\n",
       "\n",
       "\n",
       "\u001b[39m\n",
       "\u001b[32mimport \u001b[39m\u001b[36medu.colorado.plv.bounder.ir.{CBEnter, CBExit, CIExit}\n",
       "\n",
       "\u001b[39m\n",
       "defined \u001b[32mobject\u001b[39m \u001b[36mToSpecify\u001b[39m\n",
       "\u001b[36mf\u001b[39m: \u001b[32mNamedPureVar\u001b[39m = \u001b[33mNamedPureVar\u001b[39m(n = \u001b[32m\"f\"\u001b[39m)\n",
       "\u001b[36mb\u001b[39m: \u001b[32mNamedPureVar\u001b[39m = \u001b[33mNamedPureVar\u001b[39m(n = \u001b[32m\"b\"\u001b[39m)\n",
       "\u001b[36ml\u001b[39m: \u001b[32mNamedPureVar\u001b[39m = \u001b[33mNamedPureVar\u001b[39m(n = \u001b[32m\"l\"\u001b[39m)"
      ]
     },
     "execution_count": 8,
     "metadata": {},
     "output_type": "execute_result"
    }
   ],
   "source": [
    "import edu.colorado.plv.bounder.lifestate.FragmentGetActivityNullSpec\n",
    "import edu.colorado.plv.bounder.lifestate.LifeState.{AbsMsg, LSSpec, LSPred, OAbsMsg, SetSignatureMatcher, Signature, SignatureMatcher, SubClassMatcher,Or,And,NS,Not}\n",
    "import edu.colorado.plv.bounder.symbolicexecutor.state.{BoolVal, Equals, NamedPureVar, NotEquals, NullVal, PureExpr, TopVal}\n",
    "\n",
    "\n",
    "import edu.colorado.plv.bounder.ir.{CBEnter, CBExit, CIExit}\n",
    "\n",
    "object ToSpecify{\n",
    "    val allCfg = expDir.glob(\"**/config.json\").map{f => (f,read[RunConfig](f.contentAsString))}.toList\n",
    "}\n",
    "val f = NamedPureVar(\"f\")\n",
    "val b = NamedPureVar(\"b\")\n",
    "val l = NamedPureVar(\"l\")\n",
    "println(ToSpecify.allCfg.size)"
   ]
  },
  {
   "cell_type": "code",
   "execution_count": 8,
   "metadata": {},
   "outputs": [
    {
     "name": "stderr",
     "output_type": "stream",
     "text": [
      "cmd8.sc:38: not found: value a\n",
      "    val DialogBuilder_init = AbsMsg(CIExit,SubClassMatcher(DialogBuilder, \"android.app.AlertDialog\\\\$Builder void <init>\\\\(android.content.Context\\\\)\", \"DialogBuilder_init\"), TopVal::b::a::Nil)\n",
      "                                                                                                                                                                                          ^cmd8.sc:50: not found: value a\n",
      "    val Dialog_onClick_reg = LSSpec(l::Nil,a::b::f::Nil,\n",
      "                                           ^Compilation Failed"
     ]
    },
    {
     "ename": "",
     "evalue": "",
     "output_type": "error",
     "traceback": [
      "Compilation Failed"
     ]
    }
   ],
   "source": [
    "//ch.blinkenlights.android  (20 min 3 seconds so far) + (42:28) + (9:15) + (8:32) + (3:09)\n",
    "// note: above pauses were checking other unrelated issues with historia implementation\n",
    "object Specify_0{\n",
    "    val initial = read[InitialQuery](\"\"\"\n",
    "        {\n",
    "          \"methodName\": \"void onClick(android.content.DialogInterface,int)\",\n",
    "          \"line\": 297,\n",
    "          \"t\": \"ReceiverNonNull\",\n",
    "          \"matcher\": \"void onBackPressed()\",\n",
    "          \"className\": \"ch.blinkenlights.android.vanilla.PreferencesActivity$HeadsetLaunchFragment$2\"\n",
    "        }\n",
    "      \"\"\").asInstanceOf[ReceiverNonNull]\n",
    "    val reachableDual = Reachable(initial.sig, initial.line)\n",
    "\n",
    "    private val mConfig = ToSpecify.allCfg.filter{case (_,cfg) => cfg.initialQuery.exists(v => v == initial)}\n",
    "    assert(mConfig.size == 1)\n",
    "    val config = mConfig.head._2.copy(componentFilter = Some(Seq(\"ch.blinkenlights.android.vanilla.PreferencesActivity.*\",\n",
    "                                                                 \"!ch.blinkenlights.android.vanilla.PreferencesActivity\\\\$HelpFragment\",\n",
    "                                                                 \"!ch.blinkenlights.android.vanilla.PreferencesActivity\\\\$EqualizerFragment\", \n",
    "                                                                 \"!ch.blinkenlights.android.vanilla.PreferencesActivity\\\\$PlaylistFragment\",\n",
    "                                                                 \"!ch.blinkenlights.android.vanilla.PreferencesActivity\\\\$ReplayGainFragment\", \n",
    "                                                                 \"!ch.blinkenlights.android.vanilla.PreferencesActivity\\\\$CoverArtFragment\", \n",
    "                                                                 \"!ch.blinkenlights.android.vanilla.PreferencesActivity\\\\$NotificationsFragment\", \n",
    "                                                                 \"!ch.blinkenlights.android.vanilla.PreferencesActivity\\\\$MiscFragment\")))\n",
    "    val configFile = mConfig.head._1\n",
    "    \n",
    "    val Fragment_onCreate: SignatureMatcher = SubClassMatcher(SpecSignatures.Fragment,\n",
    "          \"void onCreate\\\\(android.os.Bundle\\\\)\", \"Fragment_onCreate\")\n",
    "                                                                                                             \n",
    "    val Fragment_onCreate_entry: OAbsMsg = AbsMsg(CBEnter, Fragment_onCreate, TopVal::f::Nil)\n",
    "    val fragmentActivityNotAttached_improved: LSPred =\n",
    "        Or(And(\n",
    "            NS(SpecSignatures.Fragment_onDestroy_exit, SpecSignatures.Fragment_onActivityCreated_entry),\n",
    "            NS(SpecSignatures.Fragment_onDestroy_exit, Fragment_onCreate_entry)\n",
    "        ),\n",
    "          And(Not(SpecSignatures.Fragment_onActivityCreated_entry), Not(Fragment_onCreate_entry)))\n",
    "    val fragment_resumed:LSPred = NS(Fragment_onCreate_entry, SpecSignatures.Fragment_onDestroy_exit)\n",
    "    val fragment_create_only_once:LSSpec = LSSpec(f::Nil, Nil, Not(Fragment_onCreate_entry), Fragment_onCreate_entry)\n",
    "    val DialogBuilder = Set(\"android.app.AlertDialog$Builder\")\n",
    "    val DialogBuilder_init = AbsMsg(CIExit,SubClassMatcher(DialogBuilder, \"android.app.AlertDialog\\\\$Builder void <init>\\\\(android.content.Context\\\\)\", \"DialogBuilder_init\"), TopVal::b::a::Nil)\n",
    "    val DialogBuilder_set__Button= (negPos:String) => AbsMsg(CIExit, \n",
    "                                                         SubClassMatcher(DialogBuilder,\n",
    "                                                         \"android.app.AlertDialog\\\\$Builder set\" + negPos + \"Button\\\\(int,android.content.DialogInterface\\\\$OnClickListener\\\\)\",\n",
    "                                                         s\"DialogBuilder_set${negPos}Button\"), TopVal::b::TopVal::l::Nil)\n",
    "    val DialogBuilder_setNegativeButton = DialogBuilder_set__Button(\"Negative\")\n",
    "    val DialogBuilder_setPositiveButton = DialogBuilder_set__Button(\"Positive\")\n",
    "    val DialogOnClick_onClick = AbsMsg(CBEnter,\n",
    "                                       SubClassMatcher(Set(\"android.content.DialogInterface$OnClickListener\"),\n",
    "                                                       \"void onClick\\\\(android.content.DialogInterface,int\\\\)\",\n",
    "                                                       \"DialogOnClick_onClick\"), TopVal::l::Nil)\n",
    "    \n",
    "    val Dialog_onClick_reg = LSSpec(l::Nil,a::b::f::Nil,\n",
    "      And(And(And(SpecSignatures.Fragment_get_activity_exit,DialogBuilder_init), fragment_resumed),\n",
    "      Or(DialogBuilder_setNegativeButton,DialogBuilder_setPositiveButton)), DialogOnClick_onClick)\n",
    "    \n",
    "    val configWithSpec = config.copy(specSet = config.specSet.asInstanceOf[PickleSpec]\n",
    "                                     .copy(specs = \n",
    "                                           Set(\n",
    "                                               fragment_create_only_once,\n",
    "                                               FragmentGetActivityNullSpec.getActivityNull.copy(pred = fragmentActivityNotAttached_improved),\n",
    "                                               Dialog_onClick_reg\n",
    "                                              )))\n",
    "    def writeSpec():Unit = {\n",
    "        // verify with added specification\n",
    "        val outf = configFile.parent / \"config_spec.json\"\n",
    "        outf.overwrite(write(configWithSpec))\n",
    "        \n",
    "        //check that line is reachable under normal circumstances\n",
    "        val outfReach = configFile.parent / \"config_spec_locreach.json\"\n",
    "        outfReach.overwrite(write(configWithSpec.copy(initialQuery = List(reachableDual))))\n",
    "    }\n",
    "}\n",
    "Specify_0.writeSpec()"
   ]
  },
  {
   "cell_type": "markdown",
   "metadata": {},
   "source": [
    "Compare size of app - callback numbers - callback numbers after manual filtering\n",
    "By taking the app only perspective we have made the problem harder - what metrics help us tell this story?\n",
    "- metric: number of callbacks that flowdroid finds versus what app only call graph finds\n",
    "-"
   ]
  },
  {
   "cell_type": "code",
   "execution_count": null,
   "metadata": {},
   "outputs": [],
   "source": [
    "Specify_0.initial"
   ]
  },
  {
   "cell_type": "code",
   "execution_count": 17,
   "metadata": {},
   "outputs": [
    {
     "name": "stdout",
     "output_type": "stream",
     "text": [
      "List((1,a), (2,b))\n"
     ]
    }
   ],
   "source": [
    "println(List(1,2,3) zip List('a','b'))\n"
   ]
  },
  {
   "cell_type": "code",
   "execution_count": null,
   "metadata": {},
   "outputs": [],
   "source": []
  }
 ],
 "metadata": {
  "kernelspec": {
   "display_name": "Scala",
   "language": "scala",
   "name": "scala"
  },
  "language_info": {
   "codemirror_mode": "text/x-scala",
   "file_extension": ".sc",
   "mimetype": "text/x-scala",
   "name": "scala",
   "nbconvert_exporter": "script",
   "version": "2.13.4"
  }
 },
 "nbformat": 4,
 "nbformat_minor": 4
}
