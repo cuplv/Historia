{
 "cells": [
  {
   "cell_type": "code",
   "execution_count": null,
   "metadata": {},
   "outputs": [],
   "source": [
    "// hacky way to set java path since macos breaks this\n",
    "val userhome = System.getProperty(\"user.home\")\n",
    "val jniPath = s\"${userhome}/software/z3/build\"\n",
    "val newPath = Array(jniPath) ++  System.getProperty(\"java.library.path\").split(\":\")\n",
    "System.setProperty(\"java.library.path\",newPath.distinct.mkString(\":\"))\n",
    "//set sys_paths to null so that java.library.path will be reevaluated next time it is needed\n",
    "val sysPathsField = classOf[ClassLoader].getDeclaredField(\"sys_paths\");\n",
    "sysPathsField.setAccessible(true);\n",
    "sysPathsField.set(null, null);\n",
    "// note: make sim link between bounder and Bounder due to macos case sensitivity before hand\n",
    "val path = s\"${userhome}/Documents/source/bounder/soot_hopper/target/scala-2.13/soot_hopper-assembly-0.1.jar\"\n",
    "//unzip -p jdiff.jar META-INF/MANIFEST.MF\n",
    "interp.load.cp(os.Path(path))\n",
    "\n",
    "import $ivy.`org.plotly-scala:plotly-almond_2.13:0.8.2`\n",
    "import $ivy.`com.github.pathikrit::better-files:3.9.1`\n",
    "\n",
    "import $ivy.`com.lihaoyi:ujson_2.13:1.3.8`\n",
    "// import $ivy.`edu.colorado.plv.bounder:soot_hopper_2.13:0.1`\n",
    "\n",
    "import plotly._, element._, layout._, Plotly._\n",
    "import ujson.Value\n",
    "import sys.process._"
   ]
  },
  {
   "cell_type": "code",
   "execution_count": null,
   "metadata": {},
   "outputs": [],
   "source": [
    "import better.files._\n",
    "\n",
    "import scala.util.Random\n",
    "import edu.colorado.plv.bounder.Driver\n",
    "import edu.colorado.plv.bounder.Action\n",
    "import edu.colorado.plv.bounder.RunConfig\n",
    "import edu.colorado.plv.bounder.PickleSpec\n",
    "import edu.colorado.plv.bounder.lifestate.SpecSpace\n",
    "import edu.colorado.plv.bounder.lifestate.SpecSignatures\n",
    "import upickle.default.read\n",
    "import upickle.default.write\n",
    "import scala.collection.parallel.CollectionConverters.{ImmutableSetIsParallelizable, IterableIsParallelizable}\n",
    "import edu.colorado.plv.bounder.ExperimentsDb\n",
    "import edu.colorado.plv.bounder.BounderUtil\n",
    "import scala.concurrent.duration._\n",
    "import scala.language.postfixOps\n",
    "import slick.driver.H2Driver.api._\n",
    "import slick.jdbc.GetResult\n",
    "import slick.jdbc.SQLActionBuilder\n",
    "import scala.concurrent.Await\n",
    "Driver.setZ3Path(s\"${userhome}/software/z3/build\")\n",
    "\n",
    "var android_home_possible = List(s\"${userhome}/Library/Android/sdk\", s\"${userhome}/Android/Sdk\")\n",
    "var android_home = android_home_possible.find(p => File(p).exists()).get             \n",
    "BounderUtil.setEnv(Map(\"DYLD_LIBRARY_PATH\" -> s\"${userhome}/software/z3/build\",\"ANDROID_HOME\" -> android_home,\"HOME\" -> userhome))"
   ]
  },
  {
   "cell_type": "markdown",
   "metadata": {},
   "source": [
    "Experimental setup: chose 3(TODO increase) open source apps and ran no model on all of them.  Chose 10 alarm dereferences from each app at random and wrote specs to prove.\n",
    "\n",
    "- we excluded alarms where a callin method or callback simply may not be invoked with a null value (e.g. null = a.getLayoutInflator() -[]-> false)\n"
   ]
  },
  {
   "cell_type": "code",
   "execution_count": null,
   "metadata": {},
   "outputs": [],
   "source": [
    "case object Experiments{\n",
    "    //val specs = PickleSpec.mk(new SpecSpace(Set(SpecSignatures.Activity_getLayoutInflater_nonNull)))\n",
    "    val configs = List(\n",
    "    //sgtpuzzles\n",
    "    read[RunConfig](\"\"\"{\"apkPath\":\"${baseDir}/sgtpuzzles/app/build/outputs/apk/debug/app-debug.apk\",\"outFolder\":[\"${baseDirOut}/name.boyle.chris/name.boyle.chris.sgtpuzzles.databinding.ActivityHelpBinding\"],\"initialQuery\":[{\"t\":\"AllReceiversNonNull\",\"className\":\"name.boyle.chris.sgtpuzzles.databinding.ActivityHelpBinding\"}],\"timeLimit\":180}\"\"\")\n",
    "    )//.map{c => c.copy(specSet = specs)}\n",
    "    val outfolder = File(s\"${userhome}/Desktop/specsRun\")\n",
    "    assert(outfolder.exists())\n",
    "}"
   ]
  },
  {
   "cell_type": "code",
   "execution_count": null,
   "metadata": {},
   "outputs": [],
   "source": [
    "Experiments.configs.zipWithIndex.map{\n",
    "    case (c:RunConfig,a:Int) => \n",
    "        val fname = Experiments.outfolder / s\"${a}.json\"\n",
    "        fname.overwrite(write(c))\n",
    "}"
   ]
  },
  {
   "cell_type": "code",
   "execution_count": null,
   "metadata": {},
   "outputs": [],
   "source": []
  }
 ],
 "metadata": {
  "kernelspec": {
   "display_name": "Scala",
   "language": "scala",
   "name": "scala"
  },
  "language_info": {
   "codemirror_mode": "text/x-scala",
   "file_extension": ".scala",
   "mimetype": "text/x-scala",
   "name": "scala",
   "nbconvert_exporter": "script",
   "version": "2.13.2"
  }
 },
 "nbformat": 4,
 "nbformat_minor": 4
}
