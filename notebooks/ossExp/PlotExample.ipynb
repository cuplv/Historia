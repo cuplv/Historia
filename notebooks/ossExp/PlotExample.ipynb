{
 "cells": [
  {
   "cell_type": "code",
   "execution_count": 1,
   "id": "f0611e6f-c8cd-4b55-b210-1e03e106f4d5",
   "metadata": {},
   "outputs": [
    {
     "data": {
      "application/javascript": [
       "var script = document.createElement('script'); script.type = 'text/javascript'; script.src = '//cdn.jsdelivr.net/npm/vega@5'; document.head.appendChild(script); var script = document.createElement('script'); script.type = 'text/javascript'; script.src = '//cdn.jsdelivr.net/npm/vega-embed@6'; document.head.appendChild(script); "
      ]
     },
     "metadata": {},
     "output_type": "display_data"
    },
    {
     "data": {
      "text/plain": [
       "\u001b[32mimport \u001b[39m\u001b[36m$ivy.$                          \n",
       "\u001b[39m\n",
       "\u001b[32mimport \u001b[39m\u001b[36m$ivy.$                            \n",
       "\u001b[39m"
      ]
     },
     "execution_count": 1,
     "metadata": {},
     "output_type": "execute_result"
    }
   ],
   "source": [
    "import $ivy.`com.lihaoyi::ujson:1.3.12`\n",
    "import $ivy.`com.lihaoyi::requests:0.6.5`\n",
    "Javascript(\"\"\"var script = document.createElement('script'); script.type = 'text/javascript'; script.src = '//cdn.jsdelivr.net/npm/vega@5'; document.head.appendChild(script); var script = document.createElement('script'); script.type = 'text/javascript'; script.src = '//cdn.jsdelivr.net/npm/vega-embed@6'; document.head.appendChild(script); \"\"\")\n"
   ]
  },
  {
   "cell_type": "code",
   "execution_count": 3,
   "id": "0813a995-3357-423e-9596-5c69e286b9ed",
   "metadata": {},
   "outputs": [
    {
     "data": {
      "application/javascript": [
       " vegaEmbed(element, {\"$schema\":\"https://vega.github.io/schema/vega/v5.json\",\"description\":\"A basic bar chart example, with value labels shown upon mouse hover.\",\"width\":400,\"height\":200,\"padding\":5,\"data\":[{\"name\":\"table\",\"values\":[{\"category\":\"Epic\",\"amount\":50},{\"category\":\"amounts\",\"amount\":100},{\"category\":\"ferrets\",\"amount\":75}]}],\"signals\":[{\"name\":\"tooltip\",\"value\":{},\"on\":[{\"events\":\"rect:mouseover\",\"update\":\"datum\"},{\"events\":\"rect:mouseout\",\"update\":\"{}\"}]}],\"scales\":[{\"name\":\"xscale\",\"type\":\"band\",\"domain\":{\"data\":\"table\",\"field\":\"category\"},\"range\":\"width\",\"padding\":0.05,\"round\":true},{\"name\":\"yscale\",\"domain\":{\"data\":\"table\",\"field\":\"amount\"},\"nice\":true,\"range\":\"height\"}],\"axes\":[{\"orient\":\"bottom\",\"scale\":\"xscale\"},{\"orient\":\"left\",\"scale\":\"yscale\"}],\"marks\":[{\"type\":\"rect\",\"from\":{\"data\":\"table\"},\"encode\":{\"enter\":{\"x\":{\"scale\":\"xscale\",\"field\":\"category\"},\"width\":{\"scale\":\"xscale\",\"band\":1},\"y\":{\"scale\":\"yscale\",\"field\":\"amount\"},\"y2\":{\"scale\":\"yscale\",\"value\":0}},\"update\":{\"fill\":{\"value\":\"steelblue\"}},\"hover\":{\"fill\":{\"value\":\"red\"}}}},{\"type\":\"text\",\"encode\":{\"enter\":{\"align\":{\"value\":\"center\"},\"baseline\":{\"value\":\"bottom\"},\"fill\":{\"value\":\"#333\"}},\"update\":{\"x\":{\"scale\":\"xscale\",\"signal\":\"tooltip.category\",\"band\":0.5},\"y\":{\"scale\":\"yscale\",\"signal\":\"tooltip.amount\",\"offset\":-2},\"text\":{\"signal\":\"tooltip.amount\"},\"fillOpacity\":[{\"test\":\"datum === tooltip\",\"value\":0},{\"value\":1}]}}}]}).then(function(result) { }).catch(console.error) "
      ]
     },
     "metadata": {},
     "output_type": "display_data"
    },
    {
     "data": {
      "text/plain": [
       "defined \u001b[32mobject\u001b[39m \u001b[36mNoOutput\u001b[39m"
      ]
     },
     "execution_count": 3,
     "metadata": {},
     "output_type": "execute_result"
    }
   ],
   "source": [
    "object NoOutput{\n",
    "    \n",
    "\n",
    "val spec = ujson.read(requests.get(\"https://vega.github.io/vega/examples/bar-chart.vg.json\").text)\n",
    "\n",
    "spec(\"data\")(0)(\"values\") = ujson.Arr(\n",
    "  ujson.Obj(\"category\" -> \"Epic\", \"amount\" -> 50),\n",
    "  ujson.Obj(\"category\" -> \"amounts\", \"amount\" -> 100),\n",
    "    ujson.Obj(\"category\" -> \"ferrets\", \"amount\" -> 75)\n",
    ")\n",
    "}\n",
    "Javascript(s\"\"\" vegaEmbed(element, ${NoOutput.spec}).then(function(result) { }).catch(console.error) \"\"\")"
   ]
  },
  {
   "cell_type": "code",
   "execution_count": null,
   "id": "4696a1ca-dea7-41b6-90b2-14dbbe546e05",
   "metadata": {},
   "outputs": [],
   "source": []
  }
 ],
 "metadata": {
  "kernelspec": {
   "display_name": "Scala",
   "language": "scala",
   "name": "scala"
  },
  "language_info": {
   "codemirror_mode": "text/x-scala",
   "file_extension": ".sc",
   "mimetype": "text/x-scala",
   "name": "scala",
   "nbconvert_exporter": "script",
   "version": "2.13.4"
  }
 },
 "nbformat": 4,
 "nbformat_minor": 5
}
