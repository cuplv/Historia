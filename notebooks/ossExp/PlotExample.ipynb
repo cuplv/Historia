{
 "cells": [
  {
   "cell_type": "code",
   "execution_count": null,
   "id": "f0611e6f-c8cd-4b55-b210-1e03e106f4d5",
   "metadata": {},
   "outputs": [],
   "source": [
    "import $ivy.`com.lihaoyi::ujson:1.3.12`\n",
    "import $ivy.`com.lihaoyi::requests:0.6.5`\n",
    "Javascript(\"\"\"var script = document.createElement('script'); script.type = 'text/javascript'; script.src = '//cdn.jsdelivr.net/npm/vega@5'; document.head.appendChild(script); var script = document.createElement('script'); script.type = 'text/javascript'; script.src = '//cdn.jsdelivr.net/npm/vega-embed@6'; document.head.appendChild(script); \"\"\")\n"
   ]
  },
  {
   "cell_type": "code",
   "execution_count": null,
   "id": "0813a995-3357-423e-9596-5c69e286b9ed",
   "metadata": {},
   "outputs": [],
   "source": [
    "object NoOutput{\n",
    "    \n",
    "\n",
    "val spec = ujson.read(requests.get(\"https://vega.github.io/vega/examples/bar-chart.vg.json\").text)\n",
    "\n",
    "spec(\"data\")(0)(\"values\") = ujson.Arr(\n",
    "  ujson.Obj(\"category\" -> \"Epic\", \"amount\" -> 50),\n",
    "  ujson.Obj(\"category\" -> \"amounts\", \"amount\" -> 100),\n",
    "    ujson.Obj(\"category\" -> \"ferrets\", \"amount\" -> 75)\n",
    ")\n",
    "}\n",
    "Javascript(s\"\"\" vegaEmbed(element, ${NoOutput.spec}).then(function(result) { }).catch(console.error) \"\"\")"
   ]
  },
  {
   "cell_type": "code",
   "execution_count": null,
   "id": "4696a1ca-dea7-41b6-90b2-14dbbe546e05",
   "metadata": {},
   "outputs": [],
   "source": []
  }
 ],
 "metadata": {
  "kernelspec": {
   "display_name": "Scala (almond 0.13.3)",
   "language": "scala",
   "name": "scalaalmond133"
  },
  "language_info": {
   "codemirror_mode": "text/x-scala",
   "file_extension": ".sc",
   "mimetype": "text/x-scala",
   "name": "scala",
   "nbconvert_exporter": "script",
   "version": "2.13.8"
  }
 },
 "nbformat": 4,
 "nbformat_minor": 5
}
