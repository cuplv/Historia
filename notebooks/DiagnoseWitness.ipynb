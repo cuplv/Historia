{
 "cells": [
  {
   "cell_type": "code",
   "execution_count": 3,
   "metadata": {},
   "outputs": [
    {
     "data": {
      "text/plain": [
       "\u001b[36mpath\u001b[39m: \u001b[32mString\u001b[39m = \u001b[32m\"/Users/shawnmeier/Documents/source/bounder/soot_hopper/target/scala-2.13/soot_hopper-assembly-0.1.jar\"\u001b[39m\n",
       "\u001b[32mimport \u001b[39m\u001b[36m$ivy.$                                      \n",
       "\u001b[39m\n",
       "\u001b[32mimport \u001b[39m\u001b[36m$ivy.$                             \n",
       "// import $ivy.`edu.colorado.plv.bounder:soot_hopper_2.13:0.1`\n",
       "\n",
       "\u001b[39m\n",
       "\u001b[32mimport \u001b[39m\u001b[36mujson.Value\n",
       "\u001b[39m\n",
       "\u001b[32mimport \u001b[39m\u001b[36msys.process._\n",
       "\n",
       "// interp.load.ivy(\"com.github.pathikrit\" %% \"better-files\" % \"3.9.1\")\n",
       "\u001b[39m\n",
       "\u001b[32mimport \u001b[39m\u001b[36m$ivy.$                                         \n",
       "\u001b[39m\n",
       "\u001b[32mimport \u001b[39m\u001b[36mbetter.files._\n",
       "\n",
       "\u001b[39m"
      ]
     },
     "execution_count": 3,
     "metadata": {},
     "output_type": "execute_result"
    }
   ],
   "source": [
    "val path = \"/Users/shawnmeier/Documents/source/bounder/soot_hopper/target/scala-2.13/soot_hopper-assembly-0.1.jar\"\n",
    "\n",
    "interp.load.cp(os.Path(path))\n",
    "\n",
    "import $ivy.`org.plotly-scala::plotly-almond:0.8.1`\n",
    "import $ivy.`com.lihaoyi:ujson_2.13:1.3.8`\n",
    "// import $ivy.`edu.colorado.plv.bounder:soot_hopper_2.13:0.1`\n",
    "\n",
    "import ujson.Value\n",
    "import sys.process._\n",
    "\n",
    "// interp.load.ivy(\"com.github.pathikrit\" %% \"better-files\" % \"3.9.1\")\n",
    "import $ivy.`com.github.pathikrit::better-files:3.9.1`\n",
    "import better.files._\n",
    "\n"
   ]
  },
  {
   "cell_type": "code",
   "execution_count": 4,
   "metadata": {},
   "outputs": [
    {
     "data": {
      "text/plain": [
       "\u001b[32mimport \u001b[39m\u001b[36mscala.util.Random\n",
       "\u001b[39m\n",
       "\u001b[32mimport \u001b[39m\u001b[36medu.colorado.plv.bounder.Driver\n",
       "\u001b[39m\n",
       "\u001b[32mimport \u001b[39m\u001b[36medu.colorado.plv.bounder.RunConfig\n",
       "\u001b[39m\n",
       "\u001b[32mimport \u001b[39m\u001b[36mupickle.default.read\n",
       "\u001b[39m\n",
       "\u001b[32mimport \u001b[39m\u001b[36mscala.collection.parallel.CollectionConverters.{ImmutableSetIsParallelizable, IterableIsParallelizable}\u001b[39m"
      ]
     },
     "execution_count": 4,
     "metadata": {},
     "output_type": "execute_result"
    }
   ],
   "source": [
    "import scala.util.Random\n",
    "import edu.colorado.plv.bounder.Driver\n",
    "import edu.colorado.plv.bounder.RunConfig\n",
    "import upickle.default.read\n",
    "import scala.collection.parallel.CollectionConverters.{ImmutableSetIsParallelizable, IterableIsParallelizable}"
   ]
  },
  {
   "cell_type": "code",
   "execution_count": 5,
   "metadata": {},
   "outputs": [
    {
     "name": "stderr",
     "output_type": "stream",
     "text": [
      "[scala-interpreter-1] WARN slick.util.AsyncExecutor - Having maxConnection > maxThreads can result in deadlocks if transactions or database locks are used.\n"
     ]
    },
    {
     "ename": "",
     "evalue": "",
     "output_type": "error",
     "traceback": [
      "\u001b[31mupickle.core.AbortException: missing keys in dictionary: exitLoc at index 830\u001b[39m\n  ujson.CharParser$$anonfun$reject$1.applyOrElse(\u001b[32mCharParser.scala\u001b[39m:\u001b[32m343\u001b[39m)\n  ujson.CharParser$$anonfun$reject$1.applyOrElse(\u001b[32mCharParser.scala\u001b[39m:\u001b[32m341\u001b[39m)\n  scala.runtime.AbstractPartialFunction.apply(\u001b[32mAbstractPartialFunction.scala\u001b[39m:\u001b[32m35\u001b[39m)\n  ujson.CharParser.tryCloseCollection(\u001b[32mCharParser.scala\u001b[39m:\u001b[32m499\u001b[39m)\n  ujson.CharParser.parseNested(\u001b[32mCharParser.scala\u001b[39m:\u001b[32m462\u001b[39m)\n  ujson.CharParser.parseTopLevel0(\u001b[32mCharParser.scala\u001b[39m:\u001b[32m323\u001b[39m)\n  ujson.CharParser.parseTopLevel(\u001b[32mCharParser.scala\u001b[39m:\u001b[32m307\u001b[39m)\n  ujson.CharParser.parse(\u001b[32mCharParser.scala\u001b[39m:\u001b[32m59\u001b[39m)\n  ujson.StringParser$.transform(\u001b[32mStringParser.scala\u001b[39m:\u001b[32m28\u001b[39m)\n  ujson.StringParser$.transform(\u001b[32mStringParser.scala\u001b[39m:\u001b[32m27\u001b[39m)\n  ujson.Readable$fromTransformer.transform(\u001b[32mReadable.scala\u001b[39m:\u001b[32m13\u001b[39m)\n  upickle.Api.$anonfun$read$1(\u001b[32mApi.scala\u001b[39m:\u001b[32m37\u001b[39m)\n  upickle.core.TraceVisitor$.withTrace(\u001b[32mTraceVisitor.scala\u001b[39m:\u001b[32m18\u001b[39m)\n  upickle.Api.read(\u001b[32mApi.scala\u001b[39m:\u001b[32m37\u001b[39m)\n  upickle.Api.read$(\u001b[32mApi.scala\u001b[39m:\u001b[32m36\u001b[39m)\n  upickle.default$.read(\u001b[32mApi.scala\u001b[39m:\u001b[32m133\u001b[39m)\n  edu.colorado.plv.bounder.symbolicexecutor.state.DBOutputMode.rowToNode(\u001b[32mReachingGraph.scala\u001b[39m:\u001b[32m218\u001b[39m)\n  edu.colorado.plv.bounder.symbolicexecutor.state.DBOutputMode.$anonfun$liveTraces$4(\u001b[32mReachingGraph.scala\u001b[39m:\u001b[32m112\u001b[39m)\n  scala.collection.StrictOptimizedIterableOps.map(\u001b[32mStrictOptimizedIterableOps.scala\u001b[39m:\u001b[32m100\u001b[39m)\n  scala.collection.StrictOptimizedIterableOps.map$(\u001b[32mStrictOptimizedIterableOps.scala\u001b[39m:\u001b[32m87\u001b[39m)\n  scala.collection.immutable.Vector.map(\u001b[32mVector.scala\u001b[39m:\u001b[32m119\u001b[39m)\n  edu.colorado.plv.bounder.symbolicexecutor.state.DBOutputMode.liveTraces(\u001b[32mReachingGraph.scala\u001b[39m:\u001b[32m112\u001b[39m)\n  ammonite.$sess.cmd4$Helper.dbgInfo(\u001b[32mcmd4.sc\u001b[39m:\u001b[32m21\u001b[39m)\n  ammonite.$sess.cmd4$Helper.$anonfun$res4_7$1(\u001b[32mcmd4.sc\u001b[39m:\u001b[32m53\u001b[39m)\n  ammonite.$sess.cmd4$Helper.$anonfun$res4_7$1$adapted(\u001b[32mcmd4.sc\u001b[39m:\u001b[32m53\u001b[39m)\n  scala.collection.immutable.List.foreach(\u001b[32mList.scala\u001b[39m:\u001b[32m305\u001b[39m)\n  ammonite.$sess.cmd4$Helper.<init>(\u001b[32mcmd4.sc\u001b[39m:\u001b[32m53\u001b[39m)\n  ammonite.$sess.cmd4$.<clinit>(\u001b[32mcmd4.sc\u001b[39m:\u001b[32m7\u001b[39m)\n\u001b[31mupickle.core.Abort: missing keys in dictionary: exitLoc\u001b[39m\n  upickle.core.Types$CaseR$CaseObjectContext.errorMissingKeys(\u001b[32mTypes.scala\u001b[39m:\u001b[32m213\u001b[39m)\n  upickle.core.Types$CaseR$CaseObjectContext.errorMissingKeys$(\u001b[32mTypes.scala\u001b[39m:\u001b[32m207\u001b[39m)\n  edu.colorado.plv.bounder.symbolicexecutor.state.CallStackFrame$$anon$1$$anon$2.errorMissingKeys(\u001b[32mCallStackFrame.scala\u001b[39m:\u001b[32m27\u001b[39m)\n  edu.colorado.plv.bounder.symbolicexecutor.state.CallStackFrame$$anon$1$$anon$2.visitEnd(\u001b[32mCallStackFrame.scala\u001b[39m:\u001b[32m27\u001b[39m)\n  edu.colorado.plv.bounder.symbolicexecutor.state.CallStackFrame$$anon$1$$anon$2.visitEnd(\u001b[32mCallStackFrame.scala\u001b[39m:\u001b[32m27\u001b[39m)\n  upickle.AttributeTagged$$anon$4.visitEnd(\u001b[32mApi.scala\u001b[39m:\u001b[32m253\u001b[39m)\n  ujson.CharParser.tryCloseCollection(\u001b[32mCharParser.scala\u001b[39m:\u001b[32m499\u001b[39m)\n  ujson.CharParser.parseNested(\u001b[32mCharParser.scala\u001b[39m:\u001b[32m462\u001b[39m)\n  ujson.CharParser.parseTopLevel0(\u001b[32mCharParser.scala\u001b[39m:\u001b[32m323\u001b[39m)\n  ujson.CharParser.parseTopLevel(\u001b[32mCharParser.scala\u001b[39m:\u001b[32m307\u001b[39m)\n  ujson.CharParser.parse(\u001b[32mCharParser.scala\u001b[39m:\u001b[32m59\u001b[39m)\n  ujson.StringParser$.transform(\u001b[32mStringParser.scala\u001b[39m:\u001b[32m28\u001b[39m)\n  ujson.StringParser$.transform(\u001b[32mStringParser.scala\u001b[39m:\u001b[32m27\u001b[39m)\n  ujson.Readable$fromTransformer.transform(\u001b[32mReadable.scala\u001b[39m:\u001b[32m13\u001b[39m)\n  upickle.Api.$anonfun$read$1(\u001b[32mApi.scala\u001b[39m:\u001b[32m37\u001b[39m)\n  upickle.core.TraceVisitor$.withTrace(\u001b[32mTraceVisitor.scala\u001b[39m:\u001b[32m18\u001b[39m)\n  upickle.Api.read(\u001b[32mApi.scala\u001b[39m:\u001b[32m37\u001b[39m)\n  upickle.Api.read$(\u001b[32mApi.scala\u001b[39m:\u001b[32m36\u001b[39m)\n  upickle.default$.read(\u001b[32mApi.scala\u001b[39m:\u001b[32m133\u001b[39m)\n  edu.colorado.plv.bounder.symbolicexecutor.state.DBOutputMode.rowToNode(\u001b[32mReachingGraph.scala\u001b[39m:\u001b[32m218\u001b[39m)\n  edu.colorado.plv.bounder.symbolicexecutor.state.DBOutputMode.$anonfun$liveTraces$4(\u001b[32mReachingGraph.scala\u001b[39m:\u001b[32m112\u001b[39m)\n  scala.collection.StrictOptimizedIterableOps.map(\u001b[32mStrictOptimizedIterableOps.scala\u001b[39m:\u001b[32m100\u001b[39m)\n  scala.collection.StrictOptimizedIterableOps.map$(\u001b[32mStrictOptimizedIterableOps.scala\u001b[39m:\u001b[32m87\u001b[39m)\n  scala.collection.immutable.Vector.map(\u001b[32mVector.scala\u001b[39m:\u001b[32m119\u001b[39m)\n  edu.colorado.plv.bounder.symbolicexecutor.state.DBOutputMode.liveTraces(\u001b[32mReachingGraph.scala\u001b[39m:\u001b[32m112\u001b[39m)\n  ammonite.$sess.cmd4$Helper.dbgInfo(\u001b[32mcmd4.sc\u001b[39m:\u001b[32m21\u001b[39m)\n  ammonite.$sess.cmd4$Helper.$anonfun$res4_7$1(\u001b[32mcmd4.sc\u001b[39m:\u001b[32m53\u001b[39m)\n  ammonite.$sess.cmd4$Helper.$anonfun$res4_7$1$adapted(\u001b[32mcmd4.sc\u001b[39m:\u001b[32m53\u001b[39m)\n  scala.collection.immutable.List.foreach(\u001b[32mList.scala\u001b[39m:\u001b[32m305\u001b[39m)\n  ammonite.$sess.cmd4$Helper.<init>(\u001b[32mcmd4.sc\u001b[39m:\u001b[32m53\u001b[39m)\n  ammonite.$sess.cmd4$.<clinit>(\u001b[32mcmd4.sc\u001b[39m:\u001b[32m7\u001b[39m)"
     ]
    }
   ],
   "source": [
    "import edu.colorado.plv.bounder.symbolicexecutor.state.DBOutputMode\n",
    "import edu.colorado.plv.bounder.symbolicexecutor.state.DBPathNode\n",
    "import edu.colorado.plv.bounder.ir._\n",
    "def obsMessagesStr(nodes:List[DBPathNode]):List[DBPathNode] = {\n",
    "nodes.flatMap{n =>\n",
    "  n.qry.loc match {\n",
    "    case c @ CallinMethodReturn(fmwClazz, fmwName) => Some(n)\n",
    "    case c @ CallinMethodInvoke(fmwClazz, fmwName) => Some(n)\n",
    "    case c @ GroupedCallinMethodInvoke(targetClasses, fmwName) => Some(n)\n",
    "    case c @ GroupedCallinMethodReturn(targetClasses, fmwName) => Some(n)\n",
    "    case c @ CallbackMethodInvoke(fmwClazz, fmwName, loc) => Some(n)\n",
    "    case c @ CallbackMethodReturn(fmwClazz, fmwName, loc, line) => Some(n)\n",
    "    case _ => None\n",
    "  }}\n",
    "}\n",
    "// val idents = List(\"net.khertan.forrunners/sample3\")\n",
    "val idents = List(\"com.ridgelineapps.resdicegame/sample3\", \"com.ridgelineapps.resdicegame/sample1\")\n",
    "val basedir = \"/Users/shawnmeier/Documents/source/bounder/experiments/fdroid_subset_5\"\n",
    "def dbgInfo(ident:String){\n",
    "    val db = DBOutputMode(s\"${basedir}/${ident}/paths.db\")\n",
    "    val live = db.liveTraces()\n",
    "    println(s\"live locations: ${live.size}\")\n",
    "    val traceSet = live.map(tr => obsMessagesStr(tr)).toSet\n",
    "    println(s\"unique obs traces: ${traceSet.size}\")\n",
    "    // Write sample trace to file\n",
    "    val out = File(s\"${basedir}/${ident}\")\n",
    "    val log = out / \"obsLog.txt\"\n",
    "    if(log.exists()) log.delete()\n",
    "    traceSet.foreach{ tr1 =>\n",
    "        val tr1 = traceSet.head\n",
    "        log.append(\"======\\n\")\n",
    "        tr1.foreach{n => \n",
    "            log.append(n.qry.loc.toString)\n",
    "            log.append(\"\\n\")\n",
    "            log.append(n.qry.state.toString)\n",
    "            log.append(\"\\n\")\n",
    "        }\n",
    "    }\n",
    "        \n",
    "    // Count distinct locations in wit\n",
    "    val locLog = out / \"locLog.txt\"\n",
    "    if(locLog.exists()) locLog.delete()\n",
    "    val locs = live.flatten.groupBy(n => n.qry.loc.containingMethod).map{case (k,v) => (v.size,k)}.toList.sortBy(_._1)\n",
    "    locs.foreach(l => locLog.append(s\"${l._1} , ${l._2.toString}\\n\"))\n",
    "        \n",
    "    // write stack of sample\n",
    "    val stackLog = out/ \"stackLog.txt\"\n",
    "    if(stackLog.exists()) stackLog.delete()\n",
    "    val pathNode = live.head.head\n",
    "    pathNode.qry.state.callStack.foreach(v => stackLog.append(v.exitLoc.toString + \"\\n\"))\n",
    "    stackLog.append(pathNode.qry.state.toString)\n",
    "}\n",
    "idents.foreach(ident => dbgInfo(ident))"
   ]
  },
  {
   "cell_type": "code",
   "execution_count": 8,
   "metadata": {},
   "outputs": [
    {
     "data": {
      "application/vnd.plotly.v1+json": {
       "config": {},
       "data": [
        {
         "type": "scatter",
         "x": [
          "Banana",
          "Apple",
          "Grapefruit"
         ],
         "y": [
          10,
          8,
          5
         ]
        }
       ],
       "layout": {}
      },
      "text/html": [
       "<div class=\"chart\" id=\"plot-b3e0cba7-4d54-438a-9083-91b55f7f045d\"></div>\n",
       "<script>require(['plotly'], function(Plotly) {\n",
       "  (function () {\n",
       "  var data0 = {\"x\":[\"Banana\",\"Apple\",\"Grapefruit\"],\"type\":\"scatter\",\"y\":[10.0,8.0,5.0]};\n",
       "\n",
       "  var data = [data0];\n",
       "  var layout = {};\n",
       " var config = {};\n",
       "\n",
       "  Plotly.plot('plot-b3e0cba7-4d54-438a-9083-91b55f7f045d', data, layout, config);\n",
       "})();\n",
       "});\n",
       "      </script>\n",
       "           "
      ]
     },
     "metadata": {},
     "output_type": "display_data"
    },
    {
     "data": {
      "text/plain": [
       "\u001b[32mimport \u001b[39m\u001b[36mplotly._\n",
       "\u001b[39m\n",
       "\u001b[32mimport \u001b[39m\u001b[36mplotly.element._\n",
       "\u001b[39m\n",
       "\u001b[32mimport \u001b[39m\u001b[36mplotly.layout._\n",
       "\u001b[39m\n",
       "\u001b[32mimport \u001b[39m\u001b[36mplotly.Almond._\n",
       "\n",
       "\u001b[39m\n",
       "\u001b[36mx\u001b[39m: \u001b[32mSeq\u001b[39m[\u001b[32mString\u001b[39m] = \u001b[33mList\u001b[39m(\u001b[32m\"Banana\"\u001b[39m, \u001b[32m\"Apple\"\u001b[39m, \u001b[32m\"Grapefruit\"\u001b[39m)\n",
       "\u001b[36my\u001b[39m: \u001b[32mSeq\u001b[39m[\u001b[32mInt\u001b[39m] = \u001b[33mList\u001b[39m(\u001b[32m10\u001b[39m, \u001b[32m8\u001b[39m, \u001b[32m5\u001b[39m)\n",
       "\u001b[36mres7_5\u001b[39m: \u001b[32mString\u001b[39m = \u001b[32m\"plot-b3e0cba7-4d54-438a-9083-91b55f7f045d\"\u001b[39m"
      ]
     },
     "execution_count": 8,
     "metadata": {},
     "output_type": "execute_result"
    }
   ],
   "source": [
    "import plotly._\n",
    "import plotly.element._\n",
    "import plotly.layout._\n",
    "import plotly.Almond._\n",
    "\n",
    "val (x, y) = Seq(\n",
    "  \"Banana\" -> 10,\n",
    "  \"Apple\" -> 8,\n",
    "  \"Grapefruit\" -> 5\n",
    ").unzip\n",
    "\n",
    "Scatter(x, y).plot()"
   ]
  }
 ],
 "metadata": {
  "kernelspec": {
   "display_name": "Scala",
   "language": "scala",
   "name": "scala"
  },
  "language_info": {
   "codemirror_mode": "text/x-scala",
   "file_extension": ".sc",
   "mimetype": "text/x-scala",
   "name": "scala",
   "nbconvert_exporter": "script",
   "version": "2.13.1"
  }
 },
 "nbformat": 4,
 "nbformat_minor": 4
}
