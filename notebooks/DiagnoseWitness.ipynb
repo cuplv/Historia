{
 "cells": [
  {
   "cell_type": "code",
   "execution_count": 1,
   "metadata": {},
   "outputs": [
    {
     "data": {
      "text/plain": [
       "\u001b[36mpath\u001b[39m: \u001b[32mString\u001b[39m = \u001b[32m\"/home/bounder/target/scala-2.13/soot_hopper-assembly-0.1.jar\"\u001b[39m\n",
       "\u001b[32mimport \u001b[39m\u001b[36m$ivy.$                                      \n",
       "\u001b[39m\n",
       "\u001b[32mimport \u001b[39m\u001b[36m$ivy.$                             \n",
       "// import $ivy.`edu.colorado.plv.bounder:soot_hopper_2.13:0.1`\n",
       "\n",
       "\u001b[39m\n",
       "\u001b[32mimport \u001b[39m\u001b[36mujson.Value\n",
       "\u001b[39m\n",
       "\u001b[32mimport \u001b[39m\u001b[36msys.process._\n",
       "\n",
       "// interp.load.ivy(\"com.github.pathikrit\" %% \"better-files\" % \"3.9.1\")\n",
       "\u001b[39m\n",
       "\u001b[32mimport \u001b[39m\u001b[36m$ivy.$                                         \n",
       "\u001b[39m\n",
       "\u001b[32mimport \u001b[39m\u001b[36mbetter.files._\n",
       "\u001b[39m\n",
       "\u001b[32mimport \u001b[39m\u001b[36m$ivy.$                          \n",
       "\u001b[39m\n",
       "\u001b[32mimport \u001b[39m\u001b[36m$ivy.$                            \n",
       "\u001b[39m\n",
       "\u001b[32mimport \u001b[39m\u001b[36m$ivy.$                              \n",
       "\n",
       "\u001b[39m"
      ]
     },
     "execution_count": 1,
     "metadata": {},
     "output_type": "execute_result"
    }
   ],
   "source": [
    "val path = s\"/home/bounder/target/scala-2.13/soot_hopper-assembly-0.1.jar\"\n",
    "// note: use sbt assembly to create jar\n",
    "interp.load.cp(os.Path(path))\n",
    "import $ivy.`org.plotly-scala::plotly-almond:0.8.2`\n",
    "import $ivy.`com.lihaoyi:ujson_2.13:1.3.8`\n",
    "// import $ivy.`edu.colorado.plv.bounder:soot_hopper_2.13:0.1`\n",
    "\n",
    "import ujson.Value\n",
    "import sys.process._\n",
    "\n",
    "// interp.load.ivy(\"com.github.pathikrit\" %% \"better-files\" % \"3.9.1\")\n",
    "import $ivy.`com.github.pathikrit::better-files:3.9.1`\n",
    "import better.files._\n",
    "import $ivy.`com.lihaoyi::ujson:1.3.12`\n",
    "import $ivy.`com.lihaoyi::requests:0.6.5`\n",
    "import $ivy.`com.lihaoyi::scalatags:0.12.0`\n",
    "\n"
   ]
  },
  {
   "cell_type": "code",
   "execution_count": 2,
   "metadata": {},
   "outputs": [
    {
     "data": {
      "text/plain": [
       "\u001b[32mimport \u001b[39m\u001b[36mscala.util.Random\n",
       "\u001b[39m\n",
       "\u001b[32mimport \u001b[39m\u001b[36medu.colorado.plv.bounder.Driver\n",
       "\u001b[39m\n",
       "\u001b[32mimport \u001b[39m\u001b[36medu.colorado.plv.bounder.RunConfig\n",
       "\u001b[39m\n",
       "\u001b[32mimport \u001b[39m\u001b[36medu.colorado.plv.bounder.symbolicexecutor.state.PureConstraint\n",
       "\u001b[39m\n",
       "\u001b[32mimport \u001b[39m\u001b[36mupickle.default.read\n",
       "\u001b[39m\n",
       "\u001b[32mimport \u001b[39m\u001b[36mscala.collection.parallel.CollectionConverters.{ImmutableSetIsParallelizable, IterableIsParallelizable}\n",
       "\n",
       "\u001b[39m\n",
       "\u001b[32mimport \u001b[39m\u001b[36mplotly._\n",
       "\u001b[39m\n",
       "\u001b[32mimport \u001b[39m\u001b[36mplotly.element._\n",
       "\u001b[39m\n",
       "\u001b[32mimport \u001b[39m\u001b[36mplotly.layout._\n",
       "\u001b[39m\n",
       "\u001b[32mimport \u001b[39m\u001b[36mplotly.Almond._\n",
       "\u001b[39m\n",
       "\u001b[32mimport \u001b[39m\u001b[36mupickle.default.{read, write}\u001b[39m"
      ]
     },
     "execution_count": 2,
     "metadata": {},
     "output_type": "execute_result"
    }
   ],
   "source": [
    "import scala.util.Random\n",
    "import edu.colorado.plv.bounder.Driver\n",
    "import edu.colorado.plv.bounder.RunConfig\n",
    "import edu.colorado.plv.bounder.symbolicexecutor.state.PureConstraint\n",
    "import upickle.default.read\n",
    "import scala.collection.parallel.CollectionConverters.{ImmutableSetIsParallelizable, IterableIsParallelizable}\n",
    "\n",
    "import plotly._\n",
    "import plotly.element._\n",
    "import plotly.layout._\n",
    "import plotly.Almond._\n",
    "import upickle.default.{read, write}"
   ]
  },
  {
   "cell_type": "code",
   "execution_count": 3,
   "metadata": {},
   "outputs": [
    {
     "data": {
      "text/plain": [
       "\u001b[32mimport \u001b[39m\u001b[36medu.colorado.plv.bounder.symbolicexecutor.state.DBOutputMode\n",
       "\u001b[39m\n",
       "\u001b[32mimport \u001b[39m\u001b[36medu.colorado.plv.bounder.symbolicexecutor.state.{DBPathNode,IPathNode,PrettyPrinting}\n",
       "\u001b[39m\n",
       "\u001b[32mimport \u001b[39m\u001b[36medu.colorado.plv.bounder.ir._\n",
       "\u001b[39m\n",
       "\u001b[32mimport \u001b[39m\u001b[36medu.colorado.plv.bounder.symbolicexecutor.QueryFinished\n",
       "\u001b[39m\n",
       "\u001b[32mimport \u001b[39m\u001b[36medu.colorado.plv.bounder.BounderUtil\n",
       "\u001b[39m\n",
       "defined \u001b[32mfunction\u001b[39m \u001b[36mobsMessagesStr\u001b[39m\n",
       "\u001b[36mdb\u001b[39m: \u001b[32mDBOutputMode\u001b[39m = \u001b[33mDBOutputMode\u001b[39m(\n",
       "  \u001b[32m\"/home/notebooks/reachExpLarge/Connectbot/GeneratePubkeyActivity_5_run/paths.db\"\u001b[39m\n",
       ")"
      ]
     },
     "execution_count": 3,
     "metadata": {},
     "output_type": "execute_result"
    }
   ],
   "source": [
    "import edu.colorado.plv.bounder.symbolicexecutor.state.DBOutputMode\n",
    "import edu.colorado.plv.bounder.symbolicexecutor.state.{DBPathNode,IPathNode,PrettyPrinting}\n",
    "import edu.colorado.plv.bounder.ir._\n",
    "import edu.colorado.plv.bounder.symbolicexecutor.QueryFinished\n",
    "import edu.colorado.plv.bounder.BounderUtil\n",
    "def obsMessagesStr(nodes:List[DBPathNode]):List[DBPathNode] = {\n",
    "nodes.flatMap{n =>\n",
    "  n.qry.loc match {\n",
    "    case c : CallinMethodReturn => Some(n)\n",
    "    case c : CallinMethodInvoke => Some(n)\n",
    "    case c : GroupedCallinMethodInvoke => Some(n)\n",
    "    case c : GroupedCallinMethodReturn => Some(n)\n",
    "    case c : CallbackMethodInvoke => Some(n)\n",
    "    case c : CallbackMethodReturn => Some(n)\n",
    "    case _ => None\n",
    "  }}\n",
    "}\n",
    "\n",
    "// implicit val db = DBOutputMode(\"/Users/shawnmeier/Desktop/db_triage/connectbot1.db\",true)\n",
    "implicit val db = DBOutputMode(\"/home/notebooks/reachExpLarge/Connectbot/GeneratePubkeyActivity_5_run/paths.db\")"
   ]
  },
  {
   "cell_type": "code",
   "execution_count": 4,
   "metadata": {},
   "outputs": [
    {
     "data": {
      "text/plain": [
       "defined \u001b[32mobject\u001b[39m \u001b[36mWorstCallbacks\u001b[39m\n",
       "\u001b[36mres3_1\u001b[39m: \u001b[32mList\u001b[39m[(\u001b[32mString\u001b[39m, \u001b[32mInt\u001b[39m)] = \u001b[33mList\u001b[39m(\n",
       "  (\n",
       "    \u001b[32m\"[CB Ret] org.connectbot.GeneratePubkeyActivity$4 void onClick(android.view.View)\"\u001b[39m,\n",
       "    \u001b[32m28\u001b[39m\n",
       "  ),\n",
       "  (\n",
       "    \u001b[32m\"[CB Ret] org.connectbot.GeneratePubkeyActivity$KeyGeneratorRunnable void run()\"\u001b[39m,\n",
       "    \u001b[32m28\u001b[39m\n",
       "  ),\n",
       "  (\n",
       "    \u001b[32m\"[CB Ret] org.connectbot.util.EntropyView boolean onTouchEvent(android.view.MotionEvent)\"\u001b[39m,\n",
       "    \u001b[32m28\u001b[39m\n",
       "  ),\n",
       "  (\u001b[32m\"[CB Ret] org.connectbot.GeneratePubkeyActivity$5 void run()\"\u001b[39m, \u001b[32m28\u001b[39m),\n",
       "  (\u001b[32m\"[CB Ret] org.connectbot.GeneratePubkeyActivity void onResume()\"\u001b[39m, \u001b[32m27\u001b[39m),\n",
       "  (\u001b[32m\"[CB Ret] org.connectbot.GeneratePubkeyActivity void onPause()\"\u001b[39m, \u001b[32m23\u001b[39m),\n",
       "  (\n",
       "    \u001b[32m\"[CB Ret] org.connectbot.GeneratePubkeyActivity void onCreate(android.os.Bundle)\"\u001b[39m,\n",
       "    \u001b[32m20\u001b[39m\n",
       "  ),\n",
       "  (\n",
       "    \u001b[32m\"[CB Ret] org.connectbot.util.EntropyView void <init>(android.content.Context,android.util.AttributeSet)\"\u001b[39m,\n",
       "    \u001b[32m16\u001b[39m\n",
       "  )\n",
       ")"
      ]
     },
     "execution_count": 4,
     "metadata": {},
     "output_type": "execute_result"
    }
   ],
   "source": [
    "// find the callbacks that show up the most often\n",
    "object WorstCallbacks{\n",
    "    val counts = db.getAllLiveNodes().filter{n => n.qry.loc.isInstanceOf[CallbackMethodReturn]}.groupBy{_.qry.loc}.map{l => (l._1.toString,l._2.size)}.toList.sortBy(_._2).reverse.take(20)\n",
    "}\n",
    "WorstCallbacks.counts"
   ]
  },
  {
   "cell_type": "code",
   "execution_count": 24,
   "metadata": {},
   "outputs": [
    {
     "name": "stdout",
     "output_type": "stream",
     "text": [
      "post-SerializedIRLineLoc(410,line: 410 return,1214017279)\n",
      "       state: ( locals:          heap: p-1.listener->NULL * StaticPtEdge(org.connectbot.util.PubkeyDatabase,sInstance)->NULL * p-5.mEntropy->p-4          pure: p-5  !=  NULL && p-2  !=  NULL && p-4  !=  NULL && p-3  !=  NULL && p-0  !=  NULL && p-1  !=  NULL         types: List(p-0:{11230}, p-1:{6770}, p-3:{11232}, p-4:{7027,7028,7125,7126,7168 ...}, p-2:{11251}, p-5:{6618})    trace: O(CBEnter I_CBEnter_ViewonTouchEvent ( _T_,p-5 );p-0;O(CIExit I_CIExit_Dialogshow ( _T_,_T_ );p-3;O(CBEnter I_CBEnter_Runnablerun ( _T_,p-3 );p-2;O(CBEnter I_CBEnter_Runnablerun ( _T_,p-2 );O(CIEnter I_CIEnter_Dialogdismiss ( _T_,p-0 ))\n",
      "post-SerializedIRLineLoc(378,line: 378 r15 := @caughtexception,1008700033)\n",
      "       state: ( locals: @this -> p-1      locals:          heap: p-1.progress->p-0 * p-1.listener->NULL          pure: p-2  !=  NULL && p-1  !=  NULL         types: List(p-0:{11230}, p-1:{6770}, p-2:{11251})    trace: p-2;O(CBEnter I_CBEnter_Runnablerun ( _T_,p-2 );O(CIEnter I_CIEnter_Dialogdismiss ( _T_,p-0 ))\n",
      "post-SerializedIRLineLoc(398,line: 398 interfaceinvoke $r3.<org.connectbot.util.OnKeyGeneratedListener: void onGenerationError(java.lang.Exception)>($r1),822775914)\n",
      "       state: ( locals: @this -> p-7      locals:          heap: p-1.listener->NULL * StaticPtEdge(org.connectbot.util.PubkeyDatabase,sInstance)->p-3 * p-6.mEntropy->p-5          pure: p-5  !=  NULL && p-2  !=  NULL && p-4  !=  NULL && p-3  !=  NULL && p-6  !=  NULL && p-7  !=  NULL && p-0  !=  NULL && p-1  !=  NULL         types: List(p-0:{11230}, p-1:{6770}, p-3:{7988}, p-4:{11232}, p-2:{11251}, p-6:{6618}, p-7:{6770}, p-5:{7027,7028,7125,7126,7168 ...})    trace: O(CBEnter I_CBEnter_ViewonTouchEvent ( _T_,p-6 );p-0;O(CIExit I_CIExit_Dialogshow ( _T_,_T_ );p-4;O(CBEnter I_CBEnter_Runnablerun ( _T_,p-4 );p-2;O(CBEnter I_CBEnter_Runnablerun ( _T_,p-2 );O(CIEnter I_CIEnter_Dialogdismiss ( _T_,p-0 ))\n"
     ]
    },
    {
     "data": {
      "text/plain": [
       "\u001b[32mimport \u001b[39m\u001b[36mscala.collection.mutable\n",
       "\u001b[39m\n",
       "\u001b[32mimport \u001b[39m\u001b[36mscala.util.Random\n",
       "\u001b[39m\n",
       "\u001b[36mtraces\u001b[39m: \u001b[32mmutable\u001b[39m.\u001b[32mHashSet\u001b[39m[\u001b[32mString\u001b[39m] = \u001b[33mHashSet\u001b[39m()\n",
       "\u001b[36mallF\u001b[39m: \u001b[32mFile\u001b[39m = /home/notebooks/tmpall.txt"
      ]
     },
     "execution_count": 24,
     "metadata": {},
     "output_type": "execute_result"
    }
   ],
   "source": [
    "// Get sampling of live queries and their histories\n",
    "\n",
    "// File.usingTemporaryFile() {tempFile =>\n",
    "//   val dbgCre:Set[IPathNode] = db.getAllNodes().filter{n => n.qry.state.toString.contains(\"setNegativeButton\")}.take(4).toSet\n",
    "//   // println(s\"found ${dbgCre.size} nodes\")\n",
    "//   PrettyPrinting.printTraces(dbgCre, tempFile.toString, false)\n",
    "//   // println(tempFile.contentAsString)\n",
    "// } \n",
    "import scala.collection.mutable\n",
    "import scala.util.Random\n",
    "val traces = mutable.HashSet[String]()\n",
    "// Random.shuffle(db.getAllNodes().filter{n => !n.qry.searchState.toString.contains(\"live\")}).foreach{a => \n",
    "Random.shuffle(db.getNoSucc().filter{n => n.qry.searchState.toString.contains(\"live\") && n.subsumed.isEmpty}).take(3).foreach{a => \n",
    "    println(PrettyPrinting.qryString(a.qry))\n",
    "    // if (PrettyPrinting.filterForLocSeq(a, List())){\n",
    "    //     File.usingTemporaryFile() {tempFile =>\n",
    "    //         PrettyPrinting.printTraces(Set(a), tempFile.toString, false)\n",
    "    //         val strOf = tempFile.contentAsString\n",
    "    //         if(true || strOf.contains(\"setNegativeButton\")){\n",
    "    //             traces.addOne(strOf)\n",
    "    //         }\n",
    "    //     }\n",
    "    // }\n",
    "}\n",
    "val allF = File(\"tmpall.txt\")\n",
    "traces.foreach(allF.append)"
   ]
  },
  {
   "cell_type": "code",
   "execution_count": 23,
   "metadata": {
    "tags": []
   },
   "outputs": [
    {
     "name": "stdout",
     "output_type": "stream",
     "text": [
      "number of live nodes: 26829\n",
      "max depth: 955\n",
      "currently active nodes: 579\n"
     ]
    },
    {
     "data": {
      "text/plain": [
       "defined \u001b[32mobject\u001b[39m \u001b[36mLiveNodes\u001b[39m"
      ]
     },
     "execution_count": 23,
     "metadata": {},
     "output_type": "execute_result"
    }
   ],
   "source": [
    "// Statistics of live nodes\n",
    "object LiveNodes{ // Create object to supress output TODO: upgrade ammonite at some point\n",
    "    val live = db.getAllLiveNodes()\n",
    "    val (xLive,yLive) = live.groupBy(_.ordDepth).map(a => (a._1, a._2.size)).toList.sortBy(_._1).unzip\n",
    "    //val allNodes = db.getAllNodes()\n",
    "    //val (xAll,yAll) = allNodes.groupBy(_.ordDepth).map(a => (a._1, a._2.size)).toList.sortBy(_._1).unzip\n",
    "\n",
    "\n",
    "    val data = Seq(\n",
    "        Scatter(xLive, yLive, name=\"live nodes\"),\n",
    "    //     //Scatter(xAll,yAll, name=\"all nodes\")\n",
    "    )\n",
    "    val currentlyWorkingNodes = db.getNoSucc().filter{n => n.qry.searchState.toString.contains(\"live\") && n.subsumed.isEmpty}\n",
    "\n",
    "}\n",
    "\n",
    "// plot(LiveNodes.data)\n",
    "// LiveNodes.data.head.plot()\n",
    "println(s\"number of live nodes: ${LiveNodes.live.size}\")\n",
    "println(s\"max depth: ${LiveNodes.live.map{_.depth}.max}\")\n",
    "println(s\"currently active nodes: ${LiveNodes.currentlyWorkingNodes.size}\")\n",
    "// LiveNodes.data.head"
   ]
  },
  {
   "cell_type": "markdown",
   "metadata": {},
   "source": [
    "number of live nodes: 26566\n",
    "max depth: 955\n",
    "currently active nodes: 549\n",
    "number of live nodes: 26566\n",
    "max depth: 955\n",
    "currently active nodes: 540\n",
    "number of live nodes: 26491\n",
    "max depth: 955\n",
    "currently active nodes: 542"
   ]
  },
  {
   "cell_type": "code",
   "execution_count": null,
   "metadata": {
    "tags": []
   },
   "outputs": [],
   "source": [
    "object DbgUnreach{\n",
    "    val byDepth = LiveNodes.live.toList.sortBy(_.depth).reverse\n",
    "}\n",
    "// File.usingTemporaryFile() {tempFile =>\n",
    "//   PrettyPrinting.printTraces(Set(DbgUnreach.byDepth.head), tempFile.toString, false)\n",
    "//   println(tempFile.contentAsString)\n",
    "// } \n"
   ]
  },
  {
   "cell_type": "code",
   "execution_count": null,
   "metadata": {},
   "outputs": [],
   "source": [
    "object AvgPureSize{\n",
    "    val (x,y) = LiveNodes.live.groupBy(_.depth).map{case (depth, nodes) => \n",
    "        val pureSizes = nodes.map(n => n.qry.state.sf.pureFormula.size)\n",
    "        (depth,pureSizes.sum/nodes.size.toDouble)\n",
    "    }.toList.sortBy(_._1).unzip\n",
    "\n",
    "}\n",
    "Scatter(AvgPureSize.x, AvgPureSize.y).plot()"
   ]
  },
  {
   "cell_type": "code",
   "execution_count": null,
   "metadata": {},
   "outputs": [],
   "source": [
    "LiveNodes.live.groupBy(_.depth)(160).head.qry.state.toString "
   ]
  },
  {
   "cell_type": "code",
   "execution_count": null,
   "metadata": {},
   "outputs": [],
   "source": [
    "LiveNodes.live.size"
   ]
  },
  {
   "cell_type": "code",
   "execution_count": null,
   "metadata": {},
   "outputs": [],
   "source": [
    "// LiveNodes.live.filter(pn => pn.qry.getState.get.sf.traceAbstraction.rightOfArrow.size > 0)\n",
    "// LiveNodes.live.head\n",
    "def groupByLocation(nodes:Iterable[DBPathNode]) = {\n",
    "    \n",
    "}\n",
    "groupByLocation(LiveNodes.live)"
   ]
  },
  {
   "cell_type": "code",
   "execution_count": null,
   "metadata": {},
   "outputs": [],
   "source": [
    "// Count pure vars in state\n",
    "\n",
    "\n",
    "Histogram(x=List(1,1,3,5,5,5)).plot()//.withXbins(new Bins(0,1,1)).plot()"
   ]
  },
  {
   "cell_type": "code",
   "execution_count": null,
   "metadata": {},
   "outputs": [],
   "source": []
  },
  {
   "cell_type": "code",
   "execution_count": null,
   "metadata": {},
   "outputs": [],
   "source": [
    "def getEndLive()= {\n",
    "    // Note: this cant distinguish live at end from nodes with no pred locations\n",
    "    val live = db.getLive()\n",
    "    val filtLive:Set[IPathNode] = live.filter{a => a.qry.isLive && a.subsumed.isEmpty}.map(_.asInstanceOf[IPathNode])\n",
    "    // BounderUtil.computeDepthOfWitOrLive(filtLive, QueryFinished)\n",
    "    filtLive\n",
    "}\n",
    "\n",
    "def dumpFrom(liveNodes: Set[IPathNode],outF:String):Unit = {\n",
    "    import edu.colorado.plv.bounder.symbolicexecutor.state.PrettyPrinting\n",
    "    val pp = new PrettyPrinting()\n",
    "    val inspQ: Set[IPathNode] = liveNodes\n",
    "    val pptr = pp.witnessToTrace(inspQ.toList,false)\n",
    "    println(s\"inspection set size: ${inspQ.size}\")\n",
    "    pp.dumpDebugInfo(inspQ.toSet, \"timeout\", true, Some(outF))\n",
    "}\n",
    "\n",
    "dumpFrom(getEndLive(), \"/Users/shawnmeier/Desktop/55select/org.andstatus/sample/res_1763/specout/org.andstatus/sample\")"
   ]
  },
  {
   "cell_type": "code",
   "execution_count": null,
   "metadata": {},
   "outputs": [],
   "source": [
    "// LiveNodes.live.map{_.depth}\n",
    "// dumpFrom(LiveNodes.live,\"/Users/shawnmeier/Desktop/AntennapodExecute_bug_workingdir\")"
   ]
  },
  {
   "cell_type": "code",
   "execution_count": null,
   "metadata": {},
   "outputs": [],
   "source": [
    "def dumpFromDepth(liveNodes: Set[DBPathNode],outF:String, sampDepth:Int):Unit = {\n",
    "    import edu.colorado.plv.bounder.symbolicexecutor.state.PrettyPrinting\n",
    "    val pp = new PrettyPrinting()\n",
    "    val inspQ: Set[IPathNode] = liveNodes.filter(n => n.depth == sampDepth).map(_.asInstanceOf[IPathNode])\n",
    "    val pptr = pp.witnessToTrace(inspQ.toList,false)\n",
    "    println(s\"inspection set size: ${inspQ.size}\")\n",
    "    pp.dumpDebugInfo(inspQ.toSet, \"timeout\", true, Some(outF))\n",
    "}\n",
    "// pp.qryString(inspQ.qry)\n",
    "// Test1.pptr.take(3)\n",
    "\n",
    "dumpFromDepth(LiveNodes.live, \n",
    "              \"/Users/shawnmeier/Desktop/AntennapodExecute_fix_workingdir\", \n",
    "                38)"
   ]
  },
  {
   "cell_type": "code",
   "execution_count": null,
   "metadata": {},
   "outputs": [],
   "source": []
  },
  {
   "cell_type": "code",
   "execution_count": null,
   "metadata": {},
   "outputs": [],
   "source": [
    "def getEXSet() = {\n",
    "    val locGroup = LiveNodes.live.groupBy(n => n.qry.loc)\n",
    "    val mostVisitedList = locGroup.map{a => (a._1,a._2.size)}.toList.sortBy(a => a._2).reverse\n",
    "    val mostVisitedNode = mostVisitedList.head._1\n",
    "    \n",
    "    val pp = new PrettyPrinting()\n",
    "    val nodeList = locGroup(mostVisitedNode)\n",
    "    val outf = File(\"/Users/shawnmeier/Desktop/db_triage/states.txt\")\n",
    "    nodeList.foreach{n => \n",
    "        outf.appendLine().append(pp.qryString(n.qry))\n",
    "        outf.appendLine().append(s\"subs: ${n.subsumedID}\")\n",
    "    }\n",
    "}\n",
    "    \n",
    "getEXSet()"
   ]
  },
  {
   "cell_type": "code",
   "execution_count": null,
   "metadata": {},
   "outputs": [],
   "source": [
    "LiveNodes.live.groupBy(n => n.subsumed.isDefined).map{a => (a._1,a._2.size)}"
   ]
  },
  {
   "cell_type": "code",
   "execution_count": null,
   "metadata": {},
   "outputs": [],
   "source": [
    "LiveNodes.live.groupBy(_.dbgTrace).map(a => (a._1.toString,a._2.size)).toList.sortBy(_._2).reverse"
   ]
  },
  {
   "cell_type": "code",
   "execution_count": null,
   "metadata": {},
   "outputs": [],
   "source": [
    "LiveNodes.live.filter(_.dbgTrace.toString == \"Some(List(I_CBEnter_Activity_onCreate, I_CIExit_Activity_findView, FreshRef(LS__10335), I_CIExit_View_setOnClickListener, I_CBEnter_Activity_onResume, I_CIExit_Activity_finish, I_CIExit_View_setOnClickListener, I_CBEnter_ViewOnClickListener_onClick))\").groupBy(_.dbgHeap).map(a => (a._1.toString,a._2.size)).toList.sortBy(_._2).reverse.map(println)"
   ]
  },
  {
   "cell_type": "code",
   "execution_count": null,
   "metadata": {},
   "outputs": [],
   "source": [
    "object OUT32{\n",
    "    import edu.colorado.plv.bounder.symbolicexecutor.state.State\n",
    "    val dbgNodes = LiveNodes.live.filter(_.dbgTrace.toString == \"Some(List(I_CIExit_Dialog_show, I_CIEnter_Dialog_dismiss))\").groupBy(_.dbgHeap).map(a => (a._1.toString,a._2.size,a._2)).toList.sortBy(_._2).reverse\n",
    "    val nodeList = OUT32.dbgNodes.head._3.toList\n",
    "    def pp(s:State) = {\n",
    "        val o = List(\"locals:\",\"heap:\",\"types:\",\"trace:\").foldLeft(s.toString){\n",
    "            case (acc,v) => acc.replace(s\"$v\", s\"\\n$v\")\n",
    "        }\n",
    "        println(o)\n",
    "    }\n",
    "    val stateList = nodeList.map(n => n.qry.getState.get)\n",
    "    val stackGrouped = stateList.groupBy(_.sf.callStack.toString()).toList.sortBy(_._2.size).reverse\n",
    "}\n",
    "OUT32.stackGrouped.map(a => (a._1, a._2.size))\n",
    "//OUT32.stateList.sortBy(s => s.sf.callStack.toString()).take(10).foreach{OUT32.pp}\n"
   ]
  },
  {
   "cell_type": "code",
   "execution_count": null,
   "metadata": {},
   "outputs": [],
   "source": [
    "import upickle.default.{macroRW, read, write, ReadWriter => RW}\n",
    "val js = ujson.Arr(List(List(1),List(2)))\n",
    "js.toString"
   ]
  },
  {
   "cell_type": "code",
   "execution_count": null,
   "metadata": {},
   "outputs": [],
   "source": [
    "List(\"fooo\",\"bar\",\"a\").sortBy(_.length).take(5)"
   ]
  },
  {
   "cell_type": "code",
   "execution_count": null,
   "metadata": {},
   "outputs": [],
   "source": []
  },
  {
   "cell_type": "code",
   "execution_count": null,
   "metadata": {},
   "outputs": [],
   "source": []
  }
 ],
 "metadata": {
  "kernelspec": {
   "display_name": "Scala",
   "language": "scala",
   "name": "scala"
  },
  "language_info": {
   "codemirror_mode": "text/x-scala",
   "file_extension": ".scala",
   "mimetype": "text/x-scala",
   "name": "scala",
   "nbconvert_exporter": "script",
   "version": "2.13.2"
  }
 },
 "nbformat": 4,
 "nbformat_minor": 4
}
