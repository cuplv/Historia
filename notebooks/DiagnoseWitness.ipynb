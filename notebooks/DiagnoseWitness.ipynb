{
 "cells": [
  {
   "cell_type": "code",
   "execution_count": 1,
   "metadata": {},
   "outputs": [
    {
     "data": {
      "text/plain": [
       "\u001b[36mpath\u001b[39m: \u001b[32mString\u001b[39m = \u001b[32m\"/Users/shawnmeier/Documents/source/bounder/soot_hopper/target/scala-2.13/soot_hopper-assembly-0.1.jar\"\u001b[39m\n",
       "\u001b[32mimport \u001b[39m\u001b[36m$ivy.$                                      \n",
       "\u001b[39m\n",
       "\u001b[32mimport \u001b[39m\u001b[36m$ivy.$                             \n",
       "// import $ivy.`edu.colorado.plv.bounder:soot_hopper_2.13:0.1`\n",
       "\n",
       "\u001b[39m\n",
       "\u001b[32mimport \u001b[39m\u001b[36mujson.Value\n",
       "\u001b[39m\n",
       "\u001b[32mimport \u001b[39m\u001b[36msys.process._\n",
       "\n",
       "// interp.load.ivy(\"com.github.pathikrit\" %% \"better-files\" % \"3.9.1\")\n",
       "\u001b[39m\n",
       "\u001b[32mimport \u001b[39m\u001b[36m$ivy.$                                         \n",
       "\u001b[39m\n",
       "\u001b[32mimport \u001b[39m\u001b[36mbetter.files._\n",
       "\n",
       "\u001b[39m"
      ]
     },
     "execution_count": 1,
     "metadata": {},
     "output_type": "execute_result"
    }
   ],
   "source": [
    "val path = \"/Users/shawnmeier/Documents/source/bounder/soot_hopper/target/scala-2.13/soot_hopper-assembly-0.1.jar\"\n",
    "// note: use sbt assembly to create jar\n",
    "interp.load.cp(os.Path(path))\n",
    "import $ivy.`org.plotly-scala::plotly-almond:0.8.1`\n",
    "import $ivy.`com.lihaoyi:ujson_2.13:1.3.8`\n",
    "// import $ivy.`edu.colorado.plv.bounder:soot_hopper_2.13:0.1`\n",
    "\n",
    "import ujson.Value\n",
    "import sys.process._\n",
    "\n",
    "// interp.load.ivy(\"com.github.pathikrit\" %% \"better-files\" % \"3.9.1\")\n",
    "import $ivy.`com.github.pathikrit::better-files:3.9.1`\n",
    "import better.files._\n",
    "\n"
   ]
  },
  {
   "cell_type": "code",
   "execution_count": 2,
   "metadata": {},
   "outputs": [
    {
     "data": {
      "text/plain": [
       "\u001b[32mimport \u001b[39m\u001b[36mscala.util.Random\n",
       "\u001b[39m\n",
       "\u001b[32mimport \u001b[39m\u001b[36medu.colorado.plv.bounder.Driver\n",
       "\u001b[39m\n",
       "\u001b[32mimport \u001b[39m\u001b[36medu.colorado.plv.bounder.RunConfig\n",
       "\u001b[39m\n",
       "\u001b[32mimport \u001b[39m\u001b[36medu.colorado.plv.bounder.symbolicexecutor.state.PureConstraint\n",
       "\u001b[39m\n",
       "\u001b[32mimport \u001b[39m\u001b[36mupickle.default.read\n",
       "\u001b[39m\n",
       "\u001b[32mimport \u001b[39m\u001b[36mscala.collection.parallel.CollectionConverters.{ImmutableSetIsParallelizable, IterableIsParallelizable}\n",
       "\n",
       "\u001b[39m\n",
       "\u001b[32mimport \u001b[39m\u001b[36mplotly._\n",
       "\u001b[39m\n",
       "\u001b[32mimport \u001b[39m\u001b[36mplotly.element._\n",
       "\u001b[39m\n",
       "\u001b[32mimport \u001b[39m\u001b[36mplotly.layout._\n",
       "\u001b[39m\n",
       "\u001b[32mimport \u001b[39m\u001b[36mplotly.Almond._\u001b[39m"
      ]
     },
     "execution_count": 2,
     "metadata": {},
     "output_type": "execute_result"
    }
   ],
   "source": [
    "import scala.util.Random\n",
    "import edu.colorado.plv.bounder.Driver\n",
    "import edu.colorado.plv.bounder.RunConfig\n",
    "import edu.colorado.plv.bounder.symbolicexecutor.state.PureConstraint\n",
    "import upickle.default.read\n",
    "import scala.collection.parallel.CollectionConverters.{ImmutableSetIsParallelizable, IterableIsParallelizable}\n",
    "\n",
    "import plotly._\n",
    "import plotly.element._\n",
    "import plotly.layout._\n",
    "import plotly.Almond._"
   ]
  },
  {
   "cell_type": "code",
   "execution_count": 3,
   "metadata": {},
   "outputs": [
    {
     "data": {
      "text/plain": [
       "\u001b[32mimport \u001b[39m\u001b[36medu.colorado.plv.bounder.symbolicexecutor.state.DBOutputMode\n",
       "\u001b[39m\n",
       "\u001b[32mimport \u001b[39m\u001b[36medu.colorado.plv.bounder.symbolicexecutor.state.{DBPathNode,IPathNode}\n",
       "\u001b[39m\n",
       "\u001b[32mimport \u001b[39m\u001b[36medu.colorado.plv.bounder.ir._\n",
       "\u001b[39m\n",
       "defined \u001b[32mfunction\u001b[39m \u001b[36mobsMessagesStr\u001b[39m\n",
       "\u001b[36mdb\u001b[39m: \u001b[32mDBOutputMode\u001b[39m = \u001b[33mDBOutputMode\u001b[39m(\n",
       "  \u001b[32m\"/Users/shawnmeier/Desktop/YambaDismiss_bug_workingdir/paths.db\"\u001b[39m,\n",
       "  true\n",
       ")"
      ]
     },
     "execution_count": 3,
     "metadata": {},
     "output_type": "execute_result"
    }
   ],
   "source": [
    "import edu.colorado.plv.bounder.symbolicexecutor.state.DBOutputMode\n",
    "import edu.colorado.plv.bounder.symbolicexecutor.state.{DBPathNode,IPathNode}\n",
    "import edu.colorado.plv.bounder.ir._\n",
    "def obsMessagesStr(nodes:List[DBPathNode]):List[DBPathNode] = {\n",
    "nodes.flatMap{n =>\n",
    "  n.qry.loc match {\n",
    "    case c @ CallinMethodReturn(fmwClazz, fmwName) => Some(n)\n",
    "    case c @ CallinMethodInvoke(fmwClazz, fmwName) => Some(n)\n",
    "    case c @ GroupedCallinMethodInvoke(targetClasses, fmwName) => Some(n)\n",
    "    case c @ GroupedCallinMethodReturn(targetClasses, fmwName) => Some(n)\n",
    "    case c @ CallbackMethodInvoke(fmwClazz, fmwName, loc) => Some(n)\n",
    "    case c @ CallbackMethodReturn(fmwClazz, fmwName, loc, line) => Some(n)\n",
    "    case _ => None\n",
    "  }}\n",
    "}\n",
    "\n",
    "// implicit val db = DBOutputMode(\"/Users/shawnmeier/Desktop/db_triage/connectbot1.db\",true)\n",
    "implicit val db = DBOutputMode(\"/Users/shawnmeier/Desktop/YambaDismiss_bug_workingdir/paths.db\",true)"
   ]
  },
  {
   "cell_type": "code",
   "execution_count": 5,
   "metadata": {},
   "outputs": [
    {
     "name": "stdout",
     "output_type": "stream",
     "text": [
      "write node size 0\n",
      "graph queue size 0\n",
      "runtime(ms): 5.012\n"
     ]
    },
    {
     "ename": "",
     "evalue": "",
     "output_type": "error",
     "traceback": [
      "\u001b[31mjava.lang.AssertionError: assertion failed: Failed to find unique node id: 905 actual size: 0\u001b[39m\n  scala.Predef$.assert(\u001b[32mPredef.scala\u001b[39m:\u001b[32m282\u001b[39m)\n  edu.colorado.plv.bounder.symbolicexecutor.state.DBOutputMode.readNode(\u001b[32mReachingGraph.scala\u001b[39m:\u001b[32m395\u001b[39m)\n  ammonite.$sess.cmd4$Helper.<init>(\u001b[32mcmd4.sc\u001b[39m:\u001b[32m1\u001b[39m)\n  ammonite.$sess.cmd4$.<clinit>(\u001b[32mcmd4.sc\u001b[39m:\u001b[32m7\u001b[39m)"
     ]
    }
   ],
   "source": [
    "db.readNode(905)"
   ]
  },
  {
   "cell_type": "code",
   "execution_count": 4,
   "metadata": {
    "tags": []
   },
   "outputs": [
    {
     "data": {
      "text/html": [
       "\n",
       "      <script type=\"text/javascript\">\n",
       "        require.config({\n",
       "  paths: {\n",
       "    d3: 'https://cdnjs.cloudflare.com/ajax/libs/d3/3.5.17/d3.min',\n",
       "    plotly: 'https://cdn.plot.ly/plotly-1.52.2.min',\n",
       "    jquery: 'https://code.jquery.com/jquery-3.3.1.min'\n",
       "  },\n",
       "\n",
       "  shim: {\n",
       "    plotly: {\n",
       "      deps: ['d3', 'jquery'],\n",
       "      exports: 'plotly'\n",
       "    }\n",
       "  }\n",
       "});\n",
       "        \n",
       "\n",
       "        require(['plotly'], function(Plotly) {\n",
       "          window.Plotly = Plotly;\n",
       "        });\n",
       "      </script>\n",
       "    "
      ]
     },
     "metadata": {},
     "output_type": "display_data"
    },
    {
     "data": {
      "application/vnd.plotly.v1+json": {
       "config": {},
       "data": [
        {
         "type": "scatter",
         "x": [
          0,
          12,
          13,
          14,
          22,
          24,
          26,
          28,
          29,
          30,
          32,
          38,
          40,
          42,
          44,
          48,
          54,
          64,
          70,
          86
         ],
         "y": [
          2,
          2,
          2,
          32,
          3,
          1,
          1,
          1,
          1,
          32,
          2,
          4,
          1,
          1,
          2,
          3,
          1,
          1,
          1,
          2
         ]
        }
       ],
       "layout": {
        "autosize": true,
        "xaxis": {
         "autorange": true,
         "range": [
          0,
          86
         ],
         "type": "linear"
        },
        "yaxis": {
         "autorange": true,
         "range": [
          -0.7222222222222221,
          33.72222222222222
         ],
         "type": "linear"
        }
       }
      },
      "image/png": "[encoded data removed]",
      "text/html": [
       "<div class=\"chart\" id=\"plot-7e7bf292-9375-4cb2-87d0-983b2e107d34\"></div>\n",
       "<script>require(['plotly'], function(Plotly) {\n",
       "  (function () {\n",
       "  var data0 = {\"x\":[0.0,12.0,13.0,14.0,22.0,24.0,26.0,28.0,29.0,30.0,32.0,38.0,40.0,42.0,44.0,48.0,54.0,64.0,70.0,86.0],\"type\":\"scatter\",\"y\":[2.0,2.0,2.0,32.0,3.0,1.0,1.0,1.0,1.0,32.0,2.0,4.0,1.0,1.0,2.0,3.0,1.0,1.0,1.0,2.0]};\n",
       "\n",
       "  var data = [data0];\n",
       "  var layout = {};\n",
       " var config = {};\n",
       "\n",
       "  Plotly.plot('plot-7e7bf292-9375-4cb2-87d0-983b2e107d34', data, layout, config);\n",
       "})();\n",
       "});\n",
       "      </script>\n",
       "           "
      ]
     },
     "metadata": {},
     "output_type": "display_data"
    },
    {
     "data": {
      "text/plain": [
       "defined \u001b[32mobject\u001b[39m \u001b[36mLiveNodes\u001b[39m\n",
       "\u001b[36mres3_1\u001b[39m: \u001b[32mString\u001b[39m = \u001b[32m\"plot-7e7bf292-9375-4cb2-87d0-983b2e107d34\"\u001b[39m"
      ]
     },
     "execution_count": 4,
     "metadata": {},
     "output_type": "execute_result"
    }
   ],
   "source": [
    "object LiveNodes{ // Create object to supress output TODO: upgrade ammonite at some point\n",
    "    val live = db.getAllLiveNodes()\n",
    "    val (x,y) = live.groupBy(_.depth).map(a => (a._1, a._2.size)).toList.sortBy(_._1).unzip\n",
    "//     val noSuc = live.filter(a => !live.exists(b => b.)) // find set of \"active\" nodes\n",
    "\n",
    "// val (x, y) = Seq(\n",
    "//   \"Banana\" -> 10,\n",
    "//   \"Apple\" -> 8,\n",
    "//   \"Grapefruit\" -> 5\n",
    "// ).unzip\n",
    "}\n",
    "Scatter(LiveNodes.x, LiveNodes.y).plot()"
   ]
  },
  {
   "cell_type": "code",
   "execution_count": 7,
   "metadata": {},
   "outputs": [
    {
     "data": {
      "text/plain": [
       "defined \u001b[32mfunction\u001b[39m \u001b[36mminCBDepth\u001b[39m\n",
       "\u001b[36mres6_1\u001b[39m: \u001b[32mSet\u001b[39m[\u001b[32mInt\u001b[39m] = \u001b[33mHashSet\u001b[39m(\u001b[32m0\u001b[39m, \u001b[32m5\u001b[39m, \u001b[32m2\u001b[39m, \u001b[32m3\u001b[39m, \u001b[32m4\u001b[39m)"
      ]
     },
     "execution_count": 7,
     "metadata": {},
     "output_type": "execute_result"
    }
   ],
   "source": [
    "def minCBDepth()= {\n",
    "    val live = db.getLive()\n",
    "    live.filter{a => a.qry.isLive}.map{_.ordDepth}\n",
    "}\n",
    "minCBDepth()"
   ]
  },
  {
   "cell_type": "code",
   "execution_count": 8,
   "metadata": {},
   "outputs": [
    {
     "data": {
      "text/plain": [
       "\u001b[36mres7\u001b[39m: \u001b[32mSet\u001b[39m[\u001b[32mInt\u001b[39m] = \u001b[33mHashSet\u001b[39m(\n",
       "  \u001b[32m69\u001b[39m,\n",
       "  \u001b[32m138\u001b[39m,\n",
       "  \u001b[32m101\u001b[39m,\n",
       "  \u001b[32m0\u001b[39m,\n",
       "  \u001b[32m88\u001b[39m,\n",
       "  \u001b[32m170\u001b[39m,\n",
       "  \u001b[32m115\u001b[39m,\n",
       "  \u001b[32m5\u001b[39m,\n",
       "  \u001b[32m120\u001b[39m,\n",
       "  \u001b[32m10\u001b[39m,\n",
       "  \u001b[32m56\u001b[39m,\n",
       "  \u001b[32m142\u001b[39m,\n",
       "  \u001b[32m153\u001b[39m,\n",
       "  \u001b[32m42\u001b[39m,\n",
       "  \u001b[32m24\u001b[39m,\n",
       "  \u001b[32m37\u001b[39m,\n",
       "  \u001b[32m25\u001b[39m,\n",
       "  \u001b[32m52\u001b[39m,\n",
       "  \u001b[32m14\u001b[39m,\n",
       "  \u001b[32m110\u001b[39m,\n",
       "  \u001b[32m125\u001b[39m,\n",
       "  \u001b[32m157\u001b[39m,\n",
       "  \u001b[32m20\u001b[39m,\n",
       "  \u001b[32m46\u001b[39m,\n",
       "  \u001b[32m93\u001b[39m,\n",
       "  \u001b[32m152\u001b[39m,\n",
       "  \u001b[32m57\u001b[39m,\n",
       "  \u001b[32m78\u001b[39m,\n",
       "  \u001b[32m29\u001b[39m,\n",
       "  \u001b[32m164\u001b[39m,\n",
       "  \u001b[32m106\u001b[39m,\n",
       "  \u001b[32m121\u001b[39m,\n",
       "  \u001b[32m84\u001b[39m,\n",
       "  \u001b[32m147\u001b[39m,\n",
       "  \u001b[32m61\u001b[39m,\n",
       "  \u001b[32m132\u001b[39m,\n",
       "  \u001b[32m116\u001b[39m,\n",
       "  \u001b[32m1\u001b[39m,\n",
       "..."
      ]
     },
     "execution_count": 8,
     "metadata": {},
     "output_type": "execute_result"
    }
   ],
   "source": [
    "LiveNodes.live.map{_.depth}"
   ]
  },
  {
   "cell_type": "code",
   "execution_count": 27,
   "metadata": {},
   "outputs": [
    {
     "name": "stdout",
     "output_type": "stream",
     "text": [
      "p-2  !=  NULL\n",
      "p-2  !=  NULL\n",
      "p-2  !=  NULL\n",
      "p-2  !=  NULL\n",
      "p-2  !=  NULL\n",
      "p-2  !=  NULL\n",
      "p-2  !=  NULL\n",
      "p-2  !=  NULL\n",
      "p-2  !=  NULL\n",
      "p-2  !=  NULL\n",
      "inspection set size: 0\n"
     ]
    },
    {
     "data": {
      "text/plain": [
       "defined \u001b[32mfunction\u001b[39m \u001b[36mdumpFrom\u001b[39m"
      ]
     },
     "execution_count": 27,
     "metadata": {},
     "output_type": "execute_result"
    }
   ],
   "source": [
    "def dumpFrom(liveNodes: Set[DBPathNode],outF:String):Unit = {\n",
    "    import edu.colorado.plv.bounder.symbolicexecutor.state.PrettyPrinting\n",
    "    val pp = new PrettyPrinting()\n",
    "    val inspQ: Set[IPathNode] = liveNodes.filter(n => n.qry.getState.get.sf.pureFormula.exists{(p:PureConstraint) => \n",
    "        println(p.toString)\n",
    "        p.toString.matches(\"p-5.*p-5\")\n",
    "    }).map(_.asInstanceOf[IPathNode])\n",
    "    val pptr = pp.witnessToTrace(inspQ.toList,false)\n",
    "    println(s\"inspection set size: ${inspQ.size}\")\n",
    "    pp.dumpDebugInfo(inspQ.toSet, \"timeout\", true, Some(outF))\n",
    "}\n",
    "dumpFrom(LiveNodes.live,\"/Users/shawnmeier/Desktop/AntennapodExecute_bug_workingdir\")"
   ]
  },
  {
   "cell_type": "raw",
   "metadata": {},
   "source": [
    "TODO: seems to be some problem with an internal method invoke not subsuming.\n"
   ]
  },
  {
   "cell_type": "code",
   "execution_count": 14,
   "metadata": {},
   "outputs": [
    {
     "name": "stdout",
     "output_type": "stream",
     "text": [
      "inspection set size: 59\n",
      "Writing trace 0 / 59, length: 38\n",
      "Writing trace 1 / 59, length: 38\n",
      "Writing trace 2 / 59, length: 38\n",
      "Writing trace 3 / 59, length: 38\n",
      "Writing trace 4 / 59, length: 38\n",
      "Writing trace 5 / 59, length: 38\n",
      "Writing trace 6 / 59, length: 38\n",
      "Writing trace 7 / 59, length: 38\n",
      "Writing trace 8 / 59, length: 38\n",
      "Writing trace 9 / 59, length: 38\n",
      "Writing trace 10 / 59, length: 38\n",
      "Writing trace 11 / 59, length: 38\n",
      "Writing trace 12 / 59, length: 38\n",
      "Writing trace 13 / 59, length: 38\n",
      "Writing trace 14 / 59, length: 38\n",
      "Writing trace 15 / 59, length: 38\n",
      "Writing trace 16 / 59, length: 38\n",
      "Writing trace 17 / 59, length: 38\n",
      "Writing trace 18 / 59, length: 38\n",
      "Writing trace 19 / 59, length: 38\n",
      "Writing trace 20 / 59, length: 38\n",
      "Writing trace 21 / 59, length: 38\n",
      "Writing trace 22 / 59, length: 38\n",
      "Writing trace 23 / 59, length: 38\n",
      "Writing trace 24 / 59, length: 38\n",
      "Writing trace 25 / 59, length: 38\n",
      "Writing trace 26 / 59, length: 38\n",
      "Writing trace 27 / 59, length: 38\n",
      "Writing trace 28 / 59, length: 38\n",
      "Writing trace 29 / 59, length: 38\n",
      "Writing trace 30 / 59, length: 38\n",
      "Writing trace 31 / 59, length: 38\n",
      "Writing trace 32 / 59, length: 38\n",
      "Writing trace 33 / 59, length: 38\n",
      "Writing trace 34 / 59, length: 38\n",
      "Writing trace 35 / 59, length: 38\n",
      "Writing trace 36 / 59, length: 38\n",
      "Writing trace 37 / 59, length: 38\n",
      "Writing trace 38 / 59, length: 38\n",
      "Writing trace 39 / 59, length: 38\n",
      "Writing trace 40 / 59, length: 38\n",
      "Writing trace 41 / 59, length: 38\n",
      "Writing trace 42 / 59, length: 38\n",
      "Writing trace 43 / 59, length: 38\n",
      "Writing trace 44 / 59, length: 38\n",
      "Writing trace 45 / 59, length: 38\n",
      "Writing trace 46 / 59, length: 38\n",
      "Writing trace 47 / 59, length: 38\n",
      "Writing trace 48 / 59, length: 38\n",
      "Writing trace 49 / 59, length: 38\n",
      "Writing trace 50 / 59, length: 38\n",
      "Writing trace 51 / 59, length: 38\n",
      "Writing trace 52 / 59, length: 38\n",
      "Writing trace 53 / 59, length: 38\n",
      "Writing trace 54 / 59, length: 38\n",
      "Writing trace 55 / 59, length: 38\n",
      "Writing trace 56 / 59, length: 38\n",
      "Writing trace 57 / 59, length: 38\n",
      "Writing trace 58 / 59, length: 38\n"
     ]
    },
    {
     "data": {
      "text/plain": [
       "defined \u001b[32mfunction\u001b[39m \u001b[36mdumpFromDepth\u001b[39m"
      ]
     },
     "execution_count": 14,
     "metadata": {},
     "output_type": "execute_result"
    }
   ],
   "source": [
    "def dumpFromDepth(liveNodes: Set[DBPathNode],outF:String, sampDepth:Int):Unit = {\n",
    "    import edu.colorado.plv.bounder.symbolicexecutor.state.PrettyPrinting\n",
    "    val pp = new PrettyPrinting()\n",
    "    val inspQ: Set[IPathNode] = liveNodes.filter(n => n.depth == sampDepth).map(_.asInstanceOf[IPathNode])\n",
    "    val pptr = pp.witnessToTrace(inspQ.toList,false)\n",
    "    println(s\"inspection set size: ${inspQ.size}\")\n",
    "    pp.dumpDebugInfo(inspQ.toSet, \"timeout\", true, Some(outF))\n",
    "}\n",
    "// pp.qryString(inspQ.qry)\n",
    "// Test1.pptr.take(3)\n",
    "\n",
    "dumpFromDepth(LiveNodes.live, \n",
    "              \"/Users/shawnmeier/Desktop/AntennapodExecute_fix_workingdir\", \n",
    "                38)"
   ]
  },
  {
   "cell_type": "code",
   "execution_count": null,
   "metadata": {},
   "outputs": [],
   "source": []
  },
  {
   "cell_type": "code",
   "execution_count": 57,
   "metadata": {},
   "outputs": [
    {
     "data": {
      "text/plain": [
       "defined \u001b[32mfunction\u001b[39m \u001b[36mgetEXSet\u001b[39m"
      ]
     },
     "execution_count": 57,
     "metadata": {},
     "output_type": "execute_result"
    }
   ],
   "source": [
    "def getEXSet() = {\n",
    "    val locGroup = LiveNodes.live.groupBy(n => n.qry.loc)\n",
    "    val mostVisitedList = locGroup.map{a => (a._1,a._2.size)}.toList.sortBy(a => a._2).reverse\n",
    "    val mostVisitedNode = mostVisitedList.head._1\n",
    "    \n",
    "    val pp = new PrettyPrinting()\n",
    "    val nodeList = locGroup(mostVisitedNode)\n",
    "    val outf = File(\"/Users/shawnmeier/Desktop/db_triage/states.txt\")\n",
    "    nodeList.foreach{n => \n",
    "        outf.appendLine().append(pp.qryString(n.qry))\n",
    "        outf.appendLine().append(s\"subs: ${n.subsumedID}\")\n",
    "    }\n",
    "}\n",
    "    \n",
    "getEXSet()"
   ]
  },
  {
   "cell_type": "code",
   "execution_count": 24,
   "metadata": {},
   "outputs": [
    {
     "data": {
      "text/plain": [
       "\u001b[36mres23\u001b[39m: \u001b[32mMap\u001b[39m[\u001b[32mBoolean\u001b[39m, \u001b[32mInt\u001b[39m] = \u001b[33mHashMap\u001b[39m(false -> \u001b[32m4909\u001b[39m)"
      ]
     },
     "execution_count": 24,
     "metadata": {},
     "output_type": "execute_result"
    }
   ],
   "source": [
    "LiveNodes.live.groupBy(n => n.subsumed.isDefined).map{a => (a._1,a._2.size)}"
   ]
  },
  {
   "cell_type": "code",
   "execution_count": 25,
   "metadata": {},
   "outputs": [
    {
     "data": {
      "text/plain": [
       "\u001b[36mres24\u001b[39m: \u001b[32mList\u001b[39m[(\u001b[32mString\u001b[39m, \u001b[32mInt\u001b[39m)] = \u001b[33mList\u001b[39m(\n",
       "  (\n",
       "    \u001b[32m\"Some(List(I_CBEnter_Activity_onCreate, I_CIExit_Activity_findView, FreshRef(LS__18567), I_CIExit_View_setOnClickListener, I_CBEnter_Activity_onResume, I_CIExit_Activity_finish, I_CIExit_View_setOnClickListener, I_CBEnter_ViewOnClickListener_onClick))\"\u001b[39m,\n",
       "    \u001b[32m140\u001b[39m\n",
       "  ),\n",
       "  (\n",
       "    \u001b[32m\"Some(List(I_CBEnter_Activity_onCreate, I_CIExit_Activity_findView, FreshRef(LS__14636), I_CIExit_View_setOnClickListener, I_CIExit_Activity_finish, I_CIExit_View_setOnClickListener, I_CBEnter_ViewOnClickListener_onClick))\"\u001b[39m,\n",
       "    \u001b[32m140\u001b[39m\n",
       "  ),\n",
       "  (\n",
       "    \u001b[32m\"Some(List(I_CBEnter_Activity_onCreate, I_CIExit_Activity_findView, FreshRef(LS__18561), I_CIExit_View_setOnClickListener, I_CBExit_Activity_onPause, I_CIExit_Activity_finish, I_CIExit_View_setOnClickListener, I_CBEnter_ViewOnClickListener_onClick))\"\u001b[39m,\n",
       "    \u001b[32m126\u001b[39m\n",
       "  ),\n",
       "  (\n",
       "    \u001b[32m\"Some(List(I_CIExit_Activity_finish, I_CIExit_View_setOnClickListener, I_CBEnter_Activity_onCreate, I_CIExit_Activity_findView, FreshRef(LS__14636), I_CIExit_View_setOnClickListener, I_CIExit_Activity_finish, I_CIExit_View_setOnClickListener, I_CBEnter_ViewOnClickListener_onClick))\"\u001b[39m,\n",
       "    \u001b[32m89\u001b[39m\n",
       "  ),\n",
       "  (\n",
       "    \u001b[32m\"Some(List(I_CIExit_View_setOnClickListener, I_CBEnter_Activity_onCreate, I_CIExit_Activity_findView, FreshRef(LS__14636), I_CIExit_View_setOnClickListener, I_CIExit_Activity_finish, I_CIExit_View_setOnClickListener, I_CBEnter_ViewOnClickListener_onClick))\"\u001b[39m,\n",
       "    \u001b[32m82\u001b[39m\n",
       "  ),\n",
       "  (\n",
       "    \u001b[32m\"Some(List(I_CIExit_View_setOnClickListener, I_CBEnter_Activity_onCreate, I_CIExit_Activity_findView, FreshRef(LS__18567), I_CIExit_View_setOnClickListener, I_CBEnter_Activity_onResume, I_CIExit_Activity_finish, I_CIExit_View_setOnClick\u001b[39m..."
      ]
     },
     "execution_count": 25,
     "metadata": {},
     "output_type": "execute_result"
    }
   ],
   "source": [
    "LiveNodes.live.groupBy(_.dbgTrace).map(a => (a._1.toString,a._2.size)).toList.sortBy(_._2).reverse"
   ]
  },
  {
   "cell_type": "code",
   "execution_count": 26,
   "metadata": {},
   "outputs": [
    {
     "data": {
      "text/plain": [
       "\u001b[36mres25\u001b[39m: \u001b[32mList\u001b[39m[\u001b[32mUnit\u001b[39m] = \u001b[33mList\u001b[39m()"
      ]
     },
     "execution_count": 26,
     "metadata": {},
     "output_type": "execute_result"
    }
   ],
   "source": [
    "LiveNodes.live.filter(_.dbgTrace.toString == \"Some(List(I_CBEnter_Activity_onCreate, I_CIExit_Activity_findView, FreshRef(LS__10335), I_CIExit_View_setOnClickListener, I_CBEnter_Activity_onResume, I_CIExit_Activity_finish, I_CIExit_View_setOnClickListener, I_CBEnter_ViewOnClickListener_onClick))\").groupBy(_.dbgHeap).map(a => (a._1.toString,a._2.size)).toList.sortBy(_._2).reverse.map(println)"
   ]
  },
  {
   "cell_type": "code",
   "execution_count": 27,
   "metadata": {},
   "outputs": [
    {
     "ename": "",
     "evalue": "",
     "output_type": "error",
     "traceback": [
      "\u001b[31mjava.util.NoSuchElementException: head of empty list\u001b[39m\n  scala.collection.immutable.Nil$.head(\u001b[32mList.scala\u001b[39m:\u001b[32m629\u001b[39m)\n  scala.collection.immutable.Nil$.head(\u001b[32mList.scala\u001b[39m:\u001b[32m628\u001b[39m)\n  ammonite.$sess.cmd26$Helper$OUT32$.<clinit>(\u001b[32mcmd26.sc\u001b[39m:\u001b[32m4\u001b[39m)\n  ammonite.$sess.cmd26$Helper$.<clinit>(\u001b[32mcmd26.sc\u001b[39m:\u001b[32m14\u001b[39m)\n  ammonite.$sess.cmd26$.<clinit>(\u001b[32mcmd26.sc\u001b[39m:\u001b[32m472\u001b[39m)"
     ]
    }
   ],
   "source": [
    "object OUT32{\n",
    "    import edu.colorado.plv.bounder.symbolicexecutor.state.State\n",
    "    val dbgNodes = LiveNodes.live.filter(_.dbgTrace.toString == \"Some(List(I_CIExit_Dialog_show, I_CIEnter_Dialog_dismiss))\").groupBy(_.dbgHeap).map(a => (a._1.toString,a._2.size,a._2)).toList.sortBy(_._2).reverse\n",
    "    val nodeList = OUT32.dbgNodes.head._3.toList\n",
    "    def pp(s:State) = {\n",
    "        val o = List(\"locals:\",\"heap:\",\"types:\",\"trace:\").foldLeft(s.toString){\n",
    "            case (acc,v) => acc.replace(s\"$v\", s\"\\n$v\")\n",
    "        }\n",
    "        println(o)\n",
    "    }\n",
    "    val stateList = nodeList.map(n => n.qry.getState.get)\n",
    "    val stackGrouped = stateList.groupBy(_.sf.callStack.toString()).toList.sortBy(_._2.size).reverse\n",
    "}\n",
    "OUT32.stackGrouped.map(a => (a._1, a._2.size))\n",
    "//OUT32.stateList.sortBy(s => s.sf.callStack.toString()).take(10).foreach{OUT32.pp}\n"
   ]
  },
  {
   "cell_type": "code",
   "execution_count": 9,
   "metadata": {},
   "outputs": [
    {
     "data": {
      "text/plain": [
       "\u001b[32mimport \u001b[39m\u001b[36mupickle.default.{macroRW, read, write, ReadWriter => RW}\n",
       "\u001b[39m\n",
       "\u001b[36mjs\u001b[39m: \u001b[32mujson\u001b[39m.\u001b[32mArr\u001b[39m = \u001b[33mArr\u001b[39m(\n",
       "  \u001b[33mArrayBuffer\u001b[39m(\n",
       "    \u001b[33mArr\u001b[39m(\u001b[33mArrayBuffer\u001b[39m(\u001b[33mArr\u001b[39m(\u001b[33mArrayBuffer\u001b[39m(\u001b[33mNum\u001b[39m(\u001b[32m1.0\u001b[39m))), \u001b[33mArr\u001b[39m(\u001b[33mArrayBuffer\u001b[39m(\u001b[33mNum\u001b[39m(\u001b[32m2.0\u001b[39m)))))\n",
       "  )\n",
       ")\n",
       "\u001b[36mres8_2\u001b[39m: \u001b[32mString\u001b[39m = \u001b[32m\"[[[1],[2]]]\"\u001b[39m"
      ]
     },
     "execution_count": 9,
     "metadata": {},
     "output_type": "execute_result"
    }
   ],
   "source": [
    "import upickle.default.{macroRW, read, write, ReadWriter => RW}\n",
    "val js = ujson.Arr(List(List(1),List(2)))\n",
    "js.toString"
   ]
  },
  {
   "cell_type": "code",
   "execution_count": 14,
   "metadata": {},
   "outputs": [
    {
     "data": {
      "text/plain": [
       "\u001b[36mres13\u001b[39m: \u001b[32mList\u001b[39m[\u001b[32mString\u001b[39m] = \u001b[33mList\u001b[39m(\u001b[32m\"a\"\u001b[39m, \u001b[32m\"bar\"\u001b[39m, \u001b[32m\"fooo\"\u001b[39m)"
      ]
     },
     "execution_count": 14,
     "metadata": {},
     "output_type": "execute_result"
    }
   ],
   "source": [
    "List(\"fooo\",\"bar\",\"a\").sortBy(_.length).take(5)"
   ]
  },
  {
   "cell_type": "code",
   "execution_count": 11,
   "metadata": {},
   "outputs": [
    {
     "ename": "",
     "evalue": "",
     "output_type": "error",
     "traceback": [
      "\u001b[31mjava.lang.UnsupportedOperationException: empty.min\u001b[39m\n  scala.collection.IterableOnceOps.min(\u001b[32mIterableOnce.scala\u001b[39m:\u001b[32m921\u001b[39m)\n  scala.collection.IterableOnceOps.min$(\u001b[32mIterableOnce.scala\u001b[39m:\u001b[32m919\u001b[39m)\n  scala.collection.AbstractIterable.min(\u001b[32mIterable.scala\u001b[39m:\u001b[32m920\u001b[39m)\n  ammonite.$sess.cmd10$Helper.<init>(\u001b[32mcmd10.sc\u001b[39m:\u001b[32m1\u001b[39m)\n  ammonite.$sess.cmd10$.<clinit>(\u001b[32mcmd10.sc\u001b[39m:\u001b[32m7\u001b[39m)"
     ]
    }
   ],
   "source": []
  },
  {
   "cell_type": "code",
   "execution_count": null,
   "metadata": {},
   "outputs": [],
   "source": []
  }
 ],
 "metadata": {
  "kernelspec": {
   "display_name": "Scala",
   "language": "scala",
   "name": "scala"
  },
  "language_info": {
   "codemirror_mode": "text/x-scala",
   "file_extension": ".sc",
   "mimetype": "text/x-scala",
   "name": "scala",
   "nbconvert_exporter": "script",
   "version": "2.13.3"
  }
 },
 "nbformat": 4,
 "nbformat_minor": 4
}
