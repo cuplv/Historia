{
 "cells": [
  {
   "cell_type": "code",
   "execution_count": 1,
   "metadata": {},
   "outputs": [
    {
     "data": {
      "text/plain": [
       "\u001b[36mpath\u001b[39m: \u001b[32mString\u001b[39m = \u001b[32m\"/Users/shawnmeier/Documents/source/bounder/soot_hopper/target/scala-2.13/soot_hopper-assembly-0.1.jar\"\u001b[39m\n",
       "\u001b[32mimport \u001b[39m\u001b[36m$ivy.$                                      \n",
       "\u001b[39m\n",
       "\u001b[32mimport \u001b[39m\u001b[36m$ivy.$                             \n",
       "// import $ivy.`edu.colorado.plv.bounder:soot_hopper_2.13:0.1`\n",
       "\n",
       "\u001b[39m\n",
       "\u001b[32mimport \u001b[39m\u001b[36mujson.Value\n",
       "\u001b[39m\n",
       "\u001b[32mimport \u001b[39m\u001b[36msys.process._\n",
       "\n",
       "// interp.load.ivy(\"com.github.pathikrit\" %% \"better-files\" % \"3.9.1\")\n",
       "\u001b[39m\n",
       "\u001b[32mimport \u001b[39m\u001b[36m$ivy.$                                         \n",
       "\u001b[39m\n",
       "\u001b[32mimport \u001b[39m\u001b[36mbetter.files._\n",
       "\n",
       "\u001b[39m"
      ]
     },
     "execution_count": 1,
     "metadata": {},
     "output_type": "execute_result"
    }
   ],
   "source": [
    "val path = \"/Users/shawnmeier/Documents/source/bounder/soot_hopper/target/scala-2.13/soot_hopper-assembly-0.1.jar\"\n",
    "// note: use sbt assembly to create jar\n",
    "interp.load.cp(os.Path(path))\n",
    "import $ivy.`org.plotly-scala::plotly-almond:0.8.1`\n",
    "import $ivy.`com.lihaoyi:ujson_2.13:1.3.8`\n",
    "// import $ivy.`edu.colorado.plv.bounder:soot_hopper_2.13:0.1`\n",
    "\n",
    "import ujson.Value\n",
    "import sys.process._\n",
    "\n",
    "// interp.load.ivy(\"com.github.pathikrit\" %% \"better-files\" % \"3.9.1\")\n",
    "import $ivy.`com.github.pathikrit::better-files:3.9.1`\n",
    "import better.files._\n",
    "\n"
   ]
  },
  {
   "cell_type": "code",
   "execution_count": 2,
   "metadata": {},
   "outputs": [
    {
     "data": {
      "text/plain": [
       "\u001b[32mimport \u001b[39m\u001b[36mscala.util.Random\n",
       "\u001b[39m\n",
       "\u001b[32mimport \u001b[39m\u001b[36medu.colorado.plv.bounder.Driver\n",
       "\u001b[39m\n",
       "\u001b[32mimport \u001b[39m\u001b[36medu.colorado.plv.bounder.RunConfig\n",
       "\u001b[39m\n",
       "\u001b[32mimport \u001b[39m\u001b[36medu.colorado.plv.bounder.symbolicexecutor.state.PureConstraint\n",
       "\u001b[39m\n",
       "\u001b[32mimport \u001b[39m\u001b[36mupickle.default.read\n",
       "\u001b[39m\n",
       "\u001b[32mimport \u001b[39m\u001b[36mscala.collection.parallel.CollectionConverters.{ImmutableSetIsParallelizable, IterableIsParallelizable}\n",
       "\n",
       "\u001b[39m\n",
       "\u001b[32mimport \u001b[39m\u001b[36mplotly._\n",
       "\u001b[39m\n",
       "\u001b[32mimport \u001b[39m\u001b[36mplotly.element._\n",
       "\u001b[39m\n",
       "\u001b[32mimport \u001b[39m\u001b[36mplotly.layout._\n",
       "\u001b[39m\n",
       "\u001b[32mimport \u001b[39m\u001b[36mplotly.Almond._\u001b[39m"
      ]
     },
     "execution_count": 2,
     "metadata": {},
     "output_type": "execute_result"
    }
   ],
   "source": [
    "import scala.util.Random\n",
    "import edu.colorado.plv.bounder.Driver\n",
    "import edu.colorado.plv.bounder.RunConfig\n",
    "import edu.colorado.plv.bounder.symbolicexecutor.state.PureConstraint\n",
    "import upickle.default.read\n",
    "import scala.collection.parallel.CollectionConverters.{ImmutableSetIsParallelizable, IterableIsParallelizable}\n",
    "\n",
    "import plotly._\n",
    "import plotly.element._\n",
    "import plotly.layout._\n",
    "import plotly.Almond._"
   ]
  },
  {
   "cell_type": "code",
   "execution_count": 11,
   "metadata": {},
   "outputs": [
    {
     "data": {
      "text/plain": [
       "\u001b[32mimport \u001b[39m\u001b[36medu.colorado.plv.bounder.symbolicexecutor.state.DBOutputMode\n",
       "\u001b[39m\n",
       "\u001b[32mimport \u001b[39m\u001b[36medu.colorado.plv.bounder.symbolicexecutor.state.{DBPathNode,IPathNode}\n",
       "\u001b[39m\n",
       "\u001b[32mimport \u001b[39m\u001b[36medu.colorado.plv.bounder.ir._\n",
       "\u001b[39m\n",
       "\u001b[32mimport \u001b[39m\u001b[36medu.colorado.plv.bounder.symbolicexecutor.QueryFinished\n",
       "\u001b[39m\n",
       "\u001b[32mimport \u001b[39m\u001b[36medu.colorado.plv.bounder.BounderUtil\n",
       "\u001b[39m\n",
       "defined \u001b[32mfunction\u001b[39m \u001b[36mobsMessagesStr\u001b[39m\n",
       "\u001b[36mdb\u001b[39m: \u001b[32mDBOutputMode\u001b[39m = \u001b[33mDBOutputMode\u001b[39m(\n",
       "  \u001b[32m\"/Users/shawnmeier/Desktop/smallBenchmarkTriage/Row4_fix.db\"\u001b[39m,\n",
       "  true\n",
       ")"
      ]
     },
     "execution_count": 11,
     "metadata": {},
     "output_type": "execute_result"
    }
   ],
   "source": [
    "import edu.colorado.plv.bounder.symbolicexecutor.state.DBOutputMode\n",
    "import edu.colorado.plv.bounder.symbolicexecutor.state.{DBPathNode,IPathNode}\n",
    "import edu.colorado.plv.bounder.ir._\n",
    "import edu.colorado.plv.bounder.symbolicexecutor.QueryFinished\n",
    "import edu.colorado.plv.bounder.BounderUtil\n",
    "def obsMessagesStr(nodes:List[DBPathNode]):List[DBPathNode] = {\n",
    "nodes.flatMap{n =>\n",
    "  n.qry.loc match {\n",
    "    case c @ CallinMethodReturn(fmwClazz, fmwName) => Some(n)\n",
    "    case c @ CallinMethodInvoke(fmwClazz, fmwName) => Some(n)\n",
    "    case c @ GroupedCallinMethodInvoke(targetClasses, fmwName) => Some(n)\n",
    "    case c @ GroupedCallinMethodReturn(targetClasses, fmwName) => Some(n)\n",
    "    case c @ CallbackMethodInvoke(fmwClazz, fmwName, loc) => Some(n)\n",
    "    case c @ CallbackMethodReturn(fmwClazz, fmwName, loc, line) => Some(n)\n",
    "    case _ => None\n",
    "  }}\n",
    "}\n",
    "\n",
    "// implicit val db = DBOutputMode(\"/Users/shawnmeier/Desktop/db_triage/connectbot1.db\",true)\n",
    "implicit val db = DBOutputMode(\"/Users/shawnmeier/Desktop/smallBenchmarkTriage/Row4_fix.db\",true)"
   ]
  },
  {
   "cell_type": "code",
   "execution_count": 5,
   "metadata": {},
   "outputs": [
    {
     "name": "stdout",
     "output_type": "stream",
     "text": [
      "write node size 0\n",
      "graph queue size 0\n",
      "runtime(ms): 5.012\n"
     ]
    },
    {
     "ename": "",
     "evalue": "",
     "output_type": "error",
     "traceback": [
      "\u001b[31mjava.lang.AssertionError: assertion failed: Failed to find unique node id: 905 actual size: 0\u001b[39m\n  scala.Predef$.assert(\u001b[32mPredef.scala\u001b[39m:\u001b[32m282\u001b[39m)\n  edu.colorado.plv.bounder.symbolicexecutor.state.DBOutputMode.readNode(\u001b[32mReachingGraph.scala\u001b[39m:\u001b[32m395\u001b[39m)\n  ammonite.$sess.cmd4$Helper.<init>(\u001b[32mcmd4.sc\u001b[39m:\u001b[32m1\u001b[39m)\n  ammonite.$sess.cmd4$.<clinit>(\u001b[32mcmd4.sc\u001b[39m:\u001b[32m7\u001b[39m)"
     ]
    }
   ],
   "source": [
    "db.readNode(905)"
   ]
  },
  {
   "cell_type": "code",
   "execution_count": 4,
   "metadata": {
    "tags": []
   },
   "outputs": [
    {
     "data": {
      "text/html": [
       "\n",
       "      <script type=\"text/javascript\">\n",
       "        require.config({\n",
       "  paths: {\n",
       "    d3: 'https://cdnjs.cloudflare.com/ajax/libs/d3/3.5.17/d3.min',\n",
       "    plotly: 'https://cdn.plot.ly/plotly-1.52.2.min',\n",
       "    jquery: 'https://code.jquery.com/jquery-3.3.1.min'\n",
       "  },\n",
       "\n",
       "  shim: {\n",
       "    plotly: {\n",
       "      deps: ['d3', 'jquery'],\n",
       "      exports: 'plotly'\n",
       "    }\n",
       "  }\n",
       "});\n",
       "        \n",
       "\n",
       "        require(['plotly'], function(Plotly) {\n",
       "          window.Plotly = Plotly;\n",
       "        });\n",
       "      </script>\n",
       "    "
      ]
     },
     "metadata": {},
     "output_type": "display_data"
    },
    {
     "data": {
      "application/vnd.plotly.v1+json": {
       "config": {},
       "data": [
        {
         "type": "scatter",
         "x": [
          0,
          1,
          2,
          3,
          4,
          5,
          6,
          7,
          8,
          9,
          10,
          11,
          12,
          13,
          14,
          15,
          16,
          17,
          18,
          19,
          20,
          21,
          22,
          23,
          24,
          25,
          26,
          27,
          28,
          29,
          30,
          31,
          32,
          33,
          34,
          35,
          36,
          37,
          38,
          39,
          40,
          41,
          42,
          43,
          44,
          45,
          46,
          47,
          48,
          49,
          50,
          51,
          52,
          53,
          54,
          55,
          56,
          57,
          58,
          59,
          60,
          61,
          62,
          63,
          64,
          65,
          66,
          67,
          68,
          69,
          70,
          71,
          72,
          73,
          74,
          75,
          76,
          77,
          78,
          79,
          80,
          81,
          82,
          83,
          84,
          85,
          86,
          87,
          88,
          89,
          90,
          91,
          92,
          93,
          94,
          95,
          96,
          97,
          98,
          99,
          100,
          101,
          102,
          103,
          104,
          105,
          106,
          107,
          108,
          109,
          110,
          111,
          112,
          113,
          114,
          115,
          116,
          117,
          118,
          119,
          120,
          121,
          122
         ],
         "y": [
          2,
          2,
          2,
          2,
          2,
          2,
          2,
          2,
          2,
          2,
          6,
          6,
          6,
          6,
          8,
          8,
          9,
          8,
          18,
          18,
          18,
          18,
          21,
          19,
          20,
          16,
          30,
          30,
          30,
          30,
          34,
          31,
          32,
          23,
          32,
          32,
          33,
          33,
          36,
          32,
          33,
          23,
          32,
          20,
          22,
          22,
          22,
          19,
          19,
          13,
          11,
          11,
          14,
          14,
          14,
          14,
          14,
          14,
          24,
          24,
          26,
          26,
          31,
          31,
          33,
          26,
          41,
          41,
          41,
          41,
          47,
          43,
          44,
          32,
          60,
          48,
          48,
          48,
          56,
          52,
          56,
          39,
          74,
          32,
          33,
          33,
          33,
          25,
          25,
          15,
          16,
          10,
          12,
          11,
          11,
          11,
          11,
          11,
          12,
          12,
          15,
          14,
          14,
          14,
          14,
          12,
          12,
          12,
          12,
          10,
          12,
          12,
          12,
          8,
          8,
          8,
          8,
          8,
          8,
          8,
          8,
          1,
          6
         ]
        }
       ],
       "layout": {
        "autosize": true,
        "xaxis": {
         "autorange": true,
         "range": [
          0,
          122
         ],
         "type": "linear"
        },
        "yaxis": {
         "autorange": true,
         "range": [
          -3.0555555555555554,
          78.05555555555556
         ],
         "type": "linear"
        }
       }
      },
      "image/png": "[encoded data removed]",
      "text/html": [
       "<div class=\"chart\" id=\"plot-b39505bc-6a79-44bc-aad3-3538d88132b6\"></div>\n",
       "<script>require(['plotly'], function(Plotly) {\n",
       "  (function () {\n",
       "  var data0 = {\"x\":[0.0,1.0,2.0,3.0,4.0,5.0,6.0,7.0,8.0,9.0,10.0,11.0,12.0,13.0,14.0,15.0,16.0,17.0,18.0,19.0,20.0,21.0,22.0,23.0,24.0,25.0,26.0,27.0,28.0,29.0,30.0,31.0,32.0,33.0,34.0,35.0,36.0,37.0,38.0,39.0,40.0,41.0,42.0,43.0,44.0,45.0,46.0,47.0,48.0,49.0,50.0,51.0,52.0,53.0,54.0,55.0,56.0,57.0,58.0,59.0,60.0,61.0,62.0,63.0,64.0,65.0,66.0,67.0,68.0,69.0,70.0,71.0,72.0,73.0,74.0,75.0,76.0,77.0,78.0,79.0,80.0,81.0,82.0,83.0,84.0,85.0,86.0,87.0,88.0,89.0,90.0,91.0,92.0,93.0,94.0,95.0,96.0,97.0,98.0,99.0,100.0,101.0,102.0,103.0,104.0,105.0,106.0,107.0,108.0,109.0,110.0,111.0,112.0,113.0,114.0,115.0,116.0,117.0,118.0,119.0,120.0,121.0,122.0],\"type\":\"scatter\",\"y\":[2.0,2.0,2.0,2.0,2.0,2.0,2.0,2.0,2.0,2.0,6.0,6.0,6.0,6.0,8.0,8.0,9.0,8.0,18.0,18.0,18.0,18.0,21.0,19.0,20.0,16.0,30.0,30.0,30.0,30.0,34.0,31.0,32.0,23.0,32.0,32.0,33.0,33.0,36.0,32.0,33.0,23.0,32.0,20.0,22.0,22.0,22.0,19.0,19.0,13.0,11.0,11.0,14.0,14.0,14.0,14.0,14.0,14.0,24.0,24.0,26.0,26.0,31.0,31.0,33.0,26.0,41.0,41.0,41.0,41.0,47.0,43.0,44.0,32.0,60.0,48.0,48.0,48.0,56.0,52.0,56.0,39.0,74.0,32.0,33.0,33.0,33.0,25.0,25.0,15.0,16.0,10.0,12.0,11.0,11.0,11.0,11.0,11.0,12.0,12.0,15.0,14.0,14.0,14.0,14.0,12.0,12.0,12.0,12.0,10.0,12.0,12.0,12.0,8.0,8.0,8.0,8.0,8.0,8.0,8.0,8.0,1.0,6.0]};\n",
       "\n",
       "  var data = [data0];\n",
       "  var layout = {};\n",
       " var config = {};\n",
       "\n",
       "  Plotly.plot('plot-b39505bc-6a79-44bc-aad3-3538d88132b6', data, layout, config);\n",
       "})();\n",
       "});\n",
       "      </script>\n",
       "           "
      ]
     },
     "metadata": {},
     "output_type": "display_data"
    },
    {
     "data": {
      "text/plain": [
       "defined \u001b[32mobject\u001b[39m \u001b[36mLiveNodes\u001b[39m\n",
       "\u001b[36mres3_1\u001b[39m: \u001b[32mString\u001b[39m = \u001b[32m\"plot-b39505bc-6a79-44bc-aad3-3538d88132b6\"\u001b[39m"
      ]
     },
     "execution_count": 4,
     "metadata": {},
     "output_type": "execute_result"
    }
   ],
   "source": [
    "object LiveNodes{ // Create object to supress output TODO: upgrade ammonite at some point\n",
    "    val live = db.getAllLiveNodes()\n",
    "    val (x,y) = live.groupBy(_.depth).map(a => (a._1, a._2.size)).toList.sortBy(_._1).unzip\n",
    "//     val noSuc = live.filter(a => !live.exists(b => b.)) // find set of \"active\" nodes\n",
    "\n",
    "// val (x, y) = Seq(\n",
    "//   \"Banana\" -> 10,\n",
    "//   \"Apple\" -> 8,\n",
    "//   \"Grapefruit\" -> 5\n",
    "// ).unzip\n",
    "}\n",
    "Scatter(LiveNodes.x, LiveNodes.y).plot()"
   ]
  },
  {
   "cell_type": "code",
   "execution_count": 13,
   "metadata": {},
   "outputs": [
    {
     "name": "stdout",
     "output_type": "stream",
     "text": [
      "inspection set size: 88\n",
      "Writing trace 0 / 88, length: 9\n",
      "Writing trace 1 / 88, length: 22\n",
      "Writing trace 2 / 88, length: 30\n",
      "Writing trace 3 / 88, length: 38\n",
      "Writing trace 4 / 88, length: 42\n",
      "Writing trace 5 / 88, length: 42\n",
      "Writing trace 6 / 88, length: 42\n",
      "Writing trace 7 / 88, length: 42\n",
      "Writing trace 8 / 88, length: 42\n",
      "Writing trace 9 / 88, length: 42\n",
      "Writing trace 10 / 88, length: 42\n",
      "Writing trace 11 / 88, length: 42\n",
      "Writing trace 12 / 88, length: 42\n",
      "Writing trace 13 / 88, length: 42\n",
      "Writing trace 14 / 88, length: 42\n",
      "Writing trace 15 / 88, length: 42\n",
      "Writing trace 16 / 88, length: 46\n",
      "Writing trace 17 / 88, length: 70\n",
      "Writing trace 18 / 88, length: 74\n",
      "Writing trace 19 / 88, length: 74\n",
      "Writing trace 20 / 88, length: 74\n",
      "Writing trace 21 / 88, length: 74\n",
      "Writing trace 22 / 88, length: 74\n",
      "Writing trace 23 / 88, length: 74\n",
      "Writing trace 24 / 88, length: 74\n",
      "Writing trace 25 / 88, length: 74\n",
      "Writing trace 26 / 88, length: 74\n",
      "Writing trace 27 / 88, length: 74\n",
      "Writing trace 28 / 88, length: 74\n",
      "Writing trace 29 / 88, length: 74\n",
      "Writing trace 30 / 88, length: 78\n",
      "Writing trace 31 / 88, length: 82\n",
      "Writing trace 32 / 88, length: 82\n",
      "Writing trace 33 / 88, length: 82\n",
      "Writing trace 34 / 88, length: 82\n",
      "Writing trace 35 / 88, length: 82\n",
      "Writing trace 36 / 88, length: 82\n",
      "Writing trace 37 / 88, length: 82\n",
      "Writing trace 38 / 88, length: 82\n",
      "Writing trace 39 / 88, length: 82\n",
      "Writing trace 40 / 88, length: 82\n",
      "Writing trace 41 / 88, length: 82\n",
      "Writing trace 42 / 88, length: 82\n",
      "Writing trace 43 / 88, length: 82\n",
      "Writing trace 44 / 88, length: 82\n",
      "Writing trace 45 / 88, length: 82\n",
      "Writing trace 46 / 88, length: 82\n",
      "Writing trace 47 / 88, length: 82\n",
      "Writing trace 48 / 88, length: 82\n",
      "Writing trace 49 / 88, length: 82\n",
      "Writing trace 50 / 88, length: 82\n",
      "Writing trace 51 / 88, length: 82\n",
      "Writing trace 52 / 88, length: 82\n",
      "Writing trace 53 / 88, length: 82\n",
      "Writing trace 54 / 88, length: 82\n",
      "Writing trace 55 / 88, length: 82\n",
      "Writing trace 56 / 88, length: 82\n",
      "Writing trace 57 / 88, length: 82\n",
      "Writing trace 58 / 88, length: 82\n",
      "Writing trace 59 / 88, length: 82\n",
      "Writing trace 60 / 88, length: 82\n",
      "Writing trace 61 / 88, length: 82\n",
      "Writing trace 62 / 88, length: 82\n",
      "Writing trace 63 / 88, length: 82\n",
      "Writing trace 64 / 88, length: 82\n",
      "Writing trace 65 / 88, length: 82\n",
      "Writing trace 66 / 88, length: 82\n",
      "Writing trace 67 / 88, length: 82\n",
      "Writing trace 68 / 88, length: 82\n",
      "Writing trace 69 / 88, length: 82\n",
      "Writing trace 70 / 88, length: 82\n",
      "Writing trace 71 / 88, length: 82\n",
      "Writing trace 72 / 88, length: 82\n",
      "Writing trace 73 / 88, length: 86\n",
      "Writing trace 74 / 88, length: 86\n",
      "Writing trace 75 / 88, length: 86\n",
      "Writing trace 76 / 88, length: 90\n",
      "Writing trace 77 / 88, length: 90\n",
      "Writing trace 78 / 88, length: 90\n",
      "Writing trace 79 / 88, length: 90\n",
      "Writing trace 80 / 88, length: 90\n",
      "Writing trace 81 / 88, length: 90\n",
      "Writing trace 82 / 88, length: 122\n",
      "Writing trace 83 / 88, length: 122\n",
      "Writing trace 84 / 88, length: 122\n",
      "Writing trace 85 / 88, length: 122\n",
      "Writing trace 86 / 88, length: 122\n",
      "Writing trace 87 / 88, length: 122\n"
     ]
    },
    {
     "data": {
      "text/plain": [
       "defined \u001b[32mfunction\u001b[39m \u001b[36mgetEndLive\u001b[39m\n",
       "defined \u001b[32mfunction\u001b[39m \u001b[36mdumpFrom\u001b[39m"
      ]
     },
     "execution_count": 13,
     "metadata": {},
     "output_type": "execute_result"
    }
   ],
   "source": [
    "def getEndLive()= {\n",
    "    // Note: this cant distinguish live at end from nodes with no pred locations\n",
    "    val live = db.getLive()\n",
    "    val filtLive:Set[IPathNode] = live.filter{a => a.qry.isLive && a.subsumed.isEmpty}.map(_.asInstanceOf[IPathNode])\n",
    "    // BounderUtil.computeDepthOfWitOrLive(filtLive, QueryFinished)\n",
    "    filtLive\n",
    "}\n",
    "\n",
    "def dumpFrom(liveNodes: Set[IPathNode],outF:String):Unit = {\n",
    "    import edu.colorado.plv.bounder.symbolicexecutor.state.PrettyPrinting\n",
    "    val pp = new PrettyPrinting()\n",
    "    val inspQ: Set[IPathNode] = liveNodes\n",
    "    val pptr = pp.witnessToTrace(inspQ.toList,false)\n",
    "    println(s\"inspection set size: ${inspQ.size}\")\n",
    "    pp.dumpDebugInfo(inspQ.toSet, \"timeout\", true, Some(outF))\n",
    "}\n",
    "\n",
    "dumpFrom(getEndLive(), \"/Users/shawnmeier/Desktop/smallBenchmarkTriage/Row4_fix\")"
   ]
  },
  {
   "cell_type": "code",
   "execution_count": 8,
   "metadata": {},
   "outputs": [
    {
     "data": {
      "text/plain": [
       "\u001b[36mres7\u001b[39m: \u001b[32mSet\u001b[39m[\u001b[32mInt\u001b[39m] = \u001b[33mHashSet\u001b[39m(\n",
       "  \u001b[32m69\u001b[39m,\n",
       "  \u001b[32m138\u001b[39m,\n",
       "  \u001b[32m101\u001b[39m,\n",
       "  \u001b[32m0\u001b[39m,\n",
       "  \u001b[32m88\u001b[39m,\n",
       "  \u001b[32m170\u001b[39m,\n",
       "  \u001b[32m115\u001b[39m,\n",
       "  \u001b[32m5\u001b[39m,\n",
       "  \u001b[32m120\u001b[39m,\n",
       "  \u001b[32m10\u001b[39m,\n",
       "  \u001b[32m56\u001b[39m,\n",
       "  \u001b[32m142\u001b[39m,\n",
       "  \u001b[32m153\u001b[39m,\n",
       "  \u001b[32m42\u001b[39m,\n",
       "  \u001b[32m24\u001b[39m,\n",
       "  \u001b[32m37\u001b[39m,\n",
       "  \u001b[32m25\u001b[39m,\n",
       "  \u001b[32m52\u001b[39m,\n",
       "  \u001b[32m14\u001b[39m,\n",
       "  \u001b[32m110\u001b[39m,\n",
       "  \u001b[32m125\u001b[39m,\n",
       "  \u001b[32m157\u001b[39m,\n",
       "  \u001b[32m20\u001b[39m,\n",
       "  \u001b[32m46\u001b[39m,\n",
       "  \u001b[32m93\u001b[39m,\n",
       "  \u001b[32m152\u001b[39m,\n",
       "  \u001b[32m57\u001b[39m,\n",
       "  \u001b[32m78\u001b[39m,\n",
       "  \u001b[32m29\u001b[39m,\n",
       "  \u001b[32m164\u001b[39m,\n",
       "  \u001b[32m106\u001b[39m,\n",
       "  \u001b[32m121\u001b[39m,\n",
       "  \u001b[32m84\u001b[39m,\n",
       "  \u001b[32m147\u001b[39m,\n",
       "  \u001b[32m61\u001b[39m,\n",
       "  \u001b[32m132\u001b[39m,\n",
       "  \u001b[32m116\u001b[39m,\n",
       "  \u001b[32m1\u001b[39m,\n",
       "..."
      ]
     },
     "execution_count": 8,
     "metadata": {},
     "output_type": "execute_result"
    }
   ],
   "source": [
    "// LiveNodes.live.map{_.depth}\n",
    "// dumpFrom(LiveNodes.live,\"/Users/shawnmeier/Desktop/AntennapodExecute_bug_workingdir\")"
   ]
  },
  {
   "cell_type": "code",
   "execution_count": 14,
   "metadata": {},
   "outputs": [
    {
     "name": "stdout",
     "output_type": "stream",
     "text": [
      "inspection set size: 59\n",
      "Writing trace 0 / 59, length: 38\n",
      "Writing trace 1 / 59, length: 38\n",
      "Writing trace 2 / 59, length: 38\n",
      "Writing trace 3 / 59, length: 38\n",
      "Writing trace 4 / 59, length: 38\n",
      "Writing trace 5 / 59, length: 38\n",
      "Writing trace 6 / 59, length: 38\n",
      "Writing trace 7 / 59, length: 38\n",
      "Writing trace 8 / 59, length: 38\n",
      "Writing trace 9 / 59, length: 38\n",
      "Writing trace 10 / 59, length: 38\n",
      "Writing trace 11 / 59, length: 38\n",
      "Writing trace 12 / 59, length: 38\n",
      "Writing trace 13 / 59, length: 38\n",
      "Writing trace 14 / 59, length: 38\n",
      "Writing trace 15 / 59, length: 38\n",
      "Writing trace 16 / 59, length: 38\n",
      "Writing trace 17 / 59, length: 38\n",
      "Writing trace 18 / 59, length: 38\n",
      "Writing trace 19 / 59, length: 38\n",
      "Writing trace 20 / 59, length: 38\n",
      "Writing trace 21 / 59, length: 38\n",
      "Writing trace 22 / 59, length: 38\n",
      "Writing trace 23 / 59, length: 38\n",
      "Writing trace 24 / 59, length: 38\n",
      "Writing trace 25 / 59, length: 38\n",
      "Writing trace 26 / 59, length: 38\n",
      "Writing trace 27 / 59, length: 38\n",
      "Writing trace 28 / 59, length: 38\n",
      "Writing trace 29 / 59, length: 38\n",
      "Writing trace 30 / 59, length: 38\n",
      "Writing trace 31 / 59, length: 38\n",
      "Writing trace 32 / 59, length: 38\n",
      "Writing trace 33 / 59, length: 38\n",
      "Writing trace 34 / 59, length: 38\n",
      "Writing trace 35 / 59, length: 38\n",
      "Writing trace 36 / 59, length: 38\n",
      "Writing trace 37 / 59, length: 38\n",
      "Writing trace 38 / 59, length: 38\n",
      "Writing trace 39 / 59, length: 38\n",
      "Writing trace 40 / 59, length: 38\n",
      "Writing trace 41 / 59, length: 38\n",
      "Writing trace 42 / 59, length: 38\n",
      "Writing trace 43 / 59, length: 38\n",
      "Writing trace 44 / 59, length: 38\n",
      "Writing trace 45 / 59, length: 38\n",
      "Writing trace 46 / 59, length: 38\n",
      "Writing trace 47 / 59, length: 38\n",
      "Writing trace 48 / 59, length: 38\n",
      "Writing trace 49 / 59, length: 38\n",
      "Writing trace 50 / 59, length: 38\n",
      "Writing trace 51 / 59, length: 38\n",
      "Writing trace 52 / 59, length: 38\n",
      "Writing trace 53 / 59, length: 38\n",
      "Writing trace 54 / 59, length: 38\n",
      "Writing trace 55 / 59, length: 38\n",
      "Writing trace 56 / 59, length: 38\n",
      "Writing trace 57 / 59, length: 38\n",
      "Writing trace 58 / 59, length: 38\n"
     ]
    },
    {
     "data": {
      "text/plain": [
       "defined \u001b[32mfunction\u001b[39m \u001b[36mdumpFromDepth\u001b[39m"
      ]
     },
     "execution_count": 14,
     "metadata": {},
     "output_type": "execute_result"
    }
   ],
   "source": [
    "def dumpFromDepth(liveNodes: Set[DBPathNode],outF:String, sampDepth:Int):Unit = {\n",
    "    import edu.colorado.plv.bounder.symbolicexecutor.state.PrettyPrinting\n",
    "    val pp = new PrettyPrinting()\n",
    "    val inspQ: Set[IPathNode] = liveNodes.filter(n => n.depth == sampDepth).map(_.asInstanceOf[IPathNode])\n",
    "    val pptr = pp.witnessToTrace(inspQ.toList,false)\n",
    "    println(s\"inspection set size: ${inspQ.size}\")\n",
    "    pp.dumpDebugInfo(inspQ.toSet, \"timeout\", true, Some(outF))\n",
    "}\n",
    "// pp.qryString(inspQ.qry)\n",
    "// Test1.pptr.take(3)\n",
    "\n",
    "dumpFromDepth(LiveNodes.live, \n",
    "              \"/Users/shawnmeier/Desktop/AntennapodExecute_fix_workingdir\", \n",
    "                38)"
   ]
  },
  {
   "cell_type": "code",
   "execution_count": null,
   "metadata": {},
   "outputs": [],
   "source": []
  },
  {
   "cell_type": "code",
   "execution_count": 57,
   "metadata": {},
   "outputs": [
    {
     "data": {
      "text/plain": [
       "defined \u001b[32mfunction\u001b[39m \u001b[36mgetEXSet\u001b[39m"
      ]
     },
     "execution_count": 57,
     "metadata": {},
     "output_type": "execute_result"
    }
   ],
   "source": [
    "def getEXSet() = {\n",
    "    val locGroup = LiveNodes.live.groupBy(n => n.qry.loc)\n",
    "    val mostVisitedList = locGroup.map{a => (a._1,a._2.size)}.toList.sortBy(a => a._2).reverse\n",
    "    val mostVisitedNode = mostVisitedList.head._1\n",
    "    \n",
    "    val pp = new PrettyPrinting()\n",
    "    val nodeList = locGroup(mostVisitedNode)\n",
    "    val outf = File(\"/Users/shawnmeier/Desktop/db_triage/states.txt\")\n",
    "    nodeList.foreach{n => \n",
    "        outf.appendLine().append(pp.qryString(n.qry))\n",
    "        outf.appendLine().append(s\"subs: ${n.subsumedID}\")\n",
    "    }\n",
    "}\n",
    "    \n",
    "getEXSet()"
   ]
  },
  {
   "cell_type": "code",
   "execution_count": 24,
   "metadata": {},
   "outputs": [
    {
     "data": {
      "text/plain": [
       "\u001b[36mres23\u001b[39m: \u001b[32mMap\u001b[39m[\u001b[32mBoolean\u001b[39m, \u001b[32mInt\u001b[39m] = \u001b[33mHashMap\u001b[39m(false -> \u001b[32m4909\u001b[39m)"
      ]
     },
     "execution_count": 24,
     "metadata": {},
     "output_type": "execute_result"
    }
   ],
   "source": [
    "LiveNodes.live.groupBy(n => n.subsumed.isDefined).map{a => (a._1,a._2.size)}"
   ]
  },
  {
   "cell_type": "code",
   "execution_count": 25,
   "metadata": {},
   "outputs": [
    {
     "data": {
      "text/plain": [
       "\u001b[36mres24\u001b[39m: \u001b[32mList\u001b[39m[(\u001b[32mString\u001b[39m, \u001b[32mInt\u001b[39m)] = \u001b[33mList\u001b[39m(\n",
       "  (\n",
       "    \u001b[32m\"Some(List(I_CBEnter_Activity_onCreate, I_CIExit_Activity_findView, FreshRef(LS__18567), I_CIExit_View_setOnClickListener, I_CBEnter_Activity_onResume, I_CIExit_Activity_finish, I_CIExit_View_setOnClickListener, I_CBEnter_ViewOnClickListener_onClick))\"\u001b[39m,\n",
       "    \u001b[32m140\u001b[39m\n",
       "  ),\n",
       "  (\n",
       "    \u001b[32m\"Some(List(I_CBEnter_Activity_onCreate, I_CIExit_Activity_findView, FreshRef(LS__14636), I_CIExit_View_setOnClickListener, I_CIExit_Activity_finish, I_CIExit_View_setOnClickListener, I_CBEnter_ViewOnClickListener_onClick))\"\u001b[39m,\n",
       "    \u001b[32m140\u001b[39m\n",
       "  ),\n",
       "  (\n",
       "    \u001b[32m\"Some(List(I_CBEnter_Activity_onCreate, I_CIExit_Activity_findView, FreshRef(LS__18561), I_CIExit_View_setOnClickListener, I_CBExit_Activity_onPause, I_CIExit_Activity_finish, I_CIExit_View_setOnClickListener, I_CBEnter_ViewOnClickListener_onClick))\"\u001b[39m,\n",
       "    \u001b[32m126\u001b[39m\n",
       "  ),\n",
       "  (\n",
       "    \u001b[32m\"Some(List(I_CIExit_Activity_finish, I_CIExit_View_setOnClickListener, I_CBEnter_Activity_onCreate, I_CIExit_Activity_findView, FreshRef(LS__14636), I_CIExit_View_setOnClickListener, I_CIExit_Activity_finish, I_CIExit_View_setOnClickListener, I_CBEnter_ViewOnClickListener_onClick))\"\u001b[39m,\n",
       "    \u001b[32m89\u001b[39m\n",
       "  ),\n",
       "  (\n",
       "    \u001b[32m\"Some(List(I_CIExit_View_setOnClickListener, I_CBEnter_Activity_onCreate, I_CIExit_Activity_findView, FreshRef(LS__14636), I_CIExit_View_setOnClickListener, I_CIExit_Activity_finish, I_CIExit_View_setOnClickListener, I_CBEnter_ViewOnClickListener_onClick))\"\u001b[39m,\n",
       "    \u001b[32m82\u001b[39m\n",
       "  ),\n",
       "  (\n",
       "    \u001b[32m\"Some(List(I_CIExit_View_setOnClickListener, I_CBEnter_Activity_onCreate, I_CIExit_Activity_findView, FreshRef(LS__18567), I_CIExit_View_setOnClickListener, I_CBEnter_Activity_onResume, I_CIExit_Activity_finish, I_CIExit_View_setOnClick\u001b[39m..."
      ]
     },
     "execution_count": 25,
     "metadata": {},
     "output_type": "execute_result"
    }
   ],
   "source": [
    "LiveNodes.live.groupBy(_.dbgTrace).map(a => (a._1.toString,a._2.size)).toList.sortBy(_._2).reverse"
   ]
  },
  {
   "cell_type": "code",
   "execution_count": 26,
   "metadata": {},
   "outputs": [
    {
     "data": {
      "text/plain": [
       "\u001b[36mres25\u001b[39m: \u001b[32mList\u001b[39m[\u001b[32mUnit\u001b[39m] = \u001b[33mList\u001b[39m()"
      ]
     },
     "execution_count": 26,
     "metadata": {},
     "output_type": "execute_result"
    }
   ],
   "source": [
    "LiveNodes.live.filter(_.dbgTrace.toString == \"Some(List(I_CBEnter_Activity_onCreate, I_CIExit_Activity_findView, FreshRef(LS__10335), I_CIExit_View_setOnClickListener, I_CBEnter_Activity_onResume, I_CIExit_Activity_finish, I_CIExit_View_setOnClickListener, I_CBEnter_ViewOnClickListener_onClick))\").groupBy(_.dbgHeap).map(a => (a._1.toString,a._2.size)).toList.sortBy(_._2).reverse.map(println)"
   ]
  },
  {
   "cell_type": "code",
   "execution_count": 27,
   "metadata": {},
   "outputs": [
    {
     "ename": "",
     "evalue": "",
     "output_type": "error",
     "traceback": [
      "\u001b[31mjava.util.NoSuchElementException: head of empty list\u001b[39m\n  scala.collection.immutable.Nil$.head(\u001b[32mList.scala\u001b[39m:\u001b[32m629\u001b[39m)\n  scala.collection.immutable.Nil$.head(\u001b[32mList.scala\u001b[39m:\u001b[32m628\u001b[39m)\n  ammonite.$sess.cmd26$Helper$OUT32$.<clinit>(\u001b[32mcmd26.sc\u001b[39m:\u001b[32m4\u001b[39m)\n  ammonite.$sess.cmd26$Helper$.<clinit>(\u001b[32mcmd26.sc\u001b[39m:\u001b[32m14\u001b[39m)\n  ammonite.$sess.cmd26$.<clinit>(\u001b[32mcmd26.sc\u001b[39m:\u001b[32m472\u001b[39m)"
     ]
    }
   ],
   "source": [
    "object OUT32{\n",
    "    import edu.colorado.plv.bounder.symbolicexecutor.state.State\n",
    "    val dbgNodes = LiveNodes.live.filter(_.dbgTrace.toString == \"Some(List(I_CIExit_Dialog_show, I_CIEnter_Dialog_dismiss))\").groupBy(_.dbgHeap).map(a => (a._1.toString,a._2.size,a._2)).toList.sortBy(_._2).reverse\n",
    "    val nodeList = OUT32.dbgNodes.head._3.toList\n",
    "    def pp(s:State) = {\n",
    "        val o = List(\"locals:\",\"heap:\",\"types:\",\"trace:\").foldLeft(s.toString){\n",
    "            case (acc,v) => acc.replace(s\"$v\", s\"\\n$v\")\n",
    "        }\n",
    "        println(o)\n",
    "    }\n",
    "    val stateList = nodeList.map(n => n.qry.getState.get)\n",
    "    val stackGrouped = stateList.groupBy(_.sf.callStack.toString()).toList.sortBy(_._2.size).reverse\n",
    "}\n",
    "OUT32.stackGrouped.map(a => (a._1, a._2.size))\n",
    "//OUT32.stateList.sortBy(s => s.sf.callStack.toString()).take(10).foreach{OUT32.pp}\n"
   ]
  },
  {
   "cell_type": "code",
   "execution_count": 9,
   "metadata": {},
   "outputs": [
    {
     "data": {
      "text/plain": [
       "\u001b[32mimport \u001b[39m\u001b[36mupickle.default.{macroRW, read, write, ReadWriter => RW}\n",
       "\u001b[39m\n",
       "\u001b[36mjs\u001b[39m: \u001b[32mujson\u001b[39m.\u001b[32mArr\u001b[39m = \u001b[33mArr\u001b[39m(\n",
       "  \u001b[33mArrayBuffer\u001b[39m(\n",
       "    \u001b[33mArr\u001b[39m(\u001b[33mArrayBuffer\u001b[39m(\u001b[33mArr\u001b[39m(\u001b[33mArrayBuffer\u001b[39m(\u001b[33mNum\u001b[39m(\u001b[32m1.0\u001b[39m))), \u001b[33mArr\u001b[39m(\u001b[33mArrayBuffer\u001b[39m(\u001b[33mNum\u001b[39m(\u001b[32m2.0\u001b[39m)))))\n",
       "  )\n",
       ")\n",
       "\u001b[36mres8_2\u001b[39m: \u001b[32mString\u001b[39m = \u001b[32m\"[[[1],[2]]]\"\u001b[39m"
      ]
     },
     "execution_count": 9,
     "metadata": {},
     "output_type": "execute_result"
    }
   ],
   "source": [
    "import upickle.default.{macroRW, read, write, ReadWriter => RW}\n",
    "val js = ujson.Arr(List(List(1),List(2)))\n",
    "js.toString"
   ]
  },
  {
   "cell_type": "code",
   "execution_count": 14,
   "metadata": {},
   "outputs": [
    {
     "data": {
      "text/plain": [
       "\u001b[36mres13\u001b[39m: \u001b[32mList\u001b[39m[\u001b[32mString\u001b[39m] = \u001b[33mList\u001b[39m(\u001b[32m\"a\"\u001b[39m, \u001b[32m\"bar\"\u001b[39m, \u001b[32m\"fooo\"\u001b[39m)"
      ]
     },
     "execution_count": 14,
     "metadata": {},
     "output_type": "execute_result"
    }
   ],
   "source": [
    "List(\"fooo\",\"bar\",\"a\").sortBy(_.length).take(5)"
   ]
  },
  {
   "cell_type": "code",
   "execution_count": 11,
   "metadata": {},
   "outputs": [
    {
     "ename": "",
     "evalue": "",
     "output_type": "error",
     "traceback": [
      "\u001b[31mjava.lang.UnsupportedOperationException: empty.min\u001b[39m\n  scala.collection.IterableOnceOps.min(\u001b[32mIterableOnce.scala\u001b[39m:\u001b[32m921\u001b[39m)\n  scala.collection.IterableOnceOps.min$(\u001b[32mIterableOnce.scala\u001b[39m:\u001b[32m919\u001b[39m)\n  scala.collection.AbstractIterable.min(\u001b[32mIterable.scala\u001b[39m:\u001b[32m920\u001b[39m)\n  ammonite.$sess.cmd10$Helper.<init>(\u001b[32mcmd10.sc\u001b[39m:\u001b[32m1\u001b[39m)\n  ammonite.$sess.cmd10$.<clinit>(\u001b[32mcmd10.sc\u001b[39m:\u001b[32m7\u001b[39m)"
     ]
    }
   ],
   "source": []
  },
  {
   "cell_type": "code",
   "execution_count": null,
   "metadata": {},
   "outputs": [],
   "source": []
  }
 ],
 "metadata": {
  "kernelspec": {
   "display_name": "Scala",
   "language": "scala",
   "name": "scala"
  },
  "language_info": {
   "codemirror_mode": "text/x-scala",
   "file_extension": ".sc",
   "mimetype": "text/x-scala",
   "name": "scala",
   "nbconvert_exporter": "script",
   "version": "2.13.3"
  }
 },
 "nbformat": 4,
 "nbformat_minor": 4
}
