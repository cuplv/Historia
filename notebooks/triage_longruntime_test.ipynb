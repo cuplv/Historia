{
 "cells": [
  {
   "cell_type": "code",
   "execution_count": 1,
   "metadata": {
    "collapsed": true,
    "jupyter": {
     "outputs_hidden": true
    },
    "scrolled": true
   },
   "outputs": [
    {
     "data": {
      "text/plain": [
       "\u001b[36mpath\u001b[39m: \u001b[32mString\u001b[39m = \u001b[32m\"/Users/shawnmeier/Documents/source/bounder/soot_hopper/target/scala-2.13/soot_hopper-assembly-0.1.jar\"\u001b[39m\n",
       "\u001b[32mimport \u001b[39m\u001b[36m$ivy.$                                          \n",
       "\u001b[39m\n",
       "\u001b[32mimport \u001b[39m\u001b[36m$ivy.$                             \n",
       "// import $ivy.`edu.colorado.plv.bounder:soot_hopper_2.13:0.1`\n",
       "\n",
       "\u001b[39m\n",
       "\u001b[32mimport \u001b[39m\u001b[36mplotly._, element._, layout._, Plotly._\n",
       "\u001b[39m\n",
       "\u001b[32mimport \u001b[39m\u001b[36mujson.Value\n",
       "\u001b[39m\n",
       "\u001b[32mimport \u001b[39m\u001b[36msys.process._\n",
       "\n",
       "\u001b[39m"
      ]
     },
     "execution_count": 1,
     "metadata": {},
     "output_type": "execute_result"
    }
   ],
   "source": [
    "val path = \"/Users/shawnmeier/Documents/source/bounder/soot_hopper/target/scala-2.13/soot_hopper-assembly-0.1.jar\"\n",
    "\n",
    "interp.load.cp(os.Path(path))\n",
    "\n",
    "import $ivy.`org.plotly-scala:plotly-almond_2.13:0.8.2`\n",
    "import $ivy.`com.lihaoyi:ujson_2.13:1.3.8`\n",
    "// import $ivy.`edu.colorado.plv.bounder:soot_hopper_2.13:0.1`\n",
    "\n",
    "import plotly._, element._, layout._, Plotly._\n",
    "import ujson.Value\n",
    "import sys.process._\n",
    "\n"
   ]
  },
  {
   "cell_type": "code",
   "execution_count": 13,
   "metadata": {
    "tags": []
   },
   "outputs": [
    {
     "data": {
      "text/plain": [
       "\u001b[32mimport \u001b[39m\u001b[36m$ivy.$                                         \n",
       "\u001b[39m\n",
       "\u001b[32mimport \u001b[39m\u001b[36mbetter.files._\n",
       "\n",
       "\u001b[39m\n",
       "\u001b[32mimport \u001b[39m\u001b[36mscala.util.Random\n",
       "\u001b[39m\n",
       "\u001b[32mimport \u001b[39m\u001b[36medu.colorado.plv.bounder.Driver\n",
       "\u001b[39m\n",
       "\u001b[32mimport \u001b[39m\u001b[36medu.colorado.plv.bounder.Action\n",
       "\u001b[39m\n",
       "\u001b[32mimport \u001b[39m\u001b[36medu.colorado.plv.bounder.RunConfig\n",
       "\u001b[39m\n",
       "\u001b[32mimport \u001b[39m\u001b[36mupickle.default.read\n",
       "\u001b[39m\n",
       "\u001b[32mimport \u001b[39m\u001b[36mupickle.default.write\n",
       "\u001b[39m\n",
       "\u001b[32mimport \u001b[39m\u001b[36mscala.collection.parallel.CollectionConverters.{ImmutableSetIsParallelizable, IterableIsParallelizable}\n",
       "\u001b[39m\n",
       "\u001b[32mimport \u001b[39m\u001b[36medu.colorado.plv.bounder.symbolicexecutor.state.{AllReceiversNonNull, BottomQry, CallinReturnNonNull, DBOutputMode, DisallowedCallin, FieldPtEdge, IPathNode, MemoryOutputMode, OutputMode, PrettyPrinting, Qry, Reachable, ReceiverNonNull}\n",
       "\u001b[39m\n",
       "\u001b[32mimport \u001b[39m\u001b[36medu.colorado.plv.bounder.symbolicexecutor.state.State\n",
       "\u001b[39m\n",
       "\u001b[32mimport \u001b[39m\u001b[36medu.colorado.plv.bounder.lifestate.LifeState.{I,FreshRef,CLInit}\n",
       "\n",
       "\u001b[39m\n",
       "defined \u001b[32mfunction\u001b[39m \u001b[36msuffix\u001b[39m"
      ]
     },
     "execution_count": 13,
     "metadata": {},
     "output_type": "execute_result"
    }
   ],
   "source": [
    "// interp.load.ivy(\"com.github.pathikrit\" %% \"better-files\" % \"3.9.1\")\n",
    "import $ivy.`com.github.pathikrit::better-files:3.9.1`\n",
    "import better.files._\n",
    "\n",
    "import scala.util.Random\n",
    "import edu.colorado.plv.bounder.Driver\n",
    "import edu.colorado.plv.bounder.Action\n",
    "import edu.colorado.plv.bounder.RunConfig\n",
    "import upickle.default.read\n",
    "import upickle.default.write\n",
    "import scala.collection.parallel.CollectionConverters.{ImmutableSetIsParallelizable, IterableIsParallelizable}\n",
    "import edu.colorado.plv.bounder.symbolicexecutor.state.{AllReceiversNonNull, BottomQry, CallinReturnNonNull, DBOutputMode, DisallowedCallin, FieldPtEdge, IPathNode, MemoryOutputMode, OutputMode, PrettyPrinting, Qry, Reachable, ReceiverNonNull}\n",
    "import edu.colorado.plv.bounder.symbolicexecutor.state.State\n",
    "import edu.colorado.plv.bounder.lifestate.LifeState.{I,FreshRef,CLInit}\n",
    "\n",
    "def suffix(state:State):List[String] = {\n",
    "    state.sf.traceAbstraction.rightOfArrow.map {\n",
    "      case c@CLInit(_) => c.toString\n",
    "      case FreshRef(_) => \"FreshRef\"\n",
    "      case I(mt, signatures, _) => s\"I(${mt}, ${signatures.identifier})\"\n",
    "    }\n",
    "}"
   ]
  },
  {
   "cell_type": "code",
   "execution_count": 3,
   "metadata": {
    "collapsed": true,
    "jupyter": {
     "outputs_hidden": true
    }
   },
   "outputs": [
    {
     "data": {
      "text/plain": [
       "\u001b[36mdbMode\u001b[39m: \u001b[32mDBOutputMode\u001b[39m = \u001b[33mDBOutputMode\u001b[39m(\n",
       "  \u001b[32m\"/var/folders/3c/k88cs2396n1bz5645s69bcg80000gn/T/14561026492131693838/paths.db\"\u001b[39m,\n",
       "  false\n",
       ")"
      ]
     },
     "execution_count": 3,
     "metadata": {},
     "output_type": "execute_result"
    }
   ],
   "source": [
    "val dbMode = DBOutputMode(\"/var/folders/3c/k88cs2396n1bz5645s69bcg80000gn/T/14561026492131693838/paths.db\", truncate = false)"
   ]
  },
  {
   "cell_type": "code",
   "execution_count": 17,
   "metadata": {
    "collapsed": true,
    "jupyter": {
     "outputs_hidden": true
    },
    "tags": []
   },
   "outputs": [
    {
     "data": {
      "text/plain": [
       "\u001b[36mstates\u001b[39m: \u001b[32mSet\u001b[39m[\u001b[32mState\u001b[39m] = \u001b[33mHashSet\u001b[39m(\n",
       "  \u001b[33mState\u001b[39m(\n",
       "    \u001b[33mStateFormula\u001b[39m(\n",
       "      \u001b[33mList\u001b[39m(\n",
       "        \u001b[33mCallStackFrame\u001b[39m(\n",
       "          \u001b[33mGroupedCallinMethodReturn\u001b[39m(\u001b[33mSet\u001b[39m(\u001b[32m\"java.lang.Object\"\u001b[39m), \u001b[32m\"void <init>()\"\u001b[39m),\n",
       "          \u001b[33mSome\u001b[39m(\n",
       "            \u001b[33mAppLoc\u001b[39m(\n",
       "              \u001b[33mTestIRMethodLoc\u001b[39m(\n",
       "                \u001b[32m\"com.example.createdestroy.MyActivity$1\"\u001b[39m,\n",
       "                \u001b[32m\"void <init>(com.example.createdestroy.MyActivity)\"\u001b[39m,\n",
       "                \u001b[33mList\u001b[39m(\n",
       "                  \u001b[33mSome\u001b[39m(\n",
       "                    \u001b[33mLocalWrapper\u001b[39m(\n",
       "                      \u001b[32m\"@this\"\u001b[39m,\n",
       "                      \u001b[32m\"com.example.createdestroy.MyActivity$1\"\u001b[39m\n",
       "                    )\n",
       "                  ),\n",
       "                  \u001b[33mSome\u001b[39m(\n",
       "                    \u001b[33mLocalWrapper\u001b[39m(\n",
       "                      \u001b[32m\"@parameter0\"\u001b[39m,\n",
       "                      \u001b[32m\"com.example.createdestroy.MyActivity\"\u001b[39m\n",
       "                    )\n",
       "                  )\n",
       "                )\n",
       "              ),\n",
       "              \u001b[33mTestIRLineLoc\u001b[39m(\n",
       "                \u001b[32m1708250623\u001b[39m,\n",
       "                \u001b[32m\"line: 17 specialinvoke r0.<java.lang.Object: void <init>()>()\"\u001b[39m\n",
       "              ),\n",
       "              true\n",
       "            )\n",
       "          ),\n",
       "          \u001b[33mMap\u001b[39m()\n",
       "        ),\n",
       "        \u001b[33mCallStackFrame\u001b[39m(\n",
       "          \u001b[33mInternalMethodReturn\u001b[39m(\n",
       "            \u001b[32m\"com.example.createdestroy.MyActivity$1\"\u001b[39m,\n",
       "            \u001b[32m\"void <init>(com.example.createdestroy.MyActivity)\"\u001b[39m,\n",
       "..."
      ]
     },
     "execution_count": 17,
     "metadata": {},
     "output_type": "execute_result"
    }
   ],
   "source": [
    "val states = dbMode.getAllStates()"
   ]
  },
  {
   "cell_type": "code",
   "execution_count": 18,
   "metadata": {
    "tags": []
   },
   "outputs": [
    {
     "name": "stdout",
     "output_type": "stream",
     "text": [
      "290\n",
      "559\n"
     ]
    },
    {
     "data": {
      "text/html": [
       "<div class=\"jp-RenderedText\">\n",
       "<pre><code><span style=\"color: rgb(0, 187, 187)\"><span class=\"ansi-cyan-fg\">f</span></span>: <span style=\"color: rgb(0, 187, 0)\"><span class=\"ansi-green-fg\">File</span></span> = /Users/shawnmeier/Documents/source/bounder/notebooks/liveStates.txt\n",
       "<span style=\"color: rgb(0, 187, 187)\"><span class=\"ansi-cyan-fg\">count</span></span>: <span style=\"color: rgb(0, 187, 0)\"><span class=\"ansi-green-fg\">Int</span></span> = <span style=\"color: rgb(0, 187, 0)\"><span class=\"ansi-green-fg\">559</span></span>\n",
       "<span style=\"color: rgb(0, 187, 187)\"><span class=\"ansi-cyan-fg\">stringified</span></span>: <span style=\"color: rgb(0, 187, 0)\"><span class=\"ansi-green-fg\">Set</span></span>[<span style=\"color: rgb(0, 187, 0)\"><span class=\"ansi-green-fg\">String</span></span>] = <span style=\"color: yellow\"><span class=\"ansi-yellow-fg\">HashSet</span></span>(\n",
       "  <span style=\"color: rgb(0, 187, 0)\"><span class=\"ansi-green-fg\">&quot;(    heap:           pure: p-2  !=  NULL &amp;&amp; p-4  !=  NULL &amp;&amp; p-3  !=  NULL &amp;&amp; p-6  !=  NULL &amp;&amp; p-7  !=  NULL &amp;&amp; p-1  !=  NULL         types: List(p-1:{4114}, p-3:{4121}, p-4:{4122}, p-2:{4120}, p-6:{639,899,1455,1494,1529 ...}, p-7:{4114})    trace: (HashMap() - |&gt; I(CBExit I_CBExit_Activity_onDestroy ( _,p-7 );I(CBEnter I_CBEnter_Activity_onResume ( _,p-1 );I(CIExit I_CIExit_Activity_findView ( p-6,p-1 );FreshRef(p-2);I(CIExit I_CIExit_View_setOnClickListener ( _,p-6,p-2 );FreshRef(p-3);FreshRef(p-4);I(CBEnter I_CBEnter_Activity_onPause ( _,p-1 );I(CBExit I_CBExit_Activity_onPause ( _,p-1 );I(CBEnter I_CBEnter_ViewOnClickListener_onClick ( _,p-2 )))&quot;</span></span>,\n",
       "  <span style=\"color: rgb(0, 187, 0)\"><span class=\"ansi-green-fg\">&quot;([CI Ret] androidx.appcompat.app.AppCompatActivity android.view.View findViewById(int) locals:       locals: r0 -&gt; p-7         heap: p-1.s-&gt;p-0 * p-2.this$0-&gt;p-1          pure: p-0  ==  NULL &amp;&amp; p-5  !=  NULL &amp;&amp; p-2  !=  NULL &amp;&amp; p-3  !=  NULL &amp;&amp; p-6  !=  NULL &amp;&amp; p-7  !=  NULL &amp;&amp; p-5  !=  p-2 &amp;&amp; p-4  !=  NULL &amp;&amp; p-7  !=  p-1         types: List(p-0:{4119}, p-1:{4114}, p-3:{4121}, p-4:{4122}, p-2:{4120}, p-6:{639,899,1455,1494,1529 ...}, p-7:{4114}, p-5:{4120})    trace: (HashMap() - |&gt; I(CIExit I_CIExit_Activity_findView ( p-6,p-7 );FreshRef(p-5);I(CIExit I_CIExit_View_setOnClickListener ( _,p-6,p-5 );FreshRef(p-3);FreshRef(p-4);I(CBEnter I_CBEnter_ViewOnClickListener_onClick ( _,p-2 )))&quot;</span></span>,\n",
       "  <span style=\"color: rgb(0, 187, 0)\"><span class=\"ansi-green-fg\">&quot;( locals: $r3 -&gt; p-10,$r2 -&gt; p-11         heap: p-2.this$0-&gt;p-1          pure: p-5  !=  NULL &amp;&amp; p-2  !=  NULL &amp;&amp; p-3  !=  NULL &amp;&amp; p-6  !=  NULL &amp;&amp; p-5  !=  p-2 &amp;&amp; p-10  !=  p-2 &amp;&amp; p-4  !=  NULL &amp;&amp; p-10  !=  NULL &amp;&amp; p-11  !=  NULL &amp;&amp; p-8  !=  NULL &amp;&amp; p-7  !=  NULL &amp;&amp; p-9  !=  NULL &amp;&amp; p-1  !=  NULL         types: List(p-1:{4114}, p-3:{4121}, p-4:{4122}, p-2:{4120}, p-10:{4120}, p-6:{639,899,1455,1494,1529 ...}, p-11:{639,899,1455,1494,1529 ...}, p-8:{4121}, p-9:{4122}, p-7:{4114}, p-5:{4120})    trace: (HashMap() - |&gt; I(CIExit I_CIExit_View_setOnClickListener ( _,p-11,p-10 );FreshRef(p-8);FreshRef(p-9);I(CBEnter I_CBEnter_Activity_onResume ( _,p-7 );I(CIExit I_CIExit_Activity_findView ( p-6,p-7 );FreshRef(p-5);I(CIExit I_CIExit_View_setOnClickListener ( _,p-6,p-5 );FreshRef(p-3);FreshRef(p-4);I(CBEnter I_CBEnter_Activity_onPause ( _,p-1 );I(CBExit I_CBExit_Activity_onPause ( _,p-1 );I(CBEnter I_CBEnter_ViewOnClickListener_onClick ( _,p-2 )))&quot;</span></span>,\n",
       "  <span style=\"color: rgb(0, 187, 0)\"><span class=\"ansi-green-fg\">&quot;(    heap: p-1.s-&gt;p-0 * p-2.this$0-&gt;p-1          pure: p-0  ==  NULL &amp;&amp; p-5  !=  NULL &amp;&amp; p-2  !=  NULL &amp;&amp; p-3  !=  NULL &amp;&amp; p-6  !=  NULL &amp;&amp; p-7  !=  NULL &amp;&amp; p-5  !=  p-2 &amp;&amp; p-4  !=  NULL &amp;&amp; p-7  !=  p-1         types: List(p-0:{4119}, p-1:{4114}, p-3:{4121}, p-4:{4122}, p-2:{4120}, p-6:{639,899,1455,1494,1529 ...}, p-7:{4114}, p-5:{4120})    trace: (HashMap() - |&gt; I(CBEnter I_CBEnter_Activity_onResume ( _,p-7 );I(CIExit I_CIExit_Activity_findView ( p-6,p-7 );FreshRef(p-5);I(CIExit I_CIExit_View_setOnClickListener ( _,p-6,p-5 );FreshRef(p-3);FreshRef(p-4);I(CBEnter I_CBEnter_ViewOnClickListener_onClick ( _,p-2 )))&quot;</span></span>,\n",
       "...\n",
       "<span style=\"color: rgb(0, 187, 187)\"><span class=\"ansi-cyan-fg\">res17_4</span></span>: <span style=\"color: rgb(0, 187, 0)\"><span class=\"ansi-green-fg\">File</span></span> = /Users/shawnmeier/Documents/source/bounder/notebooks/liveStates.txt</code></pre>\n",
       "</div>"
      ],
      "text/plain": [
       "\u001b[36mf\u001b[39m: \u001b[32mFile\u001b[39m = /Users/shawnmeier/Documents/source/bounder/notebooks/liveStates.txt\n",
       "\u001b[36mcount\u001b[39m: \u001b[32mInt\u001b[39m = \u001b[32m559\u001b[39m\n",
       "\u001b[36mstringified\u001b[39m: \u001b[32mSet\u001b[39m[\u001b[32mString\u001b[39m] = \u001b[33mHashSet\u001b[39m(\n",
       "  \u001b[32m\"(    heap:           pure: p-2  !=  NULL && p-4  !=  NULL && p-3  !=  NULL && p-6  !=  NULL && p-7  !=  NULL && p-1  !=  NULL         types: List(p-1:{4114}, p-3:{4121}, p-4:{4122}, p-2:{4120}, p-6:{639,899,1455,1494,1529 ...}, p-7:{4114})    trace: (HashMap() - |> I(CBExit I_CBExit_Activity_onDestroy ( _,p-7 );I(CBEnter I_CBEnter_Activity_onResume ( _,p-1 );I(CIExit I_CIExit_Activity_findView ( p-6,p-1 );FreshRef(p-2);I(CIExit I_CIExit_View_setOnClickListener ( _,p-6,p-2 );FreshRef(p-3);FreshRef(p-4);I(CBEnter I_CBEnter_Activity_onPause ( _,p-1 );I(CBExit I_CBExit_Activity_onPause ( _,p-1 );I(CBEnter I_CBEnter_ViewOnClickListener_onClick ( _,p-2 )))\"\u001b[39m,\n",
       "  \u001b[32m\"([CI Ret] androidx.appcompat.app.AppCompatActivity android.view.View findViewById(int) locals:       locals: r0 -> p-7         heap: p-1.s->p-0 * p-2.this$0->p-1          pure: p-0  ==  NULL && p-5  !=  NULL && p-2  !=  NULL && p-3  !=  NULL && p-6  !=  NULL && p-7  !=  NULL && p-5  !=  p-2 && p-4  !=  NULL && p-7  !=  p-1         types: List(p-0:{4119}, p-1:{4114}, p-3:{4121}, p-4:{4122}, p-2:{4120}, p-6:{639,899,1455,1494,1529 ...}, p-7:{4114}, p-5:{4120})    trace: (HashMap() - |> I(CIExit I_CIExit_Activity_findView ( p-6,p-7 );FreshRef(p-5);I(CIExit I_CIExit_View_setOnClickListener ( _,p-6,p-5 );FreshRef(p-3);FreshRef(p-4);I(CBEnter I_CBEnter_ViewOnClickListener_onClick ( _,p-2 )))\"\u001b[39m,\n",
       "  \u001b[32m\"( locals: $r3 -> p-10,$r2 -> p-11         heap: p-2.this$0->p-1          pure: p-5  !=  NULL && p-2  !=  NULL && p-3  !=  NULL && p-6  !=  NULL && p-5  !=  p-2 && p-10  !=  p-2 && p-4  !=  NULL && p-10  !=  NULL && p-11  !=  NULL && p-8  !=  NULL && p-7  !=  NULL && p-9  !=  NULL && p-1  !=  NULL         types: List(p-1:{4114}, p-3:{4121}, p-4:{4122}, p-2:{4120}, p-10:{4120}, p-6:{639,899,1455,1494,1529 ...}, p-11:{639,899,1455,1494,1529 ...}, p-8:{4121}, p-9:{4122}, p-7:{4114}, p-5:{4120})    trace: (HashMap() - |> I(CIExit I_CIExit_View_setOnClickListener ( _,p-11,p-10 );FreshRef(p-8);FreshRef(p-9);I(CBEnter I_CBEnter_Activity_onResume ( _,p-7 );I(CIExit I_CIExit_Activity_findView ( p-6,p-7 );FreshRef(p-5);I(CIExit I_CIExit_View_setOnClickListener ( _,p-6,p-5 );FreshRef(p-3);FreshRef(p-4);I(CBEnter I_CBEnter_Activity_onPause ( _,p-1 );I(CBExit I_CBExit_Activity_onPause ( _,p-1 );I(CBEnter I_CBEnter_ViewOnClickListener_onClick ( _,p-2 )))\"\u001b[39m,\n",
       "  \u001b[32m\"(    heap: p-1.s->p-0 * p-2.this$0->p-1          pure: p-0  ==  NULL && p-5  !=  NULL && p-2  !=  NULL && p-3  !=  NULL && p-6  !=  NULL && p-7  !=  NULL && p-5  !=  p-2 && p-4  !=  NULL && p-7  !=  p-1         types: List(p-0:{4119}, p-1:{4114}, p-3:{4121}, p-4:{4122}, p-2:{4120}, p-6:{639,899,1455,1494,1529 ...}, p-7:{4114}, p-5:{4120})    trace: (HashMap() - |> I(CBEnter I_CBEnter_Activity_onResume ( _,p-7 );I(CIExit I_CIExit_Activity_findView ( p-6,p-7 );FreshRef(p-5);I(CIExit I_CIExit_View_setOnClickListener ( _,p-6,p-5 );FreshRef(p-3);FreshRef(p-4);I(CBEnter I_CBEnter_ViewOnClickListener_onClick ( _,p-2 )))\"\u001b[39m,\n",
       "...\n",
       "\u001b[36mres17_4\u001b[39m: \u001b[32mFile\u001b[39m = /Users/shawnmeier/Documents/source/bounder/notebooks/liveStates.txt"
      ]
     },
     "metadata": {},
     "output_type": "display_data"
    }
   ],
   "source": [
    "val f = File(\"liveStates.txt\")\n",
    "var count = 0\n",
    "val stringified = states.map{s => \n",
    "    count = count + 1\n",
    "    s.toString\n",
    "}\n",
    "println(stringified.size)\n",
    "f.write(stringified.mkString(\"\\n\"))\n",
    "println(count)"
   ]
  },
  {
   "cell_type": "code",
   "execution_count": 19,
   "metadata": {
    "tags": []
   },
   "outputs": [
    {
     "data": {
      "text/plain": [
       "\u001b[36mfoo\u001b[39m: \u001b[32mMap\u001b[39m[\u001b[32mInt\u001b[39m, \u001b[32mList\u001b[39m[\u001b[32mInt\u001b[39m]] = \u001b[33mHashMap\u001b[39m(\u001b[32m0\u001b[39m -> \u001b[33mList\u001b[39m(\u001b[32m2\u001b[39m), \u001b[32m1\u001b[39m -> \u001b[33mList\u001b[39m(\u001b[32m1\u001b[39m, \u001b[32m3\u001b[39m))"
      ]
     },
     "execution_count": 19,
     "metadata": {},
     "output_type": "execute_result"
    }
   ],
   "source": [
    "val foo = List(1,2,3).groupBy(_ % 2 )"
   ]
  },
  {
   "cell_type": "code",
   "execution_count": 20,
   "metadata": {},
   "outputs": [
    {
     "data": {
      "text/plain": [
       "\u001b[36mfreq\u001b[39m: \u001b[32mList\u001b[39m[\u001b[32mString\u001b[39m] = \u001b[33mList\u001b[39m(\n",
       "  \u001b[32m\"80   ,   I(CBEnter, Activity_onResume),I(CIExit, Activity_findView),FreshRef,I(CIExit, View_setOnClickListener),FreshRef,FreshRef,I(CBEnter, Activity_onPause),I(CBExit, Activity_onPause),I(CBEnter, ViewOnClickListener_onClick)\"\u001b[39m,\n",
       "  \u001b[32m\"45   ,   I(CBEnter, ViewOnClickListener_onClick)\"\u001b[39m,\n",
       "  \u001b[32m\"41   ,   I(CBEnter, Activity_onPause),I(CBExit, Activity_onPause),I(CBEnter, ViewOnClickListener_onClick)\"\u001b[39m,\n",
       "  \u001b[32m\"21   ,   I(CIExit, View_setOnClickListener),FreshRef,FreshRef,I(CBEnter, Activity_onResume),I(CIExit, Activity_findView),FreshRef,I(CIExit, View_setOnClickListener),FreshRef,FreshRef,I(CBEnter, Activity_onPause),I(CBExit, Activity_onPause),I(CBEnter, ViewOnClickListener_onClick)\"\u001b[39m,\n",
       "  \u001b[32m\"16   ,   I(CIExit, View_setOnClickListener),FreshRef,FreshRef,I(CBEnter, Activity_onPause),I(CBExit, Activity_onPause),I(CBEnter, ViewOnClickListener_onClick)\"\u001b[39m,\n",
       "  \u001b[32m\"14   ,   I(CBExit, Activity_onDestroy),I(CBEnter, Activity_onResume),I(CIExit, Activity_findView),FreshRef,I(CIExit, View_setOnClickListener),FreshRef,FreshRef,I(CBEnter, Activity_onPause),I(CBExit, Activity_onPause),I(CBEnter, ViewOnClickListener_onClick)\"\u001b[39m,\n",
       "  \u001b[32m\"12   ,   I(CIExit, Activity_findView),FreshRef,I(CIExit, View_setOnClickListener),FreshRef,FreshRef,I(CBEnter, Activity_onResume),I(CIExit, Activity_findView),FreshRef,I(CIExit, View_setOnClickListener),FreshRef,FreshRef,I(CBEnter, Activity_onPause),I(CBExit, Activity_onPause),I(CBEnter, ViewOnClickListener_onClick)\"\u001b[39m,\n",
       "  \u001b[32m\"10   ,   FreshRef,I(CBEnter, Activity_onResume),I(CIExit, Activity_findView),FreshRef,I(CIExit, View_setOnClickListener),FreshRef,FreshRef,I(CBEnter, Activity_onPause),I(CBExit, Activity_onPause),I(CBEnter, ViewOnClickListener_onClick)\"\u001b[39m,\n",
       "  \u001b[32m\"9   ,   I(CBEnter, Activity_onResume),I(CIExit, Activity_findView),FreshRef,I(CIExit, View_setOnClickListener),FreshRef,FreshRef,I(CBEnter, Activity_onResume),I(CIExit, Activity_findView),FreshRef,I(CIExit, View_setOnClickListener),FreshRef,FreshRef,I(CBEnter, Activity_onPause),I(CBExit, Activity_onPause),I(CBEnter, ViewOnClickListener_onClick)\"\u001b[39m,\n",
       "  \u001b[32m\"8   ,   I(CBEnter, Activity_onResume),I(CIExit, Activity_findView),FreshRef,I(CIExit, View_setOnClickListener),FreshRef,FreshRef,I(CBEnter, Activity_onPause),I(CBExit, Activity_onPause),I(CBEnter, Activity_onResume),I(CIExit, Activity_findView),FreshRef,I(CIExit, View_setOnClickListener),FreshRef,FreshRef,I(CBEnter, ViewOnClickListener_onClick)\"\u001b[39m,\n",
       "  \u001b[32m\"7   ,   I(CBExit, Activity_onDestroy),I(CBEnter, Activity_onPause),I(CBExit, Activity_onPause),I(CBEnter, Activity_onResume),I(CIExit, Activity_findView),FreshRef,I(CIExit, View_setOnClickListener),FreshRef,FreshRef,I(CBEnter, ViewOnClic\u001b[39m...\n",
       "\u001b[36mfreqFile\u001b[39m: \u001b[32mFile\u001b[39m = /Users/shawnmeier/Documents/source/bounder/notebooks/frequencyFile.txt\n",
       "\u001b[36mres19_2\u001b[39m: \u001b[32mFile\u001b[39m = /Users/shawnmeier/Documents/source/bounder/notebooks/frequencyFile.txt"
      ]
     },
     "execution_count": 20,
     "metadata": {},
     "output_type": "execute_result"
    }
   ],
   "source": [
    "val freq = states.groupBy(suffix).map{\n",
    "    case (k,v) => (v.size, s\"${k.mkString(\",\")}\")\n",
    "}.toList.sortBy(_._1).reverse.map(v => v._1 + \"   ,   \" + v._2)\n",
    "\n",
    "val freqFile = File(\"frequencyFile.txt\")\n",
    "freqFile.write(freq.mkString(\"\\n\"))"
   ]
  },
  {
   "cell_type": "code",
   "execution_count": null,
   "metadata": {},
   "outputs": [],
   "source": []
  }
 ],
 "metadata": {
  "kernelspec": {
   "display_name": "Scala",
   "language": "scala",
   "name": "scala"
  },
  "language_info": {
   "codemirror_mode": "text/x-scala",
   "file_extension": ".sc",
   "mimetype": "text/x-scala",
   "name": "scala",
   "nbconvert_exporter": "script",
   "version": "2.13.3"
  }
 },
 "nbformat": 4,
 "nbformat_minor": 4
}
