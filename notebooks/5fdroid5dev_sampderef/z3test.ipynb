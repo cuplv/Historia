{
 "cells": [
  {
   "cell_type": "code",
   "execution_count": 1,
   "metadata": {},
   "outputs": [
    {
     "data": {
      "text/plain": [
       "\u001b[32mimport \u001b[39m\u001b[36mscala.jdk.CollectionConverters._ \n",
       "\u001b[39m\n",
       "\u001b[32mimport \u001b[39m\u001b[36mjava.util.Collections\n",
       "\n",
       "\u001b[39m\n",
       "defined \u001b[32mfunction\u001b[39m \u001b[36msetEnv\u001b[39m"
      ]
     },
     "execution_count": 1,
     "metadata": {},
     "output_type": "execute_result"
    }
   ],
   "source": [
    "import scala.jdk.CollectionConverters._ \n",
    "import java.util.Collections\n",
    "\n",
    "def setEnv(newEnv: Map[String, String]): Unit = {\n",
    "    import java.util.{Map => JavaMap}\n",
    "    try {\n",
    "      val processEnvironmentClass = Class.forName(\"java.lang.ProcessEnvironment\")\n",
    "      val theEnvironmentField = processEnvironmentClass.getDeclaredField(\"theEnvironment\")\n",
    "      theEnvironmentField.setAccessible(true)\n",
    "      val env = theEnvironmentField.get(null).asInstanceOf[JavaMap[String, String]]\n",
    "      env.putAll(newEnv.asJava)\n",
    "      val theCaseInsensitiveEnvironmentField = processEnvironmentClass.getDeclaredField(\"theCaseInsensitiveEnvironment\")\n",
    "      theCaseInsensitiveEnvironmentField.setAccessible(true)\n",
    "      val cienv = theCaseInsensitiveEnvironmentField.get(null).asInstanceOf[JavaMap[String, String]]\n",
    "      cienv.putAll(newEnv.asJava)\n",
    "    } catch {\n",
    "      case e: NoSuchFieldException =>\n",
    "        try {\n",
    "          val classes = classOf[Collections].getDeclaredClasses()\n",
    "          val env = System.getenv()\n",
    "          for (cl <- classes) {\n",
    "            if (cl.getName() == \"java.util.Collections$UnmodifiableMap\") {\n",
    "              val field = cl.getDeclaredField(\"m\")\n",
    "              field.setAccessible(true)\n",
    "              val obj = field.get(env)\n",
    "              val map = obj.asInstanceOf[JavaMap[String, String]]\n",
    "              map.clear()\n",
    "              map.putAll(newEnv.asJava)\n",
    "            }\n",
    "          }\n",
    "        } catch {\n",
    "          case e2: Exception => e2.printStackTrace()\n",
    "        }\n",
    "\n",
    "      case e1: Exception => e1.printStackTrace()\n",
    "    }\n",
    "  }\n"
   ]
  },
  {
   "cell_type": "code",
   "execution_count": 2,
   "metadata": {},
   "outputs": [
    {
     "data": {
      "text/plain": [
       "\u001b[36mpath\u001b[39m: \u001b[32mString\u001b[39m = \u001b[32m\"/Users/shawnmeier/software/z3/build/com.microsoft.z3.jar\"\u001b[39m"
      ]
     },
     "execution_count": 2,
     "metadata": {},
     "output_type": "execute_result"
    }
   ],
   "source": [
    "\n",
    "\n",
    "val path = \"/Users/shawnmeier/software/z3/build/com.microsoft.z3.jar\"\n",
    "interp.load.cp(os.Path(path))"
   ]
  },
  {
   "cell_type": "code",
   "execution_count": 3,
   "metadata": {},
   "outputs": [],
   "source": [
    "setEnv(Map(\"DYLD_LIBRARY_PATH\" -> \"/Users/shawnmeier/software/z3/build\",\"ANDROID_HOME\" -> \"/Users/shawnmeier/Library/Android/sdk\",\"CLASSPATH\" -> \"/Users/shawnmeier/software/z3/build\"))"
   ]
  },
  {
   "cell_type": "code",
   "execution_count": 4,
   "metadata": {},
   "outputs": [
    {
     "data": {
      "text/plain": [
       "\u001b[36mres3\u001b[39m: \u001b[32mString\u001b[39m = \u001b[32m\"/Users/shawnmeier/software/z3/build\"\u001b[39m"
      ]
     },
     "execution_count": 4,
     "metadata": {},
     "output_type": "execute_result"
    }
   ],
   "source": [
    "System.getenv(\"CLASSPATH\")"
   ]
  },
  {
   "cell_type": "code",
   "execution_count": 5,
   "metadata": {},
   "outputs": [
    {
     "ename": "",
     "evalue": "",
     "output_type": "error",
     "traceback": [
      "\u001b[31mjava.lang.UnsatisfiedLinkError: no libz3java in java.library.path\u001b[39m\n  java.lang.ClassLoader.loadLibrary(\u001b[32mClassLoader.java\u001b[39m:\u001b[32m1860\u001b[39m)\n  java.lang.Runtime.loadLibrary0(\u001b[32mRuntime.java\u001b[39m:\u001b[32m870\u001b[39m)\n  java.lang.System.loadLibrary(\u001b[32mSystem.java\u001b[39m:\u001b[32m1122\u001b[39m)\n  com.microsoft.z3.Native.<clinit>(\u001b[32mNative.java\u001b[39m:\u001b[32m17\u001b[39m)\n  com.microsoft.z3.Context.<init>(\u001b[32mContext.java\u001b[39m:\u001b[32m42\u001b[39m)\n  ammonite.$sess.cmd4$Helper.<init>(\u001b[32mcmd4.sc\u001b[39m:\u001b[32m3\u001b[39m)\n  ammonite.$sess.cmd4$.<clinit>(\u001b[32mcmd4.sc\u001b[39m:\u001b[32m7\u001b[39m)"
     ]
    }
   ],
   "source": [
    "import com.microsoft.z3._ \n",
    "\n",
    "val ctx = new Context()\n",
    "val solver = ctx.mkSolver()\n",
    "solver.add(ctx.mkAnd())\n",
    "println(solver.check())"
   ]
  },
  {
   "cell_type": "code",
   "execution_count": null,
   "metadata": {},
   "outputs": [],
   "source": []
  }
 ],
 "metadata": {
  "kernelspec": {
   "display_name": "Scala",
   "language": "scala",
   "name": "scala"
  },
  "language_info": {
   "codemirror_mode": "text/x-scala",
   "file_extension": ".sc",
   "mimetype": "text/x-scala",
   "name": "scala",
   "nbconvert_exporter": "script",
   "version": "2.13.3"
  }
 },
 "nbformat": 4,
 "nbformat_minor": 4
}
