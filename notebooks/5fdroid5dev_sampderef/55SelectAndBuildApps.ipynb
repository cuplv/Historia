{
 "cells": [
  {
   "cell_type": "markdown",
   "metadata": {},
   "source": [
    "Set select and compile apk files for 55 experiment.\n",
    "\n",
    "Goal: use 5 sample apps from google samples as well as 5 fdroid apps.\n",
    "\n",
    "Deref random sampling done with next notebook `55SetupAndPushRemoteRun.ipynb`"
   ]
  },
  {
   "cell_type": "code",
   "execution_count": 1,
   "metadata": {
    "scrolled": true
   },
   "outputs": [
    {
     "data": {
      "text/plain": [
       "\u001b[36mpath\u001b[39m: \u001b[32mString\u001b[39m = \u001b[32m\"/Users/shawnmeier/Documents/source/bounder/soot_hopper/target/scala-2.13/soot_hopper-assembly-0.1.jar\"\u001b[39m\n",
       "\u001b[32mimport \u001b[39m\u001b[36m$ivy.$                                          \n",
       "\u001b[39m\n",
       "\u001b[32mimport \u001b[39m\u001b[36m$ivy.$                             \n",
       "// import $ivy.`edu.colorado.plv.bounder:soot_hopper_2.13:0.1`\n",
       "\n",
       "\u001b[39m\n",
       "\u001b[32mimport \u001b[39m\u001b[36mplotly._, element._, layout._, Plotly._\n",
       "\u001b[39m\n",
       "\u001b[32mimport \u001b[39m\u001b[36mujson.Value\n",
       "\u001b[39m\n",
       "\u001b[32mimport \u001b[39m\u001b[36msys.process._\n",
       "\n",
       "\u001b[39m"
      ]
     },
     "execution_count": 1,
     "metadata": {},
     "output_type": "execute_result"
    }
   ],
   "source": [
    "val path = \"/Users/shawnmeier/Documents/source/bounder/soot_hopper/target/scala-2.13/soot_hopper-assembly-0.1.jar\"\n",
    "\n",
    "interp.load.cp(os.Path(path))\n",
    "\n",
    "import $ivy.`org.plotly-scala:plotly-almond_2.13:0.8.2`\n",
    "import $ivy.`com.lihaoyi:ujson_2.13:1.3.8`\n",
    "// import $ivy.`edu.colorado.plv.bounder:soot_hopper_2.13:0.1`\n",
    "\n",
    "import plotly._, element._, layout._, Plotly._\n",
    "import ujson.Value\n",
    "import sys.process._\n",
    "\n"
   ]
  },
  {
   "cell_type": "code",
   "execution_count": 2,
   "metadata": {},
   "outputs": [
    {
     "data": {
      "text/plain": [
       "\u001b[32mimport \u001b[39m\u001b[36m$ivy.$                                         \n",
       "\u001b[39m\n",
       "\u001b[32mimport \u001b[39m\u001b[36mbetter.files._\n",
       "\n",
       "\u001b[39m\n",
       "\u001b[32mimport \u001b[39m\u001b[36mscala.util.Random\n",
       "\u001b[39m\n",
       "\u001b[32mimport \u001b[39m\u001b[36medu.colorado.plv.bounder.Driver\n",
       "\u001b[39m\n",
       "\u001b[32mimport \u001b[39m\u001b[36medu.colorado.plv.bounder.Action\n",
       "\u001b[39m\n",
       "\u001b[32mimport \u001b[39m\u001b[36medu.colorado.plv.bounder.RunConfig\n",
       "\u001b[39m\n",
       "\u001b[32mimport \u001b[39m\u001b[36mupickle.default.read\n",
       "\u001b[39m\n",
       "\u001b[32mimport \u001b[39m\u001b[36mupickle.default.write\n",
       "\u001b[39m\n",
       "\u001b[32mimport \u001b[39m\u001b[36mscala.collection.parallel.CollectionConverters.{ImmutableSetIsParallelizable, IterableIsParallelizable}\n",
       "// TODO: configure thread pool: https://docs.scala-lang.org/overviews/parallel-collections/configuration.html\u001b[39m"
      ]
     },
     "execution_count": 2,
     "metadata": {},
     "output_type": "execute_result"
    }
   ],
   "source": [
    "// interp.load.ivy(\"com.github.pathikrit\" %% \"better-files\" % \"3.9.1\")\n",
    "import $ivy.`com.github.pathikrit::better-files:3.9.1`\n",
    "import better.files._\n",
    "\n",
    "import scala.util.Random\n",
    "import edu.colorado.plv.bounder.Driver\n",
    "import edu.colorado.plv.bounder.Action\n",
    "import edu.colorado.plv.bounder.RunConfig\n",
    "import upickle.default.read\n",
    "import upickle.default.write\n",
    "import scala.collection.parallel.CollectionConverters.{ImmutableSetIsParallelizable, IterableIsParallelizable}\n",
    "// TODO: configure thread pool: https://docs.scala-lang.org/overviews/parallel-collections/configuration.html"
   ]
  },
  {
   "cell_type": "markdown",
   "metadata": {},
   "source": [
    "Parse list of apps with APK files in the fdroid download folder\n",
    "------------------------------------------------------------------------\n",
    "\n",
    "Full data download: https://drive.google.com/file/d/1edtMA9Bt0g9rPf1gp34W1a9e-oUdINJd/view?usp=sharing"
   ]
  },
  {
   "cell_type": "code",
   "execution_count": 4,
   "metadata": {
    "scrolled": true,
    "tags": []
   },
   "outputs": [
    {
     "data": {
      "text/plain": [
       "\u001b[32mimport \u001b[39m\u001b[36mscala.collection.parallel._\n",
       "\u001b[39m\n",
       "\u001b[36mfdroidBase\u001b[39m: \u001b[32mFile\u001b[39m = /Users/shawnmeier/Documents/data/fdroid\n",
       "defined \u001b[32mclass\u001b[39m \u001b[36mDataSet\u001b[39m"
      ]
     },
     "execution_count": 4,
     "metadata": {},
     "output_type": "execute_result"
    }
   ],
   "source": [
    "import scala.collection.parallel._\n",
    "val fdroidBase = File(\"/Users/shawnmeier/Documents/data/fdroid\")\n",
    "class DataSet(rootFile:File){\n",
    "    val rootSize = rootFile.toString.split(\"/\").size\n",
    "    val allApps = rootFile.list.toSet\n",
    "    val appPackages = allApps.map(v => v.toString.split(\"/\").last).toSet\n",
    "    val apkFilesPar = rootFile.glob(\"**/*.apk\").zipWithIndex.toList.par\n",
    "    val forkJoinPool = new java.util.concurrent.ForkJoinPool(8)\n",
    "    apkFilesPar.tasksupport = new ForkJoinTaskSupport(forkJoinPool)\n",
    "    val apkFiles = apkFilesPar.flatMap{a => \n",
    "            // Slow - filters out proguard apps\n",
    "            val isProguard = Driver.detectProguard(a._1.toString)\n",
    "            println(s\"index: ${a._2} apk: ${a._1} proguard: ${isProguard}\")\n",
    "//             val isProguard = false\n",
    "            if(isProguard) None else Some(a._1)\n",
    "        }.seq.toList\n",
    "    val apkGroups = \n",
    "        apkFiles.groupBy(f => appPackages.find(ad => \n",
    "                                               f.toString.split(\"/\")(rootSize) == ad.toString)\n",
    "                         .getOrElse(throw new IllegalStateException(f.toString)))\n",
    "\n",
    "    override def toString():String = {\n",
    "        \"\\n\" + \n",
    "        s\"number of app directories: ${allApps.size}\\n\" +\n",
    "        s\"number of distinct packages: ${appPackages.size}\\n\" +\n",
    "        s\"number of apk files: ${apkFiles.size}\\n\" +\n",
    "        s\"distinct apps with apks: ${apkGroups.size}\\n\"\n",
    "    }\n",
    "    /**\n",
    "    * Return a list of apps that contain APK files\n",
    "    */\n",
    "    def getApps():List[String] = apkGroups.keySet.toList\n",
    "    def apksForApp(app:String):List[File] = apkGroups(app)\n",
    "    def getAppsWithNoApk():List[String] = \n",
    "        appPackages.filter(a => !apkGroups.contains(a.toString)).toList\n",
    "    def nRandomApps(n:Integer):List[String] = {\n",
    "        Random.setSeed(23L)\n",
    "        val sh = Random.shuffle(apkGroups.keySet.toList)\n",
    "        sh.take(n).toList\n",
    "    }\n",
    "}\n",
    "// Note: this takes really long to run, partial list of outputs in fdroidBase / apkWithProguard.txt\n",
    "//val fdroidData = new DataSet(fdroidBase)"
   ]
  },
  {
   "cell_type": "code",
   "execution_count": 9,
   "metadata": {},
   "outputs": [
    {
     "data": {
      "text/plain": [
       "\u001b[36mpgFile\u001b[39m: \u001b[32mFile\u001b[39m = /Users/shawnmeier/Documents/data/fdroid/apkWithProguard.txt\n",
       "\u001b[36mnonpgapks\u001b[39m: \u001b[32mArray\u001b[39m[\u001b[32mString\u001b[39m] = \u001b[33mArray\u001b[39m(\n",
       "  \u001b[32m\"/Users/shawnmeier/Documents/data/fdroid/org.bc_bd.mrwhite/1.1/apk/org.bc_bd.mrwhite_2.apk\"\u001b[39m,\n",
       "  \u001b[32m\"/Users/shawnmeier/Documents/data/fdroid/com.kodarkooperativet.notificationstopwatch/1.4/apk/com.kodarkooperativet.notificationstopwatch_6.apk\"\u001b[39m,\n",
       "  \u001b[32m\"/Users/shawnmeier/Documents/data/fdroid/me.shrimadhavuk.watransmitter/2.1/apk/me.shrimadhavuk.watransmitter_3.apk\"\u001b[39m,\n",
       "  \u001b[32m\"/Users/shawnmeier/Documents/data/fdroid/de.blocklink.pigrid/1.4/apk/de.blocklink.pigrid_5.apk\"\u001b[39m,\n",
       "  \u001b[32m\"/Users/shawnmeier/Documents/data/fdroid/com.github.characterdog.share_my_number/1.3/apk/com.github.characterdog.share_my_number_3.apk\"\u001b[39m,\n",
       "  \u001b[32m\"/Users/shawnmeier/Documents/data/fdroid/org.ligi.etheremote/0.2/apk/org.ligi.etheremote_2.apk\"\u001b[39m,\n",
       "  \u001b[32m\"/Users/shawnmeier/Documents/data/fdroid/io.homeassistant.android/1.0-fdroid/apk/io.homeassistant.android_4.apk\"\u001b[39m,\n",
       "  \u001b[32m\"/Users/shawnmeier/Documents/data/fdroid/org.t2.synconwifi/1.0.2/apk/org.t2.synconwifi_3.apk\"\u001b[39m,\n",
       "  \u001b[32m\"/Users/shawnmeier/Documents/data/fdroid/org.projectmaxs.module.clipboard/0.5.8/apk/org.projectmaxs.module.clipboard_2000502507.apk\"\u001b[39m,\n",
       "  \u001b[32m\"/Users/shawnmeier/Documents/data/fdroid/net.reichholf.dreamdroid/1.4.434/apk/net.reichholf.dreamdroid_434.apk\"\u001b[39m,\n",
       "  \u001b[32m\"/Users/shawnmeier/Documents/data/fdroid/re.jcg.playmusicexporter/0.9.6.0/apk/re.jcg.playmusicexporter_110.apk\"\u001b[39m,\n",
       "  \u001b[32m\"/Users/shawnmeier/Documents/data/fdroid/org.disroot.disrootapp/1.2.1/apk/org.disroot.disrootapp_20.apk\"\u001b[39m,\n",
       "  \u001b[32m\"/Users/shawnmeier/Documents/data/fdroid/za.co.lukestonehm.logicaldefence/1.5.1/apk/za.co.lukestonehm.logicaldefence_22.apk\"\u001b[39m,\n",
       "  \u001b[32m\"/Users/shawnmeier/Documents/data/fdroid/com.allansimon.verbisteandroid/1.0/apk/com.allansimon.verbisteandroid_1.apk\"\u001b[39m,\n",
       "  \u001b[32m\"/Users/shawnmeier/Documents/data/fdroid/it.reyboz.bustorino/1.9.2/apk/it.reyboz.bustorino_25.apk\"\u001b[39m,\n",
       "  \u001b[32m\"/Users/shawnmeier/Documents/data/fdroid/com.gianlu.pretendyourexyzzy/2.8.15/apk/com.gianlu.pretendyourexyzzy_84.apk\"\u001b[39m,\n",
       "  \u001b[32m\"/Users/shawnmeier/Documents/data/fdroid/com.catchingnow.tinyclipboardmanager/1.5.0/apk/com.catchingnow.tinyclipboardmanager_57.apk\"\u001b[39m,\n",
       "  \u001b[32m\"/Users/shawnmeier/Documents/data/fdroid/org.nuntius35.wrongpinshutdown/10/apk/org.nuntius35.wrongpinshutdown_10.apk\"\u001b[39m,\n",
       "  \u001b[32m\"/Users/shawnmeier/Documents/data/fdroid/ws.xsoh.etar/1.0.17/apk/ws.xsoh.etar_19.apk\"\u001b[39m,\n",
       "..."
      ]
     },
     "execution_count": 9,
     "metadata": {},
     "output_type": "execute_result"
    }
   ],
   "source": [
    "// Read list of apps and parse if proguarded (raw output from earlier cell)\n",
    "val pgFile = fdroidBase / \"apkWithProguard.txt\"\n",
    "val nonpgapks = pgFile.contentAsString.split(\"\\n\").flatMap{l =>\n",
    "  val spl = l.split(\" apk: \")(1).split(\" proguard: \")\n",
    "  val path = spl(0)\n",
    "  if(spl(1).toBoolean) None else Some(path)\n",
    "}"
   ]
  },
  {
   "cell_type": "code",
   "execution_count": 22,
   "metadata": {},
   "outputs": [
    {
     "data": {
      "text/plain": [
       "defined \u001b[32mobject\u001b[39m \u001b[36mParseMeta\u001b[39m\n",
       "\u001b[36mapkBySDK\u001b[39m: \u001b[32mList\u001b[39m[(\u001b[32mInt\u001b[39m, \u001b[32mArray\u001b[39m[\u001b[32mString\u001b[39m])] = \u001b[33mList\u001b[39m(\n",
       "  (\n",
       "    \u001b[32m24\u001b[39m,\n",
       "    \u001b[33mArray\u001b[39m(\n",
       "      \u001b[32m\"/Users/shawnmeier/Documents/data/fdroid/com.mattermost.rnbeta/1.19.0/apk/com.mattermost.rnbeta_193.apk\"\u001b[39m,\n",
       "      \u001b[32m\"/Users/shawnmeier/Documents/data/fdroid/foundation.e.blisslauncher/1.2.1/apk/foundation.e.blisslauncher_12100.apk\"\u001b[39m,\n",
       "      \u001b[32m\"/Users/shawnmeier/Documents/data/fdroid/org.andstatus.app/51.02/apk/org.andstatus.app_298.apk\"\u001b[39m,\n",
       "      \u001b[32m\"/Users/shawnmeier/Documents/data/fdroid/de.sensebox.blockly/1.1.2/apk/de.sensebox.blockly_10102.apk\"\u001b[39m\n",
       "    )\n",
       "  ),\n",
       "  (\n",
       "    \u001b[32m23\u001b[39m,\n",
       "    \u001b[33mArray\u001b[39m(\n",
       "      \u001b[32m\"/Users/shawnmeier/Documents/data/fdroid/com.juliansparber.captiveportallogin/0.2/apk/com.juliansparber.captiveportallogin_2.apk\"\u001b[39m,\n",
       "      \u001b[32m\"/Users/shawnmeier/Documents/data/fdroid/org.elijaxapps.androidxmrigminer/1.02/apk/org.elijaxapps.androidxmrigminer_5.apk\"\u001b[39m,\n",
       "      \u001b[32m\"/Users/shawnmeier/Documents/data/fdroid/org.ninthfloor.copperpdf/1.2.1/apk/org.ninthfloor.copperpdf_4.apk\"\u001b[39m,\n",
       "      \u001b[32m\"/Users/shawnmeier/Documents/data/fdroid/org.miamplayer.autoairplanemode/1.0/apk/org.miamplayer.autoairplanemode_1.apk\"\u001b[39m,\n",
       "      \u001b[32m\"/Users/shawnmeier/Documents/data/fdroid/com.tmendes.birthdaydroid/20180826_VC28/apk/com.tmendes.birthdaydroid_28.apk\"\u001b[39m,\n",
       "      \u001b[32m\"/Users/shawnmeier/Documents/data/fdroid/com.primokorn.enhancement/20/apk/com.primokorn.enhancement_20.apk\"\u001b[39m,\n",
       "      \u001b[32m\"/Users/shawnmeier/Documents/data/fdroid/com.lyonbros.turtl/0.7.2.5/apk/com.lyonbros.turtl_7250.apk\"\u001b[39m,\n",
       "      \u001b[32m\"/Users/shawnmeier/Documents/data/fdroid/com.dosse.airpods/0.10/apk/com.dosse.airpods_10.apk\"\u001b[39m,\n",
       "      \u001b[32m\"/Users/shawnmeier/Documents/data/fdroid/dk.meznik.jan.encrypttext/1.0/apk/dk.meznik.jan.encrypttext_1.apk\"\u001b[39m,\n",
       "      \u001b[32m\"/Users/shawnmeier/Documents/data/fdroid/moe.martini.midictrl/0.1/apk/moe.martini.midictrl_1.apk\"\u001b[39m,\n",
       "      \u001b[32m\"/Users/shawnmeier/Documents/data/fdroid/nl.devluuk.sleepywifi/1.5/apk/nl.devluuk.sleepywifi_6.apk\"\u001b[39m,\n",
       "...\n",
       "\u001b[36mapkOver20\u001b[39m: \u001b[32mList\u001b[39m[\u001b[32mString\u001b[39m] = \u001b[33mList\u001b[39m(\n",
       "  \u001b[32m\"/Users/shawnmeier/Documents/data/fdroid/com.mattermost.rnbeta/1.19.0/apk/com.mattermost.rnbeta_193.apk\"\u001b[39m,\n",
       "  \u001b[32m\"/Users/shawnmeier/Documents/data/fdroid/foundation.e.blisslauncher/1.2.1/apk/foundation.e.blisslauncher_12100.apk\"\u001b[39m,\n",
       "  \u001b[32m\"/Users/shawnmeier/Documents/data/fdroid/org.andstatus.app/51.02/apk/org.andstatus.app_298.apk\"\u001b[39m,\n",
       "  \u001b[32m\"/Users/shawnmeier/Documents/data/fdroid/de.sensebox.blockly/1.1.2/apk/de.sensebox.blockly_10102.apk\"\u001b[39m,\n",
       "  \u001b[32m\"/Users/shawnmeier/Documents/data/fdroid/com.juliansparber.captiveportallogin/0.2/apk/com.juliansparber.captiveportallogin_2.apk\"\u001b[39m,\n",
       "  \u001b[32m\"/Users/shawnmeier/Documents/data/fdroid/org.elijaxapps.androidxmrigminer/1.02/apk/org.elijaxapps.androidxmrigminer_5.apk\"\u001b[39m,\n",
       "  \u001b[32m\"/Users/shawnmeier/Documents/data/fdroid/org.ninthfloor.copperpdf/1.2.1/apk/org.ninthfloor.copperpdf_4.apk\"\u001b[39m,\n",
       "  \u001b[32m\"/Users/shawnmeier/Documents/data/fdroid/org.miamplayer.autoairplanemode/1.0/apk/org.miamplayer.autoairplanemode_1.apk\"\u001b[39m,\n",
       "  \u001b[32m\"/Users/shawnmeier/Documents/data/fdroid/com.tmendes.birthdaydroid/20180826_VC28/apk/com.tmendes.birthdaydroid_28.apk\"\u001b[39m,\n",
       "  \u001b[32m\"/Users/shawnmeier/Documents/data/fdroid/com.primokorn.enhancement/20/apk/com.primokorn.enhancement_20.apk\"\u001b[39m,\n",
       "  \u001b[32m\"/Users/shawnmeier/Documents/data/fdroid/com.lyonbros.turtl/0.7.2.5/apk/com.lyonbros.turtl_7250.apk\"\u001b[39m,\n",
       "  \u001b[32m\"/Users/shawnmeier/Documents/data/fdroid/com.dosse.airpods/0.10/apk/com.dosse.airpods_10.apk\"\u001b[39m,\n",
       "  \u001b[32m\"/Users/shawnmeier/Documents/data/fdroid/dk.meznik.jan.encrypttext/1.0/apk/dk.meznik.jan.encrypttext_1.apk\"\u001b[39m,\n",
       "  \u001b[32m\"/Users/shawnmeier/Documents/data/fdroid/moe.martini.midictrl/0.1/apk/moe.martini.midictrl_1.apk\"\u001b[39m,\n",
       "  \u001b[32m\"/Users/shawnmeier/Documents/data/fdroid/nl.devluuk.sleepywifi/1.5/apk/nl.devluuk.sleepywifi_6.apk\"\u001b[39m,\n",
       "  \u001b[32m\"/Users/shawnmeier/Documents/data/fdroid/com.markuspage.android.atimetracker/0.51.2/apk/com.markuspage.android.atimetracker_5102.apk\"\u001b[39m,\n",
       "  \u001b[32m\"/Users/shawnmeier/Documents/data/fdroid/com.internalpositioning.find3.find3app/3.0.3/apk/com.internalpositioning.find3.find3app_6.apk\"\u001b[39m,\n",
       "  \u001b[32m\"/Users/shawnmeier/Documents/data/fdroid/com.wownero.wownerujo/2.6.1.1/apk/com.wownero.wownerujo_1220.apk\"\u001b[39m,\n",
       "  \u001b[32m\"/Users/shawnmeier/Documents/data/fdroid/at.tacticaldevc.panictrigger/v0.5/apk/at.tacticaldevc.panictrigger_10.apk\"\u001b[39m,\n",
       "...\n",
       "\u001b[36mres21_3\u001b[39m: \u001b[32mFile\u001b[39m = /Users/shawnmeier/Documents/data/fdroid/apkOver20.txt"
      ]
     },
     "execution_count": 22,
     "metadata": {},
     "output_type": "execute_result"
    }
   ],
   "source": [
    "object ParseMeta{\n",
    "    //import ujson._\n",
    "    def getTargetVersion(path:String):Int = {\n",
    "        val metaF = File(path.split(\"/apk/\")(0)) / \"meta.txt\"\n",
    "        ujson.read(metaF.contentAsString)(\"minSdkVersion\") match {\n",
    "            case ujson.Str(n) => n.toInt\n",
    "            case ujson.Num(v) => v.toInt\n",
    "        }\n",
    "    }\n",
    "}\n",
    "\n",
    "val apkBySDK = nonpgapks.groupBy(ParseMeta.getTargetVersion).toList.sortBy(_._1).reverse\n",
    "val apkOver20 = apkBySDK.filter(_._1 > 20).flatMap(_._2)\n",
    "\n",
    "(fdroidBase / \"apkOver20.txt\").overwrite(apkOver20.mkString(\"\\n\"))"
   ]
  },
  {
   "cell_type": "code",
   "execution_count": 10,
   "metadata": {},
   "outputs": [
    {
     "data": {
      "text/plain": [
       "\u001b[36mexpDir\u001b[39m: \u001b[32mFile\u001b[39m = /Users/shawnmeier/Documents/source/bounder/experiments/allDeref_fdroid_subset_15\n",
       "defined \u001b[32mfunction\u001b[39m \u001b[36mpkgAndBaseToApk\u001b[39m\n",
       "defined \u001b[32mfunction\u001b[39m \u001b[36mwriteSample\u001b[39m"
      ]
     },
     "execution_count": 10,
     "metadata": {},
     "output_type": "execute_result"
    }
   ],
   "source": [
    "// Randomly sample a set of apps with defined APK files\n",
    "// Not currently used, manually grabbed 5 non-proguard apps\n",
    "val expDir = File(\n",
    "    \"/Users/shawnmeier/Documents/source/bounder/experiments/5fdroid5dev_sampderef\")\n",
    "\n",
    "def pkgAndBaseToApk(pkg:String, base:File):File = {\n",
    "    val apkFiles = (fdroidBase / pkg).glob(\"**/*.apk\").toList\n",
    "    assert(apkFiles.size == 1, s\"apk for ${pkg} not found\")\n",
    "    apkFiles.head\n",
    "}\n",
    "def writeSample() = {\n",
    "    val sample = fdroidData.nRandomApps(20).flatMap{ s => \n",
    "            val apkPath = pkgAndBaseToApk(s, fdroidBase).toString\n",
    "            if(!Driver.detectProguard(apkPath)){Some(apkPath + \":\" + s)} else None\n",
    "        }.take(10)\n",
    "    val experimentDir = expDir\n",
    "    val appSample: File = experimentDir / \"appSample.txt\"\n",
    "    println(appSample)\n",
    "    appSample.createFile().append(sample.mkString(\"\\n\"))\n",
    "}\n",
    "//writeSample() // uncomment to run"
   ]
  },
  {
   "cell_type": "code",
   "execution_count": 5,
   "metadata": {},
   "outputs": [
    {
     "data": {
      "text/plain": [
       "defined \u001b[32mfunction\u001b[39m \u001b[36mcreateSamplesFromList\u001b[39m"
      ]
     },
     "execution_count": 5,
     "metadata": {},
     "output_type": "execute_result"
    }
   ],
   "source": [
    "// From list of app packages, \"appSample.txt\" create json configs to run verifier\n",
    "def createSamplesFromList():Unit = {\n",
    "    val mode = Driver.SampleDeref\n",
    "    val baseConfig = RunConfig(limit = 120, samples = 10)\n",
    "    case class ApkSample(apk:String, pkg:String, outDir:File)\n",
    "    val apkSamples = (expDir / \"appSample.txt\")\n",
    "        .contentAsString\n",
    "        .split(\"\\n\")map{v => \n",
    "            val pkg = v.split(\":\")(1)\n",
    "            val apk = v.split(\":\")(0)\n",
    "            val apkDirCfg = apk.toString.replace(fdroidBase.toString,\"${baseDir}\")\n",
    "            val outDirCfg = \"${baseDirOut}/\" + pkg\n",
    "            val outDir = expDir / pkg\n",
    "            val getSample = outDir / \"getSample.json\"\n",
    "            if(getSample.exists())getSample.delete()\n",
    "            val cfg = baseConfig.copy(apkPath=apkDirCfg, outFolder=Some(outDirCfg))\n",
    "            getSample.append(write[RunConfig](cfg))\n",
    "            outDir.createIfNotExists(true)\n",
    "            Action(Driver.SampleDeref, Some(expDir.toString), Some(fdroidBase.toString),\n",
    "                   cfg)\n",
    "        }\n",
    "    apkSamples.foreach{action => \n",
    "        println(s\"action: ${action}\")\n",
    "        Driver.runAction(action)\n",
    "    }\n",
    "//     apkSamples.foreach{println}\n",
    "//     apkSamples.map{cfg => Driver.sampleDeref(cfg, cfg.apkPath, cfg.outFolder)}\n",
    "}\n",
    "//createSamplesFromList()"
   ]
  },
  {
   "cell_type": "code",
   "execution_count": 6,
   "metadata": {},
   "outputs": [
    {
     "data": {
      "text/plain": [
       "\u001b[36mres5\u001b[39m: \u001b[32mInt\u001b[39m = \u001b[32m14\u001b[39m"
      ]
     },
     "execution_count": 6,
     "metadata": {},
     "output_type": "execute_result"
    }
   ],
   "source": [
    "// count experiment json files\n",
    "expDir.glob(\"**/sample.json\").size"
   ]
  },
  {
   "cell_type": "code",
   "execution_count": 7,
   "metadata": {
    "scrolled": true
   },
   "outputs": [
    {
     "data": {
      "text/plain": [
       "defined \u001b[32mfunction\u001b[39m \u001b[36mrunExperiments\u001b[39m"
      ]
     },
     "execution_count": 7,
     "metadata": {},
     "output_type": "execute_result"
    }
   ],
   "source": [
    "// Run experiments\n",
    "def runExperiments():Unit = {\n",
    "    val experiments = Random.shuffle(expDir.glob(\"**/sample.json\").toList)\n",
    "    \n",
    "    val experimentsPar = experiments.par\n",
    "    val forkJoinPool = new java.util.concurrent.ForkJoinPool(4)\n",
    "    experimentsPar.tasksupport = new ForkJoinTaskSupport(forkJoinPool)\n",
    "    experimentsPar.foreach{cfg => \n",
    "    // val cfg = \"/Users/shawnmeier/Documents/source/bounder/experiments/fdroid_subset_5/com.ridgelineapps.resdicegame/sample0.json\"\n",
    "        val runCFG = read[RunConfig](cfg.contentAsString)\n",
    "        println(s\"Running experiment: ${cfg.toString.split(\"/\").takeRight(2).mkString(\"/\")}\")\n",
    "        val runDir = File(runCFG.outFolder.get.replace(\"${baseDirOut}\",expDir.toString))\n",
    "        runDir.createIfNotExists(true)\n",
    "        val stdoutF = runDir / \"stdout.txt\"\n",
    "        val stderrF = runDir / \"stderr.txt\"\n",
    "        val p = Process(s\"java -jar ${path} -m verify -c $cfg -b ${fdroidBase.toString} -u ${expDir.toString}\",\n",
    "                        runDir.toJava,\n",
    "                        \"DYLD_LIBRARY_PATH\"->\"/Users/shawnmeier/software/z3/build\")\n",
    "        p ! ProcessLogger(v => stdoutF.append(v + \"\\n\"),v => stderrF.append(v + \"\\n\"))\n",
    "        println(s\"Running experiment: ${cfg.toString.split(\"/\").takeRight(2).mkString(\"/\")}\")\n",
    "\n",
    "    }\n",
    "}\n",
    "//runExperiments()"
   ]
  },
  {
   "cell_type": "code",
   "execution_count": 8,
   "metadata": {},
   "outputs": [
    {
     "name": "stdout",
     "output_type": "stream",
     "text": [
      "/Users/shawnmeier/Documents/source/bounder/experiments/fdroid_subset_15/net.khertan.forrunners/sample.json\n",
      "/Users/shawnmeier/Documents/source/bounder/experiments/fdroid_subset_15/com.ridgelineapps.resdicegame/sample.json\n",
      "/Users/shawnmeier/Documents/source/bounder/experiments/fdroid_subset_15/com.gpl.rpg.AndorsTrail/sample.json\n",
      "/Users/shawnmeier/Documents/source/bounder/experiments/fdroid_subset_15/de.sigfood/sample.json\n",
      "/Users/shawnmeier/Documents/source/bounder/experiments/fdroid_subset_15/org.vudroid/sample.json\n",
      "/Users/shawnmeier/Documents/source/bounder/experiments/fdroid_subset_15/com.vadimfrolov.duorem/sample.json\n",
      "/Users/shawnmeier/Documents/source/bounder/experiments/fdroid_subset_15/rino.org.tethercompanion/sample.json\n",
      "/Users/shawnmeier/Documents/source/bounder/experiments/fdroid_subset_15/com.teamdc.stephendiniz.autoaway/sample.json\n",
      "/Users/shawnmeier/Documents/source/bounder/experiments/fdroid_subset_15/org.bc_bd.mrwhite/sample.json\n",
      "/Users/shawnmeier/Documents/source/bounder/experiments/fdroid_subset_15/itkach.aard2/sample.json\n",
      "/Users/shawnmeier/Documents/source/bounder/experiments/fdroid_subset_15/com.serwylo.lexica/sample.json\n",
      "/Users/shawnmeier/Documents/source/bounder/experiments/fdroid_subset_15/de.live.gdev.timetracker/sample.json\n",
      "/Users/shawnmeier/Documents/source/bounder/experiments/fdroid_subset_15/com.mridang.throttle/sample.json\n",
      "/Users/shawnmeier/Documents/source/bounder/experiments/fdroid_subset_15/org.horaapps.leafpic/sample.json\n"
     ]
    },
    {
     "data": {
      "text/plain": [
       "defined \u001b[32mfunction\u001b[39m \u001b[36mextractWitness\u001b[39m"
      ]
     },
     "execution_count": 8,
     "metadata": {},
     "output_type": "execute_result"
    }
   ],
   "source": [
    "// Extract witness files\n",
    "def extractWitness():Unit = {\n",
    "    val experiments = Random.shuffle(expDir.glob(\"**/sample*.json\").toList)\n",
    "    experiments.foreach{cfg =>\n",
    "        val runCFG = read[RunConfig](cfg.contentAsString)\n",
    "        val runDir = File(runCFG.outFolder.get.replace(\"${baseDirOut}\",expDir.toString))\n",
    "        println(s\"${cfg}\")\n",
    "        val stdoutF = runDir / \"stdoutextract.txt\"\n",
    "        val stderrF = runDir / \"stderrextract.txt\"\n",
    "        val p = Process(s\"java -jar ${path} -m readDB -c $cfg -u ${expDir.toString}\",\n",
    "                        runDir.toJava,\n",
    "                        \"DYLD_LIBRARY_PATH\"->\"/Users/shawnmeier/software/z3/build\")\n",
    "        p ! ProcessLogger(v => stdoutF.append(v + \"\\n\"),v => stderrF.append(v + \"\\n\"))\n",
    "    }\n",
    "}\n",
    "extractWitness()"
   ]
  },
  {
   "cell_type": "code",
   "execution_count": 11,
   "metadata": {},
   "outputs": [
    {
     "data": {
      "text/plain": [
       "defined \u001b[32mfunction\u001b[39m \u001b[36mdeleteResults\u001b[39m"
      ]
     },
     "execution_count": 11,
     "metadata": {},
     "output_type": "execute_result"
    }
   ],
   "source": [
    "// delete all results directories\n",
    "def deleteResults():Unit = {\n",
    "    val experiments = Random.shuffle(expDir.glob(\"**/sample.json\").toList)\n",
    "    experiments.map(v => v.toString.replace(\".json\",\"\")).foreach{v => File(v).delete()}\n",
    "}\n",
    "//deleteResults()"
   ]
  },
  {
   "cell_type": "markdown",
   "metadata": {},
   "source": [
    "Count Results of Verification With No Model\n",
    "-------------------------------------------"
   ]
  },
  {
   "cell_type": "code",
   "execution_count": 9,
   "metadata": {},
   "outputs": [
    {
     "name": "stdout",
     "output_type": "stream",
     "text": [
      "Unreachable\n",
      "-----------\n",
      "count: 16\n",
      "org.vudroid/sample/result_8.txt\n",
      "org.vudroid/sample/result_7.txt\n",
      "de.sigfood/sample/result_8.txt\n",
      "de.sigfood/sample/result_5.txt\n",
      "de.sigfood/sample/result_2.txt\n",
      "com.gpl.rpg.AndorsTrail/sample/result_4.txt\n",
      "com.teamdc.stephendiniz.autoaway/sample/result_3.txt\n",
      "com.teamdc.stephendiniz.autoaway/sample/result_2.txt\n",
      "itkach.aard2/sample/result_8.txt\n",
      "itkach.aard2/sample/result_7.txt\n",
      "itkach.aard2/sample/result_5.txt\n",
      "com.serwylo.lexica/sample/result_2.txt\n",
      "com.vadimfrolov.duorem/sample/result_8.txt\n",
      "com.vadimfrolov.duorem/sample/result_5.txt\n",
      "com.vadimfrolov.duorem/sample/result_3.txt\n",
      "org.bc_bd.mrwhite/sample/result_8.txt\n",
      "Witnessed\n",
      "-----------\n",
      "count: 2\n",
      "com.teamdc.stephendiniz.autoaway/sample/result_1.txt\n",
      "org.bc_bd.mrwhite/sample/result_0.txt\n",
      "Proven\n",
      "-----------\n",
      "count: 58\n",
      "org.vudroid/sample/result_9.txt\n",
      "org.vudroid/sample/result_5.txt\n",
      "org.vudroid/sample/result_4.txt\n",
      "org.vudroid/sample/result_0.txt\n",
      "org.vudroid/sample/result_3.txt\n",
      "org.vudroid/sample/result_2.txt\n",
      "de.sigfood/sample/result_9.txt\n",
      "de.sigfood/sample/result_6.txt\n",
      "de.sigfood/sample/result_7.txt\n",
      "de.sigfood/sample/result_4.txt\n",
      "de.sigfood/sample/result_0.txt\n",
      "de.sigfood/sample/result_1.txt\n",
      "de.sigfood/sample/result_3.txt\n",
      "com.gpl.rpg.AndorsTrail/sample/result_8.txt\n",
      "com.gpl.rpg.AndorsTrail/sample/result_0.txt\n",
      "com.gpl.rpg.AndorsTrail/sample/result_1.txt\n",
      "com.gpl.rpg.AndorsTrail/sample/result_3.txt\n",
      "com.teamdc.stephendiniz.autoaway/sample/result_9.txt\n",
      "com.teamdc.stephendiniz.autoaway/sample/result_6.txt\n",
      "com.teamdc.stephendiniz.autoaway/sample/result_5.txt\n",
      "com.teamdc.stephendiniz.autoaway/sample/result_4.txt\n",
      "com.teamdc.stephendiniz.autoaway/sample/result_0.txt\n",
      "itkach.aard2/sample/result_9.txt\n",
      "itkach.aard2/sample/result_6.txt\n",
      "itkach.aard2/sample/result_4.txt\n",
      "itkach.aard2/sample/result_3.txt\n",
      "itkach.aard2/sample/result_2.txt\n",
      "org.horaapps.leafpic/sample/result_9.txt\n",
      "org.horaapps.leafpic/sample/result_8.txt\n",
      "org.horaapps.leafpic/sample/result_6.txt\n",
      "org.horaapps.leafpic/sample/result_7.txt\n",
      "org.horaapps.leafpic/sample/result_5.txt\n",
      "org.horaapps.leafpic/sample/result_4.txt\n",
      "org.horaapps.leafpic/sample/result_0.txt\n",
      "org.horaapps.leafpic/sample/result_1.txt\n",
      "org.horaapps.leafpic/sample/result_3.txt\n",
      "org.horaapps.leafpic/sample/result_2.txt\n",
      "com.serwylo.lexica/sample/result_8.txt\n",
      "com.serwylo.lexica/sample/result_7.txt\n",
      "com.serwylo.lexica/sample/result_5.txt\n",
      "com.serwylo.lexica/sample/result_4.txt\n",
      "com.serwylo.lexica/sample/result_0.txt\n",
      "com.serwylo.lexica/sample/result_3.txt\n",
      "com.vadimfrolov.duorem/sample/result_9.txt\n",
      "com.vadimfrolov.duorem/sample/result_6.txt\n",
      "com.vadimfrolov.duorem/sample/result_7.txt\n",
      "com.vadimfrolov.duorem/sample/result_4.txt\n",
      "com.vadimfrolov.duorem/sample/result_0.txt\n",
      "com.vadimfrolov.duorem/sample/result_1.txt\n",
      "com.vadimfrolov.duorem/sample/result_2.txt\n",
      "org.bc_bd.mrwhite/sample/result_9.txt\n",
      "org.bc_bd.mrwhite/sample/result_6.txt\n",
      "org.bc_bd.mrwhite/sample/result_7.txt\n",
      "org.bc_bd.mrwhite/sample/result_5.txt\n",
      "org.bc_bd.mrwhite/sample/result_4.txt\n",
      "org.bc_bd.mrwhite/sample/result_1.txt\n",
      "org.bc_bd.mrwhite/sample/result_3.txt\n",
      "org.bc_bd.mrwhite/sample/result_2.txt\n",
      "Timeout\n",
      "-----------\n",
      "count: 14\n",
      "org.vudroid/sample/result_6.txt\n",
      "org.vudroid/sample/result_1.txt\n",
      "com.gpl.rpg.AndorsTrail/sample/result_9.txt\n",
      "com.gpl.rpg.AndorsTrail/sample/result_6.txt\n",
      "com.gpl.rpg.AndorsTrail/sample/result_7.txt\n",
      "com.gpl.rpg.AndorsTrail/sample/result_5.txt\n",
      "com.gpl.rpg.AndorsTrail/sample/result_2.txt\n",
      "com.teamdc.stephendiniz.autoaway/sample/result_8.txt\n",
      "com.teamdc.stephendiniz.autoaway/sample/result_7.txt\n",
      "itkach.aard2/sample/result_0.txt\n",
      "itkach.aard2/sample/result_1.txt\n",
      "com.serwylo.lexica/sample/result_9.txt\n",
      "com.serwylo.lexica/sample/result_6.txt\n",
      "com.serwylo.lexica/sample/result_1.txt\n"
     ]
    },
    {
     "data": {
      "text/plain": [
       "defined \u001b[32mfunction\u001b[39m \u001b[36minterpResFile\u001b[39m\n",
       "defined \u001b[32mfunction\u001b[39m \u001b[36mcountResults\u001b[39m"
      ]
     },
     "execution_count": 9,
     "metadata": {},
     "output_type": "execute_result"
    }
   ],
   "source": [
    "def interpResFile(resFile:File):String = {\n",
    "    resFile.contentAsString.reverse.takeWhile(_!='}').reverse\n",
    "}\n",
    "def countResults(){\n",
    "    val allResults = expDir.glob(\"**/result*.txt\").toList\n",
    "        .groupBy(interpResFile)\n",
    "    val allResultsCount = expDir.glob(\"**/result*.txt\").toList.groupBy(interpResFile).map{\n",
    "        case (k,v) => \n",
    "            (k -> v.size)\n",
    "    }\n",
    "    allResults.foreach{case (k,v) => \n",
    "        println(k)\n",
    "        println(\"-----------\")\n",
    "        println(s\"count: ${v.size}\")\n",
    "        v.foreach{v => println(v.toString.split(\"/\").takeRight(3).mkString(\"/\"))}\n",
    "    }\n",
    "}\n",
    "countResults()"
   ]
  },
  {
   "cell_type": "markdown",
   "metadata": {},
   "source": [
    "Notes:\n",
    "eclude org.ligi.etheremote - don't want to learn kotlin right now\n",
    "\n",
    "- org.vudroid/\n",
    "   - $\\text{org.vudroid.core.DocumentView 135}$ - spec: map can only return null if gets null\n",
    "   \n",
    "- com.teamdc.stephendiniz.autoaway\n",
    "app: https://f-droid.org/wiki/page/com.teamdc.stephendiniz.autoaway\n",
    "file: Activity_Logger.java\n",
    "Buffered reader can return null if the underlying file doesn’t have another line.  So the following code throws a null pointer exception if the file doesn’t have an even number of lines.  Admittedly, I think the developer already knew this because of the comment.\n",
    "\n",
    "\n",
    "    551                                 //Should be in groups of TWO!\n",
    "    552                                 while((line = bReader.readLine()) != null)\n",
    "    553                                 {\n",
    "    554                                         if (line.equals(\"\\n\"))\n",
    "    555                                                 break;\n",
    "    556\n",
    "    557                                         Contact contactFromFile = new Contact(line, bReader.readLine());\n",
    "    558                                         contacts.add(contactFromFile);\n",
    "    559                                 }\n",
    "\n",
    "- org.bc_bd.mrwhite\n",
    "spec needed:\n",
    "not I(ci a.onStart()) \\/ NI(ci a.onStop(), ci a.onStart()) <= null:= ci a.getWindow\n",
    "\n",
    "\n"
   ]
  },
  {
   "cell_type": "code",
   "execution_count": null,
   "metadata": {},
   "outputs": [],
   "source": [
    "// disjunction"
   ]
  },
  {
   "cell_type": "markdown",
   "metadata": {},
   "source": [
    "Overall process\n",
    "\n",
    " - set of apps\n",
    "     - set of all dereference\n",
    "     - smallest spec to remove the most alarms\n",
    " - rq: The set of specs to prove a given location are \"small\"\n",
    "     - spec: \"small\" means that few callbacks and callins are mentioned in the specification\n",
    "     - search: we visit a small number of callbacks\n",
    "     - trace abstraction: is small \n",
    "     - thresher hypothesis: materialized heap cells at any given location is small\n",
    " - 1. Number of dereferneces that we can prove with no fwk model - filter trival ones\n",
    " - 2. we develop a specifiction to address most of the alarms\n",
    " - plot cumulative distribution - x axis is number of specs, y total number of alarms\n",
    " - plot: average number of specs actually used by the verifier to prove a location\n",
    " - spec is not vacuous:\n",
    "     - are callbacks reachable?\n",
    "     - Is spec trivially unsound? (i.e. no traces are accepted)\n",
    "\n",
    "\n",
    "\n",
    "Unreachable\n",
    "-----------\n",
    "org.ligi.etheremote/sample2/result.txt - kotlin library actually unreachable\n",
    "org.ligi.etheremote/sample0/result.txt - library method\n",
    "net.khertan.forrunners/sample1/result.txt - library method\n",
    "Witnessed\n",
    "-----------\n",
    "net.khertan.forrunners/sample2/result.txt - (library) TODO: false alarm, handle literal read `r1 = \"\"; r1.toString`\n",
    "de.sigfood/sample3/result.txt - TODO: witness on entering internal method\n",
    "de.sigfood/sample0/result.txt - (library) TODO: false alarm, @this cannot be null.\n",
    "Proven\n",
    "-----------\n",
    "org.ligi.etheremote/sample3/result.txt - \"this.something\"\n",
    "net.khertan.forrunners/sample0/result.txt - \"this.something\"\n",
    "de.sigfood/sample2/result.txt - (library) test if null before dereference\n",
    "de.sigfood/sample1/result.txt - (library) test if null before dereference\n",
    "com.ridgelineapps.resdicegame/sample0/result.txt - \"this.something\"\n",
    "Timeout\n",
    "-----------\n",
    "org.vudroid/sample1/result.txt - probably proven with simple spec:\n",
    "    - I(ci v.setOnItemClickListener(l)) <= cb l.onItemClick()\n",
    "    - TODO: why don't we find the `<init>` where `files` field is null? \n",
    "com.ridgelineapps.resdicegame/sample1/result.txt\n",
    "    - I(ci _.setPositiveButton(_,l)) <= cb l.onClick()\n",
    "    - false <= l.onClick() - avoid these by saying \"callback needs to be reachable\"\n",
    "    - \"vacuous checks\"\n",
    "Error\n",
    "-----------\n",
    "org.ligi.etheremote/sample1/stderr.txt - soot unit graph bug - in lib\n",
    "org.vudroid/sample0/stderr.txt - soot unit graph bug\n",
    "org.vudroid/sample2/stderr.txt \n",
    "    - unsupported instruction `f0 cmpl 0.0F`\n",
    "org.vudroid/sample3/stderr.txt \n",
    "    - unsupported instruction `f0 cmpl 0.0F`\n",
    "net.khertan.forrunners/sample3/stderr.txt - soot unit graph bug\n",
    "com.ridgelineapps.resdicegame/sample2/stderr.txt - soot unit graph bug\n",
    "com.ridgelineapps.resdicegame/sample3/stderr.txt \n",
    "    - unsupported instruction `ArrayReference(r4,i4) := IntConst(1);`\n",
    "\n",
    "Notes\n",
    "-----\n",
    " - Need better definition of app/library code, most of the samples above are in libraries (all 3 unreachable)\n",
    " - Should exclude trivial things like `this.toString()` from sampling \n",
    " - Fix a couple bugs\n",
    "     - Read string literal should always be non-null\n",
    "     - corner case where initial state is found when reaching the entry of an internal method\n",
    "     - Missing instructions\n",
    "     - Weird bug in soot unit graph\n",
    "     \n",
    " - justify discarding apps\n",
    "     - discard progard"
   ]
  },
  {
   "cell_type": "markdown",
   "metadata": {},
   "source": [
    "Analysis of Errors\n",
    "---------------------"
   ]
  },
  {
   "cell_type": "code",
   "execution_count": null,
   "metadata": {},
   "outputs": [],
   "source": [
    "def printErrStats():Unit = {\n",
    "    val exn = expDir.glob(\"**/stderr.txt\").toList\n",
    "        .groupBy(e => e.contentAsString.contains(\"Exception in\"))\n",
    "    val errors = exn.getOrElse(true,Set())\n",
    "    val noErrors = exn.getOrElse(false,Set())\n",
    "    println(s\"no error: ${noErrors.size}\")\n",
    "    println(s\"error: ${errors.size}\")\n",
    "\n",
    "    \n",
    "    errors.foreach{e =>\n",
    "        println(e.toString.split(\"/\").takeRight(3).mkString(\"/\"))\n",
    "    }\n",
    "    \n",
    "    errors.foreach{e => \n",
    "        println()\n",
    "        println(e)\n",
    "        println(\"----\")\n",
    "        println(e.contentAsString)\n",
    "    }\n",
    "}\n",
    "printErrStats()"
   ]
  },
  {
   "cell_type": "markdown",
   "metadata": {},
   "source": [
    "Diagnose failures"
   ]
  },
  {
   "cell_type": "code",
   "execution_count": null,
   "metadata": {},
   "outputs": [],
   "source": [
    "val cfg = File(\"/Users/shawnmeier/Documents/source/bounder/experiments/fdroid_subset_5/com.ridgelineapps.resdicegame/sample3.json\")\n",
    "val runCFG = read[RunConfig](cfg.contentAsString)\n",
    "//<com.fasterxml.jackson.databind.deser.BuilderBasedDeserializer: java.lang.Object _deserializeUsingPropertyBased(com.fasterxml.jackson.core.JsonParser,com.fasterxml.jackson.databind.DeserializationContext)>\n",
    "//Driver.readDB(runCFG)"
   ]
  },
  {
   "cell_type": "markdown",
   "metadata": {},
   "source": [
    "Non termination analysis\n",
    "-----------------------------"
   ]
  },
  {
   "cell_type": "code",
   "execution_count": null,
   "metadata": {},
   "outputs": [],
   "source": [
    "import edu.colorado.plv.bounder.symbolicexecutor.state.DBOutputMode\n",
    "def statesAtIf() = {\n",
    "    val base = \"/Users/shawnmeier/Documents/source/bounder/experiments/fdroid_subset_5/org.vudroid/sample2/\"\n",
    "    val db = DBOutputMode(s\"${base}/paths.db\")\n",
    "    val stateMap = db.statesAtLoc(\"%isPre%true%\")\n",
    "    val f = File(base) / \"statesAtLoc.txt\"\n",
    "    if(f.exists()) f.delete()\n",
    "    val locWithMultipleStates = stateMap.filter{case (_,v) => v.size > 1}\n",
    "        .toList.sortBy(v => v._2.size).reverse\n",
    "        \n",
    "    println(locWithMultipleStates.size)\n",
    "    locWithMultipleStates.foreach{case (loc,stateset) =>\n",
    "            f.append(\"\\n\")\n",
    "            f.append(loc.toString)\n",
    "            f.append(\"\\n---------\\n\")\n",
    "            stateset.foreach{state => f.append(state.toString + \"\\n\")}\n",
    "        }\n",
    "}\n",
    "statesAtIf()"
   ]
  },
  {
   "cell_type": "markdown",
   "metadata": {},
   "source": [
    "Top n apps on fdroid\n",
    "--------------------\n",
    "https://fdroid.gitlab.io/metrics/f-droid.org/2021-02-22.json"
   ]
  },
  {
   "cell_type": "code",
   "execution_count": null,
   "metadata": {},
   "outputs": [],
   "source": [
    "val stdout = new StringBuilder\n",
    "val stderr = new StringBuilder\n",
    "val p = Process(s\"ls\",\n",
    "                File(\"/Users/shawnmeier/\").toJava,\n",
    "                \"DYLD_LIBRARY_PATH\"->\"/Users/shawnmeier/software/z3/build\")\n",
    "p ! ProcessLogger(v => stdout.append(v + \"\\n\"),v => stderr.append(v + \"\\n\"))\n",
    "println(s\"stdout: ${stdout.toString}\")\n",
    "println(s\"stderr: ${stderr.toString}\")"
   ]
  },
  {
   "cell_type": "markdown",
   "metadata": {},
   "source": [
    "Other issues to check out\n",
    "------------------------------\n",
    "\n",
    "https://github.com/AntennaPod/AntennaPod/issues/4914"
   ]
  },
  {
   "cell_type": "code",
   "execution_count": null,
   "metadata": {},
   "outputs": [],
   "source": []
  }
 ],
 "metadata": {
  "kernelspec": {
   "display_name": "Scala",
   "language": "scala",
   "name": "scala"
  },
  "language_info": {
   "codemirror_mode": "text/x-scala",
   "file_extension": ".sc",
   "mimetype": "text/x-scala",
   "name": "scala",
   "nbconvert_exporter": "script",
   "version": "2.13.3"
  }
 },
 "nbformat": 4,
 "nbformat_minor": 4
}
