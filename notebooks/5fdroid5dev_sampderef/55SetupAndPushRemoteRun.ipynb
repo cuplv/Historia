{
 "cells": [
  {
   "cell_type": "code",
   "execution_count": 3,
   "metadata": {
    "tags": []
   },
   "outputs": [
    {
     "data": {
      "text/plain": [
       "\u001b[36mjniPath\u001b[39m: \u001b[32mString\u001b[39m = \u001b[32m\"/Users/shawnmeier/software/z3/build\"\u001b[39m\n",
       "\u001b[36mnewPath\u001b[39m: \u001b[32mArray\u001b[39m[\u001b[32mString\u001b[39m] = \u001b[33mArray\u001b[39m(\n",
       "  \u001b[32m\"/Users/shawnmeier/software/z3/build\"\u001b[39m,\n",
       "  \u001b[32m\"/Users/shawnmeier/software/z3/build\"\u001b[39m,\n",
       "  \u001b[32m\"/Users/shawnmeier/Library/Java/Extensions\"\u001b[39m,\n",
       "  \u001b[32m\"/Library/Java/Extensions\"\u001b[39m,\n",
       "  \u001b[32m\"/Network/Library/Java/Extensions\"\u001b[39m,\n",
       "  \u001b[32m\"/System/Library/Java/Extensions\"\u001b[39m,\n",
       "  \u001b[32m\"/usr/lib/java\"\u001b[39m,\n",
       "  \u001b[32m\".\"\u001b[39m\n",
       ")\n",
       "\u001b[36mres2_2\u001b[39m: \u001b[32mString\u001b[39m = \u001b[32m\"/Users/shawnmeier/software/z3/build:/Users/shawnmeier/Library/Java/Extensions:/Library/Java/Extensions:/Network/Library/Java/Extensions:/System/Library/Java/Extensions:/usr/lib/java:.\"\u001b[39m\n",
       "\u001b[36msysPathsField\u001b[39m: \u001b[32mjava\u001b[39m.\u001b[32mlang\u001b[39m.\u001b[32mreflect\u001b[39m.\u001b[32mField\u001b[39m = private static java.lang.String[] java.lang.ClassLoader.sys_paths\n",
       "\u001b[36mpath\u001b[39m: \u001b[32mString\u001b[39m = \u001b[32m\"/Users/shawnmeier/Documents/source/bounder/soot_hopper/target/scala-2.13/soot_hopper-assembly-0.1.jar\"\u001b[39m\n",
       "\u001b[32mimport \u001b[39m\u001b[36m$ivy.$                                          \n",
       "\u001b[39m\n",
       "\u001b[32mimport \u001b[39m\u001b[36m$ivy.$                                         \n",
       "\n",
       "\u001b[39m\n",
       "\u001b[32mimport \u001b[39m\u001b[36m$ivy.$                             \n",
       "// import $ivy.`edu.colorado.plv.bounder:soot_hopper_2.13:0.1`\n",
       "\n",
       "\u001b[39m\n",
       "\u001b[32mimport \u001b[39m\u001b[36mplotly._, element._, layout._, Plotly._\n",
       "\u001b[39m\n",
       "\u001b[32mimport \u001b[39m\u001b[36mujson.Value\n",
       "\u001b[39m\n",
       "\u001b[32mimport \u001b[39m\u001b[36msys.process._\n",
       "\u001b[39m"
      ]
     },
     "execution_count": 3,
     "metadata": {},
     "output_type": "execute_result"
    }
   ],
   "source": [
    "// hacky way to set java path since macos breaks this\n",
    "val jniPath = \"/Users/shawnmeier/software/z3/build\"\n",
    "val newPath = Array(jniPath) ++  System.getProperty(\"java.library.path\").split(\":\")\n",
    "System.setProperty(\"java.library.path\",newPath.distinct.mkString(\":\"))\n",
    "//set sys_paths to null so that java.library.path will be reevaluated next time it is needed\n",
    "val sysPathsField = classOf[ClassLoader].getDeclaredField(\"sys_paths\");\n",
    "sysPathsField.setAccessible(true);\n",
    "sysPathsField.set(null, null);\n",
    "\n",
    "val path = \"/Users/shawnmeier/Documents/source/bounder/soot_hopper/target/scala-2.13/soot_hopper-assembly-0.1.jar\"\n",
    "interp.load.cp(os.Path(path))\n",
    "\n",
    "import $ivy.`org.plotly-scala:plotly-almond_2.13:0.8.2`\n",
    "import $ivy.`com.github.pathikrit::better-files:3.9.1`\n",
    "\n",
    "import $ivy.`com.lihaoyi:ujson_2.13:1.3.8`\n",
    "// import $ivy.`edu.colorado.plv.bounder:soot_hopper_2.13:0.1`\n",
    "\n",
    "import plotly._, element._, layout._, Plotly._\n",
    "import ujson.Value\n",
    "import sys.process._\n"
   ]
  },
  {
   "cell_type": "code",
   "execution_count": 4,
   "metadata": {},
   "outputs": [
    {
     "name": "stdout",
     "output_type": "stream",
     "text": [
      "java.library.path set to: /Users/shawnmeier/software/z3/build:/Users/shawnmeier/Library/Java/Extensions:/Library/Java/Extensions:/Network/Library/Java/Extensions:/System/Library/Java/Extensions:/usr/lib/java:.\n"
     ]
    },
    {
     "data": {
      "text/plain": [
       "\u001b[32mimport \u001b[39m\u001b[36mbetter.files._\n",
       "\n",
       "\u001b[39m\n",
       "\u001b[32mimport \u001b[39m\u001b[36mscala.util.Random\n",
       "\u001b[39m\n",
       "\u001b[32mimport \u001b[39m\u001b[36medu.colorado.plv.bounder.Driver\n",
       "\u001b[39m\n",
       "\u001b[32mimport \u001b[39m\u001b[36medu.colorado.plv.bounder.Action\n",
       "\u001b[39m\n",
       "\u001b[32mimport \u001b[39m\u001b[36medu.colorado.plv.bounder.RunConfig\n",
       "\u001b[39m\n",
       "\u001b[32mimport \u001b[39m\u001b[36mupickle.default.read\n",
       "\u001b[39m\n",
       "\u001b[32mimport \u001b[39m\u001b[36mupickle.default.write\n",
       "\u001b[39m\n",
       "\u001b[32mimport \u001b[39m\u001b[36mscala.collection.parallel.CollectionConverters.{ImmutableSetIsParallelizable, IterableIsParallelizable}\n",
       "\u001b[39m\n",
       "\u001b[32mimport \u001b[39m\u001b[36medu.colorado.plv.bounder.ExperimentsDb\n",
       "\u001b[39m\n",
       "\u001b[32mimport \u001b[39m\u001b[36medu.colorado.plv.bounder.BounderUtil\n",
       "\u001b[39m\n",
       "\u001b[32mimport \u001b[39m\u001b[36mscala.concurrent.duration._\n",
       "\u001b[39m\n",
       "\u001b[32mimport \u001b[39m\u001b[36mscala.language.postfixOps\n",
       "\u001b[39m\n",
       "\u001b[32mimport \u001b[39m\u001b[36mslick.driver.H2Driver.api._\n",
       "\u001b[39m\n",
       "\u001b[32mimport \u001b[39m\u001b[36mslick.jdbc.GetResult\n",
       "\u001b[39m\n",
       "\u001b[32mimport \u001b[39m\u001b[36mslick.jdbc.SQLActionBuilder\n",
       "\u001b[39m\n",
       "\u001b[32mimport \u001b[39m\u001b[36mscala.concurrent.Await\n",
       "\u001b[39m"
      ]
     },
     "execution_count": 4,
     "metadata": {},
     "output_type": "execute_result"
    }
   ],
   "source": [
    "import better.files._\n",
    "\n",
    "import scala.util.Random\n",
    "import edu.colorado.plv.bounder.Driver\n",
    "import edu.colorado.plv.bounder.Action\n",
    "import edu.colorado.plv.bounder.RunConfig\n",
    "import upickle.default.read\n",
    "import upickle.default.write\n",
    "import scala.collection.parallel.CollectionConverters.{ImmutableSetIsParallelizable, IterableIsParallelizable}\n",
    "import edu.colorado.plv.bounder.ExperimentsDb\n",
    "import edu.colorado.plv.bounder.BounderUtil\n",
    "import scala.concurrent.duration._\n",
    "import scala.language.postfixOps\n",
    "import slick.driver.H2Driver.api._\n",
    "import slick.jdbc.GetResult\n",
    "import slick.jdbc.SQLActionBuilder\n",
    "import scala.concurrent.Await\n",
    "Driver.setZ3Path(\"/Users/shawnmeier/software/z3/build\")\n",
    "BounderUtil.setEnv(Map(\"DYLD_LIBRARY_PATH\" -> \"/Users/shawnmeier/software/z3/build\",\"ANDROID_HOME\" -> \"/Users/shawnmeier/Library/Android/sdk\",\"HOME\" -> \"/Users/shawnmeier\"))"
   ]
  },
  {
   "cell_type": "code",
   "execution_count": 27,
   "metadata": {},
   "outputs": [
    {
     "data": {
      "text/plain": [
       "\u001b[36mexpDir\u001b[39m: \u001b[32mFile\u001b[39m = /Users/shawnmeier/Documents/source/bounder/experiments/5fdroid5dev_sampderef\n",
       "\u001b[36mbaseDir\u001b[39m: \u001b[32mFile\u001b[39m = /Users/shawnmeier/Documents/data/fdroid"
      ]
     },
     "execution_count": 27,
     "metadata": {},
     "output_type": "execute_result"
    }
   ],
   "source": [
    "val expDir = File(\"/Users/shawnmeier/Documents/source/bounder/experiments/5fdroid5dev_sampderef\")\n",
    "val baseDir = File(\"/Users/shawnmeier/Documents/data/fdroid\")"
   ]
  },
  {
   "cell_type": "code",
   "execution_count": 27,
   "metadata": {},
   "outputs": [],
   "source": [
    "//// delete sample files\n",
    "//val sampleGlob = expDir.glob(\"**/sample.json\")\n",
    "//sampleGlob.foreach(f => f.delete())"
   ]
  },
  {
   "cell_type": "markdown",
   "metadata": {},
   "source": [
    "Create Config Files From List of APKs\n",
    "-------------------------------------"
   ]
  },
  {
   "cell_type": "code",
   "execution_count": 28,
   "metadata": {},
   "outputs": [
    {
     "data": {
      "text/plain": [
       "\u001b[36mres27_0\u001b[39m: \u001b[32mString\u001b[39m = \u001b[32m\"/Users/shawnmeier/Documents/source/bounder/soot_hopper\"\u001b[39m\n",
       "defined \u001b[32mfunction\u001b[39m \u001b[36mcreateConfigsFromList\u001b[39m"
      ]
     },
     "execution_count": 28,
     "metadata": {},
     "output_type": "execute_result"
    }
   ],
   "source": [
    "// Create json files for config runs\n",
    "System.setProperty(\"user.dir\", \"/Users/shawnmeier/Documents/source/bounder/soot_hopper\");\n",
    "def createConfigsFromList():Unit = {\n",
    "    val mode = Driver.SampleDeref\n",
    "    val baseConfig = RunConfig(limit = -1, samples = 50)\n",
    "    case class ApkSample(apk:String, pkg:String, outDir:File)\n",
    "    val apkSamples = (expDir / \"appSample.txt\")\n",
    "        .contentAsString\n",
    "        .split(\"\\n\")map{v => \n",
    "            val pkg = v.split(\":\")(1)\n",
    "            println(s\"package: $pkg\")\n",
    "            val apk = v.split(\":\")(0)\n",
    "            val apkDirCfg = apk.toString.replace(baseDir.toString,\"${baseDir}\")\n",
    "            val outDirCfg = \"${baseDirOut}/\" + pkg\n",
    "            val outDir = expDir / pkg\n",
    "//             val getSample = outDir / \"getSample.json\"\n",
    "//             if(getSample.exists())getSample.delete()\n",
    "            val cfg = baseConfig.copy(apkPath=apkDirCfg, outFolder=Some(outDirCfg), samples=200) // 5 dereference samples per class\n",
    "//             getSample.append(write[RunConfig](cfg))\n",
    "            outDir.createIfNotExists(true)\n",
    "            // sample dereference locations\n",
    "            Action(Driver.SampleDeref, Some(expDir.toString), Some(baseDir.toString),\n",
    "                   cfg, filter=Some(pkg))\n",
    "        }\n",
    "    apkSamples.foreach{action => \n",
    "        println(s\"action: ${action}\")\n",
    "        Driver.runAction(action)\n",
    "    }\n",
    "}\n",
    "//createConfigsFromList()"
   ]
  },
  {
   "cell_type": "code",
   "execution_count": 29,
   "metadata": {},
   "outputs": [
    {
     "data": {
      "text/plain": [
       "\u001b[36mres28\u001b[39m: \u001b[32mInt\u001b[39m = \u001b[32m5\u001b[39m"
      ]
     },
     "execution_count": 29,
     "metadata": {},
     "output_type": "execute_result"
    }
   ],
   "source": [
    "expDir.glob(\"**/*.json\").toList.size"
   ]
  },
  {
   "cell_type": "markdown",
   "metadata": {},
   "source": [
    "Upload needed files to database\n",
    "-------------------------------"
   ]
  },
  {
   "cell_type": "code",
   "execution_count": 30,
   "metadata": {},
   "outputs": [
    {
     "name": "stdout",
     "output_type": "stream",
     "text": [
      "Initializing database\n"
     ]
    },
    {
     "data": {
      "text/plain": [
       "\u001b[36mdb\u001b[39m: \u001b[32mExperimentsDb\u001b[39m = edu.colorado.plv.bounder.ExperimentsDb@47b38541"
      ]
     },
     "execution_count": 30,
     "metadata": {},
     "output_type": "execute_result"
    }
   ],
   "source": [
    "val db = new ExperimentsDb(Some(\"/Users/shawnmeier/Documents/source/bounder/soot_hopper/target/scala-2.13/soot_hopper-assembly-0.1.jar\"))"
   ]
  },
  {
   "cell_type": "code",
   "execution_count": 31,
   "metadata": {},
   "outputs": [
    {
     "data": {
      "text/plain": [
       "defined \u001b[32mfunction\u001b[39m \u001b[36muploadApks\u001b[39m"
      ]
     },
     "execution_count": 31,
     "metadata": {},
     "output_type": "execute_result"
    }
   ],
   "source": [
    "// Upload data of APK files to database for experiments\n",
    "def uploadApks() = {\n",
    "    def appList = (expDir / \"appSample.txt\").contentAsString.split(\"\\n\")\n",
    "        .map{v => \n",
    "            val spl = v.split(\":\")\n",
    "            val name = spl(0).replace(baseDir.toString,\"\")\n",
    "            val path = spl(0)\n",
    "            (name,path)\n",
    "        }\n",
    "    appList.foreach(a => db.uploadApk(a._1,File(a._2)))\n",
    "}\n",
    "uploadApks()"
   ]
  },
  {
   "cell_type": "markdown",
   "metadata": {},
   "source": [
    "Empty spec set all deref\n",
    "========================"
   ]
  },
  {
   "cell_type": "code",
   "execution_count": 32,
   "metadata": {},
   "outputs": [
    {
     "data": {
      "text/plain": [
       "\u001b[36memptyCfg\u001b[39m: \u001b[32mInt\u001b[39m = \u001b[32m2\u001b[39m"
      ]
     },
     "execution_count": 32,
     "metadata": {},
     "output_type": "execute_result"
    }
   ],
   "source": [
    "// Create empty spec run config\n",
    "val emptyCfg = db.createConfig(\n",
    "    File(\"/Users/shawnmeier/Documents/source/bounder/soot_hopper/specs/emptySpec.txt\"),\n",
    "    File(\"/Users/shawnmeier/Documents/source/bounder/soot_hopper/target/scala-2.13/soot_hopper-assembly-0.1.jar\"),\n",
    "    \"Empty spec set\"\n",
    ")"
   ]
  },
  {
   "cell_type": "code",
   "execution_count": 33,
   "metadata": {},
   "outputs": [
    {
     "data": {
      "text/plain": [
       "defined \u001b[32mfunction\u001b[39m \u001b[36msetTimeout\u001b[39m"
      ]
     },
     "execution_count": 33,
     "metadata": {},
     "output_type": "execute_result"
    }
   ],
   "source": [
    "// update timeout in run config\n",
    "def setTimeout(nt:Int) = {\n",
    "    val configs = expDir.glob(\"**/*.json\")\n",
    "    configs.foreach{cfgf =>\n",
    "        val cfg = read[RunConfig](cfgf.contentAsString)\n",
    "        cfgf.delete()\n",
    "        cfgf.overwrite(write[RunConfig](cfg.copy(timeLimit=nt)))\n",
    "    }\n",
    "//     write[RunConfig](.map{c => read[RunConfig](c.contentAsString)}.toList.head.copy(timeLimit = 180))\n",
    "}\n",
    "setTimeout(180)"
   ]
  },
  {
   "cell_type": "code",
   "execution_count": 34,
   "metadata": {},
   "outputs": [
    {
     "data": {
      "text/plain": [
       "defined \u001b[32mfunction\u001b[39m \u001b[36mpushExp\u001b[39m"
      ]
     },
     "execution_count": 34,
     "metadata": {},
     "output_type": "execute_result"
    }
   ],
   "source": [
    "// push experiment .json files to database\n",
    "def pushExp() = {\n",
    "    val experiments = expDir.glob(\"**/*.json\").toList\n",
    "    experiments.foreach(v => db.createJob(v, Some(\"empty1\"), emptyCfg))\n",
    "}\n",
    "pushExp()"
   ]
  },
  {
   "cell_type": "markdown",
   "metadata": {},
   "source": [
    "Bulk Job Tasks\n",
    "=============="
   ]
  },
  {
   "cell_type": "code",
   "execution_count": 22,
   "metadata": {
    "tags": []
   },
   "outputs": [
    {
     "data": {
      "text/plain": [
       "defined \u001b[32mclass\u001b[39m \u001b[36mCount\u001b[39m\n",
       "defined \u001b[32mclass\u001b[39m \u001b[36mStrRes\u001b[39m\n",
       "\u001b[36mgetCountResult\u001b[39m: \u001b[32mAnyRef\u001b[39m with \u001b[32mGetResult\u001b[39m[\u001b[32mCount\u001b[39m] = <function1>\n",
       "\u001b[36mgetStrResult\u001b[39m: \u001b[32mAnyRef\u001b[39m with \u001b[32mGetResult\u001b[39m[\u001b[32mStrRes\u001b[39m] = <function1>\n",
       "defined \u001b[32mfunction\u001b[39m \u001b[36mpauseJobs\u001b[39m\n",
       "defined \u001b[32mfunction\u001b[39m \u001b[36mresumeJobs\u001b[39m\n",
       "defined \u001b[32mfunction\u001b[39m \u001b[36mclearInputs\u001b[39m\n",
       "defined \u001b[32mfunction\u001b[39m \u001b[36mresetJobs\u001b[39m\n",
       "defined \u001b[32mfunction\u001b[39m \u001b[36mclearResults\u001b[39m"
      ]
     },
     "execution_count": 22,
     "metadata": {},
     "output_type": "execute_result"
    }
   ],
   "source": [
    "case class Count(n:Int)\n",
    "case class StrRes(s:String)\n",
    "implicit val getCountResult = GetResult(r => Count(r.<<))\n",
    "implicit val getStrResult = GetResult(r => StrRes(r.<<))\n",
    "\n",
    "def pauseJobs() = {\n",
    "    val pauseJobsQ = sql\"\"\"update jobs set status='paused' where status='new';\"\"\"\n",
    "    Await.result(db.db.run(pauseJobsQ.as[StrRes]), 30 seconds)\n",
    "}\n",
    "def resumeJobs() = {\n",
    "    val pauseJobsQ = sql\"\"\"update jobs set status='new' where status='paused';\"\"\"\n",
    "    Await.result(db.db.run(pauseJobsQ.as[StrRes]), 30 seconds)\n",
    "}\n",
    "def clearInputs() = {\n",
    "    val clearInputsQ = sql\"\"\"delete from apks where apkname like 'jar_%' or apkname like 'spec_%';\"\"\"\n",
    "    Await.result(db.db.run(clearInputsQ.as[StrRes]), 30 seconds)\n",
    "    val clearInputsTableQ = sql\"\"\"delete from inputs;\"\"\"\n",
    "    Await.result(db.db.run(clearInputsTableQ.as[StrRes]), 30 seconds)\n",
    "}\n",
    "def resetJobs() = {\n",
    "    val resetJobsQ = sql\"\"\"update jobs set inputid=4, stderr='',stdout='',owner='',started=NULL,ended=NULL,status='new';\"\"\"\n",
    "    Await.result(db.db.run(resetJobsQ.as[StrRes]), 30 seconds)\n",
    "}\n",
    "def clearResults(){\n",
    "    val clearResults = sql\"\"\"delete from results; delete from resultdata;\"\"\"\n",
    "    Await.result(db.db.run(clearResults.as[StrRes]), 30 seconds)\n",
    "}\n",
    "// def pushJarAndResetJobs(){\n",
    "//     clearInputs()\n",
    "//     clearResults()\n",
    "//     emptySpecRunConfig()\n",
    "//     resetJobs()\n",
    "// }\n",
    "\n",
    "//Await.result(db.db.run(sql\"\"\"select count(*) from results;\"\"\".as[Count]), 30 seconds)"
   ]
  },
  {
   "cell_type": "code",
   "execution_count": 36,
   "metadata": {},
   "outputs": [
    {
     "data": {
      "text/plain": [
       "\u001b[36mres35\u001b[39m: \u001b[32mVector\u001b[39m[\u001b[32mStrRes\u001b[39m] = \u001b[33mVector\u001b[39m(\u001b[32m146\u001b[39m)"
      ]
     },
     "execution_count": 36,
     "metadata": {},
     "output_type": "execute_result"
    }
   ],
   "source": [
    "// clearInputs()\n",
    "// resetJobs()"
   ]
  },
  {
   "cell_type": "code",
   "execution_count": null,
   "metadata": {},
   "outputs": [],
   "source": [
    "//db.downloadApk(\"/com.gpl.rpg.AndorsTrail/0.7.5/apk/com.gpl.rpg.AndorsTrail_46.apk\", File(\"/Users/shawnmeier/Desktop/testDownload.apk\"))"
   ]
  },
  {
   "cell_type": "code",
   "execution_count": 28,
   "metadata": {},
   "outputs": [
    {
     "data": {
      "text/plain": [
       "\u001b[36mres27\u001b[39m: \u001b[32mBoolean\u001b[39m = false"
      ]
     },
     "execution_count": 28,
     "metadata": {},
     "output_type": "execute_result"
    }
   ],
   "source": [
    "File(\"/dev/shm\").exists()"
   ]
  },
  {
   "cell_type": "code",
   "execution_count": null,
   "metadata": {},
   "outputs": [],
   "source": []
  }
 ],
 "metadata": {
  "kernelspec": {
   "display_name": "Scala",
   "language": "scala",
   "name": "scala"
  },
  "language_info": {
   "codemirror_mode": "text/x-scala",
   "file_extension": ".sc",
   "mimetype": "text/x-scala",
   "name": "scala",
   "nbconvert_exporter": "script",
   "version": "2.13.3"
  }
 },
 "nbformat": 4,
 "nbformat_minor": 4
}
