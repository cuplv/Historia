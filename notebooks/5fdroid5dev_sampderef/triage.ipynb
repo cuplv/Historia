{
 "cells": [
  {
   "cell_type": "code",
   "execution_count": 1,
   "metadata": {},
   "outputs": [
    {
     "name": "stderr",
     "output_type": "stream",
     "text": [
      "/Users/shawnmeier/.pyenv/versions/3.6.5/lib/python3.6/site-packages/pandas/compat/__init__.py:117: UserWarning: Could not import the lzma module. Your installed Python is incomplete. Attempting to use lzma compression will result in a RuntimeError.\n",
      "  warnings.warn(msg)\n"
     ]
    }
   ],
   "source": [
    "import pandas as pd\n",
    "import pylab\n",
    "import json\n",
    "%matplotlib inline\n",
    "import matplotlib.pyplot as plt\n",
    "plt.style.use('seaborn-whitegrid')\n",
    "import numpy as np\n",
    "from IPython.core import display\n",
    "import psycopg2\n",
    "import os\n",
    "homedir = os.getenv(\"HOME\")\n",
    "with open(homedir + \"/.pgpass\",'r') as pgfile:\n",
    "    pgdat = pgfile.read().strip().split(\":\")\n",
    "    pgurl = pgdat[0]\n",
    "    pgport = pgdat[1]\n",
    "    pgdb = pgdat[2]\n",
    "    pguser = pgdat[3]\n",
    "    pgpass = pgdat[4]\n",
    "\n",
    "%load_ext sql\n",
    "from sqlalchemy import create_engine\n",
    "# sql info: https://github.com/catherinedevlin/ipython-sql\n",
    "#uncomment for remote\n",
    "pgport=3333\n",
    "# pgport=5433\n",
    "engine = create_engine('postgresql://postgres@localhost:%i/postgres' % pgport)\n",
    "db = psycopg2.connect(host=pgurl, database=pgdb, user=pguser,password=pgpass,port=pgport)"
   ]
  },
  {
   "cell_type": "markdown",
   "metadata": {},
   "source": [
    "Experimental notes\n",
    "- [ ] Choose 10 apps (5 from fdroid and 5 from google samples) - sample dereference locations\n",
    "- [ ] results with no framework model - numbers alarm, proven, timeout\n",
    "- [ ] specify something from documentation (fragment/activity lifecycle)\n",
    "- [ ] try with existing model from 4 pull request specs\n",
    "- [ ] (most optional) choose some locations and manually write the specs\n",
    "- [ ] look into how to run pipeline with infer/error prone\n",
    "- [ ] look at nullaway\n",
    "- [ ] does nullaway/infer/etc have a benchmark set that we could use?\n",
    "- [ ] would like infer as a comparison for 4 pull requests\n",
    "\n",
    "priority minimum bar by mar 15th (ok to need some more compute or re-run, but draft results):\n",
    "1. run the generalizability experiment on 10 apps with some specicfication refinement (without infer)\n",
    "1. run infer on pr examples\n",
    "\n",
    "notes apr 1 2022:\n",
    "\n",
    "Would like to know what the parameters of the experiment will be by 15th\n",
    "\n",
    "most important number: %proven\n",
    "filteting experiment: start with running on 2k deref sites report alarms, filter alarms based on lifecycle\n",
    "\n",
    "Is our counter example something that can reproduce the bug? Is the witness trace reaalizable?\n",
    "\n",
    "We are at least getting to the capability of being able to report the order of callbacks that likely witnesses the callbacks.  Typical analysi only says we get an alarm.  We try our best to get to a proof, but if we stop, we say we have explored all cb order up to depth k and still have not found the alarm.  Every time we find an alarm, it turns out to be something realizeable.\n",
    "\n",
    "hypothesis: every true alarm is realizable in under 10 callbacks\n",
    "\n",
    "evaluation criteria for \"is this a realizable trace?\": I android expert (c) examined it and it appears to be real.  Get a sense of how hard it would be to use this tool. Generalizability study is the test for this.\n",
    "\n",
    "\n",
    "time how long it takes shawn to write extra specsf: hrs\n",
    "\n",
    "Threat to validity: I am the tool developer and measuring my success with it, but it is a reasonable proxy for \"expert tool user\"\n",
    "\n",
    "\"usefullness research question\"\n",
    "\n",
    "we can say that widening is out of scope for this paper (next paper will address this)\n"
   ]
  },
  {
   "cell_type": "code",
   "execution_count": 2,
   "metadata": {},
   "outputs": [],
   "source": [
    "def qry(q):\n",
    "  return pd.read_sql_query(con = db, sql = q)\n",
    "# pd.set_option(\"max_colwidth\", None)\n",
    "# pd.set_option('display.max_columns', None)\n",
    "pd.set_option(\"display.latex.repr\", False)\n",
    "pd.set_option(\"display.latex.escape\", True)\n",
    "\n",
    "def iDisplay(v):\n",
    "    with pd.option_context('display.max_rows', None, 'display.max_columns', None, \"max_colwidth\", None):\n",
    "        display.display(v)\n"
   ]
  },
  {
   "cell_type": "code",
   "execution_count": 3,
   "metadata": {},
   "outputs": [
    {
     "name": "stdout",
     "output_type": "stream",
     "text": [
      "1 rows affected.\n"
     ]
    },
    {
     "data": {
      "text/html": [
       "<table>\n",
       "    <tr>\n",
       "        <th>count</th>\n",
       "    </tr>\n",
       "    <tr>\n",
       "        <td>5</td>\n",
       "    </tr>\n",
       "</table>"
      ],
      "text/plain": [
       "[(5,)]"
      ]
     },
     "execution_count": 3,
     "metadata": {},
     "output_type": "execute_result"
    }
   ],
   "source": [
    "%%sql postgresql://postgres@localhost:$pgport/postgres\n",
    "select count(*) from apks where apkname not like 'jar_%' and apkname not like 'spec_%';"
   ]
  },
  {
   "cell_type": "code",
   "execution_count": 4,
   "metadata": {},
   "outputs": [
    {
     "name": "stdout",
     "output_type": "stream",
     "text": [
      " * postgresql://postgres@localhost:3333/postgres\n",
      "1 rows affected.\n"
     ]
    },
    {
     "data": {
      "text/html": [
       "<table>\n",
       "    <tr>\n",
       "        <th>completed_jobs</th>\n",
       "        <th>paused_jobs</th>\n",
       "        <th>acquired_jobs</th>\n",
       "        <th>body_exception</th>\n",
       "        <th>exception</th>\n",
       "        <th>refl_exception</th>\n",
       "        <th>worker_failure</th>\n",
       "        <th>possible_cg_unsound</th>\n",
       "        <th>total_jobs</th>\n",
       "    </tr>\n",
       "    <tr>\n",
       "        <td>90</td>\n",
       "        <td>0</td>\n",
       "        <td>0</td>\n",
       "        <td>0</td>\n",
       "        <td>0</td>\n",
       "        <td>0</td>\n",
       "        <td>0</td>\n",
       "        <td>0</td>\n",
       "        <td>90</td>\n",
       "    </tr>\n",
       "</table>"
      ],
      "text/plain": [
       "[(90, 0, 0, 0, 0, 0, 0, 0, 90)]"
      ]
     },
     "execution_count": 4,
     "metadata": {},
     "output_type": "execute_result"
    }
   ],
   "source": [
    "%%sql\n",
    "select \n",
    "    (select count(*) from jobs where status = 'completed') as Completed_Jobs,\n",
    "    (select count(*) from jobs where status = 'paused') as Paused_Jobs,\n",
    "    (select count(*) from jobs where status = 'acquired') as Acquired_jobs,\n",
    "    (select count(id) from jobs \n",
    "       where stderr like '%Exception%no active body present for method%') as Body_Exception,\n",
    "    (select count(id) from jobs where stderr like '%Exception%') as Exception,\n",
    "    (select count(id) from jobs where stderr like '%Failed t\n",
    "     o parse reflective type reference%') as Refl_exception,\n",
    "    (select count(id) from jobs where status like 'failed%') as worker_failure,\n",
    "    (select count(id) from jobs where stdout like '%empty pred lZocation%') as possible_cg_unsound,\n",
    "    (select count(*) from jobs) as Total_Jobs"
   ]
  },
  {
   "cell_type": "markdown",
   "metadata": {},
   "source": [
    "18: 10:12 pm\n",
    "20: 10:16 pm\n",
    "24: 11:26 pm"
   ]
  },
  {
   "cell_type": "markdown",
   "metadata": {},
   "source": [
    "Failing apks"
   ]
  },
  {
   "cell_type": "code",
   "execution_count": 5,
   "metadata": {},
   "outputs": [
    {
     "name": "stdout",
     "output_type": "stream",
     "text": [
      " * postgresql://postgres@localhost:3333/postgres\n",
      "0 rows affected.\n"
     ]
    },
    {
     "data": {
      "text/html": [
       "<table>\n",
       "    <tr>\n",
       "        <th>text</th>\n",
       "    </tr>\n",
       "</table>"
      ],
      "text/plain": [
       "[]"
      ]
     },
     "execution_count": 5,
     "metadata": {},
     "output_type": "execute_result"
    }
   ],
   "source": [
    "%%sql\n",
    "select cast(config::json->'apkPath' as text) from jobs \n",
    "        where stderr like '%Exception' group by cast(config::json->'apkPath' as text) ;"
   ]
  },
  {
   "cell_type": "code",
   "execution_count": 6,
   "metadata": {},
   "outputs": [
    {
     "name": "stdout",
     "output_type": "stream",
     "text": [
      " * postgresql://postgres@localhost:3333/postgres\n",
      "1 rows affected.\n"
     ]
    },
    {
     "data": {
      "text/html": [
       "<table>\n",
       "    <tr>\n",
       "        <th>count</th>\n",
       "    </tr>\n",
       "    <tr>\n",
       "        <td>0</td>\n",
       "    </tr>\n",
       "</table>"
      ],
      "text/plain": [
       "[(0,)]"
      ]
     },
     "execution_count": 6,
     "metadata": {},
     "output_type": "execute_result"
    }
   ],
   "source": [
    "# err = %sql select stderr from jobs where stderr like '%Exception%' order by random() limit 1;\n",
    "# print(err.DataFrame()['stderr'][0])\n",
    "%sql select count(id) from jobs where stderr like '%The database file is locked%';"
   ]
  },
  {
   "cell_type": "code",
   "execution_count": 7,
   "metadata": {
    "collapsed": true,
    "jupyter": {
     "outputs_hidden": true
    },
    "tags": []
   },
   "outputs": [
    {
     "name": "stdout",
     "output_type": "stream",
     "text": [
      " * postgresql://postgres@localhost:3333/postgres\n",
      "0 rows affected.\n"
     ]
    },
    {
     "ename": "KeyError",
     "evalue": "'classname'",
     "output_type": "error",
     "traceback": [
      "\u001b[0;31m---------------------------------------------------------------------------\u001b[0m",
      "\u001b[0;31mKeyError\u001b[0m                                  Traceback (most recent call last)",
      "\u001b[0;32m~/.pyenv/versions/3.6.5/lib/python3.6/site-packages/pandas/core/indexes/base.py\u001b[0m in \u001b[0;36mget_loc\u001b[0;34m(self, key, method, tolerance)\u001b[0m\n\u001b[1;32m   2645\u001b[0m             \u001b[0;32mtry\u001b[0m\u001b[0;34m:\u001b[0m\u001b[0;34m\u001b[0m\u001b[0m\n\u001b[0;32m-> 2646\u001b[0;31m                 \u001b[0;32mreturn\u001b[0m \u001b[0mself\u001b[0m\u001b[0;34m.\u001b[0m\u001b[0m_engine\u001b[0m\u001b[0;34m.\u001b[0m\u001b[0mget_loc\u001b[0m\u001b[0;34m(\u001b[0m\u001b[0mkey\u001b[0m\u001b[0;34m)\u001b[0m\u001b[0;34m\u001b[0m\u001b[0m\n\u001b[0m\u001b[1;32m   2647\u001b[0m             \u001b[0;32mexcept\u001b[0m \u001b[0mKeyError\u001b[0m\u001b[0;34m:\u001b[0m\u001b[0;34m\u001b[0m\u001b[0m\n",
      "\u001b[0;32mpandas/_libs/index.pyx\u001b[0m in \u001b[0;36mpandas._libs.index.IndexEngine.get_loc\u001b[0;34m()\u001b[0m\n",
      "\u001b[0;32mpandas/_libs/index.pyx\u001b[0m in \u001b[0;36mpandas._libs.index.IndexEngine.get_loc\u001b[0;34m()\u001b[0m\n",
      "\u001b[0;32mpandas/_libs/hashtable_class_helper.pxi\u001b[0m in \u001b[0;36mpandas._libs.hashtable.PyObjectHashTable.get_item\u001b[0;34m()\u001b[0m\n",
      "\u001b[0;32mpandas/_libs/hashtable_class_helper.pxi\u001b[0m in \u001b[0;36mpandas._libs.hashtable.PyObjectHashTable.get_item\u001b[0;34m()\u001b[0m\n",
      "\u001b[0;31mKeyError\u001b[0m: 'classname'",
      "\nDuring handling of the above exception, another exception occurred:\n",
      "\u001b[0;31mKeyError\u001b[0m                                  Traceback (most recent call last)",
      "\u001b[0;32m<ipython-input-7-2a350adb4631>\u001b[0m in \u001b[0;36m<module>\u001b[0;34m\u001b[0m\n\u001b[1;32m      2\u001b[0m \u001b[0merr\u001b[0m \u001b[0;34m=\u001b[0m \u001b[0mget_ipython\u001b[0m\u001b[0;34m(\u001b[0m\u001b[0;34m)\u001b[0m\u001b[0;34m.\u001b[0m\u001b[0mrun_line_magic\u001b[0m\u001b[0;34m(\u001b[0m\u001b[0;34m'sql'\u001b[0m\u001b[0;34m,\u001b[0m \u001b[0;34m\"select (config::json->'initialQuery'->>0) as classname,stderr from jobs      where stderr like '%Exception%' and stderr not like '%no active body%' order by random() limit 1;\"\u001b[0m\u001b[0;34m)\u001b[0m\u001b[0;34m\u001b[0m\u001b[0m\n\u001b[1;32m      3\u001b[0m \u001b[0mdf\u001b[0m \u001b[0;34m=\u001b[0m \u001b[0merr\u001b[0m\u001b[0;34m.\u001b[0m\u001b[0mDataFrame\u001b[0m\u001b[0;34m(\u001b[0m\u001b[0;34m)\u001b[0m\u001b[0;34m\u001b[0m\u001b[0m\n\u001b[0;32m----> 4\u001b[0;31m \u001b[0mprint\u001b[0m\u001b[0;34m(\u001b[0m\u001b[0mdf\u001b[0m\u001b[0;34m[\u001b[0m\u001b[0;34m'classname'\u001b[0m\u001b[0;34m]\u001b[0m\u001b[0;34m[\u001b[0m\u001b[0;36m0\u001b[0m\u001b[0;34m]\u001b[0m\u001b[0;34m)\u001b[0m\u001b[0;34m\u001b[0m\u001b[0m\n\u001b[0m\u001b[1;32m      5\u001b[0m \u001b[0mprint\u001b[0m\u001b[0;34m(\u001b[0m\u001b[0mdf\u001b[0m\u001b[0;34m[\u001b[0m\u001b[0;34m'stderr'\u001b[0m\u001b[0;34m]\u001b[0m\u001b[0;34m[\u001b[0m\u001b[0;36m0\u001b[0m\u001b[0;34m]\u001b[0m\u001b[0;34m[\u001b[0m\u001b[0;34m:\u001b[0m\u001b[0;36m400\u001b[0m\u001b[0;34m]\u001b[0m\u001b[0;34m)\u001b[0m\u001b[0;34m\u001b[0m\u001b[0m\n",
      "\u001b[0;32m~/.pyenv/versions/3.6.5/lib/python3.6/site-packages/pandas/core/frame.py\u001b[0m in \u001b[0;36m__getitem__\u001b[0;34m(self, key)\u001b[0m\n\u001b[1;32m   2798\u001b[0m             \u001b[0;32mif\u001b[0m \u001b[0mself\u001b[0m\u001b[0;34m.\u001b[0m\u001b[0mcolumns\u001b[0m\u001b[0;34m.\u001b[0m\u001b[0mnlevels\u001b[0m \u001b[0;34m>\u001b[0m \u001b[0;36m1\u001b[0m\u001b[0;34m:\u001b[0m\u001b[0;34m\u001b[0m\u001b[0m\n\u001b[1;32m   2799\u001b[0m                 \u001b[0;32mreturn\u001b[0m \u001b[0mself\u001b[0m\u001b[0;34m.\u001b[0m\u001b[0m_getitem_multilevel\u001b[0m\u001b[0;34m(\u001b[0m\u001b[0mkey\u001b[0m\u001b[0;34m)\u001b[0m\u001b[0;34m\u001b[0m\u001b[0m\n\u001b[0;32m-> 2800\u001b[0;31m             \u001b[0mindexer\u001b[0m \u001b[0;34m=\u001b[0m \u001b[0mself\u001b[0m\u001b[0;34m.\u001b[0m\u001b[0mcolumns\u001b[0m\u001b[0;34m.\u001b[0m\u001b[0mget_loc\u001b[0m\u001b[0;34m(\u001b[0m\u001b[0mkey\u001b[0m\u001b[0;34m)\u001b[0m\u001b[0;34m\u001b[0m\u001b[0m\n\u001b[0m\u001b[1;32m   2801\u001b[0m             \u001b[0;32mif\u001b[0m \u001b[0mis_integer\u001b[0m\u001b[0;34m(\u001b[0m\u001b[0mindexer\u001b[0m\u001b[0;34m)\u001b[0m\u001b[0;34m:\u001b[0m\u001b[0;34m\u001b[0m\u001b[0m\n\u001b[1;32m   2802\u001b[0m                 \u001b[0mindexer\u001b[0m \u001b[0;34m=\u001b[0m \u001b[0;34m[\u001b[0m\u001b[0mindexer\u001b[0m\u001b[0;34m]\u001b[0m\u001b[0;34m\u001b[0m\u001b[0m\n",
      "\u001b[0;32m~/.pyenv/versions/3.6.5/lib/python3.6/site-packages/pandas/core/indexes/base.py\u001b[0m in \u001b[0;36mget_loc\u001b[0;34m(self, key, method, tolerance)\u001b[0m\n\u001b[1;32m   2646\u001b[0m                 \u001b[0;32mreturn\u001b[0m \u001b[0mself\u001b[0m\u001b[0;34m.\u001b[0m\u001b[0m_engine\u001b[0m\u001b[0;34m.\u001b[0m\u001b[0mget_loc\u001b[0m\u001b[0;34m(\u001b[0m\u001b[0mkey\u001b[0m\u001b[0;34m)\u001b[0m\u001b[0;34m\u001b[0m\u001b[0m\n\u001b[1;32m   2647\u001b[0m             \u001b[0;32mexcept\u001b[0m \u001b[0mKeyError\u001b[0m\u001b[0;34m:\u001b[0m\u001b[0;34m\u001b[0m\u001b[0m\n\u001b[0;32m-> 2648\u001b[0;31m                 \u001b[0;32mreturn\u001b[0m \u001b[0mself\u001b[0m\u001b[0;34m.\u001b[0m\u001b[0m_engine\u001b[0m\u001b[0;34m.\u001b[0m\u001b[0mget_loc\u001b[0m\u001b[0;34m(\u001b[0m\u001b[0mself\u001b[0m\u001b[0;34m.\u001b[0m\u001b[0m_maybe_cast_indexer\u001b[0m\u001b[0;34m(\u001b[0m\u001b[0mkey\u001b[0m\u001b[0;34m)\u001b[0m\u001b[0;34m)\u001b[0m\u001b[0;34m\u001b[0m\u001b[0m\n\u001b[0m\u001b[1;32m   2649\u001b[0m         \u001b[0mindexer\u001b[0m \u001b[0;34m=\u001b[0m \u001b[0mself\u001b[0m\u001b[0;34m.\u001b[0m\u001b[0mget_indexer\u001b[0m\u001b[0;34m(\u001b[0m\u001b[0;34m[\u001b[0m\u001b[0mkey\u001b[0m\u001b[0;34m]\u001b[0m\u001b[0;34m,\u001b[0m \u001b[0mmethod\u001b[0m\u001b[0;34m=\u001b[0m\u001b[0mmethod\u001b[0m\u001b[0;34m,\u001b[0m \u001b[0mtolerance\u001b[0m\u001b[0;34m=\u001b[0m\u001b[0mtolerance\u001b[0m\u001b[0;34m)\u001b[0m\u001b[0;34m\u001b[0m\u001b[0m\n\u001b[1;32m   2650\u001b[0m         \u001b[0;32mif\u001b[0m \u001b[0mindexer\u001b[0m\u001b[0;34m.\u001b[0m\u001b[0mndim\u001b[0m \u001b[0;34m>\u001b[0m \u001b[0;36m1\u001b[0m \u001b[0;32mor\u001b[0m \u001b[0mindexer\u001b[0m\u001b[0;34m.\u001b[0m\u001b[0msize\u001b[0m \u001b[0;34m>\u001b[0m \u001b[0;36m1\u001b[0m\u001b[0;34m:\u001b[0m\u001b[0;34m\u001b[0m\u001b[0m\n",
      "\u001b[0;32mpandas/_libs/index.pyx\u001b[0m in \u001b[0;36mpandas._libs.index.IndexEngine.get_loc\u001b[0;34m()\u001b[0m\n",
      "\u001b[0;32mpandas/_libs/index.pyx\u001b[0m in \u001b[0;36mpandas._libs.index.IndexEngine.get_loc\u001b[0;34m()\u001b[0m\n",
      "\u001b[0;32mpandas/_libs/hashtable_class_helper.pxi\u001b[0m in \u001b[0;36mpandas._libs.hashtable.PyObjectHashTable.get_item\u001b[0;34m()\u001b[0m\n",
      "\u001b[0;32mpandas/_libs/hashtable_class_helper.pxi\u001b[0m in \u001b[0;36mpandas._libs.hashtable.PyObjectHashTable.get_item\u001b[0;34m()\u001b[0m\n",
      "\u001b[0;31mKeyError\u001b[0m: 'classname'"
     ]
    }
   ],
   "source": [
    "# # get \n",
    "# err = %sql select (config::json->'initialQuery'->>0) as classname,stderr from jobs \\\n",
    "#     where stderr like '%Exception%' and stderr not like '%no active body%' order by random() limit 1;\n",
    "# df = err.DataFrame()\n",
    "# print(df['classname'][0])\n",
    "# print(df['stderr'][0][:400])"
   ]
  },
  {
   "cell_type": "code",
   "execution_count": 8,
   "metadata": {},
   "outputs": [
    {
     "name": "stdout",
     "output_type": "stream",
     "text": [
      " * postgresql://postgres@localhost:3333/postgres\n",
      "5 rows affected.\n"
     ]
    },
    {
     "data": {
      "text/html": [
       "<table>\n",
       "    <tr>\n",
       "        <th>app</th>\n",
       "        <th>count</th>\n",
       "    </tr>\n",
       "    <tr>\n",
       "        <td>&quot;${baseDir}/com.health.openscale/2.1.0/apk/com.health.openscale_45.apk&quot;</td>\n",
       "        <td>18</td>\n",
       "    </tr>\n",
       "    <tr>\n",
       "        <td>&quot;${baseDir}/org.andstatus.app/51.02/apk/org.andstatus.app_298.apk&quot;</td>\n",
       "        <td>18</td>\n",
       "    </tr>\n",
       "    <tr>\n",
       "        <td>&quot;${baseDir}/com.duckduckgo.mobile.android/5.32.1/apk/com.duckduckgo.mobile.android_53201.apk&quot;</td>\n",
       "        <td>18</td>\n",
       "    </tr>\n",
       "    <tr>\n",
       "        <td>&quot;${baseDir}/com.gianlu.aria2android/2.1.7/apk/com.gianlu.aria2android_57.apk&quot;</td>\n",
       "        <td>18</td>\n",
       "    </tr>\n",
       "    <tr>\n",
       "        <td>&quot;${baseDir}/com.lyonbros.turtl/0.7.2.5/apk/com.lyonbros.turtl_7250.apk&quot;</td>\n",
       "        <td>18</td>\n",
       "    </tr>\n",
       "</table>"
      ],
      "text/plain": [
       "[('\"${baseDir}/com.health.openscale/2.1.0/apk/com.health.openscale_45.apk\"', 18),\n",
       " ('\"${baseDir}/org.andstatus.app/51.02/apk/org.andstatus.app_298.apk\"', 18),\n",
       " ('\"${baseDir}/com.duckduckgo.mobile.android/5.32.1/apk/com.duckduckgo.mobile.android_53201.apk\"', 18),\n",
       " ('\"${baseDir}/com.gianlu.aria2android/2.1.7/apk/com.gianlu.aria2android_57.apk\"', 18),\n",
       " ('\"${baseDir}/com.lyonbros.turtl/0.7.2.5/apk/com.lyonbros.turtl_7250.apk\"', 18)]"
      ]
     },
     "execution_count": 8,
     "metadata": {},
     "output_type": "execute_result"
    }
   ],
   "source": [
    "%%sql\n",
    "select cast(config::json->'apkPath' as text) as app,count(*) as count from jobs group by app order by count desc;"
   ]
  },
  {
   "cell_type": "code",
   "execution_count": 9,
   "metadata": {},
   "outputs": [
    {
     "name": "stdout",
     "output_type": "stream",
     "text": [
      " * postgresql://postgres@localhost:3333/postgres\n",
      "1 rows affected.\n"
     ]
    },
    {
     "data": {
      "text/html": [
       "<table>\n",
       "    <tr>\n",
       "        <th>count</th>\n",
       "        <th>status</th>\n",
       "    </tr>\n",
       "    <tr>\n",
       "        <td>90</td>\n",
       "        <td>completed</td>\n",
       "    </tr>\n",
       "</table>"
      ],
      "text/plain": [
       "[(90, 'completed')]"
      ]
     },
     "execution_count": 9,
     "metadata": {},
     "output_type": "execute_result"
    }
   ],
   "source": [
    "%%sql\n",
    "select count(*),status from jobs group by status;"
   ]
  },
  {
   "cell_type": "code",
   "execution_count": 10,
   "metadata": {},
   "outputs": [
    {
     "name": "stdout",
     "output_type": "stream",
     "text": [
      " * postgresql://postgres@localhost:3333/postgres\n",
      "1 rows affected.\n"
     ]
    },
    {
     "data": {
      "text/html": [
       "<table>\n",
       "    <tr>\n",
       "        <th>count</th>\n",
       "    </tr>\n",
       "    <tr>\n",
       "        <td>0</td>\n",
       "    </tr>\n",
       "</table>"
      ],
      "text/plain": [
       "[(0,)]"
      ]
     },
     "execution_count": 10,
     "metadata": {},
     "output_type": "execute_result"
    }
   ],
   "source": [
    "%%sql\n",
    "select count(*) from jobs where status like '%Exception%';"
   ]
  },
  {
   "cell_type": "code",
   "execution_count": 11,
   "metadata": {},
   "outputs": [
    {
     "name": "stdout",
     "output_type": "stream",
     "text": [
      " * postgresql://postgres@localhost:3333/postgres\n",
      "1 rows affected.\n"
     ]
    },
    {
     "data": {
      "text/html": [
       "<table>\n",
       "    <tr>\n",
       "        <th>count</th>\n",
       "    </tr>\n",
       "    <tr>\n",
       "        <td>0</td>\n",
       "    </tr>\n",
       "</table>"
      ],
      "text/plain": [
       "[(0,)]"
      ]
     },
     "execution_count": 11,
     "metadata": {},
     "output_type": "execute_result"
    }
   ],
   "source": [
    "%%sql\n",
    "select count(*) from jobs where status = 'acquired';"
   ]
  },
  {
   "cell_type": "code",
   "execution_count": 13,
   "metadata": {},
   "outputs": [
    {
     "name": "stdout",
     "output_type": "stream",
     "text": [
      " * postgresql://postgres@localhost:3333/postgres\n",
      "8 rows affected.\n"
     ]
    },
    {
     "data": {
      "text/html": [
       "<table>\n",
       "    <tr>\n",
       "        <th>summary</th>\n",
       "        <th>ch</th>\n",
       "        <th>count</th>\n",
       "        <th>avg</th>\n",
       "    </tr>\n",
       "    <tr>\n",
       "        <td>&quot;\\&quot;Iclass java.lang.StackOverflowError\\&quot;&quot;</td>\n",
       "        <td>&quot;\\&quot;SingleMethod\\&quot;&quot;</td>\n",
       "        <td>1</td>\n",
       "        <td>181.0000000000000000</td>\n",
       "    </tr>\n",
       "    <tr>\n",
       "        <td>&quot;\\&quot;Itimeout\\&quot;&quot;</td>\n",
       "        <td>&quot;\\&quot;MultiCallback\\&quot;&quot;</td>\n",
       "        <td>25</td>\n",
       "        <td>181.0800000000000000</td>\n",
       "    </tr>\n",
       "    <tr>\n",
       "        <td>&quot;\\&quot;Itimeout\\&quot;&quot;</td>\n",
       "        <td>&quot;\\&quot;SingleCallbackMultiMethod\\&quot;&quot;</td>\n",
       "        <td>47</td>\n",
       "        <td>197.2553191489361702</td>\n",
       "    </tr>\n",
       "    <tr>\n",
       "        <td>&quot;\\&quot;Itimeout\\&quot;&quot;</td>\n",
       "        <td>&quot;\\&quot;SingleMethod\\&quot;&quot;</td>\n",
       "        <td>6</td>\n",
       "        <td>181.0000000000000000</td>\n",
       "    </tr>\n",
       "    <tr>\n",
       "        <td>&quot;\\&quot;Proven\\&quot;&quot;</td>\n",
       "        <td>&quot;\\&quot;SingleCallbackMultiMethod\\&quot;&quot;</td>\n",
       "        <td>32</td>\n",
       "        <td>6.1875000000000000</td>\n",
       "    </tr>\n",
       "    <tr>\n",
       "        <td>&quot;\\&quot;Proven\\&quot;&quot;</td>\n",
       "        <td>&quot;\\&quot;SingleMethod\\&quot;&quot;</td>\n",
       "        <td>222</td>\n",
       "        <td>0.15765765765765765766</td>\n",
       "    </tr>\n",
       "    <tr>\n",
       "        <td>&quot;\\&quot;Unreachable\\&quot;&quot;</td>\n",
       "        <td>&quot;\\&quot;SingleMethod\\&quot;&quot;</td>\n",
       "        <td>99</td>\n",
       "        <td>0.18181818181818181818</td>\n",
       "    </tr>\n",
       "    <tr>\n",
       "        <td>&quot;\\&quot;Witnessed\\&quot;&quot;</td>\n",
       "        <td>&quot;\\&quot;MultiCallback\\&quot;&quot;</td>\n",
       "        <td>18</td>\n",
       "        <td>1.2222222222222222</td>\n",
       "    </tr>\n",
       "</table>"
      ],
      "text/plain": [
       "[('\"\\\\\"Iclass java.lang.StackOverflowError\\\\\"\"', '\"\\\\\"SingleMethod\\\\\"\"', 1, Decimal('181.0000000000000000')),\n",
       " ('\"\\\\\"Itimeout\\\\\"\"', '\"\\\\\"MultiCallback\\\\\"\"', 25, Decimal('181.0800000000000000')),\n",
       " ('\"\\\\\"Itimeout\\\\\"\"', '\"\\\\\"SingleCallbackMultiMethod\\\\\"\"', 47, Decimal('197.2553191489361702')),\n",
       " ('\"\\\\\"Itimeout\\\\\"\"', '\"\\\\\"SingleMethod\\\\\"\"', 6, Decimal('181.0000000000000000')),\n",
       " ('\"\\\\\"Proven\\\\\"\"', '\"\\\\\"SingleCallbackMultiMethod\\\\\"\"', 32, Decimal('6.1875000000000000')),\n",
       " ('\"\\\\\"Proven\\\\\"\"', '\"\\\\\"SingleMethod\\\\\"\"', 222, Decimal('0.15765765765765765766')),\n",
       " ('\"\\\\\"Unreachable\\\\\"\"', '\"\\\\\"SingleMethod\\\\\"\"', 99, Decimal('0.18181818181818181818')),\n",
       " ('\"\\\\\"Witnessed\\\\\"\"', '\"\\\\\"MultiCallback\\\\\"\"', 18, Decimal('1.2222222222222222'))]"
      ]
     },
     "execution_count": 13,
     "metadata": {},
     "output_type": "execute_result"
    }
   ],
   "source": [
    "%%sql \n",
    "select cast(result::json->'summary' as varchar) as summary, cast(result::json->'maxPathCh' as varchar) as ch,count(*),avg(querytime) from results group by summary,ch order by summary,ch;"
   ]
  },
  {
   "cell_type": "markdown",
   "metadata": {},
   "source": [
    "- can we bias sampling toward points likely to be buggy?\n",
    "\n",
    "look at existing bugs to find characteristics e.g.\n",
    "\n",
    "*  dereferences in the `call` like methods\n",
    "*  dereferences on object field\n",
    "\n",
    "\n",
    "use wrapfig package\n",
    "\n",
    "perhaps just throw away exception samples note that engineering challenge to deal with them\n",
    "\n",
    "perhaps target apis that we have already specified.\n",
    "\n",
    "what we want to show with big experiment\n",
    "\n",
    "- baseline with no specification\n",
    "- go through some witnesses and show we can add a few specifications and they make sense.  What is the effort to write the specification.\n",
    "\n",
    "\n",
    "highlight that the above is a filtering\n",
    "\n",
    "intra-callback analysis is effectively thresher\n",
    "\n",
    "- [] does not looking into callins cause the issues with scaling?  This may affect single callback multi method.  We have a lot of timeouts, this may be a result of how we handle callins. (perhaps some sampling to understand this better)\n",
    "\n",
    "timeout is killing us with no spec run, understand why we timeout on these, but possibly just discard.  Timeouts are not particularly interesting for our problem, understanding issues would be useful, but not focus of what we want to do.  Drop time limit.\n",
    "\n",
    "- [] ask on bug tracker about different results "
   ]
  },
  {
   "cell_type": "markdown",
   "metadata": {},
   "source": [
    "Triage witness results\n",
    "----------------------"
   ]
  },
  {
   "cell_type": "code",
   "execution_count": 14,
   "metadata": {},
   "outputs": [
    {
     "name": "stdout",
     "output_type": "stream",
     "text": [
      " * postgresql://postgres@localhost:3333/postgres\n",
      "18 rows affected.\n"
     ]
    }
   ],
   "source": [
    "witnessesq = %sql \\\n",
    "select id,jobid,resultdata,loc::json->'method'->>1 as clazz,loc::json->'method'->>2 from results \\\n",
    "                where cast(result::json->'summary' as varchar) like '%Witnessed%' order by id asc limit 100;\n",
    "\n",
    "witnessesdf = witnessesq.DataFrame()\n",
    "witnessesdf.to_csv('triageWit.csv')"
   ]
  },
  {
   "cell_type": "code",
   "execution_count": 15,
   "metadata": {},
   "outputs": [
    {
     "name": "stdout",
     "output_type": "stream",
     "text": [
      " * postgresql://postgres@localhost:3333/postgres\n",
      "25 rows affected.\n"
     ]
    }
   ],
   "source": [
    "witnessesq = %sql \\\n",
    "select id,jobid,resultdata,loc::json->'method'->>1 as clazz,loc::json->'method'->>2 from results \\\n",
    "                where cast(result::json->'summary' as varchar) like '%Itimeout%' and cast(result::json->'maxPathCh' as varchar) like '%MultiCallback%' order by id asc limit 100;\n",
    "\n",
    "witnessesdf = witnessesq.DataFrame()\n",
    "witnessesdf.to_csv('triageWitMultiTimeout.csv')"
   ]
  },
  {
   "cell_type": "code",
   "execution_count": 15,
   "metadata": {
    "tags": []
   },
   "outputs": [],
   "source": [
    "##Note, ipyseet seems kinda cool, but too much work to use right now\n",
    "\n",
    "# import ipysheet\n",
    "# from ipywidgets import VBox,IntSlider\n",
    "# # sheet = ipysheet.sheet(witnessesdf)\n",
    "# witnessesdf['triage'] = [\"\" for i in witnessesdf['id']]\n",
    "# sheet = ipysheet.from_dataframe(witnessesdf)\n",
    "\n",
    "# sheet\n",
    "#outdf = ipysheet.to_dataframe(sheet)\n",
    "#outdf"
   ]
  },
  {
   "cell_type": "code",
   "execution_count": 16,
   "metadata": {},
   "outputs": [
    {
     "ename": "NameError",
     "evalue": "name 'ipysheet' is not defined",
     "output_type": "error",
     "traceback": [
      "\u001b[0;31m---------------------------------------------------------------------------\u001b[0m",
      "\u001b[0;31mNameError\u001b[0m                                 Traceback (most recent call last)",
      "\u001b[0;32m<ipython-input-16-c5092e3f4ff3>\u001b[0m in \u001b[0;36m<module>\u001b[0;34m\u001b[0m\n\u001b[0;32m----> 1\u001b[0;31m \u001b[0moutdf\u001b[0m \u001b[0;34m=\u001b[0m \u001b[0mipysheet\u001b[0m\u001b[0;34m.\u001b[0m\u001b[0mto_dataframe\u001b[0m\u001b[0;34m(\u001b[0m\u001b[0msheet\u001b[0m\u001b[0;34m)\u001b[0m\u001b[0;34m\u001b[0m\u001b[0m\n\u001b[0m",
      "\u001b[0;31mNameError\u001b[0m: name 'ipysheet' is not defined"
     ]
    }
   ],
   "source": []
  },
  {
   "cell_type": "code",
   "execution_count": 17,
   "metadata": {},
   "outputs": [
    {
     "ename": "NameError",
     "evalue": "name 'outdf' is not defined",
     "output_type": "error",
     "traceback": [
      "\u001b[0;31m---------------------------------------------------------------------------\u001b[0m",
      "\u001b[0;31mNameError\u001b[0m                                 Traceback (most recent call last)",
      "\u001b[0;32m<ipython-input-17-3a8b8f02124e>\u001b[0m in \u001b[0;36m<module>\u001b[0;34m\u001b[0m\n\u001b[0;32m----> 1\u001b[0;31m \u001b[0moutdf\u001b[0m\u001b[0;34m\u001b[0m\u001b[0m\n\u001b[0m",
      "\u001b[0;31mNameError\u001b[0m: name 'outdf' is not defined"
     ]
    }
   ],
   "source": [
    "\n"
   ]
  },
  {
   "cell_type": "raw",
   "metadata": {},
   "source": [
    "id \tjobid \tresultdata \tclazz \t?column?\n",
    "#29 \t2 \t2 \tcom.lyonbros.turtl.MainActivity \t[\"com.lyonbros.turtl.MainActivity\",\"android.os.Bundle\"]     (my bug) super should always be non null\n",
    "#69 \t1323 \t477 \tcom.gianlu.commonutils.Preferences.BasePreferenceActivity \t[\"com.gianlu.commonutils.Preferences.BasePreferenceActivity\",\"android.view.MenuItem\"]     (simple) arg of cb non null\n",
    "1:09 seems onOptionItemSelected wont get null value \n",
    "#107 \t1326 \t480 \tcom.health.openscale.gui.activities.UserSettingsActivity$1 \t[\"com.health.openscale.gui.activities.UserSettingsActivity$1\",\"android.view.View\"]  (simple) ret val of callin non null 1:14\n",
    "#175 \t1325 \t479 \tcom.duckduckgo.app.brokensite.BrokenSiteActivity \t[\"com.duckduckgo.app.brokensite.BrokenSiteActivity\"] (simple) arg of ci non null 15:28\n",
    "#201 \t1322 \t481 \torg.andstatus.app.util.UriUtils \t[\"void\",\"java.lang.String\"] (simple) non-null callin Optional.of 1:32\n",
    "#206 \t1322 \t481 \torg.andstatus.app.note.NoteBodyTokenizer \t[\"org.andstatus.app.note.NoteBodyTokenizer\",\"java.lang.CharSequence\"] (likely simple) non-null parameter\n",
    "#209 \t1322 \t481 \torg.andstatus.app.timeline.BaseTimelineAdapter \t[\"org.andstatus.app.timeline.BaseTimelineAdapter\",\"android.view.View\"]\n",
    "(revised not interesting, bug, now fixed)(interesting) value from get-parent - can be null i parent not defined. \n",
    "4045 \t1322 \t481 \torg.andstatus.app.data.checker.CheckConversations \t[\"void\",\"org.andstatus.app.data.checker.CheckConversations$NoteItem\"] (possibly interesting) apply callback, may be generated code of some kind? likely a bound callback from something"
   ]
  },
  {
   "cell_type": "raw",
   "metadata": {},
   "source": [
    "1) quick scan of code for patterns that likely involve multi callback crashes.\n",
    "    - deref of value read from field accessed by multiple callbacks (quick syntactic scan, needs minor upgrade to sampler)\n",
    "    - value returned from \"interesting\" callin, e.g. getParent/getActivity - need way to identify these, perhaps just use a few known ones\n",
    "    - sensitive callins e.g. execute\n",
    "    \n",
    "2) write specifications to avoid crashes on sampling of these interesting locations, if that fails, try to reproduce crash\n",
    "\n",
    "\n",
    "RQ: Is it feasible and necessary to write cftl specifications to prove a callback ordering sensitive assertion?\n",
    "\n",
    "We first generate a set of assertions that are likely to be useful to an android developer by scanning for patterns involved in multi callback mistakes.  We then report the number of locations proven 1)without a framework model 2) with the activity lifecycle and 3) with a hand written cftl model.  In the case of writing the model, we measure the time it takes a human to develop such a model.  "
   ]
  },
  {
   "cell_type": "code",
   "execution_count": 18,
   "metadata": {},
   "outputs": [
    {
     "name": "stdout",
     "output_type": "stream",
     "text": [
      " * postgresql://postgres@localhost:3333/postgres\n",
      "0 rows affected.\n"
     ]
    },
    {
     "data": {
      "text/html": [
       "<table>\n",
       "    <tr>\n",
       "        <th>id</th>\n",
       "        <th>jobid</th>\n",
       "        <th>resultdata</th>\n",
       "        <th>clazz</th>\n",
       "        <th>replace</th>\n",
       "    </tr>\n",
       "</table>"
      ],
      "text/plain": [
       "[]"
      ]
     },
     "execution_count": 18,
     "metadata": {},
     "output_type": "execute_result"
    }
   ],
   "source": [
    "%%sql \n",
    "select id,jobid,resultdata,loc::json->'method'->>1 as clazz, \n",
    "        replace(cast(loc::json->'line'->'str' as varchar),'$','\\$') from results where id = 40;"
   ]
  },
  {
   "cell_type": "markdown",
   "metadata": {},
   "source": [
    "Triage proven results\n",
    "--------------------------"
   ]
  },
  {
   "cell_type": "code",
   "execution_count": 19,
   "metadata": {},
   "outputs": [
    {
     "name": "stdout",
     "output_type": "stream",
     "text": [
      " * postgresql://postgres@localhost:3333/postgres\n",
      "10 rows affected.\n"
     ]
    },
    {
     "data": {
      "text/html": [
       "<table>\n",
       "    <tr>\n",
       "        <th>id</th>\n",
       "        <th>jobid</th>\n",
       "        <th>resultdata</th>\n",
       "        <th>clazz</th>\n",
       "        <th>?column?</th>\n",
       "    </tr>\n",
       "    <tr>\n",
       "        <td>1961</td>\n",
       "        <td>283</td>\n",
       "        <td>192</td>\n",
       "        <td>com.lyonbros.turtlcore.TurtlCorePlugin</td>\n",
       "        <td>[&quot;com.lyonbros.turtlcore.TurtlCorePlugin&quot;,&quot;java.lang.String&quot;,&quot;org.json.JSONArray&quot;,&quot;org.apache.cordova.CallbackContext&quot;]</td>\n",
       "    </tr>\n",
       "    <tr>\n",
       "        <td>2040</td>\n",
       "        <td>290</td>\n",
       "        <td>207</td>\n",
       "        <td>com.duckduckgo.app.feedback.ui.negative.brokensite.BrokenSiteNegativeFeedbackFragment</td>\n",
       "        <td>[&quot;com.duckduckgo.app.feedback.ui.negative.brokensite.BrokenSiteNegativeFeedbackFragment&quot;]</td>\n",
       "    </tr>\n",
       "    <tr>\n",
       "        <td>2031</td>\n",
       "        <td>297</td>\n",
       "        <td>206</td>\n",
       "        <td>com.duckduckgo.app.launch.LaunchActivity_MembersInjector</td>\n",
       "        <td>[&quot;com.duckduckgo.app.launch.LaunchActivity_MembersInjector&quot;,&quot;java.lang.Object&quot;]</td>\n",
       "    </tr>\n",
       "    <tr>\n",
       "        <td>2151</td>\n",
       "        <td>317</td>\n",
       "        <td>230</td>\n",
       "        <td>com.health.openscale.gui.activities.UserSettingsActivity$2</td>\n",
       "        <td>[&quot;com.health.openscale.gui.activities.UserSettingsActivity$2&quot;,&quot;android.view.View&quot;]</td>\n",
       "    </tr>\n",
       "    <tr>\n",
       "        <td>2046</td>\n",
       "        <td>296</td>\n",
       "        <td>209</td>\n",
       "        <td>com.duckduckgo.app.browser.rating.ui.RateAppDialogFragment_MembersInjector</td>\n",
       "        <td>[&quot;com.duckduckgo.app.browser.rating.ui.RateAppDialogFragment_MembersInjector&quot;,&quot;com.duckduckgo.app.browser.rating.ui.RateAppDialogFragment&quot;]</td>\n",
       "    </tr>\n",
       "    <tr>\n",
       "        <td>2130</td>\n",
       "        <td>313</td>\n",
       "        <td>225</td>\n",
       "        <td>com.health.openscale.core.database.AppDatabase_Impl$1</td>\n",
       "        <td>[&quot;com.health.openscale.core.database.AppDatabase_Impl$1&quot;,&quot;androidx.sqlite.db.SupportSQLiteDatabase&quot;]</td>\n",
       "    </tr>\n",
       "    <tr>\n",
       "        <td>2153</td>\n",
       "        <td>317</td>\n",
       "        <td>230</td>\n",
       "        <td>com.health.openscale.core.bluetooth.BluetoothMGB</td>\n",
       "        <td>[&quot;com.health.openscale.core.bluetooth.BluetoothMGB&quot;]</td>\n",
       "    </tr>\n",
       "    <tr>\n",
       "        <td>1862</td>\n",
       "        <td>263</td>\n",
       "        <td>172</td>\n",
       "        <td>com.gianlu.commonutils.Drawer.StatusBarPadding</td>\n",
       "        <td>[&quot;com.gianlu.commonutils.Drawer.StatusBarPadding&quot;,&quot;int&quot;,&quot;int&quot;]</td>\n",
       "    </tr>\n",
       "    <tr>\n",
       "        <td>2125</td>\n",
       "        <td>312</td>\n",
       "        <td>224</td>\n",
       "        <td>com.health.openscale.core.alarm.AlarmBackupHandler</td>\n",
       "        <td>[&quot;com.health.openscale.core.alarm.AlarmBackupHandler&quot;,&quot;android.content.Context&quot;]</td>\n",
       "    </tr>\n",
       "    <tr>\n",
       "        <td>2093</td>\n",
       "        <td>306</td>\n",
       "        <td>218</td>\n",
       "        <td>com.health.openscale.core.bluetooth.BluetoothCommunication</td>\n",
       "        <td>[&quot;com.health.openscale.core.bluetooth.BluetoothCommunication&quot;,&quot;java.lang.String&quot;]</td>\n",
       "    </tr>\n",
       "</table>"
      ],
      "text/plain": [
       "[(1961, 283, 192, 'com.lyonbros.turtlcore.TurtlCorePlugin', '[\"com.lyonbros.turtlcore.TurtlCorePlugin\",\"java.lang.String\",\"org.json.JSONArray\",\"org.apache.cordova.CallbackContext\"]'),\n",
       " (2040, 290, 207, 'com.duckduckgo.app.feedback.ui.negative.brokensite.BrokenSiteNegativeFeedbackFragment', '[\"com.duckduckgo.app.feedback.ui.negative.brokensite.BrokenSiteNegativeFeedbackFragment\"]'),\n",
       " (2031, 297, 206, 'com.duckduckgo.app.launch.LaunchActivity_MembersInjector', '[\"com.duckduckgo.app.launch.LaunchActivity_MembersInjector\",\"java.lang.Object\"]'),\n",
       " (2151, 317, 230, 'com.health.openscale.gui.activities.UserSettingsActivity$2', '[\"com.health.openscale.gui.activities.UserSettingsActivity$2\",\"android.view.View\"]'),\n",
       " (2046, 296, 209, 'com.duckduckgo.app.browser.rating.ui.RateAppDialogFragment_MembersInjector', '[\"com.duckduckgo.app.browser.rating.ui.RateAppDialogFragment_MembersInjector\",\"com.duckduckgo.app.browser.rating.ui.RateAppDialogFragment\"]'),\n",
       " (2130, 313, 225, 'com.health.openscale.core.database.AppDatabase_Impl$1', '[\"com.health.openscale.core.database.AppDatabase_Impl$1\",\"androidx.sqlite.db.SupportSQLiteDatabase\"]'),\n",
       " (2153, 317, 230, 'com.health.openscale.core.bluetooth.BluetoothMGB', '[\"com.health.openscale.core.bluetooth.BluetoothMGB\"]'),\n",
       " (1862, 263, 172, 'com.gianlu.commonutils.Drawer.StatusBarPadding', '[\"com.gianlu.commonutils.Drawer.StatusBarPadding\",\"int\",\"int\"]'),\n",
       " (2125, 312, 224, 'com.health.openscale.core.alarm.AlarmBackupHandler', '[\"com.health.openscale.core.alarm.AlarmBackupHandler\",\"android.content.Context\"]'),\n",
       " (2093, 306, 218, 'com.health.openscale.core.bluetooth.BluetoothCommunication', '[\"com.health.openscale.core.bluetooth.BluetoothCommunication\",\"java.lang.String\"]')]"
      ]
     },
     "execution_count": 19,
     "metadata": {},
     "output_type": "execute_result"
    }
   ],
   "source": [
    "%%sql \n",
    "select id,jobid,resultdata,loc::json->'method'->>1 as clazz,loc::json->'method'->>2 from results \n",
    "                where cast(result::json->'summary' as varchar) like '%Proven%' order by random() limit 10;"
   ]
  },
  {
   "cell_type": "raw",
   "metadata": {},
   "source": [
    "TODO"
   ]
  },
  {
   "cell_type": "markdown",
   "metadata": {},
   "source": [
    "Triage unreachable results\n",
    "--------------------------"
   ]
  },
  {
   "cell_type": "code",
   "execution_count": 20,
   "metadata": {},
   "outputs": [
    {
     "name": "stdout",
     "output_type": "stream",
     "text": [
      " * postgresql://postgres@localhost:3333/postgres\n",
      "15 rows affected.\n"
     ]
    },
    {
     "data": {
      "text/html": [
       "<table>\n",
       "    <tr>\n",
       "        <th>id</th>\n",
       "        <th>jobid</th>\n",
       "        <th>resultdata</th>\n",
       "        <th>clazz</th>\n",
       "    </tr>\n",
       "    <tr>\n",
       "        <td>2054</td>\n",
       "        <td>301</td>\n",
       "        <td>210</td>\n",
       "        <td>com.duckduckgo.app.tabs.ui.TabSwitcherActivity</td>\n",
       "    </tr>\n",
       "    <tr>\n",
       "        <td>2050</td>\n",
       "        <td>296</td>\n",
       "        <td>209</td>\n",
       "        <td>com.duckduckgo.app.feedback.ui.negative.openended.ShareOpenEndedFeedbackFragment</td>\n",
       "    </tr>\n",
       "    <tr>\n",
       "        <td>1977</td>\n",
       "        <td>285</td>\n",
       "        <td>195</td>\n",
       "        <td>com.duckduckgo.app.httpsupgrade.api.HttpsBloomFilterFactoryImpl_Factory</td>\n",
       "    </tr>\n",
       "    <tr>\n",
       "        <td>1820</td>\n",
       "        <td>251</td>\n",
       "        <td>163</td>\n",
       "        <td>com.gianlu.aria2lib.Internal.Aria2Service</td>\n",
       "    </tr>\n",
       "    <tr>\n",
       "        <td>1989</td>\n",
       "        <td>286</td>\n",
       "        <td>197</td>\n",
       "        <td>com.duckduckgo.app.di.DaggerAppComponent</td>\n",
       "    </tr>\n",
       "    <tr>\n",
       "        <td>2002</td>\n",
       "        <td>287</td>\n",
       "        <td>200</td>\n",
       "        <td>com.duckduckgo.app.httpsupgrade.db.HttpsWhitelistDao_Impl</td>\n",
       "    </tr>\n",
       "    <tr>\n",
       "        <td>1799</td>\n",
       "        <td>250</td>\n",
       "        <td>159</td>\n",
       "        <td>com.gianlu.aria2lib.Internal.Aria2$Env</td>\n",
       "    </tr>\n",
       "    <tr>\n",
       "        <td>2013</td>\n",
       "        <td>291</td>\n",
       "        <td>202</td>\n",
       "        <td>com.duckduckgo.app.feedback.api.FeedbackService$DefaultImpls</td>\n",
       "    </tr>\n",
       "    <tr>\n",
       "        <td>2023</td>\n",
       "        <td>295</td>\n",
       "        <td>204</td>\n",
       "        <td>com.duckduckgo.app.statistics.store.StatisticsSharedPreferences</td>\n",
       "    </tr>\n",
       "    <tr>\n",
       "        <td>1762</td>\n",
       "        <td>242</td>\n",
       "        <td>152</td>\n",
       "        <td>org.andstatus.app.data.MyQuery</td>\n",
       "    </tr>\n",
       "    <tr>\n",
       "        <td>2055</td>\n",
       "        <td>301</td>\n",
       "        <td>210</td>\n",
       "        <td>com.duckduckgo.app.global.rating.SecondaryPromptDecider</td>\n",
       "    </tr>\n",
       "    <tr>\n",
       "        <td>2056</td>\n",
       "        <td>299</td>\n",
       "        <td>211</td>\n",
       "        <td>com.duckduckgo.app.tabs.db.TabsDao_Impl</td>\n",
       "    </tr>\n",
       "    <tr>\n",
       "        <td>1986</td>\n",
       "        <td>286</td>\n",
       "        <td>197</td>\n",
       "        <td>com.duckduckgo.app.bookmarks.db.BookmarksDao_Impl$3</td>\n",
       "    </tr>\n",
       "    <tr>\n",
       "        <td>1935</td>\n",
       "        <td>277</td>\n",
       "        <td>186</td>\n",
       "        <td>com.lyonbros.turtlcore.TurtlCorePlugin</td>\n",
       "    </tr>\n",
       "    <tr>\n",
       "        <td>1918</td>\n",
       "        <td>274</td>\n",
       "        <td>183</td>\n",
       "        <td>com.lyonbros.turtlcore.TurtlCorePlugin</td>\n",
       "    </tr>\n",
       "</table>"
      ],
      "text/plain": [
       "[(2054, 301, 210, 'com.duckduckgo.app.tabs.ui.TabSwitcherActivity'),\n",
       " (2050, 296, 209, 'com.duckduckgo.app.feedback.ui.negative.openended.ShareOpenEndedFeedbackFragment'),\n",
       " (1977, 285, 195, 'com.duckduckgo.app.httpsupgrade.api.HttpsBloomFilterFactoryImpl_Factory'),\n",
       " (1820, 251, 163, 'com.gianlu.aria2lib.Internal.Aria2Service'),\n",
       " (1989, 286, 197, 'com.duckduckgo.app.di.DaggerAppComponent'),\n",
       " (2002, 287, 200, 'com.duckduckgo.app.httpsupgrade.db.HttpsWhitelistDao_Impl'),\n",
       " (1799, 250, 159, 'com.gianlu.aria2lib.Internal.Aria2$Env'),\n",
       " (2013, 291, 202, 'com.duckduckgo.app.feedback.api.FeedbackService$DefaultImpls'),\n",
       " (2023, 295, 204, 'com.duckduckgo.app.statistics.store.StatisticsSharedPreferences'),\n",
       " (1762, 242, 152, 'org.andstatus.app.data.MyQuery'),\n",
       " (2055, 301, 210, 'com.duckduckgo.app.global.rating.SecondaryPromptDecider'),\n",
       " (2056, 299, 211, 'com.duckduckgo.app.tabs.db.TabsDao_Impl'),\n",
       " (1986, 286, 197, 'com.duckduckgo.app.bookmarks.db.BookmarksDao_Impl$3'),\n",
       " (1935, 277, 186, 'com.lyonbros.turtlcore.TurtlCorePlugin'),\n",
       " (1918, 274, 183, 'com.lyonbros.turtlcore.TurtlCorePlugin')]"
      ]
     },
     "execution_count": 20,
     "metadata": {},
     "output_type": "execute_result"
    }
   ],
   "source": [
    "%%sql \n",
    "select id,jobid,resultdata,loc::json->'method'->>1 as clazz \n",
    "            from results where cast(result::json->'summary' as varchar) like '%Unreachable%' \n",
    "            order by random() limit 15;"
   ]
  },
  {
   "cell_type": "raw",
   "metadata": {},
   "source": [
    "id \tjobid \tresultdata \tclazz\n",
    "3632 \t1315 \t471 \tio.reactivex.Flowable\n",
    "3585 \t1314 \t470 \tcc.fovea.openwith.OpenWithPlugin\n",
    "3645 \t1315 \t471 \tcom.duckduckgo.app.bookmarks.ui.BookmarksViewModel\n",
    "3594 \t1314 \t470 \tcc.fovea.openwith.PluginResultSender\n",
    "3580 \t1314 \t470 \tcc.fovea.openwith.PluginResultSender\n",
    "3627 \t1315 \t471 \tio.reactivex.internal.operators.parallel.ParallelFromPublisher$ParallelDispatcher\n",
    "3629 \t1315 \t471 \tio.reactivex.internal.operators.single.SingleUnsubscribeOn\n",
    "3663 \t1315 \t471 \tio.reactivex.internal.operators.flowable.FlowableTakeUntil$TakeUntilMainSubscriber\n",
    "3582 \t1314 \t470 \tcc.fovea.openwith.PluginResultSender\n",
    "3657 \t1315 \t471 \tio.reactivex.internal.observers.QueueDrainObserver\n",
    "3603 \t1314 \t470 \tcc.fovea.openwith.ByteStreams\n",
    "3669 \t1315 \t471 \tcom.duckduckgo.app.tabs.db.TabsDao_Impl$1\n",
    "3586 \t1314 \t470 \tcc.fovea.openwith.OpenWithPlugin$1\n",
    "3659 \t1315 \t471 \tio.reactivex.internal.operators.flowable.FlowableCreate$BaseEmitter\n",
    "3646 \t1315 \t471 \tio.reactivex.internal.schedulers.SchedulerPoolFactory"
   ]
  },
  {
   "cell_type": "code",
   "execution_count": 21,
   "metadata": {},
   "outputs": [
    {
     "name": "stdout",
     "output_type": "stream",
     "text": [
      " * postgresql://postgres@localhost:3333/postgres\n",
      "0 rows affected.\n"
     ]
    },
    {
     "data": {
      "text/html": [
       "<table>\n",
       "    <tr>\n",
       "        <th>id</th>\n",
       "        <th>jobid</th>\n",
       "        <th>resultdata</th>\n",
       "        <th>clazz</th>\n",
       "        <th>mname</th>\n",
       "        <th>location</th>\n",
       "    </tr>\n",
       "</table>"
      ],
      "text/plain": [
       "[]"
      ]
     },
     "execution_count": 21,
     "metadata": {},
     "output_type": "execute_result"
    }
   ],
   "source": [
    "%%sql\n",
    "select id,jobid,resultdata,loc::json->'method'->>1 as clazz, \n",
    "        replace(cast(loc::json->'method'->>0 as varchar),'$','\\$') as mname, \n",
    "        replace(cast(loc::json->'line' as varchar),'$','\\$') as location \n",
    "        from results where id = 15037;"
   ]
  },
  {
   "cell_type": "raw",
   "metadata": {},
   "source": [
    "\n",
    "id      jobid\tresultdata\tclazz\n",
    "15037\t243  \t761     \titkach.aard2.ArticleWebView$4\n",
    "\n",
    "12610\t90  \t676     \torg.tukaani.xz.lzma.LZMAEncoderNormal\n",
    "12479\t368  \t674\t        com.serwylo.lexica.trie.util.LetterFrequency\n",
    "8881\t308 \t436     \tnet.healeys.trie.StringTrie$Node\n",
    "11298\t208 \t573     \torg.tukaani.xz.index.IndexBase\n",
    "\n"
   ]
  },
  {
   "cell_type": "code",
   "execution_count": 22,
   "metadata": {},
   "outputs": [
    {
     "name": "stdout",
     "output_type": "stream",
     "text": [
      " * postgresql://postgres@localhost:3333/postgres\n",
      "0 rows affected.\n"
     ]
    },
    {
     "data": {
      "text/html": [
       "<table>\n",
       "    <tr>\n",
       "        <th>id</th>\n",
       "        <th>result</th>\n",
       "        <th>location</th>\n",
       "    </tr>\n",
       "</table>"
      ],
      "text/plain": [
       "[]"
      ]
     },
     "execution_count": 22,
     "metadata": {},
     "output_type": "execute_result"
    }
   ],
   "source": [
    "%%sql\n",
    "select id,result,replace(cast(loc::json->'line' as varchar),'$','\\$') as location \n",
    "    from results where loc like '%244 $r3%';"
   ]
  },
  {
   "cell_type": "code",
   "execution_count": 23,
   "metadata": {},
   "outputs": [
    {
     "name": "stdout",
     "output_type": "stream",
     "text": [
      " * postgresql://postgres@localhost:3333/postgres\n",
      "0 rows affected.\n"
     ]
    },
    {
     "data": {
      "text/html": [
       "<table>\n",
       "    <tr>\n",
       "        <th>replace</th>\n",
       "    </tr>\n",
       "</table>"
      ],
      "text/plain": [
       "[]"
      ]
     },
     "execution_count": 23,
     "metadata": {},
     "output_type": "execute_result"
    }
   ],
   "source": [
    "%%sql\n",
    "select replace(cast(loc as varchar),'$','\\$') from results where id = 1494;"
   ]
  },
  {
   "cell_type": "markdown",
   "metadata": {},
   "source": [
    "Runtime Stats\n",
    "============="
   ]
  },
  {
   "cell_type": "code",
   "execution_count": 24,
   "metadata": {},
   "outputs": [
    {
     "name": "stdout",
     "output_type": "stream",
     "text": [
      " * postgresql://postgres@localhost:3333/postgres\n",
      "450 rows affected.\n"
     ]
    },
    {
     "data": {
      "text/plain": [
       "Text(0.5, 0, 'time (sec)')"
      ]
     },
     "execution_count": 24,
     "metadata": {},
     "output_type": "execute_result"
    },
    {
     "data": {
      "image/png": "[encoded data removed]",
      "text/plain": [
       "<Figure size 432x288 with 1 Axes>"
      ]
     },
     "metadata": {},
     "output_type": "display_data"
    }
   ],
   "source": [
    "queryTime = %sql select querytime from results;\n",
    "tplt = queryTime.DataFrame().plot.hist(bins=32)\n",
    "# tplt.set_yscale('log')\n",
    "tplt.set_xlabel('time (sec)')\n",
    "# split this into proven and witnessed"
   ]
  },
  {
   "cell_type": "code",
   "execution_count": 25,
   "metadata": {},
   "outputs": [
    {
     "name": "stdout",
     "output_type": "stream",
     "text": [
      " * postgresql://postgres@localhost:3333/postgres\n",
      "90 rows affected.\n"
     ]
    },
    {
     "data": {
      "text/plain": [
       "Text(0.5, 0, 'time (min)')"
      ]
     },
     "execution_count": 25,
     "metadata": {},
     "output_type": "execute_result"
    },
    {
     "data": {
      "image/png": "[encoded data removed]",
      "text/plain": [
       "<Figure size 432x288 with 1 Axes>"
      ]
     },
     "metadata": {},
     "output_type": "display_data"
    }
   ],
   "source": [
    "# Job runtimes\n",
    "runtimes = %sql select ended - started as time from jobs where ended is not NULL;\n",
    "runtimesDF = runtimes.DataFrame()\n",
    "runtimesDF['time'] = runtimesDF['time'].apply(lambda x: x.total_seconds() / (60))\n",
    "tplt = runtimesDF.plot.hist(bins=32)\n",
    "tplt.set_yscale('log')\n",
    "tplt.set_xlabel('time (min)')"
   ]
  },
  {
   "cell_type": "code",
   "execution_count": 26,
   "metadata": {},
   "outputs": [
    {
     "name": "stdout",
     "output_type": "stream",
     "text": [
      " * postgresql://postgres@localhost:3333/postgres\n",
      "90 rows affected.\n"
     ]
    },
    {
     "data": {
      "image/png": "[encoded data removed]",
      "text/plain": [
       "<Figure size 432x288 with 1 Axes>"
      ]
     },
     "metadata": {},
     "output_type": "display_data"
    }
   ],
   "source": [
    "# Plot job time trend\n",
    "rtvt = %sql select started, ended - started as time from jobs where ended is not NULL;\n",
    "rtvtDF = rtvt.DataFrame()\n",
    "rtvtDF.sort_values('started', ascending=True)\n",
    "fig, ax = plt.subplots()\n",
    "ax.plot_date(rtvtDF['started'], rtvtDF['time'], marker='*', linestyle='')\n",
    "\n",
    "fig.autofmt_xdate()\n",
    "plt.show()\n"
   ]
  },
  {
   "cell_type": "markdown",
   "metadata": {},
   "source": [
    "Total job time"
   ]
  },
  {
   "cell_type": "code",
   "execution_count": 27,
   "metadata": {},
   "outputs": [
    {
     "name": "stdout",
     "output_type": "stream",
     "text": [
      " * postgresql://postgres@localhost:3333/postgres\n",
      "1 rows affected.\n"
     ]
    },
    {
     "data": {
      "text/html": [
       "<table>\n",
       "    <tr>\n",
       "        <th>sum</th>\n",
       "    </tr>\n",
       "    <tr>\n",
       "        <td>22:38:19.832000</td>\n",
       "    </tr>\n",
       "</table>"
      ],
      "text/plain": [
       "[(datetime.timedelta(0, 81499, 832000),)]"
      ]
     },
     "execution_count": 27,
     "metadata": {},
     "output_type": "execute_result"
    }
   ],
   "source": [
    "%%sql\n",
    "select sum(ended-started) from jobs where ended is not NULL;"
   ]
  },
  {
   "cell_type": "code",
   "execution_count": 28,
   "metadata": {},
   "outputs": [
    {
     "name": "stdout",
     "output_type": "stream",
     "text": [
      " * postgresql://postgres@localhost:3333/postgres\n",
      "1 rows affected.\n"
     ]
    },
    {
     "data": {
      "text/html": [
       "<table>\n",
       "    <tr>\n",
       "        <th>?column?</th>\n",
       "    </tr>\n",
       "    <tr>\n",
       "        <td>4.2605555555555556</td>\n",
       "    </tr>\n",
       "</table>"
      ],
      "text/plain": [
       "[(Decimal('4.2605555555555556'),)]"
      ]
     },
     "execution_count": 28,
     "metadata": {},
     "output_type": "execute_result"
    }
   ],
   "source": [
    "%%sql\n",
    "select sum(querytime)/60./60. from results;"
   ]
  },
  {
   "cell_type": "code",
   "execution_count": 29,
   "metadata": {},
   "outputs": [
    {
     "name": "stdout",
     "output_type": "stream",
     "text": [
      " * postgresql://postgres@localhost:3333/postgres\n",
      "1 rows affected.\n"
     ]
    },
    {
     "data": {
      "text/html": [
       "<table>\n",
       "    <tr>\n",
       "        <th>?column?</th>\n",
       "    </tr>\n",
       "    <tr>\n",
       "        <td>15:33:40.056629</td>\n",
       "    </tr>\n",
       "</table>"
      ],
      "text/plain": [
       "[(datetime.timedelta(0, 56020, 56629),)]"
      ]
     },
     "execution_count": 29,
     "metadata": {},
     "output_type": "execute_result"
    }
   ],
   "source": [
    "%%sql\n",
    "select now() - min(started) from jobs;"
   ]
  },
  {
   "cell_type": "markdown",
   "metadata": {},
   "source": [
    "Size of postgres data\n",
    "====================="
   ]
  },
  {
   "cell_type": "code",
   "execution_count": 30,
   "metadata": {},
   "outputs": [
    {
     "name": "stdout",
     "output_type": "stream",
     "text": [
      " * postgresql://postgres@localhost:3333/postgres\n",
      "5 rows affected.\n"
     ]
    },
    {
     "data": {
      "text/html": [
       "<table>\n",
       "    <tr>\n",
       "        <th>table_schema</th>\n",
       "        <th>table_name</th>\n",
       "        <th>row_estimate</th>\n",
       "        <th>total</th>\n",
       "        <th>index</th>\n",
       "        <th>toast</th>\n",
       "        <th>table</th>\n",
       "    </tr>\n",
       "    <tr>\n",
       "        <td>public</td>\n",
       "        <td>apks</td>\n",
       "        <td>0.0</td>\n",
       "        <td>95 MB</td>\n",
       "        <td>0 bytes</td>\n",
       "        <td>95 MB</td>\n",
       "        <td>8192 bytes</td>\n",
       "    </tr>\n",
       "    <tr>\n",
       "        <td>public</td>\n",
       "        <td>results</td>\n",
       "        <td>430.0</td>\n",
       "        <td>3024 kB</td>\n",
       "        <td>72 kB</td>\n",
       "        <td>2400 kB</td>\n",
       "        <td>552 kB</td>\n",
       "    </tr>\n",
       "    <tr>\n",
       "        <td>pg_catalog</td>\n",
       "        <td>pg_depend</td>\n",
       "        <td>7725.0</td>\n",
       "        <td>1120 kB</td>\n",
       "        <td>624 kB</td>\n",
       "        <td>None</td>\n",
       "        <td>496 kB</td>\n",
       "    </tr>\n",
       "    <tr>\n",
       "        <td>pg_catalog</td>\n",
       "        <td>pg_proc</td>\n",
       "        <td>3034.0</td>\n",
       "        <td>1024 kB</td>\n",
       "        <td>336 kB</td>\n",
       "        <td>8192 bytes</td>\n",
       "        <td>680 kB</td>\n",
       "    </tr>\n",
       "    <tr>\n",
       "        <td>public</td>\n",
       "        <td>resultdata</td>\n",
       "        <td>51.0</td>\n",
       "        <td>952 kB</td>\n",
       "        <td>16 kB</td>\n",
       "        <td>912 kB</td>\n",
       "        <td>24 kB</td>\n",
       "    </tr>\n",
       "</table>"
      ],
      "text/plain": [
       "[('public', 'apks', 0.0, '95 MB', '0 bytes', '95 MB', '8192 bytes'),\n",
       " ('public', 'results', 430.0, '3024 kB', '72 kB', '2400 kB', '552 kB'),\n",
       " ('pg_catalog', 'pg_depend', 7725.0, '1120 kB', '624 kB', None, '496 kB'),\n",
       " ('pg_catalog', 'pg_proc', 3034.0, '1024 kB', '336 kB', '8192 bytes', '680 kB'),\n",
       " ('public', 'resultdata', 51.0, '952 kB', '16 kB', '912 kB', '24 kB')]"
      ]
     },
     "execution_count": 30,
     "metadata": {},
     "output_type": "execute_result"
    }
   ],
   "source": [
    "%%sql\n",
    "WITH RECURSIVE pg_inherit(inhrelid, inhparent) AS\n",
    "    (select inhrelid, inhparent\n",
    "    FROM pg_inherits\n",
    "    UNION\n",
    "    SELECT child.inhrelid, parent.inhparent\n",
    "    FROM pg_inherit child, pg_inherits parent\n",
    "    WHERE child.inhparent = parent.inhrelid),\n",
    "pg_inherit_short AS (SELECT * FROM pg_inherit WHERE inhparent NOT IN (SELECT inhrelid FROM pg_inherit))\n",
    "SELECT table_schema\n",
    "    , TABLE_NAME\n",
    "    , row_estimate\n",
    "    , pg_size_pretty(total_bytes) AS total\n",
    "    , pg_size_pretty(index_bytes) AS INDEX\n",
    "    , pg_size_pretty(toast_bytes) AS toast\n",
    "    , pg_size_pretty(table_bytes) AS TABLE\n",
    "  FROM (\n",
    "    SELECT *, total_bytes-index_bytes-COALESCE(toast_bytes,0) AS table_bytes\n",
    "    FROM (\n",
    "         SELECT c.oid\n",
    "              , nspname AS table_schema\n",
    "              , relname AS TABLE_NAME\n",
    "              , SUM(c.reltuples) OVER (partition BY parent) AS row_estimate\n",
    "              , SUM(pg_total_relation_size(c.oid)) OVER (partition BY parent) AS total_bytes\n",
    "              , SUM(pg_indexes_size(c.oid)) OVER (partition BY parent) AS index_bytes\n",
    "              , SUM(pg_total_relation_size(reltoastrelid)) OVER (partition BY parent) AS toast_bytes\n",
    "              , parent\n",
    "          FROM (\n",
    "                SELECT pg_class.oid\n",
    "                    , reltuples\n",
    "                    , relname\n",
    "                    , relnamespace\n",
    "                    , pg_class.reltoastrelid\n",
    "                    , COALESCE(inhparent, pg_class.oid) parent\n",
    "                FROM pg_class\n",
    "                    LEFT JOIN pg_inherit_short ON inhrelid = oid\n",
    "                WHERE relkind IN ('r', 'p')\n",
    "             ) c\n",
    "             LEFT JOIN pg_namespace n ON n.oid = c.relnamespace\n",
    "  ) a\n",
    "  WHERE oid = parent\n",
    ") a\n",
    "ORDER BY total_bytes DESC limit 5;"
   ]
  },
  {
   "cell_type": "markdown",
   "metadata": {},
   "source": [
    "Inspection of exceptions\n",
    "========================"
   ]
  },
  {
   "cell_type": "code",
   "execution_count": null,
   "metadata": {
    "tags": []
   },
   "outputs": [],
   "source": [
    "%%sql\n",
    "select id,config::json->'apkPath',replace(stderr,'$','\\$') from jobs where stderr like '%Exception%';"
   ]
  },
  {
   "cell_type": "code",
   "execution_count": null,
   "metadata": {},
   "outputs": [],
   "source": [
    "#count of total results\n",
    "%sql select count(*) as Total_locations_computed from results"
   ]
  }
 ],
 "metadata": {
  "kernelspec": {
   "display_name": "Python 3",
   "language": "python",
   "name": "python3"
  },
  "language_info": {
   "codemirror_mode": {
    "name": "ipython",
    "version": 3
   },
   "file_extension": ".py",
   "mimetype": "text/x-python",
   "name": "python",
   "nbconvert_exporter": "python",
   "pygments_lexer": "ipython3",
   "version": "3.6.5"
  }
 },
 "nbformat": 4,
 "nbformat_minor": 4
}
