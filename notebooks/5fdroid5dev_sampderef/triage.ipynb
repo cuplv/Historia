{
 "cells": [
  {
   "cell_type": "code",
   "execution_count": 1,
   "metadata": {},
   "outputs": [
    {
     "name": "stderr",
     "output_type": "stream",
     "text": [
      "/Users/shawnmeier/.pyenv/versions/3.6.5/lib/python3.6/site-packages/pandas/compat/__init__.py:117: UserWarning: Could not import the lzma module. Your installed Python is incomplete. Attempting to use lzma compression will result in a RuntimeError.\n",
      "  warnings.warn(msg)\n"
     ]
    }
   ],
   "source": [
    "import pandas as pd\n",
    "import pylab\n",
    "import json\n",
    "%matplotlib inline\n",
    "import matplotlib.pyplot as plt\n",
    "plt.style.use('seaborn-whitegrid')\n",
    "import numpy as np\n",
    "from IPython.core import display\n",
    "import psycopg2\n",
    "import os\n",
    "homedir = os.getenv(\"HOME\")\n",
    "with open(homedir + \"/.pgpass\",'r') as pgfile:\n",
    "    pgdat = pgfile.read().strip().split(\":\")\n",
    "    pgurl = pgdat[0]\n",
    "    pgport = pgdat[1]\n",
    "    pgdb = pgdat[2]\n",
    "    pguser = pgdat[3]\n",
    "    pgpass = pgdat[4]\n",
    "\n",
    "%load_ext sql\n",
    "from sqlalchemy import create_engine\n",
    "# sql info: https://github.com/catherinedevlin/ipython-sql\n",
    "#uncomment for remote\n",
    "#pgport=3333\n",
    "pgport=5433\n",
    "engine = create_engine('postgresql://postgres@localhost:%i/postgres' % pgport)\n",
    "db = psycopg2.connect(host=pgurl, database=pgdb, user=pguser,password=pgpass,port=pgport)"
   ]
  },
  {
   "cell_type": "markdown",
   "metadata": {},
   "source": [
    "Experimental notes\n",
    "- [ ] Choose 10 apps (5 from fdroid and 5 from google samples) - sample dereference locations\n",
    "- [ ] results with no framework model - numbers alarm, proven, timeout\n",
    "- [ ] specify something from documentation (fragment/activity lifecycle)\n",
    "- [ ] try with existing model from 4 pull request specs\n",
    "- [ ] (most optional) choose some locations and manually write the specs\n",
    "- [ ] look into how to run pipeline with infer/error prone\n",
    "- [ ] look at nullaway\n",
    "- [ ] does nullaway/infer/etc have a benchmark set that we could use?\n",
    "- [ ] would like infer as a comparison for 4 pull requests\n",
    "\n",
    "priority minimum bar by mar 15th (ok to need some more compute or re-run, but draft results):\n",
    "1. run the generalizability experiment on 10 apps with some specicfication refinement (without infer)\n",
    "1. run infer on pr examples\n",
    "\n",
    "notes apr 1 2022:\n",
    "\n",
    "Would like to know what the parameters of the experiment will be by 15th\n",
    "\n",
    "most important number: %proven\n",
    "filteting experiment: start with running on 2k deref sites report alarms, filter alarms based on lifecycle\n",
    "\n",
    "Is our counter example something that can reproduce the bug? Is the witness trace reaalizable?\n",
    "\n",
    "We are at least getting to the capability of being able to report the order of callbacks that likely witnesses the callbacks.  Typical analysi only says we get an alarm.  We try our best to get to a proof, but if we stop, we say we have explored all cb order up to depth k and still have not found the alarm.  Every time we find an alarm, it turns out to be something realizeable.\n",
    "\n",
    "hypothesis: every true alarm is realizable in under 10 callbacks\n",
    "\n",
    "evaluation criteria for \"is this a realizable trace?\": I android expert (c) examined it and it appears to be real.  Get a sense of how hard it would be to use this tool. Generalizability study is the test for this.\n",
    "\n",
    "\n",
    "time how long it takes shawn to write extra specsf: hrs\n",
    "\n",
    "Threat to validity: I am the tool developer and measuring my success with it, but it is a reasonable proxy for \"expert tool user\"\n",
    "\n",
    "\"usefullness research question\"\n",
    "\n",
    "we can say that widening is out of scope for this paper (next paper will address this)\n"
   ]
  },
  {
   "cell_type": "code",
   "execution_count": 37,
   "metadata": {},
   "outputs": [],
   "source": [
    "def qry(q):\n",
    "  return pd.read_sql_query(con = db, sql = q)\n",
    "# pd.set_option(\"max_colwidth\", None)\n",
    "# pd.set_option('display.max_columns', None)\n",
    "pd.set_option(\"display.latex.repr\", False)\n",
    "pd.set_option(\"display.latex.escape\", True)\n",
    "\n",
    "def iDisplay(v):\n",
    "    with pd.option_context('display.max_rows', None, 'display.max_columns', None, \"max_colwidth\", None):\n",
    "        display.display(v)\n"
   ]
  },
  {
   "cell_type": "code",
   "execution_count": 38,
   "metadata": {},
   "outputs": [
    {
     "name": "stdout",
     "output_type": "stream",
     "text": [
      "1 rows affected.\n"
     ]
    },
    {
     "data": {
      "text/html": [
       "<table>\n",
       "    <tr>\n",
       "        <th>count</th>\n",
       "    </tr>\n",
       "    <tr>\n",
       "        <td>5</td>\n",
       "    </tr>\n",
       "</table>"
      ],
      "text/plain": [
       "[(5,)]"
      ]
     },
     "execution_count": 38,
     "metadata": {},
     "output_type": "execute_result"
    }
   ],
   "source": [
    "%%sql postgresql://postgres@localhost:$pgport/postgres\n",
    "select count(*) from apks where apkname not like 'jar_%' and apkname not like 'spec_%';"
   ]
  },
  {
   "cell_type": "code",
   "execution_count": 39,
   "metadata": {},
   "outputs": [
    {
     "name": "stdout",
     "output_type": "stream",
     "text": [
      " * postgresql://postgres@localhost:5433/postgres\n",
      "1 rows affected.\n"
     ]
    },
    {
     "data": {
      "text/html": [
       "<table>\n",
       "    <tr>\n",
       "        <th>completed_jobs</th>\n",
       "        <th>paused_jobs</th>\n",
       "        <th>acquired_jobs</th>\n",
       "        <th>body_exception</th>\n",
       "        <th>exception</th>\n",
       "        <th>refl_exception</th>\n",
       "        <th>worker_failure</th>\n",
       "        <th>possible_cg_unsound</th>\n",
       "        <th>total_jobs</th>\n",
       "    </tr>\n",
       "    <tr>\n",
       "        <td>5</td>\n",
       "        <td>0</td>\n",
       "        <td>0</td>\n",
       "        <td>0</td>\n",
       "        <td>2</td>\n",
       "        <td>0</td>\n",
       "        <td>0</td>\n",
       "        <td>0</td>\n",
       "        <td>5</td>\n",
       "    </tr>\n",
       "</table>"
      ],
      "text/plain": [
       "[(5, 0, 0, 0, 2, 0, 0, 0, 5)]"
      ]
     },
     "execution_count": 39,
     "metadata": {},
     "output_type": "execute_result"
    }
   ],
   "source": [
    "%%sql\n",
    "select \n",
    "    (select count(*) from jobs where status = 'completed') as Completed_Jobs,\n",
    "    (select count(*) from jobs where status = 'paused') as Paused_Jobs,\n",
    "    (select count(*) from jobs where status = 'acquired') as Acquired_jobs,\n",
    "    (select count(id) from jobs \n",
    "       where stderr like '%Exception%no active body present for method%') as Body_Exception,\n",
    "    (select count(id) from jobs where stderr like '%Exception%') as Exception,\n",
    "    (select count(id) from jobs where stderr like '%Failed t\n",
    "     o parse reflective type reference%') as Refl_exception,\n",
    "    (select count(id) from jobs where status like 'failed%') as worker_failure,\n",
    "    (select count(id) from jobs where stdout like '%empty pred lZocation%') as possible_cg_unsound,\n",
    "    (select count(*) from jobs) as Total_Jobs"
   ]
  },
  {
   "cell_type": "markdown",
   "metadata": {},
   "source": [
    "18: 10:12 pm\n",
    "20: 10:16 pm\n",
    "24: 11:26 pm"
   ]
  },
  {
   "cell_type": "markdown",
   "metadata": {},
   "source": [
    "Failing apks"
   ]
  },
  {
   "cell_type": "code",
   "execution_count": 40,
   "metadata": {},
   "outputs": [
    {
     "name": "stdout",
     "output_type": "stream",
     "text": [
      " * postgresql://postgres@localhost:5433/postgres\n",
      "0 rows affected.\n"
     ]
    },
    {
     "data": {
      "text/html": [
       "<table>\n",
       "    <tr>\n",
       "        <th>text</th>\n",
       "    </tr>\n",
       "</table>"
      ],
      "text/plain": [
       "[]"
      ]
     },
     "execution_count": 40,
     "metadata": {},
     "output_type": "execute_result"
    }
   ],
   "source": [
    "%%sql\n",
    "select cast(config::json->'apkPath' as text) from jobs \n",
    "        where stderr like '%Exception' group by cast(config::json->'apkPath' as text) ;"
   ]
  },
  {
   "cell_type": "code",
   "execution_count": 41,
   "metadata": {},
   "outputs": [
    {
     "name": "stdout",
     "output_type": "stream",
     "text": [
      " * postgresql://postgres@localhost:5433/postgres\n",
      "1 rows affected.\n"
     ]
    },
    {
     "data": {
      "text/html": [
       "<table>\n",
       "    <tr>\n",
       "        <th>count</th>\n",
       "    </tr>\n",
       "    <tr>\n",
       "        <td>0</td>\n",
       "    </tr>\n",
       "</table>"
      ],
      "text/plain": [
       "[(0,)]"
      ]
     },
     "execution_count": 41,
     "metadata": {},
     "output_type": "execute_result"
    }
   ],
   "source": [
    "# err = %sql select stderr from jobs where stderr like '%Exception%' order by random() limit 1;\n",
    "# print(err.DataFrame()['stderr'][0])\n",
    "%sql select count(id) from jobs where stderr like '%The database file is locked%';"
   ]
  },
  {
   "cell_type": "code",
   "execution_count": 42,
   "metadata": {
    "tags": []
   },
   "outputs": [
    {
     "name": "stdout",
     "output_type": "stream",
     "text": [
      " * postgresql://postgres@localhost:5433/postgres\n",
      "1 rows affected.\n",
      "{\"t\":\"ReceiverNonNull\",\"className\":\"org.andstatus.app.note.NoteContextMenuItem\",\"methodName\":\"org.andstatus.app.note.NoteEditorData executeAsync(org.andstatus.app.note.NoteContextMenu)\",\"line\":447}\n",
      "java.lang.RuntimeException: couldn't find this-assignment! in <org.andstatus.app.service.MyServiceManager$MyServiceStateInTime: boolean access$100(org.andstatus.app.service.MyServiceManager$MyServiceStateInTime)>\n",
      "\tat soot.Body.getThisUnit(Body.java:300)\n",
      "\tat soot.Body.getThisLocal(Body.java:305)\n",
      "\tat edu.colorado.plv.bounder.ir.JimpleFlowdroidWrapper.pointsToSet(JimpleFlowdroidWrapper.scala:1562)\n",
      "\ta\n"
     ]
    }
   ],
   "source": [
    "# get \n",
    "err = %sql select (config::json->'initialQuery'->>0) as classname,stderr from jobs \\\n",
    "    where stderr like '%Exception%' and stderr not like '%no active body%' order by random() limit 1;\n",
    "df = err.DataFrame()\n",
    "print(df['classname'][0])\n",
    "print(df['stderr'][0][:400])"
   ]
  },
  {
   "cell_type": "code",
   "execution_count": 43,
   "metadata": {},
   "outputs": [
    {
     "name": "stdout",
     "output_type": "stream",
     "text": [
      " * postgresql://postgres@localhost:5433/postgres\n",
      "5 rows affected.\n"
     ]
    },
    {
     "data": {
      "text/html": [
       "<table>\n",
       "    <tr>\n",
       "        <th>app</th>\n",
       "        <th>count</th>\n",
       "    </tr>\n",
       "    <tr>\n",
       "        <td>&quot;${baseDir}/com.lyonbros.turtl/0.7.2.5/apk/com.lyonbros.turtl_7250.apk&quot;</td>\n",
       "        <td>1</td>\n",
       "    </tr>\n",
       "    <tr>\n",
       "        <td>&quot;${baseDir}/org.andstatus.app/51.02/apk/org.andstatus.app_298.apk&quot;</td>\n",
       "        <td>1</td>\n",
       "    </tr>\n",
       "    <tr>\n",
       "        <td>&quot;${baseDir}/com.duckduckgo.mobile.android/5.32.1/apk/com.duckduckgo.mobile.android_53201.apk&quot;</td>\n",
       "        <td>1</td>\n",
       "    </tr>\n",
       "    <tr>\n",
       "        <td>&quot;${baseDir}/com.health.openscale/2.1.0/apk/com.health.openscale_45.apk&quot;</td>\n",
       "        <td>1</td>\n",
       "    </tr>\n",
       "    <tr>\n",
       "        <td>&quot;${baseDir}/com.gianlu.aria2android/2.1.7/apk/com.gianlu.aria2android_57.apk&quot;</td>\n",
       "        <td>1</td>\n",
       "    </tr>\n",
       "</table>"
      ],
      "text/plain": [
       "[('\"${baseDir}/com.lyonbros.turtl/0.7.2.5/apk/com.lyonbros.turtl_7250.apk\"', 1),\n",
       " ('\"${baseDir}/org.andstatus.app/51.02/apk/org.andstatus.app_298.apk\"', 1),\n",
       " ('\"${baseDir}/com.duckduckgo.mobile.android/5.32.1/apk/com.duckduckgo.mobile.android_53201.apk\"', 1),\n",
       " ('\"${baseDir}/com.health.openscale/2.1.0/apk/com.health.openscale_45.apk\"', 1),\n",
       " ('\"${baseDir}/com.gianlu.aria2android/2.1.7/apk/com.gianlu.aria2android_57.apk\"', 1)]"
      ]
     },
     "execution_count": 43,
     "metadata": {},
     "output_type": "execute_result"
    }
   ],
   "source": [
    "%%sql\n",
    "select cast(config::json->'apkPath' as text) as app,count(*) as count from jobs group by app order by count desc;"
   ]
  },
  {
   "cell_type": "code",
   "execution_count": 44,
   "metadata": {},
   "outputs": [
    {
     "name": "stdout",
     "output_type": "stream",
     "text": [
      " * postgresql://postgres@localhost:5433/postgres\n",
      "1 rows affected.\n"
     ]
    },
    {
     "data": {
      "text/html": [
       "<table>\n",
       "    <tr>\n",
       "        <th>count</th>\n",
       "        <th>status</th>\n",
       "    </tr>\n",
       "    <tr>\n",
       "        <td>5</td>\n",
       "        <td>completed</td>\n",
       "    </tr>\n",
       "</table>"
      ],
      "text/plain": [
       "[(5, 'completed')]"
      ]
     },
     "execution_count": 44,
     "metadata": {},
     "output_type": "execute_result"
    }
   ],
   "source": [
    "%%sql\n",
    "select count(*),status from jobs group by status;"
   ]
  },
  {
   "cell_type": "code",
   "execution_count": 45,
   "metadata": {},
   "outputs": [
    {
     "name": "stdout",
     "output_type": "stream",
     "text": [
      " * postgresql://postgres@localhost:5433/postgres\n",
      "1 rows affected.\n"
     ]
    },
    {
     "data": {
      "text/html": [
       "<table>\n",
       "    <tr>\n",
       "        <th>count</th>\n",
       "    </tr>\n",
       "    <tr>\n",
       "        <td>0</td>\n",
       "    </tr>\n",
       "</table>"
      ],
      "text/plain": [
       "[(0,)]"
      ]
     },
     "execution_count": 45,
     "metadata": {},
     "output_type": "execute_result"
    }
   ],
   "source": [
    "%%sql\n",
    "select count(*) from jobs where status like '%Exception%';"
   ]
  },
  {
   "cell_type": "code",
   "execution_count": 46,
   "metadata": {},
   "outputs": [
    {
     "name": "stdout",
     "output_type": "stream",
     "text": [
      " * postgresql://postgres@localhost:5433/postgres\n",
      "1 rows affected.\n"
     ]
    },
    {
     "data": {
      "text/html": [
       "<table>\n",
       "    <tr>\n",
       "        <th>count</th>\n",
       "    </tr>\n",
       "    <tr>\n",
       "        <td>0</td>\n",
       "    </tr>\n",
       "</table>"
      ],
      "text/plain": [
       "[(0,)]"
      ]
     },
     "execution_count": 46,
     "metadata": {},
     "output_type": "execute_result"
    }
   ],
   "source": [
    "%%sql\n",
    "select count(*) from jobs where status = 'acquired';"
   ]
  },
  {
   "cell_type": "code",
   "execution_count": 60,
   "metadata": {},
   "outputs": [
    {
     "name": "stdout",
     "output_type": "stream",
     "text": [
      " * postgresql://postgres@localhost:5433/postgres\n",
      "11 rows affected.\n"
     ]
    },
    {
     "data": {
      "text/html": [
       "<table>\n",
       "    <tr>\n",
       "        <th>summary</th>\n",
       "        <th>ch</th>\n",
       "        <th>count</th>\n",
       "        <th>avg</th>\n",
       "    </tr>\n",
       "    <tr>\n",
       "        <td>&quot;\\&quot;Ian implementation is missing\\&quot;&quot;</td>\n",
       "        <td>&quot;\\&quot;SingleCallbackMultiMethod\\&quot;&quot;</td>\n",
       "        <td>1</td>\n",
       "        <td>0E-20</td>\n",
       "    </tr>\n",
       "    <tr>\n",
       "        <td>&quot;\\&quot;Icouldn&#x27;t find this-assignment! in &lt;org.andstatus.app.service.MyServiceManager$MyServiceStateInTime: boolean access$100(org.andstatus.app.service.MyServiceManager$MyServiceStateInTime)&gt;\\&quot;&quot;</td>\n",
       "        <td>&quot;\\&quot;SingleCallbackMultiMethod\\&quot;&quot;</td>\n",
       "        <td>1</td>\n",
       "        <td>1.00000000000000000000</td>\n",
       "    </tr>\n",
       "    <tr>\n",
       "        <td>&quot;\\&quot;IFailed to parse reflective type reference: D\\&quot;&quot;</td>\n",
       "        <td>&quot;\\&quot;MultiCallback\\&quot;&quot;</td>\n",
       "        <td>4</td>\n",
       "        <td>1.00000000000000000000</td>\n",
       "    </tr>\n",
       "    <tr>\n",
       "        <td>&quot;\\&quot;IFailed to parse reflective type reference: D\\&quot;&quot;</td>\n",
       "        <td>&quot;\\&quot;SingleCallbackMultiMethod\\&quot;&quot;</td>\n",
       "        <td>1</td>\n",
       "        <td>8.0000000000000000</td>\n",
       "    </tr>\n",
       "    <tr>\n",
       "        <td>&quot;\\&quot;Itimeout\\&quot;&quot;</td>\n",
       "        <td>&quot;\\&quot;MultiCallback\\&quot;&quot;</td>\n",
       "        <td>6</td>\n",
       "        <td>601.0000000000000000</td>\n",
       "    </tr>\n",
       "    <tr>\n",
       "        <td>&quot;\\&quot;Itimeout\\&quot;&quot;</td>\n",
       "        <td>&quot;\\&quot;SingleCallbackMultiMethod\\&quot;&quot;</td>\n",
       "        <td>27</td>\n",
       "        <td>604.7777777777777778</td>\n",
       "    </tr>\n",
       "    <tr>\n",
       "        <td>&quot;\\&quot;Itimeout\\&quot;&quot;</td>\n",
       "        <td>&quot;\\&quot;SingleMethod\\&quot;&quot;</td>\n",
       "        <td>2</td>\n",
       "        <td>601.0000000000000000</td>\n",
       "    </tr>\n",
       "    <tr>\n",
       "        <td>&quot;\\&quot;Proven\\&quot;&quot;</td>\n",
       "        <td>&quot;\\&quot;SingleCallbackMultiMethod\\&quot;&quot;</td>\n",
       "        <td>20</td>\n",
       "        <td>0.90000000000000000000</td>\n",
       "    </tr>\n",
       "    <tr>\n",
       "        <td>&quot;\\&quot;Proven\\&quot;&quot;</td>\n",
       "        <td>&quot;\\&quot;SingleMethod\\&quot;&quot;</td>\n",
       "        <td>128</td>\n",
       "        <td>0.14843750000000000000</td>\n",
       "    </tr>\n",
       "    <tr>\n",
       "        <td>&quot;\\&quot;Unreachable\\&quot;&quot;</td>\n",
       "        <td>&quot;\\&quot;SingleMethod\\&quot;&quot;</td>\n",
       "        <td>52</td>\n",
       "        <td>0.23076923076923076923</td>\n",
       "    </tr>\n",
       "    <tr>\n",
       "        <td>&quot;\\&quot;Witnessed\\&quot;&quot;</td>\n",
       "        <td>&quot;\\&quot;MultiCallback\\&quot;&quot;</td>\n",
       "        <td>8</td>\n",
       "        <td>0.37500000000000000000</td>\n",
       "    </tr>\n",
       "</table>"
      ],
      "text/plain": [
       "[('\"\\\\\"Ian implementation is missing\\\\\"\"', '\"\\\\\"SingleCallbackMultiMethod\\\\\"\"', 1, Decimal('0E-20')),\n",
       " ('\"\\\\\"Icouldn\\'t find this-assignment! in <org.andstatus.app.service.MyServiceManager$MyServiceStateInTime: boolean access$100(org.andstatus.app.service.MyServiceManager$MyServiceStateInTime)>\\\\\"\"', '\"\\\\\"SingleCallbackMultiMethod\\\\\"\"', 1, Decimal('1.00000000000000000000')),\n",
       " ('\"\\\\\"IFailed to parse reflective type reference: D\\\\\"\"', '\"\\\\\"MultiCallback\\\\\"\"', 4, Decimal('1.00000000000000000000')),\n",
       " ('\"\\\\\"IFailed to parse reflective type reference: D\\\\\"\"', '\"\\\\\"SingleCallbackMultiMethod\\\\\"\"', 1, Decimal('8.0000000000000000')),\n",
       " ('\"\\\\\"Itimeout\\\\\"\"', '\"\\\\\"MultiCallback\\\\\"\"', 6, Decimal('601.0000000000000000')),\n",
       " ('\"\\\\\"Itimeout\\\\\"\"', '\"\\\\\"SingleCallbackMultiMethod\\\\\"\"', 27, Decimal('604.7777777777777778')),\n",
       " ('\"\\\\\"Itimeout\\\\\"\"', '\"\\\\\"SingleMethod\\\\\"\"', 2, Decimal('601.0000000000000000')),\n",
       " ('\"\\\\\"Proven\\\\\"\"', '\"\\\\\"SingleCallbackMultiMethod\\\\\"\"', 20, Decimal('0.90000000000000000000')),\n",
       " ('\"\\\\\"Proven\\\\\"\"', '\"\\\\\"SingleMethod\\\\\"\"', 128, Decimal('0.14843750000000000000')),\n",
       " ('\"\\\\\"Unreachable\\\\\"\"', '\"\\\\\"SingleMethod\\\\\"\"', 52, Decimal('0.23076923076923076923')),\n",
       " ('\"\\\\\"Witnessed\\\\\"\"', '\"\\\\\"MultiCallback\\\\\"\"', 8, Decimal('0.37500000000000000000'))]"
      ]
     },
     "execution_count": 60,
     "metadata": {},
     "output_type": "execute_result"
    }
   ],
   "source": [
    "%%sql \n",
    "select cast(result::json->'summary' as varchar) as summary, cast(result::json->'maxPathCh' as varchar) as ch,count(*),avg(querytime) from results group by summary,ch order by summary,ch;"
   ]
  },
  {
   "cell_type": "markdown",
   "metadata": {},
   "source": [
    "- can we bias sampling toward points likely to be buggy?\n",
    "\n",
    "look at existing bugs to find characteristics e.g.\n",
    "\n",
    "*  dereferences in the `call` like methods\n",
    "*  dereferences on object field\n",
    "\n",
    "\n",
    "use wrapfig package\n",
    "\n",
    "perhaps just throw away exception samples note that engineering challenge to deal with them\n",
    "\n",
    "perhaps target apis that we have already specified.\n",
    "\n",
    "what we want to show with big experiment\n",
    "\n",
    "- baseline with no specification\n",
    "- go through some witnesses and show we can add a few specifications and they make sense.  What is the effort to write the specification.\n",
    "\n",
    "\n",
    "highlight that the above is a filtering\n",
    "\n",
    "intra-callback analysis is effectively thresher\n",
    "\n",
    "- [] does not looking into callins cause the issues with scaling?  This may affect single callback multi method.  We have a lot of timeouts, this may be a result of how we handle callins. (perhaps some sampling to understand this better)\n",
    "\n",
    "timeout is killing us with no spec run, understand why we timeout on these, but possibly just discard.  Timeouts are not particularly interesting for our problem, understanding issues would be useful, but not focus of what we want to do.  Drop time limit.\n",
    "\n",
    "- [] ask on bug tracker about different results "
   ]
  },
  {
   "cell_type": "markdown",
   "metadata": {},
   "source": [
    "Triage witness results\n",
    "----------------------"
   ]
  },
  {
   "cell_type": "code",
   "execution_count": 61,
   "metadata": {},
   "outputs": [
    {
     "name": "stdout",
     "output_type": "stream",
     "text": [
      " * postgresql://postgres@localhost:5433/postgres\n",
      "8 rows affected.\n"
     ]
    },
    {
     "data": {
      "text/html": [
       "<table>\n",
       "    <tr>\n",
       "        <th>id</th>\n",
       "        <th>jobid</th>\n",
       "        <th>resultdata</th>\n",
       "        <th>clazz</th>\n",
       "        <th>?column?</th>\n",
       "    </tr>\n",
       "    <tr>\n",
       "        <td>3841</td>\n",
       "        <td>1323</td>\n",
       "        <td>477</td>\n",
       "        <td>com.gianlu.commonutils.Preferences.BasePreferenceActivity</td>\n",
       "        <td>[&quot;com.gianlu.commonutils.Preferences.BasePreferenceActivity&quot;,&quot;android.view.MenuItem&quot;]</td>\n",
       "    </tr>\n",
       "    <tr>\n",
       "        <td>3901</td>\n",
       "        <td>1324</td>\n",
       "        <td>478</td>\n",
       "        <td>com.lyonbros.turtl.MainActivity</td>\n",
       "        <td>[&quot;com.lyonbros.turtl.MainActivity&quot;,&quot;android.os.Bundle&quot;]</td>\n",
       "    </tr>\n",
       "    <tr>\n",
       "        <td>3947</td>\n",
       "        <td>1325</td>\n",
       "        <td>479</td>\n",
       "        <td>com.duckduckgo.app.brokensite.BrokenSiteActivity</td>\n",
       "        <td>[&quot;com.duckduckgo.app.brokensite.BrokenSiteActivity&quot;]</td>\n",
       "    </tr>\n",
       "    <tr>\n",
       "        <td>3979</td>\n",
       "        <td>1326</td>\n",
       "        <td>480</td>\n",
       "        <td>com.health.openscale.gui.activities.UserSettingsActivity$1</td>\n",
       "        <td>[&quot;com.health.openscale.gui.activities.UserSettingsActivity$1&quot;,&quot;android.view.View&quot;]</td>\n",
       "    </tr>\n",
       "    <tr>\n",
       "        <td>4023</td>\n",
       "        <td>1322</td>\n",
       "        <td>481</td>\n",
       "        <td>org.andstatus.app.util.UriUtils</td>\n",
       "        <td>[&quot;void&quot;,&quot;java.lang.String&quot;]</td>\n",
       "    </tr>\n",
       "    <tr>\n",
       "        <td>4028</td>\n",
       "        <td>1322</td>\n",
       "        <td>481</td>\n",
       "        <td>org.andstatus.app.note.NoteBodyTokenizer</td>\n",
       "        <td>[&quot;org.andstatus.app.note.NoteBodyTokenizer&quot;,&quot;java.lang.CharSequence&quot;]</td>\n",
       "    </tr>\n",
       "    <tr>\n",
       "        <td>4031</td>\n",
       "        <td>1322</td>\n",
       "        <td>481</td>\n",
       "        <td>org.andstatus.app.timeline.BaseTimelineAdapter</td>\n",
       "        <td>[&quot;org.andstatus.app.timeline.BaseTimelineAdapter&quot;,&quot;android.view.View&quot;]</td>\n",
       "    </tr>\n",
       "    <tr>\n",
       "        <td>4045</td>\n",
       "        <td>1322</td>\n",
       "        <td>481</td>\n",
       "        <td>org.andstatus.app.data.checker.CheckConversations</td>\n",
       "        <td>[&quot;void&quot;,&quot;org.andstatus.app.data.checker.CheckConversations$NoteItem&quot;]</td>\n",
       "    </tr>\n",
       "</table>"
      ],
      "text/plain": [
       "[(3841, 1323, 477, 'com.gianlu.commonutils.Preferences.BasePreferenceActivity', '[\"com.gianlu.commonutils.Preferences.BasePreferenceActivity\",\"android.view.MenuItem\"]'),\n",
       " (3901, 1324, 478, 'com.lyonbros.turtl.MainActivity', '[\"com.lyonbros.turtl.MainActivity\",\"android.os.Bundle\"]'),\n",
       " (3947, 1325, 479, 'com.duckduckgo.app.brokensite.BrokenSiteActivity', '[\"com.duckduckgo.app.brokensite.BrokenSiteActivity\"]'),\n",
       " (3979, 1326, 480, 'com.health.openscale.gui.activities.UserSettingsActivity$1', '[\"com.health.openscale.gui.activities.UserSettingsActivity$1\",\"android.view.View\"]'),\n",
       " (4023, 1322, 481, 'org.andstatus.app.util.UriUtils', '[\"void\",\"java.lang.String\"]'),\n",
       " (4028, 1322, 481, 'org.andstatus.app.note.NoteBodyTokenizer', '[\"org.andstatus.app.note.NoteBodyTokenizer\",\"java.lang.CharSequence\"]'),\n",
       " (4031, 1322, 481, 'org.andstatus.app.timeline.BaseTimelineAdapter', '[\"org.andstatus.app.timeline.BaseTimelineAdapter\",\"android.view.View\"]'),\n",
       " (4045, 1322, 481, 'org.andstatus.app.data.checker.CheckConversations', '[\"void\",\"org.andstatus.app.data.checker.CheckConversations$NoteItem\"]')]"
      ]
     },
     "execution_count": 61,
     "metadata": {},
     "output_type": "execute_result"
    }
   ],
   "source": [
    "%%sql \n",
    "select id,jobid,resultdata,loc::json->'method'->>1 as clazz,loc::json->'method'->>2 from results \n",
    "                where cast(result::json->'summary' as varchar) like '%Witnessed%' order by id asc limit 100;"
   ]
  },
  {
   "cell_type": "raw",
   "metadata": {},
   "source": [
    "id \tjobid \tresultdata \tclazz \t?column?\n",
    "3841 \t1323 \t477 \tcom.gianlu.commonutils.Preferences.BasePreferenceActivity \t[\"com.gianlu.commonutils.Preferences.BasePreferenceActivity\",\"android.view.MenuItem\"]     (simple) arg of cb non null\n",
    "3901 \t1324 \t478 \tcom.lyonbros.turtl.MainActivity \t[\"com.lyonbros.turtl.MainActivity\",\"android.os.Bundle\"]     (my bug) super should always be non null\n",
    "3947 \t1325 \t479 \tcom.duckduckgo.app.brokensite.BrokenSiteActivity \t[\"com.duckduckgo.app.brokensite.BrokenSiteActivity\"] (simple) arg of cb non null\n",
    "3979 \t1326 \t480 \tcom.health.openscale.gui.activities.UserSettingsActivity$1 \t[\"com.health.openscale.gui.activities.UserSettingsActivity$1\",\"android.view.View\"]  (simple) ret val of callin non null\n",
    "4023 \t1322 \t481 \torg.andstatus.app.util.UriUtils \t[\"void\",\"java.lang.String\"] (simple) non-null callin\n",
    "4028 \t1322 \t481 \torg.andstatus.app.note.NoteBodyTokenizer \t[\"org.andstatus.app.note.NoteBodyTokenizer\",\"java.lang.CharSequence\"] (likely simple) non-null parameter\n",
    "4031 \t1322 \t481 \torg.andstatus.app.timeline.BaseTimelineAdapter \t[\"org.andstatus.app.timeline.BaseTimelineAdapter\",\"android.view.View\"] (interesting) value from get-parent - can be null i parent not defined.\n",
    "4045 \t1322 \t481 \torg.andstatus.app.data.checker.CheckConversations \t[\"void\",\"org.andstatus.app.data.checker.CheckConversations$NoteItem\"] (possibly interesting) apply callback, may be generated code of some kind? likely a bound callback from something"
   ]
  },
  {
   "cell_type": "raw",
   "metadata": {},
   "source": [
    "1) quick scan of code for patterns that likely involve multi callback crashes.\n",
    "    - deref of value read from field accessed by multiple callbacks (quick syntactic scan, needs minor upgrade to sampler)\n",
    "    - value returned from \"interesting\" callin, e.g. getParent/getActivity - need way to identify these, perhaps just use a few known ones\n",
    "    - sensitive callins e.g. execute\n",
    "    \n",
    "2) write specifications to avoid crashes on sampling of these interesting locations, if that fails, try to reproduce crash\n",
    "\n",
    "\n",
    "RQ: Is it feasible and necessary to write cftl specifications to prove a callback ordering sensitive assertion?\n",
    "\n",
    "We first generate a set of assertions that are likely to be useful to an android developer by scanning for patterns involved in multi callback mistakes.  We then report the number of locations proven 1)without a framework model 2) with the activity lifecycle and 3) with a hand written cftl model.  In the case of writing the model, we measure the time it takes a human to develop such a model.  "
   ]
  },
  {
   "cell_type": "code",
   "execution_count": 49,
   "metadata": {},
   "outputs": [
    {
     "name": "stdout",
     "output_type": "stream",
     "text": [
      " * postgresql://postgres@localhost:5433/postgres\n",
      "0 rows affected.\n"
     ]
    },
    {
     "data": {
      "text/html": [
       "<table>\n",
       "    <tr>\n",
       "        <th>id</th>\n",
       "        <th>jobid</th>\n",
       "        <th>resultdata</th>\n",
       "        <th>clazz</th>\n",
       "        <th>replace</th>\n",
       "    </tr>\n",
       "</table>"
      ],
      "text/plain": [
       "[]"
      ]
     },
     "execution_count": 49,
     "metadata": {},
     "output_type": "execute_result"
    }
   ],
   "source": [
    "%%sql \n",
    "select id,jobid,resultdata,loc::json->'method'->>1 as clazz, \n",
    "        replace(cast(loc::json->'line'->'str' as varchar),'$','\\$') from results where id = 40;"
   ]
  },
  {
   "cell_type": "markdown",
   "metadata": {},
   "source": [
    "Triage proven results\n",
    "--------------------------"
   ]
  },
  {
   "cell_type": "code",
   "execution_count": 50,
   "metadata": {},
   "outputs": [
    {
     "name": "stdout",
     "output_type": "stream",
     "text": [
      " * postgresql://postgres@localhost:5433/postgres\n",
      "10 rows affected.\n"
     ]
    },
    {
     "data": {
      "text/html": [
       "<table>\n",
       "    <tr>\n",
       "        <th>id</th>\n",
       "        <th>jobid</th>\n",
       "        <th>resultdata</th>\n",
       "        <th>clazz</th>\n",
       "        <th>?column?</th>\n",
       "    </tr>\n",
       "    <tr>\n",
       "        <td>4010</td>\n",
       "        <td>1326</td>\n",
       "        <td>480</td>\n",
       "        <td>com.health.openscale.core.bluetooth.BluetoothCommunication</td>\n",
       "        <td>[&quot;com.health.openscale.core.bluetooth.BluetoothCommunication&quot;,&quot;java.util.UUID&quot;,&quot;java.util.UUID&quot;]</td>\n",
       "    </tr>\n",
       "    <tr>\n",
       "        <td>4038</td>\n",
       "        <td>1322</td>\n",
       "        <td>481</td>\n",
       "        <td>org.andstatus.app.origin.Origin</td>\n",
       "        <td>[&quot;org.andstatus.app.origin.Origin&quot;]</td>\n",
       "    </tr>\n",
       "    <tr>\n",
       "        <td>3894</td>\n",
       "        <td>1324</td>\n",
       "        <td>478</td>\n",
       "        <td>com.lyonbros.turtlstore.SecurityStore</td>\n",
       "        <td>[&quot;com.lyonbros.turtlstore.SecurityStore&quot;]</td>\n",
       "    </tr>\n",
       "    <tr>\n",
       "        <td>3823</td>\n",
       "        <td>1323</td>\n",
       "        <td>477</td>\n",
       "        <td>com.gianlu.aria2lib.GitHubApi</td>\n",
       "        <td>[&quot;void&quot;,&quot;com.gianlu.aria2lib.GitHubApi&quot;]</td>\n",
       "    </tr>\n",
       "    <tr>\n",
       "        <td>4059</td>\n",
       "        <td>1322</td>\n",
       "        <td>481</td>\n",
       "        <td>org.andstatus.app.net.social.AActivity</td>\n",
       "        <td>[&quot;org.andstatus.app.net.social.AActivity&quot;]</td>\n",
       "    </tr>\n",
       "    <tr>\n",
       "        <td>3991</td>\n",
       "        <td>1326</td>\n",
       "        <td>480</td>\n",
       "        <td>com.health.openscale.core.bodymetric.BFEddy</td>\n",
       "        <td>[&quot;com.health.openscale.core.bodymetric.BFEddy&quot;,&quot;com.health.openscale.core.datatypes.ScaleUser&quot;,&quot;com.health.openscale.core.datatypes.ScaleMeasurement&quot;]</td>\n",
       "    </tr>\n",
       "    <tr>\n",
       "        <td>3945</td>\n",
       "        <td>1325</td>\n",
       "        <td>479</td>\n",
       "        <td>com.duckduckgo.app.privacy.ui.PrivacyPracticesAdapter$PracticeViewHolder</td>\n",
       "        <td>[&quot;com.duckduckgo.app.privacy.ui.PrivacyPracticesAdapter$PracticeViewHolder&quot;]</td>\n",
       "    </tr>\n",
       "    <tr>\n",
       "        <td>3891</td>\n",
       "        <td>1324</td>\n",
       "        <td>478</td>\n",
       "        <td>com.lyonbros.turtlstore.SecurityStore</td>\n",
       "        <td>[&quot;com.lyonbros.turtlstore.SecurityStore&quot;,&quot;byte[]&quot;,&quot;java.lang.String&quot;]</td>\n",
       "    </tr>\n",
       "    <tr>\n",
       "        <td>3995</td>\n",
       "        <td>1326</td>\n",
       "        <td>480</td>\n",
       "        <td>com.health.openscale.gui.preferences.BluetoothPreferences$1</td>\n",
       "        <td>[&quot;com.health.openscale.gui.preferences.BluetoothPreferences$1&quot;,&quot;com.welie.blessed.BluetoothPeripheral&quot;,&quot;android.bluetooth.le.ScanResult&quot;]</td>\n",
       "    </tr>\n",
       "    <tr>\n",
       "        <td>3918</td>\n",
       "        <td>1324</td>\n",
       "        <td>478</td>\n",
       "        <td>com.lyonbros.turtlstore.TurtlStorePlugin</td>\n",
       "        <td>[&quot;com.lyonbros.turtlstore.TurtlStorePlugin&quot;,&quot;java.lang.String&quot;,&quot;org.json.JSONArray&quot;,&quot;org.apache.cordova.CallbackContext&quot;]</td>\n",
       "    </tr>\n",
       "</table>"
      ],
      "text/plain": [
       "[(4010, 1326, 480, 'com.health.openscale.core.bluetooth.BluetoothCommunication', '[\"com.health.openscale.core.bluetooth.BluetoothCommunication\",\"java.util.UUID\",\"java.util.UUID\"]'),\n",
       " (4038, 1322, 481, 'org.andstatus.app.origin.Origin', '[\"org.andstatus.app.origin.Origin\"]'),\n",
       " (3894, 1324, 478, 'com.lyonbros.turtlstore.SecurityStore', '[\"com.lyonbros.turtlstore.SecurityStore\"]'),\n",
       " (3823, 1323, 477, 'com.gianlu.aria2lib.GitHubApi', '[\"void\",\"com.gianlu.aria2lib.GitHubApi\"]'),\n",
       " (4059, 1322, 481, 'org.andstatus.app.net.social.AActivity', '[\"org.andstatus.app.net.social.AActivity\"]'),\n",
       " (3991, 1326, 480, 'com.health.openscale.core.bodymetric.BFEddy', '[\"com.health.openscale.core.bodymetric.BFEddy\",\"com.health.openscale.core.datatypes.ScaleUser\",\"com.health.openscale.core.datatypes.ScaleMeasurement\"]'),\n",
       " (3945, 1325, 479, 'com.duckduckgo.app.privacy.ui.PrivacyPracticesAdapter$PracticeViewHolder', '[\"com.duckduckgo.app.privacy.ui.PrivacyPracticesAdapter$PracticeViewHolder\"]'),\n",
       " (3891, 1324, 478, 'com.lyonbros.turtlstore.SecurityStore', '[\"com.lyonbros.turtlstore.SecurityStore\",\"byte[]\",\"java.lang.String\"]'),\n",
       " (3995, 1326, 480, 'com.health.openscale.gui.preferences.BluetoothPreferences$1', '[\"com.health.openscale.gui.preferences.BluetoothPreferences$1\",\"com.welie.blessed.BluetoothPeripheral\",\"android.bluetooth.le.ScanResult\"]'),\n",
       " (3918, 1324, 478, 'com.lyonbros.turtlstore.TurtlStorePlugin', '[\"com.lyonbros.turtlstore.TurtlStorePlugin\",\"java.lang.String\",\"org.json.JSONArray\",\"org.apache.cordova.CallbackContext\"]')]"
      ]
     },
     "execution_count": 50,
     "metadata": {},
     "output_type": "execute_result"
    }
   ],
   "source": [
    "%%sql \n",
    "select id,jobid,resultdata,loc::json->'method'->>1 as clazz,loc::json->'method'->>2 from results \n",
    "                where cast(result::json->'summary' as varchar) like '%Proven%' order by random() limit 10;"
   ]
  },
  {
   "cell_type": "raw",
   "metadata": {},
   "source": [
    "TODO"
   ]
  },
  {
   "cell_type": "markdown",
   "metadata": {},
   "source": [
    "Triage unreachable results\n",
    "--------------------------"
   ]
  },
  {
   "cell_type": "code",
   "execution_count": 51,
   "metadata": {},
   "outputs": [
    {
     "name": "stdout",
     "output_type": "stream",
     "text": [
      " * postgresql://postgres@localhost:5433/postgres\n",
      "15 rows affected.\n"
     ]
    },
    {
     "data": {
      "text/html": [
       "<table>\n",
       "    <tr>\n",
       "        <th>id</th>\n",
       "        <th>jobid</th>\n",
       "        <th>resultdata</th>\n",
       "        <th>clazz</th>\n",
       "    </tr>\n",
       "    <tr>\n",
       "        <td>3835</td>\n",
       "        <td>1323</td>\n",
       "        <td>477</td>\n",
       "        <td>com.gianlu.commonutils.Logging$LogLine</td>\n",
       "    </tr>\n",
       "    <tr>\n",
       "        <td>3853</td>\n",
       "        <td>1323</td>\n",
       "        <td>477</td>\n",
       "        <td>com.gianlu.aria2lib.Interface.ConfigEditorActivity</td>\n",
       "    </tr>\n",
       "    <tr>\n",
       "        <td>3863</td>\n",
       "        <td>1323</td>\n",
       "        <td>477</td>\n",
       "        <td>com.gianlu.aria2lib.Internal.Aria2$Monitor</td>\n",
       "    </tr>\n",
       "    <tr>\n",
       "        <td>4049</td>\n",
       "        <td>1322</td>\n",
       "        <td>481</td>\n",
       "        <td>org.andstatus.app.service.CommandExecutorStrategy$1</td>\n",
       "    </tr>\n",
       "    <tr>\n",
       "        <td>3922</td>\n",
       "        <td>1324</td>\n",
       "        <td>478</td>\n",
       "        <td>com.lyonbros.turtlstore.SecurityStore</td>\n",
       "    </tr>\n",
       "    <tr>\n",
       "        <td>4057</td>\n",
       "        <td>1322</td>\n",
       "        <td>481</td>\n",
       "        <td>org.andstatus.app.net.social.AJsonCollection$Type</td>\n",
       "    </tr>\n",
       "    <tr>\n",
       "        <td>4036</td>\n",
       "        <td>1322</td>\n",
       "        <td>481</td>\n",
       "        <td>org.andstatus.app.net.social.Attachments$1</td>\n",
       "    </tr>\n",
       "    <tr>\n",
       "        <td>3988</td>\n",
       "        <td>1326</td>\n",
       "        <td>480</td>\n",
       "        <td>com.health.openscale.gui.views.ChartMeasurementView</td>\n",
       "    </tr>\n",
       "    <tr>\n",
       "        <td>4067</td>\n",
       "        <td>1322</td>\n",
       "        <td>481</td>\n",
       "        <td>org.andstatus.app.notification.NotificationMethodType$1</td>\n",
       "    </tr>\n",
       "    <tr>\n",
       "        <td>3842</td>\n",
       "        <td>1323</td>\n",
       "        <td>477</td>\n",
       "        <td>com.gianlu.aria2lib.Internal.Aria2$TopParser$2</td>\n",
       "    </tr>\n",
       "    <tr>\n",
       "        <td>4012</td>\n",
       "        <td>1326</td>\n",
       "        <td>480</td>\n",
       "        <td>com.health.openscale.core.database.ScaleMeasurementDAO_Impl</td>\n",
       "    </tr>\n",
       "    <tr>\n",
       "        <td>3959</td>\n",
       "        <td>1325</td>\n",
       "        <td>479</td>\n",
       "        <td>com.duckduckgo.app.httpsupgrade.api.HttpsUpgradeDataDownloader$downloadBloomFilter$1$1</td>\n",
       "    </tr>\n",
       "    <tr>\n",
       "        <td>3966</td>\n",
       "        <td>1325</td>\n",
       "        <td>479</td>\n",
       "        <td>com.duckduckgo.app.fire.DataClearingWorker</td>\n",
       "    </tr>\n",
       "    <tr>\n",
       "        <td>4056</td>\n",
       "        <td>1322</td>\n",
       "        <td>481</td>\n",
       "        <td>org.andstatus.app.service.CommandExecutorOther$1</td>\n",
       "    </tr>\n",
       "    <tr>\n",
       "        <td>3898</td>\n",
       "        <td>1324</td>\n",
       "        <td>478</td>\n",
       "        <td>com.lyonbros.turtlstore.SecurityStore</td>\n",
       "    </tr>\n",
       "</table>"
      ],
      "text/plain": [
       "[(3835, 1323, 477, 'com.gianlu.commonutils.Logging$LogLine'),\n",
       " (3853, 1323, 477, 'com.gianlu.aria2lib.Interface.ConfigEditorActivity'),\n",
       " (3863, 1323, 477, 'com.gianlu.aria2lib.Internal.Aria2$Monitor'),\n",
       " (4049, 1322, 481, 'org.andstatus.app.service.CommandExecutorStrategy$1'),\n",
       " (3922, 1324, 478, 'com.lyonbros.turtlstore.SecurityStore'),\n",
       " (4057, 1322, 481, 'org.andstatus.app.net.social.AJsonCollection$Type'),\n",
       " (4036, 1322, 481, 'org.andstatus.app.net.social.Attachments$1'),\n",
       " (3988, 1326, 480, 'com.health.openscale.gui.views.ChartMeasurementView'),\n",
       " (4067, 1322, 481, 'org.andstatus.app.notification.NotificationMethodType$1'),\n",
       " (3842, 1323, 477, 'com.gianlu.aria2lib.Internal.Aria2$TopParser$2'),\n",
       " (4012, 1326, 480, 'com.health.openscale.core.database.ScaleMeasurementDAO_Impl'),\n",
       " (3959, 1325, 479, 'com.duckduckgo.app.httpsupgrade.api.HttpsUpgradeDataDownloader$downloadBloomFilter$1$1'),\n",
       " (3966, 1325, 479, 'com.duckduckgo.app.fire.DataClearingWorker'),\n",
       " (4056, 1322, 481, 'org.andstatus.app.service.CommandExecutorOther$1'),\n",
       " (3898, 1324, 478, 'com.lyonbros.turtlstore.SecurityStore')]"
      ]
     },
     "execution_count": 51,
     "metadata": {},
     "output_type": "execute_result"
    }
   ],
   "source": [
    "%%sql \n",
    "select id,jobid,resultdata,loc::json->'method'->>1 as clazz \n",
    "            from results where cast(result::json->'summary' as varchar) like '%Unreachable%' \n",
    "            order by random() limit 15;"
   ]
  },
  {
   "cell_type": "raw",
   "metadata": {},
   "source": [
    "id \tjobid \tresultdata \tclazz\n",
    "3632 \t1315 \t471 \tio.reactivex.Flowable\n",
    "3585 \t1314 \t470 \tcc.fovea.openwith.OpenWithPlugin\n",
    "3645 \t1315 \t471 \tcom.duckduckgo.app.bookmarks.ui.BookmarksViewModel\n",
    "3594 \t1314 \t470 \tcc.fovea.openwith.PluginResultSender\n",
    "3580 \t1314 \t470 \tcc.fovea.openwith.PluginResultSender\n",
    "3627 \t1315 \t471 \tio.reactivex.internal.operators.parallel.ParallelFromPublisher$ParallelDispatcher\n",
    "3629 \t1315 \t471 \tio.reactivex.internal.operators.single.SingleUnsubscribeOn\n",
    "3663 \t1315 \t471 \tio.reactivex.internal.operators.flowable.FlowableTakeUntil$TakeUntilMainSubscriber\n",
    "3582 \t1314 \t470 \tcc.fovea.openwith.PluginResultSender\n",
    "3657 \t1315 \t471 \tio.reactivex.internal.observers.QueueDrainObserver\n",
    "3603 \t1314 \t470 \tcc.fovea.openwith.ByteStreams\n",
    "3669 \t1315 \t471 \tcom.duckduckgo.app.tabs.db.TabsDao_Impl$1\n",
    "3586 \t1314 \t470 \tcc.fovea.openwith.OpenWithPlugin$1\n",
    "3659 \t1315 \t471 \tio.reactivex.internal.operators.flowable.FlowableCreate$BaseEmitter\n",
    "3646 \t1315 \t471 \tio.reactivex.internal.schedulers.SchedulerPoolFactory"
   ]
  },
  {
   "cell_type": "code",
   "execution_count": 52,
   "metadata": {},
   "outputs": [
    {
     "name": "stdout",
     "output_type": "stream",
     "text": [
      " * postgresql://postgres@localhost:5433/postgres\n",
      "0 rows affected.\n"
     ]
    },
    {
     "data": {
      "text/html": [
       "<table>\n",
       "    <tr>\n",
       "        <th>id</th>\n",
       "        <th>jobid</th>\n",
       "        <th>resultdata</th>\n",
       "        <th>clazz</th>\n",
       "        <th>mname</th>\n",
       "        <th>location</th>\n",
       "    </tr>\n",
       "</table>"
      ],
      "text/plain": [
       "[]"
      ]
     },
     "execution_count": 52,
     "metadata": {},
     "output_type": "execute_result"
    }
   ],
   "source": [
    "%%sql\n",
    "select id,jobid,resultdata,loc::json->'method'->>1 as clazz, \n",
    "        replace(cast(loc::json->'method'->>0 as varchar),'$','\\$') as mname, \n",
    "        replace(cast(loc::json->'line' as varchar),'$','\\$') as location \n",
    "        from results where id = 15037;"
   ]
  },
  {
   "cell_type": "raw",
   "metadata": {},
   "source": [
    "\n",
    "id      jobid\tresultdata\tclazz\n",
    "15037\t243  \t761     \titkach.aard2.ArticleWebView$4\n",
    "\n",
    "12610\t90  \t676     \torg.tukaani.xz.lzma.LZMAEncoderNormal\n",
    "12479\t368  \t674\t        com.serwylo.lexica.trie.util.LetterFrequency\n",
    "8881\t308 \t436     \tnet.healeys.trie.StringTrie$Node\n",
    "11298\t208 \t573     \torg.tukaani.xz.index.IndexBase\n",
    "\n"
   ]
  },
  {
   "cell_type": "code",
   "execution_count": 53,
   "metadata": {},
   "outputs": [
    {
     "name": "stdout",
     "output_type": "stream",
     "text": [
      " * postgresql://postgres@localhost:5433/postgres\n",
      "0 rows affected.\n"
     ]
    },
    {
     "data": {
      "text/html": [
       "<table>\n",
       "    <tr>\n",
       "        <th>id</th>\n",
       "        <th>result</th>\n",
       "        <th>location</th>\n",
       "    </tr>\n",
       "</table>"
      ],
      "text/plain": [
       "[]"
      ]
     },
     "execution_count": 53,
     "metadata": {},
     "output_type": "execute_result"
    }
   ],
   "source": [
    "%%sql\n",
    "select id,result,replace(cast(loc::json->'line' as varchar),'$','\\$') as location \n",
    "    from results where loc like '%244 $r3%';"
   ]
  },
  {
   "cell_type": "code",
   "execution_count": 54,
   "metadata": {},
   "outputs": [
    {
     "name": "stdout",
     "output_type": "stream",
     "text": [
      " * postgresql://postgres@localhost:5433/postgres\n",
      "0 rows affected.\n"
     ]
    },
    {
     "data": {
      "text/html": [
       "<table>\n",
       "    <tr>\n",
       "        <th>replace</th>\n",
       "    </tr>\n",
       "</table>"
      ],
      "text/plain": [
       "[]"
      ]
     },
     "execution_count": 54,
     "metadata": {},
     "output_type": "execute_result"
    }
   ],
   "source": [
    "%%sql\n",
    "select replace(cast(loc as varchar),'$','\\$') from results where id = 1494;"
   ]
  },
  {
   "cell_type": "markdown",
   "metadata": {},
   "source": [
    "Runtime Stats\n",
    "============="
   ]
  },
  {
   "cell_type": "code",
   "execution_count": 57,
   "metadata": {},
   "outputs": [
    {
     "name": "stdout",
     "output_type": "stream",
     "text": [
      " * postgresql://postgres@localhost:5433/postgres\n",
      "250 rows affected.\n"
     ]
    },
    {
     "data": {
      "text/plain": [
       "Text(0.5, 0, 'time (sec)')"
      ]
     },
     "execution_count": 57,
     "metadata": {},
     "output_type": "execute_result"
    },
    {
     "data": {
      "image/png": "[encoded data removed]",
      "text/plain": [
       "<Figure size 432x288 with 1 Axes>"
      ]
     },
     "metadata": {},
     "output_type": "display_data"
    }
   ],
   "source": [
    "queryTime = %sql select querytime from results;\n",
    "tplt = queryTime.DataFrame().plot.hist(bins=32)\n",
    "# tplt.set_yscale('log')\n",
    "tplt.set_xlabel('time (sec)')\n",
    "# split this into proven and witnessed"
   ]
  },
  {
   "cell_type": "code",
   "execution_count": 56,
   "metadata": {},
   "outputs": [
    {
     "name": "stdout",
     "output_type": "stream",
     "text": [
      " * postgresql://postgres@localhost:5433/postgres\n",
      "5 rows affected.\n"
     ]
    },
    {
     "data": {
      "text/plain": [
       "Text(0.5, 0, 'time (min)')"
      ]
     },
     "execution_count": 56,
     "metadata": {},
     "output_type": "execute_result"
    },
    {
     "data": {
      "image/png": "[encoded data removed]",
      "text/plain": [
       "<Figure size 432x288 with 1 Axes>"
      ]
     },
     "metadata": {},
     "output_type": "display_data"
    }
   ],
   "source": [
    "# Job runtimes\n",
    "runtimes = %sql select ended - started as time from jobs where ended is not NULL;\n",
    "runtimesDF = runtimes.DataFrame()\n",
    "runtimesDF['time'] = runtimesDF['time'].apply(lambda x: x.total_seconds() / (60))\n",
    "tplt = runtimesDF.plot.hist(bins=32)\n",
    "tplt.set_yscale('log')\n",
    "tplt.set_xlabel('time (min)')"
   ]
  },
  {
   "cell_type": "code",
   "execution_count": null,
   "metadata": {},
   "outputs": [],
   "source": [
    "# Plot job time trend\n",
    "rtvt = %sql select started, ended - started as time from jobs where ended is not NULL;\n",
    "rtvtDF = rtvt.DataFrame()\n",
    "rtvtDF.sort_values('started', ascending=True)\n",
    "fig, ax = plt.subplots()\n",
    "ax.plot_date(rtvtDF['started'], rtvtDF['time'], marker='*', linestyle='')\n",
    "\n",
    "fig.autofmt_xdate()\n",
    "plt.show()\n"
   ]
  },
  {
   "cell_type": "markdown",
   "metadata": {},
   "source": [
    "Total job time"
   ]
  },
  {
   "cell_type": "code",
   "execution_count": null,
   "metadata": {},
   "outputs": [],
   "source": [
    "%%sql\n",
    "select sum(ended-started) from jobs where ended is not NULL;"
   ]
  },
  {
   "cell_type": "code",
   "execution_count": null,
   "metadata": {},
   "outputs": [],
   "source": [
    "%%sql\n",
    "select sum(querytime)/60./60. from results;"
   ]
  },
  {
   "cell_type": "code",
   "execution_count": null,
   "metadata": {},
   "outputs": [],
   "source": [
    "%%sql\n",
    "select now() - min(started) from jobs;"
   ]
  },
  {
   "cell_type": "markdown",
   "metadata": {},
   "source": [
    "Size of postgres data\n",
    "====================="
   ]
  },
  {
   "cell_type": "code",
   "execution_count": null,
   "metadata": {},
   "outputs": [],
   "source": [
    "%%sql\n",
    "WITH RECURSIVE pg_inherit(inhrelid, inhparent) AS\n",
    "    (select inhrelid, inhparent\n",
    "    FROM pg_inherits\n",
    "    UNION\n",
    "    SELECT child.inhrelid, parent.inhparent\n",
    "    FROM pg_inherit child, pg_inherits parent\n",
    "    WHERE child.inhparent = parent.inhrelid),\n",
    "pg_inherit_short AS (SELECT * FROM pg_inherit WHERE inhparent NOT IN (SELECT inhrelid FROM pg_inherit))\n",
    "SELECT table_schema\n",
    "    , TABLE_NAME\n",
    "    , row_estimate\n",
    "    , pg_size_pretty(total_bytes) AS total\n",
    "    , pg_size_pretty(index_bytes) AS INDEX\n",
    "    , pg_size_pretty(toast_bytes) AS toast\n",
    "    , pg_size_pretty(table_bytes) AS TABLE\n",
    "  FROM (\n",
    "    SELECT *, total_bytes-index_bytes-COALESCE(toast_bytes,0) AS table_bytes\n",
    "    FROM (\n",
    "         SELECT c.oid\n",
    "              , nspname AS table_schema\n",
    "              , relname AS TABLE_NAME\n",
    "              , SUM(c.reltuples) OVER (partition BY parent) AS row_estimate\n",
    "              , SUM(pg_total_relation_size(c.oid)) OVER (partition BY parent) AS total_bytes\n",
    "              , SUM(pg_indexes_size(c.oid)) OVER (partition BY parent) AS index_bytes\n",
    "              , SUM(pg_total_relation_size(reltoastrelid)) OVER (partition BY parent) AS toast_bytes\n",
    "              , parent\n",
    "          FROM (\n",
    "                SELECT pg_class.oid\n",
    "                    , reltuples\n",
    "                    , relname\n",
    "                    , relnamespace\n",
    "                    , pg_class.reltoastrelid\n",
    "                    , COALESCE(inhparent, pg_class.oid) parent\n",
    "                FROM pg_class\n",
    "                    LEFT JOIN pg_inherit_short ON inhrelid = oid\n",
    "                WHERE relkind IN ('r', 'p')\n",
    "             ) c\n",
    "             LEFT JOIN pg_namespace n ON n.oid = c.relnamespace\n",
    "  ) a\n",
    "  WHERE oid = parent\n",
    ") a\n",
    "ORDER BY total_bytes DESC limit 5;"
   ]
  },
  {
   "cell_type": "markdown",
   "metadata": {},
   "source": [
    "Inspection of exceptions\n",
    "========================"
   ]
  },
  {
   "cell_type": "code",
   "execution_count": 24,
   "metadata": {
    "tags": []
   },
   "outputs": [
    {
     "name": "stdout",
     "output_type": "stream",
     "text": [
      " * postgresql://postgres@localhost:5433/postgres\n",
      "2 rows affected.\n"
     ]
    },
    {
     "data": {
      "text/html": [
       "<table>\n",
       "    <tr>\n",
       "        <th>id</th>\n",
       "        <th>?column?</th>\n",
       "        <th>replace</th>\n",
       "    </tr>\n",
       "    <tr>\n",
       "        <td>1326</td>\n",
       "        <td>${baseDir}/com.health.openscale/2.1.0/apk/com.health.openscale_45.apk</td>\n",
       "        <td>java.lang.IllegalArgumentException: Failed to parse reflective type reference: D<br>\tat edu.colorado.plv.bounder.ir.IRParser\\$.\\$anonfun\\$parseReflectiveRef\\$1(IRParser.scala:26)<br>\tat scala.util.parsing.combinator.Parsers\\$ParseResult.getOrElse(Parsers.scala:127)<br>\tat edu.colorado.plv.bounder.ir.IRParser\\$.parseReflectiveRef(IRParser.scala:26)<br>\tat edu.colorado.plv.bounder.ir.JimpleFlowdroidWrapper\\$.makeRVal(JimpleFlowdroidWrapper.scala:187)<br>\tat edu.colorado.plv.bounder.ir.JimpleFlowdroidWrapper\\$.makeVal(JimpleFlowdroidWrapper.scala:212)<br>\tat edu.colorado.plv.bounder.ir.JimpleFlowdroidWrapper\\$.\\$anonfun\\$makeRVal\\$2(JimpleFlowdroidWrapper.scala:93)<br>\tat edu.colorado.plv.bounder.ir.JimpleFlowdroidWrapper\\$.\\$anonfun\\$makeRVal\\$2\\$adapted(JimpleFlowdroidWrapper.scala:92)<br>\tat scala.collection.immutable.Range.map(Range.scala:59)<br>\tat edu.colorado.plv.bounder.ir.JimpleFlowdroidWrapper\\$.makeRVal(JimpleFlowdroidWrapper.scala:92)<br>\tat edu.colorado.plv.bounder.ir.JimpleFlowdroidWrapper\\$.makeVal(JimpleFlowdroidWrapper.scala:212)<br>\tat edu.colorado.plv.bounder.ir.JimpleFlowdroidWrapper\\$.makeCmd(JimpleFlowdroidWrapper.scala:228)<br>\tat edu.colorado.plv.bounder.ir.JimpleFlowdroidWrapper.makeCmd(JimpleFlowdroidWrapper.scala:1169)<br>\tat edu.colorado.plv.bounder.ir.JimpleFlowdroidWrapper.\\$anonfun\\$iCmdAtLocation\\$1(JimpleFlowdroidWrapper.scala:1274)<br>\tat scalaz.Memo\\$.\\$anonfun\\$mutableMapMemo\\$3(Memo.scala:69)<br>\tat scala.collection.mutable.HashMap.getOrElseUpdate(HashMap.scala:434)<br>\tat scalaz.Memo\\$.\\$anonfun\\$mutableMapMemo\\$2(Memo.scala:69)<br>\tat edu.colorado.plv.bounder.ir.JimpleFlowdroidWrapper.cmdAtLocation(JimpleFlowdroidWrapper.scala:1277)<br>\tat edu.colorado.plv.bounder.BounderUtil\\$.cmdAtLocationNopIfUnknown(BounderUtil.scala:245)<br>\tat edu.colorado.plv.bounder.symbolicexecutor.ControlFlowResolver.\\$anonfun\\$iCallinNames\\$3(ControlFlowResolver.scala:349)<br>\tat scala.collection.immutable.List.map(List.scala:219)<br>\tat edu.colorado.plv.bounder.symbolicexecutor.ControlFlowResolver.\\$anonfun\\$iCallinNames\\$2(ControlFlowResolver.scala:348)<br>\tat edu.colorado.plv.bounder.BounderUtil\\$.iGraphFixpoint\\$1(BounderUtil.scala:177)<br>\tat edu.colorado.plv.bounder.BounderUtil\\$.graphFixpoint(BounderUtil.scala:190)<br>\tat edu.colorado.plv.bounder.symbolicexecutor.ControlFlowResolver.iCallinNames(ControlFlowResolver.scala:351)<br>\tat edu.colorado.plv.bounder.symbolicexecutor.ControlFlowResolver.\\$anonfun\\$callinNames\\$1(ControlFlowResolver.scala:354)<br>\tat scalaz.Memo\\$.\\$anonfun\\$mutableMapMemo\\$3(Memo.scala:69)<br>\tat scala.collection.mutable.HashMap.getOrElseUpdate(HashMap.scala:434)<br>\tat scalaz.Memo\\$.\\$anonfun\\$mutableMapMemo\\$2(Memo.scala:69)<br>\tat edu.colorado.plv.bounder.symbolicexecutor.ControlFlowResolver.\\$anonfun\\$relevantMethodBody\\$1(ControlFlowResolver.scala:394)<br>\tat edu.colorado.plv.bounder.symbolicexecutor.ControlFlowResolver.\\$anonfun\\$relevantMethodBody\\$1\\$adapted(ControlFlowResolver.scala:389)<br>\tat scala.collection.immutable.BitmapIndexedSetNode.filterImpl(HashSet.scala:1022)<br>\tat scala.collection.immutable.BitmapIndexedSetNode.filterImpl(HashSet.scala:401)<br>\tat scala.collection.immutable.BitmapIndexedSetNode.filterImpl(HashSet.scala:1116)<br>\tat scala.collection.immutable.BitmapIndexedSetNode.filterImpl(HashSet.scala:401)<br>\tat scala.collection.immutable.BitmapIndexedSetNode.filterImpl(HashSet.scala:1116)<br>\tat scala.collection.immutable.HashSet.filterImpl(HashSet.scala:303)<br>\tat scala.collection.immutable.HashSet.filterImpl(HashSet.scala:34)<br>\tat scala.collection.StrictOptimizedIterableOps.filter(StrictOptimizedIterableOps.scala:218)<br>\tat scala.collection.StrictOptimizedIterableOps.filter\\$(StrictOptimizedIterableOps.scala:218)<br>\tat scala.collection.immutable.HashSet.filter(HashSet.scala:34)<br>\tat edu.colorado.plv.bounder.symbolicexecutor.ControlFlowResolver.relevantMethodBody(ControlFlowResolver.scala:389)<br>\tat edu.colorado.plv.bounder.symbolicexecutor.ControlFlowResolver.relevantMethod(ControlFlowResolver.scala:484)<br>\tat edu.colorado.plv.bounder.symbolicexecutor.ControlFlowResolver.\\$anonfun\\$resolvePredicessors\\$7(ControlFlowResolver.scala:607)<br>\tat edu.colorado.plv.bounder.symbolicexecutor.ControlFlowResolver.\\$anonfun\\$resolvePredicessors\\$7\\$adapted(ControlFlowResolver.scala:607)<br>\tat scala.collection.immutable.List.filter(List.scala:501)<br>\tat scala.collection.immutable.List.filter(List.scala:79)<br>\tat edu.colorado.plv.bounder.symbolicexecutor.ControlFlowResolver.resolvePredicessors(ControlFlowResolver.scala:607)<br>\tat edu.colorado.plv.bounder.symbolicexecutor.SymbolicExecutor.executeStep(SymbolicExecutor.scala:454)<br>\tat edu.colorado.plv.bounder.symbolicexecutor.SymbolicExecutor.executeBackward(SymbolicExecutor.scala:433)<br>\tat edu.colorado.plv.bounder.symbolicexecutor.SymbolicExecutor.\\$anonfun\\$run\\$2(SymbolicExecutor.scala:176)<br>\tat scala.collection.StrictOptimizedIterableOps.map(StrictOptimizedIterableOps.scala:100)<br>\tat scala.collection.StrictOptimizedIterableOps.map\\$(StrictOptimizedIterableOps.scala:87)<br>\tat scala.collection.immutable.HashMap.map(HashMap.scala:38)<br>\tat edu.colorado.plv.bounder.symbolicexecutor.SymbolicExecutor.run(SymbolicExecutor.scala:167)<br>\tat edu.colorado.plv.bounder.Driver\\$.\\$anonfun\\$runAnalysis\\$1(Driver.scala:349)<br>\tat scala.collection.immutable.List.flatMap(List.scala:265)<br>\tat edu.colorado.plv.bounder.Driver\\$.runAnalysis(Driver.scala:335)<br>\tat edu.colorado.plv.bounder.Driver\\$.runAction(Driver.scala:214)<br>\tat edu.colorado.plv.bounder.Driver\\$.main(Driver.scala:174)<br>\tat edu.colorado.plv.bounder.Driver.main(Driver.scala)<br>java.lang.IllegalArgumentException: Failed to parse reflective type reference: D<br>\tat edu.colorado.plv.bounder.ir.IRParser\\$.\\$anonfun\\$parseReflectiveRef\\$1(IRParser.scala:26)<br>\tat scala.util.parsing.combinator.Parsers\\$ParseResult.getOrElse(Parsers.scala:127)<br>\tat edu.colorado.plv.bounder.ir.IRParser\\$.parseReflectiveRef(IRParser.scala:26)<br>\tat edu.colorado.plv.bounder.ir.JimpleFlowdroidWrapper\\$.makeRVal(JimpleFlowdroidWrapper.scala:187)<br>\tat edu.colorado.plv.bounder.ir.JimpleFlowdroidWrapper\\$.makeVal(JimpleFlowdroidWrapper.scala:212)<br>\tat edu.colorado.plv.bounder.ir.JimpleFlowdroidWrapper\\$.\\$anonfun\\$makeRVal\\$2(JimpleFlowdroidWrapper.scala:93)<br>\tat edu.colorado.plv.bounder.ir.JimpleFlowdroidWrapper\\$.\\$anonfun\\$makeRVal\\$2\\$adapted(JimpleFlowdroidWrapper.scala:92)<br>\tat scala.collection.immutable.Range.map(Range.scala:59)<br>\tat edu.colorado.plv.bounder.ir.JimpleFlowdroidWrapper\\$.makeRVal(JimpleFlowdroidWrapper.scala:92)<br>\tat edu.colorado.plv.bounder.ir.JimpleFlowdroidWrapper\\$.makeVal(JimpleFlowdroidWrapper.scala:212)<br>\tat edu.colorado.plv.bounder.ir.JimpleFlowdroidWrapper\\$.makeCmd(JimpleFlowdroidWrapper.scala:228)<br>\tat edu.colorado.plv.bounder.ir.JimpleFlowdroidWrapper.makeCmd(JimpleFlowdroidWrapper.scala:1169)<br>\tat edu.colorado.plv.bounder.ir.JimpleFlowdroidWrapper.\\$anonfun\\$iCmdAtLocation\\$1(JimpleFlowdroidWrapper.scala:1274)<br>\tat scalaz.Memo\\$.\\$anonfun\\$mutableMapMemo\\$3(Memo.scala:69)<br>\tat scala.collection.mutable.HashMap.getOrElseUpdate(HashMap.scala:434)<br>\tat scalaz.Memo\\$.\\$anonfun\\$mutableMapMemo\\$2(Memo.scala:69)<br>\tat edu.colorado.plv.bounder.ir.JimpleFlowdroidWrapper.cmdAtLocation(JimpleFlowdroidWrapper.scala:1277)<br>\tat edu.colorado.plv.bounder.BounderUtil\\$.cmdAtLocationNopIfUnknown(BounderUtil.scala:245)<br>\tat edu.colorado.plv.bounder.symbolicexecutor.ControlFlowResolver.\\$anonfun\\$iCallinNames\\$3(ControlFlowResolver.scala:349)<br>\tat scala.collection.immutable.List.map(List.scala:219)<br>\tat edu.colorado.plv.bounder.symbolicexecutor.ControlFlowResolver.\\$anonfun\\$iCallinNames\\$2(ControlFlowResolver.scala:348)<br>\tat edu.colorado.plv.bounder.BounderUtil\\$.iGraphFixpoint\\$1(BounderUtil.scala:177)<br>\tat edu.colorado.plv.bounder.BounderUtil\\$.graphFixpoint(BounderUtil.scala:190)<br>\tat edu.colorado.plv.bounder.symbolicexecutor.ControlFlowResolver.iCallinNames(ControlFlowResolver.scala:351)<br>\tat edu.colorado.plv.bounder.symbolicexecutor.ControlFlowResolver.\\$anonfun\\$callinNames\\$1(ControlFlowResolver.scala:354)<br>\tat scalaz.Memo\\$.\\$anonfun\\$mutableMapMemo\\$3(Memo.scala:69)<br>\tat scala.collection.mutable.HashMap.getOrElseUpdate(HashMap.scala:434)<br>\tat scalaz.Memo\\$.\\$anonfun\\$mutableMapMemo\\$2(Memo.scala:69)<br>\tat edu.colorado.plv.bounder.symbolicexecutor.ControlFlowResolver.\\$anonfun\\$relevantMethodBody\\$1(ControlFlowResolver.scala:394)<br>\tat edu.colorado.plv.bounder.symbolicexecutor.ControlFlowResolver.\\$anonfun\\$relevantMethodBody\\$1\\$adapted(ControlFlowResolver.scala:389)<br>\tat scala.collection.immutable.BitmapIndexedSetNode.filterImpl(HashSet.scala:1022)<br>\tat scala.collection.immutable.BitmapIndexedSetNode.filterImpl(HashSet.scala:401)<br>\tat scala.collection.immutable.BitmapIndexedSetNode.filterImpl(HashSet.scala:1116)<br>\tat scala.collection.immutable.BitmapIndexedSetNode.filterImpl(HashSet.scala:401)<br>\tat scala.collection.immutable.BitmapIndexedSetNode.filterImpl(HashSet.scala:1116)<br>\tat scala.collection.immutable.HashSet.filterImpl(HashSet.scala:303)<br>\tat scala.collection.immutable.HashSet.filterImpl(HashSet.scala:34)<br>\tat scala.collection.StrictOptimizedIterableOps.filter(StrictOptimizedIterableOps.scala:218)<br>\tat scala.collection.StrictOptimizedIterableOps.filter\\$(StrictOptimizedIterableOps.scala:218)<br>\tat scala.collection.immutable.HashSet.filter(HashSet.scala:34)<br>\tat edu.colorado.plv.bounder.symbolicexecutor.ControlFlowResolver.relevantMethodBody(ControlFlowResolver.scala:389)<br>\tat edu.colorado.plv.bounder.symbolicexecutor.ControlFlowResolver.relevantMethod(ControlFlowResolver.scala:484)<br>\tat edu.colorado.plv.bounder.symbolicexecutor.ControlFlowResolver.\\$anonfun\\$resolvePredicessors\\$7(ControlFlowResolver.scala:607)<br>\tat edu.colorado.plv.bounder.symbolicexecutor.ControlFlowResolver.\\$anonfun\\$resolvePredicessors\\$7\\$adapted(ControlFlowResolver.scala:607)<br>\tat scala.collection.immutable.List.filter(List.scala:501)<br>\tat scala.collection.immutable.List.filter(List.scala:79)<br>\tat edu.colorado.plv.bounder.symbolicexecutor.ControlFlowResolver.resolvePredicessors(ControlFlowResolver.scala:607)<br>\tat edu.colorado.plv.bounder.symbolicexecutor.SymbolicExecutor.executeStep(SymbolicExecutor.scala:454)<br>\tat edu.colorado.plv.bounder.symbolicexecutor.SymbolicExecutor.executeBackward(SymbolicExecutor.scala:433)<br>\tat edu.colorado.plv.bounder.symbolicexecutor.SymbolicExecutor.\\$anonfun\\$run\\$2(SymbolicExecutor.scala:176)<br>\tat scala.collection.StrictOptimizedIterableOps.map(StrictOptimizedIterableOps.scala:100)<br>\tat scala.collection.StrictOptimizedIterableOps.map\\$(StrictOptimizedIterableOps.scala:87)<br>\tat scala.collection.immutable.HashMap.map(HashMap.scala:38)<br>\tat edu.colorado.plv.bounder.symbolicexecutor.SymbolicExecutor.run(SymbolicExecutor.scala:167)<br>\tat edu.colorado.plv.bounder.Driver\\$.\\$anonfun\\$runAnalysis\\$1(Driver.scala:349)<br>\tat scala.collection.immutable.List.flatMap(List.scala:265)<br>\tat edu.colorado.plv.bounder.Driver\\$.runAnalysis(Driver.scala:335)<br>\tat edu.colorado.plv.bounder.Driver\\$.runAction(Driver.scala:214)<br>\tat edu.colorado.plv.bounder.Driver\\$.main(Driver.scala:174)<br>\tat edu.colorado.plv.bounder.Driver.main(Driver.scala)<br>java.lang.IllegalArgumentException: Failed to parse reflective type reference: D<br>\tat edu.colorado.plv.bounder.ir.IRParser\\$.\\$anonfun\\$parseReflectiveRef\\$1(IRParser.scala:26)<br>\tat scala.util.parsing.combinator.Parsers\\$ParseResult.getOrElse(Parsers.scala:127)<br>\tat edu.colorado.plv.bounder.ir.IRParser\\$.parseReflectiveRef(IRParser.scala:26)<br>\tat edu.colorado.plv.bounder.ir.JimpleFlowdroidWrapper\\$.makeRVal(JimpleFlowdroidWrapper.scala:187)<br>\tat edu.colorado.plv.bounder.ir.JimpleFlowdroidWrapper\\$.makeVal(JimpleFlowdroidWrapper.scala:212)<br>\tat edu.colorado.plv.bounder.ir.JimpleFlowdroidWrapper\\$.\\$anonfun\\$makeRVal\\$2(JimpleFlowdroidWrapper.scala:93)<br>\tat edu.colorado.plv.bounder.ir.JimpleFlowdroidWrapper\\$.\\$anonfun\\$makeRVal\\$2\\$adapted(JimpleFlowdroidWrapper.scala:92)<br>\tat scala.collection.immutable.Range.map(Range.scala:59)<br>\tat edu.colorado.plv.bounder.ir.JimpleFlowdroidWrapper\\$.makeRVal(JimpleFlowdroidWrapper.scala:92)<br>\tat edu.colorado.plv.bounder.ir.JimpleFlowdroidWrapper\\$.makeVal(JimpleFlowdroidWrapper.scala:212)<br>\tat edu.colorado.plv.bounder.ir.JimpleFlowdroidWrapper\\$.makeCmd(JimpleFlowdroidWrapper.scala:228)<br>\tat edu.colorado.plv.bounder.ir.JimpleFlowdroidWrapper.makeCmd(JimpleFlowdroidWrapper.scala:1169)<br>\tat edu.colorado.plv.bounder.ir.JimpleFlowdroidWrapper.\\$anonfun\\$iCmdAtLocation\\$1(JimpleFlowdroidWrapper.scala:1274)<br>\tat scalaz.Memo\\$.\\$anonfun\\$mutableMapMemo\\$3(Memo.scala:69)<br>\tat scala.collection.mutable.HashMap.getOrElseUpdate(HashMap.scala:434)<br>\tat scalaz.Memo\\$.\\$anonfun\\$mutableMapMemo\\$2(Memo.scala:69)<br>\tat edu.colorado.plv.bounder.ir.JimpleFlowdroidWrapper.cmdAtLocation(JimpleFlowdroidWrapper.scala:1277)<br>\tat edu.colorado.plv.bounder.BounderUtil\\$.cmdAtLocationNopIfUnknown(BounderUtil.scala:245)<br>\tat edu.colorado.plv.bounder.symbolicexecutor.ControlFlowResolver.\\$anonfun\\$iCallinNames\\$3(ControlFlowResolver.scala:349)<br>\tat scala.collection.immutable.List.map(List.scala:219)<br>\tat edu.colorado.plv.bounder.symbolicexecutor.ControlFlowResolver.\\$anonfun\\$iCallinNames\\$2(ControlFlowResolver.scala:348)<br>\tat edu.colorado.plv.bounder.BounderUtil\\$.iGraphFixpoint\\$1(BounderUtil.scala:177)<br>\tat edu.colorado.plv.bounder.BounderUtil\\$.graphFixpoint(BounderUtil.scala:190)<br>\tat edu.colorado.plv.bounder.symbolicexecutor.ControlFlowResolver.iCallinNames(ControlFlowResolver.scala:351)<br>\tat edu.colorado.plv.bounder.symbolicexecutor.ControlFlowResolver.\\$anonfun\\$callinNames\\$1(ControlFlowResolver.scala:354)<br>\tat scalaz.Memo\\$.\\$anonfun\\$mutableMapMemo\\$3(Memo.scala:69)<br>\tat scala.collection.mutable.HashMap.getOrElseUpdate(HashMap.scala:434)<br>\tat scalaz.Memo\\$.\\$anonfun\\$mutableMapMemo\\$2(Memo.scala:69)<br>\tat edu.colorado.plv.bounder.symbolicexecutor.ControlFlowResolver.\\$anonfun\\$relevantMethodBody\\$1(ControlFlowResolver.scala:394)<br>\tat edu.colorado.plv.bounder.symbolicexecutor.ControlFlowResolver.\\$anonfun\\$relevantMethodBody\\$1\\$adapted(ControlFlowResolver.scala:389)<br>\tat scala.collection.immutable.BitmapIndexedSetNode.filterImpl(HashSet.scala:1022)<br>\tat scala.collection.immutable.BitmapIndexedSetNode.filterImpl(HashSet.scala:401)<br>\tat scala.collection.immutable.BitmapIndexedSetNode.filterImpl(HashSet.scala:1116)<br>\tat scala.collection.immutable.BitmapIndexedSetNode.filterImpl(HashSet.scala:401)<br>\tat scala.collection.immutable.BitmapIndexedSetNode.filterImpl(HashSet.scala:1116)<br>\tat scala.collection.immutable.HashSet.filterImpl(HashSet.scala:303)<br>\tat scala.collection.immutable.HashSet.filterImpl(HashSet.scala:34)<br>\tat scala.collection.StrictOptimizedIterableOps.filter(StrictOptimizedIterableOps.scala:218)<br>\tat scala.collection.StrictOptimizedIterableOps.filter\\$(StrictOptimizedIterableOps.scala:218)<br>\tat scala.collection.immutable.HashSet.filter(HashSet.scala:34)<br>\tat edu.colorado.plv.bounder.symbolicexecutor.ControlFlowResolver.relevantMethodBody(ControlFlowResolver.scala:389)<br>\tat edu.colorado.plv.bounder.symbolicexecutor.ControlFlowResolver.relevantMethod(ControlFlowResolver.scala:484)<br>\tat edu.colorado.plv.bounder.symbolicexecutor.ControlFlowResolver.\\$anonfun\\$resolvePredicessors\\$7(ControlFlowResolver.scala:607)<br>\tat edu.colorado.plv.bounder.symbolicexecutor.ControlFlowResolver.\\$anonfun\\$resolvePredicessors\\$7\\$adapted(ControlFlowResolver.scala:607)<br>\tat scala.collection.immutable.List.filter(List.scala:501)<br>\tat scala.collection.immutable.List.filter(List.scala:79)<br>\tat edu.colorado.plv.bounder.symbolicexecutor.ControlFlowResolver.resolvePredicessors(ControlFlowResolver.scala:607)<br>\tat edu.colorado.plv.bounder.symbolicexecutor.SymbolicExecutor.executeStep(SymbolicExecutor.scala:454)<br>\tat edu.colorado.plv.bounder.symbolicexecutor.SymbolicExecutor.executeBackward(SymbolicExecutor.scala:433)<br>\tat edu.colorado.plv.bounder.symbolicexecutor.SymbolicExecutor.\\$anonfun\\$run\\$2(SymbolicExecutor.scala:176)<br>\tat scala.collection.StrictOptimizedIterableOps.map(StrictOptimizedIterableOps.scala:100)<br>\tat scala.collection.StrictOptimizedIterableOps.map\\$(StrictOptimizedIterableOps.scala:87)<br>\tat scala.collection.immutable.HashMap.map(HashMap.scala:38)<br>\tat edu.colorado.plv.bounder.symbolicexecutor.SymbolicExecutor.run(SymbolicExecutor.scala:167)<br>\tat edu.colorado.plv.bounder.Driver\\$.\\$anonfun\\$runAnalysis\\$1(Driver.scala:349)<br>\tat scala.collection.immutable.List.flatMap(List.scala:265)<br>\tat edu.colorado.plv.bounder.Driver\\$.runAnalysis(Driver.scala:335)<br>\tat edu.colorado.plv.bounder.Driver\\$.runAction(Driver.scala:214)<br>\tat edu.colorado.plv.bounder.Driver\\$.main(Driver.scala:174)<br>\tat edu.colorado.plv.bounder.Driver.main(Driver.scala)<br>java.lang.IllegalArgumentException: Failed to parse reflective type reference: D<br>\tat edu.colorado.plv.bounder.ir.IRParser\\$.\\$anonfun\\$parseReflectiveRef\\$1(IRParser.scala:26)<br>\tat scala.util.parsing.combinator.Parsers\\$ParseResult.getOrElse(Parsers.scala:127)<br>\tat edu.colorado.plv.bounder.ir.IRParser\\$.parseReflectiveRef(IRParser.scala:26)<br>\tat edu.colorado.plv.bounder.ir.JimpleFlowdroidWrapper\\$.makeRVal(JimpleFlowdroidWrapper.scala:187)<br>\tat edu.colorado.plv.bounder.ir.JimpleFlowdroidWrapper\\$.makeVal(JimpleFlowdroidWrapper.scala:212)<br>\tat edu.colorado.plv.bounder.ir.JimpleFlowdroidWrapper\\$.\\$anonfun\\$makeRVal\\$2(JimpleFlowdroidWrapper.scala:93)<br>\tat edu.colorado.plv.bounder.ir.JimpleFlowdroidWrapper\\$.\\$anonfun\\$makeRVal\\$2\\$adapted(JimpleFlowdroidWrapper.scala:92)<br>\tat scala.collection.immutable.Range.map(Range.scala:59)<br>\tat edu.colorado.plv.bounder.ir.JimpleFlowdroidWrapper\\$.makeRVal(JimpleFlowdroidWrapper.scala:92)<br>\tat edu.colorado.plv.bounder.ir.JimpleFlowdroidWrapper\\$.makeVal(JimpleFlowdroidWrapper.scala:212)<br>\tat edu.colorado.plv.bounder.ir.JimpleFlowdroidWrapper\\$.makeCmd(JimpleFlowdroidWrapper.scala:228)<br>\tat edu.colorado.plv.bounder.ir.JimpleFlowdroidWrapper.makeCmd(JimpleFlowdroidWrapper.scala:1169)<br>\tat edu.colorado.plv.bounder.ir.JimpleFlowdroidWrapper.\\$anonfun\\$iCmdAtLocation\\$1(JimpleFlowdroidWrapper.scala:1274)<br>\tat scalaz.Memo\\$.\\$anonfun\\$mutableMapMemo\\$3(Memo.scala:69)<br>\tat scala.collection.mutable.HashMap.getOrElseUpdate(HashMap.scala:434)<br>\tat scalaz.Memo\\$.\\$anonfun\\$mutableMapMemo\\$2(Memo.scala:69)<br>\tat edu.colorado.plv.bounder.ir.JimpleFlowdroidWrapper.cmdAtLocation(JimpleFlowdroidWrapper.scala:1277)<br>\tat edu.colorado.plv.bounder.BounderUtil\\$.cmdAtLocationNopIfUnknown(BounderUtil.scala:245)<br>\tat edu.colorado.plv.bounder.symbolicexecutor.ControlFlowResolver.\\$anonfun\\$iCallinNames\\$3(ControlFlowResolver.scala:349)<br>\tat scala.collection.immutable.List.map(List.scala:219)<br>\tat edu.colorado.plv.bounder.symbolicexecutor.ControlFlowResolver.\\$anonfun\\$iCallinNames\\$2(ControlFlowResolver.scala:348)<br>\tat edu.colorado.plv.bounder.BounderUtil\\$.iGraphFixpoint\\$1(BounderUtil.scala:177)<br>\tat edu.colorado.plv.bounder.BounderUtil\\$.graphFixpoint(BounderUtil.scala:190)<br>\tat edu.colorado.plv.bounder.symbolicexecutor.ControlFlowResolver.iCallinNames(ControlFlowResolver.scala:351)<br>\tat edu.colorado.plv.bounder.symbolicexecutor.ControlFlowResolver.\\$anonfun\\$callinNames\\$1(ControlFlowResolver.scala:354)<br>\tat scalaz.Memo\\$.\\$anonfun\\$mutableMapMemo\\$3(Memo.scala:69)<br>\tat scala.collection.mutable.HashMap.getOrElseUpdate(HashMap.scala:434)<br>\tat scalaz.Memo\\$.\\$anonfun\\$mutableMapMemo\\$2(Memo.scala:69)<br>\tat edu.colorado.plv.bounder.symbolicexecutor.ControlFlowResolver.\\$anonfun\\$relevantMethodBody\\$1(ControlFlowResolver.scala:394)<br>\tat edu.colorado.plv.bounder.symbolicexecutor.ControlFlowResolver.\\$anonfun\\$relevantMethodBody\\$1\\$adapted(ControlFlowResolver.scala:389)<br>\tat scala.collection.immutable.BitmapIndexedSetNode.filterImpl(HashSet.scala:1022)<br>\tat scala.collection.immutable.BitmapIndexedSetNode.filterImpl(HashSet.scala:401)<br>\tat scala.collection.immutable.BitmapIndexedSetNode.filterImpl(HashSet.scala:1116)<br>\tat scala.collection.immutable.BitmapIndexedSetNode.filterImpl(HashSet.scala:401)<br>\tat scala.collection.immutable.BitmapIndexedSetNode.filterImpl(HashSet.scala:1116)<br>\tat scala.collection.immutable.HashSet.filterImpl(HashSet.scala:303)<br>\tat scala.collection.immutable.HashSet.filterImpl(HashSet.scala:34)<br>\tat scala.collection.StrictOptimizedIterableOps.filter(StrictOptimizedIterableOps.scala:218)<br>\tat scala.collection.StrictOptimizedIterableOps.filter\\$(StrictOptimizedIterableOps.scala:218)<br>\tat scala.collection.immutable.HashSet.filter(HashSet.scala:34)<br>\tat edu.colorado.plv.bounder.symbolicexecutor.ControlFlowResolver.relevantMethodBody(ControlFlowResolver.scala:389)<br>\tat edu.colorado.plv.bounder.symbolicexecutor.ControlFlowResolver.relevantMethod(ControlFlowResolver.scala:467)<br>\tat edu.colorado.plv.bounder.symbolicexecutor.ControlFlowResolver.\\$anonfun\\$resolvePredicessors\\$2(ControlFlowResolver.scala:542)<br>\tat scala.collection.parallel.AugmentedIterableIterator.map2combiner(RemainsIterator.scala:107)<br>\tat scala.collection.parallel.AugmentedIterableIterator.map2combiner\\$(RemainsIterator.scala:104)<br>\tat scala.collection.parallel.immutable.ParHashSet\\$ParHashSetIterator.map2combiner(ParHashSet.scala:77)<br>\tat scala.collection.parallel.ParIterableLike\\$Map.leaf(ParIterableLike.scala:1006)<br>\tat scala.collection.parallel.Task.\\$anonfun\\$tryLeaf\\$1(Tasks.scala:52)<br>\tat scala.runtime.java8.JFunction0\\$mcV\\$sp.apply(JFunction0\\$mcV\\$sp.scala:18)<br>\tat scala.util.control.Breaks\\$\\$anon\\$1.catchBreak(Breaks.scala:67)<br>\tat scala.collection.parallel.Task.tryLeaf(Tasks.scala:55)<br>\tat scala.collection.parallel.Task.tryLeaf\\$(Tasks.scala:49)<br>\tat scala.collection.parallel.ParIterableLike\\$Map.tryLeaf(ParIterableLike.scala:1003)<br>\tat scala.collection.parallel.AdaptiveWorkStealingTasks\\$AWSTWrappedTask.compute(Tasks.scala:152)<br>\tat scala.collection.parallel.AdaptiveWorkStealingTasks\\$AWSTWrappedTask.compute\\$(Tasks.scala:148)<br>\tat scala.collection.parallel.AdaptiveWorkStealingForkJoinTasks\\$AWSFJTWrappedTask.compute(Tasks.scala:304)<br>\tat java.base/java.util.concurrent.RecursiveAction.exec(RecursiveAction.java:189)<br>\tat java.base/java.util.concurrent.ForkJoinTask.doExec(ForkJoinTask.java:290)<br>\tat java.base/java.util.concurrent.ForkJoinPool\\$WorkQueue.topLevelExec(ForkJoinPool.java:1020)<br>\tat java.base/java.util.concurrent.ForkJoinPool.scan(ForkJoinPool.java:1656)<br>\tat java.base/java.util.concurrent.ForkJoinPool.runWorker(ForkJoinPool.java:1594)<br>\tat java.base/java.util.concurrent.ForkJoinWorkerThread.run(ForkJoinWorkerThread.java:183)<br>java.lang.IllegalArgumentException: Failed to parse reflective type reference: D<br>\tat edu.colorado.plv.bounder.ir.IRParser\\$.\\$anonfun\\$parseReflectiveRef\\$1(IRParser.scala:26)<br>\tat scala.util.parsing.combinator.Parsers\\$ParseResult.getOrElse(Parsers.scala:127)<br>\tat edu.colorado.plv.bounder.ir.IRParser\\$.parseReflectiveRef(IRParser.scala:26)<br>\tat edu.colorado.plv.bounder.ir.JimpleFlowdroidWrapper\\$.makeRVal(JimpleFlowdroidWrapper.scala:187)<br>\tat edu.colorado.plv.bounder.ir.JimpleFlowdroidWrapper\\$.makeVal(JimpleFlowdroidWrapper.scala:212)<br>\tat edu.colorado.plv.bounder.ir.JimpleFlowdroidWrapper\\$.\\$anonfun\\$makeRVal\\$2(JimpleFlowdroidWrapper.scala:93)<br>\tat edu.colorado.plv.bounder.ir.JimpleFlowdroidWrapper\\$.\\$anonfun\\$makeRVal\\$2\\$adapted(JimpleFlowdroidWrapper.scala:92)<br>\tat scala.collection.immutable.Range.map(Range.scala:59)<br>\tat edu.colorado.plv.bounder.ir.JimpleFlowdroidWrapper\\$.makeRVal(JimpleFlowdroidWrapper.scala:92)<br>\tat edu.colorado.plv.bounder.ir.JimpleFlowdroidWrapper\\$.makeVal(JimpleFlowdroidWrapper.scala:212)<br>\tat edu.colorado.plv.bounder.ir.JimpleFlowdroidWrapper\\$.makeCmd(JimpleFlowdroidWrapper.scala:228)<br>\tat edu.colorado.plv.bounder.ir.JimpleFlowdroidWrapper.makeCmd(JimpleFlowdroidWrapper.scala:1169)<br>\tat edu.colorado.plv.bounder.ir.JimpleFlowdroidWrapper.\\$anonfun\\$iCmdAtLocation\\$1(JimpleFlowdroidWrapper.scala:1274)<br>\tat scalaz.Memo\\$.\\$anonfun\\$mutableMapMemo\\$3(Memo.scala:69)<br>\tat scala.collection.mutable.HashMap.getOrElseUpdate(HashMap.scala:434)<br>\tat scalaz.Memo\\$.\\$anonfun\\$mutableMapMemo\\$2(Memo.scala:69)<br>\tat edu.colorado.plv.bounder.ir.JimpleFlowdroidWrapper.cmdAtLocation(JimpleFlowdroidWrapper.scala:1277)<br>\tat edu.colorado.plv.bounder.BounderUtil\\$.cmdAtLocationNopIfUnknown(BounderUtil.scala:245)<br>\tat edu.colorado.plv.bounder.symbolicexecutor.ControlFlowResolver.\\$anonfun\\$iCallinNames\\$3(ControlFlowResolver.scala:349)<br>\tat scala.collection.immutable.List.map(List.scala:219)<br>\tat edu.colorado.plv.bounder.symbolicexecutor.ControlFlowResolver.\\$anonfun\\$iCallinNames\\$2(ControlFlowResolver.scala:348)<br>\tat edu.colorado.plv.bounder.BounderUtil\\$.iGraphFixpoint\\$1(BounderUtil.scala:177)<br>\tat edu.colorado.plv.bounder.BounderUtil\\$.graphFixpoint(BounderUtil.scala:190)<br>\tat edu.colorado.plv.bounder.symbolicexecutor.ControlFlowResolver.iCallinNames(ControlFlowResolver.scala:351)<br>\tat edu.colorado.plv.bounder.symbolicexecutor.ControlFlowResolver.\\$anonfun\\$callinNames\\$1(ControlFlowResolver.scala:354)<br>\tat scalaz.Memo\\$.\\$anonfun\\$mutableMapMemo\\$3(Memo.scala:69)<br>\tat scala.collection.mutable.HashMap.getOrElseUpdate(HashMap.scala:434)<br>\tat scalaz.Memo\\$.\\$anonfun\\$mutableMapMemo\\$2(Memo.scala:69)<br>\tat edu.colorado.plv.bounder.symbolicexecutor.ControlFlowResolver.\\$anonfun\\$relevantMethodBody\\$1(ControlFlowResolver.scala:394)<br>\tat edu.colorado.plv.bounder.symbolicexecutor.ControlFlowResolver.\\$anonfun\\$relevantMethodBody\\$1\\$adapted(ControlFlowResolver.scala:389)<br>\tat scala.collection.immutable.BitmapIndexedSetNode.filterImpl(HashSet.scala:1022)<br>\tat scala.collection.immutable.BitmapIndexedSetNode.filterImpl(HashSet.scala:401)<br>\tat scala.collection.immutable.BitmapIndexedSetNode.filterImpl(HashSet.scala:1116)<br>\tat scala.collection.immutable.BitmapIndexedSetNode.filterImpl(HashSet.scala:401)<br>\tat scala.collection.immutable.BitmapIndexedSetNode.filterImpl(HashSet.scala:1116)<br>\tat scala.collection.immutable.HashSet.filterImpl(HashSet.scala:303)<br>\tat scala.collection.immutable.HashSet.filterImpl(HashSet.scala:34)<br>\tat scala.collection.StrictOptimizedIterableOps.filter(StrictOptimizedIterableOps.scala:218)<br>\tat scala.collection.StrictOptimizedIterableOps.filter\\$(StrictOptimizedIterableOps.scala:218)<br>\tat scala.collection.immutable.HashSet.filter(HashSet.scala:34)<br>\tat edu.colorado.plv.bounder.symbolicexecutor.ControlFlowResolver.relevantMethodBody(ControlFlowResolver.scala:389)<br>\tat edu.colorado.plv.bounder.symbolicexecutor.ControlFlowResolver.relevantMethod(ControlFlowResolver.scala:484)<br>\tat edu.colorado.plv.bounder.symbolicexecutor.ControlFlowResolver.\\$anonfun\\$resolvePredicessors\\$7(ControlFlowResolver.scala:607)<br>\tat edu.colorado.plv.bounder.symbolicexecutor.ControlFlowResolver.\\$anonfun\\$resolvePredicessors\\$7\\$adapted(ControlFlowResolver.scala:607)<br>\tat scala.collection.immutable.List.filter(List.scala:501)<br>\tat scala.collection.immutable.List.filter(List.scala:79)<br>\tat edu.colorado.plv.bounder.symbolicexecutor.ControlFlowResolver.resolvePredicessors(ControlFlowResolver.scala:607)<br>\tat edu.colorado.plv.bounder.symbolicexecutor.SymbolicExecutor.executeStep(SymbolicExecutor.scala:454)<br>\tat edu.colorado.plv.bounder.symbolicexecutor.SymbolicExecutor.executeBackward(SymbolicExecutor.scala:433)<br>\tat edu.colorado.plv.bounder.symbolicexecutor.SymbolicExecutor.\\$anonfun\\$run\\$2(SymbolicExecutor.scala:176)<br>\tat scala.collection.StrictOptimizedIterableOps.map(StrictOptimizedIterableOps.scala:100)<br>\tat scala.collection.StrictOptimizedIterableOps.map\\$(StrictOptimizedIterableOps.scala:87)<br>\tat scala.collection.immutable.HashMap.map(HashMap.scala:38)<br>\tat edu.colorado.plv.bounder.symbolicexecutor.SymbolicExecutor.run(SymbolicExecutor.scala:167)<br>\tat edu.colorado.plv.bounder.Driver\\$.\\$anonfun\\$runAnalysis\\$1(Driver.scala:349)<br>\tat scala.collection.immutable.List.flatMap(List.scala:265)<br>\tat edu.colorado.plv.bounder.Driver\\$.runAnalysis(Driver.scala:335)<br>\tat edu.colorado.plv.bounder.Driver\\$.runAction(Driver.scala:214)<br>\tat edu.colorado.plv.bounder.Driver\\$.main(Driver.scala:174)<br>\tat edu.colorado.plv.bounder.Driver.main(Driver.scala)<br></td>\n",
       "    </tr>\n",
       "    <tr>\n",
       "        <td>1322</td>\n",
       "        <td>${baseDir}/org.andstatus.app/51.02/apk/org.andstatus.app_298.apk</td>\n",
       "        <td>java.lang.RuntimeException: couldn&#x27;t find this-assignment! in &lt;org.andstatus.app.service.MyServiceManager\\$MyServiceStateInTime: boolean access\\$100(org.andstatus.app.service.MyServiceManager\\$MyServiceStateInTime)&gt;<br>\tat soot.Body.getThisUnit(Body.java:300)<br>\tat soot.Body.getThisLocal(Body.java:305)<br>\tat edu.colorado.plv.bounder.ir.JimpleFlowdroidWrapper.pointsToSet(JimpleFlowdroidWrapper.scala:1562)<br>\tat edu.colorado.plv.bounder.symbolicexecutor.state.State.\\$anonfun\\$getOrDefine\\$2(State.scala:568)<br>\tat scala.Option.map(Option.scala:242)<br>\tat edu.colorado.plv.bounder.symbolicexecutor.state.State.getOrDefine(State.scala:568)<br>\tat edu.colorado.plv.bounder.symbolicexecutor.TransferFunctions.transfer(TransferFunctions.scala:330)<br>\tat edu.colorado.plv.bounder.symbolicexecutor.SymbolicExecutor.\\$anonfun\\$executeStep\\$1(SymbolicExecutor.scala:457)<br>\tat scala.collection.immutable.List.flatMap(List.scala:265)<br>\tat scala.collection.immutable.List.flatMap(List.scala:79)<br>\tat edu.colorado.plv.bounder.symbolicexecutor.SymbolicExecutor.executeStep(SymbolicExecutor.scala:456)<br>\tat edu.colorado.plv.bounder.symbolicexecutor.SymbolicExecutor.executeBackward(SymbolicExecutor.scala:433)<br>\tat edu.colorado.plv.bounder.symbolicexecutor.SymbolicExecutor.\\$anonfun\\$run\\$2(SymbolicExecutor.scala:176)<br>\tat scala.collection.StrictOptimizedIterableOps.map(StrictOptimizedIterableOps.scala:100)<br>\tat scala.collection.StrictOptimizedIterableOps.map\\$(StrictOptimizedIterableOps.scala:87)<br>\tat scala.collection.immutable.HashMap.map(HashMap.scala:38)<br>\tat edu.colorado.plv.bounder.symbolicexecutor.SymbolicExecutor.run(SymbolicExecutor.scala:167)<br>\tat edu.colorado.plv.bounder.Driver\\$.\\$anonfun\\$runAnalysis\\$1(Driver.scala:349)<br>\tat scala.collection.immutable.List.flatMap(List.scala:265)<br>\tat edu.colorado.plv.bounder.Driver\\$.runAnalysis(Driver.scala:335)<br>\tat edu.colorado.plv.bounder.Driver\\$.runAction(Driver.scala:214)<br>\tat edu.colorado.plv.bounder.Driver\\$.main(Driver.scala:174)<br>\tat edu.colorado.plv.bounder.Driver.main(Driver.scala)<br></td>\n",
       "    </tr>\n",
       "</table>"
      ],
      "text/plain": [
       "[(1326, '${baseDir}/com.health.openscale/2.1.0/apk/com.health.openscale_45.apk', 'java.lang.IllegalArgumentException: Failed to parse reflective type reference: D\\n\\tat edu.colorado.plv.bounder.ir.IRParser\\\\$.\\\\$anonfun\\\\$parseRefl ... (28343 characters truncated) ... unAction(Driver.scala:214)\\n\\tat edu.colorado.plv.bounder.Driver\\\\$.main(Driver.scala:174)\\n\\tat edu.colorado.plv.bounder.Driver.main(Driver.scala)\\n'),\n",
       " (1322, '${baseDir}/org.andstatus.app/51.02/apk/org.andstatus.app_298.apk', \"java.lang.RuntimeException: couldn't find this-assignment! in <org.andstatus.app.service.MyServiceManager\\\\$MyServiceStateInTime: boolean access\\\\$10 ... (1783 characters truncated) ... unAction(Driver.scala:214)\\n\\tat edu.colorado.plv.bounder.Driver\\\\$.main(Driver.scala:174)\\n\\tat edu.colorado.plv.bounder.Driver.main(Driver.scala)\\n\")]"
      ]
     },
     "execution_count": 24,
     "metadata": {},
     "output_type": "execute_result"
    }
   ],
   "source": [
    "%%sql\n",
    "select id,config::json->'apkPath',replace(stderr,'$','\\$') from jobs where stderr like '%Exception%';"
   ]
  },
  {
   "cell_type": "code",
   "execution_count": null,
   "metadata": {},
   "outputs": [],
   "source": [
    "#count of total results\n",
    "%sql select count(*) as Total_locations_computed from results"
   ]
  }
 ],
 "metadata": {
  "kernelspec": {
   "display_name": "Python 3",
   "language": "python",
   "name": "python3"
  },
  "language_info": {
   "codemirror_mode": {
    "name": "ipython",
    "version": 3
   },
   "file_extension": ".py",
   "mimetype": "text/x-python",
   "name": "python",
   "nbconvert_exporter": "python",
   "pygments_lexer": "ipython3",
   "version": "3.6.5"
  }
 },
 "nbformat": 4,
 "nbformat_minor": 4
}
