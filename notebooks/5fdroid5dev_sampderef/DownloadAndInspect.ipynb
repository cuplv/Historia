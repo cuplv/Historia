{
 "cells": [
  {
   "cell_type": "code",
   "execution_count": 1,
   "metadata": {
    "tags": []
   },
   "outputs": [
    {
     "data": {
      "text/plain": [
       "\u001b[36mpath\u001b[39m: \u001b[32mString\u001b[39m = \u001b[32m\"/Users/shawnmeier/Documents/source/bounder/soot_hopper/target/scala-2.13/soot_hopper-assembly-0.1.jar\"\u001b[39m\n",
       "\u001b[32mimport \u001b[39m\u001b[36m$ivy.$                                          \n",
       "\u001b[39m\n",
       "\u001b[32mimport \u001b[39m\u001b[36m$ivy.$                             \n",
       "// import $ivy.`edu.colorado.plv.bounder:soot_hopper_2.13:0.1`\n",
       "\n",
       "\u001b[39m\n",
       "\u001b[32mimport \u001b[39m\u001b[36mplotly._, element._, layout._, Plotly._\n",
       "\u001b[39m\n",
       "\u001b[32mimport \u001b[39m\u001b[36mujson.Value\n",
       "\u001b[39m\n",
       "\u001b[32mimport \u001b[39m\u001b[36msys.process._\n",
       "\u001b[39m"
      ]
     },
     "execution_count": 1,
     "metadata": {},
     "output_type": "execute_result"
    }
   ],
   "source": [
    "val path = \"/Users/shawnmeier/Documents/source/bounder/soot_hopper/target/scala-2.13/soot_hopper-assembly-0.1.jar\"\n",
    "\n",
    "interp.load.cp(os.Path(path))\n",
    "\n",
    "import $ivy.`org.plotly-scala:plotly-almond_2.13:0.8.2`\n",
    "import $ivy.`com.lihaoyi:ujson_2.13:1.3.8`\n",
    "// import $ivy.`edu.colorado.plv.bounder:soot_hopper_2.13:0.1`\n",
    "\n",
    "import plotly._, element._, layout._, Plotly._\n",
    "import ujson.Value\n",
    "import sys.process._\n"
   ]
  },
  {
   "cell_type": "code",
   "execution_count": 2,
   "metadata": {
    "tags": []
   },
   "outputs": [
    {
     "data": {
      "text/plain": [
       "\u001b[32mimport \u001b[39m\u001b[36m$ivy.$                                         \n",
       "\u001b[39m\n",
       "\u001b[32mimport \u001b[39m\u001b[36mbetter.files._\n",
       "\n",
       "\u001b[39m\n",
       "\u001b[32mimport \u001b[39m\u001b[36mscala.util.Random\n",
       "\u001b[39m\n",
       "\u001b[32mimport \u001b[39m\u001b[36medu.colorado.plv.bounder.Driver\n",
       "\u001b[39m\n",
       "\u001b[32mimport \u001b[39m\u001b[36medu.colorado.plv.bounder.Action\n",
       "\u001b[39m\n",
       "\u001b[32mimport \u001b[39m\u001b[36medu.colorado.plv.bounder.RunConfig\n",
       "\u001b[39m\n",
       "\u001b[32mimport \u001b[39m\u001b[36mupickle.default.read\n",
       "\u001b[39m\n",
       "\u001b[32mimport \u001b[39m\u001b[36mupickle.default.write\n",
       "\u001b[39m\n",
       "\u001b[32mimport \u001b[39m\u001b[36mscala.collection.parallel.CollectionConverters.{ImmutableSetIsParallelizable, IterableIsParallelizable}\n",
       "\u001b[39m\n",
       "\u001b[32mimport \u001b[39m\u001b[36medu.colorado.plv.bounder.ExperimentsDb\n",
       "\u001b[39m\n",
       "\u001b[32mimport \u001b[39m\u001b[36medu.colorado.plv.bounder.BounderUtil\n",
       "\u001b[39m\n",
       "\u001b[32mimport \u001b[39m\u001b[36mscala.concurrent.duration._\n",
       "\u001b[39m\n",
       "\u001b[32mimport \u001b[39m\u001b[36mscala.language.postfixOps\u001b[39m"
      ]
     },
     "execution_count": 2,
     "metadata": {},
     "output_type": "execute_result"
    }
   ],
   "source": [
    "import $ivy.`com.github.pathikrit::better-files:3.9.1`\n",
    "import better.files._\n",
    "\n",
    "import scala.util.Random\n",
    "import edu.colorado.plv.bounder.Driver\n",
    "import edu.colorado.plv.bounder.Action\n",
    "import edu.colorado.plv.bounder.RunConfig\n",
    "import upickle.default.read\n",
    "import upickle.default.write\n",
    "import scala.collection.parallel.CollectionConverters.{ImmutableSetIsParallelizable, IterableIsParallelizable}\n",
    "import edu.colorado.plv.bounder.ExperimentsDb\n",
    "import edu.colorado.plv.bounder.BounderUtil\n",
    "import scala.concurrent.duration._\n",
    "import scala.language.postfixOps"
   ]
  },
  {
   "cell_type": "code",
   "execution_count": 3,
   "metadata": {
    "tags": []
   },
   "outputs": [
    {
     "name": "stdout",
     "output_type": "stream",
     "text": [
      "Initializing database\n"
     ]
    },
    {
     "data": {
      "text/plain": [
       "\u001b[36mdb\u001b[39m: \u001b[32mExperimentsDb\u001b[39m = edu.colorado.plv.bounder.ExperimentsDb@49db2d3f"
      ]
     },
     "execution_count": 3,
     "metadata": {},
     "output_type": "execute_result"
    }
   ],
   "source": [
    "val db = new ExperimentsDb(Some(\"/Users/shawnmeier/Documents/source/bounder/soot_hopper/target/scala-2.13/soot_hopper-assembly-0.1.jar\"))"
   ]
  },
  {
   "cell_type": "code",
   "execution_count": 4,
   "metadata": {
    "tags": []
   },
   "outputs": [
    {
     "data": {
      "text/plain": [
       "\u001b[32mimport \u001b[39m\u001b[36mslick.driver.H2Driver.api._\n",
       "\u001b[39m\n",
       "\u001b[32mimport \u001b[39m\u001b[36mslick.jdbc.GetResult\n",
       "\u001b[39m\n",
       "\u001b[32mimport \u001b[39m\u001b[36mslick.jdbc.SQLActionBuilder\n",
       "\u001b[39m\n",
       "\u001b[32mimport \u001b[39m\u001b[36mscala.concurrent.Await\u001b[39m"
      ]
     },
     "execution_count": 4,
     "metadata": {},
     "output_type": "execute_result"
    }
   ],
   "source": [
    "import slick.driver.H2Driver.api._\n",
    "import slick.jdbc.GetResult\n",
    "import slick.jdbc.SQLActionBuilder\n",
    "import scala.concurrent.Await"
   ]
  },
  {
   "cell_type": "code",
   "execution_count": 5,
   "metadata": {
    "tags": []
   },
   "outputs": [
    {
     "data": {
      "text/plain": [
       "defined \u001b[32mclass\u001b[39m \u001b[36mCount\u001b[39m\n",
       "\u001b[36mgetCountResult\u001b[39m: \u001b[32mAnyRef\u001b[39m with \u001b[32mGetResult\u001b[39m[\u001b[32mCount\u001b[39m] = <function1>\n",
       "\u001b[36mres4_2\u001b[39m: \u001b[32mVector\u001b[39m[\u001b[32mCount\u001b[39m] = \u001b[33mVector\u001b[39m(\u001b[33mCount\u001b[39m(\u001b[32m250\u001b[39m))"
      ]
     },
     "execution_count": 5,
     "metadata": {},
     "output_type": "execute_result"
    }
   ],
   "source": [
    "case class Count(n:Int)\n",
    "implicit val getCountResult = GetResult(r => Count(r.<<))\n",
    "\n",
    "Await.result(db.db.run(sql\"\"\"select count(*) from results;\"\"\".as[Count]), 30 seconds)"
   ]
  },
  {
   "cell_type": "code",
   "execution_count": 6,
   "metadata": {},
   "outputs": [
    {
     "data": {
      "text/plain": [
       "\u001b[36mtriageFolder\u001b[39m: \u001b[32mString\u001b[39m = \u001b[32m\"/Users/shawnmeier/Desktop/55select\"\u001b[39m"
      ]
     },
     "execution_count": 6,
     "metadata": {},
     "output_type": "execute_result"
    }
   ],
   "source": [
    "val triageFolder=\"/Users/shawnmeier/Desktop/55select\""
   ]
  },
  {
   "cell_type": "code",
   "execution_count": 17,
   "metadata": {
    "tags": []
   },
   "outputs": [
    {
     "name": "stdout",
     "output_type": "stream",
     "text": [
      "out folder: /Users/shawnmeier/Desktop/55select/com.lyonbros/sample\n",
      "out folder: /Users/shawnmeier/Desktop/55select/com.lyonbros/sample\n",
      "out folder: /Users/shawnmeier/Desktop/55select/com.lyonbros/sample\n",
      "out folder: /Users/shawnmeier/Desktop/55select/com.lyonbros/sample\n",
      "out folder: /Users/shawnmeier/Desktop/55select/com.lyonbros/sample\n",
      "out folder: /Users/shawnmeier/Desktop/55select/com.lyonbros/sample\n",
      "out folder: /Users/shawnmeier/Desktop/55select/com.lyonbros/sample\n",
      "out folder: /Users/shawnmeier/Desktop/55select/com.lyonbros/sample\n",
      "out folder: /Users/shawnmeier/Desktop/55select/com.lyonbros/sample\n",
      "out folder: /Users/shawnmeier/Desktop/55select/com.lyonbros/sample\n",
      "out folder: /Users/shawnmeier/Desktop/55select/com.lyonbros/sample\n",
      "out folder: /Users/shawnmeier/Desktop/55select/com.lyonbros/sample\n",
      "out folder: /Users/shawnmeier/Desktop/55select/com.lyonbros/sample\n",
      "out folder: /Users/shawnmeier/Desktop/55select/com.lyonbros/sample\n",
      "out folder: /Users/shawnmeier/Desktop/55select/com.lyonbros/sample\n",
      "out folder: /Users/shawnmeier/Desktop/55select/com.lyonbros/sample\n",
      "out folder: /Users/shawnmeier/Desktop/55select/com.lyonbros/sample\n",
      "out folder: /Users/shawnmeier/Desktop/55select/com.lyonbros/sample\n",
      "out folder: /Users/shawnmeier/Desktop/55select/com.lyonbros/sample\n",
      "out folder: /Users/shawnmeier/Desktop/55select/com.lyonbros/sample\n",
      "out folder: /Users/shawnmeier/Desktop/55select/com.lyonbros/sample\n",
      "out folder: /Users/shawnmeier/Desktop/55select/com.lyonbros/sample\n",
      "out folder: /Users/shawnmeier/Desktop/55select/com.lyonbros/sample\n",
      "out folder: /Users/shawnmeier/Desktop/55select/com.lyonbros/sample\n",
      "out folder: /Users/shawnmeier/Desktop/55select/com.lyonbros/sample\n",
      "out folder: /Users/shawnmeier/Desktop/55select/com.lyonbros/sample\n",
      "out folder: /Users/shawnmeier/Desktop/55select/com.lyonbros/sample\n",
      "out folder: /Users/shawnmeier/Desktop/55select/com.lyonbros/sample\n",
      "out folder: /Users/shawnmeier/Desktop/55select/com.lyonbros/sample\n",
      "out folder: /Users/shawnmeier/Desktop/55select/com.lyonbros/sample\n",
      "out folder: /Users/shawnmeier/Desktop/55select/com.lyonbros/sample\n",
      "out folder: /Users/shawnmeier/Desktop/55select/com.lyonbros/sample\n",
      "out folder: /Users/shawnmeier/Desktop/55select/com.lyonbros/sample\n",
      "out folder: /Users/shawnmeier/Desktop/55select/com.lyonbros/sample\n",
      "out folder: /Users/shawnmeier/Desktop/55select/com.lyonbros/sample\n",
      "out folder: /Users/shawnmeier/Desktop/55select/com.lyonbros/sample\n",
      "out folder: /Users/shawnmeier/Desktop/55select/com.lyonbros/sample\n",
      "out folder: /Users/shawnmeier/Desktop/55select/com.lyonbros/sample\n",
      "out folder: /Users/shawnmeier/Desktop/55select/com.lyonbros/sample\n",
      "out folder: /Users/shawnmeier/Desktop/55select/com.lyonbros/sample\n",
      "out folder: /Users/shawnmeier/Desktop/55select/com.lyonbros/sample\n",
      "out folder: /Users/shawnmeier/Desktop/55select/com.lyonbros/sample\n",
      "out folder: /Users/shawnmeier/Desktop/55select/com.lyonbros/sample\n",
      "out folder: /Users/shawnmeier/Desktop/55select/com.lyonbros/sample\n",
      "out folder: /Users/shawnmeier/Desktop/55select/com.gianlu/sample\n",
      "out folder: /Users/shawnmeier/Desktop/55select/com.lyonbros/sample\n",
      "out folder: /Users/shawnmeier/Desktop/55select/com.lyonbros/sample\n",
      "out folder: /Users/shawnmeier/Desktop/55select/com.lyonbros/sample\n",
      "out folder: /Users/shawnmeier/Desktop/55select/com.lyonbros/sample\n",
      "out folder: /Users/shawnmeier/Desktop/55select/com.lyonbros/sample\n",
      "out folder: /Users/shawnmeier/Desktop/55select/com.lyonbros/sample\n",
      "out folder: /Users/shawnmeier/Desktop/55select/com.gianlu/sample\n",
      "out folder: /Users/shawnmeier/Desktop/55select/com.gianlu/sample\n",
      "out folder: /Users/shawnmeier/Desktop/55select/com.gianlu/sample\n",
      "out folder: /Users/shawnmeier/Desktop/55select/com.gianlu/sample\n",
      "out folder: /Users/shawnmeier/Desktop/55select/com.gianlu/sample\n",
      "out folder: /Users/shawnmeier/Desktop/55select/com.gianlu/sample\n",
      "out folder: /Users/shawnmeier/Desktop/55select/com.gianlu/sample\n",
      "out folder: /Users/shawnmeier/Desktop/55select/com.gianlu/sample\n",
      "out folder: /Users/shawnmeier/Desktop/55select/com.gianlu/sample\n",
      "out folder: /Users/shawnmeier/Desktop/55select/com.gianlu/sample\n",
      "out folder: /Users/shawnmeier/Desktop/55select/com.gianlu/sample\n",
      "out folder: /Users/shawnmeier/Desktop/55select/com.gianlu/sample\n",
      "out folder: /Users/shawnmeier/Desktop/55select/com.gianlu/sample\n",
      "out folder: /Users/shawnmeier/Desktop/55select/com.gianlu/sample\n",
      "out folder: /Users/shawnmeier/Desktop/55select/com.gianlu/sample\n",
      "out folder: /Users/shawnmeier/Desktop/55select/com.gianlu/sample\n",
      "out folder: /Users/shawnmeier/Desktop/55select/com.gianlu/sample\n",
      "out folder: /Users/shawnmeier/Desktop/55select/com.gianlu/sample\n",
      "out folder: /Users/shawnmeier/Desktop/55select/com.gianlu/sample\n",
      "out folder: /Users/shawnmeier/Desktop/55select/com.gianlu/sample\n",
      "out folder: /Users/shawnmeier/Desktop/55select/com.gianlu/sample\n",
      "out folder: /Users/shawnmeier/Desktop/55select/com.gianlu/sample\n",
      "out folder: /Users/shawnmeier/Desktop/55select/com.gianlu/sample\n",
      "out folder: /Users/shawnmeier/Desktop/55select/com.gianlu/sample\n",
      "out folder: /Users/shawnmeier/Desktop/55select/com.gianlu/sample\n",
      "out folder: /Users/shawnmeier/Desktop/55select/com.gianlu/sample\n",
      "out folder: /Users/shawnmeier/Desktop/55select/com.gianlu/sample\n",
      "out folder: /Users/shawnmeier/Desktop/55select/com.gianlu/sample\n",
      "out folder: /Users/shawnmeier/Desktop/55select/com.gianlu/sample\n",
      "out folder: /Users/shawnmeier/Desktop/55select/com.gianlu/sample\n",
      "out folder: /Users/shawnmeier/Desktop/55select/com.gianlu/sample\n",
      "out folder: /Users/shawnmeier/Desktop/55select/com.gianlu/sample\n",
      "out folder: /Users/shawnmeier/Desktop/55select/com.gianlu/sample\n",
      "out folder: /Users/shawnmeier/Desktop/55select/com.gianlu/sample\n",
      "out folder: /Users/shawnmeier/Desktop/55select/com.gianlu/sample\n",
      "out folder: /Users/shawnmeier/Desktop/55select/com.gianlu/sample\n",
      "out folder: /Users/shawnmeier/Desktop/55select/com.gianlu/sample\n",
      "out folder: /Users/shawnmeier/Desktop/55select/com.gianlu/sample\n",
      "out folder: /Users/shawnmeier/Desktop/55select/com.gianlu/sample\n",
      "out folder: /Users/shawnmeier/Desktop/55select/com.gianlu/sample\n",
      "out folder: /Users/shawnmeier/Desktop/55select/com.gianlu/sample\n",
      "out folder: /Users/shawnmeier/Desktop/55select/com.gianlu/sample\n",
      "out folder: /Users/shawnmeier/Desktop/55select/com.gianlu/sample\n",
      "out folder: /Users/shawnmeier/Desktop/55select/com.gianlu/sample\n",
      "out folder: /Users/shawnmeier/Desktop/55select/com.gianlu/sample\n",
      "out folder: /Users/shawnmeier/Desktop/55select/com.gianlu/sample\n",
      "out folder: /Users/shawnmeier/Desktop/55select/com.gianlu/sample\n",
      "out folder: /Users/shawnmeier/Desktop/55select/com.gianlu/sample\n",
      "out folder: /Users/shawnmeier/Desktop/55select/com.gianlu/sample\n",
      "out folder: /Users/shawnmeier/Desktop/55select/com.health/sample\n",
      "out folder: /Users/shawnmeier/Desktop/55select/com.health/sample\n",
      "out folder: /Users/shawnmeier/Desktop/55select/com.health/sample\n",
      "out folder: /Users/shawnmeier/Desktop/55select/com.health/sample\n",
      "out folder: /Users/shawnmeier/Desktop/55select/com.health/sample\n",
      "out folder: /Users/shawnmeier/Desktop/55select/com.health/sample\n",
      "out folder: /Users/shawnmeier/Desktop/55select/com.health/sample\n",
      "out folder: /Users/shawnmeier/Desktop/55select/com.health/sample\n",
      "out folder: /Users/shawnmeier/Desktop/55select/com.health/sample\n",
      "out folder: /Users/shawnmeier/Desktop/55select/com.health/sample\n",
      "out folder: /Users/shawnmeier/Desktop/55select/com.health/sample\n",
      "out folder: /Users/shawnmeier/Desktop/55select/com.health/sample\n",
      "out folder: /Users/shawnmeier/Desktop/55select/com.health/sample\n",
      "out folder: /Users/shawnmeier/Desktop/55select/com.health/sample\n",
      "out folder: /Users/shawnmeier/Desktop/55select/com.health/sample\n",
      "out folder: /Users/shawnmeier/Desktop/55select/com.health/sample\n",
      "out folder: /Users/shawnmeier/Desktop/55select/com.health/sample\n",
      "out folder: /Users/shawnmeier/Desktop/55select/com.health/sample\n",
      "out folder: /Users/shawnmeier/Desktop/55select/com.health/sample\n",
      "out folder: /Users/shawnmeier/Desktop/55select/com.health/sample\n",
      "out folder: /Users/shawnmeier/Desktop/55select/com.health/sample\n",
      "out folder: /Users/shawnmeier/Desktop/55select/com.health/sample\n",
      "out folder: /Users/shawnmeier/Desktop/55select/com.health/sample\n",
      "out folder: /Users/shawnmeier/Desktop/55select/com.health/sample\n",
      "out folder: /Users/shawnmeier/Desktop/55select/com.health/sample\n",
      "out folder: /Users/shawnmeier/Desktop/55select/com.health/sample\n",
      "out folder: /Users/shawnmeier/Desktop/55select/com.health/sample\n",
      "out folder: /Users/shawnmeier/Desktop/55select/com.health/sample\n",
      "out folder: /Users/shawnmeier/Desktop/55select/org.andstatus/sample\n",
      "out folder: /Users/shawnmeier/Desktop/55select/com.health/sample\n",
      "out folder: /Users/shawnmeier/Desktop/55select/com.health/sample\n",
      "out folder: /Users/shawnmeier/Desktop/55select/com.health/sample\n",
      "out folder: /Users/shawnmeier/Desktop/55select/com.health/sample\n",
      "out folder: /Users/shawnmeier/Desktop/55select/com.health/sample\n",
      "out folder: /Users/shawnmeier/Desktop/55select/com.health/sample\n",
      "out folder: /Users/shawnmeier/Desktop/55select/com.health/sample\n",
      "out folder: /Users/shawnmeier/Desktop/55select/com.health/sample\n",
      "out folder: /Users/shawnmeier/Desktop/55select/com.health/sample\n",
      "out folder: /Users/shawnmeier/Desktop/55select/com.health/sample\n",
      "out folder: /Users/shawnmeier/Desktop/55select/com.health/sample\n",
      "out folder: /Users/shawnmeier/Desktop/55select/com.health/sample\n",
      "out folder: /Users/shawnmeier/Desktop/55select/com.health/sample\n",
      "out folder: /Users/shawnmeier/Desktop/55select/com.duckduckgo/sample\n",
      "out folder: /Users/shawnmeier/Desktop/55select/com.health/sample\n",
      "out folder: /Users/shawnmeier/Desktop/55select/com.health/sample\n",
      "out folder: /Users/shawnmeier/Desktop/55select/com.health/sample\n",
      "out folder: /Users/shawnmeier/Desktop/55select/com.health/sample\n",
      "out folder: /Users/shawnmeier/Desktop/55select/com.health/sample\n",
      "out folder: /Users/shawnmeier/Desktop/55select/com.health/sample\n",
      "out folder: /Users/shawnmeier/Desktop/55select/com.health/sample\n",
      "out folder: /Users/shawnmeier/Desktop/55select/com.health/sample\n",
      "out folder: /Users/shawnmeier/Desktop/55select/com.health/sample\n",
      "out folder: /Users/shawnmeier/Desktop/55select/com.duckduckgo/sample\n",
      "out folder: /Users/shawnmeier/Desktop/55select/com.duckduckgo/sample\n",
      "out folder: /Users/shawnmeier/Desktop/55select/com.duckduckgo/sample\n",
      "out folder: /Users/shawnmeier/Desktop/55select/com.duckduckgo/sample\n",
      "out folder: /Users/shawnmeier/Desktop/55select/com.duckduckgo/sample\n",
      "out folder: /Users/shawnmeier/Desktop/55select/com.duckduckgo/sample\n",
      "out folder: /Users/shawnmeier/Desktop/55select/com.duckduckgo/sample\n",
      "out folder: /Users/shawnmeier/Desktop/55select/com.duckduckgo/sample\n",
      "out folder: /Users/shawnmeier/Desktop/55select/com.duckduckgo/sample\n",
      "out folder: /Users/shawnmeier/Desktop/55select/com.duckduckgo/sample\n",
      "out folder: /Users/shawnmeier/Desktop/55select/com.duckduckgo/sample\n",
      "out folder: /Users/shawnmeier/Desktop/55select/com.duckduckgo/sample\n",
      "out folder: /Users/shawnmeier/Desktop/55select/com.duckduckgo/sample\n",
      "out folder: /Users/shawnmeier/Desktop/55select/com.duckduckgo/sample\n",
      "out folder: /Users/shawnmeier/Desktop/55select/com.duckduckgo/sample\n",
      "out folder: /Users/shawnmeier/Desktop/55select/com.duckduckgo/sample\n",
      "out folder: /Users/shawnmeier/Desktop/55select/com.duckduckgo/sample\n",
      "out folder: /Users/shawnmeier/Desktop/55select/com.duckduckgo/sample\n",
      "out folder: /Users/shawnmeier/Desktop/55select/com.duckduckgo/sample\n",
      "out folder: /Users/shawnmeier/Desktop/55select/com.duckduckgo/sample\n",
      "out folder: /Users/shawnmeier/Desktop/55select/com.duckduckgo/sample\n",
      "out folder: /Users/shawnmeier/Desktop/55select/com.duckduckgo/sample\n",
      "out folder: /Users/shawnmeier/Desktop/55select/com.duckduckgo/sample\n",
      "out folder: /Users/shawnmeier/Desktop/55select/com.duckduckgo/sample\n",
      "out folder: /Users/shawnmeier/Desktop/55select/com.duckduckgo/sample\n",
      "out folder: /Users/shawnmeier/Desktop/55select/com.duckduckgo/sample\n",
      "out folder: /Users/shawnmeier/Desktop/55select/com.duckduckgo/sample\n",
      "out folder: /Users/shawnmeier/Desktop/55select/com.duckduckgo/sample\n",
      "out folder: /Users/shawnmeier/Desktop/55select/com.duckduckgo/sample\n",
      "out folder: /Users/shawnmeier/Desktop/55select/com.duckduckgo/sample\n",
      "out folder: /Users/shawnmeier/Desktop/55select/com.duckduckgo/sample\n",
      "out folder: /Users/shawnmeier/Desktop/55select/com.duckduckgo/sample\n",
      "out folder: /Users/shawnmeier/Desktop/55select/com.duckduckgo/sample\n",
      "out folder: /Users/shawnmeier/Desktop/55select/com.duckduckgo/sample\n",
      "out folder: /Users/shawnmeier/Desktop/55select/com.duckduckgo/sample\n",
      "out folder: /Users/shawnmeier/Desktop/55select/com.duckduckgo/sample\n",
      "out folder: /Users/shawnmeier/Desktop/55select/com.duckduckgo/sample\n",
      "out folder: /Users/shawnmeier/Desktop/55select/com.duckduckgo/sample\n",
      "out folder: /Users/shawnmeier/Desktop/55select/com.duckduckgo/sample\n",
      "out folder: /Users/shawnmeier/Desktop/55select/com.duckduckgo/sample\n",
      "out folder: /Users/shawnmeier/Desktop/55select/com.duckduckgo/sample\n",
      "out folder: /Users/shawnmeier/Desktop/55select/com.duckduckgo/sample\n",
      "out folder: /Users/shawnmeier/Desktop/55select/com.duckduckgo/sample\n",
      "out folder: /Users/shawnmeier/Desktop/55select/com.duckduckgo/sample\n",
      "out folder: /Users/shawnmeier/Desktop/55select/com.duckduckgo/sample\n",
      "out folder: /Users/shawnmeier/Desktop/55select/com.duckduckgo/sample\n",
      "out folder: /Users/shawnmeier/Desktop/55select/com.duckduckgo/sample\n",
      "out folder: /Users/shawnmeier/Desktop/55select/com.duckduckgo/sample\n",
      "out folder: /Users/shawnmeier/Desktop/55select/com.duckduckgo/sample\n",
      "out folder: /Users/shawnmeier/Desktop/55select/org.andstatus/sample\n",
      "out folder: /Users/shawnmeier/Desktop/55select/org.andstatus/sample\n",
      "out folder: /Users/shawnmeier/Desktop/55select/org.andstatus/sample\n",
      "out folder: /Users/shawnmeier/Desktop/55select/org.andstatus/sample\n",
      "out folder: /Users/shawnmeier/Desktop/55select/org.andstatus/sample\n",
      "out folder: /Users/shawnmeier/Desktop/55select/org.andstatus/sample\n",
      "out folder: /Users/shawnmeier/Desktop/55select/org.andstatus/sample\n",
      "out folder: /Users/shawnmeier/Desktop/55select/org.andstatus/sample\n",
      "out folder: /Users/shawnmeier/Desktop/55select/org.andstatus/sample\n",
      "out folder: /Users/shawnmeier/Desktop/55select/org.andstatus/sample\n",
      "out folder: /Users/shawnmeier/Desktop/55select/org.andstatus/sample\n",
      "out folder: /Users/shawnmeier/Desktop/55select/org.andstatus/sample\n",
      "out folder: /Users/shawnmeier/Desktop/55select/org.andstatus/sample\n",
      "out folder: /Users/shawnmeier/Desktop/55select/org.andstatus/sample\n",
      "out folder: /Users/shawnmeier/Desktop/55select/org.andstatus/sample\n",
      "out folder: /Users/shawnmeier/Desktop/55select/org.andstatus/sample\n",
      "out folder: /Users/shawnmeier/Desktop/55select/org.andstatus/sample\n",
      "out folder: /Users/shawnmeier/Desktop/55select/org.andstatus/sample\n",
      "out folder: /Users/shawnmeier/Desktop/55select/org.andstatus/sample\n",
      "out folder: /Users/shawnmeier/Desktop/55select/org.andstatus/sample\n",
      "out folder: /Users/shawnmeier/Desktop/55select/org.andstatus/sample\n",
      "out folder: /Users/shawnmeier/Desktop/55select/org.andstatus/sample\n",
      "out folder: /Users/shawnmeier/Desktop/55select/org.andstatus/sample\n",
      "out folder: /Users/shawnmeier/Desktop/55select/org.andstatus/sample\n",
      "out folder: /Users/shawnmeier/Desktop/55select/org.andstatus/sample\n",
      "out folder: /Users/shawnmeier/Desktop/55select/org.andstatus/sample\n",
      "out folder: /Users/shawnmeier/Desktop/55select/org.andstatus/sample\n",
      "out folder: /Users/shawnmeier/Desktop/55select/org.andstatus/sample\n",
      "out folder: /Users/shawnmeier/Desktop/55select/org.andstatus/sample\n",
      "out folder: /Users/shawnmeier/Desktop/55select/org.andstatus/sample\n",
      "out folder: /Users/shawnmeier/Desktop/55select/org.andstatus/sample\n",
      "out folder: /Users/shawnmeier/Desktop/55select/org.andstatus/sample\n",
      "out folder: /Users/shawnmeier/Desktop/55select/org.andstatus/sample\n",
      "out folder: /Users/shawnmeier/Desktop/55select/org.andstatus/sample\n",
      "out folder: /Users/shawnmeier/Desktop/55select/org.andstatus/sample\n",
      "out folder: /Users/shawnmeier/Desktop/55select/org.andstatus/sample\n",
      "out folder: /Users/shawnmeier/Desktop/55select/org.andstatus/sample\n",
      "out folder: /Users/shawnmeier/Desktop/55select/org.andstatus/sample\n",
      "out folder: /Users/shawnmeier/Desktop/55select/org.andstatus/sample\n",
      "out folder: /Users/shawnmeier/Desktop/55select/org.andstatus/sample\n",
      "out folder: /Users/shawnmeier/Desktop/55select/org.andstatus/sample\n",
      "out folder: /Users/shawnmeier/Desktop/55select/org.andstatus/sample\n",
      "out folder: /Users/shawnmeier/Desktop/55select/org.andstatus/sample\n",
      "out folder: /Users/shawnmeier/Desktop/55select/org.andstatus/sample\n",
      "out folder: /Users/shawnmeier/Desktop/55select/org.andstatus/sample\n",
      "out folder: /Users/shawnmeier/Desktop/55select/org.andstatus/sample\n",
      "out folder: /Users/shawnmeier/Desktop/55select/org.andstatus/sample\n",
      "out folder: /Users/shawnmeier/Desktop/55select/org.andstatus/sample\n",
      "out folder: /Users/shawnmeier/Desktop/55select/org.andstatus/sample\n",
      "downloading data 5 to directory /Users/shawnmeier/Desktop/55select/org.andstatus/sample\n",
      "downloading data 1 to directory /Users/shawnmeier/Desktop/55select/com.lyonbros/sample\n",
      "downloading data 2 to directory /Users/shawnmeier/Desktop/55select/com.gianlu/sample\n",
      "downloading data 4 to directory /Users/shawnmeier/Desktop/55select/com.duckduckgo/sample\n",
      "downloading data 3 to directory /Users/shawnmeier/Desktop/55select/com.health/sample\n"
     ]
    }
   ],
   "source": [
    "//Download witnessed with no limit\n",
    "// db.downloadResults(File(\"/Users/shawnmeier/Desktop/2appExp\"), \"\"\"%Witnessed%\"\"\", None)\n",
    "db.downloadResults(File(triageFolder), \"\"\"%\"\"\", None)"
   ]
  },
  {
   "cell_type": "code",
   "execution_count": 14,
   "metadata": {},
   "outputs": [
    {
     "data": {
      "text/plain": [
       "\u001b[32mimport \u001b[39m\u001b[36medu.colorado.plv.bounder.RunConfig\n",
       "\u001b[39m\n",
       "\u001b[32mimport \u001b[39m\u001b[36medu.colorado.plv.bounder.ir.AppLoc\n",
       "\u001b[39m\n",
       "\u001b[32mimport \u001b[39m\u001b[36medu.colorado.plv.bounder.symbolicexecutor.state.ReceiverNonNull\n",
       "\n",
       "\u001b[39m\n",
       "defined \u001b[32mfunction\u001b[39m \u001b[36mspecifyCFG\u001b[39m\n",
       "\u001b[36mbaseOut\u001b[39m: \u001b[32mFile\u001b[39m = /Users/shawnmeier/Desktop/55select\n",
       "\u001b[36mappList\u001b[39m: \u001b[32mList\u001b[39m[\u001b[32mString\u001b[39m] = \u001b[33mList\u001b[39m(\n",
       "  \u001b[32m\"com.duckduckgo\"\u001b[39m,\n",
       "  \u001b[32m\"com.gianlu\"\u001b[39m,\n",
       "  \u001b[32m\"com.health\"\u001b[39m,\n",
       "  \u001b[32m\"com.lyonbros\"\u001b[39m,\n",
       "  \u001b[32m\"org.andstatus\"\u001b[39m\n",
       ")\n",
       "\u001b[36mres13_6\u001b[39m: \u001b[32mFile\u001b[39m = /Users/shawnmeier/Desktop/55select/com.lyonbros/sample/res_29/cfg.json"
      ]
     },
     "execution_count": 14,
     "metadata": {},
     "output_type": "execute_result"
    }
   ],
   "source": [
    "// remove other jobs from target cfg\n",
    "\n",
    "import edu.colorado.plv.bounder.RunConfig\n",
    "import edu.colorado.plv.bounder.ir.AppLoc\n",
    "import edu.colorado.plv.bounder.symbolicexecutor.state.ReceiverNonNull\n",
    "\n",
    "def specifyCFG(folder:File) = {\n",
    "//     val folder = triageFolder / \"com.gianlu\"/\"sample\"/\"res_3841\"\n",
    "\n",
    "    val oldCfg = folder / \"job_config\"\n",
    "\n",
    "    val rCfg = read[RunConfig](oldCfg.contentAsString)\n",
    "\n",
    "    val appLoc = read[AppLoc]((folder / \"res_loc\").contentAsString)\n",
    "    val mname = appLoc.method.simpleName\n",
    "    val mclazz = appLoc.method.classType\n",
    "    val newConfig = rCfg.copy(initialQuery = rCfg.initialQuery.filter{\n",
    "        case ReceiverNonNull(cn,mn,ln,_) => \n",
    "        cn == mclazz && mn == mname\n",
    "        case _ => false\n",
    "    })\n",
    "    val newCFG = folder / \"cfg.json\"\n",
    "    newCFG.overwrite(write(newConfig))\n",
    "}\n",
    "\n",
    "// specifyCFG(triageFolder / \"org.andstatus\" /\"sample\"/\"res_4028\")\n",
    "val baseOut = File(\"/Users/shawnmeier/Desktop/55select/\")\n",
    "val appList = List(\n",
    "\"com.duckduckgo\",\n",
    "\"com.gianlu\",\n",
    "\"com.health\",\n",
    "\"com.lyonbros\",\n",
    "\"org.andstatus\",\n",
    ")\n",
    "\n",
    "// baseOut.glob(\"**/res_*\").filter(_.isDirectory).foreach{d => \n",
    "//     try{\n",
    "//         specifyCFG(d)\n",
    "//     }catch{\n",
    "//         case e => println(s\"failed to extract $d\")\n",
    "//     }\n",
    "// }\n",
    "specifyCFG(File(\"/Users/shawnmeier/Desktop/55select/com.lyonbros/sample/res_29\"))"
   ]
  },
  {
   "cell_type": "code",
   "execution_count": 26,
   "metadata": {},
   "outputs": [
    {
     "name": "stdout",
     "output_type": "stream",
     "text": [
      "Writing trace 0 / 1, length: 11\n"
     ]
    },
    {
     "data": {
      "text/plain": [
       "\u001b[36mpath\u001b[39m: \u001b[32mFile\u001b[39m = /Users/shawnmeier/Desktop/55select/org.andstatus/sample/res_4045/out/org.andstatus/sample"
      ]
     },
     "execution_count": 26,
     "metadata": {},
     "output_type": "execute_result"
    }
   ],
   "source": [
    "val path = File(\"/Users/shawnmeier/Desktop/55select/org.andstatus/sample/res_4045/out/org.andstatus/sample\")\n",
    "\n",
    "Driver.readDB(path)"
   ]
  },
  {
   "cell_type": "code",
   "execution_count": 10,
   "metadata": {
    "tags": []
   },
   "outputs": [
    {
     "ename": "",
     "evalue": "",
     "output_type": "error",
     "traceback": [
      "\u001b[31mjava.io.FileNotFoundException: /Users/shawnmeier/Desktop/55select/com.gianlu/sample/res_3841/out/com.gianlu/sample/data.zip (No such file or directory)\u001b[39m\n  java.util.zip.ZipFile.open(\u001b[32mNative Method\u001b[39m)\n  java.util.zip.ZipFile.<init>(\u001b[32mZipFile.java\u001b[39m:\u001b[32m225\u001b[39m)\n  java.util.zip.ZipFile.<init>(\u001b[32mZipFile.java\u001b[39m:\u001b[32m279\u001b[39m)\n  better.files.File.unzipTo(\u001b[32mFile.scala\u001b[39m:\u001b[32m1236\u001b[39m)\n  better.files.File.unzip(\u001b[32mFile.scala\u001b[39m:\u001b[32m1323\u001b[39m)\n  ammonite.$sess.cmd9$Helper.extractWitness(\u001b[32mcmd9.sc\u001b[39m:\u001b[32m2\u001b[39m)\n  ammonite.$sess.cmd9$Helper.<init>(\u001b[32mcmd9.sc\u001b[39m:\u001b[32m9\u001b[39m)\n  ammonite.$sess.cmd9$.<clinit>(\u001b[32mcmd9.sc\u001b[39m:\u001b[32m7\u001b[39m)"
     ]
    }
   ],
   "source": [
    "def extractWitness(base:File) = {\n",
    "    val dataFile = (base / \"data.zip\").unzip()\n",
    "    val pathsF = dataFile.glob(\"**/paths.db\")\n",
    "    pathsF.next.moveToDirectory(base)\n",
    "    Driver.readDB(base)\n",
    "}\n",
    "val path = s\"${triageFolder}/com.gianlu/sample/data_477\"\n",
    "// val path = \"/Users/shawnmeier/Desktop/55select/com.gianlu/sample/res_3841/out/com.gianlu/sample\"\n",
    "extractWitness(File(path))"
   ]
  },
  {
   "cell_type": "code",
   "execution_count": null,
   "metadata": {
    "tags": []
   },
   "outputs": [],
   "source": [
    "// Find locations with no successors\n",
    "Driver.readDB(File(path),true)"
   ]
  },
  {
   "cell_type": "code",
   "execution_count": null,
   "metadata": {},
   "outputs": [],
   "source": []
  }
 ],
 "metadata": {
  "kernelspec": {
   "display_name": "Scala",
   "language": "scala",
   "name": "scala"
  },
  "language_info": {
   "codemirror_mode": "text/x-scala",
   "file_extension": ".sc",
   "mimetype": "text/x-scala",
   "name": "scala",
   "nbconvert_exporter": "script",
   "version": "2.13.3"
  },
  "toc-autonumbering": false,
  "toc-showmarkdowntxt": false,
  "toc-showtags": false
 },
 "nbformat": 4,
 "nbformat_minor": 4
}
