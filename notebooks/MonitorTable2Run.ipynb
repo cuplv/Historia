{
 "cells": [
  {
   "cell_type": "code",
   "execution_count": 1,
   "metadata": {},
   "outputs": [],
   "source": [
    "import pandas as pd\n",
    "from IPython.display import JSON\n",
    "import pylab\n",
    "import json\n",
    "%matplotlib inline\n",
    "import matplotlib.pyplot as plt\n",
    "#plt.style.use('seaborn-whitegrid') # TODO: what did this do?\n",
    "import numpy as np\n",
    "from IPython.core import display\n",
    "import psycopg2\n",
    "import os\n",
    "homedir = os.getenv(\"HOME\")\n",
    "with open(homedir + \"/.pgpass\",'r') as pgfile:\n",
    "    pgdat = pgfile.read().strip().split(\":\")\n",
    "    pgurl = pgdat[0]\n",
    "    pgport = pgdat[1]\n",
    "    pgdb = pgdat[2]\n",
    "    pguser = pgdat[3]\n",
    "    pgpass = pgdat[4]\n",
    "\n",
    "%load_ext sql\n",
    "from sqlalchemy import create_engine\n",
    "# sql info: https://github.com/catherinedevlin/ipython-sql\n",
    "# on error `pip install ipython-sql`\n",
    "#uncomment for remote\n",
    "#pgport=3333\n",
    "pgport=5432\n",
    "engine = create_engine('postgresql://postgres@localhost:%i/postgres' % pgport)\n",
    "db = psycopg2.connect(host=pgurl, database=pgdb, user=pguser,password=pgpass,port=pgport)"
   ]
  },
  {
   "cell_type": "code",
   "execution_count": 2,
   "metadata": {},
   "outputs": [],
   "source": [
    "def qry(q):\n",
    "  return pd.read_sql_query(con = db, sql = q)\n",
    "# pd.set_option(\"max_colwidth\", None)\n",
    "# pd.set_option('display.max_columns', None)\n",
    "# pd.set_option(\"display.latex.repr\", False)\n",
    "# pd.set_option(\"display.latex.escape\", True)\n",
    "\n",
    "def iDisplay(v):\n",
    "    with pd.option_context('display.max_rows', None, 'display.max_columns', None, \"max_colwidth\", None):\n",
    "        display.display(v)\n"
   ]
  },
  {
   "cell_type": "markdown",
   "metadata": {},
   "source": [
    "Count number of uploaded APK files"
   ]
  },
  {
   "cell_type": "code",
   "execution_count": 3,
   "metadata": {},
   "outputs": [
    {
     "name": "stdout",
     "output_type": "stream",
     "text": [
      "1 rows affected.\n"
     ]
    },
    {
     "data": {
      "text/html": [
       "<table>\n",
       "    <thead>\n",
       "        <tr>\n",
       "            <th>apk_count</th>\n",
       "            <th>blob_count</th>\n",
       "            <th>input_count</th>\n",
       "            <th>job_count</th>\n",
       "            <th>result_data_count</th>\n",
       "            <th>result_count</th>\n",
       "        </tr>\n",
       "    </thead>\n",
       "    <tbody>\n",
       "        <tr>\n",
       "            <td>47</td>\n",
       "            <td>49</td>\n",
       "            <td>1</td>\n",
       "            <td>1090</td>\n",
       "            <td>1336</td>\n",
       "            <td>1082</td>\n",
       "        </tr>\n",
       "    </tbody>\n",
       "</table>"
      ],
      "text/plain": [
       "[(47, 49, 1, 1090, 1336, 1082)]"
      ]
     },
     "execution_count": 3,
     "metadata": {},
     "output_type": "execute_result"
    }
   ],
   "source": [
    "%%sql postgresql://postgres@localhost:$pgport/postgres\n",
    "select\n",
    "    (select count(*) from apks where apkname not like 'jar_%' and apkname not like 'spec_%') as apk_count,\n",
    "    (select count(*) from apks) as blob_count, \n",
    "    (select count(*) from inputs) as input_count, \n",
    "    (select count(*) from jobs) as job_count, \n",
    "    (select count(*) from resultdata) as result_data_count, \n",
    "    (select count(*) from results) as result_count"
   ]
  },
  {
   "cell_type": "code",
   "execution_count": 4,
   "metadata": {},
   "outputs": [
    {
     "name": "stdout",
     "output_type": "stream",
     "text": [
      " * postgresql://postgres@localhost:5432/postgres\n",
      "5 rows affected.\n"
     ]
    },
    {
     "data": {
      "text/html": [
       "<table>\n",
       "    <thead>\n",
       "        <tr>\n",
       "            <th>count</th>\n",
       "            <th>category</th>\n",
       "        </tr>\n",
       "    </thead>\n",
       "    <tbody>\n",
       "        <tr>\n",
       "            <td>55</td>\n",
       "            <td>&quot;SensitiveDerefFieldCausedSynch&quot;</td>\n",
       "        </tr>\n",
       "        <tr>\n",
       "            <td>291</td>\n",
       "            <td>&quot;Disallow.I_CIEnter_Dialogdismiss&quot;</td>\n",
       "        </tr>\n",
       "        <tr>\n",
       "            <td>155</td>\n",
       "            <td>&quot;Disallow.I_CIEnter_AsyncTaskexecute&quot;</td>\n",
       "        </tr>\n",
       "        <tr>\n",
       "            <td>31</td>\n",
       "            <td>&quot;SensitiveDerefFieldCausedFinish&quot;</td>\n",
       "        </tr>\n",
       "        <tr>\n",
       "            <td>558</td>\n",
       "            <td>&quot;SensitiveDerefCallinCaused&quot;</td>\n",
       "        </tr>\n",
       "    </tbody>\n",
       "</table>"
      ],
      "text/plain": [
       "[(55, '\"SensitiveDerefFieldCausedSynch\"'),\n",
       " (291, '\"Disallow.I_CIEnter_Dialogdismiss\"'),\n",
       " (155, '\"Disallow.I_CIEnter_AsyncTaskexecute\"'),\n",
       " (31, '\"SensitiveDerefFieldCausedFinish\"'),\n",
       " (558, '\"SensitiveDerefCallinCaused\"')]"
      ]
     },
     "execution_count": 4,
     "metadata": {},
     "output_type": "execute_result"
    }
   ],
   "source": [
    "%%sql -- count locations by pattern\n",
    "select count(*), cast(jobs.config::json->'tag'->'heuristicType' as varchar) as category from jobs group by category"
   ]
  },
  {
   "cell_type": "markdown",
   "metadata": {},
   "source": [
    "Track Total Jobs\n",
    "----------------\n",
    "After running the cells above with shift-enter, the cell below may be run repeatedly to check the job status."
   ]
  },
  {
   "cell_type": "code",
   "execution_count": 5,
   "metadata": {},
   "outputs": [
    {
     "name": "stdout",
     "output_type": "stream",
     "text": [
      " * postgresql://postgres@localhost:5432/postgres\n",
      "1 rows affected.\n"
     ]
    },
    {
     "data": {
      "text/html": [
       "<table>\n",
       "    <thead>\n",
       "        <tr>\n",
       "            <th>completed_jobs</th>\n",
       "            <th>new_jobs</th>\n",
       "            <th>paused_jobs</th>\n",
       "            <th>total_jobs</th>\n",
       "            <th>acquired_jobs</th>\n",
       "            <th>body_exception</th>\n",
       "            <th>unimplemented</th>\n",
       "            <th>exception</th>\n",
       "            <th>path_exception</th>\n",
       "            <th>refl_exception</th>\n",
       "            <th>worker_failure</th>\n",
       "            <th>subprocess_timeout</th>\n",
       "            <th>possible_cg_unsound</th>\n",
       "            <th>memory</th>\n",
       "        </tr>\n",
       "    </thead>\n",
       "    <tbody>\n",
       "        <tr>\n",
       "            <td>1051</td>\n",
       "            <td>0</td>\n",
       "            <td>0</td>\n",
       "            <td>1090</td>\n",
       "            <td>2</td>\n",
       "            <td>0</td>\n",
       "            <td>0</td>\n",
       "            <td>0</td>\n",
       "            <td>0</td>\n",
       "            <td>0</td>\n",
       "            <td>10</td>\n",
       "            <td>27</td>\n",
       "            <td>0</td>\n",
       "            <td>0</td>\n",
       "        </tr>\n",
       "    </tbody>\n",
       "</table>"
      ],
      "text/plain": [
       "[(1051, 0, 0, 1090, 2, 0, 0, 0, 0, 0, 10, 27, 0, 0)]"
      ]
     },
     "execution_count": 5,
     "metadata": {},
     "output_type": "execute_result"
    }
   ],
   "source": [
    "%%sql --    # Show jobs and statuses\n",
    "select \n",
    "    (select count(*) from jobs where status = 'completed') as Completed_Jobs,\n",
    "    (select count(*) from jobs where status = 'new') as New_Jobs,\n",
    "    (select count(*) from jobs where status = 'paused') as Paused_Jobs,\n",
    "    (select count(*) from jobs) as Total_Jobs,\n",
    "    (select count(*) from jobs where status = 'acquired') as Acquired_jobs,\n",
    "    (select count(id) from jobs \n",
    "       where stderr like '%Exception%no active body present for method%') as Body_Exception,\n",
    "    (select count(id) from jobs where stderr like '%an implementation is missing%') as unimplemented,\n",
    "    (select count(id) from jobs where stderr like '%Exception%') as Exception,\n",
    "    (select count(id) from jobs where stderr like '%no libz3java in java.library.path%') as path_exception,\n",
    "    (select count(id) from jobs where stderr like '%Failed to parse reflective type reference%') as Refl_exception,\n",
    "    (select count(id) from jobs where status like 'failed%' and status not like 'failed: Subprocess Timeout') as worker_failure,\n",
    "    (select count(id) from jobs where status like 'failed: Subprocess Timeout') as subprocess_timeout,\n",
    "    (select count(id) from jobs where stdout like '%empty pred location%') as possible_cg_unsound,\n",
    "    (select count(id) from jobs where stderr like '%OutOfMemory%') as memory\n",
    " "
   ]
  },
  {
   "cell_type": "code",
   "execution_count": 5,
   "metadata": {},
   "outputs": [
    {
     "name": "stdout",
     "output_type": "stream",
     "text": [
      " * postgresql://postgres@localhost:5432/postgres\n",
      "49 rows affected.\n"
     ]
    },
    {
     "data": {
      "text/html": [
       "<table>\n",
       "    <thead>\n",
       "        <tr>\n",
       "            <th>apkname</th>\n",
       "        </tr>\n",
       "    </thead>\n",
       "    <tbody>\n",
       "        <tr>\n",
       "            <td>/fdroid/be.digitalia.fosdem/2.1.1/apk/be.digitalia.fosdem_1900211.apk</td>\n",
       "        </tr>\n",
       "        <tr>\n",
       "            <td>/fdroid/org.yuttadhammo.BodhiTimer/6.3.0/apk/org.yuttadhammo.BodhiTimer_98.apk</td>\n",
       "        </tr>\n",
       "        <tr>\n",
       "            <td>/fdroid/org.liberty.android.fantastischmemo/10.11.7/apk/org.liberty.android.fantastischmemo_237.apk</td>\n",
       "        </tr>\n",
       "        <tr>\n",
       "            <td>/fdroid/de.syss.MifareClassicTool/4.0.4/apk/de.syss.MifareClassicTool_62.apk</td>\n",
       "        </tr>\n",
       "        <tr>\n",
       "            <td>/fdroid/org.scoutant.blokish/3.4/apk/org.scoutant.blokish_22.apk</td>\n",
       "        </tr>\n",
       "        <tr>\n",
       "            <td>/fdroid/de.jkliemann.parkendd/1.2.8/apk/de.jkliemann.parkendd_33.apk</td>\n",
       "        </tr>\n",
       "        <tr>\n",
       "            <td>/fdroid/com.nutomic.syncthingandroid/1.23.0/apk/com.nutomic.syncthingandroid_4334.apk</td>\n",
       "        </tr>\n",
       "        <tr>\n",
       "            <td>/fdroid/com.owncloud.android/3.0.1/apk/com.owncloud.android_30000001.apk</td>\n",
       "        </tr>\n",
       "        <tr>\n",
       "            <td>/fdroid/org.mariotaku.twidere/4.1.8/apk/org.mariotaku.twidere_517.apk</td>\n",
       "        </tr>\n",
       "        <tr>\n",
       "            <td>/fdroid/com.asksven.betterbatterystats/3.3.1/apk/com.asksven.betterbatterystats_107.apk</td>\n",
       "        </tr>\n",
       "        <tr>\n",
       "            <td>/fdroid/com.shatteredpixel.shatteredpixeldungeon/1.4.3/apk/com.shatteredpixel.shatteredpixeldungeon_668.apk</td>\n",
       "        </tr>\n",
       "        <tr>\n",
       "            <td>/fdroid/org.zephyrsoft.trackworktime/1.1.20/apk/org.zephyrsoft.trackworktime_64.apk</td>\n",
       "        </tr>\n",
       "        <tr>\n",
       "            <td>/fdroid/com.gpl.rpg.AndorsTrail/0.8.3/apk/com.gpl.rpg.AndorsTrail_67.apk</td>\n",
       "        </tr>\n",
       "        <tr>\n",
       "            <td>jar_17fd8f5ea0f1d31bc99f66dbdce01402</td>\n",
       "        </tr>\n",
       "        <tr>\n",
       "            <td>spec_d41d8cd98f00b204e9800998ecf8427e</td>\n",
       "        </tr>\n",
       "        <tr>\n",
       "            <td>/oss/org.connectbot/app/build/outputs/apk/oss/debug/app-oss-debug.apk</td>\n",
       "        </tr>\n",
       "        <tr>\n",
       "            <td>/oss/de.danoeh.antennapod/app/build/outputs/apk/free/debug/app-free-debug.apk</td>\n",
       "        </tr>\n",
       "        <tr>\n",
       "            <td>/fdroid/org.transdroid.lite/2.5.19/apk/org.transdroid.lite_239.apk</td>\n",
       "        </tr>\n",
       "        <tr>\n",
       "            <td>/fdroid/dev.ukanth.ufirewall/3.5.3/apk/dev.ukanth.ufirewall_20220615.apk</td>\n",
       "        </tr>\n",
       "        <tr>\n",
       "            <td>/fdroid/info.guardianproject.pixelknot/1.0.2.1/apk/info.guardianproject.pixelknot_1021.apk</td>\n",
       "        </tr>\n",
       "        <tr>\n",
       "            <td>/fdroid/com.seafile.seadroid2/2.2.48/apk/com.seafile.seadroid2_123.apk</td>\n",
       "        </tr>\n",
       "        <tr>\n",
       "            <td>/fdroid/name.boyle.chris.sgtpuzzles/2023-01-18-2324-aaa36328-fdroid/apk/name.boyle.chris.sgtpuzzles_137.apk</td>\n",
       "        </tr>\n",
       "        <tr>\n",
       "            <td>/fdroid/net.bible.android.activity/4.0.673/apk/net.bible.android.activity_673.apk</td>\n",
       "        </tr>\n",
       "        <tr>\n",
       "            <td>/fdroid/org.tasks/13.1.1/apk/org.tasks_130101.apk</td>\n",
       "        </tr>\n",
       "        <tr>\n",
       "            <td>/fdroid/org.sufficientlysecure.keychain/5.8.2/apk/org.sufficientlysecure.keychain_58902.apk</td>\n",
       "        </tr>\n",
       "        <tr>\n",
       "            <td>/fdroid/com.ichi2.anki/2.15.6/apk/com.ichi2.anki_21506300.apk</td>\n",
       "        </tr>\n",
       "        <tr>\n",
       "            <td>/fdroid/org.traccar.client/6.18/apk/org.traccar.client_79.apk</td>\n",
       "        </tr>\n",
       "        <tr>\n",
       "            <td>/fdroid/org.navitproject.navit/v0.5.6/apk/org.navitproject.navit_2021030660.apk</td>\n",
       "        </tr>\n",
       "        <tr>\n",
       "            <td>/fdroid/org.sipdroid.sipua/6.3beta/apk/org.sipdroid.sipua_134.apk</td>\n",
       "        </tr>\n",
       "        <tr>\n",
       "            <td>/fdroid/com.ubergeek42.WeechatAndroid/1.8.1/apk/com.ubergeek42.WeechatAndroid_10801.apk</td>\n",
       "        </tr>\n",
       "        <tr>\n",
       "            <td>/fdroid/net.gaast.giggity/2.0.8/apk/net.gaast.giggity_520.apk</td>\n",
       "        </tr>\n",
       "        <tr>\n",
       "            <td>/fdroid/nitezh.ministock/81/apk/nitezh.ministock_81.apk</td>\n",
       "        </tr>\n",
       "        <tr>\n",
       "            <td>/fdroid/net.justdave.nwsweatheralertswidget/1.1.4/apk/net.justdave.nwsweatheralertswidget_12.apk</td>\n",
       "        </tr>\n",
       "        <tr>\n",
       "            <td>/fdroid/nl.mpcjanssen.simpletask/11.0.1/apk/nl.mpcjanssen.simpletask_11000001.apk</td>\n",
       "        </tr>\n",
       "        <tr>\n",
       "            <td>/fdroid/com.MarcosDiez.shareviahttp/2.0.14/apk/com.MarcosDiez.shareviahttp_34.apk</td>\n",
       "        </tr>\n",
       "        <tr>\n",
       "            <td>/fdroid/jwtc.android.chess/9.3.10/apk/jwtc.android.chess_192.apk</td>\n",
       "        </tr>\n",
       "        <tr>\n",
       "            <td>/fdroid/net.wigle.wigleandroid/2.63/apk/net.wigle.wigleandroid_263.apk</td>\n",
       "        </tr>\n",
       "        <tr>\n",
       "            <td>/fdroid/com.byagowi.persiancalendar/7.8.0/apk/com.byagowi.persiancalendar_780.apk</td>\n",
       "        </tr>\n",
       "        <tr>\n",
       "            <td>/fdroid/ch.blinkenlights.android.vanilla/1.2.2/apk/ch.blinkenlights.android.vanilla_12200.apk</td>\n",
       "        </tr>\n",
       "        <tr>\n",
       "            <td>/fdroid/com.darshancomputing.BatteryIndicatorPro/12.0.0/apk/com.darshancomputing.BatteryIndicatorPro_26016.apk</td>\n",
       "        </tr>\n",
       "        <tr>\n",
       "            <td>/fdroid/com.yubico.yubioath/6.0.2/apk/com.yubico.yubioath_600064.apk</td>\n",
       "        </tr>\n",
       "        <tr>\n",
       "            <td>/fdroid/com.android.keepass/2.6.8/apk/com.android.keepass_215.apk</td>\n",
       "        </tr>\n",
       "        <tr>\n",
       "            <td>/fdroid/org.fedorahosted.freeotp/2.0/apk/org.fedorahosted.freeotp_24.apk</td>\n",
       "        </tr>\n",
       "        <tr>\n",
       "            <td>/fdroid/de.blinkt.openvpn/0.7.43/apk/de.blinkt.openvpn_198.apk</td>\n",
       "        </tr>\n",
       "        <tr>\n",
       "            <td>/fdroid/com.fsck.k9/6.503/apk/com.fsck.k9_35003.apk</td>\n",
       "        </tr>\n",
       "        <tr>\n",
       "            <td>/fdroid/org.andstatus.app/60.01/apk/org.andstatus.app_361.apk</td>\n",
       "        </tr>\n",
       "        <tr>\n",
       "            <td>/fdroid/de.markusfisch.android.wavelines/1.13.2/apk/de.markusfisch.android.wavelines_22.apk</td>\n",
       "        </tr>\n",
       "        <tr>\n",
       "            <td>/fdroid/de.srlabs.snoopsnitch/2.0.12-nbc/apk/de.srlabs.snoopsnitch_50.apk</td>\n",
       "        </tr>\n",
       "        <tr>\n",
       "            <td>/fdroid/de.blau.android/18.1.1.0/apk/de.blau.android_2303.apk</td>\n",
       "        </tr>\n",
       "    </tbody>\n",
       "</table>"
      ],
      "text/plain": [
       "[('/fdroid/be.digitalia.fosdem/2.1.1/apk/be.digitalia.fosdem_1900211.apk',),\n",
       " ('/fdroid/org.yuttadhammo.BodhiTimer/6.3.0/apk/org.yuttadhammo.BodhiTimer_98.apk',),\n",
       " ('/fdroid/org.liberty.android.fantastischmemo/10.11.7/apk/org.liberty.android.fantastischmemo_237.apk',),\n",
       " ('/fdroid/de.syss.MifareClassicTool/4.0.4/apk/de.syss.MifareClassicTool_62.apk',),\n",
       " ('/fdroid/org.scoutant.blokish/3.4/apk/org.scoutant.blokish_22.apk',),\n",
       " ('/fdroid/de.jkliemann.parkendd/1.2.8/apk/de.jkliemann.parkendd_33.apk',),\n",
       " ('/fdroid/com.nutomic.syncthingandroid/1.23.0/apk/com.nutomic.syncthingandroid_4334.apk',),\n",
       " ('/fdroid/com.owncloud.android/3.0.1/apk/com.owncloud.android_30000001.apk',),\n",
       " ('/fdroid/org.mariotaku.twidere/4.1.8/apk/org.mariotaku.twidere_517.apk',),\n",
       " ('/fdroid/com.asksven.betterbatterystats/3.3.1/apk/com.asksven.betterbatterystats_107.apk',),\n",
       " ('/fdroid/com.shatteredpixel.shatteredpixeldungeon/1.4.3/apk/com.shatteredpixel.shatteredpixeldungeon_668.apk',),\n",
       " ('/fdroid/org.zephyrsoft.trackworktime/1.1.20/apk/org.zephyrsoft.trackworktime_64.apk',),\n",
       " ('/fdroid/com.gpl.rpg.AndorsTrail/0.8.3/apk/com.gpl.rpg.AndorsTrail_67.apk',),\n",
       " ('jar_17fd8f5ea0f1d31bc99f66dbdce01402',),\n",
       " ('spec_d41d8cd98f00b204e9800998ecf8427e',),\n",
       " ('/oss/org.connectbot/app/build/outputs/apk/oss/debug/app-oss-debug.apk',),\n",
       " ('/oss/de.danoeh.antennapod/app/build/outputs/apk/free/debug/app-free-debug.apk',),\n",
       " ('/fdroid/org.transdroid.lite/2.5.19/apk/org.transdroid.lite_239.apk',),\n",
       " ('/fdroid/dev.ukanth.ufirewall/3.5.3/apk/dev.ukanth.ufirewall_20220615.apk',),\n",
       " ('/fdroid/info.guardianproject.pixelknot/1.0.2.1/apk/info.guardianproject.pixelknot_1021.apk',),\n",
       " ('/fdroid/com.seafile.seadroid2/2.2.48/apk/com.seafile.seadroid2_123.apk',),\n",
       " ('/fdroid/name.boyle.chris.sgtpuzzles/2023-01-18-2324-aaa36328-fdroid/apk/name.boyle.chris.sgtpuzzles_137.apk',),\n",
       " ('/fdroid/net.bible.android.activity/4.0.673/apk/net.bible.android.activity_673.apk',),\n",
       " ('/fdroid/org.tasks/13.1.1/apk/org.tasks_130101.apk',),\n",
       " ('/fdroid/org.sufficientlysecure.keychain/5.8.2/apk/org.sufficientlysecure.keychain_58902.apk',),\n",
       " ('/fdroid/com.ichi2.anki/2.15.6/apk/com.ichi2.anki_21506300.apk',),\n",
       " ('/fdroid/org.traccar.client/6.18/apk/org.traccar.client_79.apk',),\n",
       " ('/fdroid/org.navitproject.navit/v0.5.6/apk/org.navitproject.navit_2021030660.apk',),\n",
       " ('/fdroid/org.sipdroid.sipua/6.3beta/apk/org.sipdroid.sipua_134.apk',),\n",
       " ('/fdroid/com.ubergeek42.WeechatAndroid/1.8.1/apk/com.ubergeek42.WeechatAndroid_10801.apk',),\n",
       " ('/fdroid/net.gaast.giggity/2.0.8/apk/net.gaast.giggity_520.apk',),\n",
       " ('/fdroid/nitezh.ministock/81/apk/nitezh.ministock_81.apk',),\n",
       " ('/fdroid/net.justdave.nwsweatheralertswidget/1.1.4/apk/net.justdave.nwsweatheralertswidget_12.apk',),\n",
       " ('/fdroid/nl.mpcjanssen.simpletask/11.0.1/apk/nl.mpcjanssen.simpletask_11000001.apk',),\n",
       " ('/fdroid/com.MarcosDiez.shareviahttp/2.0.14/apk/com.MarcosDiez.shareviahttp_34.apk',),\n",
       " ('/fdroid/jwtc.android.chess/9.3.10/apk/jwtc.android.chess_192.apk',),\n",
       " ('/fdroid/net.wigle.wigleandroid/2.63/apk/net.wigle.wigleandroid_263.apk',),\n",
       " ('/fdroid/com.byagowi.persiancalendar/7.8.0/apk/com.byagowi.persiancalendar_780.apk',),\n",
       " ('/fdroid/ch.blinkenlights.android.vanilla/1.2.2/apk/ch.blinkenlights.android.vanilla_12200.apk',),\n",
       " ('/fdroid/com.darshancomputing.BatteryIndicatorPro/12.0.0/apk/com.darshancomputing.BatteryIndicatorPro_26016.apk',),\n",
       " ('/fdroid/com.yubico.yubioath/6.0.2/apk/com.yubico.yubioath_600064.apk',),\n",
       " ('/fdroid/com.android.keepass/2.6.8/apk/com.android.keepass_215.apk',),\n",
       " ('/fdroid/org.fedorahosted.freeotp/2.0/apk/org.fedorahosted.freeotp_24.apk',),\n",
       " ('/fdroid/de.blinkt.openvpn/0.7.43/apk/de.blinkt.openvpn_198.apk',),\n",
       " ('/fdroid/com.fsck.k9/6.503/apk/com.fsck.k9_35003.apk',),\n",
       " ('/fdroid/org.andstatus.app/60.01/apk/org.andstatus.app_361.apk',),\n",
       " ('/fdroid/de.markusfisch.android.wavelines/1.13.2/apk/de.markusfisch.android.wavelines_22.apk',),\n",
       " ('/fdroid/de.srlabs.snoopsnitch/2.0.12-nbc/apk/de.srlabs.snoopsnitch_50.apk',),\n",
       " ('/fdroid/de.blau.android/18.1.1.0/apk/de.blau.android_2303.apk',)]"
      ]
     },
     "execution_count": 5,
     "metadata": {},
     "output_type": "execute_result"
    }
   ],
   "source": [
    "%%sql -- get all uploaded app names\n",
    "select apkname from apks;"
   ]
  },
  {
   "cell_type": "code",
   "execution_count": 6,
   "metadata": {},
   "outputs": [
    {
     "name": "stdout",
     "output_type": "stream",
     "text": [
      " * postgresql://postgres@localhost:5432/postgres\n",
      "1 rows affected.\n",
      " * postgresql://postgres@localhost:5432/postgres\n",
      "1 rows affected.\n",
      " * postgresql://postgres@localhost:5432/postgres\n",
      "1 rows affected.\n",
      " * postgresql://postgres@localhost:5432/postgres\n",
      "1 rows affected.\n",
      "average time per job: 2:17:43.735288\n",
      "est remaining time: 0:00:00\n"
     ]
    }
   ],
   "source": [
    "#Estimate time until completion of all jobs\n",
    "\n",
    "totTime = %sql select now() - min(started) from jobs;\n",
    "completedJobs = %sql select count(*) from jobs where status = 'completed';\n",
    "timeoutJobs = %sql select count(*) from jobs where status like 'failed%';\n",
    "newJobs = %sql select count(*) from jobs where status = 'new';\n",
    "if (completedJobs[0][0] + timeoutJobs[0][0]) != 0:\n",
    "    avgJobTime = totTime[0][0] / (completedJobs[0][0] + timeoutJobs[0][0])\n",
    "    print(\"average time per job: \" + str(avgJobTime))\n",
    "    print(\"est remaining time: \" + str(avgJobTime * newJobs[0][0]))\n",
    "else:\n",
    "    print(\"Please wait for one job to complete for time estimate\")"
   ]
  },
  {
   "cell_type": "code",
   "execution_count": 7,
   "metadata": {
    "tags": []
   },
   "outputs": [
    {
     "name": "stdout",
     "output_type": "stream",
     "text": [
      " * postgresql://postgres@localhost:5432/postgres\n",
      "0 rows affected.\n"
     ]
    }
   ],
   "source": [
    "# find and print an exception -- These are considered \"timeouts\" in the paper.\n",
    "outs = %sql select stderr,config from jobs where stderr like '%Exception%' limit 1;\n",
    "for out in outs:\n",
    "    print(out[1])\n",
    "    print(out[0])\n"
   ]
  },
  {
   "cell_type": "code",
   "execution_count": 9,
   "metadata": {},
   "outputs": [
    {
     "name": "stdout",
     "output_type": "stream",
     "text": [
      " * postgresql://postgres@localhost:5432/postgres\n",
      "110 rows affected.\n"
     ]
    },
    {
     "data": {
      "text/html": [
       "<table>\n",
       "    <thead>\n",
       "        <tr>\n",
       "            <th>summary</th>\n",
       "            <th>benchmark</th>\n",
       "            <th>count</th>\n",
       "        </tr>\n",
       "    </thead>\n",
       "    <tbody>\n",
       "        <tr>\n",
       "            <td>&quot;\\&quot;Unreachable\\&quot;&quot;</td>\n",
       "            <td>&quot;${baseDir}/fdroid/be.digitalia.fosdem/2.1.1/apk/be.digitalia.fosdem_1900211.apk&quot;</td>\n",
       "            <td>7</td>\n",
       "        </tr>\n",
       "        <tr>\n",
       "            <td>&quot;\\&quot;Timeout\\&quot;&quot;</td>\n",
       "            <td>&quot;${baseDir}/fdroid/be.digitalia.fosdem/2.1.1/apk/be.digitalia.fosdem_1900211.apk&quot;</td>\n",
       "            <td>2</td>\n",
       "        </tr>\n",
       "        <tr>\n",
       "            <td>&quot;\\&quot;Witnessed\\&quot;&quot;</td>\n",
       "            <td>&quot;${baseDir}/fdroid/ch.blinkenlights.android.vanilla/1.2.2/apk/ch.blinkenlights.android.vanilla_12200.apk&quot;</td>\n",
       "            <td>6</td>\n",
       "        </tr>\n",
       "        <tr>\n",
       "            <td>&quot;\\&quot;Unreachable\\&quot;&quot;</td>\n",
       "            <td>&quot;${baseDir}/fdroid/ch.blinkenlights.android.vanilla/1.2.2/apk/ch.blinkenlights.android.vanilla_12200.apk&quot;</td>\n",
       "            <td>3</td>\n",
       "        </tr>\n",
       "        <tr>\n",
       "            <td>&quot;\\&quot;Timeout\\&quot;&quot;</td>\n",
       "            <td>&quot;${baseDir}/fdroid/ch.blinkenlights.android.vanilla/1.2.2/apk/ch.blinkenlights.android.vanilla_12200.apk&quot;</td>\n",
       "            <td>3</td>\n",
       "        </tr>\n",
       "        <tr>\n",
       "            <td>&quot;\\&quot;Ijava.lang.AssertionError: assertion failed: Exception: Too many locations found: \\\\n \\&quot;&quot;</td>\n",
       "            <td>&quot;${baseDir}/fdroid/ch.blinkenlights.android.vanilla/1.2.2/apk/ch.blinkenlights.android.vanilla_12200.apk&quot;</td>\n",
       "            <td>1</td>\n",
       "        </tr>\n",
       "        <tr>\n",
       "            <td>&quot;\\&quot;Unreachable\\&quot;&quot;</td>\n",
       "            <td>&quot;${baseDir}/fdroid/com.android.keepass/2.6.8/apk/com.android.keepass_215.apk&quot;</td>\n",
       "            <td>3</td>\n",
       "        </tr>\n",
       "        <tr>\n",
       "            <td>&quot;\\&quot;Timeout\\&quot;&quot;</td>\n",
       "            <td>&quot;${baseDir}/fdroid/com.android.keepass/2.6.8/apk/com.android.keepass_215.apk&quot;</td>\n",
       "            <td>5</td>\n",
       "        </tr>\n",
       "        <tr>\n",
       "            <td>&quot;\\&quot;Witnessed\\&quot;&quot;</td>\n",
       "            <td>&quot;${baseDir}/fdroid/com.asksven.betterbatterystats/3.3.1/apk/com.asksven.betterbatterystats_107.apk&quot;</td>\n",
       "            <td>5</td>\n",
       "        </tr>\n",
       "        <tr>\n",
       "            <td>&quot;\\&quot;Unreachable\\&quot;&quot;</td>\n",
       "            <td>&quot;${baseDir}/fdroid/com.asksven.betterbatterystats/3.3.1/apk/com.asksven.betterbatterystats_107.apk&quot;</td>\n",
       "            <td>13</td>\n",
       "        </tr>\n",
       "        <tr>\n",
       "            <td>&quot;\\&quot;Timeout\\&quot;&quot;</td>\n",
       "            <td>&quot;${baseDir}/fdroid/com.asksven.betterbatterystats/3.3.1/apk/com.asksven.betterbatterystats_107.apk&quot;</td>\n",
       "            <td>1</td>\n",
       "        </tr>\n",
       "        <tr>\n",
       "            <td>&quot;\\&quot;Unreachable\\&quot;&quot;</td>\n",
       "            <td>&quot;${baseDir}/fdroid/com.byagowi.persiancalendar/7.8.0/apk/com.byagowi.persiancalendar_780.apk&quot;</td>\n",
       "            <td>3</td>\n",
       "        </tr>\n",
       "        <tr>\n",
       "            <td>&quot;\\&quot;Timeout\\&quot;&quot;</td>\n",
       "            <td>&quot;${baseDir}/fdroid/com.byagowi.persiancalendar/7.8.0/apk/com.byagowi.persiancalendar_780.apk&quot;</td>\n",
       "            <td>10</td>\n",
       "        </tr>\n",
       "        <tr>\n",
       "            <td>&quot;\\&quot;Witnessed\\&quot;&quot;</td>\n",
       "            <td>&quot;${baseDir}/fdroid/com.darshancomputing.BatteryIndicatorPro/12.0.0/apk/com.darshancomputing.BatteryIndicatorPro_26016.apk&quot;</td>\n",
       "            <td>29</td>\n",
       "        </tr>\n",
       "        <tr>\n",
       "            <td>&quot;\\&quot;Unreachable\\&quot;&quot;</td>\n",
       "            <td>&quot;${baseDir}/fdroid/com.darshancomputing.BatteryIndicatorPro/12.0.0/apk/com.darshancomputing.BatteryIndicatorPro_26016.apk&quot;</td>\n",
       "            <td>6</td>\n",
       "        </tr>\n",
       "        <tr>\n",
       "            <td>&quot;\\&quot;Timeout\\&quot;&quot;</td>\n",
       "            <td>&quot;${baseDir}/fdroid/com.darshancomputing.BatteryIndicatorPro/12.0.0/apk/com.darshancomputing.BatteryIndicatorPro_26016.apk&quot;</td>\n",
       "            <td>2</td>\n",
       "        </tr>\n",
       "        <tr>\n",
       "            <td>&quot;\\&quot;Witnessed\\&quot;&quot;</td>\n",
       "            <td>&quot;${baseDir}/fdroid/com.fsck.k9/6.503/apk/com.fsck.k9_35003.apk&quot;</td>\n",
       "            <td>3</td>\n",
       "        </tr>\n",
       "        <tr>\n",
       "            <td>&quot;\\&quot;Unreachable\\&quot;&quot;</td>\n",
       "            <td>&quot;${baseDir}/fdroid/com.fsck.k9/6.503/apk/com.fsck.k9_35003.apk&quot;</td>\n",
       "            <td>15</td>\n",
       "        </tr>\n",
       "        <tr>\n",
       "            <td>&quot;\\&quot;Timeout\\&quot;&quot;</td>\n",
       "            <td>&quot;${baseDir}/fdroid/com.fsck.k9/6.503/apk/com.fsck.k9_35003.apk&quot;</td>\n",
       "            <td>3</td>\n",
       "        </tr>\n",
       "        <tr>\n",
       "            <td>&quot;\\&quot;Ijava.lang.AssertionError: assertion failed: Exception: Too many locations found: \\\\n \\&quot;&quot;</td>\n",
       "            <td>&quot;${baseDir}/fdroid/com.fsck.k9/6.503/apk/com.fsck.k9_35003.apk&quot;</td>\n",
       "            <td>1</td>\n",
       "        </tr>\n",
       "        <tr>\n",
       "            <td>&quot;\\&quot;Witnessed\\&quot;&quot;</td>\n",
       "            <td>&quot;${baseDir}/fdroid/com.gpl.rpg.AndorsTrail/0.8.3/apk/com.gpl.rpg.AndorsTrail_67.apk&quot;</td>\n",
       "            <td>5</td>\n",
       "        </tr>\n",
       "        <tr>\n",
       "            <td>&quot;\\&quot;Unreachable\\&quot;&quot;</td>\n",
       "            <td>&quot;${baseDir}/fdroid/com.gpl.rpg.AndorsTrail/0.8.3/apk/com.gpl.rpg.AndorsTrail_67.apk&quot;</td>\n",
       "            <td>10</td>\n",
       "        </tr>\n",
       "        <tr>\n",
       "            <td>&quot;\\&quot;Timeout\\&quot;&quot;</td>\n",
       "            <td>&quot;${baseDir}/fdroid/com.gpl.rpg.AndorsTrail/0.8.3/apk/com.gpl.rpg.AndorsTrail_67.apk&quot;</td>\n",
       "            <td>7</td>\n",
       "        </tr>\n",
       "        <tr>\n",
       "            <td>&quot;\\&quot;Witnessed\\&quot;&quot;</td>\n",
       "            <td>&quot;${baseDir}/fdroid/com.ichi2.anki/2.15.6/apk/com.ichi2.anki_21506300.apk&quot;</td>\n",
       "            <td>2</td>\n",
       "        </tr>\n",
       "        <tr>\n",
       "            <td>&quot;\\&quot;Unreachable\\&quot;&quot;</td>\n",
       "            <td>&quot;${baseDir}/fdroid/com.ichi2.anki/2.15.6/apk/com.ichi2.anki_21506300.apk&quot;</td>\n",
       "            <td>16</td>\n",
       "        </tr>\n",
       "        <tr>\n",
       "            <td>&quot;\\&quot;Timeout\\&quot;&quot;</td>\n",
       "            <td>&quot;${baseDir}/fdroid/com.ichi2.anki/2.15.6/apk/com.ichi2.anki_21506300.apk&quot;</td>\n",
       "            <td>23</td>\n",
       "        </tr>\n",
       "        <tr>\n",
       "            <td>&quot;\\&quot;Unreachable\\&quot;&quot;</td>\n",
       "            <td>&quot;${baseDir}/fdroid/com.MarcosDiez.shareviahttp/2.0.14/apk/com.MarcosDiez.shareviahttp_34.apk&quot;</td>\n",
       "            <td>2</td>\n",
       "        </tr>\n",
       "        <tr>\n",
       "            <td>&quot;\\&quot;Witnessed\\&quot;&quot;</td>\n",
       "            <td>&quot;${baseDir}/fdroid/com.nutomic.syncthingandroid/1.23.0/apk/com.nutomic.syncthingandroid_4334.apk&quot;</td>\n",
       "            <td>4</td>\n",
       "        </tr>\n",
       "        <tr>\n",
       "            <td>&quot;\\&quot;Unreachable\\&quot;&quot;</td>\n",
       "            <td>&quot;${baseDir}/fdroid/com.nutomic.syncthingandroid/1.23.0/apk/com.nutomic.syncthingandroid_4334.apk&quot;</td>\n",
       "            <td>5</td>\n",
       "        </tr>\n",
       "        <tr>\n",
       "            <td>&quot;\\&quot;Timeout\\&quot;&quot;</td>\n",
       "            <td>&quot;${baseDir}/fdroid/com.nutomic.syncthingandroid/1.23.0/apk/com.nutomic.syncthingandroid_4334.apk&quot;</td>\n",
       "            <td>3</td>\n",
       "        </tr>\n",
       "        <tr>\n",
       "            <td>&quot;\\&quot;Witnessed\\&quot;&quot;</td>\n",
       "            <td>&quot;${baseDir}/fdroid/com.owncloud.android/3.0.1/apk/com.owncloud.android_30000001.apk&quot;</td>\n",
       "            <td>6</td>\n",
       "        </tr>\n",
       "        <tr>\n",
       "            <td>&quot;\\&quot;Unreachable\\&quot;&quot;</td>\n",
       "            <td>&quot;${baseDir}/fdroid/com.owncloud.android/3.0.1/apk/com.owncloud.android_30000001.apk&quot;</td>\n",
       "            <td>22</td>\n",
       "        </tr>\n",
       "        <tr>\n",
       "            <td>&quot;\\&quot;Timeout\\&quot;&quot;</td>\n",
       "            <td>&quot;${baseDir}/fdroid/com.owncloud.android/3.0.1/apk/com.owncloud.android_30000001.apk&quot;</td>\n",
       "            <td>12</td>\n",
       "        </tr>\n",
       "        <tr>\n",
       "            <td>&quot;\\&quot;Ijava.lang.AssertionError: assertion failed: Exception: Too many locations found: \\\\n pre-line: 438 $r6 = virtualinvoke $r3.&lt;androidx.fragment.app.FragmentActivity: java.lang.String toString()&gt;()\\\\\\\\npre-line: 438 $r6 = virtualinvoke $r5.&lt;java.lang.StringBuilder: java.lang.String toString()&gt;()\\&quot;&quot;</td>\n",
       "            <td>&quot;${baseDir}/fdroid/com.owncloud.android/3.0.1/apk/com.owncloud.android_30000001.apk&quot;</td>\n",
       "            <td>1</td>\n",
       "        </tr>\n",
       "        <tr>\n",
       "            <td>&quot;\\&quot;Witnessed\\&quot;&quot;</td>\n",
       "            <td>&quot;${baseDir}/fdroid/com.seafile.seadroid2/2.2.48/apk/com.seafile.seadroid2_123.apk&quot;</td>\n",
       "            <td>12</td>\n",
       "        </tr>\n",
       "        <tr>\n",
       "            <td>&quot;\\&quot;Unreachable\\&quot;&quot;</td>\n",
       "            <td>&quot;${baseDir}/fdroid/com.seafile.seadroid2/2.2.48/apk/com.seafile.seadroid2_123.apk&quot;</td>\n",
       "            <td>30</td>\n",
       "        </tr>\n",
       "        <tr>\n",
       "            <td>&quot;\\&quot;Timeout\\&quot;&quot;</td>\n",
       "            <td>&quot;${baseDir}/fdroid/com.seafile.seadroid2/2.2.48/apk/com.seafile.seadroid2_123.apk&quot;</td>\n",
       "            <td>16</td>\n",
       "        </tr>\n",
       "        <tr>\n",
       "            <td>&quot;\\&quot;Unreachable\\&quot;&quot;</td>\n",
       "            <td>&quot;${baseDir}/fdroid/com.shatteredpixel.shatteredpixeldungeon/1.4.3/apk/com.shatteredpixel.shatteredpixeldungeon_668.apk&quot;</td>\n",
       "            <td>2</td>\n",
       "        </tr>\n",
       "        <tr>\n",
       "            <td>&quot;\\&quot;Witnessed\\&quot;&quot;</td>\n",
       "            <td>&quot;${baseDir}/fdroid/com.ubergeek42.WeechatAndroid/1.8.1/apk/com.ubergeek42.WeechatAndroid_10801.apk&quot;</td>\n",
       "            <td>1</td>\n",
       "        </tr>\n",
       "        <tr>\n",
       "            <td>&quot;\\&quot;Unreachable\\&quot;&quot;</td>\n",
       "            <td>&quot;${baseDir}/fdroid/com.ubergeek42.WeechatAndroid/1.8.1/apk/com.ubergeek42.WeechatAndroid_10801.apk&quot;</td>\n",
       "            <td>9</td>\n",
       "        </tr>\n",
       "        <tr>\n",
       "            <td>&quot;\\&quot;Timeout\\&quot;&quot;</td>\n",
       "            <td>&quot;${baseDir}/fdroid/com.ubergeek42.WeechatAndroid/1.8.1/apk/com.ubergeek42.WeechatAndroid_10801.apk&quot;</td>\n",
       "            <td>4</td>\n",
       "        </tr>\n",
       "        <tr>\n",
       "            <td>&quot;\\&quot;Timeout\\&quot;&quot;</td>\n",
       "            <td>&quot;${baseDir}/fdroid/com.yubico.yubioath/6.0.2/apk/com.yubico.yubioath_600064.apk&quot;</td>\n",
       "            <td>1</td>\n",
       "        </tr>\n",
       "        <tr>\n",
       "            <td>&quot;\\&quot;Unreachable\\&quot;&quot;</td>\n",
       "            <td>&quot;${baseDir}/fdroid/de.blau.android/18.1.1.0/apk/de.blau.android_2303.apk&quot;</td>\n",
       "            <td>32</td>\n",
       "        </tr>\n",
       "        <tr>\n",
       "            <td>&quot;\\&quot;Timeout\\&quot;&quot;</td>\n",
       "            <td>&quot;${baseDir}/fdroid/de.blau.android/18.1.1.0/apk/de.blau.android_2303.apk&quot;</td>\n",
       "            <td>16</td>\n",
       "        </tr>\n",
       "        <tr>\n",
       "            <td>&quot;\\&quot;Witnessed\\&quot;&quot;</td>\n",
       "            <td>&quot;${baseDir}/fdroid/de.blinkt.openvpn/0.7.43/apk/de.blinkt.openvpn_198.apk&quot;</td>\n",
       "            <td>31</td>\n",
       "        </tr>\n",
       "        <tr>\n",
       "            <td>&quot;\\&quot;Unreachable\\&quot;&quot;</td>\n",
       "            <td>&quot;${baseDir}/fdroid/de.blinkt.openvpn/0.7.43/apk/de.blinkt.openvpn_198.apk&quot;</td>\n",
       "            <td>3</td>\n",
       "        </tr>\n",
       "        <tr>\n",
       "            <td>&quot;\\&quot;Timeout\\&quot;&quot;</td>\n",
       "            <td>&quot;${baseDir}/fdroid/de.blinkt.openvpn/0.7.43/apk/de.blinkt.openvpn_198.apk&quot;</td>\n",
       "            <td>10</td>\n",
       "        </tr>\n",
       "        <tr>\n",
       "            <td>&quot;\\&quot;Unreachable\\&quot;&quot;</td>\n",
       "            <td>&quot;${baseDir}/fdroid/de.jkliemann.parkendd/1.2.8/apk/de.jkliemann.parkendd_33.apk&quot;</td>\n",
       "            <td>6</td>\n",
       "        </tr>\n",
       "        <tr>\n",
       "            <td>&quot;\\&quot;Unreachable\\&quot;&quot;</td>\n",
       "            <td>&quot;${baseDir}/fdroid/de.markusfisch.android.wavelines/1.13.2/apk/de.markusfisch.android.wavelines_22.apk&quot;</td>\n",
       "            <td>5</td>\n",
       "        </tr>\n",
       "        <tr>\n",
       "            <td>&quot;\\&quot;Witnessed\\&quot;&quot;</td>\n",
       "            <td>&quot;${baseDir}/fdroid/de.srlabs.snoopsnitch/2.0.12-nbc/apk/de.srlabs.snoopsnitch_50.apk&quot;</td>\n",
       "            <td>1</td>\n",
       "        </tr>\n",
       "        <tr>\n",
       "            <td>&quot;\\&quot;Timeout\\&quot;&quot;</td>\n",
       "            <td>&quot;${baseDir}/fdroid/de.srlabs.snoopsnitch/2.0.12-nbc/apk/de.srlabs.snoopsnitch_50.apk&quot;</td>\n",
       "            <td>1</td>\n",
       "        </tr>\n",
       "        <tr>\n",
       "            <td>&quot;\\&quot;Witnessed\\&quot;&quot;</td>\n",
       "            <td>&quot;${baseDir}/fdroid/de.syss.MifareClassicTool/4.0.4/apk/de.syss.MifareClassicTool_62.apk&quot;</td>\n",
       "            <td>2</td>\n",
       "        </tr>\n",
       "        <tr>\n",
       "            <td>&quot;\\&quot;Unreachable\\&quot;&quot;</td>\n",
       "            <td>&quot;${baseDir}/fdroid/de.syss.MifareClassicTool/4.0.4/apk/de.syss.MifareClassicTool_62.apk&quot;</td>\n",
       "            <td>1</td>\n",
       "        </tr>\n",
       "        <tr>\n",
       "            <td>&quot;\\&quot;Witnessed\\&quot;&quot;</td>\n",
       "            <td>&quot;${baseDir}/fdroid/dev.ukanth.ufirewall/3.5.3/apk/dev.ukanth.ufirewall_20220615.apk&quot;</td>\n",
       "            <td>24</td>\n",
       "        </tr>\n",
       "        <tr>\n",
       "            <td>&quot;\\&quot;Unreachable\\&quot;&quot;</td>\n",
       "            <td>&quot;${baseDir}/fdroid/dev.ukanth.ufirewall/3.5.3/apk/dev.ukanth.ufirewall_20220615.apk&quot;</td>\n",
       "            <td>34</td>\n",
       "        </tr>\n",
       "        <tr>\n",
       "            <td>&quot;\\&quot;Timeout\\&quot;&quot;</td>\n",
       "            <td>&quot;${baseDir}/fdroid/dev.ukanth.ufirewall/3.5.3/apk/dev.ukanth.ufirewall_20220615.apk&quot;</td>\n",
       "            <td>20</td>\n",
       "        </tr>\n",
       "        <tr>\n",
       "            <td>&quot;\\&quot;Unreachable\\&quot;&quot;</td>\n",
       "            <td>&quot;${baseDir}/fdroid/info.guardianproject.pixelknot/1.0.2.1/apk/info.guardianproject.pixelknot_1021.apk&quot;</td>\n",
       "            <td>1</td>\n",
       "        </tr>\n",
       "        <tr>\n",
       "            <td>&quot;\\&quot;Witnessed\\&quot;&quot;</td>\n",
       "            <td>&quot;${baseDir}/fdroid/jwtc.android.chess/9.3.10/apk/jwtc.android.chess_192.apk&quot;</td>\n",
       "            <td>1</td>\n",
       "        </tr>\n",
       "        <tr>\n",
       "            <td>&quot;\\&quot;Unreachable\\&quot;&quot;</td>\n",
       "            <td>&quot;${baseDir}/fdroid/jwtc.android.chess/9.3.10/apk/jwtc.android.chess_192.apk&quot;</td>\n",
       "            <td>1</td>\n",
       "        </tr>\n",
       "        <tr>\n",
       "            <td>&quot;\\&quot;Timeout\\&quot;&quot;</td>\n",
       "            <td>&quot;${baseDir}/fdroid/jwtc.android.chess/9.3.10/apk/jwtc.android.chess_192.apk&quot;</td>\n",
       "            <td>26</td>\n",
       "        </tr>\n",
       "        <tr>\n",
       "            <td>&quot;\\&quot;Witnessed\\&quot;&quot;</td>\n",
       "            <td>&quot;${baseDir}/fdroid/name.boyle.chris.sgtpuzzles/2023-01-18-2324-aaa36328-fdroid/apk/name.boyle.chris.sgtpuzzles_137.apk&quot;</td>\n",
       "            <td>2</td>\n",
       "        </tr>\n",
       "        <tr>\n",
       "            <td>&quot;\\&quot;Unreachable\\&quot;&quot;</td>\n",
       "            <td>&quot;${baseDir}/fdroid/name.boyle.chris.sgtpuzzles/2023-01-18-2324-aaa36328-fdroid/apk/name.boyle.chris.sgtpuzzles_137.apk&quot;</td>\n",
       "            <td>1</td>\n",
       "        </tr>\n",
       "        <tr>\n",
       "            <td>&quot;\\&quot;Timeout\\&quot;&quot;</td>\n",
       "            <td>&quot;${baseDir}/fdroid/name.boyle.chris.sgtpuzzles/2023-01-18-2324-aaa36328-fdroid/apk/name.boyle.chris.sgtpuzzles_137.apk&quot;</td>\n",
       "            <td>2</td>\n",
       "        </tr>\n",
       "        <tr>\n",
       "            <td>&quot;\\&quot;Witnessed\\&quot;&quot;</td>\n",
       "            <td>&quot;${baseDir}/fdroid/net.bible.android.activity/4.0.673/apk/net.bible.android.activity_673.apk&quot;</td>\n",
       "            <td>2</td>\n",
       "        </tr>\n",
       "        <tr>\n",
       "            <td>&quot;\\&quot;Timeout\\&quot;&quot;</td>\n",
       "            <td>&quot;${baseDir}/fdroid/net.bible.android.activity/4.0.673/apk/net.bible.android.activity_673.apk&quot;</td>\n",
       "            <td>3</td>\n",
       "        </tr>\n",
       "        <tr>\n",
       "            <td>&quot;\\&quot;Unreachable\\&quot;&quot;</td>\n",
       "            <td>&quot;${baseDir}/fdroid/net.gaast.giggity/2.0.8/apk/net.gaast.giggity_520.apk&quot;</td>\n",
       "            <td>1</td>\n",
       "        </tr>\n",
       "        <tr>\n",
       "            <td>&quot;\\&quot;Timeout\\&quot;&quot;</td>\n",
       "            <td>&quot;${baseDir}/fdroid/net.gaast.giggity/2.0.8/apk/net.gaast.giggity_520.apk&quot;</td>\n",
       "            <td>3</td>\n",
       "        </tr>\n",
       "        <tr>\n",
       "            <td>&quot;\\&quot;Witnessed\\&quot;&quot;</td>\n",
       "            <td>&quot;${baseDir}/fdroid/net.justdave.nwsweatheralertswidget/1.1.4/apk/net.justdave.nwsweatheralertswidget_12.apk&quot;</td>\n",
       "            <td>4</td>\n",
       "        </tr>\n",
       "        <tr>\n",
       "            <td>&quot;\\&quot;Witnessed\\&quot;&quot;</td>\n",
       "            <td>&quot;${baseDir}/fdroid/net.wigle.wigleandroid/2.63/apk/net.wigle.wigleandroid_263.apk&quot;</td>\n",
       "            <td>46</td>\n",
       "        </tr>\n",
       "        <tr>\n",
       "            <td>&quot;\\&quot;Unreachable\\&quot;&quot;</td>\n",
       "            <td>&quot;${baseDir}/fdroid/net.wigle.wigleandroid/2.63/apk/net.wigle.wigleandroid_263.apk&quot;</td>\n",
       "            <td>24</td>\n",
       "        </tr>\n",
       "        <tr>\n",
       "            <td>&quot;\\&quot;Timeout\\&quot;&quot;</td>\n",
       "            <td>&quot;${baseDir}/fdroid/net.wigle.wigleandroid/2.63/apk/net.wigle.wigleandroid_263.apk&quot;</td>\n",
       "            <td>17</td>\n",
       "        </tr>\n",
       "        <tr>\n",
       "            <td>&quot;\\&quot;Witnessed\\&quot;&quot;</td>\n",
       "            <td>&quot;${baseDir}/fdroid/nitezh.ministock/81/apk/nitezh.ministock_81.apk&quot;</td>\n",
       "            <td>2</td>\n",
       "        </tr>\n",
       "        <tr>\n",
       "            <td>&quot;\\&quot;Unreachable\\&quot;&quot;</td>\n",
       "            <td>&quot;${baseDir}/fdroid/nitezh.ministock/81/apk/nitezh.ministock_81.apk&quot;</td>\n",
       "            <td>2</td>\n",
       "        </tr>\n",
       "        <tr>\n",
       "            <td>&quot;\\&quot;Unreachable\\&quot;&quot;</td>\n",
       "            <td>&quot;${baseDir}/fdroid/nl.mpcjanssen.simpletask/11.0.1/apk/nl.mpcjanssen.simpletask_11000001.apk&quot;</td>\n",
       "            <td>2</td>\n",
       "        </tr>\n",
       "        <tr>\n",
       "            <td>&quot;\\&quot;Timeout\\&quot;&quot;</td>\n",
       "            <td>&quot;${baseDir}/fdroid/nl.mpcjanssen.simpletask/11.0.1/apk/nl.mpcjanssen.simpletask_11000001.apk&quot;</td>\n",
       "            <td>2</td>\n",
       "        </tr>\n",
       "        <tr>\n",
       "            <td>&quot;\\&quot;Unreachable\\&quot;&quot;</td>\n",
       "            <td>&quot;${baseDir}/fdroid/org.andstatus.app/60.01/apk/org.andstatus.app_361.apk&quot;</td>\n",
       "            <td>1</td>\n",
       "        </tr>\n",
       "        <tr>\n",
       "            <td>&quot;\\&quot;Unreachable\\&quot;&quot;</td>\n",
       "            <td>&quot;${baseDir}/fdroid/org.fedorahosted.freeotp/2.0/apk/org.fedorahosted.freeotp_24.apk&quot;</td>\n",
       "            <td>1</td>\n",
       "        </tr>\n",
       "        <tr>\n",
       "            <td>&quot;\\&quot;Witnessed\\&quot;&quot;</td>\n",
       "            <td>&quot;${baseDir}/fdroid/org.liberty.android.fantastischmemo/10.11.7/apk/org.liberty.android.fantastischmemo_237.apk&quot;</td>\n",
       "            <td>15</td>\n",
       "        </tr>\n",
       "        <tr>\n",
       "            <td>&quot;\\&quot;Unreachable\\&quot;&quot;</td>\n",
       "            <td>&quot;${baseDir}/fdroid/org.liberty.android.fantastischmemo/10.11.7/apk/org.liberty.android.fantastischmemo_237.apk&quot;</td>\n",
       "            <td>34</td>\n",
       "        </tr>\n",
       "        <tr>\n",
       "            <td>&quot;\\&quot;Timeout\\&quot;&quot;</td>\n",
       "            <td>&quot;${baseDir}/fdroid/org.liberty.android.fantastischmemo/10.11.7/apk/org.liberty.android.fantastischmemo_237.apk&quot;</td>\n",
       "            <td>13</td>\n",
       "        </tr>\n",
       "        <tr>\n",
       "            <td>&quot;\\&quot;Witnessed\\&quot;&quot;</td>\n",
       "            <td>&quot;${baseDir}/fdroid/org.mariotaku.twidere/4.1.8/apk/org.mariotaku.twidere_517.apk&quot;</td>\n",
       "            <td>6</td>\n",
       "        </tr>\n",
       "        <tr>\n",
       "            <td>&quot;\\&quot;Unreachable\\&quot;&quot;</td>\n",
       "            <td>&quot;${baseDir}/fdroid/org.mariotaku.twidere/4.1.8/apk/org.mariotaku.twidere_517.apk&quot;</td>\n",
       "            <td>82</td>\n",
       "        </tr>\n",
       "        <tr>\n",
       "            <td>&quot;\\&quot;Timeout\\&quot;&quot;</td>\n",
       "            <td>&quot;${baseDir}/fdroid/org.mariotaku.twidere/4.1.8/apk/org.mariotaku.twidere_517.apk&quot;</td>\n",
       "            <td>5</td>\n",
       "        </tr>\n",
       "        <tr>\n",
       "            <td>&quot;\\&quot;Witnessed\\&quot;&quot;</td>\n",
       "            <td>&quot;${baseDir}/fdroid/org.navitproject.navit/v0.5.6/apk/org.navitproject.navit_2021030660.apk&quot;</td>\n",
       "            <td>7</td>\n",
       "        </tr>\n",
       "        <tr>\n",
       "            <td>&quot;\\&quot;Unreachable\\&quot;&quot;</td>\n",
       "            <td>&quot;${baseDir}/fdroid/org.navitproject.navit/v0.5.6/apk/org.navitproject.navit_2021030660.apk&quot;</td>\n",
       "            <td>3</td>\n",
       "        </tr>\n",
       "        <tr>\n",
       "            <td>&quot;\\&quot;Witnessed\\&quot;&quot;</td>\n",
       "            <td>&quot;${baseDir}/fdroid/org.scoutant.blokish/3.4/apk/org.scoutant.blokish_22.apk&quot;</td>\n",
       "            <td>4</td>\n",
       "        </tr>\n",
       "        <tr>\n",
       "            <td>&quot;\\&quot;Unreachable\\&quot;&quot;</td>\n",
       "            <td>&quot;${baseDir}/fdroid/org.scoutant.blokish/3.4/apk/org.scoutant.blokish_22.apk&quot;</td>\n",
       "            <td>5</td>\n",
       "        </tr>\n",
       "        <tr>\n",
       "            <td>&quot;\\&quot;Timeout\\&quot;&quot;</td>\n",
       "            <td>&quot;${baseDir}/fdroid/org.scoutant.blokish/3.4/apk/org.scoutant.blokish_22.apk&quot;</td>\n",
       "            <td>1</td>\n",
       "        </tr>\n",
       "        <tr>\n",
       "            <td>&quot;\\&quot;Unreachable\\&quot;&quot;</td>\n",
       "            <td>&quot;${baseDir}/fdroid/org.sipdroid.sipua/6.3beta/apk/org.sipdroid.sipua_134.apk&quot;</td>\n",
       "            <td>22</td>\n",
       "        </tr>\n",
       "        <tr>\n",
       "            <td>&quot;\\&quot;Timeout\\&quot;&quot;</td>\n",
       "            <td>&quot;${baseDir}/fdroid/org.sipdroid.sipua/6.3beta/apk/org.sipdroid.sipua_134.apk&quot;</td>\n",
       "            <td>7</td>\n",
       "        </tr>\n",
       "        <tr>\n",
       "            <td>&quot;\\&quot;Witnessed\\&quot;&quot;</td>\n",
       "            <td>&quot;${baseDir}/fdroid/org.sufficientlysecure.keychain/5.8.2/apk/org.sufficientlysecure.keychain_58902.apk&quot;</td>\n",
       "            <td>60</td>\n",
       "        </tr>\n",
       "        <tr>\n",
       "            <td>&quot;\\&quot;Unreachable\\&quot;&quot;</td>\n",
       "            <td>&quot;${baseDir}/fdroid/org.sufficientlysecure.keychain/5.8.2/apk/org.sufficientlysecure.keychain_58902.apk&quot;</td>\n",
       "            <td>50</td>\n",
       "        </tr>\n",
       "        <tr>\n",
       "            <td>&quot;\\&quot;Timeout\\&quot;&quot;</td>\n",
       "            <td>&quot;${baseDir}/fdroid/org.sufficientlysecure.keychain/5.8.2/apk/org.sufficientlysecure.keychain_58902.apk&quot;</td>\n",
       "            <td>28</td>\n",
       "        </tr>\n",
       "        <tr>\n",
       "            <td>&quot;\\&quot;Witnessed\\&quot;&quot;</td>\n",
       "            <td>&quot;${baseDir}/fdroid/org.tasks/13.1.1/apk/org.tasks_130101.apk&quot;</td>\n",
       "            <td>1</td>\n",
       "        </tr>\n",
       "        <tr>\n",
       "            <td>&quot;\\&quot;Unreachable\\&quot;&quot;</td>\n",
       "            <td>&quot;${baseDir}/fdroid/org.tasks/13.1.1/apk/org.tasks_130101.apk&quot;</td>\n",
       "            <td>17</td>\n",
       "        </tr>\n",
       "        <tr>\n",
       "            <td>&quot;\\&quot;Timeout\\&quot;&quot;</td>\n",
       "            <td>&quot;${baseDir}/fdroid/org.tasks/13.1.1/apk/org.tasks_130101.apk&quot;</td>\n",
       "            <td>7</td>\n",
       "        </tr>\n",
       "        <tr>\n",
       "            <td>&quot;\\&quot;Ijava.lang.AssertionError: assertion failed: Exception: Too many locations found: \\\\n \\&quot;&quot;</td>\n",
       "            <td>&quot;${baseDir}/fdroid/org.tasks/13.1.1/apk/org.tasks_130101.apk&quot;</td>\n",
       "            <td>1</td>\n",
       "        </tr>\n",
       "        <tr>\n",
       "            <td>&quot;\\&quot;Unreachable\\&quot;&quot;</td>\n",
       "            <td>&quot;${baseDir}/fdroid/org.traccar.client/6.18/apk/org.traccar.client_79.apk&quot;</td>\n",
       "            <td>4</td>\n",
       "        </tr>\n",
       "        <tr>\n",
       "            <td>&quot;\\&quot;Witnessed\\&quot;&quot;</td>\n",
       "            <td>&quot;${baseDir}/fdroid/org.transdroid.lite/2.5.19/apk/org.transdroid.lite_239.apk&quot;</td>\n",
       "            <td>5</td>\n",
       "        </tr>\n",
       "        <tr>\n",
       "            <td>&quot;\\&quot;Unreachable\\&quot;&quot;</td>\n",
       "            <td>&quot;${baseDir}/fdroid/org.transdroid.lite/2.5.19/apk/org.transdroid.lite_239.apk&quot;</td>\n",
       "            <td>4</td>\n",
       "        </tr>\n",
       "        <tr>\n",
       "            <td>&quot;\\&quot;Timeout\\&quot;&quot;</td>\n",
       "            <td>&quot;${baseDir}/fdroid/org.transdroid.lite/2.5.19/apk/org.transdroid.lite_239.apk&quot;</td>\n",
       "            <td>6</td>\n",
       "        </tr>\n",
       "        <tr>\n",
       "            <td>&quot;\\&quot;Witnessed\\&quot;&quot;</td>\n",
       "            <td>&quot;${baseDir}/fdroid/org.yuttadhammo.BodhiTimer/6.3.0/apk/org.yuttadhammo.BodhiTimer_98.apk&quot;</td>\n",
       "            <td>1</td>\n",
       "        </tr>\n",
       "        <tr>\n",
       "            <td>&quot;\\&quot;Unreachable\\&quot;&quot;</td>\n",
       "            <td>&quot;${baseDir}/fdroid/org.zephyrsoft.trackworktime/1.1.20/apk/org.zephyrsoft.trackworktime_64.apk&quot;</td>\n",
       "            <td>2</td>\n",
       "        </tr>\n",
       "        <tr>\n",
       "            <td>&quot;\\&quot;Timeout\\&quot;&quot;</td>\n",
       "            <td>&quot;${baseDir}/fdroid/org.zephyrsoft.trackworktime/1.1.20/apk/org.zephyrsoft.trackworktime_64.apk&quot;</td>\n",
       "            <td>2</td>\n",
       "        </tr>\n",
       "        <tr>\n",
       "            <td>&quot;\\&quot;Witnessed\\&quot;&quot;</td>\n",
       "            <td>&quot;${baseDir}/oss/de.danoeh.antennapod/app/build/outputs/apk/free/debug/app-free-debug.apk&quot;</td>\n",
       "            <td>20</td>\n",
       "        </tr>\n",
       "        <tr>\n",
       "            <td>&quot;\\&quot;Unreachable\\&quot;&quot;</td>\n",
       "            <td>&quot;${baseDir}/oss/de.danoeh.antennapod/app/build/outputs/apk/free/debug/app-free-debug.apk&quot;</td>\n",
       "            <td>2</td>\n",
       "        </tr>\n",
       "        <tr>\n",
       "            <td>&quot;\\&quot;Timeout\\&quot;&quot;</td>\n",
       "            <td>&quot;${baseDir}/oss/de.danoeh.antennapod/app/build/outputs/apk/free/debug/app-free-debug.apk&quot;</td>\n",
       "            <td>18</td>\n",
       "        </tr>\n",
       "        <tr>\n",
       "            <td>&quot;\\&quot;Witnessed\\&quot;&quot;</td>\n",
       "            <td>&quot;${baseDir}/oss/org.connectbot/app/build/outputs/apk/oss/debug/app-oss-debug.apk&quot;</td>\n",
       "            <td>1</td>\n",
       "        </tr>\n",
       "        <tr>\n",
       "            <td>&quot;\\&quot;Unreachable\\&quot;&quot;</td>\n",
       "            <td>&quot;${baseDir}/oss/org.connectbot/app/build/outputs/apk/oss/debug/app-oss-debug.apk&quot;</td>\n",
       "            <td>3</td>\n",
       "        </tr>\n",
       "        <tr>\n",
       "            <td>&quot;\\&quot;Timeout\\&quot;&quot;</td>\n",
       "            <td>&quot;${baseDir}/oss/org.connectbot/app/build/outputs/apk/oss/debug/app-oss-debug.apk&quot;</td>\n",
       "            <td>2</td>\n",
       "        </tr>\n",
       "    </tbody>\n",
       "</table>"
      ],
      "text/plain": [
       "[('\"\\\\\"Unreachable\\\\\"\"', '\"${baseDir}/fdroid/be.digitalia.fosdem/2.1.1/apk/be.digitalia.fosdem_1900211.apk\"', 7),\n",
       " ('\"\\\\\"Timeout\\\\\"\"', '\"${baseDir}/fdroid/be.digitalia.fosdem/2.1.1/apk/be.digitalia.fosdem_1900211.apk\"', 2),\n",
       " ('\"\\\\\"Witnessed\\\\\"\"', '\"${baseDir}/fdroid/ch.blinkenlights.android.vanilla/1.2.2/apk/ch.blinkenlights.android.vanilla_12200.apk\"', 6),\n",
       " ('\"\\\\\"Unreachable\\\\\"\"', '\"${baseDir}/fdroid/ch.blinkenlights.android.vanilla/1.2.2/apk/ch.blinkenlights.android.vanilla_12200.apk\"', 3),\n",
       " ('\"\\\\\"Timeout\\\\\"\"', '\"${baseDir}/fdroid/ch.blinkenlights.android.vanilla/1.2.2/apk/ch.blinkenlights.android.vanilla_12200.apk\"', 3),\n",
       " ('\"\\\\\"Ijava.lang.AssertionError: assertion failed: Exception: Too many locations found: \\\\\\\\n \\\\\"\"', '\"${baseDir}/fdroid/ch.blinkenlights.android.vanilla/1.2.2/apk/ch.blinkenlights.android.vanilla_12200.apk\"', 1),\n",
       " ('\"\\\\\"Unreachable\\\\\"\"', '\"${baseDir}/fdroid/com.android.keepass/2.6.8/apk/com.android.keepass_215.apk\"', 3),\n",
       " ('\"\\\\\"Timeout\\\\\"\"', '\"${baseDir}/fdroid/com.android.keepass/2.6.8/apk/com.android.keepass_215.apk\"', 5),\n",
       " ('\"\\\\\"Witnessed\\\\\"\"', '\"${baseDir}/fdroid/com.asksven.betterbatterystats/3.3.1/apk/com.asksven.betterbatterystats_107.apk\"', 5),\n",
       " ('\"\\\\\"Unreachable\\\\\"\"', '\"${baseDir}/fdroid/com.asksven.betterbatterystats/3.3.1/apk/com.asksven.betterbatterystats_107.apk\"', 13),\n",
       " ('\"\\\\\"Timeout\\\\\"\"', '\"${baseDir}/fdroid/com.asksven.betterbatterystats/3.3.1/apk/com.asksven.betterbatterystats_107.apk\"', 1),\n",
       " ('\"\\\\\"Unreachable\\\\\"\"', '\"${baseDir}/fdroid/com.byagowi.persiancalendar/7.8.0/apk/com.byagowi.persiancalendar_780.apk\"', 3),\n",
       " ('\"\\\\\"Timeout\\\\\"\"', '\"${baseDir}/fdroid/com.byagowi.persiancalendar/7.8.0/apk/com.byagowi.persiancalendar_780.apk\"', 10),\n",
       " ('\"\\\\\"Witnessed\\\\\"\"', '\"${baseDir}/fdroid/com.darshancomputing.BatteryIndicatorPro/12.0.0/apk/com.darshancomputing.BatteryIndicatorPro_26016.apk\"', 29),\n",
       " ('\"\\\\\"Unreachable\\\\\"\"', '\"${baseDir}/fdroid/com.darshancomputing.BatteryIndicatorPro/12.0.0/apk/com.darshancomputing.BatteryIndicatorPro_26016.apk\"', 6),\n",
       " ('\"\\\\\"Timeout\\\\\"\"', '\"${baseDir}/fdroid/com.darshancomputing.BatteryIndicatorPro/12.0.0/apk/com.darshancomputing.BatteryIndicatorPro_26016.apk\"', 2),\n",
       " ('\"\\\\\"Witnessed\\\\\"\"', '\"${baseDir}/fdroid/com.fsck.k9/6.503/apk/com.fsck.k9_35003.apk\"', 3),\n",
       " ('\"\\\\\"Unreachable\\\\\"\"', '\"${baseDir}/fdroid/com.fsck.k9/6.503/apk/com.fsck.k9_35003.apk\"', 15),\n",
       " ('\"\\\\\"Timeout\\\\\"\"', '\"${baseDir}/fdroid/com.fsck.k9/6.503/apk/com.fsck.k9_35003.apk\"', 3),\n",
       " ('\"\\\\\"Ijava.lang.AssertionError: assertion failed: Exception: Too many locations found: \\\\\\\\n \\\\\"\"', '\"${baseDir}/fdroid/com.fsck.k9/6.503/apk/com.fsck.k9_35003.apk\"', 1),\n",
       " ('\"\\\\\"Witnessed\\\\\"\"', '\"${baseDir}/fdroid/com.gpl.rpg.AndorsTrail/0.8.3/apk/com.gpl.rpg.AndorsTrail_67.apk\"', 5),\n",
       " ('\"\\\\\"Unreachable\\\\\"\"', '\"${baseDir}/fdroid/com.gpl.rpg.AndorsTrail/0.8.3/apk/com.gpl.rpg.AndorsTrail_67.apk\"', 10),\n",
       " ('\"\\\\\"Timeout\\\\\"\"', '\"${baseDir}/fdroid/com.gpl.rpg.AndorsTrail/0.8.3/apk/com.gpl.rpg.AndorsTrail_67.apk\"', 7),\n",
       " ('\"\\\\\"Witnessed\\\\\"\"', '\"${baseDir}/fdroid/com.ichi2.anki/2.15.6/apk/com.ichi2.anki_21506300.apk\"', 2),\n",
       " ('\"\\\\\"Unreachable\\\\\"\"', '\"${baseDir}/fdroid/com.ichi2.anki/2.15.6/apk/com.ichi2.anki_21506300.apk\"', 16),\n",
       " ('\"\\\\\"Timeout\\\\\"\"', '\"${baseDir}/fdroid/com.ichi2.anki/2.15.6/apk/com.ichi2.anki_21506300.apk\"', 23),\n",
       " ('\"\\\\\"Unreachable\\\\\"\"', '\"${baseDir}/fdroid/com.MarcosDiez.shareviahttp/2.0.14/apk/com.MarcosDiez.shareviahttp_34.apk\"', 2),\n",
       " ('\"\\\\\"Witnessed\\\\\"\"', '\"${baseDir}/fdroid/com.nutomic.syncthingandroid/1.23.0/apk/com.nutomic.syncthingandroid_4334.apk\"', 4),\n",
       " ('\"\\\\\"Unreachable\\\\\"\"', '\"${baseDir}/fdroid/com.nutomic.syncthingandroid/1.23.0/apk/com.nutomic.syncthingandroid_4334.apk\"', 5),\n",
       " ('\"\\\\\"Timeout\\\\\"\"', '\"${baseDir}/fdroid/com.nutomic.syncthingandroid/1.23.0/apk/com.nutomic.syncthingandroid_4334.apk\"', 3),\n",
       " ('\"\\\\\"Witnessed\\\\\"\"', '\"${baseDir}/fdroid/com.owncloud.android/3.0.1/apk/com.owncloud.android_30000001.apk\"', 6),\n",
       " ('\"\\\\\"Unreachable\\\\\"\"', '\"${baseDir}/fdroid/com.owncloud.android/3.0.1/apk/com.owncloud.android_30000001.apk\"', 22),\n",
       " ('\"\\\\\"Timeout\\\\\"\"', '\"${baseDir}/fdroid/com.owncloud.android/3.0.1/apk/com.owncloud.android_30000001.apk\"', 12),\n",
       " ('\"\\\\\"Ijava.lang.AssertionError: assertion failed: Exception: Too many locations found: \\\\\\\\n pre-line: 438 $r6 = virtualinvoke $r3.<androidx.fragment. ... (10 characters truncated) ... ntActivity: java.lang.String toString()>()\\\\\\\\\\\\\\\\npre-line: 438 $r6 = virtualinvoke $r5.<java.lang.StringBuilder: java.lang.String toString()>()\\\\\"\"', '\"${baseDir}/fdroid/com.owncloud.android/3.0.1/apk/com.owncloud.android_30000001.apk\"', 1),\n",
       " ('\"\\\\\"Witnessed\\\\\"\"', '\"${baseDir}/fdroid/com.seafile.seadroid2/2.2.48/apk/com.seafile.seadroid2_123.apk\"', 12),\n",
       " ('\"\\\\\"Unreachable\\\\\"\"', '\"${baseDir}/fdroid/com.seafile.seadroid2/2.2.48/apk/com.seafile.seadroid2_123.apk\"', 30),\n",
       " ('\"\\\\\"Timeout\\\\\"\"', '\"${baseDir}/fdroid/com.seafile.seadroid2/2.2.48/apk/com.seafile.seadroid2_123.apk\"', 16),\n",
       " ('\"\\\\\"Unreachable\\\\\"\"', '\"${baseDir}/fdroid/com.shatteredpixel.shatteredpixeldungeon/1.4.3/apk/com.shatteredpixel.shatteredpixeldungeon_668.apk\"', 2),\n",
       " ('\"\\\\\"Witnessed\\\\\"\"', '\"${baseDir}/fdroid/com.ubergeek42.WeechatAndroid/1.8.1/apk/com.ubergeek42.WeechatAndroid_10801.apk\"', 1),\n",
       " ('\"\\\\\"Unreachable\\\\\"\"', '\"${baseDir}/fdroid/com.ubergeek42.WeechatAndroid/1.8.1/apk/com.ubergeek42.WeechatAndroid_10801.apk\"', 9),\n",
       " ('\"\\\\\"Timeout\\\\\"\"', '\"${baseDir}/fdroid/com.ubergeek42.WeechatAndroid/1.8.1/apk/com.ubergeek42.WeechatAndroid_10801.apk\"', 4),\n",
       " ('\"\\\\\"Timeout\\\\\"\"', '\"${baseDir}/fdroid/com.yubico.yubioath/6.0.2/apk/com.yubico.yubioath_600064.apk\"', 1),\n",
       " ('\"\\\\\"Unreachable\\\\\"\"', '\"${baseDir}/fdroid/de.blau.android/18.1.1.0/apk/de.blau.android_2303.apk\"', 32),\n",
       " ('\"\\\\\"Timeout\\\\\"\"', '\"${baseDir}/fdroid/de.blau.android/18.1.1.0/apk/de.blau.android_2303.apk\"', 16),\n",
       " ('\"\\\\\"Witnessed\\\\\"\"', '\"${baseDir}/fdroid/de.blinkt.openvpn/0.7.43/apk/de.blinkt.openvpn_198.apk\"', 31),\n",
       " ('\"\\\\\"Unreachable\\\\\"\"', '\"${baseDir}/fdroid/de.blinkt.openvpn/0.7.43/apk/de.blinkt.openvpn_198.apk\"', 3),\n",
       " ('\"\\\\\"Timeout\\\\\"\"', '\"${baseDir}/fdroid/de.blinkt.openvpn/0.7.43/apk/de.blinkt.openvpn_198.apk\"', 10),\n",
       " ('\"\\\\\"Unreachable\\\\\"\"', '\"${baseDir}/fdroid/de.jkliemann.parkendd/1.2.8/apk/de.jkliemann.parkendd_33.apk\"', 6),\n",
       " ('\"\\\\\"Unreachable\\\\\"\"', '\"${baseDir}/fdroid/de.markusfisch.android.wavelines/1.13.2/apk/de.markusfisch.android.wavelines_22.apk\"', 5),\n",
       " ('\"\\\\\"Witnessed\\\\\"\"', '\"${baseDir}/fdroid/de.srlabs.snoopsnitch/2.0.12-nbc/apk/de.srlabs.snoopsnitch_50.apk\"', 1),\n",
       " ('\"\\\\\"Timeout\\\\\"\"', '\"${baseDir}/fdroid/de.srlabs.snoopsnitch/2.0.12-nbc/apk/de.srlabs.snoopsnitch_50.apk\"', 1),\n",
       " ('\"\\\\\"Witnessed\\\\\"\"', '\"${baseDir}/fdroid/de.syss.MifareClassicTool/4.0.4/apk/de.syss.MifareClassicTool_62.apk\"', 2),\n",
       " ('\"\\\\\"Unreachable\\\\\"\"', '\"${baseDir}/fdroid/de.syss.MifareClassicTool/4.0.4/apk/de.syss.MifareClassicTool_62.apk\"', 1),\n",
       " ('\"\\\\\"Witnessed\\\\\"\"', '\"${baseDir}/fdroid/dev.ukanth.ufirewall/3.5.3/apk/dev.ukanth.ufirewall_20220615.apk\"', 24),\n",
       " ('\"\\\\\"Unreachable\\\\\"\"', '\"${baseDir}/fdroid/dev.ukanth.ufirewall/3.5.3/apk/dev.ukanth.ufirewall_20220615.apk\"', 34),\n",
       " ('\"\\\\\"Timeout\\\\\"\"', '\"${baseDir}/fdroid/dev.ukanth.ufirewall/3.5.3/apk/dev.ukanth.ufirewall_20220615.apk\"', 20),\n",
       " ('\"\\\\\"Unreachable\\\\\"\"', '\"${baseDir}/fdroid/info.guardianproject.pixelknot/1.0.2.1/apk/info.guardianproject.pixelknot_1021.apk\"', 1),\n",
       " ('\"\\\\\"Witnessed\\\\\"\"', '\"${baseDir}/fdroid/jwtc.android.chess/9.3.10/apk/jwtc.android.chess_192.apk\"', 1),\n",
       " ('\"\\\\\"Unreachable\\\\\"\"', '\"${baseDir}/fdroid/jwtc.android.chess/9.3.10/apk/jwtc.android.chess_192.apk\"', 1),\n",
       " ('\"\\\\\"Timeout\\\\\"\"', '\"${baseDir}/fdroid/jwtc.android.chess/9.3.10/apk/jwtc.android.chess_192.apk\"', 26),\n",
       " ('\"\\\\\"Witnessed\\\\\"\"', '\"${baseDir}/fdroid/name.boyle.chris.sgtpuzzles/2023-01-18-2324-aaa36328-fdroid/apk/name.boyle.chris.sgtpuzzles_137.apk\"', 2),\n",
       " ('\"\\\\\"Unreachable\\\\\"\"', '\"${baseDir}/fdroid/name.boyle.chris.sgtpuzzles/2023-01-18-2324-aaa36328-fdroid/apk/name.boyle.chris.sgtpuzzles_137.apk\"', 1),\n",
       " ('\"\\\\\"Timeout\\\\\"\"', '\"${baseDir}/fdroid/name.boyle.chris.sgtpuzzles/2023-01-18-2324-aaa36328-fdroid/apk/name.boyle.chris.sgtpuzzles_137.apk\"', 2),\n",
       " ('\"\\\\\"Witnessed\\\\\"\"', '\"${baseDir}/fdroid/net.bible.android.activity/4.0.673/apk/net.bible.android.activity_673.apk\"', 2),\n",
       " ('\"\\\\\"Timeout\\\\\"\"', '\"${baseDir}/fdroid/net.bible.android.activity/4.0.673/apk/net.bible.android.activity_673.apk\"', 3),\n",
       " ('\"\\\\\"Unreachable\\\\\"\"', '\"${baseDir}/fdroid/net.gaast.giggity/2.0.8/apk/net.gaast.giggity_520.apk\"', 1),\n",
       " ('\"\\\\\"Timeout\\\\\"\"', '\"${baseDir}/fdroid/net.gaast.giggity/2.0.8/apk/net.gaast.giggity_520.apk\"', 3),\n",
       " ('\"\\\\\"Witnessed\\\\\"\"', '\"${baseDir}/fdroid/net.justdave.nwsweatheralertswidget/1.1.4/apk/net.justdave.nwsweatheralertswidget_12.apk\"', 4),\n",
       " ('\"\\\\\"Witnessed\\\\\"\"', '\"${baseDir}/fdroid/net.wigle.wigleandroid/2.63/apk/net.wigle.wigleandroid_263.apk\"', 46),\n",
       " ('\"\\\\\"Unreachable\\\\\"\"', '\"${baseDir}/fdroid/net.wigle.wigleandroid/2.63/apk/net.wigle.wigleandroid_263.apk\"', 24),\n",
       " ('\"\\\\\"Timeout\\\\\"\"', '\"${baseDir}/fdroid/net.wigle.wigleandroid/2.63/apk/net.wigle.wigleandroid_263.apk\"', 17),\n",
       " ('\"\\\\\"Witnessed\\\\\"\"', '\"${baseDir}/fdroid/nitezh.ministock/81/apk/nitezh.ministock_81.apk\"', 2),\n",
       " ('\"\\\\\"Unreachable\\\\\"\"', '\"${baseDir}/fdroid/nitezh.ministock/81/apk/nitezh.ministock_81.apk\"', 2),\n",
       " ('\"\\\\\"Unreachable\\\\\"\"', '\"${baseDir}/fdroid/nl.mpcjanssen.simpletask/11.0.1/apk/nl.mpcjanssen.simpletask_11000001.apk\"', 2),\n",
       " ('\"\\\\\"Timeout\\\\\"\"', '\"${baseDir}/fdroid/nl.mpcjanssen.simpletask/11.0.1/apk/nl.mpcjanssen.simpletask_11000001.apk\"', 2),\n",
       " ('\"\\\\\"Unreachable\\\\\"\"', '\"${baseDir}/fdroid/org.andstatus.app/60.01/apk/org.andstatus.app_361.apk\"', 1),\n",
       " ('\"\\\\\"Unreachable\\\\\"\"', '\"${baseDir}/fdroid/org.fedorahosted.freeotp/2.0/apk/org.fedorahosted.freeotp_24.apk\"', 1),\n",
       " ('\"\\\\\"Witnessed\\\\\"\"', '\"${baseDir}/fdroid/org.liberty.android.fantastischmemo/10.11.7/apk/org.liberty.android.fantastischmemo_237.apk\"', 15),\n",
       " ('\"\\\\\"Unreachable\\\\\"\"', '\"${baseDir}/fdroid/org.liberty.android.fantastischmemo/10.11.7/apk/org.liberty.android.fantastischmemo_237.apk\"', 34),\n",
       " ('\"\\\\\"Timeout\\\\\"\"', '\"${baseDir}/fdroid/org.liberty.android.fantastischmemo/10.11.7/apk/org.liberty.android.fantastischmemo_237.apk\"', 13),\n",
       " ('\"\\\\\"Witnessed\\\\\"\"', '\"${baseDir}/fdroid/org.mariotaku.twidere/4.1.8/apk/org.mariotaku.twidere_517.apk\"', 6),\n",
       " ('\"\\\\\"Unreachable\\\\\"\"', '\"${baseDir}/fdroid/org.mariotaku.twidere/4.1.8/apk/org.mariotaku.twidere_517.apk\"', 82),\n",
       " ('\"\\\\\"Timeout\\\\\"\"', '\"${baseDir}/fdroid/org.mariotaku.twidere/4.1.8/apk/org.mariotaku.twidere_517.apk\"', 5),\n",
       " ('\"\\\\\"Witnessed\\\\\"\"', '\"${baseDir}/fdroid/org.navitproject.navit/v0.5.6/apk/org.navitproject.navit_2021030660.apk\"', 7),\n",
       " ('\"\\\\\"Unreachable\\\\\"\"', '\"${baseDir}/fdroid/org.navitproject.navit/v0.5.6/apk/org.navitproject.navit_2021030660.apk\"', 3),\n",
       " ('\"\\\\\"Witnessed\\\\\"\"', '\"${baseDir}/fdroid/org.scoutant.blokish/3.4/apk/org.scoutant.blokish_22.apk\"', 4),\n",
       " ('\"\\\\\"Unreachable\\\\\"\"', '\"${baseDir}/fdroid/org.scoutant.blokish/3.4/apk/org.scoutant.blokish_22.apk\"', 5),\n",
       " ('\"\\\\\"Timeout\\\\\"\"', '\"${baseDir}/fdroid/org.scoutant.blokish/3.4/apk/org.scoutant.blokish_22.apk\"', 1),\n",
       " ('\"\\\\\"Unreachable\\\\\"\"', '\"${baseDir}/fdroid/org.sipdroid.sipua/6.3beta/apk/org.sipdroid.sipua_134.apk\"', 22),\n",
       " ('\"\\\\\"Timeout\\\\\"\"', '\"${baseDir}/fdroid/org.sipdroid.sipua/6.3beta/apk/org.sipdroid.sipua_134.apk\"', 7),\n",
       " ('\"\\\\\"Witnessed\\\\\"\"', '\"${baseDir}/fdroid/org.sufficientlysecure.keychain/5.8.2/apk/org.sufficientlysecure.keychain_58902.apk\"', 60),\n",
       " ('\"\\\\\"Unreachable\\\\\"\"', '\"${baseDir}/fdroid/org.sufficientlysecure.keychain/5.8.2/apk/org.sufficientlysecure.keychain_58902.apk\"', 50),\n",
       " ('\"\\\\\"Timeout\\\\\"\"', '\"${baseDir}/fdroid/org.sufficientlysecure.keychain/5.8.2/apk/org.sufficientlysecure.keychain_58902.apk\"', 28),\n",
       " ('\"\\\\\"Witnessed\\\\\"\"', '\"${baseDir}/fdroid/org.tasks/13.1.1/apk/org.tasks_130101.apk\"', 1),\n",
       " ('\"\\\\\"Unreachable\\\\\"\"', '\"${baseDir}/fdroid/org.tasks/13.1.1/apk/org.tasks_130101.apk\"', 17),\n",
       " ('\"\\\\\"Timeout\\\\\"\"', '\"${baseDir}/fdroid/org.tasks/13.1.1/apk/org.tasks_130101.apk\"', 7),\n",
       " ('\"\\\\\"Ijava.lang.AssertionError: assertion failed: Exception: Too many locations found: \\\\\\\\n \\\\\"\"', '\"${baseDir}/fdroid/org.tasks/13.1.1/apk/org.tasks_130101.apk\"', 1),\n",
       " ('\"\\\\\"Unreachable\\\\\"\"', '\"${baseDir}/fdroid/org.traccar.client/6.18/apk/org.traccar.client_79.apk\"', 4),\n",
       " ('\"\\\\\"Witnessed\\\\\"\"', '\"${baseDir}/fdroid/org.transdroid.lite/2.5.19/apk/org.transdroid.lite_239.apk\"', 5),\n",
       " ('\"\\\\\"Unreachable\\\\\"\"', '\"${baseDir}/fdroid/org.transdroid.lite/2.5.19/apk/org.transdroid.lite_239.apk\"', 4),\n",
       " ('\"\\\\\"Timeout\\\\\"\"', '\"${baseDir}/fdroid/org.transdroid.lite/2.5.19/apk/org.transdroid.lite_239.apk\"', 6),\n",
       " ('\"\\\\\"Witnessed\\\\\"\"', '\"${baseDir}/fdroid/org.yuttadhammo.BodhiTimer/6.3.0/apk/org.yuttadhammo.BodhiTimer_98.apk\"', 1),\n",
       " ('\"\\\\\"Unreachable\\\\\"\"', '\"${baseDir}/fdroid/org.zephyrsoft.trackworktime/1.1.20/apk/org.zephyrsoft.trackworktime_64.apk\"', 2),\n",
       " ('\"\\\\\"Timeout\\\\\"\"', '\"${baseDir}/fdroid/org.zephyrsoft.trackworktime/1.1.20/apk/org.zephyrsoft.trackworktime_64.apk\"', 2),\n",
       " ('\"\\\\\"Witnessed\\\\\"\"', '\"${baseDir}/oss/de.danoeh.antennapod/app/build/outputs/apk/free/debug/app-free-debug.apk\"', 20),\n",
       " ('\"\\\\\"Unreachable\\\\\"\"', '\"${baseDir}/oss/de.danoeh.antennapod/app/build/outputs/apk/free/debug/app-free-debug.apk\"', 2),\n",
       " ('\"\\\\\"Timeout\\\\\"\"', '\"${baseDir}/oss/de.danoeh.antennapod/app/build/outputs/apk/free/debug/app-free-debug.apk\"', 18),\n",
       " ('\"\\\\\"Witnessed\\\\\"\"', '\"${baseDir}/oss/org.connectbot/app/build/outputs/apk/oss/debug/app-oss-debug.apk\"', 1),\n",
       " ('\"\\\\\"Unreachable\\\\\"\"', '\"${baseDir}/oss/org.connectbot/app/build/outputs/apk/oss/debug/app-oss-debug.apk\"', 3),\n",
       " ('\"\\\\\"Timeout\\\\\"\"', '\"${baseDir}/oss/org.connectbot/app/build/outputs/apk/oss/debug/app-oss-debug.apk\"', 2)]"
      ]
     },
     "execution_count": 9,
     "metadata": {},
     "output_type": "execute_result"
    }
   ],
   "source": [
    "%%sql -- list each result summary and apk counts\n",
    "select cast(results.result::json->'summary' as varchar) as summary, cast(jobs.config::json->'apkPath' as varchar) as benchmark,count(*) from results inner join jobs on jobs.id=results.jobid group by summary,benchmark order by benchmark,summary desc"
   ]
  },
  {
   "cell_type": "markdown",
   "metadata": {},
   "source": [
    "Check result consistency\n",
    "========================"
   ]
  },
  {
   "cell_type": "markdown",
   "metadata": {},
   "source": [
    "If workers are killed while running the experiments, jobs can be left abandoned.  The following queries help find abandoned jobs."
   ]
  },
  {
   "cell_type": "code",
   "execution_count": 11,
   "metadata": {},
   "outputs": [
    {
     "name": "stdout",
     "output_type": "stream",
     "text": [
      " * postgresql://postgres@localhost:5432/postgres\n",
      "0 rows affected.\n"
     ]
    },
    {
     "data": {
      "text/html": [
       "<table>\n",
       "    <thead>\n",
       "        <tr>\n",
       "            <th>id</th>\n",
       "        </tr>\n",
       "    </thead>\n",
       "    <tbody>\n",
       "    </tbody>\n",
       "</table>"
      ],
      "text/plain": [
       "[]"
      ]
     },
     "execution_count": 11,
     "metadata": {},
     "output_type": "execute_result"
    }
   ],
   "source": [
    "%%sql -- Find completed jobs where no results exist and no error occurred\n",
    "select jobs.id from jobs where jobs.id not in (select results.jobid from results) and jobs.status = 'completed' and jobs.stderr not like '%Exception%';"
   ]
  },
  {
   "cell_type": "code",
   "execution_count": 12,
   "metadata": {},
   "outputs": [
    {
     "name": "stdout",
     "output_type": "stream",
     "text": [
      " * postgresql://postgres@localhost:5432/postgres\n",
      "0 rows affected.\n"
     ]
    },
    {
     "data": {
      "text/html": [
       "<table>\n",
       "    <thead>\n",
       "        <tr>\n",
       "            <th>id</th>\n",
       "        </tr>\n",
       "    </thead>\n",
       "    <tbody>\n",
       "    </tbody>\n",
       "</table>"
      ],
      "text/plain": [
       "[]"
      ]
     },
     "execution_count": 12,
     "metadata": {},
     "output_type": "execute_result"
    }
   ],
   "source": [
    "%%sql -- Find new/paused jobs with results\n",
    "select jobs.id from jobs where jobs.id in (select results.jobid from results) and (jobs.status = 'paused' or jobs.status = 'new');"
   ]
  },
  {
   "cell_type": "code",
   "execution_count": 13,
   "metadata": {},
   "outputs": [
    {
     "name": "stdout",
     "output_type": "stream",
     "text": [
      " * postgresql://postgres@localhost:5432/postgres\n",
      "1 rows affected.\n"
     ]
    },
    {
     "data": {
      "text/html": [
       "<table>\n",
       "    <thead>\n",
       "        <tr>\n",
       "            <th>count</th>\n",
       "            <th>qry</th>\n",
       "            <th>num</th>\n",
       "        </tr>\n",
       "    </thead>\n",
       "    <tbody>\n",
       "        <tr>\n",
       "            <td>1</td>\n",
       "            <td>{&quot;methodName&quot;:&quot;android.view.View onCreateView(android.view.LayoutInflater,android.view.ViewGroup,android.os.Bundle)&quot;,&quot;line&quot;:122,&quot;t&quot;:&quot;ReceiverNonNull&quot;,&quot;matcher&quot;:&quot;java.lang.Object getSystemService(java.lang.String)&quot;,&quot;className&quot;:&quot;com.darshancomputing.BatteryIndicatorPro.CurrentInfoFragment&quot;}</td>\n",
       "            <td>{&quot;$type&quot;:&quot;edu.colorado.plv.bounder.ir.AppLoc&quot;,&quot;method&quot;:[&quot;android.view.View onCreateView(android.view.LayoutInflater,android.view.ViewGroup,android.os.Bundle)&quot;,&quot;com.darshancomputing.BatteryIndicatorPro.CurrentInfoFragment&quot;,[&quot;com.darshancomputing.BatteryIndicatorPro.CurrentInfoFragment&quot;,&quot;android.view.LayoutInflater&quot;,&quot;android.view.ViewGroup&quot;,&quot;android.os.Bundle&quot;],[&quot;[{\\&quot;name\\&quot;:\\&quot;@this\\&quot;,\\&quot;localType\\&quot;:\\&quot;com.darshancomputing.BatteryIndicatorPro.CurrentInfoFragment\\&quot;}]&quot;,&quot;[{\\&quot;name\\&quot;:\\&quot;@parameter0\\&quot;,\\&quot;localType\\&quot;:\\&quot;android.view.LayoutInflater\\&quot;}]&quot;,&quot;[{\\&quot;name\\&quot;:\\&quot;@parameter1\\&quot;,\\&quot;localType\\&quot;:\\&quot;android.view.ViewGroup\\&quot;}]&quot;,&quot;[{\\&quot;name\\&quot;:\\&quot;@parameter2\\&quot;,\\&quot;localType\\&quot;:\\&quot;android.os.Bundle\\&quot;}]&quot;]],&quot;line&quot;:{&quot;id&quot;:122,&quot;desc&quot;:&quot;SerializedIRLineLoc(122,line: 122 $r17 = virtualinvoke $r5.&lt;android.app.Activity: java.lang.Object getSystemService(java.lang.String)&gt;(\\&quot;power\\&quot;),1038598525)&quot;,&quot;ident&quot;:849063257},&quot;isPre&quot;:true}</td>\n",
       "        </tr>\n",
       "    </tbody>\n",
       "</table>"
      ],
      "text/plain": [
       "[(1, '{\"methodName\":\"android.view.View onCreateView(android.view.LayoutInflater,android.view.ViewGroup,android.os.Bundle)\",\"line\":122,\"t\":\"ReceiverNonNull\",\"matcher\":\"java.lang.Object getSystemService(java.lang.String)\",\"className\":\"com.darshancomputing.BatteryIndicatorPro.CurrentInfoFragment\"}', '{\"$type\":\"edu.colorado.plv.bounder.ir.AppLoc\",\"method\":[\"android.view.View onCreateView(android.view.LayoutInflater,android.view.ViewGroup,android.os ... (637 characters truncated) ... tualinvoke $r5.<android.app.Activity: java.lang.Object getSystemService(java.lang.String)>(\\\\\"power\\\\\"),1038598525)\",\"ident\":849063257},\"isPre\":true}')]"
      ]
     },
     "execution_count": 13,
     "metadata": {},
     "output_type": "execute_result"
    }
   ],
   "source": [
    "%%sql -- check that each location/qry pair only has one result (should detect duplicat runs)\n",
    "select count(*),qry,loc as num from results group by qry,loc order by count(*) desc limit 1;"
   ]
  },
  {
   "cell_type": "markdown",
   "metadata": {},
   "source": [
    "Runtime Stats\n",
    "============="
   ]
  },
  {
   "cell_type": "markdown",
   "metadata": {},
   "source": [
    "Plot statistics on running experiments.  Note, at least one job must have finished"
   ]
  },
  {
   "cell_type": "code",
   "execution_count": 14,
   "metadata": {},
   "outputs": [
    {
     "name": "stdout",
     "output_type": "stream",
     "text": [
      " * postgresql://postgres@localhost:5432/postgres\n",
      "1082 rows affected.\n"
     ]
    },
    {
     "data": {
      "text/plain": [
       "Text(0.5, 0, 'time (hrs)')"
      ]
     },
     "execution_count": 14,
     "metadata": {},
     "output_type": "execute_result"
    },
    {
     "data": {
      "image/png": "[encoded data removed]",
      "text/plain": [
       "<Figure size 640x480 with 1 Axes>"
      ]
     },
     "metadata": {},
     "output_type": "display_data"
    }
   ],
   "source": [
    "queryTime = %sql select querytime/60/60 from results;\n",
    "tplt = queryTime.DataFrame().plot.hist(bins=16)\n",
    "tplt.set_yscale('log')\n",
    "# tplt.set_xscale('log')\n",
    "tplt.set_xlabel('time (hrs)')\n",
    "# split this into proven and witnessed"
   ]
  },
  {
   "cell_type": "code",
   "execution_count": 15,
   "metadata": {},
   "outputs": [
    {
     "name": "stdout",
     "output_type": "stream",
     "text": [
      " * postgresql://postgres@localhost:5432/postgres\n",
      "0 rows affected.\n"
     ]
    }
   ],
   "source": [
    "cfg = %sql select jobs.config from results join jobs on jobs.id = results.jobid where querytime > 6*60*60 limit 1;\n",
    "if len(cfg) > 0:\n",
    "    print(cfg[0][0])"
   ]
  },
  {
   "cell_type": "code",
   "execution_count": 16,
   "metadata": {},
   "outputs": [
    {
     "name": "stdout",
     "output_type": "stream",
     "text": [
      " * postgresql://postgres@localhost:5432/postgres\n",
      "1051 rows affected.\n"
     ]
    },
    {
     "data": {
      "text/plain": [
       "Text(0.5, 0, 'time (min)')"
      ]
     },
     "execution_count": 16,
     "metadata": {},
     "output_type": "execute_result"
    },
    {
     "data": {
      "image/png": "[encoded data removed]",
      "text/plain": [
       "<Figure size 640x480 with 1 Axes>"
      ]
     },
     "metadata": {},
     "output_type": "display_data"
    }
   ],
   "source": [
    "# Job runtimes\n",
    "runtimes = %sql select ended - started as time from jobs where ended is not NULL;\n",
    "runtimesDF = runtimes.DataFrame()\n",
    "runtimesDF['time'] = runtimesDF['time'].apply(lambda x: x.total_seconds() / (60))\n",
    "tplt = runtimesDF.plot.hist(bins=32)\n",
    "tplt.set_yscale('log')\n",
    "tplt.set_xlabel('time (min)')"
   ]
  },
  {
   "cell_type": "code",
   "execution_count": 17,
   "metadata": {},
   "outputs": [
    {
     "name": "stdout",
     "output_type": "stream",
     "text": [
      " * postgresql://postgres@localhost:5432/postgres\n",
      "1051 rows affected.\n"
     ]
    },
    {
     "name": "stderr",
     "output_type": "stream",
     "text": [
      "/tmp/ipykernel_1218/1841651425.py:6: UserWarning: marker is redundantly defined by the 'marker' keyword argument and the fmt string \"o\" (-> marker='o'). The keyword argument will take precedence.\n",
      "  ax.plot_date(rtvtDF['started'], rtvtDF['time'], marker='*', linestyle='')\n"
     ]
    },
    {
     "data": {
      "image/png": "[encoded data removed]",
      "text/plain": [
       "<Figure size 640x480 with 1 Axes>"
      ]
     },
     "metadata": {},
     "output_type": "display_data"
    }
   ],
   "source": [
    "# Plot job time trend\n",
    "rtvt = %sql select started, ended - started as time from jobs where ended is not NULL;\n",
    "rtvtDF = rtvt.DataFrame()\n",
    "rtvtDF.sort_values('started', ascending=True)\n",
    "fig, ax = plt.subplots()\n",
    "ax.plot_date(rtvtDF['started'], rtvtDF['time'], marker='*', linestyle='')\n",
    "\n",
    "fig.autofmt_xdate()\n",
    "plt.show()\n"
   ]
  },
  {
   "cell_type": "markdown",
   "metadata": {},
   "source": [
    "Total job time"
   ]
  },
  {
   "cell_type": "code",
   "execution_count": 18,
   "metadata": {},
   "outputs": [
    {
     "name": "stdout",
     "output_type": "stream",
     "text": [
      " * postgresql://postgres@localhost:5432/postgres\n",
      "1 rows affected.\n"
     ]
    },
    {
     "data": {
      "text/html": [
       "<table>\n",
       "    <thead>\n",
       "        <tr>\n",
       "            <th>sum</th>\n",
       "        </tr>\n",
       "    </thead>\n",
       "    <tbody>\n",
       "        <tr>\n",
       "            <td>15 days, 15:18:52.292000</td>\n",
       "        </tr>\n",
       "    </tbody>\n",
       "</table>"
      ],
      "text/plain": [
       "[(datetime.timedelta(days=15, seconds=55132, microseconds=292000),)]"
      ]
     },
     "execution_count": 18,
     "metadata": {},
     "output_type": "execute_result"
    }
   ],
   "source": [
    "%%sql\n",
    "select sum(ended-started) from jobs where ended is not NULL;"
   ]
  },
  {
   "cell_type": "code",
   "execution_count": 19,
   "metadata": {},
   "outputs": [
    {
     "name": "stdout",
     "output_type": "stream",
     "text": [
      " * postgresql://postgres@localhost:5432/postgres\n",
      "1 rows affected.\n"
     ]
    },
    {
     "data": {
      "text/html": [
       "<table>\n",
       "    <thead>\n",
       "        <tr>\n",
       "            <th>avg</th>\n",
       "        </tr>\n",
       "    </thead>\n",
       "    <tbody>\n",
       "        <tr>\n",
       "            <td>0:21:25.568308</td>\n",
       "        </tr>\n",
       "    </tbody>\n",
       "</table>"
      ],
      "text/plain": [
       "[(datetime.timedelta(seconds=1285, microseconds=568308),)]"
      ]
     },
     "execution_count": 19,
     "metadata": {},
     "output_type": "execute_result"
    }
   ],
   "source": [
    "%%sql\n",
    "select avg(ended-started) from jobs where ended is not NULL;"
   ]
  },
  {
   "cell_type": "code",
   "execution_count": 20,
   "metadata": {},
   "outputs": [
    {
     "name": "stdout",
     "output_type": "stream",
     "text": [
      " * postgresql://postgres@localhost:5432/postgres\n",
      "1 rows affected.\n"
     ]
    },
    {
     "data": {
      "text/html": [
       "<table>\n",
       "    <thead>\n",
       "        <tr>\n",
       "            <th>avg</th>\n",
       "        </tr>\n",
       "    </thead>\n",
       "    <tbody>\n",
       "        <tr>\n",
       "            <td>563.2902033271719039</td>\n",
       "        </tr>\n",
       "    </tbody>\n",
       "</table>"
      ],
      "text/plain": [
       "[(Decimal('563.2902033271719039'),)]"
      ]
     },
     "execution_count": 20,
     "metadata": {},
     "output_type": "execute_result"
    }
   ],
   "source": [
    "%%sql\n",
    "select avg(querytime) from results;"
   ]
  },
  {
   "cell_type": "code",
   "execution_count": 21,
   "metadata": {},
   "outputs": [
    {
     "name": "stdout",
     "output_type": "stream",
     "text": [
      " * postgresql://postgres@localhost:5432/postgres\n",
      "1 rows affected.\n"
     ]
    },
    {
     "data": {
      "text/html": [
       "<table>\n",
       "    <thead>\n",
       "        <tr>\n",
       "            <th>?column?</th>\n",
       "        </tr>\n",
       "    </thead>\n",
       "    <tbody>\n",
       "        <tr>\n",
       "            <td>104 days, 1:30:11.680390</td>\n",
       "        </tr>\n",
       "    </tbody>\n",
       "</table>"
      ],
      "text/plain": [
       "[(datetime.timedelta(days=104, seconds=5411, microseconds=680390),)]"
      ]
     },
     "execution_count": 21,
     "metadata": {},
     "output_type": "execute_result"
    }
   ],
   "source": [
    "%%sql\n",
    "select now() - min(started) from jobs;"
   ]
  },
  {
   "cell_type": "markdown",
   "metadata": {},
   "source": [
    "Size of postgres data\n",
    "====================="
   ]
  },
  {
   "cell_type": "code",
   "execution_count": 22,
   "metadata": {},
   "outputs": [
    {
     "name": "stdout",
     "output_type": "stream",
     "text": [
      " * postgresql://postgres@localhost:5432/postgres\n",
      "5 rows affected.\n"
     ]
    },
    {
     "data": {
      "text/html": [
       "<table>\n",
       "    <thead>\n",
       "        <tr>\n",
       "            <th>table_schema</th>\n",
       "            <th>table_name</th>\n",
       "            <th>row_estimate</th>\n",
       "            <th>total</th>\n",
       "            <th>index</th>\n",
       "            <th>toast</th>\n",
       "            <th>table</th>\n",
       "        </tr>\n",
       "    </thead>\n",
       "    <tbody>\n",
       "        <tr>\n",
       "            <td>public</td>\n",
       "            <td>apks</td>\n",
       "            <td>-1.0</td>\n",
       "            <td>554 MB</td>\n",
       "            <td>0 bytes</td>\n",
       "            <td>554 MB</td>\n",
       "            <td>8192 bytes</td>\n",
       "        </tr>\n",
       "        <tr>\n",
       "            <td>public</td>\n",
       "            <td>jobs</td>\n",
       "            <td>1090.0</td>\n",
       "            <td>8296 kB</td>\n",
       "            <td>48 kB</td>\n",
       "            <td>6432 kB</td>\n",
       "            <td>1816 kB</td>\n",
       "        </tr>\n",
       "        <tr>\n",
       "            <td>public</td>\n",
       "            <td>resultdata</td>\n",
       "            <td>1336.0</td>\n",
       "            <td>5696 kB</td>\n",
       "            <td>64 kB</td>\n",
       "            <td>5328 kB</td>\n",
       "            <td>304 kB</td>\n",
       "        </tr>\n",
       "        <tr>\n",
       "            <td>public</td>\n",
       "            <td>results</td>\n",
       "            <td>1082.0</td>\n",
       "            <td>1968 kB</td>\n",
       "            <td>40 kB</td>\n",
       "            <td>64 kB</td>\n",
       "            <td>1864 kB</td>\n",
       "        </tr>\n",
       "        <tr>\n",
       "            <td>pg_catalog</td>\n",
       "            <td>pg_proc</td>\n",
       "            <td>3244.0</td>\n",
       "            <td>1192 kB</td>\n",
       "            <td>336 kB</td>\n",
       "            <td>56 kB</td>\n",
       "            <td>800 kB</td>\n",
       "        </tr>\n",
       "    </tbody>\n",
       "</table>"
      ],
      "text/plain": [
       "[('public', 'apks', -1.0, '554 MB', '0 bytes', '554 MB', '8192 bytes'),\n",
       " ('public', 'jobs', 1090.0, '8296 kB', '48 kB', '6432 kB', '1816 kB'),\n",
       " ('public', 'resultdata', 1336.0, '5696 kB', '64 kB', '5328 kB', '304 kB'),\n",
       " ('public', 'results', 1082.0, '1968 kB', '40 kB', '64 kB', '1864 kB'),\n",
       " ('pg_catalog', 'pg_proc', 3244.0, '1192 kB', '336 kB', '56 kB', '800 kB')]"
      ]
     },
     "execution_count": 22,
     "metadata": {},
     "output_type": "execute_result"
    }
   ],
   "source": [
    "%%sql\n",
    "WITH RECURSIVE pg_inherit(inhrelid, inhparent) AS\n",
    "    (select inhrelid, inhparent\n",
    "    FROM pg_inherits\n",
    "    UNION\n",
    "    SELECT child.inhrelid, parent.inhparent\n",
    "    FROM pg_inherit child, pg_inherits parent\n",
    "    WHERE child.inhparent = parent.inhrelid),\n",
    "pg_inherit_short AS (SELECT * FROM pg_inherit WHERE inhparent NOT IN (SELECT inhrelid FROM pg_inherit))\n",
    "SELECT table_schema\n",
    "    , TABLE_NAME\n",
    "    , row_estimate\n",
    "    , pg_size_pretty(total_bytes) AS total\n",
    "    , pg_size_pretty(index_bytes) AS INDEX\n",
    "    , pg_size_pretty(toast_bytes) AS toast\n",
    "    , pg_size_pretty(table_bytes) AS TABLE\n",
    "  FROM (\n",
    "    SELECT *, total_bytes-index_bytes-COALESCE(toast_bytes,0) AS table_bytes\n",
    "    FROM (\n",
    "         SELECT c.oid\n",
    "              , nspname AS table_schema\n",
    "              , relname AS TABLE_NAME\n",
    "              , SUM(c.reltuples) OVER (partition BY parent) AS row_estimate\n",
    "              , SUM(pg_total_relation_size(c.oid)) OVER (partition BY parent) AS total_bytes\n",
    "              , SUM(pg_indexes_size(c.oid)) OVER (partition BY parent) AS index_bytes\n",
    "              , SUM(pg_total_relation_size(reltoastrelid)) OVER (partition BY parent) AS toast_bytes\n",
    "              , parent\n",
    "          FROM (\n",
    "                SELECT pg_class.oid\n",
    "                    , reltuples\n",
    "                    , relname\n",
    "                    , relnamespace\n",
    "                    , pg_class.reltoastrelid\n",
    "                    , COALESCE(inhparent, pg_class.oid) parent\n",
    "                FROM pg_class\n",
    "                    LEFT JOIN pg_inherit_short ON inhrelid = oid\n",
    "                WHERE relkind IN ('r', 'p')\n",
    "             ) c\n",
    "             LEFT JOIN pg_namespace n ON n.oid = c.relnamespace\n",
    "  ) a\n",
    "  WHERE oid = parent\n",
    ") a\n",
    "ORDER BY total_bytes DESC limit 5;"
   ]
  },
  {
   "cell_type": "markdown",
   "metadata": {},
   "source": [
    "Inspection of exceptions\n",
    "========================"
   ]
  },
  {
   "cell_type": "code",
   "execution_count": 23,
   "metadata": {
    "tags": []
   },
   "outputs": [
    {
     "name": "stdout",
     "output_type": "stream",
     "text": [
      " * postgresql://postgres@localhost:5432/postgres\n",
      "0 rows affected.\n"
     ]
    },
    {
     "data": {
      "text/html": [
       "<table>\n",
       "    <thead>\n",
       "        <tr>\n",
       "            <th>id</th>\n",
       "            <th>?column?</th>\n",
       "            <th>replace</th>\n",
       "        </tr>\n",
       "    </thead>\n",
       "    <tbody>\n",
       "    </tbody>\n",
       "</table>"
      ],
      "text/plain": [
       "[]"
      ]
     },
     "execution_count": 23,
     "metadata": {},
     "output_type": "execute_result"
    }
   ],
   "source": [
    "%%sql\n",
    "select id,config::json->'apkPath',replace(stderr,'$','\\$') from jobs where stderr like '%Exception%';"
   ]
  },
  {
   "cell_type": "code",
   "execution_count": 24,
   "metadata": {},
   "outputs": [
    {
     "name": "stdout",
     "output_type": "stream",
     "text": [
      " * postgresql://postgres@localhost:5432/postgres\n",
      "1 rows affected.\n"
     ]
    },
    {
     "data": {
      "text/html": [
       "<table>\n",
       "    <thead>\n",
       "        <tr>\n",
       "            <th>total_locations_computed</th>\n",
       "        </tr>\n",
       "    </thead>\n",
       "    <tbody>\n",
       "        <tr>\n",
       "            <td>1082</td>\n",
       "        </tr>\n",
       "    </tbody>\n",
       "</table>"
      ],
      "text/plain": [
       "[(1082,)]"
      ]
     },
     "execution_count": 24,
     "metadata": {},
     "output_type": "execute_result"
    }
   ],
   "source": [
    "#count of total results\n",
    "%sql select count(*) as Total_locations_computed from results"
   ]
  },
  {
   "cell_type": "code",
   "execution_count": null,
   "metadata": {},
   "outputs": [],
   "source": []
  }
 ],
 "metadata": {
  "kernelspec": {
   "display_name": "Python 3 (ipykernel)",
   "language": "python",
   "name": "python3"
  },
  "language_info": {
   "codemirror_mode": {
    "name": "ipython",
    "version": 3
   },
   "file_extension": ".py",
   "mimetype": "text/x-python",
   "name": "python",
   "nbconvert_exporter": "python",
   "pygments_lexer": "ipython3",
   "version": "3.8.10"
  }
 },
 "nbformat": 4,
 "nbformat_minor": 4
}
