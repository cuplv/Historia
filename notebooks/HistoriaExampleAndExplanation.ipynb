{
 "cells": [
  {
   "cell_type": "markdown",
   "metadata": {},
   "source": [
    "Example and Explanation of Using Historia\n",
    "-----------------------------------------------------------\n",
    "\n",
    "This notebook will walk through how to use Historia on an example Android application.\n",
    "The process is roughly:\n",
    "1. Choose a location and safety property in the application\n",
    "2. Run Historia with no additional CBCFTL specifications\n",
    "3. Look at the alarm\n",
    "4. Add CBCFTL specifications to remove the alarm\n",
    "5. After adding enough sound CBCFTL specifications, we can prove the example\n",
    "\n",
    "The example we will be using is the motivating example of our paper.  The full compiled app and source code may be found in the `AntennapodPlayerFragment_fix` directory.  However, feel free to modify this notebook and run it on other open source applications.  The only external input to this notebook that is specific to this example is the APK compiled in debug mode.  The CBCFTL specifications used are written below."
   ]
  },
  {
   "cell_type": "code",
   "execution_count": 2,
   "metadata": {},
   "outputs": [
    {
     "data": {
      "text/plain": [
       "\u001b[36minputApk\u001b[39m: \u001b[32mString\u001b[39m = \u001b[32m\"/home/notebooks/AntennapodPlayerFragment_fix/app/build/outputs/apk/debug/app-debug.apk\"\u001b[39m"
      ]
     },
     "execution_count": 2,
     "metadata": {},
     "output_type": "execute_result"
    }
   ],
   "source": [
    "// location of the apk under analysis\n",
    "val inputApk = \"/home/notebooks/AntennapodPlayerFragment_fix/app/build/outputs/apk/debug/app-debug.apk\"\n",
    "\n",
    "// a few dependencies for the notebook:\n",
    "import $ivy.`com.github.pathikrit::better-files:3.9.1`\n",
    "import $ivy.`com.lihaoyi:ujson_2.13:1.3.8`\n",
    "import $ivy.`com.lihaoyi::scalatags:0.12.0`"
   ]
  },
  {
   "cell_type": "markdown",
   "metadata": {},
   "source": [
    "Choosing a Location and Safety Property\n",
    "---------------------------------------\n",
    "\n",
    "For reference, the code we are analyzing is printed by the cell below."
   ]
  },
  {
   "cell_type": "code",
   "execution_count": 19,
   "metadata": {},
   "outputs": [
    {
     "name": "stdout",
     "output_type": "stream",
     "text": [
      "1  package com.example.row1antennapodrxjava.ui.main;\n",
      "25  public class PlayerFragment extends Fragment implements Action1<Object> {\n",
      "27      private Subscription sub;\n",
      "29      public static PlayerFragment newInstance() {\n",
      "30          return new PlayerFragment();\n",
      "31      }\n",
      "33      @Nullable\n",
      "34      @Override\n",
      "35      public View onCreateView(@NonNull LayoutInflater inflater, @Nullable ViewGroup container,\n",
      "36                               @Nullable Bundle savedInstanceState) {\n",
      "37          return inflater.inflate(R.layout.main_fragment, container, false);\n",
      "38      }\n",
      "40      @Override\n",
      "41      public void onCreate(@Nullable Bundle savedInstanceState) {\n",
      "42          super.onCreate(savedInstanceState);\n",
      "43      }\n",
      "45      @Override\n",
      "46      public void onActivityCreated(@Nullable Bundle savedInstanceState) {\n",
      "47          super.onActivityCreated(savedInstanceState);\n",
      "48          sub = Single.create(a -> {\n",
      "55          }).subscribeOn(Schedulers.newThread())\n",
      "56                  .observeOn(AndroidSchedulers.mainThread())\n",
      "57                  .subscribe(this);\n",
      "58      }\n",
      "60      @Override\n",
      "61      public void call(Object o) {\n",
      "62          Activity act = getActivity();\n",
      "63          act.toString(); // Can this location crash?\n",
      "64      }\n",
      "65      @Override\n",
      "66      public void onDestroy() {\n",
      "67          super.onDestroy();\n",
      "68          sub.unsubscribe();\n",
      "69      }\n",
      "70  }\n"
     ]
    },
    {
     "data": {
      "text/plain": [
       "\u001b[32mimport \u001b[39m\u001b[36mbetter.files._\n",
       "\n",
       "\u001b[39m"
      ]
     },
     "execution_count": 19,
     "metadata": {},
     "output_type": "execute_result"
    }
   ],
   "source": [
    "import better.files._\n",
    "\n",
    "println(File(\"/home/notebooks/AntennapodPlayerFragment_fix/app/src/main/java/com/example/row1antennapodrxjava/ui/main/PlayerFragment.java\").contentAsString\n",
    "        .split('\\n')\n",
    "        .zipWithIndex // add line numbers\n",
    "        .filter{case (line,ind) => !line.startsWith(\"import\") && !line.trim.startsWith(\"//\") && line.trim != \"\"} // remove some clutter\n",
    "        .map{case (line,ind) => s\"${ind + 1}  $line\"}\n",
    "        .mkString(\"\\n\")\n",
    "       ) "
   ]
  },
  {
   "cell_type": "markdown",
   "metadata": {},
   "source": [
    "The code above is a more complete version of the code in Figure 2 (a).  We would like to prove that dereferencing `act` on line 27 cannot crash.  The first step is to tell Historia what we would like to prove and where it is.  This is done by creating a `InitialQuery`, Specifically a `ReceiverNonNull`."
   ]
  },
  {
   "cell_type": "code",
   "execution_count": 32,
   "metadata": {},
   "outputs": [
    {
     "data": {
      "text/plain": [
       "\u001b[32mimport \u001b[39m\u001b[36medu.colorado.plv.bounder.symbolicexecutor.state.{InitialQuery,ReceiverNonNull}\n",
       "\u001b[39m\n",
       "\u001b[32mimport \u001b[39m\u001b[36medu.colorado.plv.bounder.lifestate.LifeState\n",
       "\n",
       "// The method signature unambiguously identifies the method in the application\n",
       "\u001b[39m\n",
       "\u001b[36mmethodSignature\u001b[39m: \u001b[32mLifeState\u001b[39m.\u001b[32mSignature\u001b[39m = \u001b[33mSignature\u001b[39m(\n",
       "  \u001b[32m\"com.example.row1antennapodrxjava.ui.main.PlayerFragment\"\u001b[39m,\n",
       "  \u001b[32m\"void call(java.lang.Object)\"\u001b[39m\n",
       ")\n",
       "\u001b[36minitialQuery\u001b[39m: \u001b[32mReceiverNonNull\u001b[39m = \u001b[33mReceiverNonNull\u001b[39m(\n",
       "  \u001b[33mSignature\u001b[39m(\n",
       "    \u001b[32m\"com.example.row1antennapodrxjava.ui.main.PlayerFragment\"\u001b[39m,\n",
       "    \u001b[32m\"void call(java.lang.Object)\"\u001b[39m\n",
       "  ),\n",
       "  \u001b[32m63\u001b[39m,\n",
       "  \u001b[33mSome\u001b[39m(\u001b[32m\".*toString.*\"\u001b[39m)\n",
       ")"
      ]
     },
     "execution_count": 32,
     "metadata": {},
     "output_type": "execute_result"
    }
   ],
   "source": [
    "import edu.colorado.plv.bounder.symbolicexecutor.state.{InitialQuery,ReceiverNonNull}\n",
    "import edu.colorado.plv.bounder.lifestate.LifeState\n",
    "\n",
    "// The method signature unambiguously identifies the method in the application\n",
    "val methodSignature = LifeState.Signature(\"com.example.row1antennapodrxjava.ui.main.PlayerFragment\",\n",
    "          \"void call(java.lang.Object)\")\n",
    "\n",
    "val initialQuery = ReceiverNonNull(\n",
    "        methodSignature,\n",
    "        63, // line number in source code file\n",
    "        Some(\".*toString.*\") // regular expression matching receiver (in case multiple dereferences on one line)\n",
    "    )"
   ]
  },
  {
   "cell_type": "markdown",
   "metadata": {},
   "source": [
    "Run Historia With No Additional CBCFTL Specifications\n",
    "-----------------------------------------------------\n",
    "\n",
    "Next we run historia with no constraints on what the framework may do.  In many cases, an app can be proven safe before adding CBCFTL specifications.  If it cannot, the counter example is useful for writing the CBCFTL."
   ]
  },
  {
   "cell_type": "code",
   "execution_count": 33,
   "metadata": {},
   "outputs": [
    {
     "data": {
      "text/plain": [
       "\u001b[36mjarpath\u001b[39m: \u001b[32mString\u001b[39m = \u001b[32m\"/home/bounder/target/scala-2.13/soot_hopper-assembly-0.1.jar\"\u001b[39m\n",
       "\u001b[32mimport \u001b[39m\u001b[36medu.colorado.plv.bounder.{Driver,RunConfig, BounderUtil} // Historia utilities\n",
       "\u001b[39m\n",
       "\u001b[32mimport \u001b[39m\u001b[36mupickle.default.read\n",
       "\u001b[39m\n",
       "\u001b[32mimport \u001b[39m\u001b[36mupickle.default.write\n",
       "\n",
       "// define a function to call the JAR implementation of Historia with a configuration\n",
       "// If changes are made to Historia, run \"sbt compile\" in the /home/implementation directory to regenerate the Historia JAR\n",
       "\n",
       "\u001b[39m\n",
       "defined \u001b[32mfunction\u001b[39m \u001b[36mrunHistoriaWithSpec\u001b[39m"
      ]
     },
     "execution_count": 33,
     "metadata": {},
     "output_type": "execute_result"
    }
   ],
   "source": [
    "// load historia code\n",
    "\n",
    "val jarpath = s\"/home/bounder/target/scala-2.13/soot_hopper-assembly-0.1.jar\"\n",
    "interp.load.cp(os.Path(jarpath))\n",
    "\n",
    "import edu.colorado.plv.bounder.{Driver,RunConfig, BounderUtil} // Historia utilities\n",
    "import upickle.default.read\n",
    "import upickle.default.write\n",
    "\n",
    "// define a function to call the JAR implementation of Historia with a configuration\n",
    "// If changes are made to Historia, run \"sbt compile\" in the /home/implementation directory to regenerate the Historia JAR\n",
    "\n",
    "def runHistoriaWithSpec(configPath:File):Driver.LocResult = {\n",
    "    val javaMemLimit=8 // Gb Note that this only limits JVM not JNI which can go significantly higher\n",
    "    val historiaJar = \"/home/bounder/target/scala-2.13/soot_hopper-assembly-0.1.jar\"\n",
    "    val apkRootDir = \"/home/historia_generalizability\"\n",
    "    val outDir = configPath.parent.toString\n",
    "    val config = read[RunConfig](configPath.contentAsString)\n",
    "    val outSubdir = config.outFolder.get.replace(\"${baseDirOut}\",outDir)\n",
    "    val cmd = s\"java -Xmx${javaMemLimit}G -jar ${historiaJar} -m verify -c ${configPath} -b ${apkRootDir} -u ${outDir} -o MEM --debug\"\n",
    "    BounderUtil.runCmdStdout(cmd)\n",
    "\n",
    "    read[Driver.LocResult]((outSubdir / \"result_0.txt\").contentAsString)\n",
    "}\n",
    "\n"
   ]
  },
  {
   "cell_type": "markdown",
   "metadata": {},
   "source": [
    "Next we create the `RunConfig` that specifies things like the APK, the output folder, the initial query, and the CBCFTL.  This is all written to a `.json` file used later."
   ]
  },
  {
   "cell_type": "code",
   "execution_count": 34,
   "metadata": {},
   "outputs": [
    {
     "data": {
      "text/plain": [
       "\u001b[36moutputDir\u001b[39m: \u001b[32mFile\u001b[39m = /home/notebooks/ExampleOut\n",
       "\u001b[36mcfg\u001b[39m: \u001b[32mRunConfig\u001b[39m = \u001b[33mRunConfig\u001b[39m(\n",
       "  \u001b[32m\"/home/notebooks/AntennapodPlayerFragment_fix/app/build/outputs/apk/debug/app-debug.apk\"\u001b[39m,\n",
       "  \u001b[33mSome\u001b[39m(\u001b[32m\"/home/notebooks/ExampleOut\"\u001b[39m),\n",
       "  \u001b[32mNone\u001b[39m,\n",
       "  TopSpecSet,\n",
       "  \u001b[33mList\u001b[39m(\n",
       "    \u001b[33mReceiverNonNull\u001b[39m(\n",
       "      \u001b[33mSignature\u001b[39m(\n",
       "        \u001b[32m\"com.example.row1antennapodrxjava.ui.main.PlayerFragment\"\u001b[39m,\n",
       "        \u001b[32m\"void call(java.lang.Object)\"\u001b[39m\n",
       "      ),\n",
       "      \u001b[32m63\u001b[39m,\n",
       "      \u001b[33mSome\u001b[39m(\u001b[32m\".*toString.*\"\u001b[39m)\n",
       "    )\n",
       "  ),\n",
       "  \u001b[32m-1\u001b[39m,\n",
       "  \u001b[32m5\u001b[39m,\n",
       "  \u001b[33mExpTag\u001b[39m(\u001b[32m\"\"\u001b[39m, \u001b[32m\"\"\u001b[39m, \u001b[32m\"\"\u001b[39m),\n",
       "  \u001b[32m600\u001b[39m,\n",
       "  true,\n",
       "  \u001b[32mNone\u001b[39m\n",
       ")\n",
       "\u001b[36mcfgPath\u001b[39m: \u001b[32mFile\u001b[39m = /home/notebooks/ExampleOut/cfg.json\n",
       "\u001b[36mres33_3\u001b[39m: \u001b[32mFile\u001b[39m = /home/notebooks/ExampleOut/cfg.json"
      ]
     },
     "execution_count": 34,
     "metadata": {},
     "output_type": "execute_result"
    }
   ],
   "source": [
    "val outputDir = File(\"/home/notebooks/ExampleOut\")\n",
    "val cfg =  RunConfig(apkPath = inputApk.toString, \n",
    "          outFolder = Some(outputDir.toString),\n",
    "          initialQuery = List(initialQuery))\n",
    "\n",
    "val cfgPath = (outputDir / \"cfg.json\")\n",
    "cfgPath.overwrite(write(cfg))  "
   ]
  },
  {
   "cell_type": "markdown",
   "metadata": {},
   "source": [
    "Now we can call Historia."
   ]
  },
  {
   "cell_type": "code",
   "execution_count": 35,
   "metadata": {},
   "outputs": [
    {
     "data": {
      "text/plain": [
       "\u001b[36mres34\u001b[39m: \u001b[32mDriver\u001b[39m.\u001b[32mLocResult\u001b[39m = \u001b[33mLocResult\u001b[39m(\n",
       "  \u001b[33mReceiverNonNull\u001b[39m(\n",
       "    \u001b[33mSignature\u001b[39m(\n",
       "      \u001b[32m\"com.example.row1antennapodrxjava.ui.main.PlayerFragment\"\u001b[39m,\n",
       "      \u001b[32m\"void call(java.lang.Object)\"\u001b[39m\n",
       "    ),\n",
       "    \u001b[32m63\u001b[39m,\n",
       "    \u001b[33mSome\u001b[39m(\u001b[32m\".*toString.*\"\u001b[39m)\n",
       "  ),\n",
       "  \u001b[32m-1\u001b[39m,\n",
       "  \u001b[33mAppLoc\u001b[39m(\n",
       "    \u001b[33mSerializedIRMethodLoc\u001b[39m(\n",
       "      \u001b[32m\"com.example.row1antennapodrxjava.ui.main.PlayerFragment\"\u001b[39m,\n",
       "      \u001b[32m\"void call(java.lang.Object)\"\u001b[39m,\n",
       "      \u001b[33mList\u001b[39m(\n",
       "        \u001b[33mSome\u001b[39m(\n",
       "          \u001b[33mLocalWrapper\u001b[39m(\n",
       "            \u001b[32m\"@this\"\u001b[39m,\n",
       "            \u001b[32m\"com.example.row1antennapodrxjava.ui.main.PlayerFragment\"\u001b[39m\n",
       "          )\n",
       "        ),\n",
       "        \u001b[33mSome\u001b[39m(\u001b[33mLocalWrapper\u001b[39m(\u001b[32m\"@parameter0\"\u001b[39m, \u001b[32m\"java.lang.Object\"\u001b[39m))\n",
       "      )\n",
       "    ),\n",
       "    \u001b[33mSerializedIRLineLoc\u001b[39m(\n",
       "      \u001b[32m63\u001b[39m,\n",
       "      \u001b[32m\"line: 63 virtualinvoke $r2.<java.lang.Object: java.lang.String toString()>()\"\u001b[39m,\n",
       "      \u001b[32m9848877\u001b[39m\n",
       "    ),\n",
       "    true\n",
       "  ),\n",
       "  Witnessed,\n",
       "  MultiCallback,\n",
       "  \u001b[32m1L\u001b[39m,\n",
       "  \u001b[33mDepthResult\u001b[39m(\u001b[32m9\u001b[39m, \u001b[32m1\u001b[39m, \u001b[32m1\u001b[39m, Witnessed),\n",
       "  \u001b[33mList\u001b[39m(\n",
       "    \u001b[33mList\u001b[39m(\n",
       "      \u001b[32m\"witnessed\"\u001b[39m,\n",
       "..."
      ]
     },
     "execution_count": 35,
     "metadata": {},
     "output_type": "execute_result"
    }
   ],
   "source": [
    "runHistoriaWithSpec(cfgPath)"
   ]
  },
  {
   "cell_type": "markdown",
   "metadata": {},
   "source": [
    "Look at the Alarm\n",
    "-----------------\n",
    "Next we look at the alarm that was found.  In this case, it finds the initial state just before the `call` callback.  The witness also shows that `getActivity` was invoked, this is important because it is where a null value may come from."
   ]
  },
  {
   "cell_type": "code",
   "execution_count": 38,
   "metadata": {},
   "outputs": [
    {
     "name": "stdout",
     "output_type": "stream",
     "text": [
      "witnessed\n",
      "    WITNESSED: [CB Inv] com.example.row1antennapodrxjava.ui.main.PlayerFragment void call(java.lang.Object)\n",
      "       state: (    heap:           pure:          types: List()    trace: )\n",
      "    pre-line: 62 $r2 = virtualinvoke r0.<com.example.row1antennapodrxjava.ui.main.PlayerFragment: androidx.fragment.app.FragmentActivity getActivity()>()\n",
      "       state: ( locals:          heap:           pure:          types: List()    trace: )\n",
      "    [CI Inv merge] androidx.fragment.app.FragmentActivity getActivity()\n",
      "       state: ([CI Ret] androidx.fragment.app.Fragment androidx.fragment.app.FragmentActivity getActivity() locals:       locals:          heap:           pure:          types: List()    trace: )\n",
      "    [CI Ret merge] androidx.fragment.app.FragmentActivity getActivity()\n",
      "       state: ([CI Ret] androidx.fragment.app.Fragment androidx.fragment.app.FragmentActivity getActivity() locals:       locals:          heap:           pure:          types: List()    trace: )\n",
      "\n"
     ]
    }
   ],
   "source": [
    "println(File(\"/home/notebooks/ExampleOut/wit.witnesses\").contentAsString)"
   ]
  },
  {
   "cell_type": "markdown",
   "metadata": {},
   "source": [
    "Add CBCFTL Specifications to Remove the Alarm\n",
    "--------------------------\n",
    "\n",
    "Writing a CBCFTL specification consists of looking at counter examples like the one above and explaining when the framework can *NOT* do something like return a `null` value.  An easy, yet unsound, CBCFTL specification is to say `getActivity` cannot return null ever.  However, writing this specification is a useful step to show how CBCFTL specifications are constructed.  We will write a sound specification later.\n",
    "\n",
    "We write that as `null = cb a.getActivity() -[]-> false` in the paper.  Below we show how to write this same thing for the implementation."
   ]
  },
  {
   "cell_type": "code",
   "execution_count": 39,
   "metadata": {},
   "outputs": [
    {
     "data": {
      "text/plain": [
       "\u001b[32mimport \u001b[39m\u001b[36medu.colorado.plv.bounder.lifestate.LifeState.{LSSpec, LSFalse,LSConstraint}\n",
       "\u001b[39m\n",
       "\u001b[32mimport \u001b[39m\u001b[36medu.colorado.plv.bounder.symbolicexecutor.state.{NamedPureVar,NullVal,Equals}\n",
       "\u001b[39m\n",
       "\u001b[32mimport \u001b[39m\u001b[36medu.colorado.plv.bounder.lifestate.SpecSignatures\n",
       "\n",
       "\u001b[39m\n",
       "\u001b[36ma\u001b[39m: \u001b[32mNamedPureVar\u001b[39m = \u001b[33mNamedPureVar\u001b[39m(\u001b[32m\"a\"\u001b[39m)\n",
       "\u001b[36mf\u001b[39m: \u001b[32mNamedPureVar\u001b[39m = \u001b[33mNamedPureVar\u001b[39m(\u001b[32m\"f\"\u001b[39m)\n",
       "\u001b[36mgetActivityNullUnsound\u001b[39m: \u001b[32mLSSpec\u001b[39m = \u001b[33mLSSpec\u001b[39m(\n",
       "  \u001b[33mList\u001b[39m(\u001b[33mNamedPureVar\u001b[39m(\u001b[32m\"a\"\u001b[39m), \u001b[33mNamedPureVar\u001b[39m(\u001b[32m\"f\"\u001b[39m)),\n",
       "  \u001b[33mList\u001b[39m(),\n",
       "  False,\n",
       "  \u001b[33mOAbsMsg\u001b[39m(\n",
       "    CIExit,\n",
       "    \u001b[33mSubClassMatcher\u001b[39m(\n",
       "      \u001b[33mSet\u001b[39m(\n",
       "        \u001b[32m\"android.app.Fragment\"\u001b[39m,\n",
       "        \u001b[32m\"androidx.fragment.app.Fragment\"\u001b[39m,\n",
       "        \u001b[32m\"android.support.v4.app.Fragment\"\u001b[39m\n",
       "      ),\n",
       "      \u001b[32m\".*Activity getActivity\\\\(\\\\)\"\u001b[39m,\n",
       "      \u001b[32m\"Fragment_getActivity\"\u001b[39m\n",
       "    ),\n",
       "    \u001b[33mList\u001b[39m(\u001b[33mNamedPureVar\u001b[39m(\u001b[32m\"a\"\u001b[39m), \u001b[33mNamedPureVar\u001b[39m(\u001b[32m\"f\"\u001b[39m))\n",
       "  ),\n",
       "  \u001b[33mSet\u001b[39m(\u001b[33mLSConstraint\u001b[39m(\u001b[33mNamedPureVar\u001b[39m(\u001b[32m\"a\"\u001b[39m),  == , NULL))\n",
       ")"
      ]
     },
     "execution_count": 39,
     "metadata": {},
     "output_type": "execute_result"
    }
   ],
   "source": [
    "\n",
    "import edu.colorado.plv.bounder.lifestate.LifeState.{LSSpec, LSFalse,LSConstraint}\n",
    "import edu.colorado.plv.bounder.symbolicexecutor.state.{NamedPureVar,NullVal,Equals}\n",
    "import edu.colorado.plv.bounder.lifestate.SpecSignatures\n",
    "\n",
    "val a = NamedPureVar(\"a\")  // variables used in spec\n",
    "val f = NamedPureVar(\"f\")\n",
    "\n",
    "val getActivityNullUnsound = LSSpec(a::f::Nil, Nil,\n",
    "    LSFalse, \n",
    "    SpecSignatures.Fragment_get_activity_exit, // abstract message f = cb a.getActivity()  (defined in Specifications.scala)\n",
    "    Set(LSConstraint(a, Equals, NullVal)))"
   ]
  },
  {
   "cell_type": "code",
   "execution_count": null,
   "metadata": {},
   "outputs": [],
   "source": []
  },
  {
   "cell_type": "code",
   "execution_count": 1,
   "metadata": {},
   "outputs": [
    {
     "data": {
      "text/plain": [
       "\u001b[36muserhome\u001b[39m: \u001b[32mString\u001b[39m = \u001b[32m\"/root\"\u001b[39m\n",
       "\u001b[36mjniPath\u001b[39m: \u001b[32mString\u001b[39m = \u001b[32m\"/root/software/z3/build\"\u001b[39m\n",
       "\u001b[36mnewPath\u001b[39m: \u001b[32mArray\u001b[39m[\u001b[32mString\u001b[39m] = \u001b[33mArray\u001b[39m(\n",
       "  \u001b[32m\"/root/software/z3/build\"\u001b[39m,\n",
       "  \u001b[32m\"/usr/lib/\"\u001b[39m,\n",
       "  \u001b[32m\"/usr/java/packages/lib\"\u001b[39m,\n",
       "  \u001b[32m\"/usr/lib64\"\u001b[39m,\n",
       "  \u001b[32m\"/lib64\"\u001b[39m,\n",
       "  \u001b[32m\"/lib\"\u001b[39m,\n",
       "  \u001b[32m\"/usr/lib\"\u001b[39m\n",
       ")\n",
       "\u001b[36mres0_3\u001b[39m: \u001b[32mString\u001b[39m = \u001b[32m\"/usr/lib/:/usr/java/packages/lib:/usr/lib64:/lib64:/lib:/usr/lib\"\u001b[39m\n",
       "\u001b[36msysPathsField\u001b[39m: \u001b[32mjava\u001b[39m.\u001b[32mlang\u001b[39m.\u001b[32mreflect\u001b[39m.\u001b[32mField\u001b[39m = private static java.lang.String[] java.lang.ClassLoader.sys_paths\n",
       "\u001b[36mjarpath\u001b[39m: \u001b[32mString\u001b[39m = \u001b[32m\"/home/bounder/target/scala-2.13/soot_hopper-assembly-0.1.jar\"\u001b[39m\n",
       "\u001b[32mimport \u001b[39m\u001b[36m$ivy.$                                          \n",
       "\u001b[39m\n",
       "\u001b[32mimport \u001b[39m\u001b[36m$ivy.$                                         \n",
       "\u001b[39m\n",
       "\u001b[32mimport \u001b[39m\u001b[36m$ivy.$                                           \n",
       "\n",
       "\u001b[39m\n",
       "\u001b[32mimport \u001b[39m\u001b[36m$ivy.$                             \n",
       "// import $ivy.`edu.colorado.plv.bounder:soot_hopper_2.13:0.1`\n",
       "\n",
       "\u001b[39m\n",
       "\u001b[32mimport \u001b[39m\u001b[36mplotly._, element._, layout._, Plotly._\n",
       "\u001b[39m\n",
       "\u001b[32mimport \u001b[39m\u001b[36mujson.Value\n",
       "\u001b[39m\n",
       "\u001b[32mimport \u001b[39m\u001b[36msys.process._\n",
       "\n",
       "\u001b[39m\n",
       "\u001b[32mimport \u001b[39m\u001b[36m$ivy.$                              \n",
       "\n",
       "\u001b[39m\n",
       "\u001b[32mimport \u001b[39m\u001b[36mjupyter.Displayer, jupyter.Displayers\n",
       "\u001b[39m\n",
       "\u001b[32mimport \u001b[39m\u001b[36mscala.collection.JavaConverters._\n",
       "\u001b[39m\n",
       "\u001b[32mimport \u001b[39m\u001b[36mscala.collection.mutable\n",
       "\u001b[39m\n",
       "\u001b[32mimport \u001b[39m\u001b[36mcom.github.nscala_time.time.Imports._\n",
       "\u001b[39m\n",
       "\u001b[32mimport \u001b[39m\u001b[36morg.joda.time.Period\u001b[39m"
      ]
     },
     "execution_count": 1,
     "metadata": {},
     "output_type": "execute_result"
    }
   ],
   "source": [
    "val userhome = System.getProperty(\"user.home\")\n",
    "val jniPath = s\"${userhome}/software/z3/build\"\n",
    "val newPath = Array(jniPath) ++  System.getProperty(\"java.library.path\").split(\":\")\n",
    "System.setProperty(\"java.library.path\",newPath.distinct.mkString(\":\"))\n",
    "val sysPathsField = classOf[ClassLoader].getDeclaredField(\"sys_paths\");\n",
    "sysPathsField.setAccessible(true);\n",
    "sysPathsField.set(null, null);\n",
    "\n",
    "import $ivy.`org.plotly-scala:plotly-almond_2.13:0.8.2`\n",
    "import $ivy.`com.github.pathikrit::better-files:3.9.1`\n",
    "import $ivy.`com.github.nscala-time::nscala-time:2.32.0`\n",
    "\n",
    "import $ivy.`com.lihaoyi:ujson_2.13:1.3.8`\n",
    "// import $ivy.`edu.colorado.plv.bounder:soot_hopper_2.13:0.1`\n",
    "\n",
    "import plotly._, element._, layout._, Plotly._\n",
    "import ujson.Value\n",
    "import sys.process._\n",
    "\n",
    "\n",
    "\n",
    "import jupyter.Displayer, jupyter.Displayers\n",
    "import scala.collection.JavaConverters._\n",
    "import scala.collection.mutable\n",
    "import com.github.nscala_time.time.Imports._\n",
    "import org.joda.time.Period"
   ]
  },
  {
   "cell_type": "code",
   "execution_count": 2,
   "metadata": {},
   "outputs": [
    {
     "name": "stdout",
     "output_type": "stream",
     "text": [
      "java.library.path set to: /root/software/z3/build:/usr/lib/:/usr/java/packages/lib:/usr/lib64:/lib64:/lib:/usr/lib\n"
     ]
    },
    {
     "data": {
      "text/plain": [
       "\u001b[32mimport \u001b[39m\u001b[36mbetter.files._\n",
       "\n",
       "\u001b[39m\n",
       "\u001b[32mimport \u001b[39m\u001b[36mscala.util.Random\n",
       "\u001b[39m\n",
       "\u001b[32mimport \u001b[39m\u001b[36medu.colorado.plv.bounder.{Driver,ExpTag,Action,RunConfig,PickleSpec}\n",
       "\u001b[39m\n",
       "\u001b[32mimport \u001b[39m\u001b[36medu.colorado.plv.bounder.lifestate.{SpecSpace,ViewSpec,SpecSignatures}\n",
       "\u001b[39m\n",
       "\u001b[32mimport \u001b[39m\u001b[36medu.colorado.plv.bounder.symbolicexecutor.state.{InitialQuery,Reachable,ReceiverNonNull, DisallowedCallin}\n",
       "\u001b[39m\n",
       "\u001b[32mimport \u001b[39m\u001b[36mupickle.default.read\n",
       "\u001b[39m\n",
       "\u001b[32mimport \u001b[39m\u001b[36mupickle.default.write\n",
       "\u001b[39m\n",
       "\u001b[32mimport \u001b[39m\u001b[36mscala.collection.parallel.CollectionConverters.{ImmutableSetIsParallelizable, IterableIsParallelizable}\n",
       "\u001b[39m\n",
       "\u001b[32mimport \u001b[39m\u001b[36medu.colorado.plv.bounder.ExperimentsDb\n",
       "\u001b[39m\n",
       "\u001b[32mimport \u001b[39m\u001b[36medu.colorado.plv.bounder.BounderUtil\n",
       "//import scala.concurrent.duration._\n",
       "\u001b[39m\n",
       "\u001b[32mimport \u001b[39m\u001b[36mscala.language.postfixOps\n",
       "\u001b[39m\n",
       "\u001b[32mimport \u001b[39m\u001b[36mslick.driver.H2Driver.api._\n",
       "\u001b[39m\n",
       "\u001b[32mimport \u001b[39m\u001b[36mslick.jdbc.GetResult\n",
       "\u001b[39m\n",
       "\u001b[32mimport \u001b[39m\u001b[36mslick.jdbc.SQLActionBuilder\n",
       "\u001b[39m\n",
       "\u001b[32mimport \u001b[39m\u001b[36mscala.concurrent.Await\n",
       "\u001b[39m\n",
       "\u001b[32mimport \u001b[39m\u001b[36malmond.interpreter.api.DisplayData\n",
       "\u001b[39m\n",
       "\u001b[32mimport \u001b[39m\u001b[36medu.colorado.plv.bounder.ir.Messages\n",
       "\n",
       "\n",
       "\u001b[39m\n",
       "\u001b[36mres1_18\u001b[39m: \u001b[32mString\u001b[39m = \u001b[32m\"/home/notebooks\"\u001b[39m\n",
       "\u001b[36mexpDir\u001b[39m: \u001b[32mFile\u001b[39m = /home/notebooks"
      ]
     },
     "execution_count": 2,
     "metadata": {},
     "output_type": "execute_result"
    }
   ],
   "source": [
    "import better.files._\n",
    "\n",
    "import scala.util.Random\n",
    "import edu.colorado.plv.bounder.{Driver,ExpTag,Action,RunConfig,PickleSpec}\n",
    "import edu.colorado.plv.bounder.lifestate.{SpecSpace,ViewSpec,SpecSignatures}\n",
    "import edu.colorado.plv.bounder.symbolicexecutor.state.{InitialQuery,Reachable,ReceiverNonNull, DisallowedCallin}\n",
    "\n",
    "import scala.collection.parallel.CollectionConverters.{ImmutableSetIsParallelizable, IterableIsParallelizable}\n",
    "import edu.colorado.plv.bounder.ExperimentsDb\n",
    "import edu.colorado.plv.bounder.BounderUtil\n",
    "//import scala.concurrent.duration._\n",
    "import scala.language.postfixOps\n",
    "import slick.driver.H2Driver.api._\n",
    "import slick.jdbc.GetResult\n",
    "import slick.jdbc.SQLActionBuilder\n",
    "import scala.concurrent.Await\n",
    "import almond.interpreter.api.DisplayData\n",
    "import edu.colorado.plv.bounder.ir.Messages\n",
    "\n",
    "\n",
    "Driver.setZ3Path(s\"${userhome}/software/z3/build\")\n",
    "\n",
    "// var android_home_possible = List(s\"${userhome}/Library/Android/sdk\", s\"${userhome}/Android/Sdk\")\n",
    "// var android_home = android_home_possible.find(p => File(p).exists()).get             \n",
    "// BounderUtil.setEnv(Map(\"DYLD_LIBRARY_PATH\" -> s\"${userhome}/software/z3/build\",\"ANDROID_HOME\" -> android_home,\"HOME\" -> userhome))\n",
    "\n",
    "System.setProperty(\"user.dir\", s\"${System.getProperty(\"user.home\")}/Documents/source/bounder/notebooks/ossExp/SpecGen\");\n",
    "val expDir = File(\"/home/notebooks\")"
   ]
  },
  {
   "cell_type": "code",
   "execution_count": null,
   "metadata": {},
   "outputs": [],
   "source": []
  },
  {
   "cell_type": "code",
   "execution_count": null,
   "metadata": {},
   "outputs": [],
   "source": []
  },
  {
   "cell_type": "code",
   "execution_count": null,
   "metadata": {},
   "outputs": [],
   "source": []
  },
  {
   "cell_type": "code",
   "execution_count": null,
   "metadata": {},
   "outputs": [],
   "source": []
  },
  {
   "cell_type": "code",
   "execution_count": null,
   "metadata": {},
   "outputs": [],
   "source": []
  }
 ],
 "metadata": {
  "kernelspec": {
   "display_name": "Scala",
   "language": "scala",
   "name": "scala"
  },
  "language_info": {
   "codemirror_mode": "text/x-scala",
   "file_extension": ".scala",
   "mimetype": "text/x-scala",
   "name": "scala",
   "nbconvert_exporter": "script",
   "version": "2.13.2"
  }
 },
 "nbformat": 4,
 "nbformat_minor": 4
}
