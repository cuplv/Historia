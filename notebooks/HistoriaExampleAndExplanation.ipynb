{
 "cells": [
  {
   "cell_type": "markdown",
   "metadata": {},
   "source": [
    "Example and Explanation of Using Historia\n",
    "-----------------------------------------------------------\n",
    "\n",
    "This notebook will walk through how to use Historia on an example Android application.\n",
    "The process is roughly:\n",
    "1. Choose a location and safety property in the application\n",
    "2. Run Historia with no additional CBCFTL specifications\n",
    "3. Look at the alarm\n",
    "4. Add CBCFTL specifications to remove the alarm\n",
    "5. After adding enough sound CBCFTL specifications, we can prove the example\n",
    "\n",
    "The example we will be using is the motivating example of our paper.  The full compiled app and source code may be found in the `AntennapodPlayerFragment_fix` directory.  However, feel free to modify this notebook and run it on other open source applications.  The only external input to this notebook that is specific to this example is the APK compiled in debug mode.  The CBCFTL specifications used are written below."
   ]
  },
  {
   "cell_type": "code",
   "execution_count": null,
   "metadata": {},
   "outputs": [],
   "source": [
    "val inputApk = \"\""
   ]
  },
  {
   "cell_type": "code",
   "execution_count": 1,
   "metadata": {},
   "outputs": [
    {
     "data": {
      "text/plain": [
       "\u001b[36muserhome\u001b[39m: \u001b[32mString\u001b[39m = \u001b[32m\"/root\"\u001b[39m\n",
       "\u001b[36mjniPath\u001b[39m: \u001b[32mString\u001b[39m = \u001b[32m\"/root/software/z3/build\"\u001b[39m\n",
       "\u001b[36mnewPath\u001b[39m: \u001b[32mArray\u001b[39m[\u001b[32mString\u001b[39m] = \u001b[33mArray\u001b[39m(\n",
       "  \u001b[32m\"/root/software/z3/build\"\u001b[39m,\n",
       "  \u001b[32m\"/usr/lib/\"\u001b[39m,\n",
       "  \u001b[32m\"/usr/java/packages/lib\"\u001b[39m,\n",
       "  \u001b[32m\"/usr/lib64\"\u001b[39m,\n",
       "  \u001b[32m\"/lib64\"\u001b[39m,\n",
       "  \u001b[32m\"/lib\"\u001b[39m,\n",
       "  \u001b[32m\"/usr/lib\"\u001b[39m\n",
       ")\n",
       "\u001b[36mres0_3\u001b[39m: \u001b[32mString\u001b[39m = \u001b[32m\"/usr/lib/:/usr/java/packages/lib:/usr/lib64:/lib64:/lib:/usr/lib\"\u001b[39m\n",
       "\u001b[36msysPathsField\u001b[39m: \u001b[32mjava\u001b[39m.\u001b[32mlang\u001b[39m.\u001b[32mreflect\u001b[39m.\u001b[32mField\u001b[39m = private static java.lang.String[] java.lang.ClassLoader.sys_paths\n",
       "\u001b[36mjarpath\u001b[39m: \u001b[32mString\u001b[39m = \u001b[32m\"/home/bounder/target/scala-2.13/soot_hopper-assembly-0.1.jar\"\u001b[39m\n",
       "\u001b[32mimport \u001b[39m\u001b[36m$ivy.$                                          \n",
       "\u001b[39m\n",
       "\u001b[32mimport \u001b[39m\u001b[36m$ivy.$                                         \n",
       "\u001b[39m\n",
       "\u001b[32mimport \u001b[39m\u001b[36m$ivy.$                                           \n",
       "\n",
       "\u001b[39m\n",
       "\u001b[32mimport \u001b[39m\u001b[36m$ivy.$                             \n",
       "// import $ivy.`edu.colorado.plv.bounder:soot_hopper_2.13:0.1`\n",
       "\n",
       "\u001b[39m\n",
       "\u001b[32mimport \u001b[39m\u001b[36mplotly._, element._, layout._, Plotly._\n",
       "\u001b[39m\n",
       "\u001b[32mimport \u001b[39m\u001b[36mujson.Value\n",
       "\u001b[39m\n",
       "\u001b[32mimport \u001b[39m\u001b[36msys.process._\n",
       "\n",
       "\u001b[39m\n",
       "\u001b[32mimport \u001b[39m\u001b[36m$ivy.$                              \n",
       "\n",
       "\u001b[39m\n",
       "\u001b[32mimport \u001b[39m\u001b[36mjupyter.Displayer, jupyter.Displayers\n",
       "\u001b[39m\n",
       "\u001b[32mimport \u001b[39m\u001b[36mscala.collection.JavaConverters._\n",
       "\u001b[39m\n",
       "\u001b[32mimport \u001b[39m\u001b[36mscala.collection.mutable\n",
       "\u001b[39m\n",
       "\u001b[32mimport \u001b[39m\u001b[36mcom.github.nscala_time.time.Imports._\n",
       "\u001b[39m\n",
       "\u001b[32mimport \u001b[39m\u001b[36morg.joda.time.Period\u001b[39m"
      ]
     },
     "execution_count": 1,
     "metadata": {},
     "output_type": "execute_result"
    }
   ],
   "source": [
    "val userhome = System.getProperty(\"user.home\")\n",
    "val jniPath = s\"${userhome}/software/z3/build\"\n",
    "val newPath = Array(jniPath) ++  System.getProperty(\"java.library.path\").split(\":\")\n",
    "System.setProperty(\"java.library.path\",newPath.distinct.mkString(\":\"))\n",
    "val sysPathsField = classOf[ClassLoader].getDeclaredField(\"sys_paths\");\n",
    "sysPathsField.setAccessible(true);\n",
    "sysPathsField.set(null, null);\n",
    "val jarpath = s\"/home/bounder/target/scala-2.13/soot_hopper-assembly-0.1.jar\"\n",
    "interp.load.cp(os.Path(jarpath))\n",
    "\n",
    "import $ivy.`org.plotly-scala:plotly-almond_2.13:0.8.2`\n",
    "import $ivy.`com.github.pathikrit::better-files:3.9.1`\n",
    "import $ivy.`com.github.nscala-time::nscala-time:2.32.0`\n",
    "\n",
    "import $ivy.`com.lihaoyi:ujson_2.13:1.3.8`\n",
    "// import $ivy.`edu.colorado.plv.bounder:soot_hopper_2.13:0.1`\n",
    "\n",
    "import plotly._, element._, layout._, Plotly._\n",
    "import ujson.Value\n",
    "import sys.process._\n",
    "\n",
    "import $ivy.`com.lihaoyi::scalatags:0.12.0`\n",
    "\n",
    "import jupyter.Displayer, jupyter.Displayers\n",
    "import scala.collection.JavaConverters._\n",
    "import scala.collection.mutable\n",
    "import com.github.nscala_time.time.Imports._\n",
    "import org.joda.time.Period"
   ]
  },
  {
   "cell_type": "code",
   "execution_count": 2,
   "metadata": {},
   "outputs": [
    {
     "name": "stdout",
     "output_type": "stream",
     "text": [
      "java.library.path set to: /root/software/z3/build:/usr/lib/:/usr/java/packages/lib:/usr/lib64:/lib64:/lib:/usr/lib\n"
     ]
    },
    {
     "data": {
      "text/plain": [
       "\u001b[32mimport \u001b[39m\u001b[36mbetter.files._\n",
       "\n",
       "\u001b[39m\n",
       "\u001b[32mimport \u001b[39m\u001b[36mscala.util.Random\n",
       "\u001b[39m\n",
       "\u001b[32mimport \u001b[39m\u001b[36medu.colorado.plv.bounder.{Driver,ExpTag,Action,RunConfig,PickleSpec}\n",
       "\u001b[39m\n",
       "\u001b[32mimport \u001b[39m\u001b[36medu.colorado.plv.bounder.lifestate.{SpecSpace,ViewSpec,SpecSignatures}\n",
       "\u001b[39m\n",
       "\u001b[32mimport \u001b[39m\u001b[36medu.colorado.plv.bounder.symbolicexecutor.state.{InitialQuery,Reachable,ReceiverNonNull, DisallowedCallin}\n",
       "\u001b[39m\n",
       "\u001b[32mimport \u001b[39m\u001b[36mupickle.default.read\n",
       "\u001b[39m\n",
       "\u001b[32mimport \u001b[39m\u001b[36mupickle.default.write\n",
       "\u001b[39m\n",
       "\u001b[32mimport \u001b[39m\u001b[36mscala.collection.parallel.CollectionConverters.{ImmutableSetIsParallelizable, IterableIsParallelizable}\n",
       "\u001b[39m\n",
       "\u001b[32mimport \u001b[39m\u001b[36medu.colorado.plv.bounder.ExperimentsDb\n",
       "\u001b[39m\n",
       "\u001b[32mimport \u001b[39m\u001b[36medu.colorado.plv.bounder.BounderUtil\n",
       "//import scala.concurrent.duration._\n",
       "\u001b[39m\n",
       "\u001b[32mimport \u001b[39m\u001b[36mscala.language.postfixOps\n",
       "\u001b[39m\n",
       "\u001b[32mimport \u001b[39m\u001b[36mslick.driver.H2Driver.api._\n",
       "\u001b[39m\n",
       "\u001b[32mimport \u001b[39m\u001b[36mslick.jdbc.GetResult\n",
       "\u001b[39m\n",
       "\u001b[32mimport \u001b[39m\u001b[36mslick.jdbc.SQLActionBuilder\n",
       "\u001b[39m\n",
       "\u001b[32mimport \u001b[39m\u001b[36mscala.concurrent.Await\n",
       "\u001b[39m\n",
       "\u001b[32mimport \u001b[39m\u001b[36malmond.interpreter.api.DisplayData\n",
       "\u001b[39m\n",
       "\u001b[32mimport \u001b[39m\u001b[36medu.colorado.plv.bounder.ir.Messages\n",
       "\n",
       "\n",
       "\u001b[39m\n",
       "\u001b[36mres1_18\u001b[39m: \u001b[32mString\u001b[39m = \u001b[32m\"/home/notebooks\"\u001b[39m\n",
       "\u001b[36mexpDir\u001b[39m: \u001b[32mFile\u001b[39m = /home/notebooks"
      ]
     },
     "execution_count": 2,
     "metadata": {},
     "output_type": "execute_result"
    }
   ],
   "source": [
    "import better.files._\n",
    "\n",
    "import scala.util.Random\n",
    "import edu.colorado.plv.bounder.{Driver,ExpTag,Action,RunConfig,PickleSpec}\n",
    "import edu.colorado.plv.bounder.lifestate.{SpecSpace,ViewSpec,SpecSignatures}\n",
    "import edu.colorado.plv.bounder.symbolicexecutor.state.{InitialQuery,Reachable,ReceiverNonNull, DisallowedCallin}\n",
    "import upickle.default.read\n",
    "import upickle.default.write\n",
    "import scala.collection.parallel.CollectionConverters.{ImmutableSetIsParallelizable, IterableIsParallelizable}\n",
    "import edu.colorado.plv.bounder.ExperimentsDb\n",
    "import edu.colorado.plv.bounder.BounderUtil\n",
    "//import scala.concurrent.duration._\n",
    "import scala.language.postfixOps\n",
    "import slick.driver.H2Driver.api._\n",
    "import slick.jdbc.GetResult\n",
    "import slick.jdbc.SQLActionBuilder\n",
    "import scala.concurrent.Await\n",
    "import almond.interpreter.api.DisplayData\n",
    "import edu.colorado.plv.bounder.ir.Messages\n",
    "\n",
    "\n",
    "Driver.setZ3Path(s\"${userhome}/software/z3/build\")\n",
    "\n",
    "// var android_home_possible = List(s\"${userhome}/Library/Android/sdk\", s\"${userhome}/Android/Sdk\")\n",
    "// var android_home = android_home_possible.find(p => File(p).exists()).get             \n",
    "// BounderUtil.setEnv(Map(\"DYLD_LIBRARY_PATH\" -> s\"${userhome}/software/z3/build\",\"ANDROID_HOME\" -> android_home,\"HOME\" -> userhome))\n",
    "\n",
    "System.setProperty(\"user.dir\", s\"${System.getProperty(\"user.home\")}/Documents/source/bounder/notebooks/ossExp/SpecGen\");\n",
    "val expDir = File(\"/home/notebooks\")"
   ]
  },
  {
   "cell_type": "code",
   "execution_count": null,
   "metadata": {},
   "outputs": [],
   "source": []
  },
  {
   "cell_type": "code",
   "execution_count": null,
   "metadata": {},
   "outputs": [],
   "source": []
  },
  {
   "cell_type": "code",
   "execution_count": null,
   "metadata": {},
   "outputs": [],
   "source": []
  },
  {
   "cell_type": "code",
   "execution_count": null,
   "metadata": {},
   "outputs": [],
   "source": []
  },
  {
   "cell_type": "code",
   "execution_count": null,
   "metadata": {},
   "outputs": [],
   "source": []
  }
 ],
 "metadata": {
  "kernelspec": {
   "display_name": "Scala",
   "language": "scala",
   "name": "scala"
  },
  "language_info": {
   "codemirror_mode": "text/x-scala",
   "file_extension": ".scala",
   "mimetype": "text/x-scala",
   "name": "scala",
   "nbconvert_exporter": "script",
   "version": "2.13.2"
  }
 },
 "nbformat": 4,
 "nbformat_minor": 4
}
