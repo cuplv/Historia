{
 "cells": [
  {
   "cell_type": "markdown",
   "metadata": {},
   "source": [
    "Example and Explanation of Using Historia\n",
    "-----------------------------------------------------------\n",
    "\n",
    "This notebook will walk through how to use Historia on an example Android application.\n",
    "The process is roughly:\n",
    "1. Choose a location and safety property in the application\n",
    "2. Run Historia with no additional CBCFTL specifications\n",
    "3. Look at the alarm\n",
    "4. Add CBCFTL specifications to remove the alarm\n",
    "5. After adding enough sound CBCFTL specifications, we can prove the example\n",
    "\n",
    "The example we will be using is the motivating example of our paper.  The full compiled app and source code may be found in the `AntennapodPlayerFragment_fix` directory.  However, feel free to modify this notebook and run it on other open source applications.  The only external input to this notebook that is specific to this example is the APK compiled in debug mode.  The CBCFTL specifications used are written below.\n",
    "\n",
    "Note that abstract messages, m̂ in the paper, are defined in `Specifications.scala` and are interchangeable with the Once operator (i.e. O m̂)."
   ]
  },
  {
   "cell_type": "code",
   "execution_count": 2,
   "metadata": {},
   "outputs": [
    {
     "data": {
      "text/plain": [
       "\u001b[36minputApk\u001b[39m: \u001b[32mString\u001b[39m = \u001b[32m\"/home/notebooks/AntennapodPlayerFragment_fix/app/build/outputs/apk/debug/app-debug.apk\"\u001b[39m"
      ]
     },
     "execution_count": 2,
     "metadata": {},
     "output_type": "execute_result"
    }
   ],
   "source": [
    "// location of the apk under analysis\n",
    "val inputApk = \"/home/notebooks/AntennapodPlayerFragment_fix/app/build/outputs/apk/debug/app-debug.apk\"\n",
    "\n",
    "// a few dependencies for the notebook:\n",
    "import $ivy.`com.github.pathikrit::better-files:3.9.1`\n",
    "import $ivy.`com.lihaoyi:ujson_2.13:1.3.8`\n",
    "import $ivy.`com.lihaoyi::scalatags:0.12.0`"
   ]
  },
  {
   "cell_type": "markdown",
   "metadata": {},
   "source": [
    "Choosing a Location and Safety Property\n",
    "---------------------------------------\n",
    "\n",
    "For reference, the code we are analyzing is printed by the cell below."
   ]
  },
  {
   "cell_type": "code",
   "execution_count": 19,
   "metadata": {},
   "outputs": [
    {
     "name": "stdout",
     "output_type": "stream",
     "text": [
      "1  package com.example.row1antennapodrxjava.ui.main;\n",
      "25  public class PlayerFragment extends Fragment implements Action1<Object> {\n",
      "27      private Subscription sub;\n",
      "29      public static PlayerFragment newInstance() {\n",
      "30          return new PlayerFragment();\n",
      "31      }\n",
      "33      @Nullable\n",
      "34      @Override\n",
      "35      public View onCreateView(@NonNull LayoutInflater inflater, @Nullable ViewGroup container,\n",
      "36                               @Nullable Bundle savedInstanceState) {\n",
      "37          return inflater.inflate(R.layout.main_fragment, container, false);\n",
      "38      }\n",
      "40      @Override\n",
      "41      public void onCreate(@Nullable Bundle savedInstanceState) {\n",
      "42          super.onCreate(savedInstanceState);\n",
      "43      }\n",
      "45      @Override\n",
      "46      public void onActivityCreated(@Nullable Bundle savedInstanceState) {\n",
      "47          super.onActivityCreated(savedInstanceState);\n",
      "48          sub = Single.create(a -> {\n",
      "55          }).subscribeOn(Schedulers.newThread())\n",
      "56                  .observeOn(AndroidSchedulers.mainThread())\n",
      "57                  .subscribe(this);\n",
      "58      }\n",
      "60      @Override\n",
      "61      public void call(Object o) {\n",
      "62          Activity act = getActivity();\n",
      "63          act.toString(); // Can this location crash?\n",
      "64      }\n",
      "65      @Override\n",
      "66      public void onDestroy() {\n",
      "67          super.onDestroy();\n",
      "68          sub.unsubscribe();\n",
      "69      }\n",
      "70  }\n"
     ]
    },
    {
     "data": {
      "text/plain": [
       "\u001b[32mimport \u001b[39m\u001b[36mbetter.files._\n",
       "\n",
       "\u001b[39m"
      ]
     },
     "execution_count": 19,
     "metadata": {},
     "output_type": "execute_result"
    }
   ],
   "source": [
    "import better.files._\n",
    "\n",
    "println(File(\"/home/notebooks/AntennapodPlayerFragment_fix/app/src/main/java/com/example/row1antennapodrxjava/ui/main/PlayerFragment.java\").contentAsString\n",
    "        .split('\\n')\n",
    "        .zipWithIndex // add line numbers\n",
    "        .filter{case (line,ind) => !line.startsWith(\"import\") && !line.trim.startsWith(\"//\") && line.trim != \"\"} // remove some clutter\n",
    "        .map{case (line,ind) => s\"${ind + 1}  $line\"}\n",
    "        .mkString(\"\\n\")\n",
    "       ) "
   ]
  },
  {
   "cell_type": "markdown",
   "metadata": {},
   "source": [
    "The code above is a more complete version of the code in Figure 2 (a).  We would like to prove that dereferencing `act` on line 27 cannot crash.  The first step is to tell Historia what we would like to prove and where it is.  This is done by creating a `InitialQuery`, Specifically a `ReceiverNonNull`."
   ]
  },
  {
   "cell_type": "code",
   "execution_count": 44,
   "metadata": {},
   "outputs": [
    {
     "data": {
      "text/plain": [
       "\u001b[32mimport \u001b[39m\u001b[36medu.colorado.plv.bounder.symbolicexecutor.state.{InitialQuery,ReceiverNonNull}\n",
       "\u001b[39m\n",
       "\u001b[32mimport \u001b[39m\u001b[36medu.colorado.plv.bounder.lifestate.LifeState\n",
       "\n",
       "// The method signature unambiguously identifies the method in the application\n",
       "\u001b[39m\n",
       "\u001b[36mmethodSignature\u001b[39m: \u001b[32mLifeState\u001b[39m.\u001b[32mSignature\u001b[39m = \u001b[33mSignature\u001b[39m(\n",
       "  \u001b[32m\"com.example.row1antennapodrxjava.ui.main.PlayerFragment\"\u001b[39m,\n",
       "  \u001b[32m\"void call(java.lang.Object)\"\u001b[39m\n",
       ")\n",
       "\u001b[36minitialQuery\u001b[39m: \u001b[32mReceiverNonNull\u001b[39m = \u001b[33mReceiverNonNull\u001b[39m(\n",
       "  \u001b[33mSignature\u001b[39m(\n",
       "    \u001b[32m\"com.example.row1antennapodrxjava.ui.main.PlayerFragment\"\u001b[39m,\n",
       "    \u001b[32m\"void call(java.lang.Object)\"\u001b[39m\n",
       "  ),\n",
       "  \u001b[32m63\u001b[39m,\n",
       "  \u001b[32mNone\u001b[39m\n",
       ")"
      ]
     },
     "execution_count": 44,
     "metadata": {},
     "output_type": "execute_result"
    }
   ],
   "source": [
    "import edu.colorado.plv.bounder.symbolicexecutor.state.{InitialQuery,ReceiverNonNull}\n",
    "import edu.colorado.plv.bounder.lifestate.LifeState\n",
    "\n",
    "// The method signature unambiguously identifies the method in the application\n",
    "val methodSignature = LifeState.Signature(\"com.example.row1antennapodrxjava.ui.main.PlayerFragment\",\n",
    "          \"void call(java.lang.Object)\")\n",
    "\n",
    "val initialQuery = ReceiverNonNull(\n",
    "        methodSignature,\n",
    "        63, // line number in source code file\n",
    "        None //Some(\".*toString.*\") // regular expression matching receiver (in case multiple dereferences on one line)\n",
    "    )"
   ]
  },
  {
   "cell_type": "markdown",
   "metadata": {},
   "source": [
    "Run Historia With No Additional CBCFTL Specifications\n",
    "-----------------------------------------------------\n",
    "\n",
    "Next we run historia with no constraints on what the framework may do.  In many cases, an app can be proven safe before adding CBCFTL specifications.  If it cannot, the counter example is useful for writing the CBCFTL."
   ]
  },
  {
   "cell_type": "code",
   "execution_count": 51,
   "metadata": {},
   "outputs": [
    {
     "data": {
      "text/plain": [
       "\u001b[36mjarpath\u001b[39m: \u001b[32mString\u001b[39m = \u001b[32m\"/home/bounder/target/scala-2.13/soot_hopper-assembly-0.1.jar\"\u001b[39m\n",
       "\u001b[32mimport \u001b[39m\u001b[36medu.colorado.plv.bounder.{Driver,RunConfig, BounderUtil} // Historia utilities\n",
       "\u001b[39m\n",
       "\u001b[32mimport \u001b[39m\u001b[36mupickle.default.read\n",
       "\u001b[39m\n",
       "\u001b[32mimport \u001b[39m\u001b[36mupickle.default.write\n",
       "\n",
       "// define a function to call the JAR implementation of Historia with a configuration\n",
       "// If changes are made to Historia, run \"sbt compile\" in the /home/implementation directory to regenerate the Historia JAR\n",
       "\n",
       "\u001b[39m\n",
       "defined \u001b[32mfunction\u001b[39m \u001b[36mrunHistoriaWithSpec\u001b[39m"
      ]
     },
     "execution_count": 51,
     "metadata": {},
     "output_type": "execute_result"
    }
   ],
   "source": [
    "// load historia code\n",
    "\n",
    "val jarpath = s\"/home/bounder/target/scala-2.13/soot_hopper-assembly-0.1.jar\"\n",
    "interp.load.cp(os.Path(jarpath))\n",
    "\n",
    "import edu.colorado.plv.bounder.{Driver,RunConfig, BounderUtil} // Historia utilities\n",
    "import upickle.default.read\n",
    "import upickle.default.write\n",
    "\n",
    "// define a function to call the JAR implementation of Historia with a configuration\n",
    "// If changes are made to Historia, run \"sbt compile\" in the /home/implementation directory to regenerate the Historia JAR\n",
    "\n",
    "def runHistoriaWithSpec(configPath:File):Driver.LocResult = {\n",
    "    val javaMemLimit=8 // Gb Note that this only limits JVM not JNI which can go significantly higher\n",
    "    val historiaJar = \"/home/bounder/target/scala-2.13/soot_hopper-assembly-0.1.jar\"\n",
    "    val apkRootDir = \"/home/historia_generalizability\"\n",
    "    val outDir = configPath.parent.toString\n",
    "    val config = read[RunConfig](configPath.contentAsString)\n",
    "    val outSubdir = config.outFolder.get.replace(\"${baseDirOut}\",outDir)\n",
    "    val cmd = s\"java -Xmx${javaMemLimit}G -jar ${historiaJar} -m verify -c ${configPath} -b ${apkRootDir} -u ${outDir} -o MEM --debug\"\n",
    "    BounderUtil.runCmdStdout(cmd)\n",
    "\n",
    "    read[Driver.LocResult]((outSubdir / \"result_0.txt\").contentAsString)\n",
    "}\n",
    "\n"
   ]
  },
  {
   "cell_type": "markdown",
   "metadata": {},
   "source": [
    "Next we create the `RunConfig` that specifies things like the APK, the output folder, the initial query, and the CBCFTL.  This is all written to a `.json` file used later."
   ]
  },
  {
   "cell_type": "code",
   "execution_count": 52,
   "metadata": {},
   "outputs": [
    {
     "data": {
      "text/plain": [
       "\u001b[36moutputDir\u001b[39m: \u001b[32mFile\u001b[39m = /home/notebooks/ExampleOut\n",
       "\u001b[36mcfg\u001b[39m: \u001b[32mRunConfig\u001b[39m = \u001b[33mRunConfig\u001b[39m(\n",
       "  \u001b[32m\"/home/notebooks/AntennapodPlayerFragment_fix/app/build/outputs/apk/debug/app-debug.apk\"\u001b[39m,\n",
       "  \u001b[33mSome\u001b[39m(\u001b[32m\"/home/notebooks/ExampleOut\"\u001b[39m),\n",
       "  \u001b[32mNone\u001b[39m,\n",
       "  TopSpecSet,\n",
       "  \u001b[33mList\u001b[39m(\n",
       "    \u001b[33mReceiverNonNull\u001b[39m(\n",
       "      \u001b[33mSignature\u001b[39m(\n",
       "        \u001b[32m\"com.example.row1antennapodrxjava.ui.main.PlayerFragment\"\u001b[39m,\n",
       "        \u001b[32m\"void call(java.lang.Object)\"\u001b[39m\n",
       "      ),\n",
       "      \u001b[32m63\u001b[39m,\n",
       "      \u001b[32mNone\u001b[39m\n",
       "    )\n",
       "  ),\n",
       "  \u001b[32m-1\u001b[39m,\n",
       "  \u001b[32m5\u001b[39m,\n",
       "  \u001b[33mExpTag\u001b[39m(\u001b[32m\"\"\u001b[39m, \u001b[32m\"\"\u001b[39m, \u001b[32m\"\"\u001b[39m),\n",
       "  \u001b[32m600\u001b[39m,\n",
       "  false,\n",
       "  \u001b[32mNone\u001b[39m\n",
       ")\n",
       "\u001b[36mcfgPath\u001b[39m: \u001b[32mFile\u001b[39m = /home/notebooks/ExampleOut/cfg.json\n",
       "\u001b[36mres51_3\u001b[39m: \u001b[32mFile\u001b[39m = /home/notebooks/ExampleOut/cfg.json"
      ]
     },
     "execution_count": 52,
     "metadata": {},
     "output_type": "execute_result"
    }
   ],
   "source": [
    "val outputDir = File(\"/home/notebooks/ExampleOut\")\n",
    "val cfg =  RunConfig(apkPath = inputApk.toString, \n",
    "          outFolder = Some(outputDir.toString),\n",
    "          initialQuery = List(initialQuery), truncateOut=false)\n",
    "\n",
    "val cfgPath = (outputDir / \"cfg.json\")\n",
    "cfgPath.overwrite(write(cfg))  "
   ]
  },
  {
   "cell_type": "markdown",
   "metadata": {},
   "source": [
    "Now we can call Historia."
   ]
  },
  {
   "cell_type": "code",
   "execution_count": 47,
   "metadata": {},
   "outputs": [
    {
     "data": {
      "text/plain": [
       "\u001b[36mres46\u001b[39m: \u001b[32mDriver\u001b[39m.\u001b[32mLocResult\u001b[39m = \u001b[33mLocResult\u001b[39m(\n",
       "  \u001b[33mReceiverNonNull\u001b[39m(\n",
       "    \u001b[33mSignature\u001b[39m(\n",
       "      \u001b[32m\"com.example.row1antennapodrxjava.ui.main.PlayerFragment\"\u001b[39m,\n",
       "      \u001b[32m\"void call(java.lang.Object)\"\u001b[39m\n",
       "    ),\n",
       "    \u001b[32m63\u001b[39m,\n",
       "    \u001b[32mNone\u001b[39m\n",
       "  ),\n",
       "  \u001b[32m-1\u001b[39m,\n",
       "  \u001b[33mAppLoc\u001b[39m(\n",
       "    \u001b[33mSerializedIRMethodLoc\u001b[39m(\n",
       "      \u001b[32m\"com.example.row1antennapodrxjava.ui.main.PlayerFragment\"\u001b[39m,\n",
       "      \u001b[32m\"void call(java.lang.Object)\"\u001b[39m,\n",
       "      \u001b[33mList\u001b[39m(\n",
       "        \u001b[33mSome\u001b[39m(\n",
       "          \u001b[33mLocalWrapper\u001b[39m(\n",
       "            \u001b[32m\"@this\"\u001b[39m,\n",
       "            \u001b[32m\"com.example.row1antennapodrxjava.ui.main.PlayerFragment\"\u001b[39m\n",
       "          )\n",
       "        ),\n",
       "        \u001b[33mSome\u001b[39m(\u001b[33mLocalWrapper\u001b[39m(\u001b[32m\"@parameter0\"\u001b[39m, \u001b[32m\"java.lang.Object\"\u001b[39m))\n",
       "      )\n",
       "    ),\n",
       "    \u001b[33mSerializedIRLineLoc\u001b[39m(\n",
       "      \u001b[32m63\u001b[39m,\n",
       "      \u001b[32m\"line: 63 virtualinvoke $r2.<java.lang.Object: java.lang.String toString()>()\"\u001b[39m,\n",
       "      \u001b[32m765356857\u001b[39m\n",
       "    ),\n",
       "    true\n",
       "  ),\n",
       "  Witnessed,\n",
       "  MultiCallback,\n",
       "  \u001b[32m1L\u001b[39m,\n",
       "  \u001b[33mDepthResult\u001b[39m(\u001b[32m9\u001b[39m, \u001b[32m1\u001b[39m, \u001b[32m1\u001b[39m, Witnessed),\n",
       "  \u001b[33mList\u001b[39m(\n",
       "    \u001b[33mList\u001b[39m(\n",
       "      \u001b[32m\"witnessed\"\u001b[39m,\n",
       "..."
      ]
     },
     "execution_count": 47,
     "metadata": {},
     "output_type": "execute_result"
    }
   ],
   "source": [
    "runHistoriaWithSpec(cfgPath)"
   ]
  },
  {
   "cell_type": "markdown",
   "metadata": {},
   "source": [
    "Look at the Alarm\n",
    "-----------------\n",
    "Next we look at the alarm that was found.  In this case, it finds the initial state just before the `call` callback.  The witness also shows that `getActivity` was invoked, this is important because it is where a null value may come from."
   ]
  },
  {
   "cell_type": "code",
   "execution_count": 48,
   "metadata": {},
   "outputs": [
    {
     "name": "stdout",
     "output_type": "stream",
     "text": [
      "witnessed\n",
      "    WITNESSED: [CB Inv] com.example.row1antennapodrxjava.ui.main.PlayerFragment void call(java.lang.Object)\n",
      "       state: (    heap:           pure:          types: List()    trace: )\n",
      "    pre-line: 62 $r2 = virtualinvoke r0.<com.example.row1antennapodrxjava.ui.main.PlayerFragment: androidx.fragment.app.FragmentActivity getActivity()>()\n",
      "       state: ( locals:          heap:           pure:          types: List()    trace: )\n",
      "    [CI Inv merge] androidx.fragment.app.FragmentActivity getActivity()\n",
      "       state: ([CI Ret] androidx.fragment.app.Fragment androidx.fragment.app.FragmentActivity getActivity() locals:       locals:          heap:           pure:          types: List()    trace: )\n",
      "    [CI Ret merge] androidx.fragment.app.FragmentActivity getActivity()\n",
      "       state: ([CI Ret] androidx.fragment.app.Fragment androidx.fragment.app.FragmentActivity getActivity() locals:       locals:          heap:           pure:          types: List()    trace: )\n",
      "\n"
     ]
    }
   ],
   "source": [
    "println(File(\"/home/notebooks/ExampleOut/wit.witnesses\").contentAsString)"
   ]
  },
  {
   "cell_type": "markdown",
   "metadata": {},
   "source": [
    "Add CBCFTL Specifications to Remove the Alarm\n",
    "--------------------------\n",
    "\n",
    "Writing a CBCFTL specification consists of looking at counter examples like the one above and explaining when the framework can *NOT* do something like return a `null` value.  An easy, yet unsound, CBCFTL specification is to say `getActivity` cannot return null ever.  However, writing this specification is a useful step to show how CBCFTL specifications are constructed.  We will write a sound specification later.\n",
    "\n",
    "We write that as `null = cb a.getActivity() -[]-> false` in the paper.  Below we show how to write this same thing for the implementation."
   ]
  },
  {
   "cell_type": "code",
   "execution_count": 54,
   "metadata": {},
   "outputs": [
    {
     "data": {
      "text/plain": [
       "\u001b[32mimport \u001b[39m\u001b[36medu.colorado.plv.bounder.lifestate.LifeState.{LSSpec, LSFalse,LSConstraint}\n",
       "\u001b[39m\n",
       "\u001b[32mimport \u001b[39m\u001b[36medu.colorado.plv.bounder.symbolicexecutor.state.{NamedPureVar,NullVal,Equals}\n",
       "\u001b[39m\n",
       "\u001b[32mimport \u001b[39m\u001b[36medu.colorado.plv.bounder.lifestate.SpecSignatures\n",
       "\n",
       "\u001b[39m\n",
       "\u001b[36ma\u001b[39m: \u001b[32mNamedPureVar\u001b[39m = \u001b[33mNamedPureVar\u001b[39m(\u001b[32m\"a\"\u001b[39m)\n",
       "\u001b[36mf\u001b[39m: \u001b[32mNamedPureVar\u001b[39m = \u001b[33mNamedPureVar\u001b[39m(\u001b[32m\"f\"\u001b[39m)\n",
       "\u001b[36mgetActivityNullUnsound\u001b[39m: \u001b[32mLSSpec\u001b[39m = \u001b[33mLSSpec\u001b[39m(\n",
       "  \u001b[33mList\u001b[39m(\u001b[33mNamedPureVar\u001b[39m(\u001b[32m\"a\"\u001b[39m), \u001b[33mNamedPureVar\u001b[39m(\u001b[32m\"f\"\u001b[39m)),\n",
       "  \u001b[33mList\u001b[39m(),\n",
       "  False,\n",
       "  \u001b[33mOAbsMsg\u001b[39m(\n",
       "    CIExit,\n",
       "    \u001b[33mSubClassMatcher\u001b[39m(\n",
       "      \u001b[33mSet\u001b[39m(\n",
       "        \u001b[32m\"android.app.Fragment\"\u001b[39m,\n",
       "        \u001b[32m\"androidx.fragment.app.Fragment\"\u001b[39m,\n",
       "        \u001b[32m\"android.support.v4.app.Fragment\"\u001b[39m\n",
       "      ),\n",
       "      \u001b[32m\".*Activity getActivity\\\\(\\\\)\"\u001b[39m,\n",
       "      \u001b[32m\"Fragment_getActivity\"\u001b[39m\n",
       "    ),\n",
       "    \u001b[33mList\u001b[39m(\u001b[33mNamedPureVar\u001b[39m(\u001b[32m\"a\"\u001b[39m), \u001b[33mNamedPureVar\u001b[39m(\u001b[32m\"f\"\u001b[39m))\n",
       "  ),\n",
       "  \u001b[33mSet\u001b[39m(\u001b[33mLSConstraint\u001b[39m(\u001b[33mNamedPureVar\u001b[39m(\u001b[32m\"a\"\u001b[39m),  == , NULL))\n",
       ")"
      ]
     },
     "execution_count": 54,
     "metadata": {},
     "output_type": "execute_result"
    }
   ],
   "source": [
    "\n",
    "import edu.colorado.plv.bounder.lifestate.LifeState.{LSSpec, LSFalse,LSConstraint}\n",
    "import edu.colorado.plv.bounder.symbolicexecutor.state.{NamedPureVar,NullVal,Equals}\n",
    "import edu.colorado.plv.bounder.lifestate.SpecSignatures\n",
    "\n",
    "val a = NamedPureVar(\"a\")  // variables used in spec\n",
    "val f = NamedPureVar(\"f\")\n",
    "\n",
    "val getActivityNullUnsound = LSSpec(a::f::Nil, Nil,\n",
    "    LSFalse, \n",
    "    SpecSignatures.Fragment_get_activity_exit, // abstract message f = cb a.getActivity()  (defined in Specifications.scala)\n",
    "    Set(LSConstraint(a, Equals, NullVal)))"
   ]
  },
  {
   "cell_type": "markdown",
   "metadata": {},
   "source": [
    "Next we copy the configuration file with the new CBCFTL specification and re-run Historia."
   ]
  },
  {
   "cell_type": "code",
   "execution_count": 57,
   "metadata": {},
   "outputs": [
    {
     "name": "stdout",
     "output_type": "stream",
     "text": [
      "result: Proven\n"
     ]
    },
    {
     "data": {
      "text/plain": [
       "\u001b[32mimport \u001b[39m\u001b[36medu.colorado.plv.bounder.PickleSpec\n",
       "\n",
       "\u001b[39m\n",
       "\u001b[36mcfgWithUnsoundSpec\u001b[39m: \u001b[32mRunConfig\u001b[39m = \u001b[33mRunConfig\u001b[39m(\n",
       "  \u001b[32m\"/home/notebooks/AntennapodPlayerFragment_fix/app/build/outputs/apk/debug/app-debug.apk\"\u001b[39m,\n",
       "  \u001b[33mSome\u001b[39m(\u001b[32m\"/home/notebooks/ExampleOut\"\u001b[39m),\n",
       "  \u001b[32mNone\u001b[39m,\n",
       "  \u001b[33mPickleSpec\u001b[39m(\n",
       "    \u001b[33mSet\u001b[39m(\n",
       "      \u001b[33mLSSpec\u001b[39m(\n",
       "        \u001b[33mList\u001b[39m(\u001b[33mNamedPureVar\u001b[39m(\u001b[32m\"a\"\u001b[39m), \u001b[33mNamedPureVar\u001b[39m(\u001b[32m\"f\"\u001b[39m)),\n",
       "        \u001b[33mList\u001b[39m(),\n",
       "        False,\n",
       "        \u001b[33mOAbsMsg\u001b[39m(\n",
       "          CIExit,\n",
       "          \u001b[33mSubClassMatcher\u001b[39m(\n",
       "            \u001b[33mSet\u001b[39m(\n",
       "              \u001b[32m\"android.app.Fragment\"\u001b[39m,\n",
       "              \u001b[32m\"androidx.fragment.app.Fragment\"\u001b[39m,\n",
       "              \u001b[32m\"android.support.v4.app.Fragment\"\u001b[39m\n",
       "            ),\n",
       "            \u001b[32m\".*Activity getActivity\\\\(\\\\)\"\u001b[39m,\n",
       "            \u001b[32m\"Fragment_getActivity\"\u001b[39m\n",
       "          ),\n",
       "          \u001b[33mList\u001b[39m(\u001b[33mNamedPureVar\u001b[39m(\u001b[32m\"a\"\u001b[39m), \u001b[33mNamedPureVar\u001b[39m(\u001b[32m\"f\"\u001b[39m))\n",
       "        ),\n",
       "        \u001b[33mSet\u001b[39m(\u001b[33mLSConstraint\u001b[39m(\u001b[33mNamedPureVar\u001b[39m(\u001b[32m\"a\"\u001b[39m),  == , NULL))\n",
       "      )\n",
       "    ),\n",
       "    \u001b[33mSet\u001b[39m(),\n",
       "    \u001b[33mSet\u001b[39m()\n",
       "  ),\n",
       "  \u001b[33mList\u001b[39m(\n",
       "    \u001b[33mReceiverNonNull\u001b[39m(\n",
       "      \u001b[33mSignature\u001b[39m(\n",
       "        \u001b[32m\"com.example.row1antennapodrxjava.ui.main.PlayerFragment\"\u001b[39m,\n",
       "        \u001b[32m\"void call(java.lang.Object)\"\u001b[39m\n",
       "      ),\n",
       "      \u001b[32m63\u001b[39m,\n",
       "      \u001b[32mNone\u001b[39m\n",
       "    )\n",
       "...\n",
       "\u001b[36mres56_2\u001b[39m: \u001b[32mFile\u001b[39m = /home/notebooks/ExampleOut/cfg.json\n",
       "\u001b[36mres\u001b[39m: \u001b[32mDriver\u001b[39m.\u001b[32mLocResult\u001b[39m = \u001b[33mLocResult\u001b[39m(\n",
       "  \u001b[33mReceiverNonNull\u001b[39m(\n",
       "    \u001b[33mSignature\u001b[39m(\n",
       "      \u001b[32m\"com.example.row1antennapodrxjava.ui.main.PlayerFragment\"\u001b[39m,\n",
       "      \u001b[32m\"void call(java.lang.Object)\"\u001b[39m\n",
       "    ),\n",
       "    \u001b[32m63\u001b[39m,\n",
       "    \u001b[32mNone\u001b[39m\n",
       "  ),\n",
       "  \u001b[32m-1\u001b[39m,\n",
       "  \u001b[33mAppLoc\u001b[39m(\n",
       "    \u001b[33mSerializedIRMethodLoc\u001b[39m(\n",
       "      \u001b[32m\"com.example.row1antennapodrxjava.ui.main.PlayerFragment\"\u001b[39m,\n",
       "      \u001b[32m\"void call(java.lang.Object)\"\u001b[39m,\n",
       "      \u001b[33mList\u001b[39m(\n",
       "        \u001b[33mSome\u001b[39m(\n",
       "          \u001b[33mLocalWrapper\u001b[39m(\n",
       "            \u001b[32m\"@this\"\u001b[39m,\n",
       "            \u001b[32m\"com.example.row1antennapodrxjava.ui.main.PlayerFragment\"\u001b[39m\n",
       "          )\n",
       "        ),\n",
       "        \u001b[33mSome\u001b[39m(\u001b[33mLocalWrapper\u001b[39m(\u001b[32m\"@parameter0\"\u001b[39m, \u001b[32m\"java.lang.Object\"\u001b[39m))\n",
       "      )\n",
       "    ),\n",
       "    \u001b[33mSerializedIRLineLoc\u001b[39m(\n",
       "      \u001b[32m63\u001b[39m,\n",
       "      \u001b[32m\"line: 63 virtualinvoke $r2.<java.lang.Object: java.lang.String toString()>()\"\u001b[39m,\n",
       "      \u001b[32m1647075399\u001b[39m\n",
       "    ),\n",
       "    true\n",
       "  ),\n",
       "  Proven,\n",
       "  SingleMethod,\n",
       "  \u001b[32m0L\u001b[39m,\n",
       "  \u001b[33mDepthResult\u001b[39m(\u001b[32m-1\u001b[39m, \u001b[32m-1\u001b[39m, \u001b[32m-1\u001b[39m, Unreachable),\n",
       "  \u001b[33mList\u001b[39m(),\n",
       "  \u001b[33mList\u001b[39m()\n",
       ")"
      ]
     },
     "execution_count": 57,
     "metadata": {},
     "output_type": "execute_result"
    }
   ],
   "source": [
    "import edu.colorado.plv.bounder.PickleSpec\n",
    "\n",
    "val cfgWithUnsoundSpec = cfg.copy(specSet = PickleSpec(Set(getActivityNullUnsound)))\n",
    "cfgPath.overwrite(write(cfgWithUnsoundSpec))\n",
    "val res = runHistoriaWithSpec(cfgPath)\n",
    "println(s\"result: ${res.resultSummary}\")"
   ]
  },
  {
   "cell_type": "markdown",
   "metadata": {},
   "source": [
    "Note how the previous result says `proven`.  This would be a sound proof if `getActivity` could never return null. However, `getActivity` may return null if it is called after `onDestroy` or before `onCreate`.  We can update the spec to capture this behavior.\n",
    "\n",
    "`null = cb a.getActivity() -[]-> (cb a.onCreate() NS cb a.onDestroy()) \\/ HN cb a.onCreate()`\n",
    "\n",
    "This history implication is now sound."
   ]
  },
  {
   "cell_type": "code",
   "execution_count": 58,
   "metadata": {},
   "outputs": [
    {
     "data": {
      "text/plain": [
       "\u001b[32mimport \u001b[39m\u001b[36medu.colorado.plv.bounder.lifestate.LifeState.{Not,Or,NS}\n",
       "\n",
       "\u001b[39m\n",
       "\u001b[36mfragmentActivityNotAttached\u001b[39m: \u001b[32mOr\u001b[39m = \u001b[33mOr\u001b[39m(\n",
       "  \u001b[33mNS\u001b[39m(\n",
       "    \u001b[33mOAbsMsg\u001b[39m(\n",
       "      CBExit,\n",
       "      \u001b[33mSubClassMatcher\u001b[39m(\n",
       "        \u001b[33mSet\u001b[39m(\n",
       "          \u001b[32m\"android.app.Fragment\"\u001b[39m,\n",
       "          \u001b[32m\"androidx.fragment.app.Fragment\"\u001b[39m,\n",
       "          \u001b[32m\"android.support.v4.app.Fragment\"\u001b[39m\n",
       "        ),\n",
       "        \u001b[32m\"void onDestroy\\\\(\\\\)\"\u001b[39m,\n",
       "        \u001b[32m\"Fragment_onDestroy\"\u001b[39m\n",
       "      ),\n",
       "      \u001b[33mList\u001b[39m(_T_, \u001b[33mNamedPureVar\u001b[39m(\u001b[32m\"f\"\u001b[39m))\n",
       "    ),\n",
       "    \u001b[33mOAbsMsg\u001b[39m(\n",
       "      CBEnter,\n",
       "      \u001b[33mSubClassMatcher\u001b[39m(\n",
       "        \u001b[33mSet\u001b[39m(\n",
       "          \u001b[32m\"android.app.Fragment\"\u001b[39m,\n",
       "          \u001b[32m\"androidx.fragment.app.Fragment\"\u001b[39m,\n",
       "          \u001b[32m\"android.support.v4.app.Fragment\"\u001b[39m\n",
       "        ),\n",
       "        \u001b[32m\"void onActivityCreated\\\\(android.os.Bundle\\\\)\"\u001b[39m,\n",
       "        \u001b[32m\"Fragment_onActivityCreated\"\u001b[39m\n",
       "      ),\n",
       "      \u001b[33mList\u001b[39m(_T_, \u001b[33mNamedPureVar\u001b[39m(\u001b[32m\"f\"\u001b[39m))\n",
       "    )\n",
       "  ),\n",
       "  \u001b[33mNot\u001b[39m(\n",
       "    \u001b[33mOAbsMsg\u001b[39m(\n",
       "      CBEnter,\n",
       "      \u001b[33mSubClassMatcher\u001b[39m(\n",
       "        \u001b[33mSet\u001b[39m(\n",
       "          \u001b[32m\"android.app.Fragment\"\u001b[39m,\n",
       "          \u001b[32m\"androidx.fragment.app.Fragment\"\u001b[39m,\n",
       "          \u001b[32m\"android.support.v4.app.Fragment\"\u001b[39m\n",
       "        ),\n",
       "        \u001b[32m\"void onActivityCreated\\\\(android.os.Bundle\\\\)\"\u001b[39m,\n",
       "...\n",
       "\u001b[36mgetActivityNull\u001b[39m: \u001b[32mLSSpec\u001b[39m = \u001b[33mLSSpec\u001b[39m(\n",
       "  \u001b[33mList\u001b[39m(\u001b[33mNamedPureVar\u001b[39m(\u001b[32m\"a\"\u001b[39m), \u001b[33mNamedPureVar\u001b[39m(\u001b[32m\"f\"\u001b[39m)),\n",
       "  \u001b[33mList\u001b[39m(),\n",
       "  \u001b[33mOr\u001b[39m(\n",
       "    \u001b[33mNS\u001b[39m(\n",
       "      \u001b[33mOAbsMsg\u001b[39m(\n",
       "        CBExit,\n",
       "        \u001b[33mSubClassMatcher\u001b[39m(\n",
       "          \u001b[33mSet\u001b[39m(\n",
       "            \u001b[32m\"android.app.Fragment\"\u001b[39m,\n",
       "            \u001b[32m\"androidx.fragment.app.Fragment\"\u001b[39m,\n",
       "            \u001b[32m\"android.support.v4.app.Fragment\"\u001b[39m\n",
       "          ),\n",
       "          \u001b[32m\"void onDestroy\\\\(\\\\)\"\u001b[39m,\n",
       "          \u001b[32m\"Fragment_onDestroy\"\u001b[39m\n",
       "        ),\n",
       "        \u001b[33mList\u001b[39m(_T_, \u001b[33mNamedPureVar\u001b[39m(\u001b[32m\"f\"\u001b[39m))\n",
       "      ),\n",
       "      \u001b[33mOAbsMsg\u001b[39m(\n",
       "        CBEnter,\n",
       "        \u001b[33mSubClassMatcher\u001b[39m(\n",
       "          \u001b[33mSet\u001b[39m(\n",
       "            \u001b[32m\"android.app.Fragment\"\u001b[39m,\n",
       "            \u001b[32m\"androidx.fragment.app.Fragment\"\u001b[39m,\n",
       "            \u001b[32m\"android.support.v4.app.Fragment\"\u001b[39m\n",
       "          ),\n",
       "          \u001b[32m\"void onActivityCreated\\\\(android.os.Bundle\\\\)\"\u001b[39m,\n",
       "          \u001b[32m\"Fragment_onActivityCreated\"\u001b[39m\n",
       "        ),\n",
       "        \u001b[33mList\u001b[39m(_T_, \u001b[33mNamedPureVar\u001b[39m(\u001b[32m\"f\"\u001b[39m))\n",
       "      )\n",
       "    ),\n",
       "    \u001b[33mNot\u001b[39m(\n",
       "      \u001b[33mOAbsMsg\u001b[39m(\n",
       "        CBEnter,\n",
       "        \u001b[33mSubClassMatcher\u001b[39m(\n",
       "          \u001b[33mSet\u001b[39m(\n",
       "            \u001b[32m\"android.app.Fragment\"\u001b[39m,\n",
       "            \u001b[32m\"androidx.fragment.app.Fragment\"\u001b[39m,\n",
       "..."
      ]
     },
     "execution_count": 58,
     "metadata": {},
     "output_type": "execute_result"
    }
   ],
   "source": [
    "import edu.colorado.plv.bounder.lifestate.LifeState.{Not,Or,NS}\n",
    "\n",
    "val fragmentActivityNotAttached =\n",
    "    Or(NS(SpecSignatures.Fragment_onDestroy_exit, SpecSignatures.Fragment_onActivityCreated_entry), // note that NS arguments are reversed from the paper\n",
    "      Not(SpecSignatures.Fragment_onActivityCreated_entry)) // \"Not\" can only be applied to a single message and maintain encoding in extended EPR fragment of logic\n",
    "\n",
    "val getActivityNull = LSSpec(a::f::Nil, Nil,\n",
    "    fragmentActivityNotAttached, \n",
    "    SpecSignatures.Fragment_get_activity_exit, // abstract message f = cb a.getActivity()  (defined in Specifications.scala)\n",
    "    Set(LSConstraint(a, Equals, NullVal)))"
   ]
  },
  {
   "cell_type": "markdown",
   "metadata": {},
   "source": [
    "Similarly, we may write History Implication 1 from the overview."
   ]
  },
  {
   "cell_type": "code",
   "execution_count": 59,
   "metadata": {},
   "outputs": [
    {
     "data": {
      "text/plain": [
       "\u001b[36ml\u001b[39m: \u001b[32mNamedPureVar\u001b[39m = \u001b[33mNamedPureVar\u001b[39m(\u001b[32m\"l\"\u001b[39m)\n",
       "\u001b[36ms\u001b[39m: \u001b[32mNamedPureVar\u001b[39m = \u001b[33mNamedPureVar\u001b[39m(\u001b[32m\"s\"\u001b[39m)\n",
       "\u001b[36msubUnsub\u001b[39m: \u001b[32mNS\u001b[39m = \u001b[33mNS\u001b[39m(\n",
       "  \u001b[33mOAbsMsg\u001b[39m(\n",
       "    CIExit,\n",
       "    \u001b[33mSubClassMatcher\u001b[39m(\n",
       "      \u001b[33mSet\u001b[39m(\u001b[32m\"rx.Single\"\u001b[39m),\n",
       "      \u001b[32m\"rx.Subscription subscribe\\\\(rx.functions.Action1\\\\)\"\u001b[39m,\n",
       "      \u001b[32m\"RxJava_subscribe\"\u001b[39m\n",
       "    ),\n",
       "    \u001b[33mList\u001b[39m(\u001b[33mNamedPureVar\u001b[39m(\u001b[32m\"s\"\u001b[39m), _T_, \u001b[33mNamedPureVar\u001b[39m(\u001b[32m\"l\"\u001b[39m))\n",
       "  ),\n",
       "  \u001b[33mOAbsMsg\u001b[39m(\n",
       "    CIExit,\n",
       "    \u001b[33mSubClassMatcher\u001b[39m(\n",
       "      \u001b[33mSet\u001b[39m(\n",
       "        \u001b[32m\"rx.Subscriber\"\u001b[39m,\n",
       "        \u001b[32m\"rx.SingleSubscriber\"\u001b[39m,\n",
       "        \u001b[32m\"rx.Subscription\"\u001b[39m,\n",
       "        \u001b[32m\"rx.subscriptions.RefCountSubscription\"\u001b[39m\n",
       "      ),\n",
       "      \u001b[32m\"void unsubscribe\\\\(\\\\)\"\u001b[39m,\n",
       "      \u001b[32m\"rxJava_unsubscribe\"\u001b[39m\n",
       "    ),\n",
       "    \u001b[33mList\u001b[39m(_T_, \u001b[33mNamedPureVar\u001b[39m(\u001b[32m\"s\"\u001b[39m))\n",
       "  )\n",
       ")\n",
       "\u001b[36mcallSpec\u001b[39m: \u001b[32mLSSpec\u001b[39m = \u001b[33mLSSpec\u001b[39m(\n",
       "  \u001b[33mList\u001b[39m(\u001b[33mNamedPureVar\u001b[39m(\u001b[32m\"l\"\u001b[39m)),\n",
       "  \u001b[33mList\u001b[39m(\u001b[33mNamedPureVar\u001b[39m(\u001b[32m\"s\"\u001b[39m)),\n",
       "  \u001b[33mNS\u001b[39m(\n",
       "    \u001b[33mOAbsMsg\u001b[39m(\n",
       "      CIExit,\n",
       "      \u001b[33mSubClassMatcher\u001b[39m(\n",
       "        \u001b[33mSet\u001b[39m(\u001b[32m\"rx.Single\"\u001b[39m),\n",
       "        \u001b[32m\"rx.Subscription subscribe\\\\(rx.functions.Action1\\\\)\"\u001b[39m,\n",
       "        \u001b[32m\"RxJava_subscribe\"\u001b[39m\n",
       "      ),\n",
       "      \u001b[33mList\u001b[39m(\u001b[33mNamedPureVar\u001b[39m(\u001b[32m\"s\"\u001b[39m), _T_, \u001b[33mNamedPureVar\u001b[39m(\u001b[32m\"l\"\u001b[39m))\n",
       "    ),\n",
       "    \u001b[33mOAbsMsg\u001b[39m(\n",
       "      CIExit,\n",
       "      \u001b[33mSubClassMatcher\u001b[39m(\n",
       "        \u001b[33mSet\u001b[39m(\n",
       "          \u001b[32m\"rx.Subscriber\"\u001b[39m,\n",
       "          \u001b[32m\"rx.SingleSubscriber\"\u001b[39m,\n",
       "          \u001b[32m\"rx.Subscription\"\u001b[39m,\n",
       "          \u001b[32m\"rx.subscriptions.RefCountSubscription\"\u001b[39m\n",
       "        ),\n",
       "        \u001b[32m\"void unsubscribe\\\\(\\\\)\"\u001b[39m,\n",
       "        \u001b[32m\"rxJava_unsubscribe\"\u001b[39m\n",
       "      ),\n",
       "      \u001b[33mList\u001b[39m(_T_, \u001b[33mNamedPureVar\u001b[39m(\u001b[32m\"s\"\u001b[39m))\n",
       "    )\n",
       "  ),\n",
       "  \u001b[33mOAbsMsg\u001b[39m(\n",
       "    CBEnter,\n",
       "    \u001b[33mSubClassMatcher\u001b[39m(\n",
       "      \u001b[33mSet\u001b[39m(\u001b[32m\"rx.functions.Action1\"\u001b[39m),\n",
       "      \u001b[32m\"void call\\\\(java.lang.Object\\\\)\"\u001b[39m,\n",
       "      \u001b[32m\"rxJava_call\"\u001b[39m\n",
       "    ),\n",
       "    \u001b[33mList\u001b[39m(_T_, \u001b[33mNamedPureVar\u001b[39m(\u001b[32m\"l\"\u001b[39m))\n",
       "  ),\n",
       "  \u001b[33mSet\u001b[39m()\n",
       ")"
      ]
     },
     "execution_count": 59,
     "metadata": {},
     "output_type": "execute_result"
    }
   ],
   "source": [
    "  val l = NamedPureVar(\"l\")\n",
    "  val s = NamedPureVar(\"s\")\n",
    "\n",
    "  val subUnsub = NS(\n",
    "    SpecSignatures.RxJava_subscribe_exit,\n",
    "    SpecSignatures.RxJava_unsubscribe_exit)\n",
    "  val callSpec:LSSpec = LSSpec(l::Nil, s::Nil, subUnsub, SpecSignatures.RxJava_call_entry)\n"
   ]
  },
  {
   "cell_type": "markdown",
   "metadata": {},
   "source": [
    "Let us run it again with the proper `getActivity` and `call` History Implications and see what happens."
   ]
  },
  {
   "cell_type": "code",
   "execution_count": 60,
   "metadata": {},
   "outputs": [
    {
     "name": "stdout",
     "output_type": "stream",
     "text": [
      "result: Witnessed\n"
     ]
    },
    {
     "data": {
      "text/plain": [
       "\u001b[36mcfgWithSoundSpec\u001b[39m: \u001b[32mRunConfig\u001b[39m = \u001b[33mRunConfig\u001b[39m(\n",
       "  \u001b[32m\"/home/notebooks/AntennapodPlayerFragment_fix/app/build/outputs/apk/debug/app-debug.apk\"\u001b[39m,\n",
       "  \u001b[33mSome\u001b[39m(\u001b[32m\"/home/notebooks/ExampleOut\"\u001b[39m),\n",
       "  \u001b[32mNone\u001b[39m,\n",
       "  \u001b[33mPickleSpec\u001b[39m(\n",
       "    \u001b[33mSet\u001b[39m(\n",
       "      \u001b[33mLSSpec\u001b[39m(\n",
       "        \u001b[33mList\u001b[39m(\u001b[33mNamedPureVar\u001b[39m(\u001b[32m\"a\"\u001b[39m), \u001b[33mNamedPureVar\u001b[39m(\u001b[32m\"f\"\u001b[39m)),\n",
       "        \u001b[33mList\u001b[39m(),\n",
       "        \u001b[33mOr\u001b[39m(\n",
       "          \u001b[33mNS\u001b[39m(\n",
       "            \u001b[33mOAbsMsg\u001b[39m(\n",
       "              CBExit,\n",
       "              \u001b[33mSubClassMatcher\u001b[39m(\n",
       "                \u001b[33mSet\u001b[39m(\n",
       "                  \u001b[32m\"android.app.Fragment\"\u001b[39m,\n",
       "                  \u001b[32m\"androidx.fragment.app.Fragment\"\u001b[39m,\n",
       "                  \u001b[32m\"android.support.v4.app.Fragment\"\u001b[39m\n",
       "                ),\n",
       "                \u001b[32m\"void onDestroy\\\\(\\\\)\"\u001b[39m,\n",
       "                \u001b[32m\"Fragment_onDestroy\"\u001b[39m\n",
       "              ),\n",
       "              \u001b[33mList\u001b[39m(_T_, \u001b[33mNamedPureVar\u001b[39m(\u001b[32m\"f\"\u001b[39m))\n",
       "            ),\n",
       "            \u001b[33mOAbsMsg\u001b[39m(\n",
       "              CBEnter,\n",
       "              \u001b[33mSubClassMatcher\u001b[39m(\n",
       "                \u001b[33mSet\u001b[39m(\n",
       "                  \u001b[32m\"android.app.Fragment\"\u001b[39m,\n",
       "                  \u001b[32m\"androidx.fragment.app.Fragment\"\u001b[39m,\n",
       "                  \u001b[32m\"android.support.v4.app.Fragment\"\u001b[39m\n",
       "                ),\n",
       "                \u001b[32m\"void onActivityCreated\\\\(android.os.Bundle\\\\)\"\u001b[39m,\n",
       "                \u001b[32m\"Fragment_onActivityCreated\"\u001b[39m\n",
       "              ),\n",
       "              \u001b[33mList\u001b[39m(_T_, \u001b[33mNamedPureVar\u001b[39m(\u001b[32m\"f\"\u001b[39m))\n",
       "            )\n",
       "          ),\n",
       "...\n",
       "\u001b[36mres59_1\u001b[39m: \u001b[32mFile\u001b[39m = /home/notebooks/ExampleOut/cfg.json\n",
       "\u001b[36mres\u001b[39m: \u001b[32mDriver\u001b[39m.\u001b[32mLocResult\u001b[39m = \u001b[33mLocResult\u001b[39m(\n",
       "  \u001b[33mReceiverNonNull\u001b[39m(\n",
       "    \u001b[33mSignature\u001b[39m(\n",
       "      \u001b[32m\"com.example.row1antennapodrxjava.ui.main.PlayerFragment\"\u001b[39m,\n",
       "      \u001b[32m\"void call(java.lang.Object)\"\u001b[39m\n",
       "    ),\n",
       "    \u001b[32m63\u001b[39m,\n",
       "    \u001b[32mNone\u001b[39m\n",
       "  ),\n",
       "  \u001b[32m-1\u001b[39m,\n",
       "  \u001b[33mAppLoc\u001b[39m(\n",
       "    \u001b[33mSerializedIRMethodLoc\u001b[39m(\n",
       "      \u001b[32m\"com.example.row1antennapodrxjava.ui.main.PlayerFragment\"\u001b[39m,\n",
       "      \u001b[32m\"void call(java.lang.Object)\"\u001b[39m,\n",
       "      \u001b[33mList\u001b[39m(\n",
       "        \u001b[33mSome\u001b[39m(\n",
       "          \u001b[33mLocalWrapper\u001b[39m(\n",
       "            \u001b[32m\"@this\"\u001b[39m,\n",
       "            \u001b[32m\"com.example.row1antennapodrxjava.ui.main.PlayerFragment\"\u001b[39m\n",
       "          )\n",
       "        ),\n",
       "        \u001b[33mSome\u001b[39m(\u001b[33mLocalWrapper\u001b[39m(\u001b[32m\"@parameter0\"\u001b[39m, \u001b[32m\"java.lang.Object\"\u001b[39m))\n",
       "      )\n",
       "    ),\n",
       "    \u001b[33mSerializedIRLineLoc\u001b[39m(\n",
       "      \u001b[32m63\u001b[39m,\n",
       "      \u001b[32m\"line: 63 virtualinvoke $r2.<java.lang.Object: java.lang.String toString()>()\"\u001b[39m,\n",
       "      \u001b[32m576984617\u001b[39m\n",
       "    ),\n",
       "    true\n",
       "  ),\n",
       "  Witnessed,\n",
       "  MultiCallback,\n",
       "  \u001b[32m2L\u001b[39m,\n",
       "  \u001b[33mDepthResult\u001b[39m(\u001b[32m105\u001b[39m, \u001b[32m7\u001b[39m, \u001b[32m4\u001b[39m, Witnessed),\n",
       "  \u001b[33mList\u001b[39m(\n",
       "    \u001b[33mList\u001b[39m(\n",
       "      \u001b[32m\"witnessed\"\u001b[39m,\n",
       "..."
      ]
     },
     "execution_count": 60,
     "metadata": {},
     "output_type": "execute_result"
    }
   ],
   "source": [
    "val cfgWithSoundSpec = cfg.copy(specSet = PickleSpec(Set(getActivityNull,callSpec)))\n",
    "cfgPath.overwrite(write(cfgWithSoundSpec))\n",
    "val res = runHistoriaWithSpec(cfgPath)\n",
    "println(s\"result: ${res.resultSummary}\")\n"
   ]
  },
  {
   "cell_type": "markdown",
   "metadata": {},
   "source": [
    "Another alarm occurred.  Lets look at the witness:"
   ]
  },
  {
   "cell_type": "code",
   "execution_count": 61,
   "metadata": {},
   "outputs": [
    {
     "name": "stdout",
     "output_type": "stream",
     "text": [
      "witnessed\n",
      "    WITNESSED: [CB Inv] com.example.row1antennapodrxjava.ui.main.PlayerFragment void onActivityCreated(android.os.Bundle)\n",
      "       state: (    heap:           pure: p-2  !=  NULL && p-4  !=  NULL && p-3  !=  NULL && p-1  !=  NULL         types: List(p-1:{8107,8119}, p-3:{759,6271,6272,6274,6287 ...}, p-4:{8107,8119}, p-2:{8107,8119}, p-5:{759,6271,6272,6274,6287 ...})    trace: O(CBEnter I_CBEnter_FragmentonActivityCreated ( _T_,p-4 );O(CIExit I_CIExit_RxJavasubscribe ( p-5,_T_,p-4 );O(CBEnter I_CBEnter_FragmentonActivityCreated ( _T_,p-2 );O(CIExit I_CIExit_RxJavasubscribe ( p-3,_T_,p-2 );O(CIExit I_CIExit_rxJavaunsubscribe ( _T_,p-3 );O(CBExit I_CBExit_FragmentonDestroy ( _T_,p-2 );O(CBEnter I_CBEnter_rxJavacall ( _T_,p-1 );O(CIExit I_CIExit_FragmentgetActivity ( NULL,p-1 ))\n",
      "    pre-line: -1 r0 := @this: com.example.row1antennapodrxjava.ui.main.PlayerFragment\n",
      "       state: ( locals: @this -> p-4         heap:           pure: p-2  !=  NULL && p-4  !=  NULL && p-3  !=  NULL && p-1  !=  NULL         types: List(p-1:{8107,8119}, p-3:{759,6271,6272,6274,6287 ...}, p-4:{8107,8119}, p-2:{8107,8119}, p-5:{759,6271,6272,6274,6287 ...})    trace: O(CIExit I_CIExit_RxJavasubscribe ( p-5,_T_,p-4 );O(CBEnter I_CBEnter_FragmentonActivityCreated ( _T_,p-2 );O(CIExit I_CIExit_RxJavasubscribe ( p-3,_T_,p-2 );O(CIExit I_CIExit_rxJavaunsubscribe ( _T_,p-3 );O(CBExit I_CBExit_FragmentonDestroy ( _T_,p-2 );O(CBEnter I_CBEnter_rxJavacall ( _T_,p-1 );O(CIExit I_CIExit_FragmentgetActivity ( NULL,p-1 ))\n",
      "    pre-line: 47 specialinvoke r0.<androidx.fragment.app.Fragment: void onActivityCreated(android.os.Bundle)>($r1)\n",
      "       state: ( locals: r0 -> p-4         heap:           pure: p-2  !=  NULL && p-4  !=  NULL && p-3  !=  NULL && p-1  !=  NULL         types: List(p-1:{8107,8119}, p-3:{759,6271,6272,6274,6287 ...}, p-4:{8107,8119}, p-2:{8107,8119}, p-5:{759,6271,6272,6274,6287 ...})    trace: O(CIExit I_CIExit_RxJavasubscribe ( p-5,_T_,p-4 );O(CBEnter I_CBEnter_FragmentonActivityCreated ( _T_,p-2 );O(CIExit I_CIExit_RxJavasubscribe ( p-3,_T_,p-2 );O(CIExit I_CIExit_rxJavaunsubscribe ( _T_,p-3 );O(CBExit I_CBExit_FragmentonDestroy ( _T_,p-2 );O(CBEnter I_CBEnter_rxJavacall ( _T_,p-1 );O(CIExit I_CIExit_FragmentgetActivity ( NULL,p-1 ))\n",
      "    [CI Inv merge] void onActivityCreated(android.os.Bundle)\n",
      "       state: ([CI Ret] androidx.fragment.app.Fragment void onActivityCreated(android.os.Bundle) locals:       locals: r0 -> p-4         heap:           pure: p-2  !=  NULL && p-4  !=  NULL && p-3  !=  NULL && p-1  !=  NULL         types: List(p-1:{8107,8119}, p-3:{759,6271,6272,6274,6287 ...}, p-4:{8107,8119}, p-2:{8107,8119}, p-5:{759,6271,6272,6274,6287 ...})    trace: O(CIExit I_CIExit_RxJavasubscribe ( p-5,_T_,p-4 );O(CBEnter I_CBEnter_FragmentonActivityCreated ( _T_,p-2 );O(CIExit I_CIExit_RxJavasubscribe ( p-3,_T_,p-2 );O(CIExit I_CIExit_rxJavaunsubscribe ( _T_,p-3 );O(CBExit I_CBExit_FragmentonDestroy ( _T_,p-2 );O(CBEnter I_CBEnter_rxJavacall ( _T_,p-1 );O(CIExit I_CIExit_FragmentgetActivity ( NULL,p-1 ))\n",
      "    [CI Ret merge] void onActivityCreated(android.os.Bundle)\n",
      "       state: ([CI Ret] androidx.fragment.app.Fragment void onActivityCreated(android.os.Bundle) locals:       locals: r0 -> p-4         heap:           pure: p-2  !=  NULL && p-4  !=  NULL && p-3  !=  NULL && p-1  !=  NULL         types: List(p-1:{8107,8119}, p-3:{759,6271,6272,6274,6287 ...}, p-4:{8107,8119}, p-2:{8107,8119}, p-5:{759,6271,6272,6274,6287 ...})    trace: O(CIExit I_CIExit_RxJavasubscribe ( p-5,_T_,p-4 );O(CBEnter I_CBEnter_FragmentonActivityCreated ( _T_,p-2 );O(CIExit I_CIExit_RxJavasubscribe ( p-3,_T_,p-2 );O(CIExit I_CIExit_rxJavaunsubscribe ( _T_,p-3 );O(CBExit I_CBExit_FragmentonDestroy ( _T_,p-2 );O(CBEnter I_CBEnter_rxJavacall ( _T_,p-1 );O(CIExit I_CIExit_FragmentgetActivity ( NULL,p-1 ))\n",
      "    pre-line: 48 $r3 = staticinvoke <rx.Single: rx.Single create(rx.Single$OnSubscribe)>($r2)\n",
      "       state: ( locals: r0 -> p-4         heap:           pure: p-2  !=  NULL && p-3  !=  NULL && p-1  !=  NULL         types: List(p-1:{8107,8119}, p-3:{759,6271,6272,6274,6287 ...}, p-4:{8107,8119}, p-2:{8107,8119}, p-5:{759,6271,6272,6274,6287 ...})    trace: O(CIExit I_CIExit_RxJavasubscribe ( p-5,_T_,p-4 );O(CBEnter I_CBEnter_FragmentonActivityCreated ( _T_,p-2 );O(CIExit I_CIExit_RxJavasubscribe ( p-3,_T_,p-2 );O(CIExit I_CIExit_rxJavaunsubscribe ( _T_,p-3 );O(CBExit I_CBExit_FragmentonDestroy ( _T_,p-2 );O(CBEnter I_CBEnter_rxJavacall ( _T_,p-1 );O(CIExit I_CIExit_FragmentgetActivity ( NULL,p-1 ))\n",
      "    [CI Inv merge] rx.Single create(rx.Single$OnSubscribe)\n",
      "       state: ([CI Ret] rx.Single rx.Single create(rx.Single$OnSubscribe) locals:       locals: r0 -> p-4         heap:           pure: p-2  !=  NULL && p-3  !=  NULL && p-1  !=  NULL         types: List(p-1:{8107,8119}, p-3:{759,6271,6272,6274,6287 ...}, p-4:{8107,8119}, p-2:{8107,8119}, p-5:{759,6271,6272,6274,6287 ...})    trace: O(CIExit I_CIExit_RxJavasubscribe ( p-5,_T_,p-4 );O(CBEnter I_CBEnter_FragmentonActivityCreated ( _T_,p-2 );O(CIExit I_CIExit_RxJavasubscribe ( p-3,_T_,p-2 );O(CIExit I_CIExit_rxJavaunsubscribe ( _T_,p-3 );O(CBExit I_CBExit_FragmentonDestroy ( _T_,p-2 );O(CBEnter I_CBEnter_rxJavacall ( _T_,p-1 );O(CIExit I_CIExit_FragmentgetActivity ( NULL,p-1 ))\n",
      "    [CI Ret merge] rx.Single create(rx.Single$OnSubscribe)\n",
      "       state: ([CI Ret] rx.Single rx.Single create(rx.Single$OnSubscribe) locals:       locals: r0 -> p-4         heap:           pure: p-2  !=  NULL && p-3  !=  NULL && p-1  !=  NULL         types: List(p-1:{8107,8119}, p-3:{759,6271,6272,6274,6287 ...}, p-4:{8107,8119}, p-2:{8107,8119}, p-5:{759,6271,6272,6274,6287 ...})    trace: O(CIExit I_CIExit_RxJavasubscribe ( p-5,_T_,p-4 );O(CBEnter I_CBEnter_FragmentonActivityCreated ( _T_,p-2 );O(CIExit I_CIExit_RxJavasubscribe ( p-3,_T_,p-2 );O(CIExit I_CIExit_rxJavaunsubscribe ( _T_,p-3 );O(CBExit I_CBExit_FragmentonDestroy ( _T_,p-2 );O(CBEnter I_CBEnter_rxJavacall ( _T_,p-1 );O(CIExit I_CIExit_FragmentgetActivity ( NULL,p-1 ))\n",
      "    pre-line: 55 $r4 = staticinvoke <rx.schedulers.Schedulers: rx.Scheduler newThread()>()\n",
      "       state: ( locals: r0 -> p-4,$r3 -> p-6         heap:           pure: p-2  !=  NULL && p-3  !=  NULL && p-6  !=  NULL && p-1  !=  NULL         types: List(p-1:{8107,8119}, p-3:{759,6271,6272,6274,6287 ...}, p-4:{8107,8119}, p-2:{8107,8119}, p-6:{6279,7017}, p-5:{759,6271,6272,6274,6287 ...})    trace: O(CIExit I_CIExit_RxJavasubscribe ( p-5,_T_,p-4 );O(CBEnter I_CBEnter_FragmentonActivityCreated ( _T_,p-2 );O(CIExit I_CIExit_RxJavasubscribe ( p-3,_T_,p-2 );O(CIExit I_CIExit_rxJavaunsubscribe ( _T_,p-3 );O(CBExit I_CBExit_FragmentonDestroy ( _T_,p-2 );O(CBEnter I_CBEnter_rxJavacall ( _T_,p-1 );O(CIExit I_CIExit_FragmentgetActivity ( NULL,p-1 ))\n",
      "    [CI Inv merge] rx.Scheduler newThread()\n",
      "       state: ([CI Ret] rx.schedulers.Schedulers rx.Scheduler newThread() locals:       locals: r0 -> p-4,$r3 -> p-6         heap:           pure: p-2  !=  NULL && p-3  !=  NULL && p-6  !=  NULL && p-1  !=  NULL         types: List(p-1:{8107,8119}, p-3:{759,6271,6272,6274,6287 ...}, p-4:{8107,8119}, p-2:{8107,8119}, p-6:{6279,7017}, p-5:{759,6271,6272,6274,6287 ...})    trace: O(CIExit I_CIExit_RxJavasubscribe ( p-5,_T_,p-4 );O(CBEnter I_CBEnter_FragmentonActivityCreated ( _T_,p-2 );O(CIExit I_CIExit_RxJavasubscribe ( p-3,_T_,p-2 );O(CIExit I_CIExit_rxJavaunsubscribe ( _T_,p-3 );O(CBExit I_CBExit_FragmentonDestroy ( _T_,p-2 );O(CBEnter I_CBEnter_rxJavacall ( _T_,p-1 );O(CIExit I_CIExit_FragmentgetActivity ( NULL,p-1 ))\n",
      "    [CI Ret merge] rx.Scheduler newThread()\n",
      "       state: ([CI Ret] rx.schedulers.Schedulers rx.Scheduler newThread() locals:       locals: r0 -> p-4,$r3 -> p-6         heap:           pure: p-2  !=  NULL && p-3  !=  NULL && p-6  !=  NULL && p-1  !=  NULL         types: List(p-1:{8107,8119}, p-3:{759,6271,6272,6274,6287 ...}, p-4:{8107,8119}, p-2:{8107,8119}, p-6:{6279,7017}, p-5:{759,6271,6272,6274,6287 ...})    trace: O(CIExit I_CIExit_RxJavasubscribe ( p-5,_T_,p-4 );O(CBEnter I_CBEnter_FragmentonActivityCreated ( _T_,p-2 );O(CIExit I_CIExit_RxJavasubscribe ( p-3,_T_,p-2 );O(CIExit I_CIExit_rxJavaunsubscribe ( _T_,p-3 );O(CBExit I_CBExit_FragmentonDestroy ( _T_,p-2 );O(CBEnter I_CBEnter_rxJavacall ( _T_,p-1 );O(CIExit I_CIExit_FragmentgetActivity ( NULL,p-1 ))\n",
      "    pre-line: 55 $r3 = virtualinvoke $r3.<rx.Single: rx.Single subscribeOn(rx.Scheduler)>($r4)\n",
      "       state: ( locals: r0 -> p-4,$r3 -> p-6         heap:           pure: p-2  !=  NULL && p-3  !=  NULL && p-6  !=  NULL && p-1  !=  NULL         types: List(p-1:{8107,8119}, p-3:{759,6271,6272,6274,6287 ...}, p-4:{8107,8119}, p-2:{8107,8119}, p-6:{6279,7017}, p-5:{759,6271,6272,6274,6287 ...})    trace: O(CIExit I_CIExit_RxJavasubscribe ( p-5,_T_,p-4 );O(CBEnter I_CBEnter_FragmentonActivityCreated ( _T_,p-2 );O(CIExit I_CIExit_RxJavasubscribe ( p-3,_T_,p-2 );O(CIExit I_CIExit_rxJavaunsubscribe ( _T_,p-3 );O(CBExit I_CBExit_FragmentonDestroy ( _T_,p-2 );O(CBEnter I_CBEnter_rxJavacall ( _T_,p-1 );O(CIExit I_CIExit_FragmentgetActivity ( NULL,p-1 ))\n",
      "    [CI Inv merge] rx.Single subscribeOn(rx.Scheduler)\n",
      "       state: ([CI Ret] rx.Single rx.Single subscribeOn(rx.Scheduler) locals:       locals: r0 -> p-4,$r3 -> p-6         heap:           pure: p-2  !=  NULL && p-3  !=  NULL && p-6  !=  NULL && p-1  !=  NULL         types: List(p-1:{8107,8119}, p-3:{759,6271,6272,6274,6287 ...}, p-4:{8107,8119}, p-2:{8107,8119}, p-6:{6279,7017}, p-5:{759,6271,6272,6274,6287 ...})    trace: O(CIExit I_CIExit_RxJavasubscribe ( p-5,_T_,p-4 );O(CBEnter I_CBEnter_FragmentonActivityCreated ( _T_,p-2 );O(CIExit I_CIExit_RxJavasubscribe ( p-3,_T_,p-2 );O(CIExit I_CIExit_rxJavaunsubscribe ( _T_,p-3 );O(CBExit I_CBExit_FragmentonDestroy ( _T_,p-2 );O(CBEnter I_CBEnter_rxJavacall ( _T_,p-1 );O(CIExit I_CIExit_FragmentgetActivity ( NULL,p-1 ))\n",
      "    [CI Ret merge] rx.Single subscribeOn(rx.Scheduler)\n",
      "       state: ([CI Ret] rx.Single rx.Single subscribeOn(rx.Scheduler) locals:       locals: r0 -> p-4,$r3 -> p-6         heap:           pure: p-2  !=  NULL && p-3  !=  NULL && p-6  !=  NULL && p-1  !=  NULL         types: List(p-1:{8107,8119}, p-3:{759,6271,6272,6274,6287 ...}, p-4:{8107,8119}, p-2:{8107,8119}, p-6:{6279,7017}, p-5:{759,6271,6272,6274,6287 ...})    trace: O(CIExit I_CIExit_RxJavasubscribe ( p-5,_T_,p-4 );O(CBEnter I_CBEnter_FragmentonActivityCreated ( _T_,p-2 );O(CIExit I_CIExit_RxJavasubscribe ( p-3,_T_,p-2 );O(CIExit I_CIExit_rxJavaunsubscribe ( _T_,p-3 );O(CBExit I_CBExit_FragmentonDestroy ( _T_,p-2 );O(CBEnter I_CBEnter_rxJavacall ( _T_,p-1 );O(CIExit I_CIExit_FragmentgetActivity ( NULL,p-1 ))\n",
      "    pre-line: 56 $r4 = staticinvoke <rx.android.schedulers.AndroidSchedulers: rx.Scheduler mainThread()>()\n",
      "       state: ( locals: r0 -> p-4,$r3 -> p-6         heap:           pure: p-2  !=  NULL && p-3  !=  NULL && p-6  !=  NULL && p-1  !=  NULL         types: List(p-1:{8107,8119}, p-3:{759,6271,6272,6274,6287 ...}, p-4:{8107,8119}, p-2:{8107,8119}, p-6:{6279,7017}, p-5:{759,6271,6272,6274,6287 ...})    trace: O(CIExit I_CIExit_RxJavasubscribe ( p-5,_T_,p-4 );O(CBEnter I_CBEnter_FragmentonActivityCreated ( _T_,p-2 );O(CIExit I_CIExit_RxJavasubscribe ( p-3,_T_,p-2 );O(CIExit I_CIExit_rxJavaunsubscribe ( _T_,p-3 );O(CBExit I_CBExit_FragmentonDestroy ( _T_,p-2 );O(CBEnter I_CBEnter_rxJavacall ( _T_,p-1 );O(CIExit I_CIExit_FragmentgetActivity ( NULL,p-1 ))\n",
      "    [CI Inv merge] rx.Scheduler mainThread()\n",
      "       state: ([CI Ret] rx.android.schedulers.AndroidSchedulers rx.Scheduler mainThread() locals:       locals: r0 -> p-4,$r3 -> p-6         heap:           pure: p-2  !=  NULL && p-3  !=  NULL && p-6  !=  NULL && p-1  !=  NULL         types: List(p-1:{8107,8119}, p-3:{759,6271,6272,6274,6287 ...}, p-4:{8107,8119}, p-2:{8107,8119}, p-6:{6279,7017}, p-5:{759,6271,6272,6274,6287 ...})    trace: O(CIExit I_CIExit_RxJavasubscribe ( p-5,_T_,p-4 );O(CBEnter I_CBEnter_FragmentonActivityCreated ( _T_,p-2 );O(CIExit I_CIExit_RxJavasubscribe ( p-3,_T_,p-2 );O(CIExit I_CIExit_rxJavaunsubscribe ( _T_,p-3 );O(CBExit I_CBExit_FragmentonDestroy ( _T_,p-2 );O(CBEnter I_CBEnter_rxJavacall ( _T_,p-1 );O(CIExit I_CIExit_FragmentgetActivity ( NULL,p-1 ))\n",
      "    [CI Ret merge] rx.Scheduler mainThread()\n",
      "       state: ([CI Ret] rx.android.schedulers.AndroidSchedulers rx.Scheduler mainThread() locals:       locals: r0 -> p-4,$r3 -> p-6         heap:           pure: p-2  !=  NULL && p-3  !=  NULL && p-6  !=  NULL && p-1  !=  NULL         types: List(p-1:{8107,8119}, p-3:{759,6271,6272,6274,6287 ...}, p-4:{8107,8119}, p-2:{8107,8119}, p-6:{6279,7017}, p-5:{759,6271,6272,6274,6287 ...})    trace: O(CIExit I_CIExit_RxJavasubscribe ( p-5,_T_,p-4 );O(CBEnter I_CBEnter_FragmentonActivityCreated ( _T_,p-2 );O(CIExit I_CIExit_RxJavasubscribe ( p-3,_T_,p-2 );O(CIExit I_CIExit_rxJavaunsubscribe ( _T_,p-3 );O(CBExit I_CBExit_FragmentonDestroy ( _T_,p-2 );O(CBEnter I_CBEnter_rxJavacall ( _T_,p-1 );O(CIExit I_CIExit_FragmentgetActivity ( NULL,p-1 ))\n",
      "    pre-line: 56 $r3 = virtualinvoke $r3.<rx.Single: rx.Single observeOn(rx.Scheduler)>($r4)\n",
      "       state: ( locals: r0 -> p-4,$r3 -> p-6         heap:           pure: p-2  !=  NULL && p-3  !=  NULL && p-6  !=  NULL && p-1  !=  NULL         types: List(p-1:{8107,8119}, p-3:{759,6271,6272,6274,6287 ...}, p-4:{8107,8119}, p-2:{8107,8119}, p-6:{6279,7017}, p-5:{759,6271,6272,6274,6287 ...})    trace: O(CIExit I_CIExit_RxJavasubscribe ( p-5,_T_,p-4 );O(CBEnter I_CBEnter_FragmentonActivityCreated ( _T_,p-2 );O(CIExit I_CIExit_RxJavasubscribe ( p-3,_T_,p-2 );O(CIExit I_CIExit_rxJavaunsubscribe ( _T_,p-3 );O(CBExit I_CBExit_FragmentonDestroy ( _T_,p-2 );O(CBEnter I_CBEnter_rxJavacall ( _T_,p-1 );O(CIExit I_CIExit_FragmentgetActivity ( NULL,p-1 ))\n",
      "    [CI Inv merge] rx.Single observeOn(rx.Scheduler)\n",
      "       state: ([CI Ret] rx.Single rx.Single observeOn(rx.Scheduler) locals:       locals: r0 -> p-4,$r3 -> p-6         heap:           pure: p-2  !=  NULL && p-3  !=  NULL && p-6  !=  NULL && p-1  !=  NULL         types: List(p-1:{8107,8119}, p-3:{759,6271,6272,6274,6287 ...}, p-4:{8107,8119}, p-2:{8107,8119}, p-6:{6279,7017}, p-5:{759,6271,6272,6274,6287 ...})    trace: O(CIExit I_CIExit_RxJavasubscribe ( p-5,_T_,p-4 );O(CBEnter I_CBEnter_FragmentonActivityCreated ( _T_,p-2 );O(CIExit I_CIExit_RxJavasubscribe ( p-3,_T_,p-2 );O(CIExit I_CIExit_rxJavaunsubscribe ( _T_,p-3 );O(CBExit I_CBExit_FragmentonDestroy ( _T_,p-2 );O(CBEnter I_CBEnter_rxJavacall ( _T_,p-1 );O(CIExit I_CIExit_FragmentgetActivity ( NULL,p-1 ))\n",
      "    [CI Ret merge] rx.Single observeOn(rx.Scheduler)\n",
      "       state: ([CI Ret] rx.Single rx.Single observeOn(rx.Scheduler) locals:       locals: r0 -> p-4,$r3 -> p-6         heap:           pure: p-2  !=  NULL && p-3  !=  NULL && p-6  !=  NULL && p-1  !=  NULL         types: List(p-1:{8107,8119}, p-3:{759,6271,6272,6274,6287 ...}, p-4:{8107,8119}, p-2:{8107,8119}, p-6:{6279,7017}, p-5:{759,6271,6272,6274,6287 ...})    trace: O(CIExit I_CIExit_RxJavasubscribe ( p-5,_T_,p-4 );O(CBEnter I_CBEnter_FragmentonActivityCreated ( _T_,p-2 );O(CIExit I_CIExit_RxJavasubscribe ( p-3,_T_,p-2 );O(CIExit I_CIExit_rxJavaunsubscribe ( _T_,p-3 );O(CBExit I_CBExit_FragmentonDestroy ( _T_,p-2 );O(CBEnter I_CBEnter_rxJavacall ( _T_,p-1 );O(CIExit I_CIExit_FragmentgetActivity ( NULL,p-1 ))\n",
      "    pre-line: 57 $r5 = virtualinvoke $r3.<rx.Single: rx.Subscription subscribe(rx.functions.Action1)>(r0)\n",
      "       state: ( locals: r0 -> p-4,$r3 -> p-6         heap:           pure: p-2  !=  NULL && p-3  !=  NULL && p-6  !=  NULL && p-1  !=  NULL         types: List(p-1:{8107,8119}, p-3:{759,6271,6272,6274,6287 ...}, p-4:{8107,8119}, p-2:{8107,8119}, p-6:{6279,7017}, p-5:{759,6271,6272,6274,6287 ...})    trace: O(CIExit I_CIExit_RxJavasubscribe ( p-5,_T_,p-4 );O(CBEnter I_CBEnter_FragmentonActivityCreated ( _T_,p-2 );O(CIExit I_CIExit_RxJavasubscribe ( p-3,_T_,p-2 );O(CIExit I_CIExit_rxJavaunsubscribe ( _T_,p-3 );O(CBExit I_CBExit_FragmentonDestroy ( _T_,p-2 );O(CBEnter I_CBEnter_rxJavacall ( _T_,p-1 );O(CIExit I_CIExit_FragmentgetActivity ( NULL,p-1 ))\n",
      "    [CI Inv merge] rx.Subscription subscribe(rx.functions.Action1)\n",
      "       state: ([CI Ret] rx.Single rx.Subscription subscribe(rx.functions.Action1) locals:       locals: r0 -> p-4         heap:           pure: p-2  !=  NULL && p-3  !=  NULL && p-1  !=  NULL         types: List(p-1:{8107,8119}, p-3:{759,6271,6272,6274,6287 ...}, p-4:{8107,8119}, p-2:{8107,8119}, p-5:{759,6271,6272,6274,6287 ...})    trace: O(CIExit I_CIExit_RxJavasubscribe ( p-5,_T_,p-4 );O(CBEnter I_CBEnter_FragmentonActivityCreated ( _T_,p-2 );O(CIExit I_CIExit_RxJavasubscribe ( p-3,_T_,p-2 );O(CIExit I_CIExit_rxJavaunsubscribe ( _T_,p-3 );O(CBExit I_CBExit_FragmentonDestroy ( _T_,p-2 );O(CBEnter I_CBEnter_rxJavacall ( _T_,p-1 );O(CIExit I_CIExit_FragmentgetActivity ( NULL,p-1 ))\n",
      "    [CI Ret merge] rx.Subscription subscribe(rx.functions.Action1)\n",
      "       state: ([CI Ret] rx.Single rx.Subscription subscribe(rx.functions.Action1) locals:       locals: r0 -> p-4         heap:           pure: p-2  !=  NULL && p-3  !=  NULL && p-1  !=  NULL         types: List(p-1:{8107,8119}, p-3:{759,6271,6272,6274,6287 ...}, p-4:{8107,8119}, p-2:{8107,8119}, p-5:{759,6271,6272,6274,6287 ...})    trace: O(CIExit I_CIExit_RxJavasubscribe ( p-5,_T_,p-4 );O(CBEnter I_CBEnter_FragmentonActivityCreated ( _T_,p-2 );O(CIExit I_CIExit_RxJavasubscribe ( p-3,_T_,p-2 );O(CIExit I_CIExit_rxJavaunsubscribe ( _T_,p-3 );O(CBExit I_CBExit_FragmentonDestroy ( _T_,p-2 );O(CBEnter I_CBEnter_rxJavacall ( _T_,p-1 );O(CIExit I_CIExit_FragmentgetActivity ( NULL,p-1 ))\n",
      "    pre-line: 57 r0.<com.example.row1antennapodrxjava.ui.main.PlayerFragment: rx.Subscription sub> = $r5\n",
      "       state: ( locals: r0 -> p-4         heap:           pure: p-2  !=  NULL && p-3  !=  NULL && p-1  !=  NULL         types: List(p-1:{8107,8119}, p-3:{759,6271,6272,6274,6287 ...}, p-4:{8107,8119}, p-2:{8107,8119})    trace: O(CBEnter I_CBEnter_FragmentonActivityCreated ( _T_,p-2 );O(CIExit I_CIExit_RxJavasubscribe ( p-3,_T_,p-2 );O(CIExit I_CIExit_rxJavaunsubscribe ( _T_,p-3 );O(CBExit I_CBExit_FragmentonDestroy ( _T_,p-2 );O(CBEnter I_CBEnter_rxJavacall ( _T_,p-1 );O(CIExit I_CIExit_FragmentgetActivity ( NULL,p-1 ))\n",
      "    [CB Ret] com.example.row1antennapodrxjava.ui.main.PlayerFragment void onActivityCreated(android.os.Bundle)\n",
      "       state: ( locals:          heap:           pure: p-2  !=  NULL && p-3  !=  NULL && p-1  !=  NULL         types: List(p-1:{8107,8119}, p-3:{759,6271,6272,6274,6287 ...}, p-2:{8107,8119})    trace: O(CBEnter I_CBEnter_FragmentonActivityCreated ( _T_,p-2 );O(CIExit I_CIExit_RxJavasubscribe ( p-3,_T_,p-2 );O(CIExit I_CIExit_rxJavaunsubscribe ( _T_,p-3 );O(CBExit I_CBExit_FragmentonDestroy ( _T_,p-2 );O(CBEnter I_CBEnter_rxJavacall ( _T_,p-1 );O(CIExit I_CIExit_FragmentgetActivity ( NULL,p-1 ))\n",
      "    [CB Inv] com.example.row1antennapodrxjava.ui.main.PlayerFragment void onActivityCreated(android.os.Bundle)\n",
      "       state: (    heap:           pure: p-2  !=  NULL && p-3  !=  NULL && p-1  !=  NULL         types: List(p-1:{8107,8119}, p-3:{759,6271,6272,6274,6287 ...}, p-2:{8107,8119})    trace: O(CBEnter I_CBEnter_FragmentonActivityCreated ( _T_,p-2 );O(CIExit I_CIExit_RxJavasubscribe ( p-3,_T_,p-2 );O(CIExit I_CIExit_rxJavaunsubscribe ( _T_,p-3 );O(CBExit I_CBExit_FragmentonDestroy ( _T_,p-2 );O(CBEnter I_CBEnter_rxJavacall ( _T_,p-1 );O(CIExit I_CIExit_FragmentgetActivity ( NULL,p-1 ))\n",
      "    pre-line: -1 r0 := @this: com.example.row1antennapodrxjava.ui.main.PlayerFragment\n",
      "       state: ( locals: @this -> p-2         heap:           pure: p-2  !=  NULL && p-3  !=  NULL && p-1  !=  NULL         types: List(p-1:{8107,8119}, p-3:{759,6271,6272,6274,6287 ...}, p-2:{8107,8119})    trace: O(CIExit I_CIExit_RxJavasubscribe ( p-3,_T_,p-2 );O(CIExit I_CIExit_rxJavaunsubscribe ( _T_,p-3 );O(CBExit I_CBExit_FragmentonDestroy ( _T_,p-2 );O(CBEnter I_CBEnter_rxJavacall ( _T_,p-1 );O(CIExit I_CIExit_FragmentgetActivity ( NULL,p-1 ))\n",
      "    pre-line: 47 specialinvoke r0.<androidx.fragment.app.Fragment: void onActivityCreated(android.os.Bundle)>($r1)\n",
      "       state: ( locals: r0 -> p-2         heap:           pure: p-2  !=  NULL && p-3  !=  NULL && p-1  !=  NULL         types: List(p-1:{8107,8119}, p-3:{759,6271,6272,6274,6287 ...}, p-2:{8107,8119})    trace: O(CIExit I_CIExit_RxJavasubscribe ( p-3,_T_,p-2 );O(CIExit I_CIExit_rxJavaunsubscribe ( _T_,p-3 );O(CBExit I_CBExit_FragmentonDestroy ( _T_,p-2 );O(CBEnter I_CBEnter_rxJavacall ( _T_,p-1 );O(CIExit I_CIExit_FragmentgetActivity ( NULL,p-1 ))\n",
      "    [CI Inv merge] void onActivityCreated(android.os.Bundle)\n",
      "       state: ([CI Ret] androidx.fragment.app.Fragment void onActivityCreated(android.os.Bundle) locals:       locals: r0 -> p-2         heap:           pure: p-2  !=  NULL && p-3  !=  NULL && p-1  !=  NULL         types: List(p-1:{8107,8119}, p-3:{759,6271,6272,6274,6287 ...}, p-2:{8107,8119})    trace: O(CIExit I_CIExit_RxJavasubscribe ( p-3,_T_,p-2 );O(CIExit I_CIExit_rxJavaunsubscribe ( _T_,p-3 );O(CBExit I_CBExit_FragmentonDestroy ( _T_,p-2 );O(CBEnter I_CBEnter_rxJavacall ( _T_,p-1 );O(CIExit I_CIExit_FragmentgetActivity ( NULL,p-1 ))\n",
      "    [CI Ret merge] void onActivityCreated(android.os.Bundle)\n",
      "       state: ([CI Ret] androidx.fragment.app.Fragment void onActivityCreated(android.os.Bundle) locals:       locals: r0 -> p-2         heap:           pure: p-2  !=  NULL && p-3  !=  NULL && p-1  !=  NULL         types: List(p-1:{8107,8119}, p-3:{759,6271,6272,6274,6287 ...}, p-2:{8107,8119})    trace: O(CIExit I_CIExit_RxJavasubscribe ( p-3,_T_,p-2 );O(CIExit I_CIExit_rxJavaunsubscribe ( _T_,p-3 );O(CBExit I_CBExit_FragmentonDestroy ( _T_,p-2 );O(CBEnter I_CBEnter_rxJavacall ( _T_,p-1 );O(CIExit I_CIExit_FragmentgetActivity ( NULL,p-1 ))\n",
      "    pre-line: 48 $r3 = staticinvoke <rx.Single: rx.Single create(rx.Single$OnSubscribe)>($r2)\n",
      "       state: ( locals: r0 -> p-2         heap:           pure: p-2  !=  NULL && p-3  !=  NULL && p-1  !=  NULL         types: List(p-1:{8107,8119}, p-3:{759,6271,6272,6274,6287 ...}, p-2:{8107,8119})    trace: O(CIExit I_CIExit_RxJavasubscribe ( p-3,_T_,p-2 );O(CIExit I_CIExit_rxJavaunsubscribe ( _T_,p-3 );O(CBExit I_CBExit_FragmentonDestroy ( _T_,p-2 );O(CBEnter I_CBEnter_rxJavacall ( _T_,p-1 );O(CIExit I_CIExit_FragmentgetActivity ( NULL,p-1 ))\n",
      "    [CI Inv merge] rx.Single create(rx.Single$OnSubscribe)\n",
      "       state: ([CI Ret] rx.Single rx.Single create(rx.Single$OnSubscribe) locals:       locals: r0 -> p-2         heap:           pure: p-2  !=  NULL && p-3  !=  NULL && p-1  !=  NULL         types: List(p-1:{8107,8119}, p-3:{759,6271,6272,6274,6287 ...}, p-2:{8107,8119})    trace: O(CIExit I_CIExit_RxJavasubscribe ( p-3,_T_,p-2 );O(CIExit I_CIExit_rxJavaunsubscribe ( _T_,p-3 );O(CBExit I_CBExit_FragmentonDestroy ( _T_,p-2 );O(CBEnter I_CBEnter_rxJavacall ( _T_,p-1 );O(CIExit I_CIExit_FragmentgetActivity ( NULL,p-1 ))\n",
      "    [CI Ret merge] rx.Single create(rx.Single$OnSubscribe)\n",
      "       state: ([CI Ret] rx.Single rx.Single create(rx.Single$OnSubscribe) locals:       locals: r0 -> p-2         heap:           pure: p-2  !=  NULL && p-3  !=  NULL && p-1  !=  NULL         types: List(p-1:{8107,8119}, p-3:{759,6271,6272,6274,6287 ...}, p-2:{8107,8119})    trace: O(CIExit I_CIExit_RxJavasubscribe ( p-3,_T_,p-2 );O(CIExit I_CIExit_rxJavaunsubscribe ( _T_,p-3 );O(CBExit I_CBExit_FragmentonDestroy ( _T_,p-2 );O(CBEnter I_CBEnter_rxJavacall ( _T_,p-1 );O(CIExit I_CIExit_FragmentgetActivity ( NULL,p-1 ))\n",
      "    pre-line: 55 $r4 = staticinvoke <rx.schedulers.Schedulers: rx.Scheduler newThread()>()\n",
      "       state: ( locals: r0 -> p-2,$r3 -> p-4         heap:           pure: p-2  !=  NULL && p-4  !=  NULL && p-3  !=  NULL && p-1  !=  NULL         types: List(p-1:{8107,8119}, p-3:{759,6271,6272,6274,6287 ...}, p-4:{6279,7017}, p-2:{8107,8119})    trace: O(CIExit I_CIExit_RxJavasubscribe ( p-3,_T_,p-2 );O(CIExit I_CIExit_rxJavaunsubscribe ( _T_,p-3 );O(CBExit I_CBExit_FragmentonDestroy ( _T_,p-2 );O(CBEnter I_CBEnter_rxJavacall ( _T_,p-1 );O(CIExit I_CIExit_FragmentgetActivity ( NULL,p-1 ))\n",
      "    [CI Inv merge] rx.Scheduler newThread()\n",
      "       state: ([CI Ret] rx.schedulers.Schedulers rx.Scheduler newThread() locals:       locals: r0 -> p-2,$r3 -> p-4         heap:           pure: p-2  !=  NULL && p-4  !=  NULL && p-3  !=  NULL && p-1  !=  NULL         types: List(p-1:{8107,8119}, p-3:{759,6271,6272,6274,6287 ...}, p-4:{6279,7017}, p-2:{8107,8119})    trace: O(CIExit I_CIExit_RxJavasubscribe ( p-3,_T_,p-2 );O(CIExit I_CIExit_rxJavaunsubscribe ( _T_,p-3 );O(CBExit I_CBExit_FragmentonDestroy ( _T_,p-2 );O(CBEnter I_CBEnter_rxJavacall ( _T_,p-1 );O(CIExit I_CIExit_FragmentgetActivity ( NULL,p-1 ))\n",
      "    [CI Ret merge] rx.Scheduler newThread()\n",
      "       state: ([CI Ret] rx.schedulers.Schedulers rx.Scheduler newThread() locals:       locals: r0 -> p-2,$r3 -> p-4         heap:           pure: p-2  !=  NULL && p-4  !=  NULL && p-3  !=  NULL && p-1  !=  NULL         types: List(p-1:{8107,8119}, p-3:{759,6271,6272,6274,6287 ...}, p-4:{6279,7017}, p-2:{8107,8119})    trace: O(CIExit I_CIExit_RxJavasubscribe ( p-3,_T_,p-2 );O(CIExit I_CIExit_rxJavaunsubscribe ( _T_,p-3 );O(CBExit I_CBExit_FragmentonDestroy ( _T_,p-2 );O(CBEnter I_CBEnter_rxJavacall ( _T_,p-1 );O(CIExit I_CIExit_FragmentgetActivity ( NULL,p-1 ))\n",
      "    pre-line: 55 $r3 = virtualinvoke $r3.<rx.Single: rx.Single subscribeOn(rx.Scheduler)>($r4)\n",
      "       state: ( locals: r0 -> p-2,$r3 -> p-4         heap:           pure: p-2  !=  NULL && p-4  !=  NULL && p-3  !=  NULL && p-1  !=  NULL         types: List(p-1:{8107,8119}, p-3:{759,6271,6272,6274,6287 ...}, p-4:{6279,7017}, p-2:{8107,8119})    trace: O(CIExit I_CIExit_RxJavasubscribe ( p-3,_T_,p-2 );O(CIExit I_CIExit_rxJavaunsubscribe ( _T_,p-3 );O(CBExit I_CBExit_FragmentonDestroy ( _T_,p-2 );O(CBEnter I_CBEnter_rxJavacall ( _T_,p-1 );O(CIExit I_CIExit_FragmentgetActivity ( NULL,p-1 ))\n",
      "    [CI Inv merge] rx.Single subscribeOn(rx.Scheduler)\n",
      "       state: ([CI Ret] rx.Single rx.Single subscribeOn(rx.Scheduler) locals:       locals: r0 -> p-2,$r3 -> p-4         heap:           pure: p-2  !=  NULL && p-4  !=  NULL && p-3  !=  NULL && p-1  !=  NULL         types: List(p-1:{8107,8119}, p-3:{759,6271,6272,6274,6287 ...}, p-4:{6279,7017}, p-2:{8107,8119})    trace: O(CIExit I_CIExit_RxJavasubscribe ( p-3,_T_,p-2 );O(CIExit I_CIExit_rxJavaunsubscribe ( _T_,p-3 );O(CBExit I_CBExit_FragmentonDestroy ( _T_,p-2 );O(CBEnter I_CBEnter_rxJavacall ( _T_,p-1 );O(CIExit I_CIExit_FragmentgetActivity ( NULL,p-1 ))\n",
      "    [CI Ret merge] rx.Single subscribeOn(rx.Scheduler)\n",
      "       state: ([CI Ret] rx.Single rx.Single subscribeOn(rx.Scheduler) locals:       locals: r0 -> p-2,$r3 -> p-4         heap:           pure: p-2  !=  NULL && p-4  !=  NULL && p-3  !=  NULL && p-1  !=  NULL         types: List(p-1:{8107,8119}, p-3:{759,6271,6272,6274,6287 ...}, p-4:{6279,7017}, p-2:{8107,8119})    trace: O(CIExit I_CIExit_RxJavasubscribe ( p-3,_T_,p-2 );O(CIExit I_CIExit_rxJavaunsubscribe ( _T_,p-3 );O(CBExit I_CBExit_FragmentonDestroy ( _T_,p-2 );O(CBEnter I_CBEnter_rxJavacall ( _T_,p-1 );O(CIExit I_CIExit_FragmentgetActivity ( NULL,p-1 ))\n",
      "    pre-line: 56 $r4 = staticinvoke <rx.android.schedulers.AndroidSchedulers: rx.Scheduler mainThread()>()\n",
      "       state: ( locals: r0 -> p-2,$r3 -> p-4         heap:           pure: p-2  !=  NULL && p-4  !=  NULL && p-3  !=  NULL && p-1  !=  NULL         types: List(p-1:{8107,8119}, p-3:{759,6271,6272,6274,6287 ...}, p-4:{6279,7017}, p-2:{8107,8119})    trace: O(CIExit I_CIExit_RxJavasubscribe ( p-3,_T_,p-2 );O(CIExit I_CIExit_rxJavaunsubscribe ( _T_,p-3 );O(CBExit I_CBExit_FragmentonDestroy ( _T_,p-2 );O(CBEnter I_CBEnter_rxJavacall ( _T_,p-1 );O(CIExit I_CIExit_FragmentgetActivity ( NULL,p-1 ))\n",
      "    [CI Inv merge] rx.Scheduler mainThread()\n",
      "       state: ([CI Ret] rx.android.schedulers.AndroidSchedulers rx.Scheduler mainThread() locals:       locals: r0 -> p-2,$r3 -> p-4         heap:           pure: p-2  !=  NULL && p-4  !=  NULL && p-3  !=  NULL && p-1  !=  NULL         types: List(p-1:{8107,8119}, p-3:{759,6271,6272,6274,6287 ...}, p-4:{6279,7017}, p-2:{8107,8119})    trace: O(CIExit I_CIExit_RxJavasubscribe ( p-3,_T_,p-2 );O(CIExit I_CIExit_rxJavaunsubscribe ( _T_,p-3 );O(CBExit I_CBExit_FragmentonDestroy ( _T_,p-2 );O(CBEnter I_CBEnter_rxJavacall ( _T_,p-1 );O(CIExit I_CIExit_FragmentgetActivity ( NULL,p-1 ))\n",
      "    [CI Ret merge] rx.Scheduler mainThread()\n",
      "       state: ([CI Ret] rx.android.schedulers.AndroidSchedulers rx.Scheduler mainThread() locals:       locals: r0 -> p-2,$r3 -> p-4         heap:           pure: p-2  !=  NULL && p-4  !=  NULL && p-3  !=  NULL && p-1  !=  NULL         types: List(p-1:{8107,8119}, p-3:{759,6271,6272,6274,6287 ...}, p-4:{6279,7017}, p-2:{8107,8119})    trace: O(CIExit I_CIExit_RxJavasubscribe ( p-3,_T_,p-2 );O(CIExit I_CIExit_rxJavaunsubscribe ( _T_,p-3 );O(CBExit I_CBExit_FragmentonDestroy ( _T_,p-2 );O(CBEnter I_CBEnter_rxJavacall ( _T_,p-1 );O(CIExit I_CIExit_FragmentgetActivity ( NULL,p-1 ))\n",
      "    pre-line: 56 $r3 = virtualinvoke $r3.<rx.Single: rx.Single observeOn(rx.Scheduler)>($r4)\n",
      "       state: ( locals: r0 -> p-2,$r3 -> p-4         heap:           pure: p-2  !=  NULL && p-4  !=  NULL && p-3  !=  NULL && p-1  !=  NULL         types: List(p-1:{8107,8119}, p-3:{759,6271,6272,6274,6287 ...}, p-4:{6279,7017}, p-2:{8107,8119})    trace: O(CIExit I_CIExit_RxJavasubscribe ( p-3,_T_,p-2 );O(CIExit I_CIExit_rxJavaunsubscribe ( _T_,p-3 );O(CBExit I_CBExit_FragmentonDestroy ( _T_,p-2 );O(CBEnter I_CBEnter_rxJavacall ( _T_,p-1 );O(CIExit I_CIExit_FragmentgetActivity ( NULL,p-1 ))\n",
      "    [CI Inv merge] rx.Single observeOn(rx.Scheduler)\n",
      "       state: ([CI Ret] rx.Single rx.Single observeOn(rx.Scheduler) locals:       locals: r0 -> p-2,$r3 -> p-4         heap:           pure: p-2  !=  NULL && p-4  !=  NULL && p-3  !=  NULL && p-1  !=  NULL         types: List(p-1:{8107,8119}, p-3:{759,6271,6272,6274,6287 ...}, p-4:{6279,7017}, p-2:{8107,8119})    trace: O(CIExit I_CIExit_RxJavasubscribe ( p-3,_T_,p-2 );O(CIExit I_CIExit_rxJavaunsubscribe ( _T_,p-3 );O(CBExit I_CBExit_FragmentonDestroy ( _T_,p-2 );O(CBEnter I_CBEnter_rxJavacall ( _T_,p-1 );O(CIExit I_CIExit_FragmentgetActivity ( NULL,p-1 ))\n",
      "    [CI Ret merge] rx.Single observeOn(rx.Scheduler)\n",
      "       state: ([CI Ret] rx.Single rx.Single observeOn(rx.Scheduler) locals:       locals: r0 -> p-2,$r3 -> p-4         heap:           pure: p-2  !=  NULL && p-4  !=  NULL && p-3  !=  NULL && p-1  !=  NULL         types: List(p-1:{8107,8119}, p-3:{759,6271,6272,6274,6287 ...}, p-4:{6279,7017}, p-2:{8107,8119})    trace: O(CIExit I_CIExit_RxJavasubscribe ( p-3,_T_,p-2 );O(CIExit I_CIExit_rxJavaunsubscribe ( _T_,p-3 );O(CBExit I_CBExit_FragmentonDestroy ( _T_,p-2 );O(CBEnter I_CBEnter_rxJavacall ( _T_,p-1 );O(CIExit I_CIExit_FragmentgetActivity ( NULL,p-1 ))\n",
      "    pre-line: 57 $r5 = virtualinvoke $r3.<rx.Single: rx.Subscription subscribe(rx.functions.Action1)>(r0)\n",
      "       state: ( locals: r0 -> p-2,$r3 -> p-4         heap:           pure: p-2  !=  NULL && p-4  !=  NULL && p-3  !=  NULL && p-1  !=  NULL         types: List(p-1:{8107,8119}, p-3:{759,6271,6272,6274,6287 ...}, p-4:{6279,7017}, p-2:{8107,8119})    trace: O(CIExit I_CIExit_RxJavasubscribe ( p-3,_T_,p-2 );O(CIExit I_CIExit_rxJavaunsubscribe ( _T_,p-3 );O(CBExit I_CBExit_FragmentonDestroy ( _T_,p-2 );O(CBEnter I_CBEnter_rxJavacall ( _T_,p-1 );O(CIExit I_CIExit_FragmentgetActivity ( NULL,p-1 ))\n",
      "    [CI Inv merge] rx.Subscription subscribe(rx.functions.Action1)\n",
      "       state: ([CI Ret] rx.Single rx.Subscription subscribe(rx.functions.Action1) locals:       locals: r0 -> p-2         heap:           pure: p-2  !=  NULL && p-3  !=  NULL && p-1  !=  NULL         types: List(p-1:{8107,8119}, p-3:{759,6271,6272,6274,6287 ...}, p-2:{8107,8119})    trace: O(CIExit I_CIExit_RxJavasubscribe ( p-3,_T_,p-2 );O(CIExit I_CIExit_rxJavaunsubscribe ( _T_,p-3 );O(CBExit I_CBExit_FragmentonDestroy ( _T_,p-2 );O(CBEnter I_CBEnter_rxJavacall ( _T_,p-1 );O(CIExit I_CIExit_FragmentgetActivity ( NULL,p-1 ))\n",
      "    [CI Ret merge] rx.Subscription subscribe(rx.functions.Action1)\n",
      "       state: ([CI Ret] rx.Single rx.Subscription subscribe(rx.functions.Action1) locals:       locals: r0 -> p-2         heap:           pure: p-2  !=  NULL && p-3  !=  NULL && p-1  !=  NULL         types: List(p-1:{8107,8119}, p-3:{759,6271,6272,6274,6287 ...}, p-2:{8107,8119})    trace: O(CIExit I_CIExit_RxJavasubscribe ( p-3,_T_,p-2 );O(CIExit I_CIExit_rxJavaunsubscribe ( _T_,p-3 );O(CBExit I_CBExit_FragmentonDestroy ( _T_,p-2 );O(CBEnter I_CBEnter_rxJavacall ( _T_,p-1 );O(CIExit I_CIExit_FragmentgetActivity ( NULL,p-1 ))\n",
      "    pre-line: 57 r0.<com.example.row1antennapodrxjava.ui.main.PlayerFragment: rx.Subscription sub> = $r5\n",
      "       state: ( locals: r0 -> p-2,$r5 -> p-3         heap:           pure: p-2  !=  NULL && p-3  !=  NULL && p-1  !=  NULL         types: List(p-1:{8107,8119}, p-3:{759,6271,6272,6274,6287 ...}, p-2:{8107,8119})    trace: O(CIExit I_CIExit_rxJavaunsubscribe ( _T_,p-3 );O(CBExit I_CBExit_FragmentonDestroy ( _T_,p-2 );O(CBEnter I_CBEnter_rxJavacall ( _T_,p-1 );O(CIExit I_CIExit_FragmentgetActivity ( NULL,p-1 ))\n",
      "    [CB Ret] com.example.row1antennapodrxjava.ui.main.PlayerFragment void onActivityCreated(android.os.Bundle)\n",
      "       state: ( locals:          heap: p-2.sub->p-3          pure: p-1  !=  NULL && p-3  !=  NULL && p-2  !=  NULL         types: List(p-1:{8107,8119}, p-2:{8107,8119}, p-3:{759,6271,6272,6274,6287 ...})    trace: O(CIExit I_CIExit_rxJavaunsubscribe ( _T_,p-3 );O(CBExit I_CBExit_FragmentonDestroy ( _T_,p-2 );O(CBEnter I_CBEnter_rxJavacall ( _T_,p-1 );O(CIExit I_CIExit_FragmentgetActivity ( NULL,p-1 ))\n",
      "    [CB Inv] com.example.row1antennapodrxjava.ui.main.PlayerFragment void onDestroy()\n",
      "       state: (    heap: p-2.sub->p-3          pure: p-1  !=  NULL && p-3  !=  NULL && p-2  !=  NULL         types: List(p-1:{8107,8119}, p-2:{8107,8119}, p-3:{759,6271,6272,6274,6287 ...})    trace: O(CIExit I_CIExit_rxJavaunsubscribe ( _T_,p-3 );O(CBExit I_CBExit_FragmentonDestroy ( _T_,p-2 );O(CBEnter I_CBEnter_rxJavacall ( _T_,p-1 );O(CIExit I_CIExit_FragmentgetActivity ( NULL,p-1 ))\n",
      "    pre-line: -1 r0 := @this: com.example.row1antennapodrxjava.ui.main.PlayerFragment\n",
      "       state: ( locals: @this -> p-2         heap: p-2.sub->p-3          pure: p-1  !=  NULL && p-3  !=  NULL && p-2  !=  NULL         types: List(p-1:{8107,8119}, p-2:{8107,8119}, p-3:{759,6271,6272,6274,6287 ...})    trace: O(CIExit I_CIExit_rxJavaunsubscribe ( _T_,p-3 );O(CBExit I_CBExit_FragmentonDestroy ( _T_,p-2 );O(CBEnter I_CBEnter_rxJavacall ( _T_,p-1 );O(CIExit I_CIExit_FragmentgetActivity ( NULL,p-1 ))\n",
      "    pre-line: 67 specialinvoke r0.<androidx.fragment.app.Fragment: void onDestroy()>()\n",
      "       state: ( locals: @this -> p-2         heap: p-2.sub->p-3          pure: p-1  !=  NULL && p-3  !=  NULL         types: List(p-1:{8107,8119}, p-2:{8107,8119}, p-3:{759,6271,6272,6274,6287 ...})    trace: O(CIExit I_CIExit_rxJavaunsubscribe ( _T_,p-3 );O(CBExit I_CBExit_FragmentonDestroy ( _T_,p-2 );O(CBEnter I_CBEnter_rxJavacall ( _T_,p-1 );O(CIExit I_CIExit_FragmentgetActivity ( NULL,p-1 ))\n",
      "    [CI Inv merge] void onDestroy()\n",
      "       state: ([CI Ret] androidx.fragment.app.Fragment void onDestroy() locals:       locals: @this -> p-2         heap: p-2.sub->p-3          pure: p-1  !=  NULL && p-3  !=  NULL         types: List(p-1:{8107,8119}, p-2:{8107,8119}, p-3:{759,6271,6272,6274,6287 ...})    trace: O(CIExit I_CIExit_rxJavaunsubscribe ( _T_,p-3 );O(CBExit I_CBExit_FragmentonDestroy ( _T_,p-2 );O(CBEnter I_CBEnter_rxJavacall ( _T_,p-1 );O(CIExit I_CIExit_FragmentgetActivity ( NULL,p-1 ))\n",
      "    [CI Ret merge] void onDestroy()\n",
      "       state: ([CI Ret] androidx.fragment.app.Fragment void onDestroy() locals:       locals: @this -> p-2         heap: p-2.sub->p-3          pure: p-1  !=  NULL && p-3  !=  NULL         types: List(p-1:{8107,8119}, p-2:{8107,8119}, p-3:{759,6271,6272,6274,6287 ...})    trace: O(CIExit I_CIExit_rxJavaunsubscribe ( _T_,p-3 );O(CBExit I_CBExit_FragmentonDestroy ( _T_,p-2 );O(CBEnter I_CBEnter_rxJavacall ( _T_,p-1 );O(CIExit I_CIExit_FragmentgetActivity ( NULL,p-1 ))\n",
      "    pre-line: 68 $r1 = r0.<com.example.row1antennapodrxjava.ui.main.PlayerFragment: rx.Subscription sub>\n",
      "       state: ( locals: @this -> p-2         heap: p-2.sub->p-3          pure: p-1  !=  NULL && p-3  !=  NULL         types: List(p-1:{8107,8119}, p-2:{8107,8119}, p-3:{759,6271,6272,6274,6287 ...})    trace: O(CIExit I_CIExit_rxJavaunsubscribe ( _T_,p-3 );O(CBExit I_CBExit_FragmentonDestroy ( _T_,p-2 );O(CBEnter I_CBEnter_rxJavacall ( _T_,p-1 );O(CIExit I_CIExit_FragmentgetActivity ( NULL,p-1 ))\n",
      "    pre-line: 68 interfaceinvoke $r1.<rx.Subscription: void unsubscribe()>()\n",
      "       state: ( locals: @this -> p-2,$r1 -> p-3         heap:           pure: p-1  !=  NULL && p-3  !=  NULL         types: List(p-1:{8107,8119}, p-2:{8107,8119}, p-3:{759,6271,6272,6274,6287 ...})    trace: O(CIExit I_CIExit_rxJavaunsubscribe ( _T_,p-3 );O(CBExit I_CBExit_FragmentonDestroy ( _T_,p-2 );O(CBEnter I_CBEnter_rxJavacall ( _T_,p-1 );O(CIExit I_CIExit_FragmentgetActivity ( NULL,p-1 ))\n",
      "    [CI Inv merge] void unsubscribe()\n",
      "       state: ([CI Ret] rx.subscriptions.RefCountSubscription void unsubscribe() locals:       locals: @this -> p-2,$r1 -> p-3         heap:           pure: p-1  !=  NULL         types: List(p-1:{8107,8119}, p-2:{8107,8119}, p-3:{759,6271,6272,6274,6287 ...})    trace: O(CIExit I_CIExit_rxJavaunsubscribe ( _T_,p-3 );O(CBExit I_CBExit_FragmentonDestroy ( _T_,p-2 );O(CBEnter I_CBEnter_rxJavacall ( _T_,p-1 );O(CIExit I_CIExit_FragmentgetActivity ( NULL,p-1 ))\n",
      "    [CI Ret merge] void unsubscribe()\n",
      "       state: ([CI Ret] rx.subscriptions.RefCountSubscription void unsubscribe() locals:       locals: @this -> p-2,$r1 -> p-3         heap:           pure: p-1  !=  NULL         types: List(p-1:{8107,8119}, p-2:{8107,8119}, p-3:{759,6271,6272,6274,6287 ...})    trace: O(CIExit I_CIExit_rxJavaunsubscribe ( _T_,p-3 );O(CBExit I_CBExit_FragmentonDestroy ( _T_,p-2 );O(CBEnter I_CBEnter_rxJavacall ( _T_,p-1 );O(CIExit I_CIExit_FragmentgetActivity ( NULL,p-1 ))\n",
      "    [CB Ret] com.example.row1antennapodrxjava.ui.main.PlayerFragment void onDestroy()\n",
      "       state: ( locals: @this -> p-2         heap:           pure: p-1  !=  NULL         types: List(p-1:{8107,8119}, p-2:{8107,8119})    trace: O(CBExit I_CBExit_FragmentonDestroy ( _T_,p-2 );O(CBEnter I_CBEnter_rxJavacall ( _T_,p-1 );O(CIExit I_CIExit_FragmentgetActivity ( NULL,p-1 ))\n",
      "    [CB Inv] com.example.row1antennapodrxjava.ui.main.PlayerFragment void call(java.lang.Object)\n",
      "       state: (    heap:           pure: p-1  !=  NULL         types: List(p-1:{8107,8119})    trace: O(CBEnter I_CBEnter_rxJavacall ( _T_,p-1 );O(CIExit I_CIExit_FragmentgetActivity ( NULL,p-1 ))\n",
      "    pre-line: -1 r0 := @this: com.example.row1antennapodrxjava.ui.main.PlayerFragment\n",
      "       state: ( locals: @this -> p-1         heap:           pure: p-1  !=  NULL         types: List(p-1:{8107,8119})    trace: O(CIExit I_CIExit_FragmentgetActivity ( NULL,p-1 ))\n",
      "    pre-line: 62 $r2 = virtualinvoke r0.<com.example.row1antennapodrxjava.ui.main.PlayerFragment: androidx.fragment.app.FragmentActivity getActivity()>()\n",
      "       state: ( locals: r0 -> p-1         heap:           pure: p-1  !=  NULL         types: List(p-1:{8107,8119})    trace: O(CIExit I_CIExit_FragmentgetActivity ( NULL,p-1 ))\n",
      "    [CI Inv merge] androidx.fragment.app.FragmentActivity getActivity()\n",
      "       state: ([CI Ret] androidx.fragment.app.Fragment androidx.fragment.app.FragmentActivity getActivity() locals:       locals: r0 -> p-1         heap:           pure:          types: List(p-1:{8107,8119})    trace: O(CIExit I_CIExit_FragmentgetActivity ( NULL,p-1 ))\n",
      "    [CI Ret merge] androidx.fragment.app.FragmentActivity getActivity()\n",
      "       state: ([CI Ret] androidx.fragment.app.Fragment androidx.fragment.app.FragmentActivity getActivity() locals:       locals: r0 -> p-1         heap:           pure:          types: List(p-1:{8107,8119})    trace: O(CIExit I_CIExit_FragmentgetActivity ( NULL,p-1 ))\n",
      "\n"
     ]
    }
   ],
   "source": [
    "println(File(\"/home/notebooks/ExampleOut/wit.witnesses\").contentAsString)"
   ]
  },
  {
   "cell_type": "markdown",
   "metadata": {},
   "source": [
    "It can be kinda difficult to see what happened since the counter example is rather busy.  However, `onActivityCreated`  was called twice in a row in this counter example (note that we shorten `onActivityCreated` to `onCreate` in the paper).  If the framework could actually invoke this callback twice, it would start two background tasks and only one would be unsubscribed.  Therefore this alarm is precise if no further CBCFTL specifications could be written.  However, it is sound to say that `onActivityCreated` is only invoked once with the following history implication.\n",
    "\n",
    "The abstract counter example shows each transition and the associated pre-state.\n",
    "Read from the top down, they correspond to a potential execution in the app.\n",
    "Practically, these are all just disjunctions at the \"framework\" location in the paper, they are just strung together for ease of use.\n",
    "\n",
    "The pre-state consists of the trace (e.g. `trace: O(CBEnter I_CBEnter_rxJavacall ( _T_,p-1 );O(CIExit I_CIExit_FragmentgetActivity ( NULL,p-1 ))`), separation logic formula, (e.g. `@this->p1`), pure constraints (e.g. `p1 != NULL`), and points-to information (e.g. `types: List(p-1:{8107,8119})`).\n",
    "\n",
    "Traces have the same meaning as the paper, they are just printed with `;` instead of `->>` and the `okhist` is elided.  The meaning of the separation logic formula is standard.  The points to analysis maintains a set of allocation sites for each pure variable represented numerically for efficiency.  There is also a call string, but it isn't printed here."
   ]
  },
  {
   "cell_type": "code",
   "execution_count": 64,
   "metadata": {},
   "outputs": [
    {
     "data": {
      "text/plain": [
       "\u001b[36mFragment_activityCreatedOnlyFirst\u001b[39m: \u001b[32mLSSpec\u001b[39m = \u001b[33mLSSpec\u001b[39m(\n",
       "  \u001b[33mList\u001b[39m(\u001b[33mNamedPureVar\u001b[39m(\u001b[32m\"f\"\u001b[39m)),\n",
       "  \u001b[33mList\u001b[39m(),\n",
       "  \u001b[33mNot\u001b[39m(\n",
       "    \u001b[33mOAbsMsg\u001b[39m(\n",
       "      CBEnter,\n",
       "      \u001b[33mSubClassMatcher\u001b[39m(\n",
       "        \u001b[33mSet\u001b[39m(\n",
       "          \u001b[32m\"android.app.Fragment\"\u001b[39m,\n",
       "          \u001b[32m\"androidx.fragment.app.Fragment\"\u001b[39m,\n",
       "          \u001b[32m\"android.support.v4.app.Fragment\"\u001b[39m\n",
       "        ),\n",
       "        \u001b[32m\"void onActivityCreated\\\\(android.os.Bundle\\\\)\"\u001b[39m,\n",
       "        \u001b[32m\"Fragment_onActivityCreated\"\u001b[39m\n",
       "      ),\n",
       "      \u001b[33mList\u001b[39m(_T_, \u001b[33mNamedPureVar\u001b[39m(\u001b[32m\"f\"\u001b[39m))\n",
       "    )\n",
       "  ),\n",
       "  \u001b[33mOAbsMsg\u001b[39m(\n",
       "    CBEnter,\n",
       "    \u001b[33mSubClassMatcher\u001b[39m(\n",
       "      \u001b[33mSet\u001b[39m(\n",
       "        \u001b[32m\"android.app.Fragment\"\u001b[39m,\n",
       "        \u001b[32m\"androidx.fragment.app.Fragment\"\u001b[39m,\n",
       "        \u001b[32m\"android.support.v4.app.Fragment\"\u001b[39m\n",
       "      ),\n",
       "      \u001b[32m\"void onActivityCreated\\\\(android.os.Bundle\\\\)\"\u001b[39m,\n",
       "      \u001b[32m\"Fragment_onActivityCreated\"\u001b[39m\n",
       "    ),\n",
       "    \u001b[33mList\u001b[39m(_T_, \u001b[33mNamedPureVar\u001b[39m(\u001b[32m\"f\"\u001b[39m))\n",
       "  ),\n",
       "  \u001b[33mSet\u001b[39m()\n",
       ")"
      ]
     },
     "execution_count": 64,
     "metadata": {},
     "output_type": "execute_result"
    }
   ],
   "source": [
    "val Fragment_activityCreatedOnlyFirst:LSSpec = LSSpec(f::Nil, Nil,\n",
    "      Not(SpecSignatures.Fragment_onActivityCreated_entry),\n",
    "    SpecSignatures.Fragment_onActivityCreated_entry)\n"
   ]
  },
  {
   "cell_type": "markdown",
   "metadata": {},
   "source": [
    "After Adding Enough Sound CBCFTL Specifications, We Can Prove the Example\n",
    "-------------------------------------------\n",
    "\n",
    "Below, we create another run configuration with 3 History Implications written above and run it again with Historia.  This time the output is proven.  This 3 corresponds to the \"specs\" column of Table 1."
   ]
  },
  {
   "cell_type": "code",
   "execution_count": 63,
   "metadata": {},
   "outputs": [
    {
     "name": "stdout",
     "output_type": "stream",
     "text": [
      "result: Proven\n"
     ]
    },
    {
     "data": {
      "text/plain": [
       "\u001b[36mcfgWithSoundSpec\u001b[39m: \u001b[32mRunConfig\u001b[39m = \u001b[33mRunConfig\u001b[39m(\n",
       "  \u001b[32m\"/home/notebooks/AntennapodPlayerFragment_fix/app/build/outputs/apk/debug/app-debug.apk\"\u001b[39m,\n",
       "  \u001b[33mSome\u001b[39m(\u001b[32m\"/home/notebooks/ExampleOut\"\u001b[39m),\n",
       "  \u001b[32mNone\u001b[39m,\n",
       "  \u001b[33mPickleSpec\u001b[39m(\n",
       "    \u001b[33mSet\u001b[39m(\n",
       "      \u001b[33mLSSpec\u001b[39m(\n",
       "        \u001b[33mList\u001b[39m(\u001b[33mNamedPureVar\u001b[39m(\u001b[32m\"a\"\u001b[39m), \u001b[33mNamedPureVar\u001b[39m(\u001b[32m\"f\"\u001b[39m)),\n",
       "        \u001b[33mList\u001b[39m(),\n",
       "        \u001b[33mOr\u001b[39m(\n",
       "          \u001b[33mNS\u001b[39m(\n",
       "            \u001b[33mOAbsMsg\u001b[39m(\n",
       "              CBExit,\n",
       "              \u001b[33mSubClassMatcher\u001b[39m(\n",
       "                \u001b[33mSet\u001b[39m(\n",
       "                  \u001b[32m\"android.app.Fragment\"\u001b[39m,\n",
       "                  \u001b[32m\"androidx.fragment.app.Fragment\"\u001b[39m,\n",
       "                  \u001b[32m\"android.support.v4.app.Fragment\"\u001b[39m\n",
       "                ),\n",
       "                \u001b[32m\"void onDestroy\\\\(\\\\)\"\u001b[39m,\n",
       "                \u001b[32m\"Fragment_onDestroy\"\u001b[39m\n",
       "              ),\n",
       "              \u001b[33mList\u001b[39m(_T_, \u001b[33mNamedPureVar\u001b[39m(\u001b[32m\"f\"\u001b[39m))\n",
       "            ),\n",
       "            \u001b[33mOAbsMsg\u001b[39m(\n",
       "              CBEnter,\n",
       "              \u001b[33mSubClassMatcher\u001b[39m(\n",
       "                \u001b[33mSet\u001b[39m(\n",
       "                  \u001b[32m\"android.app.Fragment\"\u001b[39m,\n",
       "                  \u001b[32m\"androidx.fragment.app.Fragment\"\u001b[39m,\n",
       "                  \u001b[32m\"android.support.v4.app.Fragment\"\u001b[39m\n",
       "                ),\n",
       "                \u001b[32m\"void onActivityCreated\\\\(android.os.Bundle\\\\)\"\u001b[39m,\n",
       "                \u001b[32m\"Fragment_onActivityCreated\"\u001b[39m\n",
       "              ),\n",
       "              \u001b[33mList\u001b[39m(_T_, \u001b[33mNamedPureVar\u001b[39m(\u001b[32m\"f\"\u001b[39m))\n",
       "            )\n",
       "          ),\n",
       "...\n",
       "\u001b[36mres62_1\u001b[39m: \u001b[32mFile\u001b[39m = /home/notebooks/ExampleOut/cfg.json\n",
       "\u001b[36mres\u001b[39m: \u001b[32mDriver\u001b[39m.\u001b[32mLocResult\u001b[39m = \u001b[33mLocResult\u001b[39m(\n",
       "  \u001b[33mReceiverNonNull\u001b[39m(\n",
       "    \u001b[33mSignature\u001b[39m(\n",
       "      \u001b[32m\"com.example.row1antennapodrxjava.ui.main.PlayerFragment\"\u001b[39m,\n",
       "      \u001b[32m\"void call(java.lang.Object)\"\u001b[39m\n",
       "    ),\n",
       "    \u001b[32m63\u001b[39m,\n",
       "    \u001b[32mNone\u001b[39m\n",
       "  ),\n",
       "  \u001b[32m-1\u001b[39m,\n",
       "  \u001b[33mAppLoc\u001b[39m(\n",
       "    \u001b[33mSerializedIRMethodLoc\u001b[39m(\n",
       "      \u001b[32m\"com.example.row1antennapodrxjava.ui.main.PlayerFragment\"\u001b[39m,\n",
       "      \u001b[32m\"void call(java.lang.Object)\"\u001b[39m,\n",
       "      \u001b[33mList\u001b[39m(\n",
       "        \u001b[33mSome\u001b[39m(\n",
       "          \u001b[33mLocalWrapper\u001b[39m(\n",
       "            \u001b[32m\"@this\"\u001b[39m,\n",
       "            \u001b[32m\"com.example.row1antennapodrxjava.ui.main.PlayerFragment\"\u001b[39m\n",
       "          )\n",
       "        ),\n",
       "        \u001b[33mSome\u001b[39m(\u001b[33mLocalWrapper\u001b[39m(\u001b[32m\"@parameter0\"\u001b[39m, \u001b[32m\"java.lang.Object\"\u001b[39m))\n",
       "      )\n",
       "    ),\n",
       "    \u001b[33mSerializedIRLineLoc\u001b[39m(\n",
       "      \u001b[32m63\u001b[39m,\n",
       "      \u001b[32m\"line: 63 virtualinvoke $r2.<java.lang.Object: java.lang.String toString()>()\"\u001b[39m,\n",
       "      \u001b[32m650805016\u001b[39m\n",
       "    ),\n",
       "    true\n",
       "  ),\n",
       "  Proven,\n",
       "  MultiCallback,\n",
       "  \u001b[32m2L\u001b[39m,\n",
       "  \u001b[33mDepthResult\u001b[39m(\u001b[32m-1\u001b[39m, \u001b[32m-1\u001b[39m, \u001b[32m-1\u001b[39m, Unreachable),\n",
       "  \u001b[33mList\u001b[39m(),\n",
       "  \u001b[33mList\u001b[39m()\n",
       ")"
      ]
     },
     "execution_count": 63,
     "metadata": {},
     "output_type": "execute_result"
    }
   ],
   "source": [
    "val cfgWithSoundSpec = cfg.copy(specSet = PickleSpec(Set(getActivityNull,callSpec, Fragment_activityCreatedOnlyFirst)))\n",
    "cfgPath.overwrite(write(cfgWithSoundSpec))\n",
    "val res = runHistoriaWithSpec(cfgPath)\n",
    "println(s\"result: ${res.resultSummary}\")"
   ]
  }
 ],
 "metadata": {
  "kernelspec": {
   "display_name": "Scala",
   "language": "scala",
   "name": "scala"
  },
  "language_info": {
   "codemirror_mode": "text/x-scala",
   "file_extension": ".scala",
   "mimetype": "text/x-scala",
   "name": "scala",
   "nbconvert_exporter": "script",
   "version": "2.13.2"
  }
 },
 "nbformat": 4,
 "nbformat_minor": 4
}
