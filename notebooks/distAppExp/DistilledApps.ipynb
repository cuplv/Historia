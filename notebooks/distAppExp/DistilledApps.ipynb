{
 "cells": [
  {
   "cell_type": "code",
   "execution_count": 1,
   "metadata": {},
   "outputs": [
    {
     "data": {
      "text/plain": [
       "\u001b[36mpath\u001b[39m: \u001b[32mString\u001b[39m = \u001b[32m\"/Users/shawnmeier/Documents/source/bounder/soot_hopper/target/scala-2.13/soot_hopper-assembly-0.1.jar\"\u001b[39m\n",
       "\u001b[32mimport \u001b[39m\u001b[36m$ivy.$                                      \n",
       "\u001b[39m\n",
       "\u001b[32mimport \u001b[39m\u001b[36m$ivy.$                             \n",
       "// import $ivy.`edu.colorado.plv.bounder:soot_hopper_2.13:0.1`\n",
       "\n",
       "\u001b[39m\n",
       "\u001b[32mimport \u001b[39m\u001b[36mujson.Value\n",
       "\u001b[39m\n",
       "\u001b[32mimport \u001b[39m\u001b[36msys.process._\n",
       "\n",
       "// interp.load.ivy(\"com.github.pathikrit\" %% \"better-files\" % \"3.9.1\")\n",
       "\u001b[39m\n",
       "\u001b[32mimport \u001b[39m\u001b[36m$ivy.$                                         \n",
       "\u001b[39m\n",
       "\u001b[32mimport \u001b[39m\u001b[36mbetter.files._\n",
       "\n",
       "\u001b[39m"
      ]
     },
     "execution_count": 1,
     "metadata": {},
     "output_type": "execute_result"
    }
   ],
   "source": [
    "val path = \"/Users/shawnmeier/Documents/source/bounder/soot_hopper/target/scala-2.13/soot_hopper-assembly-0.1.jar\"\n",
    "// note: use sbt assembly to create jar\n",
    "interp.load.cp(os.Path(path))\n",
    "import $ivy.`org.plotly-scala::plotly-almond:0.8.1`\n",
    "import $ivy.`com.lihaoyi:ujson_2.13:1.3.8`\n",
    "// import $ivy.`edu.colorado.plv.bounder:soot_hopper_2.13:0.1`\n",
    "\n",
    "import ujson.Value\n",
    "import sys.process._\n",
    "\n",
    "// interp.load.ivy(\"com.github.pathikrit\" %% \"better-files\" % \"3.9.1\")\n",
    "import $ivy.`com.github.pathikrit::better-files:3.9.1`\n",
    "import better.files._\n",
    "\n"
   ]
  },
  {
   "cell_type": "code",
   "execution_count": 2,
   "metadata": {},
   "outputs": [
    {
     "data": {
      "text/plain": [
       "\u001b[32mimport \u001b[39m\u001b[36mscala.util.Random\n",
       "\u001b[39m\n",
       "\u001b[32mimport \u001b[39m\u001b[36medu.colorado.plv.bounder.Driver\n",
       "\u001b[39m\n",
       "\u001b[32mimport \u001b[39m\u001b[36medu.colorado.plv.bounder.RunConfig\n",
       "\u001b[39m\n",
       "\u001b[32mimport \u001b[39m\u001b[36mupickle.default.{macroRW, read, write, ReadWriter => RW}\n",
       "\u001b[39m\n",
       "\u001b[32mimport \u001b[39m\u001b[36mscala.collection.parallel.CollectionConverters.{ImmutableSetIsParallelizable, IterableIsParallelizable}\n",
       "\n",
       "\u001b[39m\n",
       "\u001b[32mimport \u001b[39m\u001b[36mplotly._\n",
       "\u001b[39m\n",
       "\u001b[32mimport \u001b[39m\u001b[36mplotly.element._\n",
       "\u001b[39m\n",
       "\u001b[32mimport \u001b[39m\u001b[36mplotly.layout._\n",
       "\u001b[39m\n",
       "\u001b[32mimport \u001b[39m\u001b[36mplotly.Almond._\n",
       "\u001b[39m\n",
       "\u001b[32mimport \u001b[39m\u001b[36medu.colorado.plv.bounder.{BounderUtil,TestSpec,PickleSpec}\n",
       "\u001b[39m\n",
       "\u001b[32mimport \u001b[39m\u001b[36medu.colorado.plv.bounder.symbolicexecutor.state.ReceiverNonNull\n",
       "\u001b[39m\n",
       "\u001b[32mimport \u001b[39m\u001b[36medu.colorado.plv.bounder.symbolicexecutor.state.DisallowedCallin\n",
       "\u001b[39m\n",
       "\u001b[32mimport \u001b[39m\u001b[36medu.colorado.plv.bounder.symbolicexecutor.state.InitialQuery\n",
       "\u001b[39m\n",
       "\u001b[32mimport \u001b[39m\u001b[36medu.colorado.plv.bounder.lifestate.LifeState.LSSpec\n",
       "\u001b[39m\n",
       "\u001b[32mimport \u001b[39m\u001b[36medu.colorado.plv.bounder.lifestate.{FragmentGetActivityNullSpec, LifeState, LifecycleSpec, RxJavaSpec, SAsyncTask, SDialog, SpecSpace, ViewSpec}\u001b[39m"
      ]
     },
     "execution_count": 2,
     "metadata": {},
     "output_type": "execute_result"
    }
   ],
   "source": [
    "import scala.util.Random\n",
    "import edu.colorado.plv.bounder.Driver\n",
    "import edu.colorado.plv.bounder.RunConfig\n",
    "import upickle.default.{macroRW, read, write, ReadWriter => RW}\n",
    "import scala.collection.parallel.CollectionConverters.{ImmutableSetIsParallelizable, IterableIsParallelizable}\n",
    "\n",
    "import plotly._\n",
    "import plotly.element._\n",
    "import plotly.layout._\n",
    "import plotly.Almond._\n",
    "import edu.colorado.plv.bounder.{BounderUtil,TestSpec,PickleSpec}\n",
    "import edu.colorado.plv.bounder.symbolicexecutor.state.ReceiverNonNull\n",
    "import edu.colorado.plv.bounder.symbolicexecutor.state.DisallowedCallin\n",
    "import edu.colorado.plv.bounder.symbolicexecutor.state.InitialQuery\n",
    "import edu.colorado.plv.bounder.lifestate.LifeState.LSSpec\n",
    "import edu.colorado.plv.bounder.lifestate.{FragmentGetActivityNullSpec, LifeState, LifecycleSpec, RxJavaSpec, SAsyncTask, SDialog, SpecSpace, ViewSpec}"
   ]
  },
  {
   "cell_type": "code",
   "execution_count": 3,
   "metadata": {},
   "outputs": [
    {
     "data": {
      "text/plain": [
       "\u001b[36mexpDir\u001b[39m: \u001b[32mFile\u001b[39m = /Users/shawnmeier/Desktop\n",
       "\u001b[36mrc\u001b[39m: \u001b[32mRunConfig\u001b[39m = \u001b[33mRunConfig\u001b[39m(\n",
       "  \u001b[32m\"${baseDir}/target.apk\"\u001b[39m,\n",
       "  \u001b[33mSome\u001b[39m(\u001b[32m\"${baseDirOut}\"\u001b[39m),\n",
       "  \u001b[32mNone\u001b[39m,\n",
       "  TopSpecSet,\n",
       "  \u001b[33mList\u001b[39m(),\n",
       "  \u001b[32m-1\u001b[39m,\n",
       "  \u001b[32m5\u001b[39m,\n",
       "  \u001b[32m\"\"\u001b[39m,\n",
       "  \u001b[32m600\u001b[39m,\n",
       "  true\n",
       ")\n",
       "defined \u001b[32mfunction\u001b[39m \u001b[36mwcfg\u001b[39m\n",
       "defined \u001b[32mfunction\u001b[39m \u001b[36msetupTempDirForSimplified\u001b[39m\n",
       "defined \u001b[32mfunction\u001b[39m \u001b[36mrunDocker\u001b[39m\n",
       "defined \u001b[32mfunction\u001b[39m \u001b[36mrunBounderOnTmp\u001b[39m\n",
       "defined \u001b[32mfunction\u001b[39m \u001b[36mrunInferOnTmp\u001b[39m\n",
       "\u001b[36mexpList\u001b[39m: \u001b[32mList\u001b[39m[\u001b[32mString\u001b[39m] = \u001b[33mList\u001b[39m(\n",
       "  \u001b[32m\"AntennapodPlayerFragment_bug\"\u001b[39m,\n",
       "  \u001b[32m\"AntennapodPlayerFragment_fix\"\u001b[39m,\n",
       "  \u001b[32m\"AntennapodExecute_fix\"\u001b[39m\n",
       ")"
      ]
     },
     "execution_count": 3,
     "metadata": {},
     "output_type": "execute_result"
    }
   ],
   "source": [
    "\n",
    "// note: make sure to build the Infer Docker container: https://github.com/facebook/infer/tree/main/docker\n",
    "val expDir = File(s\"${System.getProperty(\"user.home\")}/Desktop/\")\n",
    "val rc = RunConfig(apkPath=\"${baseDir}/target.apk\", outFolder=Some(\"${baseDirOut}\"))\n",
    "def wcfg(name:String,apkPath:File) = name match{\n",
    "    case x if x matches \"AntennapodPlayerFragment_.*\" => // _bug or _fix\n",
    "        val tgt:InitialQuery = ReceiverNonNull(className=\"com.example.row1antennapodrxjava.ui.main.PlayerFragment\", methodName=\"void call(java.lang.Object)\",line=69,receiverMatcher=Some(\"act\"))\n",
    "//         val rc = RunConfig(apkPath=\"${baseDir}/target.apk\", outFolder=Some(\"${baseDirOut}\"), specSet=TestSpec(\"AntennaPod\"), initialQuery= List(tgt))\n",
    "        write(rc.copy(specSet=TestSpec(\"AntennaPod\"), initialQuery=List(tgt)))\n",
    "    case c if c matches \"AntennapodExecute_bug\" => ???\n",
    "    case c if c matches \"AntennapodExecute_fix\" =>\n",
    "        val tgt:InitialQuery = DisallowedCallin(\"com.example.row1antennapodrxjava.RemoverActivity$2\", \"void onClick(android.view.View)\", SAsyncTask.disallowDoubleExecute)\n",
    "        write(rc.copy(\n",
    "                specSet=PickleSpec(Set(\n",
    "                    ViewSpec.clickWhileNotDisabled,\n",
    "                    LifecycleSpec.Activity_createdOnlyFirst), Set(SAsyncTask.disallowDoubleExecute)), \n",
    "                initialQuery=List(tgt)))\n",
    "    case _ => throw new IllegalArgumentException(s\"name: ${name} is not valid\")\n",
    "}\n",
    "\n",
    "def setupTempDirForSimplified(name:String):File = {\n",
    "    val workingDir = expDir / (name + \"_workingdir\")\n",
    "//     if(workingDir.exists())\n",
    "//         workingDir.delete()\n",
    "    workingDir.createDirectoryIfNotExists()\n",
    "    workingDir.glob(\"*\").foreach{f => f.delete()}\n",
    "    \n",
    "    val baseSimpAppDir = File((System.getProperty(\"user.dir\").split(\"/\").dropRight(2) ++ Array(\"test_apps\",\"simplified\")).mkString(\"/\"))\n",
    "    val srcDir = baseSimpAppDir / name\n",
    "    val wkSRC = workingDir / \"src\"\n",
    "    srcDir.copyTo(wkSRC)\n",
    "    val apkFile = srcDir.glob(\"**/*.apk\").toList\n",
    "    assert(apkFile.size == 1, \"Please build sample app ${name} and ensure build generates apk file.\")\n",
    "    val wkAPK = workingDir / \"target.apk\"\n",
    "    apkFile.head.copyTo(wkAPK)\n",
    "    val wkCFG = workingDir / \"cfg.json\"\n",
    "    wkCFG.overwrite(wcfg(name, wkAPK))\n",
    "    workingDir\n",
    "}\n",
    "def runDocker(tmp:File, containerName:String, cmd:String) = {\n",
    "    BounderUtil.runCmdFileOut(s\"docker run --rm --mount type=bind,source=${tmp},target=/cwd -e BOUNDER_JAR='/home/bounder/target/scala-2.13/soot_hopper-assembly-0.1.jar' ${containerName} bash -c 'cd /cwd; ${cmd}'\",tmp)\n",
    "}\n",
    "def runBounderOnTmp(tmp:File){\n",
    "    runDocker(tmp, \"bounder\", \"java -jar $BOUNDER_JAR -m verify -c cfg.json -b /cwd/ -u /cwd/\")\n",
    "    Driver.readDB(tmp)\n",
    "    // TODO: interpret output\n",
    "}\n",
    "\n",
    "def runInferOnTmp(tmp:File){\n",
    "    //TODO: call infer from docker\n",
    "    //TODO: interpret infer results\n",
    "    runDocker(tmp, \"bounder\", \"cd src; infer run -- ./gradlew assembleDebug >infer.stdout 2>infer.stderr\")\n",
    "}\n",
    "// TODO: interpret \"proven up to k steps\" for timeout\n",
    "//TODO: generate latex table\n",
    "//TODO: write full versions of other distilled apps\n",
    "\n",
    "val expList = List(\"AntennapodPlayerFragment_bug\", \"AntennapodPlayerFragment_fix\",\"AntennapodExecute_fix\")"
   ]
  },
  {
   "cell_type": "code",
   "execution_count": null,
   "metadata": {},
   "outputs": [],
   "source": [
    "val f = setupTempDirForSimplified(\"AntennapodExecute_fix\")\n",
    "runBounderOnTmp(f)\n",
    "//runInferOnTmp(f)\n"
   ]
  },
  {
   "cell_type": "code",
   "execution_count": 54,
   "metadata": {},
   "outputs": [
    {
     "data": {
      "text/plain": [
       "defined \u001b[32mfunction\u001b[39m \u001b[36mtgt\u001b[39m\n",
       "\u001b[36mres53_1\u001b[39m: \u001b[32mAny\u001b[39m = \u001b[32m\"{\\\"apkPath\\\":\\\"/Users/shawnmeier/Documents/source/bounder/notebooks/distAppExp/dummyapk\\\",\\\"outFolder\\\":[\\\"/home\\\"],\\\"specSet\\\":\\\"testSpec:Antennapod\\\",\\\"initialQuery\\\":[{\\\"methodName\\\":\\\"void call(java.lang.Object)\\\",\\\"line\\\":69,\\\"t\\\":\\\"ReceiverNonNull\\\",\\\"matcher\\\":\\\"act\\\",\\\"className\\\":\\\"com.example.row1antennapodrxjava.ui.main.PlayerFragment\\\"}]}\"\u001b[39m"
      ]
     },
     "execution_count": 54,
     "metadata": {},
     "output_type": "execute_result"
    }
   ],
   "source": []
  },
  {
   "cell_type": "code",
   "execution_count": 61,
   "metadata": {},
   "outputs": [
    {
     "data": {
      "text/plain": [
       "defined \u001b[32mfunction\u001b[39m \u001b[36mmatches\u001b[39m\n",
       "\u001b[36mres60_1\u001b[39m: \u001b[32mBoolean\u001b[39m = true"
      ]
     },
     "execution_count": 61,
     "metadata": {},
     "output_type": "execute_result"
    }
   ],
   "source": [
    "def matches(s:String) = s match {\n",
    "    case x if x matches \"foo|b\" => true\n",
    "    case _ => false\n",
    "}\n",
    "\n",
    "matches(\"foo\")"
   ]
  },
  {
   "cell_type": "code",
   "execution_count": null,
   "metadata": {},
   "outputs": [],
   "source": []
  }
 ],
 "metadata": {
  "kernelspec": {
   "display_name": "Scala",
   "language": "scala",
   "name": "scala"
  },
  "language_info": {
   "codemirror_mode": "text/x-scala",
   "file_extension": ".sc",
   "mimetype": "text/x-scala",
   "name": "scala",
   "nbconvert_exporter": "script",
   "version": "2.13.3"
  }
 },
 "nbformat": 4,
 "nbformat_minor": 4
}
