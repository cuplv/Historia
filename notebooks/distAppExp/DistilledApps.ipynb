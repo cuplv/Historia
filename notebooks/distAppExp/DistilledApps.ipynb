{
 "cells": [
  {
   "cell_type": "code",
   "execution_count": 1,
   "metadata": {},
   "outputs": [
    {
     "data": {
      "text/plain": [
       "\u001b[36mpath\u001b[39m: \u001b[32mString\u001b[39m = \u001b[32m\"/Users/shawnmeier/Documents/source/bounder/soot_hopper/target/scala-2.13/soot_hopper-assembly-0.1.jar\"\u001b[39m\n",
       "\u001b[32mimport \u001b[39m\u001b[36m$ivy.$                                      \n",
       "\u001b[39m\n",
       "\u001b[32mimport \u001b[39m\u001b[36m$ivy.$                             \n",
       "// import $ivy.`edu.colorado.plv.bounder:soot_hopper_2.13:0.1`\n",
       "\n",
       "\u001b[39m\n",
       "\u001b[32mimport \u001b[39m\u001b[36mujson.Value\n",
       "\u001b[39m\n",
       "\u001b[32mimport \u001b[39m\u001b[36msys.process._\n",
       "\n",
       "// interp.load.ivy(\"com.github.pathikrit\" %% \"better-files\" % \"3.9.1\")\n",
       "\u001b[39m\n",
       "\u001b[32mimport \u001b[39m\u001b[36m$ivy.$                                         \n",
       "\u001b[39m\n",
       "\u001b[32mimport \u001b[39m\u001b[36mbetter.files._\n",
       "\n",
       "\u001b[39m"
      ]
     },
     "execution_count": 1,
     "metadata": {},
     "output_type": "execute_result"
    }
   ],
   "source": [
    "val path = \"/Users/shawnmeier/Documents/source/bounder/soot_hopper/target/scala-2.13/soot_hopper-assembly-0.1.jar\"\n",
    "// note: use sbt assembly to create jar\n",
    "interp.load.cp(os.Path(path))\n",
    "import $ivy.`org.plotly-scala::plotly-almond:0.8.1`\n",
    "import $ivy.`com.lihaoyi:ujson_2.13:1.3.8`\n",
    "// import $ivy.`edu.colorado.plv.bounder:soot_hopper_2.13:0.1`\n",
    "\n",
    "import ujson.Value\n",
    "import sys.process._\n",
    "\n",
    "// interp.load.ivy(\"com.github.pathikrit\" %% \"better-files\" % \"3.9.1\")\n",
    "import $ivy.`com.github.pathikrit::better-files:3.9.1`\n",
    "import better.files._\n",
    "\n"
   ]
  },
  {
   "cell_type": "code",
   "execution_count": 52,
   "metadata": {},
   "outputs": [
    {
     "data": {
      "text/plain": [
       "\u001b[32mimport \u001b[39m\u001b[36mscala.util.Random\n",
       "\u001b[39m\n",
       "\u001b[32mimport \u001b[39m\u001b[36medu.colorado.plv.bounder.Driver\n",
       "\u001b[39m\n",
       "\u001b[32mimport \u001b[39m\u001b[36medu.colorado.plv.bounder.RunConfig\n",
       "\u001b[39m\n",
       "\u001b[32mimport \u001b[39m\u001b[36mupickle.default.{macroRW, read, write, ReadWriter => RW}\n",
       "\u001b[39m\n",
       "\u001b[32mimport \u001b[39m\u001b[36mscala.collection.parallel.CollectionConverters.{ImmutableSetIsParallelizable, IterableIsParallelizable}\n",
       "\n",
       "\u001b[39m\n",
       "\u001b[32mimport \u001b[39m\u001b[36mplotly._\n",
       "\u001b[39m\n",
       "\u001b[32mimport \u001b[39m\u001b[36mplotly.element._\n",
       "\u001b[39m\n",
       "\u001b[32mimport \u001b[39m\u001b[36mplotly.layout._\n",
       "\u001b[39m\n",
       "\u001b[32mimport \u001b[39m\u001b[36mplotly.Almond._\n",
       "\u001b[39m\n",
       "\u001b[32mimport \u001b[39m\u001b[36medu.colorado.plv.bounder.BounderUtil\n",
       "\u001b[39m\n",
       "\u001b[32mimport \u001b[39m\u001b[36medu.colorado.plv.bounder.symbolicexecutor.state.ReceiverNonNull\n",
       "\u001b[39m\n",
       "\u001b[32mimport \u001b[39m\u001b[36medu.colorado.plv.bounder.symbolicexecutor.state.InitialQuery\n",
       "\u001b[39m\n",
       "\u001b[32mimport \u001b[39m\u001b[36medu.colorado.plv.bounder.TestSpec\u001b[39m"
      ]
     },
     "execution_count": 52,
     "metadata": {},
     "output_type": "execute_result"
    }
   ],
   "source": [
    "import scala.util.Random\n",
    "import edu.colorado.plv.bounder.Driver\n",
    "import edu.colorado.plv.bounder.RunConfig\n",
    "import upickle.default.{macroRW, read, write, ReadWriter => RW}\n",
    "import scala.collection.parallel.CollectionConverters.{ImmutableSetIsParallelizable, IterableIsParallelizable}\n",
    "\n",
    "import plotly._\n",
    "import plotly.element._\n",
    "import plotly.layout._\n",
    "import plotly.Almond._\n",
    "import edu.colorado.plv.bounder.BounderUtil\n",
    "import edu.colorado.plv.bounder.symbolicexecutor.state.ReceiverNonNull\n",
    "import edu.colorado.plv.bounder.symbolicexecutor.state.InitialQuery\n",
    "import edu.colorado.plv.bounder.TestSpec"
   ]
  },
  {
   "cell_type": "code",
   "execution_count": 67,
   "metadata": {},
   "outputs": [
    {
     "data": {
      "text/plain": [
       "\u001b[36mexpDir\u001b[39m: \u001b[32mFile\u001b[39m = /Users/shawnmeier/Desktop\n",
       "defined \u001b[32mfunction\u001b[39m \u001b[36mtgt\u001b[39m\n",
       "defined \u001b[32mfunction\u001b[39m \u001b[36msetupTempDirForSimplified\u001b[39m\n",
       "defined \u001b[32mfunction\u001b[39m \u001b[36mrunBounderOnTmp\u001b[39m\n",
       "defined \u001b[32mfunction\u001b[39m \u001b[36mrunInferOnTmp\u001b[39m"
      ]
     },
     "execution_count": 67,
     "metadata": {},
     "output_type": "execute_result"
    }
   ],
   "source": [
    "// docker run --rm -it bounder bash // run docker removing on exit\n",
    "// note: make sure to build the Infer Docker container: https://github.com/facebook/infer/tree/main/docker\n",
    "val expDir = File(s\"${System.getProperty(\"user.home\")}/Desktop/\")\n",
    "def tgt(name:String,apkPath:File,outFolder:File) = name match{\n",
    "    case x if x matches \"AntennapodPlayerFragment_.*\" => // _bug or _fix\n",
    "        val tgt:InitialQuery = ReceiverNonNull(className=\"com.example.row1antennapodrxjava.ui.main.PlayerFragment\", methodName=\"void call(java.lang.Object)\",line=69,receiverMatcher=Some(\"act\"))\n",
    "        val rc = RunConfig(apkPath=apkPath.toString, outFolder=Some(outFolder.toString), specSet=TestSpec(\"AntennaPod\"), initialQuery= List(tgt))\n",
    "        write(rc)\n",
    "    case _ => throw new IllegalArgumentException(s\"name: ${name} is not valid\")\n",
    "}\n",
    "\n",
    "def setupTempDirForSimplified(name:String):File = {\n",
    "    val workingDir = expDir / (name + \"_workingdir\")\n",
    "    if(workingDir.exists())\n",
    "        workingDir.delete()\n",
    "    workingDir.createDirectoryIfNotExists()\n",
    "    val baseSimpAppDir = File((System.getProperty(\"user.dir\").split(\"/\").dropRight(2) ++ Array(\"test_apps\",\"simplified\")).mkString(\"/\"))\n",
    "    val srcDir = baseSimpAppDir / name\n",
    "    val wkSRC = workingDir / \"src\"\n",
    "    srcDir.copyTo(wkSRC)\n",
    "    val apkFile = srcDir.glob(\"**/*.apk\").toList\n",
    "    assert(apkFile.size == 1, \"Please build sample app ${name} and ensure build generates apk file.\")\n",
    "    val wkAPK = workingDir / \"target.apk\"\n",
    "    apkFile.head.copyTo(wkAPK)\n",
    "    val wkCFG = workingDir / \"cfg.json\"\n",
    "    wkCFG.overwrite(tgt(name, wkAPK, workingDir))\n",
    "    workingDir\n",
    "}\n",
    "\n",
    "def runBounderOnTmp(tmp:File){\n",
    "    //TODO: call bounder from docker\n",
    "    Driver.readDB(tmp)\n",
    "}\n",
    "\n",
    "def runInferOnTmp(tmp:File){\n",
    "    ???\n",
    "}\n",
    "\n"
   ]
  },
  {
   "cell_type": "code",
   "execution_count": 68,
   "metadata": {},
   "outputs": [
    {
     "data": {
      "text/plain": [
       "\u001b[36mres67\u001b[39m: \u001b[32mFile\u001b[39m = /Users/shawnmeier/Desktop/AntennapodPlayerFragment_fix_workingdir"
      ]
     },
     "execution_count": 68,
     "metadata": {},
     "output_type": "execute_result"
    }
   ],
   "source": [
    "setupTempDirForSimplified(\"AntennapodPlayerFragment_fix\")"
   ]
  },
  {
   "cell_type": "code",
   "execution_count": 64,
   "metadata": {},
   "outputs": [
    {
     "name": "stdout",
     "output_type": "stream",
     "text": [
      "Writing trace 0 / 23, length: 23\n",
      "Writing trace 1 / 23, length: 23\n",
      "Writing trace 2 / 23, length: 23\n",
      "Writing trace 3 / 23, length: 25\n",
      "Writing trace 4 / 23, length: 27\n",
      "Writing trace 5 / 23, length: 33\n",
      "Writing trace 6 / 23, length: 33\n",
      "Writing trace 7 / 23, length: 39\n",
      "Writing trace 8 / 23, length: 39\n",
      "Writing trace 9 / 23, length: 39\n",
      "Writing trace 10 / 23, length: 39\n",
      "Writing trace 11 / 23, length: 41\n",
      "Writing trace 12 / 23, length: 43\n",
      "Writing trace 13 / 23, length: 45\n",
      "Writing trace 14 / 23, length: 45\n",
      "Writing trace 15 / 23, length: 49\n",
      "Writing trace 16 / 23, length: 49\n",
      "Writing trace 17 / 23, length: 49\n",
      "Writing trace 18 / 23, length: 55\n",
      "Writing trace 19 / 23, length: 65\n",
      "Writing trace 20 / 23, length: 71\n",
      "Writing trace 21 / 23, length: 87\n",
      "Writing trace 22 / 23, length: 87\n"
     ]
    }
   ],
   "source": [
    "runBounderOnTmp(File(\"/Users/shawnmeier/Desktop/AntennapodPlayerFragment_fix_workingdir\"))"
   ]
  },
  {
   "cell_type": "code",
   "execution_count": 54,
   "metadata": {},
   "outputs": [
    {
     "data": {
      "text/plain": [
       "defined \u001b[32mfunction\u001b[39m \u001b[36mtgt\u001b[39m\n",
       "\u001b[36mres53_1\u001b[39m: \u001b[32mAny\u001b[39m = \u001b[32m\"{\\\"apkPath\\\":\\\"/Users/shawnmeier/Documents/source/bounder/notebooks/distAppExp/dummyapk\\\",\\\"outFolder\\\":[\\\"/home\\\"],\\\"specSet\\\":\\\"testSpec:Antennapod\\\",\\\"initialQuery\\\":[{\\\"methodName\\\":\\\"void call(java.lang.Object)\\\",\\\"line\\\":69,\\\"t\\\":\\\"ReceiverNonNull\\\",\\\"matcher\\\":\\\"act\\\",\\\"className\\\":\\\"com.example.row1antennapodrxjava.ui.main.PlayerFragment\\\"}]}\"\u001b[39m"
      ]
     },
     "execution_count": 54,
     "metadata": {},
     "output_type": "execute_result"
    }
   ],
   "source": [
    "// dump config files for each\n",
    "// case class RunConfig(apkPath:String = \"\",\n",
    "//                      outFolder:Option[String] = None,\n",
    "//                      componentFilter:Option[Seq[String]] = None,\n",
    "//                      specSet: SpecSetOption = TopSpecSet,\n",
    "//                      initialQuery: List[InitialQuery] = Nil,\n",
    "//                      limit:Int = -1,\n",
    "//                      samples:Int = 5,\n",
    "//                      tag:String = \"\",\n",
    "//                      timeLimit:Int = 600, // max clock time per query\n",
    "//                      truncateOut:Boolean = true\n",
    "//                     ){\n",
    "\n",
    "\n",
    "tgt(\"AntennapodPlayerFragment_bug\",File(\"dummyapk\"), File(\"/home/\"))"
   ]
  },
  {
   "cell_type": "code",
   "execution_count": 61,
   "metadata": {},
   "outputs": [
    {
     "data": {
      "text/plain": [
       "defined \u001b[32mfunction\u001b[39m \u001b[36mmatches\u001b[39m\n",
       "\u001b[36mres60_1\u001b[39m: \u001b[32mBoolean\u001b[39m = true"
      ]
     },
     "execution_count": 61,
     "metadata": {},
     "output_type": "execute_result"
    }
   ],
   "source": [
    "def matches(s:String) = s match {\n",
    "    case x if x matches \"foo|b\" => true\n",
    "    case _ => false\n",
    "}\n",
    "\n",
    "matches(\"foo\")"
   ]
  },
  {
   "cell_type": "code",
   "execution_count": null,
   "metadata": {},
   "outputs": [],
   "source": []
  }
 ],
 "metadata": {
  "kernelspec": {
   "display_name": "Scala",
   "language": "scala",
   "name": "scala"
  },
  "language_info": {
   "codemirror_mode": "text/x-scala",
   "file_extension": ".sc",
   "mimetype": "text/x-scala",
   "name": "scala",
   "nbconvert_exporter": "script",
   "version": "2.13.3"
  }
 },
 "nbformat": 4,
 "nbformat_minor": 4
}
